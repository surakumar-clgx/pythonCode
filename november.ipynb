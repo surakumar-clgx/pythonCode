{
 "cells": [
  {
   "cell_type": "markdown",
   "id": "30e369e6",
   "metadata": {
    "editable": true,
    "slideshow": {
     "slide_type": ""
    },
    "tags": []
   },
   "source": [
    "# November"
   ]
  },
  {
   "cell_type": "code",
   "execution_count": 3,
   "id": "47a9b51a",
   "metadata": {
    "collapsed": true,
    "jupyter": {
     "outputs_hidden": true
    }
   },
   "outputs": [
    {
     "name": "stdout",
     "output_type": "stream",
     "text": [
      "Nov 1,2 extr part 1  report.xlsx\n",
      "1--- (749707, 9)\n",
      "(749707, 9)\n",
      "Nov 1,2 extr part 2  report.xlsx\n",
      "2--- (339163, 9)\n",
      "(1088870, 9)\n",
      "Nov 13 to 19 extr part 1  report.xlsx\n",
      "3--- (729619, 9)\n",
      "(1818489, 9)\n",
      "Nov 13 to 19 extr part 2  report.xlsx\n",
      "4--- (742508, 9)\n",
      "(2560997, 9)\n",
      "Nov 20 to 22 extr part 1  report.xlsx\n",
      "5--- (735256, 9)\n",
      "(3296253, 9)\n",
      "Nov 20 to 22 extr part 2  report.xlsx\n",
      "6--- (730461, 9)\n",
      "(4026714, 9)\n",
      "Nov 23 to 26 extr part 1  report.xlsx\n",
      "7--- (659028, 9)\n",
      "(4685742, 9)\n",
      "Nov 23 to 26 extr part 2  report.xlsx\n",
      "8--- (124914, 9)\n",
      "(4810656, 9)\n",
      "Nov 27 to 28 extr part 1  report.xlsx\n",
      "9--- (707039, 9)\n",
      "(5517695, 9)\n",
      "Nov 27 to 28 extr part 2  report.xlsx\n",
      "10--- (140325, 9)\n",
      "(5658020, 9)\n",
      "Nov 29 extr part 1  report.xlsx\n",
      "11--- (458592, 9)\n",
      "(6116612, 9)\n",
      "Nov 3 to 5 extr part 1  report.xlsx\n",
      "12--- (707034, 9)\n",
      "(6823646, 9)\n",
      "Nov 3 to 5 extr part 2  report.xlsx\n",
      "13--- (106760, 9)\n",
      "(6930406, 9)\n",
      "Nov 30 extr part 1  report.xlsx\n",
      "14--- (359784, 9)\n",
      "(7290190, 9)\n",
      "Nov 6 to 8 extr part 1  report.xlsx\n",
      "15--- (735214, 9)\n",
      "(8025404, 9)\n",
      "Nov 6 to 8 extr part 2  report.xlsx\n",
      "16--- (730491, 9)\n",
      "(8755895, 9)\n",
      "Nov 9 to 12 extr part 1  report.xlsx\n",
      "17--- (675633, 9)\n",
      "(9431528, 9)\n",
      "Nov 9 to 12 extr part 2  report.xlsx\n",
      "18--- (343423, 9)\n",
      "(9774951, 9)\n",
      "(9774951, 9)\n",
      "time--- 2281.2792439000004\n"
     ]
    }
   ],
   "source": [
    "import os\n",
    "import pandas as pd\n",
    "from concurrent.futures import ThreadPoolExecutor\n",
    "\n",
    "from time import perf_counter,sleep\n",
    "start = perf_counter()\n",
    "\n",
    "# This is the input  folder\n",
    "path=r\"C:\\Users\\surakumar\\OneDrive - CoreLogic Solutions, LLC\\Downloads\\nov\\\\\"\n",
    "\n",
    "file_name= [file for file in os.listdir(path) if file.startswith('Nov')]\n",
    "\n",
    "#for i in file_name\n",
    "#    print(\"vis\",\"s.no \",i,\"  \",file_name[i])\n",
    "\n",
    "pd1 = pd.DataFrame()\n",
    "p =1\n",
    "for i in file_name:\n",
    "    print(i)\n",
    "    #vishnu excelfile\n",
    "    #print(\"v - \",i)\n",
    "    xls = pd.ExcelFile( rf\"{path}{i}\")\n",
    "\n",
    "    n = pd.read_excel(xls,  sheet_name = \"field_level_data\")\n",
    "    pd1 = pd.concat([pd1,n], axis=0)\n",
    "    #print(\"v -\",pd1)\n",
    "    print(f\"{p}---\",n.shape)\n",
    "    print(pd1.shape)\n",
    "    p+=1\n",
    "\n",
    "print(pd1.shape)\n",
    "\n",
    "end = perf_counter()\n",
    "        \n",
    "print(\"time---\",end-start)"
   ]
  },
  {
   "cell_type": "code",
   "execution_count": 1,
   "id": "4d409dc7",
   "metadata": {},
   "outputs": [],
   "source": [
    "import pandas as pd"
   ]
  },
  {
   "cell_type": "code",
   "execution_count": 2,
   "id": "9a8ccfef",
   "metadata": {},
   "outputs": [],
   "source": [
    "pd1 = pd.read_csv(\"nov_filed_level_data.csv\")"
   ]
  },
  {
   "cell_type": "code",
   "execution_count": 3,
   "id": "b6be1a17-5e0f-46c1-8cee-e2f68a3b8b8c",
   "metadata": {},
   "outputs": [
    {
     "data": {
      "text/plain": [
       "(9774951, 10)"
      ]
     },
     "execution_count": 3,
     "metadata": {},
     "output_type": "execute_result"
    }
   ],
   "source": [
    "pd1.shape"
   ]
  },
  {
   "cell_type": "code",
   "execution_count": 5,
   "id": "912192c5-16fd-4d45-ad50-555d7bfefa10",
   "metadata": {},
   "outputs": [
    {
     "data": {
      "text/html": [
       "<div>\n",
       "<style scoped>\n",
       "    .dataframe tbody tr th:only-of-type {\n",
       "        vertical-align: middle;\n",
       "    }\n",
       "\n",
       "    .dataframe tbody tr th {\n",
       "        vertical-align: top;\n",
       "    }\n",
       "\n",
       "    .dataframe thead th {\n",
       "        text-align: right;\n",
       "    }\n",
       "</style>\n",
       "<table border=\"1\" class=\"dataframe\">\n",
       "  <thead>\n",
       "    <tr style=\"text-align: right;\">\n",
       "      <th></th>\n",
       "      <th>Unnamed: 0</th>\n",
       "      <th>Batch_ID</th>\n",
       "      <th>County</th>\n",
       "      <th>State_Code</th>\n",
       "      <th>Document_Type</th>\n",
       "      <th>Deed_Category</th>\n",
       "      <th>Field</th>\n",
       "      <th>Extracted_Value</th>\n",
       "      <th>Validated_Value</th>\n",
       "      <th>Compare</th>\n",
       "    </tr>\n",
       "  </thead>\n",
       "  <tbody>\n",
       "    <tr>\n",
       "      <th>500</th>\n",
       "      <td>500</td>\n",
       "      <td>48198711</td>\n",
       "      <td>SUSSEX</td>\n",
       "      <td>DE</td>\n",
       "      <td>DEED</td>\n",
       "      <td>G</td>\n",
       "      <td>Buyer/Borrower/Defendant 1 First Name Or Compa...</td>\n",
       "      <td>TUNNELL &amp;</td>\n",
       "      <td>KENTON D &amp; L FAMILY TRUST</td>\n",
       "      <td>N</td>\n",
       "    </tr>\n",
       "    <tr>\n",
       "      <th>501</th>\n",
       "      <td>501</td>\n",
       "      <td>48198711</td>\n",
       "      <td>SUSSEX</td>\n",
       "      <td>DE</td>\n",
       "      <td>DEED</td>\n",
       "      <td>G</td>\n",
       "      <td>Document Number</td>\n",
       "      <td>3000036665</td>\n",
       "      <td>36665</td>\n",
       "      <td>N</td>\n",
       "    </tr>\n",
       "    <tr>\n",
       "      <th>502</th>\n",
       "      <td>502</td>\n",
       "      <td>48198711</td>\n",
       "      <td>SUSSEX</td>\n",
       "      <td>DE</td>\n",
       "      <td>DEED</td>\n",
       "      <td>G</td>\n",
       "      <td>Buyer/Borrower State</td>\n",
       "      <td>NaN</td>\n",
       "      <td>DE</td>\n",
       "      <td>N</td>\n",
       "    </tr>\n",
       "    <tr>\n",
       "      <th>503</th>\n",
       "      <td>503</td>\n",
       "      <td>48198711</td>\n",
       "      <td>SUSSEX</td>\n",
       "      <td>DE</td>\n",
       "      <td>DEED</td>\n",
       "      <td>G</td>\n",
       "      <td>Recording Date</td>\n",
       "      <td>10192023</td>\n",
       "      <td>10192023</td>\n",
       "      <td>Y</td>\n",
       "    </tr>\n",
       "    <tr>\n",
       "      <th>504</th>\n",
       "      <td>504</td>\n",
       "      <td>48198711</td>\n",
       "      <td>SUSSEX</td>\n",
       "      <td>DE</td>\n",
       "      <td>DEED</td>\n",
       "      <td>G</td>\n",
       "      <td>Multiple Parcel Indicator (Part 1)</td>\n",
       "      <td>NaN</td>\n",
       "      <td>M</td>\n",
       "      <td>N</td>\n",
       "    </tr>\n",
       "    <tr>\n",
       "      <th>...</th>\n",
       "      <td>...</td>\n",
       "      <td>...</td>\n",
       "      <td>...</td>\n",
       "      <td>...</td>\n",
       "      <td>...</td>\n",
       "      <td>...</td>\n",
       "      <td>...</td>\n",
       "      <td>...</td>\n",
       "      <td>...</td>\n",
       "      <td>...</td>\n",
       "    </tr>\n",
       "    <tr>\n",
       "      <th>9995</th>\n",
       "      <td>9995</td>\n",
       "      <td>48250834</td>\n",
       "      <td>SUSSEX</td>\n",
       "      <td>DE</td>\n",
       "      <td>MORTGAGE</td>\n",
       "      <td>T</td>\n",
       "      <td>Lender Zip Code</td>\n",
       "      <td>53045</td>\n",
       "      <td>53045</td>\n",
       "      <td>Y</td>\n",
       "    </tr>\n",
       "    <tr>\n",
       "      <th>9996</th>\n",
       "      <td>9996</td>\n",
       "      <td>48250834</td>\n",
       "      <td>SUSSEX</td>\n",
       "      <td>DE</td>\n",
       "      <td>MORTGAGE</td>\n",
       "      <td>T</td>\n",
       "      <td>Loan Organization ID</td>\n",
       "      <td>1321044</td>\n",
       "      <td>423065</td>\n",
       "      <td>N</td>\n",
       "    </tr>\n",
       "    <tr>\n",
       "      <th>9997</th>\n",
       "      <td>9997</td>\n",
       "      <td>48250834</td>\n",
       "      <td>SUSSEX</td>\n",
       "      <td>DE</td>\n",
       "      <td>MORTGAGE</td>\n",
       "      <td>T</td>\n",
       "      <td>Property Street Address (Part 1)</td>\n",
       "      <td>NaN</td>\n",
       "      <td>20311 PETRONIA</td>\n",
       "      <td>N</td>\n",
       "    </tr>\n",
       "    <tr>\n",
       "      <th>9998</th>\n",
       "      <td>9998</td>\n",
       "      <td>48250834</td>\n",
       "      <td>SUSSEX</td>\n",
       "      <td>DE</td>\n",
       "      <td>MORTGAGE</td>\n",
       "      <td>T</td>\n",
       "      <td>Buyer/Borrower Street Address</td>\n",
       "      <td>5 ROOSEVELT WAY</td>\n",
       "      <td>5 ROOSEVELT WAY</td>\n",
       "      <td>Y</td>\n",
       "    </tr>\n",
       "    <tr>\n",
       "      <th>9999</th>\n",
       "      <td>9999</td>\n",
       "      <td>48250834</td>\n",
       "      <td>SUSSEX</td>\n",
       "      <td>DE</td>\n",
       "      <td>MORTGAGE</td>\n",
       "      <td>T</td>\n",
       "      <td>Recording Date</td>\n",
       "      <td>10232023</td>\n",
       "      <td>10232023</td>\n",
       "      <td>Y</td>\n",
       "    </tr>\n",
       "  </tbody>\n",
       "</table>\n",
       "<p>9500 rows × 10 columns</p>\n",
       "</div>"
      ],
      "text/plain": [
       "      Unnamed: 0  Batch_ID   County State_Code Document_Type Deed_Category  \\\n",
       "500          500  48198711   SUSSEX         DE          DEED             G   \n",
       "501          501  48198711   SUSSEX         DE          DEED             G   \n",
       "502          502  48198711   SUSSEX         DE          DEED             G   \n",
       "503          503  48198711   SUSSEX         DE          DEED             G   \n",
       "504          504  48198711   SUSSEX         DE          DEED             G   \n",
       "...          ...       ...      ...        ...           ...           ...   \n",
       "9995        9995  48250834   SUSSEX         DE      MORTGAGE             T   \n",
       "9996        9996  48250834   SUSSEX         DE      MORTGAGE             T   \n",
       "9997        9997  48250834   SUSSEX         DE      MORTGAGE             T   \n",
       "9998        9998  48250834   SUSSEX         DE      MORTGAGE             T   \n",
       "9999        9999  48250834   SUSSEX         DE      MORTGAGE             T   \n",
       "\n",
       "                                                  Field  Extracted_Value  \\\n",
       "500   Buyer/Borrower/Defendant 1 First Name Or Compa...        TUNNELL &   \n",
       "501                                     Document Number       3000036665   \n",
       "502                                Buyer/Borrower State              NaN   \n",
       "503                                      Recording Date         10192023   \n",
       "504                  Multiple Parcel Indicator (Part 1)              NaN   \n",
       "...                                                 ...              ...   \n",
       "9995                                    Lender Zip Code            53045   \n",
       "9996                               Loan Organization ID          1321044   \n",
       "9997                   Property Street Address (Part 1)              NaN   \n",
       "9998                      Buyer/Borrower Street Address  5 ROOSEVELT WAY   \n",
       "9999                                     Recording Date         10232023   \n",
       "\n",
       "                Validated_Value Compare  \n",
       "500   KENTON D & L FAMILY TRUST       N  \n",
       "501                       36665       N  \n",
       "502                          DE       N  \n",
       "503                    10192023       Y  \n",
       "504                           M       N  \n",
       "...                         ...     ...  \n",
       "9995                      53045       Y  \n",
       "9996                     423065       N  \n",
       "9997             20311 PETRONIA       N  \n",
       "9998            5 ROOSEVELT WAY       Y  \n",
       "9999                   10232023       Y  \n",
       "\n",
       "[9500 rows x 10 columns]"
      ]
     },
     "execution_count": 5,
     "metadata": {},
     "output_type": "execute_result"
    }
   ],
   "source": [
    "pd1[500:10000]"
   ]
  },
  {
   "cell_type": "code",
   "execution_count": 3,
   "id": "9a67b9f4",
   "metadata": {
    "collapsed": true,
    "jupyter": {
     "outputs_hidden": true
    }
   },
   "outputs": [],
   "source": [
    "v = pd1.copy()"
   ]
  },
  {
   "cell_type": "code",
   "execution_count": 4,
   "id": "84416f24",
   "metadata": {
    "collapsed": true,
    "jupyter": {
     "outputs_hidden": true
    }
   },
   "outputs": [
    {
     "data": {
      "text/plain": [
       "(9774951, 10)"
      ]
     },
     "execution_count": 4,
     "metadata": {},
     "output_type": "execute_result"
    }
   ],
   "source": [
    "v.shape"
   ]
  },
  {
   "cell_type": "code",
   "execution_count": 5,
   "id": "749383e6",
   "metadata": {
    "collapsed": true,
    "jupyter": {
     "outputs_hidden": true
    }
   },
   "outputs": [],
   "source": [
    "col_values=\"Buyer/Borrower Zip Code,Recording Page Number,Lender Zip Code,Recording Date,Lender Street Address,Parcel Map/Page,Buyer/Borrower Street Address,Loan Organization ID,Parcel Map/Book,Lender City,Tract/Subdivision Name,Buyer/Borrower City,Buyer/Borrower/Defendant 1 First Name Or Company Name,Property Zip Code,Buyer/Borrower/Defendant 1 Last Name Or Company Code,Document Title,Property Street Address (Part 1),Property Zip Code + 4,Buyer/Borrower/Defendant 3 Last Name,Lender/Lender First Name/Beneficiary/Company Name,Buyer/Borrower/Defendant 2 Last Name,Block,Buyer/Borrower State,Recording Book Number,Lender State,Lot,Document Number,Mortgage Amount,MIN/MERS Number,Loan Originator ID,Property City/Tax City,Loan Originator Name Abbreviation,Loan Number,Attorney Name,Buyer/Borrower 1 Vesting,Buyer/Borrower/Defendant 4 First Name (or Company Name),Buyer/Borrower/Defendant 4 Last Name,Buyer/Borrower/Defendant 2 First Name (or Company Name),Buyer/Borrower 1 Relationship Type,Buyer/Borrower/Defendant 3 First Name (or Company Name),Buyer/Borrower 3 Vesting,Buyer/Borrower 2 Vesting,Buyer/Borrower 2 Relationship Type,Buyer/Borrower 4 Vesting,Loan Organization ID 2,Lender Zip Code + 4,Buyer/Borrower Zip Code + 4,Unit Number (Legal Condominium Unit Number),Section,Range,Township/Municipality Code,Buyer/Borrower 3 Relationship Type,Buyer/Borrower 4 Relationship Type\".split(\",\")"
   ]
  },
  {
   "cell_type": "code",
   "execution_count": 6,
   "id": "917e3eb4",
   "metadata": {
    "collapsed": true,
    "jupyter": {
     "outputs_hidden": true
    }
   },
   "outputs": [],
   "source": [
    "v = v[v[\"Document_Type\"].isin([' MORTGAGE'])].sort_values('Document_Type')"
   ]
  },
  {
   "cell_type": "code",
   "execution_count": 7,
   "id": "75873fe9",
   "metadata": {
    "collapsed": true,
    "jupyter": {
     "outputs_hidden": true
    }
   },
   "outputs": [
    {
     "data": {
      "text/plain": [
       "(1765462, 10)"
      ]
     },
     "execution_count": 7,
     "metadata": {},
     "output_type": "execute_result"
    }
   ],
   "source": [
    "v.shape"
   ]
  },
  {
   "cell_type": "code",
   "execution_count": 8,
   "id": "48eabb1c",
   "metadata": {
    "collapsed": true,
    "jupyter": {
     "outputs_hidden": true
    }
   },
   "outputs": [
    {
     "data": {
      "text/html": [
       "<div>\n",
       "<style scoped>\n",
       "    .dataframe tbody tr th:only-of-type {\n",
       "        vertical-align: middle;\n",
       "    }\n",
       "\n",
       "    .dataframe tbody tr th {\n",
       "        vertical-align: top;\n",
       "    }\n",
       "\n",
       "    .dataframe thead th {\n",
       "        text-align: right;\n",
       "    }\n",
       "</style>\n",
       "<table border=\"1\" class=\"dataframe\">\n",
       "  <thead>\n",
       "    <tr style=\"text-align: right;\">\n",
       "      <th></th>\n",
       "      <th>Unnamed: 0</th>\n",
       "      <th>Batch_ID</th>\n",
       "      <th>County</th>\n",
       "      <th>State_Code</th>\n",
       "      <th>Document_Type</th>\n",
       "      <th>Deed_Category</th>\n",
       "      <th>Field</th>\n",
       "      <th>Extracted_Value</th>\n",
       "      <th>Validated_Value</th>\n",
       "      <th>Compare</th>\n",
       "    </tr>\n",
       "  </thead>\n",
       "  <tbody>\n",
       "    <tr>\n",
       "      <th>437</th>\n",
       "      <td>437</td>\n",
       "      <td>48198677</td>\n",
       "      <td>HENDRY</td>\n",
       "      <td>FL</td>\n",
       "      <td>MORTGAGE</td>\n",
       "      <td>T</td>\n",
       "      <td>Buyer/Borrower/Defendant 2 First Name (or Comp...</td>\n",
       "      <td>ARIANNA A</td>\n",
       "      <td>ARIANNA A</td>\n",
       "      <td>Y</td>\n",
       "    </tr>\n",
       "    <tr>\n",
       "      <th>6457011</th>\n",
       "      <td>340399</td>\n",
       "      <td>48466758</td>\n",
       "      <td>ATLANTIC</td>\n",
       "      <td>NJ</td>\n",
       "      <td>MORTGAGE</td>\n",
       "      <td>T</td>\n",
       "      <td>Parcel</td>\n",
       "      <td>105</td>\n",
       "      <td>NaN</td>\n",
       "      <td>N</td>\n",
       "    </tr>\n",
       "    <tr>\n",
       "      <th>6457010</th>\n",
       "      <td>340398</td>\n",
       "      <td>48466758</td>\n",
       "      <td>ATLANTIC</td>\n",
       "      <td>NJ</td>\n",
       "      <td>MORTGAGE</td>\n",
       "      <td>T</td>\n",
       "      <td>Property Street Address (Part 2)</td>\n",
       "      <td>1103 BLENHEIM AVE</td>\n",
       "      <td>NaN</td>\n",
       "      <td>N</td>\n",
       "    </tr>\n",
       "    <tr>\n",
       "      <th>6457009</th>\n",
       "      <td>340397</td>\n",
       "      <td>48466758</td>\n",
       "      <td>ATLANTIC</td>\n",
       "      <td>NJ</td>\n",
       "      <td>MORTGAGE</td>\n",
       "      <td>T</td>\n",
       "      <td>Mortgage Amount</td>\n",
       "      <td>7126</td>\n",
       "      <td>7126</td>\n",
       "      <td>Y</td>\n",
       "    </tr>\n",
       "    <tr>\n",
       "      <th>6457008</th>\n",
       "      <td>340396</td>\n",
       "      <td>48466758</td>\n",
       "      <td>ATLANTIC</td>\n",
       "      <td>NJ</td>\n",
       "      <td>MORTGAGE</td>\n",
       "      <td>T</td>\n",
       "      <td>Buyer/Borrower Street Address</td>\n",
       "      <td>451 SEVENTH STSW</td>\n",
       "      <td>1103 BLENHEIM AVE</td>\n",
       "      <td>N</td>\n",
       "    </tr>\n",
       "  </tbody>\n",
       "</table>\n",
       "</div>"
      ],
      "text/plain": [
       "         Unnamed: 0  Batch_ID     County State_Code Document_Type  \\\n",
       "437             437  48198677     HENDRY         FL      MORTGAGE   \n",
       "6457011      340399  48466758   ATLANTIC         NJ      MORTGAGE   \n",
       "6457010      340398  48466758   ATLANTIC         NJ      MORTGAGE   \n",
       "6457009      340397  48466758   ATLANTIC         NJ      MORTGAGE   \n",
       "6457008      340396  48466758   ATLANTIC         NJ      MORTGAGE   \n",
       "\n",
       "        Deed_Category                                              Field  \\\n",
       "437                 T  Buyer/Borrower/Defendant 2 First Name (or Comp...   \n",
       "6457011             T                                             Parcel   \n",
       "6457010             T                   Property Street Address (Part 2)   \n",
       "6457009             T                                    Mortgage Amount   \n",
       "6457008             T                      Buyer/Borrower Street Address   \n",
       "\n",
       "           Extracted_Value    Validated_Value Compare  \n",
       "437              ARIANNA A          ARIANNA A       Y  \n",
       "6457011                105                NaN       N  \n",
       "6457010  1103 BLENHEIM AVE                NaN       N  \n",
       "6457009               7126               7126       Y  \n",
       "6457008   451 SEVENTH STSW  1103 BLENHEIM AVE       N  "
      ]
     },
     "execution_count": 8,
     "metadata": {},
     "output_type": "execute_result"
    }
   ],
   "source": [
    "v.head()"
   ]
  },
  {
   "cell_type": "code",
   "execution_count": 9,
   "id": "90af65fa",
   "metadata": {
    "collapsed": true,
    "jupyter": {
     "outputs_hidden": true
    }
   },
   "outputs": [
    {
     "data": {
      "text/plain": [
       "109"
      ]
     },
     "execution_count": 9,
     "metadata": {},
     "output_type": "execute_result"
    }
   ],
   "source": [
    "len(set(v[\"Field\"].tolist()))"
   ]
  },
  {
   "cell_type": "code",
   "execution_count": 10,
   "id": "34e13284",
   "metadata": {
    "collapsed": true,
    "jupyter": {
     "outputs_hidden": true
    }
   },
   "outputs": [],
   "source": [
    "v = v[v[\"Compare\"] == 'Y']"
   ]
  },
  {
   "cell_type": "code",
   "execution_count": 11,
   "id": "31e6216e",
   "metadata": {
    "collapsed": true,
    "jupyter": {
     "outputs_hidden": true
    }
   },
   "outputs": [],
   "source": [
    "v = v[v[\"Deed_Category\"].isin([' T'])]"
   ]
  },
  {
   "cell_type": "code",
   "execution_count": 12,
   "id": "6794e2a5",
   "metadata": {
    "collapsed": true,
    "jupyter": {
     "outputs_hidden": true
    }
   },
   "outputs": [],
   "source": [
    "v = v[v[\"Document_Type\"].isin([' MORTGAGE'])]"
   ]
  },
  {
   "cell_type": "code",
   "execution_count": 13,
   "id": "9c88ec5d",
   "metadata": {
    "collapsed": true,
    "jupyter": {
     "outputs_hidden": true
    }
   },
   "outputs": [
    {
     "data": {
      "text/plain": [
       "(975971, 10)"
      ]
     },
     "execution_count": 13,
     "metadata": {},
     "output_type": "execute_result"
    }
   ],
   "source": [
    "v.shape"
   ]
  },
  {
   "cell_type": "markdown",
   "id": "e67fc9b6",
   "metadata": {},
   "source": [
    "v[v[\"State_Code\"].isin([' TX'])][\"Batch_ID\"].to_csv(r'\\\\filer-argentina-dev\\Argentina\\Shared Folder\\Suraj\\tx_dot.csv')"
   ]
  },
  {
   "cell_type": "code",
   "execution_count": 14,
   "id": "c83a8e79",
   "metadata": {
    "collapsed": true,
    "jupyter": {
     "outputs_hidden": true
    }
   },
   "outputs": [],
   "source": [
    "v[v[\"State_Code\"].isin([' FL'])][[\"Batch_ID\"]].drop_duplicates(keep='first')['Batch_ID'].to_csv(r'\\\\filer-argentina-dev\\Argentina\\Shared Folder\\Suraj\\fl_mor.csv')"
   ]
  },
  {
   "cell_type": "code",
   "execution_count": 15,
   "id": "9d5b07e3",
   "metadata": {
    "collapsed": true,
    "jupyter": {
     "outputs_hidden": true
    }
   },
   "outputs": [],
   "source": [
    "b = v[v[\"State_Code\"].isin([' FL'])][[\"Batch_ID\"]].drop_duplicates(keep='first')['Batch_ID'].to_list()"
   ]
  },
  {
   "cell_type": "code",
   "execution_count": 16,
   "id": "3ec642a9",
   "metadata": {
    "collapsed": true,
    "jupyter": {
     "outputs_hidden": true
    }
   },
   "outputs": [
    {
     "data": {
      "text/plain": [
       "6107"
      ]
     },
     "execution_count": 16,
     "metadata": {},
     "output_type": "execute_result"
    }
   ],
   "source": [
    "len(b)"
   ]
  },
  {
   "cell_type": "code",
   "execution_count": null,
   "id": "3443f1d6",
   "metadata": {
    "collapsed": true,
    "jupyter": {
     "outputs_hidden": true
    }
   },
   "outputs": [],
   "source": []
  },
  {
   "cell_type": "code",
   "execution_count": null,
   "id": "d25c63a3",
   "metadata": {
    "collapsed": true,
    "jupyter": {
     "outputs_hidden": true
    }
   },
   "outputs": [],
   "source": []
  },
  {
   "cell_type": "code",
   "execution_count": null,
   "id": "f6522cd5",
   "metadata": {
    "collapsed": true,
    "jupyter": {
     "outputs_hidden": true
    }
   },
   "outputs": [],
   "source": []
  },
  {
   "cell_type": "code",
   "execution_count": null,
   "id": "533ba537",
   "metadata": {
    "collapsed": true,
    "jupyter": {
     "outputs_hidden": true
    }
   },
   "outputs": [],
   "source": []
  },
  {
   "cell_type": "code",
   "execution_count": null,
   "id": "92a0f5d7",
   "metadata": {
    "collapsed": true,
    "jupyter": {
     "outputs_hidden": true
    }
   },
   "outputs": [],
   "source": []
  },
  {
   "cell_type": "code",
   "execution_count": null,
   "id": "7e8fb641",
   "metadata": {
    "collapsed": true,
    "jupyter": {
     "outputs_hidden": true
    }
   },
   "outputs": [],
   "source": []
  },
  {
   "cell_type": "code",
   "execution_count": null,
   "id": "96bfd7e1",
   "metadata": {
    "collapsed": true,
    "jupyter": {
     "outputs_hidden": true
    }
   },
   "outputs": [],
   "source": []
  },
  {
   "cell_type": "code",
   "execution_count": 4,
   "id": "86b135cb",
   "metadata": {
    "collapsed": true,
    "jupyter": {
     "outputs_hidden": true
    }
   },
   "outputs": [
    {
     "ename": "ValueError",
     "evalue": "The truth value of a Series is ambiguous. Use a.empty, a.bool(), a.item(), a.any() or a.all().",
     "output_type": "error",
     "traceback": [
      "\u001b[1;31m---------------------------------------------------------------------------\u001b[0m",
      "\u001b[1;31mValueError\u001b[0m                                Traceback (most recent call last)",
      "\u001b[1;32m~\\AppData\\Local\\Temp\\ipykernel_18232\\4050969114.py\u001b[0m in \u001b[0;36m?\u001b[1;34m()\u001b[0m\n\u001b[0;32m     13\u001b[0m \u001b[1;33m\u001b[0m\u001b[0m\n\u001b[0;32m     14\u001b[0m \u001b[1;33m\u001b[0m\u001b[0m\n\u001b[0;32m     15\u001b[0m \u001b[0mdf2\u001b[0m\u001b[1;33m=\u001b[0m\u001b[0mv\u001b[0m\u001b[1;33m[\u001b[0m\u001b[1;34m'Batch_ID'\u001b[0m\u001b[1;33m]\u001b[0m\u001b[1;33m\u001b[0m\u001b[1;33m\u001b[0m\u001b[0m\n\u001b[0;32m     16\u001b[0m \u001b[1;31m#no .of fields\u001b[0m\u001b[1;33m\u001b[0m\u001b[1;33m\u001b[0m\u001b[0m\n\u001b[1;32m---> 17\u001b[1;33m \u001b[1;32mif\u001b[0m \u001b[0mdf2\u001b[0m\u001b[1;33m.\u001b[0m\u001b[0mvalue_counts\u001b[0m\u001b[1;33m(\u001b[0m\u001b[1;33m)\u001b[0m\u001b[1;33m==\u001b[0m\u001b[1;36m4\u001b[0m\u001b[1;33m:\u001b[0m\u001b[1;33m\u001b[0m\u001b[1;33m\u001b[0m\u001b[0m\n\u001b[0m\u001b[0;32m     18\u001b[0m     \u001b[0mprint\u001b[0m\u001b[1;33m(\u001b[0m\u001b[0mdf2\u001b[0m\u001b[1;33m)\u001b[0m\u001b[1;33m\u001b[0m\u001b[1;33m\u001b[0m\u001b[0m\n\u001b[0;32m     19\u001b[0m \u001b[1;33m\u001b[0m\u001b[0m\n\u001b[0;32m     20\u001b[0m \u001b[1;33m\u001b[0m\u001b[0m\n",
      "\u001b[1;32m~\\AppData\\Roaming\\Python\\Python311\\site-packages\\pandas\\core\\generic.py\u001b[0m in \u001b[0;36m?\u001b[1;34m(self)\u001b[0m\n\u001b[0;32m   1525\u001b[0m     \u001b[1;33m@\u001b[0m\u001b[0mfinal\u001b[0m\u001b[1;33m\u001b[0m\u001b[1;33m\u001b[0m\u001b[0m\n\u001b[0;32m   1526\u001b[0m     \u001b[1;32mdef\u001b[0m \u001b[0m__nonzero__\u001b[0m\u001b[1;33m(\u001b[0m\u001b[0mself\u001b[0m\u001b[1;33m)\u001b[0m \u001b[1;33m->\u001b[0m \u001b[0mNoReturn\u001b[0m\u001b[1;33m:\u001b[0m\u001b[1;33m\u001b[0m\u001b[1;33m\u001b[0m\u001b[0m\n\u001b[1;32m-> 1527\u001b[1;33m         raise ValueError(\n\u001b[0m\u001b[0;32m   1528\u001b[0m             \u001b[1;34mf\"The truth value of a {type(self).__name__} is ambiguous. \"\u001b[0m\u001b[1;33m\u001b[0m\u001b[1;33m\u001b[0m\u001b[0m\n\u001b[0;32m   1529\u001b[0m             \u001b[1;34m\"Use a.empty, a.bool(), a.item(), a.any() or a.all().\"\u001b[0m\u001b[1;33m\u001b[0m\u001b[1;33m\u001b[0m\u001b[0m\n\u001b[0;32m   1530\u001b[0m         )\n",
      "\u001b[1;31mValueError\u001b[0m: The truth value of a Series is ambiguous. Use a.empty, a.bool(), a.item(), a.any() or a.all()."
     ]
    }
   ],
   "source": [
    "\n",
    "v = pd1.copy()\n",
    "v = v.drop_duplicates(keep=\"first\")\n",
    "#v = v[v[\"Field\"].isin(['Buyer/Borrower/Defendant 1 First Name Or Company Name','Buyer/Borrower/Defendant 1 Last Name Or Company Code','Seller 1 First name','Seller 1 Last name'])]\n",
    "v = v[v[\"Field\"].isin(['Property Street Address (Part 1)','Property Street Address (Part 2)'])]\n",
    "\n",
    "v = v[v[\"Deed_Category\"].isin([' G',' Q'])]\n",
    "v = v[v[\"Compare\"] == 'Y']\n",
    "\n",
    "# v\n",
    "\n",
    "df2=v['Batch_ID']\n",
    "df2.to_csv(r'\\\\filer-argentina-dev\\Argentina\\Shared Folder\\Suraj\\add.csv')\n",
    "\n",
    "\n",
    "# df2=v['Batch_ID']\n",
    "# #no .of fields\n",
    "# if df2.value_counts()==4:\n",
    "#     print(df2)\n",
    "\n",
    "\n",
    "#max.value_counts(dropna=false)\n",
    "#max"
   ]
  },
  {
   "cell_type": "code",
   "execution_count": 15,
   "id": "eaf2fc88",
   "metadata": {
    "collapsed": true,
    "jupyter": {
     "outputs_hidden": true
    }
   },
   "outputs": [],
   "source": [
    "b = v[['Batch_ID']].values.tolist()"
   ]
  },
  {
   "cell_type": "code",
   "execution_count": 22,
   "id": "4090f3d4",
   "metadata": {
    "collapsed": true,
    "jupyter": {
     "outputs_hidden": true
    }
   },
   "outputs": [
    {
     "data": {
      "text/plain": [
       "4307"
      ]
     },
     "execution_count": 22,
     "metadata": {},
     "output_type": "execute_result"
    }
   ],
   "source": [
    "len(b)"
   ]
  },
  {
   "cell_type": "markdown",
   "id": "6ed101c9",
   "metadata": {},
   "source": [
    "print(\",\".join(str(val[0]) for val in b[:999]))"
   ]
  },
  {
   "cell_type": "markdown",
   "id": "0a8ae824",
   "metadata": {},
   "source": [
    "\",\".join(str(val[0]) for val in b[999:1999])"
   ]
  },
  {
   "cell_type": "markdown",
   "id": "e4a846e7",
   "metadata": {},
   "source": [
    "\",\".join(str(val[0]) for val in b[1999:2998])"
   ]
  },
  {
   "cell_type": "markdown",
   "id": "19e96687",
   "metadata": {},
   "source": [
    "print(\",\".join(str(val[0]) for val in b[2999:3998]))"
   ]
  },
  {
   "cell_type": "markdown",
   "id": "13cf847b",
   "metadata": {},
   "source": [
    "print(\",\".join(str(val[0]) for val in b[3998:]))"
   ]
  },
  {
   "cell_type": "code",
   "execution_count": 17,
   "id": "f8bef960",
   "metadata": {
    "collapsed": true,
    "jupyter": {
     "outputs_hidden": true
    }
   },
   "outputs": [],
   "source": [
    "from urllib.request import urlretrieve"
   ]
  },
  {
   "cell_type": "markdown",
   "id": "7516a40d",
   "metadata": {},
   "source": [
    "b = [2473279,2473400,2473403,2473406,2473415,2473435,2473460,2473842,2473868,2473990,2474001,2474466,2474469,2474476]\n",
    "\n",
    "b = [2479863,2479864,2479865,2479866,2479867,2479868,2479869,2479870,2479871,2479872,2479877,2479881,2479887,2479892,2479893,2479894,2479906,2479919,2479926,2479934,2479939,2479940,2479945,2479954,2479958,2479963,2479976,2479977,2479978,2479979,2479980,2479991,2479992,2479993,2479994,2479995,2479996]"
   ]
  },
  {
   "cell_type": "markdown",
   "id": "154825d9",
   "metadata": {},
   "source": [
    "b = [2485644,2485701,2485702,2485703,2485710,2485733,2485734,2486473,2486474,2486475,2486476,2486478,2486479,2486480,2486482,2486483,2486484,2486485,2486486,2486487,2486488,2486490]"
   ]
  },
  {
   "cell_type": "raw",
   "id": "9c8c8c80",
   "metadata": {},
   "source": [
    "for batchid in b:\n",
    "    path = fr\"C:\\Users\\surakumar\\OneDrive - CoreLogic Solutions, LLC\\Downloads\\GTQ_images_ocrs\\Prod\\mortgage\\FL\\{batchid}\"\n",
    "    k = urlretrieve(rf\"https://clvisiontowerb.kfusw1prd.solutions.corelogic.com//download.php?path=ServerFiles/Pagesanddata/{batchid}/&zip={batchid}.zip&cond=Postprocessing&auto=Off\", f\"{path}.zip\")\n",
    "    print(k)"
   ]
  },
  {
   "cell_type": "code",
   "execution_count": 18,
   "id": "a551512e",
   "metadata": {
    "collapsed": true,
    "jupyter": {
     "outputs_hidden": true
    }
   },
   "outputs": [],
   "source": [
    "from concurrent.futures import ThreadPoolExecutor"
   ]
  },
  {
   "cell_type": "code",
   "execution_count": 19,
   "id": "b8f2b2d5",
   "metadata": {
    "collapsed": true,
    "jupyter": {
     "outputs_hidden": true
    }
   },
   "outputs": [],
   "source": [
    "import threading\n",
    "\n",
    "def download_images(batchid):\n",
    "#     for batchid in b:\n",
    "    path = fr\"C:\\Users\\surakumar\\OneDrive - CoreLogic Solutions, LLC\\Downloads\\GTQ_images_ocrs\\Prod\\mortgage\\FL\\{batchid}\"\n",
    "    k = urlretrieve(rf\"https://clvisiontowerb.kfusw1prd.solutions.corelogic.com//download.php?path=ServerFiles/Pagesanddata/{batchid}/&zip={batchid}.zip&cond=Postprocessing&auto=Off\", f\"{path}.zip\")\n",
    "    return k"
   ]
  },
  {
   "cell_type": "code",
   "execution_count": 20,
   "id": "910096cf",
   "metadata": {
    "collapsed": true,
    "jupyter": {
     "outputs_hidden": true
    }
   },
   "outputs": [],
   "source": [
    "def poolingDemo(b):\n",
    "    with ThreadPoolExecutor(max_workers = int(len(b)*.10)) as executor:\n",
    "        res = executor.map(download_images,b)\n",
    "        \n",
    "        for r in res:\n",
    "            print(r)"
   ]
  },
  {
   "cell_type": "code",
   "execution_count": 44,
   "id": "5c2aaa72",
   "metadata": {
    "collapsed": true,
    "jupyter": {
     "outputs_hidden": true
    }
   },
   "outputs": [
    {
     "data": {
      "text/plain": [
       "2407"
      ]
     },
     "execution_count": 44,
     "metadata": {},
     "output_type": "execute_result"
    }
   ],
   "source": [
    "b.index(48729571)"
   ]
  },
  {
   "cell_type": "code",
   "execution_count": 22,
   "id": "f41e3aa0",
   "metadata": {
    "collapsed": true,
    "jupyter": {
     "outputs_hidden": true
    }
   },
   "outputs": [
    {
     "name": "stdout",
     "output_type": "stream",
     "text": [
      "('C:\\\\Users\\\\surakumar\\\\OneDrive - CoreLogic Solutions, LLC\\\\Downloads\\\\GTQ_images_ocrs\\\\Prod\\\\mortgage\\\\FL\\\\48198677.zip', <http.client.HTTPMessage object at 0x000001AA885646D0>)\n"
     ]
    },
    {
     "ename": "IncompleteRead",
     "evalue": "IncompleteRead(0 bytes read)",
     "output_type": "error",
     "traceback": [
      "\u001b[1;31m---------------------------------------------------------------------------\u001b[0m",
      "\u001b[1;31mIncompleteRead\u001b[0m                            Traceback (most recent call last)",
      "File \u001b[1;32mC:\\ProgramData\\anaconda3\\Lib\\http\\client.py:588\u001b[0m, in \u001b[0;36mHTTPResponse._read_chunked\u001b[1;34m(self, amt)\u001b[0m\n\u001b[0;32m    587\u001b[0m \u001b[38;5;28;01mif\u001b[39;00m amt \u001b[38;5;129;01mis\u001b[39;00m \u001b[38;5;129;01mnot\u001b[39;00m \u001b[38;5;28;01mNone\u001b[39;00m \u001b[38;5;129;01mand\u001b[39;00m amt \u001b[38;5;241m<\u001b[39m\u001b[38;5;241m=\u001b[39m chunk_left:\n\u001b[1;32m--> 588\u001b[0m     value\u001b[38;5;241m.\u001b[39mappend(\u001b[38;5;28;43mself\u001b[39;49m\u001b[38;5;241;43m.\u001b[39;49m\u001b[43m_safe_read\u001b[49m\u001b[43m(\u001b[49m\u001b[43mamt\u001b[49m\u001b[43m)\u001b[49m)\n\u001b[0;32m    589\u001b[0m     \u001b[38;5;28mself\u001b[39m\u001b[38;5;241m.\u001b[39mchunk_left \u001b[38;5;241m=\u001b[39m chunk_left \u001b[38;5;241m-\u001b[39m amt\n",
      "File \u001b[1;32mC:\\ProgramData\\anaconda3\\Lib\\http\\client.py:633\u001b[0m, in \u001b[0;36mHTTPResponse._safe_read\u001b[1;34m(self, amt)\u001b[0m\n\u001b[0;32m    632\u001b[0m \u001b[38;5;28;01mif\u001b[39;00m \u001b[38;5;28mlen\u001b[39m(data) \u001b[38;5;241m<\u001b[39m amt:\n\u001b[1;32m--> 633\u001b[0m     \u001b[38;5;28;01mraise\u001b[39;00m IncompleteRead(data, amt\u001b[38;5;241m-\u001b[39m\u001b[38;5;28mlen\u001b[39m(data))\n\u001b[0;32m    634\u001b[0m \u001b[38;5;28;01mreturn\u001b[39;00m data\n",
      "\u001b[1;31mIncompleteRead\u001b[0m: IncompleteRead(6049 bytes read, 2143 more expected)",
      "\nThe above exception was the direct cause of the following exception:\n",
      "\u001b[1;31mIncompleteRead\u001b[0m                            Traceback (most recent call last)",
      "Cell \u001b[1;32mIn[22], line 1\u001b[0m\n\u001b[1;32m----> 1\u001b[0m \u001b[43mpoolingDemo\u001b[49m\u001b[43m(\u001b[49m\u001b[43mb\u001b[49m\u001b[43m)\u001b[49m\n",
      "Cell \u001b[1;32mIn[20], line 5\u001b[0m, in \u001b[0;36mpoolingDemo\u001b[1;34m(b)\u001b[0m\n\u001b[0;32m      2\u001b[0m \u001b[38;5;28;01mwith\u001b[39;00m ThreadPoolExecutor(max_workers \u001b[38;5;241m=\u001b[39m \u001b[38;5;28mint\u001b[39m(\u001b[38;5;28mlen\u001b[39m(b)\u001b[38;5;241m*\u001b[39m\u001b[38;5;241m.10\u001b[39m)) \u001b[38;5;28;01mas\u001b[39;00m executor:\n\u001b[0;32m      3\u001b[0m     res \u001b[38;5;241m=\u001b[39m executor\u001b[38;5;241m.\u001b[39mmap(download_images,b)\n\u001b[1;32m----> 5\u001b[0m \u001b[43m    \u001b[49m\u001b[38;5;28;43;01mfor\u001b[39;49;00m\u001b[43m \u001b[49m\u001b[43mr\u001b[49m\u001b[43m \u001b[49m\u001b[38;5;129;43;01min\u001b[39;49;00m\u001b[43m \u001b[49m\u001b[43mres\u001b[49m\u001b[43m:\u001b[49m\n\u001b[0;32m      6\u001b[0m \u001b[43m        \u001b[49m\u001b[38;5;28;43mprint\u001b[39;49m\u001b[43m(\u001b[49m\u001b[43mr\u001b[49m\u001b[43m)\u001b[49m\n",
      "File \u001b[1;32mC:\\ProgramData\\anaconda3\\Lib\\concurrent\\futures\\_base.py:619\u001b[0m, in \u001b[0;36mExecutor.map.<locals>.result_iterator\u001b[1;34m()\u001b[0m\n\u001b[0;32m    616\u001b[0m \u001b[38;5;28;01mwhile\u001b[39;00m fs:\n\u001b[0;32m    617\u001b[0m     \u001b[38;5;66;03m# Careful not to keep a reference to the popped future\u001b[39;00m\n\u001b[0;32m    618\u001b[0m     \u001b[38;5;28;01mif\u001b[39;00m timeout \u001b[38;5;129;01mis\u001b[39;00m \u001b[38;5;28;01mNone\u001b[39;00m:\n\u001b[1;32m--> 619\u001b[0m         \u001b[38;5;28;01myield\u001b[39;00m \u001b[43m_result_or_cancel\u001b[49m\u001b[43m(\u001b[49m\u001b[43mfs\u001b[49m\u001b[38;5;241;43m.\u001b[39;49m\u001b[43mpop\u001b[49m\u001b[43m(\u001b[49m\u001b[43m)\u001b[49m\u001b[43m)\u001b[49m\n\u001b[0;32m    620\u001b[0m     \u001b[38;5;28;01melse\u001b[39;00m:\n\u001b[0;32m    621\u001b[0m         \u001b[38;5;28;01myield\u001b[39;00m _result_or_cancel(fs\u001b[38;5;241m.\u001b[39mpop(), end_time \u001b[38;5;241m-\u001b[39m time\u001b[38;5;241m.\u001b[39mmonotonic())\n",
      "File \u001b[1;32mC:\\ProgramData\\anaconda3\\Lib\\concurrent\\futures\\_base.py:317\u001b[0m, in \u001b[0;36m_result_or_cancel\u001b[1;34m(***failed resolving arguments***)\u001b[0m\n\u001b[0;32m    315\u001b[0m \u001b[38;5;28;01mtry\u001b[39;00m:\n\u001b[0;32m    316\u001b[0m     \u001b[38;5;28;01mtry\u001b[39;00m:\n\u001b[1;32m--> 317\u001b[0m         \u001b[38;5;28;01mreturn\u001b[39;00m \u001b[43mfut\u001b[49m\u001b[38;5;241;43m.\u001b[39;49m\u001b[43mresult\u001b[49m\u001b[43m(\u001b[49m\u001b[43mtimeout\u001b[49m\u001b[43m)\u001b[49m\n\u001b[0;32m    318\u001b[0m     \u001b[38;5;28;01mfinally\u001b[39;00m:\n\u001b[0;32m    319\u001b[0m         fut\u001b[38;5;241m.\u001b[39mcancel()\n",
      "File \u001b[1;32mC:\\ProgramData\\anaconda3\\Lib\\concurrent\\futures\\_base.py:449\u001b[0m, in \u001b[0;36mFuture.result\u001b[1;34m(self, timeout)\u001b[0m\n\u001b[0;32m    447\u001b[0m     \u001b[38;5;28;01mraise\u001b[39;00m CancelledError()\n\u001b[0;32m    448\u001b[0m \u001b[38;5;28;01melif\u001b[39;00m \u001b[38;5;28mself\u001b[39m\u001b[38;5;241m.\u001b[39m_state \u001b[38;5;241m==\u001b[39m FINISHED:\n\u001b[1;32m--> 449\u001b[0m     \u001b[38;5;28;01mreturn\u001b[39;00m \u001b[38;5;28;43mself\u001b[39;49m\u001b[38;5;241;43m.\u001b[39;49m\u001b[43m__get_result\u001b[49m\u001b[43m(\u001b[49m\u001b[43m)\u001b[49m\n\u001b[0;32m    451\u001b[0m \u001b[38;5;28mself\u001b[39m\u001b[38;5;241m.\u001b[39m_condition\u001b[38;5;241m.\u001b[39mwait(timeout)\n\u001b[0;32m    453\u001b[0m \u001b[38;5;28;01mif\u001b[39;00m \u001b[38;5;28mself\u001b[39m\u001b[38;5;241m.\u001b[39m_state \u001b[38;5;129;01min\u001b[39;00m [CANCELLED, CANCELLED_AND_NOTIFIED]:\n",
      "File \u001b[1;32mC:\\ProgramData\\anaconda3\\Lib\\concurrent\\futures\\_base.py:401\u001b[0m, in \u001b[0;36mFuture.__get_result\u001b[1;34m(self)\u001b[0m\n\u001b[0;32m    399\u001b[0m \u001b[38;5;28;01mif\u001b[39;00m \u001b[38;5;28mself\u001b[39m\u001b[38;5;241m.\u001b[39m_exception:\n\u001b[0;32m    400\u001b[0m     \u001b[38;5;28;01mtry\u001b[39;00m:\n\u001b[1;32m--> 401\u001b[0m         \u001b[38;5;28;01mraise\u001b[39;00m \u001b[38;5;28mself\u001b[39m\u001b[38;5;241m.\u001b[39m_exception\n\u001b[0;32m    402\u001b[0m     \u001b[38;5;28;01mfinally\u001b[39;00m:\n\u001b[0;32m    403\u001b[0m         \u001b[38;5;66;03m# Break a reference cycle with the exception in self._exception\u001b[39;00m\n\u001b[0;32m    404\u001b[0m         \u001b[38;5;28mself\u001b[39m \u001b[38;5;241m=\u001b[39m \u001b[38;5;28;01mNone\u001b[39;00m\n",
      "File \u001b[1;32mC:\\ProgramData\\anaconda3\\Lib\\concurrent\\futures\\thread.py:58\u001b[0m, in \u001b[0;36m_WorkItem.run\u001b[1;34m(self)\u001b[0m\n\u001b[0;32m     55\u001b[0m     \u001b[38;5;28;01mreturn\u001b[39;00m\n\u001b[0;32m     57\u001b[0m \u001b[38;5;28;01mtry\u001b[39;00m:\n\u001b[1;32m---> 58\u001b[0m     result \u001b[38;5;241m=\u001b[39m \u001b[38;5;28;43mself\u001b[39;49m\u001b[38;5;241;43m.\u001b[39;49m\u001b[43mfn\u001b[49m\u001b[43m(\u001b[49m\u001b[38;5;241;43m*\u001b[39;49m\u001b[38;5;28;43mself\u001b[39;49m\u001b[38;5;241;43m.\u001b[39;49m\u001b[43margs\u001b[49m\u001b[43m,\u001b[49m\u001b[43m \u001b[49m\u001b[38;5;241;43m*\u001b[39;49m\u001b[38;5;241;43m*\u001b[39;49m\u001b[38;5;28;43mself\u001b[39;49m\u001b[38;5;241;43m.\u001b[39;49m\u001b[43mkwargs\u001b[49m\u001b[43m)\u001b[49m\n\u001b[0;32m     59\u001b[0m \u001b[38;5;28;01mexcept\u001b[39;00m \u001b[38;5;167;01mBaseException\u001b[39;00m \u001b[38;5;28;01mas\u001b[39;00m exc:\n\u001b[0;32m     60\u001b[0m     \u001b[38;5;28mself\u001b[39m\u001b[38;5;241m.\u001b[39mfuture\u001b[38;5;241m.\u001b[39mset_exception(exc)\n",
      "Cell \u001b[1;32mIn[19], line 6\u001b[0m, in \u001b[0;36mdownload_images\u001b[1;34m(batchid)\u001b[0m\n\u001b[0;32m      3\u001b[0m \u001b[38;5;28;01mdef\u001b[39;00m \u001b[38;5;21mdownload_images\u001b[39m(batchid):\n\u001b[0;32m      4\u001b[0m \u001b[38;5;66;03m#     for batchid in b:\u001b[39;00m\n\u001b[0;32m      5\u001b[0m     path \u001b[38;5;241m=\u001b[39m \u001b[38;5;124mfr\u001b[39m\u001b[38;5;124m\"\u001b[39m\u001b[38;5;124mC:\u001b[39m\u001b[38;5;124m\\\u001b[39m\u001b[38;5;124mUsers\u001b[39m\u001b[38;5;124m\\\u001b[39m\u001b[38;5;124msurakumar\u001b[39m\u001b[38;5;124m\\\u001b[39m\u001b[38;5;124mOneDrive - CoreLogic Solutions, LLC\u001b[39m\u001b[38;5;124m\\\u001b[39m\u001b[38;5;124mDownloads\u001b[39m\u001b[38;5;124m\\\u001b[39m\u001b[38;5;124mGTQ_images_ocrs\u001b[39m\u001b[38;5;124m\\\u001b[39m\u001b[38;5;124mProd\u001b[39m\u001b[38;5;124m\\\u001b[39m\u001b[38;5;124mmortgage\u001b[39m\u001b[38;5;124m\\\u001b[39m\u001b[38;5;124mFL\u001b[39m\u001b[38;5;124m\\\u001b[39m\u001b[38;5;132;01m{\u001b[39;00mbatchid\u001b[38;5;132;01m}\u001b[39;00m\u001b[38;5;124m\"\u001b[39m\n\u001b[1;32m----> 6\u001b[0m     k \u001b[38;5;241m=\u001b[39m \u001b[43murlretrieve\u001b[49m\u001b[43m(\u001b[49m\u001b[38;5;124;43mrf\u001b[39;49m\u001b[38;5;124;43m\"\u001b[39;49m\u001b[38;5;124;43mhttps://clvisiontowerb.kfusw1prd.solutions.corelogic.com//download.php?path=ServerFiles/Pagesanddata/\u001b[39;49m\u001b[38;5;132;43;01m{\u001b[39;49;00m\u001b[43mbatchid\u001b[49m\u001b[38;5;132;43;01m}\u001b[39;49;00m\u001b[38;5;124;43m/&zip=\u001b[39;49m\u001b[38;5;132;43;01m{\u001b[39;49;00m\u001b[43mbatchid\u001b[49m\u001b[38;5;132;43;01m}\u001b[39;49;00m\u001b[38;5;124;43m.zip&cond=Postprocessing&auto=Off\u001b[39;49m\u001b[38;5;124;43m\"\u001b[39;49m\u001b[43m,\u001b[49m\u001b[43m \u001b[49m\u001b[38;5;124;43mf\u001b[39;49m\u001b[38;5;124;43m\"\u001b[39;49m\u001b[38;5;132;43;01m{\u001b[39;49;00m\u001b[43mpath\u001b[49m\u001b[38;5;132;43;01m}\u001b[39;49;00m\u001b[38;5;124;43m.zip\u001b[39;49m\u001b[38;5;124;43m\"\u001b[39;49m\u001b[43m)\u001b[49m\n\u001b[0;32m      7\u001b[0m     \u001b[38;5;28;01mreturn\u001b[39;00m k\n",
      "File \u001b[1;32mC:\\ProgramData\\anaconda3\\Lib\\urllib\\request.py:270\u001b[0m, in \u001b[0;36murlretrieve\u001b[1;34m(url, filename, reporthook, data)\u001b[0m\n\u001b[0;32m    267\u001b[0m     reporthook(blocknum, bs, size)\n\u001b[0;32m    269\u001b[0m \u001b[38;5;28;01mwhile\u001b[39;00m \u001b[38;5;28;01mTrue\u001b[39;00m:\n\u001b[1;32m--> 270\u001b[0m     block \u001b[38;5;241m=\u001b[39m \u001b[43mfp\u001b[49m\u001b[38;5;241;43m.\u001b[39;49m\u001b[43mread\u001b[49m\u001b[43m(\u001b[49m\u001b[43mbs\u001b[49m\u001b[43m)\u001b[49m\n\u001b[0;32m    271\u001b[0m     \u001b[38;5;28;01mif\u001b[39;00m \u001b[38;5;129;01mnot\u001b[39;00m block:\n\u001b[0;32m    272\u001b[0m         \u001b[38;5;28;01mbreak\u001b[39;00m\n",
      "File \u001b[1;32mC:\\ProgramData\\anaconda3\\Lib\\http\\client.py:460\u001b[0m, in \u001b[0;36mHTTPResponse.read\u001b[1;34m(self, amt)\u001b[0m\n\u001b[0;32m    457\u001b[0m     \u001b[38;5;28;01mreturn\u001b[39;00m \u001b[38;5;124mb\u001b[39m\u001b[38;5;124m\"\u001b[39m\u001b[38;5;124m\"\u001b[39m\n\u001b[0;32m    459\u001b[0m \u001b[38;5;28;01mif\u001b[39;00m \u001b[38;5;28mself\u001b[39m\u001b[38;5;241m.\u001b[39mchunked:\n\u001b[1;32m--> 460\u001b[0m     \u001b[38;5;28;01mreturn\u001b[39;00m \u001b[38;5;28;43mself\u001b[39;49m\u001b[38;5;241;43m.\u001b[39;49m\u001b[43m_read_chunked\u001b[49m\u001b[43m(\u001b[49m\u001b[43mamt\u001b[49m\u001b[43m)\u001b[49m\n\u001b[0;32m    462\u001b[0m \u001b[38;5;28;01mif\u001b[39;00m amt \u001b[38;5;129;01mis\u001b[39;00m \u001b[38;5;129;01mnot\u001b[39;00m \u001b[38;5;28;01mNone\u001b[39;00m:\n\u001b[0;32m    463\u001b[0m     \u001b[38;5;28;01mif\u001b[39;00m \u001b[38;5;28mself\u001b[39m\u001b[38;5;241m.\u001b[39mlength \u001b[38;5;129;01mis\u001b[39;00m \u001b[38;5;129;01mnot\u001b[39;00m \u001b[38;5;28;01mNone\u001b[39;00m \u001b[38;5;129;01mand\u001b[39;00m amt \u001b[38;5;241m>\u001b[39m \u001b[38;5;28mself\u001b[39m\u001b[38;5;241m.\u001b[39mlength:\n\u001b[0;32m    464\u001b[0m         \u001b[38;5;66;03m# clip the read to the \"end of response\"\u001b[39;00m\n",
      "File \u001b[1;32mC:\\ProgramData\\anaconda3\\Lib\\http\\client.py:598\u001b[0m, in \u001b[0;36mHTTPResponse._read_chunked\u001b[1;34m(self, amt)\u001b[0m\n\u001b[0;32m    596\u001b[0m     \u001b[38;5;28;01mreturn\u001b[39;00m \u001b[38;5;124mb\u001b[39m\u001b[38;5;124m'\u001b[39m\u001b[38;5;124m'\u001b[39m\u001b[38;5;241m.\u001b[39mjoin(value)\n\u001b[0;32m    597\u001b[0m \u001b[38;5;28;01mexcept\u001b[39;00m IncompleteRead \u001b[38;5;28;01mas\u001b[39;00m exc:\n\u001b[1;32m--> 598\u001b[0m     \u001b[38;5;28;01mraise\u001b[39;00m IncompleteRead(\u001b[38;5;124mb\u001b[39m\u001b[38;5;124m'\u001b[39m\u001b[38;5;124m'\u001b[39m\u001b[38;5;241m.\u001b[39mjoin(value)) \u001b[38;5;28;01mfrom\u001b[39;00m \u001b[38;5;21;01mexc\u001b[39;00m\n",
      "\u001b[1;31mIncompleteRead\u001b[0m: IncompleteRead(0 bytes read)"
     ]
    }
   ],
   "source": [
    "poolingDemo(b)"
   ]
  },
  {
   "cell_type": "code",
   "execution_count": 2,
   "id": "004c720e",
   "metadata": {},
   "outputs": [],
   "source": [
    "import zipfile\n",
    "import json\n",
    "from pathlib import Path"
   ]
  },
  {
   "cell_type": "code",
   "execution_count": 3,
   "id": "c15170cf",
   "metadata": {},
   "outputs": [],
   "source": [
    "from collections import defaultdict"
   ]
  },
  {
   "cell_type": "code",
   "execution_count": 4,
   "id": "525df378",
   "metadata": {},
   "outputs": [],
   "source": [
    "field_18 = defaultdict(list)\n",
    "no_output=0\n",
    "total_output_count = 0"
   ]
  },
  {
   "cell_type": "code",
   "execution_count": 5,
   "id": "1aeaa174",
   "metadata": {},
   "outputs": [
    {
     "name": "stdout",
     "output_type": "stream",
     "text": [
      "C:\\Users\\surakumar\\OneDrive - CoreLogic Solutions, LLC\\Downloads\\GTQ_images_ocrs\\Prod\\mortgage\\FL\\48323376.zip\n",
      "1\n"
     ]
    }
   ],
   "source": [
    "for i,p in enumerate(Path(r\"C:\\Users\\surakumar\\OneDrive - CoreLogic Solutions, LLC\\Downloads\\GTQ_images_ocrs\\Prod\\mortgage\\FL\").iterdir()):\n",
    "    if \"zip\" in str(p): \n",
    "#         print(p)\n",
    "        try:\n",
    "            with zipfile.ZipFile(p, mode=\"r\") as archive:\n",
    "                with archive.open(\"output_data.json\") as file:\n",
    "                    keyed = json.load(file)\n",
    "                    keyed_val = {list(ids.values())[0]:list(ids.values())[1] for ids in keyed[\"data\"]}\n",
    "                    field_18[keyed_val.get('18')].append(p.name)\n",
    "                    total_output_count +=1\n",
    "    #                 print(f'{i+1} | {p.name}  |  {data.get(\"6\")}  |  {data.get(\"92\")}  |  {data.get(\"93\")}')\n",
    "    #                 print(p.name,data.get(\"6\"),data.get(\"92\"),data.get(\"93\"))\n",
    "        except:\n",
    "            no_output+=1\n",
    "            print(p)\n",
    "print(no_output)"
   ]
  },
  {
   "cell_type": "code",
   "execution_count": 6,
   "id": "e9dd9c29",
   "metadata": {},
   "outputs": [],
   "source": [
    "from collections import OrderedDict"
   ]
  },
  {
   "cell_type": "code",
   "execution_count": 7,
   "id": "36121d27",
   "metadata": {},
   "outputs": [],
   "source": [
    "volume_dict = OrderedDict()"
   ]
  },
  {
   "cell_type": "code",
   "execution_count": 8,
   "id": "723a567d",
   "metadata": {},
   "outputs": [],
   "source": [
    "for k,v in field_18.items():\n",
    "    volume_dict[k] = round((len(v)/total_output_count)*100,2)"
   ]
  },
  {
   "cell_type": "code",
   "execution_count": 9,
   "id": "cb4a712d",
   "metadata": {},
   "outputs": [],
   "source": [
    "volume = sorted(list(volume_dict.items()),key=lambda x:x[1],reverse=True)"
   ]
  },
  {
   "cell_type": "code",
   "execution_count": 10,
   "id": "a0fa9a19",
   "metadata": {
    "scrolled": true,
    "tags": []
   },
   "outputs": [
    {
     "data": {
      "text/plain": [
       "[('UNITED WHOLESALE MTG', 6.45),\n",
       " ('ROCKET MTG LLC', 5.57),\n",
       " ('DHI MTG CO LTD', 4.29),\n",
       " ('NAVY FCU', 3.01),\n",
       " ('VYSTAR CU', 1.75),\n",
       " ('LOANDEPOT.COM LLC', 1.56),\n",
       " ('FREEDOM MTG CORP', 1.51),\n",
       " ('FBC MTG LLC', 1.13),\n",
       " ('PENNYMAC LN SVCS LLC', 1.11),\n",
       " ('SPACE COAST CU', 1.08),\n",
       " ('REGIONS BK', 1.02),\n",
       " ('LENNAR MTG LLC', 1.0),\n",
       " ('MOVEMENT MTG LLC', 0.95),\n",
       " ('NEWREZ LLC', 0.84),\n",
       " ('BANK OF ENGLAND', 0.84),\n",
       " ('EQUITY PRIME MTG', 0.75),\n",
       " ('MR COOPER', 0.75),\n",
       " ('VETERANS UNITED HM LOANS', 0.72),\n",
       " ('MORTGAGE FIRM INC', 0.72),\n",
       " ('KIAVI FNDG INC', 0.72),\n",
       " ('CROSSCOUNTRY MTG', 0.72),\n",
       " ('PNC BK NATIONAL ASSN', 0.7),\n",
       " ('PULTE MTG LLC', 0.7),\n",
       " ('FAIRWAY INDEPENDENT MTG CORP', 0.67),\n",
       " ('TD BK NA', 0.67),\n",
       " ('DISCOVER BK', 0.67),\n",
       " (\"SEACOAST NAT'L BK\", 0.62),\n",
       " ('SUPREME LNDG', 0.61),\n",
       " ('VETERANS UNITED HM LNS', 0.61),\n",
       " (\"FIRST FED'L BK\", 0.61),\n",
       " ('NFM LNDG', 0.57),\n",
       " ('UNION HM MTG CORP', 0.57),\n",
       " ('WELLS FARGO BK NA', 0.57),\n",
       " (\"CARDINAL FIN'L CO LP\", 0.56),\n",
       " ('US BK NATIONAL ASSN', 0.56),\n",
       " ('SOUTHSTATE BK NA', 0.56),\n",
       " ('21ST MTG CORP', 0.54),\n",
       " ('CROSSCOUNTRY MTG INC', 0.52),\n",
       " ('KBHS HM LNS LLC', 0.52),\n",
       " ('CMG HM LNS', 0.51),\n",
       " ('SPRING EQ LLC', 0.51),\n",
       " ('COASTAL LNS LLC', 0.51),\n",
       " ('RMC HM MTG LLC', 0.49),\n",
       " ('CAMPUS USA CU', 0.47),\n",
       " ('GUARANTEED RATE INC', 0.47),\n",
       " ('TAYLOR MORRISON HM FNDG INC', 0.44),\n",
       " ('BANK OF AMERICA NA', 0.43),\n",
       " ('CARRINGTON MTG SVCS LLC', 0.43),\n",
       " ('SWBC MTG CORP', 0.43),\n",
       " ('REGIONS MTG', 0.43),\n",
       " ('ACADEMY MTG CORP', 0.43),\n",
       " ('NEW AMERICAN FNDG', 0.41),\n",
       " ('COASTAL CMNTY BK', 0.41),\n",
       " ('FLAGSTAR BK', 0.41),\n",
       " ('AMERISAVE MTG CORP', 0.41),\n",
       " ('TRUIST BK', 0.41),\n",
       " ('THE MTG FIRM INC', 0.39),\n",
       " ('AMERIS BK', 0.39),\n",
       " ('JPMORGAN CHASE BK NA', 0.39),\n",
       " ('AMERICAN NBRHD MTG ACCPTNC CO', 0.36),\n",
       " (\"AMERICAN FIN'L NTWK INC\", 0.34),\n",
       " (\"TRUSTMARK NAT'L BK\", 0.33),\n",
       " ('CITIZENS BK NA', 0.33),\n",
       " ('CENTENNIAL BK', 0.33),\n",
       " (\"NEW DAY FIN'L LLC\", 0.33),\n",
       " ('COMMUNITY FIRST CU/FL', 0.33),\n",
       " ('NVR MTG FIN INC', 0.31),\n",
       " ('LAUNCH CU', 0.31),\n",
       " ('TYNDALL FCU', 0.31),\n",
       " ('FIRST HERITAGE MTG LLC', 0.29),\n",
       " ('HOMEXPRESS MTG CORP', 0.29),\n",
       " ('PRIMELENDING', 0.28),\n",
       " (\"PARAMOUNT RESID'L MTG GRP\", 0.28),\n",
       " ('FAIRWINDS CU', 0.28),\n",
       " ('UNIVERSITY BK', 0.26),\n",
       " ('PLAINS CMRC BK', 0.26),\n",
       " ('MIDFLORIDA CU', 0.25),\n",
       " ('CAPITAL CTY BK', 0.25),\n",
       " ('TRUSTCO BK', 0.25),\n",
       " ('COMMUNITY CU/FL', 0.25),\n",
       " ('MATTAMY HM FNDG', 0.25),\n",
       " ('CAPITAL CITY HM LNS LLC', 0.23),\n",
       " ('UNITED STHRN BK', 0.23),\n",
       " ('INSPIRE HM LNS INC', 0.23),\n",
       " ('AMERICAN PACIFIC MTG CORP', 0.21),\n",
       " ('FLORIDA CU', 0.21),\n",
       " ('PROSPERITY HM MTG LLC', 0.21),\n",
       " ('AMERICAN BANCSHARES MTG', 0.21),\n",
       " ('GUARANTEED RATE AFFINITY LLC', 0.21),\n",
       " ('ACOPIA LLC', 0.21),\n",
       " ('HOMEAMERICAN MTG CORP', 0.21),\n",
       " ('US SMALL BUSN ADMN', 0.2),\n",
       " ('UMORTGAGE', 0.2),\n",
       " ('SUCCESS MTG PTRS INC', 0.2),\n",
       " ('GULF WINDS CU', 0.2),\n",
       " (\"HEARTLAND NAT'L BK\", 0.2),\n",
       " ('LENDSURE MTG CORP', 0.2),\n",
       " ('STOCKTON MTG CORP', 0.2),\n",
       " (\"MORGAN FIN'L\", 0.2),\n",
       " ('COMMUNITY S CU', 0.2),\n",
       " (\"LEADERONE FIN'L CORP\", 0.18),\n",
       " ('PENTAGON FCU', 0.18),\n",
       " ('FTF LNDG LLC', 0.18),\n",
       " ('SUNCOAST CU', 0.16),\n",
       " ('PLAZA HM MTG INC', 0.16),\n",
       " ('CREWS BK & TR', 0.16),\n",
       " ('VANDERBILT MTG & FIN', 0.16),\n",
       " ('ZILLOW HM LNS LLC', 0.16),\n",
       " ('SWIFT HM LNS INC', 0.16),\n",
       " ('GUILD MTG CO', 0.16),\n",
       " ('NOVUS HM MTG', 0.16),\n",
       " ('ACHIEVE LNS', 0.16),\n",
       " ('WATERSTONE MTG CORP', 0.16),\n",
       " ('EMM LNS LLC', 0.16),\n",
       " ('MUTUAL/OMAHA MTG LLC', 0.16),\n",
       " ('GLOBAL EQUITY FIN INC', 0.16),\n",
       " ('TOLL BROTHERS MTG CO', 0.16),\n",
       " ('FIRST BK', 0.15),\n",
       " (\"PRIMARY RESID'L MTG INC\", 0.15),\n",
       " ('LOWER LLC', 0.15),\n",
       " ('UNITED STATES OF AMERICA', 0.15),\n",
       " (\"SOUTHSTATE BK NAT'L ASSN\", 0.15),\n",
       " ('FEDERAL SVGS BK', 0.15),\n",
       " ('ROYAL UNITED MTG LLC', 0.15),\n",
       " (\"GOLD STAR MTG FIN'L GRP\", 0.15),\n",
       " ('ANGEL OAK MTG SOLUTIONS LLC', 0.15),\n",
       " ('GOODLEAP LLC', 0.15),\n",
       " ('WATSON MTG CORP', 0.15),\n",
       " ('HUD-HOUSING/URBAN DEV', 0.15),\n",
       " ('MARINE BK&TR CO', 0.15),\n",
       " (\"CITY NAT'L BK/FL\", 0.15),\n",
       " ('A&D MTG LLC', 0.15),\n",
       " ('SIERRA PACIFIC MTG CO', 0.15),\n",
       " ('JET HM LNS LP', 0.15),\n",
       " ('RADIFI FCU', 0.15),\n",
       " ('PANHANDLE CU', 0.15),\n",
       " (\"AMERICAN FIN'L RSRCS INC\", 0.13),\n",
       " ('BRANNEN BK', 0.13),\n",
       " (\"JPMORGAN CHASE BK NAT'L ASSN\", 0.13),\n",
       " ('GOLDWATER BK NA', 0.13),\n",
       " ('BELL BK', 0.13),\n",
       " ('FIFTH THIRD BK NA', 0.13),\n",
       " ('PROVIDENT FNDG ASSOCS LP', 0.13),\n",
       " (\"HOME PT FIN'L CORP\", 0.13),\n",
       " (\"CLICK N' CLOSE INC\", 0.13),\n",
       " ('WELLS FARGO BK', 0.13),\n",
       " ('FIRST FLORIDA CU', 0.13),\n",
       " ('FIRST COAST MTG FNDG LLC', 0.13),\n",
       " ('KEYSTONE FNDG INC', 0.13),\n",
       " ('FIRST COLONY MTG CORP', 0.13),\n",
       " ('JET HOMELOANS LLC', 0.11),\n",
       " ('FIRST HORIZON BK', 0.11),\n",
       " ('SYNOVUS BK', 0.11),\n",
       " ('EMBRACE HM LOANS INC', 0.11),\n",
       " ('OCMBC INC', 0.11),\n",
       " (\"FIRST NAT'L BK/AMERICA\", 0.11),\n",
       " ('MIMUTUAL MTG', 0.11),\n",
       " (\"HOMEOWNERS FIN'L GRP USA LLC\", 0.11),\n",
       " ('CLEARPATH LNDG', 0.11),\n",
       " ('NATIONS LNDG CORP', 0.11),\n",
       " ('HOMETAP EQUITY PTRS LLC', 0.11),\n",
       " (\"USAA FED'L SVGS BK\", 0.1),\n",
       " (\"CARDINAL FIN'L CO\", 0.1),\n",
       " ('CERTIFIED MTG PLANNERS', 0.1),\n",
       " ('HANCOCK WHITNEY BK', 0.1),\n",
       " (\"GENEVA FIN'L\", 0.1),\n",
       " ('BETHPAGE FCU', 0.1),\n",
       " ('CHURCHILL MTG CORP', 0.1),\n",
       " ('METROPLEX MTG SVCS INC', 0.1),\n",
       " ('BAYWAY MTG GROUP', 0.1),\n",
       " ('CENTRAL MTG FNDG LLC', 0.1),\n",
       " ('COASTLINE FCU', 0.1),\n",
       " ('LAKEVIEW LN SERVICING LLC', 0.1),\n",
       " ('CROSSCNTRY MTG', 0.1),\n",
       " (\"HOMEBRIDGE FIN'L SVCS INC\", 0.1),\n",
       " ('CITY OF PORT ST LUCIE', 0.1),\n",
       " (\"HUNTINGTON NAT'L BK\", 0.08),\n",
       " (\"INNOVATIONS FIN'L CU\", 0.08),\n",
       " ('LAFAYETTE ST BK', 0.08),\n",
       " ('US BK NA', 0.08),\n",
       " ('COMMUNITY BK/MISSISSIPPI', 0.08),\n",
       " ('ORION LNDG', 0.08),\n",
       " ('KIND LNDG', 0.08),\n",
       " ('NEAL COMMUNITIES FNDG LLC', 0.08),\n",
       " ('SERVISFIRST BK', 0.08),\n",
       " (\"HOMESTAR FIN'L CORP\", 0.08),\n",
       " ('LOAN STORE INC', 0.08),\n",
       " ('GO MTG LLC', 0.08),\n",
       " ('TOTAL MTG SVCS LLC', 0.08),\n",
       " ('BAYSHORE MTG FNDG LLC', 0.08),\n",
       " ('REVOLUTION MTG', 0.08),\n",
       " ('CLEAREDGE LNDG', 0.08),\n",
       " (\"MORTGAGE FIN'L GRP INC\", 0.08),\n",
       " (\"GL FIN'L SVCS LLC\", 0.08),\n",
       " ('BMO BK NA', 0.08),\n",
       " ('NATIONWIDE MTG BANKERS INC', 0.08),\n",
       " ('K HOVNANIAN AMERICAN MTG LLC', 0.08),\n",
       " ('FIRST CITIZENS BK&TR CO', 0.08),\n",
       " ('NETWORK CAP FNDG CORP', 0.08),\n",
       " ('MILEND INC', 0.08),\n",
       " ('TRU FI CU', 0.08),\n",
       " ('MISSION LNS LLC', 0.08),\n",
       " ('JP MORGAN CHASE BK NA', 0.08),\n",
       " ('RADIANT CU', 0.08),\n",
       " ('AMWEST FNDG CORP', 0.08),\n",
       " ('MIDFLORIDA CU ISAOA', 0.08),\n",
       " ('VELOCIO MTG LLC', 0.08),\n",
       " ('FIRST INTERNET BK/INDIANA', 0.08),\n",
       " ('SUN WEST MTG CO INC', 0.07),\n",
       " ('BAY EQUITY LLC', 0.07),\n",
       " ('UNITED TR BK', 0.07),\n",
       " ('VAN DYK MTG', 0.07),\n",
       " ('REPUBLIC BK&TR', 0.07),\n",
       " ('MIDSOUTH BK', 0.07),\n",
       " ('ARC HM LNS LLC', 0.07),\n",
       " ('LEGENDARY HM LNS', 0.07),\n",
       " ('DIRECT MTG LN CO', 0.07),\n",
       " ('FIGURE LNDG LLC', 0.07),\n",
       " ('DSLD MTG LLC', 0.07),\n",
       " ('PNC BK', 0.07),\n",
       " (\"SOFI BK NAT'L ASSN\", 0.07),\n",
       " ('NP INC', 0.07),\n",
       " ('FIRST OPTION MTG LLC', 0.07),\n",
       " ('RUOFF MTG', 0.07),\n",
       " (\"BARRETT FIN'L GRP LLC\", 0.07),\n",
       " ('PEN AIR CU', 0.07),\n",
       " ('TRIDENT HM LNS', 0.07),\n",
       " ('CADENCE BK', 0.07),\n",
       " ('VANDERBUILT MTG & FIN INC', 0.07),\n",
       " ('PLANET HM LNDG LLC', 0.07),\n",
       " (\"EVERETT FIN'L INC\", 0.07),\n",
       " ('COMMUNITY FIRST CU', 0.07),\n",
       " ('HOME 1ST LNDG LLC', 0.07),\n",
       " ('TJC MTG INC', 0.07),\n",
       " ('BROWFUND LLC', 0.07),\n",
       " ('CTC MTG', 0.07),\n",
       " ('NORTHPOINTE BK', 0.07),\n",
       " ('FIRST EQUITY MTG INC', 0.07),\n",
       " ('AMERICAN MOMENTUM BK', 0.07),\n",
       " ('UNITED MUTUAL FNDG CORP', 0.07),\n",
       " ('LAKE MI CU', 0.07),\n",
       " ('NEXBANK', 0.07),\n",
       " ('EXCELERATE CAP', 0.07),\n",
       " (\"BAYFIRST NAT'L BK\", 0.07),\n",
       " ('VERITAS FNDG LLC', 0.07),\n",
       " ('CITY OF JACKSONVILLE', 0.07),\n",
       " ('DIRECT MTG LN', 0.07),\n",
       " ('INNOVATIVE MTG SVCS', 0.07),\n",
       " ('AMERICAN PRIME LLC', 0.07),\n",
       " ('FIRST STHRN BK', 0.05),\n",
       " ('DIGITAL FCU', 0.05),\n",
       " (\"THOMASVILLE NAT'L BK\", 0.05),\n",
       " ('UNITED FIDELITY FNDG', 0.05),\n",
       " ('CORNERSTONE FIRST MTG INC', 0.05),\n",
       " ('MEGA CAP FNDG INC', 0.05),\n",
       " ('LIBERTY FCU', 0.05),\n",
       " ('MY MTG', 0.05),\n",
       " ('RELIANCE FIRST CAP LLC', 0.05),\n",
       " ('CAPITAL PTRS MTG SVCS LLC', 0.05),\n",
       " ('ENVOY MTG LTD', 0.05),\n",
       " ('COMMUNITY BK', 0.05),\n",
       " ('FIDELITY BK', 0.05),\n",
       " ('WINTRUST MTG', 0.05),\n",
       " ('LEGEND LNDG', 0.05),\n",
       " ('CITIZENS FIRST BK', 0.05),\n",
       " ('ALL CREDIT CONSIDERED MTG INC', 0.05),\n",
       " ('DRAPER & KRAMER MTG CORP', 0.05),\n",
       " ('RFLF 7 LLC', 0.05),\n",
       " ('R P FNDG INC', 0.05),\n",
       " (\"ON Q FIN'L INC\", 0.05),\n",
       " ('COMMUNITY CU', 0.05),\n",
       " ('US SMALL BUSN ADMINISTRATION', 0.05),\n",
       " ('MORGAN STANLEY PVT BK NA', 0.05),\n",
       " ('REAL EST MTG NETWORK', 0.05),\n",
       " ('MAINSTREET CMNTY BK/FL', 0.05),\n",
       " ('PRIME MERIDIAN BK', 0.05),\n",
       " ('NORTHWEST FCU', 0.05),\n",
       " ('PHH MTG CORP', 0.05),\n",
       " ('INNOVATIONS FCU', 0.05),\n",
       " ('ELEVEN MTG', 0.05),\n",
       " ('LAKEVIEW CMNTY CAP LLC', 0.05),\n",
       " ('ARDENT FCU', 0.05),\n",
       " ('BENCHMARK MTG', 0.05),\n",
       " ('AMERICAN HERITAGE LNDG', 0.05),\n",
       " ('BETTER LNDG LLC', 0.05),\n",
       " (\"TC FED'L BK\", 0.05),\n",
       " ('COLUMBUS CAP LNDG LLC', 0.05),\n",
       " (\"GOLD FIN'L SVCS\", 0.05),\n",
       " ('TOMO MTG LLC', 0.05),\n",
       " (\"RADIUS FIN'L GRP\", 0.05),\n",
       " ('LOANDEPOT COM LLC', 0.05),\n",
       " ('BETTER MTG CORP ISAOA', 0.05),\n",
       " ('LOAN PRONTO INC', 0.05),\n",
       " ('NETWORK FNDG LP', 0.05),\n",
       " ('RAYMOND JAMES BK', 0.05),\n",
       " ('MID-CONTINENT FNDG INC', 0.05),\n",
       " ('VONTIVE INC', 0.05),\n",
       " (\"GTE FIN'L\", 0.05),\n",
       " ('FLORIDA CAP BK NA', 0.05),\n",
       " (\"AMERICAN FIN'L NETWORK\", 0.05),\n",
       " ('ABSOLUTE HM MTG CORP', 0.05),\n",
       " ('BANK OF TAMPA', 0.05),\n",
       " ('BANK OZK', 0.05),\n",
       " ('VILLAGE CAP & INVS LLC', 0.05),\n",
       " ('CAPITAL CITY BK ISAOA', 0.05),\n",
       " ('DEEPHAVEN MTG LLC', 0.05),\n",
       " ('INVESTOR MTG FIN LLC', 0.05),\n",
       " ('U S BK NATL ASSN', 0.05),\n",
       " ('BAY CAP MTG CORP', 0.05),\n",
       " ('HARVESTERS CU', 0.05),\n",
       " (\"VALLEY NAT'L BK\", 0.05),\n",
       " ('STG MTG INC', 0.05),\n",
       " ('NATIONS RELIABLE LNDG LLC', 0.05),\n",
       " ('COGENT BK', 0.05),\n",
       " (\"CITY NAT'L BK\", 0.05),\n",
       " ('ACRA LNDG', 0.05),\n",
       " ('CAPITAL CTY HM LNS', 0.05),\n",
       " ('LUMINATE HM LNS INC', 0.05),\n",
       " ('EMORTGAGE FNDG LLC', 0.05),\n",
       " ('BPL MTG TR LLC', 0.03),\n",
       " ('DEAS-BULLARD PROPS LLP', 0.03),\n",
       " ('MUFG BK LTD', 0.03),\n",
       " ('US MTG CORP SE', 0.03),\n",
       " ('BAY CNTY BOARD/COMMISSION', 0.03),\n",
       " ('AMCAP MTG LTD', 0.03),\n",
       " (\"HIGHLANDS RESID'L MTG LTD\", 0.03),\n",
       " (\"GROW FIN'L FCU\", 0.03),\n",
       " (\"NEWTEK BK NAT'L ASSN\", 0.03),\n",
       " ('TIDEWATER MTG SVCS', 0.03),\n",
       " ('EZEQUIEL A', 0.03),\n",
       " ('ALLSTATE SVCNG INC', 0.03),\n",
       " ('UNITED STATES DEPT/AGRICULTURE', 0.03),\n",
       " ('CAPITAL FNDG LLC', 0.03),\n",
       " ('CAPITAL FNDG', 0.03),\n",
       " ('NORTHROP GRUMMAN FCU', 0.03),\n",
       " ('LADERA LNDG LLC', 0.03),\n",
       " ('FARM CREDIT/CTRL FL ACA', 0.03),\n",
       " ('REACH HM LNS LLC', 0.03),\n",
       " (\"TROPICAL FIN'L CU\", 0.03),\n",
       " ('CARDINAL FINL CO LP', 0.03),\n",
       " ('EMPORIUM TPO LLC', 0.03),\n",
       " ('RCN CAP LLC', 0.03),\n",
       " ('MORTGAGE AMERICA', 0.03),\n",
       " ('HOMEFINITY', 0.03),\n",
       " ('GERSHMAN MTG', 0.03),\n",
       " ('MORTGAGE PROS LLC', 0.03),\n",
       " ('K & L BAXTER FLP', 0.03),\n",
       " ('FIRST TECHNOLOGY FCU', 0.03),\n",
       " (\"ADDITION FIN'L CU\", 0.03),\n",
       " ('INDEPENDENT BK', 0.03),\n",
       " ('CITY FIRST MTG SVCS LLC', 0.03),\n",
       " ('VILLAGE CAP & INV LLC', 0.03),\n",
       " ('DHI MTG CO LTD LP', 0.03),\n",
       " ('MEMBERS FIRST CU/FL', 0.03),\n",
       " (\"PNC BK NAT'L ASSN\", 0.03),\n",
       " ('USF FCU', 0.03),\n",
       " ('CHANGE LNDG LLC', 0.03),\n",
       " ('FIRST CMNTY MTG INC', 0.03),\n",
       " ('DHI MTG CO', 0.03),\n",
       " ('ADVANTAGEFIRST LNDG INC', 0.03),\n",
       " ('NEIGHBORS BK', 0.03),\n",
       " ('VISIONARY LENDERS', 0.03),\n",
       " ('CALIBER HM LOANS INC', 0.03),\n",
       " ('COUNTRY DREAMS LLC', 0.03),\n",
       " ('CYPRESS BK&TR', 0.03),\n",
       " ('EAST COAST MTG LNDRS INC', 0.03),\n",
       " ('TY MTG LLC', 0.03),\n",
       " ('PARK SQUARE HM MTG LLC', 0.03),\n",
       " ('LOANFRONT LLC', 0.03),\n",
       " ('FLAT BR MTG INC', 0.03),\n",
       " ('PADDIO', 0.03),\n",
       " ('MORTGAGEPROS LLC', 0.03),\n",
       " ('WAYNE', 0.03),\n",
       " ('BUILDER FIN INC', 0.03),\n",
       " ('FLORIDA A&M UNIV FCU', 0.03),\n",
       " ('LOANGUYS.COM', 0.03),\n",
       " ('CASTLE & COOKE MTG LLC', 0.03),\n",
       " ('LOGAN FIN CORP', 0.03),\n",
       " ('ALLY BK CORP', 0.03),\n",
       " ('BUENA VISTA LNDG GRP LLC', 0.03),\n",
       " ('FEMBI MTG', 0.03),\n",
       " ('CEFCU', 0.03),\n",
       " ('FUNDLOANS CAP', 0.03),\n",
       " ('MICHAEL', 0.03),\n",
       " ('JMAC LENDING', 0.03),\n",
       " ('EQUITY TR CO CUSTODIAN', 0.03),\n",
       " ('CHAMPIONS FNDG LLC', 0.03),\n",
       " ('ONETRUST HM LNS', 0.03),\n",
       " ('DAS ACQUISITION CO LLC', 0.03),\n",
       " ('BANKPLUS', 0.03),\n",
       " ('SKYBEAM CAP REIT LLC', 0.03),\n",
       " ('MAYO EMPS FCU', 0.03),\n",
       " ('VISTA PT MTG LLC', 0.03),\n",
       " ('CENTRAL BK', 0.03),\n",
       " ('212 LOANS LLC', 0.03),\n",
       " ('1ST SIGNATURE LNDG LLC', 0.03),\n",
       " ('MORTGAGE ELECTRONIC REGISTRATI', 0.03),\n",
       " ('NJ LENDERS CORP', 0.03),\n",
       " ('SIMPLE HM LNDG LLC', 0.03),\n",
       " ('HOME SOLUTION LENDERS INC', 0.03),\n",
       " ('STANDARD INS CO', 0.03),\n",
       " ('CB CAP LLC', 0.03),\n",
       " ('FIFTH THIRD BK', 0.03),\n",
       " ('NEWPORT HOLDINGS LLC', 0.03),\n",
       " ('EMERALD COAST FCU', 0.03),\n",
       " ('SOUTHWEST FNDG LP', 0.03),\n",
       " ('MORTGAGE PROS/MICHIGAN LLC', 0.03),\n",
       " ('CMG MTG INC', 0.03),\n",
       " ('TRAILBLAZER MTG', 0.03),\n",
       " ('TAYLOR MORRISON HM FUNDING LLC', 0.03),\n",
       " ('HOMETOWN EQUITY MTG', 0.03),\n",
       " ('FIDUSFI LLC', 0.03),\n",
       " ('PEOPLESSOUTH BK', 0.03),\n",
       " ('ALL IN CU', 0.03),\n",
       " ('UNION BK&TR', 0.03),\n",
       " ('CITY OF PALM BAY', 0.03),\n",
       " (\"GENEVA FIN'L INC\", 0.03),\n",
       " ('RENASANT BK', 0.03),\n",
       " ('MORTGAGEONE INC', 0.03),\n",
       " ('NATIONAL LN FNDG LLC', 0.03),\n",
       " ('GOLD STAR MTG FINL GRP', 0.03),\n",
       " ('PARTNERS FCU', 0.03),\n",
       " ('HOME LN INV BK FSB', 0.03),\n",
       " ('AMERICAN FINANCING CORP', 0.03),\n",
       " ('FARM CREDIT/FLORIDA ACA', 0.03),\n",
       " ('COMMUNITY BK/SOUTH', 0.03),\n",
       " (\"121 FIN'L CU\", 0.03),\n",
       " ('HORIZON BK', 0.03),\n",
       " ('PFN LNDG GROUP INC', 0.03),\n",
       " ('ALLIED MTG GRP INC', 0.03),\n",
       " ('TOWNE MTG', 0.03),\n",
       " ('KING LNDG', 0.03),\n",
       " ('COMMUNITY FCU', 0.03),\n",
       " ('BELLEFRAU GROUP LLC', 0.03),\n",
       " ('M&T BK', 0.03),\n",
       " ('FUNDING DOOR LLC', 0.03),\n",
       " ('EXCHANGE BK/AL', 0.03),\n",
       " ('CHARLES H', 0.03),\n",
       " ('NORTH FL LAND GRP INC', 0.03),\n",
       " ('NBKC BK', 0.03),\n",
       " ('GENHOME MTG CORP', 0.03),\n",
       " ('DREAMLINE MTG INC', 0.03),\n",
       " ('KINECTA FCU', 0.03),\n",
       " ('ALLIANT CU', 0.03),\n",
       " ('NASA FCU', 0.03),\n",
       " ('GOLD COAST FCU', 0.03),\n",
       " ('KEVIN', 0.03),\n",
       " ('LMREC V HLDGS I INC', 0.03),\n",
       " ('TAYLOR MORRISON HOME FUNDING', 0.03),\n",
       " ('FLEXPOINT HM LNS INC', 0.03),\n",
       " ('ALL IN FCU', 0.03),\n",
       " ('E LOANS MTG INC', 0.03),\n",
       " ('HOMELIGHT HM LNS INC', 0.03),\n",
       " ('PRIMERA HM LNS', 0.03),\n",
       " ('LOANUNITEDCOM LLC', 0.03),\n",
       " ('SILVER HILL FNDG LLC', 0.02),\n",
       " ('CALABRIAN HLDGS LLC', 0.02),\n",
       " ('BRANTLEY W & B LVNG TRUST (RT)', 0.02),\n",
       " (\"AMERICAS MTG PROF'L LLC\", 0.02),\n",
       " ('BULLARD-DENUNE INV CO', 0.02),\n",
       " ('DONALD A & SARA L', 0.02),\n",
       " ('GREYSTONE LAND CO', 0.02),\n",
       " ('M & J SAMPSON LLC', 0.02),\n",
       " ('LIBERTY SVGS BK FSB', 0.02),\n",
       " ('HOLMES CNTY DEV COMN', 0.02),\n",
       " ('FRIEND BK', 0.02),\n",
       " ('SOUTHERN DEV COUNCIL INC', 0.02),\n",
       " ('CITY OF PANAMA', 0.02),\n",
       " ('FIRSTBANK', 0.02),\n",
       " ('BANK OF CO', 0.02),\n",
       " ('COATNEY PATRICIA P TRUST (RT)', 0.02),\n",
       " ('BAKER INVS LLC', 0.02),\n",
       " ('BAY CNTY', 0.02),\n",
       " ('MINI MITCH INC', 0.02),\n",
       " ('FAMILY SVGS CU', 0.02),\n",
       " ('CHRIS E', 0.02),\n",
       " ('MICHAEL C & LAURA E', 0.02),\n",
       " ('CPF MTG', 0.02),\n",
       " ('FLORIDA HSNG FIN CORP', 0.02),\n",
       " ('OSIER JOINT TRUST (PT)', 0.02),\n",
       " ('WEST COAST FLORIDA PROPS LLC', 0.02),\n",
       " ('REAL EST MTG CORP', 0.02),\n",
       " ('SCHOFIELD GLENN TRUST', 0.02),\n",
       " ('S & M PROP MGMT INC', 0.02),\n",
       " ('CRIS A', 0.02),\n",
       " ('OJEDA GROUP LTD', 0.02),\n",
       " ('BRANDY L', 0.02),\n",
       " ('TIMOTHY E', 0.02),\n",
       " ('TERASSA', 0.02),\n",
       " ('HOME LN CAP', 0.02),\n",
       " ('AMERICAN HERITAGE LNDG CORP', 0.02),\n",
       " ('FILO MTG LLC', 0.02),\n",
       " ('NEWFI LNDG', 0.02),\n",
       " ('ORLANDO CU', 0.02),\n",
       " ('KEYBANK NA', 0.02),\n",
       " ('WILLIAM & MARY J', 0.02),\n",
       " ('FOUNDATION MTG CORP', 0.02),\n",
       " (\"UNIFY FIN'L FCU\", 0.02),\n",
       " ('ALABAMA ONE CU', 0.02),\n",
       " ('KEESLER FCU', 0.02),\n",
       " ('LEND-A-LOAN LLC', 0.02),\n",
       " ('BOWEN FREDERICK A TRUST (RT)', 0.02),\n",
       " ('EDUCATIONAL FCU', 0.02),\n",
       " ('ROCKLAND TR CO', 0.02),\n",
       " ('CINDY', 0.02),\n",
       " ('ACHIEVA CU', 0.02),\n",
       " ('OPTIMUMBANK', 0.02),\n",
       " ('HARVEY', 0.02),\n",
       " ('TENNESSEE BK', 0.02),\n",
       " ('CAVALAND LLC', 0.02),\n",
       " ('LOVE MAKING HMS INC', 0.02),\n",
       " ('PENTUCKET INVS LLC', 0.02),\n",
       " ('PHILLIP & ELLEN', 0.02),\n",
       " ('21ST CENTURY MTG CORP', 0.02),\n",
       " ('SILVER ANVIL LLC', 0.02),\n",
       " ('MILENA', 0.02),\n",
       " ('GREENSTATE CU', 0.02),\n",
       " ('DONNA R', 0.02),\n",
       " ('ANDREW T', 0.02),\n",
       " ('NORCOM MTG', 0.02),\n",
       " ('LANCE', 0.02),\n",
       " ('SAD TOO REALTY LLC', 0.02),\n",
       " ('UNITED AMERICAN MTG CORP', 0.02),\n",
       " (\"HOMECOMINGS FIN'L NETWORK INC\", 0.02),\n",
       " ('DAWN K', 0.02),\n",
       " ('MORTGAGE TR INC', 0.02),\n",
       " ('ROGER & TANJA', 0.02),\n",
       " ('RESIDENTIAL ACCPTNC CORP', 0.02),\n",
       " ('CONTOUR MTG CORP', 0.02),\n",
       " ('AVADIAN CU', 0.02),\n",
       " ('PRINCETON MTG CORP', 0.02),\n",
       " ('LEGACY MTG', 0.02),\n",
       " ('MORTGAGE SOLUTIONS/CO', 0.02),\n",
       " ('LYNN B', 0.02),\n",
       " ('VAL-CHRIS INVS INC', 0.02),\n",
       " ('BANKUNITED NA', 0.02),\n",
       " ('RED RHINO LLC', 0.02),\n",
       " ('DEMIREL', 0.02),\n",
       " ('ESCAMBIA CNTY HSNG FIN AUTHORI', 0.02),\n",
       " ('IBERIABANK MTG', 0.02),\n",
       " (\"ABL RPC RESID'L CREDIT ACQUIS\", 0.02),\n",
       " ('MOVEMENT MTG', 0.02),\n",
       " ('PRESTON & JOANN', 0.02),\n",
       " ('GENESEE REGL BK', 0.02),\n",
       " (\"RESOURCE FIN'L SVC INC\", 0.02),\n",
       " ('BRIAN', 0.02),\n",
       " ('SHAFFIENA G', 0.02),\n",
       " ('MORTGAGE SOLUTIONS/COLORADO', 0.02),\n",
       " ('WEST LEND FNDG', 0.02),\n",
       " ('BLIPEASY R/E MGMT LLC', 0.02),\n",
       " ('SUMMIT MTG', 0.02),\n",
       " ('ATLANTIC BAY MTG GRP LLC', 0.02),\n",
       " ('JEAN GROUP LLC', 0.02),\n",
       " ('BRENDA L TUCKER REV T', 0.02),\n",
       " (\"FIRST FIN'L BK\", 0.02),\n",
       " ('VERO BCH RANCHES LLC', 0.02),\n",
       " ('SHELBY CNTY ST BK', 0.02),\n",
       " ('HOMESTEAD FNDG CORP', 0.02),\n",
       " ('BOARD/CNTY COMMISSIONERS/HIGHL', 0.02),\n",
       " ('M & T BK', 0.02),\n",
       " ('HOMEFI CORP', 0.02),\n",
       " ('UNITED ALLIANCE MTG LLC', 0.02),\n",
       " ('DL LEASING LLC', 0.02),\n",
       " (\"ITHINK FIN'L CU\", 0.02),\n",
       " ('EDWARD REINER REV LIV', 0.02),\n",
       " ('COAST ONE MTG LLC', 0.02),\n",
       " ('NORA', 0.02),\n",
       " ('BB AMERICAS BK', 0.02),\n",
       " ('COMMUNITY ST BK', 0.02),\n",
       " ('BOARD/CNTY COMMISSIONERS/HIGH', 0.02),\n",
       " ('NEXT STEP LAND CORP', 0.02),\n",
       " ('TERRELL FAMILY TRUST (RT)', 0.02),\n",
       " ('FEDERAL FIRST LNDG LLC', 0.02),\n",
       " ('ANTHONY', 0.02),\n",
       " ('GEORGE MASON MTG LLC', 0.02),\n",
       " ('TIDEWATER MTG SVCS INC/VA', 0.02),\n",
       " ('YOUNG M G & M TRUST', 0.02),\n",
       " (\"JFK FIN'L INC\", 0.02),\n",
       " ('USA UNITED PETROLEUM LLC', 0.02),\n",
       " ('AMERANT BK NA', 0.02),\n",
       " ('KERSTIN M', 0.02),\n",
       " ('DAN J', 0.02),\n",
       " ('FORT PIERCE DRIVING RANGE PR', 0.02),\n",
       " ('PRIMESOUTH BK', 0.02),\n",
       " ('KATHERINE M', 0.02),\n",
       " ('CITIBANK NA', 0.02),\n",
       " ('ELS HLDGS LLC', 0.02),\n",
       " ('WESTSTAR LN CO', 0.02),\n",
       " ('MORTGAGE ELECTRONIC REGISTRA', 0.02),\n",
       " ('TODD & MAE', 0.02),\n",
       " ('MAGNOLIA BK', 0.02),\n",
       " ('MORTGAGE RSRC CTRS', 0.02),\n",
       " ('EQUITY MTG CORP', 0.02),\n",
       " (\"TOP FLITE FIN'L INC\", 0.02),\n",
       " (\"DHA FIN'L\", 0.02),\n",
       " (\"RIVER CITY MTG & FIN'L\", 0.02),\n",
       " ('PRESIDENTIAL BK FSB', 0.02),\n",
       " ('NWL CO LLC', 0.02),\n",
       " ('TEISHA A', 0.02),\n",
       " ('SYNERGY ONE LNDG', 0.02),\n",
       " ('OPERATING ENGS LOCAL #3 FCU', 0.02),\n",
       " ('BRIDGEWELL CAP LLC', 0.02),\n",
       " ('PRIMIS MTG CO', 0.02),\n",
       " ('MORTGAGE SOLUTIONS/CO LLC', 0.02),\n",
       " ('INFINITY EQUITY GROUP INC', 0.02),\n",
       " (\"US BANK NAT'L ASSN ND\", 0.02),\n",
       " ('CAPITAL CTY HM LNS CORP', 0.02),\n",
       " ('PATRIOT BK', 0.02),\n",
       " ('MY PENSACOLA FCU', 0.02),\n",
       " ('ALLEGACY FCU', 0.02),\n",
       " ('MAX CU', 0.02),\n",
       " ('NORTHSTAR MTG ADVISORS', 0.02),\n",
       " ('JENNIFER', 0.02),\n",
       " ('JERUSALEM LNS LLC', 0.02),\n",
       " ('ALLIED FIRST BK', 0.02),\n",
       " ('SOUTH LN PLZ LLC', 0.02),\n",
       " ('PROMISEONE BK', 0.02),\n",
       " ('XPERT HM LNDG INC', 0.02),\n",
       " ('BMO BK', 0.02),\n",
       " ('NICOLE L', 0.02),\n",
       " ('SUWANNEE HLDGS LLC', 0.02),\n",
       " ('ROSS MTG', 0.02),\n",
       " ('WEBSTER BK NA', 0.02),\n",
       " ('CERTIFIED MTG BANKERS', 0.02),\n",
       " ('JILL', 0.02),\n",
       " ('CITIZENS BK', 0.02),\n",
       " ('ALLIED FIRST BK SB', 0.02),\n",
       " ('FIRST CMRC CU', 0.02),\n",
       " ('DOYLE R & DOROTHY B', 0.02),\n",
       " ('AMERICU MTG', 0.02),\n",
       " ('FUTURE NOW INTRPS LLC', 0.02),\n",
       " ('FAIRWAY MTG CORP', 0.02),\n",
       " ('CHAPMAN FAM TRUST (RT)', 0.02),\n",
       " ('METRO NORTH FCU', 0.02),\n",
       " ('HOUSING & CMNTY DEV DEPT', 0.02),\n",
       " ('FFC MTG CORP', 0.02),\n",
       " ('CAPITAL PTRS MTG', 0.02),\n",
       " ('BD CAP SE LLC', 0.02),\n",
       " ('JRJO FAMILY TRUST', 0.02),\n",
       " (\"T2 FIN'L LLC\", 0.02),\n",
       " ('PLAINS COMMERCE BK', 0.02),\n",
       " ('LENDAGE LLC', 0.02),\n",
       " ('DOMNINIQUE', 0.02),\n",
       " ('ROBERT N JR & JUDY R', 0.02),\n",
       " ('ROBERT N & JUDY R', 0.02),\n",
       " ('MORTGAGE CORP', 0.02),\n",
       " ('NORTHPOINT MTG', 0.02),\n",
       " (\"DYBN FIN'L CORP\", 0.02),\n",
       " ('DEIDRE & EARLY', 0.02),\n",
       " (\"CMG FIN'L\", 0.02),\n",
       " ('OAKTREE FUND ADMN LLC', 0.02),\n",
       " ('BOAZ INVS LLC', 0.02),\n",
       " ('VANDOLAY INDS LLC', 0.02),\n",
       " ('FIRST COAST MTG FNDG', 0.02),\n",
       " ('AMERICAN FIN HOUSE/LARIBA', 0.02),\n",
       " ('FIRST CMNTY MTG', 0.02),\n",
       " ('FIDELITY DEPOSIT & DISCOUNT BK', 0.02),\n",
       " ('DR MTG LLC', 0.02),\n",
       " ('JOSEPH C', 0.02),\n",
       " ('DAVON', 0.02),\n",
       " ('GREENBOX LNS INC', 0.02),\n",
       " ('BRADESCO BK', 0.02),\n",
       " ('ARCHWEST FNDG LLC', 0.02),\n",
       " ('JAMES H JR', 0.02),\n",
       " ('LONE STORE INC', 0.02),\n",
       " ('USAA FSB', 0.02),\n",
       " ('AMERITRUST MTG CO', 0.02),\n",
       " ('CENTRAL TR BK', 0.02),\n",
       " ('STEWARDS/CAP & CO LLC', 0.02),\n",
       " ('TIMOTHY A & KATHLEEN R', 0.02),\n",
       " ('BAYCOAST MTG CO LLC', 0.02),\n",
       " ('RONJEAN HLDGS LLC', 0.02),\n",
       " ('GENESIS CAP LLC', 0.02),\n",
       " (\"MEADOWBROOK FIN'L MTG BKERS\", 0.02),\n",
       " ('DUPACO CMNTY CU', 0.02),\n",
       " ('FIDELIS MTG CORP', 0.02),\n",
       " ('GREGORY J & BARBARA J', 0.02),\n",
       " ('SOUTHERN PINE CU', 0.02),\n",
       " ('FIRST HM MTG', 0.02),\n",
       " ('DRAPER & KRAMER MTG', 0.02),\n",
       " ('BEDROCK MTG FUND LLC', 0.02),\n",
       " ('CME LNDG GROUP LLC', 0.02),\n",
       " ('ALLY BK', 0.02),\n",
       " ('ARCK SVCS LLC', 0.02),\n",
       " ('WOLCOTT LLC +', 0.02),\n",
       " ('BRYANT BK', 0.02),\n",
       " ('SYMONE', 0.02),\n",
       " ('INTEGRITY HM MTG CORP', 0.02),\n",
       " ('CAPITAL ALLIANCE', 0.02),\n",
       " (\"BANK NAT'L ASSOCS\", 0.02),\n",
       " ('IPAVA ST BK', 0.02),\n",
       " ('MIDFLORIDA FCU', 0.02),\n",
       " ('LYNCH CHRI L LIVING TRUST (LT)', 0.02),\n",
       " ('WILLIAM G & PAULETTE M', 0.02),\n",
       " ('ALICIA B', 0.02),\n",
       " ('ROCKET MTG', 0.02),\n",
       " ('LOANFLIGHT LNDG LLC', 0.02),\n",
       " ('SUNWEST BK', 0.02),\n",
       " ('MORTGAGE RESEARCH CTR LLC', 0.02),\n",
       " ('AMERICAS MTG LENDER INC', 0.02),\n",
       " ('THOMAS G JR & TERRI L', 0.02),\n",
       " ('PEACOCK G & M TRUST (PT)', 0.02),\n",
       " ('US SMALL BUSINESS ADMINISTRATI', 0.02),\n",
       " ('MADISON CNTY CMNTY BK', 0.02),\n",
       " ('MARGARET A', 0.02),\n",
       " ('ALL SVC PROS LLC', 0.02),\n",
       " ('CITY OF PANAMA CITY BCH', 0.02),\n",
       " ('LOANLEADERS/AMERICA INC', 0.02),\n",
       " ('FIVE STAR CU', 0.02),\n",
       " ('RESIDENTIAL CAP PTRS SECURED L', 0.02),\n",
       " ('PRIYESHAH INV LLC', 0.02),\n",
       " ('SKINNER TAX CONSULTING INC', 0.02),\n",
       " ('LIBERTY BK', 0.02),\n",
       " ('DELTA CMNTY CU', 0.02),\n",
       " ('SOUTHEAST MTG/GEORGIA', 0.02),\n",
       " ('PETITJEAN FAMILY TRUST (PT)', 0.02),\n",
       " ('GERMAN AMERICAN BK', 0.02),\n",
       " ('POLARIS CAP LLC', 0.02),\n",
       " ('FBC MTG', 0.02),\n",
       " ('REGIONAL BK', 0.02),\n",
       " ('CROSS CNTRY MTG', 0.02),\n",
       " ('BRANDON & MICHAEL', 0.02),\n",
       " ('GULF COAST BK&TR CO', 0.02),\n",
       " ('WALTON FNDG LLC', 0.02),\n",
       " ('SMARTBANK', 0.02),\n",
       " ('BEACH BUM RENTALS LLC', 0.02),\n",
       " ('KC SOLUTIONS INC', 0.02),\n",
       " ('HOMETOWN BK', 0.02),\n",
       " ('WHEELER CNTY ST BK', 0.02),\n",
       " ('JOHN', 0.02),\n",
       " (\"ELEMENTS FIN'L FCU\", 0.02),\n",
       " ('PARK PLACE FIN LLC', 0.02),\n",
       " ('ROYAL PACIFIC FNDG CORP', 0.02),\n",
       " ('MEADOWS BK', 0.02),\n",
       " ('WSFS MTG', 0.02),\n",
       " ('DERRICK', 0.02),\n",
       " ('SANDRA', 0.02),\n",
       " ('DIRECT MTG INVTRS INC', 0.02),\n",
       " ('MICHAEL M', 0.02),\n",
       " (\"MORTGAGE FIN'L\", 0.02),\n",
       " ('MORTGAGE RESEARCH CTR', 0.02),\n",
       " ('WESTERN FREEDOM MTG CORP', 0.02),\n",
       " ('ARC HM LLC', 0.02),\n",
       " ('ACOPLA LLC', 0.02),\n",
       " (\"INTEGRITY FIN'L SVCS/TAMPA BAY\", 0.02),\n",
       " ('DENNIS M', 0.02),\n",
       " ('LAVIE SVCS LLC', 0.02),\n",
       " ('HONOR CU', 0.02),\n",
       " ('HHHB PROPS LLC', 0.02),\n",
       " ('LOANLOCK PRIME', 0.02),\n",
       " ('MICHAEL S', 0.02),\n",
       " ('PINNACLE BK', 0.02),\n",
       " ('MORTGAGE CTR', 0.02),\n",
       " ('GARDEN ST HM LNS INC', 0.02),\n",
       " ('MITCH MITCHELL LLC', 0.02),\n",
       " ('LAUREN', 0.02),\n",
       " ('ICE LENDER HLDGS LLC', 0.02),\n",
       " ('BLAKE', 0.02),\n",
       " ('MAYES ANALEE M TRUST (PT)', 0.02),\n",
       " ('ADVANCE MTG & INV CO INC', 0.02),\n",
       " (\"OBSIDIAN FIN'L SVCS INC\", 0.02),\n",
       " ('GREYSON CAP LLC', 0.02),\n",
       " ('FAIRWAY FNDG GRP INC', 0.02),\n",
       " ('AUBURN BK', 0.02),\n",
       " ('RESIDENTIAL CAP PTRS', 0.02),\n",
       " ('FIRST HM BK', 0.02),\n",
       " ('CALCON MUTUAL MTG LLC-ONETRUS', 0.02),\n",
       " ('MORTGAGECOUNTRY LLC', 0.02),\n",
       " (\"CV3 FIN'L SVCS LLC\", 0.02),\n",
       " ('MARC', 0.02),\n",
       " ('UMB BK', 0.02),\n",
       " ('REPLOGE FAMILY LIVING TRUST', 0.02),\n",
       " (\"CASCADE FIN'L SVCS\", 0.02),\n",
       " ('BETTER MTG', 0.02),\n",
       " ('DAVID E & MADELINE', 0.02),\n",
       " ('CARRINGTON MTG CORP', 0.02),\n",
       " ('NATIONS DIRECT MTG LLC', 0.02),\n",
       " ('KIND LNDG MTG', 0.02),\n",
       " (\"LENDER ONE FIN'L\", 0.02),\n",
       " ('NTFN INC', 0.02),\n",
       " ('FULL THROTTLE NETWORKS LLC', 0.02),\n",
       " ('ACRE MTG & FINL INC', 0.02),\n",
       " ('TIM W', 0.02),\n",
       " ('GRYSON', 0.02),\n",
       " ('PAUL', 0.02),\n",
       " ('BARWICK BKNG CO', 0.02),\n",
       " ('MORTGAGE EQUITY PTRS', 0.02),\n",
       " ('HOLLEY CAP LLC', 0.02),\n",
       " ('LEGENDARY HM LNS INC', 0.02),\n",
       " ('SERVICE FIRST HM LOANS', 0.02),\n",
       " ('WILLIAM R NASH LLC', 0.02),\n",
       " ('ROSS MTG CO INC', 0.02),\n",
       " ('MERCHANTS NE LLC', 0.02),\n",
       " ('FRED B MILLER INVS LLLP', 0.02),\n",
       " ('THRIVE MTG LLC', 0.02),\n",
       " ('CATHERINE', 0.02),\n",
       " ('CROSS CNTY MTG LLC', 0.02),\n",
       " ('DAS ACQUISITIONS CO LLC', 0.02),\n",
       " (\"CARDINAL FIN'L CO LTD\", 0.02),\n",
       " ('JAMES', 0.02),\n",
       " ('LEADER BK NA', 0.02),\n",
       " ('UNMB HM LNS INC', 0.02),\n",
       " ('DART BK', 0.02),\n",
       " ('FARMERS BK & TR NA', 0.02),\n",
       " ('QUAD CITY BK & TR CO', 0.02),\n",
       " (\"FIRST NAT'L BK\", 0.02),\n",
       " ('HEARTLAND BK', 0.02),\n",
       " ('NQM FNDG LLC', 0.02),\n",
       " ('EVERGLADES FCU', 0.02),\n",
       " ('BAY EQUITY', 0.02),\n",
       " ('REAL EST MTG NTWK', 0.02),\n",
       " ('AMERIHOME MTG CO LLC', 0.02),\n",
       " ('1ST RATE HM MTG INC', 0.02),\n",
       " ('CHOICE LNDG', 0.02),\n",
       " ('FIDELITY FNDG MTG CORP', 0.02),\n",
       " ('FIDELITY LNDG LLC', 0.02),\n",
       " (\"GOLD STAR FIN'L GRP INC\", 0.02),\n",
       " ('EAGLE HM MTG LLC', 0.02),\n",
       " ('ROSTYSLAW & EMILY ROSS', 0.02),\n",
       " ('KOBIE', 0.02),\n",
       " ('CRAIG H', 0.02),\n",
       " ('VINCENT', 0.02),\n",
       " ('TNM ATLANTIC LLC', 0.02),\n",
       " ('MICHAEL B', 0.02),\n",
       " ('TINA M', 0.02),\n",
       " ('REBECCA S', 0.02),\n",
       " ('UBS BK USA', 0.02),\n",
       " ('SAGE MTG', 0.02),\n",
       " ('1623B4 LLC', 0.02),\n",
       " ('SABELMARIE LLC', 0.02),\n",
       " ('PINE BARK LLC', 0.02),\n",
       " ('ARMCAR HLDGS LLC', 0.02),\n",
       " ('CENTRAL CU/FL', 0.02),\n",
       " ('MIDWEST MTG ASSOCS LLC', 0.02),\n",
       " ('NORTH AMERICAN SVGS BK', 0.02),\n",
       " ('SOUTH ST BK', 0.02),\n",
       " (\"SECURITY NAT'L MTG CO\", 0.02),\n",
       " ('HOMESPIRE MTG CORP', 0.02),\n",
       " ('SW LEGACY LLC', 0.02),\n",
       " ('NORTH AMERICAN SVGS BK FSB', 0.02),\n",
       " ('LINDA A', 0.02),\n",
       " ('ROBERT & ROBERT C', 0.02),\n",
       " ('DB PREMIER ASSET PTRS LLC', 0.02),\n",
       " ('CHAMPION FNDG', 0.02),\n",
       " (\"FIRST NAT'L BK/MOUNT DORA\", 0.02),\n",
       " ('HOME EXPRESS MTG', 0.02),\n",
       " ('EGLIN FCU', 0.02),\n",
       " ('CHARLIZE', 0.02),\n",
       " ('MICHAEL J', 0.02),\n",
       " ('OAKTREE FNDG CORP', 0.02),\n",
       " ('BKL INV CO', 0.02),\n",
       " ('NUVIEW TR CO', 0.02),\n",
       " ('SECRETARY/HUD', 0.02),\n",
       " ('FAIRWAY INDEPENDENCE MTG CORP', 0.02),\n",
       " ('DCD/CTRL FL INC', 0.02),\n",
       " ('NORTH FLORIDA LAND GRP INC', 0.02),\n",
       " ('IDEAL LNDG LLC', 0.02),\n",
       " ('MALLORY P & JUDITH L', 0.02),\n",
       " ('MILLENNIUM BK', 0.02),\n",
       " ('BARKER JON M TRUST (RT)', 0.02),\n",
       " ('DUVAL REALTY 22 TRUST', 0.02),\n",
       " ('OMEGA CAP FUND LLC', 0.02),\n",
       " ('SOUTHEAST MTG/GA', 0.02),\n",
       " ('INTERLINC MTG SVCS LLC', 0.02),\n",
       " ('GBANK', 0.02),\n",
       " ('RYAN & SALLY', 0.02),\n",
       " ('RV INV GRP LLC', 0.02),\n",
       " ('COMMERCIAL BK', 0.02),\n",
       " ('RAPID ME FNDG LLC', 0.02),\n",
       " ('FIRST SUMMIT BK', 0.02),\n",
       " ('GREEN ARROWS II LAND TRUST', 0.02),\n",
       " (\"POWER FIN'L CU\", 0.02),\n",
       " (\"ACRE MTG & FIN'L INC\", 0.02),\n",
       " ('GLADES CNTY BOARD/CNTY', 0.02),\n",
       " ('DAVID S & ROXANNE L', 0.02),\n",
       " ('MARK J', 0.02),\n",
       " ('UNION SVGS BK', 0.02),\n",
       " ('RIVERO FAMILY TRUST (IT)', 0.02),\n",
       " ('DAVID & TARA', 0.02),\n",
       " ('CENTURY STAR LLC', 0.02),\n",
       " ('COMPASS MTG LNDG INC', 0.02),\n",
       " ('COMERICA BK', 0.02),\n",
       " (\"CHICAGO FIN'L SVCS INC\", 0.02),\n",
       " ('CLEAREDGELENDING', 0.02),\n",
       " ('MORTGAGE 1 INC', 0.02),\n",
       " ('ROBERTA & MICHAEL', 0.02),\n",
       " ('GEOFFREY I', 0.02),\n",
       " ('MURRAY', 0.02),\n",
       " ('SPRINGSTEAD G W TRUST (PT)', 0.02),\n",
       " ('CIBM BK', 0.02),\n",
       " ('IAN C', 0.02),\n",
       " ('ONBOARD 1 MTG LLC', 0.02),\n",
       " ('HARVEST SMALL BUSN FIN LLC', 0.02),\n",
       " (\"JOVIA FIN'L FCU\", 0.02),\n",
       " ('TOWER FCU', 0.02),\n",
       " ('BENNETT & DONNA', 0.02),\n",
       " ('UNIVEST BK & TR CO', 0.02),\n",
       " ('MY MTG CORP', 0.02),\n",
       " ('STARLING LIVING TRUST (PT)', 0.02),\n",
       " ('SPUTHSTATE BK NA', 0.02),\n",
       " ('BIRD STEPHEN G TRUST (PT)', 0.02),\n",
       " ('BIRD STEPHEN G TRUST', 0.02),\n",
       " ('OFAN REALTY LLC', 0.02),\n",
       " ('HERMAN SR', 0.02),\n",
       " ('FINANCE/AMERICA MTG LLC', 0.02),\n",
       " ('FOUNDATION CAP RSRCS', 0.02),\n",
       " ('JORGE L & MARIE L', 0.02),\n",
       " ('AMERANT MTG LLC', 0.02),\n",
       " ('INTERFIRST MTG CORP', 0.02),\n",
       " ('FIDELITY FIRST HM MTG CO', 0.02),\n",
       " (\"GOLDSTAR MTG FIN'L GRP\", 0.02),\n",
       " ('GULFSIDE BK', 0.02),\n",
       " (\"M/I FIN'L\", 0.02),\n",
       " ('CARROLLTON BK', 0.02),\n",
       " ('COREVEST AMERICAN FIN LNENDER', 0.02),\n",
       " ('RESICENTRAL LLC', 0.02),\n",
       " ('ANN & LUCY M', 0.02),\n",
       " (\"PARK NAT'L BK\", 0.02),\n",
       " ('BNY MELLON NA', 0.02),\n",
       " ('HERITAGE HARBOUR GOLF HLDGS', 0.02),\n",
       " ('G&G PROP MGMT HLDGS LLC', 0.02),\n",
       " ('BANK-FUND STAFF FCU', 0.02),\n",
       " ('GOLDMAN SACHS MTG CO', 0.02),\n",
       " ('DELIGHT FNDG INC', 0.02),\n",
       " ('BOYD FAMILY TRUST', 0.02),\n",
       " ('MCCOY FCU', 0.02),\n",
       " ('FIRST BK/CTRL OHIO', 0.02),\n",
       " ('FCB MTG LLC', 0.02),\n",
       " ('LAVONNE', 0.02),\n",
       " ('CALHOUN LIBERTY CU', 0.02),\n",
       " ('ESTES JAYCE S TRUST (RT)', 0.02),\n",
       " ('GARY O & GLORIA J', 0.02),\n",
       " ('RURAL HSNG SVC', 0.02),\n",
       " ('CITY FIRST MTG SVCS LC', 0.02),\n",
       " ('COLLIER DARYL L LIVING TRUST', 0.02),\n",
       " ('COLLIER D LIVING TRUST (RT)', 0.02),\n",
       " ('JM OCALA INVS LLC', 0.02),\n",
       " ('FARM CREDIT/FL ACA', 0.02),\n",
       " (\"OAKMONT COM'L LLC\", 0.02),\n",
       " ('CK LICENSE LLC', 0.02),\n",
       " ('BRUCE S', 0.02),\n",
       " ('US SMALL BUSINESS ADMINISTRAT', 0.02),\n",
       " ('STUART E & TERESA S', 0.02),\n",
       " ('HERITAGE S CMNTY CU', 0.02),\n",
       " ('BAY CNTY BOARD/CNTY COMN', 0.02),\n",
       " ('TROY F JR', 0.02),\n",
       " ('VOLUNTEER ST BK', 0.02),\n",
       " ('SCOOTER M', 0.02),\n",
       " ('QUONTIC BK', 0.02),\n",
       " ('UNITED CMNTY BK FLORIDA', 0.02),\n",
       " ('CHRISTOPHER A', 0.02),\n",
       " ('FLORIDA DEPARTMENT/COMMERCE', 0.02),\n",
       " ('DHI MTG CO LTD+', 0.02),\n",
       " ('SERVICE FIRST BK', 0.02),\n",
       " ('RICHARD W', 0.02),\n",
       " ('FAIRWINDS CAPITAL LP', 0.02),\n",
       " ('ADELAIDE MTG SOLUTIONS', 0.02),\n",
       " ('MORTGAGE ELECTRONIC', 0.02),\n",
       " ('MY EASY MTG LLC', 0.02),\n",
       " ('ACHIEVE CU', 0.02),\n",
       " ('ROBERT & STEPHEN', 0.02),\n",
       " ('LUCRETIA', 0.02),\n",
       " ('OFFERPAD MTG LLC', 0.02),\n",
       " (\"DELMAR FIN'L CO\", 0.02),\n",
       " ('ENVISION CU', 0.02),\n",
       " ('HUGH T & MILDRED M', 0.02),\n",
       " ('MORTGAGEADVISORS.COM', 0.02),\n",
       " (\"ABL RPC RESID'L CREDIT ACQU\", 0.02),\n",
       " ('THOMAS J', 0.02),\n",
       " ('VOLDNESS D & H FAM LIV TRUST', 0.02),\n",
       " ('PINELAND BK', 0.02),\n",
       " ('COMMERCIAL LENDER LLC', 0.02),\n",
       " ('JACKSONVILLE HLDGS 2214 LLC', 0.02),\n",
       " ('JOEL', 0.02),\n",
       " ('QUORUM FCU', 0.02),\n",
       " ('STEARNS LNDG LLC', 0.02),\n",
       " ('STATE FARM BK FSB', 0.02),\n",
       " ('PIKE CREEK MTG SVCS INC', 0.02),\n",
       " ('HOME POINTE MTG INC', 0.02),\n",
       " ('AFFINITY MTG', 0.02),\n",
       " ('AAFMAA MTG SVCS LLC', 0.02),\n",
       " ('THOMAS FAMILY TRUST (RT)', 0.02),\n",
       " (\"JUNIOR'S LNDG LLC\", 0.02),\n",
       " ('DE LA ROSA PROPS INC', 0.02),\n",
       " ('DIANE L', 0.02),\n",
       " ('MARC & AMY', 0.02),\n",
       " ('ROBERTO', 0.02),\n",
       " (\"PARAMOUNT RESID'L MTG\", 0.02),\n",
       " ('GROVES CAP INC', 0.02),\n",
       " ('AMERICAN BANCSHARES MTG CORP', 0.02),\n",
       " ('RUSSELL J & LARRY E', 0.02),\n",
       " ('FINANCIAL RESOURCES INC', 0.02),\n",
       " ('REAL HLDGS GROUP LLC', 0.02),\n",
       " ('LANG JOHN R JR TRUST (RT)', 0.02),\n",
       " ('DOMREP PROPS LLC', 0.02),\n",
       " ('METROPOLITAN TOWER LIFE INS CO', 0.02),\n",
       " ('HOMEWARD MTG LLC', 0.02),\n",
       " ('ARVEST BK', 0.02),\n",
       " ('BANGOR SVGS BK', 0.02),\n",
       " ('DIEGO L  V', 0.02),\n",
       " ...]"
      ]
     },
     "execution_count": 10,
     "metadata": {},
     "output_type": "execute_result"
    }
   ],
   "source": [
    "volume"
   ]
  },
  {
   "cell_type": "code",
   "execution_count": 1,
   "id": "f5c02409",
   "metadata": {},
   "outputs": [
    {
     "ename": "NameError",
     "evalue": "name 'volume' is not defined",
     "output_type": "error",
     "traceback": [
      "\u001b[1;31m---------------------------------------------------------------------------\u001b[0m",
      "\u001b[1;31mNameError\u001b[0m                                 Traceback (most recent call last)",
      "Cell \u001b[1;32mIn[1], line 1\u001b[0m\n\u001b[1;32m----> 1\u001b[0m \u001b[38;5;28mlen\u001b[39m(\u001b[43mvolume\u001b[49m),total_output_count\n",
      "\u001b[1;31mNameError\u001b[0m: name 'volume' is not defined"
     ]
    }
   ],
   "source": [
    "len(volume),total_output_count"
   ]
  },
  {
   "cell_type": "code",
   "execution_count": null,
   "id": "72cc025d",
   "metadata": {
    "collapsed": true,
    "jupyter": {
     "outputs_hidden": true
    }
   },
   "outputs": [],
   "source": []
  }
 ],
 "metadata": {
  "kernelspec": {
   "display_name": "Python 3 (ipykernel)",
   "language": "python",
   "name": "python3"
  },
  "language_info": {
   "codemirror_mode": {
    "name": "ipython",
    "version": 3
   },
   "file_extension": ".py",
   "mimetype": "text/x-python",
   "name": "python",
   "nbconvert_exporter": "python",
   "pygments_lexer": "ipython3",
   "version": "3.11.5"
  },
  "toc": {
   "base_numbering": 1,
   "nav_menu": {},
   "number_sections": true,
   "sideBar": true,
   "skip_h1_title": false,
   "title_cell": "Table of Contents",
   "title_sidebar": "Contents",
   "toc_cell": false,
   "toc_position": {},
   "toc_section_display": true,
   "toc_window_display": false
  },
  "widgets": {
   "application/vnd.jupyter.widget-state+json": {
    "state": {},
    "version_major": 2,
    "version_minor": 0
   }
  }
 },
 "nbformat": 4,
 "nbformat_minor": 5
}
