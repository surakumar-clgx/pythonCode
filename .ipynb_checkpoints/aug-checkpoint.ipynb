{
 "cells": [
  {
   "cell_type": "markdown",
   "id": "30e369e6",
   "metadata": {
    "deletable": true,
    "editable": true,
    "frozen": false
   },
   "source": [
    "# august"
   ]
  },
  {
   "cell_type": "code",
   "execution_count": null,
   "id": "14c028c6",
   "metadata": {
    "deletable": true,
    "editable": true,
    "frozen": false
   },
   "outputs": [],
   "source": [
    "import spacy"
   ]
  },
  {
   "cell_type": "code",
   "execution_count": null,
   "id": "47a9b51a",
   "metadata": {
    "deletable": true,
    "editable": true,
    "frozen": false
   },
   "outputs": [],
   "source": [
    "import os\n",
    "from concurrent.futures import ThreadPoolExecutor\n",
    "from time import perf_counter, sleep\n",
    "\n",
    "import pandas as pd\n",
    "\n",
    "start = perf_counter()\n",
    "\n",
    "# This is the input  folder\n",
    "# path=r\"\\\\filer-argentina-dev\\Argentina\\Shared Folder\\Manikanda Gokul\\Dec 2023\\\\\"\n",
    "path = r\"C:\\Users\\surakumar\\OneDrive - CoreLogic Solutions, LLC\\Downloads\\aug\\\\\"\n",
    "\n",
    "file_name = [file for file in os.listdir(path) if file.startswith(\"aug\")]\n",
    "\n",
    "# for i in file_name\n",
    "#    print(\"vis\",\"s.no \",i,\"  \",file_name[i])\n",
    "\n",
    "pd1 = pd.DataFrame()\n",
    "p = 1\n",
    "for i in file_name:\n",
    "    print(i)\n",
    "    # vishnu excelfile\n",
    "    # print(\"v - \",i)\n",
    "    xls = pd.ExcelFile(rf\"{path}{i}\")\n",
    "\n",
    "    n = pd.read_excel(xls, sheet_name=\"field_level_data\")\n",
    "    pd1 = pd.concat([pd1, n], axis=0)\n",
    "    # print(\"v -\",pd1)\n",
    "    print(f\"{p}---\", n.shape)\n",
    "    print(pd1.shape)\n",
    "    p += 1\n",
    "\n",
    "print(pd1.shape)\n",
    "\n",
    "end = perf_counter()\n",
    "\n",
    "print(\"time---\", end - start)"
   ]
  },
  {
   "cell_type": "code",
   "execution_count": null,
   "id": "2bb5740f",
   "metadata": {
    "deletable": true,
    "editable": true,
    "frozen": false
   },
   "outputs": [],
   "source": [
    "import pandas as pd"
   ]
  },
  {
   "cell_type": "code",
   "execution_count": null,
   "id": "94788e74",
   "metadata": {
    "deletable": true,
    "editable": true,
    "frozen": false
   },
   "outputs": [],
   "source": [
    "pd1 = pd.read_csv(\"aug_filed_level_data.csv\")"
   ]
  },
  {
   "cell_type": "code",
   "execution_count": null,
   "id": "264aa2aa",
   "metadata": {
    "deletable": true,
    "editable": true,
    "frozen": false
   },
   "outputs": [],
   "source": [
    "pd1.head()"
   ]
  },
  {
   "cell_type": "markdown",
   "id": "560da9a6",
   "metadata": {
    "deletable": true,
    "editable": true,
    "frozen": false
   },
   "source": [
    "pd1.to_csv(\"aug_filed_level_data.csv\")"
   ]
  },
  {
   "cell_type": "code",
   "execution_count": null,
   "id": "93e2bb96",
   "metadata": {
    "deletable": true,
    "editable": true,
    "frozen": false
   },
   "outputs": [],
   "source": [
    "v = pd1.copy()"
   ]
  },
  {
   "cell_type": "code",
   "execution_count": null,
   "id": "52cdd95e",
   "metadata": {
    "deletable": true,
    "editable": true,
    "frozen": false
   },
   "outputs": [],
   "source": [
    "v.shape"
   ]
  },
  {
   "cell_type": "code",
   "execution_count": null,
   "id": "d1f610d7",
   "metadata": {
    "deletable": true,
    "editable": true,
    "frozen": false
   },
   "outputs": [],
   "source": [
    "col_values = \"Buyer/Borrower Zip Code,Recording Page Number,Lender Zip Code,Recording Date,Lender Street Address,Parcel Map/Page,Buyer/Borrower Street Address,Loan Organization ID,Parcel Map/Book,Lender City,Tract/Subdivision Name,Buyer/Borrower City,Buyer/Borrower/Defendant 1 First Name Or Company Name,Property Zip Code,Buyer/Borrower/Defendant 1 Last Name Or Company Code,Document Title,Property Street Address (Part 1),Property Zip Code + 4,Buyer/Borrower/Defendant 3 Last Name,Lender/Lender First Name/Beneficiary/Company Name,Buyer/Borrower/Defendant 2 Last Name,Block,Buyer/Borrower State,Recording Book Number,Lender State,Lot,Document Number,Mortgage Amount,MIN/MERS Number,Loan Originator ID,Property City/Tax City,Loan Originator Name Abbreviation,Loan Number,Attorney Name,Buyer/Borrower 1 Vesting,Buyer/Borrower/Defendant 4 First Name (or Company Name),Buyer/Borrower/Defendant 4 Last Name,Buyer/Borrower/Defendant 2 First Name (or Company Name),Buyer/Borrower 1 Relationship Type,Buyer/Borrower/Defendant 3 First Name (or Company Name),Buyer/Borrower 3 Vesting,Buyer/Borrower 2 Vesting,Buyer/Borrower 2 Relationship Type,Buyer/Borrower 4 Vesting,Loan Organization ID 2,Lender Zip Code + 4,Buyer/Borrower Zip Code + 4,Unit Number (Legal Condominium Unit Number),Section,Range,Township/Municipality Code,Buyer/Borrower 3 Relationship Type,Buyer/Borrower 4 Relationship Type\".split(\n",
    "    \",\"\n",
    ")"
   ]
  },
  {
   "cell_type": "code",
   "execution_count": null,
   "id": "0888b4c1",
   "metadata": {
    "deletable": true,
    "editable": true,
    "frozen": false
   },
   "outputs": [],
   "source": [
    "v = v[v[\"Document_Type\"].isin([\" DEED OF TRUST\"])].sort_values(\"Document_Type\")"
   ]
  },
  {
   "cell_type": "code",
   "execution_count": null,
   "id": "7c144d7e",
   "metadata": {
    "deletable": true,
    "editable": true,
    "frozen": false
   },
   "outputs": [],
   "source": [
    "v.head()"
   ]
  },
  {
   "cell_type": "code",
   "execution_count": null,
   "id": "6d362868",
   "metadata": {
    "deletable": true,
    "editable": true,
    "frozen": false
   },
   "outputs": [],
   "source": [
    "len(set(v[\"Field\"].tolist()))"
   ]
  },
  {
   "cell_type": "markdown",
   "id": "511c8a34",
   "metadata": {
    "deletable": true,
    "editable": true,
    "frozen": false
   },
   "source": [
    "set(v[\"Field\"].tolist())"
   ]
  },
  {
   "cell_type": "code",
   "execution_count": null,
   "id": "07642fd3",
   "metadata": {
    "deletable": true,
    "editable": true,
    "frozen": false
   },
   "outputs": [],
   "source": [
    "f = [\n",
    "    \"1-4 Family Rider\",\n",
    "    \"APN 1\",\n",
    "    \"APN 2\",\n",
    "    \"APN 3\",\n",
    "    \"APN 4\",\n",
    "    \"APN 5\",\n",
    "    \"APN 6\",\n",
    "    \"APN 7\",\n",
    "    \"APN 8\",\n",
    "    \"APN Portion Indicator\",\n",
    "    \"APN Research Flag/On-Line Flag\",\n",
    "    \"Accommodation Flag\",\n",
    "    \"Adj Interest Rate Calculation Change\",\n",
    "    \"Adj Interest Rate Change Date\",\n",
    "    \"Adj Interest Rate Change Frequency\",\n",
    "    \"Adj Interest Rate Change Interval\",\n",
    "    \"Adj Interest Rate Change Percent Limit\",\n",
    "    \"Adj Interest Rate Index Type\",\n",
    "    \"Adj Interest Rate Interest Only\",\n",
    "    \"Adj Interest Rate Maximum Percentage\",\n",
    "    \"Adjustable Interest Rate First Interest Rate Change Cap\",\n",
    "    \"Adjustable Interest Rate Flag\",\n",
    "    \"Adjustable Interest Rate Look Back Period\",\n",
    "    \"Adjustable Interest Rate Payment Change Date\",\n",
    "    \"Amortization Term\",\n",
    "    \"Attorney Name\",\n",
    "    \"Block\",\n",
    "    \"Buyer Principal Company\",\n",
    "    \"Buyer Principal First Name\",\n",
    "    \"Buyer Principal Last Name\",\n",
    "    \"Buyer Principal Title\",\n",
    "    \"Buyer/Borrower 1 Percent Transferred\",\n",
    "    \"Buyer/Borrower 1 Relationship Type\",\n",
    "    \"Buyer/Borrower 1 Vesting\",\n",
    "    \"Buyer/Borrower 2 Percent Transferred\",\n",
    "    \"Buyer/Borrower 2 Relationship Type\",\n",
    "    \"Buyer/Borrower 2 Vesting\",\n",
    "    \"Buyer/Borrower 3 Relationship Type\",\n",
    "    \"Buyer/Borrower 3 Vesting\",\n",
    "    \"Buyer/Borrower 4 Relationship Type\",\n",
    "    \"Buyer/Borrower 4 Vesting\",\n",
    "    \"Buyer/Borrower City\",\n",
    "    \"Buyer/Borrower State\",\n",
    "    \"Buyer/Borrower Street Address\",\n",
    "    \"Buyer/Borrower Zip Code\",\n",
    "    \"Buyer/Borrower Zip Code + 4\",\n",
    "    \"Buyer/Borrower/Defendant 1 First Name Or Company Name\",\n",
    "    \"Buyer/Borrower/Defendant 1 Last Name Or Company Code\",\n",
    "    \"Buyer/Borrower/Defendant 2 First Name (or Company Name)\",\n",
    "    \"Buyer/Borrower/Defendant 2 Last Name\",\n",
    "    \"Buyer/Borrower/Defendant 3 First Name (or Company Name)\",\n",
    "    \"Buyer/Borrower/Defendant 3 Last Name\",\n",
    "    \"Buyer/Borrower/Defendant 4 First Name (or Company Name)\",\n",
    "    \"Buyer/Borrower/Defendant 4 Last Name\",\n",
    "    \"Construction Loan Flag (Y/N)\",\n",
    "    \"Credit Line/Equity Line Flag (A/B/C/E/L/P/R/S/T/V)\",\n",
    "    \"Document Number\",\n",
    "    \"Document Title\",\n",
    "    \"Filmtracker Source / Film ID Number\",\n",
    "    \"Foreign Address Part 1 (Address)\",\n",
    "    \"Foreign Address Part 2 (Province, City Postal Code)\",\n",
    "    \"Foreign Address Part 3 (Country)\",\n",
    "    \"Home Affordable Modification Agreement\",\n",
    "    \"Interest Rate\",\n",
    "    \"Legal Type\",\n",
    "    \"Lender City\",\n",
    "    \"Lender State\",\n",
    "    \"Lender Street Address\",\n",
    "    \"Lender Zip Code\",\n",
    "    \"Lender Zip Code + 4\",\n",
    "    \"Lender/Lender First Name/Beneficiary/Company Name\",\n",
    "    \"Lender/Lender Last Name/Beneficiary/Company Code\",\n",
    "    \"Loan Due Date (MMDD)\",\n",
    "    \"Loan Number\",\n",
    "    \"Loan Organization ID\",\n",
    "    \"Loan Organization ID 2\",\n",
    "    \"Loan Originator ID\",\n",
    "    \"Loan Originator Name Abbreviation\",\n",
    "    \"Loan Type (FHA/VA/SBA)\",\n",
    "    \"Lot\",\n",
    "    \"MERS Services Flag\",\n",
    "    \"MIN/MERS Number\",\n",
    "    \"Mailing/Property Address Indicator (P/M)\",\n",
    "    \"Matching Grant Deed/Original Book Number\",\n",
    "    \"Matching Grant Deed/Original Document Number\",\n",
    "    \"Matching Grant Deed/Original Page Number\",\n",
    "    \"Mortgage Amount\",\n",
    "    \"Multiple Parcel Indicator (Part 1)\",\n",
    "    \"Multiple Parcel Indicator (Part 2)\",\n",
    "    \"Original Recording Date/Contract Sales Date for Deed/Deed of Trust/Execution Date/Signature Date\",\n",
    "    \"Parcel\",\n",
    "    \"Parcel Map/Book\",\n",
    "    \"Parcel Map/Page\",\n",
    "    \"Pre Payment Date of Expiration (number of months)\",\n",
    "    \"Pre Payment Rider Indicator\",\n",
    "    \"Property City/Tax City\",\n",
    "    \"Property Street Address (Part 1)\",\n",
    "    \"Property Street Address (Part 2)\",\n",
    "    \"Property Zip Code\",\n",
    "    \"Property Zip Code + 4\",\n",
    "    \"Range\",\n",
    "    \"Recording Book Number\",\n",
    "    \"Recording Date\",\n",
    "    \"Recording Page Number\",\n",
    "    \"Section\",\n",
    "    \"Title Company Code\",\n",
    "    \"Title Company Name\",\n",
    "    \"Title Order/Escrow Order Abbreviation\",\n",
    "    \"Title Order/Escrow Order Number\",\n",
    "    \"Township/Municipality Code\",\n",
    "    \"Tract/Subdivision Name\",\n",
    "    \"Unit Number (Legal Condominium Unit Number)\",\n",
    "]"
   ]
  },
  {
   "cell_type": "code",
   "execution_count": null,
   "id": "dadea01a",
   "metadata": {
    "deletable": true,
    "editable": true,
    "frozen": false
   },
   "outputs": [],
   "source": [
    "v = v[v[\"Compare\"] == \"Y\"]"
   ]
  },
  {
   "cell_type": "code",
   "execution_count": null,
   "id": "131f8197",
   "metadata": {
    "deletable": true,
    "editable": true,
    "frozen": false
   },
   "outputs": [],
   "source": [
    "v = v[\n",
    "    [\"Document_Type\", \"Field\", \"Validated_Value\", \"Extracted_Value\", \"Compare\"]\n",
    "].drop_duplicates(\n",
    "    \"Field\", keep=\"first\"\n",
    ")  # .to_csv(\"DOT_fields_details.csv\")"
   ]
  },
  {
   "cell_type": "code",
   "execution_count": null,
   "id": "446f3426",
   "metadata": {
    "deletable": true,
    "editable": true,
    "frozen": false
   },
   "outputs": [],
   "source": [
    "v[v[\"Field\"].isin(col_values)].sort_values(\"Document_Type\").to_csv(\n",
    "    \"dot_fields_details.csv\"\n",
    ")"
   ]
  },
  {
   "cell_type": "code",
   "execution_count": null,
   "id": "a4116110",
   "metadata": {
    "deletable": true,
    "editable": true,
    "frozen": false
   },
   "outputs": [],
   "source": [
    "len(set(v[\"Document_Type\", \"Field\"].tolist()))"
   ]
  },
  {
   "cell_type": "code",
   "execution_count": null,
   "id": "4be85146",
   "metadata": {
    "deletable": true,
    "editable": true,
    "frozen": false
   },
   "outputs": [],
   "source": [
    "v = v.drop_duplicates(keep=\"first\")"
   ]
  },
  {
   "cell_type": "code",
   "execution_count": null,
   "id": "66b33191",
   "metadata": {
    "deletable": true,
    "editable": true,
    "frozen": false
   },
   "outputs": [],
   "source": [
    "v = v[v[\"Deed_Category\"].isin([\" T\"])]"
   ]
  },
  {
   "cell_type": "code",
   "execution_count": null,
   "id": "7fef2f06",
   "metadata": {
    "deletable": true,
    "editable": true,
    "frozen": false
   },
   "outputs": [],
   "source": [
    "v = v[v[\"Document_Type\"].isin([\" DEED OF TRUST\"])]"
   ]
  },
  {
   "cell_type": "markdown",
   "id": "ebff099d",
   "metadata": {
    "deletable": true,
    "editable": true,
    "frozen": false
   },
   "source": [
    "v[v[\"State_Code\"].isin([' FL',' MD',' OH',' CA',' TX'])][[\"Batch_ID\",\"State_Code\"]].to_csv(r'\\\\filer-argentina-dev\\Argentina\\Shared Folder\\Suraj\\aug_mortgage.csv')"
   ]
  },
  {
   "cell_type": "code",
   "execution_count": null,
   "id": "6d4a188a",
   "metadata": {
    "deletable": true,
    "editable": true,
    "frozen": false
   },
   "outputs": [],
   "source": [
    "set(v[\"State_Code\"].tolist())"
   ]
  },
  {
   "cell_type": "code",
   "execution_count": null,
   "id": "b478cd47",
   "metadata": {
    "deletable": true,
    "editable": true,
    "frozen": false
   },
   "outputs": [],
   "source": [
    "v[v[\"State_Code\"].isin([\" TX\"])][\"Batch_ID\"].to_csv(\n",
    "    r\"\\\\filer-argentina-dev\\Argentina\\Shared Folder\\Suraj\\tx_dot.csv\"\n",
    ")"
   ]
  },
  {
   "cell_type": "code",
   "execution_count": null,
   "id": "13d11668",
   "metadata": {
    "deletable": true,
    "editable": true,
    "frozen": false,
    "scrolled": true
   },
   "outputs": [],
   "source": [
    "set(v[v[\"State_Code\"].isin([\" TX\"])][\"Batch_ID\"].tolist())"
   ]
  },
  {
   "cell_type": "code",
   "execution_count": null,
   "id": "d905dd4e",
   "metadata": {
    "deletable": true,
    "editable": true,
    "frozen": false
   },
   "outputs": [],
   "source": [
    "set(v[v[\"State_Code\"].isin([\" MD\"])][\"Batch_ID\"].tolist())"
   ]
  },
  {
   "cell_type": "code",
   "execution_count": null,
   "id": "c843d0ae",
   "metadata": {
    "deletable": true,
    "editable": true,
    "frozen": false
   },
   "outputs": [],
   "source": [
    "set(v[v[\"State_Code\"].isin([\" CA\"])][\"Batch_ID\"].tolist())"
   ]
  },
  {
   "cell_type": "code",
   "execution_count": null,
   "id": "746d2147",
   "metadata": {
    "deletable": true,
    "editable": true,
    "frozen": false
   },
   "outputs": [],
   "source": [
    "set(v[v[\"State_Code\"].isin([\" TX\"])][\"Batch_ID\"].tolist())"
   ]
  },
  {
   "cell_type": "code",
   "execution_count": null,
   "id": "86b135cb",
   "metadata": {
    "deletable": true,
    "editable": true,
    "frozen": false
   },
   "outputs": [],
   "source": [
    "v = pd1.copy()\n",
    "v = v.drop_duplicates(keep=\"first\")\n",
    "# v = v[v[\"Field\"].isin(['Buyer/Borrower/Defendant 1 First Name Or Company Name','Buyer/Borrower/Defendant 1 Last Name Or Company Code','Seller 1 First name','Seller 1 Last name'])]\n",
    "# v = v[v[\"Field\"].isin(['Property Street Address (Part 1)','Property Street Address (Part 2)'])]\n",
    "\n",
    "# v = v[v[\"Deed_Category\"].isin([' G',' Q'])]\n",
    "# v = v[v[\"State_Code\"].isin([' FL',' MD',' OH',' CA',' TX'])]\n",
    "v = v[v[\"State_Code\"].isin([\"TX\"])]\n",
    "# print(\"state code:\",v)\n",
    "v = v[v[\"Document_Type\"].isin([\"MORTGAGE\"])]\n",
    "print(\"Document_Type:\", v)\n",
    "\n",
    "v = v[v[\"Deed_Category\"].isin([\" T\"])]\n",
    "v = v[v[\"Compare\"] == \"Y\"]\n",
    "\n",
    "# v\n",
    "\n",
    "df2 = v[\"Batch_ID\"]\n",
    "df2.to_csv(r\"\\\\filer-argentina-dev\\Argentina\\Shared Folder\\Suraj\\aug_mortgage.csv\")\n",
    "\n",
    "\n",
    "# df2=v['Batch_ID']\n",
    "# #no .of fields\n",
    "# if df2.value_counts()==4:\n",
    "#     print(df2)\n",
    "\n",
    "\n",
    "# max.value_counts(dropna=false)\n",
    "# max"
   ]
  },
  {
   "cell_type": "code",
   "execution_count": null,
   "id": "197503c7",
   "metadata": {
    "deletable": true,
    "editable": true,
    "frozen": false
   },
   "outputs": [],
   "source": [
    "df2.head()"
   ]
  },
  {
   "cell_type": "code",
   "execution_count": null,
   "id": "5ecaf1c8",
   "metadata": {
    "deletable": true,
    "editable": true,
    "frozen": false
   },
   "outputs": [],
   "source": [
    "v[\"Document_Type\"]"
   ]
  },
  {
   "cell_type": "code",
   "execution_count": null,
   "id": "eaf2fc88",
   "metadata": {
    "deletable": true,
    "editable": true,
    "frozen": false
   },
   "outputs": [],
   "source": [
    "b = v[[\"Batch_ID\"]].values.tolist()"
   ]
  },
  {
   "cell_type": "code",
   "execution_count": null,
   "id": "4090f3d4",
   "metadata": {
    "deletable": true,
    "editable": true,
    "frozen": false
   },
   "outputs": [],
   "source": [
    "len(b)"
   ]
  },
  {
   "cell_type": "code",
   "execution_count": null,
   "id": "885ab31b",
   "metadata": {
    "deletable": true,
    "editable": true,
    "frozen": false
   },
   "outputs": [],
   "source": [
    "print(\",\".join(str(val[0]) for val in b[:999]))"
   ]
  },
  {
   "cell_type": "code",
   "execution_count": null,
   "id": "06a44394",
   "metadata": {
    "deletable": true,
    "editable": true,
    "frozen": false
   },
   "outputs": [],
   "source": [
    "\",\".join(str(val[0]) for val in b[999:1999])"
   ]
  },
  {
   "cell_type": "code",
   "execution_count": 61,
   "id": "daf4e42d",
   "metadata": {
    "deletable": true,
    "editable": true,
    "frozen": false
   },
   "outputs": [],
   "source": [
    "b = [\n",
    "    46927782,\n",
    "    46927770,\n",
    "    46801562,\n",
    "    46470813,\n",
    "    46927788,\n",
    "    46801278,\n",
    "    46885478,\n",
    "    46801588,\n",
    "    46564606,\n",
    "    47247130,\n",
    "    46564694,\n",
    "    46927707,\n",
    "    46927777,\n",
    "    46927762,\n",
    "    46801447,\n",
    "    46927765,\n",
    "]"
   ]
  },
  {
   "cell_type": "code",
   "execution_count": 1,
   "id": "89a29d92-e144-4a0e-aefe-51fe5b88f7aa",
   "metadata": {
    "deletable": true,
    "editable": true,
    "frozen": false
   },
   "outputs": [],
   "source": [
    "b = [2632855,2632854,2632853,2632851,2632848,2632847,2632845,2628745,2628740]"
   ]
  },
  {
   "cell_type": "markdown",
   "id": "b78a4544-30bd-4c6b-9b22-750d3bad650e",
   "metadata": {
    "deletable": true,
    "editable": true,
    "frozen": false
   },
   "source": [
    "# Parellel download"
   ]
  },
  {
   "cell_type": "code",
   "execution_count": null,
   "id": "f7d630b7-ecd0-4f82-8576-eae064f51a90",
   "metadata": {
    "deletable": true,
    "editable": true,
    "frozen": false
   },
   "outputs": [],
   "source": [
    "from pathlib import Path\n",
    "from urllib.request import urlretrieve"
   ]
  },
  {
   "cell_type": "code",
   "execution_count": 2,
   "id": "a5b0d16a-fbd6-43b3-a058-3660d462fa6e",
   "metadata": {
    "deletable": true,
    "editable": true,
    "frozen": false
   },
   "outputs": [],
   "source": [
    "from concurrent.futures import ThreadPoolExecutor"
   ]
  },
  {
   "cell_type": "markdown",
   "id": "38d935b9-506f-4bb3-b668-525959a5ad1a",
   "metadata": {
    "deletable": true,
    "editable": true,
    "frozen": false
   },
   "source": [
    "zip_path = fr\"{path}\\{batchid\"\n",
    "k = urlretrieve(rf\"https://clvisiontowerb.kfusw1prd.solutions.corelogic.com//download.php?path=ServerFiles/Pagesanddata/{batchid}/&zip={batchid}.zip&cond=Postprocessing&auto=Off\", f\"{zip_path}.zip\")"
   ]
  },
  {
   "cell_type": "code",
   "execution_count": 13,
   "id": "50aa3798-7cf3-46a3-bcde-e07cfa1b0aa0",
   "metadata": {
    "deletable": true,
    "editable": true,
    "frozen": false
   },
   "outputs": [],
   "source": [
    "# for i, f in enumerate(folder.glob(\"**/*.txt\")):\n",
    "i=1\n",
    "def helper(batchid):\n",
    "    zip_path = f\"ok_retest/{batchid}.zip\"\n",
    "    k = urlretrieve(\n",
    "        rf\"https://clvisiontowerb.kfusw1prd.solutions.corelogic.com//download.php?path=ServerFiles/Pagesanddata/{batchid}/&zip={batchid}.zip&cond=Postprocessing&auto=Off\",\n",
    "        zip_path,\n",
    "    )\n",
    "    print(f\"{zip_path = }\")\n",
    "    print(i, k)\n",
    "    print(zip_path.stat().st_size / 1024)\n",
    "    i+=1\n",
    "    print(\"=====================\")"
   ]
  },
  {
   "cell_type": "code",
   "execution_count": 1,
   "id": "c9e107ce-a060-453d-ad94-3c8e318936ac",
   "metadata": {
    "deletable": true,
    "editable": true,
    "frozen": false
   },
   "outputs": [],
   "source": [
    "b = [53035992,53035991,53035990,52617689,52617697,52617698,52617702,52617708,52617709,52617718,53035988,53035987,52617731,53035981,53035978,53035974,53035972,53035971,53035970,53035968,53035962,53035860,53035859,53035857,53035855,53035854,53035851,53035850,53035848,53035847,52880952,52880948,52880946,52880945,52880944,52880943,52880942,52880941,52880940,52880939,52880938,52880936,52880935,52880933,52880932,52880930,52836336,52836335,52836329,52836328,52836324,52792452,52792448,52792447,52792446,52792444,52792440,52792439,52792438,52792435,52792432,52792431,52792429,52792428,52792421,52753419,52753411,52753410,52753408,52753407,52753406,52753404,52753403,52753401,52753400,52753398,52753397,52753396,52753395,52753394,52707381,52707380,52707379,52707378,52707376,52707374,52707373,52707369,52707368,52707367,52667675,52667674,52667671,52667669,52667663,52667662,52667661,52667658,52667657]"
   ]
  },
  {
   "cell_type": "code",
   "execution_count": null,
   "id": "bcbff151-7245-4e9a-a006-e26496e24b95",
   "metadata": {
    "deletable": true,
    "editable": true,
    "frozen": false
   },
   "outputs": [],
   "source": [
    "with ThreadPoolExecutor(max_workers=100) as exe:\n",
    "    exe.map(helper,b)"
   ]
  },
  {
   "cell_type": "markdown",
   "id": "13b23cab-1baa-4ad3-9e42-a21bc7aa973b",
   "metadata": {
    "deletable": true,
    "editable": true,
    "frozen": false
   },
   "source": [
    "# Serialwise download"
   ]
  },
  {
   "cell_type": "code",
   "execution_count": 3,
   "id": "269adb7b-668e-47ad-b2e8-e39f21cf0946",
   "metadata": {
    "deletable": true,
    "editable": true,
    "frozen": false
   },
   "outputs": [
    {
     "name": "stdout",
     "output_type": "stream",
     "text": [
      "1 ('ok_retest/53035992.zip', <http.client.HTTPMessage object at 0x00000233AF391C10>)\n",
      "2 ('ok_retest/53035991.zip', <http.client.HTTPMessage object at 0x00000233AFEE5C50>)\n",
      "3 ('ok_retest/53035990.zip', <http.client.HTTPMessage object at 0x00000233B0050BD0>)\n",
      "4 ('ok_retest/52617689.zip', <http.client.HTTPMessage object at 0x00000233B0032CD0>)\n",
      "5 ('ok_retest/52617697.zip', <http.client.HTTPMessage object at 0x00000233B0052250>)\n",
      "6 ('ok_retest/52617698.zip', <http.client.HTTPMessage object at 0x00000233B0050090>)\n",
      "7 ('ok_retest/52617702.zip', <http.client.HTTPMessage object at 0x00000233B0052F10>)\n",
      "8 ('ok_retest/52617708.zip', <http.client.HTTPMessage object at 0x00000233B0050490>)\n",
      "9 ('ok_retest/52617709.zip', <http.client.HTTPMessage object at 0x00000233B0050ED0>)\n",
      "10 ('ok_retest/52617718.zip', <http.client.HTTPMessage object at 0x00000233B0053110>)\n",
      "11 ('ok_retest/53035988.zip', <http.client.HTTPMessage object at 0x00000233B0050990>)\n",
      "12 ('ok_retest/53035987.zip', <http.client.HTTPMessage object at 0x00000233B0051710>)\n",
      "13 ('ok_retest/52617731.zip', <http.client.HTTPMessage object at 0x00000233B0050D50>)\n",
      "14 ('ok_retest/53035981.zip', <http.client.HTTPMessage object at 0x00000233B0051550>)\n",
      "15 ('ok_retest/53035978.zip', <http.client.HTTPMessage object at 0x00000233B0050B10>)\n",
      "16 ('ok_retest/53035974.zip', <http.client.HTTPMessage object at 0x00000233B0052410>)\n",
      "17 ('ok_retest/53035972.zip', <http.client.HTTPMessage object at 0x00000233B0052050>)\n",
      "18 ('ok_retest/53035971.zip', <http.client.HTTPMessage object at 0x00000233B00537D0>)\n",
      "19 ('ok_retest/53035970.zip', <http.client.HTTPMessage object at 0x00000233B0050B90>)\n",
      "20 ('ok_retest/53035968.zip', <http.client.HTTPMessage object at 0x00000233B0021ED0>)\n",
      "21 ('ok_retest/53035962.zip', <http.client.HTTPMessage object at 0x00000233B00230D0>)\n",
      "22 ('ok_retest/53035860.zip', <http.client.HTTPMessage object at 0x00000233B0022C50>)\n",
      "23 ('ok_retest/53035859.zip', <http.client.HTTPMessage object at 0x00000233B00209D0>)\n",
      "24 ('ok_retest/53035857.zip', <http.client.HTTPMessage object at 0x00000233B0021210>)\n",
      "25 ('ok_retest/53035855.zip', <http.client.HTTPMessage object at 0x00000233B00224D0>)\n",
      "26 ('ok_retest/53035854.zip', <http.client.HTTPMessage object at 0x00000233B0020790>)\n",
      "27 ('ok_retest/53035851.zip', <http.client.HTTPMessage object at 0x00000233B0021CD0>)\n",
      "28 ('ok_retest/53035850.zip', <http.client.HTTPMessage object at 0x00000233B0023D50>)\n",
      "29 ('ok_retest/53035848.zip', <http.client.HTTPMessage object at 0x00000233B001AA10>)\n",
      "30 ('ok_retest/53035847.zip', <http.client.HTTPMessage object at 0x00000233B00197D0>)\n",
      "31 ('ok_retest/52880952.zip', <http.client.HTTPMessage object at 0x00000233B0019C50>)\n",
      "32 ('ok_retest/52880948.zip', <http.client.HTTPMessage object at 0x00000233B001B790>)\n",
      "33 ('ok_retest/52880946.zip', <http.client.HTTPMessage object at 0x00000233B001BA50>)\n",
      "34 ('ok_retest/52880945.zip', <http.client.HTTPMessage object at 0x00000233B001B610>)\n",
      "35 ('ok_retest/52880944.zip', <http.client.HTTPMessage object at 0x00000233B001BE90>)\n",
      "36 ('ok_retest/52880943.zip', <http.client.HTTPMessage object at 0x00000233B00194D0>)\n",
      "37 ('ok_retest/52880942.zip', <http.client.HTTPMessage object at 0x00000233B0040BD0>)\n",
      "38 ('ok_retest/52880941.zip', <http.client.HTTPMessage object at 0x00000233B00404D0>)\n",
      "39 ('ok_retest/52880940.zip', <http.client.HTTPMessage object at 0x00000233B0040990>)\n",
      "40 ('ok_retest/52880939.zip', <http.client.HTTPMessage object at 0x00000233B00413D0>)\n",
      "41 ('ok_retest/52880938.zip', <http.client.HTTPMessage object at 0x00000233B0040BD0>)\n",
      "42 ('ok_retest/52880936.zip', <http.client.HTTPMessage object at 0x00000233B0041450>)\n",
      "43 ('ok_retest/52880935.zip', <http.client.HTTPMessage object at 0x00000233B0041410>)\n",
      "44 ('ok_retest/52880933.zip', <http.client.HTTPMessage object at 0x00000233B00413D0>)\n",
      "45 ('ok_retest/52880932.zip', <http.client.HTTPMessage object at 0x00000233B0040D10>)\n",
      "46 ('ok_retest/52880930.zip', <http.client.HTTPMessage object at 0x00000233B0041690>)\n",
      "47 ('ok_retest/52836336.zip', <http.client.HTTPMessage object at 0x00000233B0043590>)\n",
      "48 ('ok_retest/52836335.zip', <http.client.HTTPMessage object at 0x00000233B0042910>)\n",
      "49 ('ok_retest/52836329.zip', <http.client.HTTPMessage object at 0x00000233B0042850>)\n",
      "50 ('ok_retest/52836328.zip', <http.client.HTTPMessage object at 0x00000233B0041F90>)\n",
      "51 ('ok_retest/52836324.zip', <http.client.HTTPMessage object at 0x00000233B0040910>)\n",
      "52 ('ok_retest/52792452.zip', <http.client.HTTPMessage object at 0x00000233B005C990>)\n",
      "53 ('ok_retest/52792448.zip', <http.client.HTTPMessage object at 0x00000233B005D710>)\n",
      "54 ('ok_retest/52792447.zip', <http.client.HTTPMessage object at 0x00000233B005D7D0>)\n",
      "55 ('ok_retest/52792446.zip', <http.client.HTTPMessage object at 0x00000233B005ED50>)\n",
      "56 ('ok_retest/52792444.zip', <http.client.HTTPMessage object at 0x00000233B005FC90>)\n",
      "57 ('ok_retest/52792440.zip', <http.client.HTTPMessage object at 0x00000233B005E410>)\n",
      "58 ('ok_retest/52792439.zip', <http.client.HTTPMessage object at 0x00000233B005C4D0>)\n",
      "59 ('ok_retest/52792438.zip', <http.client.HTTPMessage object at 0x00000233B005E390>)\n",
      "60 ('ok_retest/52792435.zip', <http.client.HTTPMessage object at 0x00000233B005E110>)\n",
      "61 ('ok_retest/52792432.zip', <http.client.HTTPMessage object at 0x00000233B005C650>)\n",
      "62 ('ok_retest/52792431.zip', <http.client.HTTPMessage object at 0x00000233B005C550>)\n",
      "63 ('ok_retest/52792429.zip', <http.client.HTTPMessage object at 0x00000233B005E310>)\n",
      "64 ('ok_retest/52792428.zip', <http.client.HTTPMessage object at 0x00000233B005C890>)\n",
      "65 ('ok_retest/52792421.zip', <http.client.HTTPMessage object at 0x00000233B005EFD0>)\n",
      "66 ('ok_retest/52753419.zip', <http.client.HTTPMessage object at 0x00000233B005D210>)\n",
      "67 ('ok_retest/52753411.zip', <http.client.HTTPMessage object at 0x00000233B005D2D0>)\n",
      "68 ('ok_retest/52753410.zip', <http.client.HTTPMessage object at 0x00000233B005D990>)\n",
      "69 ('ok_retest/52753408.zip', <http.client.HTTPMessage object at 0x00000233B005D450>)\n",
      "70 ('ok_retest/52753407.zip', <http.client.HTTPMessage object at 0x00000233B005DA10>)\n",
      "71 ('ok_retest/52753406.zip', <http.client.HTTPMessage object at 0x00000233B005FD50>)\n",
      "72 ('ok_retest/52753404.zip', <http.client.HTTPMessage object at 0x00000233B005E550>)\n",
      "73 ('ok_retest/52753403.zip', <http.client.HTTPMessage object at 0x00000233B005F250>)\n",
      "74 ('ok_retest/52753401.zip', <http.client.HTTPMessage object at 0x00000233B005D190>)\n",
      "75 ('ok_retest/52753400.zip', <http.client.HTTPMessage object at 0x00000233B005CE90>)\n",
      "76 ('ok_retest/52753398.zip', <http.client.HTTPMessage object at 0x00000233B005EAD0>)\n",
      "77 ('ok_retest/52753397.zip', <http.client.HTTPMessage object at 0x00000233B005F390>)\n",
      "78 ('ok_retest/52753396.zip', <http.client.HTTPMessage object at 0x00000233B005EB10>)\n",
      "79 ('ok_retest/52753395.zip', <http.client.HTTPMessage object at 0x00000233B005E410>)\n",
      "80 ('ok_retest/52753394.zip', <http.client.HTTPMessage object at 0x00000233B005FA10>)\n",
      "81 ('ok_retest/52707381.zip', <http.client.HTTPMessage object at 0x00000233B005E750>)\n",
      "82 ('ok_retest/52707380.zip', <http.client.HTTPMessage object at 0x00000233B005FE10>)\n",
      "83 ('ok_retest/52707379.zip', <http.client.HTTPMessage object at 0x00000233B002F610>)\n",
      "84 ('ok_retest/52707378.zip', <http.client.HTTPMessage object at 0x00000233B005C290>)\n",
      "85 ('ok_retest/52707376.zip', <http.client.HTTPMessage object at 0x00000233B002D510>)\n",
      "86 ('ok_retest/52707374.zip', <http.client.HTTPMessage object at 0x00000233B002D1D0>)\n",
      "87 ('ok_retest/52707373.zip', <http.client.HTTPMessage object at 0x00000233B002FD90>)\n",
      "88 ('ok_retest/52707369.zip', <http.client.HTTPMessage object at 0x00000233B002D0D0>)\n",
      "89 ('ok_retest/52707368.zip', <http.client.HTTPMessage object at 0x00000233B002EBD0>)\n",
      "90 ('ok_retest/52707367.zip', <http.client.HTTPMessage object at 0x00000233B002EE90>)\n",
      "91 ('ok_retest/52667675.zip', <http.client.HTTPMessage object at 0x00000233B002E110>)\n",
      "92 ('ok_retest/52667674.zip', <http.client.HTTPMessage object at 0x00000233B002EFD0>)\n",
      "93 ('ok_retest/52667671.zip', <http.client.HTTPMessage object at 0x00000233B002F050>)\n",
      "94 ('ok_retest/52667669.zip', <http.client.HTTPMessage object at 0x00000233B002F150>)\n",
      "95 ('ok_retest/52667663.zip', <http.client.HTTPMessage object at 0x00000233B002DF90>)\n",
      "96 ('ok_retest/52667662.zip', <http.client.HTTPMessage object at 0x00000233B002CC10>)\n",
      "97 ('ok_retest/52667661.zip', <http.client.HTTPMessage object at 0x00000233B002E690>)\n",
      "98 ('ok_retest/52667658.zip', <http.client.HTTPMessage object at 0x00000233B002CB50>)\n",
      "99 ('ok_retest/52667657.zip', <http.client.HTTPMessage object at 0x00000233B002C390>)\n"
     ]
    }
   ],
   "source": [
    "from urllib.request import urlretrieve\n",
    "\n",
    "for i, batchid in enumerate(b):\n",
    "    k = urlretrieve(rf\"https://clvisiontowerb.kfusw1prd.solutions.corelogic.com/download.php?path=ServerFiles/Pagesanddata/{batchid}/&zip={batchid}.zip&cond=Postprocessing&auto=Off\", f\"ok_retest/{batchid}.zip\")\n",
    "    # k = urlretrieve(\n",
    "    #     rf\"https://dev-ctt-googlevision-clvisiontowerb.kfusw1dev.solutions.corelogic.com/download.php?path=ServerFiles/Pagesanddata/{batchid}/&zip={batchid}.zip&cond=Postprocessing&auto=Off\",\n",
    "    #     f\"ok_retest/{batchid}.zip\",\n",
    "    # )\n",
    "    # k = urlretrieve(\n",
    "    #     rf\"https://uat-clvisiontowerb.kfusw1uat.solutions.corelogic.com/download.php?path=ServerFiles/Pagesanddata/{batchid}/&zip={batchid}.zip&cond=Postprocessing&auto=Off\",\n",
    "    #     f\"{batchid}.zip\",\n",
    "    # )\n",
    "    print(i + 1, k)"
   ]
  },
  {
   "cell_type": "code",
   "execution_count": 4,
   "id": "7874e44f-1c38-4b43-b022-cceeb7d73d3a",
   "metadata": {
    "deletable": true,
    "editable": true,
    "frozen": false
   },
   "outputs": [],
   "source": [
    "%load_ext autoreload\n",
    "%autoreload 2"
   ]
  },
  {
   "cell_type": "code",
   "execution_count": 5,
   "id": "967283d1-a247-42c0-b420-17e304c178c6",
   "metadata": {
    "deletable": true,
    "editable": true,
    "frozen": false
   },
   "outputs": [],
   "source": [
    "from rich.console import Console\n",
    "from rich.table import Table\n",
    "from rich.progress import track"
   ]
  },
  {
   "cell_type": "markdown",
   "id": "f37dc28a-323e-4252-8db0-b27d306e25f3",
   "metadata": {
    "deletable": true,
    "editable": true,
    "frozen": false
   },
   "source": [
    "b93 =[2635901,2637159,2637177,2637185,2637187,2637196,2637436,2638213,2638223,2638251,2638256,2638258,2641548,2641560,2641711,2641712,2641794,2641803,2641831,2641834,2641838,2641998,2642449,2642451,2642457,2642458,2642461,2642462,2642484,2642486,2642487,2642493,2642973]"
   ]
  },
  {
   "cell_type": "code",
   "execution_count": 17,
   "id": "d07142f9-5382-489b-b5e5-2c46b676f022",
   "metadata": {
    "deletable": true,
    "editable": true,
    "frozen": false
   },
   "outputs": [
    {
     "data": {
      "application/vnd.jupyter.widget-view+json": {
       "model_id": "3ad4d8c8060141679bac28592068ce37",
       "version_major": 2,
       "version_minor": 0
      },
      "text/plain": [
       "Output()"
      ]
     },
     "metadata": {},
     "output_type": "display_data"
    },
    {
     "data": {
      "text/html": [
       "<pre style=\"white-space:pre;overflow-x:auto;line-height:normal;font-family:Menlo,'DejaVu Sans Mono',consolas,'Courier New',monospace\">\"There is no item named 'spacy.json' in the archive\" 52617689\n",
       "</pre>\n"
      ],
      "text/plain": [
       "\"There is no item named 'spacy.json' in the archive\" 52617689\n"
      ]
     },
     "metadata": {},
     "output_type": "display_data"
    },
    {
     "data": {
      "text/html": [
       "<pre style=\"white-space:pre;overflow-x:auto;line-height:normal;font-family:Menlo,'DejaVu Sans Mono',consolas,'Courier New',monospace\">\"There is no item named 'spacy.json' in the archive\" 52617697\n",
       "</pre>\n"
      ],
      "text/plain": [
       "\"There is no item named 'spacy.json' in the archive\" 52617697\n"
      ]
     },
     "metadata": {},
     "output_type": "display_data"
    },
    {
     "data": {
      "text/html": [
       "<pre style=\"white-space:pre;overflow-x:auto;line-height:normal;font-family:Menlo,'DejaVu Sans Mono',consolas,'Courier New',monospace\">\"There is no item named 'spacy.json' in the archive\" 52617698\n",
       "</pre>\n"
      ],
      "text/plain": [
       "\"There is no item named 'spacy.json' in the archive\" 52617698\n"
      ]
     },
     "metadata": {},
     "output_type": "display_data"
    },
    {
     "data": {
      "text/html": [
       "<pre style=\"white-space:pre;overflow-x:auto;line-height:normal;font-family:Menlo,'DejaVu Sans Mono',consolas,'Courier New',monospace\">\"There is no item named 'spacy.json' in the archive\" 52617702\n",
       "</pre>\n"
      ],
      "text/plain": [
       "\"There is no item named 'spacy.json' in the archive\" 52617702\n"
      ]
     },
     "metadata": {},
     "output_type": "display_data"
    },
    {
     "data": {
      "text/html": [
       "<pre style=\"white-space:pre;overflow-x:auto;line-height:normal;font-family:Menlo,'DejaVu Sans Mono',consolas,'Courier New',monospace\">\"There is no item named 'spacy.json' in the archive\" 52617708\n",
       "</pre>\n"
      ],
      "text/plain": [
       "\"There is no item named 'spacy.json' in the archive\" 52617708\n"
      ]
     },
     "metadata": {},
     "output_type": "display_data"
    },
    {
     "data": {
      "text/html": [
       "<pre style=\"white-space:pre;overflow-x:auto;line-height:normal;font-family:Menlo,'DejaVu Sans Mono',consolas,'Courier New',monospace\">\"There is no item named 'spacy.json' in the archive\" 52617709\n",
       "</pre>\n"
      ],
      "text/plain": [
       "\"There is no item named 'spacy.json' in the archive\" 52617709\n"
      ]
     },
     "metadata": {},
     "output_type": "display_data"
    },
    {
     "data": {
      "text/html": [
       "<pre style=\"white-space:pre;overflow-x:auto;line-height:normal;font-family:Menlo,'DejaVu Sans Mono',consolas,'Courier New',monospace\">\"There is no item named 'spacy.json' in the archive\" 52617718\n",
       "</pre>\n"
      ],
      "text/plain": [
       "\"There is no item named 'spacy.json' in the archive\" 52617718\n"
      ]
     },
     "metadata": {},
     "output_type": "display_data"
    },
    {
     "data": {
      "text/html": [
       "<pre style=\"white-space:pre;overflow-x:auto;line-height:normal;font-family:Menlo,'DejaVu Sans Mono',consolas,'Courier New',monospace\">\"There is no item named 'spacy.json' in the archive\" 52617731\n",
       "</pre>\n"
      ],
      "text/plain": [
       "\"There is no item named 'spacy.json' in the archive\" 52617731\n"
      ]
     },
     "metadata": {},
     "output_type": "display_data"
    },
    {
     "data": {
      "text/html": [
       "<pre style=\"white-space:pre;overflow-x:auto;line-height:normal;font-family:Menlo,'DejaVu Sans Mono',consolas,'Courier New',monospace\">\"There is no item named 'spacy.json' in the archive\" 52667657\n",
       "</pre>\n"
      ],
      "text/plain": [
       "\"There is no item named 'spacy.json' in the archive\" 52667657\n"
      ]
     },
     "metadata": {},
     "output_type": "display_data"
    },
    {
     "data": {
      "text/html": [
       "<pre style=\"white-space:pre;overflow-x:auto;line-height:normal;font-family:Menlo,'DejaVu Sans Mono',consolas,'Courier New',monospace\">\"There is no item named 'spacy.json' in the archive\" 52667658\n",
       "</pre>\n"
      ],
      "text/plain": [
       "\"There is no item named 'spacy.json' in the archive\" 52667658\n"
      ]
     },
     "metadata": {},
     "output_type": "display_data"
    },
    {
     "data": {
      "text/html": [
       "<pre style=\"white-space:pre;overflow-x:auto;line-height:normal;font-family:Menlo,'DejaVu Sans Mono',consolas,'Courier New',monospace\">\"There is no item named 'spacy.json' in the archive\" 52667661\n",
       "</pre>\n"
      ],
      "text/plain": [
       "\"There is no item named 'spacy.json' in the archive\" 52667661\n"
      ]
     },
     "metadata": {},
     "output_type": "display_data"
    },
    {
     "data": {
      "text/html": [
       "<pre style=\"white-space:pre;overflow-x:auto;line-height:normal;font-family:Menlo,'DejaVu Sans Mono',consolas,'Courier New',monospace\">\"There is no item named 'spacy.json' in the archive\" 52667662\n",
       "</pre>\n"
      ],
      "text/plain": [
       "\"There is no item named 'spacy.json' in the archive\" 52667662\n"
      ]
     },
     "metadata": {},
     "output_type": "display_data"
    },
    {
     "data": {
      "text/html": [
       "<pre style=\"white-space:pre;overflow-x:auto;line-height:normal;font-family:Menlo,'DejaVu Sans Mono',consolas,'Courier New',monospace\">\"There is no item named 'spacy.json' in the archive\" 52667663\n",
       "</pre>\n"
      ],
      "text/plain": [
       "\"There is no item named 'spacy.json' in the archive\" 52667663\n"
      ]
     },
     "metadata": {},
     "output_type": "display_data"
    },
    {
     "data": {
      "text/html": [
       "<pre style=\"white-space:pre;overflow-x:auto;line-height:normal;font-family:Menlo,'DejaVu Sans Mono',consolas,'Courier New',monospace\">\"There is no item named 'spacy.json' in the archive\" 52667669\n",
       "</pre>\n"
      ],
      "text/plain": [
       "\"There is no item named 'spacy.json' in the archive\" 52667669\n"
      ]
     },
     "metadata": {},
     "output_type": "display_data"
    },
    {
     "data": {
      "text/html": [
       "<pre style=\"white-space:pre;overflow-x:auto;line-height:normal;font-family:Menlo,'DejaVu Sans Mono',consolas,'Courier New',monospace\">\"There is no item named 'spacy.json' in the archive\" 52667671\n",
       "</pre>\n"
      ],
      "text/plain": [
       "\"There is no item named 'spacy.json' in the archive\" 52667671\n"
      ]
     },
     "metadata": {},
     "output_type": "display_data"
    },
    {
     "data": {
      "text/html": [
       "<pre style=\"white-space:pre;overflow-x:auto;line-height:normal;font-family:Menlo,'DejaVu Sans Mono',consolas,'Courier New',monospace\">\"There is no item named 'spacy.json' in the archive\" 52667674\n",
       "</pre>\n"
      ],
      "text/plain": [
       "\"There is no item named 'spacy.json' in the archive\" 52667674\n"
      ]
     },
     "metadata": {},
     "output_type": "display_data"
    },
    {
     "data": {
      "text/html": [
       "<pre style=\"white-space:pre;overflow-x:auto;line-height:normal;font-family:Menlo,'DejaVu Sans Mono',consolas,'Courier New',monospace\">\"There is no item named 'spacy.json' in the archive\" 52667675\n",
       "</pre>\n"
      ],
      "text/plain": [
       "\"There is no item named 'spacy.json' in the archive\" 52667675\n"
      ]
     },
     "metadata": {},
     "output_type": "display_data"
    },
    {
     "data": {
      "text/html": [
       "<pre style=\"white-space:pre;overflow-x:auto;line-height:normal;font-family:Menlo,'DejaVu Sans Mono',consolas,'Courier New',monospace\">\"There is no item named 'spacy.json' in the archive\" 52707367\n",
       "</pre>\n"
      ],
      "text/plain": [
       "\"There is no item named 'spacy.json' in the archive\" 52707367\n"
      ]
     },
     "metadata": {},
     "output_type": "display_data"
    },
    {
     "data": {
      "text/html": [
       "<pre style=\"white-space:pre;overflow-x:auto;line-height:normal;font-family:Menlo,'DejaVu Sans Mono',consolas,'Courier New',monospace\">\"There is no item named 'spacy.json' in the archive\" 52707368\n",
       "</pre>\n"
      ],
      "text/plain": [
       "\"There is no item named 'spacy.json' in the archive\" 52707368\n"
      ]
     },
     "metadata": {},
     "output_type": "display_data"
    },
    {
     "data": {
      "text/html": [
       "<pre style=\"white-space:pre;overflow-x:auto;line-height:normal;font-family:Menlo,'DejaVu Sans Mono',consolas,'Courier New',monospace\">\"There is no item named 'spacy.json' in the archive\" 52707369\n",
       "</pre>\n"
      ],
      "text/plain": [
       "\"There is no item named 'spacy.json' in the archive\" 52707369\n"
      ]
     },
     "metadata": {},
     "output_type": "display_data"
    },
    {
     "data": {
      "text/html": [
       "<pre style=\"white-space:pre;overflow-x:auto;line-height:normal;font-family:Menlo,'DejaVu Sans Mono',consolas,'Courier New',monospace\">\"There is no item named 'spacy.json' in the archive\" 52707373\n",
       "</pre>\n"
      ],
      "text/plain": [
       "\"There is no item named 'spacy.json' in the archive\" 52707373\n"
      ]
     },
     "metadata": {},
     "output_type": "display_data"
    },
    {
     "data": {
      "text/html": [
       "<pre style=\"white-space:pre;overflow-x:auto;line-height:normal;font-family:Menlo,'DejaVu Sans Mono',consolas,'Courier New',monospace\">\"There is no item named 'spacy.json' in the archive\" 52707374\n",
       "</pre>\n"
      ],
      "text/plain": [
       "\"There is no item named 'spacy.json' in the archive\" 52707374\n"
      ]
     },
     "metadata": {},
     "output_type": "display_data"
    },
    {
     "data": {
      "text/html": [
       "<pre style=\"white-space:pre;overflow-x:auto;line-height:normal;font-family:Menlo,'DejaVu Sans Mono',consolas,'Courier New',monospace\">\"There is no item named 'spacy.json' in the archive\" 52707376\n",
       "</pre>\n"
      ],
      "text/plain": [
       "\"There is no item named 'spacy.json' in the archive\" 52707376\n"
      ]
     },
     "metadata": {},
     "output_type": "display_data"
    },
    {
     "data": {
      "text/html": [
       "<pre style=\"white-space:pre;overflow-x:auto;line-height:normal;font-family:Menlo,'DejaVu Sans Mono',consolas,'Courier New',monospace\">\"There is no item named 'spacy.json' in the archive\" 52707378\n",
       "</pre>\n"
      ],
      "text/plain": [
       "\"There is no item named 'spacy.json' in the archive\" 52707378\n"
      ]
     },
     "metadata": {},
     "output_type": "display_data"
    },
    {
     "data": {
      "text/html": [
       "<pre style=\"white-space:pre;overflow-x:auto;line-height:normal;font-family:Menlo,'DejaVu Sans Mono',consolas,'Courier New',monospace\">\"There is no item named 'spacy.json' in the archive\" 52707379\n",
       "</pre>\n"
      ],
      "text/plain": [
       "\"There is no item named 'spacy.json' in the archive\" 52707379\n"
      ]
     },
     "metadata": {},
     "output_type": "display_data"
    },
    {
     "data": {
      "text/html": [
       "<pre style=\"white-space:pre;overflow-x:auto;line-height:normal;font-family:Menlo,'DejaVu Sans Mono',consolas,'Courier New',monospace\">\"There is no item named 'spacy.json' in the archive\" 52707380\n",
       "</pre>\n"
      ],
      "text/plain": [
       "\"There is no item named 'spacy.json' in the archive\" 52707380\n"
      ]
     },
     "metadata": {},
     "output_type": "display_data"
    },
    {
     "data": {
      "text/html": [
       "<pre style=\"white-space:pre;overflow-x:auto;line-height:normal;font-family:Menlo,'DejaVu Sans Mono',consolas,'Courier New',monospace\">\"There is no item named 'spacy.json' in the archive\" 52707381\n",
       "</pre>\n"
      ],
      "text/plain": [
       "\"There is no item named 'spacy.json' in the archive\" 52707381\n"
      ]
     },
     "metadata": {},
     "output_type": "display_data"
    },
    {
     "data": {
      "text/html": [
       "<pre style=\"white-space:pre;overflow-x:auto;line-height:normal;font-family:Menlo,'DejaVu Sans Mono',consolas,'Courier New',monospace\">\"There is no item named 'spacy.json' in the archive\" 52753394\n",
       "</pre>\n"
      ],
      "text/plain": [
       "\"There is no item named 'spacy.json' in the archive\" 52753394\n"
      ]
     },
     "metadata": {},
     "output_type": "display_data"
    },
    {
     "data": {
      "text/html": [
       "<pre style=\"white-space:pre;overflow-x:auto;line-height:normal;font-family:Menlo,'DejaVu Sans Mono',consolas,'Courier New',monospace\">\"There is no item named 'spacy.json' in the archive\" 52753395\n",
       "</pre>\n"
      ],
      "text/plain": [
       "\"There is no item named 'spacy.json' in the archive\" 52753395\n"
      ]
     },
     "metadata": {},
     "output_type": "display_data"
    },
    {
     "data": {
      "text/html": [
       "<pre style=\"white-space:pre;overflow-x:auto;line-height:normal;font-family:Menlo,'DejaVu Sans Mono',consolas,'Courier New',monospace\">\"There is no item named 'spacy.json' in the archive\" 52753396\n",
       "</pre>\n"
      ],
      "text/plain": [
       "\"There is no item named 'spacy.json' in the archive\" 52753396\n"
      ]
     },
     "metadata": {},
     "output_type": "display_data"
    },
    {
     "data": {
      "text/html": [
       "<pre style=\"white-space:pre;overflow-x:auto;line-height:normal;font-family:Menlo,'DejaVu Sans Mono',consolas,'Courier New',monospace\">\"There is no item named 'spacy.json' in the archive\" 52753397\n",
       "</pre>\n"
      ],
      "text/plain": [
       "\"There is no item named 'spacy.json' in the archive\" 52753397\n"
      ]
     },
     "metadata": {},
     "output_type": "display_data"
    },
    {
     "data": {
      "text/html": [
       "<pre style=\"white-space:pre;overflow-x:auto;line-height:normal;font-family:Menlo,'DejaVu Sans Mono',consolas,'Courier New',monospace\">\"There is no item named 'spacy.json' in the archive\" 52753398\n",
       "</pre>\n"
      ],
      "text/plain": [
       "\"There is no item named 'spacy.json' in the archive\" 52753398\n"
      ]
     },
     "metadata": {},
     "output_type": "display_data"
    },
    {
     "data": {
      "text/html": [
       "<pre style=\"white-space:pre;overflow-x:auto;line-height:normal;font-family:Menlo,'DejaVu Sans Mono',consolas,'Courier New',monospace\">\"There is no item named 'spacy.json' in the archive\" 52753400\n",
       "</pre>\n"
      ],
      "text/plain": [
       "\"There is no item named 'spacy.json' in the archive\" 52753400\n"
      ]
     },
     "metadata": {},
     "output_type": "display_data"
    },
    {
     "data": {
      "text/html": [
       "<pre style=\"white-space:pre;overflow-x:auto;line-height:normal;font-family:Menlo,'DejaVu Sans Mono',consolas,'Courier New',monospace\">\"There is no item named 'spacy.json' in the archive\" 52753401\n",
       "</pre>\n"
      ],
      "text/plain": [
       "\"There is no item named 'spacy.json' in the archive\" 52753401\n"
      ]
     },
     "metadata": {},
     "output_type": "display_data"
    },
    {
     "data": {
      "text/html": [
       "<pre style=\"white-space:pre;overflow-x:auto;line-height:normal;font-family:Menlo,'DejaVu Sans Mono',consolas,'Courier New',monospace\">\"There is no item named 'spacy.json' in the archive\" 52753403\n",
       "</pre>\n"
      ],
      "text/plain": [
       "\"There is no item named 'spacy.json' in the archive\" 52753403\n"
      ]
     },
     "metadata": {},
     "output_type": "display_data"
    },
    {
     "data": {
      "text/html": [
       "<pre style=\"white-space:pre;overflow-x:auto;line-height:normal;font-family:Menlo,'DejaVu Sans Mono',consolas,'Courier New',monospace\">\"There is no item named 'spacy.json' in the archive\" 52753404\n",
       "</pre>\n"
      ],
      "text/plain": [
       "\"There is no item named 'spacy.json' in the archive\" 52753404\n"
      ]
     },
     "metadata": {},
     "output_type": "display_data"
    },
    {
     "data": {
      "text/html": [
       "<pre style=\"white-space:pre;overflow-x:auto;line-height:normal;font-family:Menlo,'DejaVu Sans Mono',consolas,'Courier New',monospace\">\"There is no item named 'spacy.json' in the archive\" 52753406\n",
       "</pre>\n"
      ],
      "text/plain": [
       "\"There is no item named 'spacy.json' in the archive\" 52753406\n"
      ]
     },
     "metadata": {},
     "output_type": "display_data"
    },
    {
     "data": {
      "text/html": [
       "<pre style=\"white-space:pre;overflow-x:auto;line-height:normal;font-family:Menlo,'DejaVu Sans Mono',consolas,'Courier New',monospace\">\"There is no item named 'spacy.json' in the archive\" 52753407\n",
       "</pre>\n"
      ],
      "text/plain": [
       "\"There is no item named 'spacy.json' in the archive\" 52753407\n"
      ]
     },
     "metadata": {},
     "output_type": "display_data"
    },
    {
     "data": {
      "text/html": [
       "<pre style=\"white-space:pre;overflow-x:auto;line-height:normal;font-family:Menlo,'DejaVu Sans Mono',consolas,'Courier New',monospace\">\"There is no item named 'spacy.json' in the archive\" 52753408\n",
       "</pre>\n"
      ],
      "text/plain": [
       "\"There is no item named 'spacy.json' in the archive\" 52753408\n"
      ]
     },
     "metadata": {},
     "output_type": "display_data"
    },
    {
     "data": {
      "text/html": [
       "<pre style=\"white-space:pre;overflow-x:auto;line-height:normal;font-family:Menlo,'DejaVu Sans Mono',consolas,'Courier New',monospace\">\"There is no item named 'spacy.json' in the archive\" 52753410\n",
       "</pre>\n"
      ],
      "text/plain": [
       "\"There is no item named 'spacy.json' in the archive\" 52753410\n"
      ]
     },
     "metadata": {},
     "output_type": "display_data"
    },
    {
     "data": {
      "text/html": [
       "<pre style=\"white-space:pre;overflow-x:auto;line-height:normal;font-family:Menlo,'DejaVu Sans Mono',consolas,'Courier New',monospace\">\"There is no item named 'spacy.json' in the archive\" 52753411\n",
       "</pre>\n"
      ],
      "text/plain": [
       "\"There is no item named 'spacy.json' in the archive\" 52753411\n"
      ]
     },
     "metadata": {},
     "output_type": "display_data"
    },
    {
     "data": {
      "text/html": [
       "<pre style=\"white-space:pre;overflow-x:auto;line-height:normal;font-family:Menlo,'DejaVu Sans Mono',consolas,'Courier New',monospace\">\"There is no item named 'spacy.json' in the archive\" 52753419\n",
       "</pre>\n"
      ],
      "text/plain": [
       "\"There is no item named 'spacy.json' in the archive\" 52753419\n"
      ]
     },
     "metadata": {},
     "output_type": "display_data"
    },
    {
     "data": {
      "text/html": [
       "<pre style=\"white-space:pre;overflow-x:auto;line-height:normal;font-family:Menlo,'DejaVu Sans Mono',consolas,'Courier New',monospace\"></pre>\n"
      ],
      "text/plain": []
     },
     "metadata": {},
     "output_type": "display_data"
    },
    {
     "data": {
      "text/html": [
       "<pre style=\"white-space:pre;overflow-x:auto;line-height:normal;font-family:Menlo,'DejaVu Sans Mono',consolas,'Courier New',monospace\">\n",
       "</pre>\n"
      ],
      "text/plain": [
       "\n"
      ]
     },
     "metadata": {},
     "output_type": "display_data"
    },
    {
     "data": {
      "text/html": [
       "<pre style=\"white-space:pre;overflow-x:auto;line-height:normal;font-family:Menlo,'DejaVu Sans Mono',consolas,'Courier New',monospace\"><span style=\"font-style: italic\">                                                      KY set2                                                      </span>\n",
       "┏━━━━━━━━┳━━━━━━━━━━┳━━━━━━━━━┳━━━━━━━━━━┳━━━━━━━━━┳━━━━━━━━━━┳━━━━━━━━━┳━━━━━━━━━━┳━━━━━━━━━┳━━━━━━━━━━┳━━━━━━━━━┓\n",
       "┃<span style=\"font-weight: bold\"> S. No. </span>┃<span style=\"font-weight: bold\">  Batchid </span>┃<span style=\"font-weight: bold\"> 6-keye… </span>┃<span style=\"font-weight: bold\"> 6-spacy… </span>┃<span style=\"font-weight: bold\"> 6-matc… </span>┃<span style=\"font-weight: bold\"> 92-keye… </span>┃<span style=\"font-weight: bold\"> 92-spa… </span>┃<span style=\"font-weight: bold\"> 92-matc… </span>┃<span style=\"font-weight: bold\"> 93-key… </span>┃<span style=\"font-weight: bold\"> 93-spac… </span>┃<span style=\"font-weight: bold\"> 93-mat… </span>┃\n",
       "┡━━━━━━━━╇━━━━━━━━━━╇━━━━━━━━━╇━━━━━━━━━━╇━━━━━━━━━╇━━━━━━━━━━╇━━━━━━━━━╇━━━━━━━━━━╇━━━━━━━━━╇━━━━━━━━━━╇━━━━━━━━━┩\n",
       "│<span style=\"color: #008080; text-decoration-color: #008080\">     43 </span>│<span style=\"color: #008080; text-decoration-color: #008080\"> 52792421 </span>│<span style=\"color: #008080; text-decoration-color: #008080\"> 032520… </span>│<span style=\"color: #800080; text-decoration-color: #800080\">          </span>│<span style=\"color: #008000; text-decoration-color: #008000\">   False </span>│<span style=\"color: #008080; text-decoration-color: #008080\">      858 </span>│<span style=\"color: #800080; text-decoration-color: #800080\"> 858     </span>│<span style=\"color: #008000; text-decoration-color: #008000\">     True </span>│<span style=\"color: #008080; text-decoration-color: #008080\">     282 </span>│<span style=\"color: #800080; text-decoration-color: #800080\">          </span>│<span style=\"color: #008000; text-decoration-color: #008000\">   False </span>│\n",
       "│<span style=\"color: #008080; text-decoration-color: #008080\">     44 </span>│<span style=\"color: #008080; text-decoration-color: #008080\"> 52792428 </span>│<span style=\"color: #008080; text-decoration-color: #008080\"> 032520… </span>│<span style=\"color: #800080; text-decoration-color: #800080\">          </span>│<span style=\"color: #008000; text-decoration-color: #008000\">   False </span>│<span style=\"color: #008080; text-decoration-color: #008080\">     1557 </span>│<span style=\"color: #800080; text-decoration-color: #800080\"> 1557    </span>│<span style=\"color: #008000; text-decoration-color: #008000\">     True </span>│<span style=\"color: #008080; text-decoration-color: #008080\">      10 </span>│<span style=\"color: #800080; text-decoration-color: #800080\">          </span>│<span style=\"color: #008000; text-decoration-color: #008000\">   False </span>│\n",
       "│<span style=\"color: #008080; text-decoration-color: #008080\">     45 </span>│<span style=\"color: #008080; text-decoration-color: #008080\"> 52792429 </span>│<span style=\"color: #008080; text-decoration-color: #008080\"> 032520… </span>│<span style=\"color: #800080; text-decoration-color: #800080\">          </span>│<span style=\"color: #008000; text-decoration-color: #008000\">   False </span>│<span style=\"color: #008080; text-decoration-color: #008080\">      858 </span>│<span style=\"color: #800080; text-decoration-color: #800080\"> 858     </span>│<span style=\"color: #008000; text-decoration-color: #008000\">     True </span>│<span style=\"color: #008080; text-decoration-color: #008080\">     289 </span>│<span style=\"color: #800080; text-decoration-color: #800080\">          </span>│<span style=\"color: #008000; text-decoration-color: #008000\">   False </span>│\n",
       "│<span style=\"color: #008080; text-decoration-color: #008080\">     46 </span>│<span style=\"color: #008080; text-decoration-color: #008080\"> 52792431 </span>│<span style=\"color: #008080; text-decoration-color: #008080\"> 032520… </span>│<span style=\"color: #800080; text-decoration-color: #800080\">          </span>│<span style=\"color: #008000; text-decoration-color: #008000\">   False </span>│<span style=\"color: #008080; text-decoration-color: #008080\">      287 </span>│<span style=\"color: #800080; text-decoration-color: #800080\"> 287     </span>│<span style=\"color: #008000; text-decoration-color: #008000\">     True </span>│<span style=\"color: #008080; text-decoration-color: #008080\">      25 </span>│<span style=\"color: #800080; text-decoration-color: #800080\">          </span>│<span style=\"color: #008000; text-decoration-color: #008000\">   False </span>│\n",
       "│<span style=\"color: #008080; text-decoration-color: #008080\">     47 </span>│<span style=\"color: #008080; text-decoration-color: #008080\"> 52792432 </span>│<span style=\"color: #008080; text-decoration-color: #008080\"> 032520… </span>│<span style=\"color: #800080; text-decoration-color: #800080\">          </span>│<span style=\"color: #008000; text-decoration-color: #008000\">   False </span>│<span style=\"color: #008080; text-decoration-color: #008080\">      287 </span>│<span style=\"color: #800080; text-decoration-color: #800080\">         </span>│<span style=\"color: #008000; text-decoration-color: #008000\">    False </span>│<span style=\"color: #008080; text-decoration-color: #008080\">      26 </span>│<span style=\"color: #800080; text-decoration-color: #800080\">          </span>│<span style=\"color: #008000; text-decoration-color: #008000\">   False </span>│\n",
       "│<span style=\"color: #008080; text-decoration-color: #008080\">     48 </span>│<span style=\"color: #008080; text-decoration-color: #008080\"> 52792435 </span>│<span style=\"color: #008080; text-decoration-color: #008080\"> 032520… </span>│<span style=\"color: #800080; text-decoration-color: #800080\"> 03252024 </span>│<span style=\"color: #008000; text-decoration-color: #008000\">    True </span>│<span style=\"color: #008080; text-decoration-color: #008080\">      287 </span>│<span style=\"color: #800080; text-decoration-color: #800080\"> 287     </span>│<span style=\"color: #008000; text-decoration-color: #008000\">     True </span>│<span style=\"color: #008080; text-decoration-color: #008080\">      30 </span>│<span style=\"color: #800080; text-decoration-color: #800080\">          </span>│<span style=\"color: #008000; text-decoration-color: #008000\">   False </span>│\n",
       "│<span style=\"color: #008080; text-decoration-color: #008080\">     49 </span>│<span style=\"color: #008080; text-decoration-color: #008080\"> 52792438 </span>│<span style=\"color: #008080; text-decoration-color: #008080\"> 032520… </span>│<span style=\"color: #800080; text-decoration-color: #800080\"> 03252024 </span>│<span style=\"color: #008000; text-decoration-color: #008000\">    True </span>│<span style=\"color: #008080; text-decoration-color: #008080\">      858 </span>│<span style=\"color: #800080; text-decoration-color: #800080\"> 858     </span>│<span style=\"color: #008000; text-decoration-color: #008000\">     True </span>│<span style=\"color: #008080; text-decoration-color: #008080\">     296 </span>│<span style=\"color: #800080; text-decoration-color: #800080\">          </span>│<span style=\"color: #008000; text-decoration-color: #008000\">   False </span>│\n",
       "│<span style=\"color: #008080; text-decoration-color: #008080\">     50 </span>│<span style=\"color: #008080; text-decoration-color: #008080\"> 52792439 </span>│<span style=\"color: #008080; text-decoration-color: #008080\"> 032520… </span>│<span style=\"color: #800080; text-decoration-color: #800080\"> 03252024 </span>│<span style=\"color: #008000; text-decoration-color: #008000\">    True </span>│<span style=\"color: #008080; text-decoration-color: #008080\">      858 </span>│<span style=\"color: #800080; text-decoration-color: #800080\"> 858     </span>│<span style=\"color: #008000; text-decoration-color: #008000\">     True </span>│<span style=\"color: #008080; text-decoration-color: #008080\">     300 </span>│<span style=\"color: #800080; text-decoration-color: #800080\">          </span>│<span style=\"color: #008000; text-decoration-color: #008000\">   False </span>│\n",
       "│<span style=\"color: #008080; text-decoration-color: #008080\">     51 </span>│<span style=\"color: #008080; text-decoration-color: #008080\"> 52792440 </span>│<span style=\"color: #008080; text-decoration-color: #008080\"> 032520… </span>│<span style=\"color: #800080; text-decoration-color: #800080\"> 03252024 </span>│<span style=\"color: #008000; text-decoration-color: #008000\">    True </span>│<span style=\"color: #008080; text-decoration-color: #008080\">      858 </span>│<span style=\"color: #800080; text-decoration-color: #800080\"> 858     </span>│<span style=\"color: #008000; text-decoration-color: #008000\">     True </span>│<span style=\"color: #008080; text-decoration-color: #008080\">     303 </span>│<span style=\"color: #800080; text-decoration-color: #800080\">          </span>│<span style=\"color: #008000; text-decoration-color: #008000\">   False </span>│\n",
       "│<span style=\"color: #008080; text-decoration-color: #008080\">     52 </span>│<span style=\"color: #008080; text-decoration-color: #008080\"> 52792444 </span>│<span style=\"color: #008080; text-decoration-color: #008080\"> 032520… </span>│<span style=\"color: #800080; text-decoration-color: #800080\"> 03252024 </span>│<span style=\"color: #008000; text-decoration-color: #008000\">    True </span>│<span style=\"color: #008080; text-decoration-color: #008080\">      858 </span>│<span style=\"color: #800080; text-decoration-color: #800080\"> 858     </span>│<span style=\"color: #008000; text-decoration-color: #008000\">     True </span>│<span style=\"color: #008080; text-decoration-color: #008080\">     307 </span>│<span style=\"color: #800080; text-decoration-color: #800080\">          </span>│<span style=\"color: #008000; text-decoration-color: #008000\">   False </span>│\n",
       "│<span style=\"color: #008080; text-decoration-color: #008080\">     53 </span>│<span style=\"color: #008080; text-decoration-color: #008080\"> 52792446 </span>│<span style=\"color: #008080; text-decoration-color: #008080\"> 032520… </span>│<span style=\"color: #800080; text-decoration-color: #800080\"> 03252024 </span>│<span style=\"color: #008000; text-decoration-color: #008000\">    True </span>│<span style=\"color: #008080; text-decoration-color: #008080\">      858 </span>│<span style=\"color: #800080; text-decoration-color: #800080\"> 858     </span>│<span style=\"color: #008000; text-decoration-color: #008000\">     True </span>│<span style=\"color: #008080; text-decoration-color: #008080\">     313 </span>│<span style=\"color: #800080; text-decoration-color: #800080\">          </span>│<span style=\"color: #008000; text-decoration-color: #008000\">   False </span>│\n",
       "│<span style=\"color: #008080; text-decoration-color: #008080\">     54 </span>│<span style=\"color: #008080; text-decoration-color: #008080\"> 52792447 </span>│<span style=\"color: #008080; text-decoration-color: #008080\"> 032520… </span>│<span style=\"color: #800080; text-decoration-color: #800080\"> 03252024 </span>│<span style=\"color: #008000; text-decoration-color: #008000\">    True </span>│<span style=\"color: #008080; text-decoration-color: #008080\">     1557 </span>│<span style=\"color: #800080; text-decoration-color: #800080\"> 1557    </span>│<span style=\"color: #008000; text-decoration-color: #008000\">     True </span>│<span style=\"color: #008080; text-decoration-color: #008080\">      44 </span>│<span style=\"color: #800080; text-decoration-color: #800080\">          </span>│<span style=\"color: #008000; text-decoration-color: #008000\">   False </span>│\n",
       "│<span style=\"color: #008080; text-decoration-color: #008080\">     55 </span>│<span style=\"color: #008080; text-decoration-color: #008080\"> 52792448 </span>│<span style=\"color: #008080; text-decoration-color: #008080\"> 032520… </span>│<span style=\"color: #800080; text-decoration-color: #800080\"> 03252024 </span>│<span style=\"color: #008000; text-decoration-color: #008000\">    True </span>│<span style=\"color: #008080; text-decoration-color: #008080\">      858 </span>│<span style=\"color: #800080; text-decoration-color: #800080\"> 858     </span>│<span style=\"color: #008000; text-decoration-color: #008000\">     True </span>│<span style=\"color: #008080; text-decoration-color: #008080\">     318 </span>│<span style=\"color: #800080; text-decoration-color: #800080\">          </span>│<span style=\"color: #008000; text-decoration-color: #008000\">   False </span>│\n",
       "│<span style=\"color: #008080; text-decoration-color: #008080\">     56 </span>│<span style=\"color: #008080; text-decoration-color: #008080\"> 52792452 </span>│<span style=\"color: #008080; text-decoration-color: #008080\"> 032520… </span>│<span style=\"color: #800080; text-decoration-color: #800080\">          </span>│<span style=\"color: #008000; text-decoration-color: #008000\">   False </span>│<span style=\"color: #008080; text-decoration-color: #008080\">      858 </span>│<span style=\"color: #800080; text-decoration-color: #800080\"> 858     </span>│<span style=\"color: #008000; text-decoration-color: #008000\">     True </span>│<span style=\"color: #008080; text-decoration-color: #008080\">     321 </span>│<span style=\"color: #800080; text-decoration-color: #800080\">          </span>│<span style=\"color: #008000; text-decoration-color: #008000\">   False </span>│\n",
       "│<span style=\"color: #008080; text-decoration-color: #008080\">     57 </span>│<span style=\"color: #008080; text-decoration-color: #008080\"> 52836324 </span>│<span style=\"color: #008080; text-decoration-color: #008080\"> 032620… </span>│<span style=\"color: #800080; text-decoration-color: #800080\">          </span>│<span style=\"color: #008000; text-decoration-color: #008000\">   False </span>│<span style=\"color: #008080; text-decoration-color: #008080\">      858 </span>│<span style=\"color: #800080; text-decoration-color: #800080\"> 858     </span>│<span style=\"color: #008000; text-decoration-color: #008000\">     True </span>│<span style=\"color: #008080; text-decoration-color: #008080\">     323 </span>│<span style=\"color: #800080; text-decoration-color: #800080\">          </span>│<span style=\"color: #008000; text-decoration-color: #008000\">   False </span>│\n",
       "│<span style=\"color: #008080; text-decoration-color: #008080\">     58 </span>│<span style=\"color: #008080; text-decoration-color: #008080\"> 52836328 </span>│<span style=\"color: #008080; text-decoration-color: #008080\"> 032620… </span>│<span style=\"color: #800080; text-decoration-color: #800080\">          </span>│<span style=\"color: #008000; text-decoration-color: #008000\">   False </span>│<span style=\"color: #008080; text-decoration-color: #008080\">      287 </span>│<span style=\"color: #800080; text-decoration-color: #800080\"> 287     </span>│<span style=\"color: #008000; text-decoration-color: #008000\">     True </span>│<span style=\"color: #008080; text-decoration-color: #008080\">      31 </span>│<span style=\"color: #800080; text-decoration-color: #800080\">          </span>│<span style=\"color: #008000; text-decoration-color: #008000\">   False </span>│\n",
       "│<span style=\"color: #008080; text-decoration-color: #008080\">     59 </span>│<span style=\"color: #008080; text-decoration-color: #008080\"> 52836329 </span>│<span style=\"color: #008080; text-decoration-color: #008080\"> 032620… </span>│<span style=\"color: #800080; text-decoration-color: #800080\">          </span>│<span style=\"color: #008000; text-decoration-color: #008000\">   False </span>│<span style=\"color: #008080; text-decoration-color: #008080\">      287 </span>│<span style=\"color: #800080; text-decoration-color: #800080\"> 287     </span>│<span style=\"color: #008000; text-decoration-color: #008000\">     True </span>│<span style=\"color: #008080; text-decoration-color: #008080\">      32 </span>│<span style=\"color: #800080; text-decoration-color: #800080\">          </span>│<span style=\"color: #008000; text-decoration-color: #008000\">   False </span>│\n",
       "│<span style=\"color: #008080; text-decoration-color: #008080\">     60 </span>│<span style=\"color: #008080; text-decoration-color: #008080\"> 52836335 </span>│<span style=\"color: #008080; text-decoration-color: #008080\"> 032620… </span>│<span style=\"color: #800080; text-decoration-color: #800080\"> 03262024 </span>│<span style=\"color: #008000; text-decoration-color: #008000\">    True </span>│<span style=\"color: #008080; text-decoration-color: #008080\">      287 </span>│<span style=\"color: #800080; text-decoration-color: #800080\"> 287     </span>│<span style=\"color: #008000; text-decoration-color: #008000\">     True </span>│<span style=\"color: #008080; text-decoration-color: #008080\">      37 </span>│<span style=\"color: #800080; text-decoration-color: #800080\">          </span>│<span style=\"color: #008000; text-decoration-color: #008000\">   False </span>│\n",
       "│<span style=\"color: #008080; text-decoration-color: #008080\">     61 </span>│<span style=\"color: #008080; text-decoration-color: #008080\"> 52836336 </span>│<span style=\"color: #008080; text-decoration-color: #008080\"> 032620… </span>│<span style=\"color: #800080; text-decoration-color: #800080\"> 03262024 </span>│<span style=\"color: #008000; text-decoration-color: #008000\">    True </span>│<span style=\"color: #008080; text-decoration-color: #008080\">      102 </span>│<span style=\"color: #800080; text-decoration-color: #800080\"> 102     </span>│<span style=\"color: #008000; text-decoration-color: #008000\">     True </span>│<span style=\"color: #008080; text-decoration-color: #008080\">     323 </span>│<span style=\"color: #800080; text-decoration-color: #800080\">          </span>│<span style=\"color: #008000; text-decoration-color: #008000\">   False </span>│\n",
       "│<span style=\"color: #008080; text-decoration-color: #008080\">     62 </span>│<span style=\"color: #008080; text-decoration-color: #008080\"> 52880930 </span>│<span style=\"color: #008080; text-decoration-color: #008080\"> 032720… </span>│<span style=\"color: #800080; text-decoration-color: #800080\"> 03272024 </span>│<span style=\"color: #008000; text-decoration-color: #008000\">    True </span>│<span style=\"color: #008080; text-decoration-color: #008080\">      287 </span>│<span style=\"color: #800080; text-decoration-color: #800080\"> 287     </span>│<span style=\"color: #008000; text-decoration-color: #008000\">     True </span>│<span style=\"color: #008080; text-decoration-color: #008080\">     441 </span>│<span style=\"color: #800080; text-decoration-color: #800080\">          </span>│<span style=\"color: #008000; text-decoration-color: #008000\">   False </span>│\n",
       "│<span style=\"color: #008080; text-decoration-color: #008080\">     63 </span>│<span style=\"color: #008080; text-decoration-color: #008080\"> 52880932 </span>│<span style=\"color: #008080; text-decoration-color: #008080\"> 032720… </span>│<span style=\"color: #800080; text-decoration-color: #800080\">          </span>│<span style=\"color: #008000; text-decoration-color: #008000\">   False </span>│<span style=\"color: #008080; text-decoration-color: #008080\">      287 </span>│<span style=\"color: #800080; text-decoration-color: #800080\"> 287     </span>│<span style=\"color: #008000; text-decoration-color: #008000\">     True </span>│<span style=\"color: #008080; text-decoration-color: #008080\">      46 </span>│<span style=\"color: #800080; text-decoration-color: #800080\">          </span>│<span style=\"color: #008000; text-decoration-color: #008000\">   False </span>│\n",
       "│<span style=\"color: #008080; text-decoration-color: #008080\">     64 </span>│<span style=\"color: #008080; text-decoration-color: #008080\"> 52880933 </span>│<span style=\"color: #008080; text-decoration-color: #008080\"> 032720… </span>│<span style=\"color: #800080; text-decoration-color: #800080\"> 03272024 </span>│<span style=\"color: #008000; text-decoration-color: #008000\">    True </span>│<span style=\"color: #008080; text-decoration-color: #008080\">     1557 </span>│<span style=\"color: #800080; text-decoration-color: #800080\"> 1557    </span>│<span style=\"color: #008000; text-decoration-color: #008000\">     True </span>│<span style=\"color: #008080; text-decoration-color: #008080\">     126 </span>│<span style=\"color: #800080; text-decoration-color: #800080\">          </span>│<span style=\"color: #008000; text-decoration-color: #008000\">   False </span>│\n",
       "│<span style=\"color: #008080; text-decoration-color: #008080\">     65 </span>│<span style=\"color: #008080; text-decoration-color: #008080\"> 52880935 </span>│<span style=\"color: #008080; text-decoration-color: #008080\"> 032720… </span>│<span style=\"color: #800080; text-decoration-color: #800080\">          </span>│<span style=\"color: #008000; text-decoration-color: #008000\">   False </span>│<span style=\"color: #008080; text-decoration-color: #008080\">      287 </span>│<span style=\"color: #800080; text-decoration-color: #800080\"> 1219    </span>│<span style=\"color: #008000; text-decoration-color: #008000\">    False </span>│<span style=\"color: #008080; text-decoration-color: #008080\">      49 </span>│<span style=\"color: #800080; text-decoration-color: #800080\">          </span>│<span style=\"color: #008000; text-decoration-color: #008000\">   False </span>│\n",
       "│<span style=\"color: #008080; text-decoration-color: #008080\">     66 </span>│<span style=\"color: #008080; text-decoration-color: #008080\"> 52880936 </span>│<span style=\"color: #008080; text-decoration-color: #008080\"> 032720… </span>│<span style=\"color: #800080; text-decoration-color: #800080\">          </span>│<span style=\"color: #008000; text-decoration-color: #008000\">   False </span>│<span style=\"color: #008080; text-decoration-color: #008080\">      287 </span>│<span style=\"color: #800080; text-decoration-color: #800080\"> 287     </span>│<span style=\"color: #008000; text-decoration-color: #008000\">     True </span>│<span style=\"color: #008080; text-decoration-color: #008080\">      61 </span>│<span style=\"color: #800080; text-decoration-color: #800080\">          </span>│<span style=\"color: #008000; text-decoration-color: #008000\">   False </span>│\n",
       "│<span style=\"color: #008080; text-decoration-color: #008080\">     67 </span>│<span style=\"color: #008080; text-decoration-color: #008080\"> 52880938 </span>│<span style=\"color: #008080; text-decoration-color: #008080\"> 031920… </span>│<span style=\"color: #800080; text-decoration-color: #800080\">          </span>│<span style=\"color: #008000; text-decoration-color: #008000\">   False </span>│<span style=\"color: #008080; text-decoration-color: #008080\">      287 </span>│<span style=\"color: #800080; text-decoration-color: #800080\"> 287     </span>│<span style=\"color: #008000; text-decoration-color: #008000\">     True </span>│<span style=\"color: #008080; text-decoration-color: #008080\">      55 </span>│<span style=\"color: #800080; text-decoration-color: #800080\">          </span>│<span style=\"color: #008000; text-decoration-color: #008000\">   False </span>│\n",
       "│<span style=\"color: #008080; text-decoration-color: #008080\">     68 </span>│<span style=\"color: #008080; text-decoration-color: #008080\"> 52880939 </span>│<span style=\"color: #008080; text-decoration-color: #008080\"> 032720… </span>│<span style=\"color: #800080; text-decoration-color: #800080\">          </span>│<span style=\"color: #008000; text-decoration-color: #008000\">   False </span>│<span style=\"color: #008080; text-decoration-color: #008080\">      287 </span>│<span style=\"color: #800080; text-decoration-color: #800080\"> 287     </span>│<span style=\"color: #008000; text-decoration-color: #008000\">     True </span>│<span style=\"color: #008080; text-decoration-color: #008080\">      57 </span>│<span style=\"color: #800080; text-decoration-color: #800080\">          </span>│<span style=\"color: #008000; text-decoration-color: #008000\">   False </span>│\n",
       "│<span style=\"color: #008080; text-decoration-color: #008080\">     69 </span>│<span style=\"color: #008080; text-decoration-color: #008080\"> 52880940 </span>│<span style=\"color: #008080; text-decoration-color: #008080\"> 032720… </span>│<span style=\"color: #800080; text-decoration-color: #800080\"> 03272024 </span>│<span style=\"color: #008000; text-decoration-color: #008000\">    True </span>│<span style=\"color: #008080; text-decoration-color: #008080\">      287 </span>│<span style=\"color: #800080; text-decoration-color: #800080\"> 287     </span>│<span style=\"color: #008000; text-decoration-color: #008000\">     True </span>│<span style=\"color: #008080; text-decoration-color: #008080\">      59 </span>│<span style=\"color: #800080; text-decoration-color: #800080\">          </span>│<span style=\"color: #008000; text-decoration-color: #008000\">   False </span>│\n",
       "│<span style=\"color: #008080; text-decoration-color: #008080\">     70 </span>│<span style=\"color: #008080; text-decoration-color: #008080\"> 52880941 </span>│<span style=\"color: #008080; text-decoration-color: #008080\"> 032720… </span>│<span style=\"color: #800080; text-decoration-color: #800080\"> 03272024 </span>│<span style=\"color: #008000; text-decoration-color: #008000\">    True </span>│<span style=\"color: #008080; text-decoration-color: #008080\">      858 </span>│<span style=\"color: #800080; text-decoration-color: #800080\"> 858     </span>│<span style=\"color: #008000; text-decoration-color: #008000\">     True </span>│<span style=\"color: #008080; text-decoration-color: #008080\">     337 </span>│<span style=\"color: #800080; text-decoration-color: #800080\">          </span>│<span style=\"color: #008000; text-decoration-color: #008000\">   False </span>│\n",
       "│<span style=\"color: #008080; text-decoration-color: #008080\">     71 </span>│<span style=\"color: #008080; text-decoration-color: #008080\"> 52880942 </span>│<span style=\"color: #008080; text-decoration-color: #008080\"> 032720… </span>│<span style=\"color: #800080; text-decoration-color: #800080\">          </span>│<span style=\"color: #008000; text-decoration-color: #008000\">   False </span>│<span style=\"color: #008080; text-decoration-color: #008080\">     1557 </span>│<span style=\"color: #800080; text-decoration-color: #800080\"> 1557    </span>│<span style=\"color: #008000; text-decoration-color: #008000\">     True </span>│<span style=\"color: #008080; text-decoration-color: #008080\">     132 </span>│<span style=\"color: #800080; text-decoration-color: #800080\">          </span>│<span style=\"color: #008000; text-decoration-color: #008000\">   False </span>│\n",
       "│<span style=\"color: #008080; text-decoration-color: #008080\">     72 </span>│<span style=\"color: #008080; text-decoration-color: #008080\"> 52880943 </span>│<span style=\"color: #008080; text-decoration-color: #008080\"> 032720… </span>│<span style=\"color: #800080; text-decoration-color: #800080\">          </span>│<span style=\"color: #008000; text-decoration-color: #008000\">   False </span>│<span style=\"color: #008080; text-decoration-color: #008080\">      858 </span>│<span style=\"color: #800080; text-decoration-color: #800080\"> 858     </span>│<span style=\"color: #008000; text-decoration-color: #008000\">     True </span>│<span style=\"color: #008080; text-decoration-color: #008080\">     342 </span>│<span style=\"color: #800080; text-decoration-color: #800080\">          </span>│<span style=\"color: #008000; text-decoration-color: #008000\">   False </span>│\n",
       "│<span style=\"color: #008080; text-decoration-color: #008080\">     73 </span>│<span style=\"color: #008080; text-decoration-color: #008080\"> 52880944 </span>│<span style=\"color: #008080; text-decoration-color: #008080\"> 032720… </span>│<span style=\"color: #800080; text-decoration-color: #800080\"> 03272024 </span>│<span style=\"color: #008000; text-decoration-color: #008000\">    True </span>│<span style=\"color: #008080; text-decoration-color: #008080\">     1557 </span>│<span style=\"color: #800080; text-decoration-color: #800080\"> 1557    </span>│<span style=\"color: #008000; text-decoration-color: #008000\">     True </span>│<span style=\"color: #008080; text-decoration-color: #008080\">     156 </span>│<span style=\"color: #800080; text-decoration-color: #800080\">          </span>│<span style=\"color: #008000; text-decoration-color: #008000\">   False </span>│\n",
       "│<span style=\"color: #008080; text-decoration-color: #008080\">     74 </span>│<span style=\"color: #008080; text-decoration-color: #008080\"> 52880945 </span>│<span style=\"color: #008080; text-decoration-color: #008080\"> 032720… </span>│<span style=\"color: #800080; text-decoration-color: #800080\"> 03272024 </span>│<span style=\"color: #008000; text-decoration-color: #008000\">    True </span>│<span style=\"color: #008080; text-decoration-color: #008080\">      858 </span>│<span style=\"color: #800080; text-decoration-color: #800080\"> 858     </span>│<span style=\"color: #008000; text-decoration-color: #008000\">     True </span>│<span style=\"color: #008080; text-decoration-color: #008080\">     346 </span>│<span style=\"color: #800080; text-decoration-color: #800080\">          </span>│<span style=\"color: #008000; text-decoration-color: #008000\">   False </span>│\n",
       "│<span style=\"color: #008080; text-decoration-color: #008080\">     75 </span>│<span style=\"color: #008080; text-decoration-color: #008080\"> 52880946 </span>│<span style=\"color: #008080; text-decoration-color: #008080\"> 032720… </span>│<span style=\"color: #800080; text-decoration-color: #800080\"> 03272024 </span>│<span style=\"color: #008000; text-decoration-color: #008000\">    True </span>│<span style=\"color: #008080; text-decoration-color: #008080\">      858 </span>│<span style=\"color: #800080; text-decoration-color: #800080\"> 858     </span>│<span style=\"color: #008000; text-decoration-color: #008000\">     True </span>│<span style=\"color: #008080; text-decoration-color: #008080\">     349 </span>│<span style=\"color: #800080; text-decoration-color: #800080\">          </span>│<span style=\"color: #008000; text-decoration-color: #008000\">   False </span>│\n",
       "│<span style=\"color: #008080; text-decoration-color: #008080\">     76 </span>│<span style=\"color: #008080; text-decoration-color: #008080\"> 52880948 </span>│<span style=\"color: #008080; text-decoration-color: #008080\"> 032720… </span>│<span style=\"color: #800080; text-decoration-color: #800080\">          </span>│<span style=\"color: #008000; text-decoration-color: #008000\">   False </span>│<span style=\"color: #008080; text-decoration-color: #008080\">     1557 </span>│<span style=\"color: #800080; text-decoration-color: #800080\"> 1557    </span>│<span style=\"color: #008000; text-decoration-color: #008000\">     True </span>│<span style=\"color: #008080; text-decoration-color: #008080\">     179 </span>│<span style=\"color: #800080; text-decoration-color: #800080\">          </span>│<span style=\"color: #008000; text-decoration-color: #008000\">   False </span>│\n",
       "│<span style=\"color: #008080; text-decoration-color: #008080\">     77 </span>│<span style=\"color: #008080; text-decoration-color: #008080\"> 52880952 </span>│<span style=\"color: #008080; text-decoration-color: #008080\"> 032720… </span>│<span style=\"color: #800080; text-decoration-color: #800080\"> 03272024 </span>│<span style=\"color: #008000; text-decoration-color: #008000\">    True </span>│<span style=\"color: #008080; text-decoration-color: #008080\">      287 </span>│<span style=\"color: #800080; text-decoration-color: #800080\"> 287     </span>│<span style=\"color: #008000; text-decoration-color: #008000\">     True </span>│<span style=\"color: #008080; text-decoration-color: #008080\">      61 </span>│<span style=\"color: #800080; text-decoration-color: #800080\">          </span>│<span style=\"color: #008000; text-decoration-color: #008000\">   False </span>│\n",
       "│<span style=\"color: #008080; text-decoration-color: #008080\">     78 </span>│<span style=\"color: #008080; text-decoration-color: #008080\"> 53035847 </span>│<span style=\"color: #008080; text-decoration-color: #008080\"> 040120… </span>│<span style=\"color: #800080; text-decoration-color: #800080\">          </span>│<span style=\"color: #008000; text-decoration-color: #008000\">   False </span>│<span style=\"color: #008080; text-decoration-color: #008080\">      102 </span>│<span style=\"color: #800080; text-decoration-color: #800080\"> 102     </span>│<span style=\"color: #008000; text-decoration-color: #008000\">     True </span>│<span style=\"color: #008080; text-decoration-color: #008080\">     333 </span>│<span style=\"color: #800080; text-decoration-color: #800080\">          </span>│<span style=\"color: #008000; text-decoration-color: #008000\">   False </span>│\n",
       "│<span style=\"color: #008080; text-decoration-color: #008080\">     79 </span>│<span style=\"color: #008080; text-decoration-color: #008080\"> 53035848 </span>│<span style=\"color: #008080; text-decoration-color: #008080\"> 040120… </span>│<span style=\"color: #800080; text-decoration-color: #800080\">          </span>│<span style=\"color: #008000; text-decoration-color: #008000\">   False </span>│<span style=\"color: #008080; text-decoration-color: #008080\">      102 </span>│<span style=\"color: #800080; text-decoration-color: #800080\"> 102     </span>│<span style=\"color: #008000; text-decoration-color: #008000\">     True </span>│<span style=\"color: #008080; text-decoration-color: #008080\">     337 </span>│<span style=\"color: #800080; text-decoration-color: #800080\">          </span>│<span style=\"color: #008000; text-decoration-color: #008000\">   False </span>│\n",
       "│<span style=\"color: #008080; text-decoration-color: #008080\">     80 </span>│<span style=\"color: #008080; text-decoration-color: #008080\"> 53035850 </span>│<span style=\"color: #008080; text-decoration-color: #008080\"> 040120… </span>│<span style=\"color: #800080; text-decoration-color: #800080\">          </span>│<span style=\"color: #008000; text-decoration-color: #008000\">   False </span>│<span style=\"color: #008080; text-decoration-color: #008080\">     1557 </span>│<span style=\"color: #800080; text-decoration-color: #800080\"> 1557    </span>│<span style=\"color: #008000; text-decoration-color: #008000\">     True </span>│<span style=\"color: #008080; text-decoration-color: #008080\">     428 </span>│<span style=\"color: #800080; text-decoration-color: #800080\">          </span>│<span style=\"color: #008000; text-decoration-color: #008000\">   False </span>│\n",
       "│<span style=\"color: #008080; text-decoration-color: #008080\">     81 </span>│<span style=\"color: #008080; text-decoration-color: #008080\"> 53035851 </span>│<span style=\"color: #008080; text-decoration-color: #008080\"> 040120… </span>│<span style=\"color: #800080; text-decoration-color: #800080\">          </span>│<span style=\"color: #008000; text-decoration-color: #008000\">   False </span>│<span style=\"color: #008080; text-decoration-color: #008080\">      858 </span>│<span style=\"color: #800080; text-decoration-color: #800080\"> 858     </span>│<span style=\"color: #008000; text-decoration-color: #008000\">     True </span>│<span style=\"color: #008080; text-decoration-color: #008080\">     394 </span>│<span style=\"color: #800080; text-decoration-color: #800080\">          </span>│<span style=\"color: #008000; text-decoration-color: #008000\">   False </span>│\n",
       "│<span style=\"color: #008080; text-decoration-color: #008080\">     82 </span>│<span style=\"color: #008080; text-decoration-color: #008080\"> 53035854 </span>│<span style=\"color: #008080; text-decoration-color: #008080\"> 040120… </span>│<span style=\"color: #800080; text-decoration-color: #800080\">          </span>│<span style=\"color: #008000; text-decoration-color: #008000\">   False </span>│<span style=\"color: #008080; text-decoration-color: #008080\">      858 </span>│<span style=\"color: #800080; text-decoration-color: #800080\"> 858     </span>│<span style=\"color: #008000; text-decoration-color: #008000\">     True </span>│<span style=\"color: #008080; text-decoration-color: #008080\">     400 </span>│<span style=\"color: #800080; text-decoration-color: #800080\">          </span>│<span style=\"color: #008000; text-decoration-color: #008000\">   False </span>│\n",
       "│<span style=\"color: #008080; text-decoration-color: #008080\">     83 </span>│<span style=\"color: #008080; text-decoration-color: #008080\"> 53035855 </span>│<span style=\"color: #008080; text-decoration-color: #008080\"> 040120… </span>│<span style=\"color: #800080; text-decoration-color: #800080\">          </span>│<span style=\"color: #008000; text-decoration-color: #008000\">   False </span>│<span style=\"color: #008080; text-decoration-color: #008080\">      858 </span>│<span style=\"color: #800080; text-decoration-color: #800080\"> 858     </span>│<span style=\"color: #008000; text-decoration-color: #008000\">     True </span>│<span style=\"color: #008080; text-decoration-color: #008080\">     410 </span>│<span style=\"color: #800080; text-decoration-color: #800080\">          </span>│<span style=\"color: #008000; text-decoration-color: #008000\">   False </span>│\n",
       "│<span style=\"color: #008080; text-decoration-color: #008080\">     84 </span>│<span style=\"color: #008080; text-decoration-color: #008080\"> 53035857 </span>│<span style=\"color: #008080; text-decoration-color: #008080\"> 040120… </span>│<span style=\"color: #800080; text-decoration-color: #800080\">          </span>│<span style=\"color: #008000; text-decoration-color: #008000\">   False </span>│<span style=\"color: #008080; text-decoration-color: #008080\">      858 </span>│<span style=\"color: #800080; text-decoration-color: #800080\"> 858     </span>│<span style=\"color: #008000; text-decoration-color: #008000\">     True </span>│<span style=\"color: #008080; text-decoration-color: #008080\">     418 </span>│<span style=\"color: #800080; text-decoration-color: #800080\">          </span>│<span style=\"color: #008000; text-decoration-color: #008000\">   False </span>│\n",
       "│<span style=\"color: #008080; text-decoration-color: #008080\">     85 </span>│<span style=\"color: #008080; text-decoration-color: #008080\"> 53035859 </span>│<span style=\"color: #008080; text-decoration-color: #008080\"> 040120… </span>│<span style=\"color: #800080; text-decoration-color: #800080\">          </span>│<span style=\"color: #008000; text-decoration-color: #008000\">   False </span>│<span style=\"color: #008080; text-decoration-color: #008080\">      858 </span>│<span style=\"color: #800080; text-decoration-color: #800080\"> 858     </span>│<span style=\"color: #008000; text-decoration-color: #008000\">     True </span>│<span style=\"color: #008080; text-decoration-color: #008080\">     422 </span>│<span style=\"color: #800080; text-decoration-color: #800080\">          </span>│<span style=\"color: #008000; text-decoration-color: #008000\">   False </span>│\n",
       "│<span style=\"color: #008080; text-decoration-color: #008080\">     86 </span>│<span style=\"color: #008080; text-decoration-color: #008080\"> 53035860 </span>│<span style=\"color: #008080; text-decoration-color: #008080\"> 040120… </span>│<span style=\"color: #800080; text-decoration-color: #800080\">          </span>│<span style=\"color: #008000; text-decoration-color: #008000\">   False </span>│<span style=\"color: #008080; text-decoration-color: #008080\">      858 </span>│<span style=\"color: #800080; text-decoration-color: #800080\"> 858     </span>│<span style=\"color: #008000; text-decoration-color: #008000\">     True </span>│<span style=\"color: #008080; text-decoration-color: #008080\">     427 </span>│<span style=\"color: #800080; text-decoration-color: #800080\">          </span>│<span style=\"color: #008000; text-decoration-color: #008000\">   False </span>│\n",
       "│<span style=\"color: #008080; text-decoration-color: #008080\">     87 </span>│<span style=\"color: #008080; text-decoration-color: #008080\"> 53035962 </span>│<span style=\"color: #008080; text-decoration-color: #008080\"> 032820… </span>│<span style=\"color: #800080; text-decoration-color: #800080\"> 03282024 </span>│<span style=\"color: #008000; text-decoration-color: #008000\">    True </span>│<span style=\"color: #008080; text-decoration-color: #008080\">      287 </span>│<span style=\"color: #800080; text-decoration-color: #800080\"> 287     </span>│<span style=\"color: #008000; text-decoration-color: #008000\">     True </span>│<span style=\"color: #008080; text-decoration-color: #008080\">      63 </span>│<span style=\"color: #800080; text-decoration-color: #800080\">          </span>│<span style=\"color: #008000; text-decoration-color: #008000\">   False </span>│\n",
       "│<span style=\"color: #008080; text-decoration-color: #008080\">     88 </span>│<span style=\"color: #008080; text-decoration-color: #008080\"> 53035968 </span>│<span style=\"color: #008080; text-decoration-color: #008080\"> 032820… </span>│<span style=\"color: #800080; text-decoration-color: #800080\">          </span>│<span style=\"color: #008000; text-decoration-color: #008000\">   False </span>│<span style=\"color: #008080; text-decoration-color: #008080\">      858 </span>│<span style=\"color: #800080; text-decoration-color: #800080\"> 858     </span>│<span style=\"color: #008000; text-decoration-color: #008000\">     True </span>│<span style=\"color: #008080; text-decoration-color: #008080\">     352 </span>│<span style=\"color: #800080; text-decoration-color: #800080\">          </span>│<span style=\"color: #008000; text-decoration-color: #008000\">   False </span>│\n",
       "│<span style=\"color: #008080; text-decoration-color: #008080\">     89 </span>│<span style=\"color: #008080; text-decoration-color: #008080\"> 53035970 </span>│<span style=\"color: #008080; text-decoration-color: #008080\"> 032820… </span>│<span style=\"color: #800080; text-decoration-color: #800080\">          </span>│<span style=\"color: #008000; text-decoration-color: #008000\">   False </span>│<span style=\"color: #008080; text-decoration-color: #008080\">     1557 </span>│<span style=\"color: #800080; text-decoration-color: #800080\"> 1557    </span>│<span style=\"color: #008000; text-decoration-color: #008000\">     True </span>│<span style=\"color: #008080; text-decoration-color: #008080\">     260 </span>│<span style=\"color: #800080; text-decoration-color: #800080\">          </span>│<span style=\"color: #008000; text-decoration-color: #008000\">   False </span>│\n",
       "│<span style=\"color: #008080; text-decoration-color: #008080\">     90 </span>│<span style=\"color: #008080; text-decoration-color: #008080\"> 53035971 </span>│<span style=\"color: #008080; text-decoration-color: #008080\"> 032820… </span>│<span style=\"color: #800080; text-decoration-color: #800080\">          </span>│<span style=\"color: #008000; text-decoration-color: #008000\">   False </span>│<span style=\"color: #008080; text-decoration-color: #008080\">      858 </span>│<span style=\"color: #800080; text-decoration-color: #800080\"> 858     </span>│<span style=\"color: #008000; text-decoration-color: #008000\">     True </span>│<span style=\"color: #008080; text-decoration-color: #008080\">     367 </span>│<span style=\"color: #800080; text-decoration-color: #800080\">          </span>│<span style=\"color: #008000; text-decoration-color: #008000\">   False </span>│\n",
       "│<span style=\"color: #008080; text-decoration-color: #008080\">     91 </span>│<span style=\"color: #008080; text-decoration-color: #008080\"> 53035972 </span>│<span style=\"color: #008080; text-decoration-color: #008080\"> 032820… </span>│<span style=\"color: #800080; text-decoration-color: #800080\">          </span>│<span style=\"color: #008000; text-decoration-color: #008000\">   False </span>│<span style=\"color: #008080; text-decoration-color: #008080\">     1557 </span>│<span style=\"color: #800080; text-decoration-color: #800080\"> 1557    </span>│<span style=\"color: #008000; text-decoration-color: #008000\">     True </span>│<span style=\"color: #008080; text-decoration-color: #008080\">     265 </span>│<span style=\"color: #800080; text-decoration-color: #800080\">          </span>│<span style=\"color: #008000; text-decoration-color: #008000\">   False </span>│\n",
       "│<span style=\"color: #008080; text-decoration-color: #008080\">     92 </span>│<span style=\"color: #008080; text-decoration-color: #008080\"> 53035974 </span>│<span style=\"color: #008080; text-decoration-color: #008080\"> 032820… </span>│<span style=\"color: #800080; text-decoration-color: #800080\">          </span>│<span style=\"color: #008000; text-decoration-color: #008000\">   False </span>│<span style=\"color: #008080; text-decoration-color: #008080\">     1557 </span>│<span style=\"color: #800080; text-decoration-color: #800080\"> 285     </span>│<span style=\"color: #008000; text-decoration-color: #008000\">    False </span>│<span style=\"color: #008080; text-decoration-color: #008080\">     285 </span>│<span style=\"color: #800080; text-decoration-color: #800080\">          </span>│<span style=\"color: #008000; text-decoration-color: #008000\">   False </span>│\n",
       "│<span style=\"color: #008080; text-decoration-color: #008080\">     93 </span>│<span style=\"color: #008080; text-decoration-color: #008080\"> 53035978 </span>│<span style=\"color: #008080; text-decoration-color: #008080\"> 032820… </span>│<span style=\"color: #800080; text-decoration-color: #800080\"> 03282024 </span>│<span style=\"color: #008000; text-decoration-color: #008000\">    True </span>│<span style=\"color: #008080; text-decoration-color: #008080\">      858 </span>│<span style=\"color: #800080; text-decoration-color: #800080\"> 858     </span>│<span style=\"color: #008000; text-decoration-color: #008000\">     True </span>│<span style=\"color: #008080; text-decoration-color: #008080\">     371 </span>│<span style=\"color: #800080; text-decoration-color: #800080\">          </span>│<span style=\"color: #008000; text-decoration-color: #008000\">   False </span>│\n",
       "│<span style=\"color: #008080; text-decoration-color: #008080\">     94 </span>│<span style=\"color: #008080; text-decoration-color: #008080\"> 53035981 </span>│<span style=\"color: #008080; text-decoration-color: #008080\"> 032820… </span>│<span style=\"color: #800080; text-decoration-color: #800080\"> 03282024 </span>│<span style=\"color: #008000; text-decoration-color: #008000\">    True </span>│<span style=\"color: #008080; text-decoration-color: #008080\">     1657 </span>│<span style=\"color: #800080; text-decoration-color: #800080\"> 1557    </span>│<span style=\"color: #008000; text-decoration-color: #008000\">    False </span>│<span style=\"color: #008080; text-decoration-color: #008080\">     348 </span>│<span style=\"color: #800080; text-decoration-color: #800080\">          </span>│<span style=\"color: #008000; text-decoration-color: #008000\">   False </span>│\n",
       "│<span style=\"color: #008080; text-decoration-color: #008080\">     95 </span>│<span style=\"color: #008080; text-decoration-color: #008080\"> 53035987 </span>│<span style=\"color: #008080; text-decoration-color: #008080\"> 032820… </span>│<span style=\"color: #800080; text-decoration-color: #800080\">          </span>│<span style=\"color: #008000; text-decoration-color: #008000\">   False </span>│<span style=\"color: #008080; text-decoration-color: #008080\">      858 </span>│<span style=\"color: #800080; text-decoration-color: #800080\"> 858     </span>│<span style=\"color: #008000; text-decoration-color: #008000\">     True </span>│<span style=\"color: #008080; text-decoration-color: #008080\">     375 </span>│<span style=\"color: #800080; text-decoration-color: #800080\">          </span>│<span style=\"color: #008000; text-decoration-color: #008000\">   False </span>│\n",
       "│<span style=\"color: #008080; text-decoration-color: #008080\">     96 </span>│<span style=\"color: #008080; text-decoration-color: #008080\"> 53035988 </span>│<span style=\"color: #008080; text-decoration-color: #008080\"> 032820… </span>│<span style=\"color: #800080; text-decoration-color: #800080\">          </span>│<span style=\"color: #008000; text-decoration-color: #008000\">   False </span>│<span style=\"color: #008080; text-decoration-color: #008080\">      858 </span>│<span style=\"color: #800080; text-decoration-color: #800080\"> 858     </span>│<span style=\"color: #008000; text-decoration-color: #008000\">     True </span>│<span style=\"color: #008080; text-decoration-color: #008080\">     378 </span>│<span style=\"color: #800080; text-decoration-color: #800080\">          </span>│<span style=\"color: #008000; text-decoration-color: #008000\">   False </span>│\n",
       "│<span style=\"color: #008080; text-decoration-color: #008080\">     97 </span>│<span style=\"color: #008080; text-decoration-color: #008080\"> 53035990 </span>│<span style=\"color: #008080; text-decoration-color: #008080\"> 032820… </span>│<span style=\"color: #800080; text-decoration-color: #800080\">          </span>│<span style=\"color: #008000; text-decoration-color: #008000\">   False </span>│<span style=\"color: #008080; text-decoration-color: #008080\">      858 </span>│<span style=\"color: #800080; text-decoration-color: #800080\"> 858     </span>│<span style=\"color: #008000; text-decoration-color: #008000\">     True </span>│<span style=\"color: #008080; text-decoration-color: #008080\">     382 </span>│<span style=\"color: #800080; text-decoration-color: #800080\">          </span>│<span style=\"color: #008000; text-decoration-color: #008000\">   False </span>│\n",
       "│<span style=\"color: #008080; text-decoration-color: #008080\">     98 </span>│<span style=\"color: #008080; text-decoration-color: #008080\"> 53035991 </span>│<span style=\"color: #008080; text-decoration-color: #008080\"> 032820… </span>│<span style=\"color: #800080; text-decoration-color: #800080\">          </span>│<span style=\"color: #008000; text-decoration-color: #008000\">   False </span>│<span style=\"color: #008080; text-decoration-color: #008080\">      858 </span>│<span style=\"color: #800080; text-decoration-color: #800080\"> 858     </span>│<span style=\"color: #008000; text-decoration-color: #008000\">     True </span>│<span style=\"color: #008080; text-decoration-color: #008080\">     386 </span>│<span style=\"color: #800080; text-decoration-color: #800080\">          </span>│<span style=\"color: #008000; text-decoration-color: #008000\">   False </span>│\n",
       "│<span style=\"color: #008080; text-decoration-color: #008080\">     99 </span>│<span style=\"color: #008080; text-decoration-color: #008080\"> 53035992 </span>│<span style=\"color: #008080; text-decoration-color: #008080\"> 032820… </span>│<span style=\"color: #800080; text-decoration-color: #800080\">          </span>│<span style=\"color: #008000; text-decoration-color: #008000\">   False </span>│<span style=\"color: #008080; text-decoration-color: #008080\">     1567 </span>│<span style=\"color: #800080; text-decoration-color: #800080\"> 1557    </span>│<span style=\"color: #008000; text-decoration-color: #008000\">    False </span>│<span style=\"color: #008080; text-decoration-color: #008080\">     395 </span>│<span style=\"color: #800080; text-decoration-color: #800080\">          </span>│<span style=\"color: #008000; text-decoration-color: #008000\">   False </span>│\n",
       "└────────┴──────────┴─────────┴──────────┴─────────┴──────────┴─────────┴──────────┴─────────┴──────────┴─────────┘\n",
       "</pre>\n"
      ],
      "text/plain": [
       "\u001b[3m                                                      KY set2                                                      \u001b[0m\n",
       "┏━━━━━━━━┳━━━━━━━━━━┳━━━━━━━━━┳━━━━━━━━━━┳━━━━━━━━━┳━━━━━━━━━━┳━━━━━━━━━┳━━━━━━━━━━┳━━━━━━━━━┳━━━━━━━━━━┳━━━━━━━━━┓\n",
       "┃\u001b[1m \u001b[0m\u001b[1mS. No.\u001b[0m\u001b[1m \u001b[0m┃\u001b[1m \u001b[0m\u001b[1m Batchid\u001b[0m\u001b[1m \u001b[0m┃\u001b[1m \u001b[0m\u001b[1m6-keye…\u001b[0m\u001b[1m \u001b[0m┃\u001b[1m \u001b[0m\u001b[1m6-spacy…\u001b[0m\u001b[1m \u001b[0m┃\u001b[1m \u001b[0m\u001b[1m6-matc…\u001b[0m\u001b[1m \u001b[0m┃\u001b[1m \u001b[0m\u001b[1m92-keye…\u001b[0m\u001b[1m \u001b[0m┃\u001b[1m \u001b[0m\u001b[1m92-spa…\u001b[0m\u001b[1m \u001b[0m┃\u001b[1m \u001b[0m\u001b[1m92-matc…\u001b[0m\u001b[1m \u001b[0m┃\u001b[1m \u001b[0m\u001b[1m93-key…\u001b[0m\u001b[1m \u001b[0m┃\u001b[1m \u001b[0m\u001b[1m93-spac…\u001b[0m\u001b[1m \u001b[0m┃\u001b[1m \u001b[0m\u001b[1m93-mat…\u001b[0m\u001b[1m \u001b[0m┃\n",
       "┡━━━━━━━━╇━━━━━━━━━━╇━━━━━━━━━╇━━━━━━━━━━╇━━━━━━━━━╇━━━━━━━━━━╇━━━━━━━━━╇━━━━━━━━━━╇━━━━━━━━━╇━━━━━━━━━━╇━━━━━━━━━┩\n",
       "│\u001b[36m \u001b[0m\u001b[36m    43\u001b[0m\u001b[36m \u001b[0m│\u001b[36m \u001b[0m\u001b[36m52792421\u001b[0m\u001b[36m \u001b[0m│\u001b[36m \u001b[0m\u001b[36m032520…\u001b[0m\u001b[36m \u001b[0m│\u001b[35m \u001b[0m\u001b[35m        \u001b[0m\u001b[35m \u001b[0m│\u001b[32m \u001b[0m\u001b[32m  False\u001b[0m\u001b[32m \u001b[0m│\u001b[36m \u001b[0m\u001b[36m     858\u001b[0m\u001b[36m \u001b[0m│\u001b[35m \u001b[0m\u001b[35m858    \u001b[0m\u001b[35m \u001b[0m│\u001b[32m \u001b[0m\u001b[32m    True\u001b[0m\u001b[32m \u001b[0m│\u001b[36m \u001b[0m\u001b[36m    282\u001b[0m\u001b[36m \u001b[0m│\u001b[35m \u001b[0m\u001b[35m        \u001b[0m\u001b[35m \u001b[0m│\u001b[32m \u001b[0m\u001b[32m  False\u001b[0m\u001b[32m \u001b[0m│\n",
       "│\u001b[36m \u001b[0m\u001b[36m    44\u001b[0m\u001b[36m \u001b[0m│\u001b[36m \u001b[0m\u001b[36m52792428\u001b[0m\u001b[36m \u001b[0m│\u001b[36m \u001b[0m\u001b[36m032520…\u001b[0m\u001b[36m \u001b[0m│\u001b[35m \u001b[0m\u001b[35m        \u001b[0m\u001b[35m \u001b[0m│\u001b[32m \u001b[0m\u001b[32m  False\u001b[0m\u001b[32m \u001b[0m│\u001b[36m \u001b[0m\u001b[36m    1557\u001b[0m\u001b[36m \u001b[0m│\u001b[35m \u001b[0m\u001b[35m1557   \u001b[0m\u001b[35m \u001b[0m│\u001b[32m \u001b[0m\u001b[32m    True\u001b[0m\u001b[32m \u001b[0m│\u001b[36m \u001b[0m\u001b[36m     10\u001b[0m\u001b[36m \u001b[0m│\u001b[35m \u001b[0m\u001b[35m        \u001b[0m\u001b[35m \u001b[0m│\u001b[32m \u001b[0m\u001b[32m  False\u001b[0m\u001b[32m \u001b[0m│\n",
       "│\u001b[36m \u001b[0m\u001b[36m    45\u001b[0m\u001b[36m \u001b[0m│\u001b[36m \u001b[0m\u001b[36m52792429\u001b[0m\u001b[36m \u001b[0m│\u001b[36m \u001b[0m\u001b[36m032520…\u001b[0m\u001b[36m \u001b[0m│\u001b[35m \u001b[0m\u001b[35m        \u001b[0m\u001b[35m \u001b[0m│\u001b[32m \u001b[0m\u001b[32m  False\u001b[0m\u001b[32m \u001b[0m│\u001b[36m \u001b[0m\u001b[36m     858\u001b[0m\u001b[36m \u001b[0m│\u001b[35m \u001b[0m\u001b[35m858    \u001b[0m\u001b[35m \u001b[0m│\u001b[32m \u001b[0m\u001b[32m    True\u001b[0m\u001b[32m \u001b[0m│\u001b[36m \u001b[0m\u001b[36m    289\u001b[0m\u001b[36m \u001b[0m│\u001b[35m \u001b[0m\u001b[35m        \u001b[0m\u001b[35m \u001b[0m│\u001b[32m \u001b[0m\u001b[32m  False\u001b[0m\u001b[32m \u001b[0m│\n",
       "│\u001b[36m \u001b[0m\u001b[36m    46\u001b[0m\u001b[36m \u001b[0m│\u001b[36m \u001b[0m\u001b[36m52792431\u001b[0m\u001b[36m \u001b[0m│\u001b[36m \u001b[0m\u001b[36m032520…\u001b[0m\u001b[36m \u001b[0m│\u001b[35m \u001b[0m\u001b[35m        \u001b[0m\u001b[35m \u001b[0m│\u001b[32m \u001b[0m\u001b[32m  False\u001b[0m\u001b[32m \u001b[0m│\u001b[36m \u001b[0m\u001b[36m     287\u001b[0m\u001b[36m \u001b[0m│\u001b[35m \u001b[0m\u001b[35m287    \u001b[0m\u001b[35m \u001b[0m│\u001b[32m \u001b[0m\u001b[32m    True\u001b[0m\u001b[32m \u001b[0m│\u001b[36m \u001b[0m\u001b[36m     25\u001b[0m\u001b[36m \u001b[0m│\u001b[35m \u001b[0m\u001b[35m        \u001b[0m\u001b[35m \u001b[0m│\u001b[32m \u001b[0m\u001b[32m  False\u001b[0m\u001b[32m \u001b[0m│\n",
       "│\u001b[36m \u001b[0m\u001b[36m    47\u001b[0m\u001b[36m \u001b[0m│\u001b[36m \u001b[0m\u001b[36m52792432\u001b[0m\u001b[36m \u001b[0m│\u001b[36m \u001b[0m\u001b[36m032520…\u001b[0m\u001b[36m \u001b[0m│\u001b[35m \u001b[0m\u001b[35m        \u001b[0m\u001b[35m \u001b[0m│\u001b[32m \u001b[0m\u001b[32m  False\u001b[0m\u001b[32m \u001b[0m│\u001b[36m \u001b[0m\u001b[36m     287\u001b[0m\u001b[36m \u001b[0m│\u001b[35m \u001b[0m\u001b[35m       \u001b[0m\u001b[35m \u001b[0m│\u001b[32m \u001b[0m\u001b[32m   False\u001b[0m\u001b[32m \u001b[0m│\u001b[36m \u001b[0m\u001b[36m     26\u001b[0m\u001b[36m \u001b[0m│\u001b[35m \u001b[0m\u001b[35m        \u001b[0m\u001b[35m \u001b[0m│\u001b[32m \u001b[0m\u001b[32m  False\u001b[0m\u001b[32m \u001b[0m│\n",
       "│\u001b[36m \u001b[0m\u001b[36m    48\u001b[0m\u001b[36m \u001b[0m│\u001b[36m \u001b[0m\u001b[36m52792435\u001b[0m\u001b[36m \u001b[0m│\u001b[36m \u001b[0m\u001b[36m032520…\u001b[0m\u001b[36m \u001b[0m│\u001b[35m \u001b[0m\u001b[35m03252024\u001b[0m\u001b[35m \u001b[0m│\u001b[32m \u001b[0m\u001b[32m   True\u001b[0m\u001b[32m \u001b[0m│\u001b[36m \u001b[0m\u001b[36m     287\u001b[0m\u001b[36m \u001b[0m│\u001b[35m \u001b[0m\u001b[35m287    \u001b[0m\u001b[35m \u001b[0m│\u001b[32m \u001b[0m\u001b[32m    True\u001b[0m\u001b[32m \u001b[0m│\u001b[36m \u001b[0m\u001b[36m     30\u001b[0m\u001b[36m \u001b[0m│\u001b[35m \u001b[0m\u001b[35m        \u001b[0m\u001b[35m \u001b[0m│\u001b[32m \u001b[0m\u001b[32m  False\u001b[0m\u001b[32m \u001b[0m│\n",
       "│\u001b[36m \u001b[0m\u001b[36m    49\u001b[0m\u001b[36m \u001b[0m│\u001b[36m \u001b[0m\u001b[36m52792438\u001b[0m\u001b[36m \u001b[0m│\u001b[36m \u001b[0m\u001b[36m032520…\u001b[0m\u001b[36m \u001b[0m│\u001b[35m \u001b[0m\u001b[35m03252024\u001b[0m\u001b[35m \u001b[0m│\u001b[32m \u001b[0m\u001b[32m   True\u001b[0m\u001b[32m \u001b[0m│\u001b[36m \u001b[0m\u001b[36m     858\u001b[0m\u001b[36m \u001b[0m│\u001b[35m \u001b[0m\u001b[35m858    \u001b[0m\u001b[35m \u001b[0m│\u001b[32m \u001b[0m\u001b[32m    True\u001b[0m\u001b[32m \u001b[0m│\u001b[36m \u001b[0m\u001b[36m    296\u001b[0m\u001b[36m \u001b[0m│\u001b[35m \u001b[0m\u001b[35m        \u001b[0m\u001b[35m \u001b[0m│\u001b[32m \u001b[0m\u001b[32m  False\u001b[0m\u001b[32m \u001b[0m│\n",
       "│\u001b[36m \u001b[0m\u001b[36m    50\u001b[0m\u001b[36m \u001b[0m│\u001b[36m \u001b[0m\u001b[36m52792439\u001b[0m\u001b[36m \u001b[0m│\u001b[36m \u001b[0m\u001b[36m032520…\u001b[0m\u001b[36m \u001b[0m│\u001b[35m \u001b[0m\u001b[35m03252024\u001b[0m\u001b[35m \u001b[0m│\u001b[32m \u001b[0m\u001b[32m   True\u001b[0m\u001b[32m \u001b[0m│\u001b[36m \u001b[0m\u001b[36m     858\u001b[0m\u001b[36m \u001b[0m│\u001b[35m \u001b[0m\u001b[35m858    \u001b[0m\u001b[35m \u001b[0m│\u001b[32m \u001b[0m\u001b[32m    True\u001b[0m\u001b[32m \u001b[0m│\u001b[36m \u001b[0m\u001b[36m    300\u001b[0m\u001b[36m \u001b[0m│\u001b[35m \u001b[0m\u001b[35m        \u001b[0m\u001b[35m \u001b[0m│\u001b[32m \u001b[0m\u001b[32m  False\u001b[0m\u001b[32m \u001b[0m│\n",
       "│\u001b[36m \u001b[0m\u001b[36m    51\u001b[0m\u001b[36m \u001b[0m│\u001b[36m \u001b[0m\u001b[36m52792440\u001b[0m\u001b[36m \u001b[0m│\u001b[36m \u001b[0m\u001b[36m032520…\u001b[0m\u001b[36m \u001b[0m│\u001b[35m \u001b[0m\u001b[35m03252024\u001b[0m\u001b[35m \u001b[0m│\u001b[32m \u001b[0m\u001b[32m   True\u001b[0m\u001b[32m \u001b[0m│\u001b[36m \u001b[0m\u001b[36m     858\u001b[0m\u001b[36m \u001b[0m│\u001b[35m \u001b[0m\u001b[35m858    \u001b[0m\u001b[35m \u001b[0m│\u001b[32m \u001b[0m\u001b[32m    True\u001b[0m\u001b[32m \u001b[0m│\u001b[36m \u001b[0m\u001b[36m    303\u001b[0m\u001b[36m \u001b[0m│\u001b[35m \u001b[0m\u001b[35m        \u001b[0m\u001b[35m \u001b[0m│\u001b[32m \u001b[0m\u001b[32m  False\u001b[0m\u001b[32m \u001b[0m│\n",
       "│\u001b[36m \u001b[0m\u001b[36m    52\u001b[0m\u001b[36m \u001b[0m│\u001b[36m \u001b[0m\u001b[36m52792444\u001b[0m\u001b[36m \u001b[0m│\u001b[36m \u001b[0m\u001b[36m032520…\u001b[0m\u001b[36m \u001b[0m│\u001b[35m \u001b[0m\u001b[35m03252024\u001b[0m\u001b[35m \u001b[0m│\u001b[32m \u001b[0m\u001b[32m   True\u001b[0m\u001b[32m \u001b[0m│\u001b[36m \u001b[0m\u001b[36m     858\u001b[0m\u001b[36m \u001b[0m│\u001b[35m \u001b[0m\u001b[35m858    \u001b[0m\u001b[35m \u001b[0m│\u001b[32m \u001b[0m\u001b[32m    True\u001b[0m\u001b[32m \u001b[0m│\u001b[36m \u001b[0m\u001b[36m    307\u001b[0m\u001b[36m \u001b[0m│\u001b[35m \u001b[0m\u001b[35m        \u001b[0m\u001b[35m \u001b[0m│\u001b[32m \u001b[0m\u001b[32m  False\u001b[0m\u001b[32m \u001b[0m│\n",
       "│\u001b[36m \u001b[0m\u001b[36m    53\u001b[0m\u001b[36m \u001b[0m│\u001b[36m \u001b[0m\u001b[36m52792446\u001b[0m\u001b[36m \u001b[0m│\u001b[36m \u001b[0m\u001b[36m032520…\u001b[0m\u001b[36m \u001b[0m│\u001b[35m \u001b[0m\u001b[35m03252024\u001b[0m\u001b[35m \u001b[0m│\u001b[32m \u001b[0m\u001b[32m   True\u001b[0m\u001b[32m \u001b[0m│\u001b[36m \u001b[0m\u001b[36m     858\u001b[0m\u001b[36m \u001b[0m│\u001b[35m \u001b[0m\u001b[35m858    \u001b[0m\u001b[35m \u001b[0m│\u001b[32m \u001b[0m\u001b[32m    True\u001b[0m\u001b[32m \u001b[0m│\u001b[36m \u001b[0m\u001b[36m    313\u001b[0m\u001b[36m \u001b[0m│\u001b[35m \u001b[0m\u001b[35m        \u001b[0m\u001b[35m \u001b[0m│\u001b[32m \u001b[0m\u001b[32m  False\u001b[0m\u001b[32m \u001b[0m│\n",
       "│\u001b[36m \u001b[0m\u001b[36m    54\u001b[0m\u001b[36m \u001b[0m│\u001b[36m \u001b[0m\u001b[36m52792447\u001b[0m\u001b[36m \u001b[0m│\u001b[36m \u001b[0m\u001b[36m032520…\u001b[0m\u001b[36m \u001b[0m│\u001b[35m \u001b[0m\u001b[35m03252024\u001b[0m\u001b[35m \u001b[0m│\u001b[32m \u001b[0m\u001b[32m   True\u001b[0m\u001b[32m \u001b[0m│\u001b[36m \u001b[0m\u001b[36m    1557\u001b[0m\u001b[36m \u001b[0m│\u001b[35m \u001b[0m\u001b[35m1557   \u001b[0m\u001b[35m \u001b[0m│\u001b[32m \u001b[0m\u001b[32m    True\u001b[0m\u001b[32m \u001b[0m│\u001b[36m \u001b[0m\u001b[36m     44\u001b[0m\u001b[36m \u001b[0m│\u001b[35m \u001b[0m\u001b[35m        \u001b[0m\u001b[35m \u001b[0m│\u001b[32m \u001b[0m\u001b[32m  False\u001b[0m\u001b[32m \u001b[0m│\n",
       "│\u001b[36m \u001b[0m\u001b[36m    55\u001b[0m\u001b[36m \u001b[0m│\u001b[36m \u001b[0m\u001b[36m52792448\u001b[0m\u001b[36m \u001b[0m│\u001b[36m \u001b[0m\u001b[36m032520…\u001b[0m\u001b[36m \u001b[0m│\u001b[35m \u001b[0m\u001b[35m03252024\u001b[0m\u001b[35m \u001b[0m│\u001b[32m \u001b[0m\u001b[32m   True\u001b[0m\u001b[32m \u001b[0m│\u001b[36m \u001b[0m\u001b[36m     858\u001b[0m\u001b[36m \u001b[0m│\u001b[35m \u001b[0m\u001b[35m858    \u001b[0m\u001b[35m \u001b[0m│\u001b[32m \u001b[0m\u001b[32m    True\u001b[0m\u001b[32m \u001b[0m│\u001b[36m \u001b[0m\u001b[36m    318\u001b[0m\u001b[36m \u001b[0m│\u001b[35m \u001b[0m\u001b[35m        \u001b[0m\u001b[35m \u001b[0m│\u001b[32m \u001b[0m\u001b[32m  False\u001b[0m\u001b[32m \u001b[0m│\n",
       "│\u001b[36m \u001b[0m\u001b[36m    56\u001b[0m\u001b[36m \u001b[0m│\u001b[36m \u001b[0m\u001b[36m52792452\u001b[0m\u001b[36m \u001b[0m│\u001b[36m \u001b[0m\u001b[36m032520…\u001b[0m\u001b[36m \u001b[0m│\u001b[35m \u001b[0m\u001b[35m        \u001b[0m\u001b[35m \u001b[0m│\u001b[32m \u001b[0m\u001b[32m  False\u001b[0m\u001b[32m \u001b[0m│\u001b[36m \u001b[0m\u001b[36m     858\u001b[0m\u001b[36m \u001b[0m│\u001b[35m \u001b[0m\u001b[35m858    \u001b[0m\u001b[35m \u001b[0m│\u001b[32m \u001b[0m\u001b[32m    True\u001b[0m\u001b[32m \u001b[0m│\u001b[36m \u001b[0m\u001b[36m    321\u001b[0m\u001b[36m \u001b[0m│\u001b[35m \u001b[0m\u001b[35m        \u001b[0m\u001b[35m \u001b[0m│\u001b[32m \u001b[0m\u001b[32m  False\u001b[0m\u001b[32m \u001b[0m│\n",
       "│\u001b[36m \u001b[0m\u001b[36m    57\u001b[0m\u001b[36m \u001b[0m│\u001b[36m \u001b[0m\u001b[36m52836324\u001b[0m\u001b[36m \u001b[0m│\u001b[36m \u001b[0m\u001b[36m032620…\u001b[0m\u001b[36m \u001b[0m│\u001b[35m \u001b[0m\u001b[35m        \u001b[0m\u001b[35m \u001b[0m│\u001b[32m \u001b[0m\u001b[32m  False\u001b[0m\u001b[32m \u001b[0m│\u001b[36m \u001b[0m\u001b[36m     858\u001b[0m\u001b[36m \u001b[0m│\u001b[35m \u001b[0m\u001b[35m858    \u001b[0m\u001b[35m \u001b[0m│\u001b[32m \u001b[0m\u001b[32m    True\u001b[0m\u001b[32m \u001b[0m│\u001b[36m \u001b[0m\u001b[36m    323\u001b[0m\u001b[36m \u001b[0m│\u001b[35m \u001b[0m\u001b[35m        \u001b[0m\u001b[35m \u001b[0m│\u001b[32m \u001b[0m\u001b[32m  False\u001b[0m\u001b[32m \u001b[0m│\n",
       "│\u001b[36m \u001b[0m\u001b[36m    58\u001b[0m\u001b[36m \u001b[0m│\u001b[36m \u001b[0m\u001b[36m52836328\u001b[0m\u001b[36m \u001b[0m│\u001b[36m \u001b[0m\u001b[36m032620…\u001b[0m\u001b[36m \u001b[0m│\u001b[35m \u001b[0m\u001b[35m        \u001b[0m\u001b[35m \u001b[0m│\u001b[32m \u001b[0m\u001b[32m  False\u001b[0m\u001b[32m \u001b[0m│\u001b[36m \u001b[0m\u001b[36m     287\u001b[0m\u001b[36m \u001b[0m│\u001b[35m \u001b[0m\u001b[35m287    \u001b[0m\u001b[35m \u001b[0m│\u001b[32m \u001b[0m\u001b[32m    True\u001b[0m\u001b[32m \u001b[0m│\u001b[36m \u001b[0m\u001b[36m     31\u001b[0m\u001b[36m \u001b[0m│\u001b[35m \u001b[0m\u001b[35m        \u001b[0m\u001b[35m \u001b[0m│\u001b[32m \u001b[0m\u001b[32m  False\u001b[0m\u001b[32m \u001b[0m│\n",
       "│\u001b[36m \u001b[0m\u001b[36m    59\u001b[0m\u001b[36m \u001b[0m│\u001b[36m \u001b[0m\u001b[36m52836329\u001b[0m\u001b[36m \u001b[0m│\u001b[36m \u001b[0m\u001b[36m032620…\u001b[0m\u001b[36m \u001b[0m│\u001b[35m \u001b[0m\u001b[35m        \u001b[0m\u001b[35m \u001b[0m│\u001b[32m \u001b[0m\u001b[32m  False\u001b[0m\u001b[32m \u001b[0m│\u001b[36m \u001b[0m\u001b[36m     287\u001b[0m\u001b[36m \u001b[0m│\u001b[35m \u001b[0m\u001b[35m287    \u001b[0m\u001b[35m \u001b[0m│\u001b[32m \u001b[0m\u001b[32m    True\u001b[0m\u001b[32m \u001b[0m│\u001b[36m \u001b[0m\u001b[36m     32\u001b[0m\u001b[36m \u001b[0m│\u001b[35m \u001b[0m\u001b[35m        \u001b[0m\u001b[35m \u001b[0m│\u001b[32m \u001b[0m\u001b[32m  False\u001b[0m\u001b[32m \u001b[0m│\n",
       "│\u001b[36m \u001b[0m\u001b[36m    60\u001b[0m\u001b[36m \u001b[0m│\u001b[36m \u001b[0m\u001b[36m52836335\u001b[0m\u001b[36m \u001b[0m│\u001b[36m \u001b[0m\u001b[36m032620…\u001b[0m\u001b[36m \u001b[0m│\u001b[35m \u001b[0m\u001b[35m03262024\u001b[0m\u001b[35m \u001b[0m│\u001b[32m \u001b[0m\u001b[32m   True\u001b[0m\u001b[32m \u001b[0m│\u001b[36m \u001b[0m\u001b[36m     287\u001b[0m\u001b[36m \u001b[0m│\u001b[35m \u001b[0m\u001b[35m287    \u001b[0m\u001b[35m \u001b[0m│\u001b[32m \u001b[0m\u001b[32m    True\u001b[0m\u001b[32m \u001b[0m│\u001b[36m \u001b[0m\u001b[36m     37\u001b[0m\u001b[36m \u001b[0m│\u001b[35m \u001b[0m\u001b[35m        \u001b[0m\u001b[35m \u001b[0m│\u001b[32m \u001b[0m\u001b[32m  False\u001b[0m\u001b[32m \u001b[0m│\n",
       "│\u001b[36m \u001b[0m\u001b[36m    61\u001b[0m\u001b[36m \u001b[0m│\u001b[36m \u001b[0m\u001b[36m52836336\u001b[0m\u001b[36m \u001b[0m│\u001b[36m \u001b[0m\u001b[36m032620…\u001b[0m\u001b[36m \u001b[0m│\u001b[35m \u001b[0m\u001b[35m03262024\u001b[0m\u001b[35m \u001b[0m│\u001b[32m \u001b[0m\u001b[32m   True\u001b[0m\u001b[32m \u001b[0m│\u001b[36m \u001b[0m\u001b[36m     102\u001b[0m\u001b[36m \u001b[0m│\u001b[35m \u001b[0m\u001b[35m102    \u001b[0m\u001b[35m \u001b[0m│\u001b[32m \u001b[0m\u001b[32m    True\u001b[0m\u001b[32m \u001b[0m│\u001b[36m \u001b[0m\u001b[36m    323\u001b[0m\u001b[36m \u001b[0m│\u001b[35m \u001b[0m\u001b[35m        \u001b[0m\u001b[35m \u001b[0m│\u001b[32m \u001b[0m\u001b[32m  False\u001b[0m\u001b[32m \u001b[0m│\n",
       "│\u001b[36m \u001b[0m\u001b[36m    62\u001b[0m\u001b[36m \u001b[0m│\u001b[36m \u001b[0m\u001b[36m52880930\u001b[0m\u001b[36m \u001b[0m│\u001b[36m \u001b[0m\u001b[36m032720…\u001b[0m\u001b[36m \u001b[0m│\u001b[35m \u001b[0m\u001b[35m03272024\u001b[0m\u001b[35m \u001b[0m│\u001b[32m \u001b[0m\u001b[32m   True\u001b[0m\u001b[32m \u001b[0m│\u001b[36m \u001b[0m\u001b[36m     287\u001b[0m\u001b[36m \u001b[0m│\u001b[35m \u001b[0m\u001b[35m287    \u001b[0m\u001b[35m \u001b[0m│\u001b[32m \u001b[0m\u001b[32m    True\u001b[0m\u001b[32m \u001b[0m│\u001b[36m \u001b[0m\u001b[36m    441\u001b[0m\u001b[36m \u001b[0m│\u001b[35m \u001b[0m\u001b[35m        \u001b[0m\u001b[35m \u001b[0m│\u001b[32m \u001b[0m\u001b[32m  False\u001b[0m\u001b[32m \u001b[0m│\n",
       "│\u001b[36m \u001b[0m\u001b[36m    63\u001b[0m\u001b[36m \u001b[0m│\u001b[36m \u001b[0m\u001b[36m52880932\u001b[0m\u001b[36m \u001b[0m│\u001b[36m \u001b[0m\u001b[36m032720…\u001b[0m\u001b[36m \u001b[0m│\u001b[35m \u001b[0m\u001b[35m        \u001b[0m\u001b[35m \u001b[0m│\u001b[32m \u001b[0m\u001b[32m  False\u001b[0m\u001b[32m \u001b[0m│\u001b[36m \u001b[0m\u001b[36m     287\u001b[0m\u001b[36m \u001b[0m│\u001b[35m \u001b[0m\u001b[35m287    \u001b[0m\u001b[35m \u001b[0m│\u001b[32m \u001b[0m\u001b[32m    True\u001b[0m\u001b[32m \u001b[0m│\u001b[36m \u001b[0m\u001b[36m     46\u001b[0m\u001b[36m \u001b[0m│\u001b[35m \u001b[0m\u001b[35m        \u001b[0m\u001b[35m \u001b[0m│\u001b[32m \u001b[0m\u001b[32m  False\u001b[0m\u001b[32m \u001b[0m│\n",
       "│\u001b[36m \u001b[0m\u001b[36m    64\u001b[0m\u001b[36m \u001b[0m│\u001b[36m \u001b[0m\u001b[36m52880933\u001b[0m\u001b[36m \u001b[0m│\u001b[36m \u001b[0m\u001b[36m032720…\u001b[0m\u001b[36m \u001b[0m│\u001b[35m \u001b[0m\u001b[35m03272024\u001b[0m\u001b[35m \u001b[0m│\u001b[32m \u001b[0m\u001b[32m   True\u001b[0m\u001b[32m \u001b[0m│\u001b[36m \u001b[0m\u001b[36m    1557\u001b[0m\u001b[36m \u001b[0m│\u001b[35m \u001b[0m\u001b[35m1557   \u001b[0m\u001b[35m \u001b[0m│\u001b[32m \u001b[0m\u001b[32m    True\u001b[0m\u001b[32m \u001b[0m│\u001b[36m \u001b[0m\u001b[36m    126\u001b[0m\u001b[36m \u001b[0m│\u001b[35m \u001b[0m\u001b[35m        \u001b[0m\u001b[35m \u001b[0m│\u001b[32m \u001b[0m\u001b[32m  False\u001b[0m\u001b[32m \u001b[0m│\n",
       "│\u001b[36m \u001b[0m\u001b[36m    65\u001b[0m\u001b[36m \u001b[0m│\u001b[36m \u001b[0m\u001b[36m52880935\u001b[0m\u001b[36m \u001b[0m│\u001b[36m \u001b[0m\u001b[36m032720…\u001b[0m\u001b[36m \u001b[0m│\u001b[35m \u001b[0m\u001b[35m        \u001b[0m\u001b[35m \u001b[0m│\u001b[32m \u001b[0m\u001b[32m  False\u001b[0m\u001b[32m \u001b[0m│\u001b[36m \u001b[0m\u001b[36m     287\u001b[0m\u001b[36m \u001b[0m│\u001b[35m \u001b[0m\u001b[35m1219   \u001b[0m\u001b[35m \u001b[0m│\u001b[32m \u001b[0m\u001b[32m   False\u001b[0m\u001b[32m \u001b[0m│\u001b[36m \u001b[0m\u001b[36m     49\u001b[0m\u001b[36m \u001b[0m│\u001b[35m \u001b[0m\u001b[35m        \u001b[0m\u001b[35m \u001b[0m│\u001b[32m \u001b[0m\u001b[32m  False\u001b[0m\u001b[32m \u001b[0m│\n",
       "│\u001b[36m \u001b[0m\u001b[36m    66\u001b[0m\u001b[36m \u001b[0m│\u001b[36m \u001b[0m\u001b[36m52880936\u001b[0m\u001b[36m \u001b[0m│\u001b[36m \u001b[0m\u001b[36m032720…\u001b[0m\u001b[36m \u001b[0m│\u001b[35m \u001b[0m\u001b[35m        \u001b[0m\u001b[35m \u001b[0m│\u001b[32m \u001b[0m\u001b[32m  False\u001b[0m\u001b[32m \u001b[0m│\u001b[36m \u001b[0m\u001b[36m     287\u001b[0m\u001b[36m \u001b[0m│\u001b[35m \u001b[0m\u001b[35m287    \u001b[0m\u001b[35m \u001b[0m│\u001b[32m \u001b[0m\u001b[32m    True\u001b[0m\u001b[32m \u001b[0m│\u001b[36m \u001b[0m\u001b[36m     61\u001b[0m\u001b[36m \u001b[0m│\u001b[35m \u001b[0m\u001b[35m        \u001b[0m\u001b[35m \u001b[0m│\u001b[32m \u001b[0m\u001b[32m  False\u001b[0m\u001b[32m \u001b[0m│\n",
       "│\u001b[36m \u001b[0m\u001b[36m    67\u001b[0m\u001b[36m \u001b[0m│\u001b[36m \u001b[0m\u001b[36m52880938\u001b[0m\u001b[36m \u001b[0m│\u001b[36m \u001b[0m\u001b[36m031920…\u001b[0m\u001b[36m \u001b[0m│\u001b[35m \u001b[0m\u001b[35m        \u001b[0m\u001b[35m \u001b[0m│\u001b[32m \u001b[0m\u001b[32m  False\u001b[0m\u001b[32m \u001b[0m│\u001b[36m \u001b[0m\u001b[36m     287\u001b[0m\u001b[36m \u001b[0m│\u001b[35m \u001b[0m\u001b[35m287    \u001b[0m\u001b[35m \u001b[0m│\u001b[32m \u001b[0m\u001b[32m    True\u001b[0m\u001b[32m \u001b[0m│\u001b[36m \u001b[0m\u001b[36m     55\u001b[0m\u001b[36m \u001b[0m│\u001b[35m \u001b[0m\u001b[35m        \u001b[0m\u001b[35m \u001b[0m│\u001b[32m \u001b[0m\u001b[32m  False\u001b[0m\u001b[32m \u001b[0m│\n",
       "│\u001b[36m \u001b[0m\u001b[36m    68\u001b[0m\u001b[36m \u001b[0m│\u001b[36m \u001b[0m\u001b[36m52880939\u001b[0m\u001b[36m \u001b[0m│\u001b[36m \u001b[0m\u001b[36m032720…\u001b[0m\u001b[36m \u001b[0m│\u001b[35m \u001b[0m\u001b[35m        \u001b[0m\u001b[35m \u001b[0m│\u001b[32m \u001b[0m\u001b[32m  False\u001b[0m\u001b[32m \u001b[0m│\u001b[36m \u001b[0m\u001b[36m     287\u001b[0m\u001b[36m \u001b[0m│\u001b[35m \u001b[0m\u001b[35m287    \u001b[0m\u001b[35m \u001b[0m│\u001b[32m \u001b[0m\u001b[32m    True\u001b[0m\u001b[32m \u001b[0m│\u001b[36m \u001b[0m\u001b[36m     57\u001b[0m\u001b[36m \u001b[0m│\u001b[35m \u001b[0m\u001b[35m        \u001b[0m\u001b[35m \u001b[0m│\u001b[32m \u001b[0m\u001b[32m  False\u001b[0m\u001b[32m \u001b[0m│\n",
       "│\u001b[36m \u001b[0m\u001b[36m    69\u001b[0m\u001b[36m \u001b[0m│\u001b[36m \u001b[0m\u001b[36m52880940\u001b[0m\u001b[36m \u001b[0m│\u001b[36m \u001b[0m\u001b[36m032720…\u001b[0m\u001b[36m \u001b[0m│\u001b[35m \u001b[0m\u001b[35m03272024\u001b[0m\u001b[35m \u001b[0m│\u001b[32m \u001b[0m\u001b[32m   True\u001b[0m\u001b[32m \u001b[0m│\u001b[36m \u001b[0m\u001b[36m     287\u001b[0m\u001b[36m \u001b[0m│\u001b[35m \u001b[0m\u001b[35m287    \u001b[0m\u001b[35m \u001b[0m│\u001b[32m \u001b[0m\u001b[32m    True\u001b[0m\u001b[32m \u001b[0m│\u001b[36m \u001b[0m\u001b[36m     59\u001b[0m\u001b[36m \u001b[0m│\u001b[35m \u001b[0m\u001b[35m        \u001b[0m\u001b[35m \u001b[0m│\u001b[32m \u001b[0m\u001b[32m  False\u001b[0m\u001b[32m \u001b[0m│\n",
       "│\u001b[36m \u001b[0m\u001b[36m    70\u001b[0m\u001b[36m \u001b[0m│\u001b[36m \u001b[0m\u001b[36m52880941\u001b[0m\u001b[36m \u001b[0m│\u001b[36m \u001b[0m\u001b[36m032720…\u001b[0m\u001b[36m \u001b[0m│\u001b[35m \u001b[0m\u001b[35m03272024\u001b[0m\u001b[35m \u001b[0m│\u001b[32m \u001b[0m\u001b[32m   True\u001b[0m\u001b[32m \u001b[0m│\u001b[36m \u001b[0m\u001b[36m     858\u001b[0m\u001b[36m \u001b[0m│\u001b[35m \u001b[0m\u001b[35m858    \u001b[0m\u001b[35m \u001b[0m│\u001b[32m \u001b[0m\u001b[32m    True\u001b[0m\u001b[32m \u001b[0m│\u001b[36m \u001b[0m\u001b[36m    337\u001b[0m\u001b[36m \u001b[0m│\u001b[35m \u001b[0m\u001b[35m        \u001b[0m\u001b[35m \u001b[0m│\u001b[32m \u001b[0m\u001b[32m  False\u001b[0m\u001b[32m \u001b[0m│\n",
       "│\u001b[36m \u001b[0m\u001b[36m    71\u001b[0m\u001b[36m \u001b[0m│\u001b[36m \u001b[0m\u001b[36m52880942\u001b[0m\u001b[36m \u001b[0m│\u001b[36m \u001b[0m\u001b[36m032720…\u001b[0m\u001b[36m \u001b[0m│\u001b[35m \u001b[0m\u001b[35m        \u001b[0m\u001b[35m \u001b[0m│\u001b[32m \u001b[0m\u001b[32m  False\u001b[0m\u001b[32m \u001b[0m│\u001b[36m \u001b[0m\u001b[36m    1557\u001b[0m\u001b[36m \u001b[0m│\u001b[35m \u001b[0m\u001b[35m1557   \u001b[0m\u001b[35m \u001b[0m│\u001b[32m \u001b[0m\u001b[32m    True\u001b[0m\u001b[32m \u001b[0m│\u001b[36m \u001b[0m\u001b[36m    132\u001b[0m\u001b[36m \u001b[0m│\u001b[35m \u001b[0m\u001b[35m        \u001b[0m\u001b[35m \u001b[0m│\u001b[32m \u001b[0m\u001b[32m  False\u001b[0m\u001b[32m \u001b[0m│\n",
       "│\u001b[36m \u001b[0m\u001b[36m    72\u001b[0m\u001b[36m \u001b[0m│\u001b[36m \u001b[0m\u001b[36m52880943\u001b[0m\u001b[36m \u001b[0m│\u001b[36m \u001b[0m\u001b[36m032720…\u001b[0m\u001b[36m \u001b[0m│\u001b[35m \u001b[0m\u001b[35m        \u001b[0m\u001b[35m \u001b[0m│\u001b[32m \u001b[0m\u001b[32m  False\u001b[0m\u001b[32m \u001b[0m│\u001b[36m \u001b[0m\u001b[36m     858\u001b[0m\u001b[36m \u001b[0m│\u001b[35m \u001b[0m\u001b[35m858    \u001b[0m\u001b[35m \u001b[0m│\u001b[32m \u001b[0m\u001b[32m    True\u001b[0m\u001b[32m \u001b[0m│\u001b[36m \u001b[0m\u001b[36m    342\u001b[0m\u001b[36m \u001b[0m│\u001b[35m \u001b[0m\u001b[35m        \u001b[0m\u001b[35m \u001b[0m│\u001b[32m \u001b[0m\u001b[32m  False\u001b[0m\u001b[32m \u001b[0m│\n",
       "│\u001b[36m \u001b[0m\u001b[36m    73\u001b[0m\u001b[36m \u001b[0m│\u001b[36m \u001b[0m\u001b[36m52880944\u001b[0m\u001b[36m \u001b[0m│\u001b[36m \u001b[0m\u001b[36m032720…\u001b[0m\u001b[36m \u001b[0m│\u001b[35m \u001b[0m\u001b[35m03272024\u001b[0m\u001b[35m \u001b[0m│\u001b[32m \u001b[0m\u001b[32m   True\u001b[0m\u001b[32m \u001b[0m│\u001b[36m \u001b[0m\u001b[36m    1557\u001b[0m\u001b[36m \u001b[0m│\u001b[35m \u001b[0m\u001b[35m1557   \u001b[0m\u001b[35m \u001b[0m│\u001b[32m \u001b[0m\u001b[32m    True\u001b[0m\u001b[32m \u001b[0m│\u001b[36m \u001b[0m\u001b[36m    156\u001b[0m\u001b[36m \u001b[0m│\u001b[35m \u001b[0m\u001b[35m        \u001b[0m\u001b[35m \u001b[0m│\u001b[32m \u001b[0m\u001b[32m  False\u001b[0m\u001b[32m \u001b[0m│\n",
       "│\u001b[36m \u001b[0m\u001b[36m    74\u001b[0m\u001b[36m \u001b[0m│\u001b[36m \u001b[0m\u001b[36m52880945\u001b[0m\u001b[36m \u001b[0m│\u001b[36m \u001b[0m\u001b[36m032720…\u001b[0m\u001b[36m \u001b[0m│\u001b[35m \u001b[0m\u001b[35m03272024\u001b[0m\u001b[35m \u001b[0m│\u001b[32m \u001b[0m\u001b[32m   True\u001b[0m\u001b[32m \u001b[0m│\u001b[36m \u001b[0m\u001b[36m     858\u001b[0m\u001b[36m \u001b[0m│\u001b[35m \u001b[0m\u001b[35m858    \u001b[0m\u001b[35m \u001b[0m│\u001b[32m \u001b[0m\u001b[32m    True\u001b[0m\u001b[32m \u001b[0m│\u001b[36m \u001b[0m\u001b[36m    346\u001b[0m\u001b[36m \u001b[0m│\u001b[35m \u001b[0m\u001b[35m        \u001b[0m\u001b[35m \u001b[0m│\u001b[32m \u001b[0m\u001b[32m  False\u001b[0m\u001b[32m \u001b[0m│\n",
       "│\u001b[36m \u001b[0m\u001b[36m    75\u001b[0m\u001b[36m \u001b[0m│\u001b[36m \u001b[0m\u001b[36m52880946\u001b[0m\u001b[36m \u001b[0m│\u001b[36m \u001b[0m\u001b[36m032720…\u001b[0m\u001b[36m \u001b[0m│\u001b[35m \u001b[0m\u001b[35m03272024\u001b[0m\u001b[35m \u001b[0m│\u001b[32m \u001b[0m\u001b[32m   True\u001b[0m\u001b[32m \u001b[0m│\u001b[36m \u001b[0m\u001b[36m     858\u001b[0m\u001b[36m \u001b[0m│\u001b[35m \u001b[0m\u001b[35m858    \u001b[0m\u001b[35m \u001b[0m│\u001b[32m \u001b[0m\u001b[32m    True\u001b[0m\u001b[32m \u001b[0m│\u001b[36m \u001b[0m\u001b[36m    349\u001b[0m\u001b[36m \u001b[0m│\u001b[35m \u001b[0m\u001b[35m        \u001b[0m\u001b[35m \u001b[0m│\u001b[32m \u001b[0m\u001b[32m  False\u001b[0m\u001b[32m \u001b[0m│\n",
       "│\u001b[36m \u001b[0m\u001b[36m    76\u001b[0m\u001b[36m \u001b[0m│\u001b[36m \u001b[0m\u001b[36m52880948\u001b[0m\u001b[36m \u001b[0m│\u001b[36m \u001b[0m\u001b[36m032720…\u001b[0m\u001b[36m \u001b[0m│\u001b[35m \u001b[0m\u001b[35m        \u001b[0m\u001b[35m \u001b[0m│\u001b[32m \u001b[0m\u001b[32m  False\u001b[0m\u001b[32m \u001b[0m│\u001b[36m \u001b[0m\u001b[36m    1557\u001b[0m\u001b[36m \u001b[0m│\u001b[35m \u001b[0m\u001b[35m1557   \u001b[0m\u001b[35m \u001b[0m│\u001b[32m \u001b[0m\u001b[32m    True\u001b[0m\u001b[32m \u001b[0m│\u001b[36m \u001b[0m\u001b[36m    179\u001b[0m\u001b[36m \u001b[0m│\u001b[35m \u001b[0m\u001b[35m        \u001b[0m\u001b[35m \u001b[0m│\u001b[32m \u001b[0m\u001b[32m  False\u001b[0m\u001b[32m \u001b[0m│\n",
       "│\u001b[36m \u001b[0m\u001b[36m    77\u001b[0m\u001b[36m \u001b[0m│\u001b[36m \u001b[0m\u001b[36m52880952\u001b[0m\u001b[36m \u001b[0m│\u001b[36m \u001b[0m\u001b[36m032720…\u001b[0m\u001b[36m \u001b[0m│\u001b[35m \u001b[0m\u001b[35m03272024\u001b[0m\u001b[35m \u001b[0m│\u001b[32m \u001b[0m\u001b[32m   True\u001b[0m\u001b[32m \u001b[0m│\u001b[36m \u001b[0m\u001b[36m     287\u001b[0m\u001b[36m \u001b[0m│\u001b[35m \u001b[0m\u001b[35m287    \u001b[0m\u001b[35m \u001b[0m│\u001b[32m \u001b[0m\u001b[32m    True\u001b[0m\u001b[32m \u001b[0m│\u001b[36m \u001b[0m\u001b[36m     61\u001b[0m\u001b[36m \u001b[0m│\u001b[35m \u001b[0m\u001b[35m        \u001b[0m\u001b[35m \u001b[0m│\u001b[32m \u001b[0m\u001b[32m  False\u001b[0m\u001b[32m \u001b[0m│\n",
       "│\u001b[36m \u001b[0m\u001b[36m    78\u001b[0m\u001b[36m \u001b[0m│\u001b[36m \u001b[0m\u001b[36m53035847\u001b[0m\u001b[36m \u001b[0m│\u001b[36m \u001b[0m\u001b[36m040120…\u001b[0m\u001b[36m \u001b[0m│\u001b[35m \u001b[0m\u001b[35m        \u001b[0m\u001b[35m \u001b[0m│\u001b[32m \u001b[0m\u001b[32m  False\u001b[0m\u001b[32m \u001b[0m│\u001b[36m \u001b[0m\u001b[36m     102\u001b[0m\u001b[36m \u001b[0m│\u001b[35m \u001b[0m\u001b[35m102    \u001b[0m\u001b[35m \u001b[0m│\u001b[32m \u001b[0m\u001b[32m    True\u001b[0m\u001b[32m \u001b[0m│\u001b[36m \u001b[0m\u001b[36m    333\u001b[0m\u001b[36m \u001b[0m│\u001b[35m \u001b[0m\u001b[35m        \u001b[0m\u001b[35m \u001b[0m│\u001b[32m \u001b[0m\u001b[32m  False\u001b[0m\u001b[32m \u001b[0m│\n",
       "│\u001b[36m \u001b[0m\u001b[36m    79\u001b[0m\u001b[36m \u001b[0m│\u001b[36m \u001b[0m\u001b[36m53035848\u001b[0m\u001b[36m \u001b[0m│\u001b[36m \u001b[0m\u001b[36m040120…\u001b[0m\u001b[36m \u001b[0m│\u001b[35m \u001b[0m\u001b[35m        \u001b[0m\u001b[35m \u001b[0m│\u001b[32m \u001b[0m\u001b[32m  False\u001b[0m\u001b[32m \u001b[0m│\u001b[36m \u001b[0m\u001b[36m     102\u001b[0m\u001b[36m \u001b[0m│\u001b[35m \u001b[0m\u001b[35m102    \u001b[0m\u001b[35m \u001b[0m│\u001b[32m \u001b[0m\u001b[32m    True\u001b[0m\u001b[32m \u001b[0m│\u001b[36m \u001b[0m\u001b[36m    337\u001b[0m\u001b[36m \u001b[0m│\u001b[35m \u001b[0m\u001b[35m        \u001b[0m\u001b[35m \u001b[0m│\u001b[32m \u001b[0m\u001b[32m  False\u001b[0m\u001b[32m \u001b[0m│\n",
       "│\u001b[36m \u001b[0m\u001b[36m    80\u001b[0m\u001b[36m \u001b[0m│\u001b[36m \u001b[0m\u001b[36m53035850\u001b[0m\u001b[36m \u001b[0m│\u001b[36m \u001b[0m\u001b[36m040120…\u001b[0m\u001b[36m \u001b[0m│\u001b[35m \u001b[0m\u001b[35m        \u001b[0m\u001b[35m \u001b[0m│\u001b[32m \u001b[0m\u001b[32m  False\u001b[0m\u001b[32m \u001b[0m│\u001b[36m \u001b[0m\u001b[36m    1557\u001b[0m\u001b[36m \u001b[0m│\u001b[35m \u001b[0m\u001b[35m1557   \u001b[0m\u001b[35m \u001b[0m│\u001b[32m \u001b[0m\u001b[32m    True\u001b[0m\u001b[32m \u001b[0m│\u001b[36m \u001b[0m\u001b[36m    428\u001b[0m\u001b[36m \u001b[0m│\u001b[35m \u001b[0m\u001b[35m        \u001b[0m\u001b[35m \u001b[0m│\u001b[32m \u001b[0m\u001b[32m  False\u001b[0m\u001b[32m \u001b[0m│\n",
       "│\u001b[36m \u001b[0m\u001b[36m    81\u001b[0m\u001b[36m \u001b[0m│\u001b[36m \u001b[0m\u001b[36m53035851\u001b[0m\u001b[36m \u001b[0m│\u001b[36m \u001b[0m\u001b[36m040120…\u001b[0m\u001b[36m \u001b[0m│\u001b[35m \u001b[0m\u001b[35m        \u001b[0m\u001b[35m \u001b[0m│\u001b[32m \u001b[0m\u001b[32m  False\u001b[0m\u001b[32m \u001b[0m│\u001b[36m \u001b[0m\u001b[36m     858\u001b[0m\u001b[36m \u001b[0m│\u001b[35m \u001b[0m\u001b[35m858    \u001b[0m\u001b[35m \u001b[0m│\u001b[32m \u001b[0m\u001b[32m    True\u001b[0m\u001b[32m \u001b[0m│\u001b[36m \u001b[0m\u001b[36m    394\u001b[0m\u001b[36m \u001b[0m│\u001b[35m \u001b[0m\u001b[35m        \u001b[0m\u001b[35m \u001b[0m│\u001b[32m \u001b[0m\u001b[32m  False\u001b[0m\u001b[32m \u001b[0m│\n",
       "│\u001b[36m \u001b[0m\u001b[36m    82\u001b[0m\u001b[36m \u001b[0m│\u001b[36m \u001b[0m\u001b[36m53035854\u001b[0m\u001b[36m \u001b[0m│\u001b[36m \u001b[0m\u001b[36m040120…\u001b[0m\u001b[36m \u001b[0m│\u001b[35m \u001b[0m\u001b[35m        \u001b[0m\u001b[35m \u001b[0m│\u001b[32m \u001b[0m\u001b[32m  False\u001b[0m\u001b[32m \u001b[0m│\u001b[36m \u001b[0m\u001b[36m     858\u001b[0m\u001b[36m \u001b[0m│\u001b[35m \u001b[0m\u001b[35m858    \u001b[0m\u001b[35m \u001b[0m│\u001b[32m \u001b[0m\u001b[32m    True\u001b[0m\u001b[32m \u001b[0m│\u001b[36m \u001b[0m\u001b[36m    400\u001b[0m\u001b[36m \u001b[0m│\u001b[35m \u001b[0m\u001b[35m        \u001b[0m\u001b[35m \u001b[0m│\u001b[32m \u001b[0m\u001b[32m  False\u001b[0m\u001b[32m \u001b[0m│\n",
       "│\u001b[36m \u001b[0m\u001b[36m    83\u001b[0m\u001b[36m \u001b[0m│\u001b[36m \u001b[0m\u001b[36m53035855\u001b[0m\u001b[36m \u001b[0m│\u001b[36m \u001b[0m\u001b[36m040120…\u001b[0m\u001b[36m \u001b[0m│\u001b[35m \u001b[0m\u001b[35m        \u001b[0m\u001b[35m \u001b[0m│\u001b[32m \u001b[0m\u001b[32m  False\u001b[0m\u001b[32m \u001b[0m│\u001b[36m \u001b[0m\u001b[36m     858\u001b[0m\u001b[36m \u001b[0m│\u001b[35m \u001b[0m\u001b[35m858    \u001b[0m\u001b[35m \u001b[0m│\u001b[32m \u001b[0m\u001b[32m    True\u001b[0m\u001b[32m \u001b[0m│\u001b[36m \u001b[0m\u001b[36m    410\u001b[0m\u001b[36m \u001b[0m│\u001b[35m \u001b[0m\u001b[35m        \u001b[0m\u001b[35m \u001b[0m│\u001b[32m \u001b[0m\u001b[32m  False\u001b[0m\u001b[32m \u001b[0m│\n",
       "│\u001b[36m \u001b[0m\u001b[36m    84\u001b[0m\u001b[36m \u001b[0m│\u001b[36m \u001b[0m\u001b[36m53035857\u001b[0m\u001b[36m \u001b[0m│\u001b[36m \u001b[0m\u001b[36m040120…\u001b[0m\u001b[36m \u001b[0m│\u001b[35m \u001b[0m\u001b[35m        \u001b[0m\u001b[35m \u001b[0m│\u001b[32m \u001b[0m\u001b[32m  False\u001b[0m\u001b[32m \u001b[0m│\u001b[36m \u001b[0m\u001b[36m     858\u001b[0m\u001b[36m \u001b[0m│\u001b[35m \u001b[0m\u001b[35m858    \u001b[0m\u001b[35m \u001b[0m│\u001b[32m \u001b[0m\u001b[32m    True\u001b[0m\u001b[32m \u001b[0m│\u001b[36m \u001b[0m\u001b[36m    418\u001b[0m\u001b[36m \u001b[0m│\u001b[35m \u001b[0m\u001b[35m        \u001b[0m\u001b[35m \u001b[0m│\u001b[32m \u001b[0m\u001b[32m  False\u001b[0m\u001b[32m \u001b[0m│\n",
       "│\u001b[36m \u001b[0m\u001b[36m    85\u001b[0m\u001b[36m \u001b[0m│\u001b[36m \u001b[0m\u001b[36m53035859\u001b[0m\u001b[36m \u001b[0m│\u001b[36m \u001b[0m\u001b[36m040120…\u001b[0m\u001b[36m \u001b[0m│\u001b[35m \u001b[0m\u001b[35m        \u001b[0m\u001b[35m \u001b[0m│\u001b[32m \u001b[0m\u001b[32m  False\u001b[0m\u001b[32m \u001b[0m│\u001b[36m \u001b[0m\u001b[36m     858\u001b[0m\u001b[36m \u001b[0m│\u001b[35m \u001b[0m\u001b[35m858    \u001b[0m\u001b[35m \u001b[0m│\u001b[32m \u001b[0m\u001b[32m    True\u001b[0m\u001b[32m \u001b[0m│\u001b[36m \u001b[0m\u001b[36m    422\u001b[0m\u001b[36m \u001b[0m│\u001b[35m \u001b[0m\u001b[35m        \u001b[0m\u001b[35m \u001b[0m│\u001b[32m \u001b[0m\u001b[32m  False\u001b[0m\u001b[32m \u001b[0m│\n",
       "│\u001b[36m \u001b[0m\u001b[36m    86\u001b[0m\u001b[36m \u001b[0m│\u001b[36m \u001b[0m\u001b[36m53035860\u001b[0m\u001b[36m \u001b[0m│\u001b[36m \u001b[0m\u001b[36m040120…\u001b[0m\u001b[36m \u001b[0m│\u001b[35m \u001b[0m\u001b[35m        \u001b[0m\u001b[35m \u001b[0m│\u001b[32m \u001b[0m\u001b[32m  False\u001b[0m\u001b[32m \u001b[0m│\u001b[36m \u001b[0m\u001b[36m     858\u001b[0m\u001b[36m \u001b[0m│\u001b[35m \u001b[0m\u001b[35m858    \u001b[0m\u001b[35m \u001b[0m│\u001b[32m \u001b[0m\u001b[32m    True\u001b[0m\u001b[32m \u001b[0m│\u001b[36m \u001b[0m\u001b[36m    427\u001b[0m\u001b[36m \u001b[0m│\u001b[35m \u001b[0m\u001b[35m        \u001b[0m\u001b[35m \u001b[0m│\u001b[32m \u001b[0m\u001b[32m  False\u001b[0m\u001b[32m \u001b[0m│\n",
       "│\u001b[36m \u001b[0m\u001b[36m    87\u001b[0m\u001b[36m \u001b[0m│\u001b[36m \u001b[0m\u001b[36m53035962\u001b[0m\u001b[36m \u001b[0m│\u001b[36m \u001b[0m\u001b[36m032820…\u001b[0m\u001b[36m \u001b[0m│\u001b[35m \u001b[0m\u001b[35m03282024\u001b[0m\u001b[35m \u001b[0m│\u001b[32m \u001b[0m\u001b[32m   True\u001b[0m\u001b[32m \u001b[0m│\u001b[36m \u001b[0m\u001b[36m     287\u001b[0m\u001b[36m \u001b[0m│\u001b[35m \u001b[0m\u001b[35m287    \u001b[0m\u001b[35m \u001b[0m│\u001b[32m \u001b[0m\u001b[32m    True\u001b[0m\u001b[32m \u001b[0m│\u001b[36m \u001b[0m\u001b[36m     63\u001b[0m\u001b[36m \u001b[0m│\u001b[35m \u001b[0m\u001b[35m        \u001b[0m\u001b[35m \u001b[0m│\u001b[32m \u001b[0m\u001b[32m  False\u001b[0m\u001b[32m \u001b[0m│\n",
       "│\u001b[36m \u001b[0m\u001b[36m    88\u001b[0m\u001b[36m \u001b[0m│\u001b[36m \u001b[0m\u001b[36m53035968\u001b[0m\u001b[36m \u001b[0m│\u001b[36m \u001b[0m\u001b[36m032820…\u001b[0m\u001b[36m \u001b[0m│\u001b[35m \u001b[0m\u001b[35m        \u001b[0m\u001b[35m \u001b[0m│\u001b[32m \u001b[0m\u001b[32m  False\u001b[0m\u001b[32m \u001b[0m│\u001b[36m \u001b[0m\u001b[36m     858\u001b[0m\u001b[36m \u001b[0m│\u001b[35m \u001b[0m\u001b[35m858    \u001b[0m\u001b[35m \u001b[0m│\u001b[32m \u001b[0m\u001b[32m    True\u001b[0m\u001b[32m \u001b[0m│\u001b[36m \u001b[0m\u001b[36m    352\u001b[0m\u001b[36m \u001b[0m│\u001b[35m \u001b[0m\u001b[35m        \u001b[0m\u001b[35m \u001b[0m│\u001b[32m \u001b[0m\u001b[32m  False\u001b[0m\u001b[32m \u001b[0m│\n",
       "│\u001b[36m \u001b[0m\u001b[36m    89\u001b[0m\u001b[36m \u001b[0m│\u001b[36m \u001b[0m\u001b[36m53035970\u001b[0m\u001b[36m \u001b[0m│\u001b[36m \u001b[0m\u001b[36m032820…\u001b[0m\u001b[36m \u001b[0m│\u001b[35m \u001b[0m\u001b[35m        \u001b[0m\u001b[35m \u001b[0m│\u001b[32m \u001b[0m\u001b[32m  False\u001b[0m\u001b[32m \u001b[0m│\u001b[36m \u001b[0m\u001b[36m    1557\u001b[0m\u001b[36m \u001b[0m│\u001b[35m \u001b[0m\u001b[35m1557   \u001b[0m\u001b[35m \u001b[0m│\u001b[32m \u001b[0m\u001b[32m    True\u001b[0m\u001b[32m \u001b[0m│\u001b[36m \u001b[0m\u001b[36m    260\u001b[0m\u001b[36m \u001b[0m│\u001b[35m \u001b[0m\u001b[35m        \u001b[0m\u001b[35m \u001b[0m│\u001b[32m \u001b[0m\u001b[32m  False\u001b[0m\u001b[32m \u001b[0m│\n",
       "│\u001b[36m \u001b[0m\u001b[36m    90\u001b[0m\u001b[36m \u001b[0m│\u001b[36m \u001b[0m\u001b[36m53035971\u001b[0m\u001b[36m \u001b[0m│\u001b[36m \u001b[0m\u001b[36m032820…\u001b[0m\u001b[36m \u001b[0m│\u001b[35m \u001b[0m\u001b[35m        \u001b[0m\u001b[35m \u001b[0m│\u001b[32m \u001b[0m\u001b[32m  False\u001b[0m\u001b[32m \u001b[0m│\u001b[36m \u001b[0m\u001b[36m     858\u001b[0m\u001b[36m \u001b[0m│\u001b[35m \u001b[0m\u001b[35m858    \u001b[0m\u001b[35m \u001b[0m│\u001b[32m \u001b[0m\u001b[32m    True\u001b[0m\u001b[32m \u001b[0m│\u001b[36m \u001b[0m\u001b[36m    367\u001b[0m\u001b[36m \u001b[0m│\u001b[35m \u001b[0m\u001b[35m        \u001b[0m\u001b[35m \u001b[0m│\u001b[32m \u001b[0m\u001b[32m  False\u001b[0m\u001b[32m \u001b[0m│\n",
       "│\u001b[36m \u001b[0m\u001b[36m    91\u001b[0m\u001b[36m \u001b[0m│\u001b[36m \u001b[0m\u001b[36m53035972\u001b[0m\u001b[36m \u001b[0m│\u001b[36m \u001b[0m\u001b[36m032820…\u001b[0m\u001b[36m \u001b[0m│\u001b[35m \u001b[0m\u001b[35m        \u001b[0m\u001b[35m \u001b[0m│\u001b[32m \u001b[0m\u001b[32m  False\u001b[0m\u001b[32m \u001b[0m│\u001b[36m \u001b[0m\u001b[36m    1557\u001b[0m\u001b[36m \u001b[0m│\u001b[35m \u001b[0m\u001b[35m1557   \u001b[0m\u001b[35m \u001b[0m│\u001b[32m \u001b[0m\u001b[32m    True\u001b[0m\u001b[32m \u001b[0m│\u001b[36m \u001b[0m\u001b[36m    265\u001b[0m\u001b[36m \u001b[0m│\u001b[35m \u001b[0m\u001b[35m        \u001b[0m\u001b[35m \u001b[0m│\u001b[32m \u001b[0m\u001b[32m  False\u001b[0m\u001b[32m \u001b[0m│\n",
       "│\u001b[36m \u001b[0m\u001b[36m    92\u001b[0m\u001b[36m \u001b[0m│\u001b[36m \u001b[0m\u001b[36m53035974\u001b[0m\u001b[36m \u001b[0m│\u001b[36m \u001b[0m\u001b[36m032820…\u001b[0m\u001b[36m \u001b[0m│\u001b[35m \u001b[0m\u001b[35m        \u001b[0m\u001b[35m \u001b[0m│\u001b[32m \u001b[0m\u001b[32m  False\u001b[0m\u001b[32m \u001b[0m│\u001b[36m \u001b[0m\u001b[36m    1557\u001b[0m\u001b[36m \u001b[0m│\u001b[35m \u001b[0m\u001b[35m285    \u001b[0m\u001b[35m \u001b[0m│\u001b[32m \u001b[0m\u001b[32m   False\u001b[0m\u001b[32m \u001b[0m│\u001b[36m \u001b[0m\u001b[36m    285\u001b[0m\u001b[36m \u001b[0m│\u001b[35m \u001b[0m\u001b[35m        \u001b[0m\u001b[35m \u001b[0m│\u001b[32m \u001b[0m\u001b[32m  False\u001b[0m\u001b[32m \u001b[0m│\n",
       "│\u001b[36m \u001b[0m\u001b[36m    93\u001b[0m\u001b[36m \u001b[0m│\u001b[36m \u001b[0m\u001b[36m53035978\u001b[0m\u001b[36m \u001b[0m│\u001b[36m \u001b[0m\u001b[36m032820…\u001b[0m\u001b[36m \u001b[0m│\u001b[35m \u001b[0m\u001b[35m03282024\u001b[0m\u001b[35m \u001b[0m│\u001b[32m \u001b[0m\u001b[32m   True\u001b[0m\u001b[32m \u001b[0m│\u001b[36m \u001b[0m\u001b[36m     858\u001b[0m\u001b[36m \u001b[0m│\u001b[35m \u001b[0m\u001b[35m858    \u001b[0m\u001b[35m \u001b[0m│\u001b[32m \u001b[0m\u001b[32m    True\u001b[0m\u001b[32m \u001b[0m│\u001b[36m \u001b[0m\u001b[36m    371\u001b[0m\u001b[36m \u001b[0m│\u001b[35m \u001b[0m\u001b[35m        \u001b[0m\u001b[35m \u001b[0m│\u001b[32m \u001b[0m\u001b[32m  False\u001b[0m\u001b[32m \u001b[0m│\n",
       "│\u001b[36m \u001b[0m\u001b[36m    94\u001b[0m\u001b[36m \u001b[0m│\u001b[36m \u001b[0m\u001b[36m53035981\u001b[0m\u001b[36m \u001b[0m│\u001b[36m \u001b[0m\u001b[36m032820…\u001b[0m\u001b[36m \u001b[0m│\u001b[35m \u001b[0m\u001b[35m03282024\u001b[0m\u001b[35m \u001b[0m│\u001b[32m \u001b[0m\u001b[32m   True\u001b[0m\u001b[32m \u001b[0m│\u001b[36m \u001b[0m\u001b[36m    1657\u001b[0m\u001b[36m \u001b[0m│\u001b[35m \u001b[0m\u001b[35m1557   \u001b[0m\u001b[35m \u001b[0m│\u001b[32m \u001b[0m\u001b[32m   False\u001b[0m\u001b[32m \u001b[0m│\u001b[36m \u001b[0m\u001b[36m    348\u001b[0m\u001b[36m \u001b[0m│\u001b[35m \u001b[0m\u001b[35m        \u001b[0m\u001b[35m \u001b[0m│\u001b[32m \u001b[0m\u001b[32m  False\u001b[0m\u001b[32m \u001b[0m│\n",
       "│\u001b[36m \u001b[0m\u001b[36m    95\u001b[0m\u001b[36m \u001b[0m│\u001b[36m \u001b[0m\u001b[36m53035987\u001b[0m\u001b[36m \u001b[0m│\u001b[36m \u001b[0m\u001b[36m032820…\u001b[0m\u001b[36m \u001b[0m│\u001b[35m \u001b[0m\u001b[35m        \u001b[0m\u001b[35m \u001b[0m│\u001b[32m \u001b[0m\u001b[32m  False\u001b[0m\u001b[32m \u001b[0m│\u001b[36m \u001b[0m\u001b[36m     858\u001b[0m\u001b[36m \u001b[0m│\u001b[35m \u001b[0m\u001b[35m858    \u001b[0m\u001b[35m \u001b[0m│\u001b[32m \u001b[0m\u001b[32m    True\u001b[0m\u001b[32m \u001b[0m│\u001b[36m \u001b[0m\u001b[36m    375\u001b[0m\u001b[36m \u001b[0m│\u001b[35m \u001b[0m\u001b[35m        \u001b[0m\u001b[35m \u001b[0m│\u001b[32m \u001b[0m\u001b[32m  False\u001b[0m\u001b[32m \u001b[0m│\n",
       "│\u001b[36m \u001b[0m\u001b[36m    96\u001b[0m\u001b[36m \u001b[0m│\u001b[36m \u001b[0m\u001b[36m53035988\u001b[0m\u001b[36m \u001b[0m│\u001b[36m \u001b[0m\u001b[36m032820…\u001b[0m\u001b[36m \u001b[0m│\u001b[35m \u001b[0m\u001b[35m        \u001b[0m\u001b[35m \u001b[0m│\u001b[32m \u001b[0m\u001b[32m  False\u001b[0m\u001b[32m \u001b[0m│\u001b[36m \u001b[0m\u001b[36m     858\u001b[0m\u001b[36m \u001b[0m│\u001b[35m \u001b[0m\u001b[35m858    \u001b[0m\u001b[35m \u001b[0m│\u001b[32m \u001b[0m\u001b[32m    True\u001b[0m\u001b[32m \u001b[0m│\u001b[36m \u001b[0m\u001b[36m    378\u001b[0m\u001b[36m \u001b[0m│\u001b[35m \u001b[0m\u001b[35m        \u001b[0m\u001b[35m \u001b[0m│\u001b[32m \u001b[0m\u001b[32m  False\u001b[0m\u001b[32m \u001b[0m│\n",
       "│\u001b[36m \u001b[0m\u001b[36m    97\u001b[0m\u001b[36m \u001b[0m│\u001b[36m \u001b[0m\u001b[36m53035990\u001b[0m\u001b[36m \u001b[0m│\u001b[36m \u001b[0m\u001b[36m032820…\u001b[0m\u001b[36m \u001b[0m│\u001b[35m \u001b[0m\u001b[35m        \u001b[0m\u001b[35m \u001b[0m│\u001b[32m \u001b[0m\u001b[32m  False\u001b[0m\u001b[32m \u001b[0m│\u001b[36m \u001b[0m\u001b[36m     858\u001b[0m\u001b[36m \u001b[0m│\u001b[35m \u001b[0m\u001b[35m858    \u001b[0m\u001b[35m \u001b[0m│\u001b[32m \u001b[0m\u001b[32m    True\u001b[0m\u001b[32m \u001b[0m│\u001b[36m \u001b[0m\u001b[36m    382\u001b[0m\u001b[36m \u001b[0m│\u001b[35m \u001b[0m\u001b[35m        \u001b[0m\u001b[35m \u001b[0m│\u001b[32m \u001b[0m\u001b[32m  False\u001b[0m\u001b[32m \u001b[0m│\n",
       "│\u001b[36m \u001b[0m\u001b[36m    98\u001b[0m\u001b[36m \u001b[0m│\u001b[36m \u001b[0m\u001b[36m53035991\u001b[0m\u001b[36m \u001b[0m│\u001b[36m \u001b[0m\u001b[36m032820…\u001b[0m\u001b[36m \u001b[0m│\u001b[35m \u001b[0m\u001b[35m        \u001b[0m\u001b[35m \u001b[0m│\u001b[32m \u001b[0m\u001b[32m  False\u001b[0m\u001b[32m \u001b[0m│\u001b[36m \u001b[0m\u001b[36m     858\u001b[0m\u001b[36m \u001b[0m│\u001b[35m \u001b[0m\u001b[35m858    \u001b[0m\u001b[35m \u001b[0m│\u001b[32m \u001b[0m\u001b[32m    True\u001b[0m\u001b[32m \u001b[0m│\u001b[36m \u001b[0m\u001b[36m    386\u001b[0m\u001b[36m \u001b[0m│\u001b[35m \u001b[0m\u001b[35m        \u001b[0m\u001b[35m \u001b[0m│\u001b[32m \u001b[0m\u001b[32m  False\u001b[0m\u001b[32m \u001b[0m│\n",
       "│\u001b[36m \u001b[0m\u001b[36m    99\u001b[0m\u001b[36m \u001b[0m│\u001b[36m \u001b[0m\u001b[36m53035992\u001b[0m\u001b[36m \u001b[0m│\u001b[36m \u001b[0m\u001b[36m032820…\u001b[0m\u001b[36m \u001b[0m│\u001b[35m \u001b[0m\u001b[35m        \u001b[0m\u001b[35m \u001b[0m│\u001b[32m \u001b[0m\u001b[32m  False\u001b[0m\u001b[32m \u001b[0m│\u001b[36m \u001b[0m\u001b[36m    1567\u001b[0m\u001b[36m \u001b[0m│\u001b[35m \u001b[0m\u001b[35m1557   \u001b[0m\u001b[35m \u001b[0m│\u001b[32m \u001b[0m\u001b[32m   False\u001b[0m\u001b[32m \u001b[0m│\u001b[36m \u001b[0m\u001b[36m    395\u001b[0m\u001b[36m \u001b[0m│\u001b[35m \u001b[0m\u001b[35m        \u001b[0m\u001b[35m \u001b[0m│\u001b[32m \u001b[0m\u001b[32m  False\u001b[0m\u001b[32m \u001b[0m│\n",
       "└────────┴──────────┴─────────┴──────────┴─────────┴──────────┴─────────┴──────────┴─────────┴──────────┴─────────┘\n"
      ]
     },
     "metadata": {},
     "output_type": "display_data"
    }
   ],
   "source": [
    "table = Table(title=\"KY set2\")\n",
    "\n",
    "table.add_column(\"S. No.\", justify=\"right\", style=\"cyan\", no_wrap=False)\n",
    "table.add_column(\"Batchid\", justify=\"right\", style=\"cyan\", no_wrap=False)\n",
    "table.add_column(\"6-keyed_values\", justify=\"right\", style=\"cyan\", no_wrap=False)\n",
    "table.add_column(\"6-spacy_values\", style=\"magenta\", no_wrap=False)\n",
    "table.add_column(\"6-match_status\", justify=\"right\", style=\"green\", no_wrap=False)\n",
    "table.add_column(\"92-keyed_values\", justify=\"right\", style=\"cyan\", no_wrap=False)\n",
    "table.add_column(\"92-spacy_values\", style=\"magenta\", no_wrap=False)\n",
    "table.add_column(\"92-match_status\", justify=\"right\", style=\"green\", no_wrap=False)\n",
    "table.add_column(\"93-keyed_values\", justify=\"right\", style=\"cyan\", no_wrap=False)\n",
    "table.add_column(\"93-spacy_values\", style=\"magenta\", no_wrap=False)\n",
    "table.add_column(\"93-match_status\", justify=\"right\", style=\"green\", no_wrap=False)\n",
    "\n",
    "from collections import defaultdict\n",
    "\n",
    "import json\n",
    "import zipfile\n",
    "from pathlib import Path\n",
    "key_dict = defaultdict(list)\n",
    "i = 1\n",
    "batches_avilable = list(Path(\"ok_retest\").iterdir())\n",
    "batches_avilable.sort()\n",
    "for p in track(batches_avilable):\n",
    "    n = str(p.name).replace(\".zip\",'')\n",
    "    # if int(n) not in b93 : continue\n",
    "    with zipfile.ZipFile(p, mode=\"r\") as archive:\n",
    "        try:\n",
    "            name = str(p.name).replace(r'.zip','')\n",
    "            spacyF = archive.open(\"spacy.json\",'r')\n",
    "            outputF = archive.open(\"output_data.json\",'r')\n",
    "            spacy = json.load(spacyF)\n",
    "            output = json.load(outputF)\n",
    "            output = {item[\"id\"]: item[\"value\"] for item in output[\"data\"]}\n",
    "            out92 = output.get('92','')\n",
    "            spacy92 = spacy.get('92','')\n",
    "            match92 = out92.strip() == spacy92.strip()\n",
    "            out93 = output.get('93','')\n",
    "            spacy93 = spacy.get('93','')\n",
    "            match93 = out93.strip() == spacy93.strip()\n",
    "            out6 = output.get('6','')\n",
    "            spacy6 = spacy.get('6','')\n",
    "            match6 = out6.strip() == spacy6.strip()\n",
    "            \n",
    "            table.add_row(f\"{i}\",f\"{name}\",f\"{out6}\",f\"{spacy6}\",f\"{match6}\",f\"{out92}\",f\"{spacy92}\",f\"{match92}\",f\"{out93}\",f\"{spacy93}\",f\"{match93}\") #,f\"{out6}\",f\"{spacy6}\",f\"{match6}\"\n",
    "            key_dict['S.NO.'].append(i)\n",
    "            key_dict['batchid'].append(name)\n",
    "            key_dict['6-keyed_values'].append(out6)\n",
    "            key_dict['6-spacy_values'].append(spacy6)\n",
    "            key_dict['6-match_status'].append(match6)\n",
    "            key_dict['92-keyed_values'].append(out92)\n",
    "            key_dict['92-spacy_values'].append(spacy92)\n",
    "            key_dict['92-match_status'].append(match92)\n",
    "            key_dict['93-keyed_values'].append(out93)\n",
    "            key_dict['93-spacy_values'].append(spacy93)\n",
    "            key_dict['93-match_status'].append(match93)\n",
    "    \n",
    "            # print(\n",
    "            #     f\"batch id = {str(p.name).replace(r'.zip','')} | Field 92 = {spacy.get('92')} | Field 93 = {spacy.get('93')}\"\n",
    "            # )\n",
    "            spacyF.close()\n",
    "            outputF.close()\n",
    "            # print(p.name,data.get(\"5\"),data.get(\"6\"),data.get(\"92\"),data.get(\"93\"))\n",
    "        except Exception as e:\n",
    "            print(e,name)\n",
    "            spacyF.close()\n",
    "            outputF.close()\n",
    "        i+=1\n",
    "\n",
    "console = Console()\n",
    "console.print(table)"
   ]
  },
  {
   "cell_type": "code",
   "execution_count": 11,
   "id": "6e4abb40-1145-42b5-bc6d-cd54261257da",
   "metadata": {
    "deletable": true,
    "editable": true,
    "frozen": false
   },
   "outputs": [
    {
     "data": {
      "text/html": [
       "<pre style=\"white-space:pre;overflow-x:auto;line-height:normal;font-family:Menlo,'DejaVu Sans Mono',consolas,'Courier New',monospace\">batch id = <span style=\"color: #008080; text-decoration-color: #008080; font-weight: bold\">2628740</span> | <span style=\"color: #800080; text-decoration-color: #800080; font-weight: bold\">data.get</span><span style=\"font-weight: bold\">(</span><span style=\"color: #008000; text-decoration-color: #008000\">'5'</span><span style=\"font-weight: bold\">)</span>=<span style=\"color: #800080; text-decoration-color: #800080; font-style: italic\">None</span> | <span style=\"color: #800080; text-decoration-color: #800080; font-weight: bold\">data.get</span><span style=\"font-weight: bold\">(</span><span style=\"color: #008000; text-decoration-color: #008000\">'6'</span><span style=\"font-weight: bold\">)</span>=<span style=\"color: #008000; text-decoration-color: #008000\">'03042024'</span>\n",
       "</pre>\n"
      ],
      "text/plain": [
       "batch id = \u001b[1;36m2628740\u001b[0m | \u001b[1;35mdata.get\u001b[0m\u001b[1m(\u001b[0m\u001b[32m'5'\u001b[0m\u001b[1m)\u001b[0m=\u001b[3;35mNone\u001b[0m | \u001b[1;35mdata.get\u001b[0m\u001b[1m(\u001b[0m\u001b[32m'6'\u001b[0m\u001b[1m)\u001b[0m=\u001b[32m'03042024'\u001b[0m\n"
      ]
     },
     "metadata": {},
     "output_type": "display_data"
    },
    {
     "data": {
      "text/html": [
       "<pre style=\"white-space:pre;overflow-x:auto;line-height:normal;font-family:Menlo,'DejaVu Sans Mono',consolas,'Courier New',monospace\">batch id = <span style=\"color: #008080; text-decoration-color: #008080; font-weight: bold\">2628745</span> | <span style=\"color: #800080; text-decoration-color: #800080; font-weight: bold\">data.get</span><span style=\"font-weight: bold\">(</span><span style=\"color: #008000; text-decoration-color: #008000\">'5'</span><span style=\"font-weight: bold\">)</span>=<span style=\"color: #800080; text-decoration-color: #800080; font-style: italic\">None</span> | <span style=\"color: #800080; text-decoration-color: #800080; font-weight: bold\">data.get</span><span style=\"font-weight: bold\">(</span><span style=\"color: #008000; text-decoration-color: #008000\">'6'</span><span style=\"font-weight: bold\">)</span>=<span style=\"color: #008000; text-decoration-color: #008000\">'03042024'</span>\n",
       "</pre>\n"
      ],
      "text/plain": [
       "batch id = \u001b[1;36m2628745\u001b[0m | \u001b[1;35mdata.get\u001b[0m\u001b[1m(\u001b[0m\u001b[32m'5'\u001b[0m\u001b[1m)\u001b[0m=\u001b[3;35mNone\u001b[0m | \u001b[1;35mdata.get\u001b[0m\u001b[1m(\u001b[0m\u001b[32m'6'\u001b[0m\u001b[1m)\u001b[0m=\u001b[32m'03042024'\u001b[0m\n"
      ]
     },
     "metadata": {},
     "output_type": "display_data"
    },
    {
     "data": {
      "text/html": [
       "<pre style=\"white-space:pre;overflow-x:auto;line-height:normal;font-family:Menlo,'DejaVu Sans Mono',consolas,'Courier New',monospace\">batch id = <span style=\"color: #008080; text-decoration-color: #008080; font-weight: bold\">2632845</span> | <span style=\"color: #800080; text-decoration-color: #800080; font-weight: bold\">data.get</span><span style=\"font-weight: bold\">(</span><span style=\"color: #008000; text-decoration-color: #008000\">'5'</span><span style=\"font-weight: bold\">)</span>=<span style=\"color: #008000; text-decoration-color: #008000\">'523839'</span> | <span style=\"color: #800080; text-decoration-color: #800080; font-weight: bold\">data.get</span><span style=\"font-weight: bold\">(</span><span style=\"color: #008000; text-decoration-color: #008000\">'6'</span><span style=\"font-weight: bold\">)</span>=<span style=\"color: #008000; text-decoration-color: #008000\">'03012024'</span>\n",
       "</pre>\n"
      ],
      "text/plain": [
       "batch id = \u001b[1;36m2632845\u001b[0m | \u001b[1;35mdata.get\u001b[0m\u001b[1m(\u001b[0m\u001b[32m'5'\u001b[0m\u001b[1m)\u001b[0m=\u001b[32m'523839'\u001b[0m | \u001b[1;35mdata.get\u001b[0m\u001b[1m(\u001b[0m\u001b[32m'6'\u001b[0m\u001b[1m)\u001b[0m=\u001b[32m'03012024'\u001b[0m\n"
      ]
     },
     "metadata": {},
     "output_type": "display_data"
    },
    {
     "data": {
      "text/html": [
       "<pre style=\"white-space:pre;overflow-x:auto;line-height:normal;font-family:Menlo,'DejaVu Sans Mono',consolas,'Courier New',monospace\">batch id = <span style=\"color: #008080; text-decoration-color: #008080; font-weight: bold\">2632847</span> | <span style=\"color: #800080; text-decoration-color: #800080; font-weight: bold\">data.get</span><span style=\"font-weight: bold\">(</span><span style=\"color: #008000; text-decoration-color: #008000\">'5'</span><span style=\"font-weight: bold\">)</span>=<span style=\"color: #008000; text-decoration-color: #008000\">'523847'</span> | <span style=\"color: #800080; text-decoration-color: #800080; font-weight: bold\">data.get</span><span style=\"font-weight: bold\">(</span><span style=\"color: #008000; text-decoration-color: #008000\">'6'</span><span style=\"font-weight: bold\">)</span>=<span style=\"color: #008000; text-decoration-color: #008000\">'03012024'</span>\n",
       "</pre>\n"
      ],
      "text/plain": [
       "batch id = \u001b[1;36m2632847\u001b[0m | \u001b[1;35mdata.get\u001b[0m\u001b[1m(\u001b[0m\u001b[32m'5'\u001b[0m\u001b[1m)\u001b[0m=\u001b[32m'523847'\u001b[0m | \u001b[1;35mdata.get\u001b[0m\u001b[1m(\u001b[0m\u001b[32m'6'\u001b[0m\u001b[1m)\u001b[0m=\u001b[32m'03012024'\u001b[0m\n"
      ]
     },
     "metadata": {},
     "output_type": "display_data"
    },
    {
     "data": {
      "text/html": [
       "<pre style=\"white-space:pre;overflow-x:auto;line-height:normal;font-family:Menlo,'DejaVu Sans Mono',consolas,'Courier New',monospace\">batch id = <span style=\"color: #008080; text-decoration-color: #008080; font-weight: bold\">2632848</span> | <span style=\"color: #800080; text-decoration-color: #800080; font-weight: bold\">data.get</span><span style=\"font-weight: bold\">(</span><span style=\"color: #008000; text-decoration-color: #008000\">'5'</span><span style=\"font-weight: bold\">)</span>=<span style=\"color: #800080; text-decoration-color: #800080; font-style: italic\">None</span> | <span style=\"color: #800080; text-decoration-color: #800080; font-weight: bold\">data.get</span><span style=\"font-weight: bold\">(</span><span style=\"color: #008000; text-decoration-color: #008000\">'6'</span><span style=\"font-weight: bold\">)</span>=<span style=\"color: #008000; text-decoration-color: #008000\">'03012024'</span>\n",
       "</pre>\n"
      ],
      "text/plain": [
       "batch id = \u001b[1;36m2632848\u001b[0m | \u001b[1;35mdata.get\u001b[0m\u001b[1m(\u001b[0m\u001b[32m'5'\u001b[0m\u001b[1m)\u001b[0m=\u001b[3;35mNone\u001b[0m | \u001b[1;35mdata.get\u001b[0m\u001b[1m(\u001b[0m\u001b[32m'6'\u001b[0m\u001b[1m)\u001b[0m=\u001b[32m'03012024'\u001b[0m\n"
      ]
     },
     "metadata": {},
     "output_type": "display_data"
    },
    {
     "data": {
      "text/html": [
       "<pre style=\"white-space:pre;overflow-x:auto;line-height:normal;font-family:Menlo,'DejaVu Sans Mono',consolas,'Courier New',monospace\">batch id = <span style=\"color: #008080; text-decoration-color: #008080; font-weight: bold\">2632851</span> | <span style=\"color: #800080; text-decoration-color: #800080; font-weight: bold\">data.get</span><span style=\"font-weight: bold\">(</span><span style=\"color: #008000; text-decoration-color: #008000\">'5'</span><span style=\"font-weight: bold\">)</span>=<span style=\"color: #008000; text-decoration-color: #008000\">'523845'</span> | <span style=\"color: #800080; text-decoration-color: #800080; font-weight: bold\">data.get</span><span style=\"font-weight: bold\">(</span><span style=\"color: #008000; text-decoration-color: #008000\">'6'</span><span style=\"font-weight: bold\">)</span>=<span style=\"color: #008000; text-decoration-color: #008000\">'03012024'</span>\n",
       "</pre>\n"
      ],
      "text/plain": [
       "batch id = \u001b[1;36m2632851\u001b[0m | \u001b[1;35mdata.get\u001b[0m\u001b[1m(\u001b[0m\u001b[32m'5'\u001b[0m\u001b[1m)\u001b[0m=\u001b[32m'523845'\u001b[0m | \u001b[1;35mdata.get\u001b[0m\u001b[1m(\u001b[0m\u001b[32m'6'\u001b[0m\u001b[1m)\u001b[0m=\u001b[32m'03012024'\u001b[0m\n"
      ]
     },
     "metadata": {},
     "output_type": "display_data"
    },
    {
     "data": {
      "text/html": [
       "<pre style=\"white-space:pre;overflow-x:auto;line-height:normal;font-family:Menlo,'DejaVu Sans Mono',consolas,'Courier New',monospace\">batch id = <span style=\"color: #008080; text-decoration-color: #008080; font-weight: bold\">2632853</span> | <span style=\"color: #800080; text-decoration-color: #800080; font-weight: bold\">data.get</span><span style=\"font-weight: bold\">(</span><span style=\"color: #008000; text-decoration-color: #008000\">'5'</span><span style=\"font-weight: bold\">)</span>=<span style=\"color: #800080; text-decoration-color: #800080; font-style: italic\">None</span> | <span style=\"color: #800080; text-decoration-color: #800080; font-weight: bold\">data.get</span><span style=\"font-weight: bold\">(</span><span style=\"color: #008000; text-decoration-color: #008000\">'6'</span><span style=\"font-weight: bold\">)</span>=<span style=\"color: #008000; text-decoration-color: #008000\">'03012024'</span>\n",
       "</pre>\n"
      ],
      "text/plain": [
       "batch id = \u001b[1;36m2632853\u001b[0m | \u001b[1;35mdata.get\u001b[0m\u001b[1m(\u001b[0m\u001b[32m'5'\u001b[0m\u001b[1m)\u001b[0m=\u001b[3;35mNone\u001b[0m | \u001b[1;35mdata.get\u001b[0m\u001b[1m(\u001b[0m\u001b[32m'6'\u001b[0m\u001b[1m)\u001b[0m=\u001b[32m'03012024'\u001b[0m\n"
      ]
     },
     "metadata": {},
     "output_type": "display_data"
    },
    {
     "data": {
      "text/html": [
       "<pre style=\"white-space:pre;overflow-x:auto;line-height:normal;font-family:Menlo,'DejaVu Sans Mono',consolas,'Courier New',monospace\">batch id = <span style=\"color: #008080; text-decoration-color: #008080; font-weight: bold\">2632854</span> | <span style=\"color: #800080; text-decoration-color: #800080; font-weight: bold\">data.get</span><span style=\"font-weight: bold\">(</span><span style=\"color: #008000; text-decoration-color: #008000\">'5'</span><span style=\"font-weight: bold\">)</span>=<span style=\"color: #800080; text-decoration-color: #800080; font-style: italic\">None</span> | <span style=\"color: #800080; text-decoration-color: #800080; font-weight: bold\">data.get</span><span style=\"font-weight: bold\">(</span><span style=\"color: #008000; text-decoration-color: #008000\">'6'</span><span style=\"font-weight: bold\">)</span>=<span style=\"color: #008000; text-decoration-color: #008000\">'03012024'</span>\n",
       "</pre>\n"
      ],
      "text/plain": [
       "batch id = \u001b[1;36m2632854\u001b[0m | \u001b[1;35mdata.get\u001b[0m\u001b[1m(\u001b[0m\u001b[32m'5'\u001b[0m\u001b[1m)\u001b[0m=\u001b[3;35mNone\u001b[0m | \u001b[1;35mdata.get\u001b[0m\u001b[1m(\u001b[0m\u001b[32m'6'\u001b[0m\u001b[1m)\u001b[0m=\u001b[32m'03012024'\u001b[0m\n"
      ]
     },
     "metadata": {},
     "output_type": "display_data"
    },
    {
     "data": {
      "text/html": [
       "<pre style=\"white-space:pre;overflow-x:auto;line-height:normal;font-family:Menlo,'DejaVu Sans Mono',consolas,'Courier New',monospace\">batch id = <span style=\"color: #008080; text-decoration-color: #008080; font-weight: bold\">2632855</span> | <span style=\"color: #800080; text-decoration-color: #800080; font-weight: bold\">data.get</span><span style=\"font-weight: bold\">(</span><span style=\"color: #008000; text-decoration-color: #008000\">'5'</span><span style=\"font-weight: bold\">)</span>=<span style=\"color: #008000; text-decoration-color: #008000\">'529843'</span> | <span style=\"color: #800080; text-decoration-color: #800080; font-weight: bold\">data.get</span><span style=\"font-weight: bold\">(</span><span style=\"color: #008000; text-decoration-color: #008000\">'6'</span><span style=\"font-weight: bold\">)</span>=<span style=\"color: #008000; text-decoration-color: #008000\">'03012024'</span>\n",
       "</pre>\n"
      ],
      "text/plain": [
       "batch id = \u001b[1;36m2632855\u001b[0m | \u001b[1;35mdata.get\u001b[0m\u001b[1m(\u001b[0m\u001b[32m'5'\u001b[0m\u001b[1m)\u001b[0m=\u001b[32m'529843'\u001b[0m | \u001b[1;35mdata.get\u001b[0m\u001b[1m(\u001b[0m\u001b[32m'6'\u001b[0m\u001b[1m)\u001b[0m=\u001b[32m'03012024'\u001b[0m\n"
      ]
     },
     "metadata": {},
     "output_type": "display_data"
    }
   ],
   "source": [
    "import json\n",
    "import zipfile\n",
    "from pathlib import Path\n",
    "from rich import print\n",
    "for p in Path(\n",
    "    r\"C:\\Users\\surakumar\\OneDrive - CoreLogic Solutions, LLC\\Downloads\\pythonCode\\ok_retest\"\n",
    ").iterdir():\n",
    "    with zipfile.ZipFile(p, mode=\"r\") as archive:\n",
    "        with archive.open(\"spacy.json\", \"r\") as file:\n",
    "            data = json.load(file)\n",
    "            # data = {item[\"id\"]: item[\"value\"] for item in data[\"data\"]}\n",
    "            # print(\n",
    "            #     f\"batch id = {str(p.name).replace(r'.zip','')} | Field 5 = {data.get('5')} | Field 6 = {data.get('6')} | Field 92 = {data.get('92')} | Field 93 = {data.get('93')}\"\n",
    "            # )\n",
    "            print(\n",
    "                f\"batch id = {str(p.name).replace(r'.zip','')} | {data.get('5')=} | {data.get('6')=}\"\n",
    "            )\n",
    "            # print(p.name,data.get(\"5\"),data.get(\"6\"),data.get(\"92\"),data.get(\"93\"))"
   ]
  },
  {
   "cell_type": "code",
   "execution_count": 14,
   "id": "e7858f29-aeaf-4cc6-ab16-fe9549b877ac",
   "metadata": {
    "deletable": true,
    "editable": true,
    "frozen": false
   },
   "outputs": [
    {
     "data": {
      "application/vnd.jupyter.widget-view+json": {
       "model_id": "2ea829a54565487d8dcc2c62b261e6ec",
       "version_major": 2,
       "version_minor": 0
      },
      "text/plain": [
       "Output()"
      ]
     },
     "metadata": {},
     "output_type": "display_data"
    },
    {
     "data": {
      "text/html": [
       "<pre style=\"white-space:pre;overflow-x:auto;line-height:normal;font-family:Menlo,'DejaVu Sans Mono',consolas,'Courier New',monospace\"></pre>\n"
      ],
      "text/plain": []
     },
     "metadata": {},
     "output_type": "display_data"
    },
    {
     "data": {
      "text/html": [
       "<pre style=\"white-space:pre;overflow-x:auto;line-height:normal;font-family:Menlo,'DejaVu Sans Mono',consolas,'Courier New',monospace\">\n",
       "</pre>\n"
      ],
      "text/plain": [
       "\n"
      ]
     },
     "metadata": {},
     "output_type": "display_data"
    },
    {
     "data": {
      "text/html": [
       "<pre style=\"white-space:pre;overflow-x:auto;line-height:normal;font-family:Menlo,'DejaVu Sans Mono',consolas,'Courier New',monospace\"><span style=\"font-style: italic\">                                                      KY set2                                                      </span>\n",
       "┏━━━━━━━━━┳━━━━━━━━━━━┳━━━━━━━━━━┳━━━━━━━━━━━┳━━━━━━━━━━┳━━━━━━━━━━━┳━━━━━━━━━━┳━━━━━━━━━━━┳━━━━━━━━━━┳━━━━━━━━━━━┓\n",
       "┃<span style=\"font-weight: bold\"> Batchid </span>┃<span style=\"font-weight: bold\"> 6-keyed_… </span>┃<span style=\"font-weight: bold\"> 6-spacy… </span>┃<span style=\"font-weight: bold\"> 6-match_… </span>┃<span style=\"font-weight: bold\"> 92-keye… </span>┃<span style=\"font-weight: bold\"> 92-spacy… </span>┃<span style=\"font-weight: bold\"> 92-matc… </span>┃<span style=\"font-weight: bold\"> 93-keyed… </span>┃<span style=\"font-weight: bold\"> 93-spac… </span>┃<span style=\"font-weight: bold\"> 93-match… </span>┃\n",
       "┡━━━━━━━━━╇━━━━━━━━━━━╇━━━━━━━━━━╇━━━━━━━━━━━╇━━━━━━━━━━╇━━━━━━━━━━━╇━━━━━━━━━━╇━━━━━━━━━━━╇━━━━━━━━━━╇━━━━━━━━━━━┩\n",
       "│<span style=\"color: #008080; text-decoration-color: #008080\"> 2635901 </span>│<span style=\"color: #008080; text-decoration-color: #008080\">       176 </span>│<span style=\"color: #800080; text-decoration-color: #800080\">          </span>│<span style=\"color: #008000; text-decoration-color: #008000\">     False </span>│<span style=\"color: #008080; text-decoration-color: #008080\">          </span>│<span style=\"color: #800080; text-decoration-color: #800080\"> 176       </span>│<span style=\"color: #008000; text-decoration-color: #008000\">    False </span>│<span style=\"color: #008080; text-decoration-color: #008080\">           </span>│<span style=\"color: #800080; text-decoration-color: #800080\"> 626      </span>│<span style=\"color: #008000; text-decoration-color: #008000\">     False </span>│\n",
       "│<span style=\"color: #008080; text-decoration-color: #008080\"> 2637159 </span>│<span style=\"color: #008080; text-decoration-color: #008080\">       220 </span>│<span style=\"color: #800080; text-decoration-color: #800080\">          </span>│<span style=\"color: #008000; text-decoration-color: #008000\">     False </span>│<span style=\"color: #008080; text-decoration-color: #008080\">          </span>│<span style=\"color: #800080; text-decoration-color: #800080\"> 220       </span>│<span style=\"color: #008000; text-decoration-color: #008000\">    False </span>│<span style=\"color: #008080; text-decoration-color: #008080\">           </span>│<span style=\"color: #800080; text-decoration-color: #800080\"> 82       </span>│<span style=\"color: #008000; text-decoration-color: #008000\">     False </span>│\n",
       "│<span style=\"color: #008080; text-decoration-color: #008080\"> 2637177 </span>│<span style=\"color: #008080; text-decoration-color: #008080\">       428 </span>│<span style=\"color: #800080; text-decoration-color: #800080\"> 03132024 </span>│<span style=\"color: #008000; text-decoration-color: #008000\">     False </span>│<span style=\"color: #008080; text-decoration-color: #008080\">          </span>│<span style=\"color: #800080; text-decoration-color: #800080\"> 428       </span>│<span style=\"color: #008000; text-decoration-color: #008000\">    False </span>│<span style=\"color: #008080; text-decoration-color: #008080\">           </span>│<span style=\"color: #800080; text-decoration-color: #800080\"> 264      </span>│<span style=\"color: #008000; text-decoration-color: #008000\">     False </span>│\n",
       "│<span style=\"color: #008080; text-decoration-color: #008080\"> 2637185 </span>│<span style=\"color: #008080; text-decoration-color: #008080\">       220 </span>│<span style=\"color: #800080; text-decoration-color: #800080\"> 03132024 </span>│<span style=\"color: #008000; text-decoration-color: #008000\">     False </span>│<span style=\"color: #008080; text-decoration-color: #008080\">          </span>│<span style=\"color: #800080; text-decoration-color: #800080\"> 220       </span>│<span style=\"color: #008000; text-decoration-color: #008000\">    False </span>│<span style=\"color: #008080; text-decoration-color: #008080\">           </span>│<span style=\"color: #800080; text-decoration-color: #800080\"> 86       </span>│<span style=\"color: #008000; text-decoration-color: #008000\">     False </span>│\n",
       "│<span style=\"color: #008080; text-decoration-color: #008080\"> 2637187 </span>│<span style=\"color: #008080; text-decoration-color: #008080\">       220 </span>│<span style=\"color: #800080; text-decoration-color: #800080\"> 03132024 </span>│<span style=\"color: #008000; text-decoration-color: #008000\">     False </span>│<span style=\"color: #008080; text-decoration-color: #008080\">          </span>│<span style=\"color: #800080; text-decoration-color: #800080\"> 220       </span>│<span style=\"color: #008000; text-decoration-color: #008000\">    False </span>│<span style=\"color: #008080; text-decoration-color: #008080\">           </span>│<span style=\"color: #800080; text-decoration-color: #800080\"> 96       </span>│<span style=\"color: #008000; text-decoration-color: #008000\">     False </span>│\n",
       "│<span style=\"color: #008080; text-decoration-color: #008080\"> 2637196 </span>│<span style=\"color: #008080; text-decoration-color: #008080\">       428 </span>│<span style=\"color: #800080; text-decoration-color: #800080\"> 03132024 </span>│<span style=\"color: #008000; text-decoration-color: #008000\">     False </span>│<span style=\"color: #008080; text-decoration-color: #008080\">          </span>│<span style=\"color: #800080; text-decoration-color: #800080\"> 428       </span>│<span style=\"color: #008000; text-decoration-color: #008000\">    False </span>│<span style=\"color: #008080; text-decoration-color: #008080\">           </span>│<span style=\"color: #800080; text-decoration-color: #800080\"> 278      </span>│<span style=\"color: #008000; text-decoration-color: #008000\">     False </span>│\n",
       "│<span style=\"color: #008080; text-decoration-color: #008080\"> 2637277 </span>│<span style=\"color: #008080; text-decoration-color: #008080\">  03132024 </span>│<span style=\"color: #800080; text-decoration-color: #800080\">          </span>│<span style=\"color: #008000; text-decoration-color: #008000\">     False </span>│<span style=\"color: #008080; text-decoration-color: #008080\">      176 </span>│<span style=\"color: #800080; text-decoration-color: #800080\"> 176       </span>│<span style=\"color: #008000; text-decoration-color: #008000\">     True </span>│<span style=\"color: #008080; text-decoration-color: #008080\">       176 </span>│<span style=\"color: #800080; text-decoration-color: #800080\"> 614      </span>│<span style=\"color: #008000; text-decoration-color: #008000\">     False </span>│\n",
       "│<span style=\"color: #008080; text-decoration-color: #008080\"> 2637436 </span>│<span style=\"color: #008080; text-decoration-color: #008080\">        19 </span>│<span style=\"color: #800080; text-decoration-color: #800080\"> 03142024 </span>│<span style=\"color: #008000; text-decoration-color: #008000\">     False </span>│<span style=\"color: #008080; text-decoration-color: #008080\">          </span>│<span style=\"color: #800080; text-decoration-color: #800080\"> 19        </span>│<span style=\"color: #008000; text-decoration-color: #008000\">    False </span>│<span style=\"color: #008080; text-decoration-color: #008080\">           </span>│<span style=\"color: #800080; text-decoration-color: #800080\"> 50       </span>│<span style=\"color: #008000; text-decoration-color: #008000\">     False </span>│\n",
       "│<span style=\"color: #008080; text-decoration-color: #008080\"> 2638208 </span>│<span style=\"color: #008080; text-decoration-color: #008080\">  02272024 </span>│<span style=\"color: #800080; text-decoration-color: #800080\">          </span>│<span style=\"color: #008000; text-decoration-color: #008000\">     False </span>│<span style=\"color: #008080; text-decoration-color: #008080\">      286 </span>│<span style=\"color: #800080; text-decoration-color: #800080\"> 286       </span>│<span style=\"color: #008000; text-decoration-color: #008000\">     True </span>│<span style=\"color: #008080; text-decoration-color: #008080\">       286 </span>│<span style=\"color: #800080; text-decoration-color: #800080\"> 615      </span>│<span style=\"color: #008000; text-decoration-color: #008000\">     False </span>│\n",
       "│<span style=\"color: #008080; text-decoration-color: #008080\"> 2638212 </span>│<span style=\"color: #008080; text-decoration-color: #008080\">  02272024 </span>│<span style=\"color: #800080; text-decoration-color: #800080\">          </span>│<span style=\"color: #008000; text-decoration-color: #008000\">     False </span>│<span style=\"color: #008080; text-decoration-color: #008080\">      286 </span>│<span style=\"color: #800080; text-decoration-color: #800080\"> 286       </span>│<span style=\"color: #008000; text-decoration-color: #008000\">     True </span>│<span style=\"color: #008080; text-decoration-color: #008080\">       286 </span>│<span style=\"color: #800080; text-decoration-color: #800080\"> 617      </span>│<span style=\"color: #008000; text-decoration-color: #008000\">     False </span>│\n",
       "│<span style=\"color: #008080; text-decoration-color: #008080\"> 2638213 </span>│<span style=\"color: #008080; text-decoration-color: #008080\">  02272024 </span>│<span style=\"color: #800080; text-decoration-color: #800080\">          </span>│<span style=\"color: #008000; text-decoration-color: #008000\">     False </span>│<span style=\"color: #008080; text-decoration-color: #008080\">      286 </span>│<span style=\"color: #800080; text-decoration-color: #800080\"> 286       </span>│<span style=\"color: #008000; text-decoration-color: #008000\">     True </span>│<span style=\"color: #008080; text-decoration-color: #008080\">       286 </span>│<span style=\"color: #800080; text-decoration-color: #800080\">          </span>│<span style=\"color: #008000; text-decoration-color: #008000\">     False </span>│\n",
       "│<span style=\"color: #008080; text-decoration-color: #008080\"> 2638223 </span>│<span style=\"color: #008080; text-decoration-color: #008080\">  02272024 </span>│<span style=\"color: #800080; text-decoration-color: #800080\"> 02272024 </span>│<span style=\"color: #008000; text-decoration-color: #008000\">      True </span>│<span style=\"color: #008080; text-decoration-color: #008080\">      857 </span>│<span style=\"color: #800080; text-decoration-color: #800080\"> 857       </span>│<span style=\"color: #008000; text-decoration-color: #008000\">     True </span>│<span style=\"color: #008080; text-decoration-color: #008080\">       857 </span>│<span style=\"color: #800080; text-decoration-color: #800080\">          </span>│<span style=\"color: #008000; text-decoration-color: #008000\">     False </span>│\n",
       "│<span style=\"color: #008080; text-decoration-color: #008080\"> 2638251 </span>│<span style=\"color: #008080; text-decoration-color: #008080\">  02272024 </span>│<span style=\"color: #800080; text-decoration-color: #800080\"> 02272024 </span>│<span style=\"color: #008000; text-decoration-color: #008000\">      True </span>│<span style=\"color: #008080; text-decoration-color: #008080\">      857 </span>│<span style=\"color: #800080; text-decoration-color: #800080\"> 857       </span>│<span style=\"color: #008000; text-decoration-color: #008000\">     True </span>│<span style=\"color: #008080; text-decoration-color: #008080\">       857 </span>│<span style=\"color: #800080; text-decoration-color: #800080\">          </span>│<span style=\"color: #008000; text-decoration-color: #008000\">     False </span>│\n",
       "│<span style=\"color: #008080; text-decoration-color: #008080\"> 2638256 </span>│<span style=\"color: #008080; text-decoration-color: #008080\">  02272024 </span>│<span style=\"color: #800080; text-decoration-color: #800080\">          </span>│<span style=\"color: #008000; text-decoration-color: #008000\">     False </span>│<span style=\"color: #008080; text-decoration-color: #008080\">      857 </span>│<span style=\"color: #800080; text-decoration-color: #800080\"> 857       </span>│<span style=\"color: #008000; text-decoration-color: #008000\">     True </span>│<span style=\"color: #008080; text-decoration-color: #008080\">       857 </span>│<span style=\"color: #800080; text-decoration-color: #800080\">          </span>│<span style=\"color: #008000; text-decoration-color: #008000\">     False </span>│\n",
       "│<span style=\"color: #008080; text-decoration-color: #008080\"> 2638258 </span>│<span style=\"color: #008080; text-decoration-color: #008080\">  02272024 </span>│<span style=\"color: #800080; text-decoration-color: #800080\">          </span>│<span style=\"color: #008000; text-decoration-color: #008000\">     False </span>│<span style=\"color: #008080; text-decoration-color: #008080\">      286 </span>│<span style=\"color: #800080; text-decoration-color: #800080\"> 286       </span>│<span style=\"color: #008000; text-decoration-color: #008000\">     True </span>│<span style=\"color: #008080; text-decoration-color: #008080\">       286 </span>│<span style=\"color: #800080; text-decoration-color: #800080\">          </span>│<span style=\"color: #008000; text-decoration-color: #008000\">     False </span>│\n",
       "│<span style=\"color: #008080; text-decoration-color: #008080\"> 2641548 </span>│<span style=\"color: #008080; text-decoration-color: #008080\">         7 </span>│<span style=\"color: #800080; text-decoration-color: #800080\"> 03122024 </span>│<span style=\"color: #008000; text-decoration-color: #008000\">     False </span>│<span style=\"color: #008080; text-decoration-color: #008080\">          </span>│<span style=\"color: #800080; text-decoration-color: #800080\"> 7         </span>│<span style=\"color: #008000; text-decoration-color: #008000\">    False </span>│<span style=\"color: #008080; text-decoration-color: #008080\">           </span>│<span style=\"color: #800080; text-decoration-color: #800080\"> 58       </span>│<span style=\"color: #008000; text-decoration-color: #008000\">     False </span>│\n",
       "│<span style=\"color: #008080; text-decoration-color: #008080\"> 2641560 </span>│<span style=\"color: #008080; text-decoration-color: #008080\">       325 </span>│<span style=\"color: #800080; text-decoration-color: #800080\"> 03122024 </span>│<span style=\"color: #008000; text-decoration-color: #008000\">     False </span>│<span style=\"color: #008080; text-decoration-color: #008080\">          </span>│<span style=\"color: #800080; text-decoration-color: #800080\"> 28        </span>│<span style=\"color: #008000; text-decoration-color: #008000\">    False </span>│<span style=\"color: #008080; text-decoration-color: #008080\">           </span>│<span style=\"color: #800080; text-decoration-color: #800080\"> 110      </span>│<span style=\"color: #008000; text-decoration-color: #008000\">     False </span>│\n",
       "│<span style=\"color: #008080; text-decoration-color: #008080\"> 2641711 </span>│<span style=\"color: #008080; text-decoration-color: #008080\">       100 </span>│<span style=\"color: #800080; text-decoration-color: #800080\">          </span>│<span style=\"color: #008000; text-decoration-color: #008000\">     False </span>│<span style=\"color: #008080; text-decoration-color: #008080\">          </span>│<span style=\"color: #800080; text-decoration-color: #800080\"> 100       </span>│<span style=\"color: #008000; text-decoration-color: #008000\">    False </span>│<span style=\"color: #008080; text-decoration-color: #008080\">           </span>│<span style=\"color: #800080; text-decoration-color: #800080\"> 352      </span>│<span style=\"color: #008000; text-decoration-color: #008000\">     False </span>│\n",
       "│<span style=\"color: #008080; text-decoration-color: #008080\"> 2641712 </span>│<span style=\"color: #008080; text-decoration-color: #008080\">        10 </span>│<span style=\"color: #800080; text-decoration-color: #800080\">          </span>│<span style=\"color: #008000; text-decoration-color: #008000\">     False </span>│<span style=\"color: #008080; text-decoration-color: #008080\">          </span>│<span style=\"color: #800080; text-decoration-color: #800080\">           </span>│<span style=\"color: #008000; text-decoration-color: #008000\">     True </span>│<span style=\"color: #008080; text-decoration-color: #008080\">           </span>│<span style=\"color: #800080; text-decoration-color: #800080\"> 15       </span>│<span style=\"color: #008000; text-decoration-color: #008000\">     False </span>│\n",
       "│<span style=\"color: #008080; text-decoration-color: #008080\"> 2641764 </span>│<span style=\"color: #008080; text-decoration-color: #008080\">  03122024 </span>│<span style=\"color: #800080; text-decoration-color: #800080\">          </span>│<span style=\"color: #008000; text-decoration-color: #008000\">     False </span>│<span style=\"color: #008080; text-decoration-color: #008080\">     3443 </span>│<span style=\"color: #800080; text-decoration-color: #800080\">           </span>│<span style=\"color: #008000; text-decoration-color: #008000\">    False </span>│<span style=\"color: #008080; text-decoration-color: #008080\">      3443 </span>│<span style=\"color: #800080; text-decoration-color: #800080\"> 495      </span>│<span style=\"color: #008000; text-decoration-color: #008000\">     False </span>│\n",
       "│<span style=\"color: #008080; text-decoration-color: #008080\"> 2641765 </span>│<span style=\"color: #008080; text-decoration-color: #008080\">  03122024 </span>│<span style=\"color: #800080; text-decoration-color: #800080\">          </span>│<span style=\"color: #008000; text-decoration-color: #008000\">     False </span>│<span style=\"color: #008080; text-decoration-color: #008080\">     3443 </span>│<span style=\"color: #800080; text-decoration-color: #800080\">           </span>│<span style=\"color: #008000; text-decoration-color: #008000\">    False </span>│<span style=\"color: #008080; text-decoration-color: #008080\">      3443 </span>│<span style=\"color: #800080; text-decoration-color: #800080\"> 497      </span>│<span style=\"color: #008000; text-decoration-color: #008000\">     False </span>│\n",
       "│<span style=\"color: #008080; text-decoration-color: #008080\"> 2641766 </span>│<span style=\"color: #008080; text-decoration-color: #008080\">  03122024 </span>│<span style=\"color: #800080; text-decoration-color: #800080\">          </span>│<span style=\"color: #008000; text-decoration-color: #008000\">     False </span>│<span style=\"color: #008080; text-decoration-color: #008080\">     3443 </span>│<span style=\"color: #800080; text-decoration-color: #800080\">           </span>│<span style=\"color: #008000; text-decoration-color: #008000\">    False </span>│<span style=\"color: #008080; text-decoration-color: #008080\">      3443 </span>│<span style=\"color: #800080; text-decoration-color: #800080\"> 499      </span>│<span style=\"color: #008000; text-decoration-color: #008000\">     False </span>│\n",
       "│<span style=\"color: #008080; text-decoration-color: #008080\"> 2641794 </span>│<span style=\"color: #008080; text-decoration-color: #008080\">         2 </span>│<span style=\"color: #800080; text-decoration-color: #800080\"> 03112024 </span>│<span style=\"color: #008000; text-decoration-color: #008000\">     False </span>│<span style=\"color: #008080; text-decoration-color: #008080\">          </span>│<span style=\"color: #800080; text-decoration-color: #800080\"> 2         </span>│<span style=\"color: #008000; text-decoration-color: #008000\">    False </span>│<span style=\"color: #008080; text-decoration-color: #008080\">           </span>│<span style=\"color: #800080; text-decoration-color: #800080\"> 429      </span>│<span style=\"color: #008000; text-decoration-color: #008000\">     False </span>│\n",
       "│<span style=\"color: #008080; text-decoration-color: #008080\"> 2641803 </span>│<span style=\"color: #008080; text-decoration-color: #008080\">        41 </span>│<span style=\"color: #800080; text-decoration-color: #800080\"> 03112024 </span>│<span style=\"color: #008000; text-decoration-color: #008000\">     False </span>│<span style=\"color: #008080; text-decoration-color: #008080\">          </span>│<span style=\"color: #800080; text-decoration-color: #800080\"> 41        </span>│<span style=\"color: #008000; text-decoration-color: #008000\">    False </span>│<span style=\"color: #008080; text-decoration-color: #008080\">           </span>│<span style=\"color: #800080; text-decoration-color: #800080\"> 674      </span>│<span style=\"color: #008000; text-decoration-color: #008000\">     False </span>│\n",
       "│<span style=\"color: #008080; text-decoration-color: #008080\"> 2641831 </span>│<span style=\"color: #008080; text-decoration-color: #008080\">         9 </span>│<span style=\"color: #800080; text-decoration-color: #800080\"> 03112024 </span>│<span style=\"color: #008000; text-decoration-color: #008000\">     False </span>│<span style=\"color: #008080; text-decoration-color: #008080\">          </span>│<span style=\"color: #800080; text-decoration-color: #800080\">           </span>│<span style=\"color: #008000; text-decoration-color: #008000\">     True </span>│<span style=\"color: #008080; text-decoration-color: #008080\">           </span>│<span style=\"color: #800080; text-decoration-color: #800080\"> 246      </span>│<span style=\"color: #008000; text-decoration-color: #008000\">     False </span>│\n",
       "│<span style=\"color: #008080; text-decoration-color: #008080\"> 2641834 </span>│<span style=\"color: #008080; text-decoration-color: #008080\">      1122 </span>│<span style=\"color: #800080; text-decoration-color: #800080\"> 03112024 </span>│<span style=\"color: #008000; text-decoration-color: #008000\">     False </span>│<span style=\"color: #008080; text-decoration-color: #008080\">          </span>│<span style=\"color: #800080; text-decoration-color: #800080\"> 1122      </span>│<span style=\"color: #008000; text-decoration-color: #008000\">    False </span>│<span style=\"color: #008080; text-decoration-color: #008080\">           </span>│<span style=\"color: #800080; text-decoration-color: #800080\"> 351      </span>│<span style=\"color: #008000; text-decoration-color: #008000\">     False </span>│\n",
       "│<span style=\"color: #008080; text-decoration-color: #008080\"> 2641838 </span>│<span style=\"color: #008080; text-decoration-color: #008080\">         9 </span>│<span style=\"color: #800080; text-decoration-color: #800080\">          </span>│<span style=\"color: #008000; text-decoration-color: #008000\">     False </span>│<span style=\"color: #008080; text-decoration-color: #008080\">          </span>│<span style=\"color: #800080; text-decoration-color: #800080\">           </span>│<span style=\"color: #008000; text-decoration-color: #008000\">     True </span>│<span style=\"color: #008080; text-decoration-color: #008080\">           </span>│<span style=\"color: #800080; text-decoration-color: #800080\"> 247      </span>│<span style=\"color: #008000; text-decoration-color: #008000\">     False </span>│\n",
       "│<span style=\"color: #008080; text-decoration-color: #008080\"> 2641847 </span>│<span style=\"color: #008080; text-decoration-color: #008080\">  03112024 </span>│<span style=\"color: #800080; text-decoration-color: #800080\">          </span>│<span style=\"color: #008000; text-decoration-color: #008000\">     False </span>│<span style=\"color: #008080; text-decoration-color: #008080\">     1122 </span>│<span style=\"color: #800080; text-decoration-color: #800080\">           </span>│<span style=\"color: #008000; text-decoration-color: #008000\">    False </span>│<span style=\"color: #008080; text-decoration-color: #008080\">      1122 </span>│<span style=\"color: #800080; text-decoration-color: #800080\"> 387      </span>│<span style=\"color: #008000; text-decoration-color: #008000\">     False </span>│\n",
       "│<span style=\"color: #008080; text-decoration-color: #008080\"> 2641848 </span>│<span style=\"color: #008080; text-decoration-color: #008080\">  03112024 </span>│<span style=\"color: #800080; text-decoration-color: #800080\">          </span>│<span style=\"color: #008000; text-decoration-color: #008000\">     False </span>│<span style=\"color: #008080; text-decoration-color: #008080\">     1122 </span>│<span style=\"color: #800080; text-decoration-color: #800080\">           </span>│<span style=\"color: #008000; text-decoration-color: #008000\">    False </span>│<span style=\"color: #008080; text-decoration-color: #008080\">      1122 </span>│<span style=\"color: #800080; text-decoration-color: #800080\"> 406      </span>│<span style=\"color: #008000; text-decoration-color: #008000\">     False </span>│\n",
       "│<span style=\"color: #008080; text-decoration-color: #008080\"> 2641849 </span>│<span style=\"color: #008080; text-decoration-color: #008080\">  03112024 </span>│<span style=\"color: #800080; text-decoration-color: #800080\"> 03112024 </span>│<span style=\"color: #008000; text-decoration-color: #008000\">      True </span>│<span style=\"color: #008080; text-decoration-color: #008080\">      112 </span>│<span style=\"color: #800080; text-decoration-color: #800080\">           </span>│<span style=\"color: #008000; text-decoration-color: #008000\">    False </span>│<span style=\"color: #008080; text-decoration-color: #008080\">       112 </span>│<span style=\"color: #800080; text-decoration-color: #800080\"> 426      </span>│<span style=\"color: #008000; text-decoration-color: #008000\">     False </span>│\n",
       "│<span style=\"color: #008080; text-decoration-color: #008080\"> 2641945 </span>│<span style=\"color: #008080; text-decoration-color: #008080\">  03082024 </span>│<span style=\"color: #800080; text-decoration-color: #800080\">          </span>│<span style=\"color: #008000; text-decoration-color: #008000\">     False </span>│<span style=\"color: #008080; text-decoration-color: #008080\">      365 </span>│<span style=\"color: #800080; text-decoration-color: #800080\">           </span>│<span style=\"color: #008000; text-decoration-color: #008000\">    False </span>│<span style=\"color: #008080; text-decoration-color: #008080\">       365 </span>│<span style=\"color: #800080; text-decoration-color: #800080\"> 302      </span>│<span style=\"color: #008000; text-decoration-color: #008000\">     False </span>│\n",
       "│<span style=\"color: #008080; text-decoration-color: #008080\"> 2641947 </span>│<span style=\"color: #008080; text-decoration-color: #008080\">  03082024 </span>│<span style=\"color: #800080; text-decoration-color: #800080\">          </span>│<span style=\"color: #008000; text-decoration-color: #008000\">     False </span>│<span style=\"color: #008080; text-decoration-color: #008080\">      365 </span>│<span style=\"color: #800080; text-decoration-color: #800080\"> 365       </span>│<span style=\"color: #008000; text-decoration-color: #008000\">     True </span>│<span style=\"color: #008080; text-decoration-color: #008080\">       365 </span>│<span style=\"color: #800080; text-decoration-color: #800080\"> 324      </span>│<span style=\"color: #008000; text-decoration-color: #008000\">     False </span>│\n",
       "│<span style=\"color: #008080; text-decoration-color: #008080\"> 2641949 </span>│<span style=\"color: #008080; text-decoration-color: #008080\">  03082024 </span>│<span style=\"color: #800080; text-decoration-color: #800080\"> 03082024 </span>│<span style=\"color: #008000; text-decoration-color: #008000\">      True </span>│<span style=\"color: #008080; text-decoration-color: #008080\">      365 </span>│<span style=\"color: #800080; text-decoration-color: #800080\">           </span>│<span style=\"color: #008000; text-decoration-color: #008000\">    False </span>│<span style=\"color: #008080; text-decoration-color: #008080\">       365 </span>│<span style=\"color: #800080; text-decoration-color: #800080\"> 326      </span>│<span style=\"color: #008000; text-decoration-color: #008000\">     False </span>│\n",
       "│<span style=\"color: #008080; text-decoration-color: #008080\"> 2641968 </span>│<span style=\"color: #008080; text-decoration-color: #008080\">  03132024 </span>│<span style=\"color: #800080; text-decoration-color: #800080\">          </span>│<span style=\"color: #008000; text-decoration-color: #008000\">     False </span>│<span style=\"color: #008080; text-decoration-color: #008080\">      176 </span>│<span style=\"color: #800080; text-decoration-color: #800080\"> 176       </span>│<span style=\"color: #008000; text-decoration-color: #008000\">     True </span>│<span style=\"color: #008080; text-decoration-color: #008080\">       176 </span>│<span style=\"color: #800080; text-decoration-color: #800080\"> 614      </span>│<span style=\"color: #008000; text-decoration-color: #008000\">     False </span>│\n",
       "│<span style=\"color: #008080; text-decoration-color: #008080\"> 2641998 </span>│<span style=\"color: #008080; text-decoration-color: #008080\">        19 </span>│<span style=\"color: #800080; text-decoration-color: #800080\"> 03142024 </span>│<span style=\"color: #008000; text-decoration-color: #008000\">     False </span>│<span style=\"color: #008080; text-decoration-color: #008080\">          </span>│<span style=\"color: #800080; text-decoration-color: #800080\"> 19        </span>│<span style=\"color: #008000; text-decoration-color: #008000\">    False </span>│<span style=\"color: #008080; text-decoration-color: #008080\">           </span>│<span style=\"color: #800080; text-decoration-color: #800080\"> 50       </span>│<span style=\"color: #008000; text-decoration-color: #008000\">     False </span>│\n",
       "│<span style=\"color: #008080; text-decoration-color: #008080\"> 2642037 </span>│<span style=\"color: #008080; text-decoration-color: #008080\">  03112024 </span>│<span style=\"color: #800080; text-decoration-color: #800080\">          </span>│<span style=\"color: #008000; text-decoration-color: #008000\">     False </span>│<span style=\"color: #008080; text-decoration-color: #008080\">       34 </span>│<span style=\"color: #800080; text-decoration-color: #800080\"> 34        </span>│<span style=\"color: #008000; text-decoration-color: #008000\">     True </span>│<span style=\"color: #008080; text-decoration-color: #008080\">        34 </span>│<span style=\"color: #800080; text-decoration-color: #800080\"> 271      </span>│<span style=\"color: #008000; text-decoration-color: #008000\">     False </span>│\n",
       "│<span style=\"color: #008080; text-decoration-color: #008080\"> 2642449 </span>│<span style=\"color: #008080; text-decoration-color: #008080\">  02292024 </span>│<span style=\"color: #800080; text-decoration-color: #800080\">          </span>│<span style=\"color: #008000; text-decoration-color: #008000\">     False </span>│<span style=\"color: #008080; text-decoration-color: #008080\">      857 </span>│<span style=\"color: #800080; text-decoration-color: #800080\"> 857       </span>│<span style=\"color: #008000; text-decoration-color: #008000\">     True </span>│<span style=\"color: #008080; text-decoration-color: #008080\">       857 </span>│<span style=\"color: #800080; text-decoration-color: #800080\">          </span>│<span style=\"color: #008000; text-decoration-color: #008000\">     False </span>│\n",
       "│<span style=\"color: #008080; text-decoration-color: #008080\"> 2642451 </span>│<span style=\"color: #008080; text-decoration-color: #008080\">  02292024 </span>│<span style=\"color: #800080; text-decoration-color: #800080\"> 02292024 </span>│<span style=\"color: #008000; text-decoration-color: #008000\">      True </span>│<span style=\"color: #008080; text-decoration-color: #008080\">      286 </span>│<span style=\"color: #800080; text-decoration-color: #800080\"> 286       </span>│<span style=\"color: #008000; text-decoration-color: #008000\">     True </span>│<span style=\"color: #008080; text-decoration-color: #008080\">       286 </span>│<span style=\"color: #800080; text-decoration-color: #800080\">          </span>│<span style=\"color: #008000; text-decoration-color: #008000\">     False </span>│\n",
       "│<span style=\"color: #008080; text-decoration-color: #008080\"> 2642456 </span>│<span style=\"color: #008080; text-decoration-color: #008080\">  02292024 </span>│<span style=\"color: #800080; text-decoration-color: #800080\">          </span>│<span style=\"color: #008000; text-decoration-color: #008000\">     False </span>│<span style=\"color: #008080; text-decoration-color: #008080\">     1555 </span>│<span style=\"color: #800080; text-decoration-color: #800080\">           </span>│<span style=\"color: #008000; text-decoration-color: #008000\">    False </span>│<span style=\"color: #008080; text-decoration-color: #008080\">      1555 </span>│<span style=\"color: #800080; text-decoration-color: #800080\"> 185      </span>│<span style=\"color: #008000; text-decoration-color: #008000\">     False </span>│\n",
       "│<span style=\"color: #008080; text-decoration-color: #008080\"> 2642457 </span>│<span style=\"color: #008080; text-decoration-color: #008080\">  02292024 </span>│<span style=\"color: #800080; text-decoration-color: #800080\">          </span>│<span style=\"color: #008000; text-decoration-color: #008000\">     False </span>│<span style=\"color: #008080; text-decoration-color: #008080\">      857 </span>│<span style=\"color: #800080; text-decoration-color: #800080\"> 857       </span>│<span style=\"color: #008000; text-decoration-color: #008000\">     True </span>│<span style=\"color: #008080; text-decoration-color: #008080\">       857 </span>│<span style=\"color: #800080; text-decoration-color: #800080\">          </span>│<span style=\"color: #008000; text-decoration-color: #008000\">     False </span>│\n",
       "│<span style=\"color: #008080; text-decoration-color: #008080\"> 2642458 </span>│<span style=\"color: #008080; text-decoration-color: #008080\">  02292024 </span>│<span style=\"color: #800080; text-decoration-color: #800080\">          </span>│<span style=\"color: #008000; text-decoration-color: #008000\">     False </span>│<span style=\"color: #008080; text-decoration-color: #008080\">      857 </span>│<span style=\"color: #800080; text-decoration-color: #800080\"> 857       </span>│<span style=\"color: #008000; text-decoration-color: #008000\">     True </span>│<span style=\"color: #008080; text-decoration-color: #008080\">       857 </span>│<span style=\"color: #800080; text-decoration-color: #800080\">          </span>│<span style=\"color: #008000; text-decoration-color: #008000\">     False </span>│\n",
       "│<span style=\"color: #008080; text-decoration-color: #008080\"> 2642461 </span>│<span style=\"color: #008080; text-decoration-color: #008080\">  02292024 </span>│<span style=\"color: #800080; text-decoration-color: #800080\">          </span>│<span style=\"color: #008000; text-decoration-color: #008000\">     False </span>│<span style=\"color: #008080; text-decoration-color: #008080\">      857 </span>│<span style=\"color: #800080; text-decoration-color: #800080\"> 857       </span>│<span style=\"color: #008000; text-decoration-color: #008000\">     True </span>│<span style=\"color: #008080; text-decoration-color: #008080\">       857 </span>│<span style=\"color: #800080; text-decoration-color: #800080\">          </span>│<span style=\"color: #008000; text-decoration-color: #008000\">     False </span>│\n",
       "│<span style=\"color: #008080; text-decoration-color: #008080\"> 2642462 </span>│<span style=\"color: #008080; text-decoration-color: #008080\">  02292024 </span>│<span style=\"color: #800080; text-decoration-color: #800080\">          </span>│<span style=\"color: #008000; text-decoration-color: #008000\">     False </span>│<span style=\"color: #008080; text-decoration-color: #008080\">      857 </span>│<span style=\"color: #800080; text-decoration-color: #800080\"> 857       </span>│<span style=\"color: #008000; text-decoration-color: #008000\">     True </span>│<span style=\"color: #008080; text-decoration-color: #008080\">       857 </span>│<span style=\"color: #800080; text-decoration-color: #800080\">          </span>│<span style=\"color: #008000; text-decoration-color: #008000\">     False </span>│\n",
       "│<span style=\"color: #008080; text-decoration-color: #008080\"> 2642484 </span>│<span style=\"color: #008080; text-decoration-color: #008080\">       176 </span>│<span style=\"color: #800080; text-decoration-color: #800080\"> 03122024 </span>│<span style=\"color: #008000; text-decoration-color: #008000\">     False </span>│<span style=\"color: #008080; text-decoration-color: #008080\">          </span>│<span style=\"color: #800080; text-decoration-color: #800080\"> 176       </span>│<span style=\"color: #008000; text-decoration-color: #008000\">    False </span>│<span style=\"color: #008080; text-decoration-color: #008080\">           </span>│<span style=\"color: #800080; text-decoration-color: #800080\"> 725      </span>│<span style=\"color: #008000; text-decoration-color: #008000\">     False </span>│\n",
       "│<span style=\"color: #008080; text-decoration-color: #008080\"> 2642486 </span>│<span style=\"color: #008080; text-decoration-color: #008080\">        19 </span>│<span style=\"color: #800080; text-decoration-color: #800080\"> 03132024 </span>│<span style=\"color: #008000; text-decoration-color: #008000\">     False </span>│<span style=\"color: #008080; text-decoration-color: #008080\">          </span>│<span style=\"color: #800080; text-decoration-color: #800080\"> 19        </span>│<span style=\"color: #008000; text-decoration-color: #008000\">    False </span>│<span style=\"color: #008080; text-decoration-color: #008080\">           </span>│<span style=\"color: #800080; text-decoration-color: #800080\"> 39       </span>│<span style=\"color: #008000; text-decoration-color: #008000\">     False </span>│\n",
       "│<span style=\"color: #008080; text-decoration-color: #008080\"> 2642487 </span>│<span style=\"color: #008080; text-decoration-color: #008080\">        19 </span>│<span style=\"color: #800080; text-decoration-color: #800080\"> 03132024 </span>│<span style=\"color: #008000; text-decoration-color: #008000\">     False </span>│<span style=\"color: #008080; text-decoration-color: #008080\">          </span>│<span style=\"color: #800080; text-decoration-color: #800080\"> 19        </span>│<span style=\"color: #008000; text-decoration-color: #008000\">    False </span>│<span style=\"color: #008080; text-decoration-color: #008080\">           </span>│<span style=\"color: #800080; text-decoration-color: #800080\"> 46       </span>│<span style=\"color: #008000; text-decoration-color: #008000\">     False </span>│\n",
       "│<span style=\"color: #008080; text-decoration-color: #008080\"> 2642489 </span>│<span style=\"color: #008080; text-decoration-color: #008080\">  03132024 </span>│<span style=\"color: #800080; text-decoration-color: #800080\">          </span>│<span style=\"color: #008000; text-decoration-color: #008000\">     False </span>│<span style=\"color: #008080; text-decoration-color: #008080\">      260 </span>│<span style=\"color: #800080; text-decoration-color: #800080\"> 260       </span>│<span style=\"color: #008000; text-decoration-color: #008000\">     True </span>│<span style=\"color: #008080; text-decoration-color: #008080\">       260 </span>│<span style=\"color: #800080; text-decoration-color: #800080\"> 75       </span>│<span style=\"color: #008000; text-decoration-color: #008000\">     False </span>│\n",
       "│<span style=\"color: #008080; text-decoration-color: #008080\"> 2642493 </span>│<span style=\"color: #008080; text-decoration-color: #008080\">       176 </span>│<span style=\"color: #800080; text-decoration-color: #800080\"> 03052024 </span>│<span style=\"color: #008000; text-decoration-color: #008000\">     False </span>│<span style=\"color: #008080; text-decoration-color: #008080\">          </span>│<span style=\"color: #800080; text-decoration-color: #800080\"> 176       </span>│<span style=\"color: #008000; text-decoration-color: #008000\">    False </span>│<span style=\"color: #008080; text-decoration-color: #008080\">           </span>│<span style=\"color: #800080; text-decoration-color: #800080\"> 653      </span>│<span style=\"color: #008000; text-decoration-color: #008000\">     False </span>│\n",
       "│<span style=\"color: #008080; text-decoration-color: #008080\"> 2642973 </span>│<span style=\"color: #008080; text-decoration-color: #008080\">       100 </span>│<span style=\"color: #800080; text-decoration-color: #800080\">          </span>│<span style=\"color: #008000; text-decoration-color: #008000\">     False </span>│<span style=\"color: #008080; text-decoration-color: #008080\">          </span>│<span style=\"color: #800080; text-decoration-color: #800080\"> 100       </span>│<span style=\"color: #008000; text-decoration-color: #008000\">    False </span>│<span style=\"color: #008080; text-decoration-color: #008080\">           </span>│<span style=\"color: #800080; text-decoration-color: #800080\"> 289      </span>│<span style=\"color: #008000; text-decoration-color: #008000\">     False </span>│\n",
       "│<span style=\"color: #008080; text-decoration-color: #008080\"> 2642980 </span>│<span style=\"color: #008080; text-decoration-color: #008080\">  02292024 </span>│<span style=\"color: #800080; text-decoration-color: #800080\">          </span>│<span style=\"color: #008000; text-decoration-color: #008000\">     False </span>│<span style=\"color: #008080; text-decoration-color: #008080\">      100 </span>│<span style=\"color: #800080; text-decoration-color: #800080\"> 100       </span>│<span style=\"color: #008000; text-decoration-color: #008000\">     True </span>│<span style=\"color: #008080; text-decoration-color: #008080\">       100 </span>│<span style=\"color: #800080; text-decoration-color: #800080\"> 290      </span>│<span style=\"color: #008000; text-decoration-color: #008000\">     False </span>│\n",
       "└─────────┴───────────┴──────────┴───────────┴──────────┴───────────┴──────────┴───────────┴──────────┴───────────┘\n",
       "</pre>\n"
      ],
      "text/plain": [
       "\u001b[3m                                                      KY set2                                                      \u001b[0m\n",
       "┏━━━━━━━━━┳━━━━━━━━━━━┳━━━━━━━━━━┳━━━━━━━━━━━┳━━━━━━━━━━┳━━━━━━━━━━━┳━━━━━━━━━━┳━━━━━━━━━━━┳━━━━━━━━━━┳━━━━━━━━━━━┓\n",
       "┃\u001b[1m \u001b[0m\u001b[1mBatchid\u001b[0m\u001b[1m \u001b[0m┃\u001b[1m \u001b[0m\u001b[1m6-keyed_…\u001b[0m\u001b[1m \u001b[0m┃\u001b[1m \u001b[0m\u001b[1m6-spacy…\u001b[0m\u001b[1m \u001b[0m┃\u001b[1m \u001b[0m\u001b[1m6-match_…\u001b[0m\u001b[1m \u001b[0m┃\u001b[1m \u001b[0m\u001b[1m92-keye…\u001b[0m\u001b[1m \u001b[0m┃\u001b[1m \u001b[0m\u001b[1m92-spacy…\u001b[0m\u001b[1m \u001b[0m┃\u001b[1m \u001b[0m\u001b[1m92-matc…\u001b[0m\u001b[1m \u001b[0m┃\u001b[1m \u001b[0m\u001b[1m93-keyed…\u001b[0m\u001b[1m \u001b[0m┃\u001b[1m \u001b[0m\u001b[1m93-spac…\u001b[0m\u001b[1m \u001b[0m┃\u001b[1m \u001b[0m\u001b[1m93-match…\u001b[0m\u001b[1m \u001b[0m┃\n",
       "┡━━━━━━━━━╇━━━━━━━━━━━╇━━━━━━━━━━╇━━━━━━━━━━━╇━━━━━━━━━━╇━━━━━━━━━━━╇━━━━━━━━━━╇━━━━━━━━━━━╇━━━━━━━━━━╇━━━━━━━━━━━┩\n",
       "│\u001b[36m \u001b[0m\u001b[36m2635901\u001b[0m\u001b[36m \u001b[0m│\u001b[36m \u001b[0m\u001b[36m      176\u001b[0m\u001b[36m \u001b[0m│\u001b[35m \u001b[0m\u001b[35m        \u001b[0m\u001b[35m \u001b[0m│\u001b[32m \u001b[0m\u001b[32m    False\u001b[0m\u001b[32m \u001b[0m│\u001b[36m \u001b[0m\u001b[36m        \u001b[0m\u001b[36m \u001b[0m│\u001b[35m \u001b[0m\u001b[35m176      \u001b[0m\u001b[35m \u001b[0m│\u001b[32m \u001b[0m\u001b[32m   False\u001b[0m\u001b[32m \u001b[0m│\u001b[36m \u001b[0m\u001b[36m         \u001b[0m\u001b[36m \u001b[0m│\u001b[35m \u001b[0m\u001b[35m626     \u001b[0m\u001b[35m \u001b[0m│\u001b[32m \u001b[0m\u001b[32m    False\u001b[0m\u001b[32m \u001b[0m│\n",
       "│\u001b[36m \u001b[0m\u001b[36m2637159\u001b[0m\u001b[36m \u001b[0m│\u001b[36m \u001b[0m\u001b[36m      220\u001b[0m\u001b[36m \u001b[0m│\u001b[35m \u001b[0m\u001b[35m        \u001b[0m\u001b[35m \u001b[0m│\u001b[32m \u001b[0m\u001b[32m    False\u001b[0m\u001b[32m \u001b[0m│\u001b[36m \u001b[0m\u001b[36m        \u001b[0m\u001b[36m \u001b[0m│\u001b[35m \u001b[0m\u001b[35m220      \u001b[0m\u001b[35m \u001b[0m│\u001b[32m \u001b[0m\u001b[32m   False\u001b[0m\u001b[32m \u001b[0m│\u001b[36m \u001b[0m\u001b[36m         \u001b[0m\u001b[36m \u001b[0m│\u001b[35m \u001b[0m\u001b[35m82      \u001b[0m\u001b[35m \u001b[0m│\u001b[32m \u001b[0m\u001b[32m    False\u001b[0m\u001b[32m \u001b[0m│\n",
       "│\u001b[36m \u001b[0m\u001b[36m2637177\u001b[0m\u001b[36m \u001b[0m│\u001b[36m \u001b[0m\u001b[36m      428\u001b[0m\u001b[36m \u001b[0m│\u001b[35m \u001b[0m\u001b[35m03132024\u001b[0m\u001b[35m \u001b[0m│\u001b[32m \u001b[0m\u001b[32m    False\u001b[0m\u001b[32m \u001b[0m│\u001b[36m \u001b[0m\u001b[36m        \u001b[0m\u001b[36m \u001b[0m│\u001b[35m \u001b[0m\u001b[35m428      \u001b[0m\u001b[35m \u001b[0m│\u001b[32m \u001b[0m\u001b[32m   False\u001b[0m\u001b[32m \u001b[0m│\u001b[36m \u001b[0m\u001b[36m         \u001b[0m\u001b[36m \u001b[0m│\u001b[35m \u001b[0m\u001b[35m264     \u001b[0m\u001b[35m \u001b[0m│\u001b[32m \u001b[0m\u001b[32m    False\u001b[0m\u001b[32m \u001b[0m│\n",
       "│\u001b[36m \u001b[0m\u001b[36m2637185\u001b[0m\u001b[36m \u001b[0m│\u001b[36m \u001b[0m\u001b[36m      220\u001b[0m\u001b[36m \u001b[0m│\u001b[35m \u001b[0m\u001b[35m03132024\u001b[0m\u001b[35m \u001b[0m│\u001b[32m \u001b[0m\u001b[32m    False\u001b[0m\u001b[32m \u001b[0m│\u001b[36m \u001b[0m\u001b[36m        \u001b[0m\u001b[36m \u001b[0m│\u001b[35m \u001b[0m\u001b[35m220      \u001b[0m\u001b[35m \u001b[0m│\u001b[32m \u001b[0m\u001b[32m   False\u001b[0m\u001b[32m \u001b[0m│\u001b[36m \u001b[0m\u001b[36m         \u001b[0m\u001b[36m \u001b[0m│\u001b[35m \u001b[0m\u001b[35m86      \u001b[0m\u001b[35m \u001b[0m│\u001b[32m \u001b[0m\u001b[32m    False\u001b[0m\u001b[32m \u001b[0m│\n",
       "│\u001b[36m \u001b[0m\u001b[36m2637187\u001b[0m\u001b[36m \u001b[0m│\u001b[36m \u001b[0m\u001b[36m      220\u001b[0m\u001b[36m \u001b[0m│\u001b[35m \u001b[0m\u001b[35m03132024\u001b[0m\u001b[35m \u001b[0m│\u001b[32m \u001b[0m\u001b[32m    False\u001b[0m\u001b[32m \u001b[0m│\u001b[36m \u001b[0m\u001b[36m        \u001b[0m\u001b[36m \u001b[0m│\u001b[35m \u001b[0m\u001b[35m220      \u001b[0m\u001b[35m \u001b[0m│\u001b[32m \u001b[0m\u001b[32m   False\u001b[0m\u001b[32m \u001b[0m│\u001b[36m \u001b[0m\u001b[36m         \u001b[0m\u001b[36m \u001b[0m│\u001b[35m \u001b[0m\u001b[35m96      \u001b[0m\u001b[35m \u001b[0m│\u001b[32m \u001b[0m\u001b[32m    False\u001b[0m\u001b[32m \u001b[0m│\n",
       "│\u001b[36m \u001b[0m\u001b[36m2637196\u001b[0m\u001b[36m \u001b[0m│\u001b[36m \u001b[0m\u001b[36m      428\u001b[0m\u001b[36m \u001b[0m│\u001b[35m \u001b[0m\u001b[35m03132024\u001b[0m\u001b[35m \u001b[0m│\u001b[32m \u001b[0m\u001b[32m    False\u001b[0m\u001b[32m \u001b[0m│\u001b[36m \u001b[0m\u001b[36m        \u001b[0m\u001b[36m \u001b[0m│\u001b[35m \u001b[0m\u001b[35m428      \u001b[0m\u001b[35m \u001b[0m│\u001b[32m \u001b[0m\u001b[32m   False\u001b[0m\u001b[32m \u001b[0m│\u001b[36m \u001b[0m\u001b[36m         \u001b[0m\u001b[36m \u001b[0m│\u001b[35m \u001b[0m\u001b[35m278     \u001b[0m\u001b[35m \u001b[0m│\u001b[32m \u001b[0m\u001b[32m    False\u001b[0m\u001b[32m \u001b[0m│\n",
       "│\u001b[36m \u001b[0m\u001b[36m2637277\u001b[0m\u001b[36m \u001b[0m│\u001b[36m \u001b[0m\u001b[36m 03132024\u001b[0m\u001b[36m \u001b[0m│\u001b[35m \u001b[0m\u001b[35m        \u001b[0m\u001b[35m \u001b[0m│\u001b[32m \u001b[0m\u001b[32m    False\u001b[0m\u001b[32m \u001b[0m│\u001b[36m \u001b[0m\u001b[36m     176\u001b[0m\u001b[36m \u001b[0m│\u001b[35m \u001b[0m\u001b[35m176      \u001b[0m\u001b[35m \u001b[0m│\u001b[32m \u001b[0m\u001b[32m    True\u001b[0m\u001b[32m \u001b[0m│\u001b[36m \u001b[0m\u001b[36m      176\u001b[0m\u001b[36m \u001b[0m│\u001b[35m \u001b[0m\u001b[35m614     \u001b[0m\u001b[35m \u001b[0m│\u001b[32m \u001b[0m\u001b[32m    False\u001b[0m\u001b[32m \u001b[0m│\n",
       "│\u001b[36m \u001b[0m\u001b[36m2637436\u001b[0m\u001b[36m \u001b[0m│\u001b[36m \u001b[0m\u001b[36m       19\u001b[0m\u001b[36m \u001b[0m│\u001b[35m \u001b[0m\u001b[35m03142024\u001b[0m\u001b[35m \u001b[0m│\u001b[32m \u001b[0m\u001b[32m    False\u001b[0m\u001b[32m \u001b[0m│\u001b[36m \u001b[0m\u001b[36m        \u001b[0m\u001b[36m \u001b[0m│\u001b[35m \u001b[0m\u001b[35m19       \u001b[0m\u001b[35m \u001b[0m│\u001b[32m \u001b[0m\u001b[32m   False\u001b[0m\u001b[32m \u001b[0m│\u001b[36m \u001b[0m\u001b[36m         \u001b[0m\u001b[36m \u001b[0m│\u001b[35m \u001b[0m\u001b[35m50      \u001b[0m\u001b[35m \u001b[0m│\u001b[32m \u001b[0m\u001b[32m    False\u001b[0m\u001b[32m \u001b[0m│\n",
       "│\u001b[36m \u001b[0m\u001b[36m2638208\u001b[0m\u001b[36m \u001b[0m│\u001b[36m \u001b[0m\u001b[36m 02272024\u001b[0m\u001b[36m \u001b[0m│\u001b[35m \u001b[0m\u001b[35m        \u001b[0m\u001b[35m \u001b[0m│\u001b[32m \u001b[0m\u001b[32m    False\u001b[0m\u001b[32m \u001b[0m│\u001b[36m \u001b[0m\u001b[36m     286\u001b[0m\u001b[36m \u001b[0m│\u001b[35m \u001b[0m\u001b[35m286      \u001b[0m\u001b[35m \u001b[0m│\u001b[32m \u001b[0m\u001b[32m    True\u001b[0m\u001b[32m \u001b[0m│\u001b[36m \u001b[0m\u001b[36m      286\u001b[0m\u001b[36m \u001b[0m│\u001b[35m \u001b[0m\u001b[35m615     \u001b[0m\u001b[35m \u001b[0m│\u001b[32m \u001b[0m\u001b[32m    False\u001b[0m\u001b[32m \u001b[0m│\n",
       "│\u001b[36m \u001b[0m\u001b[36m2638212\u001b[0m\u001b[36m \u001b[0m│\u001b[36m \u001b[0m\u001b[36m 02272024\u001b[0m\u001b[36m \u001b[0m│\u001b[35m \u001b[0m\u001b[35m        \u001b[0m\u001b[35m \u001b[0m│\u001b[32m \u001b[0m\u001b[32m    False\u001b[0m\u001b[32m \u001b[0m│\u001b[36m \u001b[0m\u001b[36m     286\u001b[0m\u001b[36m \u001b[0m│\u001b[35m \u001b[0m\u001b[35m286      \u001b[0m\u001b[35m \u001b[0m│\u001b[32m \u001b[0m\u001b[32m    True\u001b[0m\u001b[32m \u001b[0m│\u001b[36m \u001b[0m\u001b[36m      286\u001b[0m\u001b[36m \u001b[0m│\u001b[35m \u001b[0m\u001b[35m617     \u001b[0m\u001b[35m \u001b[0m│\u001b[32m \u001b[0m\u001b[32m    False\u001b[0m\u001b[32m \u001b[0m│\n",
       "│\u001b[36m \u001b[0m\u001b[36m2638213\u001b[0m\u001b[36m \u001b[0m│\u001b[36m \u001b[0m\u001b[36m 02272024\u001b[0m\u001b[36m \u001b[0m│\u001b[35m \u001b[0m\u001b[35m        \u001b[0m\u001b[35m \u001b[0m│\u001b[32m \u001b[0m\u001b[32m    False\u001b[0m\u001b[32m \u001b[0m│\u001b[36m \u001b[0m\u001b[36m     286\u001b[0m\u001b[36m \u001b[0m│\u001b[35m \u001b[0m\u001b[35m286      \u001b[0m\u001b[35m \u001b[0m│\u001b[32m \u001b[0m\u001b[32m    True\u001b[0m\u001b[32m \u001b[0m│\u001b[36m \u001b[0m\u001b[36m      286\u001b[0m\u001b[36m \u001b[0m│\u001b[35m \u001b[0m\u001b[35m        \u001b[0m\u001b[35m \u001b[0m│\u001b[32m \u001b[0m\u001b[32m    False\u001b[0m\u001b[32m \u001b[0m│\n",
       "│\u001b[36m \u001b[0m\u001b[36m2638223\u001b[0m\u001b[36m \u001b[0m│\u001b[36m \u001b[0m\u001b[36m 02272024\u001b[0m\u001b[36m \u001b[0m│\u001b[35m \u001b[0m\u001b[35m02272024\u001b[0m\u001b[35m \u001b[0m│\u001b[32m \u001b[0m\u001b[32m     True\u001b[0m\u001b[32m \u001b[0m│\u001b[36m \u001b[0m\u001b[36m     857\u001b[0m\u001b[36m \u001b[0m│\u001b[35m \u001b[0m\u001b[35m857      \u001b[0m\u001b[35m \u001b[0m│\u001b[32m \u001b[0m\u001b[32m    True\u001b[0m\u001b[32m \u001b[0m│\u001b[36m \u001b[0m\u001b[36m      857\u001b[0m\u001b[36m \u001b[0m│\u001b[35m \u001b[0m\u001b[35m        \u001b[0m\u001b[35m \u001b[0m│\u001b[32m \u001b[0m\u001b[32m    False\u001b[0m\u001b[32m \u001b[0m│\n",
       "│\u001b[36m \u001b[0m\u001b[36m2638251\u001b[0m\u001b[36m \u001b[0m│\u001b[36m \u001b[0m\u001b[36m 02272024\u001b[0m\u001b[36m \u001b[0m│\u001b[35m \u001b[0m\u001b[35m02272024\u001b[0m\u001b[35m \u001b[0m│\u001b[32m \u001b[0m\u001b[32m     True\u001b[0m\u001b[32m \u001b[0m│\u001b[36m \u001b[0m\u001b[36m     857\u001b[0m\u001b[36m \u001b[0m│\u001b[35m \u001b[0m\u001b[35m857      \u001b[0m\u001b[35m \u001b[0m│\u001b[32m \u001b[0m\u001b[32m    True\u001b[0m\u001b[32m \u001b[0m│\u001b[36m \u001b[0m\u001b[36m      857\u001b[0m\u001b[36m \u001b[0m│\u001b[35m \u001b[0m\u001b[35m        \u001b[0m\u001b[35m \u001b[0m│\u001b[32m \u001b[0m\u001b[32m    False\u001b[0m\u001b[32m \u001b[0m│\n",
       "│\u001b[36m \u001b[0m\u001b[36m2638256\u001b[0m\u001b[36m \u001b[0m│\u001b[36m \u001b[0m\u001b[36m 02272024\u001b[0m\u001b[36m \u001b[0m│\u001b[35m \u001b[0m\u001b[35m        \u001b[0m\u001b[35m \u001b[0m│\u001b[32m \u001b[0m\u001b[32m    False\u001b[0m\u001b[32m \u001b[0m│\u001b[36m \u001b[0m\u001b[36m     857\u001b[0m\u001b[36m \u001b[0m│\u001b[35m \u001b[0m\u001b[35m857      \u001b[0m\u001b[35m \u001b[0m│\u001b[32m \u001b[0m\u001b[32m    True\u001b[0m\u001b[32m \u001b[0m│\u001b[36m \u001b[0m\u001b[36m      857\u001b[0m\u001b[36m \u001b[0m│\u001b[35m \u001b[0m\u001b[35m        \u001b[0m\u001b[35m \u001b[0m│\u001b[32m \u001b[0m\u001b[32m    False\u001b[0m\u001b[32m \u001b[0m│\n",
       "│\u001b[36m \u001b[0m\u001b[36m2638258\u001b[0m\u001b[36m \u001b[0m│\u001b[36m \u001b[0m\u001b[36m 02272024\u001b[0m\u001b[36m \u001b[0m│\u001b[35m \u001b[0m\u001b[35m        \u001b[0m\u001b[35m \u001b[0m│\u001b[32m \u001b[0m\u001b[32m    False\u001b[0m\u001b[32m \u001b[0m│\u001b[36m \u001b[0m\u001b[36m     286\u001b[0m\u001b[36m \u001b[0m│\u001b[35m \u001b[0m\u001b[35m286      \u001b[0m\u001b[35m \u001b[0m│\u001b[32m \u001b[0m\u001b[32m    True\u001b[0m\u001b[32m \u001b[0m│\u001b[36m \u001b[0m\u001b[36m      286\u001b[0m\u001b[36m \u001b[0m│\u001b[35m \u001b[0m\u001b[35m        \u001b[0m\u001b[35m \u001b[0m│\u001b[32m \u001b[0m\u001b[32m    False\u001b[0m\u001b[32m \u001b[0m│\n",
       "│\u001b[36m \u001b[0m\u001b[36m2641548\u001b[0m\u001b[36m \u001b[0m│\u001b[36m \u001b[0m\u001b[36m        7\u001b[0m\u001b[36m \u001b[0m│\u001b[35m \u001b[0m\u001b[35m03122024\u001b[0m\u001b[35m \u001b[0m│\u001b[32m \u001b[0m\u001b[32m    False\u001b[0m\u001b[32m \u001b[0m│\u001b[36m \u001b[0m\u001b[36m        \u001b[0m\u001b[36m \u001b[0m│\u001b[35m \u001b[0m\u001b[35m7        \u001b[0m\u001b[35m \u001b[0m│\u001b[32m \u001b[0m\u001b[32m   False\u001b[0m\u001b[32m \u001b[0m│\u001b[36m \u001b[0m\u001b[36m         \u001b[0m\u001b[36m \u001b[0m│\u001b[35m \u001b[0m\u001b[35m58      \u001b[0m\u001b[35m \u001b[0m│\u001b[32m \u001b[0m\u001b[32m    False\u001b[0m\u001b[32m \u001b[0m│\n",
       "│\u001b[36m \u001b[0m\u001b[36m2641560\u001b[0m\u001b[36m \u001b[0m│\u001b[36m \u001b[0m\u001b[36m      325\u001b[0m\u001b[36m \u001b[0m│\u001b[35m \u001b[0m\u001b[35m03122024\u001b[0m\u001b[35m \u001b[0m│\u001b[32m \u001b[0m\u001b[32m    False\u001b[0m\u001b[32m \u001b[0m│\u001b[36m \u001b[0m\u001b[36m        \u001b[0m\u001b[36m \u001b[0m│\u001b[35m \u001b[0m\u001b[35m28       \u001b[0m\u001b[35m \u001b[0m│\u001b[32m \u001b[0m\u001b[32m   False\u001b[0m\u001b[32m \u001b[0m│\u001b[36m \u001b[0m\u001b[36m         \u001b[0m\u001b[36m \u001b[0m│\u001b[35m \u001b[0m\u001b[35m110     \u001b[0m\u001b[35m \u001b[0m│\u001b[32m \u001b[0m\u001b[32m    False\u001b[0m\u001b[32m \u001b[0m│\n",
       "│\u001b[36m \u001b[0m\u001b[36m2641711\u001b[0m\u001b[36m \u001b[0m│\u001b[36m \u001b[0m\u001b[36m      100\u001b[0m\u001b[36m \u001b[0m│\u001b[35m \u001b[0m\u001b[35m        \u001b[0m\u001b[35m \u001b[0m│\u001b[32m \u001b[0m\u001b[32m    False\u001b[0m\u001b[32m \u001b[0m│\u001b[36m \u001b[0m\u001b[36m        \u001b[0m\u001b[36m \u001b[0m│\u001b[35m \u001b[0m\u001b[35m100      \u001b[0m\u001b[35m \u001b[0m│\u001b[32m \u001b[0m\u001b[32m   False\u001b[0m\u001b[32m \u001b[0m│\u001b[36m \u001b[0m\u001b[36m         \u001b[0m\u001b[36m \u001b[0m│\u001b[35m \u001b[0m\u001b[35m352     \u001b[0m\u001b[35m \u001b[0m│\u001b[32m \u001b[0m\u001b[32m    False\u001b[0m\u001b[32m \u001b[0m│\n",
       "│\u001b[36m \u001b[0m\u001b[36m2641712\u001b[0m\u001b[36m \u001b[0m│\u001b[36m \u001b[0m\u001b[36m       10\u001b[0m\u001b[36m \u001b[0m│\u001b[35m \u001b[0m\u001b[35m        \u001b[0m\u001b[35m \u001b[0m│\u001b[32m \u001b[0m\u001b[32m    False\u001b[0m\u001b[32m \u001b[0m│\u001b[36m \u001b[0m\u001b[36m        \u001b[0m\u001b[36m \u001b[0m│\u001b[35m \u001b[0m\u001b[35m         \u001b[0m\u001b[35m \u001b[0m│\u001b[32m \u001b[0m\u001b[32m    True\u001b[0m\u001b[32m \u001b[0m│\u001b[36m \u001b[0m\u001b[36m         \u001b[0m\u001b[36m \u001b[0m│\u001b[35m \u001b[0m\u001b[35m15      \u001b[0m\u001b[35m \u001b[0m│\u001b[32m \u001b[0m\u001b[32m    False\u001b[0m\u001b[32m \u001b[0m│\n",
       "│\u001b[36m \u001b[0m\u001b[36m2641764\u001b[0m\u001b[36m \u001b[0m│\u001b[36m \u001b[0m\u001b[36m 03122024\u001b[0m\u001b[36m \u001b[0m│\u001b[35m \u001b[0m\u001b[35m        \u001b[0m\u001b[35m \u001b[0m│\u001b[32m \u001b[0m\u001b[32m    False\u001b[0m\u001b[32m \u001b[0m│\u001b[36m \u001b[0m\u001b[36m    3443\u001b[0m\u001b[36m \u001b[0m│\u001b[35m \u001b[0m\u001b[35m         \u001b[0m\u001b[35m \u001b[0m│\u001b[32m \u001b[0m\u001b[32m   False\u001b[0m\u001b[32m \u001b[0m│\u001b[36m \u001b[0m\u001b[36m     3443\u001b[0m\u001b[36m \u001b[0m│\u001b[35m \u001b[0m\u001b[35m495     \u001b[0m\u001b[35m \u001b[0m│\u001b[32m \u001b[0m\u001b[32m    False\u001b[0m\u001b[32m \u001b[0m│\n",
       "│\u001b[36m \u001b[0m\u001b[36m2641765\u001b[0m\u001b[36m \u001b[0m│\u001b[36m \u001b[0m\u001b[36m 03122024\u001b[0m\u001b[36m \u001b[0m│\u001b[35m \u001b[0m\u001b[35m        \u001b[0m\u001b[35m \u001b[0m│\u001b[32m \u001b[0m\u001b[32m    False\u001b[0m\u001b[32m \u001b[0m│\u001b[36m \u001b[0m\u001b[36m    3443\u001b[0m\u001b[36m \u001b[0m│\u001b[35m \u001b[0m\u001b[35m         \u001b[0m\u001b[35m \u001b[0m│\u001b[32m \u001b[0m\u001b[32m   False\u001b[0m\u001b[32m \u001b[0m│\u001b[36m \u001b[0m\u001b[36m     3443\u001b[0m\u001b[36m \u001b[0m│\u001b[35m \u001b[0m\u001b[35m497     \u001b[0m\u001b[35m \u001b[0m│\u001b[32m \u001b[0m\u001b[32m    False\u001b[0m\u001b[32m \u001b[0m│\n",
       "│\u001b[36m \u001b[0m\u001b[36m2641766\u001b[0m\u001b[36m \u001b[0m│\u001b[36m \u001b[0m\u001b[36m 03122024\u001b[0m\u001b[36m \u001b[0m│\u001b[35m \u001b[0m\u001b[35m        \u001b[0m\u001b[35m \u001b[0m│\u001b[32m \u001b[0m\u001b[32m    False\u001b[0m\u001b[32m \u001b[0m│\u001b[36m \u001b[0m\u001b[36m    3443\u001b[0m\u001b[36m \u001b[0m│\u001b[35m \u001b[0m\u001b[35m         \u001b[0m\u001b[35m \u001b[0m│\u001b[32m \u001b[0m\u001b[32m   False\u001b[0m\u001b[32m \u001b[0m│\u001b[36m \u001b[0m\u001b[36m     3443\u001b[0m\u001b[36m \u001b[0m│\u001b[35m \u001b[0m\u001b[35m499     \u001b[0m\u001b[35m \u001b[0m│\u001b[32m \u001b[0m\u001b[32m    False\u001b[0m\u001b[32m \u001b[0m│\n",
       "│\u001b[36m \u001b[0m\u001b[36m2641794\u001b[0m\u001b[36m \u001b[0m│\u001b[36m \u001b[0m\u001b[36m        2\u001b[0m\u001b[36m \u001b[0m│\u001b[35m \u001b[0m\u001b[35m03112024\u001b[0m\u001b[35m \u001b[0m│\u001b[32m \u001b[0m\u001b[32m    False\u001b[0m\u001b[32m \u001b[0m│\u001b[36m \u001b[0m\u001b[36m        \u001b[0m\u001b[36m \u001b[0m│\u001b[35m \u001b[0m\u001b[35m2        \u001b[0m\u001b[35m \u001b[0m│\u001b[32m \u001b[0m\u001b[32m   False\u001b[0m\u001b[32m \u001b[0m│\u001b[36m \u001b[0m\u001b[36m         \u001b[0m\u001b[36m \u001b[0m│\u001b[35m \u001b[0m\u001b[35m429     \u001b[0m\u001b[35m \u001b[0m│\u001b[32m \u001b[0m\u001b[32m    False\u001b[0m\u001b[32m \u001b[0m│\n",
       "│\u001b[36m \u001b[0m\u001b[36m2641803\u001b[0m\u001b[36m \u001b[0m│\u001b[36m \u001b[0m\u001b[36m       41\u001b[0m\u001b[36m \u001b[0m│\u001b[35m \u001b[0m\u001b[35m03112024\u001b[0m\u001b[35m \u001b[0m│\u001b[32m \u001b[0m\u001b[32m    False\u001b[0m\u001b[32m \u001b[0m│\u001b[36m \u001b[0m\u001b[36m        \u001b[0m\u001b[36m \u001b[0m│\u001b[35m \u001b[0m\u001b[35m41       \u001b[0m\u001b[35m \u001b[0m│\u001b[32m \u001b[0m\u001b[32m   False\u001b[0m\u001b[32m \u001b[0m│\u001b[36m \u001b[0m\u001b[36m         \u001b[0m\u001b[36m \u001b[0m│\u001b[35m \u001b[0m\u001b[35m674     \u001b[0m\u001b[35m \u001b[0m│\u001b[32m \u001b[0m\u001b[32m    False\u001b[0m\u001b[32m \u001b[0m│\n",
       "│\u001b[36m \u001b[0m\u001b[36m2641831\u001b[0m\u001b[36m \u001b[0m│\u001b[36m \u001b[0m\u001b[36m        9\u001b[0m\u001b[36m \u001b[0m│\u001b[35m \u001b[0m\u001b[35m03112024\u001b[0m\u001b[35m \u001b[0m│\u001b[32m \u001b[0m\u001b[32m    False\u001b[0m\u001b[32m \u001b[0m│\u001b[36m \u001b[0m\u001b[36m        \u001b[0m\u001b[36m \u001b[0m│\u001b[35m \u001b[0m\u001b[35m         \u001b[0m\u001b[35m \u001b[0m│\u001b[32m \u001b[0m\u001b[32m    True\u001b[0m\u001b[32m \u001b[0m│\u001b[36m \u001b[0m\u001b[36m         \u001b[0m\u001b[36m \u001b[0m│\u001b[35m \u001b[0m\u001b[35m246     \u001b[0m\u001b[35m \u001b[0m│\u001b[32m \u001b[0m\u001b[32m    False\u001b[0m\u001b[32m \u001b[0m│\n",
       "│\u001b[36m \u001b[0m\u001b[36m2641834\u001b[0m\u001b[36m \u001b[0m│\u001b[36m \u001b[0m\u001b[36m     1122\u001b[0m\u001b[36m \u001b[0m│\u001b[35m \u001b[0m\u001b[35m03112024\u001b[0m\u001b[35m \u001b[0m│\u001b[32m \u001b[0m\u001b[32m    False\u001b[0m\u001b[32m \u001b[0m│\u001b[36m \u001b[0m\u001b[36m        \u001b[0m\u001b[36m \u001b[0m│\u001b[35m \u001b[0m\u001b[35m1122     \u001b[0m\u001b[35m \u001b[0m│\u001b[32m \u001b[0m\u001b[32m   False\u001b[0m\u001b[32m \u001b[0m│\u001b[36m \u001b[0m\u001b[36m         \u001b[0m\u001b[36m \u001b[0m│\u001b[35m \u001b[0m\u001b[35m351     \u001b[0m\u001b[35m \u001b[0m│\u001b[32m \u001b[0m\u001b[32m    False\u001b[0m\u001b[32m \u001b[0m│\n",
       "│\u001b[36m \u001b[0m\u001b[36m2641838\u001b[0m\u001b[36m \u001b[0m│\u001b[36m \u001b[0m\u001b[36m        9\u001b[0m\u001b[36m \u001b[0m│\u001b[35m \u001b[0m\u001b[35m        \u001b[0m\u001b[35m \u001b[0m│\u001b[32m \u001b[0m\u001b[32m    False\u001b[0m\u001b[32m \u001b[0m│\u001b[36m \u001b[0m\u001b[36m        \u001b[0m\u001b[36m \u001b[0m│\u001b[35m \u001b[0m\u001b[35m         \u001b[0m\u001b[35m \u001b[0m│\u001b[32m \u001b[0m\u001b[32m    True\u001b[0m\u001b[32m \u001b[0m│\u001b[36m \u001b[0m\u001b[36m         \u001b[0m\u001b[36m \u001b[0m│\u001b[35m \u001b[0m\u001b[35m247     \u001b[0m\u001b[35m \u001b[0m│\u001b[32m \u001b[0m\u001b[32m    False\u001b[0m\u001b[32m \u001b[0m│\n",
       "│\u001b[36m \u001b[0m\u001b[36m2641847\u001b[0m\u001b[36m \u001b[0m│\u001b[36m \u001b[0m\u001b[36m 03112024\u001b[0m\u001b[36m \u001b[0m│\u001b[35m \u001b[0m\u001b[35m        \u001b[0m\u001b[35m \u001b[0m│\u001b[32m \u001b[0m\u001b[32m    False\u001b[0m\u001b[32m \u001b[0m│\u001b[36m \u001b[0m\u001b[36m    1122\u001b[0m\u001b[36m \u001b[0m│\u001b[35m \u001b[0m\u001b[35m         \u001b[0m\u001b[35m \u001b[0m│\u001b[32m \u001b[0m\u001b[32m   False\u001b[0m\u001b[32m \u001b[0m│\u001b[36m \u001b[0m\u001b[36m     1122\u001b[0m\u001b[36m \u001b[0m│\u001b[35m \u001b[0m\u001b[35m387     \u001b[0m\u001b[35m \u001b[0m│\u001b[32m \u001b[0m\u001b[32m    False\u001b[0m\u001b[32m \u001b[0m│\n",
       "│\u001b[36m \u001b[0m\u001b[36m2641848\u001b[0m\u001b[36m \u001b[0m│\u001b[36m \u001b[0m\u001b[36m 03112024\u001b[0m\u001b[36m \u001b[0m│\u001b[35m \u001b[0m\u001b[35m        \u001b[0m\u001b[35m \u001b[0m│\u001b[32m \u001b[0m\u001b[32m    False\u001b[0m\u001b[32m \u001b[0m│\u001b[36m \u001b[0m\u001b[36m    1122\u001b[0m\u001b[36m \u001b[0m│\u001b[35m \u001b[0m\u001b[35m         \u001b[0m\u001b[35m \u001b[0m│\u001b[32m \u001b[0m\u001b[32m   False\u001b[0m\u001b[32m \u001b[0m│\u001b[36m \u001b[0m\u001b[36m     1122\u001b[0m\u001b[36m \u001b[0m│\u001b[35m \u001b[0m\u001b[35m406     \u001b[0m\u001b[35m \u001b[0m│\u001b[32m \u001b[0m\u001b[32m    False\u001b[0m\u001b[32m \u001b[0m│\n",
       "│\u001b[36m \u001b[0m\u001b[36m2641849\u001b[0m\u001b[36m \u001b[0m│\u001b[36m \u001b[0m\u001b[36m 03112024\u001b[0m\u001b[36m \u001b[0m│\u001b[35m \u001b[0m\u001b[35m03112024\u001b[0m\u001b[35m \u001b[0m│\u001b[32m \u001b[0m\u001b[32m     True\u001b[0m\u001b[32m \u001b[0m│\u001b[36m \u001b[0m\u001b[36m     112\u001b[0m\u001b[36m \u001b[0m│\u001b[35m \u001b[0m\u001b[35m         \u001b[0m\u001b[35m \u001b[0m│\u001b[32m \u001b[0m\u001b[32m   False\u001b[0m\u001b[32m \u001b[0m│\u001b[36m \u001b[0m\u001b[36m      112\u001b[0m\u001b[36m \u001b[0m│\u001b[35m \u001b[0m\u001b[35m426     \u001b[0m\u001b[35m \u001b[0m│\u001b[32m \u001b[0m\u001b[32m    False\u001b[0m\u001b[32m \u001b[0m│\n",
       "│\u001b[36m \u001b[0m\u001b[36m2641945\u001b[0m\u001b[36m \u001b[0m│\u001b[36m \u001b[0m\u001b[36m 03082024\u001b[0m\u001b[36m \u001b[0m│\u001b[35m \u001b[0m\u001b[35m        \u001b[0m\u001b[35m \u001b[0m│\u001b[32m \u001b[0m\u001b[32m    False\u001b[0m\u001b[32m \u001b[0m│\u001b[36m \u001b[0m\u001b[36m     365\u001b[0m\u001b[36m \u001b[0m│\u001b[35m \u001b[0m\u001b[35m         \u001b[0m\u001b[35m \u001b[0m│\u001b[32m \u001b[0m\u001b[32m   False\u001b[0m\u001b[32m \u001b[0m│\u001b[36m \u001b[0m\u001b[36m      365\u001b[0m\u001b[36m \u001b[0m│\u001b[35m \u001b[0m\u001b[35m302     \u001b[0m\u001b[35m \u001b[0m│\u001b[32m \u001b[0m\u001b[32m    False\u001b[0m\u001b[32m \u001b[0m│\n",
       "│\u001b[36m \u001b[0m\u001b[36m2641947\u001b[0m\u001b[36m \u001b[0m│\u001b[36m \u001b[0m\u001b[36m 03082024\u001b[0m\u001b[36m \u001b[0m│\u001b[35m \u001b[0m\u001b[35m        \u001b[0m\u001b[35m \u001b[0m│\u001b[32m \u001b[0m\u001b[32m    False\u001b[0m\u001b[32m \u001b[0m│\u001b[36m \u001b[0m\u001b[36m     365\u001b[0m\u001b[36m \u001b[0m│\u001b[35m \u001b[0m\u001b[35m365      \u001b[0m\u001b[35m \u001b[0m│\u001b[32m \u001b[0m\u001b[32m    True\u001b[0m\u001b[32m \u001b[0m│\u001b[36m \u001b[0m\u001b[36m      365\u001b[0m\u001b[36m \u001b[0m│\u001b[35m \u001b[0m\u001b[35m324     \u001b[0m\u001b[35m \u001b[0m│\u001b[32m \u001b[0m\u001b[32m    False\u001b[0m\u001b[32m \u001b[0m│\n",
       "│\u001b[36m \u001b[0m\u001b[36m2641949\u001b[0m\u001b[36m \u001b[0m│\u001b[36m \u001b[0m\u001b[36m 03082024\u001b[0m\u001b[36m \u001b[0m│\u001b[35m \u001b[0m\u001b[35m03082024\u001b[0m\u001b[35m \u001b[0m│\u001b[32m \u001b[0m\u001b[32m     True\u001b[0m\u001b[32m \u001b[0m│\u001b[36m \u001b[0m\u001b[36m     365\u001b[0m\u001b[36m \u001b[0m│\u001b[35m \u001b[0m\u001b[35m         \u001b[0m\u001b[35m \u001b[0m│\u001b[32m \u001b[0m\u001b[32m   False\u001b[0m\u001b[32m \u001b[0m│\u001b[36m \u001b[0m\u001b[36m      365\u001b[0m\u001b[36m \u001b[0m│\u001b[35m \u001b[0m\u001b[35m326     \u001b[0m\u001b[35m \u001b[0m│\u001b[32m \u001b[0m\u001b[32m    False\u001b[0m\u001b[32m \u001b[0m│\n",
       "│\u001b[36m \u001b[0m\u001b[36m2641968\u001b[0m\u001b[36m \u001b[0m│\u001b[36m \u001b[0m\u001b[36m 03132024\u001b[0m\u001b[36m \u001b[0m│\u001b[35m \u001b[0m\u001b[35m        \u001b[0m\u001b[35m \u001b[0m│\u001b[32m \u001b[0m\u001b[32m    False\u001b[0m\u001b[32m \u001b[0m│\u001b[36m \u001b[0m\u001b[36m     176\u001b[0m\u001b[36m \u001b[0m│\u001b[35m \u001b[0m\u001b[35m176      \u001b[0m\u001b[35m \u001b[0m│\u001b[32m \u001b[0m\u001b[32m    True\u001b[0m\u001b[32m \u001b[0m│\u001b[36m \u001b[0m\u001b[36m      176\u001b[0m\u001b[36m \u001b[0m│\u001b[35m \u001b[0m\u001b[35m614     \u001b[0m\u001b[35m \u001b[0m│\u001b[32m \u001b[0m\u001b[32m    False\u001b[0m\u001b[32m \u001b[0m│\n",
       "│\u001b[36m \u001b[0m\u001b[36m2641998\u001b[0m\u001b[36m \u001b[0m│\u001b[36m \u001b[0m\u001b[36m       19\u001b[0m\u001b[36m \u001b[0m│\u001b[35m \u001b[0m\u001b[35m03142024\u001b[0m\u001b[35m \u001b[0m│\u001b[32m \u001b[0m\u001b[32m    False\u001b[0m\u001b[32m \u001b[0m│\u001b[36m \u001b[0m\u001b[36m        \u001b[0m\u001b[36m \u001b[0m│\u001b[35m \u001b[0m\u001b[35m19       \u001b[0m\u001b[35m \u001b[0m│\u001b[32m \u001b[0m\u001b[32m   False\u001b[0m\u001b[32m \u001b[0m│\u001b[36m \u001b[0m\u001b[36m         \u001b[0m\u001b[36m \u001b[0m│\u001b[35m \u001b[0m\u001b[35m50      \u001b[0m\u001b[35m \u001b[0m│\u001b[32m \u001b[0m\u001b[32m    False\u001b[0m\u001b[32m \u001b[0m│\n",
       "│\u001b[36m \u001b[0m\u001b[36m2642037\u001b[0m\u001b[36m \u001b[0m│\u001b[36m \u001b[0m\u001b[36m 03112024\u001b[0m\u001b[36m \u001b[0m│\u001b[35m \u001b[0m\u001b[35m        \u001b[0m\u001b[35m \u001b[0m│\u001b[32m \u001b[0m\u001b[32m    False\u001b[0m\u001b[32m \u001b[0m│\u001b[36m \u001b[0m\u001b[36m      34\u001b[0m\u001b[36m \u001b[0m│\u001b[35m \u001b[0m\u001b[35m34       \u001b[0m\u001b[35m \u001b[0m│\u001b[32m \u001b[0m\u001b[32m    True\u001b[0m\u001b[32m \u001b[0m│\u001b[36m \u001b[0m\u001b[36m       34\u001b[0m\u001b[36m \u001b[0m│\u001b[35m \u001b[0m\u001b[35m271     \u001b[0m\u001b[35m \u001b[0m│\u001b[32m \u001b[0m\u001b[32m    False\u001b[0m\u001b[32m \u001b[0m│\n",
       "│\u001b[36m \u001b[0m\u001b[36m2642449\u001b[0m\u001b[36m \u001b[0m│\u001b[36m \u001b[0m\u001b[36m 02292024\u001b[0m\u001b[36m \u001b[0m│\u001b[35m \u001b[0m\u001b[35m        \u001b[0m\u001b[35m \u001b[0m│\u001b[32m \u001b[0m\u001b[32m    False\u001b[0m\u001b[32m \u001b[0m│\u001b[36m \u001b[0m\u001b[36m     857\u001b[0m\u001b[36m \u001b[0m│\u001b[35m \u001b[0m\u001b[35m857      \u001b[0m\u001b[35m \u001b[0m│\u001b[32m \u001b[0m\u001b[32m    True\u001b[0m\u001b[32m \u001b[0m│\u001b[36m \u001b[0m\u001b[36m      857\u001b[0m\u001b[36m \u001b[0m│\u001b[35m \u001b[0m\u001b[35m        \u001b[0m\u001b[35m \u001b[0m│\u001b[32m \u001b[0m\u001b[32m    False\u001b[0m\u001b[32m \u001b[0m│\n",
       "│\u001b[36m \u001b[0m\u001b[36m2642451\u001b[0m\u001b[36m \u001b[0m│\u001b[36m \u001b[0m\u001b[36m 02292024\u001b[0m\u001b[36m \u001b[0m│\u001b[35m \u001b[0m\u001b[35m02292024\u001b[0m\u001b[35m \u001b[0m│\u001b[32m \u001b[0m\u001b[32m     True\u001b[0m\u001b[32m \u001b[0m│\u001b[36m \u001b[0m\u001b[36m     286\u001b[0m\u001b[36m \u001b[0m│\u001b[35m \u001b[0m\u001b[35m286      \u001b[0m\u001b[35m \u001b[0m│\u001b[32m \u001b[0m\u001b[32m    True\u001b[0m\u001b[32m \u001b[0m│\u001b[36m \u001b[0m\u001b[36m      286\u001b[0m\u001b[36m \u001b[0m│\u001b[35m \u001b[0m\u001b[35m        \u001b[0m\u001b[35m \u001b[0m│\u001b[32m \u001b[0m\u001b[32m    False\u001b[0m\u001b[32m \u001b[0m│\n",
       "│\u001b[36m \u001b[0m\u001b[36m2642456\u001b[0m\u001b[36m \u001b[0m│\u001b[36m \u001b[0m\u001b[36m 02292024\u001b[0m\u001b[36m \u001b[0m│\u001b[35m \u001b[0m\u001b[35m        \u001b[0m\u001b[35m \u001b[0m│\u001b[32m \u001b[0m\u001b[32m    False\u001b[0m\u001b[32m \u001b[0m│\u001b[36m \u001b[0m\u001b[36m    1555\u001b[0m\u001b[36m \u001b[0m│\u001b[35m \u001b[0m\u001b[35m         \u001b[0m\u001b[35m \u001b[0m│\u001b[32m \u001b[0m\u001b[32m   False\u001b[0m\u001b[32m \u001b[0m│\u001b[36m \u001b[0m\u001b[36m     1555\u001b[0m\u001b[36m \u001b[0m│\u001b[35m \u001b[0m\u001b[35m185     \u001b[0m\u001b[35m \u001b[0m│\u001b[32m \u001b[0m\u001b[32m    False\u001b[0m\u001b[32m \u001b[0m│\n",
       "│\u001b[36m \u001b[0m\u001b[36m2642457\u001b[0m\u001b[36m \u001b[0m│\u001b[36m \u001b[0m\u001b[36m 02292024\u001b[0m\u001b[36m \u001b[0m│\u001b[35m \u001b[0m\u001b[35m        \u001b[0m\u001b[35m \u001b[0m│\u001b[32m \u001b[0m\u001b[32m    False\u001b[0m\u001b[32m \u001b[0m│\u001b[36m \u001b[0m\u001b[36m     857\u001b[0m\u001b[36m \u001b[0m│\u001b[35m \u001b[0m\u001b[35m857      \u001b[0m\u001b[35m \u001b[0m│\u001b[32m \u001b[0m\u001b[32m    True\u001b[0m\u001b[32m \u001b[0m│\u001b[36m \u001b[0m\u001b[36m      857\u001b[0m\u001b[36m \u001b[0m│\u001b[35m \u001b[0m\u001b[35m        \u001b[0m\u001b[35m \u001b[0m│\u001b[32m \u001b[0m\u001b[32m    False\u001b[0m\u001b[32m \u001b[0m│\n",
       "│\u001b[36m \u001b[0m\u001b[36m2642458\u001b[0m\u001b[36m \u001b[0m│\u001b[36m \u001b[0m\u001b[36m 02292024\u001b[0m\u001b[36m \u001b[0m│\u001b[35m \u001b[0m\u001b[35m        \u001b[0m\u001b[35m \u001b[0m│\u001b[32m \u001b[0m\u001b[32m    False\u001b[0m\u001b[32m \u001b[0m│\u001b[36m \u001b[0m\u001b[36m     857\u001b[0m\u001b[36m \u001b[0m│\u001b[35m \u001b[0m\u001b[35m857      \u001b[0m\u001b[35m \u001b[0m│\u001b[32m \u001b[0m\u001b[32m    True\u001b[0m\u001b[32m \u001b[0m│\u001b[36m \u001b[0m\u001b[36m      857\u001b[0m\u001b[36m \u001b[0m│\u001b[35m \u001b[0m\u001b[35m        \u001b[0m\u001b[35m \u001b[0m│\u001b[32m \u001b[0m\u001b[32m    False\u001b[0m\u001b[32m \u001b[0m│\n",
       "│\u001b[36m \u001b[0m\u001b[36m2642461\u001b[0m\u001b[36m \u001b[0m│\u001b[36m \u001b[0m\u001b[36m 02292024\u001b[0m\u001b[36m \u001b[0m│\u001b[35m \u001b[0m\u001b[35m        \u001b[0m\u001b[35m \u001b[0m│\u001b[32m \u001b[0m\u001b[32m    False\u001b[0m\u001b[32m \u001b[0m│\u001b[36m \u001b[0m\u001b[36m     857\u001b[0m\u001b[36m \u001b[0m│\u001b[35m \u001b[0m\u001b[35m857      \u001b[0m\u001b[35m \u001b[0m│\u001b[32m \u001b[0m\u001b[32m    True\u001b[0m\u001b[32m \u001b[0m│\u001b[36m \u001b[0m\u001b[36m      857\u001b[0m\u001b[36m \u001b[0m│\u001b[35m \u001b[0m\u001b[35m        \u001b[0m\u001b[35m \u001b[0m│\u001b[32m \u001b[0m\u001b[32m    False\u001b[0m\u001b[32m \u001b[0m│\n",
       "│\u001b[36m \u001b[0m\u001b[36m2642462\u001b[0m\u001b[36m \u001b[0m│\u001b[36m \u001b[0m\u001b[36m 02292024\u001b[0m\u001b[36m \u001b[0m│\u001b[35m \u001b[0m\u001b[35m        \u001b[0m\u001b[35m \u001b[0m│\u001b[32m \u001b[0m\u001b[32m    False\u001b[0m\u001b[32m \u001b[0m│\u001b[36m \u001b[0m\u001b[36m     857\u001b[0m\u001b[36m \u001b[0m│\u001b[35m \u001b[0m\u001b[35m857      \u001b[0m\u001b[35m \u001b[0m│\u001b[32m \u001b[0m\u001b[32m    True\u001b[0m\u001b[32m \u001b[0m│\u001b[36m \u001b[0m\u001b[36m      857\u001b[0m\u001b[36m \u001b[0m│\u001b[35m \u001b[0m\u001b[35m        \u001b[0m\u001b[35m \u001b[0m│\u001b[32m \u001b[0m\u001b[32m    False\u001b[0m\u001b[32m \u001b[0m│\n",
       "│\u001b[36m \u001b[0m\u001b[36m2642484\u001b[0m\u001b[36m \u001b[0m│\u001b[36m \u001b[0m\u001b[36m      176\u001b[0m\u001b[36m \u001b[0m│\u001b[35m \u001b[0m\u001b[35m03122024\u001b[0m\u001b[35m \u001b[0m│\u001b[32m \u001b[0m\u001b[32m    False\u001b[0m\u001b[32m \u001b[0m│\u001b[36m \u001b[0m\u001b[36m        \u001b[0m\u001b[36m \u001b[0m│\u001b[35m \u001b[0m\u001b[35m176      \u001b[0m\u001b[35m \u001b[0m│\u001b[32m \u001b[0m\u001b[32m   False\u001b[0m\u001b[32m \u001b[0m│\u001b[36m \u001b[0m\u001b[36m         \u001b[0m\u001b[36m \u001b[0m│\u001b[35m \u001b[0m\u001b[35m725     \u001b[0m\u001b[35m \u001b[0m│\u001b[32m \u001b[0m\u001b[32m    False\u001b[0m\u001b[32m \u001b[0m│\n",
       "│\u001b[36m \u001b[0m\u001b[36m2642486\u001b[0m\u001b[36m \u001b[0m│\u001b[36m \u001b[0m\u001b[36m       19\u001b[0m\u001b[36m \u001b[0m│\u001b[35m \u001b[0m\u001b[35m03132024\u001b[0m\u001b[35m \u001b[0m│\u001b[32m \u001b[0m\u001b[32m    False\u001b[0m\u001b[32m \u001b[0m│\u001b[36m \u001b[0m\u001b[36m        \u001b[0m\u001b[36m \u001b[0m│\u001b[35m \u001b[0m\u001b[35m19       \u001b[0m\u001b[35m \u001b[0m│\u001b[32m \u001b[0m\u001b[32m   False\u001b[0m\u001b[32m \u001b[0m│\u001b[36m \u001b[0m\u001b[36m         \u001b[0m\u001b[36m \u001b[0m│\u001b[35m \u001b[0m\u001b[35m39      \u001b[0m\u001b[35m \u001b[0m│\u001b[32m \u001b[0m\u001b[32m    False\u001b[0m\u001b[32m \u001b[0m│\n",
       "│\u001b[36m \u001b[0m\u001b[36m2642487\u001b[0m\u001b[36m \u001b[0m│\u001b[36m \u001b[0m\u001b[36m       19\u001b[0m\u001b[36m \u001b[0m│\u001b[35m \u001b[0m\u001b[35m03132024\u001b[0m\u001b[35m \u001b[0m│\u001b[32m \u001b[0m\u001b[32m    False\u001b[0m\u001b[32m \u001b[0m│\u001b[36m \u001b[0m\u001b[36m        \u001b[0m\u001b[36m \u001b[0m│\u001b[35m \u001b[0m\u001b[35m19       \u001b[0m\u001b[35m \u001b[0m│\u001b[32m \u001b[0m\u001b[32m   False\u001b[0m\u001b[32m \u001b[0m│\u001b[36m \u001b[0m\u001b[36m         \u001b[0m\u001b[36m \u001b[0m│\u001b[35m \u001b[0m\u001b[35m46      \u001b[0m\u001b[35m \u001b[0m│\u001b[32m \u001b[0m\u001b[32m    False\u001b[0m\u001b[32m \u001b[0m│\n",
       "│\u001b[36m \u001b[0m\u001b[36m2642489\u001b[0m\u001b[36m \u001b[0m│\u001b[36m \u001b[0m\u001b[36m 03132024\u001b[0m\u001b[36m \u001b[0m│\u001b[35m \u001b[0m\u001b[35m        \u001b[0m\u001b[35m \u001b[0m│\u001b[32m \u001b[0m\u001b[32m    False\u001b[0m\u001b[32m \u001b[0m│\u001b[36m \u001b[0m\u001b[36m     260\u001b[0m\u001b[36m \u001b[0m│\u001b[35m \u001b[0m\u001b[35m260      \u001b[0m\u001b[35m \u001b[0m│\u001b[32m \u001b[0m\u001b[32m    True\u001b[0m\u001b[32m \u001b[0m│\u001b[36m \u001b[0m\u001b[36m      260\u001b[0m\u001b[36m \u001b[0m│\u001b[35m \u001b[0m\u001b[35m75      \u001b[0m\u001b[35m \u001b[0m│\u001b[32m \u001b[0m\u001b[32m    False\u001b[0m\u001b[32m \u001b[0m│\n",
       "│\u001b[36m \u001b[0m\u001b[36m2642493\u001b[0m\u001b[36m \u001b[0m│\u001b[36m \u001b[0m\u001b[36m      176\u001b[0m\u001b[36m \u001b[0m│\u001b[35m \u001b[0m\u001b[35m03052024\u001b[0m\u001b[35m \u001b[0m│\u001b[32m \u001b[0m\u001b[32m    False\u001b[0m\u001b[32m \u001b[0m│\u001b[36m \u001b[0m\u001b[36m        \u001b[0m\u001b[36m \u001b[0m│\u001b[35m \u001b[0m\u001b[35m176      \u001b[0m\u001b[35m \u001b[0m│\u001b[32m \u001b[0m\u001b[32m   False\u001b[0m\u001b[32m \u001b[0m│\u001b[36m \u001b[0m\u001b[36m         \u001b[0m\u001b[36m \u001b[0m│\u001b[35m \u001b[0m\u001b[35m653     \u001b[0m\u001b[35m \u001b[0m│\u001b[32m \u001b[0m\u001b[32m    False\u001b[0m\u001b[32m \u001b[0m│\n",
       "│\u001b[36m \u001b[0m\u001b[36m2642973\u001b[0m\u001b[36m \u001b[0m│\u001b[36m \u001b[0m\u001b[36m      100\u001b[0m\u001b[36m \u001b[0m│\u001b[35m \u001b[0m\u001b[35m        \u001b[0m\u001b[35m \u001b[0m│\u001b[32m \u001b[0m\u001b[32m    False\u001b[0m\u001b[32m \u001b[0m│\u001b[36m \u001b[0m\u001b[36m        \u001b[0m\u001b[36m \u001b[0m│\u001b[35m \u001b[0m\u001b[35m100      \u001b[0m\u001b[35m \u001b[0m│\u001b[32m \u001b[0m\u001b[32m   False\u001b[0m\u001b[32m \u001b[0m│\u001b[36m \u001b[0m\u001b[36m         \u001b[0m\u001b[36m \u001b[0m│\u001b[35m \u001b[0m\u001b[35m289     \u001b[0m\u001b[35m \u001b[0m│\u001b[32m \u001b[0m\u001b[32m    False\u001b[0m\u001b[32m \u001b[0m│\n",
       "│\u001b[36m \u001b[0m\u001b[36m2642980\u001b[0m\u001b[36m \u001b[0m│\u001b[36m \u001b[0m\u001b[36m 02292024\u001b[0m\u001b[36m \u001b[0m│\u001b[35m \u001b[0m\u001b[35m        \u001b[0m\u001b[35m \u001b[0m│\u001b[32m \u001b[0m\u001b[32m    False\u001b[0m\u001b[32m \u001b[0m│\u001b[36m \u001b[0m\u001b[36m     100\u001b[0m\u001b[36m \u001b[0m│\u001b[35m \u001b[0m\u001b[35m100      \u001b[0m\u001b[35m \u001b[0m│\u001b[32m \u001b[0m\u001b[32m    True\u001b[0m\u001b[32m \u001b[0m│\u001b[36m \u001b[0m\u001b[36m      100\u001b[0m\u001b[36m \u001b[0m│\u001b[35m \u001b[0m\u001b[35m290     \u001b[0m\u001b[35m \u001b[0m│\u001b[32m \u001b[0m\u001b[32m    False\u001b[0m\u001b[32m \u001b[0m│\n",
       "└─────────┴───────────┴──────────┴───────────┴──────────┴───────────┴──────────┴───────────┴──────────┴───────────┘\n"
      ]
     },
     "metadata": {},
     "output_type": "display_data"
    }
   ],
   "source": [
    "table = Table(title=\"KY set2\")\n",
    "\n",
    "table.add_column(\"Batchid\", justify=\"right\", style=\"cyan\", no_wrap=False)\n",
    "table.add_column(\"6-keyed_values\", justify=\"right\", style=\"cyan\", no_wrap=False)\n",
    "table.add_column(\"6-spacy_values\", style=\"magenta\", no_wrap=False)\n",
    "table.add_column(\"6-match_status\", justify=\"right\", style=\"green\", no_wrap=False)\n",
    "table.add_column(\"92-keyed_values\", justify=\"right\", style=\"cyan\", no_wrap=False)\n",
    "table.add_column(\"92-spacy_values\", style=\"magenta\", no_wrap=False)\n",
    "table.add_column(\"92-match_status\", justify=\"right\", style=\"green\", no_wrap=False)\n",
    "table.add_column(\"93-keyed_values\", justify=\"right\", style=\"cyan\", no_wrap=False)\n",
    "table.add_column(\"93-spacy_values\", style=\"magenta\", no_wrap=False)\n",
    "table.add_column(\"93-match_status\", justify=\"right\", style=\"green\", no_wrap=False)\n",
    "\n",
    "from collections import defaultdict\n",
    "\n",
    "import json\n",
    "import zipfile\n",
    "from pathlib import Path\n",
    "key_dict = defaultdict(list)\n",
    "for p in track(list(Path(\"ok_retest\").iterdir())):\n",
    "    with zipfile.ZipFile(p, mode=\"r\") as archive:\n",
    "        spacyF = archive.open(\"spacy.json\",'r')\n",
    "        outputF = archive.open(\"output_data.json\",'r')\n",
    "        spacy = json.load(spacyF)\n",
    "        output = json.load(outputF)\n",
    "        output = {item[\"id\"]: item[\"value\"] for item in output[\"data\"]}\n",
    "        name = str(p.name).replace(r'.zip','')\n",
    "        out92 = output.get('92','')\n",
    "        spacy92 = spacy.get('92','')\n",
    "        match92 = out92.strip() == spacy92.strip()\n",
    "        out93 = output.get('92','')\n",
    "        spacy93 = spacy.get('93','')\n",
    "        match93 = out93.strip() == spacy93.strip()\n",
    "        out6 = output.get('6','')\n",
    "        spacy6 = spacy.get('6','')\n",
    "        match6 = out6.strip() == spacy6.strip()\n",
    "        \n",
    "        table.add_row(f\"{name}\",f\"{out6}\",f\"{spacy6}\",f\"{match6}\",f\"{out92}\",f\"{spacy92}\",f\"{match92}\",f\"{out93}\",f\"{spacy93}\",f\"{match93}\")\n",
    "        key_dict['batchid'].append(name)\n",
    "        key_dict['6-keyed_values'].append(out6)\n",
    "        key_dict['6-spacy_values'].append(spacy6)\n",
    "        key_dict['6-match_status'].append(match6)\n",
    "        key_dict['92-keyed_values'].append(out92)\n",
    "        key_dict['92-spacy_values'].append(spacy92)\n",
    "        key_dict['92-match_status'].append(match92)\n",
    "        key_dict['93-keyed_values'].append(out93)\n",
    "        key_dict['93-spacy_values'].append(spacy93)\n",
    "        key_dict['93-match_status'].append(match93)\n",
    "\n",
    "        # print(\n",
    "        #     f\"batch id = {str(p.name).replace(r'.zip','')} | Field 92 = {spacy.get('92')} | Field 93 = {spacy.get('93')}\"\n",
    "        # )\n",
    "        spacyF.close()\n",
    "        outputF.close()\n",
    "        # print(p.name,data.get(\"5\"),data.get(\"6\"),data.get(\"92\"),data.get(\"93\"))\n",
    "\n",
    "console = Console()\n",
    "console.print(table)"
   ]
  },
  {
   "cell_type": "code",
   "execution_count": null,
   "id": "38b986d7-b52f-4717-b6a6-b462cde64d7b",
   "metadata": {
    "deletable": true,
    "editable": true,
    "frozen": false
   },
   "outputs": [],
   "source": []
  }
 ],
 "metadata": {
  "kernelspec": {
   "display_name": "Python 3 (ipykernel)",
   "language": "python",
   "name": "python3"
  },
  "language_info": {
   "codemirror_mode": {
    "name": "ipython",
    "version": 3
   },
   "file_extension": ".py",
   "mimetype": "text/x-python",
   "name": "python",
   "nbconvert_exporter": "python",
   "pygments_lexer": "ipython3",
   "version": "3.11.7"
  },
  "toc": {
   "base_numbering": 1,
   "nav_menu": {},
   "number_sections": true,
   "sideBar": true,
   "skip_h1_title": false,
   "title_cell": "Table of Contents",
   "title_sidebar": "Contents",
   "toc_cell": false,
   "toc_position": {},
   "toc_section_display": true,
   "toc_window_display": false
  },
  "widgets": {
   "application/vnd.jupyter.widget-state+json": {
    "state": {
     "11551eda16c044b1899f9074c593874c": {
      "model_module": "@jupyter-widgets/base",
      "model_module_version": "2.0.0",
      "model_name": "LayoutModel",
      "state": {}
     },
     "124a3a8c6a3b4bcaa55eb017033c937a": {
      "model_module": "@jupyter-widgets/base",
      "model_module_version": "2.0.0",
      "model_name": "LayoutModel",
      "state": {}
     },
     "183e4b8dee3d4079a9d9c64021343b1b": {
      "model_module": "@jupyter-widgets/output",
      "model_module_version": "1.0.0",
      "model_name": "OutputModel",
      "state": {
       "layout": "IPY_MODEL_2682c6e83e1b4751b086250fb0d35f8a",
       "outputs": [
        {
         "data": {
          "text/html": "<pre style=\"white-space:pre;overflow-x:auto;line-height:normal;font-family:Menlo,'DejaVu Sans Mono',consolas,'Courier New',monospace\">Working... <span style=\"color: #3a3a3a; text-decoration-color: #3a3a3a\">━━━━━━━━━━━━━━━━━━━━━━━━━━━━━━━━━━━━━━━━</span> <span style=\"color: #800080; text-decoration-color: #800080\">  0%</span> <span style=\"color: #008080; text-decoration-color: #008080\">-:--:--</span>\n</pre>\n",
          "text/plain": "Working... \u001b[38;5;237m━━━━━━━━━━━━━━━━━━━━━━━━━━━━━━━━━━━━━━━━\u001b[0m \u001b[35m  0%\u001b[0m \u001b[36m-:--:--\u001b[0m\n"
         },
         "metadata": {},
         "output_type": "display_data"
        }
       ]
      }
     },
     "25976e2d6a83451d942e55f12012a7d8": {
      "model_module": "@jupyter-widgets/output",
      "model_module_version": "1.0.0",
      "model_name": "OutputModel",
      "state": {
       "layout": "IPY_MODEL_b16ec6fa4b514b2782e37f54d7fe4cf9",
       "outputs": [
        {
         "data": {
          "text/html": "<pre style=\"white-space:pre;overflow-x:auto;line-height:normal;font-family:Menlo,'DejaVu Sans Mono',consolas,'Courier New',monospace\">Working... <span style=\"color: #729c1f; text-decoration-color: #729c1f\">━━━━━━━━━━━━━━━━━━━━━━━━━━━━━━━━━━━━━━━━</span> <span style=\"color: #800080; text-decoration-color: #800080\">100%</span> <span style=\"color: #808000; text-decoration-color: #808000\">0:00:00</span>\n</pre>\n",
          "text/plain": "Working... \u001b[38;2;114;156;31m━━━━━━━━━━━━━━━━━━━━━━━━━━━━━━━━━━━━━━━━\u001b[0m \u001b[35m100%\u001b[0m \u001b[33m0:00:00\u001b[0m\n"
         },
         "metadata": {},
         "output_type": "display_data"
        }
       ]
      }
     },
     "2682c6e83e1b4751b086250fb0d35f8a": {
      "model_module": "@jupyter-widgets/base",
      "model_module_version": "2.0.0",
      "model_name": "LayoutModel",
      "state": {}
     },
     "39a7f2ae31924a96b10e24751e6b5314": {
      "model_module": "@jupyter-widgets/base",
      "model_module_version": "2.0.0",
      "model_name": "LayoutModel",
      "state": {}
     },
     "3ad4d8c8060141679bac28592068ce37": {
      "model_module": "@jupyter-widgets/output",
      "model_module_version": "1.0.0",
      "model_name": "OutputModel",
      "state": {
       "layout": "IPY_MODEL_124a3a8c6a3b4bcaa55eb017033c937a",
       "outputs": [
        {
         "data": {
          "text/html": "<pre style=\"white-space:pre;overflow-x:auto;line-height:normal;font-family:Menlo,'DejaVu Sans Mono',consolas,'Courier New',monospace\">Working... <span style=\"color: #729c1f; text-decoration-color: #729c1f\">━━━━━━━━━━━━━━━━━━━━━━━━━━━━━━━━━━━━━━━━</span> <span style=\"color: #800080; text-decoration-color: #800080\">100%</span> <span style=\"color: #808000; text-decoration-color: #808000\">0:00:00</span>\n</pre>\n",
          "text/plain": "Working... \u001b[38;2;114;156;31m━━━━━━━━━━━━━━━━━━━━━━━━━━━━━━━━━━━━━━━━\u001b[0m \u001b[35m100%\u001b[0m \u001b[33m0:00:00\u001b[0m\n"
         },
         "metadata": {},
         "output_type": "display_data"
        }
       ]
      }
     },
     "3d7f4f833f1a42bcaad222d6a36f95fe": {
      "model_module": "@jupyter-widgets/output",
      "model_module_version": "1.0.0",
      "model_name": "OutputModel",
      "state": {
       "layout": "IPY_MODEL_11551eda16c044b1899f9074c593874c",
       "outputs": [
        {
         "data": {
          "text/html": "<pre style=\"white-space:pre;overflow-x:auto;line-height:normal;font-family:Menlo,'DejaVu Sans Mono',consolas,'Courier New',monospace\">Working... <span style=\"color: #3e393b; text-decoration-color: #3e393b\">━</span><span style=\"color: #4c383f; text-decoration-color: #4c383f\">━</span><span style=\"color: #613545; text-decoration-color: #613545\">━</span><span style=\"color: #7b334d; text-decoration-color: #7b334d\">━</span><span style=\"color: #993056; text-decoration-color: #993056\">━</span><span style=\"color: #b72c5e; text-decoration-color: #b72c5e\">━</span><span style=\"color: #d12a66; text-decoration-color: #d12a66\">━</span><span style=\"color: #e6276c; text-decoration-color: #e6276c\">━</span><span style=\"color: #f42670; text-decoration-color: #f42670\">━</span><span style=\"color: #f92672; text-decoration-color: #f92672\">━</span><span style=\"color: #f42670; text-decoration-color: #f42670\">━</span><span style=\"color: #e6276c; text-decoration-color: #e6276c\">━</span><span style=\"color: #d12a66; text-decoration-color: #d12a66\">━</span><span style=\"color: #b72c5e; text-decoration-color: #b72c5e\">━</span><span style=\"color: #993056; text-decoration-color: #993056\">━</span><span style=\"color: #7b334d; text-decoration-color: #7b334d\">━</span><span style=\"color: #613545; text-decoration-color: #613545\">━</span><span style=\"color: #4c383f; text-decoration-color: #4c383f\">━</span><span style=\"color: #3e393b; text-decoration-color: #3e393b\">━</span><span style=\"color: #3a3a3a; text-decoration-color: #3a3a3a\">━</span><span style=\"color: #3e393b; text-decoration-color: #3e393b\">━</span><span style=\"color: #4c383f; text-decoration-color: #4c383f\">━</span><span style=\"color: #613545; text-decoration-color: #613545\">━</span><span style=\"color: #7b334d; text-decoration-color: #7b334d\">━</span><span style=\"color: #993056; text-decoration-color: #993056\">━</span><span style=\"color: #b72c5e; text-decoration-color: #b72c5e\">━</span><span style=\"color: #d12a66; text-decoration-color: #d12a66\">━</span><span style=\"color: #e6276c; text-decoration-color: #e6276c\">━</span><span style=\"color: #f42670; text-decoration-color: #f42670\">━</span><span style=\"color: #f92672; text-decoration-color: #f92672\">━</span><span style=\"color: #f42670; text-decoration-color: #f42670\">━</span><span style=\"color: #e6276c; text-decoration-color: #e6276c\">━</span><span style=\"color: #d12a66; text-decoration-color: #d12a66\">━</span><span style=\"color: #b72c5e; text-decoration-color: #b72c5e\">━</span><span style=\"color: #993056; text-decoration-color: #993056\">━</span><span style=\"color: #7b334d; text-decoration-color: #7b334d\">━</span><span style=\"color: #613545; text-decoration-color: #613545\">━</span><span style=\"color: #4c383f; text-decoration-color: #4c383f\">━</span><span style=\"color: #3e393b; text-decoration-color: #3e393b\">━</span><span style=\"color: #3a3a3a; text-decoration-color: #3a3a3a\">━</span>  <span style=\"color: #008080; text-decoration-color: #008080\"> </span>\n</pre>\n",
          "text/plain": "Working... \u001b[38;2;62;57;59m━\u001b[0m\u001b[38;2;76;56;63m━\u001b[0m\u001b[38;2;97;53;69m━\u001b[0m\u001b[38;2;123;51;77m━\u001b[0m\u001b[38;2;153;48;86m━\u001b[0m\u001b[38;2;183;44;94m━\u001b[0m\u001b[38;2;209;42;102m━\u001b[0m\u001b[38;2;230;39;108m━\u001b[0m\u001b[38;2;244;38;112m━\u001b[0m\u001b[38;2;249;38;114m━\u001b[0m\u001b[38;2;244;38;112m━\u001b[0m\u001b[38;2;230;39;108m━\u001b[0m\u001b[38;2;209;42;102m━\u001b[0m\u001b[38;2;183;44;94m━\u001b[0m\u001b[38;2;153;48;86m━\u001b[0m\u001b[38;2;123;51;77m━\u001b[0m\u001b[38;2;97;53;69m━\u001b[0m\u001b[38;2;76;56;63m━\u001b[0m\u001b[38;2;62;57;59m━\u001b[0m\u001b[38;2;58;58;58m━\u001b[0m\u001b[38;2;62;57;59m━\u001b[0m\u001b[38;2;76;56;63m━\u001b[0m\u001b[38;2;97;53;69m━\u001b[0m\u001b[38;2;123;51;77m━\u001b[0m\u001b[38;2;153;48;86m━\u001b[0m\u001b[38;2;183;44;94m━\u001b[0m\u001b[38;2;209;42;102m━\u001b[0m\u001b[38;2;230;39;108m━\u001b[0m\u001b[38;2;244;38;112m━\u001b[0m\u001b[38;2;249;38;114m━\u001b[0m\u001b[38;2;244;38;112m━\u001b[0m\u001b[38;2;230;39;108m━\u001b[0m\u001b[38;2;209;42;102m━\u001b[0m\u001b[38;2;183;44;94m━\u001b[0m\u001b[38;2;153;48;86m━\u001b[0m\u001b[38;2;123;51;77m━\u001b[0m\u001b[38;2;97;53;69m━\u001b[0m\u001b[38;2;76;56;63m━\u001b[0m\u001b[38;2;62;57;59m━\u001b[0m\u001b[38;2;58;58;58m━\u001b[0m  \u001b[36m \u001b[0m\n"
         },
         "metadata": {},
         "output_type": "display_data"
        }
       ]
      }
     },
     "42ad6a8298f0487abbad80b5b1ccc2b0": {
      "model_module": "@jupyter-widgets/base",
      "model_module_version": "2.0.0",
      "model_name": "LayoutModel",
      "state": {}
     },
     "47a33a459d184176bfc89056eb1ff76e": {
      "model_module": "@jupyter-widgets/output",
      "model_module_version": "1.0.0",
      "model_name": "OutputModel",
      "state": {
       "layout": "IPY_MODEL_39a7f2ae31924a96b10e24751e6b5314",
       "outputs": [
        {
         "data": {
          "text/html": "<pre style=\"white-space:pre;overflow-x:auto;line-height:normal;font-family:Menlo,'DejaVu Sans Mono',consolas,'Courier New',monospace\">Working... <span style=\"color: #3a3a3a; text-decoration-color: #3a3a3a\">━━━━━━━━━━━━━━━━━━━━━━━━━━━━━━━━━━━━━━━━</span> <span style=\"color: #800080; text-decoration-color: #800080\">  0%</span> <span style=\"color: #008080; text-decoration-color: #008080\">-:--:--</span>\n</pre>\n",
          "text/plain": "Working... \u001b[38;5;237m━━━━━━━━━━━━━━━━━━━━━━━━━━━━━━━━━━━━━━━━\u001b[0m \u001b[35m  0%\u001b[0m \u001b[36m-:--:--\u001b[0m\n"
         },
         "metadata": {},
         "output_type": "display_data"
        }
       ]
      }
     },
     "4922f6605d1f44ffa094a3f2cfb73151": {
      "model_module": "@jupyter-widgets/output",
      "model_module_version": "1.0.0",
      "model_name": "OutputModel",
      "state": {
       "layout": "IPY_MODEL_8cb0a4d2a37e4a4eaa864b95a97e6dc3",
       "outputs": [
        {
         "data": {
          "text/html": "<pre style=\"white-space:pre;overflow-x:auto;line-height:normal;font-family:Menlo,'DejaVu Sans Mono',consolas,'Courier New',monospace\">Working... <span style=\"color: #729c1f; text-decoration-color: #729c1f\">━━━━━━━━━━━━━━━━━━━━━━━━━━━━━━━━━━━━━━━━</span> <span style=\"color: #800080; text-decoration-color: #800080\">100%</span> <span style=\"color: #808000; text-decoration-color: #808000\">0:00:00</span>\n</pre>\n",
          "text/plain": "Working... \u001b[38;2;114;156;31m━━━━━━━━━━━━━━━━━━━━━━━━━━━━━━━━━━━━━━━━\u001b[0m \u001b[35m100%\u001b[0m \u001b[33m0:00:00\u001b[0m\n"
         },
         "metadata": {},
         "output_type": "display_data"
        }
       ]
      }
     },
     "5cb6ee6f55044517ab64fcf36ffdf888": {
      "model_module": "@jupyter-widgets/output",
      "model_module_version": "1.0.0",
      "model_name": "OutputModel",
      "state": {
       "layout": "IPY_MODEL_c4a9f7fe844743ff8bcc2cc991882480",
       "outputs": [
        {
         "data": {
          "text/html": "<pre style=\"white-space:pre;overflow-x:auto;line-height:normal;font-family:Menlo,'DejaVu Sans Mono',consolas,'Courier New',monospace\">Working... <span style=\"color: #729c1f; text-decoration-color: #729c1f\">━━━━━━━━━━━━━━━━━━━━━━━━━━━━━━━━━━━━━━━━</span> <span style=\"color: #800080; text-decoration-color: #800080\">100%</span> <span style=\"color: #808000; text-decoration-color: #808000\">0:00:00</span>\n</pre>\n",
          "text/plain": "Working... \u001b[38;2;114;156;31m━━━━━━━━━━━━━━━━━━━━━━━━━━━━━━━━━━━━━━━━\u001b[0m \u001b[35m100%\u001b[0m \u001b[33m0:00:00\u001b[0m\n"
         },
         "metadata": {},
         "output_type": "display_data"
        }
       ]
      }
     },
     "6752a250b2524b1e9c8e1a8672f336b1": {
      "model_module": "@jupyter-widgets/output",
      "model_module_version": "1.0.0",
      "model_name": "OutputModel",
      "state": {
       "layout": "IPY_MODEL_8153377b27ff4c41be879c10a578b205",
       "outputs": [
        {
         "data": {
          "text/html": "<pre style=\"white-space:pre;overflow-x:auto;line-height:normal;font-family:Menlo,'DejaVu Sans Mono',consolas,'Courier New',monospace\">Working... <span style=\"color: #729c1f; text-decoration-color: #729c1f\">━━━━━━━━━━━━━━━━━━━━━━━━━━━━━━━━━━━━━━━━</span> <span style=\"color: #800080; text-decoration-color: #800080\">100%</span> <span style=\"color: #808000; text-decoration-color: #808000\">0:00:00</span>\n</pre>\n",
          "text/plain": "Working... \u001b[38;2;114;156;31m━━━━━━━━━━━━━━━━━━━━━━━━━━━━━━━━━━━━━━━━\u001b[0m \u001b[35m100%\u001b[0m \u001b[33m0:00:00\u001b[0m\n"
         },
         "metadata": {},
         "output_type": "display_data"
        }
       ]
      }
     },
     "7720f0e5de5c4fde8c3eb691fb56130e": {
      "model_module": "@jupyter-widgets/output",
      "model_module_version": "1.0.0",
      "model_name": "OutputModel",
      "state": {
       "layout": "IPY_MODEL_42ad6a8298f0487abbad80b5b1ccc2b0",
       "outputs": [
        {
         "data": {
          "text/html": "<pre style=\"white-space:pre;overflow-x:auto;line-height:normal;font-family:Menlo,'DejaVu Sans Mono',consolas,'Courier New',monospace\">Working... <span style=\"color: #729c1f; text-decoration-color: #729c1f\">━━━━━━━━━━━━━━━━━━━━━━━━━━━━━━━━━━━━━━━━</span> <span style=\"color: #800080; text-decoration-color: #800080\">100%</span> <span style=\"color: #808000; text-decoration-color: #808000\">0:00:00</span>\n</pre>\n",
          "text/plain": "Working... \u001b[38;2;114;156;31m━━━━━━━━━━━━━━━━━━━━━━━━━━━━━━━━━━━━━━━━\u001b[0m \u001b[35m100%\u001b[0m \u001b[33m0:00:00\u001b[0m\n"
         },
         "metadata": {},
         "output_type": "display_data"
        }
       ]
      }
     },
     "8153377b27ff4c41be879c10a578b205": {
      "model_module": "@jupyter-widgets/base",
      "model_module_version": "2.0.0",
      "model_name": "LayoutModel",
      "state": {}
     },
     "8cb0a4d2a37e4a4eaa864b95a97e6dc3": {
      "model_module": "@jupyter-widgets/base",
      "model_module_version": "2.0.0",
      "model_name": "LayoutModel",
      "state": {}
     },
     "b16ec6fa4b514b2782e37f54d7fe4cf9": {
      "model_module": "@jupyter-widgets/base",
      "model_module_version": "2.0.0",
      "model_name": "LayoutModel",
      "state": {}
     },
     "b1f8beb16a374eb89f42cb3f25a91ea3": {
      "model_module": "@jupyter-widgets/output",
      "model_module_version": "1.0.0",
      "model_name": "OutputModel",
      "state": {
       "layout": "IPY_MODEL_e919a97445ec4923bce06962629f777e",
       "outputs": [
        {
         "data": {
          "text/html": "<pre style=\"white-space:pre;overflow-x:auto;line-height:normal;font-family:Menlo,'DejaVu Sans Mono',consolas,'Courier New',monospace\">Working... <span style=\"color: #729c1f; text-decoration-color: #729c1f\">━━━━━━━━━━━━━━━━━━━━━━━━━━━━━━━━━━━━━━━━</span> <span style=\"color: #800080; text-decoration-color: #800080\">100%</span> <span style=\"color: #808000; text-decoration-color: #808000\">0:00:00</span>\n</pre>\n",
          "text/plain": "Working... \u001b[38;2;114;156;31m━━━━━━━━━━━━━━━━━━━━━━━━━━━━━━━━━━━━━━━━\u001b[0m \u001b[35m100%\u001b[0m \u001b[33m0:00:00\u001b[0m\n"
         },
         "metadata": {},
         "output_type": "display_data"
        }
       ]
      }
     },
     "c4a9f7fe844743ff8bcc2cc991882480": {
      "model_module": "@jupyter-widgets/base",
      "model_module_version": "2.0.0",
      "model_name": "LayoutModel",
      "state": {}
     },
     "c7d3da8d4d6741f793f1314608812363": {
      "model_module": "@jupyter-widgets/output",
      "model_module_version": "1.0.0",
      "model_name": "OutputModel",
      "state": {
       "layout": "IPY_MODEL_f9598404aa0747b7825a6900058ff26e",
       "outputs": [
        {
         "data": {
          "text/html": "<pre style=\"white-space:pre;overflow-x:auto;line-height:normal;font-family:Menlo,'DejaVu Sans Mono',consolas,'Courier New',monospace\">Working... <span style=\"color: #729c1f; text-decoration-color: #729c1f\">━━━━━━━━━━━━━━━━━━━━━━━━━━━━━━━━━━━━━━━━</span> <span style=\"color: #800080; text-decoration-color: #800080\">100%</span> <span style=\"color: #808000; text-decoration-color: #808000\">0:00:00</span>\n</pre>\n",
          "text/plain": "Working... \u001b[38;2;114;156;31m━━━━━━━━━━━━━━━━━━━━━━━━━━━━━━━━━━━━━━━━\u001b[0m \u001b[35m100%\u001b[0m \u001b[33m0:00:00\u001b[0m\n"
         },
         "metadata": {},
         "output_type": "display_data"
        }
       ]
      }
     },
     "e919a97445ec4923bce06962629f777e": {
      "model_module": "@jupyter-widgets/base",
      "model_module_version": "2.0.0",
      "model_name": "LayoutModel",
      "state": {}
     },
     "f9598404aa0747b7825a6900058ff26e": {
      "model_module": "@jupyter-widgets/base",
      "model_module_version": "2.0.0",
      "model_name": "LayoutModel",
      "state": {}
     }
    },
    "version_major": 2,
    "version_minor": 0
   }
  }
 },
 "nbformat": 4,
 "nbformat_minor": 5
}
