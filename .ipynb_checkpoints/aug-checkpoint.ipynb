{
 "cells": [
  {
   "cell_type": "markdown",
   "id": "30e369e6",
   "metadata": {
    "deletable": true,
    "editable": true,
    "frozen": false,
    "jp-MarkdownHeadingCollapsed": true
   },
   "source": [
    "# august"
   ]
  },
  {
   "cell_type": "code",
   "execution_count": null,
   "id": "14c028c6",
   "metadata": {
    "deletable": true,
    "editable": true,
    "frozen": false
   },
   "outputs": [],
   "source": [
    "import spacy"
   ]
  },
  {
   "cell_type": "code",
   "execution_count": null,
   "id": "47a9b51a",
   "metadata": {
    "deletable": true,
    "editable": true,
    "frozen": false
   },
   "outputs": [],
   "source": [
    "import os\n",
    "from concurrent.futures import ThreadPoolExecutor\n",
    "from time import perf_counter, sleep\n",
    "\n",
    "import pandas as pd\n",
    "\n",
    "start = perf_counter()\n",
    "\n",
    "# This is the input  folder\n",
    "# path=r\"\\\\filer-argentina-dev\\Argentina\\Shared Folder\\Manikanda Gokul\\Dec 2023\\\\\"\n",
    "path = r\"C:\\Users\\surakumar\\OneDrive - CoreLogic Solutions, LLC\\Downloads\\aug\\\\\"\n",
    "\n",
    "file_name = [file for file in os.listdir(path) if file.startswith(\"aug\")]\n",
    "\n",
    "# for i in file_name\n",
    "#    print(\"vis\",\"s.no \",i,\"  \",file_name[i])\n",
    "\n",
    "pd1 = pd.DataFrame()\n",
    "p = 1\n",
    "for i in file_name:\n",
    "    print(i)\n",
    "    # vishnu excelfile\n",
    "    # print(\"v - \",i)\n",
    "    xls = pd.ExcelFile(rf\"{path}{i}\")\n",
    "\n",
    "    n = pd.read_excel(xls, sheet_name=\"field_level_data\")\n",
    "    pd1 = pd.concat([pd1, n], axis=0)\n",
    "    # print(\"v -\",pd1)\n",
    "    print(f\"{p}---\", n.shape)\n",
    "    print(pd1.shape)\n",
    "    p += 1\n",
    "\n",
    "print(pd1.shape)\n",
    "\n",
    "end = perf_counter()\n",
    "\n",
    "print(\"time---\", end - start)"
   ]
  },
  {
   "cell_type": "code",
   "execution_count": null,
   "id": "2bb5740f",
   "metadata": {
    "deletable": true,
    "editable": true,
    "frozen": false
   },
   "outputs": [],
   "source": [
    "import pandas as pd"
   ]
  },
  {
   "cell_type": "code",
   "execution_count": null,
   "id": "94788e74",
   "metadata": {
    "deletable": true,
    "editable": true,
    "frozen": false
   },
   "outputs": [],
   "source": [
    "pd1 = pd.read_csv(\"aug_filed_level_data.csv\")"
   ]
  },
  {
   "cell_type": "code",
   "execution_count": null,
   "id": "264aa2aa",
   "metadata": {
    "deletable": true,
    "editable": true,
    "frozen": false
   },
   "outputs": [],
   "source": [
    "pd1.head()"
   ]
  },
  {
   "cell_type": "markdown",
   "id": "560da9a6",
   "metadata": {
    "deletable": true,
    "editable": true,
    "frozen": false
   },
   "source": [
    "pd1.to_csv(\"aug_filed_level_data.csv\")"
   ]
  },
  {
   "cell_type": "code",
   "execution_count": null,
   "id": "93e2bb96",
   "metadata": {
    "deletable": true,
    "editable": true,
    "frozen": false
   },
   "outputs": [],
   "source": [
    "v = pd1.copy()"
   ]
  },
  {
   "cell_type": "code",
   "execution_count": null,
   "id": "52cdd95e",
   "metadata": {
    "deletable": true,
    "editable": true,
    "frozen": false
   },
   "outputs": [],
   "source": [
    "v.shape"
   ]
  },
  {
   "cell_type": "code",
   "execution_count": null,
   "id": "d1f610d7",
   "metadata": {
    "deletable": true,
    "editable": true,
    "frozen": false
   },
   "outputs": [],
   "source": [
    "col_values = \"Buyer/Borrower Zip Code,Recording Page Number,Lender Zip Code,Recording Date,Lender Street Address,Parcel Map/Page,Buyer/Borrower Street Address,Loan Organization ID,Parcel Map/Book,Lender City,Tract/Subdivision Name,Buyer/Borrower City,Buyer/Borrower/Defendant 1 First Name Or Company Name,Property Zip Code,Buyer/Borrower/Defendant 1 Last Name Or Company Code,Document Title,Property Street Address (Part 1),Property Zip Code + 4,Buyer/Borrower/Defendant 3 Last Name,Lender/Lender First Name/Beneficiary/Company Name,Buyer/Borrower/Defendant 2 Last Name,Block,Buyer/Borrower State,Recording Book Number,Lender State,Lot,Document Number,Mortgage Amount,MIN/MERS Number,Loan Originator ID,Property City/Tax City,Loan Originator Name Abbreviation,Loan Number,Attorney Name,Buyer/Borrower 1 Vesting,Buyer/Borrower/Defendant 4 First Name (or Company Name),Buyer/Borrower/Defendant 4 Last Name,Buyer/Borrower/Defendant 2 First Name (or Company Name),Buyer/Borrower 1 Relationship Type,Buyer/Borrower/Defendant 3 First Name (or Company Name),Buyer/Borrower 3 Vesting,Buyer/Borrower 2 Vesting,Buyer/Borrower 2 Relationship Type,Buyer/Borrower 4 Vesting,Loan Organization ID 2,Lender Zip Code + 4,Buyer/Borrower Zip Code + 4,Unit Number (Legal Condominium Unit Number),Section,Range,Township/Municipality Code,Buyer/Borrower 3 Relationship Type,Buyer/Borrower 4 Relationship Type\".split(\n",
    "    \",\"\n",
    ")"
   ]
  },
  {
   "cell_type": "code",
   "execution_count": null,
   "id": "0888b4c1",
   "metadata": {
    "deletable": true,
    "editable": true,
    "frozen": false
   },
   "outputs": [],
   "source": [
    "v = v[v[\"Document_Type\"].isin([\" DEED OF TRUST\"])].sort_values(\"Document_Type\")"
   ]
  },
  {
   "cell_type": "code",
   "execution_count": null,
   "id": "7c144d7e",
   "metadata": {
    "deletable": true,
    "editable": true,
    "frozen": false
   },
   "outputs": [],
   "source": [
    "v.head()"
   ]
  },
  {
   "cell_type": "code",
   "execution_count": null,
   "id": "6d362868",
   "metadata": {
    "deletable": true,
    "editable": true,
    "frozen": false
   },
   "outputs": [],
   "source": [
    "len(set(v[\"Field\"].tolist()))"
   ]
  },
  {
   "cell_type": "markdown",
   "id": "511c8a34",
   "metadata": {
    "deletable": true,
    "editable": true,
    "frozen": false
   },
   "source": [
    "set(v[\"Field\"].tolist())"
   ]
  },
  {
   "cell_type": "code",
   "execution_count": null,
   "id": "07642fd3",
   "metadata": {
    "deletable": true,
    "editable": true,
    "frozen": false
   },
   "outputs": [],
   "source": [
    "f = [\n",
    "    \"1-4 Family Rider\",\n",
    "    \"APN 1\",\n",
    "    \"APN 2\",\n",
    "    \"APN 3\",\n",
    "    \"APN 4\",\n",
    "    \"APN 5\",\n",
    "    \"APN 6\",\n",
    "    \"APN 7\",\n",
    "    \"APN 8\",\n",
    "    \"APN Portion Indicator\",\n",
    "    \"APN Research Flag/On-Line Flag\",\n",
    "    \"Accommodation Flag\",\n",
    "    \"Adj Interest Rate Calculation Change\",\n",
    "    \"Adj Interest Rate Change Date\",\n",
    "    \"Adj Interest Rate Change Frequency\",\n",
    "    \"Adj Interest Rate Change Interval\",\n",
    "    \"Adj Interest Rate Change Percent Limit\",\n",
    "    \"Adj Interest Rate Index Type\",\n",
    "    \"Adj Interest Rate Interest Only\",\n",
    "    \"Adj Interest Rate Maximum Percentage\",\n",
    "    \"Adjustable Interest Rate First Interest Rate Change Cap\",\n",
    "    \"Adjustable Interest Rate Flag\",\n",
    "    \"Adjustable Interest Rate Look Back Period\",\n",
    "    \"Adjustable Interest Rate Payment Change Date\",\n",
    "    \"Amortization Term\",\n",
    "    \"Attorney Name\",\n",
    "    \"Block\",\n",
    "    \"Buyer Principal Company\",\n",
    "    \"Buyer Principal First Name\",\n",
    "    \"Buyer Principal Last Name\",\n",
    "    \"Buyer Principal Title\",\n",
    "    \"Buyer/Borrower 1 Percent Transferred\",\n",
    "    \"Buyer/Borrower 1 Relationship Type\",\n",
    "    \"Buyer/Borrower 1 Vesting\",\n",
    "    \"Buyer/Borrower 2 Percent Transferred\",\n",
    "    \"Buyer/Borrower 2 Relationship Type\",\n",
    "    \"Buyer/Borrower 2 Vesting\",\n",
    "    \"Buyer/Borrower 3 Relationship Type\",\n",
    "    \"Buyer/Borrower 3 Vesting\",\n",
    "    \"Buyer/Borrower 4 Relationship Type\",\n",
    "    \"Buyer/Borrower 4 Vesting\",\n",
    "    \"Buyer/Borrower City\",\n",
    "    \"Buyer/Borrower State\",\n",
    "    \"Buyer/Borrower Street Address\",\n",
    "    \"Buyer/Borrower Zip Code\",\n",
    "    \"Buyer/Borrower Zip Code + 4\",\n",
    "    \"Buyer/Borrower/Defendant 1 First Name Or Company Name\",\n",
    "    \"Buyer/Borrower/Defendant 1 Last Name Or Company Code\",\n",
    "    \"Buyer/Borrower/Defendant 2 First Name (or Company Name)\",\n",
    "    \"Buyer/Borrower/Defendant 2 Last Name\",\n",
    "    \"Buyer/Borrower/Defendant 3 First Name (or Company Name)\",\n",
    "    \"Buyer/Borrower/Defendant 3 Last Name\",\n",
    "    \"Buyer/Borrower/Defendant 4 First Name (or Company Name)\",\n",
    "    \"Buyer/Borrower/Defendant 4 Last Name\",\n",
    "    \"Construction Loan Flag (Y/N)\",\n",
    "    \"Credit Line/Equity Line Flag (A/B/C/E/L/P/R/S/T/V)\",\n",
    "    \"Document Number\",\n",
    "    \"Document Title\",\n",
    "    \"Filmtracker Source / Film ID Number\",\n",
    "    \"Foreign Address Part 1 (Address)\",\n",
    "    \"Foreign Address Part 2 (Province, City Postal Code)\",\n",
    "    \"Foreign Address Part 3 (Country)\",\n",
    "    \"Home Affordable Modification Agreement\",\n",
    "    \"Interest Rate\",\n",
    "    \"Legal Type\",\n",
    "    \"Lender City\",\n",
    "    \"Lender State\",\n",
    "    \"Lender Street Address\",\n",
    "    \"Lender Zip Code\",\n",
    "    \"Lender Zip Code + 4\",\n",
    "    \"Lender/Lender First Name/Beneficiary/Company Name\",\n",
    "    \"Lender/Lender Last Name/Beneficiary/Company Code\",\n",
    "    \"Loan Due Date (MMDD)\",\n",
    "    \"Loan Number\",\n",
    "    \"Loan Organization ID\",\n",
    "    \"Loan Organization ID 2\",\n",
    "    \"Loan Originator ID\",\n",
    "    \"Loan Originator Name Abbreviation\",\n",
    "    \"Loan Type (FHA/VA/SBA)\",\n",
    "    \"Lot\",\n",
    "    \"MERS Services Flag\",\n",
    "    \"MIN/MERS Number\",\n",
    "    \"Mailing/Property Address Indicator (P/M)\",\n",
    "    \"Matching Grant Deed/Original Book Number\",\n",
    "    \"Matching Grant Deed/Original Document Number\",\n",
    "    \"Matching Grant Deed/Original Page Number\",\n",
    "    \"Mortgage Amount\",\n",
    "    \"Multiple Parcel Indicator (Part 1)\",\n",
    "    \"Multiple Parcel Indicator (Part 2)\",\n",
    "    \"Original Recording Date/Contract Sales Date for Deed/Deed of Trust/Execution Date/Signature Date\",\n",
    "    \"Parcel\",\n",
    "    \"Parcel Map/Book\",\n",
    "    \"Parcel Map/Page\",\n",
    "    \"Pre Payment Date of Expiration (number of months)\",\n",
    "    \"Pre Payment Rider Indicator\",\n",
    "    \"Property City/Tax City\",\n",
    "    \"Property Street Address (Part 1)\",\n",
    "    \"Property Street Address (Part 2)\",\n",
    "    \"Property Zip Code\",\n",
    "    \"Property Zip Code + 4\",\n",
    "    \"Range\",\n",
    "    \"Recording Book Number\",\n",
    "    \"Recording Date\",\n",
    "    \"Recording Page Number\",\n",
    "    \"Section\",\n",
    "    \"Title Company Code\",\n",
    "    \"Title Company Name\",\n",
    "    \"Title Order/Escrow Order Abbreviation\",\n",
    "    \"Title Order/Escrow Order Number\",\n",
    "    \"Township/Municipality Code\",\n",
    "    \"Tract/Subdivision Name\",\n",
    "    \"Unit Number (Legal Condominium Unit Number)\",\n",
    "]"
   ]
  },
  {
   "cell_type": "code",
   "execution_count": null,
   "id": "dadea01a",
   "metadata": {
    "deletable": true,
    "editable": true,
    "frozen": false
   },
   "outputs": [],
   "source": [
    "v = v[v[\"Compare\"] == \"Y\"]"
   ]
  },
  {
   "cell_type": "code",
   "execution_count": null,
   "id": "131f8197",
   "metadata": {
    "deletable": true,
    "editable": true,
    "frozen": false
   },
   "outputs": [],
   "source": [
    "v = v[\n",
    "    [\"Document_Type\", \"Field\", \"Validated_Value\", \"Extracted_Value\", \"Compare\"]\n",
    "].drop_duplicates(\n",
    "    \"Field\", keep=\"first\"\n",
    ")  # .to_csv(\"DOT_fields_details.csv\")"
   ]
  },
  {
   "cell_type": "code",
   "execution_count": null,
   "id": "446f3426",
   "metadata": {
    "deletable": true,
    "editable": true,
    "frozen": false
   },
   "outputs": [],
   "source": [
    "v[v[\"Field\"].isin(col_values)].sort_values(\"Document_Type\").to_csv(\n",
    "    \"dot_fields_details.csv\"\n",
    ")"
   ]
  },
  {
   "cell_type": "code",
   "execution_count": null,
   "id": "a4116110",
   "metadata": {
    "deletable": true,
    "editable": true,
    "frozen": false
   },
   "outputs": [],
   "source": [
    "len(set(v[\"Document_Type\", \"Field\"].tolist()))"
   ]
  },
  {
   "cell_type": "code",
   "execution_count": null,
   "id": "4be85146",
   "metadata": {
    "deletable": true,
    "editable": true,
    "frozen": false
   },
   "outputs": [],
   "source": [
    "v = v.drop_duplicates(keep=\"first\")"
   ]
  },
  {
   "cell_type": "code",
   "execution_count": null,
   "id": "66b33191",
   "metadata": {
    "deletable": true,
    "editable": true,
    "frozen": false
   },
   "outputs": [],
   "source": [
    "v = v[v[\"Deed_Category\"].isin([\" T\"])]"
   ]
  },
  {
   "cell_type": "code",
   "execution_count": null,
   "id": "7fef2f06",
   "metadata": {
    "deletable": true,
    "editable": true,
    "frozen": false
   },
   "outputs": [],
   "source": [
    "v = v[v[\"Document_Type\"].isin([\" DEED OF TRUST\"])]"
   ]
  },
  {
   "cell_type": "markdown",
   "id": "ebff099d",
   "metadata": {
    "deletable": true,
    "editable": true,
    "frozen": false
   },
   "source": [
    "v[v[\"State_Code\"].isin([' FL',' MD',' OH',' CA',' TX'])][[\"Batch_ID\",\"State_Code\"]].to_csv(r'\\\\filer-argentina-dev\\Argentina\\Shared Folder\\Suraj\\aug_mortgage.csv')"
   ]
  },
  {
   "cell_type": "code",
   "execution_count": null,
   "id": "6d4a188a",
   "metadata": {
    "deletable": true,
    "editable": true,
    "frozen": false
   },
   "outputs": [],
   "source": [
    "set(v[\"State_Code\"].tolist())"
   ]
  },
  {
   "cell_type": "code",
   "execution_count": null,
   "id": "b478cd47",
   "metadata": {
    "deletable": true,
    "editable": true,
    "frozen": false
   },
   "outputs": [],
   "source": [
    "v[v[\"State_Code\"].isin([\" TX\"])][\"Batch_ID\"].to_csv(\n",
    "    r\"\\\\filer-argentina-dev\\Argentina\\Shared Folder\\Suraj\\tx_dot.csv\"\n",
    ")"
   ]
  },
  {
   "cell_type": "code",
   "execution_count": null,
   "id": "13d11668",
   "metadata": {
    "deletable": true,
    "editable": true,
    "frozen": false,
    "scrolled": true
   },
   "outputs": [],
   "source": [
    "set(v[v[\"State_Code\"].isin([\" TX\"])][\"Batch_ID\"].tolist())"
   ]
  },
  {
   "cell_type": "code",
   "execution_count": null,
   "id": "d905dd4e",
   "metadata": {
    "deletable": true,
    "editable": true,
    "frozen": false
   },
   "outputs": [],
   "source": [
    "set(v[v[\"State_Code\"].isin([\" MD\"])][\"Batch_ID\"].tolist())"
   ]
  },
  {
   "cell_type": "code",
   "execution_count": null,
   "id": "c843d0ae",
   "metadata": {
    "deletable": true,
    "editable": true,
    "frozen": false
   },
   "outputs": [],
   "source": [
    "set(v[v[\"State_Code\"].isin([\" CA\"])][\"Batch_ID\"].tolist())"
   ]
  },
  {
   "cell_type": "code",
   "execution_count": null,
   "id": "746d2147",
   "metadata": {
    "deletable": true,
    "editable": true,
    "frozen": false
   },
   "outputs": [],
   "source": [
    "set(v[v[\"State_Code\"].isin([\" TX\"])][\"Batch_ID\"].tolist())"
   ]
  },
  {
   "cell_type": "code",
   "execution_count": null,
   "id": "86b135cb",
   "metadata": {
    "deletable": true,
    "editable": true,
    "frozen": false
   },
   "outputs": [],
   "source": [
    "v = pd1.copy()\n",
    "v = v.drop_duplicates(keep=\"first\")\n",
    "# v = v[v[\"Field\"].isin(['Buyer/Borrower/Defendant 1 First Name Or Company Name','Buyer/Borrower/Defendant 1 Last Name Or Company Code','Seller 1 First name','Seller 1 Last name'])]\n",
    "# v = v[v[\"Field\"].isin(['Property Street Address (Part 1)','Property Street Address (Part 2)'])]\n",
    "\n",
    "# v = v[v[\"Deed_Category\"].isin([' G',' Q'])]\n",
    "# v = v[v[\"State_Code\"].isin([' FL',' MD',' OH',' CA',' TX'])]\n",
    "v = v[v[\"State_Code\"].isin([\"TX\"])]\n",
    "# print(\"state code:\",v)\n",
    "v = v[v[\"Document_Type\"].isin([\"MORTGAGE\"])]\n",
    "print(\"Document_Type:\", v)\n",
    "\n",
    "v = v[v[\"Deed_Category\"].isin([\" T\"])]\n",
    "v = v[v[\"Compare\"] == \"Y\"]\n",
    "\n",
    "# v\n",
    "\n",
    "df2 = v[\"Batch_ID\"]\n",
    "df2.to_csv(r\"\\\\filer-argentina-dev\\Argentina\\Shared Folder\\Suraj\\aug_mortgage.csv\")\n",
    "\n",
    "\n",
    "# df2=v['Batch_ID']\n",
    "# #no .of fields\n",
    "# if df2.value_counts()==4:\n",
    "#     print(df2)\n",
    "\n",
    "\n",
    "# max.value_counts(dropna=false)\n",
    "# max"
   ]
  },
  {
   "cell_type": "code",
   "execution_count": null,
   "id": "197503c7",
   "metadata": {
    "deletable": true,
    "editable": true,
    "frozen": false
   },
   "outputs": [],
   "source": [
    "df2.head()"
   ]
  },
  {
   "cell_type": "code",
   "execution_count": null,
   "id": "5ecaf1c8",
   "metadata": {
    "deletable": true,
    "editable": true,
    "frozen": false
   },
   "outputs": [],
   "source": [
    "v[\"Document_Type\"]"
   ]
  },
  {
   "cell_type": "code",
   "execution_count": null,
   "id": "eaf2fc88",
   "metadata": {
    "deletable": true,
    "editable": true,
    "frozen": false
   },
   "outputs": [],
   "source": [
    "b = v[[\"Batch_ID\"]].values.tolist()"
   ]
  },
  {
   "cell_type": "code",
   "execution_count": null,
   "id": "4090f3d4",
   "metadata": {
    "deletable": true,
    "editable": true,
    "frozen": false
   },
   "outputs": [],
   "source": [
    "len(b)"
   ]
  },
  {
   "cell_type": "code",
   "execution_count": null,
   "id": "885ab31b",
   "metadata": {
    "deletable": true,
    "editable": true,
    "frozen": false
   },
   "outputs": [],
   "source": [
    "print(\",\".join(str(val[0]) for val in b[:999]))"
   ]
  },
  {
   "cell_type": "code",
   "execution_count": null,
   "id": "06a44394",
   "metadata": {
    "deletable": true,
    "editable": true,
    "frozen": false
   },
   "outputs": [],
   "source": [
    "\",\".join(str(val[0]) for val in b[999:1999])"
   ]
  },
  {
   "cell_type": "code",
   "execution_count": 61,
   "id": "daf4e42d",
   "metadata": {
    "deletable": true,
    "editable": true,
    "frozen": false
   },
   "outputs": [],
   "source": [
    "b = [\n",
    "    46927782,\n",
    "    46927770,\n",
    "    46801562,\n",
    "    46470813,\n",
    "    46927788,\n",
    "    46801278,\n",
    "    46885478,\n",
    "    46801588,\n",
    "    46564606,\n",
    "    47247130,\n",
    "    46564694,\n",
    "    46927707,\n",
    "    46927777,\n",
    "    46927762,\n",
    "    46801447,\n",
    "    46927765,\n",
    "]"
   ]
  },
  {
   "cell_type": "code",
   "execution_count": 1,
   "id": "89a29d92-e144-4a0e-aefe-51fe5b88f7aa",
   "metadata": {
    "deletable": true,
    "editable": true,
    "frozen": false
   },
   "outputs": [],
   "source": [
    "b = [2632855,2632854,2632853,2632851,2632848,2632847,2632845,2628745,2628740]"
   ]
  },
  {
   "cell_type": "markdown",
   "id": "b78a4544-30bd-4c6b-9b22-750d3bad650e",
   "metadata": {
    "deletable": true,
    "editable": true,
    "frozen": false
   },
   "source": [
    "# Parellel download"
   ]
  },
  {
   "cell_type": "code",
   "execution_count": 1,
   "id": "f7d630b7-ecd0-4f82-8576-eae064f51a90",
   "metadata": {
    "deletable": true,
    "editable": true,
    "frozen": false
   },
   "outputs": [],
   "source": [
    "from pathlib import Path\n",
    "from urllib.request import urlretrieve"
   ]
  },
  {
   "cell_type": "code",
   "execution_count": 2,
   "id": "a5b0d16a-fbd6-43b3-a058-3660d462fa6e",
   "metadata": {
    "deletable": true,
    "editable": true,
    "frozen": false
   },
   "outputs": [],
   "source": [
    "from concurrent.futures import ThreadPoolExecutor"
   ]
  },
  {
   "cell_type": "markdown",
   "id": "38d935b9-506f-4bb3-b668-525959a5ad1a",
   "metadata": {
    "deletable": true,
    "editable": true,
    "frozen": false
   },
   "source": [
    "zip_path = fr\"{path}\\{batchid\"\n",
    "k = urlretrieve(rf\"https://clvisiontowerb.kfusw1prd.solutions.corelogic.com//download.php?path=ServerFiles/Pagesanddata/{batchid}/&zip={batchid}.zip&cond=Postprocessing&auto=Off\", f\"{zip_path}.zip\")"
   ]
  },
  {
   "cell_type": "code",
   "execution_count": 3,
   "id": "50aa3798-7cf3-46a3-bcde-e07cfa1b0aa0",
   "metadata": {
    "deletable": true,
    "editable": true,
    "frozen": false
   },
   "outputs": [],
   "source": [
    "# for i, f in enumerate(folder.glob(\"**/*.txt\")):\n",
    "i=1\n",
    "def helper(batchid):\n",
    "    zip_path = f\"ok_retest/{batchid}.zip\"\n",
    "    k = urlretrieve(\n",
    "        # rf\"https://clvisiontowerb.kfusw1prd.solutions.corelogic.com//download.php?path=ServerFiles/Pagesanddata/{batchid}/&zip={batchid}.zip&cond=Postprocessing&auto=Off\",\n",
    "        rf\"https://dev-ctt-googlevision-clvisiontowerb.kfusw1dev.solutions.corelogic.com/download.php?path=ServerFiles/Pagesanddata/{batchid}/&zip={batchid}.zip&cond=Postprocessing&auto=Off\",\n",
    "        zip_path,\n",
    "    )\n",
    "    print(f\"{zip_path = }\")\n",
    "    print(zip_path.stat().st_size / 1024)\n",
    "    print(\"=====================\")\n",
    "    print(i, k)\n",
    "    i+=1"
   ]
  },
  {
   "cell_type": "code",
   "execution_count": 4,
   "id": "52e68337-84e7-4ed4-a3a5-697c58404f81",
   "metadata": {},
   "outputs": [],
   "source": [
    "b = [2718073,2718072,2718060,2718058,2718055,2718045,2718041,2718038,2718031,2718032,2718026,2718027,2718024,2718010,2718003,2718002,2717998,2717988,2717973,2717942,2718352,2718349,2718348,2718345,2718351,2718343,2718338,2718338,2719494,2719480,2719484,2719453,2719431,2719351,2719430,2719418,2719408,2719353,2719424,2719420,2720009,2720008,2720012,2718650,2718637,2718631,2718613,2718555,2718540,2718514,2718549,2718488,2718418,2718675,2718584,2718583,2719993,2719911,2719871,2719832,2718952,2718951,2718949,2718948,2718937,2718930,2718918,2718865,2718871,2718866,2718868,2718862,2718860,2718853,2718867,2718800,2718793,2718786,2718803,2718805,2719770,2719724,2719708,2719705,2719639,2719581,2719549,2719543,2719541,2719552,2719549,2719548,2719723,2719701,2719640,2719615,2719580,2719559,2719542,2719550,2740882,2740879,2740845,2740860,2740844,2740843,2719535,2719496,2719497,2719498,2719532,2740961,2740964,2740966,2740969,2740971,2741001,2741020,2741027,2741125,2720417,2720416,2720412,2720408,2720404,2720395,2720388,2720390,2720357,2720354,2720340,2720327,2720309,2720283,2720273,2720261,2720248,2720353,2720343,2720336,2720051,2720049,2720037,2720032,2720066,2720084,2720081,2720080,2720079,2720086,2720083,2720088,2720058,2720045,2720034,2720067,2720063,2720056,2720055,2720043,2719157,2719135,2719134,2719129,2719133,2719130,2719137,2719131,2719124,2719118,2719105,2719102,2719101,2719112,2719132,2719120,2719138,2719125,2719119,2719104]"
   ]
  },
  {
   "cell_type": "code",
   "execution_count": 5,
   "id": "c45fc7f4-1f1b-4641-9176-87b66b874549",
   "metadata": {},
   "outputs": [
    {
     "data": {
      "text/plain": [
       "180"
      ]
     },
     "execution_count": 5,
     "metadata": {},
     "output_type": "execute_result"
    }
   ],
   "source": [
    "len(b)"
   ]
  },
  {
   "cell_type": "code",
   "execution_count": 6,
   "id": "bcbff151-7245-4e9a-a006-e26496e24b95",
   "metadata": {
    "deletable": true,
    "editable": true,
    "frozen": false
   },
   "outputs": [
    {
     "name": "stdout",
     "output_type": "stream",
     "text": [
      "zip_path = 'ok_retest/2718041.zip'\n",
      "zip_path = 'ok_retest/2718010.zip'\n",
      "zip_path = 'ok_retest/2718024.zip'\n",
      "zip_path = 'ok_retest/2718055.zip'\n",
      "zip_path = 'ok_retest/2717998.zip'\n",
      "zip_path = 'ok_retest/2717973.zip'\n",
      "zip_path = 'ok_retest/2717988.zip'\n",
      "zip_path = 'ok_retest/2718073.zip'\n",
      "zip_path = 'ok_retest/2718060.zip'\n",
      "zip_path = 'ok_retest/2718343.zip'\n",
      "zip_path = 'ok_retest/2718058.zip'\n",
      "zip_path = 'ok_retest/2718349.zip'\n",
      "zip_path = 'ok_retest/2718002.zip'\n",
      "zip_path = 'ok_retest/2718540.zip'\n",
      "zip_path = 'ok_retest/2719484.zip'\n",
      "zip_path = 'ok_retest/2719453.zip'\n",
      "zip_path = 'ok_retest/2718003.zip'\n",
      "zip_path = 'ok_retest/2718555.zip'\n",
      "zip_path = 'ok_retest/2719408.zip'\n",
      "zip_path = 'ok_retest/2718348.zip'zip_path = 'ok_retest/2718613.zip'\n",
      "\n",
      "zip_path = 'ok_retest/2718631.zip'\n",
      "zip_path = 'ok_retest/2719420.zip'\n",
      "zip_path = 'ok_retest/2718072.zip'\n",
      "zip_path = 'ok_retest/2720012.zip'\n",
      "zip_path = 'ok_retest/2717942.zip'\n",
      "zip_path = 'ok_retest/2718514.zip'\n",
      "zip_path = 'ok_retest/2718032.zip'\n",
      "zip_path = 'ok_retest/2718031.zip'\n",
      "zip_path = 'ok_retest/2718338.zip'\n",
      "zip_path = 'ok_retest/2718418.zip'\n",
      "zip_path = 'ok_retest/2720009.zip'\n",
      "zip_path = 'ok_retest/2718338.zip'\n",
      "zip_path = 'ok_retest/2718027.zip'\n",
      "zip_path = 'ok_retest/2718038.zip'\n",
      "zip_path = 'ok_retest/2719353.zip'\n",
      "zip_path = 'ok_retest/2718488.zip'\n",
      "zip_path = 'ok_retest/2718045.zip'\n",
      "zip_path = 'ok_retest/2718583.zip'\n",
      "zip_path = 'ok_retest/2719430.zip'\n",
      "zip_path = 'ok_retest/2718860.zip'\n",
      "zip_path = 'ok_retest/2719993.zip'\n",
      "zip_path = 'ok_retest/2718853.zip'\n",
      "zip_path = 'ok_retest/2719431.zip'\n",
      "zip_path = 'ok_retest/2718675.zip'\n",
      "zip_path = 'ok_retest/2718862.zip'\n",
      "zip_path = 'ok_retest/2718026.zip'\n",
      "zip_path = 'ok_retest/2718549.zip'\n",
      "zip_path = 'ok_retest/2719708.zip'\n",
      "zip_path = 'ok_retest/2718952.zip'\n",
      "zip_path = 'ok_retest/2719705.zip'\n",
      "zip_path = 'ok_retest/2719911.zip'\n",
      "zip_path = 'ok_retest/2718351.zip'\n",
      "zip_path = 'ok_retest/2719639.zip'\n",
      "zip_path = 'ok_retest/2718867.zip'\n",
      "zip_path = 'ok_retest/2719494.zip'\n",
      "zip_path = 'ok_retest/2718948.zip'\n",
      "zip_path = 'ok_retest/2718866.zip'\n",
      "zip_path = 'ok_retest/2719541.zip'\n",
      "zip_path = 'ok_retest/2718868.zip'\n",
      "zip_path = 'ok_retest/2718871.zip'\n",
      "zip_path = 'ok_retest/2719480.zip'\n",
      "zip_path = 'ok_retest/2740845.zip'\n",
      "zip_path = 'ok_retest/2719351.zip'\n",
      "zip_path = 'ok_retest/2719580.zip'\n",
      "zip_path = 'ok_retest/2719549.zip'\n",
      "zip_path = 'ok_retest/2719424.zip'\n",
      "zip_path = 'ok_retest/2719543.zip'\n",
      "zip_path = 'ok_retest/2719701.zip'\n",
      "zip_path = 'ok_retest/2719549.zip'\n",
      "zip_path = 'ok_retest/2719498.zip'\n",
      "zip_path = 'ok_retest/2740843.zip'\n",
      "zip_path = 'ok_retest/2740844.zip'\n",
      "zip_path = 'ok_retest/2719496.zip'\n",
      "zip_path = 'ok_retest/2718865.zip'\n",
      "zip_path = 'ok_retest/2740971.zip'\n",
      "zip_path = 'ok_retest/2741001.zip'\n",
      "zip_path = 'ok_retest/2719581.zip'\n",
      "zip_path = 'ok_retest/2718803.zip'\n",
      "zip_path = 'ok_retest/2719542.zip'\n",
      "zip_path = 'ok_retest/2718951.zip'\n",
      "zip_path = 'ok_retest/2719497.zip'\n",
      "zip_path = 'ok_retest/2718352.zip'\n",
      "zip_path = 'ok_retest/2719418.zip'\n",
      "zip_path = 'ok_retest/2720032.zip'\n",
      "zip_path = 'ok_retest/2720080.zip'\n",
      "zip_path = 'ok_retest/2718918.zip'\n",
      "zip_path = 'ok_retest/2718345.zip'\n",
      "zip_path = 'ok_retest/2718793.zip'\n",
      "zip_path = 'ok_retest/2720045.zip'\n",
      "zip_path = 'ok_retest/2740964.zip'\n",
      "zip_path = 'ok_retest/2719871.zip'\n",
      "zip_path = 'ok_retest/2720408.zip'\n",
      "zip_path = 'ok_retest/2740966.zip'\n",
      "zip_path = 'ok_retest/2718937.zip'\n",
      "zip_path = 'ok_retest/2720063.zip'\n",
      "zip_path = 'ok_retest/2718637.zip'\n",
      "zip_path = 'ok_retest/2720034.zip'\n",
      "zip_path = 'ok_retest/2720051.zip'\n",
      "zip_path = 'ok_retest/2720354.zip'\n",
      "zip_path = 'ok_retest/2719548.zip'\n",
      "zip_path = 'ok_retest/2720008.zip'\n",
      "zip_path = 'ok_retest/2720055.zip'\n",
      "zip_path = 'ok_retest/2741027.zip'\n",
      "zip_path = 'ok_retest/2719723.zip'\n",
      "zip_path = 'ok_retest/2718930.zip'\n",
      "zip_path = 'ok_retest/2720043.zip'\n",
      "zip_path = 'ok_retest/2718584.zip'\n",
      "zip_path = 'ok_retest/2720079.zip'\n",
      "zip_path = 'ok_retest/2720037.zip'\n",
      "zip_path = 'ok_retest/2719550.zip'\n",
      "zip_path = 'ok_retest/2720273.zip'\n",
      "zip_path = 'ok_retest/2720261.zip'\n",
      "zip_path = 'ok_retest/2720088.zip'\n",
      "zip_path = 'ok_retest/2720417.zip'\n",
      "zip_path = 'ok_retest/2720395.zip'\n",
      "zip_path = 'ok_retest/2740969.zip'\n",
      "zip_path = 'ok_retest/2720086.zip'\n",
      "zip_path = 'ok_retest/2718805.zip'\n",
      "zip_path = 'ok_retest/2720283.zip'\n",
      "zip_path = 'ok_retest/2720049.zip'\n",
      "zip_path = 'ok_retest/2720357.zip'\n",
      "zip_path = 'ok_retest/2719535.zip'\n",
      "zip_path = 'ok_retest/2720081.zip'\n",
      "zip_path = 'ok_retest/2720336.zip'\n",
      "zip_path = 'ok_retest/2718800.zip'\n",
      "zip_path = 'ok_retest/2720248.zip'\n",
      "zip_path = 'ok_retest/2720066.zip'\n",
      "zip_path = 'ok_retest/2719134.zip'\n",
      "zip_path = 'ok_retest/2719640.zip'\n",
      "zip_path = 'ok_retest/2719532.zip'\n",
      "zip_path = 'ok_retest/2718786.zip'\n",
      "zip_path = 'ok_retest/2719133.zip'\n",
      "zip_path = 'ok_retest/2720416.zip'\n",
      "zip_path = 'ok_retest/2719129.zip'\n",
      "zip_path = 'ok_retest/2719130.zip'\n",
      "zip_path = 'ok_retest/2719157.zip'\n",
      "zip_path = 'ok_retest/2719132.zip'\n",
      "zip_path = 'ok_retest/2719131.zip'\n",
      "zip_path = 'ok_retest/2719124.zip'\n",
      "zip_path = 'ok_retest/2719125.zip'\n",
      "zip_path = 'ok_retest/2741125.zip'\n",
      "zip_path = 'ok_retest/2740879.zip'\n",
      "zip_path = 'ok_retest/2718949.zip'\n",
      "zip_path = 'ok_retest/2720084.zip'\n",
      "zip_path = 'ok_retest/2720390.zip'\n",
      "zip_path = 'ok_retest/2719552.zip'\n",
      "zip_path = 'ok_retest/2719118.zip'\n",
      "zip_path = 'ok_retest/2720058.zip'\n",
      "zip_path = 'ok_retest/2720083.zip'\n",
      "zip_path = 'ok_retest/2719119.zip'\n",
      "zip_path = 'ok_retest/2720067.zip'\n",
      "zip_path = 'ok_retest/2720404.zip'\n",
      "zip_path = 'ok_retest/2740961.zip'\n",
      "zip_path = 'ok_retest/2719120.zip'\n",
      "zip_path = 'ok_retest/2719105.zip'\n",
      "zip_path = 'ok_retest/2720056.zip'\n",
      "zip_path = 'ok_retest/2719102.zip'\n",
      "zip_path = 'ok_retest/2720340.zip'\n",
      "zip_path = 'ok_retest/2719770.zip'\n",
      "zip_path = 'ok_retest/2718650.zip'\n",
      "zip_path = 'ok_retest/2719112.zip'\n",
      "zip_path = 'ok_retest/2719135.zip'\n",
      "zip_path = 'ok_retest/2719101.zip'\n",
      "zip_path = 'ok_retest/2719138.zip'\n",
      "zip_path = 'ok_retest/2719724.zip'\n",
      "zip_path = 'ok_retest/2719832.zip'\n",
      "zip_path = 'ok_retest/2719615.zip'\n",
      "zip_path = 'ok_retest/2719559.zip'\n",
      "zip_path = 'ok_retest/2741020.zip'\n",
      "zip_path = 'ok_retest/2740882.zip'\n",
      "zip_path = 'ok_retest/2720309.zip'\n",
      "zip_path = 'ok_retest/2740860.zip'\n",
      "zip_path = 'ok_retest/2720388.zip'\n",
      "zip_path = 'ok_retest/2720412.zip'\n",
      "zip_path = 'ok_retest/2720343.zip'\n",
      "zip_path = 'ok_retest/2720327.zip'\n",
      "zip_path = 'ok_retest/2719137.zip'\n",
      "zip_path = 'ok_retest/2719104.zip'\n",
      "zip_path = 'ok_retest/2720353.zip'\n"
     ]
    }
   ],
   "source": [
    "with ThreadPoolExecutor(max_workers=200) as exe:\n",
    "    exe.map(helper,b)"
   ]
  },
  {
   "cell_type": "markdown",
   "id": "13b23cab-1baa-4ad3-9e42-a21bc7aa973b",
   "metadata": {
    "deletable": true,
    "editable": true,
    "frozen": false
   },
   "source": [
    "# Serialwise download"
   ]
  },
  {
   "cell_type": "code",
   "execution_count": 3,
   "id": "269adb7b-668e-47ad-b2e8-e39f21cf0946",
   "metadata": {
    "deletable": true,
    "editable": true,
    "frozen": false,
    "scrolled": true
   },
   "outputs": [
    {
     "name": "stdout",
     "output_type": "stream",
     "text": [
      "1 ('ok_retest/53035992.zip', <http.client.HTTPMessage object at 0x00000233AF391C10>)\n",
      "2 ('ok_retest/53035991.zip', <http.client.HTTPMessage object at 0x00000233AFEE5C50>)\n",
      "3 ('ok_retest/53035990.zip', <http.client.HTTPMessage object at 0x00000233B0050BD0>)\n",
      "4 ('ok_retest/52617689.zip', <http.client.HTTPMessage object at 0x00000233B0032CD0>)\n",
      "5 ('ok_retest/52617697.zip', <http.client.HTTPMessage object at 0x00000233B0052250>)\n",
      "6 ('ok_retest/52617698.zip', <http.client.HTTPMessage object at 0x00000233B0050090>)\n",
      "7 ('ok_retest/52617702.zip', <http.client.HTTPMessage object at 0x00000233B0052F10>)\n",
      "8 ('ok_retest/52617708.zip', <http.client.HTTPMessage object at 0x00000233B0050490>)\n",
      "9 ('ok_retest/52617709.zip', <http.client.HTTPMessage object at 0x00000233B0050ED0>)\n",
      "10 ('ok_retest/52617718.zip', <http.client.HTTPMessage object at 0x00000233B0053110>)\n",
      "11 ('ok_retest/53035988.zip', <http.client.HTTPMessage object at 0x00000233B0050990>)\n",
      "12 ('ok_retest/53035987.zip', <http.client.HTTPMessage object at 0x00000233B0051710>)\n",
      "13 ('ok_retest/52617731.zip', <http.client.HTTPMessage object at 0x00000233B0050D50>)\n",
      "14 ('ok_retest/53035981.zip', <http.client.HTTPMessage object at 0x00000233B0051550>)\n",
      "15 ('ok_retest/53035978.zip', <http.client.HTTPMessage object at 0x00000233B0050B10>)\n",
      "16 ('ok_retest/53035974.zip', <http.client.HTTPMessage object at 0x00000233B0052410>)\n",
      "17 ('ok_retest/53035972.zip', <http.client.HTTPMessage object at 0x00000233B0052050>)\n",
      "18 ('ok_retest/53035971.zip', <http.client.HTTPMessage object at 0x00000233B00537D0>)\n",
      "19 ('ok_retest/53035970.zip', <http.client.HTTPMessage object at 0x00000233B0050B90>)\n",
      "20 ('ok_retest/53035968.zip', <http.client.HTTPMessage object at 0x00000233B0021ED0>)\n",
      "21 ('ok_retest/53035962.zip', <http.client.HTTPMessage object at 0x00000233B00230D0>)\n",
      "22 ('ok_retest/53035860.zip', <http.client.HTTPMessage object at 0x00000233B0022C50>)\n",
      "23 ('ok_retest/53035859.zip', <http.client.HTTPMessage object at 0x00000233B00209D0>)\n",
      "24 ('ok_retest/53035857.zip', <http.client.HTTPMessage object at 0x00000233B0021210>)\n",
      "25 ('ok_retest/53035855.zip', <http.client.HTTPMessage object at 0x00000233B00224D0>)\n",
      "26 ('ok_retest/53035854.zip', <http.client.HTTPMessage object at 0x00000233B0020790>)\n",
      "27 ('ok_retest/53035851.zip', <http.client.HTTPMessage object at 0x00000233B0021CD0>)\n",
      "28 ('ok_retest/53035850.zip', <http.client.HTTPMessage object at 0x00000233B0023D50>)\n",
      "29 ('ok_retest/53035848.zip', <http.client.HTTPMessage object at 0x00000233B001AA10>)\n",
      "30 ('ok_retest/53035847.zip', <http.client.HTTPMessage object at 0x00000233B00197D0>)\n",
      "31 ('ok_retest/52880952.zip', <http.client.HTTPMessage object at 0x00000233B0019C50>)\n",
      "32 ('ok_retest/52880948.zip', <http.client.HTTPMessage object at 0x00000233B001B790>)\n",
      "33 ('ok_retest/52880946.zip', <http.client.HTTPMessage object at 0x00000233B001BA50>)\n",
      "34 ('ok_retest/52880945.zip', <http.client.HTTPMessage object at 0x00000233B001B610>)\n",
      "35 ('ok_retest/52880944.zip', <http.client.HTTPMessage object at 0x00000233B001BE90>)\n",
      "36 ('ok_retest/52880943.zip', <http.client.HTTPMessage object at 0x00000233B00194D0>)\n",
      "37 ('ok_retest/52880942.zip', <http.client.HTTPMessage object at 0x00000233B0040BD0>)\n",
      "38 ('ok_retest/52880941.zip', <http.client.HTTPMessage object at 0x00000233B00404D0>)\n",
      "39 ('ok_retest/52880940.zip', <http.client.HTTPMessage object at 0x00000233B0040990>)\n",
      "40 ('ok_retest/52880939.zip', <http.client.HTTPMessage object at 0x00000233B00413D0>)\n",
      "41 ('ok_retest/52880938.zip', <http.client.HTTPMessage object at 0x00000233B0040BD0>)\n",
      "42 ('ok_retest/52880936.zip', <http.client.HTTPMessage object at 0x00000233B0041450>)\n",
      "43 ('ok_retest/52880935.zip', <http.client.HTTPMessage object at 0x00000233B0041410>)\n",
      "44 ('ok_retest/52880933.zip', <http.client.HTTPMessage object at 0x00000233B00413D0>)\n",
      "45 ('ok_retest/52880932.zip', <http.client.HTTPMessage object at 0x00000233B0040D10>)\n",
      "46 ('ok_retest/52880930.zip', <http.client.HTTPMessage object at 0x00000233B0041690>)\n",
      "47 ('ok_retest/52836336.zip', <http.client.HTTPMessage object at 0x00000233B0043590>)\n",
      "48 ('ok_retest/52836335.zip', <http.client.HTTPMessage object at 0x00000233B0042910>)\n",
      "49 ('ok_retest/52836329.zip', <http.client.HTTPMessage object at 0x00000233B0042850>)\n",
      "50 ('ok_retest/52836328.zip', <http.client.HTTPMessage object at 0x00000233B0041F90>)\n",
      "51 ('ok_retest/52836324.zip', <http.client.HTTPMessage object at 0x00000233B0040910>)\n",
      "52 ('ok_retest/52792452.zip', <http.client.HTTPMessage object at 0x00000233B005C990>)\n",
      "53 ('ok_retest/52792448.zip', <http.client.HTTPMessage object at 0x00000233B005D710>)\n",
      "54 ('ok_retest/52792447.zip', <http.client.HTTPMessage object at 0x00000233B005D7D0>)\n",
      "55 ('ok_retest/52792446.zip', <http.client.HTTPMessage object at 0x00000233B005ED50>)\n",
      "56 ('ok_retest/52792444.zip', <http.client.HTTPMessage object at 0x00000233B005FC90>)\n",
      "57 ('ok_retest/52792440.zip', <http.client.HTTPMessage object at 0x00000233B005E410>)\n",
      "58 ('ok_retest/52792439.zip', <http.client.HTTPMessage object at 0x00000233B005C4D0>)\n",
      "59 ('ok_retest/52792438.zip', <http.client.HTTPMessage object at 0x00000233B005E390>)\n",
      "60 ('ok_retest/52792435.zip', <http.client.HTTPMessage object at 0x00000233B005E110>)\n",
      "61 ('ok_retest/52792432.zip', <http.client.HTTPMessage object at 0x00000233B005C650>)\n",
      "62 ('ok_retest/52792431.zip', <http.client.HTTPMessage object at 0x00000233B005C550>)\n",
      "63 ('ok_retest/52792429.zip', <http.client.HTTPMessage object at 0x00000233B005E310>)\n",
      "64 ('ok_retest/52792428.zip', <http.client.HTTPMessage object at 0x00000233B005C890>)\n",
      "65 ('ok_retest/52792421.zip', <http.client.HTTPMessage object at 0x00000233B005EFD0>)\n",
      "66 ('ok_retest/52753419.zip', <http.client.HTTPMessage object at 0x00000233B005D210>)\n",
      "67 ('ok_retest/52753411.zip', <http.client.HTTPMessage object at 0x00000233B005D2D0>)\n",
      "68 ('ok_retest/52753410.zip', <http.client.HTTPMessage object at 0x00000233B005D990>)\n",
      "69 ('ok_retest/52753408.zip', <http.client.HTTPMessage object at 0x00000233B005D450>)\n",
      "70 ('ok_retest/52753407.zip', <http.client.HTTPMessage object at 0x00000233B005DA10>)\n",
      "71 ('ok_retest/52753406.zip', <http.client.HTTPMessage object at 0x00000233B005FD50>)\n",
      "72 ('ok_retest/52753404.zip', <http.client.HTTPMessage object at 0x00000233B005E550>)\n",
      "73 ('ok_retest/52753403.zip', <http.client.HTTPMessage object at 0x00000233B005F250>)\n",
      "74 ('ok_retest/52753401.zip', <http.client.HTTPMessage object at 0x00000233B005D190>)\n",
      "75 ('ok_retest/52753400.zip', <http.client.HTTPMessage object at 0x00000233B005CE90>)\n",
      "76 ('ok_retest/52753398.zip', <http.client.HTTPMessage object at 0x00000233B005EAD0>)\n",
      "77 ('ok_retest/52753397.zip', <http.client.HTTPMessage object at 0x00000233B005F390>)\n",
      "78 ('ok_retest/52753396.zip', <http.client.HTTPMessage object at 0x00000233B005EB10>)\n",
      "79 ('ok_retest/52753395.zip', <http.client.HTTPMessage object at 0x00000233B005E410>)\n",
      "80 ('ok_retest/52753394.zip', <http.client.HTTPMessage object at 0x00000233B005FA10>)\n",
      "81 ('ok_retest/52707381.zip', <http.client.HTTPMessage object at 0x00000233B005E750>)\n",
      "82 ('ok_retest/52707380.zip', <http.client.HTTPMessage object at 0x00000233B005FE10>)\n",
      "83 ('ok_retest/52707379.zip', <http.client.HTTPMessage object at 0x00000233B002F610>)\n",
      "84 ('ok_retest/52707378.zip', <http.client.HTTPMessage object at 0x00000233B005C290>)\n",
      "85 ('ok_retest/52707376.zip', <http.client.HTTPMessage object at 0x00000233B002D510>)\n",
      "86 ('ok_retest/52707374.zip', <http.client.HTTPMessage object at 0x00000233B002D1D0>)\n",
      "87 ('ok_retest/52707373.zip', <http.client.HTTPMessage object at 0x00000233B002FD90>)\n",
      "88 ('ok_retest/52707369.zip', <http.client.HTTPMessage object at 0x00000233B002D0D0>)\n",
      "89 ('ok_retest/52707368.zip', <http.client.HTTPMessage object at 0x00000233B002EBD0>)\n",
      "90 ('ok_retest/52707367.zip', <http.client.HTTPMessage object at 0x00000233B002EE90>)\n",
      "91 ('ok_retest/52667675.zip', <http.client.HTTPMessage object at 0x00000233B002E110>)\n",
      "92 ('ok_retest/52667674.zip', <http.client.HTTPMessage object at 0x00000233B002EFD0>)\n",
      "93 ('ok_retest/52667671.zip', <http.client.HTTPMessage object at 0x00000233B002F050>)\n",
      "94 ('ok_retest/52667669.zip', <http.client.HTTPMessage object at 0x00000233B002F150>)\n",
      "95 ('ok_retest/52667663.zip', <http.client.HTTPMessage object at 0x00000233B002DF90>)\n",
      "96 ('ok_retest/52667662.zip', <http.client.HTTPMessage object at 0x00000233B002CC10>)\n",
      "97 ('ok_retest/52667661.zip', <http.client.HTTPMessage object at 0x00000233B002E690>)\n",
      "98 ('ok_retest/52667658.zip', <http.client.HTTPMessage object at 0x00000233B002CB50>)\n",
      "99 ('ok_retest/52667657.zip', <http.client.HTTPMessage object at 0x00000233B002C390>)\n"
     ]
    }
   ],
   "source": [
    "from urllib.request import urlretrieve\n",
    "\n",
    "for i, batchid in enumerate(b):\n",
    "    k = urlretrieve(rf\"https://clvisiontowerb.kfusw1prd.solutions.corelogic.com/download.php?path=ServerFiles/Pagesanddata/{batchid}/&zip={batchid}.zip&cond=Postprocessing&auto=Off\", f\"ok_retest/{batchid}.zip\")\n",
    "    # k = urlretrieve(\n",
    "    #     rf\"https://dev-ctt-googlevision-clvisiontowerb.kfusw1dev.solutions.corelogic.com/download.php?path=ServerFiles/Pagesanddata/{batchid}/&zip={batchid}.zip&cond=Postprocessing&auto=Off\",\n",
    "    #     f\"ok_retest/{batchid}.zip\",\n",
    "    # )\n",
    "    # k = urlretrieve(\n",
    "    #     rf\"https://uat-clvisiontowerb.kfusw1uat.solutions.corelogic.com/download.php?path=ServerFiles/Pagesanddata/{batchid}/&zip={batchid}.zip&cond=Postprocessing&auto=Off\",\n",
    "    #     f\"{batchid}.zip\",\n",
    "    # )\n",
    "    print(i + 1, k)"
   ]
  },
  {
   "cell_type": "markdown",
   "id": "6abf5891-8798-408f-9b97-d3b3f736e741",
   "metadata": {},
   "source": [
    "# analysis"
   ]
  },
  {
   "cell_type": "code",
   "execution_count": 8,
   "id": "7874e44f-1c38-4b43-b022-cceeb7d73d3a",
   "metadata": {
    "deletable": true,
    "editable": true,
    "frozen": false
   },
   "outputs": [],
   "source": [
    "%load_ext autoreload\n",
    "%autoreload 2"
   ]
  },
  {
   "cell_type": "code",
   "execution_count": 9,
   "id": "967283d1-a247-42c0-b420-17e304c178c6",
   "metadata": {
    "deletable": true,
    "editable": true,
    "frozen": false
   },
   "outputs": [],
   "source": [
    "from rich.console import Console\n",
    "from rich.table import Table\n",
    "from rich.progress import track"
   ]
  },
  {
   "cell_type": "markdown",
   "id": "f37dc28a-323e-4252-8db0-b27d306e25f3",
   "metadata": {
    "deletable": true,
    "editable": true,
    "frozen": false
   },
   "source": [
    "b93 =[2635901,2637159,2637177,2637185,2637187,2637196,2637436,2638213,2638223,2638251,2638256,2638258,2641548,2641560,2641711,2641712,2641794,2641803,2641831,2641834,2641838,2641998,2642449,2642451,2642457,2642458,2642461,2642462,2642484,2642486,2642487,2642493,2642973]"
   ]
  },
  {
   "cell_type": "code",
   "execution_count": 17,
   "id": "d07142f9-5382-489b-b5e5-2c46b676f022",
   "metadata": {
    "deletable": true,
    "editable": true,
    "frozen": false
   },
   "outputs": [
    {
     "data": {
      "application/vnd.jupyter.widget-view+json": {
       "model_id": "3ad4d8c8060141679bac28592068ce37",
       "version_major": 2,
       "version_minor": 0
      },
      "text/plain": [
       "Output()"
      ]
     },
     "metadata": {},
     "output_type": "display_data"
    },
    {
     "data": {
      "text/html": [
       "<pre style=\"white-space:pre;overflow-x:auto;line-height:normal;font-family:Menlo,'DejaVu Sans Mono',consolas,'Courier New',monospace\">\"There is no item named 'spacy.json' in the archive\" 52617689\n",
       "</pre>\n"
      ],
      "text/plain": [
       "\"There is no item named 'spacy.json' in the archive\" 52617689\n"
      ]
     },
     "metadata": {},
     "output_type": "display_data"
    },
    {
     "data": {
      "text/html": [
       "<pre style=\"white-space:pre;overflow-x:auto;line-height:normal;font-family:Menlo,'DejaVu Sans Mono',consolas,'Courier New',monospace\">\"There is no item named 'spacy.json' in the archive\" 52617697\n",
       "</pre>\n"
      ],
      "text/plain": [
       "\"There is no item named 'spacy.json' in the archive\" 52617697\n"
      ]
     },
     "metadata": {},
     "output_type": "display_data"
    },
    {
     "data": {
      "text/html": [
       "<pre style=\"white-space:pre;overflow-x:auto;line-height:normal;font-family:Menlo,'DejaVu Sans Mono',consolas,'Courier New',monospace\">\"There is no item named 'spacy.json' in the archive\" 52617698\n",
       "</pre>\n"
      ],
      "text/plain": [
       "\"There is no item named 'spacy.json' in the archive\" 52617698\n"
      ]
     },
     "metadata": {},
     "output_type": "display_data"
    },
    {
     "data": {
      "text/html": [
       "<pre style=\"white-space:pre;overflow-x:auto;line-height:normal;font-family:Menlo,'DejaVu Sans Mono',consolas,'Courier New',monospace\">\"There is no item named 'spacy.json' in the archive\" 52617702\n",
       "</pre>\n"
      ],
      "text/plain": [
       "\"There is no item named 'spacy.json' in the archive\" 52617702\n"
      ]
     },
     "metadata": {},
     "output_type": "display_data"
    },
    {
     "data": {
      "text/html": [
       "<pre style=\"white-space:pre;overflow-x:auto;line-height:normal;font-family:Menlo,'DejaVu Sans Mono',consolas,'Courier New',monospace\">\"There is no item named 'spacy.json' in the archive\" 52617708\n",
       "</pre>\n"
      ],
      "text/plain": [
       "\"There is no item named 'spacy.json' in the archive\" 52617708\n"
      ]
     },
     "metadata": {},
     "output_type": "display_data"
    },
    {
     "data": {
      "text/html": [
       "<pre style=\"white-space:pre;overflow-x:auto;line-height:normal;font-family:Menlo,'DejaVu Sans Mono',consolas,'Courier New',monospace\">\"There is no item named 'spacy.json' in the archive\" 52617709\n",
       "</pre>\n"
      ],
      "text/plain": [
       "\"There is no item named 'spacy.json' in the archive\" 52617709\n"
      ]
     },
     "metadata": {},
     "output_type": "display_data"
    },
    {
     "data": {
      "text/html": [
       "<pre style=\"white-space:pre;overflow-x:auto;line-height:normal;font-family:Menlo,'DejaVu Sans Mono',consolas,'Courier New',monospace\">\"There is no item named 'spacy.json' in the archive\" 52617718\n",
       "</pre>\n"
      ],
      "text/plain": [
       "\"There is no item named 'spacy.json' in the archive\" 52617718\n"
      ]
     },
     "metadata": {},
     "output_type": "display_data"
    },
    {
     "data": {
      "text/html": [
       "<pre style=\"white-space:pre;overflow-x:auto;line-height:normal;font-family:Menlo,'DejaVu Sans Mono',consolas,'Courier New',monospace\">\"There is no item named 'spacy.json' in the archive\" 52617731\n",
       "</pre>\n"
      ],
      "text/plain": [
       "\"There is no item named 'spacy.json' in the archive\" 52617731\n"
      ]
     },
     "metadata": {},
     "output_type": "display_data"
    },
    {
     "data": {
      "text/html": [
       "<pre style=\"white-space:pre;overflow-x:auto;line-height:normal;font-family:Menlo,'DejaVu Sans Mono',consolas,'Courier New',monospace\">\"There is no item named 'spacy.json' in the archive\" 52667657\n",
       "</pre>\n"
      ],
      "text/plain": [
       "\"There is no item named 'spacy.json' in the archive\" 52667657\n"
      ]
     },
     "metadata": {},
     "output_type": "display_data"
    },
    {
     "data": {
      "text/html": [
       "<pre style=\"white-space:pre;overflow-x:auto;line-height:normal;font-family:Menlo,'DejaVu Sans Mono',consolas,'Courier New',monospace\">\"There is no item named 'spacy.json' in the archive\" 52667658\n",
       "</pre>\n"
      ],
      "text/plain": [
       "\"There is no item named 'spacy.json' in the archive\" 52667658\n"
      ]
     },
     "metadata": {},
     "output_type": "display_data"
    },
    {
     "data": {
      "text/html": [
       "<pre style=\"white-space:pre;overflow-x:auto;line-height:normal;font-family:Menlo,'DejaVu Sans Mono',consolas,'Courier New',monospace\">\"There is no item named 'spacy.json' in the archive\" 52667661\n",
       "</pre>\n"
      ],
      "text/plain": [
       "\"There is no item named 'spacy.json' in the archive\" 52667661\n"
      ]
     },
     "metadata": {},
     "output_type": "display_data"
    },
    {
     "data": {
      "text/html": [
       "<pre style=\"white-space:pre;overflow-x:auto;line-height:normal;font-family:Menlo,'DejaVu Sans Mono',consolas,'Courier New',monospace\">\"There is no item named 'spacy.json' in the archive\" 52667662\n",
       "</pre>\n"
      ],
      "text/plain": [
       "\"There is no item named 'spacy.json' in the archive\" 52667662\n"
      ]
     },
     "metadata": {},
     "output_type": "display_data"
    },
    {
     "data": {
      "text/html": [
       "<pre style=\"white-space:pre;overflow-x:auto;line-height:normal;font-family:Menlo,'DejaVu Sans Mono',consolas,'Courier New',monospace\">\"There is no item named 'spacy.json' in the archive\" 52667663\n",
       "</pre>\n"
      ],
      "text/plain": [
       "\"There is no item named 'spacy.json' in the archive\" 52667663\n"
      ]
     },
     "metadata": {},
     "output_type": "display_data"
    },
    {
     "data": {
      "text/html": [
       "<pre style=\"white-space:pre;overflow-x:auto;line-height:normal;font-family:Menlo,'DejaVu Sans Mono',consolas,'Courier New',monospace\">\"There is no item named 'spacy.json' in the archive\" 52667669\n",
       "</pre>\n"
      ],
      "text/plain": [
       "\"There is no item named 'spacy.json' in the archive\" 52667669\n"
      ]
     },
     "metadata": {},
     "output_type": "display_data"
    },
    {
     "data": {
      "text/html": [
       "<pre style=\"white-space:pre;overflow-x:auto;line-height:normal;font-family:Menlo,'DejaVu Sans Mono',consolas,'Courier New',monospace\">\"There is no item named 'spacy.json' in the archive\" 52667671\n",
       "</pre>\n"
      ],
      "text/plain": [
       "\"There is no item named 'spacy.json' in the archive\" 52667671\n"
      ]
     },
     "metadata": {},
     "output_type": "display_data"
    },
    {
     "data": {
      "text/html": [
       "<pre style=\"white-space:pre;overflow-x:auto;line-height:normal;font-family:Menlo,'DejaVu Sans Mono',consolas,'Courier New',monospace\">\"There is no item named 'spacy.json' in the archive\" 52667674\n",
       "</pre>\n"
      ],
      "text/plain": [
       "\"There is no item named 'spacy.json' in the archive\" 52667674\n"
      ]
     },
     "metadata": {},
     "output_type": "display_data"
    },
    {
     "data": {
      "text/html": [
       "<pre style=\"white-space:pre;overflow-x:auto;line-height:normal;font-family:Menlo,'DejaVu Sans Mono',consolas,'Courier New',monospace\">\"There is no item named 'spacy.json' in the archive\" 52667675\n",
       "</pre>\n"
      ],
      "text/plain": [
       "\"There is no item named 'spacy.json' in the archive\" 52667675\n"
      ]
     },
     "metadata": {},
     "output_type": "display_data"
    },
    {
     "data": {
      "text/html": [
       "<pre style=\"white-space:pre;overflow-x:auto;line-height:normal;font-family:Menlo,'DejaVu Sans Mono',consolas,'Courier New',monospace\">\"There is no item named 'spacy.json' in the archive\" 52707367\n",
       "</pre>\n"
      ],
      "text/plain": [
       "\"There is no item named 'spacy.json' in the archive\" 52707367\n"
      ]
     },
     "metadata": {},
     "output_type": "display_data"
    },
    {
     "data": {
      "text/html": [
       "<pre style=\"white-space:pre;overflow-x:auto;line-height:normal;font-family:Menlo,'DejaVu Sans Mono',consolas,'Courier New',monospace\">\"There is no item named 'spacy.json' in the archive\" 52707368\n",
       "</pre>\n"
      ],
      "text/plain": [
       "\"There is no item named 'spacy.json' in the archive\" 52707368\n"
      ]
     },
     "metadata": {},
     "output_type": "display_data"
    },
    {
     "data": {
      "text/html": [
       "<pre style=\"white-space:pre;overflow-x:auto;line-height:normal;font-family:Menlo,'DejaVu Sans Mono',consolas,'Courier New',monospace\">\"There is no item named 'spacy.json' in the archive\" 52707369\n",
       "</pre>\n"
      ],
      "text/plain": [
       "\"There is no item named 'spacy.json' in the archive\" 52707369\n"
      ]
     },
     "metadata": {},
     "output_type": "display_data"
    },
    {
     "data": {
      "text/html": [
       "<pre style=\"white-space:pre;overflow-x:auto;line-height:normal;font-family:Menlo,'DejaVu Sans Mono',consolas,'Courier New',monospace\">\"There is no item named 'spacy.json' in the archive\" 52707373\n",
       "</pre>\n"
      ],
      "text/plain": [
       "\"There is no item named 'spacy.json' in the archive\" 52707373\n"
      ]
     },
     "metadata": {},
     "output_type": "display_data"
    },
    {
     "data": {
      "text/html": [
       "<pre style=\"white-space:pre;overflow-x:auto;line-height:normal;font-family:Menlo,'DejaVu Sans Mono',consolas,'Courier New',monospace\">\"There is no item named 'spacy.json' in the archive\" 52707374\n",
       "</pre>\n"
      ],
      "text/plain": [
       "\"There is no item named 'spacy.json' in the archive\" 52707374\n"
      ]
     },
     "metadata": {},
     "output_type": "display_data"
    },
    {
     "data": {
      "text/html": [
       "<pre style=\"white-space:pre;overflow-x:auto;line-height:normal;font-family:Menlo,'DejaVu Sans Mono',consolas,'Courier New',monospace\">\"There is no item named 'spacy.json' in the archive\" 52707376\n",
       "</pre>\n"
      ],
      "text/plain": [
       "\"There is no item named 'spacy.json' in the archive\" 52707376\n"
      ]
     },
     "metadata": {},
     "output_type": "display_data"
    },
    {
     "data": {
      "text/html": [
       "<pre style=\"white-space:pre;overflow-x:auto;line-height:normal;font-family:Menlo,'DejaVu Sans Mono',consolas,'Courier New',monospace\">\"There is no item named 'spacy.json' in the archive\" 52707378\n",
       "</pre>\n"
      ],
      "text/plain": [
       "\"There is no item named 'spacy.json' in the archive\" 52707378\n"
      ]
     },
     "metadata": {},
     "output_type": "display_data"
    },
    {
     "data": {
      "text/html": [
       "<pre style=\"white-space:pre;overflow-x:auto;line-height:normal;font-family:Menlo,'DejaVu Sans Mono',consolas,'Courier New',monospace\">\"There is no item named 'spacy.json' in the archive\" 52707379\n",
       "</pre>\n"
      ],
      "text/plain": [
       "\"There is no item named 'spacy.json' in the archive\" 52707379\n"
      ]
     },
     "metadata": {},
     "output_type": "display_data"
    },
    {
     "data": {
      "text/html": [
       "<pre style=\"white-space:pre;overflow-x:auto;line-height:normal;font-family:Menlo,'DejaVu Sans Mono',consolas,'Courier New',monospace\">\"There is no item named 'spacy.json' in the archive\" 52707380\n",
       "</pre>\n"
      ],
      "text/plain": [
       "\"There is no item named 'spacy.json' in the archive\" 52707380\n"
      ]
     },
     "metadata": {},
     "output_type": "display_data"
    },
    {
     "data": {
      "text/html": [
       "<pre style=\"white-space:pre;overflow-x:auto;line-height:normal;font-family:Menlo,'DejaVu Sans Mono',consolas,'Courier New',monospace\">\"There is no item named 'spacy.json' in the archive\" 52707381\n",
       "</pre>\n"
      ],
      "text/plain": [
       "\"There is no item named 'spacy.json' in the archive\" 52707381\n"
      ]
     },
     "metadata": {},
     "output_type": "display_data"
    },
    {
     "data": {
      "text/html": [
       "<pre style=\"white-space:pre;overflow-x:auto;line-height:normal;font-family:Menlo,'DejaVu Sans Mono',consolas,'Courier New',monospace\">\"There is no item named 'spacy.json' in the archive\" 52753394\n",
       "</pre>\n"
      ],
      "text/plain": [
       "\"There is no item named 'spacy.json' in the archive\" 52753394\n"
      ]
     },
     "metadata": {},
     "output_type": "display_data"
    },
    {
     "data": {
      "text/html": [
       "<pre style=\"white-space:pre;overflow-x:auto;line-height:normal;font-family:Menlo,'DejaVu Sans Mono',consolas,'Courier New',monospace\">\"There is no item named 'spacy.json' in the archive\" 52753395\n",
       "</pre>\n"
      ],
      "text/plain": [
       "\"There is no item named 'spacy.json' in the archive\" 52753395\n"
      ]
     },
     "metadata": {},
     "output_type": "display_data"
    },
    {
     "data": {
      "text/html": [
       "<pre style=\"white-space:pre;overflow-x:auto;line-height:normal;font-family:Menlo,'DejaVu Sans Mono',consolas,'Courier New',monospace\">\"There is no item named 'spacy.json' in the archive\" 52753396\n",
       "</pre>\n"
      ],
      "text/plain": [
       "\"There is no item named 'spacy.json' in the archive\" 52753396\n"
      ]
     },
     "metadata": {},
     "output_type": "display_data"
    },
    {
     "data": {
      "text/html": [
       "<pre style=\"white-space:pre;overflow-x:auto;line-height:normal;font-family:Menlo,'DejaVu Sans Mono',consolas,'Courier New',monospace\">\"There is no item named 'spacy.json' in the archive\" 52753397\n",
       "</pre>\n"
      ],
      "text/plain": [
       "\"There is no item named 'spacy.json' in the archive\" 52753397\n"
      ]
     },
     "metadata": {},
     "output_type": "display_data"
    },
    {
     "data": {
      "text/html": [
       "<pre style=\"white-space:pre;overflow-x:auto;line-height:normal;font-family:Menlo,'DejaVu Sans Mono',consolas,'Courier New',monospace\">\"There is no item named 'spacy.json' in the archive\" 52753398\n",
       "</pre>\n"
      ],
      "text/plain": [
       "\"There is no item named 'spacy.json' in the archive\" 52753398\n"
      ]
     },
     "metadata": {},
     "output_type": "display_data"
    },
    {
     "data": {
      "text/html": [
       "<pre style=\"white-space:pre;overflow-x:auto;line-height:normal;font-family:Menlo,'DejaVu Sans Mono',consolas,'Courier New',monospace\">\"There is no item named 'spacy.json' in the archive\" 52753400\n",
       "</pre>\n"
      ],
      "text/plain": [
       "\"There is no item named 'spacy.json' in the archive\" 52753400\n"
      ]
     },
     "metadata": {},
     "output_type": "display_data"
    },
    {
     "data": {
      "text/html": [
       "<pre style=\"white-space:pre;overflow-x:auto;line-height:normal;font-family:Menlo,'DejaVu Sans Mono',consolas,'Courier New',monospace\">\"There is no item named 'spacy.json' in the archive\" 52753401\n",
       "</pre>\n"
      ],
      "text/plain": [
       "\"There is no item named 'spacy.json' in the archive\" 52753401\n"
      ]
     },
     "metadata": {},
     "output_type": "display_data"
    },
    {
     "data": {
      "text/html": [
       "<pre style=\"white-space:pre;overflow-x:auto;line-height:normal;font-family:Menlo,'DejaVu Sans Mono',consolas,'Courier New',monospace\">\"There is no item named 'spacy.json' in the archive\" 52753403\n",
       "</pre>\n"
      ],
      "text/plain": [
       "\"There is no item named 'spacy.json' in the archive\" 52753403\n"
      ]
     },
     "metadata": {},
     "output_type": "display_data"
    },
    {
     "data": {
      "text/html": [
       "<pre style=\"white-space:pre;overflow-x:auto;line-height:normal;font-family:Menlo,'DejaVu Sans Mono',consolas,'Courier New',monospace\">\"There is no item named 'spacy.json' in the archive\" 52753404\n",
       "</pre>\n"
      ],
      "text/plain": [
       "\"There is no item named 'spacy.json' in the archive\" 52753404\n"
      ]
     },
     "metadata": {},
     "output_type": "display_data"
    },
    {
     "data": {
      "text/html": [
       "<pre style=\"white-space:pre;overflow-x:auto;line-height:normal;font-family:Menlo,'DejaVu Sans Mono',consolas,'Courier New',monospace\">\"There is no item named 'spacy.json' in the archive\" 52753406\n",
       "</pre>\n"
      ],
      "text/plain": [
       "\"There is no item named 'spacy.json' in the archive\" 52753406\n"
      ]
     },
     "metadata": {},
     "output_type": "display_data"
    },
    {
     "data": {
      "text/html": [
       "<pre style=\"white-space:pre;overflow-x:auto;line-height:normal;font-family:Menlo,'DejaVu Sans Mono',consolas,'Courier New',monospace\">\"There is no item named 'spacy.json' in the archive\" 52753407\n",
       "</pre>\n"
      ],
      "text/plain": [
       "\"There is no item named 'spacy.json' in the archive\" 52753407\n"
      ]
     },
     "metadata": {},
     "output_type": "display_data"
    },
    {
     "data": {
      "text/html": [
       "<pre style=\"white-space:pre;overflow-x:auto;line-height:normal;font-family:Menlo,'DejaVu Sans Mono',consolas,'Courier New',monospace\">\"There is no item named 'spacy.json' in the archive\" 52753408\n",
       "</pre>\n"
      ],
      "text/plain": [
       "\"There is no item named 'spacy.json' in the archive\" 52753408\n"
      ]
     },
     "metadata": {},
     "output_type": "display_data"
    },
    {
     "data": {
      "text/html": [
       "<pre style=\"white-space:pre;overflow-x:auto;line-height:normal;font-family:Menlo,'DejaVu Sans Mono',consolas,'Courier New',monospace\">\"There is no item named 'spacy.json' in the archive\" 52753410\n",
       "</pre>\n"
      ],
      "text/plain": [
       "\"There is no item named 'spacy.json' in the archive\" 52753410\n"
      ]
     },
     "metadata": {},
     "output_type": "display_data"
    },
    {
     "data": {
      "text/html": [
       "<pre style=\"white-space:pre;overflow-x:auto;line-height:normal;font-family:Menlo,'DejaVu Sans Mono',consolas,'Courier New',monospace\">\"There is no item named 'spacy.json' in the archive\" 52753411\n",
       "</pre>\n"
      ],
      "text/plain": [
       "\"There is no item named 'spacy.json' in the archive\" 52753411\n"
      ]
     },
     "metadata": {},
     "output_type": "display_data"
    },
    {
     "data": {
      "text/html": [
       "<pre style=\"white-space:pre;overflow-x:auto;line-height:normal;font-family:Menlo,'DejaVu Sans Mono',consolas,'Courier New',monospace\">\"There is no item named 'spacy.json' in the archive\" 52753419\n",
       "</pre>\n"
      ],
      "text/plain": [
       "\"There is no item named 'spacy.json' in the archive\" 52753419\n"
      ]
     },
     "metadata": {},
     "output_type": "display_data"
    },
    {
     "data": {
      "text/html": [
       "<pre style=\"white-space:pre;overflow-x:auto;line-height:normal;font-family:Menlo,'DejaVu Sans Mono',consolas,'Courier New',monospace\"></pre>\n"
      ],
      "text/plain": []
     },
     "metadata": {},
     "output_type": "display_data"
    },
    {
     "data": {
      "text/html": [
       "<pre style=\"white-space:pre;overflow-x:auto;line-height:normal;font-family:Menlo,'DejaVu Sans Mono',consolas,'Courier New',monospace\">\n",
       "</pre>\n"
      ],
      "text/plain": [
       "\n"
      ]
     },
     "metadata": {},
     "output_type": "display_data"
    },
    {
     "data": {
      "text/html": [
       "<pre style=\"white-space:pre;overflow-x:auto;line-height:normal;font-family:Menlo,'DejaVu Sans Mono',consolas,'Courier New',monospace\"><span style=\"font-style: italic\">                                                      KY set2                                                      </span>\n",
       "┏━━━━━━━━┳━━━━━━━━━━┳━━━━━━━━━┳━━━━━━━━━━┳━━━━━━━━━┳━━━━━━━━━━┳━━━━━━━━━┳━━━━━━━━━━┳━━━━━━━━━┳━━━━━━━━━━┳━━━━━━━━━┓\n",
       "┃<span style=\"font-weight: bold\"> S. No. </span>┃<span style=\"font-weight: bold\">  Batchid </span>┃<span style=\"font-weight: bold\"> 6-keye… </span>┃<span style=\"font-weight: bold\"> 6-spacy… </span>┃<span style=\"font-weight: bold\"> 6-matc… </span>┃<span style=\"font-weight: bold\"> 92-keye… </span>┃<span style=\"font-weight: bold\"> 92-spa… </span>┃<span style=\"font-weight: bold\"> 92-matc… </span>┃<span style=\"font-weight: bold\"> 93-key… </span>┃<span style=\"font-weight: bold\"> 93-spac… </span>┃<span style=\"font-weight: bold\"> 93-mat… </span>┃\n",
       "┡━━━━━━━━╇━━━━━━━━━━╇━━━━━━━━━╇━━━━━━━━━━╇━━━━━━━━━╇━━━━━━━━━━╇━━━━━━━━━╇━━━━━━━━━━╇━━━━━━━━━╇━━━━━━━━━━╇━━━━━━━━━┩\n",
       "│<span style=\"color: #008080; text-decoration-color: #008080\">     43 </span>│<span style=\"color: #008080; text-decoration-color: #008080\"> 52792421 </span>│<span style=\"color: #008080; text-decoration-color: #008080\"> 032520… </span>│<span style=\"color: #800080; text-decoration-color: #800080\">          </span>│<span style=\"color: #008000; text-decoration-color: #008000\">   False </span>│<span style=\"color: #008080; text-decoration-color: #008080\">      858 </span>│<span style=\"color: #800080; text-decoration-color: #800080\"> 858     </span>│<span style=\"color: #008000; text-decoration-color: #008000\">     True </span>│<span style=\"color: #008080; text-decoration-color: #008080\">     282 </span>│<span style=\"color: #800080; text-decoration-color: #800080\">          </span>│<span style=\"color: #008000; text-decoration-color: #008000\">   False </span>│\n",
       "│<span style=\"color: #008080; text-decoration-color: #008080\">     44 </span>│<span style=\"color: #008080; text-decoration-color: #008080\"> 52792428 </span>│<span style=\"color: #008080; text-decoration-color: #008080\"> 032520… </span>│<span style=\"color: #800080; text-decoration-color: #800080\">          </span>│<span style=\"color: #008000; text-decoration-color: #008000\">   False </span>│<span style=\"color: #008080; text-decoration-color: #008080\">     1557 </span>│<span style=\"color: #800080; text-decoration-color: #800080\"> 1557    </span>│<span style=\"color: #008000; text-decoration-color: #008000\">     True </span>│<span style=\"color: #008080; text-decoration-color: #008080\">      10 </span>│<span style=\"color: #800080; text-decoration-color: #800080\">          </span>│<span style=\"color: #008000; text-decoration-color: #008000\">   False </span>│\n",
       "│<span style=\"color: #008080; text-decoration-color: #008080\">     45 </span>│<span style=\"color: #008080; text-decoration-color: #008080\"> 52792429 </span>│<span style=\"color: #008080; text-decoration-color: #008080\"> 032520… </span>│<span style=\"color: #800080; text-decoration-color: #800080\">          </span>│<span style=\"color: #008000; text-decoration-color: #008000\">   False </span>│<span style=\"color: #008080; text-decoration-color: #008080\">      858 </span>│<span style=\"color: #800080; text-decoration-color: #800080\"> 858     </span>│<span style=\"color: #008000; text-decoration-color: #008000\">     True </span>│<span style=\"color: #008080; text-decoration-color: #008080\">     289 </span>│<span style=\"color: #800080; text-decoration-color: #800080\">          </span>│<span style=\"color: #008000; text-decoration-color: #008000\">   False </span>│\n",
       "│<span style=\"color: #008080; text-decoration-color: #008080\">     46 </span>│<span style=\"color: #008080; text-decoration-color: #008080\"> 52792431 </span>│<span style=\"color: #008080; text-decoration-color: #008080\"> 032520… </span>│<span style=\"color: #800080; text-decoration-color: #800080\">          </span>│<span style=\"color: #008000; text-decoration-color: #008000\">   False </span>│<span style=\"color: #008080; text-decoration-color: #008080\">      287 </span>│<span style=\"color: #800080; text-decoration-color: #800080\"> 287     </span>│<span style=\"color: #008000; text-decoration-color: #008000\">     True </span>│<span style=\"color: #008080; text-decoration-color: #008080\">      25 </span>│<span style=\"color: #800080; text-decoration-color: #800080\">          </span>│<span style=\"color: #008000; text-decoration-color: #008000\">   False </span>│\n",
       "│<span style=\"color: #008080; text-decoration-color: #008080\">     47 </span>│<span style=\"color: #008080; text-decoration-color: #008080\"> 52792432 </span>│<span style=\"color: #008080; text-decoration-color: #008080\"> 032520… </span>│<span style=\"color: #800080; text-decoration-color: #800080\">          </span>│<span style=\"color: #008000; text-decoration-color: #008000\">   False </span>│<span style=\"color: #008080; text-decoration-color: #008080\">      287 </span>│<span style=\"color: #800080; text-decoration-color: #800080\">         </span>│<span style=\"color: #008000; text-decoration-color: #008000\">    False </span>│<span style=\"color: #008080; text-decoration-color: #008080\">      26 </span>│<span style=\"color: #800080; text-decoration-color: #800080\">          </span>│<span style=\"color: #008000; text-decoration-color: #008000\">   False </span>│\n",
       "│<span style=\"color: #008080; text-decoration-color: #008080\">     48 </span>│<span style=\"color: #008080; text-decoration-color: #008080\"> 52792435 </span>│<span style=\"color: #008080; text-decoration-color: #008080\"> 032520… </span>│<span style=\"color: #800080; text-decoration-color: #800080\"> 03252024 </span>│<span style=\"color: #008000; text-decoration-color: #008000\">    True </span>│<span style=\"color: #008080; text-decoration-color: #008080\">      287 </span>│<span style=\"color: #800080; text-decoration-color: #800080\"> 287     </span>│<span style=\"color: #008000; text-decoration-color: #008000\">     True </span>│<span style=\"color: #008080; text-decoration-color: #008080\">      30 </span>│<span style=\"color: #800080; text-decoration-color: #800080\">          </span>│<span style=\"color: #008000; text-decoration-color: #008000\">   False </span>│\n",
       "│<span style=\"color: #008080; text-decoration-color: #008080\">     49 </span>│<span style=\"color: #008080; text-decoration-color: #008080\"> 52792438 </span>│<span style=\"color: #008080; text-decoration-color: #008080\"> 032520… </span>│<span style=\"color: #800080; text-decoration-color: #800080\"> 03252024 </span>│<span style=\"color: #008000; text-decoration-color: #008000\">    True </span>│<span style=\"color: #008080; text-decoration-color: #008080\">      858 </span>│<span style=\"color: #800080; text-decoration-color: #800080\"> 858     </span>│<span style=\"color: #008000; text-decoration-color: #008000\">     True </span>│<span style=\"color: #008080; text-decoration-color: #008080\">     296 </span>│<span style=\"color: #800080; text-decoration-color: #800080\">          </span>│<span style=\"color: #008000; text-decoration-color: #008000\">   False </span>│\n",
       "│<span style=\"color: #008080; text-decoration-color: #008080\">     50 </span>│<span style=\"color: #008080; text-decoration-color: #008080\"> 52792439 </span>│<span style=\"color: #008080; text-decoration-color: #008080\"> 032520… </span>│<span style=\"color: #800080; text-decoration-color: #800080\"> 03252024 </span>│<span style=\"color: #008000; text-decoration-color: #008000\">    True </span>│<span style=\"color: #008080; text-decoration-color: #008080\">      858 </span>│<span style=\"color: #800080; text-decoration-color: #800080\"> 858     </span>│<span style=\"color: #008000; text-decoration-color: #008000\">     True </span>│<span style=\"color: #008080; text-decoration-color: #008080\">     300 </span>│<span style=\"color: #800080; text-decoration-color: #800080\">          </span>│<span style=\"color: #008000; text-decoration-color: #008000\">   False </span>│\n",
       "│<span style=\"color: #008080; text-decoration-color: #008080\">     51 </span>│<span style=\"color: #008080; text-decoration-color: #008080\"> 52792440 </span>│<span style=\"color: #008080; text-decoration-color: #008080\"> 032520… </span>│<span style=\"color: #800080; text-decoration-color: #800080\"> 03252024 </span>│<span style=\"color: #008000; text-decoration-color: #008000\">    True </span>│<span style=\"color: #008080; text-decoration-color: #008080\">      858 </span>│<span style=\"color: #800080; text-decoration-color: #800080\"> 858     </span>│<span style=\"color: #008000; text-decoration-color: #008000\">     True </span>│<span style=\"color: #008080; text-decoration-color: #008080\">     303 </span>│<span style=\"color: #800080; text-decoration-color: #800080\">          </span>│<span style=\"color: #008000; text-decoration-color: #008000\">   False </span>│\n",
       "│<span style=\"color: #008080; text-decoration-color: #008080\">     52 </span>│<span style=\"color: #008080; text-decoration-color: #008080\"> 52792444 </span>│<span style=\"color: #008080; text-decoration-color: #008080\"> 032520… </span>│<span style=\"color: #800080; text-decoration-color: #800080\"> 03252024 </span>│<span style=\"color: #008000; text-decoration-color: #008000\">    True </span>│<span style=\"color: #008080; text-decoration-color: #008080\">      858 </span>│<span style=\"color: #800080; text-decoration-color: #800080\"> 858     </span>│<span style=\"color: #008000; text-decoration-color: #008000\">     True </span>│<span style=\"color: #008080; text-decoration-color: #008080\">     307 </span>│<span style=\"color: #800080; text-decoration-color: #800080\">          </span>│<span style=\"color: #008000; text-decoration-color: #008000\">   False </span>│\n",
       "│<span style=\"color: #008080; text-decoration-color: #008080\">     53 </span>│<span style=\"color: #008080; text-decoration-color: #008080\"> 52792446 </span>│<span style=\"color: #008080; text-decoration-color: #008080\"> 032520… </span>│<span style=\"color: #800080; text-decoration-color: #800080\"> 03252024 </span>│<span style=\"color: #008000; text-decoration-color: #008000\">    True </span>│<span style=\"color: #008080; text-decoration-color: #008080\">      858 </span>│<span style=\"color: #800080; text-decoration-color: #800080\"> 858     </span>│<span style=\"color: #008000; text-decoration-color: #008000\">     True </span>│<span style=\"color: #008080; text-decoration-color: #008080\">     313 </span>│<span style=\"color: #800080; text-decoration-color: #800080\">          </span>│<span style=\"color: #008000; text-decoration-color: #008000\">   False </span>│\n",
       "│<span style=\"color: #008080; text-decoration-color: #008080\">     54 </span>│<span style=\"color: #008080; text-decoration-color: #008080\"> 52792447 </span>│<span style=\"color: #008080; text-decoration-color: #008080\"> 032520… </span>│<span style=\"color: #800080; text-decoration-color: #800080\"> 03252024 </span>│<span style=\"color: #008000; text-decoration-color: #008000\">    True </span>│<span style=\"color: #008080; text-decoration-color: #008080\">     1557 </span>│<span style=\"color: #800080; text-decoration-color: #800080\"> 1557    </span>│<span style=\"color: #008000; text-decoration-color: #008000\">     True </span>│<span style=\"color: #008080; text-decoration-color: #008080\">      44 </span>│<span style=\"color: #800080; text-decoration-color: #800080\">          </span>│<span style=\"color: #008000; text-decoration-color: #008000\">   False </span>│\n",
       "│<span style=\"color: #008080; text-decoration-color: #008080\">     55 </span>│<span style=\"color: #008080; text-decoration-color: #008080\"> 52792448 </span>│<span style=\"color: #008080; text-decoration-color: #008080\"> 032520… </span>│<span style=\"color: #800080; text-decoration-color: #800080\"> 03252024 </span>│<span style=\"color: #008000; text-decoration-color: #008000\">    True </span>│<span style=\"color: #008080; text-decoration-color: #008080\">      858 </span>│<span style=\"color: #800080; text-decoration-color: #800080\"> 858     </span>│<span style=\"color: #008000; text-decoration-color: #008000\">     True </span>│<span style=\"color: #008080; text-decoration-color: #008080\">     318 </span>│<span style=\"color: #800080; text-decoration-color: #800080\">          </span>│<span style=\"color: #008000; text-decoration-color: #008000\">   False </span>│\n",
       "│<span style=\"color: #008080; text-decoration-color: #008080\">     56 </span>│<span style=\"color: #008080; text-decoration-color: #008080\"> 52792452 </span>│<span style=\"color: #008080; text-decoration-color: #008080\"> 032520… </span>│<span style=\"color: #800080; text-decoration-color: #800080\">          </span>│<span style=\"color: #008000; text-decoration-color: #008000\">   False </span>│<span style=\"color: #008080; text-decoration-color: #008080\">      858 </span>│<span style=\"color: #800080; text-decoration-color: #800080\"> 858     </span>│<span style=\"color: #008000; text-decoration-color: #008000\">     True </span>│<span style=\"color: #008080; text-decoration-color: #008080\">     321 </span>│<span style=\"color: #800080; text-decoration-color: #800080\">          </span>│<span style=\"color: #008000; text-decoration-color: #008000\">   False </span>│\n",
       "│<span style=\"color: #008080; text-decoration-color: #008080\">     57 </span>│<span style=\"color: #008080; text-decoration-color: #008080\"> 52836324 </span>│<span style=\"color: #008080; text-decoration-color: #008080\"> 032620… </span>│<span style=\"color: #800080; text-decoration-color: #800080\">          </span>│<span style=\"color: #008000; text-decoration-color: #008000\">   False </span>│<span style=\"color: #008080; text-decoration-color: #008080\">      858 </span>│<span style=\"color: #800080; text-decoration-color: #800080\"> 858     </span>│<span style=\"color: #008000; text-decoration-color: #008000\">     True </span>│<span style=\"color: #008080; text-decoration-color: #008080\">     323 </span>│<span style=\"color: #800080; text-decoration-color: #800080\">          </span>│<span style=\"color: #008000; text-decoration-color: #008000\">   False </span>│\n",
       "│<span style=\"color: #008080; text-decoration-color: #008080\">     58 </span>│<span style=\"color: #008080; text-decoration-color: #008080\"> 52836328 </span>│<span style=\"color: #008080; text-decoration-color: #008080\"> 032620… </span>│<span style=\"color: #800080; text-decoration-color: #800080\">          </span>│<span style=\"color: #008000; text-decoration-color: #008000\">   False </span>│<span style=\"color: #008080; text-decoration-color: #008080\">      287 </span>│<span style=\"color: #800080; text-decoration-color: #800080\"> 287     </span>│<span style=\"color: #008000; text-decoration-color: #008000\">     True </span>│<span style=\"color: #008080; text-decoration-color: #008080\">      31 </span>│<span style=\"color: #800080; text-decoration-color: #800080\">          </span>│<span style=\"color: #008000; text-decoration-color: #008000\">   False </span>│\n",
       "│<span style=\"color: #008080; text-decoration-color: #008080\">     59 </span>│<span style=\"color: #008080; text-decoration-color: #008080\"> 52836329 </span>│<span style=\"color: #008080; text-decoration-color: #008080\"> 032620… </span>│<span style=\"color: #800080; text-decoration-color: #800080\">          </span>│<span style=\"color: #008000; text-decoration-color: #008000\">   False </span>│<span style=\"color: #008080; text-decoration-color: #008080\">      287 </span>│<span style=\"color: #800080; text-decoration-color: #800080\"> 287     </span>│<span style=\"color: #008000; text-decoration-color: #008000\">     True </span>│<span style=\"color: #008080; text-decoration-color: #008080\">      32 </span>│<span style=\"color: #800080; text-decoration-color: #800080\">          </span>│<span style=\"color: #008000; text-decoration-color: #008000\">   False </span>│\n",
       "│<span style=\"color: #008080; text-decoration-color: #008080\">     60 </span>│<span style=\"color: #008080; text-decoration-color: #008080\"> 52836335 </span>│<span style=\"color: #008080; text-decoration-color: #008080\"> 032620… </span>│<span style=\"color: #800080; text-decoration-color: #800080\"> 03262024 </span>│<span style=\"color: #008000; text-decoration-color: #008000\">    True </span>│<span style=\"color: #008080; text-decoration-color: #008080\">      287 </span>│<span style=\"color: #800080; text-decoration-color: #800080\"> 287     </span>│<span style=\"color: #008000; text-decoration-color: #008000\">     True </span>│<span style=\"color: #008080; text-decoration-color: #008080\">      37 </span>│<span style=\"color: #800080; text-decoration-color: #800080\">          </span>│<span style=\"color: #008000; text-decoration-color: #008000\">   False </span>│\n",
       "│<span style=\"color: #008080; text-decoration-color: #008080\">     61 </span>│<span style=\"color: #008080; text-decoration-color: #008080\"> 52836336 </span>│<span style=\"color: #008080; text-decoration-color: #008080\"> 032620… </span>│<span style=\"color: #800080; text-decoration-color: #800080\"> 03262024 </span>│<span style=\"color: #008000; text-decoration-color: #008000\">    True </span>│<span style=\"color: #008080; text-decoration-color: #008080\">      102 </span>│<span style=\"color: #800080; text-decoration-color: #800080\"> 102     </span>│<span style=\"color: #008000; text-decoration-color: #008000\">     True </span>│<span style=\"color: #008080; text-decoration-color: #008080\">     323 </span>│<span style=\"color: #800080; text-decoration-color: #800080\">          </span>│<span style=\"color: #008000; text-decoration-color: #008000\">   False </span>│\n",
       "│<span style=\"color: #008080; text-decoration-color: #008080\">     62 </span>│<span style=\"color: #008080; text-decoration-color: #008080\"> 52880930 </span>│<span style=\"color: #008080; text-decoration-color: #008080\"> 032720… </span>│<span style=\"color: #800080; text-decoration-color: #800080\"> 03272024 </span>│<span style=\"color: #008000; text-decoration-color: #008000\">    True </span>│<span style=\"color: #008080; text-decoration-color: #008080\">      287 </span>│<span style=\"color: #800080; text-decoration-color: #800080\"> 287     </span>│<span style=\"color: #008000; text-decoration-color: #008000\">     True </span>│<span style=\"color: #008080; text-decoration-color: #008080\">     441 </span>│<span style=\"color: #800080; text-decoration-color: #800080\">          </span>│<span style=\"color: #008000; text-decoration-color: #008000\">   False </span>│\n",
       "│<span style=\"color: #008080; text-decoration-color: #008080\">     63 </span>│<span style=\"color: #008080; text-decoration-color: #008080\"> 52880932 </span>│<span style=\"color: #008080; text-decoration-color: #008080\"> 032720… </span>│<span style=\"color: #800080; text-decoration-color: #800080\">          </span>│<span style=\"color: #008000; text-decoration-color: #008000\">   False </span>│<span style=\"color: #008080; text-decoration-color: #008080\">      287 </span>│<span style=\"color: #800080; text-decoration-color: #800080\"> 287     </span>│<span style=\"color: #008000; text-decoration-color: #008000\">     True </span>│<span style=\"color: #008080; text-decoration-color: #008080\">      46 </span>│<span style=\"color: #800080; text-decoration-color: #800080\">          </span>│<span style=\"color: #008000; text-decoration-color: #008000\">   False </span>│\n",
       "│<span style=\"color: #008080; text-decoration-color: #008080\">     64 </span>│<span style=\"color: #008080; text-decoration-color: #008080\"> 52880933 </span>│<span style=\"color: #008080; text-decoration-color: #008080\"> 032720… </span>│<span style=\"color: #800080; text-decoration-color: #800080\"> 03272024 </span>│<span style=\"color: #008000; text-decoration-color: #008000\">    True </span>│<span style=\"color: #008080; text-decoration-color: #008080\">     1557 </span>│<span style=\"color: #800080; text-decoration-color: #800080\"> 1557    </span>│<span style=\"color: #008000; text-decoration-color: #008000\">     True </span>│<span style=\"color: #008080; text-decoration-color: #008080\">     126 </span>│<span style=\"color: #800080; text-decoration-color: #800080\">          </span>│<span style=\"color: #008000; text-decoration-color: #008000\">   False </span>│\n",
       "│<span style=\"color: #008080; text-decoration-color: #008080\">     65 </span>│<span style=\"color: #008080; text-decoration-color: #008080\"> 52880935 </span>│<span style=\"color: #008080; text-decoration-color: #008080\"> 032720… </span>│<span style=\"color: #800080; text-decoration-color: #800080\">          </span>│<span style=\"color: #008000; text-decoration-color: #008000\">   False </span>│<span style=\"color: #008080; text-decoration-color: #008080\">      287 </span>│<span style=\"color: #800080; text-decoration-color: #800080\"> 1219    </span>│<span style=\"color: #008000; text-decoration-color: #008000\">    False </span>│<span style=\"color: #008080; text-decoration-color: #008080\">      49 </span>│<span style=\"color: #800080; text-decoration-color: #800080\">          </span>│<span style=\"color: #008000; text-decoration-color: #008000\">   False </span>│\n",
       "│<span style=\"color: #008080; text-decoration-color: #008080\">     66 </span>│<span style=\"color: #008080; text-decoration-color: #008080\"> 52880936 </span>│<span style=\"color: #008080; text-decoration-color: #008080\"> 032720… </span>│<span style=\"color: #800080; text-decoration-color: #800080\">          </span>│<span style=\"color: #008000; text-decoration-color: #008000\">   False </span>│<span style=\"color: #008080; text-decoration-color: #008080\">      287 </span>│<span style=\"color: #800080; text-decoration-color: #800080\"> 287     </span>│<span style=\"color: #008000; text-decoration-color: #008000\">     True </span>│<span style=\"color: #008080; text-decoration-color: #008080\">      61 </span>│<span style=\"color: #800080; text-decoration-color: #800080\">          </span>│<span style=\"color: #008000; text-decoration-color: #008000\">   False </span>│\n",
       "│<span style=\"color: #008080; text-decoration-color: #008080\">     67 </span>│<span style=\"color: #008080; text-decoration-color: #008080\"> 52880938 </span>│<span style=\"color: #008080; text-decoration-color: #008080\"> 031920… </span>│<span style=\"color: #800080; text-decoration-color: #800080\">          </span>│<span style=\"color: #008000; text-decoration-color: #008000\">   False </span>│<span style=\"color: #008080; text-decoration-color: #008080\">      287 </span>│<span style=\"color: #800080; text-decoration-color: #800080\"> 287     </span>│<span style=\"color: #008000; text-decoration-color: #008000\">     True </span>│<span style=\"color: #008080; text-decoration-color: #008080\">      55 </span>│<span style=\"color: #800080; text-decoration-color: #800080\">          </span>│<span style=\"color: #008000; text-decoration-color: #008000\">   False </span>│\n",
       "│<span style=\"color: #008080; text-decoration-color: #008080\">     68 </span>│<span style=\"color: #008080; text-decoration-color: #008080\"> 52880939 </span>│<span style=\"color: #008080; text-decoration-color: #008080\"> 032720… </span>│<span style=\"color: #800080; text-decoration-color: #800080\">          </span>│<span style=\"color: #008000; text-decoration-color: #008000\">   False </span>│<span style=\"color: #008080; text-decoration-color: #008080\">      287 </span>│<span style=\"color: #800080; text-decoration-color: #800080\"> 287     </span>│<span style=\"color: #008000; text-decoration-color: #008000\">     True </span>│<span style=\"color: #008080; text-decoration-color: #008080\">      57 </span>│<span style=\"color: #800080; text-decoration-color: #800080\">          </span>│<span style=\"color: #008000; text-decoration-color: #008000\">   False </span>│\n",
       "│<span style=\"color: #008080; text-decoration-color: #008080\">     69 </span>│<span style=\"color: #008080; text-decoration-color: #008080\"> 52880940 </span>│<span style=\"color: #008080; text-decoration-color: #008080\"> 032720… </span>│<span style=\"color: #800080; text-decoration-color: #800080\"> 03272024 </span>│<span style=\"color: #008000; text-decoration-color: #008000\">    True </span>│<span style=\"color: #008080; text-decoration-color: #008080\">      287 </span>│<span style=\"color: #800080; text-decoration-color: #800080\"> 287     </span>│<span style=\"color: #008000; text-decoration-color: #008000\">     True </span>│<span style=\"color: #008080; text-decoration-color: #008080\">      59 </span>│<span style=\"color: #800080; text-decoration-color: #800080\">          </span>│<span style=\"color: #008000; text-decoration-color: #008000\">   False </span>│\n",
       "│<span style=\"color: #008080; text-decoration-color: #008080\">     70 </span>│<span style=\"color: #008080; text-decoration-color: #008080\"> 52880941 </span>│<span style=\"color: #008080; text-decoration-color: #008080\"> 032720… </span>│<span style=\"color: #800080; text-decoration-color: #800080\"> 03272024 </span>│<span style=\"color: #008000; text-decoration-color: #008000\">    True </span>│<span style=\"color: #008080; text-decoration-color: #008080\">      858 </span>│<span style=\"color: #800080; text-decoration-color: #800080\"> 858     </span>│<span style=\"color: #008000; text-decoration-color: #008000\">     True </span>│<span style=\"color: #008080; text-decoration-color: #008080\">     337 </span>│<span style=\"color: #800080; text-decoration-color: #800080\">          </span>│<span style=\"color: #008000; text-decoration-color: #008000\">   False </span>│\n",
       "│<span style=\"color: #008080; text-decoration-color: #008080\">     71 </span>│<span style=\"color: #008080; text-decoration-color: #008080\"> 52880942 </span>│<span style=\"color: #008080; text-decoration-color: #008080\"> 032720… </span>│<span style=\"color: #800080; text-decoration-color: #800080\">          </span>│<span style=\"color: #008000; text-decoration-color: #008000\">   False </span>│<span style=\"color: #008080; text-decoration-color: #008080\">     1557 </span>│<span style=\"color: #800080; text-decoration-color: #800080\"> 1557    </span>│<span style=\"color: #008000; text-decoration-color: #008000\">     True </span>│<span style=\"color: #008080; text-decoration-color: #008080\">     132 </span>│<span style=\"color: #800080; text-decoration-color: #800080\">          </span>│<span style=\"color: #008000; text-decoration-color: #008000\">   False </span>│\n",
       "│<span style=\"color: #008080; text-decoration-color: #008080\">     72 </span>│<span style=\"color: #008080; text-decoration-color: #008080\"> 52880943 </span>│<span style=\"color: #008080; text-decoration-color: #008080\"> 032720… </span>│<span style=\"color: #800080; text-decoration-color: #800080\">          </span>│<span style=\"color: #008000; text-decoration-color: #008000\">   False </span>│<span style=\"color: #008080; text-decoration-color: #008080\">      858 </span>│<span style=\"color: #800080; text-decoration-color: #800080\"> 858     </span>│<span style=\"color: #008000; text-decoration-color: #008000\">     True </span>│<span style=\"color: #008080; text-decoration-color: #008080\">     342 </span>│<span style=\"color: #800080; text-decoration-color: #800080\">          </span>│<span style=\"color: #008000; text-decoration-color: #008000\">   False </span>│\n",
       "│<span style=\"color: #008080; text-decoration-color: #008080\">     73 </span>│<span style=\"color: #008080; text-decoration-color: #008080\"> 52880944 </span>│<span style=\"color: #008080; text-decoration-color: #008080\"> 032720… </span>│<span style=\"color: #800080; text-decoration-color: #800080\"> 03272024 </span>│<span style=\"color: #008000; text-decoration-color: #008000\">    True </span>│<span style=\"color: #008080; text-decoration-color: #008080\">     1557 </span>│<span style=\"color: #800080; text-decoration-color: #800080\"> 1557    </span>│<span style=\"color: #008000; text-decoration-color: #008000\">     True </span>│<span style=\"color: #008080; text-decoration-color: #008080\">     156 </span>│<span style=\"color: #800080; text-decoration-color: #800080\">          </span>│<span style=\"color: #008000; text-decoration-color: #008000\">   False </span>│\n",
       "│<span style=\"color: #008080; text-decoration-color: #008080\">     74 </span>│<span style=\"color: #008080; text-decoration-color: #008080\"> 52880945 </span>│<span style=\"color: #008080; text-decoration-color: #008080\"> 032720… </span>│<span style=\"color: #800080; text-decoration-color: #800080\"> 03272024 </span>│<span style=\"color: #008000; text-decoration-color: #008000\">    True </span>│<span style=\"color: #008080; text-decoration-color: #008080\">      858 </span>│<span style=\"color: #800080; text-decoration-color: #800080\"> 858     </span>│<span style=\"color: #008000; text-decoration-color: #008000\">     True </span>│<span style=\"color: #008080; text-decoration-color: #008080\">     346 </span>│<span style=\"color: #800080; text-decoration-color: #800080\">          </span>│<span style=\"color: #008000; text-decoration-color: #008000\">   False </span>│\n",
       "│<span style=\"color: #008080; text-decoration-color: #008080\">     75 </span>│<span style=\"color: #008080; text-decoration-color: #008080\"> 52880946 </span>│<span style=\"color: #008080; text-decoration-color: #008080\"> 032720… </span>│<span style=\"color: #800080; text-decoration-color: #800080\"> 03272024 </span>│<span style=\"color: #008000; text-decoration-color: #008000\">    True </span>│<span style=\"color: #008080; text-decoration-color: #008080\">      858 </span>│<span style=\"color: #800080; text-decoration-color: #800080\"> 858     </span>│<span style=\"color: #008000; text-decoration-color: #008000\">     True </span>│<span style=\"color: #008080; text-decoration-color: #008080\">     349 </span>│<span style=\"color: #800080; text-decoration-color: #800080\">          </span>│<span style=\"color: #008000; text-decoration-color: #008000\">   False </span>│\n",
       "│<span style=\"color: #008080; text-decoration-color: #008080\">     76 </span>│<span style=\"color: #008080; text-decoration-color: #008080\"> 52880948 </span>│<span style=\"color: #008080; text-decoration-color: #008080\"> 032720… </span>│<span style=\"color: #800080; text-decoration-color: #800080\">          </span>│<span style=\"color: #008000; text-decoration-color: #008000\">   False </span>│<span style=\"color: #008080; text-decoration-color: #008080\">     1557 </span>│<span style=\"color: #800080; text-decoration-color: #800080\"> 1557    </span>│<span style=\"color: #008000; text-decoration-color: #008000\">     True </span>│<span style=\"color: #008080; text-decoration-color: #008080\">     179 </span>│<span style=\"color: #800080; text-decoration-color: #800080\">          </span>│<span style=\"color: #008000; text-decoration-color: #008000\">   False </span>│\n",
       "│<span style=\"color: #008080; text-decoration-color: #008080\">     77 </span>│<span style=\"color: #008080; text-decoration-color: #008080\"> 52880952 </span>│<span style=\"color: #008080; text-decoration-color: #008080\"> 032720… </span>│<span style=\"color: #800080; text-decoration-color: #800080\"> 03272024 </span>│<span style=\"color: #008000; text-decoration-color: #008000\">    True </span>│<span style=\"color: #008080; text-decoration-color: #008080\">      287 </span>│<span style=\"color: #800080; text-decoration-color: #800080\"> 287     </span>│<span style=\"color: #008000; text-decoration-color: #008000\">     True </span>│<span style=\"color: #008080; text-decoration-color: #008080\">      61 </span>│<span style=\"color: #800080; text-decoration-color: #800080\">          </span>│<span style=\"color: #008000; text-decoration-color: #008000\">   False </span>│\n",
       "│<span style=\"color: #008080; text-decoration-color: #008080\">     78 </span>│<span style=\"color: #008080; text-decoration-color: #008080\"> 53035847 </span>│<span style=\"color: #008080; text-decoration-color: #008080\"> 040120… </span>│<span style=\"color: #800080; text-decoration-color: #800080\">          </span>│<span style=\"color: #008000; text-decoration-color: #008000\">   False </span>│<span style=\"color: #008080; text-decoration-color: #008080\">      102 </span>│<span style=\"color: #800080; text-decoration-color: #800080\"> 102     </span>│<span style=\"color: #008000; text-decoration-color: #008000\">     True </span>│<span style=\"color: #008080; text-decoration-color: #008080\">     333 </span>│<span style=\"color: #800080; text-decoration-color: #800080\">          </span>│<span style=\"color: #008000; text-decoration-color: #008000\">   False </span>│\n",
       "│<span style=\"color: #008080; text-decoration-color: #008080\">     79 </span>│<span style=\"color: #008080; text-decoration-color: #008080\"> 53035848 </span>│<span style=\"color: #008080; text-decoration-color: #008080\"> 040120… </span>│<span style=\"color: #800080; text-decoration-color: #800080\">          </span>│<span style=\"color: #008000; text-decoration-color: #008000\">   False </span>│<span style=\"color: #008080; text-decoration-color: #008080\">      102 </span>│<span style=\"color: #800080; text-decoration-color: #800080\"> 102     </span>│<span style=\"color: #008000; text-decoration-color: #008000\">     True </span>│<span style=\"color: #008080; text-decoration-color: #008080\">     337 </span>│<span style=\"color: #800080; text-decoration-color: #800080\">          </span>│<span style=\"color: #008000; text-decoration-color: #008000\">   False </span>│\n",
       "│<span style=\"color: #008080; text-decoration-color: #008080\">     80 </span>│<span style=\"color: #008080; text-decoration-color: #008080\"> 53035850 </span>│<span style=\"color: #008080; text-decoration-color: #008080\"> 040120… </span>│<span style=\"color: #800080; text-decoration-color: #800080\">          </span>│<span style=\"color: #008000; text-decoration-color: #008000\">   False </span>│<span style=\"color: #008080; text-decoration-color: #008080\">     1557 </span>│<span style=\"color: #800080; text-decoration-color: #800080\"> 1557    </span>│<span style=\"color: #008000; text-decoration-color: #008000\">     True </span>│<span style=\"color: #008080; text-decoration-color: #008080\">     428 </span>│<span style=\"color: #800080; text-decoration-color: #800080\">          </span>│<span style=\"color: #008000; text-decoration-color: #008000\">   False </span>│\n",
       "│<span style=\"color: #008080; text-decoration-color: #008080\">     81 </span>│<span style=\"color: #008080; text-decoration-color: #008080\"> 53035851 </span>│<span style=\"color: #008080; text-decoration-color: #008080\"> 040120… </span>│<span style=\"color: #800080; text-decoration-color: #800080\">          </span>│<span style=\"color: #008000; text-decoration-color: #008000\">   False </span>│<span style=\"color: #008080; text-decoration-color: #008080\">      858 </span>│<span style=\"color: #800080; text-decoration-color: #800080\"> 858     </span>│<span style=\"color: #008000; text-decoration-color: #008000\">     True </span>│<span style=\"color: #008080; text-decoration-color: #008080\">     394 </span>│<span style=\"color: #800080; text-decoration-color: #800080\">          </span>│<span style=\"color: #008000; text-decoration-color: #008000\">   False </span>│\n",
       "│<span style=\"color: #008080; text-decoration-color: #008080\">     82 </span>│<span style=\"color: #008080; text-decoration-color: #008080\"> 53035854 </span>│<span style=\"color: #008080; text-decoration-color: #008080\"> 040120… </span>│<span style=\"color: #800080; text-decoration-color: #800080\">          </span>│<span style=\"color: #008000; text-decoration-color: #008000\">   False </span>│<span style=\"color: #008080; text-decoration-color: #008080\">      858 </span>│<span style=\"color: #800080; text-decoration-color: #800080\"> 858     </span>│<span style=\"color: #008000; text-decoration-color: #008000\">     True </span>│<span style=\"color: #008080; text-decoration-color: #008080\">     400 </span>│<span style=\"color: #800080; text-decoration-color: #800080\">          </span>│<span style=\"color: #008000; text-decoration-color: #008000\">   False </span>│\n",
       "│<span style=\"color: #008080; text-decoration-color: #008080\">     83 </span>│<span style=\"color: #008080; text-decoration-color: #008080\"> 53035855 </span>│<span style=\"color: #008080; text-decoration-color: #008080\"> 040120… </span>│<span style=\"color: #800080; text-decoration-color: #800080\">          </span>│<span style=\"color: #008000; text-decoration-color: #008000\">   False </span>│<span style=\"color: #008080; text-decoration-color: #008080\">      858 </span>│<span style=\"color: #800080; text-decoration-color: #800080\"> 858     </span>│<span style=\"color: #008000; text-decoration-color: #008000\">     True </span>│<span style=\"color: #008080; text-decoration-color: #008080\">     410 </span>│<span style=\"color: #800080; text-decoration-color: #800080\">          </span>│<span style=\"color: #008000; text-decoration-color: #008000\">   False </span>│\n",
       "│<span style=\"color: #008080; text-decoration-color: #008080\">     84 </span>│<span style=\"color: #008080; text-decoration-color: #008080\"> 53035857 </span>│<span style=\"color: #008080; text-decoration-color: #008080\"> 040120… </span>│<span style=\"color: #800080; text-decoration-color: #800080\">          </span>│<span style=\"color: #008000; text-decoration-color: #008000\">   False </span>│<span style=\"color: #008080; text-decoration-color: #008080\">      858 </span>│<span style=\"color: #800080; text-decoration-color: #800080\"> 858     </span>│<span style=\"color: #008000; text-decoration-color: #008000\">     True </span>│<span style=\"color: #008080; text-decoration-color: #008080\">     418 </span>│<span style=\"color: #800080; text-decoration-color: #800080\">          </span>│<span style=\"color: #008000; text-decoration-color: #008000\">   False </span>│\n",
       "│<span style=\"color: #008080; text-decoration-color: #008080\">     85 </span>│<span style=\"color: #008080; text-decoration-color: #008080\"> 53035859 </span>│<span style=\"color: #008080; text-decoration-color: #008080\"> 040120… </span>│<span style=\"color: #800080; text-decoration-color: #800080\">          </span>│<span style=\"color: #008000; text-decoration-color: #008000\">   False </span>│<span style=\"color: #008080; text-decoration-color: #008080\">      858 </span>│<span style=\"color: #800080; text-decoration-color: #800080\"> 858     </span>│<span style=\"color: #008000; text-decoration-color: #008000\">     True </span>│<span style=\"color: #008080; text-decoration-color: #008080\">     422 </span>│<span style=\"color: #800080; text-decoration-color: #800080\">          </span>│<span style=\"color: #008000; text-decoration-color: #008000\">   False </span>│\n",
       "│<span style=\"color: #008080; text-decoration-color: #008080\">     86 </span>│<span style=\"color: #008080; text-decoration-color: #008080\"> 53035860 </span>│<span style=\"color: #008080; text-decoration-color: #008080\"> 040120… </span>│<span style=\"color: #800080; text-decoration-color: #800080\">          </span>│<span style=\"color: #008000; text-decoration-color: #008000\">   False </span>│<span style=\"color: #008080; text-decoration-color: #008080\">      858 </span>│<span style=\"color: #800080; text-decoration-color: #800080\"> 858     </span>│<span style=\"color: #008000; text-decoration-color: #008000\">     True </span>│<span style=\"color: #008080; text-decoration-color: #008080\">     427 </span>│<span style=\"color: #800080; text-decoration-color: #800080\">          </span>│<span style=\"color: #008000; text-decoration-color: #008000\">   False </span>│\n",
       "│<span style=\"color: #008080; text-decoration-color: #008080\">     87 </span>│<span style=\"color: #008080; text-decoration-color: #008080\"> 53035962 </span>│<span style=\"color: #008080; text-decoration-color: #008080\"> 032820… </span>│<span style=\"color: #800080; text-decoration-color: #800080\"> 03282024 </span>│<span style=\"color: #008000; text-decoration-color: #008000\">    True </span>│<span style=\"color: #008080; text-decoration-color: #008080\">      287 </span>│<span style=\"color: #800080; text-decoration-color: #800080\"> 287     </span>│<span style=\"color: #008000; text-decoration-color: #008000\">     True </span>│<span style=\"color: #008080; text-decoration-color: #008080\">      63 </span>│<span style=\"color: #800080; text-decoration-color: #800080\">          </span>│<span style=\"color: #008000; text-decoration-color: #008000\">   False </span>│\n",
       "│<span style=\"color: #008080; text-decoration-color: #008080\">     88 </span>│<span style=\"color: #008080; text-decoration-color: #008080\"> 53035968 </span>│<span style=\"color: #008080; text-decoration-color: #008080\"> 032820… </span>│<span style=\"color: #800080; text-decoration-color: #800080\">          </span>│<span style=\"color: #008000; text-decoration-color: #008000\">   False </span>│<span style=\"color: #008080; text-decoration-color: #008080\">      858 </span>│<span style=\"color: #800080; text-decoration-color: #800080\"> 858     </span>│<span style=\"color: #008000; text-decoration-color: #008000\">     True </span>│<span style=\"color: #008080; text-decoration-color: #008080\">     352 </span>│<span style=\"color: #800080; text-decoration-color: #800080\">          </span>│<span style=\"color: #008000; text-decoration-color: #008000\">   False </span>│\n",
       "│<span style=\"color: #008080; text-decoration-color: #008080\">     89 </span>│<span style=\"color: #008080; text-decoration-color: #008080\"> 53035970 </span>│<span style=\"color: #008080; text-decoration-color: #008080\"> 032820… </span>│<span style=\"color: #800080; text-decoration-color: #800080\">          </span>│<span style=\"color: #008000; text-decoration-color: #008000\">   False </span>│<span style=\"color: #008080; text-decoration-color: #008080\">     1557 </span>│<span style=\"color: #800080; text-decoration-color: #800080\"> 1557    </span>│<span style=\"color: #008000; text-decoration-color: #008000\">     True </span>│<span style=\"color: #008080; text-decoration-color: #008080\">     260 </span>│<span style=\"color: #800080; text-decoration-color: #800080\">          </span>│<span style=\"color: #008000; text-decoration-color: #008000\">   False </span>│\n",
       "│<span style=\"color: #008080; text-decoration-color: #008080\">     90 </span>│<span style=\"color: #008080; text-decoration-color: #008080\"> 53035971 </span>│<span style=\"color: #008080; text-decoration-color: #008080\"> 032820… </span>│<span style=\"color: #800080; text-decoration-color: #800080\">          </span>│<span style=\"color: #008000; text-decoration-color: #008000\">   False </span>│<span style=\"color: #008080; text-decoration-color: #008080\">      858 </span>│<span style=\"color: #800080; text-decoration-color: #800080\"> 858     </span>│<span style=\"color: #008000; text-decoration-color: #008000\">     True </span>│<span style=\"color: #008080; text-decoration-color: #008080\">     367 </span>│<span style=\"color: #800080; text-decoration-color: #800080\">          </span>│<span style=\"color: #008000; text-decoration-color: #008000\">   False </span>│\n",
       "│<span style=\"color: #008080; text-decoration-color: #008080\">     91 </span>│<span style=\"color: #008080; text-decoration-color: #008080\"> 53035972 </span>│<span style=\"color: #008080; text-decoration-color: #008080\"> 032820… </span>│<span style=\"color: #800080; text-decoration-color: #800080\">          </span>│<span style=\"color: #008000; text-decoration-color: #008000\">   False </span>│<span style=\"color: #008080; text-decoration-color: #008080\">     1557 </span>│<span style=\"color: #800080; text-decoration-color: #800080\"> 1557    </span>│<span style=\"color: #008000; text-decoration-color: #008000\">     True </span>│<span style=\"color: #008080; text-decoration-color: #008080\">     265 </span>│<span style=\"color: #800080; text-decoration-color: #800080\">          </span>│<span style=\"color: #008000; text-decoration-color: #008000\">   False </span>│\n",
       "│<span style=\"color: #008080; text-decoration-color: #008080\">     92 </span>│<span style=\"color: #008080; text-decoration-color: #008080\"> 53035974 </span>│<span style=\"color: #008080; text-decoration-color: #008080\"> 032820… </span>│<span style=\"color: #800080; text-decoration-color: #800080\">          </span>│<span style=\"color: #008000; text-decoration-color: #008000\">   False </span>│<span style=\"color: #008080; text-decoration-color: #008080\">     1557 </span>│<span style=\"color: #800080; text-decoration-color: #800080\"> 285     </span>│<span style=\"color: #008000; text-decoration-color: #008000\">    False </span>│<span style=\"color: #008080; text-decoration-color: #008080\">     285 </span>│<span style=\"color: #800080; text-decoration-color: #800080\">          </span>│<span style=\"color: #008000; text-decoration-color: #008000\">   False </span>│\n",
       "│<span style=\"color: #008080; text-decoration-color: #008080\">     93 </span>│<span style=\"color: #008080; text-decoration-color: #008080\"> 53035978 </span>│<span style=\"color: #008080; text-decoration-color: #008080\"> 032820… </span>│<span style=\"color: #800080; text-decoration-color: #800080\"> 03282024 </span>│<span style=\"color: #008000; text-decoration-color: #008000\">    True </span>│<span style=\"color: #008080; text-decoration-color: #008080\">      858 </span>│<span style=\"color: #800080; text-decoration-color: #800080\"> 858     </span>│<span style=\"color: #008000; text-decoration-color: #008000\">     True </span>│<span style=\"color: #008080; text-decoration-color: #008080\">     371 </span>│<span style=\"color: #800080; text-decoration-color: #800080\">          </span>│<span style=\"color: #008000; text-decoration-color: #008000\">   False </span>│\n",
       "│<span style=\"color: #008080; text-decoration-color: #008080\">     94 </span>│<span style=\"color: #008080; text-decoration-color: #008080\"> 53035981 </span>│<span style=\"color: #008080; text-decoration-color: #008080\"> 032820… </span>│<span style=\"color: #800080; text-decoration-color: #800080\"> 03282024 </span>│<span style=\"color: #008000; text-decoration-color: #008000\">    True </span>│<span style=\"color: #008080; text-decoration-color: #008080\">     1657 </span>│<span style=\"color: #800080; text-decoration-color: #800080\"> 1557    </span>│<span style=\"color: #008000; text-decoration-color: #008000\">    False </span>│<span style=\"color: #008080; text-decoration-color: #008080\">     348 </span>│<span style=\"color: #800080; text-decoration-color: #800080\">          </span>│<span style=\"color: #008000; text-decoration-color: #008000\">   False </span>│\n",
       "│<span style=\"color: #008080; text-decoration-color: #008080\">     95 </span>│<span style=\"color: #008080; text-decoration-color: #008080\"> 53035987 </span>│<span style=\"color: #008080; text-decoration-color: #008080\"> 032820… </span>│<span style=\"color: #800080; text-decoration-color: #800080\">          </span>│<span style=\"color: #008000; text-decoration-color: #008000\">   False </span>│<span style=\"color: #008080; text-decoration-color: #008080\">      858 </span>│<span style=\"color: #800080; text-decoration-color: #800080\"> 858     </span>│<span style=\"color: #008000; text-decoration-color: #008000\">     True </span>│<span style=\"color: #008080; text-decoration-color: #008080\">     375 </span>│<span style=\"color: #800080; text-decoration-color: #800080\">          </span>│<span style=\"color: #008000; text-decoration-color: #008000\">   False </span>│\n",
       "│<span style=\"color: #008080; text-decoration-color: #008080\">     96 </span>│<span style=\"color: #008080; text-decoration-color: #008080\"> 53035988 </span>│<span style=\"color: #008080; text-decoration-color: #008080\"> 032820… </span>│<span style=\"color: #800080; text-decoration-color: #800080\">          </span>│<span style=\"color: #008000; text-decoration-color: #008000\">   False </span>│<span style=\"color: #008080; text-decoration-color: #008080\">      858 </span>│<span style=\"color: #800080; text-decoration-color: #800080\"> 858     </span>│<span style=\"color: #008000; text-decoration-color: #008000\">     True </span>│<span style=\"color: #008080; text-decoration-color: #008080\">     378 </span>│<span style=\"color: #800080; text-decoration-color: #800080\">          </span>│<span style=\"color: #008000; text-decoration-color: #008000\">   False </span>│\n",
       "│<span style=\"color: #008080; text-decoration-color: #008080\">     97 </span>│<span style=\"color: #008080; text-decoration-color: #008080\"> 53035990 </span>│<span style=\"color: #008080; text-decoration-color: #008080\"> 032820… </span>│<span style=\"color: #800080; text-decoration-color: #800080\">          </span>│<span style=\"color: #008000; text-decoration-color: #008000\">   False </span>│<span style=\"color: #008080; text-decoration-color: #008080\">      858 </span>│<span style=\"color: #800080; text-decoration-color: #800080\"> 858     </span>│<span style=\"color: #008000; text-decoration-color: #008000\">     True </span>│<span style=\"color: #008080; text-decoration-color: #008080\">     382 </span>│<span style=\"color: #800080; text-decoration-color: #800080\">          </span>│<span style=\"color: #008000; text-decoration-color: #008000\">   False </span>│\n",
       "│<span style=\"color: #008080; text-decoration-color: #008080\">     98 </span>│<span style=\"color: #008080; text-decoration-color: #008080\"> 53035991 </span>│<span style=\"color: #008080; text-decoration-color: #008080\"> 032820… </span>│<span style=\"color: #800080; text-decoration-color: #800080\">          </span>│<span style=\"color: #008000; text-decoration-color: #008000\">   False </span>│<span style=\"color: #008080; text-decoration-color: #008080\">      858 </span>│<span style=\"color: #800080; text-decoration-color: #800080\"> 858     </span>│<span style=\"color: #008000; text-decoration-color: #008000\">     True </span>│<span style=\"color: #008080; text-decoration-color: #008080\">     386 </span>│<span style=\"color: #800080; text-decoration-color: #800080\">          </span>│<span style=\"color: #008000; text-decoration-color: #008000\">   False </span>│\n",
       "│<span style=\"color: #008080; text-decoration-color: #008080\">     99 </span>│<span style=\"color: #008080; text-decoration-color: #008080\"> 53035992 </span>│<span style=\"color: #008080; text-decoration-color: #008080\"> 032820… </span>│<span style=\"color: #800080; text-decoration-color: #800080\">          </span>│<span style=\"color: #008000; text-decoration-color: #008000\">   False </span>│<span style=\"color: #008080; text-decoration-color: #008080\">     1567 </span>│<span style=\"color: #800080; text-decoration-color: #800080\"> 1557    </span>│<span style=\"color: #008000; text-decoration-color: #008000\">    False </span>│<span style=\"color: #008080; text-decoration-color: #008080\">     395 </span>│<span style=\"color: #800080; text-decoration-color: #800080\">          </span>│<span style=\"color: #008000; text-decoration-color: #008000\">   False </span>│\n",
       "└────────┴──────────┴─────────┴──────────┴─────────┴──────────┴─────────┴──────────┴─────────┴──────────┴─────────┘\n",
       "</pre>\n"
      ],
      "text/plain": [
       "\u001b[3m                                                      KY set2                                                      \u001b[0m\n",
       "┏━━━━━━━━┳━━━━━━━━━━┳━━━━━━━━━┳━━━━━━━━━━┳━━━━━━━━━┳━━━━━━━━━━┳━━━━━━━━━┳━━━━━━━━━━┳━━━━━━━━━┳━━━━━━━━━━┳━━━━━━━━━┓\n",
       "┃\u001b[1m \u001b[0m\u001b[1mS. No.\u001b[0m\u001b[1m \u001b[0m┃\u001b[1m \u001b[0m\u001b[1m Batchid\u001b[0m\u001b[1m \u001b[0m┃\u001b[1m \u001b[0m\u001b[1m6-keye…\u001b[0m\u001b[1m \u001b[0m┃\u001b[1m \u001b[0m\u001b[1m6-spacy…\u001b[0m\u001b[1m \u001b[0m┃\u001b[1m \u001b[0m\u001b[1m6-matc…\u001b[0m\u001b[1m \u001b[0m┃\u001b[1m \u001b[0m\u001b[1m92-keye…\u001b[0m\u001b[1m \u001b[0m┃\u001b[1m \u001b[0m\u001b[1m92-spa…\u001b[0m\u001b[1m \u001b[0m┃\u001b[1m \u001b[0m\u001b[1m92-matc…\u001b[0m\u001b[1m \u001b[0m┃\u001b[1m \u001b[0m\u001b[1m93-key…\u001b[0m\u001b[1m \u001b[0m┃\u001b[1m \u001b[0m\u001b[1m93-spac…\u001b[0m\u001b[1m \u001b[0m┃\u001b[1m \u001b[0m\u001b[1m93-mat…\u001b[0m\u001b[1m \u001b[0m┃\n",
       "┡━━━━━━━━╇━━━━━━━━━━╇━━━━━━━━━╇━━━━━━━━━━╇━━━━━━━━━╇━━━━━━━━━━╇━━━━━━━━━╇━━━━━━━━━━╇━━━━━━━━━╇━━━━━━━━━━╇━━━━━━━━━┩\n",
       "│\u001b[36m \u001b[0m\u001b[36m    43\u001b[0m\u001b[36m \u001b[0m│\u001b[36m \u001b[0m\u001b[36m52792421\u001b[0m\u001b[36m \u001b[0m│\u001b[36m \u001b[0m\u001b[36m032520…\u001b[0m\u001b[36m \u001b[0m│\u001b[35m \u001b[0m\u001b[35m        \u001b[0m\u001b[35m \u001b[0m│\u001b[32m \u001b[0m\u001b[32m  False\u001b[0m\u001b[32m \u001b[0m│\u001b[36m \u001b[0m\u001b[36m     858\u001b[0m\u001b[36m \u001b[0m│\u001b[35m \u001b[0m\u001b[35m858    \u001b[0m\u001b[35m \u001b[0m│\u001b[32m \u001b[0m\u001b[32m    True\u001b[0m\u001b[32m \u001b[0m│\u001b[36m \u001b[0m\u001b[36m    282\u001b[0m\u001b[36m \u001b[0m│\u001b[35m \u001b[0m\u001b[35m        \u001b[0m\u001b[35m \u001b[0m│\u001b[32m \u001b[0m\u001b[32m  False\u001b[0m\u001b[32m \u001b[0m│\n",
       "│\u001b[36m \u001b[0m\u001b[36m    44\u001b[0m\u001b[36m \u001b[0m│\u001b[36m \u001b[0m\u001b[36m52792428\u001b[0m\u001b[36m \u001b[0m│\u001b[36m \u001b[0m\u001b[36m032520…\u001b[0m\u001b[36m \u001b[0m│\u001b[35m \u001b[0m\u001b[35m        \u001b[0m\u001b[35m \u001b[0m│\u001b[32m \u001b[0m\u001b[32m  False\u001b[0m\u001b[32m \u001b[0m│\u001b[36m \u001b[0m\u001b[36m    1557\u001b[0m\u001b[36m \u001b[0m│\u001b[35m \u001b[0m\u001b[35m1557   \u001b[0m\u001b[35m \u001b[0m│\u001b[32m \u001b[0m\u001b[32m    True\u001b[0m\u001b[32m \u001b[0m│\u001b[36m \u001b[0m\u001b[36m     10\u001b[0m\u001b[36m \u001b[0m│\u001b[35m \u001b[0m\u001b[35m        \u001b[0m\u001b[35m \u001b[0m│\u001b[32m \u001b[0m\u001b[32m  False\u001b[0m\u001b[32m \u001b[0m│\n",
       "│\u001b[36m \u001b[0m\u001b[36m    45\u001b[0m\u001b[36m \u001b[0m│\u001b[36m \u001b[0m\u001b[36m52792429\u001b[0m\u001b[36m \u001b[0m│\u001b[36m \u001b[0m\u001b[36m032520…\u001b[0m\u001b[36m \u001b[0m│\u001b[35m \u001b[0m\u001b[35m        \u001b[0m\u001b[35m \u001b[0m│\u001b[32m \u001b[0m\u001b[32m  False\u001b[0m\u001b[32m \u001b[0m│\u001b[36m \u001b[0m\u001b[36m     858\u001b[0m\u001b[36m \u001b[0m│\u001b[35m \u001b[0m\u001b[35m858    \u001b[0m\u001b[35m \u001b[0m│\u001b[32m \u001b[0m\u001b[32m    True\u001b[0m\u001b[32m \u001b[0m│\u001b[36m \u001b[0m\u001b[36m    289\u001b[0m\u001b[36m \u001b[0m│\u001b[35m \u001b[0m\u001b[35m        \u001b[0m\u001b[35m \u001b[0m│\u001b[32m \u001b[0m\u001b[32m  False\u001b[0m\u001b[32m \u001b[0m│\n",
       "│\u001b[36m \u001b[0m\u001b[36m    46\u001b[0m\u001b[36m \u001b[0m│\u001b[36m \u001b[0m\u001b[36m52792431\u001b[0m\u001b[36m \u001b[0m│\u001b[36m \u001b[0m\u001b[36m032520…\u001b[0m\u001b[36m \u001b[0m│\u001b[35m \u001b[0m\u001b[35m        \u001b[0m\u001b[35m \u001b[0m│\u001b[32m \u001b[0m\u001b[32m  False\u001b[0m\u001b[32m \u001b[0m│\u001b[36m \u001b[0m\u001b[36m     287\u001b[0m\u001b[36m \u001b[0m│\u001b[35m \u001b[0m\u001b[35m287    \u001b[0m\u001b[35m \u001b[0m│\u001b[32m \u001b[0m\u001b[32m    True\u001b[0m\u001b[32m \u001b[0m│\u001b[36m \u001b[0m\u001b[36m     25\u001b[0m\u001b[36m \u001b[0m│\u001b[35m \u001b[0m\u001b[35m        \u001b[0m\u001b[35m \u001b[0m│\u001b[32m \u001b[0m\u001b[32m  False\u001b[0m\u001b[32m \u001b[0m│\n",
       "│\u001b[36m \u001b[0m\u001b[36m    47\u001b[0m\u001b[36m \u001b[0m│\u001b[36m \u001b[0m\u001b[36m52792432\u001b[0m\u001b[36m \u001b[0m│\u001b[36m \u001b[0m\u001b[36m032520…\u001b[0m\u001b[36m \u001b[0m│\u001b[35m \u001b[0m\u001b[35m        \u001b[0m\u001b[35m \u001b[0m│\u001b[32m \u001b[0m\u001b[32m  False\u001b[0m\u001b[32m \u001b[0m│\u001b[36m \u001b[0m\u001b[36m     287\u001b[0m\u001b[36m \u001b[0m│\u001b[35m \u001b[0m\u001b[35m       \u001b[0m\u001b[35m \u001b[0m│\u001b[32m \u001b[0m\u001b[32m   False\u001b[0m\u001b[32m \u001b[0m│\u001b[36m \u001b[0m\u001b[36m     26\u001b[0m\u001b[36m \u001b[0m│\u001b[35m \u001b[0m\u001b[35m        \u001b[0m\u001b[35m \u001b[0m│\u001b[32m \u001b[0m\u001b[32m  False\u001b[0m\u001b[32m \u001b[0m│\n",
       "│\u001b[36m \u001b[0m\u001b[36m    48\u001b[0m\u001b[36m \u001b[0m│\u001b[36m \u001b[0m\u001b[36m52792435\u001b[0m\u001b[36m \u001b[0m│\u001b[36m \u001b[0m\u001b[36m032520…\u001b[0m\u001b[36m \u001b[0m│\u001b[35m \u001b[0m\u001b[35m03252024\u001b[0m\u001b[35m \u001b[0m│\u001b[32m \u001b[0m\u001b[32m   True\u001b[0m\u001b[32m \u001b[0m│\u001b[36m \u001b[0m\u001b[36m     287\u001b[0m\u001b[36m \u001b[0m│\u001b[35m \u001b[0m\u001b[35m287    \u001b[0m\u001b[35m \u001b[0m│\u001b[32m \u001b[0m\u001b[32m    True\u001b[0m\u001b[32m \u001b[0m│\u001b[36m \u001b[0m\u001b[36m     30\u001b[0m\u001b[36m \u001b[0m│\u001b[35m \u001b[0m\u001b[35m        \u001b[0m\u001b[35m \u001b[0m│\u001b[32m \u001b[0m\u001b[32m  False\u001b[0m\u001b[32m \u001b[0m│\n",
       "│\u001b[36m \u001b[0m\u001b[36m    49\u001b[0m\u001b[36m \u001b[0m│\u001b[36m \u001b[0m\u001b[36m52792438\u001b[0m\u001b[36m \u001b[0m│\u001b[36m \u001b[0m\u001b[36m032520…\u001b[0m\u001b[36m \u001b[0m│\u001b[35m \u001b[0m\u001b[35m03252024\u001b[0m\u001b[35m \u001b[0m│\u001b[32m \u001b[0m\u001b[32m   True\u001b[0m\u001b[32m \u001b[0m│\u001b[36m \u001b[0m\u001b[36m     858\u001b[0m\u001b[36m \u001b[0m│\u001b[35m \u001b[0m\u001b[35m858    \u001b[0m\u001b[35m \u001b[0m│\u001b[32m \u001b[0m\u001b[32m    True\u001b[0m\u001b[32m \u001b[0m│\u001b[36m \u001b[0m\u001b[36m    296\u001b[0m\u001b[36m \u001b[0m│\u001b[35m \u001b[0m\u001b[35m        \u001b[0m\u001b[35m \u001b[0m│\u001b[32m \u001b[0m\u001b[32m  False\u001b[0m\u001b[32m \u001b[0m│\n",
       "│\u001b[36m \u001b[0m\u001b[36m    50\u001b[0m\u001b[36m \u001b[0m│\u001b[36m \u001b[0m\u001b[36m52792439\u001b[0m\u001b[36m \u001b[0m│\u001b[36m \u001b[0m\u001b[36m032520…\u001b[0m\u001b[36m \u001b[0m│\u001b[35m \u001b[0m\u001b[35m03252024\u001b[0m\u001b[35m \u001b[0m│\u001b[32m \u001b[0m\u001b[32m   True\u001b[0m\u001b[32m \u001b[0m│\u001b[36m \u001b[0m\u001b[36m     858\u001b[0m\u001b[36m \u001b[0m│\u001b[35m \u001b[0m\u001b[35m858    \u001b[0m\u001b[35m \u001b[0m│\u001b[32m \u001b[0m\u001b[32m    True\u001b[0m\u001b[32m \u001b[0m│\u001b[36m \u001b[0m\u001b[36m    300\u001b[0m\u001b[36m \u001b[0m│\u001b[35m \u001b[0m\u001b[35m        \u001b[0m\u001b[35m \u001b[0m│\u001b[32m \u001b[0m\u001b[32m  False\u001b[0m\u001b[32m \u001b[0m│\n",
       "│\u001b[36m \u001b[0m\u001b[36m    51\u001b[0m\u001b[36m \u001b[0m│\u001b[36m \u001b[0m\u001b[36m52792440\u001b[0m\u001b[36m \u001b[0m│\u001b[36m \u001b[0m\u001b[36m032520…\u001b[0m\u001b[36m \u001b[0m│\u001b[35m \u001b[0m\u001b[35m03252024\u001b[0m\u001b[35m \u001b[0m│\u001b[32m \u001b[0m\u001b[32m   True\u001b[0m\u001b[32m \u001b[0m│\u001b[36m \u001b[0m\u001b[36m     858\u001b[0m\u001b[36m \u001b[0m│\u001b[35m \u001b[0m\u001b[35m858    \u001b[0m\u001b[35m \u001b[0m│\u001b[32m \u001b[0m\u001b[32m    True\u001b[0m\u001b[32m \u001b[0m│\u001b[36m \u001b[0m\u001b[36m    303\u001b[0m\u001b[36m \u001b[0m│\u001b[35m \u001b[0m\u001b[35m        \u001b[0m\u001b[35m \u001b[0m│\u001b[32m \u001b[0m\u001b[32m  False\u001b[0m\u001b[32m \u001b[0m│\n",
       "│\u001b[36m \u001b[0m\u001b[36m    52\u001b[0m\u001b[36m \u001b[0m│\u001b[36m \u001b[0m\u001b[36m52792444\u001b[0m\u001b[36m \u001b[0m│\u001b[36m \u001b[0m\u001b[36m032520…\u001b[0m\u001b[36m \u001b[0m│\u001b[35m \u001b[0m\u001b[35m03252024\u001b[0m\u001b[35m \u001b[0m│\u001b[32m \u001b[0m\u001b[32m   True\u001b[0m\u001b[32m \u001b[0m│\u001b[36m \u001b[0m\u001b[36m     858\u001b[0m\u001b[36m \u001b[0m│\u001b[35m \u001b[0m\u001b[35m858    \u001b[0m\u001b[35m \u001b[0m│\u001b[32m \u001b[0m\u001b[32m    True\u001b[0m\u001b[32m \u001b[0m│\u001b[36m \u001b[0m\u001b[36m    307\u001b[0m\u001b[36m \u001b[0m│\u001b[35m \u001b[0m\u001b[35m        \u001b[0m\u001b[35m \u001b[0m│\u001b[32m \u001b[0m\u001b[32m  False\u001b[0m\u001b[32m \u001b[0m│\n",
       "│\u001b[36m \u001b[0m\u001b[36m    53\u001b[0m\u001b[36m \u001b[0m│\u001b[36m \u001b[0m\u001b[36m52792446\u001b[0m\u001b[36m \u001b[0m│\u001b[36m \u001b[0m\u001b[36m032520…\u001b[0m\u001b[36m \u001b[0m│\u001b[35m \u001b[0m\u001b[35m03252024\u001b[0m\u001b[35m \u001b[0m│\u001b[32m \u001b[0m\u001b[32m   True\u001b[0m\u001b[32m \u001b[0m│\u001b[36m \u001b[0m\u001b[36m     858\u001b[0m\u001b[36m \u001b[0m│\u001b[35m \u001b[0m\u001b[35m858    \u001b[0m\u001b[35m \u001b[0m│\u001b[32m \u001b[0m\u001b[32m    True\u001b[0m\u001b[32m \u001b[0m│\u001b[36m \u001b[0m\u001b[36m    313\u001b[0m\u001b[36m \u001b[0m│\u001b[35m \u001b[0m\u001b[35m        \u001b[0m\u001b[35m \u001b[0m│\u001b[32m \u001b[0m\u001b[32m  False\u001b[0m\u001b[32m \u001b[0m│\n",
       "│\u001b[36m \u001b[0m\u001b[36m    54\u001b[0m\u001b[36m \u001b[0m│\u001b[36m \u001b[0m\u001b[36m52792447\u001b[0m\u001b[36m \u001b[0m│\u001b[36m \u001b[0m\u001b[36m032520…\u001b[0m\u001b[36m \u001b[0m│\u001b[35m \u001b[0m\u001b[35m03252024\u001b[0m\u001b[35m \u001b[0m│\u001b[32m \u001b[0m\u001b[32m   True\u001b[0m\u001b[32m \u001b[0m│\u001b[36m \u001b[0m\u001b[36m    1557\u001b[0m\u001b[36m \u001b[0m│\u001b[35m \u001b[0m\u001b[35m1557   \u001b[0m\u001b[35m \u001b[0m│\u001b[32m \u001b[0m\u001b[32m    True\u001b[0m\u001b[32m \u001b[0m│\u001b[36m \u001b[0m\u001b[36m     44\u001b[0m\u001b[36m \u001b[0m│\u001b[35m \u001b[0m\u001b[35m        \u001b[0m\u001b[35m \u001b[0m│\u001b[32m \u001b[0m\u001b[32m  False\u001b[0m\u001b[32m \u001b[0m│\n",
       "│\u001b[36m \u001b[0m\u001b[36m    55\u001b[0m\u001b[36m \u001b[0m│\u001b[36m \u001b[0m\u001b[36m52792448\u001b[0m\u001b[36m \u001b[0m│\u001b[36m \u001b[0m\u001b[36m032520…\u001b[0m\u001b[36m \u001b[0m│\u001b[35m \u001b[0m\u001b[35m03252024\u001b[0m\u001b[35m \u001b[0m│\u001b[32m \u001b[0m\u001b[32m   True\u001b[0m\u001b[32m \u001b[0m│\u001b[36m \u001b[0m\u001b[36m     858\u001b[0m\u001b[36m \u001b[0m│\u001b[35m \u001b[0m\u001b[35m858    \u001b[0m\u001b[35m \u001b[0m│\u001b[32m \u001b[0m\u001b[32m    True\u001b[0m\u001b[32m \u001b[0m│\u001b[36m \u001b[0m\u001b[36m    318\u001b[0m\u001b[36m \u001b[0m│\u001b[35m \u001b[0m\u001b[35m        \u001b[0m\u001b[35m \u001b[0m│\u001b[32m \u001b[0m\u001b[32m  False\u001b[0m\u001b[32m \u001b[0m│\n",
       "│\u001b[36m \u001b[0m\u001b[36m    56\u001b[0m\u001b[36m \u001b[0m│\u001b[36m \u001b[0m\u001b[36m52792452\u001b[0m\u001b[36m \u001b[0m│\u001b[36m \u001b[0m\u001b[36m032520…\u001b[0m\u001b[36m \u001b[0m│\u001b[35m \u001b[0m\u001b[35m        \u001b[0m\u001b[35m \u001b[0m│\u001b[32m \u001b[0m\u001b[32m  False\u001b[0m\u001b[32m \u001b[0m│\u001b[36m \u001b[0m\u001b[36m     858\u001b[0m\u001b[36m \u001b[0m│\u001b[35m \u001b[0m\u001b[35m858    \u001b[0m\u001b[35m \u001b[0m│\u001b[32m \u001b[0m\u001b[32m    True\u001b[0m\u001b[32m \u001b[0m│\u001b[36m \u001b[0m\u001b[36m    321\u001b[0m\u001b[36m \u001b[0m│\u001b[35m \u001b[0m\u001b[35m        \u001b[0m\u001b[35m \u001b[0m│\u001b[32m \u001b[0m\u001b[32m  False\u001b[0m\u001b[32m \u001b[0m│\n",
       "│\u001b[36m \u001b[0m\u001b[36m    57\u001b[0m\u001b[36m \u001b[0m│\u001b[36m \u001b[0m\u001b[36m52836324\u001b[0m\u001b[36m \u001b[0m│\u001b[36m \u001b[0m\u001b[36m032620…\u001b[0m\u001b[36m \u001b[0m│\u001b[35m \u001b[0m\u001b[35m        \u001b[0m\u001b[35m \u001b[0m│\u001b[32m \u001b[0m\u001b[32m  False\u001b[0m\u001b[32m \u001b[0m│\u001b[36m \u001b[0m\u001b[36m     858\u001b[0m\u001b[36m \u001b[0m│\u001b[35m \u001b[0m\u001b[35m858    \u001b[0m\u001b[35m \u001b[0m│\u001b[32m \u001b[0m\u001b[32m    True\u001b[0m\u001b[32m \u001b[0m│\u001b[36m \u001b[0m\u001b[36m    323\u001b[0m\u001b[36m \u001b[0m│\u001b[35m \u001b[0m\u001b[35m        \u001b[0m\u001b[35m \u001b[0m│\u001b[32m \u001b[0m\u001b[32m  False\u001b[0m\u001b[32m \u001b[0m│\n",
       "│\u001b[36m \u001b[0m\u001b[36m    58\u001b[0m\u001b[36m \u001b[0m│\u001b[36m \u001b[0m\u001b[36m52836328\u001b[0m\u001b[36m \u001b[0m│\u001b[36m \u001b[0m\u001b[36m032620…\u001b[0m\u001b[36m \u001b[0m│\u001b[35m \u001b[0m\u001b[35m        \u001b[0m\u001b[35m \u001b[0m│\u001b[32m \u001b[0m\u001b[32m  False\u001b[0m\u001b[32m \u001b[0m│\u001b[36m \u001b[0m\u001b[36m     287\u001b[0m\u001b[36m \u001b[0m│\u001b[35m \u001b[0m\u001b[35m287    \u001b[0m\u001b[35m \u001b[0m│\u001b[32m \u001b[0m\u001b[32m    True\u001b[0m\u001b[32m \u001b[0m│\u001b[36m \u001b[0m\u001b[36m     31\u001b[0m\u001b[36m \u001b[0m│\u001b[35m \u001b[0m\u001b[35m        \u001b[0m\u001b[35m \u001b[0m│\u001b[32m \u001b[0m\u001b[32m  False\u001b[0m\u001b[32m \u001b[0m│\n",
       "│\u001b[36m \u001b[0m\u001b[36m    59\u001b[0m\u001b[36m \u001b[0m│\u001b[36m \u001b[0m\u001b[36m52836329\u001b[0m\u001b[36m \u001b[0m│\u001b[36m \u001b[0m\u001b[36m032620…\u001b[0m\u001b[36m \u001b[0m│\u001b[35m \u001b[0m\u001b[35m        \u001b[0m\u001b[35m \u001b[0m│\u001b[32m \u001b[0m\u001b[32m  False\u001b[0m\u001b[32m \u001b[0m│\u001b[36m \u001b[0m\u001b[36m     287\u001b[0m\u001b[36m \u001b[0m│\u001b[35m \u001b[0m\u001b[35m287    \u001b[0m\u001b[35m \u001b[0m│\u001b[32m \u001b[0m\u001b[32m    True\u001b[0m\u001b[32m \u001b[0m│\u001b[36m \u001b[0m\u001b[36m     32\u001b[0m\u001b[36m \u001b[0m│\u001b[35m \u001b[0m\u001b[35m        \u001b[0m\u001b[35m \u001b[0m│\u001b[32m \u001b[0m\u001b[32m  False\u001b[0m\u001b[32m \u001b[0m│\n",
       "│\u001b[36m \u001b[0m\u001b[36m    60\u001b[0m\u001b[36m \u001b[0m│\u001b[36m \u001b[0m\u001b[36m52836335\u001b[0m\u001b[36m \u001b[0m│\u001b[36m \u001b[0m\u001b[36m032620…\u001b[0m\u001b[36m \u001b[0m│\u001b[35m \u001b[0m\u001b[35m03262024\u001b[0m\u001b[35m \u001b[0m│\u001b[32m \u001b[0m\u001b[32m   True\u001b[0m\u001b[32m \u001b[0m│\u001b[36m \u001b[0m\u001b[36m     287\u001b[0m\u001b[36m \u001b[0m│\u001b[35m \u001b[0m\u001b[35m287    \u001b[0m\u001b[35m \u001b[0m│\u001b[32m \u001b[0m\u001b[32m    True\u001b[0m\u001b[32m \u001b[0m│\u001b[36m \u001b[0m\u001b[36m     37\u001b[0m\u001b[36m \u001b[0m│\u001b[35m \u001b[0m\u001b[35m        \u001b[0m\u001b[35m \u001b[0m│\u001b[32m \u001b[0m\u001b[32m  False\u001b[0m\u001b[32m \u001b[0m│\n",
       "│\u001b[36m \u001b[0m\u001b[36m    61\u001b[0m\u001b[36m \u001b[0m│\u001b[36m \u001b[0m\u001b[36m52836336\u001b[0m\u001b[36m \u001b[0m│\u001b[36m \u001b[0m\u001b[36m032620…\u001b[0m\u001b[36m \u001b[0m│\u001b[35m \u001b[0m\u001b[35m03262024\u001b[0m\u001b[35m \u001b[0m│\u001b[32m \u001b[0m\u001b[32m   True\u001b[0m\u001b[32m \u001b[0m│\u001b[36m \u001b[0m\u001b[36m     102\u001b[0m\u001b[36m \u001b[0m│\u001b[35m \u001b[0m\u001b[35m102    \u001b[0m\u001b[35m \u001b[0m│\u001b[32m \u001b[0m\u001b[32m    True\u001b[0m\u001b[32m \u001b[0m│\u001b[36m \u001b[0m\u001b[36m    323\u001b[0m\u001b[36m \u001b[0m│\u001b[35m \u001b[0m\u001b[35m        \u001b[0m\u001b[35m \u001b[0m│\u001b[32m \u001b[0m\u001b[32m  False\u001b[0m\u001b[32m \u001b[0m│\n",
       "│\u001b[36m \u001b[0m\u001b[36m    62\u001b[0m\u001b[36m \u001b[0m│\u001b[36m \u001b[0m\u001b[36m52880930\u001b[0m\u001b[36m \u001b[0m│\u001b[36m \u001b[0m\u001b[36m032720…\u001b[0m\u001b[36m \u001b[0m│\u001b[35m \u001b[0m\u001b[35m03272024\u001b[0m\u001b[35m \u001b[0m│\u001b[32m \u001b[0m\u001b[32m   True\u001b[0m\u001b[32m \u001b[0m│\u001b[36m \u001b[0m\u001b[36m     287\u001b[0m\u001b[36m \u001b[0m│\u001b[35m \u001b[0m\u001b[35m287    \u001b[0m\u001b[35m \u001b[0m│\u001b[32m \u001b[0m\u001b[32m    True\u001b[0m\u001b[32m \u001b[0m│\u001b[36m \u001b[0m\u001b[36m    441\u001b[0m\u001b[36m \u001b[0m│\u001b[35m \u001b[0m\u001b[35m        \u001b[0m\u001b[35m \u001b[0m│\u001b[32m \u001b[0m\u001b[32m  False\u001b[0m\u001b[32m \u001b[0m│\n",
       "│\u001b[36m \u001b[0m\u001b[36m    63\u001b[0m\u001b[36m \u001b[0m│\u001b[36m \u001b[0m\u001b[36m52880932\u001b[0m\u001b[36m \u001b[0m│\u001b[36m \u001b[0m\u001b[36m032720…\u001b[0m\u001b[36m \u001b[0m│\u001b[35m \u001b[0m\u001b[35m        \u001b[0m\u001b[35m \u001b[0m│\u001b[32m \u001b[0m\u001b[32m  False\u001b[0m\u001b[32m \u001b[0m│\u001b[36m \u001b[0m\u001b[36m     287\u001b[0m\u001b[36m \u001b[0m│\u001b[35m \u001b[0m\u001b[35m287    \u001b[0m\u001b[35m \u001b[0m│\u001b[32m \u001b[0m\u001b[32m    True\u001b[0m\u001b[32m \u001b[0m│\u001b[36m \u001b[0m\u001b[36m     46\u001b[0m\u001b[36m \u001b[0m│\u001b[35m \u001b[0m\u001b[35m        \u001b[0m\u001b[35m \u001b[0m│\u001b[32m \u001b[0m\u001b[32m  False\u001b[0m\u001b[32m \u001b[0m│\n",
       "│\u001b[36m \u001b[0m\u001b[36m    64\u001b[0m\u001b[36m \u001b[0m│\u001b[36m \u001b[0m\u001b[36m52880933\u001b[0m\u001b[36m \u001b[0m│\u001b[36m \u001b[0m\u001b[36m032720…\u001b[0m\u001b[36m \u001b[0m│\u001b[35m \u001b[0m\u001b[35m03272024\u001b[0m\u001b[35m \u001b[0m│\u001b[32m \u001b[0m\u001b[32m   True\u001b[0m\u001b[32m \u001b[0m│\u001b[36m \u001b[0m\u001b[36m    1557\u001b[0m\u001b[36m \u001b[0m│\u001b[35m \u001b[0m\u001b[35m1557   \u001b[0m\u001b[35m \u001b[0m│\u001b[32m \u001b[0m\u001b[32m    True\u001b[0m\u001b[32m \u001b[0m│\u001b[36m \u001b[0m\u001b[36m    126\u001b[0m\u001b[36m \u001b[0m│\u001b[35m \u001b[0m\u001b[35m        \u001b[0m\u001b[35m \u001b[0m│\u001b[32m \u001b[0m\u001b[32m  False\u001b[0m\u001b[32m \u001b[0m│\n",
       "│\u001b[36m \u001b[0m\u001b[36m    65\u001b[0m\u001b[36m \u001b[0m│\u001b[36m \u001b[0m\u001b[36m52880935\u001b[0m\u001b[36m \u001b[0m│\u001b[36m \u001b[0m\u001b[36m032720…\u001b[0m\u001b[36m \u001b[0m│\u001b[35m \u001b[0m\u001b[35m        \u001b[0m\u001b[35m \u001b[0m│\u001b[32m \u001b[0m\u001b[32m  False\u001b[0m\u001b[32m \u001b[0m│\u001b[36m \u001b[0m\u001b[36m     287\u001b[0m\u001b[36m \u001b[0m│\u001b[35m \u001b[0m\u001b[35m1219   \u001b[0m\u001b[35m \u001b[0m│\u001b[32m \u001b[0m\u001b[32m   False\u001b[0m\u001b[32m \u001b[0m│\u001b[36m \u001b[0m\u001b[36m     49\u001b[0m\u001b[36m \u001b[0m│\u001b[35m \u001b[0m\u001b[35m        \u001b[0m\u001b[35m \u001b[0m│\u001b[32m \u001b[0m\u001b[32m  False\u001b[0m\u001b[32m \u001b[0m│\n",
       "│\u001b[36m \u001b[0m\u001b[36m    66\u001b[0m\u001b[36m \u001b[0m│\u001b[36m \u001b[0m\u001b[36m52880936\u001b[0m\u001b[36m \u001b[0m│\u001b[36m \u001b[0m\u001b[36m032720…\u001b[0m\u001b[36m \u001b[0m│\u001b[35m \u001b[0m\u001b[35m        \u001b[0m\u001b[35m \u001b[0m│\u001b[32m \u001b[0m\u001b[32m  False\u001b[0m\u001b[32m \u001b[0m│\u001b[36m \u001b[0m\u001b[36m     287\u001b[0m\u001b[36m \u001b[0m│\u001b[35m \u001b[0m\u001b[35m287    \u001b[0m\u001b[35m \u001b[0m│\u001b[32m \u001b[0m\u001b[32m    True\u001b[0m\u001b[32m \u001b[0m│\u001b[36m \u001b[0m\u001b[36m     61\u001b[0m\u001b[36m \u001b[0m│\u001b[35m \u001b[0m\u001b[35m        \u001b[0m\u001b[35m \u001b[0m│\u001b[32m \u001b[0m\u001b[32m  False\u001b[0m\u001b[32m \u001b[0m│\n",
       "│\u001b[36m \u001b[0m\u001b[36m    67\u001b[0m\u001b[36m \u001b[0m│\u001b[36m \u001b[0m\u001b[36m52880938\u001b[0m\u001b[36m \u001b[0m│\u001b[36m \u001b[0m\u001b[36m031920…\u001b[0m\u001b[36m \u001b[0m│\u001b[35m \u001b[0m\u001b[35m        \u001b[0m\u001b[35m \u001b[0m│\u001b[32m \u001b[0m\u001b[32m  False\u001b[0m\u001b[32m \u001b[0m│\u001b[36m \u001b[0m\u001b[36m     287\u001b[0m\u001b[36m \u001b[0m│\u001b[35m \u001b[0m\u001b[35m287    \u001b[0m\u001b[35m \u001b[0m│\u001b[32m \u001b[0m\u001b[32m    True\u001b[0m\u001b[32m \u001b[0m│\u001b[36m \u001b[0m\u001b[36m     55\u001b[0m\u001b[36m \u001b[0m│\u001b[35m \u001b[0m\u001b[35m        \u001b[0m\u001b[35m \u001b[0m│\u001b[32m \u001b[0m\u001b[32m  False\u001b[0m\u001b[32m \u001b[0m│\n",
       "│\u001b[36m \u001b[0m\u001b[36m    68\u001b[0m\u001b[36m \u001b[0m│\u001b[36m \u001b[0m\u001b[36m52880939\u001b[0m\u001b[36m \u001b[0m│\u001b[36m \u001b[0m\u001b[36m032720…\u001b[0m\u001b[36m \u001b[0m│\u001b[35m \u001b[0m\u001b[35m        \u001b[0m\u001b[35m \u001b[0m│\u001b[32m \u001b[0m\u001b[32m  False\u001b[0m\u001b[32m \u001b[0m│\u001b[36m \u001b[0m\u001b[36m     287\u001b[0m\u001b[36m \u001b[0m│\u001b[35m \u001b[0m\u001b[35m287    \u001b[0m\u001b[35m \u001b[0m│\u001b[32m \u001b[0m\u001b[32m    True\u001b[0m\u001b[32m \u001b[0m│\u001b[36m \u001b[0m\u001b[36m     57\u001b[0m\u001b[36m \u001b[0m│\u001b[35m \u001b[0m\u001b[35m        \u001b[0m\u001b[35m \u001b[0m│\u001b[32m \u001b[0m\u001b[32m  False\u001b[0m\u001b[32m \u001b[0m│\n",
       "│\u001b[36m \u001b[0m\u001b[36m    69\u001b[0m\u001b[36m \u001b[0m│\u001b[36m \u001b[0m\u001b[36m52880940\u001b[0m\u001b[36m \u001b[0m│\u001b[36m \u001b[0m\u001b[36m032720…\u001b[0m\u001b[36m \u001b[0m│\u001b[35m \u001b[0m\u001b[35m03272024\u001b[0m\u001b[35m \u001b[0m│\u001b[32m \u001b[0m\u001b[32m   True\u001b[0m\u001b[32m \u001b[0m│\u001b[36m \u001b[0m\u001b[36m     287\u001b[0m\u001b[36m \u001b[0m│\u001b[35m \u001b[0m\u001b[35m287    \u001b[0m\u001b[35m \u001b[0m│\u001b[32m \u001b[0m\u001b[32m    True\u001b[0m\u001b[32m \u001b[0m│\u001b[36m \u001b[0m\u001b[36m     59\u001b[0m\u001b[36m \u001b[0m│\u001b[35m \u001b[0m\u001b[35m        \u001b[0m\u001b[35m \u001b[0m│\u001b[32m \u001b[0m\u001b[32m  False\u001b[0m\u001b[32m \u001b[0m│\n",
       "│\u001b[36m \u001b[0m\u001b[36m    70\u001b[0m\u001b[36m \u001b[0m│\u001b[36m \u001b[0m\u001b[36m52880941\u001b[0m\u001b[36m \u001b[0m│\u001b[36m \u001b[0m\u001b[36m032720…\u001b[0m\u001b[36m \u001b[0m│\u001b[35m \u001b[0m\u001b[35m03272024\u001b[0m\u001b[35m \u001b[0m│\u001b[32m \u001b[0m\u001b[32m   True\u001b[0m\u001b[32m \u001b[0m│\u001b[36m \u001b[0m\u001b[36m     858\u001b[0m\u001b[36m \u001b[0m│\u001b[35m \u001b[0m\u001b[35m858    \u001b[0m\u001b[35m \u001b[0m│\u001b[32m \u001b[0m\u001b[32m    True\u001b[0m\u001b[32m \u001b[0m│\u001b[36m \u001b[0m\u001b[36m    337\u001b[0m\u001b[36m \u001b[0m│\u001b[35m \u001b[0m\u001b[35m        \u001b[0m\u001b[35m \u001b[0m│\u001b[32m \u001b[0m\u001b[32m  False\u001b[0m\u001b[32m \u001b[0m│\n",
       "│\u001b[36m \u001b[0m\u001b[36m    71\u001b[0m\u001b[36m \u001b[0m│\u001b[36m \u001b[0m\u001b[36m52880942\u001b[0m\u001b[36m \u001b[0m│\u001b[36m \u001b[0m\u001b[36m032720…\u001b[0m\u001b[36m \u001b[0m│\u001b[35m \u001b[0m\u001b[35m        \u001b[0m\u001b[35m \u001b[0m│\u001b[32m \u001b[0m\u001b[32m  False\u001b[0m\u001b[32m \u001b[0m│\u001b[36m \u001b[0m\u001b[36m    1557\u001b[0m\u001b[36m \u001b[0m│\u001b[35m \u001b[0m\u001b[35m1557   \u001b[0m\u001b[35m \u001b[0m│\u001b[32m \u001b[0m\u001b[32m    True\u001b[0m\u001b[32m \u001b[0m│\u001b[36m \u001b[0m\u001b[36m    132\u001b[0m\u001b[36m \u001b[0m│\u001b[35m \u001b[0m\u001b[35m        \u001b[0m\u001b[35m \u001b[0m│\u001b[32m \u001b[0m\u001b[32m  False\u001b[0m\u001b[32m \u001b[0m│\n",
       "│\u001b[36m \u001b[0m\u001b[36m    72\u001b[0m\u001b[36m \u001b[0m│\u001b[36m \u001b[0m\u001b[36m52880943\u001b[0m\u001b[36m \u001b[0m│\u001b[36m \u001b[0m\u001b[36m032720…\u001b[0m\u001b[36m \u001b[0m│\u001b[35m \u001b[0m\u001b[35m        \u001b[0m\u001b[35m \u001b[0m│\u001b[32m \u001b[0m\u001b[32m  False\u001b[0m\u001b[32m \u001b[0m│\u001b[36m \u001b[0m\u001b[36m     858\u001b[0m\u001b[36m \u001b[0m│\u001b[35m \u001b[0m\u001b[35m858    \u001b[0m\u001b[35m \u001b[0m│\u001b[32m \u001b[0m\u001b[32m    True\u001b[0m\u001b[32m \u001b[0m│\u001b[36m \u001b[0m\u001b[36m    342\u001b[0m\u001b[36m \u001b[0m│\u001b[35m \u001b[0m\u001b[35m        \u001b[0m\u001b[35m \u001b[0m│\u001b[32m \u001b[0m\u001b[32m  False\u001b[0m\u001b[32m \u001b[0m│\n",
       "│\u001b[36m \u001b[0m\u001b[36m    73\u001b[0m\u001b[36m \u001b[0m│\u001b[36m \u001b[0m\u001b[36m52880944\u001b[0m\u001b[36m \u001b[0m│\u001b[36m \u001b[0m\u001b[36m032720…\u001b[0m\u001b[36m \u001b[0m│\u001b[35m \u001b[0m\u001b[35m03272024\u001b[0m\u001b[35m \u001b[0m│\u001b[32m \u001b[0m\u001b[32m   True\u001b[0m\u001b[32m \u001b[0m│\u001b[36m \u001b[0m\u001b[36m    1557\u001b[0m\u001b[36m \u001b[0m│\u001b[35m \u001b[0m\u001b[35m1557   \u001b[0m\u001b[35m \u001b[0m│\u001b[32m \u001b[0m\u001b[32m    True\u001b[0m\u001b[32m \u001b[0m│\u001b[36m \u001b[0m\u001b[36m    156\u001b[0m\u001b[36m \u001b[0m│\u001b[35m \u001b[0m\u001b[35m        \u001b[0m\u001b[35m \u001b[0m│\u001b[32m \u001b[0m\u001b[32m  False\u001b[0m\u001b[32m \u001b[0m│\n",
       "│\u001b[36m \u001b[0m\u001b[36m    74\u001b[0m\u001b[36m \u001b[0m│\u001b[36m \u001b[0m\u001b[36m52880945\u001b[0m\u001b[36m \u001b[0m│\u001b[36m \u001b[0m\u001b[36m032720…\u001b[0m\u001b[36m \u001b[0m│\u001b[35m \u001b[0m\u001b[35m03272024\u001b[0m\u001b[35m \u001b[0m│\u001b[32m \u001b[0m\u001b[32m   True\u001b[0m\u001b[32m \u001b[0m│\u001b[36m \u001b[0m\u001b[36m     858\u001b[0m\u001b[36m \u001b[0m│\u001b[35m \u001b[0m\u001b[35m858    \u001b[0m\u001b[35m \u001b[0m│\u001b[32m \u001b[0m\u001b[32m    True\u001b[0m\u001b[32m \u001b[0m│\u001b[36m \u001b[0m\u001b[36m    346\u001b[0m\u001b[36m \u001b[0m│\u001b[35m \u001b[0m\u001b[35m        \u001b[0m\u001b[35m \u001b[0m│\u001b[32m \u001b[0m\u001b[32m  False\u001b[0m\u001b[32m \u001b[0m│\n",
       "│\u001b[36m \u001b[0m\u001b[36m    75\u001b[0m\u001b[36m \u001b[0m│\u001b[36m \u001b[0m\u001b[36m52880946\u001b[0m\u001b[36m \u001b[0m│\u001b[36m \u001b[0m\u001b[36m032720…\u001b[0m\u001b[36m \u001b[0m│\u001b[35m \u001b[0m\u001b[35m03272024\u001b[0m\u001b[35m \u001b[0m│\u001b[32m \u001b[0m\u001b[32m   True\u001b[0m\u001b[32m \u001b[0m│\u001b[36m \u001b[0m\u001b[36m     858\u001b[0m\u001b[36m \u001b[0m│\u001b[35m \u001b[0m\u001b[35m858    \u001b[0m\u001b[35m \u001b[0m│\u001b[32m \u001b[0m\u001b[32m    True\u001b[0m\u001b[32m \u001b[0m│\u001b[36m \u001b[0m\u001b[36m    349\u001b[0m\u001b[36m \u001b[0m│\u001b[35m \u001b[0m\u001b[35m        \u001b[0m\u001b[35m \u001b[0m│\u001b[32m \u001b[0m\u001b[32m  False\u001b[0m\u001b[32m \u001b[0m│\n",
       "│\u001b[36m \u001b[0m\u001b[36m    76\u001b[0m\u001b[36m \u001b[0m│\u001b[36m \u001b[0m\u001b[36m52880948\u001b[0m\u001b[36m \u001b[0m│\u001b[36m \u001b[0m\u001b[36m032720…\u001b[0m\u001b[36m \u001b[0m│\u001b[35m \u001b[0m\u001b[35m        \u001b[0m\u001b[35m \u001b[0m│\u001b[32m \u001b[0m\u001b[32m  False\u001b[0m\u001b[32m \u001b[0m│\u001b[36m \u001b[0m\u001b[36m    1557\u001b[0m\u001b[36m \u001b[0m│\u001b[35m \u001b[0m\u001b[35m1557   \u001b[0m\u001b[35m \u001b[0m│\u001b[32m \u001b[0m\u001b[32m    True\u001b[0m\u001b[32m \u001b[0m│\u001b[36m \u001b[0m\u001b[36m    179\u001b[0m\u001b[36m \u001b[0m│\u001b[35m \u001b[0m\u001b[35m        \u001b[0m\u001b[35m \u001b[0m│\u001b[32m \u001b[0m\u001b[32m  False\u001b[0m\u001b[32m \u001b[0m│\n",
       "│\u001b[36m \u001b[0m\u001b[36m    77\u001b[0m\u001b[36m \u001b[0m│\u001b[36m \u001b[0m\u001b[36m52880952\u001b[0m\u001b[36m \u001b[0m│\u001b[36m \u001b[0m\u001b[36m032720…\u001b[0m\u001b[36m \u001b[0m│\u001b[35m \u001b[0m\u001b[35m03272024\u001b[0m\u001b[35m \u001b[0m│\u001b[32m \u001b[0m\u001b[32m   True\u001b[0m\u001b[32m \u001b[0m│\u001b[36m \u001b[0m\u001b[36m     287\u001b[0m\u001b[36m \u001b[0m│\u001b[35m \u001b[0m\u001b[35m287    \u001b[0m\u001b[35m \u001b[0m│\u001b[32m \u001b[0m\u001b[32m    True\u001b[0m\u001b[32m \u001b[0m│\u001b[36m \u001b[0m\u001b[36m     61\u001b[0m\u001b[36m \u001b[0m│\u001b[35m \u001b[0m\u001b[35m        \u001b[0m\u001b[35m \u001b[0m│\u001b[32m \u001b[0m\u001b[32m  False\u001b[0m\u001b[32m \u001b[0m│\n",
       "│\u001b[36m \u001b[0m\u001b[36m    78\u001b[0m\u001b[36m \u001b[0m│\u001b[36m \u001b[0m\u001b[36m53035847\u001b[0m\u001b[36m \u001b[0m│\u001b[36m \u001b[0m\u001b[36m040120…\u001b[0m\u001b[36m \u001b[0m│\u001b[35m \u001b[0m\u001b[35m        \u001b[0m\u001b[35m \u001b[0m│\u001b[32m \u001b[0m\u001b[32m  False\u001b[0m\u001b[32m \u001b[0m│\u001b[36m \u001b[0m\u001b[36m     102\u001b[0m\u001b[36m \u001b[0m│\u001b[35m \u001b[0m\u001b[35m102    \u001b[0m\u001b[35m \u001b[0m│\u001b[32m \u001b[0m\u001b[32m    True\u001b[0m\u001b[32m \u001b[0m│\u001b[36m \u001b[0m\u001b[36m    333\u001b[0m\u001b[36m \u001b[0m│\u001b[35m \u001b[0m\u001b[35m        \u001b[0m\u001b[35m \u001b[0m│\u001b[32m \u001b[0m\u001b[32m  False\u001b[0m\u001b[32m \u001b[0m│\n",
       "│\u001b[36m \u001b[0m\u001b[36m    79\u001b[0m\u001b[36m \u001b[0m│\u001b[36m \u001b[0m\u001b[36m53035848\u001b[0m\u001b[36m \u001b[0m│\u001b[36m \u001b[0m\u001b[36m040120…\u001b[0m\u001b[36m \u001b[0m│\u001b[35m \u001b[0m\u001b[35m        \u001b[0m\u001b[35m \u001b[0m│\u001b[32m \u001b[0m\u001b[32m  False\u001b[0m\u001b[32m \u001b[0m│\u001b[36m \u001b[0m\u001b[36m     102\u001b[0m\u001b[36m \u001b[0m│\u001b[35m \u001b[0m\u001b[35m102    \u001b[0m\u001b[35m \u001b[0m│\u001b[32m \u001b[0m\u001b[32m    True\u001b[0m\u001b[32m \u001b[0m│\u001b[36m \u001b[0m\u001b[36m    337\u001b[0m\u001b[36m \u001b[0m│\u001b[35m \u001b[0m\u001b[35m        \u001b[0m\u001b[35m \u001b[0m│\u001b[32m \u001b[0m\u001b[32m  False\u001b[0m\u001b[32m \u001b[0m│\n",
       "│\u001b[36m \u001b[0m\u001b[36m    80\u001b[0m\u001b[36m \u001b[0m│\u001b[36m \u001b[0m\u001b[36m53035850\u001b[0m\u001b[36m \u001b[0m│\u001b[36m \u001b[0m\u001b[36m040120…\u001b[0m\u001b[36m \u001b[0m│\u001b[35m \u001b[0m\u001b[35m        \u001b[0m\u001b[35m \u001b[0m│\u001b[32m \u001b[0m\u001b[32m  False\u001b[0m\u001b[32m \u001b[0m│\u001b[36m \u001b[0m\u001b[36m    1557\u001b[0m\u001b[36m \u001b[0m│\u001b[35m \u001b[0m\u001b[35m1557   \u001b[0m\u001b[35m \u001b[0m│\u001b[32m \u001b[0m\u001b[32m    True\u001b[0m\u001b[32m \u001b[0m│\u001b[36m \u001b[0m\u001b[36m    428\u001b[0m\u001b[36m \u001b[0m│\u001b[35m \u001b[0m\u001b[35m        \u001b[0m\u001b[35m \u001b[0m│\u001b[32m \u001b[0m\u001b[32m  False\u001b[0m\u001b[32m \u001b[0m│\n",
       "│\u001b[36m \u001b[0m\u001b[36m    81\u001b[0m\u001b[36m \u001b[0m│\u001b[36m \u001b[0m\u001b[36m53035851\u001b[0m\u001b[36m \u001b[0m│\u001b[36m \u001b[0m\u001b[36m040120…\u001b[0m\u001b[36m \u001b[0m│\u001b[35m \u001b[0m\u001b[35m        \u001b[0m\u001b[35m \u001b[0m│\u001b[32m \u001b[0m\u001b[32m  False\u001b[0m\u001b[32m \u001b[0m│\u001b[36m \u001b[0m\u001b[36m     858\u001b[0m\u001b[36m \u001b[0m│\u001b[35m \u001b[0m\u001b[35m858    \u001b[0m\u001b[35m \u001b[0m│\u001b[32m \u001b[0m\u001b[32m    True\u001b[0m\u001b[32m \u001b[0m│\u001b[36m \u001b[0m\u001b[36m    394\u001b[0m\u001b[36m \u001b[0m│\u001b[35m \u001b[0m\u001b[35m        \u001b[0m\u001b[35m \u001b[0m│\u001b[32m \u001b[0m\u001b[32m  False\u001b[0m\u001b[32m \u001b[0m│\n",
       "│\u001b[36m \u001b[0m\u001b[36m    82\u001b[0m\u001b[36m \u001b[0m│\u001b[36m \u001b[0m\u001b[36m53035854\u001b[0m\u001b[36m \u001b[0m│\u001b[36m \u001b[0m\u001b[36m040120…\u001b[0m\u001b[36m \u001b[0m│\u001b[35m \u001b[0m\u001b[35m        \u001b[0m\u001b[35m \u001b[0m│\u001b[32m \u001b[0m\u001b[32m  False\u001b[0m\u001b[32m \u001b[0m│\u001b[36m \u001b[0m\u001b[36m     858\u001b[0m\u001b[36m \u001b[0m│\u001b[35m \u001b[0m\u001b[35m858    \u001b[0m\u001b[35m \u001b[0m│\u001b[32m \u001b[0m\u001b[32m    True\u001b[0m\u001b[32m \u001b[0m│\u001b[36m \u001b[0m\u001b[36m    400\u001b[0m\u001b[36m \u001b[0m│\u001b[35m \u001b[0m\u001b[35m        \u001b[0m\u001b[35m \u001b[0m│\u001b[32m \u001b[0m\u001b[32m  False\u001b[0m\u001b[32m \u001b[0m│\n",
       "│\u001b[36m \u001b[0m\u001b[36m    83\u001b[0m\u001b[36m \u001b[0m│\u001b[36m \u001b[0m\u001b[36m53035855\u001b[0m\u001b[36m \u001b[0m│\u001b[36m \u001b[0m\u001b[36m040120…\u001b[0m\u001b[36m \u001b[0m│\u001b[35m \u001b[0m\u001b[35m        \u001b[0m\u001b[35m \u001b[0m│\u001b[32m \u001b[0m\u001b[32m  False\u001b[0m\u001b[32m \u001b[0m│\u001b[36m \u001b[0m\u001b[36m     858\u001b[0m\u001b[36m \u001b[0m│\u001b[35m \u001b[0m\u001b[35m858    \u001b[0m\u001b[35m \u001b[0m│\u001b[32m \u001b[0m\u001b[32m    True\u001b[0m\u001b[32m \u001b[0m│\u001b[36m \u001b[0m\u001b[36m    410\u001b[0m\u001b[36m \u001b[0m│\u001b[35m \u001b[0m\u001b[35m        \u001b[0m\u001b[35m \u001b[0m│\u001b[32m \u001b[0m\u001b[32m  False\u001b[0m\u001b[32m \u001b[0m│\n",
       "│\u001b[36m \u001b[0m\u001b[36m    84\u001b[0m\u001b[36m \u001b[0m│\u001b[36m \u001b[0m\u001b[36m53035857\u001b[0m\u001b[36m \u001b[0m│\u001b[36m \u001b[0m\u001b[36m040120…\u001b[0m\u001b[36m \u001b[0m│\u001b[35m \u001b[0m\u001b[35m        \u001b[0m\u001b[35m \u001b[0m│\u001b[32m \u001b[0m\u001b[32m  False\u001b[0m\u001b[32m \u001b[0m│\u001b[36m \u001b[0m\u001b[36m     858\u001b[0m\u001b[36m \u001b[0m│\u001b[35m \u001b[0m\u001b[35m858    \u001b[0m\u001b[35m \u001b[0m│\u001b[32m \u001b[0m\u001b[32m    True\u001b[0m\u001b[32m \u001b[0m│\u001b[36m \u001b[0m\u001b[36m    418\u001b[0m\u001b[36m \u001b[0m│\u001b[35m \u001b[0m\u001b[35m        \u001b[0m\u001b[35m \u001b[0m│\u001b[32m \u001b[0m\u001b[32m  False\u001b[0m\u001b[32m \u001b[0m│\n",
       "│\u001b[36m \u001b[0m\u001b[36m    85\u001b[0m\u001b[36m \u001b[0m│\u001b[36m \u001b[0m\u001b[36m53035859\u001b[0m\u001b[36m \u001b[0m│\u001b[36m \u001b[0m\u001b[36m040120…\u001b[0m\u001b[36m \u001b[0m│\u001b[35m \u001b[0m\u001b[35m        \u001b[0m\u001b[35m \u001b[0m│\u001b[32m \u001b[0m\u001b[32m  False\u001b[0m\u001b[32m \u001b[0m│\u001b[36m \u001b[0m\u001b[36m     858\u001b[0m\u001b[36m \u001b[0m│\u001b[35m \u001b[0m\u001b[35m858    \u001b[0m\u001b[35m \u001b[0m│\u001b[32m \u001b[0m\u001b[32m    True\u001b[0m\u001b[32m \u001b[0m│\u001b[36m \u001b[0m\u001b[36m    422\u001b[0m\u001b[36m \u001b[0m│\u001b[35m \u001b[0m\u001b[35m        \u001b[0m\u001b[35m \u001b[0m│\u001b[32m \u001b[0m\u001b[32m  False\u001b[0m\u001b[32m \u001b[0m│\n",
       "│\u001b[36m \u001b[0m\u001b[36m    86\u001b[0m\u001b[36m \u001b[0m│\u001b[36m \u001b[0m\u001b[36m53035860\u001b[0m\u001b[36m \u001b[0m│\u001b[36m \u001b[0m\u001b[36m040120…\u001b[0m\u001b[36m \u001b[0m│\u001b[35m \u001b[0m\u001b[35m        \u001b[0m\u001b[35m \u001b[0m│\u001b[32m \u001b[0m\u001b[32m  False\u001b[0m\u001b[32m \u001b[0m│\u001b[36m \u001b[0m\u001b[36m     858\u001b[0m\u001b[36m \u001b[0m│\u001b[35m \u001b[0m\u001b[35m858    \u001b[0m\u001b[35m \u001b[0m│\u001b[32m \u001b[0m\u001b[32m    True\u001b[0m\u001b[32m \u001b[0m│\u001b[36m \u001b[0m\u001b[36m    427\u001b[0m\u001b[36m \u001b[0m│\u001b[35m \u001b[0m\u001b[35m        \u001b[0m\u001b[35m \u001b[0m│\u001b[32m \u001b[0m\u001b[32m  False\u001b[0m\u001b[32m \u001b[0m│\n",
       "│\u001b[36m \u001b[0m\u001b[36m    87\u001b[0m\u001b[36m \u001b[0m│\u001b[36m \u001b[0m\u001b[36m53035962\u001b[0m\u001b[36m \u001b[0m│\u001b[36m \u001b[0m\u001b[36m032820…\u001b[0m\u001b[36m \u001b[0m│\u001b[35m \u001b[0m\u001b[35m03282024\u001b[0m\u001b[35m \u001b[0m│\u001b[32m \u001b[0m\u001b[32m   True\u001b[0m\u001b[32m \u001b[0m│\u001b[36m \u001b[0m\u001b[36m     287\u001b[0m\u001b[36m \u001b[0m│\u001b[35m \u001b[0m\u001b[35m287    \u001b[0m\u001b[35m \u001b[0m│\u001b[32m \u001b[0m\u001b[32m    True\u001b[0m\u001b[32m \u001b[0m│\u001b[36m \u001b[0m\u001b[36m     63\u001b[0m\u001b[36m \u001b[0m│\u001b[35m \u001b[0m\u001b[35m        \u001b[0m\u001b[35m \u001b[0m│\u001b[32m \u001b[0m\u001b[32m  False\u001b[0m\u001b[32m \u001b[0m│\n",
       "│\u001b[36m \u001b[0m\u001b[36m    88\u001b[0m\u001b[36m \u001b[0m│\u001b[36m \u001b[0m\u001b[36m53035968\u001b[0m\u001b[36m \u001b[0m│\u001b[36m \u001b[0m\u001b[36m032820…\u001b[0m\u001b[36m \u001b[0m│\u001b[35m \u001b[0m\u001b[35m        \u001b[0m\u001b[35m \u001b[0m│\u001b[32m \u001b[0m\u001b[32m  False\u001b[0m\u001b[32m \u001b[0m│\u001b[36m \u001b[0m\u001b[36m     858\u001b[0m\u001b[36m \u001b[0m│\u001b[35m \u001b[0m\u001b[35m858    \u001b[0m\u001b[35m \u001b[0m│\u001b[32m \u001b[0m\u001b[32m    True\u001b[0m\u001b[32m \u001b[0m│\u001b[36m \u001b[0m\u001b[36m    352\u001b[0m\u001b[36m \u001b[0m│\u001b[35m \u001b[0m\u001b[35m        \u001b[0m\u001b[35m \u001b[0m│\u001b[32m \u001b[0m\u001b[32m  False\u001b[0m\u001b[32m \u001b[0m│\n",
       "│\u001b[36m \u001b[0m\u001b[36m    89\u001b[0m\u001b[36m \u001b[0m│\u001b[36m \u001b[0m\u001b[36m53035970\u001b[0m\u001b[36m \u001b[0m│\u001b[36m \u001b[0m\u001b[36m032820…\u001b[0m\u001b[36m \u001b[0m│\u001b[35m \u001b[0m\u001b[35m        \u001b[0m\u001b[35m \u001b[0m│\u001b[32m \u001b[0m\u001b[32m  False\u001b[0m\u001b[32m \u001b[0m│\u001b[36m \u001b[0m\u001b[36m    1557\u001b[0m\u001b[36m \u001b[0m│\u001b[35m \u001b[0m\u001b[35m1557   \u001b[0m\u001b[35m \u001b[0m│\u001b[32m \u001b[0m\u001b[32m    True\u001b[0m\u001b[32m \u001b[0m│\u001b[36m \u001b[0m\u001b[36m    260\u001b[0m\u001b[36m \u001b[0m│\u001b[35m \u001b[0m\u001b[35m        \u001b[0m\u001b[35m \u001b[0m│\u001b[32m \u001b[0m\u001b[32m  False\u001b[0m\u001b[32m \u001b[0m│\n",
       "│\u001b[36m \u001b[0m\u001b[36m    90\u001b[0m\u001b[36m \u001b[0m│\u001b[36m \u001b[0m\u001b[36m53035971\u001b[0m\u001b[36m \u001b[0m│\u001b[36m \u001b[0m\u001b[36m032820…\u001b[0m\u001b[36m \u001b[0m│\u001b[35m \u001b[0m\u001b[35m        \u001b[0m\u001b[35m \u001b[0m│\u001b[32m \u001b[0m\u001b[32m  False\u001b[0m\u001b[32m \u001b[0m│\u001b[36m \u001b[0m\u001b[36m     858\u001b[0m\u001b[36m \u001b[0m│\u001b[35m \u001b[0m\u001b[35m858    \u001b[0m\u001b[35m \u001b[0m│\u001b[32m \u001b[0m\u001b[32m    True\u001b[0m\u001b[32m \u001b[0m│\u001b[36m \u001b[0m\u001b[36m    367\u001b[0m\u001b[36m \u001b[0m│\u001b[35m \u001b[0m\u001b[35m        \u001b[0m\u001b[35m \u001b[0m│\u001b[32m \u001b[0m\u001b[32m  False\u001b[0m\u001b[32m \u001b[0m│\n",
       "│\u001b[36m \u001b[0m\u001b[36m    91\u001b[0m\u001b[36m \u001b[0m│\u001b[36m \u001b[0m\u001b[36m53035972\u001b[0m\u001b[36m \u001b[0m│\u001b[36m \u001b[0m\u001b[36m032820…\u001b[0m\u001b[36m \u001b[0m│\u001b[35m \u001b[0m\u001b[35m        \u001b[0m\u001b[35m \u001b[0m│\u001b[32m \u001b[0m\u001b[32m  False\u001b[0m\u001b[32m \u001b[0m│\u001b[36m \u001b[0m\u001b[36m    1557\u001b[0m\u001b[36m \u001b[0m│\u001b[35m \u001b[0m\u001b[35m1557   \u001b[0m\u001b[35m \u001b[0m│\u001b[32m \u001b[0m\u001b[32m    True\u001b[0m\u001b[32m \u001b[0m│\u001b[36m \u001b[0m\u001b[36m    265\u001b[0m\u001b[36m \u001b[0m│\u001b[35m \u001b[0m\u001b[35m        \u001b[0m\u001b[35m \u001b[0m│\u001b[32m \u001b[0m\u001b[32m  False\u001b[0m\u001b[32m \u001b[0m│\n",
       "│\u001b[36m \u001b[0m\u001b[36m    92\u001b[0m\u001b[36m \u001b[0m│\u001b[36m \u001b[0m\u001b[36m53035974\u001b[0m\u001b[36m \u001b[0m│\u001b[36m \u001b[0m\u001b[36m032820…\u001b[0m\u001b[36m \u001b[0m│\u001b[35m \u001b[0m\u001b[35m        \u001b[0m\u001b[35m \u001b[0m│\u001b[32m \u001b[0m\u001b[32m  False\u001b[0m\u001b[32m \u001b[0m│\u001b[36m \u001b[0m\u001b[36m    1557\u001b[0m\u001b[36m \u001b[0m│\u001b[35m \u001b[0m\u001b[35m285    \u001b[0m\u001b[35m \u001b[0m│\u001b[32m \u001b[0m\u001b[32m   False\u001b[0m\u001b[32m \u001b[0m│\u001b[36m \u001b[0m\u001b[36m    285\u001b[0m\u001b[36m \u001b[0m│\u001b[35m \u001b[0m\u001b[35m        \u001b[0m\u001b[35m \u001b[0m│\u001b[32m \u001b[0m\u001b[32m  False\u001b[0m\u001b[32m \u001b[0m│\n",
       "│\u001b[36m \u001b[0m\u001b[36m    93\u001b[0m\u001b[36m \u001b[0m│\u001b[36m \u001b[0m\u001b[36m53035978\u001b[0m\u001b[36m \u001b[0m│\u001b[36m \u001b[0m\u001b[36m032820…\u001b[0m\u001b[36m \u001b[0m│\u001b[35m \u001b[0m\u001b[35m03282024\u001b[0m\u001b[35m \u001b[0m│\u001b[32m \u001b[0m\u001b[32m   True\u001b[0m\u001b[32m \u001b[0m│\u001b[36m \u001b[0m\u001b[36m     858\u001b[0m\u001b[36m \u001b[0m│\u001b[35m \u001b[0m\u001b[35m858    \u001b[0m\u001b[35m \u001b[0m│\u001b[32m \u001b[0m\u001b[32m    True\u001b[0m\u001b[32m \u001b[0m│\u001b[36m \u001b[0m\u001b[36m    371\u001b[0m\u001b[36m \u001b[0m│\u001b[35m \u001b[0m\u001b[35m        \u001b[0m\u001b[35m \u001b[0m│\u001b[32m \u001b[0m\u001b[32m  False\u001b[0m\u001b[32m \u001b[0m│\n",
       "│\u001b[36m \u001b[0m\u001b[36m    94\u001b[0m\u001b[36m \u001b[0m│\u001b[36m \u001b[0m\u001b[36m53035981\u001b[0m\u001b[36m \u001b[0m│\u001b[36m \u001b[0m\u001b[36m032820…\u001b[0m\u001b[36m \u001b[0m│\u001b[35m \u001b[0m\u001b[35m03282024\u001b[0m\u001b[35m \u001b[0m│\u001b[32m \u001b[0m\u001b[32m   True\u001b[0m\u001b[32m \u001b[0m│\u001b[36m \u001b[0m\u001b[36m    1657\u001b[0m\u001b[36m \u001b[0m│\u001b[35m \u001b[0m\u001b[35m1557   \u001b[0m\u001b[35m \u001b[0m│\u001b[32m \u001b[0m\u001b[32m   False\u001b[0m\u001b[32m \u001b[0m│\u001b[36m \u001b[0m\u001b[36m    348\u001b[0m\u001b[36m \u001b[0m│\u001b[35m \u001b[0m\u001b[35m        \u001b[0m\u001b[35m \u001b[0m│\u001b[32m \u001b[0m\u001b[32m  False\u001b[0m\u001b[32m \u001b[0m│\n",
       "│\u001b[36m \u001b[0m\u001b[36m    95\u001b[0m\u001b[36m \u001b[0m│\u001b[36m \u001b[0m\u001b[36m53035987\u001b[0m\u001b[36m \u001b[0m│\u001b[36m \u001b[0m\u001b[36m032820…\u001b[0m\u001b[36m \u001b[0m│\u001b[35m \u001b[0m\u001b[35m        \u001b[0m\u001b[35m \u001b[0m│\u001b[32m \u001b[0m\u001b[32m  False\u001b[0m\u001b[32m \u001b[0m│\u001b[36m \u001b[0m\u001b[36m     858\u001b[0m\u001b[36m \u001b[0m│\u001b[35m \u001b[0m\u001b[35m858    \u001b[0m\u001b[35m \u001b[0m│\u001b[32m \u001b[0m\u001b[32m    True\u001b[0m\u001b[32m \u001b[0m│\u001b[36m \u001b[0m\u001b[36m    375\u001b[0m\u001b[36m \u001b[0m│\u001b[35m \u001b[0m\u001b[35m        \u001b[0m\u001b[35m \u001b[0m│\u001b[32m \u001b[0m\u001b[32m  False\u001b[0m\u001b[32m \u001b[0m│\n",
       "│\u001b[36m \u001b[0m\u001b[36m    96\u001b[0m\u001b[36m \u001b[0m│\u001b[36m \u001b[0m\u001b[36m53035988\u001b[0m\u001b[36m \u001b[0m│\u001b[36m \u001b[0m\u001b[36m032820…\u001b[0m\u001b[36m \u001b[0m│\u001b[35m \u001b[0m\u001b[35m        \u001b[0m\u001b[35m \u001b[0m│\u001b[32m \u001b[0m\u001b[32m  False\u001b[0m\u001b[32m \u001b[0m│\u001b[36m \u001b[0m\u001b[36m     858\u001b[0m\u001b[36m \u001b[0m│\u001b[35m \u001b[0m\u001b[35m858    \u001b[0m\u001b[35m \u001b[0m│\u001b[32m \u001b[0m\u001b[32m    True\u001b[0m\u001b[32m \u001b[0m│\u001b[36m \u001b[0m\u001b[36m    378\u001b[0m\u001b[36m \u001b[0m│\u001b[35m \u001b[0m\u001b[35m        \u001b[0m\u001b[35m \u001b[0m│\u001b[32m \u001b[0m\u001b[32m  False\u001b[0m\u001b[32m \u001b[0m│\n",
       "│\u001b[36m \u001b[0m\u001b[36m    97\u001b[0m\u001b[36m \u001b[0m│\u001b[36m \u001b[0m\u001b[36m53035990\u001b[0m\u001b[36m \u001b[0m│\u001b[36m \u001b[0m\u001b[36m032820…\u001b[0m\u001b[36m \u001b[0m│\u001b[35m \u001b[0m\u001b[35m        \u001b[0m\u001b[35m \u001b[0m│\u001b[32m \u001b[0m\u001b[32m  False\u001b[0m\u001b[32m \u001b[0m│\u001b[36m \u001b[0m\u001b[36m     858\u001b[0m\u001b[36m \u001b[0m│\u001b[35m \u001b[0m\u001b[35m858    \u001b[0m\u001b[35m \u001b[0m│\u001b[32m \u001b[0m\u001b[32m    True\u001b[0m\u001b[32m \u001b[0m│\u001b[36m \u001b[0m\u001b[36m    382\u001b[0m\u001b[36m \u001b[0m│\u001b[35m \u001b[0m\u001b[35m        \u001b[0m\u001b[35m \u001b[0m│\u001b[32m \u001b[0m\u001b[32m  False\u001b[0m\u001b[32m \u001b[0m│\n",
       "│\u001b[36m \u001b[0m\u001b[36m    98\u001b[0m\u001b[36m \u001b[0m│\u001b[36m \u001b[0m\u001b[36m53035991\u001b[0m\u001b[36m \u001b[0m│\u001b[36m \u001b[0m\u001b[36m032820…\u001b[0m\u001b[36m \u001b[0m│\u001b[35m \u001b[0m\u001b[35m        \u001b[0m\u001b[35m \u001b[0m│\u001b[32m \u001b[0m\u001b[32m  False\u001b[0m\u001b[32m \u001b[0m│\u001b[36m \u001b[0m\u001b[36m     858\u001b[0m\u001b[36m \u001b[0m│\u001b[35m \u001b[0m\u001b[35m858    \u001b[0m\u001b[35m \u001b[0m│\u001b[32m \u001b[0m\u001b[32m    True\u001b[0m\u001b[32m \u001b[0m│\u001b[36m \u001b[0m\u001b[36m    386\u001b[0m\u001b[36m \u001b[0m│\u001b[35m \u001b[0m\u001b[35m        \u001b[0m\u001b[35m \u001b[0m│\u001b[32m \u001b[0m\u001b[32m  False\u001b[0m\u001b[32m \u001b[0m│\n",
       "│\u001b[36m \u001b[0m\u001b[36m    99\u001b[0m\u001b[36m \u001b[0m│\u001b[36m \u001b[0m\u001b[36m53035992\u001b[0m\u001b[36m \u001b[0m│\u001b[36m \u001b[0m\u001b[36m032820…\u001b[0m\u001b[36m \u001b[0m│\u001b[35m \u001b[0m\u001b[35m        \u001b[0m\u001b[35m \u001b[0m│\u001b[32m \u001b[0m\u001b[32m  False\u001b[0m\u001b[32m \u001b[0m│\u001b[36m \u001b[0m\u001b[36m    1567\u001b[0m\u001b[36m \u001b[0m│\u001b[35m \u001b[0m\u001b[35m1557   \u001b[0m\u001b[35m \u001b[0m│\u001b[32m \u001b[0m\u001b[32m   False\u001b[0m\u001b[32m \u001b[0m│\u001b[36m \u001b[0m\u001b[36m    395\u001b[0m\u001b[36m \u001b[0m│\u001b[35m \u001b[0m\u001b[35m        \u001b[0m\u001b[35m \u001b[0m│\u001b[32m \u001b[0m\u001b[32m  False\u001b[0m\u001b[32m \u001b[0m│\n",
       "└────────┴──────────┴─────────┴──────────┴─────────┴──────────┴─────────┴──────────┴─────────┴──────────┴─────────┘\n"
      ]
     },
     "metadata": {},
     "output_type": "display_data"
    }
   ],
   "source": [
    "table = Table(title=\"KY set2\")\n",
    "\n",
    "table.add_column(\"S. No.\", justify=\"right\", style=\"cyan\", no_wrap=False)\n",
    "table.add_column(\"Batchid\", justify=\"right\", style=\"cyan\", no_wrap=False)\n",
    "table.add_column(\"6-keyed_values\", justify=\"right\", style=\"cyan\", no_wrap=False)\n",
    "table.add_column(\"6-spacy_values\", style=\"magenta\", no_wrap=False)\n",
    "table.add_column(\"6-match_status\", justify=\"right\", style=\"green\", no_wrap=False)\n",
    "table.add_column(\"92-keyed_values\", justify=\"right\", style=\"cyan\", no_wrap=False)\n",
    "table.add_column(\"92-spacy_values\", style=\"magenta\", no_wrap=False)\n",
    "table.add_column(\"92-match_status\", justify=\"right\", style=\"green\", no_wrap=False)\n",
    "table.add_column(\"93-keyed_values\", justify=\"right\", style=\"cyan\", no_wrap=False)\n",
    "table.add_column(\"93-spacy_values\", style=\"magenta\", no_wrap=False)\n",
    "table.add_column(\"93-match_status\", justify=\"right\", style=\"green\", no_wrap=False)\n",
    "\n",
    "from collections import defaultdict\n",
    "\n",
    "import json\n",
    "import zipfile\n",
    "from pathlib import Path\n",
    "key_dict = defaultdict(list)\n",
    "i = 1\n",
    "batches_avilable = list(Path(\"ok_retest\").iterdir())\n",
    "batches_avilable.sort()\n",
    "for p in track(batches_avilable):\n",
    "    n = str(p.name).replace(\".zip\",'')\n",
    "    # if int(n) not in b93 : continue\n",
    "    with zipfile.ZipFile(p, mode=\"r\") as archive:\n",
    "        try:\n",
    "            name = str(p.name).replace(r'.zip','')\n",
    "            spacyF = archive.open(\"spacy.json\",'r')\n",
    "            outputF = archive.open(\"output_data.json\",'r')\n",
    "            spacy = json.load(spacyF)\n",
    "            output = json.load(outputF)\n",
    "            output = {item[\"id\"]: item[\"value\"] for item in output[\"data\"]}\n",
    "            out92 = output.get('92','')\n",
    "            spacy92 = spacy.get('92','')\n",
    "            match92 = out92.strip() == spacy92.strip()\n",
    "            out93 = output.get('93','')\n",
    "            spacy93 = spacy.get('93','')\n",
    "            match93 = out93.strip() == spacy93.strip()\n",
    "            out6 = output.get('6','')\n",
    "            spacy6 = spacy.get('6','')\n",
    "            match6 = out6.strip() == spacy6.strip()\n",
    "            \n",
    "            table.add_row(f\"{i}\",f\"{name}\",f\"{out6}\",f\"{spacy6}\",f\"{match6}\",f\"{out92}\",f\"{spacy92}\",f\"{match92}\",f\"{out93}\",f\"{spacy93}\",f\"{match93}\") #,f\"{out6}\",f\"{spacy6}\",f\"{match6}\"\n",
    "            key_dict['S.NO.'].append(i)\n",
    "            key_dict['batchid'].append(name)\n",
    "            key_dict['6-keyed_values'].append(out6)\n",
    "            key_dict['6-spacy_values'].append(spacy6)\n",
    "            key_dict['6-match_status'].append(match6)\n",
    "            key_dict['92-keyed_values'].append(out92)\n",
    "            key_dict['92-spacy_values'].append(spacy92)\n",
    "            key_dict['92-match_status'].append(match92)\n",
    "            key_dict['93-keyed_values'].append(out93)\n",
    "            key_dict['93-spacy_values'].append(spacy93)\n",
    "            key_dict['93-match_status'].append(match93)\n",
    "    \n",
    "            # print(\n",
    "            #     f\"batch id = {str(p.name).replace(r'.zip','')} | Field 92 = {spacy.get('92')} | Field 93 = {spacy.get('93')}\"\n",
    "            # )\n",
    "            spacyF.close()\n",
    "            outputF.close()\n",
    "            # print(p.name,data.get(\"5\"),data.get(\"6\"),data.get(\"92\"),data.get(\"93\"))\n",
    "        except Exception as e:\n",
    "            print(e,name)\n",
    "            spacyF.close()\n",
    "            outputF.close()\n",
    "        i+=1\n",
    "\n",
    "console = Console()\n",
    "console.print(table)"
   ]
  },
  {
   "cell_type": "code",
   "execution_count": 11,
   "id": "6e4abb40-1145-42b5-bc6d-cd54261257da",
   "metadata": {
    "deletable": true,
    "editable": true,
    "frozen": false
   },
   "outputs": [
    {
     "data": {
      "text/html": [
       "<pre style=\"white-space:pre;overflow-x:auto;line-height:normal;font-family:Menlo,'DejaVu Sans Mono',consolas,'Courier New',monospace\">batch id = <span style=\"color: #008080; text-decoration-color: #008080; font-weight: bold\">2628740</span> | <span style=\"color: #800080; text-decoration-color: #800080; font-weight: bold\">data.get</span><span style=\"font-weight: bold\">(</span><span style=\"color: #008000; text-decoration-color: #008000\">'5'</span><span style=\"font-weight: bold\">)</span>=<span style=\"color: #800080; text-decoration-color: #800080; font-style: italic\">None</span> | <span style=\"color: #800080; text-decoration-color: #800080; font-weight: bold\">data.get</span><span style=\"font-weight: bold\">(</span><span style=\"color: #008000; text-decoration-color: #008000\">'6'</span><span style=\"font-weight: bold\">)</span>=<span style=\"color: #008000; text-decoration-color: #008000\">'03042024'</span>\n",
       "</pre>\n"
      ],
      "text/plain": [
       "batch id = \u001b[1;36m2628740\u001b[0m | \u001b[1;35mdata.get\u001b[0m\u001b[1m(\u001b[0m\u001b[32m'5'\u001b[0m\u001b[1m)\u001b[0m=\u001b[3;35mNone\u001b[0m | \u001b[1;35mdata.get\u001b[0m\u001b[1m(\u001b[0m\u001b[32m'6'\u001b[0m\u001b[1m)\u001b[0m=\u001b[32m'03042024'\u001b[0m\n"
      ]
     },
     "metadata": {},
     "output_type": "display_data"
    },
    {
     "data": {
      "text/html": [
       "<pre style=\"white-space:pre;overflow-x:auto;line-height:normal;font-family:Menlo,'DejaVu Sans Mono',consolas,'Courier New',monospace\">batch id = <span style=\"color: #008080; text-decoration-color: #008080; font-weight: bold\">2628745</span> | <span style=\"color: #800080; text-decoration-color: #800080; font-weight: bold\">data.get</span><span style=\"font-weight: bold\">(</span><span style=\"color: #008000; text-decoration-color: #008000\">'5'</span><span style=\"font-weight: bold\">)</span>=<span style=\"color: #800080; text-decoration-color: #800080; font-style: italic\">None</span> | <span style=\"color: #800080; text-decoration-color: #800080; font-weight: bold\">data.get</span><span style=\"font-weight: bold\">(</span><span style=\"color: #008000; text-decoration-color: #008000\">'6'</span><span style=\"font-weight: bold\">)</span>=<span style=\"color: #008000; text-decoration-color: #008000\">'03042024'</span>\n",
       "</pre>\n"
      ],
      "text/plain": [
       "batch id = \u001b[1;36m2628745\u001b[0m | \u001b[1;35mdata.get\u001b[0m\u001b[1m(\u001b[0m\u001b[32m'5'\u001b[0m\u001b[1m)\u001b[0m=\u001b[3;35mNone\u001b[0m | \u001b[1;35mdata.get\u001b[0m\u001b[1m(\u001b[0m\u001b[32m'6'\u001b[0m\u001b[1m)\u001b[0m=\u001b[32m'03042024'\u001b[0m\n"
      ]
     },
     "metadata": {},
     "output_type": "display_data"
    },
    {
     "data": {
      "text/html": [
       "<pre style=\"white-space:pre;overflow-x:auto;line-height:normal;font-family:Menlo,'DejaVu Sans Mono',consolas,'Courier New',monospace\">batch id = <span style=\"color: #008080; text-decoration-color: #008080; font-weight: bold\">2632845</span> | <span style=\"color: #800080; text-decoration-color: #800080; font-weight: bold\">data.get</span><span style=\"font-weight: bold\">(</span><span style=\"color: #008000; text-decoration-color: #008000\">'5'</span><span style=\"font-weight: bold\">)</span>=<span style=\"color: #008000; text-decoration-color: #008000\">'523839'</span> | <span style=\"color: #800080; text-decoration-color: #800080; font-weight: bold\">data.get</span><span style=\"font-weight: bold\">(</span><span style=\"color: #008000; text-decoration-color: #008000\">'6'</span><span style=\"font-weight: bold\">)</span>=<span style=\"color: #008000; text-decoration-color: #008000\">'03012024'</span>\n",
       "</pre>\n"
      ],
      "text/plain": [
       "batch id = \u001b[1;36m2632845\u001b[0m | \u001b[1;35mdata.get\u001b[0m\u001b[1m(\u001b[0m\u001b[32m'5'\u001b[0m\u001b[1m)\u001b[0m=\u001b[32m'523839'\u001b[0m | \u001b[1;35mdata.get\u001b[0m\u001b[1m(\u001b[0m\u001b[32m'6'\u001b[0m\u001b[1m)\u001b[0m=\u001b[32m'03012024'\u001b[0m\n"
      ]
     },
     "metadata": {},
     "output_type": "display_data"
    },
    {
     "data": {
      "text/html": [
       "<pre style=\"white-space:pre;overflow-x:auto;line-height:normal;font-family:Menlo,'DejaVu Sans Mono',consolas,'Courier New',monospace\">batch id = <span style=\"color: #008080; text-decoration-color: #008080; font-weight: bold\">2632847</span> | <span style=\"color: #800080; text-decoration-color: #800080; font-weight: bold\">data.get</span><span style=\"font-weight: bold\">(</span><span style=\"color: #008000; text-decoration-color: #008000\">'5'</span><span style=\"font-weight: bold\">)</span>=<span style=\"color: #008000; text-decoration-color: #008000\">'523847'</span> | <span style=\"color: #800080; text-decoration-color: #800080; font-weight: bold\">data.get</span><span style=\"font-weight: bold\">(</span><span style=\"color: #008000; text-decoration-color: #008000\">'6'</span><span style=\"font-weight: bold\">)</span>=<span style=\"color: #008000; text-decoration-color: #008000\">'03012024'</span>\n",
       "</pre>\n"
      ],
      "text/plain": [
       "batch id = \u001b[1;36m2632847\u001b[0m | \u001b[1;35mdata.get\u001b[0m\u001b[1m(\u001b[0m\u001b[32m'5'\u001b[0m\u001b[1m)\u001b[0m=\u001b[32m'523847'\u001b[0m | \u001b[1;35mdata.get\u001b[0m\u001b[1m(\u001b[0m\u001b[32m'6'\u001b[0m\u001b[1m)\u001b[0m=\u001b[32m'03012024'\u001b[0m\n"
      ]
     },
     "metadata": {},
     "output_type": "display_data"
    },
    {
     "data": {
      "text/html": [
       "<pre style=\"white-space:pre;overflow-x:auto;line-height:normal;font-family:Menlo,'DejaVu Sans Mono',consolas,'Courier New',monospace\">batch id = <span style=\"color: #008080; text-decoration-color: #008080; font-weight: bold\">2632848</span> | <span style=\"color: #800080; text-decoration-color: #800080; font-weight: bold\">data.get</span><span style=\"font-weight: bold\">(</span><span style=\"color: #008000; text-decoration-color: #008000\">'5'</span><span style=\"font-weight: bold\">)</span>=<span style=\"color: #800080; text-decoration-color: #800080; font-style: italic\">None</span> | <span style=\"color: #800080; text-decoration-color: #800080; font-weight: bold\">data.get</span><span style=\"font-weight: bold\">(</span><span style=\"color: #008000; text-decoration-color: #008000\">'6'</span><span style=\"font-weight: bold\">)</span>=<span style=\"color: #008000; text-decoration-color: #008000\">'03012024'</span>\n",
       "</pre>\n"
      ],
      "text/plain": [
       "batch id = \u001b[1;36m2632848\u001b[0m | \u001b[1;35mdata.get\u001b[0m\u001b[1m(\u001b[0m\u001b[32m'5'\u001b[0m\u001b[1m)\u001b[0m=\u001b[3;35mNone\u001b[0m | \u001b[1;35mdata.get\u001b[0m\u001b[1m(\u001b[0m\u001b[32m'6'\u001b[0m\u001b[1m)\u001b[0m=\u001b[32m'03012024'\u001b[0m\n"
      ]
     },
     "metadata": {},
     "output_type": "display_data"
    },
    {
     "data": {
      "text/html": [
       "<pre style=\"white-space:pre;overflow-x:auto;line-height:normal;font-family:Menlo,'DejaVu Sans Mono',consolas,'Courier New',monospace\">batch id = <span style=\"color: #008080; text-decoration-color: #008080; font-weight: bold\">2632851</span> | <span style=\"color: #800080; text-decoration-color: #800080; font-weight: bold\">data.get</span><span style=\"font-weight: bold\">(</span><span style=\"color: #008000; text-decoration-color: #008000\">'5'</span><span style=\"font-weight: bold\">)</span>=<span style=\"color: #008000; text-decoration-color: #008000\">'523845'</span> | <span style=\"color: #800080; text-decoration-color: #800080; font-weight: bold\">data.get</span><span style=\"font-weight: bold\">(</span><span style=\"color: #008000; text-decoration-color: #008000\">'6'</span><span style=\"font-weight: bold\">)</span>=<span style=\"color: #008000; text-decoration-color: #008000\">'03012024'</span>\n",
       "</pre>\n"
      ],
      "text/plain": [
       "batch id = \u001b[1;36m2632851\u001b[0m | \u001b[1;35mdata.get\u001b[0m\u001b[1m(\u001b[0m\u001b[32m'5'\u001b[0m\u001b[1m)\u001b[0m=\u001b[32m'523845'\u001b[0m | \u001b[1;35mdata.get\u001b[0m\u001b[1m(\u001b[0m\u001b[32m'6'\u001b[0m\u001b[1m)\u001b[0m=\u001b[32m'03012024'\u001b[0m\n"
      ]
     },
     "metadata": {},
     "output_type": "display_data"
    },
    {
     "data": {
      "text/html": [
       "<pre style=\"white-space:pre;overflow-x:auto;line-height:normal;font-family:Menlo,'DejaVu Sans Mono',consolas,'Courier New',monospace\">batch id = <span style=\"color: #008080; text-decoration-color: #008080; font-weight: bold\">2632853</span> | <span style=\"color: #800080; text-decoration-color: #800080; font-weight: bold\">data.get</span><span style=\"font-weight: bold\">(</span><span style=\"color: #008000; text-decoration-color: #008000\">'5'</span><span style=\"font-weight: bold\">)</span>=<span style=\"color: #800080; text-decoration-color: #800080; font-style: italic\">None</span> | <span style=\"color: #800080; text-decoration-color: #800080; font-weight: bold\">data.get</span><span style=\"font-weight: bold\">(</span><span style=\"color: #008000; text-decoration-color: #008000\">'6'</span><span style=\"font-weight: bold\">)</span>=<span style=\"color: #008000; text-decoration-color: #008000\">'03012024'</span>\n",
       "</pre>\n"
      ],
      "text/plain": [
       "batch id = \u001b[1;36m2632853\u001b[0m | \u001b[1;35mdata.get\u001b[0m\u001b[1m(\u001b[0m\u001b[32m'5'\u001b[0m\u001b[1m)\u001b[0m=\u001b[3;35mNone\u001b[0m | \u001b[1;35mdata.get\u001b[0m\u001b[1m(\u001b[0m\u001b[32m'6'\u001b[0m\u001b[1m)\u001b[0m=\u001b[32m'03012024'\u001b[0m\n"
      ]
     },
     "metadata": {},
     "output_type": "display_data"
    },
    {
     "data": {
      "text/html": [
       "<pre style=\"white-space:pre;overflow-x:auto;line-height:normal;font-family:Menlo,'DejaVu Sans Mono',consolas,'Courier New',monospace\">batch id = <span style=\"color: #008080; text-decoration-color: #008080; font-weight: bold\">2632854</span> | <span style=\"color: #800080; text-decoration-color: #800080; font-weight: bold\">data.get</span><span style=\"font-weight: bold\">(</span><span style=\"color: #008000; text-decoration-color: #008000\">'5'</span><span style=\"font-weight: bold\">)</span>=<span style=\"color: #800080; text-decoration-color: #800080; font-style: italic\">None</span> | <span style=\"color: #800080; text-decoration-color: #800080; font-weight: bold\">data.get</span><span style=\"font-weight: bold\">(</span><span style=\"color: #008000; text-decoration-color: #008000\">'6'</span><span style=\"font-weight: bold\">)</span>=<span style=\"color: #008000; text-decoration-color: #008000\">'03012024'</span>\n",
       "</pre>\n"
      ],
      "text/plain": [
       "batch id = \u001b[1;36m2632854\u001b[0m | \u001b[1;35mdata.get\u001b[0m\u001b[1m(\u001b[0m\u001b[32m'5'\u001b[0m\u001b[1m)\u001b[0m=\u001b[3;35mNone\u001b[0m | \u001b[1;35mdata.get\u001b[0m\u001b[1m(\u001b[0m\u001b[32m'6'\u001b[0m\u001b[1m)\u001b[0m=\u001b[32m'03012024'\u001b[0m\n"
      ]
     },
     "metadata": {},
     "output_type": "display_data"
    },
    {
     "data": {
      "text/html": [
       "<pre style=\"white-space:pre;overflow-x:auto;line-height:normal;font-family:Menlo,'DejaVu Sans Mono',consolas,'Courier New',monospace\">batch id = <span style=\"color: #008080; text-decoration-color: #008080; font-weight: bold\">2632855</span> | <span style=\"color: #800080; text-decoration-color: #800080; font-weight: bold\">data.get</span><span style=\"font-weight: bold\">(</span><span style=\"color: #008000; text-decoration-color: #008000\">'5'</span><span style=\"font-weight: bold\">)</span>=<span style=\"color: #008000; text-decoration-color: #008000\">'529843'</span> | <span style=\"color: #800080; text-decoration-color: #800080; font-weight: bold\">data.get</span><span style=\"font-weight: bold\">(</span><span style=\"color: #008000; text-decoration-color: #008000\">'6'</span><span style=\"font-weight: bold\">)</span>=<span style=\"color: #008000; text-decoration-color: #008000\">'03012024'</span>\n",
       "</pre>\n"
      ],
      "text/plain": [
       "batch id = \u001b[1;36m2632855\u001b[0m | \u001b[1;35mdata.get\u001b[0m\u001b[1m(\u001b[0m\u001b[32m'5'\u001b[0m\u001b[1m)\u001b[0m=\u001b[32m'529843'\u001b[0m | \u001b[1;35mdata.get\u001b[0m\u001b[1m(\u001b[0m\u001b[32m'6'\u001b[0m\u001b[1m)\u001b[0m=\u001b[32m'03012024'\u001b[0m\n"
      ]
     },
     "metadata": {},
     "output_type": "display_data"
    }
   ],
   "source": [
    "import json\n",
    "import zipfile\n",
    "from pathlib import Path\n",
    "from rich import print\n",
    "for p in Path(\n",
    "    r\"C:\\Users\\surakumar\\OneDrive - CoreLogic Solutions, LLC\\Downloads\\pythonCode\\ok_retest\"\n",
    ").iterdir():\n",
    "    with zipfile.ZipFile(p, mode=\"r\") as archive:\n",
    "        with archive.open(\"spacy.json\", \"r\") as file:\n",
    "            data = json.load(file)\n",
    "            # data = {item[\"id\"]: item[\"value\"] for item in data[\"data\"]}\n",
    "            # print(\n",
    "            #     f\"batch id = {str(p.name).replace(r'.zip','')} | Field 5 = {data.get('5')} | Field 6 = {data.get('6')} | Field 92 = {data.get('92')} | Field 93 = {data.get('93')}\"\n",
    "            # )\n",
    "            print(\n",
    "                f\"batch id = {str(p.name).replace(r'.zip','')} | {data.get('5')=} | {data.get('6')=}\"\n",
    "            )\n",
    "            # print(p.name,data.get(\"5\"),data.get(\"6\"),data.get(\"92\"),data.get(\"93\"))"
   ]
  },
  {
   "cell_type": "code",
   "execution_count": 14,
   "id": "e7858f29-aeaf-4cc6-ab16-fe9549b877ac",
   "metadata": {
    "deletable": true,
    "editable": true,
    "frozen": false
   },
   "outputs": [
    {
     "data": {
      "application/vnd.jupyter.widget-view+json": {
       "model_id": "2ea829a54565487d8dcc2c62b261e6ec",
       "version_major": 2,
       "version_minor": 0
      },
      "text/plain": [
       "Output()"
      ]
     },
     "metadata": {},
     "output_type": "display_data"
    },
    {
     "data": {
      "text/html": [
       "<pre style=\"white-space:pre;overflow-x:auto;line-height:normal;font-family:Menlo,'DejaVu Sans Mono',consolas,'Courier New',monospace\"></pre>\n"
      ],
      "text/plain": []
     },
     "metadata": {},
     "output_type": "display_data"
    },
    {
     "data": {
      "text/html": [
       "<pre style=\"white-space:pre;overflow-x:auto;line-height:normal;font-family:Menlo,'DejaVu Sans Mono',consolas,'Courier New',monospace\">\n",
       "</pre>\n"
      ],
      "text/plain": [
       "\n"
      ]
     },
     "metadata": {},
     "output_type": "display_data"
    },
    {
     "data": {
      "text/html": [
       "<pre style=\"white-space:pre;overflow-x:auto;line-height:normal;font-family:Menlo,'DejaVu Sans Mono',consolas,'Courier New',monospace\"><span style=\"font-style: italic\">                                                      KY set2                                                      </span>\n",
       "┏━━━━━━━━━┳━━━━━━━━━━━┳━━━━━━━━━━┳━━━━━━━━━━━┳━━━━━━━━━━┳━━━━━━━━━━━┳━━━━━━━━━━┳━━━━━━━━━━━┳━━━━━━━━━━┳━━━━━━━━━━━┓\n",
       "┃<span style=\"font-weight: bold\"> Batchid </span>┃<span style=\"font-weight: bold\"> 6-keyed_… </span>┃<span style=\"font-weight: bold\"> 6-spacy… </span>┃<span style=\"font-weight: bold\"> 6-match_… </span>┃<span style=\"font-weight: bold\"> 92-keye… </span>┃<span style=\"font-weight: bold\"> 92-spacy… </span>┃<span style=\"font-weight: bold\"> 92-matc… </span>┃<span style=\"font-weight: bold\"> 93-keyed… </span>┃<span style=\"font-weight: bold\"> 93-spac… </span>┃<span style=\"font-weight: bold\"> 93-match… </span>┃\n",
       "┡━━━━━━━━━╇━━━━━━━━━━━╇━━━━━━━━━━╇━━━━━━━━━━━╇━━━━━━━━━━╇━━━━━━━━━━━╇━━━━━━━━━━╇━━━━━━━━━━━╇━━━━━━━━━━╇━━━━━━━━━━━┩\n",
       "│<span style=\"color: #008080; text-decoration-color: #008080\"> 2635901 </span>│<span style=\"color: #008080; text-decoration-color: #008080\">       176 </span>│<span style=\"color: #800080; text-decoration-color: #800080\">          </span>│<span style=\"color: #008000; text-decoration-color: #008000\">     False </span>│<span style=\"color: #008080; text-decoration-color: #008080\">          </span>│<span style=\"color: #800080; text-decoration-color: #800080\"> 176       </span>│<span style=\"color: #008000; text-decoration-color: #008000\">    False </span>│<span style=\"color: #008080; text-decoration-color: #008080\">           </span>│<span style=\"color: #800080; text-decoration-color: #800080\"> 626      </span>│<span style=\"color: #008000; text-decoration-color: #008000\">     False </span>│\n",
       "│<span style=\"color: #008080; text-decoration-color: #008080\"> 2637159 </span>│<span style=\"color: #008080; text-decoration-color: #008080\">       220 </span>│<span style=\"color: #800080; text-decoration-color: #800080\">          </span>│<span style=\"color: #008000; text-decoration-color: #008000\">     False </span>│<span style=\"color: #008080; text-decoration-color: #008080\">          </span>│<span style=\"color: #800080; text-decoration-color: #800080\"> 220       </span>│<span style=\"color: #008000; text-decoration-color: #008000\">    False </span>│<span style=\"color: #008080; text-decoration-color: #008080\">           </span>│<span style=\"color: #800080; text-decoration-color: #800080\"> 82       </span>│<span style=\"color: #008000; text-decoration-color: #008000\">     False </span>│\n",
       "│<span style=\"color: #008080; text-decoration-color: #008080\"> 2637177 </span>│<span style=\"color: #008080; text-decoration-color: #008080\">       428 </span>│<span style=\"color: #800080; text-decoration-color: #800080\"> 03132024 </span>│<span style=\"color: #008000; text-decoration-color: #008000\">     False </span>│<span style=\"color: #008080; text-decoration-color: #008080\">          </span>│<span style=\"color: #800080; text-decoration-color: #800080\"> 428       </span>│<span style=\"color: #008000; text-decoration-color: #008000\">    False </span>│<span style=\"color: #008080; text-decoration-color: #008080\">           </span>│<span style=\"color: #800080; text-decoration-color: #800080\"> 264      </span>│<span style=\"color: #008000; text-decoration-color: #008000\">     False </span>│\n",
       "│<span style=\"color: #008080; text-decoration-color: #008080\"> 2637185 </span>│<span style=\"color: #008080; text-decoration-color: #008080\">       220 </span>│<span style=\"color: #800080; text-decoration-color: #800080\"> 03132024 </span>│<span style=\"color: #008000; text-decoration-color: #008000\">     False </span>│<span style=\"color: #008080; text-decoration-color: #008080\">          </span>│<span style=\"color: #800080; text-decoration-color: #800080\"> 220       </span>│<span style=\"color: #008000; text-decoration-color: #008000\">    False </span>│<span style=\"color: #008080; text-decoration-color: #008080\">           </span>│<span style=\"color: #800080; text-decoration-color: #800080\"> 86       </span>│<span style=\"color: #008000; text-decoration-color: #008000\">     False </span>│\n",
       "│<span style=\"color: #008080; text-decoration-color: #008080\"> 2637187 </span>│<span style=\"color: #008080; text-decoration-color: #008080\">       220 </span>│<span style=\"color: #800080; text-decoration-color: #800080\"> 03132024 </span>│<span style=\"color: #008000; text-decoration-color: #008000\">     False </span>│<span style=\"color: #008080; text-decoration-color: #008080\">          </span>│<span style=\"color: #800080; text-decoration-color: #800080\"> 220       </span>│<span style=\"color: #008000; text-decoration-color: #008000\">    False </span>│<span style=\"color: #008080; text-decoration-color: #008080\">           </span>│<span style=\"color: #800080; text-decoration-color: #800080\"> 96       </span>│<span style=\"color: #008000; text-decoration-color: #008000\">     False </span>│\n",
       "│<span style=\"color: #008080; text-decoration-color: #008080\"> 2637196 </span>│<span style=\"color: #008080; text-decoration-color: #008080\">       428 </span>│<span style=\"color: #800080; text-decoration-color: #800080\"> 03132024 </span>│<span style=\"color: #008000; text-decoration-color: #008000\">     False </span>│<span style=\"color: #008080; text-decoration-color: #008080\">          </span>│<span style=\"color: #800080; text-decoration-color: #800080\"> 428       </span>│<span style=\"color: #008000; text-decoration-color: #008000\">    False </span>│<span style=\"color: #008080; text-decoration-color: #008080\">           </span>│<span style=\"color: #800080; text-decoration-color: #800080\"> 278      </span>│<span style=\"color: #008000; text-decoration-color: #008000\">     False </span>│\n",
       "│<span style=\"color: #008080; text-decoration-color: #008080\"> 2637277 </span>│<span style=\"color: #008080; text-decoration-color: #008080\">  03132024 </span>│<span style=\"color: #800080; text-decoration-color: #800080\">          </span>│<span style=\"color: #008000; text-decoration-color: #008000\">     False </span>│<span style=\"color: #008080; text-decoration-color: #008080\">      176 </span>│<span style=\"color: #800080; text-decoration-color: #800080\"> 176       </span>│<span style=\"color: #008000; text-decoration-color: #008000\">     True </span>│<span style=\"color: #008080; text-decoration-color: #008080\">       176 </span>│<span style=\"color: #800080; text-decoration-color: #800080\"> 614      </span>│<span style=\"color: #008000; text-decoration-color: #008000\">     False </span>│\n",
       "│<span style=\"color: #008080; text-decoration-color: #008080\"> 2637436 </span>│<span style=\"color: #008080; text-decoration-color: #008080\">        19 </span>│<span style=\"color: #800080; text-decoration-color: #800080\"> 03142024 </span>│<span style=\"color: #008000; text-decoration-color: #008000\">     False </span>│<span style=\"color: #008080; text-decoration-color: #008080\">          </span>│<span style=\"color: #800080; text-decoration-color: #800080\"> 19        </span>│<span style=\"color: #008000; text-decoration-color: #008000\">    False </span>│<span style=\"color: #008080; text-decoration-color: #008080\">           </span>│<span style=\"color: #800080; text-decoration-color: #800080\"> 50       </span>│<span style=\"color: #008000; text-decoration-color: #008000\">     False </span>│\n",
       "│<span style=\"color: #008080; text-decoration-color: #008080\"> 2638208 </span>│<span style=\"color: #008080; text-decoration-color: #008080\">  02272024 </span>│<span style=\"color: #800080; text-decoration-color: #800080\">          </span>│<span style=\"color: #008000; text-decoration-color: #008000\">     False </span>│<span style=\"color: #008080; text-decoration-color: #008080\">      286 </span>│<span style=\"color: #800080; text-decoration-color: #800080\"> 286       </span>│<span style=\"color: #008000; text-decoration-color: #008000\">     True </span>│<span style=\"color: #008080; text-decoration-color: #008080\">       286 </span>│<span style=\"color: #800080; text-decoration-color: #800080\"> 615      </span>│<span style=\"color: #008000; text-decoration-color: #008000\">     False </span>│\n",
       "│<span style=\"color: #008080; text-decoration-color: #008080\"> 2638212 </span>│<span style=\"color: #008080; text-decoration-color: #008080\">  02272024 </span>│<span style=\"color: #800080; text-decoration-color: #800080\">          </span>│<span style=\"color: #008000; text-decoration-color: #008000\">     False </span>│<span style=\"color: #008080; text-decoration-color: #008080\">      286 </span>│<span style=\"color: #800080; text-decoration-color: #800080\"> 286       </span>│<span style=\"color: #008000; text-decoration-color: #008000\">     True </span>│<span style=\"color: #008080; text-decoration-color: #008080\">       286 </span>│<span style=\"color: #800080; text-decoration-color: #800080\"> 617      </span>│<span style=\"color: #008000; text-decoration-color: #008000\">     False </span>│\n",
       "│<span style=\"color: #008080; text-decoration-color: #008080\"> 2638213 </span>│<span style=\"color: #008080; text-decoration-color: #008080\">  02272024 </span>│<span style=\"color: #800080; text-decoration-color: #800080\">          </span>│<span style=\"color: #008000; text-decoration-color: #008000\">     False </span>│<span style=\"color: #008080; text-decoration-color: #008080\">      286 </span>│<span style=\"color: #800080; text-decoration-color: #800080\"> 286       </span>│<span style=\"color: #008000; text-decoration-color: #008000\">     True </span>│<span style=\"color: #008080; text-decoration-color: #008080\">       286 </span>│<span style=\"color: #800080; text-decoration-color: #800080\">          </span>│<span style=\"color: #008000; text-decoration-color: #008000\">     False </span>│\n",
       "│<span style=\"color: #008080; text-decoration-color: #008080\"> 2638223 </span>│<span style=\"color: #008080; text-decoration-color: #008080\">  02272024 </span>│<span style=\"color: #800080; text-decoration-color: #800080\"> 02272024 </span>│<span style=\"color: #008000; text-decoration-color: #008000\">      True </span>│<span style=\"color: #008080; text-decoration-color: #008080\">      857 </span>│<span style=\"color: #800080; text-decoration-color: #800080\"> 857       </span>│<span style=\"color: #008000; text-decoration-color: #008000\">     True </span>│<span style=\"color: #008080; text-decoration-color: #008080\">       857 </span>│<span style=\"color: #800080; text-decoration-color: #800080\">          </span>│<span style=\"color: #008000; text-decoration-color: #008000\">     False </span>│\n",
       "│<span style=\"color: #008080; text-decoration-color: #008080\"> 2638251 </span>│<span style=\"color: #008080; text-decoration-color: #008080\">  02272024 </span>│<span style=\"color: #800080; text-decoration-color: #800080\"> 02272024 </span>│<span style=\"color: #008000; text-decoration-color: #008000\">      True </span>│<span style=\"color: #008080; text-decoration-color: #008080\">      857 </span>│<span style=\"color: #800080; text-decoration-color: #800080\"> 857       </span>│<span style=\"color: #008000; text-decoration-color: #008000\">     True </span>│<span style=\"color: #008080; text-decoration-color: #008080\">       857 </span>│<span style=\"color: #800080; text-decoration-color: #800080\">          </span>│<span style=\"color: #008000; text-decoration-color: #008000\">     False </span>│\n",
       "│<span style=\"color: #008080; text-decoration-color: #008080\"> 2638256 </span>│<span style=\"color: #008080; text-decoration-color: #008080\">  02272024 </span>│<span style=\"color: #800080; text-decoration-color: #800080\">          </span>│<span style=\"color: #008000; text-decoration-color: #008000\">     False </span>│<span style=\"color: #008080; text-decoration-color: #008080\">      857 </span>│<span style=\"color: #800080; text-decoration-color: #800080\"> 857       </span>│<span style=\"color: #008000; text-decoration-color: #008000\">     True </span>│<span style=\"color: #008080; text-decoration-color: #008080\">       857 </span>│<span style=\"color: #800080; text-decoration-color: #800080\">          </span>│<span style=\"color: #008000; text-decoration-color: #008000\">     False </span>│\n",
       "│<span style=\"color: #008080; text-decoration-color: #008080\"> 2638258 </span>│<span style=\"color: #008080; text-decoration-color: #008080\">  02272024 </span>│<span style=\"color: #800080; text-decoration-color: #800080\">          </span>│<span style=\"color: #008000; text-decoration-color: #008000\">     False </span>│<span style=\"color: #008080; text-decoration-color: #008080\">      286 </span>│<span style=\"color: #800080; text-decoration-color: #800080\"> 286       </span>│<span style=\"color: #008000; text-decoration-color: #008000\">     True </span>│<span style=\"color: #008080; text-decoration-color: #008080\">       286 </span>│<span style=\"color: #800080; text-decoration-color: #800080\">          </span>│<span style=\"color: #008000; text-decoration-color: #008000\">     False </span>│\n",
       "│<span style=\"color: #008080; text-decoration-color: #008080\"> 2641548 </span>│<span style=\"color: #008080; text-decoration-color: #008080\">         7 </span>│<span style=\"color: #800080; text-decoration-color: #800080\"> 03122024 </span>│<span style=\"color: #008000; text-decoration-color: #008000\">     False </span>│<span style=\"color: #008080; text-decoration-color: #008080\">          </span>│<span style=\"color: #800080; text-decoration-color: #800080\"> 7         </span>│<span style=\"color: #008000; text-decoration-color: #008000\">    False </span>│<span style=\"color: #008080; text-decoration-color: #008080\">           </span>│<span style=\"color: #800080; text-decoration-color: #800080\"> 58       </span>│<span style=\"color: #008000; text-decoration-color: #008000\">     False </span>│\n",
       "│<span style=\"color: #008080; text-decoration-color: #008080\"> 2641560 </span>│<span style=\"color: #008080; text-decoration-color: #008080\">       325 </span>│<span style=\"color: #800080; text-decoration-color: #800080\"> 03122024 </span>│<span style=\"color: #008000; text-decoration-color: #008000\">     False </span>│<span style=\"color: #008080; text-decoration-color: #008080\">          </span>│<span style=\"color: #800080; text-decoration-color: #800080\"> 28        </span>│<span style=\"color: #008000; text-decoration-color: #008000\">    False </span>│<span style=\"color: #008080; text-decoration-color: #008080\">           </span>│<span style=\"color: #800080; text-decoration-color: #800080\"> 110      </span>│<span style=\"color: #008000; text-decoration-color: #008000\">     False </span>│\n",
       "│<span style=\"color: #008080; text-decoration-color: #008080\"> 2641711 </span>│<span style=\"color: #008080; text-decoration-color: #008080\">       100 </span>│<span style=\"color: #800080; text-decoration-color: #800080\">          </span>│<span style=\"color: #008000; text-decoration-color: #008000\">     False </span>│<span style=\"color: #008080; text-decoration-color: #008080\">          </span>│<span style=\"color: #800080; text-decoration-color: #800080\"> 100       </span>│<span style=\"color: #008000; text-decoration-color: #008000\">    False </span>│<span style=\"color: #008080; text-decoration-color: #008080\">           </span>│<span style=\"color: #800080; text-decoration-color: #800080\"> 352      </span>│<span style=\"color: #008000; text-decoration-color: #008000\">     False </span>│\n",
       "│<span style=\"color: #008080; text-decoration-color: #008080\"> 2641712 </span>│<span style=\"color: #008080; text-decoration-color: #008080\">        10 </span>│<span style=\"color: #800080; text-decoration-color: #800080\">          </span>│<span style=\"color: #008000; text-decoration-color: #008000\">     False </span>│<span style=\"color: #008080; text-decoration-color: #008080\">          </span>│<span style=\"color: #800080; text-decoration-color: #800080\">           </span>│<span style=\"color: #008000; text-decoration-color: #008000\">     True </span>│<span style=\"color: #008080; text-decoration-color: #008080\">           </span>│<span style=\"color: #800080; text-decoration-color: #800080\"> 15       </span>│<span style=\"color: #008000; text-decoration-color: #008000\">     False </span>│\n",
       "│<span style=\"color: #008080; text-decoration-color: #008080\"> 2641764 </span>│<span style=\"color: #008080; text-decoration-color: #008080\">  03122024 </span>│<span style=\"color: #800080; text-decoration-color: #800080\">          </span>│<span style=\"color: #008000; text-decoration-color: #008000\">     False </span>│<span style=\"color: #008080; text-decoration-color: #008080\">     3443 </span>│<span style=\"color: #800080; text-decoration-color: #800080\">           </span>│<span style=\"color: #008000; text-decoration-color: #008000\">    False </span>│<span style=\"color: #008080; text-decoration-color: #008080\">      3443 </span>│<span style=\"color: #800080; text-decoration-color: #800080\"> 495      </span>│<span style=\"color: #008000; text-decoration-color: #008000\">     False </span>│\n",
       "│<span style=\"color: #008080; text-decoration-color: #008080\"> 2641765 </span>│<span style=\"color: #008080; text-decoration-color: #008080\">  03122024 </span>│<span style=\"color: #800080; text-decoration-color: #800080\">          </span>│<span style=\"color: #008000; text-decoration-color: #008000\">     False </span>│<span style=\"color: #008080; text-decoration-color: #008080\">     3443 </span>│<span style=\"color: #800080; text-decoration-color: #800080\">           </span>│<span style=\"color: #008000; text-decoration-color: #008000\">    False </span>│<span style=\"color: #008080; text-decoration-color: #008080\">      3443 </span>│<span style=\"color: #800080; text-decoration-color: #800080\"> 497      </span>│<span style=\"color: #008000; text-decoration-color: #008000\">     False </span>│\n",
       "│<span style=\"color: #008080; text-decoration-color: #008080\"> 2641766 </span>│<span style=\"color: #008080; text-decoration-color: #008080\">  03122024 </span>│<span style=\"color: #800080; text-decoration-color: #800080\">          </span>│<span style=\"color: #008000; text-decoration-color: #008000\">     False </span>│<span style=\"color: #008080; text-decoration-color: #008080\">     3443 </span>│<span style=\"color: #800080; text-decoration-color: #800080\">           </span>│<span style=\"color: #008000; text-decoration-color: #008000\">    False </span>│<span style=\"color: #008080; text-decoration-color: #008080\">      3443 </span>│<span style=\"color: #800080; text-decoration-color: #800080\"> 499      </span>│<span style=\"color: #008000; text-decoration-color: #008000\">     False </span>│\n",
       "│<span style=\"color: #008080; text-decoration-color: #008080\"> 2641794 </span>│<span style=\"color: #008080; text-decoration-color: #008080\">         2 </span>│<span style=\"color: #800080; text-decoration-color: #800080\"> 03112024 </span>│<span style=\"color: #008000; text-decoration-color: #008000\">     False </span>│<span style=\"color: #008080; text-decoration-color: #008080\">          </span>│<span style=\"color: #800080; text-decoration-color: #800080\"> 2         </span>│<span style=\"color: #008000; text-decoration-color: #008000\">    False </span>│<span style=\"color: #008080; text-decoration-color: #008080\">           </span>│<span style=\"color: #800080; text-decoration-color: #800080\"> 429      </span>│<span style=\"color: #008000; text-decoration-color: #008000\">     False </span>│\n",
       "│<span style=\"color: #008080; text-decoration-color: #008080\"> 2641803 </span>│<span style=\"color: #008080; text-decoration-color: #008080\">        41 </span>│<span style=\"color: #800080; text-decoration-color: #800080\"> 03112024 </span>│<span style=\"color: #008000; text-decoration-color: #008000\">     False </span>│<span style=\"color: #008080; text-decoration-color: #008080\">          </span>│<span style=\"color: #800080; text-decoration-color: #800080\"> 41        </span>│<span style=\"color: #008000; text-decoration-color: #008000\">    False </span>│<span style=\"color: #008080; text-decoration-color: #008080\">           </span>│<span style=\"color: #800080; text-decoration-color: #800080\"> 674      </span>│<span style=\"color: #008000; text-decoration-color: #008000\">     False </span>│\n",
       "│<span style=\"color: #008080; text-decoration-color: #008080\"> 2641831 </span>│<span style=\"color: #008080; text-decoration-color: #008080\">         9 </span>│<span style=\"color: #800080; text-decoration-color: #800080\"> 03112024 </span>│<span style=\"color: #008000; text-decoration-color: #008000\">     False </span>│<span style=\"color: #008080; text-decoration-color: #008080\">          </span>│<span style=\"color: #800080; text-decoration-color: #800080\">           </span>│<span style=\"color: #008000; text-decoration-color: #008000\">     True </span>│<span style=\"color: #008080; text-decoration-color: #008080\">           </span>│<span style=\"color: #800080; text-decoration-color: #800080\"> 246      </span>│<span style=\"color: #008000; text-decoration-color: #008000\">     False </span>│\n",
       "│<span style=\"color: #008080; text-decoration-color: #008080\"> 2641834 </span>│<span style=\"color: #008080; text-decoration-color: #008080\">      1122 </span>│<span style=\"color: #800080; text-decoration-color: #800080\"> 03112024 </span>│<span style=\"color: #008000; text-decoration-color: #008000\">     False </span>│<span style=\"color: #008080; text-decoration-color: #008080\">          </span>│<span style=\"color: #800080; text-decoration-color: #800080\"> 1122      </span>│<span style=\"color: #008000; text-decoration-color: #008000\">    False </span>│<span style=\"color: #008080; text-decoration-color: #008080\">           </span>│<span style=\"color: #800080; text-decoration-color: #800080\"> 351      </span>│<span style=\"color: #008000; text-decoration-color: #008000\">     False </span>│\n",
       "│<span style=\"color: #008080; text-decoration-color: #008080\"> 2641838 </span>│<span style=\"color: #008080; text-decoration-color: #008080\">         9 </span>│<span style=\"color: #800080; text-decoration-color: #800080\">          </span>│<span style=\"color: #008000; text-decoration-color: #008000\">     False </span>│<span style=\"color: #008080; text-decoration-color: #008080\">          </span>│<span style=\"color: #800080; text-decoration-color: #800080\">           </span>│<span style=\"color: #008000; text-decoration-color: #008000\">     True </span>│<span style=\"color: #008080; text-decoration-color: #008080\">           </span>│<span style=\"color: #800080; text-decoration-color: #800080\"> 247      </span>│<span style=\"color: #008000; text-decoration-color: #008000\">     False </span>│\n",
       "│<span style=\"color: #008080; text-decoration-color: #008080\"> 2641847 </span>│<span style=\"color: #008080; text-decoration-color: #008080\">  03112024 </span>│<span style=\"color: #800080; text-decoration-color: #800080\">          </span>│<span style=\"color: #008000; text-decoration-color: #008000\">     False </span>│<span style=\"color: #008080; text-decoration-color: #008080\">     1122 </span>│<span style=\"color: #800080; text-decoration-color: #800080\">           </span>│<span style=\"color: #008000; text-decoration-color: #008000\">    False </span>│<span style=\"color: #008080; text-decoration-color: #008080\">      1122 </span>│<span style=\"color: #800080; text-decoration-color: #800080\"> 387      </span>│<span style=\"color: #008000; text-decoration-color: #008000\">     False </span>│\n",
       "│<span style=\"color: #008080; text-decoration-color: #008080\"> 2641848 </span>│<span style=\"color: #008080; text-decoration-color: #008080\">  03112024 </span>│<span style=\"color: #800080; text-decoration-color: #800080\">          </span>│<span style=\"color: #008000; text-decoration-color: #008000\">     False </span>│<span style=\"color: #008080; text-decoration-color: #008080\">     1122 </span>│<span style=\"color: #800080; text-decoration-color: #800080\">           </span>│<span style=\"color: #008000; text-decoration-color: #008000\">    False </span>│<span style=\"color: #008080; text-decoration-color: #008080\">      1122 </span>│<span style=\"color: #800080; text-decoration-color: #800080\"> 406      </span>│<span style=\"color: #008000; text-decoration-color: #008000\">     False </span>│\n",
       "│<span style=\"color: #008080; text-decoration-color: #008080\"> 2641849 </span>│<span style=\"color: #008080; text-decoration-color: #008080\">  03112024 </span>│<span style=\"color: #800080; text-decoration-color: #800080\"> 03112024 </span>│<span style=\"color: #008000; text-decoration-color: #008000\">      True </span>│<span style=\"color: #008080; text-decoration-color: #008080\">      112 </span>│<span style=\"color: #800080; text-decoration-color: #800080\">           </span>│<span style=\"color: #008000; text-decoration-color: #008000\">    False </span>│<span style=\"color: #008080; text-decoration-color: #008080\">       112 </span>│<span style=\"color: #800080; text-decoration-color: #800080\"> 426      </span>│<span style=\"color: #008000; text-decoration-color: #008000\">     False </span>│\n",
       "│<span style=\"color: #008080; text-decoration-color: #008080\"> 2641945 </span>│<span style=\"color: #008080; text-decoration-color: #008080\">  03082024 </span>│<span style=\"color: #800080; text-decoration-color: #800080\">          </span>│<span style=\"color: #008000; text-decoration-color: #008000\">     False </span>│<span style=\"color: #008080; text-decoration-color: #008080\">      365 </span>│<span style=\"color: #800080; text-decoration-color: #800080\">           </span>│<span style=\"color: #008000; text-decoration-color: #008000\">    False </span>│<span style=\"color: #008080; text-decoration-color: #008080\">       365 </span>│<span style=\"color: #800080; text-decoration-color: #800080\"> 302      </span>│<span style=\"color: #008000; text-decoration-color: #008000\">     False </span>│\n",
       "│<span style=\"color: #008080; text-decoration-color: #008080\"> 2641947 </span>│<span style=\"color: #008080; text-decoration-color: #008080\">  03082024 </span>│<span style=\"color: #800080; text-decoration-color: #800080\">          </span>│<span style=\"color: #008000; text-decoration-color: #008000\">     False </span>│<span style=\"color: #008080; text-decoration-color: #008080\">      365 </span>│<span style=\"color: #800080; text-decoration-color: #800080\"> 365       </span>│<span style=\"color: #008000; text-decoration-color: #008000\">     True </span>│<span style=\"color: #008080; text-decoration-color: #008080\">       365 </span>│<span style=\"color: #800080; text-decoration-color: #800080\"> 324      </span>│<span style=\"color: #008000; text-decoration-color: #008000\">     False </span>│\n",
       "│<span style=\"color: #008080; text-decoration-color: #008080\"> 2641949 </span>│<span style=\"color: #008080; text-decoration-color: #008080\">  03082024 </span>│<span style=\"color: #800080; text-decoration-color: #800080\"> 03082024 </span>│<span style=\"color: #008000; text-decoration-color: #008000\">      True </span>│<span style=\"color: #008080; text-decoration-color: #008080\">      365 </span>│<span style=\"color: #800080; text-decoration-color: #800080\">           </span>│<span style=\"color: #008000; text-decoration-color: #008000\">    False </span>│<span style=\"color: #008080; text-decoration-color: #008080\">       365 </span>│<span style=\"color: #800080; text-decoration-color: #800080\"> 326      </span>│<span style=\"color: #008000; text-decoration-color: #008000\">     False </span>│\n",
       "│<span style=\"color: #008080; text-decoration-color: #008080\"> 2641968 </span>│<span style=\"color: #008080; text-decoration-color: #008080\">  03132024 </span>│<span style=\"color: #800080; text-decoration-color: #800080\">          </span>│<span style=\"color: #008000; text-decoration-color: #008000\">     False </span>│<span style=\"color: #008080; text-decoration-color: #008080\">      176 </span>│<span style=\"color: #800080; text-decoration-color: #800080\"> 176       </span>│<span style=\"color: #008000; text-decoration-color: #008000\">     True </span>│<span style=\"color: #008080; text-decoration-color: #008080\">       176 </span>│<span style=\"color: #800080; text-decoration-color: #800080\"> 614      </span>│<span style=\"color: #008000; text-decoration-color: #008000\">     False </span>│\n",
       "│<span style=\"color: #008080; text-decoration-color: #008080\"> 2641998 </span>│<span style=\"color: #008080; text-decoration-color: #008080\">        19 </span>│<span style=\"color: #800080; text-decoration-color: #800080\"> 03142024 </span>│<span style=\"color: #008000; text-decoration-color: #008000\">     False </span>│<span style=\"color: #008080; text-decoration-color: #008080\">          </span>│<span style=\"color: #800080; text-decoration-color: #800080\"> 19        </span>│<span style=\"color: #008000; text-decoration-color: #008000\">    False </span>│<span style=\"color: #008080; text-decoration-color: #008080\">           </span>│<span style=\"color: #800080; text-decoration-color: #800080\"> 50       </span>│<span style=\"color: #008000; text-decoration-color: #008000\">     False </span>│\n",
       "│<span style=\"color: #008080; text-decoration-color: #008080\"> 2642037 </span>│<span style=\"color: #008080; text-decoration-color: #008080\">  03112024 </span>│<span style=\"color: #800080; text-decoration-color: #800080\">          </span>│<span style=\"color: #008000; text-decoration-color: #008000\">     False </span>│<span style=\"color: #008080; text-decoration-color: #008080\">       34 </span>│<span style=\"color: #800080; text-decoration-color: #800080\"> 34        </span>│<span style=\"color: #008000; text-decoration-color: #008000\">     True </span>│<span style=\"color: #008080; text-decoration-color: #008080\">        34 </span>│<span style=\"color: #800080; text-decoration-color: #800080\"> 271      </span>│<span style=\"color: #008000; text-decoration-color: #008000\">     False </span>│\n",
       "│<span style=\"color: #008080; text-decoration-color: #008080\"> 2642449 </span>│<span style=\"color: #008080; text-decoration-color: #008080\">  02292024 </span>│<span style=\"color: #800080; text-decoration-color: #800080\">          </span>│<span style=\"color: #008000; text-decoration-color: #008000\">     False </span>│<span style=\"color: #008080; text-decoration-color: #008080\">      857 </span>│<span style=\"color: #800080; text-decoration-color: #800080\"> 857       </span>│<span style=\"color: #008000; text-decoration-color: #008000\">     True </span>│<span style=\"color: #008080; text-decoration-color: #008080\">       857 </span>│<span style=\"color: #800080; text-decoration-color: #800080\">          </span>│<span style=\"color: #008000; text-decoration-color: #008000\">     False </span>│\n",
       "│<span style=\"color: #008080; text-decoration-color: #008080\"> 2642451 </span>│<span style=\"color: #008080; text-decoration-color: #008080\">  02292024 </span>│<span style=\"color: #800080; text-decoration-color: #800080\"> 02292024 </span>│<span style=\"color: #008000; text-decoration-color: #008000\">      True </span>│<span style=\"color: #008080; text-decoration-color: #008080\">      286 </span>│<span style=\"color: #800080; text-decoration-color: #800080\"> 286       </span>│<span style=\"color: #008000; text-decoration-color: #008000\">     True </span>│<span style=\"color: #008080; text-decoration-color: #008080\">       286 </span>│<span style=\"color: #800080; text-decoration-color: #800080\">          </span>│<span style=\"color: #008000; text-decoration-color: #008000\">     False </span>│\n",
       "│<span style=\"color: #008080; text-decoration-color: #008080\"> 2642456 </span>│<span style=\"color: #008080; text-decoration-color: #008080\">  02292024 </span>│<span style=\"color: #800080; text-decoration-color: #800080\">          </span>│<span style=\"color: #008000; text-decoration-color: #008000\">     False </span>│<span style=\"color: #008080; text-decoration-color: #008080\">     1555 </span>│<span style=\"color: #800080; text-decoration-color: #800080\">           </span>│<span style=\"color: #008000; text-decoration-color: #008000\">    False </span>│<span style=\"color: #008080; text-decoration-color: #008080\">      1555 </span>│<span style=\"color: #800080; text-decoration-color: #800080\"> 185      </span>│<span style=\"color: #008000; text-decoration-color: #008000\">     False </span>│\n",
       "│<span style=\"color: #008080; text-decoration-color: #008080\"> 2642457 </span>│<span style=\"color: #008080; text-decoration-color: #008080\">  02292024 </span>│<span style=\"color: #800080; text-decoration-color: #800080\">          </span>│<span style=\"color: #008000; text-decoration-color: #008000\">     False </span>│<span style=\"color: #008080; text-decoration-color: #008080\">      857 </span>│<span style=\"color: #800080; text-decoration-color: #800080\"> 857       </span>│<span style=\"color: #008000; text-decoration-color: #008000\">     True </span>│<span style=\"color: #008080; text-decoration-color: #008080\">       857 </span>│<span style=\"color: #800080; text-decoration-color: #800080\">          </span>│<span style=\"color: #008000; text-decoration-color: #008000\">     False </span>│\n",
       "│<span style=\"color: #008080; text-decoration-color: #008080\"> 2642458 </span>│<span style=\"color: #008080; text-decoration-color: #008080\">  02292024 </span>│<span style=\"color: #800080; text-decoration-color: #800080\">          </span>│<span style=\"color: #008000; text-decoration-color: #008000\">     False </span>│<span style=\"color: #008080; text-decoration-color: #008080\">      857 </span>│<span style=\"color: #800080; text-decoration-color: #800080\"> 857       </span>│<span style=\"color: #008000; text-decoration-color: #008000\">     True </span>│<span style=\"color: #008080; text-decoration-color: #008080\">       857 </span>│<span style=\"color: #800080; text-decoration-color: #800080\">          </span>│<span style=\"color: #008000; text-decoration-color: #008000\">     False </span>│\n",
       "│<span style=\"color: #008080; text-decoration-color: #008080\"> 2642461 </span>│<span style=\"color: #008080; text-decoration-color: #008080\">  02292024 </span>│<span style=\"color: #800080; text-decoration-color: #800080\">          </span>│<span style=\"color: #008000; text-decoration-color: #008000\">     False </span>│<span style=\"color: #008080; text-decoration-color: #008080\">      857 </span>│<span style=\"color: #800080; text-decoration-color: #800080\"> 857       </span>│<span style=\"color: #008000; text-decoration-color: #008000\">     True </span>│<span style=\"color: #008080; text-decoration-color: #008080\">       857 </span>│<span style=\"color: #800080; text-decoration-color: #800080\">          </span>│<span style=\"color: #008000; text-decoration-color: #008000\">     False </span>│\n",
       "│<span style=\"color: #008080; text-decoration-color: #008080\"> 2642462 </span>│<span style=\"color: #008080; text-decoration-color: #008080\">  02292024 </span>│<span style=\"color: #800080; text-decoration-color: #800080\">          </span>│<span style=\"color: #008000; text-decoration-color: #008000\">     False </span>│<span style=\"color: #008080; text-decoration-color: #008080\">      857 </span>│<span style=\"color: #800080; text-decoration-color: #800080\"> 857       </span>│<span style=\"color: #008000; text-decoration-color: #008000\">     True </span>│<span style=\"color: #008080; text-decoration-color: #008080\">       857 </span>│<span style=\"color: #800080; text-decoration-color: #800080\">          </span>│<span style=\"color: #008000; text-decoration-color: #008000\">     False </span>│\n",
       "│<span style=\"color: #008080; text-decoration-color: #008080\"> 2642484 </span>│<span style=\"color: #008080; text-decoration-color: #008080\">       176 </span>│<span style=\"color: #800080; text-decoration-color: #800080\"> 03122024 </span>│<span style=\"color: #008000; text-decoration-color: #008000\">     False </span>│<span style=\"color: #008080; text-decoration-color: #008080\">          </span>│<span style=\"color: #800080; text-decoration-color: #800080\"> 176       </span>│<span style=\"color: #008000; text-decoration-color: #008000\">    False </span>│<span style=\"color: #008080; text-decoration-color: #008080\">           </span>│<span style=\"color: #800080; text-decoration-color: #800080\"> 725      </span>│<span style=\"color: #008000; text-decoration-color: #008000\">     False </span>│\n",
       "│<span style=\"color: #008080; text-decoration-color: #008080\"> 2642486 </span>│<span style=\"color: #008080; text-decoration-color: #008080\">        19 </span>│<span style=\"color: #800080; text-decoration-color: #800080\"> 03132024 </span>│<span style=\"color: #008000; text-decoration-color: #008000\">     False </span>│<span style=\"color: #008080; text-decoration-color: #008080\">          </span>│<span style=\"color: #800080; text-decoration-color: #800080\"> 19        </span>│<span style=\"color: #008000; text-decoration-color: #008000\">    False </span>│<span style=\"color: #008080; text-decoration-color: #008080\">           </span>│<span style=\"color: #800080; text-decoration-color: #800080\"> 39       </span>│<span style=\"color: #008000; text-decoration-color: #008000\">     False </span>│\n",
       "│<span style=\"color: #008080; text-decoration-color: #008080\"> 2642487 </span>│<span style=\"color: #008080; text-decoration-color: #008080\">        19 </span>│<span style=\"color: #800080; text-decoration-color: #800080\"> 03132024 </span>│<span style=\"color: #008000; text-decoration-color: #008000\">     False </span>│<span style=\"color: #008080; text-decoration-color: #008080\">          </span>│<span style=\"color: #800080; text-decoration-color: #800080\"> 19        </span>│<span style=\"color: #008000; text-decoration-color: #008000\">    False </span>│<span style=\"color: #008080; text-decoration-color: #008080\">           </span>│<span style=\"color: #800080; text-decoration-color: #800080\"> 46       </span>│<span style=\"color: #008000; text-decoration-color: #008000\">     False </span>│\n",
       "│<span style=\"color: #008080; text-decoration-color: #008080\"> 2642489 </span>│<span style=\"color: #008080; text-decoration-color: #008080\">  03132024 </span>│<span style=\"color: #800080; text-decoration-color: #800080\">          </span>│<span style=\"color: #008000; text-decoration-color: #008000\">     False </span>│<span style=\"color: #008080; text-decoration-color: #008080\">      260 </span>│<span style=\"color: #800080; text-decoration-color: #800080\"> 260       </span>│<span style=\"color: #008000; text-decoration-color: #008000\">     True </span>│<span style=\"color: #008080; text-decoration-color: #008080\">       260 </span>│<span style=\"color: #800080; text-decoration-color: #800080\"> 75       </span>│<span style=\"color: #008000; text-decoration-color: #008000\">     False </span>│\n",
       "│<span style=\"color: #008080; text-decoration-color: #008080\"> 2642493 </span>│<span style=\"color: #008080; text-decoration-color: #008080\">       176 </span>│<span style=\"color: #800080; text-decoration-color: #800080\"> 03052024 </span>│<span style=\"color: #008000; text-decoration-color: #008000\">     False </span>│<span style=\"color: #008080; text-decoration-color: #008080\">          </span>│<span style=\"color: #800080; text-decoration-color: #800080\"> 176       </span>│<span style=\"color: #008000; text-decoration-color: #008000\">    False </span>│<span style=\"color: #008080; text-decoration-color: #008080\">           </span>│<span style=\"color: #800080; text-decoration-color: #800080\"> 653      </span>│<span style=\"color: #008000; text-decoration-color: #008000\">     False </span>│\n",
       "│<span style=\"color: #008080; text-decoration-color: #008080\"> 2642973 </span>│<span style=\"color: #008080; text-decoration-color: #008080\">       100 </span>│<span style=\"color: #800080; text-decoration-color: #800080\">          </span>│<span style=\"color: #008000; text-decoration-color: #008000\">     False </span>│<span style=\"color: #008080; text-decoration-color: #008080\">          </span>│<span style=\"color: #800080; text-decoration-color: #800080\"> 100       </span>│<span style=\"color: #008000; text-decoration-color: #008000\">    False </span>│<span style=\"color: #008080; text-decoration-color: #008080\">           </span>│<span style=\"color: #800080; text-decoration-color: #800080\"> 289      </span>│<span style=\"color: #008000; text-decoration-color: #008000\">     False </span>│\n",
       "│<span style=\"color: #008080; text-decoration-color: #008080\"> 2642980 </span>│<span style=\"color: #008080; text-decoration-color: #008080\">  02292024 </span>│<span style=\"color: #800080; text-decoration-color: #800080\">          </span>│<span style=\"color: #008000; text-decoration-color: #008000\">     False </span>│<span style=\"color: #008080; text-decoration-color: #008080\">      100 </span>│<span style=\"color: #800080; text-decoration-color: #800080\"> 100       </span>│<span style=\"color: #008000; text-decoration-color: #008000\">     True </span>│<span style=\"color: #008080; text-decoration-color: #008080\">       100 </span>│<span style=\"color: #800080; text-decoration-color: #800080\"> 290      </span>│<span style=\"color: #008000; text-decoration-color: #008000\">     False </span>│\n",
       "└─────────┴───────────┴──────────┴───────────┴──────────┴───────────┴──────────┴───────────┴──────────┴───────────┘\n",
       "</pre>\n"
      ],
      "text/plain": [
       "\u001b[3m                                                      KY set2                                                      \u001b[0m\n",
       "┏━━━━━━━━━┳━━━━━━━━━━━┳━━━━━━━━━━┳━━━━━━━━━━━┳━━━━━━━━━━┳━━━━━━━━━━━┳━━━━━━━━━━┳━━━━━━━━━━━┳━━━━━━━━━━┳━━━━━━━━━━━┓\n",
       "┃\u001b[1m \u001b[0m\u001b[1mBatchid\u001b[0m\u001b[1m \u001b[0m┃\u001b[1m \u001b[0m\u001b[1m6-keyed_…\u001b[0m\u001b[1m \u001b[0m┃\u001b[1m \u001b[0m\u001b[1m6-spacy…\u001b[0m\u001b[1m \u001b[0m┃\u001b[1m \u001b[0m\u001b[1m6-match_…\u001b[0m\u001b[1m \u001b[0m┃\u001b[1m \u001b[0m\u001b[1m92-keye…\u001b[0m\u001b[1m \u001b[0m┃\u001b[1m \u001b[0m\u001b[1m92-spacy…\u001b[0m\u001b[1m \u001b[0m┃\u001b[1m \u001b[0m\u001b[1m92-matc…\u001b[0m\u001b[1m \u001b[0m┃\u001b[1m \u001b[0m\u001b[1m93-keyed…\u001b[0m\u001b[1m \u001b[0m┃\u001b[1m \u001b[0m\u001b[1m93-spac…\u001b[0m\u001b[1m \u001b[0m┃\u001b[1m \u001b[0m\u001b[1m93-match…\u001b[0m\u001b[1m \u001b[0m┃\n",
       "┡━━━━━━━━━╇━━━━━━━━━━━╇━━━━━━━━━━╇━━━━━━━━━━━╇━━━━━━━━━━╇━━━━━━━━━━━╇━━━━━━━━━━╇━━━━━━━━━━━╇━━━━━━━━━━╇━━━━━━━━━━━┩\n",
       "│\u001b[36m \u001b[0m\u001b[36m2635901\u001b[0m\u001b[36m \u001b[0m│\u001b[36m \u001b[0m\u001b[36m      176\u001b[0m\u001b[36m \u001b[0m│\u001b[35m \u001b[0m\u001b[35m        \u001b[0m\u001b[35m \u001b[0m│\u001b[32m \u001b[0m\u001b[32m    False\u001b[0m\u001b[32m \u001b[0m│\u001b[36m \u001b[0m\u001b[36m        \u001b[0m\u001b[36m \u001b[0m│\u001b[35m \u001b[0m\u001b[35m176      \u001b[0m\u001b[35m \u001b[0m│\u001b[32m \u001b[0m\u001b[32m   False\u001b[0m\u001b[32m \u001b[0m│\u001b[36m \u001b[0m\u001b[36m         \u001b[0m\u001b[36m \u001b[0m│\u001b[35m \u001b[0m\u001b[35m626     \u001b[0m\u001b[35m \u001b[0m│\u001b[32m \u001b[0m\u001b[32m    False\u001b[0m\u001b[32m \u001b[0m│\n",
       "│\u001b[36m \u001b[0m\u001b[36m2637159\u001b[0m\u001b[36m \u001b[0m│\u001b[36m \u001b[0m\u001b[36m      220\u001b[0m\u001b[36m \u001b[0m│\u001b[35m \u001b[0m\u001b[35m        \u001b[0m\u001b[35m \u001b[0m│\u001b[32m \u001b[0m\u001b[32m    False\u001b[0m\u001b[32m \u001b[0m│\u001b[36m \u001b[0m\u001b[36m        \u001b[0m\u001b[36m \u001b[0m│\u001b[35m \u001b[0m\u001b[35m220      \u001b[0m\u001b[35m \u001b[0m│\u001b[32m \u001b[0m\u001b[32m   False\u001b[0m\u001b[32m \u001b[0m│\u001b[36m \u001b[0m\u001b[36m         \u001b[0m\u001b[36m \u001b[0m│\u001b[35m \u001b[0m\u001b[35m82      \u001b[0m\u001b[35m \u001b[0m│\u001b[32m \u001b[0m\u001b[32m    False\u001b[0m\u001b[32m \u001b[0m│\n",
       "│\u001b[36m \u001b[0m\u001b[36m2637177\u001b[0m\u001b[36m \u001b[0m│\u001b[36m \u001b[0m\u001b[36m      428\u001b[0m\u001b[36m \u001b[0m│\u001b[35m \u001b[0m\u001b[35m03132024\u001b[0m\u001b[35m \u001b[0m│\u001b[32m \u001b[0m\u001b[32m    False\u001b[0m\u001b[32m \u001b[0m│\u001b[36m \u001b[0m\u001b[36m        \u001b[0m\u001b[36m \u001b[0m│\u001b[35m \u001b[0m\u001b[35m428      \u001b[0m\u001b[35m \u001b[0m│\u001b[32m \u001b[0m\u001b[32m   False\u001b[0m\u001b[32m \u001b[0m│\u001b[36m \u001b[0m\u001b[36m         \u001b[0m\u001b[36m \u001b[0m│\u001b[35m \u001b[0m\u001b[35m264     \u001b[0m\u001b[35m \u001b[0m│\u001b[32m \u001b[0m\u001b[32m    False\u001b[0m\u001b[32m \u001b[0m│\n",
       "│\u001b[36m \u001b[0m\u001b[36m2637185\u001b[0m\u001b[36m \u001b[0m│\u001b[36m \u001b[0m\u001b[36m      220\u001b[0m\u001b[36m \u001b[0m│\u001b[35m \u001b[0m\u001b[35m03132024\u001b[0m\u001b[35m \u001b[0m│\u001b[32m \u001b[0m\u001b[32m    False\u001b[0m\u001b[32m \u001b[0m│\u001b[36m \u001b[0m\u001b[36m        \u001b[0m\u001b[36m \u001b[0m│\u001b[35m \u001b[0m\u001b[35m220      \u001b[0m\u001b[35m \u001b[0m│\u001b[32m \u001b[0m\u001b[32m   False\u001b[0m\u001b[32m \u001b[0m│\u001b[36m \u001b[0m\u001b[36m         \u001b[0m\u001b[36m \u001b[0m│\u001b[35m \u001b[0m\u001b[35m86      \u001b[0m\u001b[35m \u001b[0m│\u001b[32m \u001b[0m\u001b[32m    False\u001b[0m\u001b[32m \u001b[0m│\n",
       "│\u001b[36m \u001b[0m\u001b[36m2637187\u001b[0m\u001b[36m \u001b[0m│\u001b[36m \u001b[0m\u001b[36m      220\u001b[0m\u001b[36m \u001b[0m│\u001b[35m \u001b[0m\u001b[35m03132024\u001b[0m\u001b[35m \u001b[0m│\u001b[32m \u001b[0m\u001b[32m    False\u001b[0m\u001b[32m \u001b[0m│\u001b[36m \u001b[0m\u001b[36m        \u001b[0m\u001b[36m \u001b[0m│\u001b[35m \u001b[0m\u001b[35m220      \u001b[0m\u001b[35m \u001b[0m│\u001b[32m \u001b[0m\u001b[32m   False\u001b[0m\u001b[32m \u001b[0m│\u001b[36m \u001b[0m\u001b[36m         \u001b[0m\u001b[36m \u001b[0m│\u001b[35m \u001b[0m\u001b[35m96      \u001b[0m\u001b[35m \u001b[0m│\u001b[32m \u001b[0m\u001b[32m    False\u001b[0m\u001b[32m \u001b[0m│\n",
       "│\u001b[36m \u001b[0m\u001b[36m2637196\u001b[0m\u001b[36m \u001b[0m│\u001b[36m \u001b[0m\u001b[36m      428\u001b[0m\u001b[36m \u001b[0m│\u001b[35m \u001b[0m\u001b[35m03132024\u001b[0m\u001b[35m \u001b[0m│\u001b[32m \u001b[0m\u001b[32m    False\u001b[0m\u001b[32m \u001b[0m│\u001b[36m \u001b[0m\u001b[36m        \u001b[0m\u001b[36m \u001b[0m│\u001b[35m \u001b[0m\u001b[35m428      \u001b[0m\u001b[35m \u001b[0m│\u001b[32m \u001b[0m\u001b[32m   False\u001b[0m\u001b[32m \u001b[0m│\u001b[36m \u001b[0m\u001b[36m         \u001b[0m\u001b[36m \u001b[0m│\u001b[35m \u001b[0m\u001b[35m278     \u001b[0m\u001b[35m \u001b[0m│\u001b[32m \u001b[0m\u001b[32m    False\u001b[0m\u001b[32m \u001b[0m│\n",
       "│\u001b[36m \u001b[0m\u001b[36m2637277\u001b[0m\u001b[36m \u001b[0m│\u001b[36m \u001b[0m\u001b[36m 03132024\u001b[0m\u001b[36m \u001b[0m│\u001b[35m \u001b[0m\u001b[35m        \u001b[0m\u001b[35m \u001b[0m│\u001b[32m \u001b[0m\u001b[32m    False\u001b[0m\u001b[32m \u001b[0m│\u001b[36m \u001b[0m\u001b[36m     176\u001b[0m\u001b[36m \u001b[0m│\u001b[35m \u001b[0m\u001b[35m176      \u001b[0m\u001b[35m \u001b[0m│\u001b[32m \u001b[0m\u001b[32m    True\u001b[0m\u001b[32m \u001b[0m│\u001b[36m \u001b[0m\u001b[36m      176\u001b[0m\u001b[36m \u001b[0m│\u001b[35m \u001b[0m\u001b[35m614     \u001b[0m\u001b[35m \u001b[0m│\u001b[32m \u001b[0m\u001b[32m    False\u001b[0m\u001b[32m \u001b[0m│\n",
       "│\u001b[36m \u001b[0m\u001b[36m2637436\u001b[0m\u001b[36m \u001b[0m│\u001b[36m \u001b[0m\u001b[36m       19\u001b[0m\u001b[36m \u001b[0m│\u001b[35m \u001b[0m\u001b[35m03142024\u001b[0m\u001b[35m \u001b[0m│\u001b[32m \u001b[0m\u001b[32m    False\u001b[0m\u001b[32m \u001b[0m│\u001b[36m \u001b[0m\u001b[36m        \u001b[0m\u001b[36m \u001b[0m│\u001b[35m \u001b[0m\u001b[35m19       \u001b[0m\u001b[35m \u001b[0m│\u001b[32m \u001b[0m\u001b[32m   False\u001b[0m\u001b[32m \u001b[0m│\u001b[36m \u001b[0m\u001b[36m         \u001b[0m\u001b[36m \u001b[0m│\u001b[35m \u001b[0m\u001b[35m50      \u001b[0m\u001b[35m \u001b[0m│\u001b[32m \u001b[0m\u001b[32m    False\u001b[0m\u001b[32m \u001b[0m│\n",
       "│\u001b[36m \u001b[0m\u001b[36m2638208\u001b[0m\u001b[36m \u001b[0m│\u001b[36m \u001b[0m\u001b[36m 02272024\u001b[0m\u001b[36m \u001b[0m│\u001b[35m \u001b[0m\u001b[35m        \u001b[0m\u001b[35m \u001b[0m│\u001b[32m \u001b[0m\u001b[32m    False\u001b[0m\u001b[32m \u001b[0m│\u001b[36m \u001b[0m\u001b[36m     286\u001b[0m\u001b[36m \u001b[0m│\u001b[35m \u001b[0m\u001b[35m286      \u001b[0m\u001b[35m \u001b[0m│\u001b[32m \u001b[0m\u001b[32m    True\u001b[0m\u001b[32m \u001b[0m│\u001b[36m \u001b[0m\u001b[36m      286\u001b[0m\u001b[36m \u001b[0m│\u001b[35m \u001b[0m\u001b[35m615     \u001b[0m\u001b[35m \u001b[0m│\u001b[32m \u001b[0m\u001b[32m    False\u001b[0m\u001b[32m \u001b[0m│\n",
       "│\u001b[36m \u001b[0m\u001b[36m2638212\u001b[0m\u001b[36m \u001b[0m│\u001b[36m \u001b[0m\u001b[36m 02272024\u001b[0m\u001b[36m \u001b[0m│\u001b[35m \u001b[0m\u001b[35m        \u001b[0m\u001b[35m \u001b[0m│\u001b[32m \u001b[0m\u001b[32m    False\u001b[0m\u001b[32m \u001b[0m│\u001b[36m \u001b[0m\u001b[36m     286\u001b[0m\u001b[36m \u001b[0m│\u001b[35m \u001b[0m\u001b[35m286      \u001b[0m\u001b[35m \u001b[0m│\u001b[32m \u001b[0m\u001b[32m    True\u001b[0m\u001b[32m \u001b[0m│\u001b[36m \u001b[0m\u001b[36m      286\u001b[0m\u001b[36m \u001b[0m│\u001b[35m \u001b[0m\u001b[35m617     \u001b[0m\u001b[35m \u001b[0m│\u001b[32m \u001b[0m\u001b[32m    False\u001b[0m\u001b[32m \u001b[0m│\n",
       "│\u001b[36m \u001b[0m\u001b[36m2638213\u001b[0m\u001b[36m \u001b[0m│\u001b[36m \u001b[0m\u001b[36m 02272024\u001b[0m\u001b[36m \u001b[0m│\u001b[35m \u001b[0m\u001b[35m        \u001b[0m\u001b[35m \u001b[0m│\u001b[32m \u001b[0m\u001b[32m    False\u001b[0m\u001b[32m \u001b[0m│\u001b[36m \u001b[0m\u001b[36m     286\u001b[0m\u001b[36m \u001b[0m│\u001b[35m \u001b[0m\u001b[35m286      \u001b[0m\u001b[35m \u001b[0m│\u001b[32m \u001b[0m\u001b[32m    True\u001b[0m\u001b[32m \u001b[0m│\u001b[36m \u001b[0m\u001b[36m      286\u001b[0m\u001b[36m \u001b[0m│\u001b[35m \u001b[0m\u001b[35m        \u001b[0m\u001b[35m \u001b[0m│\u001b[32m \u001b[0m\u001b[32m    False\u001b[0m\u001b[32m \u001b[0m│\n",
       "│\u001b[36m \u001b[0m\u001b[36m2638223\u001b[0m\u001b[36m \u001b[0m│\u001b[36m \u001b[0m\u001b[36m 02272024\u001b[0m\u001b[36m \u001b[0m│\u001b[35m \u001b[0m\u001b[35m02272024\u001b[0m\u001b[35m \u001b[0m│\u001b[32m \u001b[0m\u001b[32m     True\u001b[0m\u001b[32m \u001b[0m│\u001b[36m \u001b[0m\u001b[36m     857\u001b[0m\u001b[36m \u001b[0m│\u001b[35m \u001b[0m\u001b[35m857      \u001b[0m\u001b[35m \u001b[0m│\u001b[32m \u001b[0m\u001b[32m    True\u001b[0m\u001b[32m \u001b[0m│\u001b[36m \u001b[0m\u001b[36m      857\u001b[0m\u001b[36m \u001b[0m│\u001b[35m \u001b[0m\u001b[35m        \u001b[0m\u001b[35m \u001b[0m│\u001b[32m \u001b[0m\u001b[32m    False\u001b[0m\u001b[32m \u001b[0m│\n",
       "│\u001b[36m \u001b[0m\u001b[36m2638251\u001b[0m\u001b[36m \u001b[0m│\u001b[36m \u001b[0m\u001b[36m 02272024\u001b[0m\u001b[36m \u001b[0m│\u001b[35m \u001b[0m\u001b[35m02272024\u001b[0m\u001b[35m \u001b[0m│\u001b[32m \u001b[0m\u001b[32m     True\u001b[0m\u001b[32m \u001b[0m│\u001b[36m \u001b[0m\u001b[36m     857\u001b[0m\u001b[36m \u001b[0m│\u001b[35m \u001b[0m\u001b[35m857      \u001b[0m\u001b[35m \u001b[0m│\u001b[32m \u001b[0m\u001b[32m    True\u001b[0m\u001b[32m \u001b[0m│\u001b[36m \u001b[0m\u001b[36m      857\u001b[0m\u001b[36m \u001b[0m│\u001b[35m \u001b[0m\u001b[35m        \u001b[0m\u001b[35m \u001b[0m│\u001b[32m \u001b[0m\u001b[32m    False\u001b[0m\u001b[32m \u001b[0m│\n",
       "│\u001b[36m \u001b[0m\u001b[36m2638256\u001b[0m\u001b[36m \u001b[0m│\u001b[36m \u001b[0m\u001b[36m 02272024\u001b[0m\u001b[36m \u001b[0m│\u001b[35m \u001b[0m\u001b[35m        \u001b[0m\u001b[35m \u001b[0m│\u001b[32m \u001b[0m\u001b[32m    False\u001b[0m\u001b[32m \u001b[0m│\u001b[36m \u001b[0m\u001b[36m     857\u001b[0m\u001b[36m \u001b[0m│\u001b[35m \u001b[0m\u001b[35m857      \u001b[0m\u001b[35m \u001b[0m│\u001b[32m \u001b[0m\u001b[32m    True\u001b[0m\u001b[32m \u001b[0m│\u001b[36m \u001b[0m\u001b[36m      857\u001b[0m\u001b[36m \u001b[0m│\u001b[35m \u001b[0m\u001b[35m        \u001b[0m\u001b[35m \u001b[0m│\u001b[32m \u001b[0m\u001b[32m    False\u001b[0m\u001b[32m \u001b[0m│\n",
       "│\u001b[36m \u001b[0m\u001b[36m2638258\u001b[0m\u001b[36m \u001b[0m│\u001b[36m \u001b[0m\u001b[36m 02272024\u001b[0m\u001b[36m \u001b[0m│\u001b[35m \u001b[0m\u001b[35m        \u001b[0m\u001b[35m \u001b[0m│\u001b[32m \u001b[0m\u001b[32m    False\u001b[0m\u001b[32m \u001b[0m│\u001b[36m \u001b[0m\u001b[36m     286\u001b[0m\u001b[36m \u001b[0m│\u001b[35m \u001b[0m\u001b[35m286      \u001b[0m\u001b[35m \u001b[0m│\u001b[32m \u001b[0m\u001b[32m    True\u001b[0m\u001b[32m \u001b[0m│\u001b[36m \u001b[0m\u001b[36m      286\u001b[0m\u001b[36m \u001b[0m│\u001b[35m \u001b[0m\u001b[35m        \u001b[0m\u001b[35m \u001b[0m│\u001b[32m \u001b[0m\u001b[32m    False\u001b[0m\u001b[32m \u001b[0m│\n",
       "│\u001b[36m \u001b[0m\u001b[36m2641548\u001b[0m\u001b[36m \u001b[0m│\u001b[36m \u001b[0m\u001b[36m        7\u001b[0m\u001b[36m \u001b[0m│\u001b[35m \u001b[0m\u001b[35m03122024\u001b[0m\u001b[35m \u001b[0m│\u001b[32m \u001b[0m\u001b[32m    False\u001b[0m\u001b[32m \u001b[0m│\u001b[36m \u001b[0m\u001b[36m        \u001b[0m\u001b[36m \u001b[0m│\u001b[35m \u001b[0m\u001b[35m7        \u001b[0m\u001b[35m \u001b[0m│\u001b[32m \u001b[0m\u001b[32m   False\u001b[0m\u001b[32m \u001b[0m│\u001b[36m \u001b[0m\u001b[36m         \u001b[0m\u001b[36m \u001b[0m│\u001b[35m \u001b[0m\u001b[35m58      \u001b[0m\u001b[35m \u001b[0m│\u001b[32m \u001b[0m\u001b[32m    False\u001b[0m\u001b[32m \u001b[0m│\n",
       "│\u001b[36m \u001b[0m\u001b[36m2641560\u001b[0m\u001b[36m \u001b[0m│\u001b[36m \u001b[0m\u001b[36m      325\u001b[0m\u001b[36m \u001b[0m│\u001b[35m \u001b[0m\u001b[35m03122024\u001b[0m\u001b[35m \u001b[0m│\u001b[32m \u001b[0m\u001b[32m    False\u001b[0m\u001b[32m \u001b[0m│\u001b[36m \u001b[0m\u001b[36m        \u001b[0m\u001b[36m \u001b[0m│\u001b[35m \u001b[0m\u001b[35m28       \u001b[0m\u001b[35m \u001b[0m│\u001b[32m \u001b[0m\u001b[32m   False\u001b[0m\u001b[32m \u001b[0m│\u001b[36m \u001b[0m\u001b[36m         \u001b[0m\u001b[36m \u001b[0m│\u001b[35m \u001b[0m\u001b[35m110     \u001b[0m\u001b[35m \u001b[0m│\u001b[32m \u001b[0m\u001b[32m    False\u001b[0m\u001b[32m \u001b[0m│\n",
       "│\u001b[36m \u001b[0m\u001b[36m2641711\u001b[0m\u001b[36m \u001b[0m│\u001b[36m \u001b[0m\u001b[36m      100\u001b[0m\u001b[36m \u001b[0m│\u001b[35m \u001b[0m\u001b[35m        \u001b[0m\u001b[35m \u001b[0m│\u001b[32m \u001b[0m\u001b[32m    False\u001b[0m\u001b[32m \u001b[0m│\u001b[36m \u001b[0m\u001b[36m        \u001b[0m\u001b[36m \u001b[0m│\u001b[35m \u001b[0m\u001b[35m100      \u001b[0m\u001b[35m \u001b[0m│\u001b[32m \u001b[0m\u001b[32m   False\u001b[0m\u001b[32m \u001b[0m│\u001b[36m \u001b[0m\u001b[36m         \u001b[0m\u001b[36m \u001b[0m│\u001b[35m \u001b[0m\u001b[35m352     \u001b[0m\u001b[35m \u001b[0m│\u001b[32m \u001b[0m\u001b[32m    False\u001b[0m\u001b[32m \u001b[0m│\n",
       "│\u001b[36m \u001b[0m\u001b[36m2641712\u001b[0m\u001b[36m \u001b[0m│\u001b[36m \u001b[0m\u001b[36m       10\u001b[0m\u001b[36m \u001b[0m│\u001b[35m \u001b[0m\u001b[35m        \u001b[0m\u001b[35m \u001b[0m│\u001b[32m \u001b[0m\u001b[32m    False\u001b[0m\u001b[32m \u001b[0m│\u001b[36m \u001b[0m\u001b[36m        \u001b[0m\u001b[36m \u001b[0m│\u001b[35m \u001b[0m\u001b[35m         \u001b[0m\u001b[35m \u001b[0m│\u001b[32m \u001b[0m\u001b[32m    True\u001b[0m\u001b[32m \u001b[0m│\u001b[36m \u001b[0m\u001b[36m         \u001b[0m\u001b[36m \u001b[0m│\u001b[35m \u001b[0m\u001b[35m15      \u001b[0m\u001b[35m \u001b[0m│\u001b[32m \u001b[0m\u001b[32m    False\u001b[0m\u001b[32m \u001b[0m│\n",
       "│\u001b[36m \u001b[0m\u001b[36m2641764\u001b[0m\u001b[36m \u001b[0m│\u001b[36m \u001b[0m\u001b[36m 03122024\u001b[0m\u001b[36m \u001b[0m│\u001b[35m \u001b[0m\u001b[35m        \u001b[0m\u001b[35m \u001b[0m│\u001b[32m \u001b[0m\u001b[32m    False\u001b[0m\u001b[32m \u001b[0m│\u001b[36m \u001b[0m\u001b[36m    3443\u001b[0m\u001b[36m \u001b[0m│\u001b[35m \u001b[0m\u001b[35m         \u001b[0m\u001b[35m \u001b[0m│\u001b[32m \u001b[0m\u001b[32m   False\u001b[0m\u001b[32m \u001b[0m│\u001b[36m \u001b[0m\u001b[36m     3443\u001b[0m\u001b[36m \u001b[0m│\u001b[35m \u001b[0m\u001b[35m495     \u001b[0m\u001b[35m \u001b[0m│\u001b[32m \u001b[0m\u001b[32m    False\u001b[0m\u001b[32m \u001b[0m│\n",
       "│\u001b[36m \u001b[0m\u001b[36m2641765\u001b[0m\u001b[36m \u001b[0m│\u001b[36m \u001b[0m\u001b[36m 03122024\u001b[0m\u001b[36m \u001b[0m│\u001b[35m \u001b[0m\u001b[35m        \u001b[0m\u001b[35m \u001b[0m│\u001b[32m \u001b[0m\u001b[32m    False\u001b[0m\u001b[32m \u001b[0m│\u001b[36m \u001b[0m\u001b[36m    3443\u001b[0m\u001b[36m \u001b[0m│\u001b[35m \u001b[0m\u001b[35m         \u001b[0m\u001b[35m \u001b[0m│\u001b[32m \u001b[0m\u001b[32m   False\u001b[0m\u001b[32m \u001b[0m│\u001b[36m \u001b[0m\u001b[36m     3443\u001b[0m\u001b[36m \u001b[0m│\u001b[35m \u001b[0m\u001b[35m497     \u001b[0m\u001b[35m \u001b[0m│\u001b[32m \u001b[0m\u001b[32m    False\u001b[0m\u001b[32m \u001b[0m│\n",
       "│\u001b[36m \u001b[0m\u001b[36m2641766\u001b[0m\u001b[36m \u001b[0m│\u001b[36m \u001b[0m\u001b[36m 03122024\u001b[0m\u001b[36m \u001b[0m│\u001b[35m \u001b[0m\u001b[35m        \u001b[0m\u001b[35m \u001b[0m│\u001b[32m \u001b[0m\u001b[32m    False\u001b[0m\u001b[32m \u001b[0m│\u001b[36m \u001b[0m\u001b[36m    3443\u001b[0m\u001b[36m \u001b[0m│\u001b[35m \u001b[0m\u001b[35m         \u001b[0m\u001b[35m \u001b[0m│\u001b[32m \u001b[0m\u001b[32m   False\u001b[0m\u001b[32m \u001b[0m│\u001b[36m \u001b[0m\u001b[36m     3443\u001b[0m\u001b[36m \u001b[0m│\u001b[35m \u001b[0m\u001b[35m499     \u001b[0m\u001b[35m \u001b[0m│\u001b[32m \u001b[0m\u001b[32m    False\u001b[0m\u001b[32m \u001b[0m│\n",
       "│\u001b[36m \u001b[0m\u001b[36m2641794\u001b[0m\u001b[36m \u001b[0m│\u001b[36m \u001b[0m\u001b[36m        2\u001b[0m\u001b[36m \u001b[0m│\u001b[35m \u001b[0m\u001b[35m03112024\u001b[0m\u001b[35m \u001b[0m│\u001b[32m \u001b[0m\u001b[32m    False\u001b[0m\u001b[32m \u001b[0m│\u001b[36m \u001b[0m\u001b[36m        \u001b[0m\u001b[36m \u001b[0m│\u001b[35m \u001b[0m\u001b[35m2        \u001b[0m\u001b[35m \u001b[0m│\u001b[32m \u001b[0m\u001b[32m   False\u001b[0m\u001b[32m \u001b[0m│\u001b[36m \u001b[0m\u001b[36m         \u001b[0m\u001b[36m \u001b[0m│\u001b[35m \u001b[0m\u001b[35m429     \u001b[0m\u001b[35m \u001b[0m│\u001b[32m \u001b[0m\u001b[32m    False\u001b[0m\u001b[32m \u001b[0m│\n",
       "│\u001b[36m \u001b[0m\u001b[36m2641803\u001b[0m\u001b[36m \u001b[0m│\u001b[36m \u001b[0m\u001b[36m       41\u001b[0m\u001b[36m \u001b[0m│\u001b[35m \u001b[0m\u001b[35m03112024\u001b[0m\u001b[35m \u001b[0m│\u001b[32m \u001b[0m\u001b[32m    False\u001b[0m\u001b[32m \u001b[0m│\u001b[36m \u001b[0m\u001b[36m        \u001b[0m\u001b[36m \u001b[0m│\u001b[35m \u001b[0m\u001b[35m41       \u001b[0m\u001b[35m \u001b[0m│\u001b[32m \u001b[0m\u001b[32m   False\u001b[0m\u001b[32m \u001b[0m│\u001b[36m \u001b[0m\u001b[36m         \u001b[0m\u001b[36m \u001b[0m│\u001b[35m \u001b[0m\u001b[35m674     \u001b[0m\u001b[35m \u001b[0m│\u001b[32m \u001b[0m\u001b[32m    False\u001b[0m\u001b[32m \u001b[0m│\n",
       "│\u001b[36m \u001b[0m\u001b[36m2641831\u001b[0m\u001b[36m \u001b[0m│\u001b[36m \u001b[0m\u001b[36m        9\u001b[0m\u001b[36m \u001b[0m│\u001b[35m \u001b[0m\u001b[35m03112024\u001b[0m\u001b[35m \u001b[0m│\u001b[32m \u001b[0m\u001b[32m    False\u001b[0m\u001b[32m \u001b[0m│\u001b[36m \u001b[0m\u001b[36m        \u001b[0m\u001b[36m \u001b[0m│\u001b[35m \u001b[0m\u001b[35m         \u001b[0m\u001b[35m \u001b[0m│\u001b[32m \u001b[0m\u001b[32m    True\u001b[0m\u001b[32m \u001b[0m│\u001b[36m \u001b[0m\u001b[36m         \u001b[0m\u001b[36m \u001b[0m│\u001b[35m \u001b[0m\u001b[35m246     \u001b[0m\u001b[35m \u001b[0m│\u001b[32m \u001b[0m\u001b[32m    False\u001b[0m\u001b[32m \u001b[0m│\n",
       "│\u001b[36m \u001b[0m\u001b[36m2641834\u001b[0m\u001b[36m \u001b[0m│\u001b[36m \u001b[0m\u001b[36m     1122\u001b[0m\u001b[36m \u001b[0m│\u001b[35m \u001b[0m\u001b[35m03112024\u001b[0m\u001b[35m \u001b[0m│\u001b[32m \u001b[0m\u001b[32m    False\u001b[0m\u001b[32m \u001b[0m│\u001b[36m \u001b[0m\u001b[36m        \u001b[0m\u001b[36m \u001b[0m│\u001b[35m \u001b[0m\u001b[35m1122     \u001b[0m\u001b[35m \u001b[0m│\u001b[32m \u001b[0m\u001b[32m   False\u001b[0m\u001b[32m \u001b[0m│\u001b[36m \u001b[0m\u001b[36m         \u001b[0m\u001b[36m \u001b[0m│\u001b[35m \u001b[0m\u001b[35m351     \u001b[0m\u001b[35m \u001b[0m│\u001b[32m \u001b[0m\u001b[32m    False\u001b[0m\u001b[32m \u001b[0m│\n",
       "│\u001b[36m \u001b[0m\u001b[36m2641838\u001b[0m\u001b[36m \u001b[0m│\u001b[36m \u001b[0m\u001b[36m        9\u001b[0m\u001b[36m \u001b[0m│\u001b[35m \u001b[0m\u001b[35m        \u001b[0m\u001b[35m \u001b[0m│\u001b[32m \u001b[0m\u001b[32m    False\u001b[0m\u001b[32m \u001b[0m│\u001b[36m \u001b[0m\u001b[36m        \u001b[0m\u001b[36m \u001b[0m│\u001b[35m \u001b[0m\u001b[35m         \u001b[0m\u001b[35m \u001b[0m│\u001b[32m \u001b[0m\u001b[32m    True\u001b[0m\u001b[32m \u001b[0m│\u001b[36m \u001b[0m\u001b[36m         \u001b[0m\u001b[36m \u001b[0m│\u001b[35m \u001b[0m\u001b[35m247     \u001b[0m\u001b[35m \u001b[0m│\u001b[32m \u001b[0m\u001b[32m    False\u001b[0m\u001b[32m \u001b[0m│\n",
       "│\u001b[36m \u001b[0m\u001b[36m2641847\u001b[0m\u001b[36m \u001b[0m│\u001b[36m \u001b[0m\u001b[36m 03112024\u001b[0m\u001b[36m \u001b[0m│\u001b[35m \u001b[0m\u001b[35m        \u001b[0m\u001b[35m \u001b[0m│\u001b[32m \u001b[0m\u001b[32m    False\u001b[0m\u001b[32m \u001b[0m│\u001b[36m \u001b[0m\u001b[36m    1122\u001b[0m\u001b[36m \u001b[0m│\u001b[35m \u001b[0m\u001b[35m         \u001b[0m\u001b[35m \u001b[0m│\u001b[32m \u001b[0m\u001b[32m   False\u001b[0m\u001b[32m \u001b[0m│\u001b[36m \u001b[0m\u001b[36m     1122\u001b[0m\u001b[36m \u001b[0m│\u001b[35m \u001b[0m\u001b[35m387     \u001b[0m\u001b[35m \u001b[0m│\u001b[32m \u001b[0m\u001b[32m    False\u001b[0m\u001b[32m \u001b[0m│\n",
       "│\u001b[36m \u001b[0m\u001b[36m2641848\u001b[0m\u001b[36m \u001b[0m│\u001b[36m \u001b[0m\u001b[36m 03112024\u001b[0m\u001b[36m \u001b[0m│\u001b[35m \u001b[0m\u001b[35m        \u001b[0m\u001b[35m \u001b[0m│\u001b[32m \u001b[0m\u001b[32m    False\u001b[0m\u001b[32m \u001b[0m│\u001b[36m \u001b[0m\u001b[36m    1122\u001b[0m\u001b[36m \u001b[0m│\u001b[35m \u001b[0m\u001b[35m         \u001b[0m\u001b[35m \u001b[0m│\u001b[32m \u001b[0m\u001b[32m   False\u001b[0m\u001b[32m \u001b[0m│\u001b[36m \u001b[0m\u001b[36m     1122\u001b[0m\u001b[36m \u001b[0m│\u001b[35m \u001b[0m\u001b[35m406     \u001b[0m\u001b[35m \u001b[0m│\u001b[32m \u001b[0m\u001b[32m    False\u001b[0m\u001b[32m \u001b[0m│\n",
       "│\u001b[36m \u001b[0m\u001b[36m2641849\u001b[0m\u001b[36m \u001b[0m│\u001b[36m \u001b[0m\u001b[36m 03112024\u001b[0m\u001b[36m \u001b[0m│\u001b[35m \u001b[0m\u001b[35m03112024\u001b[0m\u001b[35m \u001b[0m│\u001b[32m \u001b[0m\u001b[32m     True\u001b[0m\u001b[32m \u001b[0m│\u001b[36m \u001b[0m\u001b[36m     112\u001b[0m\u001b[36m \u001b[0m│\u001b[35m \u001b[0m\u001b[35m         \u001b[0m\u001b[35m \u001b[0m│\u001b[32m \u001b[0m\u001b[32m   False\u001b[0m\u001b[32m \u001b[0m│\u001b[36m \u001b[0m\u001b[36m      112\u001b[0m\u001b[36m \u001b[0m│\u001b[35m \u001b[0m\u001b[35m426     \u001b[0m\u001b[35m \u001b[0m│\u001b[32m \u001b[0m\u001b[32m    False\u001b[0m\u001b[32m \u001b[0m│\n",
       "│\u001b[36m \u001b[0m\u001b[36m2641945\u001b[0m\u001b[36m \u001b[0m│\u001b[36m \u001b[0m\u001b[36m 03082024\u001b[0m\u001b[36m \u001b[0m│\u001b[35m \u001b[0m\u001b[35m        \u001b[0m\u001b[35m \u001b[0m│\u001b[32m \u001b[0m\u001b[32m    False\u001b[0m\u001b[32m \u001b[0m│\u001b[36m \u001b[0m\u001b[36m     365\u001b[0m\u001b[36m \u001b[0m│\u001b[35m \u001b[0m\u001b[35m         \u001b[0m\u001b[35m \u001b[0m│\u001b[32m \u001b[0m\u001b[32m   False\u001b[0m\u001b[32m \u001b[0m│\u001b[36m \u001b[0m\u001b[36m      365\u001b[0m\u001b[36m \u001b[0m│\u001b[35m \u001b[0m\u001b[35m302     \u001b[0m\u001b[35m \u001b[0m│\u001b[32m \u001b[0m\u001b[32m    False\u001b[0m\u001b[32m \u001b[0m│\n",
       "│\u001b[36m \u001b[0m\u001b[36m2641947\u001b[0m\u001b[36m \u001b[0m│\u001b[36m \u001b[0m\u001b[36m 03082024\u001b[0m\u001b[36m \u001b[0m│\u001b[35m \u001b[0m\u001b[35m        \u001b[0m\u001b[35m \u001b[0m│\u001b[32m \u001b[0m\u001b[32m    False\u001b[0m\u001b[32m \u001b[0m│\u001b[36m \u001b[0m\u001b[36m     365\u001b[0m\u001b[36m \u001b[0m│\u001b[35m \u001b[0m\u001b[35m365      \u001b[0m\u001b[35m \u001b[0m│\u001b[32m \u001b[0m\u001b[32m    True\u001b[0m\u001b[32m \u001b[0m│\u001b[36m \u001b[0m\u001b[36m      365\u001b[0m\u001b[36m \u001b[0m│\u001b[35m \u001b[0m\u001b[35m324     \u001b[0m\u001b[35m \u001b[0m│\u001b[32m \u001b[0m\u001b[32m    False\u001b[0m\u001b[32m \u001b[0m│\n",
       "│\u001b[36m \u001b[0m\u001b[36m2641949\u001b[0m\u001b[36m \u001b[0m│\u001b[36m \u001b[0m\u001b[36m 03082024\u001b[0m\u001b[36m \u001b[0m│\u001b[35m \u001b[0m\u001b[35m03082024\u001b[0m\u001b[35m \u001b[0m│\u001b[32m \u001b[0m\u001b[32m     True\u001b[0m\u001b[32m \u001b[0m│\u001b[36m \u001b[0m\u001b[36m     365\u001b[0m\u001b[36m \u001b[0m│\u001b[35m \u001b[0m\u001b[35m         \u001b[0m\u001b[35m \u001b[0m│\u001b[32m \u001b[0m\u001b[32m   False\u001b[0m\u001b[32m \u001b[0m│\u001b[36m \u001b[0m\u001b[36m      365\u001b[0m\u001b[36m \u001b[0m│\u001b[35m \u001b[0m\u001b[35m326     \u001b[0m\u001b[35m \u001b[0m│\u001b[32m \u001b[0m\u001b[32m    False\u001b[0m\u001b[32m \u001b[0m│\n",
       "│\u001b[36m \u001b[0m\u001b[36m2641968\u001b[0m\u001b[36m \u001b[0m│\u001b[36m \u001b[0m\u001b[36m 03132024\u001b[0m\u001b[36m \u001b[0m│\u001b[35m \u001b[0m\u001b[35m        \u001b[0m\u001b[35m \u001b[0m│\u001b[32m \u001b[0m\u001b[32m    False\u001b[0m\u001b[32m \u001b[0m│\u001b[36m \u001b[0m\u001b[36m     176\u001b[0m\u001b[36m \u001b[0m│\u001b[35m \u001b[0m\u001b[35m176      \u001b[0m\u001b[35m \u001b[0m│\u001b[32m \u001b[0m\u001b[32m    True\u001b[0m\u001b[32m \u001b[0m│\u001b[36m \u001b[0m\u001b[36m      176\u001b[0m\u001b[36m \u001b[0m│\u001b[35m \u001b[0m\u001b[35m614     \u001b[0m\u001b[35m \u001b[0m│\u001b[32m \u001b[0m\u001b[32m    False\u001b[0m\u001b[32m \u001b[0m│\n",
       "│\u001b[36m \u001b[0m\u001b[36m2641998\u001b[0m\u001b[36m \u001b[0m│\u001b[36m \u001b[0m\u001b[36m       19\u001b[0m\u001b[36m \u001b[0m│\u001b[35m \u001b[0m\u001b[35m03142024\u001b[0m\u001b[35m \u001b[0m│\u001b[32m \u001b[0m\u001b[32m    False\u001b[0m\u001b[32m \u001b[0m│\u001b[36m \u001b[0m\u001b[36m        \u001b[0m\u001b[36m \u001b[0m│\u001b[35m \u001b[0m\u001b[35m19       \u001b[0m\u001b[35m \u001b[0m│\u001b[32m \u001b[0m\u001b[32m   False\u001b[0m\u001b[32m \u001b[0m│\u001b[36m \u001b[0m\u001b[36m         \u001b[0m\u001b[36m \u001b[0m│\u001b[35m \u001b[0m\u001b[35m50      \u001b[0m\u001b[35m \u001b[0m│\u001b[32m \u001b[0m\u001b[32m    False\u001b[0m\u001b[32m \u001b[0m│\n",
       "│\u001b[36m \u001b[0m\u001b[36m2642037\u001b[0m\u001b[36m \u001b[0m│\u001b[36m \u001b[0m\u001b[36m 03112024\u001b[0m\u001b[36m \u001b[0m│\u001b[35m \u001b[0m\u001b[35m        \u001b[0m\u001b[35m \u001b[0m│\u001b[32m \u001b[0m\u001b[32m    False\u001b[0m\u001b[32m \u001b[0m│\u001b[36m \u001b[0m\u001b[36m      34\u001b[0m\u001b[36m \u001b[0m│\u001b[35m \u001b[0m\u001b[35m34       \u001b[0m\u001b[35m \u001b[0m│\u001b[32m \u001b[0m\u001b[32m    True\u001b[0m\u001b[32m \u001b[0m│\u001b[36m \u001b[0m\u001b[36m       34\u001b[0m\u001b[36m \u001b[0m│\u001b[35m \u001b[0m\u001b[35m271     \u001b[0m\u001b[35m \u001b[0m│\u001b[32m \u001b[0m\u001b[32m    False\u001b[0m\u001b[32m \u001b[0m│\n",
       "│\u001b[36m \u001b[0m\u001b[36m2642449\u001b[0m\u001b[36m \u001b[0m│\u001b[36m \u001b[0m\u001b[36m 02292024\u001b[0m\u001b[36m \u001b[0m│\u001b[35m \u001b[0m\u001b[35m        \u001b[0m\u001b[35m \u001b[0m│\u001b[32m \u001b[0m\u001b[32m    False\u001b[0m\u001b[32m \u001b[0m│\u001b[36m \u001b[0m\u001b[36m     857\u001b[0m\u001b[36m \u001b[0m│\u001b[35m \u001b[0m\u001b[35m857      \u001b[0m\u001b[35m \u001b[0m│\u001b[32m \u001b[0m\u001b[32m    True\u001b[0m\u001b[32m \u001b[0m│\u001b[36m \u001b[0m\u001b[36m      857\u001b[0m\u001b[36m \u001b[0m│\u001b[35m \u001b[0m\u001b[35m        \u001b[0m\u001b[35m \u001b[0m│\u001b[32m \u001b[0m\u001b[32m    False\u001b[0m\u001b[32m \u001b[0m│\n",
       "│\u001b[36m \u001b[0m\u001b[36m2642451\u001b[0m\u001b[36m \u001b[0m│\u001b[36m \u001b[0m\u001b[36m 02292024\u001b[0m\u001b[36m \u001b[0m│\u001b[35m \u001b[0m\u001b[35m02292024\u001b[0m\u001b[35m \u001b[0m│\u001b[32m \u001b[0m\u001b[32m     True\u001b[0m\u001b[32m \u001b[0m│\u001b[36m \u001b[0m\u001b[36m     286\u001b[0m\u001b[36m \u001b[0m│\u001b[35m \u001b[0m\u001b[35m286      \u001b[0m\u001b[35m \u001b[0m│\u001b[32m \u001b[0m\u001b[32m    True\u001b[0m\u001b[32m \u001b[0m│\u001b[36m \u001b[0m\u001b[36m      286\u001b[0m\u001b[36m \u001b[0m│\u001b[35m \u001b[0m\u001b[35m        \u001b[0m\u001b[35m \u001b[0m│\u001b[32m \u001b[0m\u001b[32m    False\u001b[0m\u001b[32m \u001b[0m│\n",
       "│\u001b[36m \u001b[0m\u001b[36m2642456\u001b[0m\u001b[36m \u001b[0m│\u001b[36m \u001b[0m\u001b[36m 02292024\u001b[0m\u001b[36m \u001b[0m│\u001b[35m \u001b[0m\u001b[35m        \u001b[0m\u001b[35m \u001b[0m│\u001b[32m \u001b[0m\u001b[32m    False\u001b[0m\u001b[32m \u001b[0m│\u001b[36m \u001b[0m\u001b[36m    1555\u001b[0m\u001b[36m \u001b[0m│\u001b[35m \u001b[0m\u001b[35m         \u001b[0m\u001b[35m \u001b[0m│\u001b[32m \u001b[0m\u001b[32m   False\u001b[0m\u001b[32m \u001b[0m│\u001b[36m \u001b[0m\u001b[36m     1555\u001b[0m\u001b[36m \u001b[0m│\u001b[35m \u001b[0m\u001b[35m185     \u001b[0m\u001b[35m \u001b[0m│\u001b[32m \u001b[0m\u001b[32m    False\u001b[0m\u001b[32m \u001b[0m│\n",
       "│\u001b[36m \u001b[0m\u001b[36m2642457\u001b[0m\u001b[36m \u001b[0m│\u001b[36m \u001b[0m\u001b[36m 02292024\u001b[0m\u001b[36m \u001b[0m│\u001b[35m \u001b[0m\u001b[35m        \u001b[0m\u001b[35m \u001b[0m│\u001b[32m \u001b[0m\u001b[32m    False\u001b[0m\u001b[32m \u001b[0m│\u001b[36m \u001b[0m\u001b[36m     857\u001b[0m\u001b[36m \u001b[0m│\u001b[35m \u001b[0m\u001b[35m857      \u001b[0m\u001b[35m \u001b[0m│\u001b[32m \u001b[0m\u001b[32m    True\u001b[0m\u001b[32m \u001b[0m│\u001b[36m \u001b[0m\u001b[36m      857\u001b[0m\u001b[36m \u001b[0m│\u001b[35m \u001b[0m\u001b[35m        \u001b[0m\u001b[35m \u001b[0m│\u001b[32m \u001b[0m\u001b[32m    False\u001b[0m\u001b[32m \u001b[0m│\n",
       "│\u001b[36m \u001b[0m\u001b[36m2642458\u001b[0m\u001b[36m \u001b[0m│\u001b[36m \u001b[0m\u001b[36m 02292024\u001b[0m\u001b[36m \u001b[0m│\u001b[35m \u001b[0m\u001b[35m        \u001b[0m\u001b[35m \u001b[0m│\u001b[32m \u001b[0m\u001b[32m    False\u001b[0m\u001b[32m \u001b[0m│\u001b[36m \u001b[0m\u001b[36m     857\u001b[0m\u001b[36m \u001b[0m│\u001b[35m \u001b[0m\u001b[35m857      \u001b[0m\u001b[35m \u001b[0m│\u001b[32m \u001b[0m\u001b[32m    True\u001b[0m\u001b[32m \u001b[0m│\u001b[36m \u001b[0m\u001b[36m      857\u001b[0m\u001b[36m \u001b[0m│\u001b[35m \u001b[0m\u001b[35m        \u001b[0m\u001b[35m \u001b[0m│\u001b[32m \u001b[0m\u001b[32m    False\u001b[0m\u001b[32m \u001b[0m│\n",
       "│\u001b[36m \u001b[0m\u001b[36m2642461\u001b[0m\u001b[36m \u001b[0m│\u001b[36m \u001b[0m\u001b[36m 02292024\u001b[0m\u001b[36m \u001b[0m│\u001b[35m \u001b[0m\u001b[35m        \u001b[0m\u001b[35m \u001b[0m│\u001b[32m \u001b[0m\u001b[32m    False\u001b[0m\u001b[32m \u001b[0m│\u001b[36m \u001b[0m\u001b[36m     857\u001b[0m\u001b[36m \u001b[0m│\u001b[35m \u001b[0m\u001b[35m857      \u001b[0m\u001b[35m \u001b[0m│\u001b[32m \u001b[0m\u001b[32m    True\u001b[0m\u001b[32m \u001b[0m│\u001b[36m \u001b[0m\u001b[36m      857\u001b[0m\u001b[36m \u001b[0m│\u001b[35m \u001b[0m\u001b[35m        \u001b[0m\u001b[35m \u001b[0m│\u001b[32m \u001b[0m\u001b[32m    False\u001b[0m\u001b[32m \u001b[0m│\n",
       "│\u001b[36m \u001b[0m\u001b[36m2642462\u001b[0m\u001b[36m \u001b[0m│\u001b[36m \u001b[0m\u001b[36m 02292024\u001b[0m\u001b[36m \u001b[0m│\u001b[35m \u001b[0m\u001b[35m        \u001b[0m\u001b[35m \u001b[0m│\u001b[32m \u001b[0m\u001b[32m    False\u001b[0m\u001b[32m \u001b[0m│\u001b[36m \u001b[0m\u001b[36m     857\u001b[0m\u001b[36m \u001b[0m│\u001b[35m \u001b[0m\u001b[35m857      \u001b[0m\u001b[35m \u001b[0m│\u001b[32m \u001b[0m\u001b[32m    True\u001b[0m\u001b[32m \u001b[0m│\u001b[36m \u001b[0m\u001b[36m      857\u001b[0m\u001b[36m \u001b[0m│\u001b[35m \u001b[0m\u001b[35m        \u001b[0m\u001b[35m \u001b[0m│\u001b[32m \u001b[0m\u001b[32m    False\u001b[0m\u001b[32m \u001b[0m│\n",
       "│\u001b[36m \u001b[0m\u001b[36m2642484\u001b[0m\u001b[36m \u001b[0m│\u001b[36m \u001b[0m\u001b[36m      176\u001b[0m\u001b[36m \u001b[0m│\u001b[35m \u001b[0m\u001b[35m03122024\u001b[0m\u001b[35m \u001b[0m│\u001b[32m \u001b[0m\u001b[32m    False\u001b[0m\u001b[32m \u001b[0m│\u001b[36m \u001b[0m\u001b[36m        \u001b[0m\u001b[36m \u001b[0m│\u001b[35m \u001b[0m\u001b[35m176      \u001b[0m\u001b[35m \u001b[0m│\u001b[32m \u001b[0m\u001b[32m   False\u001b[0m\u001b[32m \u001b[0m│\u001b[36m \u001b[0m\u001b[36m         \u001b[0m\u001b[36m \u001b[0m│\u001b[35m \u001b[0m\u001b[35m725     \u001b[0m\u001b[35m \u001b[0m│\u001b[32m \u001b[0m\u001b[32m    False\u001b[0m\u001b[32m \u001b[0m│\n",
       "│\u001b[36m \u001b[0m\u001b[36m2642486\u001b[0m\u001b[36m \u001b[0m│\u001b[36m \u001b[0m\u001b[36m       19\u001b[0m\u001b[36m \u001b[0m│\u001b[35m \u001b[0m\u001b[35m03132024\u001b[0m\u001b[35m \u001b[0m│\u001b[32m \u001b[0m\u001b[32m    False\u001b[0m\u001b[32m \u001b[0m│\u001b[36m \u001b[0m\u001b[36m        \u001b[0m\u001b[36m \u001b[0m│\u001b[35m \u001b[0m\u001b[35m19       \u001b[0m\u001b[35m \u001b[0m│\u001b[32m \u001b[0m\u001b[32m   False\u001b[0m\u001b[32m \u001b[0m│\u001b[36m \u001b[0m\u001b[36m         \u001b[0m\u001b[36m \u001b[0m│\u001b[35m \u001b[0m\u001b[35m39      \u001b[0m\u001b[35m \u001b[0m│\u001b[32m \u001b[0m\u001b[32m    False\u001b[0m\u001b[32m \u001b[0m│\n",
       "│\u001b[36m \u001b[0m\u001b[36m2642487\u001b[0m\u001b[36m \u001b[0m│\u001b[36m \u001b[0m\u001b[36m       19\u001b[0m\u001b[36m \u001b[0m│\u001b[35m \u001b[0m\u001b[35m03132024\u001b[0m\u001b[35m \u001b[0m│\u001b[32m \u001b[0m\u001b[32m    False\u001b[0m\u001b[32m \u001b[0m│\u001b[36m \u001b[0m\u001b[36m        \u001b[0m\u001b[36m \u001b[0m│\u001b[35m \u001b[0m\u001b[35m19       \u001b[0m\u001b[35m \u001b[0m│\u001b[32m \u001b[0m\u001b[32m   False\u001b[0m\u001b[32m \u001b[0m│\u001b[36m \u001b[0m\u001b[36m         \u001b[0m\u001b[36m \u001b[0m│\u001b[35m \u001b[0m\u001b[35m46      \u001b[0m\u001b[35m \u001b[0m│\u001b[32m \u001b[0m\u001b[32m    False\u001b[0m\u001b[32m \u001b[0m│\n",
       "│\u001b[36m \u001b[0m\u001b[36m2642489\u001b[0m\u001b[36m \u001b[0m│\u001b[36m \u001b[0m\u001b[36m 03132024\u001b[0m\u001b[36m \u001b[0m│\u001b[35m \u001b[0m\u001b[35m        \u001b[0m\u001b[35m \u001b[0m│\u001b[32m \u001b[0m\u001b[32m    False\u001b[0m\u001b[32m \u001b[0m│\u001b[36m \u001b[0m\u001b[36m     260\u001b[0m\u001b[36m \u001b[0m│\u001b[35m \u001b[0m\u001b[35m260      \u001b[0m\u001b[35m \u001b[0m│\u001b[32m \u001b[0m\u001b[32m    True\u001b[0m\u001b[32m \u001b[0m│\u001b[36m \u001b[0m\u001b[36m      260\u001b[0m\u001b[36m \u001b[0m│\u001b[35m \u001b[0m\u001b[35m75      \u001b[0m\u001b[35m \u001b[0m│\u001b[32m \u001b[0m\u001b[32m    False\u001b[0m\u001b[32m \u001b[0m│\n",
       "│\u001b[36m \u001b[0m\u001b[36m2642493\u001b[0m\u001b[36m \u001b[0m│\u001b[36m \u001b[0m\u001b[36m      176\u001b[0m\u001b[36m \u001b[0m│\u001b[35m \u001b[0m\u001b[35m03052024\u001b[0m\u001b[35m \u001b[0m│\u001b[32m \u001b[0m\u001b[32m    False\u001b[0m\u001b[32m \u001b[0m│\u001b[36m \u001b[0m\u001b[36m        \u001b[0m\u001b[36m \u001b[0m│\u001b[35m \u001b[0m\u001b[35m176      \u001b[0m\u001b[35m \u001b[0m│\u001b[32m \u001b[0m\u001b[32m   False\u001b[0m\u001b[32m \u001b[0m│\u001b[36m \u001b[0m\u001b[36m         \u001b[0m\u001b[36m \u001b[0m│\u001b[35m \u001b[0m\u001b[35m653     \u001b[0m\u001b[35m \u001b[0m│\u001b[32m \u001b[0m\u001b[32m    False\u001b[0m\u001b[32m \u001b[0m│\n",
       "│\u001b[36m \u001b[0m\u001b[36m2642973\u001b[0m\u001b[36m \u001b[0m│\u001b[36m \u001b[0m\u001b[36m      100\u001b[0m\u001b[36m \u001b[0m│\u001b[35m \u001b[0m\u001b[35m        \u001b[0m\u001b[35m \u001b[0m│\u001b[32m \u001b[0m\u001b[32m    False\u001b[0m\u001b[32m \u001b[0m│\u001b[36m \u001b[0m\u001b[36m        \u001b[0m\u001b[36m \u001b[0m│\u001b[35m \u001b[0m\u001b[35m100      \u001b[0m\u001b[35m \u001b[0m│\u001b[32m \u001b[0m\u001b[32m   False\u001b[0m\u001b[32m \u001b[0m│\u001b[36m \u001b[0m\u001b[36m         \u001b[0m\u001b[36m \u001b[0m│\u001b[35m \u001b[0m\u001b[35m289     \u001b[0m\u001b[35m \u001b[0m│\u001b[32m \u001b[0m\u001b[32m    False\u001b[0m\u001b[32m \u001b[0m│\n",
       "│\u001b[36m \u001b[0m\u001b[36m2642980\u001b[0m\u001b[36m \u001b[0m│\u001b[36m \u001b[0m\u001b[36m 02292024\u001b[0m\u001b[36m \u001b[0m│\u001b[35m \u001b[0m\u001b[35m        \u001b[0m\u001b[35m \u001b[0m│\u001b[32m \u001b[0m\u001b[32m    False\u001b[0m\u001b[32m \u001b[0m│\u001b[36m \u001b[0m\u001b[36m     100\u001b[0m\u001b[36m \u001b[0m│\u001b[35m \u001b[0m\u001b[35m100      \u001b[0m\u001b[35m \u001b[0m│\u001b[32m \u001b[0m\u001b[32m    True\u001b[0m\u001b[32m \u001b[0m│\u001b[36m \u001b[0m\u001b[36m      100\u001b[0m\u001b[36m \u001b[0m│\u001b[35m \u001b[0m\u001b[35m290     \u001b[0m\u001b[35m \u001b[0m│\u001b[32m \u001b[0m\u001b[32m    False\u001b[0m\u001b[32m \u001b[0m│\n",
       "└─────────┴───────────┴──────────┴───────────┴──────────┴───────────┴──────────┴───────────┴──────────┴───────────┘\n"
      ]
     },
     "metadata": {},
     "output_type": "display_data"
    }
   ],
   "source": [
    "table = Table(title=\"KY set2\")\n",
    "\n",
    "table.add_column(\"Batchid\", justify=\"right\", style=\"cyan\", no_wrap=False)\n",
    "table.add_column(\"6-keyed_values\", justify=\"right\", style=\"cyan\", no_wrap=False)\n",
    "table.add_column(\"6-spacy_values\", style=\"magenta\", no_wrap=False)\n",
    "table.add_column(\"6-match_status\", justify=\"right\", style=\"green\", no_wrap=False)\n",
    "table.add_column(\"92-keyed_values\", justify=\"right\", style=\"cyan\", no_wrap=False)\n",
    "table.add_column(\"92-spacy_values\", style=\"magenta\", no_wrap=False)\n",
    "table.add_column(\"92-match_status\", justify=\"right\", style=\"green\", no_wrap=False)\n",
    "table.add_column(\"93-keyed_values\", justify=\"right\", style=\"cyan\", no_wrap=False)\n",
    "table.add_column(\"93-spacy_values\", style=\"magenta\", no_wrap=False)\n",
    "table.add_column(\"93-match_status\", justify=\"right\", style=\"green\", no_wrap=False)\n",
    "\n",
    "from collections import defaultdict\n",
    "\n",
    "import json\n",
    "import zipfile\n",
    "from pathlib import Path\n",
    "key_dict = defaultdict(list)\n",
    "for p in track(list(Path(\"ok_retest\").iterdir())):\n",
    "    with zipfile.ZipFile(p, mode=\"r\") as archive:\n",
    "        spacyF = archive.open(\"spacy.json\",'r')\n",
    "        outputF = archive.open(\"output_data.json\",'r')\n",
    "        spacy = json.load(spacyF)\n",
    "        output = json.load(outputF)\n",
    "        output = {item[\"id\"]: item[\"value\"] for item in output[\"data\"]}\n",
    "        name = str(p.name).replace(r'.zip','')\n",
    "        out92 = output.get('92','')\n",
    "        spacy92 = spacy.get('92','')\n",
    "        match92 = out92.strip() == spacy92.strip()\n",
    "        out93 = output.get('92','')\n",
    "        spacy93 = spacy.get('93','')\n",
    "        match93 = out93.strip() == spacy93.strip()\n",
    "        out6 = output.get('6','')\n",
    "        spacy6 = spacy.get('6','')\n",
    "        match6 = out6.strip() == spacy6.strip()\n",
    "        \n",
    "        table.add_row(f\"{name}\",f\"{out6}\",f\"{spacy6}\",f\"{match6}\",f\"{out92}\",f\"{spacy92}\",f\"{match92}\",f\"{out93}\",f\"{spacy93}\",f\"{match93}\")\n",
    "        key_dict['batchid'].append(name)\n",
    "        key_dict['6-keyed_values'].append(out6)\n",
    "        key_dict['6-spacy_values'].append(spacy6)\n",
    "        key_dict['6-match_status'].append(match6)\n",
    "        key_dict['92-keyed_values'].append(out92)\n",
    "        key_dict['92-spacy_values'].append(spacy92)\n",
    "        key_dict['92-match_status'].append(match92)\n",
    "        key_dict['93-keyed_values'].append(out93)\n",
    "        key_dict['93-spacy_values'].append(spacy93)\n",
    "        key_dict['93-match_status'].append(match93)\n",
    "\n",
    "        # print(\n",
    "        #     f\"batch id = {str(p.name).replace(r'.zip','')} | Field 92 = {spacy.get('92')} | Field 93 = {spacy.get('93')}\"\n",
    "        # )\n",
    "        spacyF.close()\n",
    "        outputF.close()\n",
    "        # print(p.name,data.get(\"5\"),data.get(\"6\"),data.get(\"92\"),data.get(\"93\"))\n",
    "\n",
    "console = Console()\n",
    "console.print(table)"
   ]
  },
  {
   "cell_type": "code",
   "execution_count": 1,
   "id": "3ccb7997-09d7-4779-b411-08975258f62d",
   "metadata": {},
   "outputs": [],
   "source": [
    "def clean(text):\n",
    "    # word_net = WordNetLemmatizer()\n",
    "    tokens = word_tokenize(text)\n",
    "    lower = [word.lower() for word in tokens if len(word)>2 and (word.lower() not in stop)]# and word.isalpha() and word[0].isupper()]\n",
    "    # stop_words_no = [word for word in lower if word not in stop]\n",
    "    # non_alpha = [word for word in stop_words_no if word.isalpha()]\n",
    "    lemma_text = [word_net.lemmatize(word) for word in lower]\n",
    "    return \" \".join(lemma_text)\n",
    "    # return \" \".join(lower)"
   ]
  },
  {
   "cell_type": "code",
   "execution_count": 26,
   "id": "696b123e-b361-496a-86d9-fbc18832fce5",
   "metadata": {},
   "outputs": [],
   "source": [
    "def vectorize(data,tfidf_vect_fit):\n",
    "    x_tfidf=tfidf_vect_fit.transform(data)\n",
    "    x_tfidf_df=pd.DataFrame(x_tfidf.todense(),columns=tfidf_vect_fit.get_feature_names_out())\n",
    "    return x_tfidf_df"
   ]
  },
  {
   "cell_type": "code",
   "execution_count": 29,
   "id": "2d8ac9de-8d3b-41b7-a359-2e01147557bb",
   "metadata": {},
   "outputs": [],
   "source": [
    "import pandas as pd\n",
    "df = pd.read_excel(\"NJ Pre & Post.xlsx\",sheet_name='Merged')"
   ]
  },
  {
   "cell_type": "code",
   "execution_count": 30,
   "id": "21cd96a1-3a35-47e6-801b-2a3e025ef4e5",
   "metadata": {},
   "outputs": [
    {
     "data": {
      "text/html": [
       "<div>\n",
       "<style scoped>\n",
       "    .dataframe tbody tr th:only-of-type {\n",
       "        vertical-align: middle;\n",
       "    }\n",
       "\n",
       "    .dataframe tbody tr th {\n",
       "        vertical-align: top;\n",
       "    }\n",
       "\n",
       "    .dataframe thead th {\n",
       "        text-align: right;\n",
       "    }\n",
       "</style>\n",
       "<table border=\"1\" class=\"dataframe\">\n",
       "  <thead>\n",
       "    <tr style=\"text-align: right;\">\n",
       "      <th></th>\n",
       "      <th>state</th>\n",
       "      <th>county</th>\n",
       "      <th>St &amp; county</th>\n",
       "      <th>batch_id</th>\n",
       "      <th>Initial Doctype</th>\n",
       "      <th>Final Doctype</th>\n",
       "      <th>Matching Status</th>\n",
       "      <th>Matching count</th>\n",
       "    </tr>\n",
       "  </thead>\n",
       "  <tbody>\n",
       "    <tr>\n",
       "      <th>0</th>\n",
       "      <td>NJ</td>\n",
       "      <td>ATLANTIC</td>\n",
       "      <td>NJ ATLANTIC</td>\n",
       "      <td>2717942</td>\n",
       "      <td>DocImageIndex</td>\n",
       "      <td>Mortgage</td>\n",
       "      <td>False</td>\n",
       "      <td>0</td>\n",
       "    </tr>\n",
       "    <tr>\n",
       "      <th>1</th>\n",
       "      <td>NJ</td>\n",
       "      <td>ATLANTIC</td>\n",
       "      <td>NJ ATLANTIC</td>\n",
       "      <td>2717973</td>\n",
       "      <td>Release of Mortgage</td>\n",
       "      <td>Release of Mortgage</td>\n",
       "      <td>True</td>\n",
       "      <td>1</td>\n",
       "    </tr>\n",
       "    <tr>\n",
       "      <th>2</th>\n",
       "      <td>NJ</td>\n",
       "      <td>ATLANTIC</td>\n",
       "      <td>NJ ATLANTIC</td>\n",
       "      <td>2717988</td>\n",
       "      <td>Satisfaction of Mortgage</td>\n",
       "      <td>Satisfaction of Mortgage</td>\n",
       "      <td>True</td>\n",
       "      <td>1</td>\n",
       "    </tr>\n",
       "    <tr>\n",
       "      <th>3</th>\n",
       "      <td>NJ</td>\n",
       "      <td>ATLANTIC</td>\n",
       "      <td>NJ ATLANTIC</td>\n",
       "      <td>2717998</td>\n",
       "      <td>Homeowners Lien Statement (HOA)</td>\n",
       "      <td>Discharge of Mortgage</td>\n",
       "      <td>False</td>\n",
       "      <td>0</td>\n",
       "    </tr>\n",
       "    <tr>\n",
       "      <th>4</th>\n",
       "      <td>NJ</td>\n",
       "      <td>ATLANTIC</td>\n",
       "      <td>NJ ATLANTIC</td>\n",
       "      <td>2718002</td>\n",
       "      <td>Homeowners Lien Statement (HOA)</td>\n",
       "      <td>Homeowners Lien Statement (HOA)</td>\n",
       "      <td>True</td>\n",
       "      <td>1</td>\n",
       "    </tr>\n",
       "  </tbody>\n",
       "</table>\n",
       "</div>"
      ],
      "text/plain": [
       "  state    county  St & county  batch_id                  Initial Doctype  \\\n",
       "0    NJ  ATLANTIC  NJ ATLANTIC   2717942                    DocImageIndex   \n",
       "1    NJ  ATLANTIC  NJ ATLANTIC   2717973              Release of Mortgage   \n",
       "2    NJ  ATLANTIC  NJ ATLANTIC   2717988         Satisfaction of Mortgage   \n",
       "3    NJ  ATLANTIC  NJ ATLANTIC   2717998  Homeowners Lien Statement (HOA)   \n",
       "4    NJ  ATLANTIC  NJ ATLANTIC   2718002  Homeowners Lien Statement (HOA)   \n",
       "\n",
       "                     Final Doctype  Matching Status  Matching count  \n",
       "0                         Mortgage            False               0  \n",
       "1              Release of Mortgage             True               1  \n",
       "2         Satisfaction of Mortgage             True               1  \n",
       "3            Discharge of Mortgage            False               0  \n",
       "4  Homeowners Lien Statement (HOA)             True               1  "
      ]
     },
     "execution_count": 30,
     "metadata": {},
     "output_type": "execute_result"
    }
   ],
   "source": [
    "df.head()"
   ]
  },
  {
   "cell_type": "code",
   "execution_count": 37,
   "id": "f42dc722-9ba4-4a62-8b02-b13ee98254fa",
   "metadata": {},
   "outputs": [
    {
     "data": {
      "text/plain": [
       "'Mortgage'"
      ]
     },
     "execution_count": 37,
     "metadata": {},
     "output_type": "execute_result"
    }
   ],
   "source": [
    "df[df.batch_id==2717942]['Final Doctype'].values[0]"
   ]
  },
  {
   "cell_type": "code",
   "execution_count": 32,
   "id": "08c21976-ed63-44b4-948c-a615a19a3e65",
   "metadata": {},
   "outputs": [],
   "source": [
    "dev = pd.read_excel(\"nj dev classify.xlsx\")"
   ]
  },
  {
   "cell_type": "code",
   "execution_count": 52,
   "id": "1a0c4895-37b9-46b1-8ffc-e82f2bd3516c",
   "metadata": {},
   "outputs": [
    {
     "data": {
      "text/html": [
       "<div>\n",
       "<style scoped>\n",
       "    .dataframe tbody tr th:only-of-type {\n",
       "        vertical-align: middle;\n",
       "    }\n",
       "\n",
       "    .dataframe tbody tr th {\n",
       "        vertical-align: top;\n",
       "    }\n",
       "\n",
       "    .dataframe thead th {\n",
       "        text-align: right;\n",
       "    }\n",
       "</style>\n",
       "<table border=\"1\" class=\"dataframe\">\n",
       "  <thead>\n",
       "    <tr style=\"text-align: right;\">\n",
       "      <th></th>\n",
       "      <th>0</th>\n",
       "      <th>1</th>\n",
       "    </tr>\n",
       "  </thead>\n",
       "  <tbody>\n",
       "    <tr>\n",
       "      <th>docid</th>\n",
       "      <td>2772218</td>\n",
       "      <td>2772195</td>\n",
       "    </tr>\n",
       "    <tr>\n",
       "      <th>imagename</th>\n",
       "      <td>NJ MONMOUTH 2024-06-08-0987035 2820_3402554d3...</td>\n",
       "      <td>NJ MERCER 2024-06-08-0987101 _638_34021479c09...</td>\n",
       "    </tr>\n",
       "    <tr>\n",
       "      <th>ocr</th>\n",
       "      <td>_OCR.txt</td>\n",
       "      <td>_OCR.txt</td>\n",
       "    </tr>\n",
       "    <tr>\n",
       "      <th>doctype</th>\n",
       "      <td>Deed of Reconveyance</td>\n",
       "      <td>Mortgage</td>\n",
       "    </tr>\n",
       "    <tr>\n",
       "      <th>queue</th>\n",
       "      <td>manifest</td>\n",
       "      <td>manifest</td>\n",
       "    </tr>\n",
       "    <tr>\n",
       "      <th>st_time</th>\n",
       "      <td>2024-06-08 10:11:24</td>\n",
       "      <td>2024-06-08 10:08:43</td>\n",
       "    </tr>\n",
       "    <tr>\n",
       "      <th>et_time</th>\n",
       "      <td>NaN</td>\n",
       "      <td>NaN</td>\n",
       "    </tr>\n",
       "    <tr>\n",
       "      <th>class</th>\n",
       "      <td>B1</td>\n",
       "      <td>B1</td>\n",
       "    </tr>\n",
       "    <tr>\n",
       "      <th>pages</th>\n",
       "      <td>2</td>\n",
       "      <td>5</td>\n",
       "    </tr>\n",
       "    <tr>\n",
       "      <th>status</th>\n",
       "      <td>Ready</td>\n",
       "      <td>Ready</td>\n",
       "    </tr>\n",
       "    <tr>\n",
       "      <th>username</th>\n",
       "      <td>Preprocess</td>\n",
       "      <td>Preprocess</td>\n",
       "    </tr>\n",
       "    <tr>\n",
       "      <th>county</th>\n",
       "      <td>NJ MONMOUTH</td>\n",
       "      <td>NJ MERCER</td>\n",
       "    </tr>\n",
       "    <tr>\n",
       "      <th>uu_id</th>\n",
       "      <td>421cd654-a050-4e17-bdad-bd931c0f1ed2</td>\n",
       "      <td>42ccb714-fdc9-49c1-8ff3-7a93e3be3bd8</td>\n",
       "    </tr>\n",
       "    <tr>\n",
       "      <th>film_id</th>\n",
       "      <td>987035</td>\n",
       "      <td>987101</td>\n",
       "    </tr>\n",
       "    <tr>\n",
       "      <th>maker</th>\n",
       "      <td>NaN</td>\n",
       "      <td>NaN</td>\n",
       "    </tr>\n",
       "    <tr>\n",
       "      <th>checker</th>\n",
       "      <td>NaN</td>\n",
       "      <td>NaN</td>\n",
       "    </tr>\n",
       "    <tr>\n",
       "      <th>group_name</th>\n",
       "      <td>group4</td>\n",
       "      <td>group1</td>\n",
       "    </tr>\n",
       "    <tr>\n",
       "      <th>location</th>\n",
       "      <td>CHENNAI</td>\n",
       "      <td>CHENNAI</td>\n",
       "    </tr>\n",
       "    <tr>\n",
       "      <th>req_by</th>\n",
       "      <td>NaN</td>\n",
       "      <td>NaN</td>\n",
       "    </tr>\n",
       "    <tr>\n",
       "      <th>zip_id</th>\n",
       "      <td>fb537d5c-e220-4e2b-a75b-f82ad3208ab6</td>\n",
       "      <td>ad6e73d8-6982-4719-a7ad-d4c273ee1f25</td>\n",
       "    </tr>\n",
       "    <tr>\n",
       "      <th>exception_flag</th>\n",
       "      <td>NaN</td>\n",
       "      <td>NaN</td>\n",
       "    </tr>\n",
       "    <tr>\n",
       "      <th>keyable</th>\n",
       "      <td>SUB</td>\n",
       "      <td>SUB</td>\n",
       "    </tr>\n",
       "    <tr>\n",
       "      <th>strep</th>\n",
       "      <td>Non-Strep</td>\n",
       "      <td>Non-Strep</td>\n",
       "    </tr>\n",
       "    <tr>\n",
       "      <th>fid_cdate</th>\n",
       "      <td>2024-06-08 00:00:00</td>\n",
       "      <td>2024-06-08 00:00:00</td>\n",
       "    </tr>\n",
       "    <tr>\n",
       "      <th>ufid_cl</th>\n",
       "      <td>3402554d3aa123651937Z</td>\n",
       "      <td>34021479c09053703562Z</td>\n",
       "    </tr>\n",
       "    <tr>\n",
       "      <th>ufid_vndr</th>\n",
       "      <td>NaN</td>\n",
       "      <td>NaN</td>\n",
       "    </tr>\n",
       "    <tr>\n",
       "      <th>zipfilename</th>\n",
       "      <td>NJ MONMOUTH 2024-06-08-0987035.zip</td>\n",
       "      <td>NJ MERCER 2024-06-08-0987101.zip</td>\n",
       "    </tr>\n",
       "    <tr>\n",
       "      <th>filename</th>\n",
       "      <td>docIMG_2024022820_3402554d3aa123651937Z.tif</td>\n",
       "      <td>docIMG_34021_20240424_CAN_2024_014623_774_638_...</td>\n",
       "    </tr>\n",
       "    <tr>\n",
       "      <th>noofpages</th>\n",
       "      <td>2</td>\n",
       "      <td>5</td>\n",
       "    </tr>\n",
       "    <tr>\n",
       "      <th>filesize</th>\n",
       "      <td>86634</td>\n",
       "      <td>318288</td>\n",
       "    </tr>\n",
       "    <tr>\n",
       "      <th>isspmg</th>\n",
       "      <td>N</td>\n",
       "      <td>N</td>\n",
       "    </tr>\n",
       "    <tr>\n",
       "      <th>knk_pred</th>\n",
       "      <td>K</td>\n",
       "      <td>K</td>\n",
       "    </tr>\n",
       "    <tr>\n",
       "      <th>knk_score</th>\n",
       "      <td>0.83</td>\n",
       "      <td>0.71</td>\n",
       "    </tr>\n",
       "    <tr>\n",
       "      <th>hash_code</th>\n",
       "      <td>5f01c2bc9e7dd7340da6b7b2e0ed3924</td>\n",
       "      <td>0f5e392da623eb60c70086443c24160c</td>\n",
       "    </tr>\n",
       "    <tr>\n",
       "      <th>rec_hashcode</th>\n",
       "      <td>NaN</td>\n",
       "      <td>NaN</td>\n",
       "    </tr>\n",
       "    <tr>\n",
       "      <th>unsupport_file</th>\n",
       "      <td>Y</td>\n",
       "      <td>Y</td>\n",
       "    </tr>\n",
       "    <tr>\n",
       "      <th>knk_flag</th>\n",
       "      <td>False</td>\n",
       "      <td>False</td>\n",
       "    </tr>\n",
       "    <tr>\n",
       "      <th>isdupfile</th>\n",
       "      <td>N</td>\n",
       "      <td>N</td>\n",
       "    </tr>\n",
       "  </tbody>\n",
       "</table>\n",
       "</div>"
      ],
      "text/plain": [
       "                                                                0  \\\n",
       "docid                                                     2772218   \n",
       "imagename        NJ MONMOUTH 2024-06-08-0987035 2820_3402554d3...   \n",
       "ocr                                                      _OCR.txt   \n",
       "doctype                                      Deed of Reconveyance   \n",
       "queue                                                    manifest   \n",
       "st_time                                       2024-06-08 10:11:24   \n",
       "et_time                                                       NaN   \n",
       "class                                                          B1   \n",
       "pages                                                           2   \n",
       "status                                                      Ready   \n",
       "username                                               Preprocess   \n",
       "county                                                NJ MONMOUTH   \n",
       "uu_id                        421cd654-a050-4e17-bdad-bd931c0f1ed2   \n",
       "film_id                                                    987035   \n",
       "maker                                                         NaN   \n",
       "checker                                                       NaN   \n",
       "group_name                                                 group4   \n",
       "location                                                  CHENNAI   \n",
       "req_by                                                        NaN   \n",
       "zip_id                       fb537d5c-e220-4e2b-a75b-f82ad3208ab6   \n",
       "exception_flag                                                NaN   \n",
       "keyable                                                       SUB   \n",
       "strep                                                   Non-Strep   \n",
       "fid_cdate                                     2024-06-08 00:00:00   \n",
       "ufid_cl                                     3402554d3aa123651937Z   \n",
       "ufid_vndr                                                     NaN   \n",
       "zipfilename                    NJ MONMOUTH 2024-06-08-0987035.zip   \n",
       "filename              docIMG_2024022820_3402554d3aa123651937Z.tif   \n",
       "noofpages                                                       2   \n",
       "filesize                                                    86634   \n",
       "isspmg                                                          N   \n",
       "knk_pred                                                        K   \n",
       "knk_score                                                    0.83   \n",
       "hash_code                        5f01c2bc9e7dd7340da6b7b2e0ed3924   \n",
       "rec_hashcode                                                  NaN   \n",
       "unsupport_file                                                  Y   \n",
       "knk_flag                                                    False   \n",
       "isdupfile                                                       N   \n",
       "\n",
       "                                                                1  \n",
       "docid                                                     2772195  \n",
       "imagename        NJ MERCER 2024-06-08-0987101 _638_34021479c09...  \n",
       "ocr                                                      _OCR.txt  \n",
       "doctype                                                  Mortgage  \n",
       "queue                                                    manifest  \n",
       "st_time                                       2024-06-08 10:08:43  \n",
       "et_time                                                       NaN  \n",
       "class                                                          B1  \n",
       "pages                                                           5  \n",
       "status                                                      Ready  \n",
       "username                                               Preprocess  \n",
       "county                                                  NJ MERCER  \n",
       "uu_id                        42ccb714-fdc9-49c1-8ff3-7a93e3be3bd8  \n",
       "film_id                                                    987101  \n",
       "maker                                                         NaN  \n",
       "checker                                                       NaN  \n",
       "group_name                                                 group1  \n",
       "location                                                  CHENNAI  \n",
       "req_by                                                        NaN  \n",
       "zip_id                       ad6e73d8-6982-4719-a7ad-d4c273ee1f25  \n",
       "exception_flag                                                NaN  \n",
       "keyable                                                       SUB  \n",
       "strep                                                   Non-Strep  \n",
       "fid_cdate                                     2024-06-08 00:00:00  \n",
       "ufid_cl                                     34021479c09053703562Z  \n",
       "ufid_vndr                                                     NaN  \n",
       "zipfilename                      NJ MERCER 2024-06-08-0987101.zip  \n",
       "filename        docIMG_34021_20240424_CAN_2024_014623_774_638_...  \n",
       "noofpages                                                       5  \n",
       "filesize                                                   318288  \n",
       "isspmg                                                          N  \n",
       "knk_pred                                                        K  \n",
       "knk_score                                                    0.71  \n",
       "hash_code                        0f5e392da623eb60c70086443c24160c  \n",
       "rec_hashcode                                                  NaN  \n",
       "unsupport_file                                                  Y  \n",
       "knk_flag                                                    False  \n",
       "isdupfile                                                       N  "
      ]
     },
     "execution_count": 52,
     "metadata": {},
     "output_type": "execute_result"
    }
   ],
   "source": [
    "dev.head(2).T"
   ]
  },
  {
   "cell_type": "markdown",
   "id": "3f0bb0e8-ba41-42de-9b28-9ebde1f1f7f0",
   "metadata": {},
   "source": [
    "import shutil\n",
    "for p in Path(r\"./njstate/\").iterdir():\n",
    "    if '0987' in p.name and p.is_dir():\n",
    "        file_name = list(p.iterdir())[0]\n",
    "        print(file_name)\n",
    "        shutil.make_archive(file_name.parent,'zip',file_name.parent)\n",
    "        # break"
   ]
  },
  {
   "cell_type": "code",
   "execution_count": 42,
   "id": "b26b4af6-193c-4ba2-84b8-384c30e55221",
   "metadata": {},
   "outputs": [
    {
     "name": "stdout",
     "output_type": "stream",
     "text": [
      "<class 'pandas.core.frame.DataFrame'>\n",
      "RangeIndex: 178 entries, 0 to 177\n",
      "Data columns (total 38 columns):\n",
      " #   Column          Non-Null Count  Dtype         \n",
      "---  ------          --------------  -----         \n",
      " 0   docid           178 non-null    int64         \n",
      " 1   imagename       178 non-null    object        \n",
      " 2   ocr             178 non-null    object        \n",
      " 3   doctype         177 non-null    object        \n",
      " 4   queue           178 non-null    object        \n",
      " 5   st_time         178 non-null    datetime64[ns]\n",
      " 6   et_time         0 non-null      float64       \n",
      " 7   class           178 non-null    object        \n",
      " 8   pages           178 non-null    int64         \n",
      " 9   status          178 non-null    object        \n",
      " 10  username        178 non-null    object        \n",
      " 11  county          178 non-null    object        \n",
      " 12  uu_id           178 non-null    object        \n",
      " 13  film_id         178 non-null    int64         \n",
      " 14  maker           0 non-null      float64       \n",
      " 15  checker         0 non-null      float64       \n",
      " 16  group_name      177 non-null    object        \n",
      " 17  location        178 non-null    object        \n",
      " 18  req_by          0 non-null      float64       \n",
      " 19  zip_id          178 non-null    object        \n",
      " 20  exception_flag  0 non-null      float64       \n",
      " 21  keyable         177 non-null    object        \n",
      " 22  strep           177 non-null    object        \n",
      " 23  fid_cdate       178 non-null    datetime64[ns]\n",
      " 24  ufid_cl         178 non-null    object        \n",
      " 25  ufid_vndr       0 non-null      float64       \n",
      " 26  zipfilename     178 non-null    object        \n",
      " 27  filename        178 non-null    object        \n",
      " 28  noofpages       178 non-null    int64         \n",
      " 29  filesize        178 non-null    int64         \n",
      " 30  isspmg          178 non-null    object        \n",
      " 31  knk_pred        177 non-null    object        \n",
      " 32  knk_score       177 non-null    float64       \n",
      " 33  hash_code       178 non-null    object        \n",
      " 34  rec_hashcode    0 non-null      float64       \n",
      " 35  unsupport_file  178 non-null    object        \n",
      " 36  knk_flag        178 non-null    bool          \n",
      " 37  isdupfile       178 non-null    object        \n",
      "dtypes: bool(1), datetime64[ns](2), float64(8), int64(5), object(22)\n",
      "memory usage: 51.8+ KB\n"
     ]
    }
   ],
   "source": [
    "dev.info()"
   ]
  },
  {
   "cell_type": "code",
   "execution_count": 34,
   "id": "167e2af7-6a5d-4bc2-8fad-970fb1f76e8e",
   "metadata": {
    "scrolled": true
   },
   "outputs": [
    {
     "data": {
      "text/plain": [
       "{'2717942': 'docIMG_2024018583_34001d81c58025453906Z.tif',\n",
       " '2717973': 'docIMG_2024018622_3400131ff9c025454968Z.tif',\n",
       " '2717988': 'docIMG_2024018637_34001035c3c025455609Z.tif',\n",
       " '2717998': 'docIMG_2024018648_34001ab0b7f025455906Z.tif',\n",
       " '2718002': 'docIMG_2024018655_34001079e54025455984Z.tif',\n",
       " '2718003': 'docIMG_2024018656_34001223861025456015Z.tif',\n",
       " '2718010': 'docIMG_2024018669_34001b40aca025456250Z.tif',\n",
       " '2718024': 'docIMG_2024018683_340014834cb025456828Z.tif',\n",
       " '2718026': 'docIMG_2024018690_34001da954b025456953Z.tif',\n",
       " '2718027': 'docIMG_2024018692_34001fae9c2025457015Z.tif',\n",
       " '2718031': 'docIMG_2024018697_340017f4ed5025457125Z.tif',\n",
       " '2718032': 'docIMG_2024018704_340012f2e92025457172Z.tif',\n",
       " '2718038': 'docIMG_2024018711_34001a9edc4025457406Z.tif',\n",
       " '2718041': 'docIMG_2024018714_34001826ed0025457515Z.tif',\n",
       " '2718045': 'docIMG_2024018719_34001ad685f025457656Z.tif',\n",
       " '2718055': 'docIMG_2024018730_34001a6b6b8025457984Z.tif',\n",
       " '2718058': 'docIMG_2024018733_34001572ec8025458250Z.tif',\n",
       " '2718060': 'docIMG_2024018735_34001644328025458297Z.tif',\n",
       " '2718072': 'docIMG_2024018747_34001ccf95e025458890Z.tif',\n",
       " '2718073': 'docIMG_2024018748_34001bbe6cc025458937Z.tif',\n",
       " '2718338': 'docIMG_5888744_340057ed248173537140Z.tif',\n",
       " '2718343': 'docIMG_5888749_34005024c45173537390Z.tif',\n",
       " '2718345': 'docIMG_5888751_34005ee25ac173537484Z.tif',\n",
       " '2718348': 'docIMG_5888754_340053c27bc173537625Z.tif',\n",
       " '2718349': 'docIMG_5888755_34005d59004173537656Z.tif',\n",
       " '2718351': 'docIMG_5888757_3400572bab8173537796Z.tif',\n",
       " '2718352': 'docIMG_5888758_34005592b13173537921Z.tif',\n",
       " '2718418': 'docIMG_2024022583_34025162d75123644031Z.tif',\n",
       " '2718488': 'docIMG_2024022662_34025844688123646624Z.tif',\n",
       " '2718514': 'docIMG_2024022696_340259709ca123647609Z.tif',\n",
       " '2718540': 'docIMG_2024022727_34025ea1269123648953Z.tif',\n",
       " '2718549': 'docIMG_2024022736_34025a82223123649515Z.tif',\n",
       " '2718555': 'docIMG_2024022743_340256647b6123650078Z.tif',\n",
       " '2718583': 'docIMG_2024022776_34025ed40a4123650796Z.tif',\n",
       " '2718584': 'docIMG_2024022777_34025bb6f14123650859Z.tif',\n",
       " '2718613': 'docIMG_2024022820_3402554d3aa123651937Z.tif',\n",
       " '2718631': 'docIMG_2024022843_340254f8ebc123653531Z.tif',\n",
       " '2718637': 'docIMG_2024022849_34025ed5c79123653937Z.tif',\n",
       " '2718650': 'docIMG_2024022863_34025010f07123654640Z.tif',\n",
       " '2718675': 'docIMG_2024022903_3402558a746123656062Z.tif',\n",
       " '2718786': 'docIMG_34031_20240416_MORTGAGE_2024_012338_M18877_172_1_1_340314cfc8a080809968Z.pdf',\n",
       " '2718793': 'docIMG_34031_20240416_MORTGAGE_2024_012364_M18877_257_1_1_3403125fb67080810764Z.pdf',\n",
       " '2718800': 'docIMG_34031_20240416_MORTGAGE_2024_012419_M18878_30_1_1_340313341b1080811389Z.pdf',\n",
       " '2718803': 'docIMG_34031_20240416_MORTGAGE_2024_012426_M18878_67_1_1_340313822f2080811749Z.pdf',\n",
       " '2718805': 'docIMG_34031_20240416_MORTGAGE_2024_012439_M18878_92_1_1_34031b75441080811968Z.pdf',\n",
       " '2718853': 'docIMG_34031_20240416_POWER OF ATTORNEY_2024_012458_D4695_155_1_1_34031be6466080814202Z.pdf',\n",
       " '2718860': 'docIMG_34031_20240417_ASSIGNMENT OF MORTGAGE_2024_012565_AS864_249_1_1_34031dee64b080814499Z.pdf',\n",
       " '2718862': 'docIMG_34031_20240417_ASSIGNMENT OF MORTGAGE_2024_012567_AS864_255_1_1_34031fe8384080814546Z.pdf',\n",
       " '2718865': 'docIMG_34031_20240417_DEED_2024_012493_D4695_222_1_1_34031215129080814624Z.pdf',\n",
       " '2718866': 'docIMG_34031_20240417_DEED_2024_012523_D4695_242_1_1_340317c2777080814655Z.pdf',\n",
       " '2718867': 'docIMG_34031_20240417_DEED_2024_012537_D4695_249_1_1_34031773563080814702Z.pdf',\n",
       " '2718868': 'docIMG_34031_20240417_DEED_2024_012553_D4695_263_1_1_34031af26d8080814749Z.pdf',\n",
       " '2718871': 'docIMG_34031_20240417_DEED_2024_012568_D4695_286_1_1_3403101443b080814936Z.pdf',\n",
       " '2718918': 'docIMG_34031_20240417_MORTGAGE_2024_012492_M18878_260_1_1_340315a9722080816671Z.pdf',\n",
       " '2718930': 'docIMG_34031_20240417_MORTGAGE_2024_012538_M18879_93_1_1_3403123cf2f080817968Z.pdf',\n",
       " '2718937': 'docIMG_34031_20240417_MORTGAGE_2024_012574_M18879_251_1_1_340317d3a54080819296Z.pdf',\n",
       " '2718948': 'docIMG_34031_20240417_MORTGAGE_2024_012612_M18880_122_1_1_34031af5e33080820749Z.pdf',\n",
       " '2718949': 'docIMG_34031_20240417_MORTGAGE_2024_012613_M18880_129_1_1_34031480de0080820811Z.pdf',\n",
       " '2718951': 'docIMG_34031_20240417_MORTGAGE_2024_012617_M18880_157_1_1_3403198439c080820999Z.pdf',\n",
       " '2718952': 'docIMG_34031_20240417_MORTGAGE_2024_012618_M18880_167_1_1_34031464dd7080821108Z.pdf',\n",
       " '2719101': 'docIMG_34033_20240429_AOR_2024_2024003233_4694_1000_340334c03b4034902114Z.pdf',\n",
       " '2719102': 'docIMG_34033_20240429_DEED_2024_2024003225_4694_940_3403391a010034902145Z.pdf',\n",
       " '2719104': 'docIMG_34033_20240429_DEED_2024_2024003245_4694_1075_34033f44cb2034902239Z.pdf',\n",
       " '2719105': 'docIMG_34033_20240429_DEED_2024_2024003257_4694_1151_340339b49c7034902364Z.pdf',\n",
       " '2719112': 'docIMG_34033_20240429_EASE_2024_2024003251_4694_1115_34033ba7119034902630Z.pdf',\n",
       " '2719118': 'docIMG_34033_20240429_LISD_2024_2024003243_4694_1069_3403310c484034902911Z.pdf',\n",
       " '2719119': 'docIMG_34033_20240429_LISD_2024_2024003266_4694_1231_340338ddb39034902942Z.pdf',\n",
       " '2719120': 'docIMG_34033_20240429_LIS_2024_2024003267_4694_1234_3403345baff034902958Z.pdf',\n",
       " '2719124': 'docIMG_34033_20240429_MTGA_2024_2024003241_4694_1065_340334804b9034903036Z.pdf',\n",
       " '2719125': 'docIMG_34033_20240429_MTGA_2024_2024003264_4694_1227_3403385095d034903052Z.pdf',\n",
       " '2719129': 'docIMG_34033_20240429_MTGD_2024_2024003224_4694_938_34033dd347c034903145Z.pdf',\n",
       " '2719130': 'docIMG_34033_20240429_MTGD_2024_2024003238_4694_1059_340332c97fa034903161Z.pdf',\n",
       " '2719131': 'docIMG_34033_20240429_MTGD_2024_2024003246_4694_1091_34033c59a18034903177Z.pdf',\n",
       " '2719132': 'docIMG_34033_20240429_MTGD_2024_2024003268_4694_1239_34033b93160034903192Z.pdf',\n",
       " '2719133': 'docIMG_34033_20240429_MTGD_2024_2024003272_4694_1252_34033cdb7c9034903208Z.pdf',\n",
       " '2719134': 'docIMG_34033_20240429_MTGD_2024_2024003273_4694_1254_340334b84dd034903224Z.pdf',\n",
       " '2719135': 'docIMG_34033_20240429_MTGM_2024_2024003235_4694_1033_3403365dfa7034903239Z.pdf',\n",
       " '2719137': 'docIMG_34033_20240429_MTG_2024_2024003226_4694_945_34033149afb034903349Z.pdf',\n",
       " '2719138': 'docIMG_34033_20240429_MTG_2024_2024003230_4694_968_34033fbbb1e034903458Z.pdf',\n",
       " '2719157': 'docIMG_34033_20240429_UCC_2024_2024003269_4694_1241_34033621b4a034904677Z.pdf',\n",
       " '2719351': 'docIMG_5889483_34005379222161529281Z.tif',\n",
       " '2719353': 'docIMG_5889485_34005911b24161529406Z.tif',\n",
       " '2719408': 'docIMG_5889540_34005171e9a161531531Z.tif',\n",
       " '2719418': 'docIMG_5889550_340058efced161531828Z.tif',\n",
       " '2719420': 'docIMG_5889552_34005ba78d8161531953Z.tif',\n",
       " '2719424': 'docIMG_5889556_340059cc344161532140Z.tif',\n",
       " '2719430': 'docIMG_5889562_34005754cec161532468Z.tif',\n",
       " '2719431': 'docIMG_5889563_340051785b0161532515Z.tif',\n",
       " '2719453': 'docIMG_5889585_34005c88764161533812Z.tif',\n",
       " '2719480': 'docIMG_5889612_34005ff79f6161535328Z.tif',\n",
       " '2719484': 'docIMG_5889616_34005796341161535484Z.tif',\n",
       " '2719494': 'docIMG_5889626_34005b25be8161535796Z.tif',\n",
       " '2719496': 'docIMG_34011_20240502_ASSIGNMENT OF MORTGAGE_2024_693059_04255_1729_1_1_3401102d4b4210643186Z.pdf',\n",
       " '2719497': 'docIMG_34011_20240502_ASSIGNMENT OF MORTGAGE_2024_693083_04255_1894_1_1_3401130d34f210643202Z.pdf',\n",
       " '2719498': 'docIMG_34011_20240502_ASSIGNMENT OF MORTGAGE_2024_693090_04255_1936_1_1_34011e87758210643202Z.pdf',\n",
       " '2719532': 'docIMG_34011_20240503_MORTGAGE_2024_693098_04255_1967_1_1_34011192c3e210644090Z.pdf',\n",
       " '2719535': 'docIMG_34011_20240503_MORTGAGE_2024_693114_04255_2095_1_1_34011fa5429210644266Z.pdf',\n",
       " '2719541': 'docIMG_34021_20240424_ASN_2024_014641_1213_1112_34021a2f81b053703265Z.pdf',\n",
       " '2719542': 'docIMG_34021_20240424_ASN_2024_014655_1213_1116_34021fc88c4053703281Z.pdf',\n",
       " '2719543': 'docIMG_34021_20240424_ASN_2024_014677_1213_1122_3402104cb99053703312Z.pdf',\n",
       " '2719548': 'docIMG_34021_20240424_CAN_2024_014622_774_633_34021076607053703531Z.pdf',\n",
       " '2719549': 'docIMG_34021_20240424_CAN_2024_014623_774_638_34021479c09053703562Z.pdf',\n",
       " '2719550': 'docIMG_34021_20240424_CAN_2024_014624_774_643_34021162876053703593Z.pdf',\n",
       " '2719552': 'docIMG_34021_20240424_CAN_2024_014630_774_654_34021064f35053703671Z.pdf',\n",
       " '2719559': 'docIMG_34021_20240424_DD5_2024_014608_6554_1458_340210bd6e3053703984Z.pdf',\n",
       " '2719580': 'docIMG_34021_20240424_DIS_2024_014590_1669_116_34021cb14e9053704859Z.pdf',\n",
       " '2719581': 'docIMG_34021_20240424_DIS_2024_014594_1669_119_3402115d87b053704906Z.pdf',\n",
       " '2719615': 'docIMG_34021_20240424_MTG_2024_014658_11873_1626_340213414b4053706661Z.pdf',\n",
       " '2719639': 'docIMG_34021_20240430_ASN_2024_015254_1213_1225_34021ed2c02053707312Z.pdf',\n",
       " '2719640': 'docIMG_34021_20240430_CAN_2024_015228_774_735_3402164551a053707343Z.pdf',\n",
       " '2719701': 'docIMG_34021_20240430_DIS_2024_015307_1669_534_34021ef1351053709937Z.pdf',\n",
       " '2719705': 'docIMG_34021_20240430_DIS_2024_015347_1669_548_340214e32e1053709999Z.pdf',\n",
       " '2719708': 'docIMG_34021_20240430_DIS_2024_015353_1669_557_34021276251053710046Z.pdf',\n",
       " '2719723': 'docIMG_34021_20240430_MTG_2024_015299_11874_1290_34021da151c053711359Z.pdf',\n",
       " '2719724': 'docIMG_34021_20240430_MTG_2024_015329_11874_1297_34021b73f51053711437Z.pdf',\n",
       " '2719770': 'docIMG_34021_20240503_MTG_2024_015656_11875_588_34021888305053712921Z.pdf',\n",
       " '2719832': 'docIMG_2024023685_340255ace13111826890Z.tif',\n",
       " '2719871': 'docIMG_2024023733_34025f4b322111829187Z.tif',\n",
       " '2719911': 'docIMG_2024023778_3402522385b111831234Z.tif',\n",
       " '2719993': 'docIMG_2024023883_340257a71ac111834671Z.tif',\n",
       " '2720008': 'docIMG_2024023904_34025142819111835281Z.tif',\n",
       " '2720009': 'docIMG_2024023905_3402572e617111835390Z.tif',\n",
       " '2720012': 'docIMG_2024023918_340251bed3b111835515Z.tif',\n",
       " '2720032': 'docIMG_2024-605694_340414ecca2045756843Z.tif',\n",
       " '2720034': 'docIMG_2024-605696_340414cc08e045756859Z.tif',\n",
       " '2720037': 'docIMG_2024-605699_34041bdb658045756921Z.tif',\n",
       " '2720043': 'docIMG_2024-605705_34041748d79045757030Z.tif',\n",
       " '2720045': 'docIMG_2024-605707_34041b1a8ce045757062Z.tif',\n",
       " '2720049': 'docIMG_2024-605711_34041a021c6045757124Z.tif',\n",
       " '2720051': 'docIMG_2024-605713_340414c7c8c045757218Z.tif',\n",
       " '2720055': 'docIMG_2024-605717_34041294663045757296Z.tif',\n",
       " '2720056': 'docIMG_2024-605718_34041804571045757296Z.tif',\n",
       " '2720058': 'docIMG_2024-605720_3404190486f045757374Z.tif',\n",
       " '2720063': 'docIMG_2024-605726_34041c97386045757562Z.tif',\n",
       " '2720066': 'docIMG_2024-605729_34041a1e289045757593Z.tif',\n",
       " '2720067': 'docIMG_2024-605730_3404107b958045757624Z.tif',\n",
       " '2720079': 'docIMG_2024-605742_34041c4c490045757749Z.tif',\n",
       " '2720080': 'docIMG_2024-605743_34041ede989045757749Z.tif',\n",
       " '2720081': 'docIMG_2024-605744_3404179aca2045757765Z.tif',\n",
       " '2720083': 'docIMG_2024-605746_340412c53be045757796Z.tif',\n",
       " '2720084': 'docIMG_2024-605747_340416505fd045757905Z.tif',\n",
       " '2720086': 'docIMG_2024-605749_3404194608a045757937Z.tif',\n",
       " '2720088': 'docIMG_2024-605751_340411f5447045758046Z.tif',\n",
       " '2720248': 'docIMG_20240401000049600_34019139bd8163232934Z.tif',\n",
       " '2720261': 'docIMG_20240401000049740_340196a5d7b163236293Z.tif',\n",
       " '2720273': 'docIMG_20240401000049920_340191290e7163239585Z.tif',\n",
       " '2720283': 'docIMG_20240401000050140_340197a140e163242076Z.tif',\n",
       " '2720309': 'docIMG_20240402000050600_3401947a771163253841Z.tif',\n",
       " '2720327': 'docIMG_20240402000050820_3401998143e163259293Z.tif',\n",
       " '2720336': 'docIMG_20240402000050920_34019d5b5cd163301434Z.tif',\n",
       " '2720340': 'docIMG_20240402000050980_34019ad1974163302590Z.tif',\n",
       " '2720343': 'docIMG_20240402000051020_34019aacd44163303668Z.tif',\n",
       " '2720353': 'docIMG_20240402000051220_3401970b175163306752Z.tif',\n",
       " '2720354': 'docIMG_20240402000051360_340199703ca163307159Z.tif',\n",
       " '2720357': 'docIMG_20240402000051420_34019fb7a55163309016Z.tif',\n",
       " '2720388': 'docIMG_20240403000051980_340194b0288163322090Z.tif',\n",
       " '2720390': 'docIMG_20240403000052000_34019ef6ac7163328481Z.tif',\n",
       " '2720395': 'docIMG_20240403000052050_34019721a29163329762Z.tif',\n",
       " '2720404': 'docIMG_20240403000052160_34019d54a57163334777Z.tif',\n",
       " '2720408': 'docIMG_20240403000052200_340199434eb163335627Z.tif',\n",
       " '2720412': 'docIMG_20240403000052260_340194a0f81163336788Z.tif',\n",
       " '2720416': 'docIMG_20240403000052300_34019ffff3f163338027Z.tif',\n",
       " '2720417': 'docIMG_20240403000052390_3401933e394163338243Z.tif',\n",
       " '2740843': 'docIMG_34011_20240502_ASSIGNMENT OF MORTGAGE_2024_693059_04255_1729_1_1_3401102d4b4210643186Z.pdf',\n",
       " '2740844': 'docIMG_34011_20240502_ASSIGNMENT OF MORTGAGE_2024_693083_04255_1894_1_1_3401130d34f210643202Z.pdf',\n",
       " '2740845': 'docIMG_34011_20240502_ASSIGNMENT OF MORTGAGE_2024_693090_04255_1936_1_1_34011e87758210643202Z.pdf',\n",
       " '2740860': 'docIMG_34011_20240502_MORTGAGE_2024_693043_04255_1588_1_1_340112e1653210643499Z.pdf',\n",
       " '2740879': 'docIMG_34011_20240503_MORTGAGE_2024_693098_04255_1967_1_1_34011192c3e210644090Z.pdf',\n",
       " '2740882': 'docIMG_34011_20240503_MORTGAGE_2024_693114_04255_2095_1_1_34011fa5429210644266Z.pdf',\n",
       " '2740961': 'docIMG_34011_20240517_MORTGAGE_2024_694088_04255_8199_1_1_34011f1bfca232635654Z.pdf',\n",
       " '2740964': 'docIMG_34011_20240520_ASSIGNMENT OF MORTGAGE_2024_694099_04255_8259_1_1_340114bba7f232635800Z.pdf',\n",
       " '2740966': 'docIMG_34011_20240520_ASSIGNMENT OF MORTGAGE_2024_694150_04255_8558_1_1_34011da611d232635839Z.pdf',\n",
       " '2740969': 'docIMG_34011_20240520_ASSIGNMENT OF MORTGAGE_2024_694181_04255_8774_1_1_34011e42a9b232635887Z.pdf',\n",
       " '2740971': 'docIMG_34011_20240520_ASSIGNMENT OF MORTGAGE_2024_694184_04255_8786_1_1_34011444f49232635918Z.pdf',\n",
       " '2741001': 'docIMG_34011_20240520_DISCHARGE OF MORTGAGE_2024_694123_04255_8420_1_1_340113f6e5f232636606Z.pdf',\n",
       " '2741020': 'docIMG_34011_20240520_MORTGAGE_2024_694103_04255_8282_1_1_34011a9a77c232637059Z.pdf',\n",
       " '2741027': 'docIMG_34011_20240520_MORTGAGE_2024_694151_04255_8562_1_1_34011e9e286232637414Z.pdf',\n",
       " '2741125': 'docIMG_34011_20240522_MORTGAGE_2024_694299_04255_9450_1_1_3401170d00a232640610Z.pdf'}"
      ]
     },
     "execution_count": 34,
     "metadata": {},
     "output_type": "execute_result"
    }
   ],
   "source": [
    "name_index"
   ]
  },
  {
   "cell_type": "code",
   "execution_count": 53,
   "id": "a0704a42-9874-406d-8892-fc033678b0b4",
   "metadata": {},
   "outputs": [],
   "source": [
    "y_true,y_pred = [],[]\n",
    "batchids=  []\n",
    "imgName_list = []\n",
    "new_batchid = []\n",
    "fID = []\n",
    "county = []\n",
    "class_ = []"
   ]
  },
  {
   "cell_type": "code",
   "execution_count": 54,
   "id": "3fcf8feb-5fd8-4906-bf9c-b5d8a0637022",
   "metadata": {},
   "outputs": [
    {
     "data": {
      "text/html": [
       "<pre style=\"white-space:pre;overflow-x:auto;line-height:normal;font-family:Menlo,'DejaVu Sans Mono',consolas,'Courier New',monospace\"><span style=\"color: #008080; text-decoration-color: #008080; font-weight: bold\">987000</span>\n",
       "</pre>\n"
      ],
      "text/plain": [
       "\u001b[1;36m987000\u001b[0m\n"
      ]
     },
     "metadata": {},
     "output_type": "display_data"
    },
    {
     "data": {
      "text/html": [
       "<pre style=\"white-space:pre;overflow-x:auto;line-height:normal;font-family:Menlo,'DejaVu Sans Mono',consolas,'Courier New',monospace\"><span style=\"color: #008080; text-decoration-color: #008080; font-weight: bold\">987001</span>\n",
       "</pre>\n"
      ],
      "text/plain": [
       "\u001b[1;36m987001\u001b[0m\n"
      ]
     },
     "metadata": {},
     "output_type": "display_data"
    },
    {
     "data": {
      "text/html": [
       "<pre style=\"white-space:pre;overflow-x:auto;line-height:normal;font-family:Menlo,'DejaVu Sans Mono',consolas,'Courier New',monospace\"><span style=\"color: #008080; text-decoration-color: #008080; font-weight: bold\">987002</span>\n",
       "</pre>\n"
      ],
      "text/plain": [
       "\u001b[1;36m987002\u001b[0m\n"
      ]
     },
     "metadata": {},
     "output_type": "display_data"
    },
    {
     "data": {
      "text/html": [
       "<pre style=\"white-space:pre;overflow-x:auto;line-height:normal;font-family:Menlo,'DejaVu Sans Mono',consolas,'Courier New',monospace\"><span style=\"color: #008080; text-decoration-color: #008080; font-weight: bold\">987003</span>\n",
       "</pre>\n"
      ],
      "text/plain": [
       "\u001b[1;36m987003\u001b[0m\n"
      ]
     },
     "metadata": {},
     "output_type": "display_data"
    },
    {
     "data": {
      "text/html": [
       "<pre style=\"white-space:pre;overflow-x:auto;line-height:normal;font-family:Menlo,'DejaVu Sans Mono',consolas,'Courier New',monospace\"><span style=\"color: #008080; text-decoration-color: #008080; font-weight: bold\">987004</span>\n",
       "</pre>\n"
      ],
      "text/plain": [
       "\u001b[1;36m987004\u001b[0m\n"
      ]
     },
     "metadata": {},
     "output_type": "display_data"
    },
    {
     "data": {
      "text/html": [
       "<pre style=\"white-space:pre;overflow-x:auto;line-height:normal;font-family:Menlo,'DejaVu Sans Mono',consolas,'Courier New',monospace\"><span style=\"color: #008080; text-decoration-color: #008080; font-weight: bold\">987005</span>\n",
       "</pre>\n"
      ],
      "text/plain": [
       "\u001b[1;36m987005\u001b[0m\n"
      ]
     },
     "metadata": {},
     "output_type": "display_data"
    },
    {
     "data": {
      "text/html": [
       "<pre style=\"white-space:pre;overflow-x:auto;line-height:normal;font-family:Menlo,'DejaVu Sans Mono',consolas,'Courier New',monospace\"><span style=\"color: #008080; text-decoration-color: #008080; font-weight: bold\">987006</span>\n",
       "</pre>\n"
      ],
      "text/plain": [
       "\u001b[1;36m987006\u001b[0m\n"
      ]
     },
     "metadata": {},
     "output_type": "display_data"
    },
    {
     "data": {
      "text/html": [
       "<pre style=\"white-space:pre;overflow-x:auto;line-height:normal;font-family:Menlo,'DejaVu Sans Mono',consolas,'Courier New',monospace\"><span style=\"color: #008080; text-decoration-color: #008080; font-weight: bold\">987007</span>\n",
       "</pre>\n"
      ],
      "text/plain": [
       "\u001b[1;36m987007\u001b[0m\n"
      ]
     },
     "metadata": {},
     "output_type": "display_data"
    },
    {
     "data": {
      "text/html": [
       "<pre style=\"white-space:pre;overflow-x:auto;line-height:normal;font-family:Menlo,'DejaVu Sans Mono',consolas,'Courier New',monospace\"><span style=\"color: #008080; text-decoration-color: #008080; font-weight: bold\">987008</span>\n",
       "</pre>\n"
      ],
      "text/plain": [
       "\u001b[1;36m987008\u001b[0m\n"
      ]
     },
     "metadata": {},
     "output_type": "display_data"
    },
    {
     "data": {
      "text/html": [
       "<pre style=\"white-space:pre;overflow-x:auto;line-height:normal;font-family:Menlo,'DejaVu Sans Mono',consolas,'Courier New',monospace\"><span style=\"color: #008080; text-decoration-color: #008080; font-weight: bold\">987009</span>\n",
       "</pre>\n"
      ],
      "text/plain": [
       "\u001b[1;36m987009\u001b[0m\n"
      ]
     },
     "metadata": {},
     "output_type": "display_data"
    },
    {
     "data": {
      "text/html": [
       "<pre style=\"white-space:pre;overflow-x:auto;line-height:normal;font-family:Menlo,'DejaVu Sans Mono',consolas,'Courier New',monospace\"><span style=\"color: #008080; text-decoration-color: #008080; font-weight: bold\">987010</span>\n",
       "</pre>\n"
      ],
      "text/plain": [
       "\u001b[1;36m987010\u001b[0m\n"
      ]
     },
     "metadata": {},
     "output_type": "display_data"
    },
    {
     "data": {
      "text/html": [
       "<pre style=\"white-space:pre;overflow-x:auto;line-height:normal;font-family:Menlo,'DejaVu Sans Mono',consolas,'Courier New',monospace\"><span style=\"color: #008080; text-decoration-color: #008080; font-weight: bold\">987011</span>\n",
       "</pre>\n"
      ],
      "text/plain": [
       "\u001b[1;36m987011\u001b[0m\n"
      ]
     },
     "metadata": {},
     "output_type": "display_data"
    },
    {
     "data": {
      "text/html": [
       "<pre style=\"white-space:pre;overflow-x:auto;line-height:normal;font-family:Menlo,'DejaVu Sans Mono',consolas,'Courier New',monospace\"><span style=\"color: #008080; text-decoration-color: #008080; font-weight: bold\">987012</span>\n",
       "</pre>\n"
      ],
      "text/plain": [
       "\u001b[1;36m987012\u001b[0m\n"
      ]
     },
     "metadata": {},
     "output_type": "display_data"
    },
    {
     "data": {
      "text/html": [
       "<pre style=\"white-space:pre;overflow-x:auto;line-height:normal;font-family:Menlo,'DejaVu Sans Mono',consolas,'Courier New',monospace\"><span style=\"color: #008080; text-decoration-color: #008080; font-weight: bold\">987013</span>\n",
       "</pre>\n"
      ],
      "text/plain": [
       "\u001b[1;36m987013\u001b[0m\n"
      ]
     },
     "metadata": {},
     "output_type": "display_data"
    },
    {
     "data": {
      "text/html": [
       "<pre style=\"white-space:pre;overflow-x:auto;line-height:normal;font-family:Menlo,'DejaVu Sans Mono',consolas,'Courier New',monospace\"><span style=\"color: #008080; text-decoration-color: #008080; font-weight: bold\">987014</span>\n",
       "</pre>\n"
      ],
      "text/plain": [
       "\u001b[1;36m987014\u001b[0m\n"
      ]
     },
     "metadata": {},
     "output_type": "display_data"
    },
    {
     "data": {
      "text/html": [
       "<pre style=\"white-space:pre;overflow-x:auto;line-height:normal;font-family:Menlo,'DejaVu Sans Mono',consolas,'Courier New',monospace\"><span style=\"color: #008080; text-decoration-color: #008080; font-weight: bold\">987015</span>\n",
       "</pre>\n"
      ],
      "text/plain": [
       "\u001b[1;36m987015\u001b[0m\n"
      ]
     },
     "metadata": {},
     "output_type": "display_data"
    },
    {
     "data": {
      "text/html": [
       "<pre style=\"white-space:pre;overflow-x:auto;line-height:normal;font-family:Menlo,'DejaVu Sans Mono',consolas,'Courier New',monospace\"><span style=\"color: #008080; text-decoration-color: #008080; font-weight: bold\">987016</span>\n",
       "</pre>\n"
      ],
      "text/plain": [
       "\u001b[1;36m987016\u001b[0m\n"
      ]
     },
     "metadata": {},
     "output_type": "display_data"
    },
    {
     "data": {
      "text/html": [
       "<pre style=\"white-space:pre;overflow-x:auto;line-height:normal;font-family:Menlo,'DejaVu Sans Mono',consolas,'Courier New',monospace\"><span style=\"color: #008080; text-decoration-color: #008080; font-weight: bold\">987017</span>\n",
       "</pre>\n"
      ],
      "text/plain": [
       "\u001b[1;36m987017\u001b[0m\n"
      ]
     },
     "metadata": {},
     "output_type": "display_data"
    },
    {
     "data": {
      "text/html": [
       "<pre style=\"white-space:pre;overflow-x:auto;line-height:normal;font-family:Menlo,'DejaVu Sans Mono',consolas,'Courier New',monospace\"><span style=\"color: #008080; text-decoration-color: #008080; font-weight: bold\">987018</span>\n",
       "</pre>\n"
      ],
      "text/plain": [
       "\u001b[1;36m987018\u001b[0m\n"
      ]
     },
     "metadata": {},
     "output_type": "display_data"
    },
    {
     "data": {
      "text/html": [
       "<pre style=\"white-space:pre;overflow-x:auto;line-height:normal;font-family:Menlo,'DejaVu Sans Mono',consolas,'Courier New',monospace\"><span style=\"color: #008080; text-decoration-color: #008080; font-weight: bold\">987019</span>\n",
       "</pre>\n"
      ],
      "text/plain": [
       "\u001b[1;36m987019\u001b[0m\n"
      ]
     },
     "metadata": {},
     "output_type": "display_data"
    },
    {
     "data": {
      "text/html": [
       "<pre style=\"white-space:pre;overflow-x:auto;line-height:normal;font-family:Menlo,'DejaVu Sans Mono',consolas,'Courier New',monospace\"><span style=\"color: #008080; text-decoration-color: #008080; font-weight: bold\">987020</span>\n",
       "</pre>\n"
      ],
      "text/plain": [
       "\u001b[1;36m987020\u001b[0m\n"
      ]
     },
     "metadata": {},
     "output_type": "display_data"
    },
    {
     "data": {
      "text/html": [
       "<pre style=\"white-space:pre;overflow-x:auto;line-height:normal;font-family:Menlo,'DejaVu Sans Mono',consolas,'Courier New',monospace\"><span style=\"color: #008080; text-decoration-color: #008080; font-weight: bold\">987021</span>\n",
       "</pre>\n"
      ],
      "text/plain": [
       "\u001b[1;36m987021\u001b[0m\n"
      ]
     },
     "metadata": {},
     "output_type": "display_data"
    },
    {
     "data": {
      "text/html": [
       "<pre style=\"white-space:pre;overflow-x:auto;line-height:normal;font-family:Menlo,'DejaVu Sans Mono',consolas,'Courier New',monospace\"><span style=\"color: #008080; text-decoration-color: #008080; font-weight: bold\">987022</span>\n",
       "</pre>\n"
      ],
      "text/plain": [
       "\u001b[1;36m987022\u001b[0m\n"
      ]
     },
     "metadata": {},
     "output_type": "display_data"
    },
    {
     "data": {
      "text/html": [
       "<pre style=\"white-space:pre;overflow-x:auto;line-height:normal;font-family:Menlo,'DejaVu Sans Mono',consolas,'Courier New',monospace\"><span style=\"color: #008080; text-decoration-color: #008080; font-weight: bold\">987023</span>\n",
       "</pre>\n"
      ],
      "text/plain": [
       "\u001b[1;36m987023\u001b[0m\n"
      ]
     },
     "metadata": {},
     "output_type": "display_data"
    },
    {
     "data": {
      "text/html": [
       "<pre style=\"white-space:pre;overflow-x:auto;line-height:normal;font-family:Menlo,'DejaVu Sans Mono',consolas,'Courier New',monospace\"><span style=\"color: #008080; text-decoration-color: #008080; font-weight: bold\">987024</span>\n",
       "</pre>\n"
      ],
      "text/plain": [
       "\u001b[1;36m987024\u001b[0m\n"
      ]
     },
     "metadata": {},
     "output_type": "display_data"
    },
    {
     "data": {
      "text/html": [
       "<pre style=\"white-space:pre;overflow-x:auto;line-height:normal;font-family:Menlo,'DejaVu Sans Mono',consolas,'Courier New',monospace\"><span style=\"color: #008080; text-decoration-color: #008080; font-weight: bold\">987025</span>\n",
       "</pre>\n"
      ],
      "text/plain": [
       "\u001b[1;36m987025\u001b[0m\n"
      ]
     },
     "metadata": {},
     "output_type": "display_data"
    },
    {
     "data": {
      "text/html": [
       "<pre style=\"white-space:pre;overflow-x:auto;line-height:normal;font-family:Menlo,'DejaVu Sans Mono',consolas,'Courier New',monospace\"><span style=\"color: #008080; text-decoration-color: #008080; font-weight: bold\">987026</span>\n",
       "</pre>\n"
      ],
      "text/plain": [
       "\u001b[1;36m987026\u001b[0m\n"
      ]
     },
     "metadata": {},
     "output_type": "display_data"
    },
    {
     "data": {
      "text/html": [
       "<pre style=\"white-space:pre;overflow-x:auto;line-height:normal;font-family:Menlo,'DejaVu Sans Mono',consolas,'Courier New',monospace\"><span style=\"color: #008080; text-decoration-color: #008080; font-weight: bold\">987027</span>\n",
       "</pre>\n"
      ],
      "text/plain": [
       "\u001b[1;36m987027\u001b[0m\n"
      ]
     },
     "metadata": {},
     "output_type": "display_data"
    },
    {
     "data": {
      "text/html": [
       "<pre style=\"white-space:pre;overflow-x:auto;line-height:normal;font-family:Menlo,'DejaVu Sans Mono',consolas,'Courier New',monospace\"><span style=\"color: #008080; text-decoration-color: #008080; font-weight: bold\">987028</span>\n",
       "</pre>\n"
      ],
      "text/plain": [
       "\u001b[1;36m987028\u001b[0m\n"
      ]
     },
     "metadata": {},
     "output_type": "display_data"
    },
    {
     "data": {
      "text/html": [
       "<pre style=\"white-space:pre;overflow-x:auto;line-height:normal;font-family:Menlo,'DejaVu Sans Mono',consolas,'Courier New',monospace\"><span style=\"color: #008080; text-decoration-color: #008080; font-weight: bold\">987029</span>\n",
       "</pre>\n"
      ],
      "text/plain": [
       "\u001b[1;36m987029\u001b[0m\n"
      ]
     },
     "metadata": {},
     "output_type": "display_data"
    },
    {
     "data": {
      "text/html": [
       "<pre style=\"white-space:pre;overflow-x:auto;line-height:normal;font-family:Menlo,'DejaVu Sans Mono',consolas,'Courier New',monospace\"><span style=\"color: #008080; text-decoration-color: #008080; font-weight: bold\">987030</span>\n",
       "</pre>\n"
      ],
      "text/plain": [
       "\u001b[1;36m987030\u001b[0m\n"
      ]
     },
     "metadata": {},
     "output_type": "display_data"
    },
    {
     "data": {
      "text/html": [
       "<pre style=\"white-space:pre;overflow-x:auto;line-height:normal;font-family:Menlo,'DejaVu Sans Mono',consolas,'Courier New',monospace\"><span style=\"color: #008080; text-decoration-color: #008080; font-weight: bold\">987031</span>\n",
       "</pre>\n"
      ],
      "text/plain": [
       "\u001b[1;36m987031\u001b[0m\n"
      ]
     },
     "metadata": {},
     "output_type": "display_data"
    },
    {
     "data": {
      "text/html": [
       "<pre style=\"white-space:pre;overflow-x:auto;line-height:normal;font-family:Menlo,'DejaVu Sans Mono',consolas,'Courier New',monospace\"><span style=\"color: #008080; text-decoration-color: #008080; font-weight: bold\">987032</span>\n",
       "</pre>\n"
      ],
      "text/plain": [
       "\u001b[1;36m987032\u001b[0m\n"
      ]
     },
     "metadata": {},
     "output_type": "display_data"
    },
    {
     "data": {
      "text/html": [
       "<pre style=\"white-space:pre;overflow-x:auto;line-height:normal;font-family:Menlo,'DejaVu Sans Mono',consolas,'Courier New',monospace\"><span style=\"color: #008080; text-decoration-color: #008080; font-weight: bold\">987033</span>\n",
       "</pre>\n"
      ],
      "text/plain": [
       "\u001b[1;36m987033\u001b[0m\n"
      ]
     },
     "metadata": {},
     "output_type": "display_data"
    },
    {
     "data": {
      "text/html": [
       "<pre style=\"white-space:pre;overflow-x:auto;line-height:normal;font-family:Menlo,'DejaVu Sans Mono',consolas,'Courier New',monospace\"><span style=\"color: #008080; text-decoration-color: #008080; font-weight: bold\">987034</span>\n",
       "</pre>\n"
      ],
      "text/plain": [
       "\u001b[1;36m987034\u001b[0m\n"
      ]
     },
     "metadata": {},
     "output_type": "display_data"
    },
    {
     "data": {
      "text/html": [
       "<pre style=\"white-space:pre;overflow-x:auto;line-height:normal;font-family:Menlo,'DejaVu Sans Mono',consolas,'Courier New',monospace\"><span style=\"color: #008080; text-decoration-color: #008080; font-weight: bold\">987035</span>\n",
       "</pre>\n"
      ],
      "text/plain": [
       "\u001b[1;36m987035\u001b[0m\n"
      ]
     },
     "metadata": {},
     "output_type": "display_data"
    },
    {
     "data": {
      "text/html": [
       "<pre style=\"white-space:pre;overflow-x:auto;line-height:normal;font-family:Menlo,'DejaVu Sans Mono',consolas,'Courier New',monospace\"><span style=\"color: #008080; text-decoration-color: #008080; font-weight: bold\">987036</span>\n",
       "</pre>\n"
      ],
      "text/plain": [
       "\u001b[1;36m987036\u001b[0m\n"
      ]
     },
     "metadata": {},
     "output_type": "display_data"
    },
    {
     "data": {
      "text/html": [
       "<pre style=\"white-space:pre;overflow-x:auto;line-height:normal;font-family:Menlo,'DejaVu Sans Mono',consolas,'Courier New',monospace\"><span style=\"color: #008080; text-decoration-color: #008080; font-weight: bold\">987037</span>\n",
       "</pre>\n"
      ],
      "text/plain": [
       "\u001b[1;36m987037\u001b[0m\n"
      ]
     },
     "metadata": {},
     "output_type": "display_data"
    },
    {
     "data": {
      "text/html": [
       "<pre style=\"white-space:pre;overflow-x:auto;line-height:normal;font-family:Menlo,'DejaVu Sans Mono',consolas,'Courier New',monospace\"><span style=\"color: #008080; text-decoration-color: #008080; font-weight: bold\">987038</span>\n",
       "</pre>\n"
      ],
      "text/plain": [
       "\u001b[1;36m987038\u001b[0m\n"
      ]
     },
     "metadata": {},
     "output_type": "display_data"
    },
    {
     "data": {
      "text/html": [
       "<pre style=\"white-space:pre;overflow-x:auto;line-height:normal;font-family:Menlo,'DejaVu Sans Mono',consolas,'Courier New',monospace\"><span style=\"color: #008080; text-decoration-color: #008080; font-weight: bold\">987039</span>\n",
       "</pre>\n"
      ],
      "text/plain": [
       "\u001b[1;36m987039\u001b[0m\n"
      ]
     },
     "metadata": {},
     "output_type": "display_data"
    },
    {
     "data": {
      "text/html": [
       "<pre style=\"white-space:pre;overflow-x:auto;line-height:normal;font-family:Menlo,'DejaVu Sans Mono',consolas,'Courier New',monospace\"><span style=\"color: #008080; text-decoration-color: #008080; font-weight: bold\">987040</span>\n",
       "</pre>\n"
      ],
      "text/plain": [
       "\u001b[1;36m987040\u001b[0m\n"
      ]
     },
     "metadata": {},
     "output_type": "display_data"
    },
    {
     "data": {
      "text/html": [
       "<pre style=\"white-space:pre;overflow-x:auto;line-height:normal;font-family:Menlo,'DejaVu Sans Mono',consolas,'Courier New',monospace\"><span style=\"color: #008080; text-decoration-color: #008080; font-weight: bold\">987041</span>\n",
       "</pre>\n"
      ],
      "text/plain": [
       "\u001b[1;36m987041\u001b[0m\n"
      ]
     },
     "metadata": {},
     "output_type": "display_data"
    },
    {
     "data": {
      "text/html": [
       "<pre style=\"white-space:pre;overflow-x:auto;line-height:normal;font-family:Menlo,'DejaVu Sans Mono',consolas,'Courier New',monospace\"><span style=\"color: #008080; text-decoration-color: #008080; font-weight: bold\">987042</span>\n",
       "</pre>\n"
      ],
      "text/plain": [
       "\u001b[1;36m987042\u001b[0m\n"
      ]
     },
     "metadata": {},
     "output_type": "display_data"
    },
    {
     "data": {
      "text/html": [
       "<pre style=\"white-space:pre;overflow-x:auto;line-height:normal;font-family:Menlo,'DejaVu Sans Mono',consolas,'Courier New',monospace\"><span style=\"color: #008080; text-decoration-color: #008080; font-weight: bold\">987043</span>\n",
       "</pre>\n"
      ],
      "text/plain": [
       "\u001b[1;36m987043\u001b[0m\n"
      ]
     },
     "metadata": {},
     "output_type": "display_data"
    },
    {
     "data": {
      "text/html": [
       "<pre style=\"white-space:pre;overflow-x:auto;line-height:normal;font-family:Menlo,'DejaVu Sans Mono',consolas,'Courier New',monospace\"><span style=\"color: #008080; text-decoration-color: #008080; font-weight: bold\">987044</span>\n",
       "</pre>\n"
      ],
      "text/plain": [
       "\u001b[1;36m987044\u001b[0m\n"
      ]
     },
     "metadata": {},
     "output_type": "display_data"
    },
    {
     "data": {
      "text/html": [
       "<pre style=\"white-space:pre;overflow-x:auto;line-height:normal;font-family:Menlo,'DejaVu Sans Mono',consolas,'Courier New',monospace\"><span style=\"color: #008080; text-decoration-color: #008080; font-weight: bold\">987045</span>\n",
       "</pre>\n"
      ],
      "text/plain": [
       "\u001b[1;36m987045\u001b[0m\n"
      ]
     },
     "metadata": {},
     "output_type": "display_data"
    },
    {
     "data": {
      "text/html": [
       "<pre style=\"white-space:pre;overflow-x:auto;line-height:normal;font-family:Menlo,'DejaVu Sans Mono',consolas,'Courier New',monospace\"><span style=\"color: #008080; text-decoration-color: #008080; font-weight: bold\">987046</span>\n",
       "</pre>\n"
      ],
      "text/plain": [
       "\u001b[1;36m987046\u001b[0m\n"
      ]
     },
     "metadata": {},
     "output_type": "display_data"
    },
    {
     "data": {
      "text/html": [
       "<pre style=\"white-space:pre;overflow-x:auto;line-height:normal;font-family:Menlo,'DejaVu Sans Mono',consolas,'Courier New',monospace\"><span style=\"color: #008080; text-decoration-color: #008080; font-weight: bold\">987047</span>\n",
       "</pre>\n"
      ],
      "text/plain": [
       "\u001b[1;36m987047\u001b[0m\n"
      ]
     },
     "metadata": {},
     "output_type": "display_data"
    },
    {
     "data": {
      "text/html": [
       "<pre style=\"white-space:pre;overflow-x:auto;line-height:normal;font-family:Menlo,'DejaVu Sans Mono',consolas,'Courier New',monospace\"><span style=\"color: #008080; text-decoration-color: #008080; font-weight: bold\">987048</span>\n",
       "</pre>\n"
      ],
      "text/plain": [
       "\u001b[1;36m987048\u001b[0m\n"
      ]
     },
     "metadata": {},
     "output_type": "display_data"
    },
    {
     "data": {
      "text/html": [
       "<pre style=\"white-space:pre;overflow-x:auto;line-height:normal;font-family:Menlo,'DejaVu Sans Mono',consolas,'Courier New',monospace\"><span style=\"color: #008080; text-decoration-color: #008080; font-weight: bold\">987049</span>\n",
       "</pre>\n"
      ],
      "text/plain": [
       "\u001b[1;36m987049\u001b[0m\n"
      ]
     },
     "metadata": {},
     "output_type": "display_data"
    },
    {
     "data": {
      "text/html": [
       "<pre style=\"white-space:pre;overflow-x:auto;line-height:normal;font-family:Menlo,'DejaVu Sans Mono',consolas,'Courier New',monospace\"><span style=\"color: #008080; text-decoration-color: #008080; font-weight: bold\">987050</span>\n",
       "</pre>\n"
      ],
      "text/plain": [
       "\u001b[1;36m987050\u001b[0m\n"
      ]
     },
     "metadata": {},
     "output_type": "display_data"
    },
    {
     "data": {
      "text/html": [
       "<pre style=\"white-space:pre;overflow-x:auto;line-height:normal;font-family:Menlo,'DejaVu Sans Mono',consolas,'Courier New',monospace\"><span style=\"color: #008080; text-decoration-color: #008080; font-weight: bold\">987051</span>\n",
       "</pre>\n"
      ],
      "text/plain": [
       "\u001b[1;36m987051\u001b[0m\n"
      ]
     },
     "metadata": {},
     "output_type": "display_data"
    },
    {
     "data": {
      "text/html": [
       "<pre style=\"white-space:pre;overflow-x:auto;line-height:normal;font-family:Menlo,'DejaVu Sans Mono',consolas,'Courier New',monospace\"><span style=\"color: #008080; text-decoration-color: #008080; font-weight: bold\">987052</span>\n",
       "</pre>\n"
      ],
      "text/plain": [
       "\u001b[1;36m987052\u001b[0m\n"
      ]
     },
     "metadata": {},
     "output_type": "display_data"
    },
    {
     "data": {
      "text/html": [
       "<pre style=\"white-space:pre;overflow-x:auto;line-height:normal;font-family:Menlo,'DejaVu Sans Mono',consolas,'Courier New',monospace\"><span style=\"color: #008080; text-decoration-color: #008080; font-weight: bold\">987053</span>\n",
       "</pre>\n"
      ],
      "text/plain": [
       "\u001b[1;36m987053\u001b[0m\n"
      ]
     },
     "metadata": {},
     "output_type": "display_data"
    },
    {
     "data": {
      "text/html": [
       "<pre style=\"white-space:pre;overflow-x:auto;line-height:normal;font-family:Menlo,'DejaVu Sans Mono',consolas,'Courier New',monospace\"><span style=\"color: #008080; text-decoration-color: #008080; font-weight: bold\">987054</span>\n",
       "</pre>\n"
      ],
      "text/plain": [
       "\u001b[1;36m987054\u001b[0m\n"
      ]
     },
     "metadata": {},
     "output_type": "display_data"
    },
    {
     "data": {
      "text/html": [
       "<pre style=\"white-space:pre;overflow-x:auto;line-height:normal;font-family:Menlo,'DejaVu Sans Mono',consolas,'Courier New',monospace\"><span style=\"color: #008080; text-decoration-color: #008080; font-weight: bold\">987055</span>\n",
       "</pre>\n"
      ],
      "text/plain": [
       "\u001b[1;36m987055\u001b[0m\n"
      ]
     },
     "metadata": {},
     "output_type": "display_data"
    },
    {
     "data": {
      "text/html": [
       "<pre style=\"white-space:pre;overflow-x:auto;line-height:normal;font-family:Menlo,'DejaVu Sans Mono',consolas,'Courier New',monospace\"><span style=\"color: #008080; text-decoration-color: #008080; font-weight: bold\">987056</span>\n",
       "</pre>\n"
      ],
      "text/plain": [
       "\u001b[1;36m987056\u001b[0m\n"
      ]
     },
     "metadata": {},
     "output_type": "display_data"
    },
    {
     "data": {
      "text/html": [
       "<pre style=\"white-space:pre;overflow-x:auto;line-height:normal;font-family:Menlo,'DejaVu Sans Mono',consolas,'Courier New',monospace\"><span style=\"color: #008080; text-decoration-color: #008080; font-weight: bold\">987057</span>\n",
       "</pre>\n"
      ],
      "text/plain": [
       "\u001b[1;36m987057\u001b[0m\n"
      ]
     },
     "metadata": {},
     "output_type": "display_data"
    },
    {
     "data": {
      "text/html": [
       "<pre style=\"white-space:pre;overflow-x:auto;line-height:normal;font-family:Menlo,'DejaVu Sans Mono',consolas,'Courier New',monospace\"><span style=\"color: #008080; text-decoration-color: #008080; font-weight: bold\">987058</span>\n",
       "</pre>\n"
      ],
      "text/plain": [
       "\u001b[1;36m987058\u001b[0m\n"
      ]
     },
     "metadata": {},
     "output_type": "display_data"
    },
    {
     "data": {
      "text/html": [
       "<pre style=\"white-space:pre;overflow-x:auto;line-height:normal;font-family:Menlo,'DejaVu Sans Mono',consolas,'Courier New',monospace\"><span style=\"color: #008080; text-decoration-color: #008080; font-weight: bold\">987059</span>\n",
       "</pre>\n"
      ],
      "text/plain": [
       "\u001b[1;36m987059\u001b[0m\n"
      ]
     },
     "metadata": {},
     "output_type": "display_data"
    },
    {
     "data": {
      "text/html": [
       "<pre style=\"white-space:pre;overflow-x:auto;line-height:normal;font-family:Menlo,'DejaVu Sans Mono',consolas,'Courier New',monospace\"><span style=\"color: #008080; text-decoration-color: #008080; font-weight: bold\">987060</span>\n",
       "</pre>\n"
      ],
      "text/plain": [
       "\u001b[1;36m987060\u001b[0m\n"
      ]
     },
     "metadata": {},
     "output_type": "display_data"
    },
    {
     "data": {
      "text/html": [
       "<pre style=\"white-space:pre;overflow-x:auto;line-height:normal;font-family:Menlo,'DejaVu Sans Mono',consolas,'Courier New',monospace\"><span style=\"color: #008080; text-decoration-color: #008080; font-weight: bold\">987061</span>\n",
       "</pre>\n"
      ],
      "text/plain": [
       "\u001b[1;36m987061\u001b[0m\n"
      ]
     },
     "metadata": {},
     "output_type": "display_data"
    },
    {
     "data": {
      "text/html": [
       "<pre style=\"white-space:pre;overflow-x:auto;line-height:normal;font-family:Menlo,'DejaVu Sans Mono',consolas,'Courier New',monospace\"><span style=\"color: #008080; text-decoration-color: #008080; font-weight: bold\">987062</span>\n",
       "</pre>\n"
      ],
      "text/plain": [
       "\u001b[1;36m987062\u001b[0m\n"
      ]
     },
     "metadata": {},
     "output_type": "display_data"
    },
    {
     "data": {
      "text/html": [
       "<pre style=\"white-space:pre;overflow-x:auto;line-height:normal;font-family:Menlo,'DejaVu Sans Mono',consolas,'Courier New',monospace\"><span style=\"color: #008080; text-decoration-color: #008080; font-weight: bold\">987063</span>\n",
       "</pre>\n"
      ],
      "text/plain": [
       "\u001b[1;36m987063\u001b[0m\n"
      ]
     },
     "metadata": {},
     "output_type": "display_data"
    },
    {
     "data": {
      "text/html": [
       "<pre style=\"white-space:pre;overflow-x:auto;line-height:normal;font-family:Menlo,'DejaVu Sans Mono',consolas,'Courier New',monospace\"><span style=\"color: #008080; text-decoration-color: #008080; font-weight: bold\">987064</span>\n",
       "</pre>\n"
      ],
      "text/plain": [
       "\u001b[1;36m987064\u001b[0m\n"
      ]
     },
     "metadata": {},
     "output_type": "display_data"
    },
    {
     "data": {
      "text/html": [
       "<pre style=\"white-space:pre;overflow-x:auto;line-height:normal;font-family:Menlo,'DejaVu Sans Mono',consolas,'Courier New',monospace\"><span style=\"color: #008080; text-decoration-color: #008080; font-weight: bold\">987065</span>\n",
       "</pre>\n"
      ],
      "text/plain": [
       "\u001b[1;36m987065\u001b[0m\n"
      ]
     },
     "metadata": {},
     "output_type": "display_data"
    },
    {
     "data": {
      "text/html": [
       "<pre style=\"white-space:pre;overflow-x:auto;line-height:normal;font-family:Menlo,'DejaVu Sans Mono',consolas,'Courier New',monospace\"><span style=\"color: #008080; text-decoration-color: #008080; font-weight: bold\">987066</span>\n",
       "</pre>\n"
      ],
      "text/plain": [
       "\u001b[1;36m987066\u001b[0m\n"
      ]
     },
     "metadata": {},
     "output_type": "display_data"
    },
    {
     "data": {
      "text/html": [
       "<pre style=\"white-space:pre;overflow-x:auto;line-height:normal;font-family:Menlo,'DejaVu Sans Mono',consolas,'Courier New',monospace\"><span style=\"color: #008080; text-decoration-color: #008080; font-weight: bold\">987067</span>\n",
       "</pre>\n"
      ],
      "text/plain": [
       "\u001b[1;36m987067\u001b[0m\n"
      ]
     },
     "metadata": {},
     "output_type": "display_data"
    },
    {
     "data": {
      "text/html": [
       "<pre style=\"white-space:pre;overflow-x:auto;line-height:normal;font-family:Menlo,'DejaVu Sans Mono',consolas,'Courier New',monospace\"><span style=\"color: #008080; text-decoration-color: #008080; font-weight: bold\">987068</span>\n",
       "</pre>\n"
      ],
      "text/plain": [
       "\u001b[1;36m987068\u001b[0m\n"
      ]
     },
     "metadata": {},
     "output_type": "display_data"
    },
    {
     "data": {
      "text/html": [
       "<pre style=\"white-space:pre;overflow-x:auto;line-height:normal;font-family:Menlo,'DejaVu Sans Mono',consolas,'Courier New',monospace\"><span style=\"color: #008080; text-decoration-color: #008080; font-weight: bold\">987069</span>\n",
       "</pre>\n"
      ],
      "text/plain": [
       "\u001b[1;36m987069\u001b[0m\n"
      ]
     },
     "metadata": {},
     "output_type": "display_data"
    },
    {
     "data": {
      "text/html": [
       "<pre style=\"white-space:pre;overflow-x:auto;line-height:normal;font-family:Menlo,'DejaVu Sans Mono',consolas,'Courier New',monospace\"><span style=\"color: #008080; text-decoration-color: #008080; font-weight: bold\">987070</span>\n",
       "</pre>\n"
      ],
      "text/plain": [
       "\u001b[1;36m987070\u001b[0m\n"
      ]
     },
     "metadata": {},
     "output_type": "display_data"
    },
    {
     "data": {
      "text/html": [
       "<pre style=\"white-space:pre;overflow-x:auto;line-height:normal;font-family:Menlo,'DejaVu Sans Mono',consolas,'Courier New',monospace\"><span style=\"color: #008080; text-decoration-color: #008080; font-weight: bold\">987071</span>\n",
       "</pre>\n"
      ],
      "text/plain": [
       "\u001b[1;36m987071\u001b[0m\n"
      ]
     },
     "metadata": {},
     "output_type": "display_data"
    },
    {
     "data": {
      "text/html": [
       "<pre style=\"white-space:pre;overflow-x:auto;line-height:normal;font-family:Menlo,'DejaVu Sans Mono',consolas,'Courier New',monospace\"><span style=\"color: #008080; text-decoration-color: #008080; font-weight: bold\">987072</span>\n",
       "</pre>\n"
      ],
      "text/plain": [
       "\u001b[1;36m987072\u001b[0m\n"
      ]
     },
     "metadata": {},
     "output_type": "display_data"
    },
    {
     "data": {
      "text/html": [
       "<pre style=\"white-space:pre;overflow-x:auto;line-height:normal;font-family:Menlo,'DejaVu Sans Mono',consolas,'Courier New',monospace\"><span style=\"color: #008080; text-decoration-color: #008080; font-weight: bold\">987073</span>\n",
       "</pre>\n"
      ],
      "text/plain": [
       "\u001b[1;36m987073\u001b[0m\n"
      ]
     },
     "metadata": {},
     "output_type": "display_data"
    },
    {
     "data": {
      "text/html": [
       "<pre style=\"white-space:pre;overflow-x:auto;line-height:normal;font-family:Menlo,'DejaVu Sans Mono',consolas,'Courier New',monospace\"><span style=\"color: #008080; text-decoration-color: #008080; font-weight: bold\">987074</span>\n",
       "</pre>\n"
      ],
      "text/plain": [
       "\u001b[1;36m987074\u001b[0m\n"
      ]
     },
     "metadata": {},
     "output_type": "display_data"
    },
    {
     "data": {
      "text/html": [
       "<pre style=\"white-space:pre;overflow-x:auto;line-height:normal;font-family:Menlo,'DejaVu Sans Mono',consolas,'Courier New',monospace\"><span style=\"color: #008080; text-decoration-color: #008080; font-weight: bold\">987075</span>\n",
       "</pre>\n"
      ],
      "text/plain": [
       "\u001b[1;36m987075\u001b[0m\n"
      ]
     },
     "metadata": {},
     "output_type": "display_data"
    },
    {
     "data": {
      "text/html": [
       "<pre style=\"white-space:pre;overflow-x:auto;line-height:normal;font-family:Menlo,'DejaVu Sans Mono',consolas,'Courier New',monospace\"><span style=\"color: #008080; text-decoration-color: #008080; font-weight: bold\">987076</span>\n",
       "</pre>\n"
      ],
      "text/plain": [
       "\u001b[1;36m987076\u001b[0m\n"
      ]
     },
     "metadata": {},
     "output_type": "display_data"
    },
    {
     "data": {
      "text/html": [
       "<pre style=\"white-space:pre;overflow-x:auto;line-height:normal;font-family:Menlo,'DejaVu Sans Mono',consolas,'Courier New',monospace\"><span style=\"color: #008080; text-decoration-color: #008080; font-weight: bold\">987077</span>\n",
       "</pre>\n"
      ],
      "text/plain": [
       "\u001b[1;36m987077\u001b[0m\n"
      ]
     },
     "metadata": {},
     "output_type": "display_data"
    },
    {
     "data": {
      "text/html": [
       "<pre style=\"white-space:pre;overflow-x:auto;line-height:normal;font-family:Menlo,'DejaVu Sans Mono',consolas,'Courier New',monospace\"><span style=\"color: #008080; text-decoration-color: #008080; font-weight: bold\">987078</span>\n",
       "</pre>\n"
      ],
      "text/plain": [
       "\u001b[1;36m987078\u001b[0m\n"
      ]
     },
     "metadata": {},
     "output_type": "display_data"
    },
    {
     "data": {
      "text/html": [
       "<pre style=\"white-space:pre;overflow-x:auto;line-height:normal;font-family:Menlo,'DejaVu Sans Mono',consolas,'Courier New',monospace\"><span style=\"color: #008080; text-decoration-color: #008080; font-weight: bold\">987079</span>\n",
       "</pre>\n"
      ],
      "text/plain": [
       "\u001b[1;36m987079\u001b[0m\n"
      ]
     },
     "metadata": {},
     "output_type": "display_data"
    },
    {
     "data": {
      "text/html": [
       "<pre style=\"white-space:pre;overflow-x:auto;line-height:normal;font-family:Menlo,'DejaVu Sans Mono',consolas,'Courier New',monospace\"><span style=\"color: #008080; text-decoration-color: #008080; font-weight: bold\">987080</span>\n",
       "</pre>\n"
      ],
      "text/plain": [
       "\u001b[1;36m987080\u001b[0m\n"
      ]
     },
     "metadata": {},
     "output_type": "display_data"
    },
    {
     "data": {
      "text/html": [
       "<pre style=\"white-space:pre;overflow-x:auto;line-height:normal;font-family:Menlo,'DejaVu Sans Mono',consolas,'Courier New',monospace\"><span style=\"color: #008080; text-decoration-color: #008080; font-weight: bold\">987081</span>\n",
       "</pre>\n"
      ],
      "text/plain": [
       "\u001b[1;36m987081\u001b[0m\n"
      ]
     },
     "metadata": {},
     "output_type": "display_data"
    },
    {
     "data": {
      "text/html": [
       "<pre style=\"white-space:pre;overflow-x:auto;line-height:normal;font-family:Menlo,'DejaVu Sans Mono',consolas,'Courier New',monospace\"><span style=\"color: #008080; text-decoration-color: #008080; font-weight: bold\">987082</span>\n",
       "</pre>\n"
      ],
      "text/plain": [
       "\u001b[1;36m987082\u001b[0m\n"
      ]
     },
     "metadata": {},
     "output_type": "display_data"
    },
    {
     "data": {
      "text/html": [
       "<pre style=\"white-space:pre;overflow-x:auto;line-height:normal;font-family:Menlo,'DejaVu Sans Mono',consolas,'Courier New',monospace\"><span style=\"color: #008080; text-decoration-color: #008080; font-weight: bold\">987083</span>\n",
       "</pre>\n"
      ],
      "text/plain": [
       "\u001b[1;36m987083\u001b[0m\n"
      ]
     },
     "metadata": {},
     "output_type": "display_data"
    },
    {
     "data": {
      "text/html": [
       "<pre style=\"white-space:pre;overflow-x:auto;line-height:normal;font-family:Menlo,'DejaVu Sans Mono',consolas,'Courier New',monospace\"><span style=\"color: #008080; text-decoration-color: #008080; font-weight: bold\">987084</span>\n",
       "</pre>\n"
      ],
      "text/plain": [
       "\u001b[1;36m987084\u001b[0m\n"
      ]
     },
     "metadata": {},
     "output_type": "display_data"
    },
    {
     "data": {
      "text/html": [
       "<pre style=\"white-space:pre;overflow-x:auto;line-height:normal;font-family:Menlo,'DejaVu Sans Mono',consolas,'Courier New',monospace\"><span style=\"color: #008080; text-decoration-color: #008080; font-weight: bold\">987085</span>\n",
       "</pre>\n"
      ],
      "text/plain": [
       "\u001b[1;36m987085\u001b[0m\n"
      ]
     },
     "metadata": {},
     "output_type": "display_data"
    },
    {
     "data": {
      "text/html": [
       "<pre style=\"white-space:pre;overflow-x:auto;line-height:normal;font-family:Menlo,'DejaVu Sans Mono',consolas,'Courier New',monospace\"><span style=\"color: #008080; text-decoration-color: #008080; font-weight: bold\">987086</span>\n",
       "</pre>\n"
      ],
      "text/plain": [
       "\u001b[1;36m987086\u001b[0m\n"
      ]
     },
     "metadata": {},
     "output_type": "display_data"
    },
    {
     "data": {
      "text/html": [
       "<pre style=\"white-space:pre;overflow-x:auto;line-height:normal;font-family:Menlo,'DejaVu Sans Mono',consolas,'Courier New',monospace\"><span style=\"color: #008080; text-decoration-color: #008080; font-weight: bold\">987087</span>\n",
       "</pre>\n"
      ],
      "text/plain": [
       "\u001b[1;36m987087\u001b[0m\n"
      ]
     },
     "metadata": {},
     "output_type": "display_data"
    },
    {
     "data": {
      "text/html": [
       "<pre style=\"white-space:pre;overflow-x:auto;line-height:normal;font-family:Menlo,'DejaVu Sans Mono',consolas,'Courier New',monospace\"><span style=\"color: #008080; text-decoration-color: #008080; font-weight: bold\">987088</span>\n",
       "</pre>\n"
      ],
      "text/plain": [
       "\u001b[1;36m987088\u001b[0m\n"
      ]
     },
     "metadata": {},
     "output_type": "display_data"
    },
    {
     "data": {
      "text/html": [
       "<pre style=\"white-space:pre;overflow-x:auto;line-height:normal;font-family:Menlo,'DejaVu Sans Mono',consolas,'Courier New',monospace\"><span style=\"color: #008080; text-decoration-color: #008080; font-weight: bold\">987089</span>\n",
       "</pre>\n"
      ],
      "text/plain": [
       "\u001b[1;36m987089\u001b[0m\n"
      ]
     },
     "metadata": {},
     "output_type": "display_data"
    },
    {
     "data": {
      "text/html": [
       "<pre style=\"white-space:pre;overflow-x:auto;line-height:normal;font-family:Menlo,'DejaVu Sans Mono',consolas,'Courier New',monospace\"><span style=\"color: #008080; text-decoration-color: #008080; font-weight: bold\">987090</span>\n",
       "</pre>\n"
      ],
      "text/plain": [
       "\u001b[1;36m987090\u001b[0m\n"
      ]
     },
     "metadata": {},
     "output_type": "display_data"
    },
    {
     "data": {
      "text/html": [
       "<pre style=\"white-space:pre;overflow-x:auto;line-height:normal;font-family:Menlo,'DejaVu Sans Mono',consolas,'Courier New',monospace\"><span style=\"color: #008080; text-decoration-color: #008080; font-weight: bold\">987091</span>\n",
       "</pre>\n"
      ],
      "text/plain": [
       "\u001b[1;36m987091\u001b[0m\n"
      ]
     },
     "metadata": {},
     "output_type": "display_data"
    },
    {
     "data": {
      "text/html": [
       "<pre style=\"white-space:pre;overflow-x:auto;line-height:normal;font-family:Menlo,'DejaVu Sans Mono',consolas,'Courier New',monospace\"><span style=\"color: #008080; text-decoration-color: #008080; font-weight: bold\">987092</span>\n",
       "</pre>\n"
      ],
      "text/plain": [
       "\u001b[1;36m987092\u001b[0m\n"
      ]
     },
     "metadata": {},
     "output_type": "display_data"
    },
    {
     "data": {
      "text/html": [
       "<pre style=\"white-space:pre;overflow-x:auto;line-height:normal;font-family:Menlo,'DejaVu Sans Mono',consolas,'Courier New',monospace\"><span style=\"color: #008080; text-decoration-color: #008080; font-weight: bold\">987164</span>\n",
       "</pre>\n"
      ],
      "text/plain": [
       "\u001b[1;36m987164\u001b[0m\n"
      ]
     },
     "metadata": {},
     "output_type": "display_data"
    },
    {
     "data": {
      "text/html": [
       "<pre style=\"white-space:pre;overflow-x:auto;line-height:normal;font-family:Menlo,'DejaVu Sans Mono',consolas,'Courier New',monospace\"><span style=\"color: #008080; text-decoration-color: #008080; font-weight: bold\">987094</span>\n",
       "</pre>\n"
      ],
      "text/plain": [
       "\u001b[1;36m987094\u001b[0m\n"
      ]
     },
     "metadata": {},
     "output_type": "display_data"
    },
    {
     "data": {
      "text/html": [
       "<pre style=\"white-space:pre;overflow-x:auto;line-height:normal;font-family:Menlo,'DejaVu Sans Mono',consolas,'Courier New',monospace\"><span style=\"color: #008080; text-decoration-color: #008080; font-weight: bold\">987095</span>\n",
       "</pre>\n"
      ],
      "text/plain": [
       "\u001b[1;36m987095\u001b[0m\n"
      ]
     },
     "metadata": {},
     "output_type": "display_data"
    },
    {
     "data": {
      "text/html": [
       "<pre style=\"white-space:pre;overflow-x:auto;line-height:normal;font-family:Menlo,'DejaVu Sans Mono',consolas,'Courier New',monospace\"><span style=\"color: #008080; text-decoration-color: #008080; font-weight: bold\">987096</span>\n",
       "</pre>\n"
      ],
      "text/plain": [
       "\u001b[1;36m987096\u001b[0m\n"
      ]
     },
     "metadata": {},
     "output_type": "display_data"
    },
    {
     "data": {
      "text/html": [
       "<pre style=\"white-space:pre;overflow-x:auto;line-height:normal;font-family:Menlo,'DejaVu Sans Mono',consolas,'Courier New',monospace\"><span style=\"color: #008080; text-decoration-color: #008080; font-weight: bold\">987097</span>\n",
       "</pre>\n"
      ],
      "text/plain": [
       "\u001b[1;36m987097\u001b[0m\n"
      ]
     },
     "metadata": {},
     "output_type": "display_data"
    },
    {
     "data": {
      "text/html": [
       "<pre style=\"white-space:pre;overflow-x:auto;line-height:normal;font-family:Menlo,'DejaVu Sans Mono',consolas,'Courier New',monospace\"><span style=\"color: #008080; text-decoration-color: #008080; font-weight: bold\">987098</span>\n",
       "</pre>\n"
      ],
      "text/plain": [
       "\u001b[1;36m987098\u001b[0m\n"
      ]
     },
     "metadata": {},
     "output_type": "display_data"
    },
    {
     "data": {
      "text/html": [
       "<pre style=\"white-space:pre;overflow-x:auto;line-height:normal;font-family:Menlo,'DejaVu Sans Mono',consolas,'Courier New',monospace\"><span style=\"color: #008080; text-decoration-color: #008080; font-weight: bold\">987099</span>\n",
       "</pre>\n"
      ],
      "text/plain": [
       "\u001b[1;36m987099\u001b[0m\n"
      ]
     },
     "metadata": {},
     "output_type": "display_data"
    },
    {
     "data": {
      "text/html": [
       "<pre style=\"white-space:pre;overflow-x:auto;line-height:normal;font-family:Menlo,'DejaVu Sans Mono',consolas,'Courier New',monospace\"><span style=\"color: #008080; text-decoration-color: #008080; font-weight: bold\">987100</span>\n",
       "</pre>\n"
      ],
      "text/plain": [
       "\u001b[1;36m987100\u001b[0m\n"
      ]
     },
     "metadata": {},
     "output_type": "display_data"
    },
    {
     "data": {
      "text/html": [
       "<pre style=\"white-space:pre;overflow-x:auto;line-height:normal;font-family:Menlo,'DejaVu Sans Mono',consolas,'Courier New',monospace\"><span style=\"color: #008080; text-decoration-color: #008080; font-weight: bold\">987101</span>\n",
       "</pre>\n"
      ],
      "text/plain": [
       "\u001b[1;36m987101\u001b[0m\n"
      ]
     },
     "metadata": {},
     "output_type": "display_data"
    },
    {
     "data": {
      "text/html": [
       "<pre style=\"white-space:pre;overflow-x:auto;line-height:normal;font-family:Menlo,'DejaVu Sans Mono',consolas,'Courier New',monospace\"><span style=\"color: #008080; text-decoration-color: #008080; font-weight: bold\">987102</span>\n",
       "</pre>\n"
      ],
      "text/plain": [
       "\u001b[1;36m987102\u001b[0m\n"
      ]
     },
     "metadata": {},
     "output_type": "display_data"
    },
    {
     "data": {
      "text/html": [
       "<pre style=\"white-space:pre;overflow-x:auto;line-height:normal;font-family:Menlo,'DejaVu Sans Mono',consolas,'Courier New',monospace\"><span style=\"color: #008080; text-decoration-color: #008080; font-weight: bold\">987103</span>\n",
       "</pre>\n"
      ],
      "text/plain": [
       "\u001b[1;36m987103\u001b[0m\n"
      ]
     },
     "metadata": {},
     "output_type": "display_data"
    },
    {
     "data": {
      "text/html": [
       "<pre style=\"white-space:pre;overflow-x:auto;line-height:normal;font-family:Menlo,'DejaVu Sans Mono',consolas,'Courier New',monospace\"><span style=\"color: #008080; text-decoration-color: #008080; font-weight: bold\">987104</span>\n",
       "</pre>\n"
      ],
      "text/plain": [
       "\u001b[1;36m987104\u001b[0m\n"
      ]
     },
     "metadata": {},
     "output_type": "display_data"
    },
    {
     "data": {
      "text/html": [
       "<pre style=\"white-space:pre;overflow-x:auto;line-height:normal;font-family:Menlo,'DejaVu Sans Mono',consolas,'Courier New',monospace\"><span style=\"color: #008080; text-decoration-color: #008080; font-weight: bold\">987105</span>\n",
       "</pre>\n"
      ],
      "text/plain": [
       "\u001b[1;36m987105\u001b[0m\n"
      ]
     },
     "metadata": {},
     "output_type": "display_data"
    },
    {
     "data": {
      "text/html": [
       "<pre style=\"white-space:pre;overflow-x:auto;line-height:normal;font-family:Menlo,'DejaVu Sans Mono',consolas,'Courier New',monospace\"><span style=\"color: #008080; text-decoration-color: #008080; font-weight: bold\">987106</span>\n",
       "</pre>\n"
      ],
      "text/plain": [
       "\u001b[1;36m987106\u001b[0m\n"
      ]
     },
     "metadata": {},
     "output_type": "display_data"
    },
    {
     "data": {
      "text/html": [
       "<pre style=\"white-space:pre;overflow-x:auto;line-height:normal;font-family:Menlo,'DejaVu Sans Mono',consolas,'Courier New',monospace\"><span style=\"color: #008080; text-decoration-color: #008080; font-weight: bold\">987107</span>\n",
       "</pre>\n"
      ],
      "text/plain": [
       "\u001b[1;36m987107\u001b[0m\n"
      ]
     },
     "metadata": {},
     "output_type": "display_data"
    },
    {
     "data": {
      "text/html": [
       "<pre style=\"white-space:pre;overflow-x:auto;line-height:normal;font-family:Menlo,'DejaVu Sans Mono',consolas,'Courier New',monospace\"><span style=\"color: #008080; text-decoration-color: #008080; font-weight: bold\">987108</span>\n",
       "</pre>\n"
      ],
      "text/plain": [
       "\u001b[1;36m987108\u001b[0m\n"
      ]
     },
     "metadata": {},
     "output_type": "display_data"
    },
    {
     "data": {
      "text/html": [
       "<pre style=\"white-space:pre;overflow-x:auto;line-height:normal;font-family:Menlo,'DejaVu Sans Mono',consolas,'Courier New',monospace\"><span style=\"color: #008080; text-decoration-color: #008080; font-weight: bold\">987109</span>\n",
       "</pre>\n"
      ],
      "text/plain": [
       "\u001b[1;36m987109\u001b[0m\n"
      ]
     },
     "metadata": {},
     "output_type": "display_data"
    },
    {
     "data": {
      "text/html": [
       "<pre style=\"white-space:pre;overflow-x:auto;line-height:normal;font-family:Menlo,'DejaVu Sans Mono',consolas,'Courier New',monospace\"><span style=\"color: #008080; text-decoration-color: #008080; font-weight: bold\">987110</span>\n",
       "</pre>\n"
      ],
      "text/plain": [
       "\u001b[1;36m987110\u001b[0m\n"
      ]
     },
     "metadata": {},
     "output_type": "display_data"
    },
    {
     "data": {
      "text/html": [
       "<pre style=\"white-space:pre;overflow-x:auto;line-height:normal;font-family:Menlo,'DejaVu Sans Mono',consolas,'Courier New',monospace\"><span style=\"color: #008080; text-decoration-color: #008080; font-weight: bold\">987111</span>\n",
       "</pre>\n"
      ],
      "text/plain": [
       "\u001b[1;36m987111\u001b[0m\n"
      ]
     },
     "metadata": {},
     "output_type": "display_data"
    },
    {
     "data": {
      "text/html": [
       "<pre style=\"white-space:pre;overflow-x:auto;line-height:normal;font-family:Menlo,'DejaVu Sans Mono',consolas,'Courier New',monospace\"><span style=\"color: #008080; text-decoration-color: #008080; font-weight: bold\">987112</span>\n",
       "</pre>\n"
      ],
      "text/plain": [
       "\u001b[1;36m987112\u001b[0m\n"
      ]
     },
     "metadata": {},
     "output_type": "display_data"
    },
    {
     "data": {
      "text/html": [
       "<pre style=\"white-space:pre;overflow-x:auto;line-height:normal;font-family:Menlo,'DejaVu Sans Mono',consolas,'Courier New',monospace\"><span style=\"color: #008080; text-decoration-color: #008080; font-weight: bold\">987113</span>\n",
       "</pre>\n"
      ],
      "text/plain": [
       "\u001b[1;36m987113\u001b[0m\n"
      ]
     },
     "metadata": {},
     "output_type": "display_data"
    },
    {
     "data": {
      "text/html": [
       "<pre style=\"white-space:pre;overflow-x:auto;line-height:normal;font-family:Menlo,'DejaVu Sans Mono',consolas,'Courier New',monospace\"><span style=\"color: #008080; text-decoration-color: #008080; font-weight: bold\">987114</span>\n",
       "</pre>\n"
      ],
      "text/plain": [
       "\u001b[1;36m987114\u001b[0m\n"
      ]
     },
     "metadata": {},
     "output_type": "display_data"
    },
    {
     "data": {
      "text/html": [
       "<pre style=\"white-space:pre;overflow-x:auto;line-height:normal;font-family:Menlo,'DejaVu Sans Mono',consolas,'Courier New',monospace\"><span style=\"color: #008080; text-decoration-color: #008080; font-weight: bold\">987115</span>\n",
       "</pre>\n"
      ],
      "text/plain": [
       "\u001b[1;36m987115\u001b[0m\n"
      ]
     },
     "metadata": {},
     "output_type": "display_data"
    },
    {
     "data": {
      "text/html": [
       "<pre style=\"white-space:pre;overflow-x:auto;line-height:normal;font-family:Menlo,'DejaVu Sans Mono',consolas,'Courier New',monospace\"><span style=\"color: #008080; text-decoration-color: #008080; font-weight: bold\">987116</span>\n",
       "</pre>\n"
      ],
      "text/plain": [
       "\u001b[1;36m987116\u001b[0m\n"
      ]
     },
     "metadata": {},
     "output_type": "display_data"
    },
    {
     "data": {
      "text/html": [
       "<pre style=\"white-space:pre;overflow-x:auto;line-height:normal;font-family:Menlo,'DejaVu Sans Mono',consolas,'Courier New',monospace\"><span style=\"color: #008080; text-decoration-color: #008080; font-weight: bold\">987117</span>\n",
       "</pre>\n"
      ],
      "text/plain": [
       "\u001b[1;36m987117\u001b[0m\n"
      ]
     },
     "metadata": {},
     "output_type": "display_data"
    },
    {
     "data": {
      "text/html": [
       "<pre style=\"white-space:pre;overflow-x:auto;line-height:normal;font-family:Menlo,'DejaVu Sans Mono',consolas,'Courier New',monospace\"><span style=\"color: #008080; text-decoration-color: #008080; font-weight: bold\">987118</span>\n",
       "</pre>\n"
      ],
      "text/plain": [
       "\u001b[1;36m987118\u001b[0m\n"
      ]
     },
     "metadata": {},
     "output_type": "display_data"
    },
    {
     "data": {
      "text/html": [
       "<pre style=\"white-space:pre;overflow-x:auto;line-height:normal;font-family:Menlo,'DejaVu Sans Mono',consolas,'Courier New',monospace\"><span style=\"color: #008080; text-decoration-color: #008080; font-weight: bold\">987119</span>\n",
       "</pre>\n"
      ],
      "text/plain": [
       "\u001b[1;36m987119\u001b[0m\n"
      ]
     },
     "metadata": {},
     "output_type": "display_data"
    },
    {
     "data": {
      "text/html": [
       "<pre style=\"white-space:pre;overflow-x:auto;line-height:normal;font-family:Menlo,'DejaVu Sans Mono',consolas,'Courier New',monospace\"><span style=\"color: #008080; text-decoration-color: #008080; font-weight: bold\">987120</span>\n",
       "</pre>\n"
      ],
      "text/plain": [
       "\u001b[1;36m987120\u001b[0m\n"
      ]
     },
     "metadata": {},
     "output_type": "display_data"
    },
    {
     "data": {
      "text/html": [
       "<pre style=\"white-space:pre;overflow-x:auto;line-height:normal;font-family:Menlo,'DejaVu Sans Mono',consolas,'Courier New',monospace\"><span style=\"color: #008080; text-decoration-color: #008080; font-weight: bold\">987121</span>\n",
       "</pre>\n"
      ],
      "text/plain": [
       "\u001b[1;36m987121\u001b[0m\n"
      ]
     },
     "metadata": {},
     "output_type": "display_data"
    },
    {
     "data": {
      "text/html": [
       "<pre style=\"white-space:pre;overflow-x:auto;line-height:normal;font-family:Menlo,'DejaVu Sans Mono',consolas,'Courier New',monospace\"><span style=\"color: #008080; text-decoration-color: #008080; font-weight: bold\">987122</span>\n",
       "</pre>\n"
      ],
      "text/plain": [
       "\u001b[1;36m987122\u001b[0m\n"
      ]
     },
     "metadata": {},
     "output_type": "display_data"
    },
    {
     "data": {
      "text/html": [
       "<pre style=\"white-space:pre;overflow-x:auto;line-height:normal;font-family:Menlo,'DejaVu Sans Mono',consolas,'Courier New',monospace\"><span style=\"color: #008080; text-decoration-color: #008080; font-weight: bold\">987123</span>\n",
       "</pre>\n"
      ],
      "text/plain": [
       "\u001b[1;36m987123\u001b[0m\n"
      ]
     },
     "metadata": {},
     "output_type": "display_data"
    },
    {
     "data": {
      "text/html": [
       "<pre style=\"white-space:pre;overflow-x:auto;line-height:normal;font-family:Menlo,'DejaVu Sans Mono',consolas,'Courier New',monospace\"><span style=\"color: #008080; text-decoration-color: #008080; font-weight: bold\">987124</span>\n",
       "</pre>\n"
      ],
      "text/plain": [
       "\u001b[1;36m987124\u001b[0m\n"
      ]
     },
     "metadata": {},
     "output_type": "display_data"
    },
    {
     "data": {
      "text/html": [
       "<pre style=\"white-space:pre;overflow-x:auto;line-height:normal;font-family:Menlo,'DejaVu Sans Mono',consolas,'Courier New',monospace\"><span style=\"color: #008080; text-decoration-color: #008080; font-weight: bold\">987125</span>\n",
       "</pre>\n"
      ],
      "text/plain": [
       "\u001b[1;36m987125\u001b[0m\n"
      ]
     },
     "metadata": {},
     "output_type": "display_data"
    },
    {
     "data": {
      "text/html": [
       "<pre style=\"white-space:pre;overflow-x:auto;line-height:normal;font-family:Menlo,'DejaVu Sans Mono',consolas,'Courier New',monospace\"><span style=\"color: #008080; text-decoration-color: #008080; font-weight: bold\">987126</span>\n",
       "</pre>\n"
      ],
      "text/plain": [
       "\u001b[1;36m987126\u001b[0m\n"
      ]
     },
     "metadata": {},
     "output_type": "display_data"
    },
    {
     "data": {
      "text/html": [
       "<pre style=\"white-space:pre;overflow-x:auto;line-height:normal;font-family:Menlo,'DejaVu Sans Mono',consolas,'Courier New',monospace\"><span style=\"color: #008080; text-decoration-color: #008080; font-weight: bold\">987127</span>\n",
       "</pre>\n"
      ],
      "text/plain": [
       "\u001b[1;36m987127\u001b[0m\n"
      ]
     },
     "metadata": {},
     "output_type": "display_data"
    },
    {
     "data": {
      "text/html": [
       "<pre style=\"white-space:pre;overflow-x:auto;line-height:normal;font-family:Menlo,'DejaVu Sans Mono',consolas,'Courier New',monospace\"><span style=\"color: #008080; text-decoration-color: #008080; font-weight: bold\">987128</span>\n",
       "</pre>\n"
      ],
      "text/plain": [
       "\u001b[1;36m987128\u001b[0m\n"
      ]
     },
     "metadata": {},
     "output_type": "display_data"
    },
    {
     "data": {
      "text/html": [
       "<pre style=\"white-space:pre;overflow-x:auto;line-height:normal;font-family:Menlo,'DejaVu Sans Mono',consolas,'Courier New',monospace\"><span style=\"color: #008080; text-decoration-color: #008080; font-weight: bold\">987129</span>\n",
       "</pre>\n"
      ],
      "text/plain": [
       "\u001b[1;36m987129\u001b[0m\n"
      ]
     },
     "metadata": {},
     "output_type": "display_data"
    },
    {
     "data": {
      "text/html": [
       "<pre style=\"white-space:pre;overflow-x:auto;line-height:normal;font-family:Menlo,'DejaVu Sans Mono',consolas,'Courier New',monospace\"><span style=\"color: #008080; text-decoration-color: #008080; font-weight: bold\">987130</span>\n",
       "</pre>\n"
      ],
      "text/plain": [
       "\u001b[1;36m987130\u001b[0m\n"
      ]
     },
     "metadata": {},
     "output_type": "display_data"
    },
    {
     "data": {
      "text/html": [
       "<pre style=\"white-space:pre;overflow-x:auto;line-height:normal;font-family:Menlo,'DejaVu Sans Mono',consolas,'Courier New',monospace\"><span style=\"color: #008080; text-decoration-color: #008080; font-weight: bold\">987131</span>\n",
       "</pre>\n"
      ],
      "text/plain": [
       "\u001b[1;36m987131\u001b[0m\n"
      ]
     },
     "metadata": {},
     "output_type": "display_data"
    },
    {
     "data": {
      "text/html": [
       "<pre style=\"white-space:pre;overflow-x:auto;line-height:normal;font-family:Menlo,'DejaVu Sans Mono',consolas,'Courier New',monospace\"><span style=\"color: #008080; text-decoration-color: #008080; font-weight: bold\">987132</span>\n",
       "</pre>\n"
      ],
      "text/plain": [
       "\u001b[1;36m987132\u001b[0m\n"
      ]
     },
     "metadata": {},
     "output_type": "display_data"
    },
    {
     "data": {
      "text/html": [
       "<pre style=\"white-space:pre;overflow-x:auto;line-height:normal;font-family:Menlo,'DejaVu Sans Mono',consolas,'Courier New',monospace\"><span style=\"color: #008080; text-decoration-color: #008080; font-weight: bold\">987133</span>\n",
       "</pre>\n"
      ],
      "text/plain": [
       "\u001b[1;36m987133\u001b[0m\n"
      ]
     },
     "metadata": {},
     "output_type": "display_data"
    },
    {
     "data": {
      "text/html": [
       "<pre style=\"white-space:pre;overflow-x:auto;line-height:normal;font-family:Menlo,'DejaVu Sans Mono',consolas,'Courier New',monospace\"><span style=\"color: #008080; text-decoration-color: #008080; font-weight: bold\">987134</span>\n",
       "</pre>\n"
      ],
      "text/plain": [
       "\u001b[1;36m987134\u001b[0m\n"
      ]
     },
     "metadata": {},
     "output_type": "display_data"
    },
    {
     "data": {
      "text/html": [
       "<pre style=\"white-space:pre;overflow-x:auto;line-height:normal;font-family:Menlo,'DejaVu Sans Mono',consolas,'Courier New',monospace\"><span style=\"color: #008080; text-decoration-color: #008080; font-weight: bold\">987135</span>\n",
       "</pre>\n"
      ],
      "text/plain": [
       "\u001b[1;36m987135\u001b[0m\n"
      ]
     },
     "metadata": {},
     "output_type": "display_data"
    },
    {
     "data": {
      "text/html": [
       "<pre style=\"white-space:pre;overflow-x:auto;line-height:normal;font-family:Menlo,'DejaVu Sans Mono',consolas,'Courier New',monospace\"><span style=\"color: #008080; text-decoration-color: #008080; font-weight: bold\">987136</span>\n",
       "</pre>\n"
      ],
      "text/plain": [
       "\u001b[1;36m987136\u001b[0m\n"
      ]
     },
     "metadata": {},
     "output_type": "display_data"
    },
    {
     "data": {
      "text/html": [
       "<pre style=\"white-space:pre;overflow-x:auto;line-height:normal;font-family:Menlo,'DejaVu Sans Mono',consolas,'Courier New',monospace\"><span style=\"color: #008080; text-decoration-color: #008080; font-weight: bold\">987137</span>\n",
       "</pre>\n"
      ],
      "text/plain": [
       "\u001b[1;36m987137\u001b[0m\n"
      ]
     },
     "metadata": {},
     "output_type": "display_data"
    },
    {
     "data": {
      "text/html": [
       "<pre style=\"white-space:pre;overflow-x:auto;line-height:normal;font-family:Menlo,'DejaVu Sans Mono',consolas,'Courier New',monospace\"><span style=\"color: #008080; text-decoration-color: #008080; font-weight: bold\">987138</span>\n",
       "</pre>\n"
      ],
      "text/plain": [
       "\u001b[1;36m987138\u001b[0m\n"
      ]
     },
     "metadata": {},
     "output_type": "display_data"
    },
    {
     "data": {
      "text/html": [
       "<pre style=\"white-space:pre;overflow-x:auto;line-height:normal;font-family:Menlo,'DejaVu Sans Mono',consolas,'Courier New',monospace\"><span style=\"color: #008080; text-decoration-color: #008080; font-weight: bold\">987139</span>\n",
       "</pre>\n"
      ],
      "text/plain": [
       "\u001b[1;36m987139\u001b[0m\n"
      ]
     },
     "metadata": {},
     "output_type": "display_data"
    },
    {
     "data": {
      "text/html": [
       "<pre style=\"white-space:pre;overflow-x:auto;line-height:normal;font-family:Menlo,'DejaVu Sans Mono',consolas,'Courier New',monospace\"><span style=\"color: #008080; text-decoration-color: #008080; font-weight: bold\">987140</span>\n",
       "</pre>\n"
      ],
      "text/plain": [
       "\u001b[1;36m987140\u001b[0m\n"
      ]
     },
     "metadata": {},
     "output_type": "display_data"
    },
    {
     "data": {
      "text/html": [
       "<pre style=\"white-space:pre;overflow-x:auto;line-height:normal;font-family:Menlo,'DejaVu Sans Mono',consolas,'Courier New',monospace\"><span style=\"color: #008080; text-decoration-color: #008080; font-weight: bold\">987141</span>\n",
       "</pre>\n"
      ],
      "text/plain": [
       "\u001b[1;36m987141\u001b[0m\n"
      ]
     },
     "metadata": {},
     "output_type": "display_data"
    },
    {
     "data": {
      "text/html": [
       "<pre style=\"white-space:pre;overflow-x:auto;line-height:normal;font-family:Menlo,'DejaVu Sans Mono',consolas,'Courier New',monospace\"><span style=\"color: #008080; text-decoration-color: #008080; font-weight: bold\">987142</span>\n",
       "</pre>\n"
      ],
      "text/plain": [
       "\u001b[1;36m987142\u001b[0m\n"
      ]
     },
     "metadata": {},
     "output_type": "display_data"
    },
    {
     "data": {
      "text/html": [
       "<pre style=\"white-space:pre;overflow-x:auto;line-height:normal;font-family:Menlo,'DejaVu Sans Mono',consolas,'Courier New',monospace\"><span style=\"color: #008080; text-decoration-color: #008080; font-weight: bold\">987143</span>\n",
       "</pre>\n"
      ],
      "text/plain": [
       "\u001b[1;36m987143\u001b[0m\n"
      ]
     },
     "metadata": {},
     "output_type": "display_data"
    },
    {
     "data": {
      "text/html": [
       "<pre style=\"white-space:pre;overflow-x:auto;line-height:normal;font-family:Menlo,'DejaVu Sans Mono',consolas,'Courier New',monospace\"><span style=\"color: #008080; text-decoration-color: #008080; font-weight: bold\">987144</span>\n",
       "</pre>\n"
      ],
      "text/plain": [
       "\u001b[1;36m987144\u001b[0m\n"
      ]
     },
     "metadata": {},
     "output_type": "display_data"
    },
    {
     "data": {
      "text/html": [
       "<pre style=\"white-space:pre;overflow-x:auto;line-height:normal;font-family:Menlo,'DejaVu Sans Mono',consolas,'Courier New',monospace\"><span style=\"color: #008080; text-decoration-color: #008080; font-weight: bold\">987145</span>\n",
       "</pre>\n"
      ],
      "text/plain": [
       "\u001b[1;36m987145\u001b[0m\n"
      ]
     },
     "metadata": {},
     "output_type": "display_data"
    },
    {
     "data": {
      "text/html": [
       "<pre style=\"white-space:pre;overflow-x:auto;line-height:normal;font-family:Menlo,'DejaVu Sans Mono',consolas,'Courier New',monospace\"><span style=\"color: #008080; text-decoration-color: #008080; font-weight: bold\">987146</span>\n",
       "</pre>\n"
      ],
      "text/plain": [
       "\u001b[1;36m987146\u001b[0m\n"
      ]
     },
     "metadata": {},
     "output_type": "display_data"
    },
    {
     "data": {
      "text/html": [
       "<pre style=\"white-space:pre;overflow-x:auto;line-height:normal;font-family:Menlo,'DejaVu Sans Mono',consolas,'Courier New',monospace\"><span style=\"color: #008080; text-decoration-color: #008080; font-weight: bold\">987147</span>\n",
       "</pre>\n"
      ],
      "text/plain": [
       "\u001b[1;36m987147\u001b[0m\n"
      ]
     },
     "metadata": {},
     "output_type": "display_data"
    },
    {
     "data": {
      "text/html": [
       "<pre style=\"white-space:pre;overflow-x:auto;line-height:normal;font-family:Menlo,'DejaVu Sans Mono',consolas,'Courier New',monospace\"><span style=\"color: #008080; text-decoration-color: #008080; font-weight: bold\">987148</span>\n",
       "</pre>\n"
      ],
      "text/plain": [
       "\u001b[1;36m987148\u001b[0m\n"
      ]
     },
     "metadata": {},
     "output_type": "display_data"
    },
    {
     "data": {
      "text/html": [
       "<pre style=\"white-space:pre;overflow-x:auto;line-height:normal;font-family:Menlo,'DejaVu Sans Mono',consolas,'Courier New',monospace\"><span style=\"color: #008080; text-decoration-color: #008080; font-weight: bold\">987149</span>\n",
       "</pre>\n"
      ],
      "text/plain": [
       "\u001b[1;36m987149\u001b[0m\n"
      ]
     },
     "metadata": {},
     "output_type": "display_data"
    },
    {
     "data": {
      "text/html": [
       "<pre style=\"white-space:pre;overflow-x:auto;line-height:normal;font-family:Menlo,'DejaVu Sans Mono',consolas,'Courier New',monospace\"><span style=\"color: #008080; text-decoration-color: #008080; font-weight: bold\">987150</span>\n",
       "</pre>\n"
      ],
      "text/plain": [
       "\u001b[1;36m987150\u001b[0m\n"
      ]
     },
     "metadata": {},
     "output_type": "display_data"
    },
    {
     "data": {
      "text/html": [
       "<pre style=\"white-space:pre;overflow-x:auto;line-height:normal;font-family:Menlo,'DejaVu Sans Mono',consolas,'Courier New',monospace\"><span style=\"color: #008080; text-decoration-color: #008080; font-weight: bold\">987151</span>\n",
       "</pre>\n"
      ],
      "text/plain": [
       "\u001b[1;36m987151\u001b[0m\n"
      ]
     },
     "metadata": {},
     "output_type": "display_data"
    },
    {
     "data": {
      "text/html": [
       "<pre style=\"white-space:pre;overflow-x:auto;line-height:normal;font-family:Menlo,'DejaVu Sans Mono',consolas,'Courier New',monospace\"><span style=\"color: #008080; text-decoration-color: #008080; font-weight: bold\">987152</span>\n",
       "</pre>\n"
      ],
      "text/plain": [
       "\u001b[1;36m987152\u001b[0m\n"
      ]
     },
     "metadata": {},
     "output_type": "display_data"
    },
    {
     "data": {
      "text/html": [
       "<pre style=\"white-space:pre;overflow-x:auto;line-height:normal;font-family:Menlo,'DejaVu Sans Mono',consolas,'Courier New',monospace\"><span style=\"color: #008080; text-decoration-color: #008080; font-weight: bold\">987153</span>\n",
       "</pre>\n"
      ],
      "text/plain": [
       "\u001b[1;36m987153\u001b[0m\n"
      ]
     },
     "metadata": {},
     "output_type": "display_data"
    },
    {
     "data": {
      "text/html": [
       "<pre style=\"white-space:pre;overflow-x:auto;line-height:normal;font-family:Menlo,'DejaVu Sans Mono',consolas,'Courier New',monospace\"><span style=\"color: #008080; text-decoration-color: #008080; font-weight: bold\">987154</span>\n",
       "</pre>\n"
      ],
      "text/plain": [
       "\u001b[1;36m987154\u001b[0m\n"
      ]
     },
     "metadata": {},
     "output_type": "display_data"
    },
    {
     "data": {
      "text/html": [
       "<pre style=\"white-space:pre;overflow-x:auto;line-height:normal;font-family:Menlo,'DejaVu Sans Mono',consolas,'Courier New',monospace\"><span style=\"color: #008080; text-decoration-color: #008080; font-weight: bold\">987155</span>\n",
       "</pre>\n"
      ],
      "text/plain": [
       "\u001b[1;36m987155\u001b[0m\n"
      ]
     },
     "metadata": {},
     "output_type": "display_data"
    },
    {
     "data": {
      "text/html": [
       "<pre style=\"white-space:pre;overflow-x:auto;line-height:normal;font-family:Menlo,'DejaVu Sans Mono',consolas,'Courier New',monospace\"><span style=\"color: #008080; text-decoration-color: #008080; font-weight: bold\">987156</span>\n",
       "</pre>\n"
      ],
      "text/plain": [
       "\u001b[1;36m987156\u001b[0m\n"
      ]
     },
     "metadata": {},
     "output_type": "display_data"
    },
    {
     "data": {
      "text/html": [
       "<pre style=\"white-space:pre;overflow-x:auto;line-height:normal;font-family:Menlo,'DejaVu Sans Mono',consolas,'Courier New',monospace\"><span style=\"color: #008080; text-decoration-color: #008080; font-weight: bold\">987157</span>\n",
       "</pre>\n"
      ],
      "text/plain": [
       "\u001b[1;36m987157\u001b[0m\n"
      ]
     },
     "metadata": {},
     "output_type": "display_data"
    },
    {
     "data": {
      "text/html": [
       "<pre style=\"white-space:pre;overflow-x:auto;line-height:normal;font-family:Menlo,'DejaVu Sans Mono',consolas,'Courier New',monospace\"><span style=\"color: #008080; text-decoration-color: #008080; font-weight: bold\">987158</span>\n",
       "</pre>\n"
      ],
      "text/plain": [
       "\u001b[1;36m987158\u001b[0m\n"
      ]
     },
     "metadata": {},
     "output_type": "display_data"
    },
    {
     "data": {
      "text/html": [
       "<pre style=\"white-space:pre;overflow-x:auto;line-height:normal;font-family:Menlo,'DejaVu Sans Mono',consolas,'Courier New',monospace\"><span style=\"color: #008080; text-decoration-color: #008080; font-weight: bold\">987159</span>\n",
       "</pre>\n"
      ],
      "text/plain": [
       "\u001b[1;36m987159\u001b[0m\n"
      ]
     },
     "metadata": {},
     "output_type": "display_data"
    },
    {
     "data": {
      "text/html": [
       "<pre style=\"white-space:pre;overflow-x:auto;line-height:normal;font-family:Menlo,'DejaVu Sans Mono',consolas,'Courier New',monospace\"><span style=\"color: #008080; text-decoration-color: #008080; font-weight: bold\">987160</span>\n",
       "</pre>\n"
      ],
      "text/plain": [
       "\u001b[1;36m987160\u001b[0m\n"
      ]
     },
     "metadata": {},
     "output_type": "display_data"
    },
    {
     "data": {
      "text/html": [
       "<pre style=\"white-space:pre;overflow-x:auto;line-height:normal;font-family:Menlo,'DejaVu Sans Mono',consolas,'Courier New',monospace\"><span style=\"color: #008080; text-decoration-color: #008080; font-weight: bold\">987161</span>\n",
       "</pre>\n"
      ],
      "text/plain": [
       "\u001b[1;36m987161\u001b[0m\n"
      ]
     },
     "metadata": {},
     "output_type": "display_data"
    },
    {
     "data": {
      "text/html": [
       "<pre style=\"white-space:pre;overflow-x:auto;line-height:normal;font-family:Menlo,'DejaVu Sans Mono',consolas,'Courier New',monospace\"><span style=\"color: #008080; text-decoration-color: #008080; font-weight: bold\">987162</span>\n",
       "</pre>\n"
      ],
      "text/plain": [
       "\u001b[1;36m987162\u001b[0m\n"
      ]
     },
     "metadata": {},
     "output_type": "display_data"
    },
    {
     "data": {
      "text/html": [
       "<pre style=\"white-space:pre;overflow-x:auto;line-height:normal;font-family:Menlo,'DejaVu Sans Mono',consolas,'Courier New',monospace\"><span style=\"color: #008080; text-decoration-color: #008080; font-weight: bold\">987092</span>\n",
       "</pre>\n"
      ],
      "text/plain": [
       "\u001b[1;36m987092\u001b[0m\n"
      ]
     },
     "metadata": {},
     "output_type": "display_data"
    },
    {
     "data": {
      "text/html": [
       "<pre style=\"white-space:pre;overflow-x:auto;line-height:normal;font-family:Menlo,'DejaVu Sans Mono',consolas,'Courier New',monospace\"><span style=\"color: #008080; text-decoration-color: #008080; font-weight: bold\">987164</span>\n",
       "</pre>\n"
      ],
      "text/plain": [
       "\u001b[1;36m987164\u001b[0m\n"
      ]
     },
     "metadata": {},
     "output_type": "display_data"
    },
    {
     "data": {
      "text/html": [
       "<pre style=\"white-space:pre;overflow-x:auto;line-height:normal;font-family:Menlo,'DejaVu Sans Mono',consolas,'Courier New',monospace\"><span style=\"color: #008080; text-decoration-color: #008080; font-weight: bold\">987094</span>\n",
       "</pre>\n"
      ],
      "text/plain": [
       "\u001b[1;36m987094\u001b[0m\n"
      ]
     },
     "metadata": {},
     "output_type": "display_data"
    },
    {
     "data": {
      "text/html": [
       "<pre style=\"white-space:pre;overflow-x:auto;line-height:normal;font-family:Menlo,'DejaVu Sans Mono',consolas,'Courier New',monospace\"><span style=\"color: #008080; text-decoration-color: #008080; font-weight: bold\">987166</span>\n",
       "</pre>\n"
      ],
      "text/plain": [
       "\u001b[1;36m987166\u001b[0m\n"
      ]
     },
     "metadata": {},
     "output_type": "display_data"
    },
    {
     "data": {
      "text/html": [
       "<pre style=\"white-space:pre;overflow-x:auto;line-height:normal;font-family:Menlo,'DejaVu Sans Mono',consolas,'Courier New',monospace\"><span style=\"color: #008080; text-decoration-color: #008080; font-weight: bold\">987095</span>\n",
       "</pre>\n"
      ],
      "text/plain": [
       "\u001b[1;36m987095\u001b[0m\n"
      ]
     },
     "metadata": {},
     "output_type": "display_data"
    },
    {
     "data": {
      "text/html": [
       "<pre style=\"white-space:pre;overflow-x:auto;line-height:normal;font-family:Menlo,'DejaVu Sans Mono',consolas,'Courier New',monospace\"><span style=\"color: #008080; text-decoration-color: #008080; font-weight: bold\">987096</span>\n",
       "</pre>\n"
      ],
      "text/plain": [
       "\u001b[1;36m987096\u001b[0m\n"
      ]
     },
     "metadata": {},
     "output_type": "display_data"
    },
    {
     "data": {
      "text/html": [
       "<pre style=\"white-space:pre;overflow-x:auto;line-height:normal;font-family:Menlo,'DejaVu Sans Mono',consolas,'Courier New',monospace\"><span style=\"color: #008080; text-decoration-color: #008080; font-weight: bold\">987169</span>\n",
       "</pre>\n"
      ],
      "text/plain": [
       "\u001b[1;36m987169\u001b[0m\n"
      ]
     },
     "metadata": {},
     "output_type": "display_data"
    },
    {
     "data": {
      "text/html": [
       "<pre style=\"white-space:pre;overflow-x:auto;line-height:normal;font-family:Menlo,'DejaVu Sans Mono',consolas,'Courier New',monospace\"><span style=\"color: #008080; text-decoration-color: #008080; font-weight: bold\">987170</span>\n",
       "</pre>\n"
      ],
      "text/plain": [
       "\u001b[1;36m987170\u001b[0m\n"
      ]
     },
     "metadata": {},
     "output_type": "display_data"
    },
    {
     "data": {
      "text/html": [
       "<pre style=\"white-space:pre;overflow-x:auto;line-height:normal;font-family:Menlo,'DejaVu Sans Mono',consolas,'Courier New',monospace\"><span style=\"color: #008080; text-decoration-color: #008080; font-weight: bold\">987171</span>\n",
       "</pre>\n"
      ],
      "text/plain": [
       "\u001b[1;36m987171\u001b[0m\n"
      ]
     },
     "metadata": {},
     "output_type": "display_data"
    },
    {
     "data": {
      "text/html": [
       "<pre style=\"white-space:pre;overflow-x:auto;line-height:normal;font-family:Menlo,'DejaVu Sans Mono',consolas,'Courier New',monospace\"><span style=\"color: #008080; text-decoration-color: #008080; font-weight: bold\">987172</span>\n",
       "</pre>\n"
      ],
      "text/plain": [
       "\u001b[1;36m987172\u001b[0m\n"
      ]
     },
     "metadata": {},
     "output_type": "display_data"
    },
    {
     "data": {
      "text/html": [
       "<pre style=\"white-space:pre;overflow-x:auto;line-height:normal;font-family:Menlo,'DejaVu Sans Mono',consolas,'Courier New',monospace\"><span style=\"color: #008080; text-decoration-color: #008080; font-weight: bold\">987173</span>\n",
       "</pre>\n"
      ],
      "text/plain": [
       "\u001b[1;36m987173\u001b[0m\n"
      ]
     },
     "metadata": {},
     "output_type": "display_data"
    },
    {
     "data": {
      "text/html": [
       "<pre style=\"white-space:pre;overflow-x:auto;line-height:normal;font-family:Menlo,'DejaVu Sans Mono',consolas,'Courier New',monospace\"><span style=\"color: #008080; text-decoration-color: #008080; font-weight: bold\">987174</span>\n",
       "</pre>\n"
      ],
      "text/plain": [
       "\u001b[1;36m987174\u001b[0m\n"
      ]
     },
     "metadata": {},
     "output_type": "display_data"
    },
    {
     "data": {
      "text/html": [
       "<pre style=\"white-space:pre;overflow-x:auto;line-height:normal;font-family:Menlo,'DejaVu Sans Mono',consolas,'Courier New',monospace\"><span style=\"color: #008080; text-decoration-color: #008080; font-weight: bold\">987175</span>\n",
       "</pre>\n"
      ],
      "text/plain": [
       "\u001b[1;36m987175\u001b[0m\n"
      ]
     },
     "metadata": {},
     "output_type": "display_data"
    },
    {
     "data": {
      "text/html": [
       "<pre style=\"white-space:pre;overflow-x:auto;line-height:normal;font-family:Menlo,'DejaVu Sans Mono',consolas,'Courier New',monospace\"><span style=\"color: #008080; text-decoration-color: #008080; font-weight: bold\">987176</span>\n",
       "</pre>\n"
      ],
      "text/plain": [
       "\u001b[1;36m987176\u001b[0m\n"
      ]
     },
     "metadata": {},
     "output_type": "display_data"
    },
    {
     "data": {
      "text/html": [
       "<pre style=\"white-space:pre;overflow-x:auto;line-height:normal;font-family:Menlo,'DejaVu Sans Mono',consolas,'Courier New',monospace\"><span style=\"color: #008080; text-decoration-color: #008080; font-weight: bold\">987177</span>\n",
       "</pre>\n"
      ],
      "text/plain": [
       "\u001b[1;36m987177\u001b[0m\n"
      ]
     },
     "metadata": {},
     "output_type": "display_data"
    }
   ],
   "source": [
    "for batchid,imgName in name_index.items():\n",
    "    # print(batchid)\n",
    "    final_classify = df[df.batch_id==int(batchid)]['Final Doctype'].values[0]\n",
    "    name_substr = imgName.split(\"_\")[-1]\n",
    "    dev_row = dev[dev.imagename.str.contains(name_substr)]\n",
    "    dev_classify = dev_row['doctype'].values[0]\n",
    "    imname = dev_row['imagename'].values[0]\n",
    "    bNew = dev_row['docid'].values[0]\n",
    "    film_id = dev_row['film_id'].values[0]\n",
    "    print(film_id)\n",
    "    c = dev_row['county'].values[0]\n",
    "    cls = dev_row['class'].values[0]\n",
    "    y_true.append(final_classify)\n",
    "    y_pred.append(dev_classify)\n",
    "    batchids.append(batchid)\n",
    "    new_batchid.append(bNew)\n",
    "    imgName_list.append(imname)\n",
    "    fID.append(film_id)\n",
    "    county.append(c)\n",
    "    class_.append(cls)"
   ]
  },
  {
   "cell_type": "code",
   "execution_count": 55,
   "id": "7bbe5aaf-35a0-4998-8d3d-4668e2a39974",
   "metadata": {},
   "outputs": [],
   "source": [
    "temp = pd.DataFrame({'batchid':batchids,'new batchid':new_batchid,'imgName':imgName_list,'class':class_,'film ID':fID,'county':county,'final classify':y_true,'dev classify':y_pred})"
   ]
  },
  {
   "cell_type": "code",
   "execution_count": 56,
   "id": "ae25a0bf-334e-4bb1-a90a-db5e4081859a",
   "metadata": {},
   "outputs": [],
   "source": [
    "temp['match'] = temp['final classify'] == temp['dev classify']"
   ]
  },
  {
   "cell_type": "code",
   "execution_count": 60,
   "id": "95d1d56e-f8c0-4e1e-b226-8f3eea3b4276",
   "metadata": {},
   "outputs": [],
   "source": [
    "temp['match_'] = temp.match.astype(int)"
   ]
  },
  {
   "cell_type": "code",
   "execution_count": 61,
   "id": "80a7376a-b966-4fbf-9cd5-d4d769ccd830",
   "metadata": {},
   "outputs": [
    {
     "data": {
      "text/html": [
       "<div>\n",
       "<style scoped>\n",
       "    .dataframe tbody tr th:only-of-type {\n",
       "        vertical-align: middle;\n",
       "    }\n",
       "\n",
       "    .dataframe tbody tr th {\n",
       "        vertical-align: top;\n",
       "    }\n",
       "\n",
       "    .dataframe thead th {\n",
       "        text-align: right;\n",
       "    }\n",
       "</style>\n",
       "<table border=\"1\" class=\"dataframe\">\n",
       "  <thead>\n",
       "    <tr style=\"text-align: right;\">\n",
       "      <th></th>\n",
       "      <th>batchid</th>\n",
       "      <th>new batchid</th>\n",
       "      <th>imgName</th>\n",
       "      <th>class</th>\n",
       "      <th>film ID</th>\n",
       "      <th>county</th>\n",
       "      <th>final classify</th>\n",
       "      <th>dev classify</th>\n",
       "      <th>match</th>\n",
       "      <th>match_</th>\n",
       "    </tr>\n",
       "  </thead>\n",
       "  <tbody>\n",
       "    <tr>\n",
       "      <th>0</th>\n",
       "      <td>2717942</td>\n",
       "      <td>2772112</td>\n",
       "      <td>NJ ATLANTIC 2024-06-08-0987000 8583_34001d81c...</td>\n",
       "      <td>B1</td>\n",
       "      <td>987000</td>\n",
       "      <td>NJ ATLANTIC</td>\n",
       "      <td>Mortgage</td>\n",
       "      <td>Mortgage</td>\n",
       "      <td>True</td>\n",
       "      <td>1</td>\n",
       "    </tr>\n",
       "    <tr>\n",
       "      <th>1</th>\n",
       "      <td>2717973</td>\n",
       "      <td>2772113</td>\n",
       "      <td>NJ ATLANTIC 2024-06-08-0987001 8622_3400131ff...</td>\n",
       "      <td>B1</td>\n",
       "      <td>987001</td>\n",
       "      <td>NJ ATLANTIC</td>\n",
       "      <td>Release of Mortgage</td>\n",
       "      <td>Satisfaction of Mortgage</td>\n",
       "      <td>False</td>\n",
       "      <td>0</td>\n",
       "    </tr>\n",
       "    <tr>\n",
       "      <th>2</th>\n",
       "      <td>2717988</td>\n",
       "      <td>2772114</td>\n",
       "      <td>NJ ATLANTIC 2024-06-08-0987002 8637_34001035c...</td>\n",
       "      <td>B1</td>\n",
       "      <td>987002</td>\n",
       "      <td>NJ ATLANTIC</td>\n",
       "      <td>Satisfaction of Mortgage</td>\n",
       "      <td>Release of Mortgage</td>\n",
       "      <td>False</td>\n",
       "      <td>0</td>\n",
       "    </tr>\n",
       "    <tr>\n",
       "      <th>3</th>\n",
       "      <td>2717998</td>\n",
       "      <td>2772115</td>\n",
       "      <td>NJ ATLANTIC 2024-06-08-0987003 8648_34001ab0b...</td>\n",
       "      <td>B1</td>\n",
       "      <td>987003</td>\n",
       "      <td>NJ ATLANTIC</td>\n",
       "      <td>Discharge of Mortgage</td>\n",
       "      <td>Discharge of Mortgage</td>\n",
       "      <td>True</td>\n",
       "      <td>1</td>\n",
       "    </tr>\n",
       "    <tr>\n",
       "      <th>4</th>\n",
       "      <td>2718002</td>\n",
       "      <td>2772116</td>\n",
       "      <td>NJ ATLANTIC 2024-06-08-0987004 8655_34001079e...</td>\n",
       "      <td>B1</td>\n",
       "      <td>987004</td>\n",
       "      <td>NJ ATLANTIC</td>\n",
       "      <td>Homeowners Lien Statement (HOA)</td>\n",
       "      <td>Deed</td>\n",
       "      <td>False</td>\n",
       "      <td>0</td>\n",
       "    </tr>\n",
       "  </tbody>\n",
       "</table>\n",
       "</div>"
      ],
      "text/plain": [
       "   batchid  new batchid                                            imgName  \\\n",
       "0  2717942      2772112   NJ ATLANTIC 2024-06-08-0987000 8583_34001d81c...   \n",
       "1  2717973      2772113   NJ ATLANTIC 2024-06-08-0987001 8622_3400131ff...   \n",
       "2  2717988      2772114   NJ ATLANTIC 2024-06-08-0987002 8637_34001035c...   \n",
       "3  2717998      2772115   NJ ATLANTIC 2024-06-08-0987003 8648_34001ab0b...   \n",
       "4  2718002      2772116   NJ ATLANTIC 2024-06-08-0987004 8655_34001079e...   \n",
       "\n",
       "  class  film ID       county                   final classify  \\\n",
       "0    B1   987000  NJ ATLANTIC                         Mortgage   \n",
       "1    B1   987001  NJ ATLANTIC              Release of Mortgage   \n",
       "2    B1   987002  NJ ATLANTIC         Satisfaction of Mortgage   \n",
       "3    B1   987003  NJ ATLANTIC            Discharge of Mortgage   \n",
       "4    B1   987004  NJ ATLANTIC  Homeowners Lien Statement (HOA)   \n",
       "\n",
       "               dev classify  match  match_  \n",
       "0                  Mortgage   True       1  \n",
       "1  Satisfaction of Mortgage  False       0  \n",
       "2       Release of Mortgage  False       0  \n",
       "3     Discharge of Mortgage   True       1  \n",
       "4                      Deed  False       0  "
      ]
     },
     "execution_count": 61,
     "metadata": {},
     "output_type": "execute_result"
    }
   ],
   "source": [
    "temp.head()"
   ]
  },
  {
   "cell_type": "code",
   "execution_count": 62,
   "id": "f0690205-b7f3-4ce1-abff-d6bd26376ddf",
   "metadata": {},
   "outputs": [],
   "source": [
    "temp.to_excel('nj pre post.xlsx')"
   ]
  },
  {
   "cell_type": "code",
   "execution_count": 63,
   "id": "321d4e50-30b2-4b7d-a074-6e38ab7630a1",
   "metadata": {},
   "outputs": [],
   "source": [
    "from sklearn.metrics import confusion_matrix, ConfusionMatrixDisplay"
   ]
  },
  {
   "cell_type": "code",
   "execution_count": 66,
   "id": "c82b0d9e-1f62-417b-b2e3-a19e13dd292f",
   "metadata": {},
   "outputs": [
    {
     "data": {
      "text/plain": [
       "<sklearn.metrics._plot.confusion_matrix.ConfusionMatrixDisplay at 0x1bc809f6910>"
      ]
     },
     "execution_count": 66,
     "metadata": {},
     "output_type": "execute_result"
    },
    {
     "data": {
      "image/png": "[encoded data removed]",
      "text/plain": [
       "<Figure size 640x480 with 2 Axes>"
      ]
     },
     "metadata": {},
     "output_type": "display_data"
    }
   ],
   "source": [
    "cm= confusion_matrix(y_true,y_pred)\n",
    "disp = ConfusionMatrixDisplay(confusion_matrix=cm,)\n",
    "disp.plot()"
   ]
  },
  {
   "cell_type": "code",
   "execution_count": 16,
   "id": "2ca2fc00-dc5c-437e-bcbc-9d9c13b45e48",
   "metadata": {},
   "outputs": [
    {
     "data": {
      "text/html": [
       "<pre style=\"white-space:pre;overflow-x:auto;line-height:normal;font-family:Menlo,'DejaVu Sans Mono',consolas,'Courier New',monospace\">i = <span style=\"color: #008080; text-decoration-color: #008080; font-weight: bold\">0</span> | fname = <span style=\"color: #008000; text-decoration-color: #008000\">'2717942'</span> | county = <span style=\"color: #008000; text-decoration-color: #008000\">'NJ ATLANTIC'</span> | batch_name = <span style=\"color: #008000; text-decoration-color: #008000\">'NJ ATLANTIC 2024-06-08-0987000'</span>\n",
       "</pre>\n"
      ],
      "text/plain": [
       "i = \u001b[1;36m0\u001b[0m | fname = \u001b[32m'2717942'\u001b[0m | county = \u001b[32m'NJ ATLANTIC'\u001b[0m | batch_name = \u001b[32m'NJ ATLANTIC 2024-06-08-0987000'\u001b[0m\n"
      ]
     },
     "metadata": {},
     "output_type": "display_data"
    },
    {
     "data": {
      "text/html": [
       "<pre style=\"white-space:pre;overflow-x:auto;line-height:normal;font-family:Menlo,'DejaVu Sans Mono',consolas,'Courier New',monospace\">i = <span style=\"color: #008080; text-decoration-color: #008080; font-weight: bold\">1</span> | fname = <span style=\"color: #008000; text-decoration-color: #008000\">'2717973'</span> | county = <span style=\"color: #008000; text-decoration-color: #008000\">'NJ ATLANTIC'</span> | batch_name = <span style=\"color: #008000; text-decoration-color: #008000\">'NJ ATLANTIC 2024-06-08-0987001'</span>\n",
       "</pre>\n"
      ],
      "text/plain": [
       "i = \u001b[1;36m1\u001b[0m | fname = \u001b[32m'2717973'\u001b[0m | county = \u001b[32m'NJ ATLANTIC'\u001b[0m | batch_name = \u001b[32m'NJ ATLANTIC 2024-06-08-0987001'\u001b[0m\n"
      ]
     },
     "metadata": {},
     "output_type": "display_data"
    },
    {
     "data": {
      "text/html": [
       "<pre style=\"white-space:pre;overflow-x:auto;line-height:normal;font-family:Menlo,'DejaVu Sans Mono',consolas,'Courier New',monospace\">i = <span style=\"color: #008080; text-decoration-color: #008080; font-weight: bold\">2</span> | fname = <span style=\"color: #008000; text-decoration-color: #008000\">'2717988'</span> | county = <span style=\"color: #008000; text-decoration-color: #008000\">'NJ ATLANTIC'</span> | batch_name = <span style=\"color: #008000; text-decoration-color: #008000\">'NJ ATLANTIC 2024-06-08-0987002'</span>\n",
       "</pre>\n"
      ],
      "text/plain": [
       "i = \u001b[1;36m2\u001b[0m | fname = \u001b[32m'2717988'\u001b[0m | county = \u001b[32m'NJ ATLANTIC'\u001b[0m | batch_name = \u001b[32m'NJ ATLANTIC 2024-06-08-0987002'\u001b[0m\n"
      ]
     },
     "metadata": {},
     "output_type": "display_data"
    },
    {
     "data": {
      "text/html": [
       "<pre style=\"white-space:pre;overflow-x:auto;line-height:normal;font-family:Menlo,'DejaVu Sans Mono',consolas,'Courier New',monospace\">i = <span style=\"color: #008080; text-decoration-color: #008080; font-weight: bold\">3</span> | fname = <span style=\"color: #008000; text-decoration-color: #008000\">'2717998'</span> | county = <span style=\"color: #008000; text-decoration-color: #008000\">'NJ ATLANTIC'</span> | batch_name = <span style=\"color: #008000; text-decoration-color: #008000\">'NJ ATLANTIC 2024-06-08-0987003'</span>\n",
       "</pre>\n"
      ],
      "text/plain": [
       "i = \u001b[1;36m3\u001b[0m | fname = \u001b[32m'2717998'\u001b[0m | county = \u001b[32m'NJ ATLANTIC'\u001b[0m | batch_name = \u001b[32m'NJ ATLANTIC 2024-06-08-0987003'\u001b[0m\n"
      ]
     },
     "metadata": {},
     "output_type": "display_data"
    },
    {
     "data": {
      "text/html": [
       "<pre style=\"white-space:pre;overflow-x:auto;line-height:normal;font-family:Menlo,'DejaVu Sans Mono',consolas,'Courier New',monospace\">i = <span style=\"color: #008080; text-decoration-color: #008080; font-weight: bold\">4</span> | fname = <span style=\"color: #008000; text-decoration-color: #008000\">'2718002'</span> | county = <span style=\"color: #008000; text-decoration-color: #008000\">'NJ ATLANTIC'</span> | batch_name = <span style=\"color: #008000; text-decoration-color: #008000\">'NJ ATLANTIC 2024-06-08-0987004'</span>\n",
       "</pre>\n"
      ],
      "text/plain": [
       "i = \u001b[1;36m4\u001b[0m | fname = \u001b[32m'2718002'\u001b[0m | county = \u001b[32m'NJ ATLANTIC'\u001b[0m | batch_name = \u001b[32m'NJ ATLANTIC 2024-06-08-0987004'\u001b[0m\n"
      ]
     },
     "metadata": {},
     "output_type": "display_data"
    },
    {
     "data": {
      "text/html": [
       "<pre style=\"white-space:pre;overflow-x:auto;line-height:normal;font-family:Menlo,'DejaVu Sans Mono',consolas,'Courier New',monospace\">i = <span style=\"color: #008080; text-decoration-color: #008080; font-weight: bold\">5</span> | fname = <span style=\"color: #008000; text-decoration-color: #008000\">'2718003'</span> | county = <span style=\"color: #008000; text-decoration-color: #008000\">'NJ ATLANTIC'</span> | batch_name = <span style=\"color: #008000; text-decoration-color: #008000\">'NJ ATLANTIC 2024-06-08-0987005'</span>\n",
       "</pre>\n"
      ],
      "text/plain": [
       "i = \u001b[1;36m5\u001b[0m | fname = \u001b[32m'2718003'\u001b[0m | county = \u001b[32m'NJ ATLANTIC'\u001b[0m | batch_name = \u001b[32m'NJ ATLANTIC 2024-06-08-0987005'\u001b[0m\n"
      ]
     },
     "metadata": {},
     "output_type": "display_data"
    },
    {
     "data": {
      "text/html": [
       "<pre style=\"white-space:pre;overflow-x:auto;line-height:normal;font-family:Menlo,'DejaVu Sans Mono',consolas,'Courier New',monospace\">i = <span style=\"color: #008080; text-decoration-color: #008080; font-weight: bold\">6</span> | fname = <span style=\"color: #008000; text-decoration-color: #008000\">'2718010'</span> | county = <span style=\"color: #008000; text-decoration-color: #008000\">'NJ ATLANTIC'</span> | batch_name = <span style=\"color: #008000; text-decoration-color: #008000\">'NJ ATLANTIC 2024-06-08-0987006'</span>\n",
       "</pre>\n"
      ],
      "text/plain": [
       "i = \u001b[1;36m6\u001b[0m | fname = \u001b[32m'2718010'\u001b[0m | county = \u001b[32m'NJ ATLANTIC'\u001b[0m | batch_name = \u001b[32m'NJ ATLANTIC 2024-06-08-0987006'\u001b[0m\n"
      ]
     },
     "metadata": {},
     "output_type": "display_data"
    },
    {
     "data": {
      "text/html": [
       "<pre style=\"white-space:pre;overflow-x:auto;line-height:normal;font-family:Menlo,'DejaVu Sans Mono',consolas,'Courier New',monospace\">i = <span style=\"color: #008080; text-decoration-color: #008080; font-weight: bold\">7</span> | fname = <span style=\"color: #008000; text-decoration-color: #008000\">'2718024'</span> | county = <span style=\"color: #008000; text-decoration-color: #008000\">'NJ ATLANTIC'</span> | batch_name = <span style=\"color: #008000; text-decoration-color: #008000\">'NJ ATLANTIC 2024-06-08-0987007'</span>\n",
       "</pre>\n"
      ],
      "text/plain": [
       "i = \u001b[1;36m7\u001b[0m | fname = \u001b[32m'2718024'\u001b[0m | county = \u001b[32m'NJ ATLANTIC'\u001b[0m | batch_name = \u001b[32m'NJ ATLANTIC 2024-06-08-0987007'\u001b[0m\n"
      ]
     },
     "metadata": {},
     "output_type": "display_data"
    },
    {
     "data": {
      "text/html": [
       "<pre style=\"white-space:pre;overflow-x:auto;line-height:normal;font-family:Menlo,'DejaVu Sans Mono',consolas,'Courier New',monospace\">i = <span style=\"color: #008080; text-decoration-color: #008080; font-weight: bold\">8</span> | fname = <span style=\"color: #008000; text-decoration-color: #008000\">'2718026'</span> | county = <span style=\"color: #008000; text-decoration-color: #008000\">'NJ ATLANTIC'</span> | batch_name = <span style=\"color: #008000; text-decoration-color: #008000\">'NJ ATLANTIC 2024-06-08-0987008'</span>\n",
       "</pre>\n"
      ],
      "text/plain": [
       "i = \u001b[1;36m8\u001b[0m | fname = \u001b[32m'2718026'\u001b[0m | county = \u001b[32m'NJ ATLANTIC'\u001b[0m | batch_name = \u001b[32m'NJ ATLANTIC 2024-06-08-0987008'\u001b[0m\n"
      ]
     },
     "metadata": {},
     "output_type": "display_data"
    },
    {
     "data": {
      "text/html": [
       "<pre style=\"white-space:pre;overflow-x:auto;line-height:normal;font-family:Menlo,'DejaVu Sans Mono',consolas,'Courier New',monospace\">i = <span style=\"color: #008080; text-decoration-color: #008080; font-weight: bold\">9</span> | fname = <span style=\"color: #008000; text-decoration-color: #008000\">'2718027'</span> | county = <span style=\"color: #008000; text-decoration-color: #008000\">'NJ ATLANTIC'</span> | batch_name = <span style=\"color: #008000; text-decoration-color: #008000\">'NJ ATLANTIC 2024-06-08-0987009'</span>\n",
       "</pre>\n"
      ],
      "text/plain": [
       "i = \u001b[1;36m9\u001b[0m | fname = \u001b[32m'2718027'\u001b[0m | county = \u001b[32m'NJ ATLANTIC'\u001b[0m | batch_name = \u001b[32m'NJ ATLANTIC 2024-06-08-0987009'\u001b[0m\n"
      ]
     },
     "metadata": {},
     "output_type": "display_data"
    },
    {
     "data": {
      "text/html": [
       "<pre style=\"white-space:pre;overflow-x:auto;line-height:normal;font-family:Menlo,'DejaVu Sans Mono',consolas,'Courier New',monospace\">i = <span style=\"color: #008080; text-decoration-color: #008080; font-weight: bold\">10</span> | fname = <span style=\"color: #008000; text-decoration-color: #008000\">'2718031'</span> | county = <span style=\"color: #008000; text-decoration-color: #008000\">'NJ ATLANTIC'</span> | batch_name = <span style=\"color: #008000; text-decoration-color: #008000\">'NJ ATLANTIC 2024-06-08-0987010'</span>\n",
       "</pre>\n"
      ],
      "text/plain": [
       "i = \u001b[1;36m10\u001b[0m | fname = \u001b[32m'2718031'\u001b[0m | county = \u001b[32m'NJ ATLANTIC'\u001b[0m | batch_name = \u001b[32m'NJ ATLANTIC 2024-06-08-0987010'\u001b[0m\n"
      ]
     },
     "metadata": {},
     "output_type": "display_data"
    },
    {
     "data": {
      "text/html": [
       "<pre style=\"white-space:pre;overflow-x:auto;line-height:normal;font-family:Menlo,'DejaVu Sans Mono',consolas,'Courier New',monospace\">i = <span style=\"color: #008080; text-decoration-color: #008080; font-weight: bold\">11</span> | fname = <span style=\"color: #008000; text-decoration-color: #008000\">'2718032'</span> | county = <span style=\"color: #008000; text-decoration-color: #008000\">'NJ ATLANTIC'</span> | batch_name = <span style=\"color: #008000; text-decoration-color: #008000\">'NJ ATLANTIC 2024-06-08-0987011'</span>\n",
       "</pre>\n"
      ],
      "text/plain": [
       "i = \u001b[1;36m11\u001b[0m | fname = \u001b[32m'2718032'\u001b[0m | county = \u001b[32m'NJ ATLANTIC'\u001b[0m | batch_name = \u001b[32m'NJ ATLANTIC 2024-06-08-0987011'\u001b[0m\n"
      ]
     },
     "metadata": {},
     "output_type": "display_data"
    },
    {
     "data": {
      "text/html": [
       "<pre style=\"white-space:pre;overflow-x:auto;line-height:normal;font-family:Menlo,'DejaVu Sans Mono',consolas,'Courier New',monospace\">i = <span style=\"color: #008080; text-decoration-color: #008080; font-weight: bold\">12</span> | fname = <span style=\"color: #008000; text-decoration-color: #008000\">'2718038'</span> | county = <span style=\"color: #008000; text-decoration-color: #008000\">'NJ ATLANTIC'</span> | batch_name = <span style=\"color: #008000; text-decoration-color: #008000\">'NJ ATLANTIC 2024-06-08-0987012'</span>\n",
       "</pre>\n"
      ],
      "text/plain": [
       "i = \u001b[1;36m12\u001b[0m | fname = \u001b[32m'2718038'\u001b[0m | county = \u001b[32m'NJ ATLANTIC'\u001b[0m | batch_name = \u001b[32m'NJ ATLANTIC 2024-06-08-0987012'\u001b[0m\n"
      ]
     },
     "metadata": {},
     "output_type": "display_data"
    },
    {
     "data": {
      "text/html": [
       "<pre style=\"white-space:pre;overflow-x:auto;line-height:normal;font-family:Menlo,'DejaVu Sans Mono',consolas,'Courier New',monospace\">i = <span style=\"color: #008080; text-decoration-color: #008080; font-weight: bold\">13</span> | fname = <span style=\"color: #008000; text-decoration-color: #008000\">'2718041'</span> | county = <span style=\"color: #008000; text-decoration-color: #008000\">'NJ ATLANTIC'</span> | batch_name = <span style=\"color: #008000; text-decoration-color: #008000\">'NJ ATLANTIC 2024-06-08-0987013'</span>\n",
       "</pre>\n"
      ],
      "text/plain": [
       "i = \u001b[1;36m13\u001b[0m | fname = \u001b[32m'2718041'\u001b[0m | county = \u001b[32m'NJ ATLANTIC'\u001b[0m | batch_name = \u001b[32m'NJ ATLANTIC 2024-06-08-0987013'\u001b[0m\n"
      ]
     },
     "metadata": {},
     "output_type": "display_data"
    },
    {
     "data": {
      "text/html": [
       "<pre style=\"white-space:pre;overflow-x:auto;line-height:normal;font-family:Menlo,'DejaVu Sans Mono',consolas,'Courier New',monospace\">i = <span style=\"color: #008080; text-decoration-color: #008080; font-weight: bold\">14</span> | fname = <span style=\"color: #008000; text-decoration-color: #008000\">'2718045'</span> | county = <span style=\"color: #008000; text-decoration-color: #008000\">'NJ ATLANTIC'</span> | batch_name = <span style=\"color: #008000; text-decoration-color: #008000\">'NJ ATLANTIC 2024-06-08-0987014'</span>\n",
       "</pre>\n"
      ],
      "text/plain": [
       "i = \u001b[1;36m14\u001b[0m | fname = \u001b[32m'2718045'\u001b[0m | county = \u001b[32m'NJ ATLANTIC'\u001b[0m | batch_name = \u001b[32m'NJ ATLANTIC 2024-06-08-0987014'\u001b[0m\n"
      ]
     },
     "metadata": {},
     "output_type": "display_data"
    },
    {
     "data": {
      "text/html": [
       "<pre style=\"white-space:pre;overflow-x:auto;line-height:normal;font-family:Menlo,'DejaVu Sans Mono',consolas,'Courier New',monospace\">i = <span style=\"color: #008080; text-decoration-color: #008080; font-weight: bold\">15</span> | fname = <span style=\"color: #008000; text-decoration-color: #008000\">'2718055'</span> | county = <span style=\"color: #008000; text-decoration-color: #008000\">'NJ ATLANTIC'</span> | batch_name = <span style=\"color: #008000; text-decoration-color: #008000\">'NJ ATLANTIC 2024-06-08-0987015'</span>\n",
       "</pre>\n"
      ],
      "text/plain": [
       "i = \u001b[1;36m15\u001b[0m | fname = \u001b[32m'2718055'\u001b[0m | county = \u001b[32m'NJ ATLANTIC'\u001b[0m | batch_name = \u001b[32m'NJ ATLANTIC 2024-06-08-0987015'\u001b[0m\n"
      ]
     },
     "metadata": {},
     "output_type": "display_data"
    },
    {
     "data": {
      "text/html": [
       "<pre style=\"white-space:pre;overflow-x:auto;line-height:normal;font-family:Menlo,'DejaVu Sans Mono',consolas,'Courier New',monospace\">i = <span style=\"color: #008080; text-decoration-color: #008080; font-weight: bold\">16</span> | fname = <span style=\"color: #008000; text-decoration-color: #008000\">'2718058'</span> | county = <span style=\"color: #008000; text-decoration-color: #008000\">'NJ ATLANTIC'</span> | batch_name = <span style=\"color: #008000; text-decoration-color: #008000\">'NJ ATLANTIC 2024-06-08-0987016'</span>\n",
       "</pre>\n"
      ],
      "text/plain": [
       "i = \u001b[1;36m16\u001b[0m | fname = \u001b[32m'2718058'\u001b[0m | county = \u001b[32m'NJ ATLANTIC'\u001b[0m | batch_name = \u001b[32m'NJ ATLANTIC 2024-06-08-0987016'\u001b[0m\n"
      ]
     },
     "metadata": {},
     "output_type": "display_data"
    },
    {
     "data": {
      "text/html": [
       "<pre style=\"white-space:pre;overflow-x:auto;line-height:normal;font-family:Menlo,'DejaVu Sans Mono',consolas,'Courier New',monospace\">i = <span style=\"color: #008080; text-decoration-color: #008080; font-weight: bold\">17</span> | fname = <span style=\"color: #008000; text-decoration-color: #008000\">'2718060'</span> | county = <span style=\"color: #008000; text-decoration-color: #008000\">'NJ ATLANTIC'</span> | batch_name = <span style=\"color: #008000; text-decoration-color: #008000\">'NJ ATLANTIC 2024-06-08-0987017'</span>\n",
       "</pre>\n"
      ],
      "text/plain": [
       "i = \u001b[1;36m17\u001b[0m | fname = \u001b[32m'2718060'\u001b[0m | county = \u001b[32m'NJ ATLANTIC'\u001b[0m | batch_name = \u001b[32m'NJ ATLANTIC 2024-06-08-0987017'\u001b[0m\n"
      ]
     },
     "metadata": {},
     "output_type": "display_data"
    },
    {
     "data": {
      "text/html": [
       "<pre style=\"white-space:pre;overflow-x:auto;line-height:normal;font-family:Menlo,'DejaVu Sans Mono',consolas,'Courier New',monospace\">i = <span style=\"color: #008080; text-decoration-color: #008080; font-weight: bold\">18</span> | fname = <span style=\"color: #008000; text-decoration-color: #008000\">'2718072'</span> | county = <span style=\"color: #008000; text-decoration-color: #008000\">'NJ ATLANTIC'</span> | batch_name = <span style=\"color: #008000; text-decoration-color: #008000\">'NJ ATLANTIC 2024-06-08-0987018'</span>\n",
       "</pre>\n"
      ],
      "text/plain": [
       "i = \u001b[1;36m18\u001b[0m | fname = \u001b[32m'2718072'\u001b[0m | county = \u001b[32m'NJ ATLANTIC'\u001b[0m | batch_name = \u001b[32m'NJ ATLANTIC 2024-06-08-0987018'\u001b[0m\n"
      ]
     },
     "metadata": {},
     "output_type": "display_data"
    },
    {
     "data": {
      "text/html": [
       "<pre style=\"white-space:pre;overflow-x:auto;line-height:normal;font-family:Menlo,'DejaVu Sans Mono',consolas,'Courier New',monospace\">i = <span style=\"color: #008080; text-decoration-color: #008080; font-weight: bold\">19</span> | fname = <span style=\"color: #008000; text-decoration-color: #008000\">'2718073'</span> | county = <span style=\"color: #008000; text-decoration-color: #008000\">'NJ ATLANTIC'</span> | batch_name = <span style=\"color: #008000; text-decoration-color: #008000\">'NJ ATLANTIC 2024-06-08-0987019'</span>\n",
       "</pre>\n"
      ],
      "text/plain": [
       "i = \u001b[1;36m19\u001b[0m | fname = \u001b[32m'2718073'\u001b[0m | county = \u001b[32m'NJ ATLANTIC'\u001b[0m | batch_name = \u001b[32m'NJ ATLANTIC 2024-06-08-0987019'\u001b[0m\n"
      ]
     },
     "metadata": {},
     "output_type": "display_data"
    },
    {
     "data": {
      "text/html": [
       "<pre style=\"white-space:pre;overflow-x:auto;line-height:normal;font-family:Menlo,'DejaVu Sans Mono',consolas,'Courier New',monospace\">i = <span style=\"color: #008080; text-decoration-color: #008080; font-weight: bold\">20</span> | fname = <span style=\"color: #008000; text-decoration-color: #008000\">'2718338'</span> | county = <span style=\"color: #008000; text-decoration-color: #008000\">'NJ BURLINGTON'</span> | batch_name = <span style=\"color: #008000; text-decoration-color: #008000\">'NJ BURLINGTON 2024-06-08-0987020'</span>\n",
       "</pre>\n"
      ],
      "text/plain": [
       "i = \u001b[1;36m20\u001b[0m | fname = \u001b[32m'2718338'\u001b[0m | county = \u001b[32m'NJ BURLINGTON'\u001b[0m | batch_name = \u001b[32m'NJ BURLINGTON 2024-06-08-0987020'\u001b[0m\n"
      ]
     },
     "metadata": {},
     "output_type": "display_data"
    },
    {
     "data": {
      "text/html": [
       "<pre style=\"white-space:pre;overflow-x:auto;line-height:normal;font-family:Menlo,'DejaVu Sans Mono',consolas,'Courier New',monospace\">i = <span style=\"color: #008080; text-decoration-color: #008080; font-weight: bold\">21</span> | fname = <span style=\"color: #008000; text-decoration-color: #008000\">'2718343'</span> | county = <span style=\"color: #008000; text-decoration-color: #008000\">'NJ BURLINGTON'</span> | batch_name = <span style=\"color: #008000; text-decoration-color: #008000\">'NJ BURLINGTON 2024-06-08-0987021'</span>\n",
       "</pre>\n"
      ],
      "text/plain": [
       "i = \u001b[1;36m21\u001b[0m | fname = \u001b[32m'2718343'\u001b[0m | county = \u001b[32m'NJ BURLINGTON'\u001b[0m | batch_name = \u001b[32m'NJ BURLINGTON 2024-06-08-0987021'\u001b[0m\n"
      ]
     },
     "metadata": {},
     "output_type": "display_data"
    },
    {
     "data": {
      "text/html": [
       "<pre style=\"white-space:pre;overflow-x:auto;line-height:normal;font-family:Menlo,'DejaVu Sans Mono',consolas,'Courier New',monospace\">i = <span style=\"color: #008080; text-decoration-color: #008080; font-weight: bold\">22</span> | fname = <span style=\"color: #008000; text-decoration-color: #008000\">'2718345'</span> | county = <span style=\"color: #008000; text-decoration-color: #008000\">'NJ BURLINGTON'</span> | batch_name = <span style=\"color: #008000; text-decoration-color: #008000\">'NJ BURLINGTON 2024-06-08-0987022'</span>\n",
       "</pre>\n"
      ],
      "text/plain": [
       "i = \u001b[1;36m22\u001b[0m | fname = \u001b[32m'2718345'\u001b[0m | county = \u001b[32m'NJ BURLINGTON'\u001b[0m | batch_name = \u001b[32m'NJ BURLINGTON 2024-06-08-0987022'\u001b[0m\n"
      ]
     },
     "metadata": {},
     "output_type": "display_data"
    },
    {
     "data": {
      "text/html": [
       "<pre style=\"white-space:pre;overflow-x:auto;line-height:normal;font-family:Menlo,'DejaVu Sans Mono',consolas,'Courier New',monospace\">i = <span style=\"color: #008080; text-decoration-color: #008080; font-weight: bold\">23</span> | fname = <span style=\"color: #008000; text-decoration-color: #008000\">'2718348'</span> | county = <span style=\"color: #008000; text-decoration-color: #008000\">'NJ BURLINGTON'</span> | batch_name = <span style=\"color: #008000; text-decoration-color: #008000\">'NJ BURLINGTON 2024-06-08-0987023'</span>\n",
       "</pre>\n"
      ],
      "text/plain": [
       "i = \u001b[1;36m23\u001b[0m | fname = \u001b[32m'2718348'\u001b[0m | county = \u001b[32m'NJ BURLINGTON'\u001b[0m | batch_name = \u001b[32m'NJ BURLINGTON 2024-06-08-0987023'\u001b[0m\n"
      ]
     },
     "metadata": {},
     "output_type": "display_data"
    },
    {
     "data": {
      "text/html": [
       "<pre style=\"white-space:pre;overflow-x:auto;line-height:normal;font-family:Menlo,'DejaVu Sans Mono',consolas,'Courier New',monospace\">i = <span style=\"color: #008080; text-decoration-color: #008080; font-weight: bold\">24</span> | fname = <span style=\"color: #008000; text-decoration-color: #008000\">'2718349'</span> | county = <span style=\"color: #008000; text-decoration-color: #008000\">'NJ BURLINGTON'</span> | batch_name = <span style=\"color: #008000; text-decoration-color: #008000\">'NJ BURLINGTON 2024-06-08-0987024'</span>\n",
       "</pre>\n"
      ],
      "text/plain": [
       "i = \u001b[1;36m24\u001b[0m | fname = \u001b[32m'2718349'\u001b[0m | county = \u001b[32m'NJ BURLINGTON'\u001b[0m | batch_name = \u001b[32m'NJ BURLINGTON 2024-06-08-0987024'\u001b[0m\n"
      ]
     },
     "metadata": {},
     "output_type": "display_data"
    },
    {
     "data": {
      "text/html": [
       "<pre style=\"white-space:pre;overflow-x:auto;line-height:normal;font-family:Menlo,'DejaVu Sans Mono',consolas,'Courier New',monospace\">i = <span style=\"color: #008080; text-decoration-color: #008080; font-weight: bold\">25</span> | fname = <span style=\"color: #008000; text-decoration-color: #008000\">'2718351'</span> | county = <span style=\"color: #008000; text-decoration-color: #008000\">'NJ BURLINGTON'</span> | batch_name = <span style=\"color: #008000; text-decoration-color: #008000\">'NJ BURLINGTON 2024-06-08-0987025'</span>\n",
       "</pre>\n"
      ],
      "text/plain": [
       "i = \u001b[1;36m25\u001b[0m | fname = \u001b[32m'2718351'\u001b[0m | county = \u001b[32m'NJ BURLINGTON'\u001b[0m | batch_name = \u001b[32m'NJ BURLINGTON 2024-06-08-0987025'\u001b[0m\n"
      ]
     },
     "metadata": {},
     "output_type": "display_data"
    },
    {
     "data": {
      "text/html": [
       "<pre style=\"white-space:pre;overflow-x:auto;line-height:normal;font-family:Menlo,'DejaVu Sans Mono',consolas,'Courier New',monospace\">i = <span style=\"color: #008080; text-decoration-color: #008080; font-weight: bold\">26</span> | fname = <span style=\"color: #008000; text-decoration-color: #008000\">'2718352'</span> | county = <span style=\"color: #008000; text-decoration-color: #008000\">'NJ BURLINGTON'</span> | batch_name = <span style=\"color: #008000; text-decoration-color: #008000\">'NJ BURLINGTON 2024-06-08-0987026'</span>\n",
       "</pre>\n"
      ],
      "text/plain": [
       "i = \u001b[1;36m26\u001b[0m | fname = \u001b[32m'2718352'\u001b[0m | county = \u001b[32m'NJ BURLINGTON'\u001b[0m | batch_name = \u001b[32m'NJ BURLINGTON 2024-06-08-0987026'\u001b[0m\n"
      ]
     },
     "metadata": {},
     "output_type": "display_data"
    },
    {
     "data": {
      "text/html": [
       "<pre style=\"white-space:pre;overflow-x:auto;line-height:normal;font-family:Menlo,'DejaVu Sans Mono',consolas,'Courier New',monospace\">i = <span style=\"color: #008080; text-decoration-color: #008080; font-weight: bold\">27</span> | fname = <span style=\"color: #008000; text-decoration-color: #008000\">'2718418'</span> | county = <span style=\"color: #008000; text-decoration-color: #008000\">'NJ MONMOUTH'</span> | batch_name = <span style=\"color: #008000; text-decoration-color: #008000\">'NJ MONMOUTH 2024-06-08-0987027'</span>\n",
       "</pre>\n"
      ],
      "text/plain": [
       "i = \u001b[1;36m27\u001b[0m | fname = \u001b[32m'2718418'\u001b[0m | county = \u001b[32m'NJ MONMOUTH'\u001b[0m | batch_name = \u001b[32m'NJ MONMOUTH 2024-06-08-0987027'\u001b[0m\n"
      ]
     },
     "metadata": {},
     "output_type": "display_data"
    },
    {
     "data": {
      "text/html": [
       "<pre style=\"white-space:pre;overflow-x:auto;line-height:normal;font-family:Menlo,'DejaVu Sans Mono',consolas,'Courier New',monospace\">i = <span style=\"color: #008080; text-decoration-color: #008080; font-weight: bold\">28</span> | fname = <span style=\"color: #008000; text-decoration-color: #008000\">'2718488'</span> | county = <span style=\"color: #008000; text-decoration-color: #008000\">'NJ MONMOUTH'</span> | batch_name = <span style=\"color: #008000; text-decoration-color: #008000\">'NJ MONMOUTH 2024-06-08-0987028'</span>\n",
       "</pre>\n"
      ],
      "text/plain": [
       "i = \u001b[1;36m28\u001b[0m | fname = \u001b[32m'2718488'\u001b[0m | county = \u001b[32m'NJ MONMOUTH'\u001b[0m | batch_name = \u001b[32m'NJ MONMOUTH 2024-06-08-0987028'\u001b[0m\n"
      ]
     },
     "metadata": {},
     "output_type": "display_data"
    },
    {
     "data": {
      "text/html": [
       "<pre style=\"white-space:pre;overflow-x:auto;line-height:normal;font-family:Menlo,'DejaVu Sans Mono',consolas,'Courier New',monospace\">i = <span style=\"color: #008080; text-decoration-color: #008080; font-weight: bold\">29</span> | fname = <span style=\"color: #008000; text-decoration-color: #008000\">'2718514'</span> | county = <span style=\"color: #008000; text-decoration-color: #008000\">'NJ MONMOUTH'</span> | batch_name = <span style=\"color: #008000; text-decoration-color: #008000\">'NJ MONMOUTH 2024-06-08-0987029'</span>\n",
       "</pre>\n"
      ],
      "text/plain": [
       "i = \u001b[1;36m29\u001b[0m | fname = \u001b[32m'2718514'\u001b[0m | county = \u001b[32m'NJ MONMOUTH'\u001b[0m | batch_name = \u001b[32m'NJ MONMOUTH 2024-06-08-0987029'\u001b[0m\n"
      ]
     },
     "metadata": {},
     "output_type": "display_data"
    },
    {
     "data": {
      "text/html": [
       "<pre style=\"white-space:pre;overflow-x:auto;line-height:normal;font-family:Menlo,'DejaVu Sans Mono',consolas,'Courier New',monospace\">i = <span style=\"color: #008080; text-decoration-color: #008080; font-weight: bold\">30</span> | fname = <span style=\"color: #008000; text-decoration-color: #008000\">'2718540'</span> | county = <span style=\"color: #008000; text-decoration-color: #008000\">'NJ MONMOUTH'</span> | batch_name = <span style=\"color: #008000; text-decoration-color: #008000\">'NJ MONMOUTH 2024-06-08-0987030'</span>\n",
       "</pre>\n"
      ],
      "text/plain": [
       "i = \u001b[1;36m30\u001b[0m | fname = \u001b[32m'2718540'\u001b[0m | county = \u001b[32m'NJ MONMOUTH'\u001b[0m | batch_name = \u001b[32m'NJ MONMOUTH 2024-06-08-0987030'\u001b[0m\n"
      ]
     },
     "metadata": {},
     "output_type": "display_data"
    },
    {
     "data": {
      "text/html": [
       "<pre style=\"white-space:pre;overflow-x:auto;line-height:normal;font-family:Menlo,'DejaVu Sans Mono',consolas,'Courier New',monospace\">i = <span style=\"color: #008080; text-decoration-color: #008080; font-weight: bold\">31</span> | fname = <span style=\"color: #008000; text-decoration-color: #008000\">'2718549'</span> | county = <span style=\"color: #008000; text-decoration-color: #008000\">'NJ MONMOUTH'</span> | batch_name = <span style=\"color: #008000; text-decoration-color: #008000\">'NJ MONMOUTH 2024-06-08-0987031'</span>\n",
       "</pre>\n"
      ],
      "text/plain": [
       "i = \u001b[1;36m31\u001b[0m | fname = \u001b[32m'2718549'\u001b[0m | county = \u001b[32m'NJ MONMOUTH'\u001b[0m | batch_name = \u001b[32m'NJ MONMOUTH 2024-06-08-0987031'\u001b[0m\n"
      ]
     },
     "metadata": {},
     "output_type": "display_data"
    },
    {
     "data": {
      "text/html": [
       "<pre style=\"white-space:pre;overflow-x:auto;line-height:normal;font-family:Menlo,'DejaVu Sans Mono',consolas,'Courier New',monospace\">i = <span style=\"color: #008080; text-decoration-color: #008080; font-weight: bold\">32</span> | fname = <span style=\"color: #008000; text-decoration-color: #008000\">'2718555'</span> | county = <span style=\"color: #008000; text-decoration-color: #008000\">'NJ MONMOUTH'</span> | batch_name = <span style=\"color: #008000; text-decoration-color: #008000\">'NJ MONMOUTH 2024-06-08-0987032'</span>\n",
       "</pre>\n"
      ],
      "text/plain": [
       "i = \u001b[1;36m32\u001b[0m | fname = \u001b[32m'2718555'\u001b[0m | county = \u001b[32m'NJ MONMOUTH'\u001b[0m | batch_name = \u001b[32m'NJ MONMOUTH 2024-06-08-0987032'\u001b[0m\n"
      ]
     },
     "metadata": {},
     "output_type": "display_data"
    },
    {
     "data": {
      "text/html": [
       "<pre style=\"white-space:pre;overflow-x:auto;line-height:normal;font-family:Menlo,'DejaVu Sans Mono',consolas,'Courier New',monospace\">i = <span style=\"color: #008080; text-decoration-color: #008080; font-weight: bold\">33</span> | fname = <span style=\"color: #008000; text-decoration-color: #008000\">'2718583'</span> | county = <span style=\"color: #008000; text-decoration-color: #008000\">'NJ MONMOUTH'</span> | batch_name = <span style=\"color: #008000; text-decoration-color: #008000\">'NJ MONMOUTH 2024-06-08-0987033'</span>\n",
       "</pre>\n"
      ],
      "text/plain": [
       "i = \u001b[1;36m33\u001b[0m | fname = \u001b[32m'2718583'\u001b[0m | county = \u001b[32m'NJ MONMOUTH'\u001b[0m | batch_name = \u001b[32m'NJ MONMOUTH 2024-06-08-0987033'\u001b[0m\n"
      ]
     },
     "metadata": {},
     "output_type": "display_data"
    },
    {
     "data": {
      "text/html": [
       "<pre style=\"white-space:pre;overflow-x:auto;line-height:normal;font-family:Menlo,'DejaVu Sans Mono',consolas,'Courier New',monospace\">i = <span style=\"color: #008080; text-decoration-color: #008080; font-weight: bold\">34</span> | fname = <span style=\"color: #008000; text-decoration-color: #008000\">'2718584'</span> | county = <span style=\"color: #008000; text-decoration-color: #008000\">'NJ MONMOUTH'</span> | batch_name = <span style=\"color: #008000; text-decoration-color: #008000\">'NJ MONMOUTH 2024-06-08-0987034'</span>\n",
       "</pre>\n"
      ],
      "text/plain": [
       "i = \u001b[1;36m34\u001b[0m | fname = \u001b[32m'2718584'\u001b[0m | county = \u001b[32m'NJ MONMOUTH'\u001b[0m | batch_name = \u001b[32m'NJ MONMOUTH 2024-06-08-0987034'\u001b[0m\n"
      ]
     },
     "metadata": {},
     "output_type": "display_data"
    },
    {
     "data": {
      "text/html": [
       "<pre style=\"white-space:pre;overflow-x:auto;line-height:normal;font-family:Menlo,'DejaVu Sans Mono',consolas,'Courier New',monospace\">i = <span style=\"color: #008080; text-decoration-color: #008080; font-weight: bold\">35</span> | fname = <span style=\"color: #008000; text-decoration-color: #008000\">'2718613'</span> | county = <span style=\"color: #008000; text-decoration-color: #008000\">'NJ MONMOUTH'</span> | batch_name = <span style=\"color: #008000; text-decoration-color: #008000\">'NJ MONMOUTH 2024-06-08-0987035'</span>\n",
       "</pre>\n"
      ],
      "text/plain": [
       "i = \u001b[1;36m35\u001b[0m | fname = \u001b[32m'2718613'\u001b[0m | county = \u001b[32m'NJ MONMOUTH'\u001b[0m | batch_name = \u001b[32m'NJ MONMOUTH 2024-06-08-0987035'\u001b[0m\n"
      ]
     },
     "metadata": {},
     "output_type": "display_data"
    },
    {
     "data": {
      "text/html": [
       "<pre style=\"white-space:pre;overflow-x:auto;line-height:normal;font-family:Menlo,'DejaVu Sans Mono',consolas,'Courier New',monospace\">i = <span style=\"color: #008080; text-decoration-color: #008080; font-weight: bold\">36</span> | fname = <span style=\"color: #008000; text-decoration-color: #008000\">'2718631'</span> | county = <span style=\"color: #008000; text-decoration-color: #008000\">'NJ MONMOUTH'</span> | batch_name = <span style=\"color: #008000; text-decoration-color: #008000\">'NJ MONMOUTH 2024-06-08-0987036'</span>\n",
       "</pre>\n"
      ],
      "text/plain": [
       "i = \u001b[1;36m36\u001b[0m | fname = \u001b[32m'2718631'\u001b[0m | county = \u001b[32m'NJ MONMOUTH'\u001b[0m | batch_name = \u001b[32m'NJ MONMOUTH 2024-06-08-0987036'\u001b[0m\n"
      ]
     },
     "metadata": {},
     "output_type": "display_data"
    },
    {
     "data": {
      "text/html": [
       "<pre style=\"white-space:pre;overflow-x:auto;line-height:normal;font-family:Menlo,'DejaVu Sans Mono',consolas,'Courier New',monospace\">i = <span style=\"color: #008080; text-decoration-color: #008080; font-weight: bold\">37</span> | fname = <span style=\"color: #008000; text-decoration-color: #008000\">'2718637'</span> | county = <span style=\"color: #008000; text-decoration-color: #008000\">'NJ MONMOUTH'</span> | batch_name = <span style=\"color: #008000; text-decoration-color: #008000\">'NJ MONMOUTH 2024-06-08-0987037'</span>\n",
       "</pre>\n"
      ],
      "text/plain": [
       "i = \u001b[1;36m37\u001b[0m | fname = \u001b[32m'2718637'\u001b[0m | county = \u001b[32m'NJ MONMOUTH'\u001b[0m | batch_name = \u001b[32m'NJ MONMOUTH 2024-06-08-0987037'\u001b[0m\n"
      ]
     },
     "metadata": {},
     "output_type": "display_data"
    },
    {
     "data": {
      "text/html": [
       "<pre style=\"white-space:pre;overflow-x:auto;line-height:normal;font-family:Menlo,'DejaVu Sans Mono',consolas,'Courier New',monospace\">i = <span style=\"color: #008080; text-decoration-color: #008080; font-weight: bold\">38</span> | fname = <span style=\"color: #008000; text-decoration-color: #008000\">'2718650'</span> | county = <span style=\"color: #008000; text-decoration-color: #008000\">'NJ MONMOUTH'</span> | batch_name = <span style=\"color: #008000; text-decoration-color: #008000\">'NJ MONMOUTH 2024-06-08-0987038'</span>\n",
       "</pre>\n"
      ],
      "text/plain": [
       "i = \u001b[1;36m38\u001b[0m | fname = \u001b[32m'2718650'\u001b[0m | county = \u001b[32m'NJ MONMOUTH'\u001b[0m | batch_name = \u001b[32m'NJ MONMOUTH 2024-06-08-0987038'\u001b[0m\n"
      ]
     },
     "metadata": {},
     "output_type": "display_data"
    },
    {
     "data": {
      "text/html": [
       "<pre style=\"white-space:pre;overflow-x:auto;line-height:normal;font-family:Menlo,'DejaVu Sans Mono',consolas,'Courier New',monospace\">i = <span style=\"color: #008080; text-decoration-color: #008080; font-weight: bold\">39</span> | fname = <span style=\"color: #008000; text-decoration-color: #008000\">'2718675'</span> | county = <span style=\"color: #008000; text-decoration-color: #008000\">'NJ MONMOUTH'</span> | batch_name = <span style=\"color: #008000; text-decoration-color: #008000\">'NJ MONMOUTH 2024-06-08-0987039'</span>\n",
       "</pre>\n"
      ],
      "text/plain": [
       "i = \u001b[1;36m39\u001b[0m | fname = \u001b[32m'2718675'\u001b[0m | county = \u001b[32m'NJ MONMOUTH'\u001b[0m | batch_name = \u001b[32m'NJ MONMOUTH 2024-06-08-0987039'\u001b[0m\n"
      ]
     },
     "metadata": {},
     "output_type": "display_data"
    },
    {
     "data": {
      "text/html": [
       "<pre style=\"white-space:pre;overflow-x:auto;line-height:normal;font-family:Menlo,'DejaVu Sans Mono',consolas,'Courier New',monospace\">i = <span style=\"color: #008080; text-decoration-color: #008080; font-weight: bold\">40</span> | fname = <span style=\"color: #008000; text-decoration-color: #008000\">'2718786'</span> | county = <span style=\"color: #008000; text-decoration-color: #008000\">'NJ PASSAIC'</span> | batch_name = <span style=\"color: #008000; text-decoration-color: #008000\">'NJ PASSAIC 2024-06-08-0987040'</span>\n",
       "</pre>\n"
      ],
      "text/plain": [
       "i = \u001b[1;36m40\u001b[0m | fname = \u001b[32m'2718786'\u001b[0m | county = \u001b[32m'NJ PASSAIC'\u001b[0m | batch_name = \u001b[32m'NJ PASSAIC 2024-06-08-0987040'\u001b[0m\n"
      ]
     },
     "metadata": {},
     "output_type": "display_data"
    },
    {
     "data": {
      "text/html": [
       "<pre style=\"white-space:pre;overflow-x:auto;line-height:normal;font-family:Menlo,'DejaVu Sans Mono',consolas,'Courier New',monospace\">i = <span style=\"color: #008080; text-decoration-color: #008080; font-weight: bold\">41</span> | fname = <span style=\"color: #008000; text-decoration-color: #008000\">'2718793'</span> | county = <span style=\"color: #008000; text-decoration-color: #008000\">'NJ PASSAIC'</span> | batch_name = <span style=\"color: #008000; text-decoration-color: #008000\">'NJ PASSAIC 2024-06-08-0987041'</span>\n",
       "</pre>\n"
      ],
      "text/plain": [
       "i = \u001b[1;36m41\u001b[0m | fname = \u001b[32m'2718793'\u001b[0m | county = \u001b[32m'NJ PASSAIC'\u001b[0m | batch_name = \u001b[32m'NJ PASSAIC 2024-06-08-0987041'\u001b[0m\n"
      ]
     },
     "metadata": {},
     "output_type": "display_data"
    },
    {
     "data": {
      "text/html": [
       "<pre style=\"white-space:pre;overflow-x:auto;line-height:normal;font-family:Menlo,'DejaVu Sans Mono',consolas,'Courier New',monospace\">i = <span style=\"color: #008080; text-decoration-color: #008080; font-weight: bold\">42</span> | fname = <span style=\"color: #008000; text-decoration-color: #008000\">'2718800'</span> | county = <span style=\"color: #008000; text-decoration-color: #008000\">'NJ PASSAIC'</span> | batch_name = <span style=\"color: #008000; text-decoration-color: #008000\">'NJ PASSAIC 2024-06-08-0987042'</span>\n",
       "</pre>\n"
      ],
      "text/plain": [
       "i = \u001b[1;36m42\u001b[0m | fname = \u001b[32m'2718800'\u001b[0m | county = \u001b[32m'NJ PASSAIC'\u001b[0m | batch_name = \u001b[32m'NJ PASSAIC 2024-06-08-0987042'\u001b[0m\n"
      ]
     },
     "metadata": {},
     "output_type": "display_data"
    },
    {
     "data": {
      "text/html": [
       "<pre style=\"white-space:pre;overflow-x:auto;line-height:normal;font-family:Menlo,'DejaVu Sans Mono',consolas,'Courier New',monospace\">i = <span style=\"color: #008080; text-decoration-color: #008080; font-weight: bold\">43</span> | fname = <span style=\"color: #008000; text-decoration-color: #008000\">'2718803'</span> | county = <span style=\"color: #008000; text-decoration-color: #008000\">'NJ PASSAIC'</span> | batch_name = <span style=\"color: #008000; text-decoration-color: #008000\">'NJ PASSAIC 2024-06-08-0987043'</span>\n",
       "</pre>\n"
      ],
      "text/plain": [
       "i = \u001b[1;36m43\u001b[0m | fname = \u001b[32m'2718803'\u001b[0m | county = \u001b[32m'NJ PASSAIC'\u001b[0m | batch_name = \u001b[32m'NJ PASSAIC 2024-06-08-0987043'\u001b[0m\n"
      ]
     },
     "metadata": {},
     "output_type": "display_data"
    },
    {
     "data": {
      "text/html": [
       "<pre style=\"white-space:pre;overflow-x:auto;line-height:normal;font-family:Menlo,'DejaVu Sans Mono',consolas,'Courier New',monospace\">i = <span style=\"color: #008080; text-decoration-color: #008080; font-weight: bold\">44</span> | fname = <span style=\"color: #008000; text-decoration-color: #008000\">'2718805'</span> | county = <span style=\"color: #008000; text-decoration-color: #008000\">'NJ PASSAIC'</span> | batch_name = <span style=\"color: #008000; text-decoration-color: #008000\">'NJ PASSAIC 2024-06-08-0987044'</span>\n",
       "</pre>\n"
      ],
      "text/plain": [
       "i = \u001b[1;36m44\u001b[0m | fname = \u001b[32m'2718805'\u001b[0m | county = \u001b[32m'NJ PASSAIC'\u001b[0m | batch_name = \u001b[32m'NJ PASSAIC 2024-06-08-0987044'\u001b[0m\n"
      ]
     },
     "metadata": {},
     "output_type": "display_data"
    },
    {
     "data": {
      "text/html": [
       "<pre style=\"white-space:pre;overflow-x:auto;line-height:normal;font-family:Menlo,'DejaVu Sans Mono',consolas,'Courier New',monospace\">i = <span style=\"color: #008080; text-decoration-color: #008080; font-weight: bold\">45</span> | fname = <span style=\"color: #008000; text-decoration-color: #008000\">'2718853'</span> | county = <span style=\"color: #008000; text-decoration-color: #008000\">'NJ PASSAIC'</span> | batch_name = <span style=\"color: #008000; text-decoration-color: #008000\">'NJ PASSAIC 2024-06-08-0987045'</span>\n",
       "</pre>\n"
      ],
      "text/plain": [
       "i = \u001b[1;36m45\u001b[0m | fname = \u001b[32m'2718853'\u001b[0m | county = \u001b[32m'NJ PASSAIC'\u001b[0m | batch_name = \u001b[32m'NJ PASSAIC 2024-06-08-0987045'\u001b[0m\n"
      ]
     },
     "metadata": {},
     "output_type": "display_data"
    },
    {
     "data": {
      "text/html": [
       "<pre style=\"white-space:pre;overflow-x:auto;line-height:normal;font-family:Menlo,'DejaVu Sans Mono',consolas,'Courier New',monospace\">i = <span style=\"color: #008080; text-decoration-color: #008080; font-weight: bold\">46</span> | fname = <span style=\"color: #008000; text-decoration-color: #008000\">'2718860'</span> | county = <span style=\"color: #008000; text-decoration-color: #008000\">'NJ PASSAIC'</span> | batch_name = <span style=\"color: #008000; text-decoration-color: #008000\">'NJ PASSAIC 2024-06-08-0987046'</span>\n",
       "</pre>\n"
      ],
      "text/plain": [
       "i = \u001b[1;36m46\u001b[0m | fname = \u001b[32m'2718860'\u001b[0m | county = \u001b[32m'NJ PASSAIC'\u001b[0m | batch_name = \u001b[32m'NJ PASSAIC 2024-06-08-0987046'\u001b[0m\n"
      ]
     },
     "metadata": {},
     "output_type": "display_data"
    },
    {
     "data": {
      "text/html": [
       "<pre style=\"white-space:pre;overflow-x:auto;line-height:normal;font-family:Menlo,'DejaVu Sans Mono',consolas,'Courier New',monospace\">i = <span style=\"color: #008080; text-decoration-color: #008080; font-weight: bold\">47</span> | fname = <span style=\"color: #008000; text-decoration-color: #008000\">'2718862'</span> | county = <span style=\"color: #008000; text-decoration-color: #008000\">'NJ PASSAIC'</span> | batch_name = <span style=\"color: #008000; text-decoration-color: #008000\">'NJ PASSAIC 2024-06-08-0987047'</span>\n",
       "</pre>\n"
      ],
      "text/plain": [
       "i = \u001b[1;36m47\u001b[0m | fname = \u001b[32m'2718862'\u001b[0m | county = \u001b[32m'NJ PASSAIC'\u001b[0m | batch_name = \u001b[32m'NJ PASSAIC 2024-06-08-0987047'\u001b[0m\n"
      ]
     },
     "metadata": {},
     "output_type": "display_data"
    },
    {
     "data": {
      "text/html": [
       "<pre style=\"white-space:pre;overflow-x:auto;line-height:normal;font-family:Menlo,'DejaVu Sans Mono',consolas,'Courier New',monospace\">i = <span style=\"color: #008080; text-decoration-color: #008080; font-weight: bold\">48</span> | fname = <span style=\"color: #008000; text-decoration-color: #008000\">'2718865'</span> | county = <span style=\"color: #008000; text-decoration-color: #008000\">'NJ PASSAIC'</span> | batch_name = <span style=\"color: #008000; text-decoration-color: #008000\">'NJ PASSAIC 2024-06-08-0987048'</span>\n",
       "</pre>\n"
      ],
      "text/plain": [
       "i = \u001b[1;36m48\u001b[0m | fname = \u001b[32m'2718865'\u001b[0m | county = \u001b[32m'NJ PASSAIC'\u001b[0m | batch_name = \u001b[32m'NJ PASSAIC 2024-06-08-0987048'\u001b[0m\n"
      ]
     },
     "metadata": {},
     "output_type": "display_data"
    },
    {
     "data": {
      "text/html": [
       "<pre style=\"white-space:pre;overflow-x:auto;line-height:normal;font-family:Menlo,'DejaVu Sans Mono',consolas,'Courier New',monospace\">i = <span style=\"color: #008080; text-decoration-color: #008080; font-weight: bold\">49</span> | fname = <span style=\"color: #008000; text-decoration-color: #008000\">'2718866'</span> | county = <span style=\"color: #008000; text-decoration-color: #008000\">'NJ PASSAIC'</span> | batch_name = <span style=\"color: #008000; text-decoration-color: #008000\">'NJ PASSAIC 2024-06-08-0987049'</span>\n",
       "</pre>\n"
      ],
      "text/plain": [
       "i = \u001b[1;36m49\u001b[0m | fname = \u001b[32m'2718866'\u001b[0m | county = \u001b[32m'NJ PASSAIC'\u001b[0m | batch_name = \u001b[32m'NJ PASSAIC 2024-06-08-0987049'\u001b[0m\n"
      ]
     },
     "metadata": {},
     "output_type": "display_data"
    },
    {
     "data": {
      "text/html": [
       "<pre style=\"white-space:pre;overflow-x:auto;line-height:normal;font-family:Menlo,'DejaVu Sans Mono',consolas,'Courier New',monospace\">i = <span style=\"color: #008080; text-decoration-color: #008080; font-weight: bold\">50</span> | fname = <span style=\"color: #008000; text-decoration-color: #008000\">'2718867'</span> | county = <span style=\"color: #008000; text-decoration-color: #008000\">'NJ PASSAIC'</span> | batch_name = <span style=\"color: #008000; text-decoration-color: #008000\">'NJ PASSAIC 2024-06-08-0987050'</span>\n",
       "</pre>\n"
      ],
      "text/plain": [
       "i = \u001b[1;36m50\u001b[0m | fname = \u001b[32m'2718867'\u001b[0m | county = \u001b[32m'NJ PASSAIC'\u001b[0m | batch_name = \u001b[32m'NJ PASSAIC 2024-06-08-0987050'\u001b[0m\n"
      ]
     },
     "metadata": {},
     "output_type": "display_data"
    },
    {
     "data": {
      "text/html": [
       "<pre style=\"white-space:pre;overflow-x:auto;line-height:normal;font-family:Menlo,'DejaVu Sans Mono',consolas,'Courier New',monospace\">i = <span style=\"color: #008080; text-decoration-color: #008080; font-weight: bold\">51</span> | fname = <span style=\"color: #008000; text-decoration-color: #008000\">'2718868'</span> | county = <span style=\"color: #008000; text-decoration-color: #008000\">'NJ PASSAIC'</span> | batch_name = <span style=\"color: #008000; text-decoration-color: #008000\">'NJ PASSAIC 2024-06-08-0987051'</span>\n",
       "</pre>\n"
      ],
      "text/plain": [
       "i = \u001b[1;36m51\u001b[0m | fname = \u001b[32m'2718868'\u001b[0m | county = \u001b[32m'NJ PASSAIC'\u001b[0m | batch_name = \u001b[32m'NJ PASSAIC 2024-06-08-0987051'\u001b[0m\n"
      ]
     },
     "metadata": {},
     "output_type": "display_data"
    },
    {
     "data": {
      "text/html": [
       "<pre style=\"white-space:pre;overflow-x:auto;line-height:normal;font-family:Menlo,'DejaVu Sans Mono',consolas,'Courier New',monospace\">i = <span style=\"color: #008080; text-decoration-color: #008080; font-weight: bold\">52</span> | fname = <span style=\"color: #008000; text-decoration-color: #008000\">'2718871'</span> | county = <span style=\"color: #008000; text-decoration-color: #008000\">'NJ PASSAIC'</span> | batch_name = <span style=\"color: #008000; text-decoration-color: #008000\">'NJ PASSAIC 2024-06-08-0987052'</span>\n",
       "</pre>\n"
      ],
      "text/plain": [
       "i = \u001b[1;36m52\u001b[0m | fname = \u001b[32m'2718871'\u001b[0m | county = \u001b[32m'NJ PASSAIC'\u001b[0m | batch_name = \u001b[32m'NJ PASSAIC 2024-06-08-0987052'\u001b[0m\n"
      ]
     },
     "metadata": {},
     "output_type": "display_data"
    },
    {
     "data": {
      "text/html": [
       "<pre style=\"white-space:pre;overflow-x:auto;line-height:normal;font-family:Menlo,'DejaVu Sans Mono',consolas,'Courier New',monospace\">i = <span style=\"color: #008080; text-decoration-color: #008080; font-weight: bold\">53</span> | fname = <span style=\"color: #008000; text-decoration-color: #008000\">'2718918'</span> | county = <span style=\"color: #008000; text-decoration-color: #008000\">'NJ PASSAIC'</span> | batch_name = <span style=\"color: #008000; text-decoration-color: #008000\">'NJ PASSAIC 2024-06-08-0987053'</span>\n",
       "</pre>\n"
      ],
      "text/plain": [
       "i = \u001b[1;36m53\u001b[0m | fname = \u001b[32m'2718918'\u001b[0m | county = \u001b[32m'NJ PASSAIC'\u001b[0m | batch_name = \u001b[32m'NJ PASSAIC 2024-06-08-0987053'\u001b[0m\n"
      ]
     },
     "metadata": {},
     "output_type": "display_data"
    },
    {
     "data": {
      "text/html": [
       "<pre style=\"white-space:pre;overflow-x:auto;line-height:normal;font-family:Menlo,'DejaVu Sans Mono',consolas,'Courier New',monospace\">i = <span style=\"color: #008080; text-decoration-color: #008080; font-weight: bold\">54</span> | fname = <span style=\"color: #008000; text-decoration-color: #008000\">'2718930'</span> | county = <span style=\"color: #008000; text-decoration-color: #008000\">'NJ PASSAIC'</span> | batch_name = <span style=\"color: #008000; text-decoration-color: #008000\">'NJ PASSAIC 2024-06-08-0987054'</span>\n",
       "</pre>\n"
      ],
      "text/plain": [
       "i = \u001b[1;36m54\u001b[0m | fname = \u001b[32m'2718930'\u001b[0m | county = \u001b[32m'NJ PASSAIC'\u001b[0m | batch_name = \u001b[32m'NJ PASSAIC 2024-06-08-0987054'\u001b[0m\n"
      ]
     },
     "metadata": {},
     "output_type": "display_data"
    },
    {
     "data": {
      "text/html": [
       "<pre style=\"white-space:pre;overflow-x:auto;line-height:normal;font-family:Menlo,'DejaVu Sans Mono',consolas,'Courier New',monospace\">i = <span style=\"color: #008080; text-decoration-color: #008080; font-weight: bold\">55</span> | fname = <span style=\"color: #008000; text-decoration-color: #008000\">'2718937'</span> | county = <span style=\"color: #008000; text-decoration-color: #008000\">'NJ PASSAIC'</span> | batch_name = <span style=\"color: #008000; text-decoration-color: #008000\">'NJ PASSAIC 2024-06-08-0987055'</span>\n",
       "</pre>\n"
      ],
      "text/plain": [
       "i = \u001b[1;36m55\u001b[0m | fname = \u001b[32m'2718937'\u001b[0m | county = \u001b[32m'NJ PASSAIC'\u001b[0m | batch_name = \u001b[32m'NJ PASSAIC 2024-06-08-0987055'\u001b[0m\n"
      ]
     },
     "metadata": {},
     "output_type": "display_data"
    },
    {
     "data": {
      "text/html": [
       "<pre style=\"white-space:pre;overflow-x:auto;line-height:normal;font-family:Menlo,'DejaVu Sans Mono',consolas,'Courier New',monospace\">i = <span style=\"color: #008080; text-decoration-color: #008080; font-weight: bold\">56</span> | fname = <span style=\"color: #008000; text-decoration-color: #008000\">'2718948'</span> | county = <span style=\"color: #008000; text-decoration-color: #008000\">'NJ PASSAIC'</span> | batch_name = <span style=\"color: #008000; text-decoration-color: #008000\">'NJ PASSAIC 2024-06-08-0987056'</span>\n",
       "</pre>\n"
      ],
      "text/plain": [
       "i = \u001b[1;36m56\u001b[0m | fname = \u001b[32m'2718948'\u001b[0m | county = \u001b[32m'NJ PASSAIC'\u001b[0m | batch_name = \u001b[32m'NJ PASSAIC 2024-06-08-0987056'\u001b[0m\n"
      ]
     },
     "metadata": {},
     "output_type": "display_data"
    },
    {
     "data": {
      "text/html": [
       "<pre style=\"white-space:pre;overflow-x:auto;line-height:normal;font-family:Menlo,'DejaVu Sans Mono',consolas,'Courier New',monospace\">i = <span style=\"color: #008080; text-decoration-color: #008080; font-weight: bold\">57</span> | fname = <span style=\"color: #008000; text-decoration-color: #008000\">'2718949'</span> | county = <span style=\"color: #008000; text-decoration-color: #008000\">'NJ PASSAIC'</span> | batch_name = <span style=\"color: #008000; text-decoration-color: #008000\">'NJ PASSAIC 2024-06-08-0987057'</span>\n",
       "</pre>\n"
      ],
      "text/plain": [
       "i = \u001b[1;36m57\u001b[0m | fname = \u001b[32m'2718949'\u001b[0m | county = \u001b[32m'NJ PASSAIC'\u001b[0m | batch_name = \u001b[32m'NJ PASSAIC 2024-06-08-0987057'\u001b[0m\n"
      ]
     },
     "metadata": {},
     "output_type": "display_data"
    },
    {
     "data": {
      "text/html": [
       "<pre style=\"white-space:pre;overflow-x:auto;line-height:normal;font-family:Menlo,'DejaVu Sans Mono',consolas,'Courier New',monospace\">i = <span style=\"color: #008080; text-decoration-color: #008080; font-weight: bold\">58</span> | fname = <span style=\"color: #008000; text-decoration-color: #008000\">'2718951'</span> | county = <span style=\"color: #008000; text-decoration-color: #008000\">'NJ PASSAIC'</span> | batch_name = <span style=\"color: #008000; text-decoration-color: #008000\">'NJ PASSAIC 2024-06-08-0987058'</span>\n",
       "</pre>\n"
      ],
      "text/plain": [
       "i = \u001b[1;36m58\u001b[0m | fname = \u001b[32m'2718951'\u001b[0m | county = \u001b[32m'NJ PASSAIC'\u001b[0m | batch_name = \u001b[32m'NJ PASSAIC 2024-06-08-0987058'\u001b[0m\n"
      ]
     },
     "metadata": {},
     "output_type": "display_data"
    },
    {
     "data": {
      "text/html": [
       "<pre style=\"white-space:pre;overflow-x:auto;line-height:normal;font-family:Menlo,'DejaVu Sans Mono',consolas,'Courier New',monospace\">i = <span style=\"color: #008080; text-decoration-color: #008080; font-weight: bold\">59</span> | fname = <span style=\"color: #008000; text-decoration-color: #008000\">'2718952'</span> | county = <span style=\"color: #008000; text-decoration-color: #008000\">'NJ PASSAIC'</span> | batch_name = <span style=\"color: #008000; text-decoration-color: #008000\">'NJ PASSAIC 2024-06-08-0987059'</span>\n",
       "</pre>\n"
      ],
      "text/plain": [
       "i = \u001b[1;36m59\u001b[0m | fname = \u001b[32m'2718952'\u001b[0m | county = \u001b[32m'NJ PASSAIC'\u001b[0m | batch_name = \u001b[32m'NJ PASSAIC 2024-06-08-0987059'\u001b[0m\n"
      ]
     },
     "metadata": {},
     "output_type": "display_data"
    },
    {
     "data": {
      "text/html": [
       "<pre style=\"white-space:pre;overflow-x:auto;line-height:normal;font-family:Menlo,'DejaVu Sans Mono',consolas,'Courier New',monospace\">i = <span style=\"color: #008080; text-decoration-color: #008080; font-weight: bold\">60</span> | fname = <span style=\"color: #008000; text-decoration-color: #008000\">'2719101'</span> | county = <span style=\"color: #008000; text-decoration-color: #008000\">'NJ SALEM'</span> | batch_name = <span style=\"color: #008000; text-decoration-color: #008000\">'NJ SALEM 2024-06-08-0987060'</span>\n",
       "</pre>\n"
      ],
      "text/plain": [
       "i = \u001b[1;36m60\u001b[0m | fname = \u001b[32m'2719101'\u001b[0m | county = \u001b[32m'NJ SALEM'\u001b[0m | batch_name = \u001b[32m'NJ SALEM 2024-06-08-0987060'\u001b[0m\n"
      ]
     },
     "metadata": {},
     "output_type": "display_data"
    },
    {
     "data": {
      "text/html": [
       "<pre style=\"white-space:pre;overflow-x:auto;line-height:normal;font-family:Menlo,'DejaVu Sans Mono',consolas,'Courier New',monospace\">i = <span style=\"color: #008080; text-decoration-color: #008080; font-weight: bold\">61</span> | fname = <span style=\"color: #008000; text-decoration-color: #008000\">'2719102'</span> | county = <span style=\"color: #008000; text-decoration-color: #008000\">'NJ SALEM'</span> | batch_name = <span style=\"color: #008000; text-decoration-color: #008000\">'NJ SALEM 2024-06-08-0987061'</span>\n",
       "</pre>\n"
      ],
      "text/plain": [
       "i = \u001b[1;36m61\u001b[0m | fname = \u001b[32m'2719102'\u001b[0m | county = \u001b[32m'NJ SALEM'\u001b[0m | batch_name = \u001b[32m'NJ SALEM 2024-06-08-0987061'\u001b[0m\n"
      ]
     },
     "metadata": {},
     "output_type": "display_data"
    },
    {
     "data": {
      "text/html": [
       "<pre style=\"white-space:pre;overflow-x:auto;line-height:normal;font-family:Menlo,'DejaVu Sans Mono',consolas,'Courier New',monospace\">i = <span style=\"color: #008080; text-decoration-color: #008080; font-weight: bold\">62</span> | fname = <span style=\"color: #008000; text-decoration-color: #008000\">'2719104'</span> | county = <span style=\"color: #008000; text-decoration-color: #008000\">'NJ SALEM'</span> | batch_name = <span style=\"color: #008000; text-decoration-color: #008000\">'NJ SALEM 2024-06-08-0987062'</span>\n",
       "</pre>\n"
      ],
      "text/plain": [
       "i = \u001b[1;36m62\u001b[0m | fname = \u001b[32m'2719104'\u001b[0m | county = \u001b[32m'NJ SALEM'\u001b[0m | batch_name = \u001b[32m'NJ SALEM 2024-06-08-0987062'\u001b[0m\n"
      ]
     },
     "metadata": {},
     "output_type": "display_data"
    },
    {
     "data": {
      "text/html": [
       "<pre style=\"white-space:pre;overflow-x:auto;line-height:normal;font-family:Menlo,'DejaVu Sans Mono',consolas,'Courier New',monospace\">i = <span style=\"color: #008080; text-decoration-color: #008080; font-weight: bold\">63</span> | fname = <span style=\"color: #008000; text-decoration-color: #008000\">'2719105'</span> | county = <span style=\"color: #008000; text-decoration-color: #008000\">'NJ SALEM'</span> | batch_name = <span style=\"color: #008000; text-decoration-color: #008000\">'NJ SALEM 2024-06-08-0987063'</span>\n",
       "</pre>\n"
      ],
      "text/plain": [
       "i = \u001b[1;36m63\u001b[0m | fname = \u001b[32m'2719105'\u001b[0m | county = \u001b[32m'NJ SALEM'\u001b[0m | batch_name = \u001b[32m'NJ SALEM 2024-06-08-0987063'\u001b[0m\n"
      ]
     },
     "metadata": {},
     "output_type": "display_data"
    },
    {
     "data": {
      "text/html": [
       "<pre style=\"white-space:pre;overflow-x:auto;line-height:normal;font-family:Menlo,'DejaVu Sans Mono',consolas,'Courier New',monospace\">i = <span style=\"color: #008080; text-decoration-color: #008080; font-weight: bold\">64</span> | fname = <span style=\"color: #008000; text-decoration-color: #008000\">'2719112'</span> | county = <span style=\"color: #008000; text-decoration-color: #008000\">'NJ SALEM'</span> | batch_name = <span style=\"color: #008000; text-decoration-color: #008000\">'NJ SALEM 2024-06-08-0987064'</span>\n",
       "</pre>\n"
      ],
      "text/plain": [
       "i = \u001b[1;36m64\u001b[0m | fname = \u001b[32m'2719112'\u001b[0m | county = \u001b[32m'NJ SALEM'\u001b[0m | batch_name = \u001b[32m'NJ SALEM 2024-06-08-0987064'\u001b[0m\n"
      ]
     },
     "metadata": {},
     "output_type": "display_data"
    },
    {
     "data": {
      "text/html": [
       "<pre style=\"white-space:pre;overflow-x:auto;line-height:normal;font-family:Menlo,'DejaVu Sans Mono',consolas,'Courier New',monospace\">i = <span style=\"color: #008080; text-decoration-color: #008080; font-weight: bold\">65</span> | fname = <span style=\"color: #008000; text-decoration-color: #008000\">'2719118'</span> | county = <span style=\"color: #008000; text-decoration-color: #008000\">'NJ SALEM'</span> | batch_name = <span style=\"color: #008000; text-decoration-color: #008000\">'NJ SALEM 2024-06-08-0987065'</span>\n",
       "</pre>\n"
      ],
      "text/plain": [
       "i = \u001b[1;36m65\u001b[0m | fname = \u001b[32m'2719118'\u001b[0m | county = \u001b[32m'NJ SALEM'\u001b[0m | batch_name = \u001b[32m'NJ SALEM 2024-06-08-0987065'\u001b[0m\n"
      ]
     },
     "metadata": {},
     "output_type": "display_data"
    },
    {
     "data": {
      "text/html": [
       "<pre style=\"white-space:pre;overflow-x:auto;line-height:normal;font-family:Menlo,'DejaVu Sans Mono',consolas,'Courier New',monospace\">i = <span style=\"color: #008080; text-decoration-color: #008080; font-weight: bold\">66</span> | fname = <span style=\"color: #008000; text-decoration-color: #008000\">'2719119'</span> | county = <span style=\"color: #008000; text-decoration-color: #008000\">'NJ SALEM'</span> | batch_name = <span style=\"color: #008000; text-decoration-color: #008000\">'NJ SALEM 2024-06-08-0987066'</span>\n",
       "</pre>\n"
      ],
      "text/plain": [
       "i = \u001b[1;36m66\u001b[0m | fname = \u001b[32m'2719119'\u001b[0m | county = \u001b[32m'NJ SALEM'\u001b[0m | batch_name = \u001b[32m'NJ SALEM 2024-06-08-0987066'\u001b[0m\n"
      ]
     },
     "metadata": {},
     "output_type": "display_data"
    },
    {
     "data": {
      "text/html": [
       "<pre style=\"white-space:pre;overflow-x:auto;line-height:normal;font-family:Menlo,'DejaVu Sans Mono',consolas,'Courier New',monospace\">i = <span style=\"color: #008080; text-decoration-color: #008080; font-weight: bold\">67</span> | fname = <span style=\"color: #008000; text-decoration-color: #008000\">'2719120'</span> | county = <span style=\"color: #008000; text-decoration-color: #008000\">'NJ SALEM'</span> | batch_name = <span style=\"color: #008000; text-decoration-color: #008000\">'NJ SALEM 2024-06-08-0987067'</span>\n",
       "</pre>\n"
      ],
      "text/plain": [
       "i = \u001b[1;36m67\u001b[0m | fname = \u001b[32m'2719120'\u001b[0m | county = \u001b[32m'NJ SALEM'\u001b[0m | batch_name = \u001b[32m'NJ SALEM 2024-06-08-0987067'\u001b[0m\n"
      ]
     },
     "metadata": {},
     "output_type": "display_data"
    },
    {
     "data": {
      "text/html": [
       "<pre style=\"white-space:pre;overflow-x:auto;line-height:normal;font-family:Menlo,'DejaVu Sans Mono',consolas,'Courier New',monospace\">i = <span style=\"color: #008080; text-decoration-color: #008080; font-weight: bold\">68</span> | fname = <span style=\"color: #008000; text-decoration-color: #008000\">'2719124'</span> | county = <span style=\"color: #008000; text-decoration-color: #008000\">'NJ SALEM'</span> | batch_name = <span style=\"color: #008000; text-decoration-color: #008000\">'NJ SALEM 2024-06-08-0987068'</span>\n",
       "</pre>\n"
      ],
      "text/plain": [
       "i = \u001b[1;36m68\u001b[0m | fname = \u001b[32m'2719124'\u001b[0m | county = \u001b[32m'NJ SALEM'\u001b[0m | batch_name = \u001b[32m'NJ SALEM 2024-06-08-0987068'\u001b[0m\n"
      ]
     },
     "metadata": {},
     "output_type": "display_data"
    },
    {
     "data": {
      "text/html": [
       "<pre style=\"white-space:pre;overflow-x:auto;line-height:normal;font-family:Menlo,'DejaVu Sans Mono',consolas,'Courier New',monospace\">i = <span style=\"color: #008080; text-decoration-color: #008080; font-weight: bold\">69</span> | fname = <span style=\"color: #008000; text-decoration-color: #008000\">'2719125'</span> | county = <span style=\"color: #008000; text-decoration-color: #008000\">'NJ SALEM'</span> | batch_name = <span style=\"color: #008000; text-decoration-color: #008000\">'NJ SALEM 2024-06-08-0987069'</span>\n",
       "</pre>\n"
      ],
      "text/plain": [
       "i = \u001b[1;36m69\u001b[0m | fname = \u001b[32m'2719125'\u001b[0m | county = \u001b[32m'NJ SALEM'\u001b[0m | batch_name = \u001b[32m'NJ SALEM 2024-06-08-0987069'\u001b[0m\n"
      ]
     },
     "metadata": {},
     "output_type": "display_data"
    },
    {
     "data": {
      "text/html": [
       "<pre style=\"white-space:pre;overflow-x:auto;line-height:normal;font-family:Menlo,'DejaVu Sans Mono',consolas,'Courier New',monospace\">i = <span style=\"color: #008080; text-decoration-color: #008080; font-weight: bold\">70</span> | fname = <span style=\"color: #008000; text-decoration-color: #008000\">'2719129'</span> | county = <span style=\"color: #008000; text-decoration-color: #008000\">'NJ SALEM'</span> | batch_name = <span style=\"color: #008000; text-decoration-color: #008000\">'NJ SALEM 2024-06-08-0987070'</span>\n",
       "</pre>\n"
      ],
      "text/plain": [
       "i = \u001b[1;36m70\u001b[0m | fname = \u001b[32m'2719129'\u001b[0m | county = \u001b[32m'NJ SALEM'\u001b[0m | batch_name = \u001b[32m'NJ SALEM 2024-06-08-0987070'\u001b[0m\n"
      ]
     },
     "metadata": {},
     "output_type": "display_data"
    },
    {
     "data": {
      "text/html": [
       "<pre style=\"white-space:pre;overflow-x:auto;line-height:normal;font-family:Menlo,'DejaVu Sans Mono',consolas,'Courier New',monospace\">i = <span style=\"color: #008080; text-decoration-color: #008080; font-weight: bold\">71</span> | fname = <span style=\"color: #008000; text-decoration-color: #008000\">'2719130'</span> | county = <span style=\"color: #008000; text-decoration-color: #008000\">'NJ SALEM'</span> | batch_name = <span style=\"color: #008000; text-decoration-color: #008000\">'NJ SALEM 2024-06-08-0987071'</span>\n",
       "</pre>\n"
      ],
      "text/plain": [
       "i = \u001b[1;36m71\u001b[0m | fname = \u001b[32m'2719130'\u001b[0m | county = \u001b[32m'NJ SALEM'\u001b[0m | batch_name = \u001b[32m'NJ SALEM 2024-06-08-0987071'\u001b[0m\n"
      ]
     },
     "metadata": {},
     "output_type": "display_data"
    },
    {
     "data": {
      "text/html": [
       "<pre style=\"white-space:pre;overflow-x:auto;line-height:normal;font-family:Menlo,'DejaVu Sans Mono',consolas,'Courier New',monospace\">i = <span style=\"color: #008080; text-decoration-color: #008080; font-weight: bold\">72</span> | fname = <span style=\"color: #008000; text-decoration-color: #008000\">'2719131'</span> | county = <span style=\"color: #008000; text-decoration-color: #008000\">'NJ SALEM'</span> | batch_name = <span style=\"color: #008000; text-decoration-color: #008000\">'NJ SALEM 2024-06-08-0987072'</span>\n",
       "</pre>\n"
      ],
      "text/plain": [
       "i = \u001b[1;36m72\u001b[0m | fname = \u001b[32m'2719131'\u001b[0m | county = \u001b[32m'NJ SALEM'\u001b[0m | batch_name = \u001b[32m'NJ SALEM 2024-06-08-0987072'\u001b[0m\n"
      ]
     },
     "metadata": {},
     "output_type": "display_data"
    },
    {
     "data": {
      "text/html": [
       "<pre style=\"white-space:pre;overflow-x:auto;line-height:normal;font-family:Menlo,'DejaVu Sans Mono',consolas,'Courier New',monospace\">i = <span style=\"color: #008080; text-decoration-color: #008080; font-weight: bold\">73</span> | fname = <span style=\"color: #008000; text-decoration-color: #008000\">'2719132'</span> | county = <span style=\"color: #008000; text-decoration-color: #008000\">'NJ SALEM'</span> | batch_name = <span style=\"color: #008000; text-decoration-color: #008000\">'NJ SALEM 2024-06-08-0987073'</span>\n",
       "</pre>\n"
      ],
      "text/plain": [
       "i = \u001b[1;36m73\u001b[0m | fname = \u001b[32m'2719132'\u001b[0m | county = \u001b[32m'NJ SALEM'\u001b[0m | batch_name = \u001b[32m'NJ SALEM 2024-06-08-0987073'\u001b[0m\n"
      ]
     },
     "metadata": {},
     "output_type": "display_data"
    },
    {
     "data": {
      "text/html": [
       "<pre style=\"white-space:pre;overflow-x:auto;line-height:normal;font-family:Menlo,'DejaVu Sans Mono',consolas,'Courier New',monospace\">i = <span style=\"color: #008080; text-decoration-color: #008080; font-weight: bold\">74</span> | fname = <span style=\"color: #008000; text-decoration-color: #008000\">'2719133'</span> | county = <span style=\"color: #008000; text-decoration-color: #008000\">'NJ SALEM'</span> | batch_name = <span style=\"color: #008000; text-decoration-color: #008000\">'NJ SALEM 2024-06-08-0987074'</span>\n",
       "</pre>\n"
      ],
      "text/plain": [
       "i = \u001b[1;36m74\u001b[0m | fname = \u001b[32m'2719133'\u001b[0m | county = \u001b[32m'NJ SALEM'\u001b[0m | batch_name = \u001b[32m'NJ SALEM 2024-06-08-0987074'\u001b[0m\n"
      ]
     },
     "metadata": {},
     "output_type": "display_data"
    },
    {
     "data": {
      "text/html": [
       "<pre style=\"white-space:pre;overflow-x:auto;line-height:normal;font-family:Menlo,'DejaVu Sans Mono',consolas,'Courier New',monospace\">i = <span style=\"color: #008080; text-decoration-color: #008080; font-weight: bold\">75</span> | fname = <span style=\"color: #008000; text-decoration-color: #008000\">'2719134'</span> | county = <span style=\"color: #008000; text-decoration-color: #008000\">'NJ SALEM'</span> | batch_name = <span style=\"color: #008000; text-decoration-color: #008000\">'NJ SALEM 2024-06-08-0987075'</span>\n",
       "</pre>\n"
      ],
      "text/plain": [
       "i = \u001b[1;36m75\u001b[0m | fname = \u001b[32m'2719134'\u001b[0m | county = \u001b[32m'NJ SALEM'\u001b[0m | batch_name = \u001b[32m'NJ SALEM 2024-06-08-0987075'\u001b[0m\n"
      ]
     },
     "metadata": {},
     "output_type": "display_data"
    },
    {
     "data": {
      "text/html": [
       "<pre style=\"white-space:pre;overflow-x:auto;line-height:normal;font-family:Menlo,'DejaVu Sans Mono',consolas,'Courier New',monospace\">i = <span style=\"color: #008080; text-decoration-color: #008080; font-weight: bold\">76</span> | fname = <span style=\"color: #008000; text-decoration-color: #008000\">'2719135'</span> | county = <span style=\"color: #008000; text-decoration-color: #008000\">'NJ SALEM'</span> | batch_name = <span style=\"color: #008000; text-decoration-color: #008000\">'NJ SALEM 2024-06-08-0987076'</span>\n",
       "</pre>\n"
      ],
      "text/plain": [
       "i = \u001b[1;36m76\u001b[0m | fname = \u001b[32m'2719135'\u001b[0m | county = \u001b[32m'NJ SALEM'\u001b[0m | batch_name = \u001b[32m'NJ SALEM 2024-06-08-0987076'\u001b[0m\n"
      ]
     },
     "metadata": {},
     "output_type": "display_data"
    },
    {
     "data": {
      "text/html": [
       "<pre style=\"white-space:pre;overflow-x:auto;line-height:normal;font-family:Menlo,'DejaVu Sans Mono',consolas,'Courier New',monospace\">i = <span style=\"color: #008080; text-decoration-color: #008080; font-weight: bold\">77</span> | fname = <span style=\"color: #008000; text-decoration-color: #008000\">'2719137'</span> | county = <span style=\"color: #008000; text-decoration-color: #008000\">'NJ SALEM'</span> | batch_name = <span style=\"color: #008000; text-decoration-color: #008000\">'NJ SALEM 2024-06-08-0987077'</span>\n",
       "</pre>\n"
      ],
      "text/plain": [
       "i = \u001b[1;36m77\u001b[0m | fname = \u001b[32m'2719137'\u001b[0m | county = \u001b[32m'NJ SALEM'\u001b[0m | batch_name = \u001b[32m'NJ SALEM 2024-06-08-0987077'\u001b[0m\n"
      ]
     },
     "metadata": {},
     "output_type": "display_data"
    },
    {
     "data": {
      "text/html": [
       "<pre style=\"white-space:pre;overflow-x:auto;line-height:normal;font-family:Menlo,'DejaVu Sans Mono',consolas,'Courier New',monospace\">i = <span style=\"color: #008080; text-decoration-color: #008080; font-weight: bold\">78</span> | fname = <span style=\"color: #008000; text-decoration-color: #008000\">'2719138'</span> | county = <span style=\"color: #008000; text-decoration-color: #008000\">'NJ SALEM'</span> | batch_name = <span style=\"color: #008000; text-decoration-color: #008000\">'NJ SALEM 2024-06-08-0987078'</span>\n",
       "</pre>\n"
      ],
      "text/plain": [
       "i = \u001b[1;36m78\u001b[0m | fname = \u001b[32m'2719138'\u001b[0m | county = \u001b[32m'NJ SALEM'\u001b[0m | batch_name = \u001b[32m'NJ SALEM 2024-06-08-0987078'\u001b[0m\n"
      ]
     },
     "metadata": {},
     "output_type": "display_data"
    },
    {
     "data": {
      "text/html": [
       "<pre style=\"white-space:pre;overflow-x:auto;line-height:normal;font-family:Menlo,'DejaVu Sans Mono',consolas,'Courier New',monospace\">i = <span style=\"color: #008080; text-decoration-color: #008080; font-weight: bold\">79</span> | fname = <span style=\"color: #008000; text-decoration-color: #008000\">'2719157'</span> | county = <span style=\"color: #008000; text-decoration-color: #008000\">'NJ SALEM'</span> | batch_name = <span style=\"color: #008000; text-decoration-color: #008000\">'NJ SALEM 2024-06-08-0987079'</span>\n",
       "</pre>\n"
      ],
      "text/plain": [
       "i = \u001b[1;36m79\u001b[0m | fname = \u001b[32m'2719157'\u001b[0m | county = \u001b[32m'NJ SALEM'\u001b[0m | batch_name = \u001b[32m'NJ SALEM 2024-06-08-0987079'\u001b[0m\n"
      ]
     },
     "metadata": {},
     "output_type": "display_data"
    },
    {
     "data": {
      "text/html": [
       "<pre style=\"white-space:pre;overflow-x:auto;line-height:normal;font-family:Menlo,'DejaVu Sans Mono',consolas,'Courier New',monospace\">i = <span style=\"color: #008080; text-decoration-color: #008080; font-weight: bold\">80</span> | fname = <span style=\"color: #008000; text-decoration-color: #008000\">'2719351'</span> | county = <span style=\"color: #008000; text-decoration-color: #008000\">'NJ BURLINGTON'</span> | batch_name = <span style=\"color: #008000; text-decoration-color: #008000\">'NJ BURLINGTON 2024-06-08-0987080'</span>\n",
       "</pre>\n"
      ],
      "text/plain": [
       "i = \u001b[1;36m80\u001b[0m | fname = \u001b[32m'2719351'\u001b[0m | county = \u001b[32m'NJ BURLINGTON'\u001b[0m | batch_name = \u001b[32m'NJ BURLINGTON 2024-06-08-0987080'\u001b[0m\n"
      ]
     },
     "metadata": {},
     "output_type": "display_data"
    },
    {
     "data": {
      "text/html": [
       "<pre style=\"white-space:pre;overflow-x:auto;line-height:normal;font-family:Menlo,'DejaVu Sans Mono',consolas,'Courier New',monospace\">i = <span style=\"color: #008080; text-decoration-color: #008080; font-weight: bold\">81</span> | fname = <span style=\"color: #008000; text-decoration-color: #008000\">'2719353'</span> | county = <span style=\"color: #008000; text-decoration-color: #008000\">'NJ BURLINGTON'</span> | batch_name = <span style=\"color: #008000; text-decoration-color: #008000\">'NJ BURLINGTON 2024-06-08-0987081'</span>\n",
       "</pre>\n"
      ],
      "text/plain": [
       "i = \u001b[1;36m81\u001b[0m | fname = \u001b[32m'2719353'\u001b[0m | county = \u001b[32m'NJ BURLINGTON'\u001b[0m | batch_name = \u001b[32m'NJ BURLINGTON 2024-06-08-0987081'\u001b[0m\n"
      ]
     },
     "metadata": {},
     "output_type": "display_data"
    },
    {
     "data": {
      "text/html": [
       "<pre style=\"white-space:pre;overflow-x:auto;line-height:normal;font-family:Menlo,'DejaVu Sans Mono',consolas,'Courier New',monospace\">i = <span style=\"color: #008080; text-decoration-color: #008080; font-weight: bold\">82</span> | fname = <span style=\"color: #008000; text-decoration-color: #008000\">'2719408'</span> | county = <span style=\"color: #008000; text-decoration-color: #008000\">'NJ BURLINGTON'</span> | batch_name = <span style=\"color: #008000; text-decoration-color: #008000\">'NJ BURLINGTON 2024-06-08-0987082'</span>\n",
       "</pre>\n"
      ],
      "text/plain": [
       "i = \u001b[1;36m82\u001b[0m | fname = \u001b[32m'2719408'\u001b[0m | county = \u001b[32m'NJ BURLINGTON'\u001b[0m | batch_name = \u001b[32m'NJ BURLINGTON 2024-06-08-0987082'\u001b[0m\n"
      ]
     },
     "metadata": {},
     "output_type": "display_data"
    },
    {
     "data": {
      "text/html": [
       "<pre style=\"white-space:pre;overflow-x:auto;line-height:normal;font-family:Menlo,'DejaVu Sans Mono',consolas,'Courier New',monospace\">i = <span style=\"color: #008080; text-decoration-color: #008080; font-weight: bold\">83</span> | fname = <span style=\"color: #008000; text-decoration-color: #008000\">'2719418'</span> | county = <span style=\"color: #008000; text-decoration-color: #008000\">'NJ BURLINGTON'</span> | batch_name = <span style=\"color: #008000; text-decoration-color: #008000\">'NJ BURLINGTON 2024-06-08-0987083'</span>\n",
       "</pre>\n"
      ],
      "text/plain": [
       "i = \u001b[1;36m83\u001b[0m | fname = \u001b[32m'2719418'\u001b[0m | county = \u001b[32m'NJ BURLINGTON'\u001b[0m | batch_name = \u001b[32m'NJ BURLINGTON 2024-06-08-0987083'\u001b[0m\n"
      ]
     },
     "metadata": {},
     "output_type": "display_data"
    },
    {
     "data": {
      "text/html": [
       "<pre style=\"white-space:pre;overflow-x:auto;line-height:normal;font-family:Menlo,'DejaVu Sans Mono',consolas,'Courier New',monospace\">i = <span style=\"color: #008080; text-decoration-color: #008080; font-weight: bold\">84</span> | fname = <span style=\"color: #008000; text-decoration-color: #008000\">'2719420'</span> | county = <span style=\"color: #008000; text-decoration-color: #008000\">'NJ BURLINGTON'</span> | batch_name = <span style=\"color: #008000; text-decoration-color: #008000\">'NJ BURLINGTON 2024-06-08-0987084'</span>\n",
       "</pre>\n"
      ],
      "text/plain": [
       "i = \u001b[1;36m84\u001b[0m | fname = \u001b[32m'2719420'\u001b[0m | county = \u001b[32m'NJ BURLINGTON'\u001b[0m | batch_name = \u001b[32m'NJ BURLINGTON 2024-06-08-0987084'\u001b[0m\n"
      ]
     },
     "metadata": {},
     "output_type": "display_data"
    },
    {
     "data": {
      "text/html": [
       "<pre style=\"white-space:pre;overflow-x:auto;line-height:normal;font-family:Menlo,'DejaVu Sans Mono',consolas,'Courier New',monospace\">i = <span style=\"color: #008080; text-decoration-color: #008080; font-weight: bold\">85</span> | fname = <span style=\"color: #008000; text-decoration-color: #008000\">'2719424'</span> | county = <span style=\"color: #008000; text-decoration-color: #008000\">'NJ BURLINGTON'</span> | batch_name = <span style=\"color: #008000; text-decoration-color: #008000\">'NJ BURLINGTON 2024-06-08-0987085'</span>\n",
       "</pre>\n"
      ],
      "text/plain": [
       "i = \u001b[1;36m85\u001b[0m | fname = \u001b[32m'2719424'\u001b[0m | county = \u001b[32m'NJ BURLINGTON'\u001b[0m | batch_name = \u001b[32m'NJ BURLINGTON 2024-06-08-0987085'\u001b[0m\n"
      ]
     },
     "metadata": {},
     "output_type": "display_data"
    },
    {
     "data": {
      "text/html": [
       "<pre style=\"white-space:pre;overflow-x:auto;line-height:normal;font-family:Menlo,'DejaVu Sans Mono',consolas,'Courier New',monospace\">i = <span style=\"color: #008080; text-decoration-color: #008080; font-weight: bold\">86</span> | fname = <span style=\"color: #008000; text-decoration-color: #008000\">'2719430'</span> | county = <span style=\"color: #008000; text-decoration-color: #008000\">'NJ BURLINGTON'</span> | batch_name = <span style=\"color: #008000; text-decoration-color: #008000\">'NJ BURLINGTON 2024-06-08-0987086'</span>\n",
       "</pre>\n"
      ],
      "text/plain": [
       "i = \u001b[1;36m86\u001b[0m | fname = \u001b[32m'2719430'\u001b[0m | county = \u001b[32m'NJ BURLINGTON'\u001b[0m | batch_name = \u001b[32m'NJ BURLINGTON 2024-06-08-0987086'\u001b[0m\n"
      ]
     },
     "metadata": {},
     "output_type": "display_data"
    },
    {
     "data": {
      "text/html": [
       "<pre style=\"white-space:pre;overflow-x:auto;line-height:normal;font-family:Menlo,'DejaVu Sans Mono',consolas,'Courier New',monospace\">i = <span style=\"color: #008080; text-decoration-color: #008080; font-weight: bold\">87</span> | fname = <span style=\"color: #008000; text-decoration-color: #008000\">'2719431'</span> | county = <span style=\"color: #008000; text-decoration-color: #008000\">'NJ BURLINGTON'</span> | batch_name = <span style=\"color: #008000; text-decoration-color: #008000\">'NJ BURLINGTON 2024-06-08-0987087'</span>\n",
       "</pre>\n"
      ],
      "text/plain": [
       "i = \u001b[1;36m87\u001b[0m | fname = \u001b[32m'2719431'\u001b[0m | county = \u001b[32m'NJ BURLINGTON'\u001b[0m | batch_name = \u001b[32m'NJ BURLINGTON 2024-06-08-0987087'\u001b[0m\n"
      ]
     },
     "metadata": {},
     "output_type": "display_data"
    },
    {
     "data": {
      "text/html": [
       "<pre style=\"white-space:pre;overflow-x:auto;line-height:normal;font-family:Menlo,'DejaVu Sans Mono',consolas,'Courier New',monospace\">i = <span style=\"color: #008080; text-decoration-color: #008080; font-weight: bold\">88</span> | fname = <span style=\"color: #008000; text-decoration-color: #008000\">'2719453'</span> | county = <span style=\"color: #008000; text-decoration-color: #008000\">'NJ BURLINGTON'</span> | batch_name = <span style=\"color: #008000; text-decoration-color: #008000\">'NJ BURLINGTON 2024-06-08-0987088'</span>\n",
       "</pre>\n"
      ],
      "text/plain": [
       "i = \u001b[1;36m88\u001b[0m | fname = \u001b[32m'2719453'\u001b[0m | county = \u001b[32m'NJ BURLINGTON'\u001b[0m | batch_name = \u001b[32m'NJ BURLINGTON 2024-06-08-0987088'\u001b[0m\n"
      ]
     },
     "metadata": {},
     "output_type": "display_data"
    },
    {
     "data": {
      "text/html": [
       "<pre style=\"white-space:pre;overflow-x:auto;line-height:normal;font-family:Menlo,'DejaVu Sans Mono',consolas,'Courier New',monospace\">i = <span style=\"color: #008080; text-decoration-color: #008080; font-weight: bold\">89</span> | fname = <span style=\"color: #008000; text-decoration-color: #008000\">'2719480'</span> | county = <span style=\"color: #008000; text-decoration-color: #008000\">'NJ BURLINGTON'</span> | batch_name = <span style=\"color: #008000; text-decoration-color: #008000\">'NJ BURLINGTON 2024-06-08-0987089'</span>\n",
       "</pre>\n"
      ],
      "text/plain": [
       "i = \u001b[1;36m89\u001b[0m | fname = \u001b[32m'2719480'\u001b[0m | county = \u001b[32m'NJ BURLINGTON'\u001b[0m | batch_name = \u001b[32m'NJ BURLINGTON 2024-06-08-0987089'\u001b[0m\n"
      ]
     },
     "metadata": {},
     "output_type": "display_data"
    },
    {
     "data": {
      "text/html": [
       "<pre style=\"white-space:pre;overflow-x:auto;line-height:normal;font-family:Menlo,'DejaVu Sans Mono',consolas,'Courier New',monospace\">i = <span style=\"color: #008080; text-decoration-color: #008080; font-weight: bold\">90</span> | fname = <span style=\"color: #008000; text-decoration-color: #008000\">'2719484'</span> | county = <span style=\"color: #008000; text-decoration-color: #008000\">'NJ BURLINGTON'</span> | batch_name = <span style=\"color: #008000; text-decoration-color: #008000\">'NJ BURLINGTON 2024-06-08-0987090'</span>\n",
       "</pre>\n"
      ],
      "text/plain": [
       "i = \u001b[1;36m90\u001b[0m | fname = \u001b[32m'2719484'\u001b[0m | county = \u001b[32m'NJ BURLINGTON'\u001b[0m | batch_name = \u001b[32m'NJ BURLINGTON 2024-06-08-0987090'\u001b[0m\n"
      ]
     },
     "metadata": {},
     "output_type": "display_data"
    },
    {
     "data": {
      "text/html": [
       "<pre style=\"white-space:pre;overflow-x:auto;line-height:normal;font-family:Menlo,'DejaVu Sans Mono',consolas,'Courier New',monospace\">i = <span style=\"color: #008080; text-decoration-color: #008080; font-weight: bold\">91</span> | fname = <span style=\"color: #008000; text-decoration-color: #008000\">'2719494'</span> | county = <span style=\"color: #008000; text-decoration-color: #008000\">'NJ BURLINGTON'</span> | batch_name = <span style=\"color: #008000; text-decoration-color: #008000\">'NJ BURLINGTON 2024-06-08-0987091'</span>\n",
       "</pre>\n"
      ],
      "text/plain": [
       "i = \u001b[1;36m91\u001b[0m | fname = \u001b[32m'2719494'\u001b[0m | county = \u001b[32m'NJ BURLINGTON'\u001b[0m | batch_name = \u001b[32m'NJ BURLINGTON 2024-06-08-0987091'\u001b[0m\n"
      ]
     },
     "metadata": {},
     "output_type": "display_data"
    },
    {
     "data": {
      "text/html": [
       "<pre style=\"white-space:pre;overflow-x:auto;line-height:normal;font-family:Menlo,'DejaVu Sans Mono',consolas,'Courier New',monospace\">i = <span style=\"color: #008080; text-decoration-color: #008080; font-weight: bold\">92</span> | fname = <span style=\"color: #008000; text-decoration-color: #008000\">'2719496'</span> | county = <span style=\"color: #008000; text-decoration-color: #008000\">'NJ CUMBERLAND'</span> | batch_name = <span style=\"color: #008000; text-decoration-color: #008000\">'NJ CUMBERLAND 2024-06-08-0987092'</span>\n",
       "</pre>\n"
      ],
      "text/plain": [
       "i = \u001b[1;36m92\u001b[0m | fname = \u001b[32m'2719496'\u001b[0m | county = \u001b[32m'NJ CUMBERLAND'\u001b[0m | batch_name = \u001b[32m'NJ CUMBERLAND 2024-06-08-0987092'\u001b[0m\n"
      ]
     },
     "metadata": {},
     "output_type": "display_data"
    },
    {
     "data": {
      "text/html": [
       "<pre style=\"white-space:pre;overflow-x:auto;line-height:normal;font-family:Menlo,'DejaVu Sans Mono',consolas,'Courier New',monospace\">i = <span style=\"color: #008080; text-decoration-color: #008080; font-weight: bold\">93</span> | fname = <span style=\"color: #008000; text-decoration-color: #008000\">'2719497'</span> | county = <span style=\"color: #008000; text-decoration-color: #008000\">'NJ CUMBERLAND'</span> | batch_name = <span style=\"color: #008000; text-decoration-color: #008000\">'NJ CUMBERLAND 2024-06-08-0987093'</span>\n",
       "</pre>\n"
      ],
      "text/plain": [
       "i = \u001b[1;36m93\u001b[0m | fname = \u001b[32m'2719497'\u001b[0m | county = \u001b[32m'NJ CUMBERLAND'\u001b[0m | batch_name = \u001b[32m'NJ CUMBERLAND 2024-06-08-0987093'\u001b[0m\n"
      ]
     },
     "metadata": {},
     "output_type": "display_data"
    },
    {
     "data": {
      "text/html": [
       "<pre style=\"white-space:pre;overflow-x:auto;line-height:normal;font-family:Menlo,'DejaVu Sans Mono',consolas,'Courier New',monospace\">i = <span style=\"color: #008080; text-decoration-color: #008080; font-weight: bold\">94</span> | fname = <span style=\"color: #008000; text-decoration-color: #008000\">'2719498'</span> | county = <span style=\"color: #008000; text-decoration-color: #008000\">'NJ CUMBERLAND'</span> | batch_name = <span style=\"color: #008000; text-decoration-color: #008000\">'NJ CUMBERLAND 2024-06-08-0987094'</span>\n",
       "</pre>\n"
      ],
      "text/plain": [
       "i = \u001b[1;36m94\u001b[0m | fname = \u001b[32m'2719498'\u001b[0m | county = \u001b[32m'NJ CUMBERLAND'\u001b[0m | batch_name = \u001b[32m'NJ CUMBERLAND 2024-06-08-0987094'\u001b[0m\n"
      ]
     },
     "metadata": {},
     "output_type": "display_data"
    },
    {
     "data": {
      "text/html": [
       "<pre style=\"white-space:pre;overflow-x:auto;line-height:normal;font-family:Menlo,'DejaVu Sans Mono',consolas,'Courier New',monospace\">i = <span style=\"color: #008080; text-decoration-color: #008080; font-weight: bold\">95</span> | fname = <span style=\"color: #008000; text-decoration-color: #008000\">'2719532'</span> | county = <span style=\"color: #008000; text-decoration-color: #008000\">'NJ CUMBERLAND'</span> | batch_name = <span style=\"color: #008000; text-decoration-color: #008000\">'NJ CUMBERLAND 2024-06-08-0987095'</span>\n",
       "</pre>\n"
      ],
      "text/plain": [
       "i = \u001b[1;36m95\u001b[0m | fname = \u001b[32m'2719532'\u001b[0m | county = \u001b[32m'NJ CUMBERLAND'\u001b[0m | batch_name = \u001b[32m'NJ CUMBERLAND 2024-06-08-0987095'\u001b[0m\n"
      ]
     },
     "metadata": {},
     "output_type": "display_data"
    },
    {
     "data": {
      "text/html": [
       "<pre style=\"white-space:pre;overflow-x:auto;line-height:normal;font-family:Menlo,'DejaVu Sans Mono',consolas,'Courier New',monospace\">i = <span style=\"color: #008080; text-decoration-color: #008080; font-weight: bold\">96</span> | fname = <span style=\"color: #008000; text-decoration-color: #008000\">'2719535'</span> | county = <span style=\"color: #008000; text-decoration-color: #008000\">'NJ CUMBERLAND'</span> | batch_name = <span style=\"color: #008000; text-decoration-color: #008000\">'NJ CUMBERLAND 2024-06-08-0987096'</span>\n",
       "</pre>\n"
      ],
      "text/plain": [
       "i = \u001b[1;36m96\u001b[0m | fname = \u001b[32m'2719535'\u001b[0m | county = \u001b[32m'NJ CUMBERLAND'\u001b[0m | batch_name = \u001b[32m'NJ CUMBERLAND 2024-06-08-0987096'\u001b[0m\n"
      ]
     },
     "metadata": {},
     "output_type": "display_data"
    },
    {
     "data": {
      "text/html": [
       "<pre style=\"white-space:pre;overflow-x:auto;line-height:normal;font-family:Menlo,'DejaVu Sans Mono',consolas,'Courier New',monospace\">i = <span style=\"color: #008080; text-decoration-color: #008080; font-weight: bold\">97</span> | fname = <span style=\"color: #008000; text-decoration-color: #008000\">'2719541'</span> | county = <span style=\"color: #008000; text-decoration-color: #008000\">'NJ MERCER'</span> | batch_name = <span style=\"color: #008000; text-decoration-color: #008000\">'NJ MERCER 2024-06-08-0987097'</span>\n",
       "</pre>\n"
      ],
      "text/plain": [
       "i = \u001b[1;36m97\u001b[0m | fname = \u001b[32m'2719541'\u001b[0m | county = \u001b[32m'NJ MERCER'\u001b[0m | batch_name = \u001b[32m'NJ MERCER 2024-06-08-0987097'\u001b[0m\n"
      ]
     },
     "metadata": {},
     "output_type": "display_data"
    },
    {
     "data": {
      "text/html": [
       "<pre style=\"white-space:pre;overflow-x:auto;line-height:normal;font-family:Menlo,'DejaVu Sans Mono',consolas,'Courier New',monospace\">i = <span style=\"color: #008080; text-decoration-color: #008080; font-weight: bold\">98</span> | fname = <span style=\"color: #008000; text-decoration-color: #008000\">'2719542'</span> | county = <span style=\"color: #008000; text-decoration-color: #008000\">'NJ MERCER'</span> | batch_name = <span style=\"color: #008000; text-decoration-color: #008000\">'NJ MERCER 2024-06-08-0987098'</span>\n",
       "</pre>\n"
      ],
      "text/plain": [
       "i = \u001b[1;36m98\u001b[0m | fname = \u001b[32m'2719542'\u001b[0m | county = \u001b[32m'NJ MERCER'\u001b[0m | batch_name = \u001b[32m'NJ MERCER 2024-06-08-0987098'\u001b[0m\n"
      ]
     },
     "metadata": {},
     "output_type": "display_data"
    },
    {
     "data": {
      "text/html": [
       "<pre style=\"white-space:pre;overflow-x:auto;line-height:normal;font-family:Menlo,'DejaVu Sans Mono',consolas,'Courier New',monospace\">i = <span style=\"color: #008080; text-decoration-color: #008080; font-weight: bold\">99</span> | fname = <span style=\"color: #008000; text-decoration-color: #008000\">'2719543'</span> | county = <span style=\"color: #008000; text-decoration-color: #008000\">'NJ MERCER'</span> | batch_name = <span style=\"color: #008000; text-decoration-color: #008000\">'NJ MERCER 2024-06-08-0987099'</span>\n",
       "</pre>\n"
      ],
      "text/plain": [
       "i = \u001b[1;36m99\u001b[0m | fname = \u001b[32m'2719543'\u001b[0m | county = \u001b[32m'NJ MERCER'\u001b[0m | batch_name = \u001b[32m'NJ MERCER 2024-06-08-0987099'\u001b[0m\n"
      ]
     },
     "metadata": {},
     "output_type": "display_data"
    },
    {
     "data": {
      "text/html": [
       "<pre style=\"white-space:pre;overflow-x:auto;line-height:normal;font-family:Menlo,'DejaVu Sans Mono',consolas,'Courier New',monospace\">i = <span style=\"color: #008080; text-decoration-color: #008080; font-weight: bold\">100</span> | fname = <span style=\"color: #008000; text-decoration-color: #008000\">'2719548'</span> | county = <span style=\"color: #008000; text-decoration-color: #008000\">'NJ MERCER'</span> | batch_name = <span style=\"color: #008000; text-decoration-color: #008000\">'NJ MERCER 2024-06-08-0987100'</span>\n",
       "</pre>\n"
      ],
      "text/plain": [
       "i = \u001b[1;36m100\u001b[0m | fname = \u001b[32m'2719548'\u001b[0m | county = \u001b[32m'NJ MERCER'\u001b[0m | batch_name = \u001b[32m'NJ MERCER 2024-06-08-0987100'\u001b[0m\n"
      ]
     },
     "metadata": {},
     "output_type": "display_data"
    },
    {
     "data": {
      "text/html": [
       "<pre style=\"white-space:pre;overflow-x:auto;line-height:normal;font-family:Menlo,'DejaVu Sans Mono',consolas,'Courier New',monospace\">i = <span style=\"color: #008080; text-decoration-color: #008080; font-weight: bold\">101</span> | fname = <span style=\"color: #008000; text-decoration-color: #008000\">'2719549'</span> | county = <span style=\"color: #008000; text-decoration-color: #008000\">'NJ MERCER'</span> | batch_name = <span style=\"color: #008000; text-decoration-color: #008000\">'NJ MERCER 2024-06-08-0987101'</span>\n",
       "</pre>\n"
      ],
      "text/plain": [
       "i = \u001b[1;36m101\u001b[0m | fname = \u001b[32m'2719549'\u001b[0m | county = \u001b[32m'NJ MERCER'\u001b[0m | batch_name = \u001b[32m'NJ MERCER 2024-06-08-0987101'\u001b[0m\n"
      ]
     },
     "metadata": {},
     "output_type": "display_data"
    },
    {
     "data": {
      "text/html": [
       "<pre style=\"white-space:pre;overflow-x:auto;line-height:normal;font-family:Menlo,'DejaVu Sans Mono',consolas,'Courier New',monospace\">i = <span style=\"color: #008080; text-decoration-color: #008080; font-weight: bold\">102</span> | fname = <span style=\"color: #008000; text-decoration-color: #008000\">'2719550'</span> | county = <span style=\"color: #008000; text-decoration-color: #008000\">'NJ MERCER'</span> | batch_name = <span style=\"color: #008000; text-decoration-color: #008000\">'NJ MERCER 2024-06-08-0987102'</span>\n",
       "</pre>\n"
      ],
      "text/plain": [
       "i = \u001b[1;36m102\u001b[0m | fname = \u001b[32m'2719550'\u001b[0m | county = \u001b[32m'NJ MERCER'\u001b[0m | batch_name = \u001b[32m'NJ MERCER 2024-06-08-0987102'\u001b[0m\n"
      ]
     },
     "metadata": {},
     "output_type": "display_data"
    },
    {
     "data": {
      "text/html": [
       "<pre style=\"white-space:pre;overflow-x:auto;line-height:normal;font-family:Menlo,'DejaVu Sans Mono',consolas,'Courier New',monospace\">i = <span style=\"color: #008080; text-decoration-color: #008080; font-weight: bold\">103</span> | fname = <span style=\"color: #008000; text-decoration-color: #008000\">'2719552'</span> | county = <span style=\"color: #008000; text-decoration-color: #008000\">'NJ MERCER'</span> | batch_name = <span style=\"color: #008000; text-decoration-color: #008000\">'NJ MERCER 2024-06-08-0987103'</span>\n",
       "</pre>\n"
      ],
      "text/plain": [
       "i = \u001b[1;36m103\u001b[0m | fname = \u001b[32m'2719552'\u001b[0m | county = \u001b[32m'NJ MERCER'\u001b[0m | batch_name = \u001b[32m'NJ MERCER 2024-06-08-0987103'\u001b[0m\n"
      ]
     },
     "metadata": {},
     "output_type": "display_data"
    },
    {
     "data": {
      "text/html": [
       "<pre style=\"white-space:pre;overflow-x:auto;line-height:normal;font-family:Menlo,'DejaVu Sans Mono',consolas,'Courier New',monospace\">i = <span style=\"color: #008080; text-decoration-color: #008080; font-weight: bold\">104</span> | fname = <span style=\"color: #008000; text-decoration-color: #008000\">'2719559'</span> | county = <span style=\"color: #008000; text-decoration-color: #008000\">'NJ MERCER'</span> | batch_name = <span style=\"color: #008000; text-decoration-color: #008000\">'NJ MERCER 2024-06-08-0987104'</span>\n",
       "</pre>\n"
      ],
      "text/plain": [
       "i = \u001b[1;36m104\u001b[0m | fname = \u001b[32m'2719559'\u001b[0m | county = \u001b[32m'NJ MERCER'\u001b[0m | batch_name = \u001b[32m'NJ MERCER 2024-06-08-0987104'\u001b[0m\n"
      ]
     },
     "metadata": {},
     "output_type": "display_data"
    },
    {
     "data": {
      "text/html": [
       "<pre style=\"white-space:pre;overflow-x:auto;line-height:normal;font-family:Menlo,'DejaVu Sans Mono',consolas,'Courier New',monospace\">i = <span style=\"color: #008080; text-decoration-color: #008080; font-weight: bold\">105</span> | fname = <span style=\"color: #008000; text-decoration-color: #008000\">'2719580'</span> | county = <span style=\"color: #008000; text-decoration-color: #008000\">'NJ MERCER'</span> | batch_name = <span style=\"color: #008000; text-decoration-color: #008000\">'NJ MERCER 2024-06-08-0987105'</span>\n",
       "</pre>\n"
      ],
      "text/plain": [
       "i = \u001b[1;36m105\u001b[0m | fname = \u001b[32m'2719580'\u001b[0m | county = \u001b[32m'NJ MERCER'\u001b[0m | batch_name = \u001b[32m'NJ MERCER 2024-06-08-0987105'\u001b[0m\n"
      ]
     },
     "metadata": {},
     "output_type": "display_data"
    },
    {
     "data": {
      "text/html": [
       "<pre style=\"white-space:pre;overflow-x:auto;line-height:normal;font-family:Menlo,'DejaVu Sans Mono',consolas,'Courier New',monospace\">i = <span style=\"color: #008080; text-decoration-color: #008080; font-weight: bold\">106</span> | fname = <span style=\"color: #008000; text-decoration-color: #008000\">'2719581'</span> | county = <span style=\"color: #008000; text-decoration-color: #008000\">'NJ MERCER'</span> | batch_name = <span style=\"color: #008000; text-decoration-color: #008000\">'NJ MERCER 2024-06-08-0987106'</span>\n",
       "</pre>\n"
      ],
      "text/plain": [
       "i = \u001b[1;36m106\u001b[0m | fname = \u001b[32m'2719581'\u001b[0m | county = \u001b[32m'NJ MERCER'\u001b[0m | batch_name = \u001b[32m'NJ MERCER 2024-06-08-0987106'\u001b[0m\n"
      ]
     },
     "metadata": {},
     "output_type": "display_data"
    },
    {
     "data": {
      "text/html": [
       "<pre style=\"white-space:pre;overflow-x:auto;line-height:normal;font-family:Menlo,'DejaVu Sans Mono',consolas,'Courier New',monospace\">i = <span style=\"color: #008080; text-decoration-color: #008080; font-weight: bold\">107</span> | fname = <span style=\"color: #008000; text-decoration-color: #008000\">'2719615'</span> | county = <span style=\"color: #008000; text-decoration-color: #008000\">'NJ MERCER'</span> | batch_name = <span style=\"color: #008000; text-decoration-color: #008000\">'NJ MERCER 2024-06-08-0987107'</span>\n",
       "</pre>\n"
      ],
      "text/plain": [
       "i = \u001b[1;36m107\u001b[0m | fname = \u001b[32m'2719615'\u001b[0m | county = \u001b[32m'NJ MERCER'\u001b[0m | batch_name = \u001b[32m'NJ MERCER 2024-06-08-0987107'\u001b[0m\n"
      ]
     },
     "metadata": {},
     "output_type": "display_data"
    },
    {
     "data": {
      "text/html": [
       "<pre style=\"white-space:pre;overflow-x:auto;line-height:normal;font-family:Menlo,'DejaVu Sans Mono',consolas,'Courier New',monospace\">i = <span style=\"color: #008080; text-decoration-color: #008080; font-weight: bold\">108</span> | fname = <span style=\"color: #008000; text-decoration-color: #008000\">'2719639'</span> | county = <span style=\"color: #008000; text-decoration-color: #008000\">'NJ MERCER'</span> | batch_name = <span style=\"color: #008000; text-decoration-color: #008000\">'NJ MERCER 2024-06-08-0987108'</span>\n",
       "</pre>\n"
      ],
      "text/plain": [
       "i = \u001b[1;36m108\u001b[0m | fname = \u001b[32m'2719639'\u001b[0m | county = \u001b[32m'NJ MERCER'\u001b[0m | batch_name = \u001b[32m'NJ MERCER 2024-06-08-0987108'\u001b[0m\n"
      ]
     },
     "metadata": {},
     "output_type": "display_data"
    },
    {
     "data": {
      "text/html": [
       "<pre style=\"white-space:pre;overflow-x:auto;line-height:normal;font-family:Menlo,'DejaVu Sans Mono',consolas,'Courier New',monospace\">i = <span style=\"color: #008080; text-decoration-color: #008080; font-weight: bold\">109</span> | fname = <span style=\"color: #008000; text-decoration-color: #008000\">'2719640'</span> | county = <span style=\"color: #008000; text-decoration-color: #008000\">'NJ MERCER'</span> | batch_name = <span style=\"color: #008000; text-decoration-color: #008000\">'NJ MERCER 2024-06-08-0987109'</span>\n",
       "</pre>\n"
      ],
      "text/plain": [
       "i = \u001b[1;36m109\u001b[0m | fname = \u001b[32m'2719640'\u001b[0m | county = \u001b[32m'NJ MERCER'\u001b[0m | batch_name = \u001b[32m'NJ MERCER 2024-06-08-0987109'\u001b[0m\n"
      ]
     },
     "metadata": {},
     "output_type": "display_data"
    },
    {
     "data": {
      "text/html": [
       "<pre style=\"white-space:pre;overflow-x:auto;line-height:normal;font-family:Menlo,'DejaVu Sans Mono',consolas,'Courier New',monospace\">i = <span style=\"color: #008080; text-decoration-color: #008080; font-weight: bold\">110</span> | fname = <span style=\"color: #008000; text-decoration-color: #008000\">'2719701'</span> | county = <span style=\"color: #008000; text-decoration-color: #008000\">'NJ MERCER'</span> | batch_name = <span style=\"color: #008000; text-decoration-color: #008000\">'NJ MERCER 2024-06-08-0987110'</span>\n",
       "</pre>\n"
      ],
      "text/plain": [
       "i = \u001b[1;36m110\u001b[0m | fname = \u001b[32m'2719701'\u001b[0m | county = \u001b[32m'NJ MERCER'\u001b[0m | batch_name = \u001b[32m'NJ MERCER 2024-06-08-0987110'\u001b[0m\n"
      ]
     },
     "metadata": {},
     "output_type": "display_data"
    },
    {
     "data": {
      "text/html": [
       "<pre style=\"white-space:pre;overflow-x:auto;line-height:normal;font-family:Menlo,'DejaVu Sans Mono',consolas,'Courier New',monospace\">i = <span style=\"color: #008080; text-decoration-color: #008080; font-weight: bold\">111</span> | fname = <span style=\"color: #008000; text-decoration-color: #008000\">'2719705'</span> | county = <span style=\"color: #008000; text-decoration-color: #008000\">'NJ MERCER'</span> | batch_name = <span style=\"color: #008000; text-decoration-color: #008000\">'NJ MERCER 2024-06-08-0987111'</span>\n",
       "</pre>\n"
      ],
      "text/plain": [
       "i = \u001b[1;36m111\u001b[0m | fname = \u001b[32m'2719705'\u001b[0m | county = \u001b[32m'NJ MERCER'\u001b[0m | batch_name = \u001b[32m'NJ MERCER 2024-06-08-0987111'\u001b[0m\n"
      ]
     },
     "metadata": {},
     "output_type": "display_data"
    },
    {
     "data": {
      "text/html": [
       "<pre style=\"white-space:pre;overflow-x:auto;line-height:normal;font-family:Menlo,'DejaVu Sans Mono',consolas,'Courier New',monospace\">i = <span style=\"color: #008080; text-decoration-color: #008080; font-weight: bold\">112</span> | fname = <span style=\"color: #008000; text-decoration-color: #008000\">'2719708'</span> | county = <span style=\"color: #008000; text-decoration-color: #008000\">'NJ MERCER'</span> | batch_name = <span style=\"color: #008000; text-decoration-color: #008000\">'NJ MERCER 2024-06-08-0987112'</span>\n",
       "</pre>\n"
      ],
      "text/plain": [
       "i = \u001b[1;36m112\u001b[0m | fname = \u001b[32m'2719708'\u001b[0m | county = \u001b[32m'NJ MERCER'\u001b[0m | batch_name = \u001b[32m'NJ MERCER 2024-06-08-0987112'\u001b[0m\n"
      ]
     },
     "metadata": {},
     "output_type": "display_data"
    },
    {
     "data": {
      "text/html": [
       "<pre style=\"white-space:pre;overflow-x:auto;line-height:normal;font-family:Menlo,'DejaVu Sans Mono',consolas,'Courier New',monospace\">i = <span style=\"color: #008080; text-decoration-color: #008080; font-weight: bold\">113</span> | fname = <span style=\"color: #008000; text-decoration-color: #008000\">'2719723'</span> | county = <span style=\"color: #008000; text-decoration-color: #008000\">'NJ MERCER'</span> | batch_name = <span style=\"color: #008000; text-decoration-color: #008000\">'NJ MERCER 2024-06-08-0987113'</span>\n",
       "</pre>\n"
      ],
      "text/plain": [
       "i = \u001b[1;36m113\u001b[0m | fname = \u001b[32m'2719723'\u001b[0m | county = \u001b[32m'NJ MERCER'\u001b[0m | batch_name = \u001b[32m'NJ MERCER 2024-06-08-0987113'\u001b[0m\n"
      ]
     },
     "metadata": {},
     "output_type": "display_data"
    },
    {
     "data": {
      "text/html": [
       "<pre style=\"white-space:pre;overflow-x:auto;line-height:normal;font-family:Menlo,'DejaVu Sans Mono',consolas,'Courier New',monospace\">i = <span style=\"color: #008080; text-decoration-color: #008080; font-weight: bold\">114</span> | fname = <span style=\"color: #008000; text-decoration-color: #008000\">'2719724'</span> | county = <span style=\"color: #008000; text-decoration-color: #008000\">'NJ MERCER'</span> | batch_name = <span style=\"color: #008000; text-decoration-color: #008000\">'NJ MERCER 2024-06-08-0987114'</span>\n",
       "</pre>\n"
      ],
      "text/plain": [
       "i = \u001b[1;36m114\u001b[0m | fname = \u001b[32m'2719724'\u001b[0m | county = \u001b[32m'NJ MERCER'\u001b[0m | batch_name = \u001b[32m'NJ MERCER 2024-06-08-0987114'\u001b[0m\n"
      ]
     },
     "metadata": {},
     "output_type": "display_data"
    },
    {
     "data": {
      "text/html": [
       "<pre style=\"white-space:pre;overflow-x:auto;line-height:normal;font-family:Menlo,'DejaVu Sans Mono',consolas,'Courier New',monospace\">i = <span style=\"color: #008080; text-decoration-color: #008080; font-weight: bold\">115</span> | fname = <span style=\"color: #008000; text-decoration-color: #008000\">'2719770'</span> | county = <span style=\"color: #008000; text-decoration-color: #008000\">'NJ MERCER'</span> | batch_name = <span style=\"color: #008000; text-decoration-color: #008000\">'NJ MERCER 2024-06-08-0987115'</span>\n",
       "</pre>\n"
      ],
      "text/plain": [
       "i = \u001b[1;36m115\u001b[0m | fname = \u001b[32m'2719770'\u001b[0m | county = \u001b[32m'NJ MERCER'\u001b[0m | batch_name = \u001b[32m'NJ MERCER 2024-06-08-0987115'\u001b[0m\n"
      ]
     },
     "metadata": {},
     "output_type": "display_data"
    },
    {
     "data": {
      "text/html": [
       "<pre style=\"white-space:pre;overflow-x:auto;line-height:normal;font-family:Menlo,'DejaVu Sans Mono',consolas,'Courier New',monospace\">i = <span style=\"color: #008080; text-decoration-color: #008080; font-weight: bold\">116</span> | fname = <span style=\"color: #008000; text-decoration-color: #008000\">'2719832'</span> | county = <span style=\"color: #008000; text-decoration-color: #008000\">'NJ MONMOUTH'</span> | batch_name = <span style=\"color: #008000; text-decoration-color: #008000\">'NJ MONMOUTH 2024-06-08-0987116'</span>\n",
       "</pre>\n"
      ],
      "text/plain": [
       "i = \u001b[1;36m116\u001b[0m | fname = \u001b[32m'2719832'\u001b[0m | county = \u001b[32m'NJ MONMOUTH'\u001b[0m | batch_name = \u001b[32m'NJ MONMOUTH 2024-06-08-0987116'\u001b[0m\n"
      ]
     },
     "metadata": {},
     "output_type": "display_data"
    },
    {
     "data": {
      "text/html": [
       "<pre style=\"white-space:pre;overflow-x:auto;line-height:normal;font-family:Menlo,'DejaVu Sans Mono',consolas,'Courier New',monospace\">i = <span style=\"color: #008080; text-decoration-color: #008080; font-weight: bold\">117</span> | fname = <span style=\"color: #008000; text-decoration-color: #008000\">'2719871'</span> | county = <span style=\"color: #008000; text-decoration-color: #008000\">'NJ MONMOUTH'</span> | batch_name = <span style=\"color: #008000; text-decoration-color: #008000\">'NJ MONMOUTH 2024-06-08-0987117'</span>\n",
       "</pre>\n"
      ],
      "text/plain": [
       "i = \u001b[1;36m117\u001b[0m | fname = \u001b[32m'2719871'\u001b[0m | county = \u001b[32m'NJ MONMOUTH'\u001b[0m | batch_name = \u001b[32m'NJ MONMOUTH 2024-06-08-0987117'\u001b[0m\n"
      ]
     },
     "metadata": {},
     "output_type": "display_data"
    },
    {
     "data": {
      "text/html": [
       "<pre style=\"white-space:pre;overflow-x:auto;line-height:normal;font-family:Menlo,'DejaVu Sans Mono',consolas,'Courier New',monospace\">i = <span style=\"color: #008080; text-decoration-color: #008080; font-weight: bold\">118</span> | fname = <span style=\"color: #008000; text-decoration-color: #008000\">'2719911'</span> | county = <span style=\"color: #008000; text-decoration-color: #008000\">'NJ MONMOUTH'</span> | batch_name = <span style=\"color: #008000; text-decoration-color: #008000\">'NJ MONMOUTH 2024-06-08-0987118'</span>\n",
       "</pre>\n"
      ],
      "text/plain": [
       "i = \u001b[1;36m118\u001b[0m | fname = \u001b[32m'2719911'\u001b[0m | county = \u001b[32m'NJ MONMOUTH'\u001b[0m | batch_name = \u001b[32m'NJ MONMOUTH 2024-06-08-0987118'\u001b[0m\n"
      ]
     },
     "metadata": {},
     "output_type": "display_data"
    },
    {
     "data": {
      "text/html": [
       "<pre style=\"white-space:pre;overflow-x:auto;line-height:normal;font-family:Menlo,'DejaVu Sans Mono',consolas,'Courier New',monospace\">i = <span style=\"color: #008080; text-decoration-color: #008080; font-weight: bold\">119</span> | fname = <span style=\"color: #008000; text-decoration-color: #008000\">'2719993'</span> | county = <span style=\"color: #008000; text-decoration-color: #008000\">'NJ MONMOUTH'</span> | batch_name = <span style=\"color: #008000; text-decoration-color: #008000\">'NJ MONMOUTH 2024-06-08-0987119'</span>\n",
       "</pre>\n"
      ],
      "text/plain": [
       "i = \u001b[1;36m119\u001b[0m | fname = \u001b[32m'2719993'\u001b[0m | county = \u001b[32m'NJ MONMOUTH'\u001b[0m | batch_name = \u001b[32m'NJ MONMOUTH 2024-06-08-0987119'\u001b[0m\n"
      ]
     },
     "metadata": {},
     "output_type": "display_data"
    },
    {
     "data": {
      "text/html": [
       "<pre style=\"white-space:pre;overflow-x:auto;line-height:normal;font-family:Menlo,'DejaVu Sans Mono',consolas,'Courier New',monospace\">i = <span style=\"color: #008080; text-decoration-color: #008080; font-weight: bold\">120</span> | fname = <span style=\"color: #008000; text-decoration-color: #008000\">'2720008'</span> | county = <span style=\"color: #008000; text-decoration-color: #008000\">'NJ MONMOUTH'</span> | batch_name = <span style=\"color: #008000; text-decoration-color: #008000\">'NJ MONMOUTH 2024-06-08-0987120'</span>\n",
       "</pre>\n"
      ],
      "text/plain": [
       "i = \u001b[1;36m120\u001b[0m | fname = \u001b[32m'2720008'\u001b[0m | county = \u001b[32m'NJ MONMOUTH'\u001b[0m | batch_name = \u001b[32m'NJ MONMOUTH 2024-06-08-0987120'\u001b[0m\n"
      ]
     },
     "metadata": {},
     "output_type": "display_data"
    },
    {
     "data": {
      "text/html": [
       "<pre style=\"white-space:pre;overflow-x:auto;line-height:normal;font-family:Menlo,'DejaVu Sans Mono',consolas,'Courier New',monospace\">i = <span style=\"color: #008080; text-decoration-color: #008080; font-weight: bold\">121</span> | fname = <span style=\"color: #008000; text-decoration-color: #008000\">'2720009'</span> | county = <span style=\"color: #008000; text-decoration-color: #008000\">'NJ MONMOUTH'</span> | batch_name = <span style=\"color: #008000; text-decoration-color: #008000\">'NJ MONMOUTH 2024-06-08-0987121'</span>\n",
       "</pre>\n"
      ],
      "text/plain": [
       "i = \u001b[1;36m121\u001b[0m | fname = \u001b[32m'2720009'\u001b[0m | county = \u001b[32m'NJ MONMOUTH'\u001b[0m | batch_name = \u001b[32m'NJ MONMOUTH 2024-06-08-0987121'\u001b[0m\n"
      ]
     },
     "metadata": {},
     "output_type": "display_data"
    },
    {
     "data": {
      "text/html": [
       "<pre style=\"white-space:pre;overflow-x:auto;line-height:normal;font-family:Menlo,'DejaVu Sans Mono',consolas,'Courier New',monospace\">i = <span style=\"color: #008080; text-decoration-color: #008080; font-weight: bold\">122</span> | fname = <span style=\"color: #008000; text-decoration-color: #008000\">'2720012'</span> | county = <span style=\"color: #008000; text-decoration-color: #008000\">'NJ MONMOUTH'</span> | batch_name = <span style=\"color: #008000; text-decoration-color: #008000\">'NJ MONMOUTH 2024-06-08-0987122'</span>\n",
       "</pre>\n"
      ],
      "text/plain": [
       "i = \u001b[1;36m122\u001b[0m | fname = \u001b[32m'2720012'\u001b[0m | county = \u001b[32m'NJ MONMOUTH'\u001b[0m | batch_name = \u001b[32m'NJ MONMOUTH 2024-06-08-0987122'\u001b[0m\n"
      ]
     },
     "metadata": {},
     "output_type": "display_data"
    },
    {
     "data": {
      "text/html": [
       "<pre style=\"white-space:pre;overflow-x:auto;line-height:normal;font-family:Menlo,'DejaVu Sans Mono',consolas,'Courier New',monospace\">i = <span style=\"color: #008080; text-decoration-color: #008080; font-weight: bold\">123</span> | fname = <span style=\"color: #008000; text-decoration-color: #008000\">'2720032'</span> | county = <span style=\"color: #008000; text-decoration-color: #008000\">'NJ WARREN'</span> | batch_name = <span style=\"color: #008000; text-decoration-color: #008000\">'NJ WARREN 2024-06-08-0987123'</span>\n",
       "</pre>\n"
      ],
      "text/plain": [
       "i = \u001b[1;36m123\u001b[0m | fname = \u001b[32m'2720032'\u001b[0m | county = \u001b[32m'NJ WARREN'\u001b[0m | batch_name = \u001b[32m'NJ WARREN 2024-06-08-0987123'\u001b[0m\n"
      ]
     },
     "metadata": {},
     "output_type": "display_data"
    },
    {
     "data": {
      "text/html": [
       "<pre style=\"white-space:pre;overflow-x:auto;line-height:normal;font-family:Menlo,'DejaVu Sans Mono',consolas,'Courier New',monospace\">i = <span style=\"color: #008080; text-decoration-color: #008080; font-weight: bold\">124</span> | fname = <span style=\"color: #008000; text-decoration-color: #008000\">'2720034'</span> | county = <span style=\"color: #008000; text-decoration-color: #008000\">'NJ WARREN'</span> | batch_name = <span style=\"color: #008000; text-decoration-color: #008000\">'NJ WARREN 2024-06-08-0987124'</span>\n",
       "</pre>\n"
      ],
      "text/plain": [
       "i = \u001b[1;36m124\u001b[0m | fname = \u001b[32m'2720034'\u001b[0m | county = \u001b[32m'NJ WARREN'\u001b[0m | batch_name = \u001b[32m'NJ WARREN 2024-06-08-0987124'\u001b[0m\n"
      ]
     },
     "metadata": {},
     "output_type": "display_data"
    },
    {
     "data": {
      "text/html": [
       "<pre style=\"white-space:pre;overflow-x:auto;line-height:normal;font-family:Menlo,'DejaVu Sans Mono',consolas,'Courier New',monospace\">i = <span style=\"color: #008080; text-decoration-color: #008080; font-weight: bold\">125</span> | fname = <span style=\"color: #008000; text-decoration-color: #008000\">'2720037'</span> | county = <span style=\"color: #008000; text-decoration-color: #008000\">'NJ WARREN'</span> | batch_name = <span style=\"color: #008000; text-decoration-color: #008000\">'NJ WARREN 2024-06-08-0987125'</span>\n",
       "</pre>\n"
      ],
      "text/plain": [
       "i = \u001b[1;36m125\u001b[0m | fname = \u001b[32m'2720037'\u001b[0m | county = \u001b[32m'NJ WARREN'\u001b[0m | batch_name = \u001b[32m'NJ WARREN 2024-06-08-0987125'\u001b[0m\n"
      ]
     },
     "metadata": {},
     "output_type": "display_data"
    },
    {
     "data": {
      "text/html": [
       "<pre style=\"white-space:pre;overflow-x:auto;line-height:normal;font-family:Menlo,'DejaVu Sans Mono',consolas,'Courier New',monospace\">i = <span style=\"color: #008080; text-decoration-color: #008080; font-weight: bold\">126</span> | fname = <span style=\"color: #008000; text-decoration-color: #008000\">'2720043'</span> | county = <span style=\"color: #008000; text-decoration-color: #008000\">'NJ WARREN'</span> | batch_name = <span style=\"color: #008000; text-decoration-color: #008000\">'NJ WARREN 2024-06-08-0987126'</span>\n",
       "</pre>\n"
      ],
      "text/plain": [
       "i = \u001b[1;36m126\u001b[0m | fname = \u001b[32m'2720043'\u001b[0m | county = \u001b[32m'NJ WARREN'\u001b[0m | batch_name = \u001b[32m'NJ WARREN 2024-06-08-0987126'\u001b[0m\n"
      ]
     },
     "metadata": {},
     "output_type": "display_data"
    },
    {
     "data": {
      "text/html": [
       "<pre style=\"white-space:pre;overflow-x:auto;line-height:normal;font-family:Menlo,'DejaVu Sans Mono',consolas,'Courier New',monospace\">i = <span style=\"color: #008080; text-decoration-color: #008080; font-weight: bold\">127</span> | fname = <span style=\"color: #008000; text-decoration-color: #008000\">'2720045'</span> | county = <span style=\"color: #008000; text-decoration-color: #008000\">'NJ WARREN'</span> | batch_name = <span style=\"color: #008000; text-decoration-color: #008000\">'NJ WARREN 2024-06-08-0987127'</span>\n",
       "</pre>\n"
      ],
      "text/plain": [
       "i = \u001b[1;36m127\u001b[0m | fname = \u001b[32m'2720045'\u001b[0m | county = \u001b[32m'NJ WARREN'\u001b[0m | batch_name = \u001b[32m'NJ WARREN 2024-06-08-0987127'\u001b[0m\n"
      ]
     },
     "metadata": {},
     "output_type": "display_data"
    },
    {
     "data": {
      "text/html": [
       "<pre style=\"white-space:pre;overflow-x:auto;line-height:normal;font-family:Menlo,'DejaVu Sans Mono',consolas,'Courier New',monospace\">i = <span style=\"color: #008080; text-decoration-color: #008080; font-weight: bold\">128</span> | fname = <span style=\"color: #008000; text-decoration-color: #008000\">'2720049'</span> | county = <span style=\"color: #008000; text-decoration-color: #008000\">'NJ WARREN'</span> | batch_name = <span style=\"color: #008000; text-decoration-color: #008000\">'NJ WARREN 2024-06-08-0987128'</span>\n",
       "</pre>\n"
      ],
      "text/plain": [
       "i = \u001b[1;36m128\u001b[0m | fname = \u001b[32m'2720049'\u001b[0m | county = \u001b[32m'NJ WARREN'\u001b[0m | batch_name = \u001b[32m'NJ WARREN 2024-06-08-0987128'\u001b[0m\n"
      ]
     },
     "metadata": {},
     "output_type": "display_data"
    },
    {
     "data": {
      "text/html": [
       "<pre style=\"white-space:pre;overflow-x:auto;line-height:normal;font-family:Menlo,'DejaVu Sans Mono',consolas,'Courier New',monospace\">i = <span style=\"color: #008080; text-decoration-color: #008080; font-weight: bold\">129</span> | fname = <span style=\"color: #008000; text-decoration-color: #008000\">'2720051'</span> | county = <span style=\"color: #008000; text-decoration-color: #008000\">'NJ WARREN'</span> | batch_name = <span style=\"color: #008000; text-decoration-color: #008000\">'NJ WARREN 2024-06-08-0987129'</span>\n",
       "</pre>\n"
      ],
      "text/plain": [
       "i = \u001b[1;36m129\u001b[0m | fname = \u001b[32m'2720051'\u001b[0m | county = \u001b[32m'NJ WARREN'\u001b[0m | batch_name = \u001b[32m'NJ WARREN 2024-06-08-0987129'\u001b[0m\n"
      ]
     },
     "metadata": {},
     "output_type": "display_data"
    },
    {
     "data": {
      "text/html": [
       "<pre style=\"white-space:pre;overflow-x:auto;line-height:normal;font-family:Menlo,'DejaVu Sans Mono',consolas,'Courier New',monospace\">i = <span style=\"color: #008080; text-decoration-color: #008080; font-weight: bold\">130</span> | fname = <span style=\"color: #008000; text-decoration-color: #008000\">'2720055'</span> | county = <span style=\"color: #008000; text-decoration-color: #008000\">'NJ WARREN'</span> | batch_name = <span style=\"color: #008000; text-decoration-color: #008000\">'NJ WARREN 2024-06-08-0987130'</span>\n",
       "</pre>\n"
      ],
      "text/plain": [
       "i = \u001b[1;36m130\u001b[0m | fname = \u001b[32m'2720055'\u001b[0m | county = \u001b[32m'NJ WARREN'\u001b[0m | batch_name = \u001b[32m'NJ WARREN 2024-06-08-0987130'\u001b[0m\n"
      ]
     },
     "metadata": {},
     "output_type": "display_data"
    },
    {
     "data": {
      "text/html": [
       "<pre style=\"white-space:pre;overflow-x:auto;line-height:normal;font-family:Menlo,'DejaVu Sans Mono',consolas,'Courier New',monospace\">i = <span style=\"color: #008080; text-decoration-color: #008080; font-weight: bold\">131</span> | fname = <span style=\"color: #008000; text-decoration-color: #008000\">'2720056'</span> | county = <span style=\"color: #008000; text-decoration-color: #008000\">'NJ WARREN'</span> | batch_name = <span style=\"color: #008000; text-decoration-color: #008000\">'NJ WARREN 2024-06-08-0987131'</span>\n",
       "</pre>\n"
      ],
      "text/plain": [
       "i = \u001b[1;36m131\u001b[0m | fname = \u001b[32m'2720056'\u001b[0m | county = \u001b[32m'NJ WARREN'\u001b[0m | batch_name = \u001b[32m'NJ WARREN 2024-06-08-0987131'\u001b[0m\n"
      ]
     },
     "metadata": {},
     "output_type": "display_data"
    },
    {
     "data": {
      "text/html": [
       "<pre style=\"white-space:pre;overflow-x:auto;line-height:normal;font-family:Menlo,'DejaVu Sans Mono',consolas,'Courier New',monospace\">i = <span style=\"color: #008080; text-decoration-color: #008080; font-weight: bold\">132</span> | fname = <span style=\"color: #008000; text-decoration-color: #008000\">'2720058'</span> | county = <span style=\"color: #008000; text-decoration-color: #008000\">'NJ WARREN'</span> | batch_name = <span style=\"color: #008000; text-decoration-color: #008000\">'NJ WARREN 2024-06-08-0987132'</span>\n",
       "</pre>\n"
      ],
      "text/plain": [
       "i = \u001b[1;36m132\u001b[0m | fname = \u001b[32m'2720058'\u001b[0m | county = \u001b[32m'NJ WARREN'\u001b[0m | batch_name = \u001b[32m'NJ WARREN 2024-06-08-0987132'\u001b[0m\n"
      ]
     },
     "metadata": {},
     "output_type": "display_data"
    },
    {
     "data": {
      "text/html": [
       "<pre style=\"white-space:pre;overflow-x:auto;line-height:normal;font-family:Menlo,'DejaVu Sans Mono',consolas,'Courier New',monospace\">i = <span style=\"color: #008080; text-decoration-color: #008080; font-weight: bold\">133</span> | fname = <span style=\"color: #008000; text-decoration-color: #008000\">'2720063'</span> | county = <span style=\"color: #008000; text-decoration-color: #008000\">'NJ WARREN'</span> | batch_name = <span style=\"color: #008000; text-decoration-color: #008000\">'NJ WARREN 2024-06-08-0987133'</span>\n",
       "</pre>\n"
      ],
      "text/plain": [
       "i = \u001b[1;36m133\u001b[0m | fname = \u001b[32m'2720063'\u001b[0m | county = \u001b[32m'NJ WARREN'\u001b[0m | batch_name = \u001b[32m'NJ WARREN 2024-06-08-0987133'\u001b[0m\n"
      ]
     },
     "metadata": {},
     "output_type": "display_data"
    },
    {
     "data": {
      "text/html": [
       "<pre style=\"white-space:pre;overflow-x:auto;line-height:normal;font-family:Menlo,'DejaVu Sans Mono',consolas,'Courier New',monospace\">i = <span style=\"color: #008080; text-decoration-color: #008080; font-weight: bold\">134</span> | fname = <span style=\"color: #008000; text-decoration-color: #008000\">'2720066'</span> | county = <span style=\"color: #008000; text-decoration-color: #008000\">'NJ WARREN'</span> | batch_name = <span style=\"color: #008000; text-decoration-color: #008000\">'NJ WARREN 2024-06-08-0987134'</span>\n",
       "</pre>\n"
      ],
      "text/plain": [
       "i = \u001b[1;36m134\u001b[0m | fname = \u001b[32m'2720066'\u001b[0m | county = \u001b[32m'NJ WARREN'\u001b[0m | batch_name = \u001b[32m'NJ WARREN 2024-06-08-0987134'\u001b[0m\n"
      ]
     },
     "metadata": {},
     "output_type": "display_data"
    },
    {
     "data": {
      "text/html": [
       "<pre style=\"white-space:pre;overflow-x:auto;line-height:normal;font-family:Menlo,'DejaVu Sans Mono',consolas,'Courier New',monospace\">i = <span style=\"color: #008080; text-decoration-color: #008080; font-weight: bold\">135</span> | fname = <span style=\"color: #008000; text-decoration-color: #008000\">'2720067'</span> | county = <span style=\"color: #008000; text-decoration-color: #008000\">'NJ WARREN'</span> | batch_name = <span style=\"color: #008000; text-decoration-color: #008000\">'NJ WARREN 2024-06-08-0987135'</span>\n",
       "</pre>\n"
      ],
      "text/plain": [
       "i = \u001b[1;36m135\u001b[0m | fname = \u001b[32m'2720067'\u001b[0m | county = \u001b[32m'NJ WARREN'\u001b[0m | batch_name = \u001b[32m'NJ WARREN 2024-06-08-0987135'\u001b[0m\n"
      ]
     },
     "metadata": {},
     "output_type": "display_data"
    },
    {
     "data": {
      "text/html": [
       "<pre style=\"white-space:pre;overflow-x:auto;line-height:normal;font-family:Menlo,'DejaVu Sans Mono',consolas,'Courier New',monospace\">i = <span style=\"color: #008080; text-decoration-color: #008080; font-weight: bold\">136</span> | fname = <span style=\"color: #008000; text-decoration-color: #008000\">'2720079'</span> | county = <span style=\"color: #008000; text-decoration-color: #008000\">'NJ WARREN'</span> | batch_name = <span style=\"color: #008000; text-decoration-color: #008000\">'NJ WARREN 2024-06-08-0987136'</span>\n",
       "</pre>\n"
      ],
      "text/plain": [
       "i = \u001b[1;36m136\u001b[0m | fname = \u001b[32m'2720079'\u001b[0m | county = \u001b[32m'NJ WARREN'\u001b[0m | batch_name = \u001b[32m'NJ WARREN 2024-06-08-0987136'\u001b[0m\n"
      ]
     },
     "metadata": {},
     "output_type": "display_data"
    },
    {
     "data": {
      "text/html": [
       "<pre style=\"white-space:pre;overflow-x:auto;line-height:normal;font-family:Menlo,'DejaVu Sans Mono',consolas,'Courier New',monospace\">i = <span style=\"color: #008080; text-decoration-color: #008080; font-weight: bold\">137</span> | fname = <span style=\"color: #008000; text-decoration-color: #008000\">'2720080'</span> | county = <span style=\"color: #008000; text-decoration-color: #008000\">'NJ WARREN'</span> | batch_name = <span style=\"color: #008000; text-decoration-color: #008000\">'NJ WARREN 2024-06-08-0987137'</span>\n",
       "</pre>\n"
      ],
      "text/plain": [
       "i = \u001b[1;36m137\u001b[0m | fname = \u001b[32m'2720080'\u001b[0m | county = \u001b[32m'NJ WARREN'\u001b[0m | batch_name = \u001b[32m'NJ WARREN 2024-06-08-0987137'\u001b[0m\n"
      ]
     },
     "metadata": {},
     "output_type": "display_data"
    },
    {
     "data": {
      "text/html": [
       "<pre style=\"white-space:pre;overflow-x:auto;line-height:normal;font-family:Menlo,'DejaVu Sans Mono',consolas,'Courier New',monospace\">i = <span style=\"color: #008080; text-decoration-color: #008080; font-weight: bold\">138</span> | fname = <span style=\"color: #008000; text-decoration-color: #008000\">'2720081'</span> | county = <span style=\"color: #008000; text-decoration-color: #008000\">'NJ WARREN'</span> | batch_name = <span style=\"color: #008000; text-decoration-color: #008000\">'NJ WARREN 2024-06-08-0987138'</span>\n",
       "</pre>\n"
      ],
      "text/plain": [
       "i = \u001b[1;36m138\u001b[0m | fname = \u001b[32m'2720081'\u001b[0m | county = \u001b[32m'NJ WARREN'\u001b[0m | batch_name = \u001b[32m'NJ WARREN 2024-06-08-0987138'\u001b[0m\n"
      ]
     },
     "metadata": {},
     "output_type": "display_data"
    },
    {
     "data": {
      "text/html": [
       "<pre style=\"white-space:pre;overflow-x:auto;line-height:normal;font-family:Menlo,'DejaVu Sans Mono',consolas,'Courier New',monospace\">i = <span style=\"color: #008080; text-decoration-color: #008080; font-weight: bold\">139</span> | fname = <span style=\"color: #008000; text-decoration-color: #008000\">'2720083'</span> | county = <span style=\"color: #008000; text-decoration-color: #008000\">'NJ WARREN'</span> | batch_name = <span style=\"color: #008000; text-decoration-color: #008000\">'NJ WARREN 2024-06-08-0987139'</span>\n",
       "</pre>\n"
      ],
      "text/plain": [
       "i = \u001b[1;36m139\u001b[0m | fname = \u001b[32m'2720083'\u001b[0m | county = \u001b[32m'NJ WARREN'\u001b[0m | batch_name = \u001b[32m'NJ WARREN 2024-06-08-0987139'\u001b[0m\n"
      ]
     },
     "metadata": {},
     "output_type": "display_data"
    },
    {
     "data": {
      "text/html": [
       "<pre style=\"white-space:pre;overflow-x:auto;line-height:normal;font-family:Menlo,'DejaVu Sans Mono',consolas,'Courier New',monospace\">i = <span style=\"color: #008080; text-decoration-color: #008080; font-weight: bold\">140</span> | fname = <span style=\"color: #008000; text-decoration-color: #008000\">'2720084'</span> | county = <span style=\"color: #008000; text-decoration-color: #008000\">'NJ WARREN'</span> | batch_name = <span style=\"color: #008000; text-decoration-color: #008000\">'NJ WARREN 2024-06-08-0987140'</span>\n",
       "</pre>\n"
      ],
      "text/plain": [
       "i = \u001b[1;36m140\u001b[0m | fname = \u001b[32m'2720084'\u001b[0m | county = \u001b[32m'NJ WARREN'\u001b[0m | batch_name = \u001b[32m'NJ WARREN 2024-06-08-0987140'\u001b[0m\n"
      ]
     },
     "metadata": {},
     "output_type": "display_data"
    },
    {
     "data": {
      "text/html": [
       "<pre style=\"white-space:pre;overflow-x:auto;line-height:normal;font-family:Menlo,'DejaVu Sans Mono',consolas,'Courier New',monospace\">i = <span style=\"color: #008080; text-decoration-color: #008080; font-weight: bold\">141</span> | fname = <span style=\"color: #008000; text-decoration-color: #008000\">'2720086'</span> | county = <span style=\"color: #008000; text-decoration-color: #008000\">'NJ WARREN'</span> | batch_name = <span style=\"color: #008000; text-decoration-color: #008000\">'NJ WARREN 2024-06-08-0987141'</span>\n",
       "</pre>\n"
      ],
      "text/plain": [
       "i = \u001b[1;36m141\u001b[0m | fname = \u001b[32m'2720086'\u001b[0m | county = \u001b[32m'NJ WARREN'\u001b[0m | batch_name = \u001b[32m'NJ WARREN 2024-06-08-0987141'\u001b[0m\n"
      ]
     },
     "metadata": {},
     "output_type": "display_data"
    },
    {
     "data": {
      "text/html": [
       "<pre style=\"white-space:pre;overflow-x:auto;line-height:normal;font-family:Menlo,'DejaVu Sans Mono',consolas,'Courier New',monospace\">i = <span style=\"color: #008080; text-decoration-color: #008080; font-weight: bold\">142</span> | fname = <span style=\"color: #008000; text-decoration-color: #008000\">'2720088'</span> | county = <span style=\"color: #008000; text-decoration-color: #008000\">'NJ WARREN'</span> | batch_name = <span style=\"color: #008000; text-decoration-color: #008000\">'NJ WARREN 2024-06-08-0987142'</span>\n",
       "</pre>\n"
      ],
      "text/plain": [
       "i = \u001b[1;36m142\u001b[0m | fname = \u001b[32m'2720088'\u001b[0m | county = \u001b[32m'NJ WARREN'\u001b[0m | batch_name = \u001b[32m'NJ WARREN 2024-06-08-0987142'\u001b[0m\n"
      ]
     },
     "metadata": {},
     "output_type": "display_data"
    },
    {
     "data": {
      "text/html": [
       "<pre style=\"white-space:pre;overflow-x:auto;line-height:normal;font-family:Menlo,'DejaVu Sans Mono',consolas,'Courier New',monospace\">i = <span style=\"color: #008080; text-decoration-color: #008080; font-weight: bold\">143</span> | fname = <span style=\"color: #008000; text-decoration-color: #008000\">'2720248'</span> | county = <span style=\"color: #008000; text-decoration-color: #008000\">'NJ HUNTERDON'</span> | batch_name = <span style=\"color: #008000; text-decoration-color: #008000\">'NJ HUNTERDON 2024-06-08-0987143'</span>\n",
       "</pre>\n"
      ],
      "text/plain": [
       "i = \u001b[1;36m143\u001b[0m | fname = \u001b[32m'2720248'\u001b[0m | county = \u001b[32m'NJ HUNTERDON'\u001b[0m | batch_name = \u001b[32m'NJ HUNTERDON 2024-06-08-0987143'\u001b[0m\n"
      ]
     },
     "metadata": {},
     "output_type": "display_data"
    },
    {
     "data": {
      "text/html": [
       "<pre style=\"white-space:pre;overflow-x:auto;line-height:normal;font-family:Menlo,'DejaVu Sans Mono',consolas,'Courier New',monospace\">i = <span style=\"color: #008080; text-decoration-color: #008080; font-weight: bold\">144</span> | fname = <span style=\"color: #008000; text-decoration-color: #008000\">'2720261'</span> | county = <span style=\"color: #008000; text-decoration-color: #008000\">'NJ HUNTERDON'</span> | batch_name = <span style=\"color: #008000; text-decoration-color: #008000\">'NJ HUNTERDON 2024-06-08-0987144'</span>\n",
       "</pre>\n"
      ],
      "text/plain": [
       "i = \u001b[1;36m144\u001b[0m | fname = \u001b[32m'2720261'\u001b[0m | county = \u001b[32m'NJ HUNTERDON'\u001b[0m | batch_name = \u001b[32m'NJ HUNTERDON 2024-06-08-0987144'\u001b[0m\n"
      ]
     },
     "metadata": {},
     "output_type": "display_data"
    },
    {
     "data": {
      "text/html": [
       "<pre style=\"white-space:pre;overflow-x:auto;line-height:normal;font-family:Menlo,'DejaVu Sans Mono',consolas,'Courier New',monospace\">i = <span style=\"color: #008080; text-decoration-color: #008080; font-weight: bold\">145</span> | fname = <span style=\"color: #008000; text-decoration-color: #008000\">'2720273'</span> | county = <span style=\"color: #008000; text-decoration-color: #008000\">'NJ HUNTERDON'</span> | batch_name = <span style=\"color: #008000; text-decoration-color: #008000\">'NJ HUNTERDON 2024-06-08-0987145'</span>\n",
       "</pre>\n"
      ],
      "text/plain": [
       "i = \u001b[1;36m145\u001b[0m | fname = \u001b[32m'2720273'\u001b[0m | county = \u001b[32m'NJ HUNTERDON'\u001b[0m | batch_name = \u001b[32m'NJ HUNTERDON 2024-06-08-0987145'\u001b[0m\n"
      ]
     },
     "metadata": {},
     "output_type": "display_data"
    },
    {
     "data": {
      "text/html": [
       "<pre style=\"white-space:pre;overflow-x:auto;line-height:normal;font-family:Menlo,'DejaVu Sans Mono',consolas,'Courier New',monospace\">i = <span style=\"color: #008080; text-decoration-color: #008080; font-weight: bold\">146</span> | fname = <span style=\"color: #008000; text-decoration-color: #008000\">'2720283'</span> | county = <span style=\"color: #008000; text-decoration-color: #008000\">'NJ HUNTERDON'</span> | batch_name = <span style=\"color: #008000; text-decoration-color: #008000\">'NJ HUNTERDON 2024-06-08-0987146'</span>\n",
       "</pre>\n"
      ],
      "text/plain": [
       "i = \u001b[1;36m146\u001b[0m | fname = \u001b[32m'2720283'\u001b[0m | county = \u001b[32m'NJ HUNTERDON'\u001b[0m | batch_name = \u001b[32m'NJ HUNTERDON 2024-06-08-0987146'\u001b[0m\n"
      ]
     },
     "metadata": {},
     "output_type": "display_data"
    },
    {
     "data": {
      "text/html": [
       "<pre style=\"white-space:pre;overflow-x:auto;line-height:normal;font-family:Menlo,'DejaVu Sans Mono',consolas,'Courier New',monospace\">i = <span style=\"color: #008080; text-decoration-color: #008080; font-weight: bold\">147</span> | fname = <span style=\"color: #008000; text-decoration-color: #008000\">'2720309'</span> | county = <span style=\"color: #008000; text-decoration-color: #008000\">'NJ HUNTERDON'</span> | batch_name = <span style=\"color: #008000; text-decoration-color: #008000\">'NJ HUNTERDON 2024-06-08-0987147'</span>\n",
       "</pre>\n"
      ],
      "text/plain": [
       "i = \u001b[1;36m147\u001b[0m | fname = \u001b[32m'2720309'\u001b[0m | county = \u001b[32m'NJ HUNTERDON'\u001b[0m | batch_name = \u001b[32m'NJ HUNTERDON 2024-06-08-0987147'\u001b[0m\n"
      ]
     },
     "metadata": {},
     "output_type": "display_data"
    },
    {
     "data": {
      "text/html": [
       "<pre style=\"white-space:pre;overflow-x:auto;line-height:normal;font-family:Menlo,'DejaVu Sans Mono',consolas,'Courier New',monospace\">i = <span style=\"color: #008080; text-decoration-color: #008080; font-weight: bold\">148</span> | fname = <span style=\"color: #008000; text-decoration-color: #008000\">'2720327'</span> | county = <span style=\"color: #008000; text-decoration-color: #008000\">'NJ HUNTERDON'</span> | batch_name = <span style=\"color: #008000; text-decoration-color: #008000\">'NJ HUNTERDON 2024-06-08-0987148'</span>\n",
       "</pre>\n"
      ],
      "text/plain": [
       "i = \u001b[1;36m148\u001b[0m | fname = \u001b[32m'2720327'\u001b[0m | county = \u001b[32m'NJ HUNTERDON'\u001b[0m | batch_name = \u001b[32m'NJ HUNTERDON 2024-06-08-0987148'\u001b[0m\n"
      ]
     },
     "metadata": {},
     "output_type": "display_data"
    },
    {
     "data": {
      "text/html": [
       "<pre style=\"white-space:pre;overflow-x:auto;line-height:normal;font-family:Menlo,'DejaVu Sans Mono',consolas,'Courier New',monospace\">i = <span style=\"color: #008080; text-decoration-color: #008080; font-weight: bold\">149</span> | fname = <span style=\"color: #008000; text-decoration-color: #008000\">'2720336'</span> | county = <span style=\"color: #008000; text-decoration-color: #008000\">'NJ HUNTERDON'</span> | batch_name = <span style=\"color: #008000; text-decoration-color: #008000\">'NJ HUNTERDON 2024-06-08-0987149'</span>\n",
       "</pre>\n"
      ],
      "text/plain": [
       "i = \u001b[1;36m149\u001b[0m | fname = \u001b[32m'2720336'\u001b[0m | county = \u001b[32m'NJ HUNTERDON'\u001b[0m | batch_name = \u001b[32m'NJ HUNTERDON 2024-06-08-0987149'\u001b[0m\n"
      ]
     },
     "metadata": {},
     "output_type": "display_data"
    },
    {
     "data": {
      "text/html": [
       "<pre style=\"white-space:pre;overflow-x:auto;line-height:normal;font-family:Menlo,'DejaVu Sans Mono',consolas,'Courier New',monospace\">i = <span style=\"color: #008080; text-decoration-color: #008080; font-weight: bold\">150</span> | fname = <span style=\"color: #008000; text-decoration-color: #008000\">'2720340'</span> | county = <span style=\"color: #008000; text-decoration-color: #008000\">'NJ HUNTERDON'</span> | batch_name = <span style=\"color: #008000; text-decoration-color: #008000\">'NJ HUNTERDON 2024-06-08-0987150'</span>\n",
       "</pre>\n"
      ],
      "text/plain": [
       "i = \u001b[1;36m150\u001b[0m | fname = \u001b[32m'2720340'\u001b[0m | county = \u001b[32m'NJ HUNTERDON'\u001b[0m | batch_name = \u001b[32m'NJ HUNTERDON 2024-06-08-0987150'\u001b[0m\n"
      ]
     },
     "metadata": {},
     "output_type": "display_data"
    },
    {
     "data": {
      "text/html": [
       "<pre style=\"white-space:pre;overflow-x:auto;line-height:normal;font-family:Menlo,'DejaVu Sans Mono',consolas,'Courier New',monospace\">i = <span style=\"color: #008080; text-decoration-color: #008080; font-weight: bold\">151</span> | fname = <span style=\"color: #008000; text-decoration-color: #008000\">'2720343'</span> | county = <span style=\"color: #008000; text-decoration-color: #008000\">'NJ HUNTERDON'</span> | batch_name = <span style=\"color: #008000; text-decoration-color: #008000\">'NJ HUNTERDON 2024-06-08-0987151'</span>\n",
       "</pre>\n"
      ],
      "text/plain": [
       "i = \u001b[1;36m151\u001b[0m | fname = \u001b[32m'2720343'\u001b[0m | county = \u001b[32m'NJ HUNTERDON'\u001b[0m | batch_name = \u001b[32m'NJ HUNTERDON 2024-06-08-0987151'\u001b[0m\n"
      ]
     },
     "metadata": {},
     "output_type": "display_data"
    },
    {
     "data": {
      "text/html": [
       "<pre style=\"white-space:pre;overflow-x:auto;line-height:normal;font-family:Menlo,'DejaVu Sans Mono',consolas,'Courier New',monospace\">i = <span style=\"color: #008080; text-decoration-color: #008080; font-weight: bold\">152</span> | fname = <span style=\"color: #008000; text-decoration-color: #008000\">'2720353'</span> | county = <span style=\"color: #008000; text-decoration-color: #008000\">'NJ HUNTERDON'</span> | batch_name = <span style=\"color: #008000; text-decoration-color: #008000\">'NJ HUNTERDON 2024-06-08-0987152'</span>\n",
       "</pre>\n"
      ],
      "text/plain": [
       "i = \u001b[1;36m152\u001b[0m | fname = \u001b[32m'2720353'\u001b[0m | county = \u001b[32m'NJ HUNTERDON'\u001b[0m | batch_name = \u001b[32m'NJ HUNTERDON 2024-06-08-0987152'\u001b[0m\n"
      ]
     },
     "metadata": {},
     "output_type": "display_data"
    },
    {
     "data": {
      "text/html": [
       "<pre style=\"white-space:pre;overflow-x:auto;line-height:normal;font-family:Menlo,'DejaVu Sans Mono',consolas,'Courier New',monospace\">i = <span style=\"color: #008080; text-decoration-color: #008080; font-weight: bold\">153</span> | fname = <span style=\"color: #008000; text-decoration-color: #008000\">'2720354'</span> | county = <span style=\"color: #008000; text-decoration-color: #008000\">'NJ HUNTERDON'</span> | batch_name = <span style=\"color: #008000; text-decoration-color: #008000\">'NJ HUNTERDON 2024-06-08-0987153'</span>\n",
       "</pre>\n"
      ],
      "text/plain": [
       "i = \u001b[1;36m153\u001b[0m | fname = \u001b[32m'2720354'\u001b[0m | county = \u001b[32m'NJ HUNTERDON'\u001b[0m | batch_name = \u001b[32m'NJ HUNTERDON 2024-06-08-0987153'\u001b[0m\n"
      ]
     },
     "metadata": {},
     "output_type": "display_data"
    },
    {
     "data": {
      "text/html": [
       "<pre style=\"white-space:pre;overflow-x:auto;line-height:normal;font-family:Menlo,'DejaVu Sans Mono',consolas,'Courier New',monospace\">i = <span style=\"color: #008080; text-decoration-color: #008080; font-weight: bold\">154</span> | fname = <span style=\"color: #008000; text-decoration-color: #008000\">'2720357'</span> | county = <span style=\"color: #008000; text-decoration-color: #008000\">'NJ HUNTERDON'</span> | batch_name = <span style=\"color: #008000; text-decoration-color: #008000\">'NJ HUNTERDON 2024-06-08-0987154'</span>\n",
       "</pre>\n"
      ],
      "text/plain": [
       "i = \u001b[1;36m154\u001b[0m | fname = \u001b[32m'2720357'\u001b[0m | county = \u001b[32m'NJ HUNTERDON'\u001b[0m | batch_name = \u001b[32m'NJ HUNTERDON 2024-06-08-0987154'\u001b[0m\n"
      ]
     },
     "metadata": {},
     "output_type": "display_data"
    },
    {
     "data": {
      "text/html": [
       "<pre style=\"white-space:pre;overflow-x:auto;line-height:normal;font-family:Menlo,'DejaVu Sans Mono',consolas,'Courier New',monospace\">i = <span style=\"color: #008080; text-decoration-color: #008080; font-weight: bold\">155</span> | fname = <span style=\"color: #008000; text-decoration-color: #008000\">'2720388'</span> | county = <span style=\"color: #008000; text-decoration-color: #008000\">'NJ HUNTERDON'</span> | batch_name = <span style=\"color: #008000; text-decoration-color: #008000\">'NJ HUNTERDON 2024-06-08-0987155'</span>\n",
       "</pre>\n"
      ],
      "text/plain": [
       "i = \u001b[1;36m155\u001b[0m | fname = \u001b[32m'2720388'\u001b[0m | county = \u001b[32m'NJ HUNTERDON'\u001b[0m | batch_name = \u001b[32m'NJ HUNTERDON 2024-06-08-0987155'\u001b[0m\n"
      ]
     },
     "metadata": {},
     "output_type": "display_data"
    },
    {
     "data": {
      "text/html": [
       "<pre style=\"white-space:pre;overflow-x:auto;line-height:normal;font-family:Menlo,'DejaVu Sans Mono',consolas,'Courier New',monospace\">i = <span style=\"color: #008080; text-decoration-color: #008080; font-weight: bold\">156</span> | fname = <span style=\"color: #008000; text-decoration-color: #008000\">'2720390'</span> | county = <span style=\"color: #008000; text-decoration-color: #008000\">'NJ HUNTERDON'</span> | batch_name = <span style=\"color: #008000; text-decoration-color: #008000\">'NJ HUNTERDON 2024-06-08-0987156'</span>\n",
       "</pre>\n"
      ],
      "text/plain": [
       "i = \u001b[1;36m156\u001b[0m | fname = \u001b[32m'2720390'\u001b[0m | county = \u001b[32m'NJ HUNTERDON'\u001b[0m | batch_name = \u001b[32m'NJ HUNTERDON 2024-06-08-0987156'\u001b[0m\n"
      ]
     },
     "metadata": {},
     "output_type": "display_data"
    },
    {
     "data": {
      "text/html": [
       "<pre style=\"white-space:pre;overflow-x:auto;line-height:normal;font-family:Menlo,'DejaVu Sans Mono',consolas,'Courier New',monospace\">i = <span style=\"color: #008080; text-decoration-color: #008080; font-weight: bold\">157</span> | fname = <span style=\"color: #008000; text-decoration-color: #008000\">'2720395'</span> | county = <span style=\"color: #008000; text-decoration-color: #008000\">'NJ HUNTERDON'</span> | batch_name = <span style=\"color: #008000; text-decoration-color: #008000\">'NJ HUNTERDON 2024-06-08-0987157'</span>\n",
       "</pre>\n"
      ],
      "text/plain": [
       "i = \u001b[1;36m157\u001b[0m | fname = \u001b[32m'2720395'\u001b[0m | county = \u001b[32m'NJ HUNTERDON'\u001b[0m | batch_name = \u001b[32m'NJ HUNTERDON 2024-06-08-0987157'\u001b[0m\n"
      ]
     },
     "metadata": {},
     "output_type": "display_data"
    },
    {
     "data": {
      "text/html": [
       "<pre style=\"white-space:pre;overflow-x:auto;line-height:normal;font-family:Menlo,'DejaVu Sans Mono',consolas,'Courier New',monospace\">i = <span style=\"color: #008080; text-decoration-color: #008080; font-weight: bold\">158</span> | fname = <span style=\"color: #008000; text-decoration-color: #008000\">'2720404'</span> | county = <span style=\"color: #008000; text-decoration-color: #008000\">'NJ HUNTERDON'</span> | batch_name = <span style=\"color: #008000; text-decoration-color: #008000\">'NJ HUNTERDON 2024-06-08-0987158'</span>\n",
       "</pre>\n"
      ],
      "text/plain": [
       "i = \u001b[1;36m158\u001b[0m | fname = \u001b[32m'2720404'\u001b[0m | county = \u001b[32m'NJ HUNTERDON'\u001b[0m | batch_name = \u001b[32m'NJ HUNTERDON 2024-06-08-0987158'\u001b[0m\n"
      ]
     },
     "metadata": {},
     "output_type": "display_data"
    },
    {
     "data": {
      "text/html": [
       "<pre style=\"white-space:pre;overflow-x:auto;line-height:normal;font-family:Menlo,'DejaVu Sans Mono',consolas,'Courier New',monospace\">i = <span style=\"color: #008080; text-decoration-color: #008080; font-weight: bold\">159</span> | fname = <span style=\"color: #008000; text-decoration-color: #008000\">'2720408'</span> | county = <span style=\"color: #008000; text-decoration-color: #008000\">'NJ HUNTERDON'</span> | batch_name = <span style=\"color: #008000; text-decoration-color: #008000\">'NJ HUNTERDON 2024-06-08-0987159'</span>\n",
       "</pre>\n"
      ],
      "text/plain": [
       "i = \u001b[1;36m159\u001b[0m | fname = \u001b[32m'2720408'\u001b[0m | county = \u001b[32m'NJ HUNTERDON'\u001b[0m | batch_name = \u001b[32m'NJ HUNTERDON 2024-06-08-0987159'\u001b[0m\n"
      ]
     },
     "metadata": {},
     "output_type": "display_data"
    },
    {
     "data": {
      "text/html": [
       "<pre style=\"white-space:pre;overflow-x:auto;line-height:normal;font-family:Menlo,'DejaVu Sans Mono',consolas,'Courier New',monospace\">i = <span style=\"color: #008080; text-decoration-color: #008080; font-weight: bold\">160</span> | fname = <span style=\"color: #008000; text-decoration-color: #008000\">'2720412'</span> | county = <span style=\"color: #008000; text-decoration-color: #008000\">'NJ HUNTERDON'</span> | batch_name = <span style=\"color: #008000; text-decoration-color: #008000\">'NJ HUNTERDON 2024-06-08-0987160'</span>\n",
       "</pre>\n"
      ],
      "text/plain": [
       "i = \u001b[1;36m160\u001b[0m | fname = \u001b[32m'2720412'\u001b[0m | county = \u001b[32m'NJ HUNTERDON'\u001b[0m | batch_name = \u001b[32m'NJ HUNTERDON 2024-06-08-0987160'\u001b[0m\n"
      ]
     },
     "metadata": {},
     "output_type": "display_data"
    },
    {
     "data": {
      "text/html": [
       "<pre style=\"white-space:pre;overflow-x:auto;line-height:normal;font-family:Menlo,'DejaVu Sans Mono',consolas,'Courier New',monospace\">i = <span style=\"color: #008080; text-decoration-color: #008080; font-weight: bold\">161</span> | fname = <span style=\"color: #008000; text-decoration-color: #008000\">'2720416'</span> | county = <span style=\"color: #008000; text-decoration-color: #008000\">'NJ HUNTERDON'</span> | batch_name = <span style=\"color: #008000; text-decoration-color: #008000\">'NJ HUNTERDON 2024-06-08-0987161'</span>\n",
       "</pre>\n"
      ],
      "text/plain": [
       "i = \u001b[1;36m161\u001b[0m | fname = \u001b[32m'2720416'\u001b[0m | county = \u001b[32m'NJ HUNTERDON'\u001b[0m | batch_name = \u001b[32m'NJ HUNTERDON 2024-06-08-0987161'\u001b[0m\n"
      ]
     },
     "metadata": {},
     "output_type": "display_data"
    },
    {
     "data": {
      "text/html": [
       "<pre style=\"white-space:pre;overflow-x:auto;line-height:normal;font-family:Menlo,'DejaVu Sans Mono',consolas,'Courier New',monospace\">i = <span style=\"color: #008080; text-decoration-color: #008080; font-weight: bold\">162</span> | fname = <span style=\"color: #008000; text-decoration-color: #008000\">'2720417'</span> | county = <span style=\"color: #008000; text-decoration-color: #008000\">'NJ HUNTERDON'</span> | batch_name = <span style=\"color: #008000; text-decoration-color: #008000\">'NJ HUNTERDON 2024-06-08-0987162'</span>\n",
       "</pre>\n"
      ],
      "text/plain": [
       "i = \u001b[1;36m162\u001b[0m | fname = \u001b[32m'2720417'\u001b[0m | county = \u001b[32m'NJ HUNTERDON'\u001b[0m | batch_name = \u001b[32m'NJ HUNTERDON 2024-06-08-0987162'\u001b[0m\n"
      ]
     },
     "metadata": {},
     "output_type": "display_data"
    },
    {
     "data": {
      "text/html": [
       "<pre style=\"white-space:pre;overflow-x:auto;line-height:normal;font-family:Menlo,'DejaVu Sans Mono',consolas,'Courier New',monospace\">i = <span style=\"color: #008080; text-decoration-color: #008080; font-weight: bold\">163</span> | fname = <span style=\"color: #008000; text-decoration-color: #008000\">'2740843'</span> | county = <span style=\"color: #008000; text-decoration-color: #008000\">'NJ CUMBERLAND'</span> | batch_name = <span style=\"color: #008000; text-decoration-color: #008000\">'NJ CUMBERLAND 2024-06-08-0987163'</span>\n",
       "</pre>\n"
      ],
      "text/plain": [
       "i = \u001b[1;36m163\u001b[0m | fname = \u001b[32m'2740843'\u001b[0m | county = \u001b[32m'NJ CUMBERLAND'\u001b[0m | batch_name = \u001b[32m'NJ CUMBERLAND 2024-06-08-0987163'\u001b[0m\n"
      ]
     },
     "metadata": {},
     "output_type": "display_data"
    },
    {
     "data": {
      "text/html": [
       "<pre style=\"white-space:pre;overflow-x:auto;line-height:normal;font-family:Menlo,'DejaVu Sans Mono',consolas,'Courier New',monospace\">i = <span style=\"color: #008080; text-decoration-color: #008080; font-weight: bold\">164</span> | fname = <span style=\"color: #008000; text-decoration-color: #008000\">'2740844'</span> | county = <span style=\"color: #008000; text-decoration-color: #008000\">'NJ CUMBERLAND'</span> | batch_name = <span style=\"color: #008000; text-decoration-color: #008000\">'NJ CUMBERLAND 2024-06-08-0987164'</span>\n",
       "</pre>\n"
      ],
      "text/plain": [
       "i = \u001b[1;36m164\u001b[0m | fname = \u001b[32m'2740844'\u001b[0m | county = \u001b[32m'NJ CUMBERLAND'\u001b[0m | batch_name = \u001b[32m'NJ CUMBERLAND 2024-06-08-0987164'\u001b[0m\n"
      ]
     },
     "metadata": {},
     "output_type": "display_data"
    },
    {
     "data": {
      "text/html": [
       "<pre style=\"white-space:pre;overflow-x:auto;line-height:normal;font-family:Menlo,'DejaVu Sans Mono',consolas,'Courier New',monospace\">i = <span style=\"color: #008080; text-decoration-color: #008080; font-weight: bold\">165</span> | fname = <span style=\"color: #008000; text-decoration-color: #008000\">'2740845'</span> | county = <span style=\"color: #008000; text-decoration-color: #008000\">'NJ CUMBERLAND'</span> | batch_name = <span style=\"color: #008000; text-decoration-color: #008000\">'NJ CUMBERLAND 2024-06-08-0987165'</span>\n",
       "</pre>\n"
      ],
      "text/plain": [
       "i = \u001b[1;36m165\u001b[0m | fname = \u001b[32m'2740845'\u001b[0m | county = \u001b[32m'NJ CUMBERLAND'\u001b[0m | batch_name = \u001b[32m'NJ CUMBERLAND 2024-06-08-0987165'\u001b[0m\n"
      ]
     },
     "metadata": {},
     "output_type": "display_data"
    },
    {
     "data": {
      "text/html": [
       "<pre style=\"white-space:pre;overflow-x:auto;line-height:normal;font-family:Menlo,'DejaVu Sans Mono',consolas,'Courier New',monospace\">i = <span style=\"color: #008080; text-decoration-color: #008080; font-weight: bold\">166</span> | fname = <span style=\"color: #008000; text-decoration-color: #008000\">'2740860'</span> | county = <span style=\"color: #008000; text-decoration-color: #008000\">'NJ CUMBERLAND'</span> | batch_name = <span style=\"color: #008000; text-decoration-color: #008000\">'NJ CUMBERLAND 2024-06-08-0987166'</span>\n",
       "</pre>\n"
      ],
      "text/plain": [
       "i = \u001b[1;36m166\u001b[0m | fname = \u001b[32m'2740860'\u001b[0m | county = \u001b[32m'NJ CUMBERLAND'\u001b[0m | batch_name = \u001b[32m'NJ CUMBERLAND 2024-06-08-0987166'\u001b[0m\n"
      ]
     },
     "metadata": {},
     "output_type": "display_data"
    },
    {
     "data": {
      "text/html": [
       "<pre style=\"white-space:pre;overflow-x:auto;line-height:normal;font-family:Menlo,'DejaVu Sans Mono',consolas,'Courier New',monospace\">i = <span style=\"color: #008080; text-decoration-color: #008080; font-weight: bold\">167</span> | fname = <span style=\"color: #008000; text-decoration-color: #008000\">'2740879'</span> | county = <span style=\"color: #008000; text-decoration-color: #008000\">'NJ CUMBERLAND'</span> | batch_name = <span style=\"color: #008000; text-decoration-color: #008000\">'NJ CUMBERLAND 2024-06-08-0987167'</span>\n",
       "</pre>\n"
      ],
      "text/plain": [
       "i = \u001b[1;36m167\u001b[0m | fname = \u001b[32m'2740879'\u001b[0m | county = \u001b[32m'NJ CUMBERLAND'\u001b[0m | batch_name = \u001b[32m'NJ CUMBERLAND 2024-06-08-0987167'\u001b[0m\n"
      ]
     },
     "metadata": {},
     "output_type": "display_data"
    },
    {
     "data": {
      "text/html": [
       "<pre style=\"white-space:pre;overflow-x:auto;line-height:normal;font-family:Menlo,'DejaVu Sans Mono',consolas,'Courier New',monospace\">i = <span style=\"color: #008080; text-decoration-color: #008080; font-weight: bold\">168</span> | fname = <span style=\"color: #008000; text-decoration-color: #008000\">'2740882'</span> | county = <span style=\"color: #008000; text-decoration-color: #008000\">'NJ CUMBERLAND'</span> | batch_name = <span style=\"color: #008000; text-decoration-color: #008000\">'NJ CUMBERLAND 2024-06-08-0987168'</span>\n",
       "</pre>\n"
      ],
      "text/plain": [
       "i = \u001b[1;36m168\u001b[0m | fname = \u001b[32m'2740882'\u001b[0m | county = \u001b[32m'NJ CUMBERLAND'\u001b[0m | batch_name = \u001b[32m'NJ CUMBERLAND 2024-06-08-0987168'\u001b[0m\n"
      ]
     },
     "metadata": {},
     "output_type": "display_data"
    },
    {
     "data": {
      "text/html": [
       "<pre style=\"white-space:pre;overflow-x:auto;line-height:normal;font-family:Menlo,'DejaVu Sans Mono',consolas,'Courier New',monospace\">i = <span style=\"color: #008080; text-decoration-color: #008080; font-weight: bold\">169</span> | fname = <span style=\"color: #008000; text-decoration-color: #008000\">'2740961'</span> | county = <span style=\"color: #008000; text-decoration-color: #008000\">'NJ CUMBERLAND'</span> | batch_name = <span style=\"color: #008000; text-decoration-color: #008000\">'NJ CUMBERLAND 2024-06-08-0987169'</span>\n",
       "</pre>\n"
      ],
      "text/plain": [
       "i = \u001b[1;36m169\u001b[0m | fname = \u001b[32m'2740961'\u001b[0m | county = \u001b[32m'NJ CUMBERLAND'\u001b[0m | batch_name = \u001b[32m'NJ CUMBERLAND 2024-06-08-0987169'\u001b[0m\n"
      ]
     },
     "metadata": {},
     "output_type": "display_data"
    },
    {
     "data": {
      "text/html": [
       "<pre style=\"white-space:pre;overflow-x:auto;line-height:normal;font-family:Menlo,'DejaVu Sans Mono',consolas,'Courier New',monospace\">i = <span style=\"color: #008080; text-decoration-color: #008080; font-weight: bold\">170</span> | fname = <span style=\"color: #008000; text-decoration-color: #008000\">'2740964'</span> | county = <span style=\"color: #008000; text-decoration-color: #008000\">'NJ CUMBERLAND'</span> | batch_name = <span style=\"color: #008000; text-decoration-color: #008000\">'NJ CUMBERLAND 2024-06-08-0987170'</span>\n",
       "</pre>\n"
      ],
      "text/plain": [
       "i = \u001b[1;36m170\u001b[0m | fname = \u001b[32m'2740964'\u001b[0m | county = \u001b[32m'NJ CUMBERLAND'\u001b[0m | batch_name = \u001b[32m'NJ CUMBERLAND 2024-06-08-0987170'\u001b[0m\n"
      ]
     },
     "metadata": {},
     "output_type": "display_data"
    },
    {
     "data": {
      "text/html": [
       "<pre style=\"white-space:pre;overflow-x:auto;line-height:normal;font-family:Menlo,'DejaVu Sans Mono',consolas,'Courier New',monospace\">i = <span style=\"color: #008080; text-decoration-color: #008080; font-weight: bold\">171</span> | fname = <span style=\"color: #008000; text-decoration-color: #008000\">'2740966'</span> | county = <span style=\"color: #008000; text-decoration-color: #008000\">'NJ CUMBERLAND'</span> | batch_name = <span style=\"color: #008000; text-decoration-color: #008000\">'NJ CUMBERLAND 2024-06-08-0987171'</span>\n",
       "</pre>\n"
      ],
      "text/plain": [
       "i = \u001b[1;36m171\u001b[0m | fname = \u001b[32m'2740966'\u001b[0m | county = \u001b[32m'NJ CUMBERLAND'\u001b[0m | batch_name = \u001b[32m'NJ CUMBERLAND 2024-06-08-0987171'\u001b[0m\n"
      ]
     },
     "metadata": {},
     "output_type": "display_data"
    },
    {
     "data": {
      "text/html": [
       "<pre style=\"white-space:pre;overflow-x:auto;line-height:normal;font-family:Menlo,'DejaVu Sans Mono',consolas,'Courier New',monospace\">i = <span style=\"color: #008080; text-decoration-color: #008080; font-weight: bold\">172</span> | fname = <span style=\"color: #008000; text-decoration-color: #008000\">'2740969'</span> | county = <span style=\"color: #008000; text-decoration-color: #008000\">'NJ CUMBERLAND'</span> | batch_name = <span style=\"color: #008000; text-decoration-color: #008000\">'NJ CUMBERLAND 2024-06-08-0987172'</span>\n",
       "</pre>\n"
      ],
      "text/plain": [
       "i = \u001b[1;36m172\u001b[0m | fname = \u001b[32m'2740969'\u001b[0m | county = \u001b[32m'NJ CUMBERLAND'\u001b[0m | batch_name = \u001b[32m'NJ CUMBERLAND 2024-06-08-0987172'\u001b[0m\n"
      ]
     },
     "metadata": {},
     "output_type": "display_data"
    },
    {
     "data": {
      "text/html": [
       "<pre style=\"white-space:pre;overflow-x:auto;line-height:normal;font-family:Menlo,'DejaVu Sans Mono',consolas,'Courier New',monospace\">i = <span style=\"color: #008080; text-decoration-color: #008080; font-weight: bold\">173</span> | fname = <span style=\"color: #008000; text-decoration-color: #008000\">'2740971'</span> | county = <span style=\"color: #008000; text-decoration-color: #008000\">'NJ CUMBERLAND'</span> | batch_name = <span style=\"color: #008000; text-decoration-color: #008000\">'NJ CUMBERLAND 2024-06-08-0987173'</span>\n",
       "</pre>\n"
      ],
      "text/plain": [
       "i = \u001b[1;36m173\u001b[0m | fname = \u001b[32m'2740971'\u001b[0m | county = \u001b[32m'NJ CUMBERLAND'\u001b[0m | batch_name = \u001b[32m'NJ CUMBERLAND 2024-06-08-0987173'\u001b[0m\n"
      ]
     },
     "metadata": {},
     "output_type": "display_data"
    },
    {
     "data": {
      "text/html": [
       "<pre style=\"white-space:pre;overflow-x:auto;line-height:normal;font-family:Menlo,'DejaVu Sans Mono',consolas,'Courier New',monospace\">i = <span style=\"color: #008080; text-decoration-color: #008080; font-weight: bold\">174</span> | fname = <span style=\"color: #008000; text-decoration-color: #008000\">'2741001'</span> | county = <span style=\"color: #008000; text-decoration-color: #008000\">'NJ CUMBERLAND'</span> | batch_name = <span style=\"color: #008000; text-decoration-color: #008000\">'NJ CUMBERLAND 2024-06-08-0987174'</span>\n",
       "</pre>\n"
      ],
      "text/plain": [
       "i = \u001b[1;36m174\u001b[0m | fname = \u001b[32m'2741001'\u001b[0m | county = \u001b[32m'NJ CUMBERLAND'\u001b[0m | batch_name = \u001b[32m'NJ CUMBERLAND 2024-06-08-0987174'\u001b[0m\n"
      ]
     },
     "metadata": {},
     "output_type": "display_data"
    },
    {
     "data": {
      "text/html": [
       "<pre style=\"white-space:pre;overflow-x:auto;line-height:normal;font-family:Menlo,'DejaVu Sans Mono',consolas,'Courier New',monospace\">i = <span style=\"color: #008080; text-decoration-color: #008080; font-weight: bold\">175</span> | fname = <span style=\"color: #008000; text-decoration-color: #008000\">'2741020'</span> | county = <span style=\"color: #008000; text-decoration-color: #008000\">'NJ CUMBERLAND'</span> | batch_name = <span style=\"color: #008000; text-decoration-color: #008000\">'NJ CUMBERLAND 2024-06-08-0987175'</span>\n",
       "</pre>\n"
      ],
      "text/plain": [
       "i = \u001b[1;36m175\u001b[0m | fname = \u001b[32m'2741020'\u001b[0m | county = \u001b[32m'NJ CUMBERLAND'\u001b[0m | batch_name = \u001b[32m'NJ CUMBERLAND 2024-06-08-0987175'\u001b[0m\n"
      ]
     },
     "metadata": {},
     "output_type": "display_data"
    },
    {
     "data": {
      "text/html": [
       "<pre style=\"white-space:pre;overflow-x:auto;line-height:normal;font-family:Menlo,'DejaVu Sans Mono',consolas,'Courier New',monospace\">i = <span style=\"color: #008080; text-decoration-color: #008080; font-weight: bold\">176</span> | fname = <span style=\"color: #008000; text-decoration-color: #008000\">'2741027'</span> | county = <span style=\"color: #008000; text-decoration-color: #008000\">'NJ CUMBERLAND'</span> | batch_name = <span style=\"color: #008000; text-decoration-color: #008000\">'NJ CUMBERLAND 2024-06-08-0987176'</span>\n",
       "</pre>\n"
      ],
      "text/plain": [
       "i = \u001b[1;36m176\u001b[0m | fname = \u001b[32m'2741027'\u001b[0m | county = \u001b[32m'NJ CUMBERLAND'\u001b[0m | batch_name = \u001b[32m'NJ CUMBERLAND 2024-06-08-0987176'\u001b[0m\n"
      ]
     },
     "metadata": {},
     "output_type": "display_data"
    },
    {
     "data": {
      "text/html": [
       "<pre style=\"white-space:pre;overflow-x:auto;line-height:normal;font-family:Menlo,'DejaVu Sans Mono',consolas,'Courier New',monospace\">i = <span style=\"color: #008080; text-decoration-color: #008080; font-weight: bold\">177</span> | fname = <span style=\"color: #008000; text-decoration-color: #008000\">'2741125'</span> | county = <span style=\"color: #008000; text-decoration-color: #008000\">'NJ CUMBERLAND'</span> | batch_name = <span style=\"color: #008000; text-decoration-color: #008000\">'NJ CUMBERLAND 2024-06-08-0987177'</span>\n",
       "</pre>\n"
      ],
      "text/plain": [
       "i = \u001b[1;36m177\u001b[0m | fname = \u001b[32m'2741125'\u001b[0m | county = \u001b[32m'NJ CUMBERLAND'\u001b[0m | batch_name = \u001b[32m'NJ CUMBERLAND 2024-06-08-0987177'\u001b[0m\n"
      ]
     },
     "metadata": {},
     "output_type": "display_data"
    }
   ],
   "source": [
    "import json\n",
    "import zipfile\n",
    "from pathlib import Path\n",
    "from rich import print\n",
    "import pandas as pd\n",
    "name_index = {}\n",
    "\n",
    "for i,p in enumerate(Path(\n",
    "    r\"C:\\Users\\surakumar\\OneDrive - CoreLogic Solutions, LLC\\Downloads\\pythonCode\\ok_retest\"\n",
    ").iterdir()):\n",
    "    # arc = zipfile.ZipFile(p, mode=\"r\")\n",
    "    # break\n",
    "    fname = p.stem\n",
    "    county = df[df.batch_id==int(fname)]['St & county'].values[0]\n",
    "    batch_name = f\"{county} 2024-06-08-0987\" + '0'*(3-len(str(i))) + str(i)\n",
    "    print(f\"{i = } | {fname = } | {county = } | {batch_name = }\")\n",
    "    # Path(batch_name).mkdir()\n",
    "    bytes = None\n",
    "    with zipfile.ZipFile(p, mode=\"r\") as archive:\n",
    "        for name in archive.namelist():\n",
    "            if name.startswith(\"docIMG\"):\n",
    "                name_index[fname] = name\n",
    "                # archive.extract(name,path=f\"./njstate/{batch_name}\")\n",
    "    # with zipfile.ZipFile(rf\"C:\\Users\\surakumar\\OneDrive - CoreLogic Solutions, LLC\\Downloads\\pythonCode\\njstate\\{batch_name}.zip\", \"w\", zipfile.ZIP_DEFLATED) as final:\n",
    "    #     final.write(bytes)\n",
    "    #     print(\"done\")\n",
    "                # with archive.open(name,'r') as file:\n",
    "                #     text = file.read().decode()\n",
    "                #     text = nj_clean(text)\n",
    "                #     ocr_df=pd.DataFrame({\"data\":[text]},dtype=str)\n",
    "                #     pred_value=model.predict(vectorize(ocr_df[\"data\"].values.astype('U'),tfidf))\n",
    "                #     print(pred_value[0])\n"
   ]
  },
  {
   "cell_type": "code",
   "execution_count": 1,
   "id": "1accefb8-e6a1-4189-83b9-f2d65f33d1fb",
   "metadata": {},
   "outputs": [
    {
     "ename": "NameError",
     "evalue": "name 'df' is not defined",
     "output_type": "error",
     "traceback": [
      "\u001b[1;31m---------------------------------------------------------------------------\u001b[0m",
      "\u001b[1;31mNameError\u001b[0m                                 Traceback (most recent call last)",
      "Cell \u001b[1;32mIn[1], line 14\u001b[0m\n\u001b[0;32m      8\u001b[0m \u001b[38;5;28;01mfor\u001b[39;00m i,p \u001b[38;5;129;01min\u001b[39;00m \u001b[38;5;28menumerate\u001b[39m(Path(\n\u001b[0;32m      9\u001b[0m     \u001b[38;5;124mr\u001b[39m\u001b[38;5;124m\"\u001b[39m\u001b[38;5;124mC:\u001b[39m\u001b[38;5;124m\\\u001b[39m\u001b[38;5;124mUsers\u001b[39m\u001b[38;5;124m\\\u001b[39m\u001b[38;5;124msurakumar\u001b[39m\u001b[38;5;124m\\\u001b[39m\u001b[38;5;124mOneDrive - CoreLogic Solutions, LLC\u001b[39m\u001b[38;5;124m\\\u001b[39m\u001b[38;5;124mDownloads\u001b[39m\u001b[38;5;124m\\\u001b[39m\u001b[38;5;124mpythonCode\u001b[39m\u001b[38;5;124m\\\u001b[39m\u001b[38;5;124mok_retest\u001b[39m\u001b[38;5;124m\"\u001b[39m\n\u001b[0;32m     10\u001b[0m )\u001b[38;5;241m.\u001b[39miterdir()):\n\u001b[0;32m     11\u001b[0m     \u001b[38;5;66;03m# arc = zipfile.ZipFile(p, mode=\"r\")\u001b[39;00m\n\u001b[0;32m     12\u001b[0m     \u001b[38;5;66;03m# break\u001b[39;00m\n\u001b[0;32m     13\u001b[0m     fname \u001b[38;5;241m=\u001b[39m p\u001b[38;5;241m.\u001b[39mstem\n\u001b[1;32m---> 14\u001b[0m     county \u001b[38;5;241m=\u001b[39m df[df\u001b[38;5;241m.\u001b[39mbatch_id\u001b[38;5;241m==\u001b[39m\u001b[38;5;28mint\u001b[39m(fname)][\u001b[38;5;124m'\u001b[39m\u001b[38;5;124mSt & county\u001b[39m\u001b[38;5;124m'\u001b[39m]\u001b[38;5;241m.\u001b[39mvalues[\u001b[38;5;241m0\u001b[39m]\n\u001b[0;32m     15\u001b[0m     batch_name \u001b[38;5;241m=\u001b[39m \u001b[38;5;124mf\u001b[39m\u001b[38;5;124m\"\u001b[39m\u001b[38;5;132;01m{\u001b[39;00mcounty\u001b[38;5;132;01m}\u001b[39;00m\u001b[38;5;124m 2024-06-08-0987\u001b[39m\u001b[38;5;124m\"\u001b[39m \u001b[38;5;241m+\u001b[39m \u001b[38;5;124m'\u001b[39m\u001b[38;5;124m0\u001b[39m\u001b[38;5;124m'\u001b[39m\u001b[38;5;241m*\u001b[39m(\u001b[38;5;241m3\u001b[39m\u001b[38;5;241m-\u001b[39m\u001b[38;5;28mlen\u001b[39m(\u001b[38;5;28mstr\u001b[39m(i))) \u001b[38;5;241m+\u001b[39m \u001b[38;5;28mstr\u001b[39m(i)\n\u001b[0;32m     16\u001b[0m     \u001b[38;5;28mprint\u001b[39m(\u001b[38;5;124mf\u001b[39m\u001b[38;5;124m\"\u001b[39m\u001b[38;5;132;01m{\u001b[39;00mi\u001b[38;5;250m \u001b[39m\u001b[38;5;132;01m= }\u001b[39;00m\u001b[38;5;124m | \u001b[39m\u001b[38;5;132;01m{\u001b[39;00mfname\u001b[38;5;250m \u001b[39m\u001b[38;5;132;01m= }\u001b[39;00m\u001b[38;5;124m | \u001b[39m\u001b[38;5;132;01m{\u001b[39;00mcounty\u001b[38;5;250m \u001b[39m\u001b[38;5;132;01m= }\u001b[39;00m\u001b[38;5;124m | \u001b[39m\u001b[38;5;132;01m{\u001b[39;00mbatch_name\u001b[38;5;250m \u001b[39m\u001b[38;5;132;01m= }\u001b[39;00m\u001b[38;5;124m\"\u001b[39m)\n",
      "\u001b[1;31mNameError\u001b[0m: name 'df' is not defined"
     ]
    }
   ],
   "source": [
    "import json\n",
    "import zipfile\n",
    "from pathlib import Path\n",
    "from rich import print\n",
    "import pandas as pd\n",
    "\n",
    "\n",
    "for i,p in enumerate(Path(\n",
    "    r\"C:\\Users\\surakumar\\OneDrive - CoreLogic Solutions, LLC\\Downloads\\pythonCode\\ok_retest\"\n",
    ").iterdir()):\n",
    "    # arc = zipfile.ZipFile(p, mode=\"r\")\n",
    "    # break\n",
    "    fname = p.stem\n",
    "    county = df[df.batch_id==int(fname)]['St & county'].values[0]\n",
    "    batch_name = f\"{county} 2024-06-08-0987\" + '0'*(3-len(str(i))) + str(i)\n",
    "    print(f\"{i = } | {fname = } | {county = } | {batch_name = }\")\n",
    "    # Path(batch_name).mkdir()\n",
    "    bytes = None\n",
    "    with zipfile.ZipFile(p, mode=\"r\") as archive:\n",
    "        for name in archive.namelist():\n",
    "            if name.startswith(\"docIMG\"):\n",
    "                archive.extract(name,path=f\"./njstate/{batch_name}\")\n",
    "    # with zipfile.ZipFile(rf\"C:\\Users\\surakumar\\OneDrive - CoreLogic Solutions, LLC\\Downloads\\pythonCode\\njstate\\{batch_name}.zip\", \"w\", zipfile.ZIP_DEFLATED) as final:\n",
    "    #     final.write(bytes)\n",
    "    #     print(\"done\")\n",
    "                # with archive.open(name,'r') as file:\n",
    "                #     text = file.read().decode()\n",
    "                #     text = nj_clean(text)\n",
    "                #     ocr_df=pd.DataFrame({\"data\":[text]},dtype=str)\n",
    "                #     pred_value=model.predict(vectorize(ocr_df[\"data\"].values.astype('U'),tfidf))\n",
    "                #     print(pred_value[0])\n"
   ]
  },
  {
   "cell_type": "code",
   "execution_count": 21,
   "id": "87fb0a35-dfc3-414b-a643-9af5c261a3e0",
   "metadata": {},
   "outputs": [
    {
     "data": {
      "text/plain": [
       "'2717942'"
      ]
     },
     "execution_count": 21,
     "metadata": {},
     "output_type": "execute_result"
    }
   ],
   "source": [
    "p.stem"
   ]
  },
  {
   "cell_type": "code",
   "execution_count": 27,
   "id": "38b986d7-b52f-4717-b6a6-b462cde64d7b",
   "metadata": {
    "deletable": true,
    "editable": true,
    "frozen": false
   },
   "outputs": [
    {
     "data": {
      "text/html": [
       "<pre style=\"white-space:pre;overflow-x:auto;line-height:normal;font-family:Menlo,'DejaVu Sans Mono',consolas,'Courier New',monospace\">inside nj_clean\n",
       "</pre>\n"
      ],
      "text/plain": [
       "inside nj_clean\n"
      ]
     },
     "metadata": {},
     "output_type": "display_data"
    },
    {
     "name": "stderr",
     "output_type": "stream",
     "text": [
      "C:\\ProgramData\\anaconda3\\Lib\\site-packages\\sklearn\\base.py:432: UserWarning: X has feature names, but RandomForestClassifier was fitted without feature names\n",
      "  warnings.warn(\n"
     ]
    },
    {
     "data": {
      "text/html": [
       "<pre style=\"white-space:pre;overflow-x:auto;line-height:normal;font-family:Menlo,'DejaVu Sans Mono',consolas,'Courier New',monospace\">DocImageIndex\n",
       "</pre>\n"
      ],
      "text/plain": [
       "DocImageIndex\n"
      ]
     },
     "metadata": {},
     "output_type": "display_data"
    },
    {
     "data": {
      "text/html": [
       "<pre style=\"white-space:pre;overflow-x:auto;line-height:normal;font-family:Menlo,'DejaVu Sans Mono',consolas,'Courier New',monospace\">inside nj_clean\n",
       "</pre>\n"
      ],
      "text/plain": [
       "inside nj_clean\n"
      ]
     },
     "metadata": {},
     "output_type": "display_data"
    },
    {
     "name": "stderr",
     "output_type": "stream",
     "text": [
      "C:\\ProgramData\\anaconda3\\Lib\\site-packages\\sklearn\\base.py:432: UserWarning: X has feature names, but RandomForestClassifier was fitted without feature names\n",
      "  warnings.warn(\n"
     ]
    },
    {
     "data": {
      "text/html": [
       "<pre style=\"white-space:pre;overflow-x:auto;line-height:normal;font-family:Menlo,'DejaVu Sans Mono',consolas,'Courier New',monospace\">DocImageIndex\n",
       "</pre>\n"
      ],
      "text/plain": [
       "DocImageIndex\n"
      ]
     },
     "metadata": {},
     "output_type": "display_data"
    },
    {
     "data": {
      "text/html": [
       "<pre style=\"white-space:pre;overflow-x:auto;line-height:normal;font-family:Menlo,'DejaVu Sans Mono',consolas,'Courier New',monospace\">inside nj_clean\n",
       "</pre>\n"
      ],
      "text/plain": [
       "inside nj_clean\n"
      ]
     },
     "metadata": {},
     "output_type": "display_data"
    },
    {
     "name": "stderr",
     "output_type": "stream",
     "text": [
      "C:\\ProgramData\\anaconda3\\Lib\\site-packages\\sklearn\\base.py:432: UserWarning: X has feature names, but RandomForestClassifier was fitted without feature names\n",
      "  warnings.warn(\n"
     ]
    },
    {
     "data": {
      "text/html": [
       "<pre style=\"white-space:pre;overflow-x:auto;line-height:normal;font-family:Menlo,'DejaVu Sans Mono',consolas,'Courier New',monospace\">DocImageIndex\n",
       "</pre>\n"
      ],
      "text/plain": [
       "DocImageIndex\n"
      ]
     },
     "metadata": {},
     "output_type": "display_data"
    },
    {
     "data": {
      "text/html": [
       "<pre style=\"white-space:pre;overflow-x:auto;line-height:normal;font-family:Menlo,'DejaVu Sans Mono',consolas,'Courier New',monospace\">inside nj_clean\n",
       "</pre>\n"
      ],
      "text/plain": [
       "inside nj_clean\n"
      ]
     },
     "metadata": {},
     "output_type": "display_data"
    },
    {
     "name": "stderr",
     "output_type": "stream",
     "text": [
      "C:\\ProgramData\\anaconda3\\Lib\\site-packages\\sklearn\\base.py:432: UserWarning: X has feature names, but RandomForestClassifier was fitted without feature names\n",
      "  warnings.warn(\n"
     ]
    },
    {
     "data": {
      "text/html": [
       "<pre style=\"white-space:pre;overflow-x:auto;line-height:normal;font-family:Menlo,'DejaVu Sans Mono',consolas,'Courier New',monospace\">DocImageIndex\n",
       "</pre>\n"
      ],
      "text/plain": [
       "DocImageIndex\n"
      ]
     },
     "metadata": {},
     "output_type": "display_data"
    },
    {
     "data": {
      "text/html": [
       "<pre style=\"white-space:pre;overflow-x:auto;line-height:normal;font-family:Menlo,'DejaVu Sans Mono',consolas,'Courier New',monospace\">inside nj_clean\n",
       "</pre>\n"
      ],
      "text/plain": [
       "inside nj_clean\n"
      ]
     },
     "metadata": {},
     "output_type": "display_data"
    },
    {
     "name": "stderr",
     "output_type": "stream",
     "text": [
      "C:\\ProgramData\\anaconda3\\Lib\\site-packages\\sklearn\\base.py:432: UserWarning: X has feature names, but RandomForestClassifier was fitted without feature names\n",
      "  warnings.warn(\n"
     ]
    },
    {
     "data": {
      "text/html": [
       "<pre style=\"white-space:pre;overflow-x:auto;line-height:normal;font-family:Menlo,'DejaVu Sans Mono',consolas,'Courier New',monospace\">DocImageIndex\n",
       "</pre>\n"
      ],
      "text/plain": [
       "DocImageIndex\n"
      ]
     },
     "metadata": {},
     "output_type": "display_data"
    },
    {
     "data": {
      "text/html": [
       "<pre style=\"white-space:pre;overflow-x:auto;line-height:normal;font-family:Menlo,'DejaVu Sans Mono',consolas,'Courier New',monospace\">inside nj_clean\n",
       "</pre>\n"
      ],
      "text/plain": [
       "inside nj_clean\n"
      ]
     },
     "metadata": {},
     "output_type": "display_data"
    },
    {
     "name": "stderr",
     "output_type": "stream",
     "text": [
      "C:\\ProgramData\\anaconda3\\Lib\\site-packages\\sklearn\\base.py:432: UserWarning: X has feature names, but RandomForestClassifier was fitted without feature names\n",
      "  warnings.warn(\n"
     ]
    },
    {
     "data": {
      "text/html": [
       "<pre style=\"white-space:pre;overflow-x:auto;line-height:normal;font-family:Menlo,'DejaVu Sans Mono',consolas,'Courier New',monospace\">DocImageIndex\n",
       "</pre>\n"
      ],
      "text/plain": [
       "DocImageIndex\n"
      ]
     },
     "metadata": {},
     "output_type": "display_data"
    },
    {
     "data": {
      "text/html": [
       "<pre style=\"white-space:pre;overflow-x:auto;line-height:normal;font-family:Menlo,'DejaVu Sans Mono',consolas,'Courier New',monospace\">inside nj_clean\n",
       "</pre>\n"
      ],
      "text/plain": [
       "inside nj_clean\n"
      ]
     },
     "metadata": {},
     "output_type": "display_data"
    },
    {
     "name": "stderr",
     "output_type": "stream",
     "text": [
      "C:\\ProgramData\\anaconda3\\Lib\\site-packages\\sklearn\\base.py:432: UserWarning: X has feature names, but RandomForestClassifier was fitted without feature names\n",
      "  warnings.warn(\n"
     ]
    },
    {
     "data": {
      "text/html": [
       "<pre style=\"white-space:pre;overflow-x:auto;line-height:normal;font-family:Menlo,'DejaVu Sans Mono',consolas,'Courier New',monospace\">DocImageIndex\n",
       "</pre>\n"
      ],
      "text/plain": [
       "DocImageIndex\n"
      ]
     },
     "metadata": {},
     "output_type": "display_data"
    },
    {
     "data": {
      "text/html": [
       "<pre style=\"white-space:pre;overflow-x:auto;line-height:normal;font-family:Menlo,'DejaVu Sans Mono',consolas,'Courier New',monospace\">inside nj_clean\n",
       "</pre>\n"
      ],
      "text/plain": [
       "inside nj_clean\n"
      ]
     },
     "metadata": {},
     "output_type": "display_data"
    },
    {
     "name": "stderr",
     "output_type": "stream",
     "text": [
      "C:\\ProgramData\\anaconda3\\Lib\\site-packages\\sklearn\\base.py:432: UserWarning: X has feature names, but RandomForestClassifier was fitted without feature names\n",
      "  warnings.warn(\n"
     ]
    },
    {
     "data": {
      "text/html": [
       "<pre style=\"white-space:pre;overflow-x:auto;line-height:normal;font-family:Menlo,'DejaVu Sans Mono',consolas,'Courier New',monospace\">DocImageIndex\n",
       "</pre>\n"
      ],
      "text/plain": [
       "DocImageIndex\n"
      ]
     },
     "metadata": {},
     "output_type": "display_data"
    },
    {
     "data": {
      "text/html": [
       "<pre style=\"white-space:pre;overflow-x:auto;line-height:normal;font-family:Menlo,'DejaVu Sans Mono',consolas,'Courier New',monospace\">inside nj_clean\n",
       "</pre>\n"
      ],
      "text/plain": [
       "inside nj_clean\n"
      ]
     },
     "metadata": {},
     "output_type": "display_data"
    },
    {
     "name": "stderr",
     "output_type": "stream",
     "text": [
      "C:\\ProgramData\\anaconda3\\Lib\\site-packages\\sklearn\\base.py:432: UserWarning: X has feature names, but RandomForestClassifier was fitted without feature names\n",
      "  warnings.warn(\n"
     ]
    },
    {
     "data": {
      "text/html": [
       "<pre style=\"white-space:pre;overflow-x:auto;line-height:normal;font-family:Menlo,'DejaVu Sans Mono',consolas,'Courier New',monospace\">DocImageIndex\n",
       "</pre>\n"
      ],
      "text/plain": [
       "DocImageIndex\n"
      ]
     },
     "metadata": {},
     "output_type": "display_data"
    },
    {
     "data": {
      "text/html": [
       "<pre style=\"white-space:pre;overflow-x:auto;line-height:normal;font-family:Menlo,'DejaVu Sans Mono',consolas,'Courier New',monospace\">inside nj_clean\n",
       "</pre>\n"
      ],
      "text/plain": [
       "inside nj_clean\n"
      ]
     },
     "metadata": {},
     "output_type": "display_data"
    },
    {
     "name": "stderr",
     "output_type": "stream",
     "text": [
      "C:\\ProgramData\\anaconda3\\Lib\\site-packages\\sklearn\\base.py:432: UserWarning: X has feature names, but RandomForestClassifier was fitted without feature names\n",
      "  warnings.warn(\n"
     ]
    },
    {
     "data": {
      "text/html": [
       "<pre style=\"white-space:pre;overflow-x:auto;line-height:normal;font-family:Menlo,'DejaVu Sans Mono',consolas,'Courier New',monospace\">DocImageIndex\n",
       "</pre>\n"
      ],
      "text/plain": [
       "DocImageIndex\n"
      ]
     },
     "metadata": {},
     "output_type": "display_data"
    },
    {
     "data": {
      "text/html": [
       "<pre style=\"white-space:pre;overflow-x:auto;line-height:normal;font-family:Menlo,'DejaVu Sans Mono',consolas,'Courier New',monospace\">inside nj_clean\n",
       "</pre>\n"
      ],
      "text/plain": [
       "inside nj_clean\n"
      ]
     },
     "metadata": {},
     "output_type": "display_data"
    },
    {
     "name": "stderr",
     "output_type": "stream",
     "text": [
      "C:\\ProgramData\\anaconda3\\Lib\\site-packages\\sklearn\\base.py:432: UserWarning: X has feature names, but RandomForestClassifier was fitted without feature names\n",
      "  warnings.warn(\n"
     ]
    },
    {
     "data": {
      "text/html": [
       "<pre style=\"white-space:pre;overflow-x:auto;line-height:normal;font-family:Menlo,'DejaVu Sans Mono',consolas,'Courier New',monospace\">DocImageIndex\n",
       "</pre>\n"
      ],
      "text/plain": [
       "DocImageIndex\n"
      ]
     },
     "metadata": {},
     "output_type": "display_data"
    },
    {
     "data": {
      "text/html": [
       "<pre style=\"white-space:pre;overflow-x:auto;line-height:normal;font-family:Menlo,'DejaVu Sans Mono',consolas,'Courier New',monospace\">inside nj_clean\n",
       "</pre>\n"
      ],
      "text/plain": [
       "inside nj_clean\n"
      ]
     },
     "metadata": {},
     "output_type": "display_data"
    },
    {
     "name": "stderr",
     "output_type": "stream",
     "text": [
      "C:\\ProgramData\\anaconda3\\Lib\\site-packages\\sklearn\\base.py:432: UserWarning: X has feature names, but RandomForestClassifier was fitted without feature names\n",
      "  warnings.warn(\n"
     ]
    },
    {
     "data": {
      "text/html": [
       "<pre style=\"white-space:pre;overflow-x:auto;line-height:normal;font-family:Menlo,'DejaVu Sans Mono',consolas,'Courier New',monospace\">DocImageIndex\n",
       "</pre>\n"
      ],
      "text/plain": [
       "DocImageIndex\n"
      ]
     },
     "metadata": {},
     "output_type": "display_data"
    },
    {
     "data": {
      "text/html": [
       "<pre style=\"white-space:pre;overflow-x:auto;line-height:normal;font-family:Menlo,'DejaVu Sans Mono',consolas,'Courier New',monospace\">inside nj_clean\n",
       "</pre>\n"
      ],
      "text/plain": [
       "inside nj_clean\n"
      ]
     },
     "metadata": {},
     "output_type": "display_data"
    },
    {
     "name": "stderr",
     "output_type": "stream",
     "text": [
      "C:\\ProgramData\\anaconda3\\Lib\\site-packages\\sklearn\\base.py:432: UserWarning: X has feature names, but RandomForestClassifier was fitted without feature names\n",
      "  warnings.warn(\n"
     ]
    },
    {
     "data": {
      "text/html": [
       "<pre style=\"white-space:pre;overflow-x:auto;line-height:normal;font-family:Menlo,'DejaVu Sans Mono',consolas,'Courier New',monospace\">DocImageIndex\n",
       "</pre>\n"
      ],
      "text/plain": [
       "DocImageIndex\n"
      ]
     },
     "metadata": {},
     "output_type": "display_data"
    },
    {
     "data": {
      "text/html": [
       "<pre style=\"white-space:pre;overflow-x:auto;line-height:normal;font-family:Menlo,'DejaVu Sans Mono',consolas,'Courier New',monospace\">inside nj_clean\n",
       "</pre>\n"
      ],
      "text/plain": [
       "inside nj_clean\n"
      ]
     },
     "metadata": {},
     "output_type": "display_data"
    },
    {
     "name": "stderr",
     "output_type": "stream",
     "text": [
      "C:\\ProgramData\\anaconda3\\Lib\\site-packages\\sklearn\\base.py:432: UserWarning: X has feature names, but RandomForestClassifier was fitted without feature names\n",
      "  warnings.warn(\n"
     ]
    },
    {
     "data": {
      "text/html": [
       "<pre style=\"white-space:pre;overflow-x:auto;line-height:normal;font-family:Menlo,'DejaVu Sans Mono',consolas,'Courier New',monospace\">DocImageIndex\n",
       "</pre>\n"
      ],
      "text/plain": [
       "DocImageIndex\n"
      ]
     },
     "metadata": {},
     "output_type": "display_data"
    },
    {
     "data": {
      "text/html": [
       "<pre style=\"white-space:pre;overflow-x:auto;line-height:normal;font-family:Menlo,'DejaVu Sans Mono',consolas,'Courier New',monospace\">inside nj_clean\n",
       "</pre>\n"
      ],
      "text/plain": [
       "inside nj_clean\n"
      ]
     },
     "metadata": {},
     "output_type": "display_data"
    },
    {
     "name": "stderr",
     "output_type": "stream",
     "text": [
      "C:\\ProgramData\\anaconda3\\Lib\\site-packages\\sklearn\\base.py:432: UserWarning: X has feature names, but RandomForestClassifier was fitted without feature names\n",
      "  warnings.warn(\n"
     ]
    },
    {
     "data": {
      "text/html": [
       "<pre style=\"white-space:pre;overflow-x:auto;line-height:normal;font-family:Menlo,'DejaVu Sans Mono',consolas,'Courier New',monospace\">DocImageIndex\n",
       "</pre>\n"
      ],
      "text/plain": [
       "DocImageIndex\n"
      ]
     },
     "metadata": {},
     "output_type": "display_data"
    },
    {
     "data": {
      "text/html": [
       "<pre style=\"white-space:pre;overflow-x:auto;line-height:normal;font-family:Menlo,'DejaVu Sans Mono',consolas,'Courier New',monospace\">inside nj_clean\n",
       "</pre>\n"
      ],
      "text/plain": [
       "inside nj_clean\n"
      ]
     },
     "metadata": {},
     "output_type": "display_data"
    },
    {
     "name": "stderr",
     "output_type": "stream",
     "text": [
      "C:\\ProgramData\\anaconda3\\Lib\\site-packages\\sklearn\\base.py:432: UserWarning: X has feature names, but RandomForestClassifier was fitted without feature names\n",
      "  warnings.warn(\n"
     ]
    },
    {
     "data": {
      "text/html": [
       "<pre style=\"white-space:pre;overflow-x:auto;line-height:normal;font-family:Menlo,'DejaVu Sans Mono',consolas,'Courier New',monospace\">DocImageIndex\n",
       "</pre>\n"
      ],
      "text/plain": [
       "DocImageIndex\n"
      ]
     },
     "metadata": {},
     "output_type": "display_data"
    },
    {
     "data": {
      "text/html": [
       "<pre style=\"white-space:pre;overflow-x:auto;line-height:normal;font-family:Menlo,'DejaVu Sans Mono',consolas,'Courier New',monospace\">inside nj_clean\n",
       "</pre>\n"
      ],
      "text/plain": [
       "inside nj_clean\n"
      ]
     },
     "metadata": {},
     "output_type": "display_data"
    },
    {
     "name": "stderr",
     "output_type": "stream",
     "text": [
      "C:\\ProgramData\\anaconda3\\Lib\\site-packages\\sklearn\\base.py:432: UserWarning: X has feature names, but RandomForestClassifier was fitted without feature names\n",
      "  warnings.warn(\n"
     ]
    },
    {
     "data": {
      "text/html": [
       "<pre style=\"white-space:pre;overflow-x:auto;line-height:normal;font-family:Menlo,'DejaVu Sans Mono',consolas,'Courier New',monospace\">DocImageIndex\n",
       "</pre>\n"
      ],
      "text/plain": [
       "DocImageIndex\n"
      ]
     },
     "metadata": {},
     "output_type": "display_data"
    },
    {
     "data": {
      "text/html": [
       "<pre style=\"white-space:pre;overflow-x:auto;line-height:normal;font-family:Menlo,'DejaVu Sans Mono',consolas,'Courier New',monospace\">inside nj_clean\n",
       "</pre>\n"
      ],
      "text/plain": [
       "inside nj_clean\n"
      ]
     },
     "metadata": {},
     "output_type": "display_data"
    },
    {
     "name": "stderr",
     "output_type": "stream",
     "text": [
      "C:\\ProgramData\\anaconda3\\Lib\\site-packages\\sklearn\\base.py:432: UserWarning: X has feature names, but RandomForestClassifier was fitted without feature names\n",
      "  warnings.warn(\n"
     ]
    },
    {
     "data": {
      "text/html": [
       "<pre style=\"white-space:pre;overflow-x:auto;line-height:normal;font-family:Menlo,'DejaVu Sans Mono',consolas,'Courier New',monospace\">DocImageIndex\n",
       "</pre>\n"
      ],
      "text/plain": [
       "DocImageIndex\n"
      ]
     },
     "metadata": {},
     "output_type": "display_data"
    },
    {
     "data": {
      "text/html": [
       "<pre style=\"white-space:pre;overflow-x:auto;line-height:normal;font-family:Menlo,'DejaVu Sans Mono',consolas,'Courier New',monospace\">inside nj_clean\n",
       "</pre>\n"
      ],
      "text/plain": [
       "inside nj_clean\n"
      ]
     },
     "metadata": {},
     "output_type": "display_data"
    },
    {
     "name": "stderr",
     "output_type": "stream",
     "text": [
      "C:\\ProgramData\\anaconda3\\Lib\\site-packages\\sklearn\\base.py:432: UserWarning: X has feature names, but RandomForestClassifier was fitted without feature names\n",
      "  warnings.warn(\n"
     ]
    },
    {
     "data": {
      "text/html": [
       "<pre style=\"white-space:pre;overflow-x:auto;line-height:normal;font-family:Menlo,'DejaVu Sans Mono',consolas,'Courier New',monospace\">DocImageIndex\n",
       "</pre>\n"
      ],
      "text/plain": [
       "DocImageIndex\n"
      ]
     },
     "metadata": {},
     "output_type": "display_data"
    },
    {
     "data": {
      "text/html": [
       "<pre style=\"white-space:pre;overflow-x:auto;line-height:normal;font-family:Menlo,'DejaVu Sans Mono',consolas,'Courier New',monospace\">inside nj_clean\n",
       "</pre>\n"
      ],
      "text/plain": [
       "inside nj_clean\n"
      ]
     },
     "metadata": {},
     "output_type": "display_data"
    },
    {
     "name": "stderr",
     "output_type": "stream",
     "text": [
      "C:\\ProgramData\\anaconda3\\Lib\\site-packages\\sklearn\\base.py:432: UserWarning: X has feature names, but RandomForestClassifier was fitted without feature names\n",
      "  warnings.warn(\n"
     ]
    },
    {
     "data": {
      "text/html": [
       "<pre style=\"white-space:pre;overflow-x:auto;line-height:normal;font-family:Menlo,'DejaVu Sans Mono',consolas,'Courier New',monospace\">DocImageIndex\n",
       "</pre>\n"
      ],
      "text/plain": [
       "DocImageIndex\n"
      ]
     },
     "metadata": {},
     "output_type": "display_data"
    },
    {
     "data": {
      "text/html": [
       "<pre style=\"white-space:pre;overflow-x:auto;line-height:normal;font-family:Menlo,'DejaVu Sans Mono',consolas,'Courier New',monospace\">inside nj_clean\n",
       "</pre>\n"
      ],
      "text/plain": [
       "inside nj_clean\n"
      ]
     },
     "metadata": {},
     "output_type": "display_data"
    },
    {
     "name": "stderr",
     "output_type": "stream",
     "text": [
      "C:\\ProgramData\\anaconda3\\Lib\\site-packages\\sklearn\\base.py:432: UserWarning: X has feature names, but RandomForestClassifier was fitted without feature names\n",
      "  warnings.warn(\n"
     ]
    },
    {
     "data": {
      "text/html": [
       "<pre style=\"white-space:pre;overflow-x:auto;line-height:normal;font-family:Menlo,'DejaVu Sans Mono',consolas,'Courier New',monospace\">DocImageIndex\n",
       "</pre>\n"
      ],
      "text/plain": [
       "DocImageIndex\n"
      ]
     },
     "metadata": {},
     "output_type": "display_data"
    },
    {
     "data": {
      "text/html": [
       "<pre style=\"white-space:pre;overflow-x:auto;line-height:normal;font-family:Menlo,'DejaVu Sans Mono',consolas,'Courier New',monospace\">inside nj_clean\n",
       "</pre>\n"
      ],
      "text/plain": [
       "inside nj_clean\n"
      ]
     },
     "metadata": {},
     "output_type": "display_data"
    },
    {
     "name": "stderr",
     "output_type": "stream",
     "text": [
      "C:\\ProgramData\\anaconda3\\Lib\\site-packages\\sklearn\\base.py:432: UserWarning: X has feature names, but RandomForestClassifier was fitted without feature names\n",
      "  warnings.warn(\n"
     ]
    },
    {
     "data": {
      "text/html": [
       "<pre style=\"white-space:pre;overflow-x:auto;line-height:normal;font-family:Menlo,'DejaVu Sans Mono',consolas,'Courier New',monospace\">DocImageIndex\n",
       "</pre>\n"
      ],
      "text/plain": [
       "DocImageIndex\n"
      ]
     },
     "metadata": {},
     "output_type": "display_data"
    },
    {
     "data": {
      "text/html": [
       "<pre style=\"white-space:pre;overflow-x:auto;line-height:normal;font-family:Menlo,'DejaVu Sans Mono',consolas,'Courier New',monospace\">inside nj_clean\n",
       "</pre>\n"
      ],
      "text/plain": [
       "inside nj_clean\n"
      ]
     },
     "metadata": {},
     "output_type": "display_data"
    },
    {
     "name": "stderr",
     "output_type": "stream",
     "text": [
      "C:\\ProgramData\\anaconda3\\Lib\\site-packages\\sklearn\\base.py:432: UserWarning: X has feature names, but RandomForestClassifier was fitted without feature names\n",
      "  warnings.warn(\n"
     ]
    },
    {
     "data": {
      "text/html": [
       "<pre style=\"white-space:pre;overflow-x:auto;line-height:normal;font-family:Menlo,'DejaVu Sans Mono',consolas,'Courier New',monospace\">DocImageIndex\n",
       "</pre>\n"
      ],
      "text/plain": [
       "DocImageIndex\n"
      ]
     },
     "metadata": {},
     "output_type": "display_data"
    },
    {
     "data": {
      "text/html": [
       "<pre style=\"white-space:pre;overflow-x:auto;line-height:normal;font-family:Menlo,'DejaVu Sans Mono',consolas,'Courier New',monospace\">inside nj_clean\n",
       "</pre>\n"
      ],
      "text/plain": [
       "inside nj_clean\n"
      ]
     },
     "metadata": {},
     "output_type": "display_data"
    },
    {
     "name": "stderr",
     "output_type": "stream",
     "text": [
      "C:\\ProgramData\\anaconda3\\Lib\\site-packages\\sklearn\\base.py:432: UserWarning: X has feature names, but RandomForestClassifier was fitted without feature names\n",
      "  warnings.warn(\n"
     ]
    },
    {
     "data": {
      "text/html": [
       "<pre style=\"white-space:pre;overflow-x:auto;line-height:normal;font-family:Menlo,'DejaVu Sans Mono',consolas,'Courier New',monospace\">DocImageIndex\n",
       "</pre>\n"
      ],
      "text/plain": [
       "DocImageIndex\n"
      ]
     },
     "metadata": {},
     "output_type": "display_data"
    },
    {
     "data": {
      "text/html": [
       "<pre style=\"white-space:pre;overflow-x:auto;line-height:normal;font-family:Menlo,'DejaVu Sans Mono',consolas,'Courier New',monospace\">inside nj_clean\n",
       "</pre>\n"
      ],
      "text/plain": [
       "inside nj_clean\n"
      ]
     },
     "metadata": {},
     "output_type": "display_data"
    },
    {
     "name": "stderr",
     "output_type": "stream",
     "text": [
      "C:\\ProgramData\\anaconda3\\Lib\\site-packages\\sklearn\\base.py:432: UserWarning: X has feature names, but RandomForestClassifier was fitted without feature names\n",
      "  warnings.warn(\n"
     ]
    },
    {
     "data": {
      "text/html": [
       "<pre style=\"white-space:pre;overflow-x:auto;line-height:normal;font-family:Menlo,'DejaVu Sans Mono',consolas,'Courier New',monospace\">DocImageIndex\n",
       "</pre>\n"
      ],
      "text/plain": [
       "DocImageIndex\n"
      ]
     },
     "metadata": {},
     "output_type": "display_data"
    },
    {
     "data": {
      "text/html": [
       "<pre style=\"white-space:pre;overflow-x:auto;line-height:normal;font-family:Menlo,'DejaVu Sans Mono',consolas,'Courier New',monospace\">inside nj_clean\n",
       "</pre>\n"
      ],
      "text/plain": [
       "inside nj_clean\n"
      ]
     },
     "metadata": {},
     "output_type": "display_data"
    },
    {
     "name": "stderr",
     "output_type": "stream",
     "text": [
      "C:\\ProgramData\\anaconda3\\Lib\\site-packages\\sklearn\\base.py:432: UserWarning: X has feature names, but RandomForestClassifier was fitted without feature names\n",
      "  warnings.warn(\n"
     ]
    },
    {
     "data": {
      "text/html": [
       "<pre style=\"white-space:pre;overflow-x:auto;line-height:normal;font-family:Menlo,'DejaVu Sans Mono',consolas,'Courier New',monospace\">DocImageIndex\n",
       "</pre>\n"
      ],
      "text/plain": [
       "DocImageIndex\n"
      ]
     },
     "metadata": {},
     "output_type": "display_data"
    },
    {
     "data": {
      "text/html": [
       "<pre style=\"white-space:pre;overflow-x:auto;line-height:normal;font-family:Menlo,'DejaVu Sans Mono',consolas,'Courier New',monospace\">inside nj_clean\n",
       "</pre>\n"
      ],
      "text/plain": [
       "inside nj_clean\n"
      ]
     },
     "metadata": {},
     "output_type": "display_data"
    },
    {
     "name": "stderr",
     "output_type": "stream",
     "text": [
      "C:\\ProgramData\\anaconda3\\Lib\\site-packages\\sklearn\\base.py:432: UserWarning: X has feature names, but RandomForestClassifier was fitted without feature names\n",
      "  warnings.warn(\n"
     ]
    },
    {
     "data": {
      "text/html": [
       "<pre style=\"white-space:pre;overflow-x:auto;line-height:normal;font-family:Menlo,'DejaVu Sans Mono',consolas,'Courier New',monospace\">DocImageIndex\n",
       "</pre>\n"
      ],
      "text/plain": [
       "DocImageIndex\n"
      ]
     },
     "metadata": {},
     "output_type": "display_data"
    },
    {
     "data": {
      "text/html": [
       "<pre style=\"white-space:pre;overflow-x:auto;line-height:normal;font-family:Menlo,'DejaVu Sans Mono',consolas,'Courier New',monospace\">inside nj_clean\n",
       "</pre>\n"
      ],
      "text/plain": [
       "inside nj_clean\n"
      ]
     },
     "metadata": {},
     "output_type": "display_data"
    },
    {
     "name": "stderr",
     "output_type": "stream",
     "text": [
      "C:\\ProgramData\\anaconda3\\Lib\\site-packages\\sklearn\\base.py:432: UserWarning: X has feature names, but RandomForestClassifier was fitted without feature names\n",
      "  warnings.warn(\n"
     ]
    },
    {
     "data": {
      "text/html": [
       "<pre style=\"white-space:pre;overflow-x:auto;line-height:normal;font-family:Menlo,'DejaVu Sans Mono',consolas,'Courier New',monospace\">DocImageIndex\n",
       "</pre>\n"
      ],
      "text/plain": [
       "DocImageIndex\n"
      ]
     },
     "metadata": {},
     "output_type": "display_data"
    },
    {
     "data": {
      "text/html": [
       "<pre style=\"white-space:pre;overflow-x:auto;line-height:normal;font-family:Menlo,'DejaVu Sans Mono',consolas,'Courier New',monospace\">inside nj_clean\n",
       "</pre>\n"
      ],
      "text/plain": [
       "inside nj_clean\n"
      ]
     },
     "metadata": {},
     "output_type": "display_data"
    },
    {
     "name": "stderr",
     "output_type": "stream",
     "text": [
      "C:\\ProgramData\\anaconda3\\Lib\\site-packages\\sklearn\\base.py:432: UserWarning: X has feature names, but RandomForestClassifier was fitted without feature names\n",
      "  warnings.warn(\n"
     ]
    },
    {
     "data": {
      "text/html": [
       "<pre style=\"white-space:pre;overflow-x:auto;line-height:normal;font-family:Menlo,'DejaVu Sans Mono',consolas,'Courier New',monospace\">DocImageIndex\n",
       "</pre>\n"
      ],
      "text/plain": [
       "DocImageIndex\n"
      ]
     },
     "metadata": {},
     "output_type": "display_data"
    },
    {
     "data": {
      "text/html": [
       "<pre style=\"white-space:pre;overflow-x:auto;line-height:normal;font-family:Menlo,'DejaVu Sans Mono',consolas,'Courier New',monospace\">inside nj_clean\n",
       "</pre>\n"
      ],
      "text/plain": [
       "inside nj_clean\n"
      ]
     },
     "metadata": {},
     "output_type": "display_data"
    },
    {
     "name": "stderr",
     "output_type": "stream",
     "text": [
      "C:\\ProgramData\\anaconda3\\Lib\\site-packages\\sklearn\\base.py:432: UserWarning: X has feature names, but RandomForestClassifier was fitted without feature names\n",
      "  warnings.warn(\n"
     ]
    },
    {
     "data": {
      "text/html": [
       "<pre style=\"white-space:pre;overflow-x:auto;line-height:normal;font-family:Menlo,'DejaVu Sans Mono',consolas,'Courier New',monospace\">DocImageIndex\n",
       "</pre>\n"
      ],
      "text/plain": [
       "DocImageIndex\n"
      ]
     },
     "metadata": {},
     "output_type": "display_data"
    },
    {
     "data": {
      "text/html": [
       "<pre style=\"white-space:pre;overflow-x:auto;line-height:normal;font-family:Menlo,'DejaVu Sans Mono',consolas,'Courier New',monospace\">inside nj_clean\n",
       "</pre>\n"
      ],
      "text/plain": [
       "inside nj_clean\n"
      ]
     },
     "metadata": {},
     "output_type": "display_data"
    },
    {
     "name": "stderr",
     "output_type": "stream",
     "text": [
      "C:\\ProgramData\\anaconda3\\Lib\\site-packages\\sklearn\\base.py:432: UserWarning: X has feature names, but RandomForestClassifier was fitted without feature names\n",
      "  warnings.warn(\n"
     ]
    },
    {
     "data": {
      "text/html": [
       "<pre style=\"white-space:pre;overflow-x:auto;line-height:normal;font-family:Menlo,'DejaVu Sans Mono',consolas,'Courier New',monospace\">DocImageIndex\n",
       "</pre>\n"
      ],
      "text/plain": [
       "DocImageIndex\n"
      ]
     },
     "metadata": {},
     "output_type": "display_data"
    },
    {
     "data": {
      "text/html": [
       "<pre style=\"white-space:pre;overflow-x:auto;line-height:normal;font-family:Menlo,'DejaVu Sans Mono',consolas,'Courier New',monospace\">inside nj_clean\n",
       "</pre>\n"
      ],
      "text/plain": [
       "inside nj_clean\n"
      ]
     },
     "metadata": {},
     "output_type": "display_data"
    },
    {
     "name": "stderr",
     "output_type": "stream",
     "text": [
      "C:\\ProgramData\\anaconda3\\Lib\\site-packages\\sklearn\\base.py:432: UserWarning: X has feature names, but RandomForestClassifier was fitted without feature names\n",
      "  warnings.warn(\n"
     ]
    },
    {
     "data": {
      "text/html": [
       "<pre style=\"white-space:pre;overflow-x:auto;line-height:normal;font-family:Menlo,'DejaVu Sans Mono',consolas,'Courier New',monospace\">DocImageIndex\n",
       "</pre>\n"
      ],
      "text/plain": [
       "DocImageIndex\n"
      ]
     },
     "metadata": {},
     "output_type": "display_data"
    },
    {
     "data": {
      "text/html": [
       "<pre style=\"white-space:pre;overflow-x:auto;line-height:normal;font-family:Menlo,'DejaVu Sans Mono',consolas,'Courier New',monospace\">inside nj_clean\n",
       "</pre>\n"
      ],
      "text/plain": [
       "inside nj_clean\n"
      ]
     },
     "metadata": {},
     "output_type": "display_data"
    },
    {
     "name": "stderr",
     "output_type": "stream",
     "text": [
      "C:\\ProgramData\\anaconda3\\Lib\\site-packages\\sklearn\\base.py:432: UserWarning: X has feature names, but RandomForestClassifier was fitted without feature names\n",
      "  warnings.warn(\n"
     ]
    },
    {
     "data": {
      "text/html": [
       "<pre style=\"white-space:pre;overflow-x:auto;line-height:normal;font-family:Menlo,'DejaVu Sans Mono',consolas,'Courier New',monospace\">DocImageIndex\n",
       "</pre>\n"
      ],
      "text/plain": [
       "DocImageIndex\n"
      ]
     },
     "metadata": {},
     "output_type": "display_data"
    },
    {
     "data": {
      "text/html": [
       "<pre style=\"white-space:pre;overflow-x:auto;line-height:normal;font-family:Menlo,'DejaVu Sans Mono',consolas,'Courier New',monospace\">inside nj_clean\n",
       "</pre>\n"
      ],
      "text/plain": [
       "inside nj_clean\n"
      ]
     },
     "metadata": {},
     "output_type": "display_data"
    },
    {
     "name": "stderr",
     "output_type": "stream",
     "text": [
      "C:\\ProgramData\\anaconda3\\Lib\\site-packages\\sklearn\\base.py:432: UserWarning: X has feature names, but RandomForestClassifier was fitted without feature names\n",
      "  warnings.warn(\n"
     ]
    },
    {
     "data": {
      "text/html": [
       "<pre style=\"white-space:pre;overflow-x:auto;line-height:normal;font-family:Menlo,'DejaVu Sans Mono',consolas,'Courier New',monospace\">DocImageIndex\n",
       "</pre>\n"
      ],
      "text/plain": [
       "DocImageIndex\n"
      ]
     },
     "metadata": {},
     "output_type": "display_data"
    },
    {
     "data": {
      "text/html": [
       "<pre style=\"white-space:pre;overflow-x:auto;line-height:normal;font-family:Menlo,'DejaVu Sans Mono',consolas,'Courier New',monospace\">inside nj_clean\n",
       "</pre>\n"
      ],
      "text/plain": [
       "inside nj_clean\n"
      ]
     },
     "metadata": {},
     "output_type": "display_data"
    },
    {
     "name": "stderr",
     "output_type": "stream",
     "text": [
      "C:\\ProgramData\\anaconda3\\Lib\\site-packages\\sklearn\\base.py:432: UserWarning: X has feature names, but RandomForestClassifier was fitted without feature names\n",
      "  warnings.warn(\n"
     ]
    },
    {
     "data": {
      "text/html": [
       "<pre style=\"white-space:pre;overflow-x:auto;line-height:normal;font-family:Menlo,'DejaVu Sans Mono',consolas,'Courier New',monospace\">DocImageIndex\n",
       "</pre>\n"
      ],
      "text/plain": [
       "DocImageIndex\n"
      ]
     },
     "metadata": {},
     "output_type": "display_data"
    },
    {
     "data": {
      "text/html": [
       "<pre style=\"white-space:pre;overflow-x:auto;line-height:normal;font-family:Menlo,'DejaVu Sans Mono',consolas,'Courier New',monospace\">inside nj_clean\n",
       "</pre>\n"
      ],
      "text/plain": [
       "inside nj_clean\n"
      ]
     },
     "metadata": {},
     "output_type": "display_data"
    },
    {
     "name": "stderr",
     "output_type": "stream",
     "text": [
      "C:\\ProgramData\\anaconda3\\Lib\\site-packages\\sklearn\\base.py:432: UserWarning: X has feature names, but RandomForestClassifier was fitted without feature names\n",
      "  warnings.warn(\n"
     ]
    },
    {
     "data": {
      "text/html": [
       "<pre style=\"white-space:pre;overflow-x:auto;line-height:normal;font-family:Menlo,'DejaVu Sans Mono',consolas,'Courier New',monospace\">DocImageIndex\n",
       "</pre>\n"
      ],
      "text/plain": [
       "DocImageIndex\n"
      ]
     },
     "metadata": {},
     "output_type": "display_data"
    },
    {
     "data": {
      "text/html": [
       "<pre style=\"white-space:pre;overflow-x:auto;line-height:normal;font-family:Menlo,'DejaVu Sans Mono',consolas,'Courier New',monospace\">inside nj_clean\n",
       "</pre>\n"
      ],
      "text/plain": [
       "inside nj_clean\n"
      ]
     },
     "metadata": {},
     "output_type": "display_data"
    },
    {
     "name": "stderr",
     "output_type": "stream",
     "text": [
      "C:\\ProgramData\\anaconda3\\Lib\\site-packages\\sklearn\\base.py:432: UserWarning: X has feature names, but RandomForestClassifier was fitted without feature names\n",
      "  warnings.warn(\n"
     ]
    },
    {
     "data": {
      "text/html": [
       "<pre style=\"white-space:pre;overflow-x:auto;line-height:normal;font-family:Menlo,'DejaVu Sans Mono',consolas,'Courier New',monospace\">DocImageIndex\n",
       "</pre>\n"
      ],
      "text/plain": [
       "DocImageIndex\n"
      ]
     },
     "metadata": {},
     "output_type": "display_data"
    },
    {
     "data": {
      "text/html": [
       "<pre style=\"white-space:pre;overflow-x:auto;line-height:normal;font-family:Menlo,'DejaVu Sans Mono',consolas,'Courier New',monospace\">inside nj_clean\n",
       "</pre>\n"
      ],
      "text/plain": [
       "inside nj_clean\n"
      ]
     },
     "metadata": {},
     "output_type": "display_data"
    },
    {
     "name": "stderr",
     "output_type": "stream",
     "text": [
      "C:\\ProgramData\\anaconda3\\Lib\\site-packages\\sklearn\\base.py:432: UserWarning: X has feature names, but RandomForestClassifier was fitted without feature names\n",
      "  warnings.warn(\n"
     ]
    },
    {
     "data": {
      "text/html": [
       "<pre style=\"white-space:pre;overflow-x:auto;line-height:normal;font-family:Menlo,'DejaVu Sans Mono',consolas,'Courier New',monospace\">DocImageIndex\n",
       "</pre>\n"
      ],
      "text/plain": [
       "DocImageIndex\n"
      ]
     },
     "metadata": {},
     "output_type": "display_data"
    },
    {
     "data": {
      "text/html": [
       "<pre style=\"white-space:pre;overflow-x:auto;line-height:normal;font-family:Menlo,'DejaVu Sans Mono',consolas,'Courier New',monospace\">inside nj_clean\n",
       "</pre>\n"
      ],
      "text/plain": [
       "inside nj_clean\n"
      ]
     },
     "metadata": {},
     "output_type": "display_data"
    },
    {
     "name": "stderr",
     "output_type": "stream",
     "text": [
      "C:\\ProgramData\\anaconda3\\Lib\\site-packages\\sklearn\\base.py:432: UserWarning: X has feature names, but RandomForestClassifier was fitted without feature names\n",
      "  warnings.warn(\n"
     ]
    },
    {
     "data": {
      "text/html": [
       "<pre style=\"white-space:pre;overflow-x:auto;line-height:normal;font-family:Menlo,'DejaVu Sans Mono',consolas,'Courier New',monospace\">DocImageIndex\n",
       "</pre>\n"
      ],
      "text/plain": [
       "DocImageIndex\n"
      ]
     },
     "metadata": {},
     "output_type": "display_data"
    },
    {
     "data": {
      "text/html": [
       "<pre style=\"white-space:pre;overflow-x:auto;line-height:normal;font-family:Menlo,'DejaVu Sans Mono',consolas,'Courier New',monospace\">inside nj_clean\n",
       "</pre>\n"
      ],
      "text/plain": [
       "inside nj_clean\n"
      ]
     },
     "metadata": {},
     "output_type": "display_data"
    },
    {
     "name": "stderr",
     "output_type": "stream",
     "text": [
      "C:\\ProgramData\\anaconda3\\Lib\\site-packages\\sklearn\\base.py:432: UserWarning: X has feature names, but RandomForestClassifier was fitted without feature names\n",
      "  warnings.warn(\n"
     ]
    },
    {
     "data": {
      "text/html": [
       "<pre style=\"white-space:pre;overflow-x:auto;line-height:normal;font-family:Menlo,'DejaVu Sans Mono',consolas,'Courier New',monospace\">DocImageIndex\n",
       "</pre>\n"
      ],
      "text/plain": [
       "DocImageIndex\n"
      ]
     },
     "metadata": {},
     "output_type": "display_data"
    },
    {
     "data": {
      "text/html": [
       "<pre style=\"white-space:pre;overflow-x:auto;line-height:normal;font-family:Menlo,'DejaVu Sans Mono',consolas,'Courier New',monospace\">inside nj_clean\n",
       "</pre>\n"
      ],
      "text/plain": [
       "inside nj_clean\n"
      ]
     },
     "metadata": {},
     "output_type": "display_data"
    },
    {
     "name": "stderr",
     "output_type": "stream",
     "text": [
      "C:\\ProgramData\\anaconda3\\Lib\\site-packages\\sklearn\\base.py:432: UserWarning: X has feature names, but RandomForestClassifier was fitted without feature names\n",
      "  warnings.warn(\n"
     ]
    },
    {
     "data": {
      "text/html": [
       "<pre style=\"white-space:pre;overflow-x:auto;line-height:normal;font-family:Menlo,'DejaVu Sans Mono',consolas,'Courier New',monospace\">DocImageIndex\n",
       "</pre>\n"
      ],
      "text/plain": [
       "DocImageIndex\n"
      ]
     },
     "metadata": {},
     "output_type": "display_data"
    },
    {
     "data": {
      "text/html": [
       "<pre style=\"white-space:pre;overflow-x:auto;line-height:normal;font-family:Menlo,'DejaVu Sans Mono',consolas,'Courier New',monospace\">inside nj_clean\n",
       "</pre>\n"
      ],
      "text/plain": [
       "inside nj_clean\n"
      ]
     },
     "metadata": {},
     "output_type": "display_data"
    },
    {
     "name": "stderr",
     "output_type": "stream",
     "text": [
      "C:\\ProgramData\\anaconda3\\Lib\\site-packages\\sklearn\\base.py:432: UserWarning: X has feature names, but RandomForestClassifier was fitted without feature names\n",
      "  warnings.warn(\n"
     ]
    },
    {
     "data": {
      "text/html": [
       "<pre style=\"white-space:pre;overflow-x:auto;line-height:normal;font-family:Menlo,'DejaVu Sans Mono',consolas,'Courier New',monospace\">DocImageIndex\n",
       "</pre>\n"
      ],
      "text/plain": [
       "DocImageIndex\n"
      ]
     },
     "metadata": {},
     "output_type": "display_data"
    },
    {
     "data": {
      "text/html": [
       "<pre style=\"white-space:pre;overflow-x:auto;line-height:normal;font-family:Menlo,'DejaVu Sans Mono',consolas,'Courier New',monospace\">inside nj_clean\n",
       "</pre>\n"
      ],
      "text/plain": [
       "inside nj_clean\n"
      ]
     },
     "metadata": {},
     "output_type": "display_data"
    },
    {
     "name": "stderr",
     "output_type": "stream",
     "text": [
      "C:\\ProgramData\\anaconda3\\Lib\\site-packages\\sklearn\\base.py:432: UserWarning: X has feature names, but RandomForestClassifier was fitted without feature names\n",
      "  warnings.warn(\n"
     ]
    },
    {
     "data": {
      "text/html": [
       "<pre style=\"white-space:pre;overflow-x:auto;line-height:normal;font-family:Menlo,'DejaVu Sans Mono',consolas,'Courier New',monospace\">DocImageIndex\n",
       "</pre>\n"
      ],
      "text/plain": [
       "DocImageIndex\n"
      ]
     },
     "metadata": {},
     "output_type": "display_data"
    },
    {
     "data": {
      "text/html": [
       "<pre style=\"white-space:pre;overflow-x:auto;line-height:normal;font-family:Menlo,'DejaVu Sans Mono',consolas,'Courier New',monospace\">inside nj_clean\n",
       "</pre>\n"
      ],
      "text/plain": [
       "inside nj_clean\n"
      ]
     },
     "metadata": {},
     "output_type": "display_data"
    },
    {
     "name": "stderr",
     "output_type": "stream",
     "text": [
      "C:\\ProgramData\\anaconda3\\Lib\\site-packages\\sklearn\\base.py:432: UserWarning: X has feature names, but RandomForestClassifier was fitted without feature names\n",
      "  warnings.warn(\n"
     ]
    },
    {
     "data": {
      "text/html": [
       "<pre style=\"white-space:pre;overflow-x:auto;line-height:normal;font-family:Menlo,'DejaVu Sans Mono',consolas,'Courier New',monospace\">DocImageIndex\n",
       "</pre>\n"
      ],
      "text/plain": [
       "DocImageIndex\n"
      ]
     },
     "metadata": {},
     "output_type": "display_data"
    },
    {
     "data": {
      "text/html": [
       "<pre style=\"white-space:pre;overflow-x:auto;line-height:normal;font-family:Menlo,'DejaVu Sans Mono',consolas,'Courier New',monospace\">inside nj_clean\n",
       "</pre>\n"
      ],
      "text/plain": [
       "inside nj_clean\n"
      ]
     },
     "metadata": {},
     "output_type": "display_data"
    },
    {
     "name": "stderr",
     "output_type": "stream",
     "text": [
      "C:\\ProgramData\\anaconda3\\Lib\\site-packages\\sklearn\\base.py:432: UserWarning: X has feature names, but RandomForestClassifier was fitted without feature names\n",
      "  warnings.warn(\n"
     ]
    },
    {
     "data": {
      "text/html": [
       "<pre style=\"white-space:pre;overflow-x:auto;line-height:normal;font-family:Menlo,'DejaVu Sans Mono',consolas,'Courier New',monospace\">DocImageIndex\n",
       "</pre>\n"
      ],
      "text/plain": [
       "DocImageIndex\n"
      ]
     },
     "metadata": {},
     "output_type": "display_data"
    },
    {
     "data": {
      "text/html": [
       "<pre style=\"white-space:pre;overflow-x:auto;line-height:normal;font-family:Menlo,'DejaVu Sans Mono',consolas,'Courier New',monospace\">inside nj_clean\n",
       "</pre>\n"
      ],
      "text/plain": [
       "inside nj_clean\n"
      ]
     },
     "metadata": {},
     "output_type": "display_data"
    },
    {
     "name": "stderr",
     "output_type": "stream",
     "text": [
      "C:\\ProgramData\\anaconda3\\Lib\\site-packages\\sklearn\\base.py:432: UserWarning: X has feature names, but RandomForestClassifier was fitted without feature names\n",
      "  warnings.warn(\n"
     ]
    },
    {
     "data": {
      "text/html": [
       "<pre style=\"white-space:pre;overflow-x:auto;line-height:normal;font-family:Menlo,'DejaVu Sans Mono',consolas,'Courier New',monospace\">DocImageIndex\n",
       "</pre>\n"
      ],
      "text/plain": [
       "DocImageIndex\n"
      ]
     },
     "metadata": {},
     "output_type": "display_data"
    },
    {
     "data": {
      "text/html": [
       "<pre style=\"white-space:pre;overflow-x:auto;line-height:normal;font-family:Menlo,'DejaVu Sans Mono',consolas,'Courier New',monospace\">inside nj_clean\n",
       "</pre>\n"
      ],
      "text/plain": [
       "inside nj_clean\n"
      ]
     },
     "metadata": {},
     "output_type": "display_data"
    },
    {
     "name": "stderr",
     "output_type": "stream",
     "text": [
      "C:\\ProgramData\\anaconda3\\Lib\\site-packages\\sklearn\\base.py:432: UserWarning: X has feature names, but RandomForestClassifier was fitted without feature names\n",
      "  warnings.warn(\n"
     ]
    },
    {
     "data": {
      "text/html": [
       "<pre style=\"white-space:pre;overflow-x:auto;line-height:normal;font-family:Menlo,'DejaVu Sans Mono',consolas,'Courier New',monospace\">DocImageIndex\n",
       "</pre>\n"
      ],
      "text/plain": [
       "DocImageIndex\n"
      ]
     },
     "metadata": {},
     "output_type": "display_data"
    },
    {
     "data": {
      "text/html": [
       "<pre style=\"white-space:pre;overflow-x:auto;line-height:normal;font-family:Menlo,'DejaVu Sans Mono',consolas,'Courier New',monospace\">inside nj_clean\n",
       "</pre>\n"
      ],
      "text/plain": [
       "inside nj_clean\n"
      ]
     },
     "metadata": {},
     "output_type": "display_data"
    },
    {
     "name": "stderr",
     "output_type": "stream",
     "text": [
      "C:\\ProgramData\\anaconda3\\Lib\\site-packages\\sklearn\\base.py:432: UserWarning: X has feature names, but RandomForestClassifier was fitted without feature names\n",
      "  warnings.warn(\n"
     ]
    },
    {
     "data": {
      "text/html": [
       "<pre style=\"white-space:pre;overflow-x:auto;line-height:normal;font-family:Menlo,'DejaVu Sans Mono',consolas,'Courier New',monospace\">DocImageIndex\n",
       "</pre>\n"
      ],
      "text/plain": [
       "DocImageIndex\n"
      ]
     },
     "metadata": {},
     "output_type": "display_data"
    },
    {
     "data": {
      "text/html": [
       "<pre style=\"white-space:pre;overflow-x:auto;line-height:normal;font-family:Menlo,'DejaVu Sans Mono',consolas,'Courier New',monospace\">inside nj_clean\n",
       "</pre>\n"
      ],
      "text/plain": [
       "inside nj_clean\n"
      ]
     },
     "metadata": {},
     "output_type": "display_data"
    },
    {
     "name": "stderr",
     "output_type": "stream",
     "text": [
      "C:\\ProgramData\\anaconda3\\Lib\\site-packages\\sklearn\\base.py:432: UserWarning: X has feature names, but RandomForestClassifier was fitted without feature names\n",
      "  warnings.warn(\n"
     ]
    },
    {
     "data": {
      "text/html": [
       "<pre style=\"white-space:pre;overflow-x:auto;line-height:normal;font-family:Menlo,'DejaVu Sans Mono',consolas,'Courier New',monospace\">DocImageIndex\n",
       "</pre>\n"
      ],
      "text/plain": [
       "DocImageIndex\n"
      ]
     },
     "metadata": {},
     "output_type": "display_data"
    },
    {
     "data": {
      "text/html": [
       "<pre style=\"white-space:pre;overflow-x:auto;line-height:normal;font-family:Menlo,'DejaVu Sans Mono',consolas,'Courier New',monospace\">inside nj_clean\n",
       "</pre>\n"
      ],
      "text/plain": [
       "inside nj_clean\n"
      ]
     },
     "metadata": {},
     "output_type": "display_data"
    },
    {
     "name": "stderr",
     "output_type": "stream",
     "text": [
      "C:\\ProgramData\\anaconda3\\Lib\\site-packages\\sklearn\\base.py:432: UserWarning: X has feature names, but RandomForestClassifier was fitted without feature names\n",
      "  warnings.warn(\n"
     ]
    },
    {
     "data": {
      "text/html": [
       "<pre style=\"white-space:pre;overflow-x:auto;line-height:normal;font-family:Menlo,'DejaVu Sans Mono',consolas,'Courier New',monospace\">DocImageIndex\n",
       "</pre>\n"
      ],
      "text/plain": [
       "DocImageIndex\n"
      ]
     },
     "metadata": {},
     "output_type": "display_data"
    },
    {
     "data": {
      "text/html": [
       "<pre style=\"white-space:pre;overflow-x:auto;line-height:normal;font-family:Menlo,'DejaVu Sans Mono',consolas,'Courier New',monospace\">inside nj_clean\n",
       "</pre>\n"
      ],
      "text/plain": [
       "inside nj_clean\n"
      ]
     },
     "metadata": {},
     "output_type": "display_data"
    },
    {
     "name": "stderr",
     "output_type": "stream",
     "text": [
      "C:\\ProgramData\\anaconda3\\Lib\\site-packages\\sklearn\\base.py:432: UserWarning: X has feature names, but RandomForestClassifier was fitted without feature names\n",
      "  warnings.warn(\n"
     ]
    },
    {
     "data": {
      "text/html": [
       "<pre style=\"white-space:pre;overflow-x:auto;line-height:normal;font-family:Menlo,'DejaVu Sans Mono',consolas,'Courier New',monospace\">DocImageIndex\n",
       "</pre>\n"
      ],
      "text/plain": [
       "DocImageIndex\n"
      ]
     },
     "metadata": {},
     "output_type": "display_data"
    },
    {
     "data": {
      "text/html": [
       "<pre style=\"white-space:pre;overflow-x:auto;line-height:normal;font-family:Menlo,'DejaVu Sans Mono',consolas,'Courier New',monospace\">inside nj_clean\n",
       "</pre>\n"
      ],
      "text/plain": [
       "inside nj_clean\n"
      ]
     },
     "metadata": {},
     "output_type": "display_data"
    },
    {
     "name": "stderr",
     "output_type": "stream",
     "text": [
      "C:\\ProgramData\\anaconda3\\Lib\\site-packages\\sklearn\\base.py:432: UserWarning: X has feature names, but RandomForestClassifier was fitted without feature names\n",
      "  warnings.warn(\n"
     ]
    },
    {
     "data": {
      "text/html": [
       "<pre style=\"white-space:pre;overflow-x:auto;line-height:normal;font-family:Menlo,'DejaVu Sans Mono',consolas,'Courier New',monospace\">DocImageIndex\n",
       "</pre>\n"
      ],
      "text/plain": [
       "DocImageIndex\n"
      ]
     },
     "metadata": {},
     "output_type": "display_data"
    },
    {
     "data": {
      "text/html": [
       "<pre style=\"white-space:pre;overflow-x:auto;line-height:normal;font-family:Menlo,'DejaVu Sans Mono',consolas,'Courier New',monospace\">inside nj_clean\n",
       "</pre>\n"
      ],
      "text/plain": [
       "inside nj_clean\n"
      ]
     },
     "metadata": {},
     "output_type": "display_data"
    },
    {
     "name": "stderr",
     "output_type": "stream",
     "text": [
      "C:\\ProgramData\\anaconda3\\Lib\\site-packages\\sklearn\\base.py:432: UserWarning: X has feature names, but RandomForestClassifier was fitted without feature names\n",
      "  warnings.warn(\n"
     ]
    },
    {
     "data": {
      "text/html": [
       "<pre style=\"white-space:pre;overflow-x:auto;line-height:normal;font-family:Menlo,'DejaVu Sans Mono',consolas,'Courier New',monospace\">DocImageIndex\n",
       "</pre>\n"
      ],
      "text/plain": [
       "DocImageIndex\n"
      ]
     },
     "metadata": {},
     "output_type": "display_data"
    },
    {
     "data": {
      "text/html": [
       "<pre style=\"white-space:pre;overflow-x:auto;line-height:normal;font-family:Menlo,'DejaVu Sans Mono',consolas,'Courier New',monospace\">inside nj_clean\n",
       "</pre>\n"
      ],
      "text/plain": [
       "inside nj_clean\n"
      ]
     },
     "metadata": {},
     "output_type": "display_data"
    },
    {
     "name": "stderr",
     "output_type": "stream",
     "text": [
      "C:\\ProgramData\\anaconda3\\Lib\\site-packages\\sklearn\\base.py:432: UserWarning: X has feature names, but RandomForestClassifier was fitted without feature names\n",
      "  warnings.warn(\n"
     ]
    },
    {
     "data": {
      "text/html": [
       "<pre style=\"white-space:pre;overflow-x:auto;line-height:normal;font-family:Menlo,'DejaVu Sans Mono',consolas,'Courier New',monospace\">DocImageIndex\n",
       "</pre>\n"
      ],
      "text/plain": [
       "DocImageIndex\n"
      ]
     },
     "metadata": {},
     "output_type": "display_data"
    },
    {
     "data": {
      "text/html": [
       "<pre style=\"white-space:pre;overflow-x:auto;line-height:normal;font-family:Menlo,'DejaVu Sans Mono',consolas,'Courier New',monospace\">inside nj_clean\n",
       "</pre>\n"
      ],
      "text/plain": [
       "inside nj_clean\n"
      ]
     },
     "metadata": {},
     "output_type": "display_data"
    },
    {
     "name": "stderr",
     "output_type": "stream",
     "text": [
      "C:\\ProgramData\\anaconda3\\Lib\\site-packages\\sklearn\\base.py:432: UserWarning: X has feature names, but RandomForestClassifier was fitted without feature names\n",
      "  warnings.warn(\n"
     ]
    },
    {
     "data": {
      "text/html": [
       "<pre style=\"white-space:pre;overflow-x:auto;line-height:normal;font-family:Menlo,'DejaVu Sans Mono',consolas,'Courier New',monospace\">DocImageIndex\n",
       "</pre>\n"
      ],
      "text/plain": [
       "DocImageIndex\n"
      ]
     },
     "metadata": {},
     "output_type": "display_data"
    },
    {
     "data": {
      "text/html": [
       "<pre style=\"white-space:pre;overflow-x:auto;line-height:normal;font-family:Menlo,'DejaVu Sans Mono',consolas,'Courier New',monospace\">inside nj_clean\n",
       "</pre>\n"
      ],
      "text/plain": [
       "inside nj_clean\n"
      ]
     },
     "metadata": {},
     "output_type": "display_data"
    },
    {
     "name": "stderr",
     "output_type": "stream",
     "text": [
      "C:\\ProgramData\\anaconda3\\Lib\\site-packages\\sklearn\\base.py:432: UserWarning: X has feature names, but RandomForestClassifier was fitted without feature names\n",
      "  warnings.warn(\n"
     ]
    },
    {
     "data": {
      "text/html": [
       "<pre style=\"white-space:pre;overflow-x:auto;line-height:normal;font-family:Menlo,'DejaVu Sans Mono',consolas,'Courier New',monospace\">DocImageIndex\n",
       "</pre>\n"
      ],
      "text/plain": [
       "DocImageIndex\n"
      ]
     },
     "metadata": {},
     "output_type": "display_data"
    },
    {
     "data": {
      "text/html": [
       "<pre style=\"white-space:pre;overflow-x:auto;line-height:normal;font-family:Menlo,'DejaVu Sans Mono',consolas,'Courier New',monospace\">inside nj_clean\n",
       "</pre>\n"
      ],
      "text/plain": [
       "inside nj_clean\n"
      ]
     },
     "metadata": {},
     "output_type": "display_data"
    },
    {
     "name": "stderr",
     "output_type": "stream",
     "text": [
      "C:\\ProgramData\\anaconda3\\Lib\\site-packages\\sklearn\\base.py:432: UserWarning: X has feature names, but RandomForestClassifier was fitted without feature names\n",
      "  warnings.warn(\n"
     ]
    },
    {
     "data": {
      "text/html": [
       "<pre style=\"white-space:pre;overflow-x:auto;line-height:normal;font-family:Menlo,'DejaVu Sans Mono',consolas,'Courier New',monospace\">DocImageIndex\n",
       "</pre>\n"
      ],
      "text/plain": [
       "DocImageIndex\n"
      ]
     },
     "metadata": {},
     "output_type": "display_data"
    },
    {
     "data": {
      "text/html": [
       "<pre style=\"white-space:pre;overflow-x:auto;line-height:normal;font-family:Menlo,'DejaVu Sans Mono',consolas,'Courier New',monospace\">inside nj_clean\n",
       "</pre>\n"
      ],
      "text/plain": [
       "inside nj_clean\n"
      ]
     },
     "metadata": {},
     "output_type": "display_data"
    },
    {
     "name": "stderr",
     "output_type": "stream",
     "text": [
      "C:\\ProgramData\\anaconda3\\Lib\\site-packages\\sklearn\\base.py:432: UserWarning: X has feature names, but RandomForestClassifier was fitted without feature names\n",
      "  warnings.warn(\n"
     ]
    },
    {
     "data": {
      "text/html": [
       "<pre style=\"white-space:pre;overflow-x:auto;line-height:normal;font-family:Menlo,'DejaVu Sans Mono',consolas,'Courier New',monospace\">DocImageIndex\n",
       "</pre>\n"
      ],
      "text/plain": [
       "DocImageIndex\n"
      ]
     },
     "metadata": {},
     "output_type": "display_data"
    },
    {
     "data": {
      "text/html": [
       "<pre style=\"white-space:pre;overflow-x:auto;line-height:normal;font-family:Menlo,'DejaVu Sans Mono',consolas,'Courier New',monospace\">inside nj_clean\n",
       "</pre>\n"
      ],
      "text/plain": [
       "inside nj_clean\n"
      ]
     },
     "metadata": {},
     "output_type": "display_data"
    },
    {
     "name": "stderr",
     "output_type": "stream",
     "text": [
      "C:\\ProgramData\\anaconda3\\Lib\\site-packages\\sklearn\\base.py:432: UserWarning: X has feature names, but RandomForestClassifier was fitted without feature names\n",
      "  warnings.warn(\n"
     ]
    },
    {
     "data": {
      "text/html": [
       "<pre style=\"white-space:pre;overflow-x:auto;line-height:normal;font-family:Menlo,'DejaVu Sans Mono',consolas,'Courier New',monospace\">DocImageIndex\n",
       "</pre>\n"
      ],
      "text/plain": [
       "DocImageIndex\n"
      ]
     },
     "metadata": {},
     "output_type": "display_data"
    },
    {
     "data": {
      "text/html": [
       "<pre style=\"white-space:pre;overflow-x:auto;line-height:normal;font-family:Menlo,'DejaVu Sans Mono',consolas,'Courier New',monospace\">inside nj_clean\n",
       "</pre>\n"
      ],
      "text/plain": [
       "inside nj_clean\n"
      ]
     },
     "metadata": {},
     "output_type": "display_data"
    },
    {
     "name": "stderr",
     "output_type": "stream",
     "text": [
      "C:\\ProgramData\\anaconda3\\Lib\\site-packages\\sklearn\\base.py:432: UserWarning: X has feature names, but RandomForestClassifier was fitted without feature names\n",
      "  warnings.warn(\n"
     ]
    },
    {
     "data": {
      "text/html": [
       "<pre style=\"white-space:pre;overflow-x:auto;line-height:normal;font-family:Menlo,'DejaVu Sans Mono',consolas,'Courier New',monospace\">DocImageIndex\n",
       "</pre>\n"
      ],
      "text/plain": [
       "DocImageIndex\n"
      ]
     },
     "metadata": {},
     "output_type": "display_data"
    },
    {
     "data": {
      "text/html": [
       "<pre style=\"white-space:pre;overflow-x:auto;line-height:normal;font-family:Menlo,'DejaVu Sans Mono',consolas,'Courier New',monospace\">inside nj_clean\n",
       "</pre>\n"
      ],
      "text/plain": [
       "inside nj_clean\n"
      ]
     },
     "metadata": {},
     "output_type": "display_data"
    },
    {
     "name": "stderr",
     "output_type": "stream",
     "text": [
      "C:\\ProgramData\\anaconda3\\Lib\\site-packages\\sklearn\\base.py:432: UserWarning: X has feature names, but RandomForestClassifier was fitted without feature names\n",
      "  warnings.warn(\n"
     ]
    },
    {
     "data": {
      "text/html": [
       "<pre style=\"white-space:pre;overflow-x:auto;line-height:normal;font-family:Menlo,'DejaVu Sans Mono',consolas,'Courier New',monospace\">DocImageIndex\n",
       "</pre>\n"
      ],
      "text/plain": [
       "DocImageIndex\n"
      ]
     },
     "metadata": {},
     "output_type": "display_data"
    },
    {
     "data": {
      "text/html": [
       "<pre style=\"white-space:pre;overflow-x:auto;line-height:normal;font-family:Menlo,'DejaVu Sans Mono',consolas,'Courier New',monospace\">inside nj_clean\n",
       "</pre>\n"
      ],
      "text/plain": [
       "inside nj_clean\n"
      ]
     },
     "metadata": {},
     "output_type": "display_data"
    },
    {
     "name": "stderr",
     "output_type": "stream",
     "text": [
      "C:\\ProgramData\\anaconda3\\Lib\\site-packages\\sklearn\\base.py:432: UserWarning: X has feature names, but RandomForestClassifier was fitted without feature names\n",
      "  warnings.warn(\n"
     ]
    },
    {
     "data": {
      "text/html": [
       "<pre style=\"white-space:pre;overflow-x:auto;line-height:normal;font-family:Menlo,'DejaVu Sans Mono',consolas,'Courier New',monospace\">DocImageIndex\n",
       "</pre>\n"
      ],
      "text/plain": [
       "DocImageIndex\n"
      ]
     },
     "metadata": {},
     "output_type": "display_data"
    },
    {
     "data": {
      "text/html": [
       "<pre style=\"white-space:pre;overflow-x:auto;line-height:normal;font-family:Menlo,'DejaVu Sans Mono',consolas,'Courier New',monospace\">inside nj_clean\n",
       "</pre>\n"
      ],
      "text/plain": [
       "inside nj_clean\n"
      ]
     },
     "metadata": {},
     "output_type": "display_data"
    },
    {
     "name": "stderr",
     "output_type": "stream",
     "text": [
      "C:\\ProgramData\\anaconda3\\Lib\\site-packages\\sklearn\\base.py:432: UserWarning: X has feature names, but RandomForestClassifier was fitted without feature names\n",
      "  warnings.warn(\n"
     ]
    },
    {
     "data": {
      "text/html": [
       "<pre style=\"white-space:pre;overflow-x:auto;line-height:normal;font-family:Menlo,'DejaVu Sans Mono',consolas,'Courier New',monospace\">DocImageIndex\n",
       "</pre>\n"
      ],
      "text/plain": [
       "DocImageIndex\n"
      ]
     },
     "metadata": {},
     "output_type": "display_data"
    },
    {
     "data": {
      "text/html": [
       "<pre style=\"white-space:pre;overflow-x:auto;line-height:normal;font-family:Menlo,'DejaVu Sans Mono',consolas,'Courier New',monospace\">inside nj_clean\n",
       "</pre>\n"
      ],
      "text/plain": [
       "inside nj_clean\n"
      ]
     },
     "metadata": {},
     "output_type": "display_data"
    },
    {
     "name": "stderr",
     "output_type": "stream",
     "text": [
      "C:\\ProgramData\\anaconda3\\Lib\\site-packages\\sklearn\\base.py:432: UserWarning: X has feature names, but RandomForestClassifier was fitted without feature names\n",
      "  warnings.warn(\n"
     ]
    },
    {
     "data": {
      "text/html": [
       "<pre style=\"white-space:pre;overflow-x:auto;line-height:normal;font-family:Menlo,'DejaVu Sans Mono',consolas,'Courier New',monospace\">DocImageIndex\n",
       "</pre>\n"
      ],
      "text/plain": [
       "DocImageIndex\n"
      ]
     },
     "metadata": {},
     "output_type": "display_data"
    },
    {
     "data": {
      "text/html": [
       "<pre style=\"white-space:pre;overflow-x:auto;line-height:normal;font-family:Menlo,'DejaVu Sans Mono',consolas,'Courier New',monospace\">inside nj_clean\n",
       "</pre>\n"
      ],
      "text/plain": [
       "inside nj_clean\n"
      ]
     },
     "metadata": {},
     "output_type": "display_data"
    },
    {
     "name": "stderr",
     "output_type": "stream",
     "text": [
      "C:\\ProgramData\\anaconda3\\Lib\\site-packages\\sklearn\\base.py:432: UserWarning: X has feature names, but RandomForestClassifier was fitted without feature names\n",
      "  warnings.warn(\n"
     ]
    },
    {
     "data": {
      "text/html": [
       "<pre style=\"white-space:pre;overflow-x:auto;line-height:normal;font-family:Menlo,'DejaVu Sans Mono',consolas,'Courier New',monospace\">DocImageIndex\n",
       "</pre>\n"
      ],
      "text/plain": [
       "DocImageIndex\n"
      ]
     },
     "metadata": {},
     "output_type": "display_data"
    },
    {
     "data": {
      "text/html": [
       "<pre style=\"white-space:pre;overflow-x:auto;line-height:normal;font-family:Menlo,'DejaVu Sans Mono',consolas,'Courier New',monospace\">inside nj_clean\n",
       "</pre>\n"
      ],
      "text/plain": [
       "inside nj_clean\n"
      ]
     },
     "metadata": {},
     "output_type": "display_data"
    },
    {
     "name": "stderr",
     "output_type": "stream",
     "text": [
      "C:\\ProgramData\\anaconda3\\Lib\\site-packages\\sklearn\\base.py:432: UserWarning: X has feature names, but RandomForestClassifier was fitted without feature names\n",
      "  warnings.warn(\n"
     ]
    },
    {
     "data": {
      "text/html": [
       "<pre style=\"white-space:pre;overflow-x:auto;line-height:normal;font-family:Menlo,'DejaVu Sans Mono',consolas,'Courier New',monospace\">DocImageIndex\n",
       "</pre>\n"
      ],
      "text/plain": [
       "DocImageIndex\n"
      ]
     },
     "metadata": {},
     "output_type": "display_data"
    },
    {
     "data": {
      "text/html": [
       "<pre style=\"white-space:pre;overflow-x:auto;line-height:normal;font-family:Menlo,'DejaVu Sans Mono',consolas,'Courier New',monospace\">inside nj_clean\n",
       "</pre>\n"
      ],
      "text/plain": [
       "inside nj_clean\n"
      ]
     },
     "metadata": {},
     "output_type": "display_data"
    },
    {
     "name": "stderr",
     "output_type": "stream",
     "text": [
      "C:\\ProgramData\\anaconda3\\Lib\\site-packages\\sklearn\\base.py:432: UserWarning: X has feature names, but RandomForestClassifier was fitted without feature names\n",
      "  warnings.warn(\n"
     ]
    },
    {
     "data": {
      "text/html": [
       "<pre style=\"white-space:pre;overflow-x:auto;line-height:normal;font-family:Menlo,'DejaVu Sans Mono',consolas,'Courier New',monospace\">DocImageIndex\n",
       "</pre>\n"
      ],
      "text/plain": [
       "DocImageIndex\n"
      ]
     },
     "metadata": {},
     "output_type": "display_data"
    },
    {
     "data": {
      "text/html": [
       "<pre style=\"white-space:pre;overflow-x:auto;line-height:normal;font-family:Menlo,'DejaVu Sans Mono',consolas,'Courier New',monospace\">inside nj_clean\n",
       "</pre>\n"
      ],
      "text/plain": [
       "inside nj_clean\n"
      ]
     },
     "metadata": {},
     "output_type": "display_data"
    },
    {
     "name": "stderr",
     "output_type": "stream",
     "text": [
      "C:\\ProgramData\\anaconda3\\Lib\\site-packages\\sklearn\\base.py:432: UserWarning: X has feature names, but RandomForestClassifier was fitted without feature names\n",
      "  warnings.warn(\n"
     ]
    },
    {
     "data": {
      "text/html": [
       "<pre style=\"white-space:pre;overflow-x:auto;line-height:normal;font-family:Menlo,'DejaVu Sans Mono',consolas,'Courier New',monospace\">DocImageIndex\n",
       "</pre>\n"
      ],
      "text/plain": [
       "DocImageIndex\n"
      ]
     },
     "metadata": {},
     "output_type": "display_data"
    },
    {
     "data": {
      "text/html": [
       "<pre style=\"white-space:pre;overflow-x:auto;line-height:normal;font-family:Menlo,'DejaVu Sans Mono',consolas,'Courier New',monospace\">inside nj_clean\n",
       "</pre>\n"
      ],
      "text/plain": [
       "inside nj_clean\n"
      ]
     },
     "metadata": {},
     "output_type": "display_data"
    },
    {
     "name": "stderr",
     "output_type": "stream",
     "text": [
      "C:\\ProgramData\\anaconda3\\Lib\\site-packages\\sklearn\\base.py:432: UserWarning: X has feature names, but RandomForestClassifier was fitted without feature names\n",
      "  warnings.warn(\n"
     ]
    },
    {
     "data": {
      "text/html": [
       "<pre style=\"white-space:pre;overflow-x:auto;line-height:normal;font-family:Menlo,'DejaVu Sans Mono',consolas,'Courier New',monospace\">DocImageIndex\n",
       "</pre>\n"
      ],
      "text/plain": [
       "DocImageIndex\n"
      ]
     },
     "metadata": {},
     "output_type": "display_data"
    },
    {
     "data": {
      "text/html": [
       "<pre style=\"white-space:pre;overflow-x:auto;line-height:normal;font-family:Menlo,'DejaVu Sans Mono',consolas,'Courier New',monospace\">inside nj_clean\n",
       "</pre>\n"
      ],
      "text/plain": [
       "inside nj_clean\n"
      ]
     },
     "metadata": {},
     "output_type": "display_data"
    },
    {
     "name": "stderr",
     "output_type": "stream",
     "text": [
      "C:\\ProgramData\\anaconda3\\Lib\\site-packages\\sklearn\\base.py:432: UserWarning: X has feature names, but RandomForestClassifier was fitted without feature names\n",
      "  warnings.warn(\n"
     ]
    },
    {
     "data": {
      "text/html": [
       "<pre style=\"white-space:pre;overflow-x:auto;line-height:normal;font-family:Menlo,'DejaVu Sans Mono',consolas,'Courier New',monospace\">DocImageIndex\n",
       "</pre>\n"
      ],
      "text/plain": [
       "DocImageIndex\n"
      ]
     },
     "metadata": {},
     "output_type": "display_data"
    },
    {
     "data": {
      "text/html": [
       "<pre style=\"white-space:pre;overflow-x:auto;line-height:normal;font-family:Menlo,'DejaVu Sans Mono',consolas,'Courier New',monospace\">inside nj_clean\n",
       "</pre>\n"
      ],
      "text/plain": [
       "inside nj_clean\n"
      ]
     },
     "metadata": {},
     "output_type": "display_data"
    },
    {
     "name": "stderr",
     "output_type": "stream",
     "text": [
      "C:\\ProgramData\\anaconda3\\Lib\\site-packages\\sklearn\\base.py:432: UserWarning: X has feature names, but RandomForestClassifier was fitted without feature names\n",
      "  warnings.warn(\n"
     ]
    },
    {
     "data": {
      "text/html": [
       "<pre style=\"white-space:pre;overflow-x:auto;line-height:normal;font-family:Menlo,'DejaVu Sans Mono',consolas,'Courier New',monospace\">DocImageIndex\n",
       "</pre>\n"
      ],
      "text/plain": [
       "DocImageIndex\n"
      ]
     },
     "metadata": {},
     "output_type": "display_data"
    },
    {
     "data": {
      "text/html": [
       "<pre style=\"white-space:pre;overflow-x:auto;line-height:normal;font-family:Menlo,'DejaVu Sans Mono',consolas,'Courier New',monospace\">inside nj_clean\n",
       "</pre>\n"
      ],
      "text/plain": [
       "inside nj_clean\n"
      ]
     },
     "metadata": {},
     "output_type": "display_data"
    },
    {
     "name": "stderr",
     "output_type": "stream",
     "text": [
      "C:\\ProgramData\\anaconda3\\Lib\\site-packages\\sklearn\\base.py:432: UserWarning: X has feature names, but RandomForestClassifier was fitted without feature names\n",
      "  warnings.warn(\n"
     ]
    },
    {
     "data": {
      "text/html": [
       "<pre style=\"white-space:pre;overflow-x:auto;line-height:normal;font-family:Menlo,'DejaVu Sans Mono',consolas,'Courier New',monospace\">DocImageIndex\n",
       "</pre>\n"
      ],
      "text/plain": [
       "DocImageIndex\n"
      ]
     },
     "metadata": {},
     "output_type": "display_data"
    },
    {
     "data": {
      "text/html": [
       "<pre style=\"white-space:pre;overflow-x:auto;line-height:normal;font-family:Menlo,'DejaVu Sans Mono',consolas,'Courier New',monospace\">inside nj_clean\n",
       "</pre>\n"
      ],
      "text/plain": [
       "inside nj_clean\n"
      ]
     },
     "metadata": {},
     "output_type": "display_data"
    },
    {
     "name": "stderr",
     "output_type": "stream",
     "text": [
      "C:\\ProgramData\\anaconda3\\Lib\\site-packages\\sklearn\\base.py:432: UserWarning: X has feature names, but RandomForestClassifier was fitted without feature names\n",
      "  warnings.warn(\n"
     ]
    },
    {
     "data": {
      "text/html": [
       "<pre style=\"white-space:pre;overflow-x:auto;line-height:normal;font-family:Menlo,'DejaVu Sans Mono',consolas,'Courier New',monospace\">DocImageIndex\n",
       "</pre>\n"
      ],
      "text/plain": [
       "DocImageIndex\n"
      ]
     },
     "metadata": {},
     "output_type": "display_data"
    },
    {
     "data": {
      "text/html": [
       "<pre style=\"white-space:pre;overflow-x:auto;line-height:normal;font-family:Menlo,'DejaVu Sans Mono',consolas,'Courier New',monospace\">inside nj_clean\n",
       "</pre>\n"
      ],
      "text/plain": [
       "inside nj_clean\n"
      ]
     },
     "metadata": {},
     "output_type": "display_data"
    },
    {
     "name": "stderr",
     "output_type": "stream",
     "text": [
      "C:\\ProgramData\\anaconda3\\Lib\\site-packages\\sklearn\\base.py:432: UserWarning: X has feature names, but RandomForestClassifier was fitted without feature names\n",
      "  warnings.warn(\n"
     ]
    },
    {
     "data": {
      "text/html": [
       "<pre style=\"white-space:pre;overflow-x:auto;line-height:normal;font-family:Menlo,'DejaVu Sans Mono',consolas,'Courier New',monospace\">DocImageIndex\n",
       "</pre>\n"
      ],
      "text/plain": [
       "DocImageIndex\n"
      ]
     },
     "metadata": {},
     "output_type": "display_data"
    },
    {
     "data": {
      "text/html": [
       "<pre style=\"white-space:pre;overflow-x:auto;line-height:normal;font-family:Menlo,'DejaVu Sans Mono',consolas,'Courier New',monospace\">inside nj_clean\n",
       "</pre>\n"
      ],
      "text/plain": [
       "inside nj_clean\n"
      ]
     },
     "metadata": {},
     "output_type": "display_data"
    },
    {
     "name": "stderr",
     "output_type": "stream",
     "text": [
      "C:\\ProgramData\\anaconda3\\Lib\\site-packages\\sklearn\\base.py:432: UserWarning: X has feature names, but RandomForestClassifier was fitted without feature names\n",
      "  warnings.warn(\n"
     ]
    },
    {
     "data": {
      "text/html": [
       "<pre style=\"white-space:pre;overflow-x:auto;line-height:normal;font-family:Menlo,'DejaVu Sans Mono',consolas,'Courier New',monospace\">DocImageIndex\n",
       "</pre>\n"
      ],
      "text/plain": [
       "DocImageIndex\n"
      ]
     },
     "metadata": {},
     "output_type": "display_data"
    },
    {
     "data": {
      "text/html": [
       "<pre style=\"white-space:pre;overflow-x:auto;line-height:normal;font-family:Menlo,'DejaVu Sans Mono',consolas,'Courier New',monospace\">inside nj_clean\n",
       "</pre>\n"
      ],
      "text/plain": [
       "inside nj_clean\n"
      ]
     },
     "metadata": {},
     "output_type": "display_data"
    },
    {
     "name": "stderr",
     "output_type": "stream",
     "text": [
      "C:\\ProgramData\\anaconda3\\Lib\\site-packages\\sklearn\\base.py:432: UserWarning: X has feature names, but RandomForestClassifier was fitted without feature names\n",
      "  warnings.warn(\n"
     ]
    },
    {
     "data": {
      "text/html": [
       "<pre style=\"white-space:pre;overflow-x:auto;line-height:normal;font-family:Menlo,'DejaVu Sans Mono',consolas,'Courier New',monospace\">DocImageIndex\n",
       "</pre>\n"
      ],
      "text/plain": [
       "DocImageIndex\n"
      ]
     },
     "metadata": {},
     "output_type": "display_data"
    },
    {
     "data": {
      "text/html": [
       "<pre style=\"white-space:pre;overflow-x:auto;line-height:normal;font-family:Menlo,'DejaVu Sans Mono',consolas,'Courier New',monospace\">inside nj_clean\n",
       "</pre>\n"
      ],
      "text/plain": [
       "inside nj_clean\n"
      ]
     },
     "metadata": {},
     "output_type": "display_data"
    },
    {
     "name": "stderr",
     "output_type": "stream",
     "text": [
      "C:\\ProgramData\\anaconda3\\Lib\\site-packages\\sklearn\\base.py:432: UserWarning: X has feature names, but RandomForestClassifier was fitted without feature names\n",
      "  warnings.warn(\n"
     ]
    },
    {
     "data": {
      "text/html": [
       "<pre style=\"white-space:pre;overflow-x:auto;line-height:normal;font-family:Menlo,'DejaVu Sans Mono',consolas,'Courier New',monospace\">DocImageIndex\n",
       "</pre>\n"
      ],
      "text/plain": [
       "DocImageIndex\n"
      ]
     },
     "metadata": {},
     "output_type": "display_data"
    },
    {
     "data": {
      "text/html": [
       "<pre style=\"white-space:pre;overflow-x:auto;line-height:normal;font-family:Menlo,'DejaVu Sans Mono',consolas,'Courier New',monospace\">inside nj_clean\n",
       "</pre>\n"
      ],
      "text/plain": [
       "inside nj_clean\n"
      ]
     },
     "metadata": {},
     "output_type": "display_data"
    },
    {
     "name": "stderr",
     "output_type": "stream",
     "text": [
      "C:\\ProgramData\\anaconda3\\Lib\\site-packages\\sklearn\\base.py:432: UserWarning: X has feature names, but RandomForestClassifier was fitted without feature names\n",
      "  warnings.warn(\n"
     ]
    },
    {
     "data": {
      "text/html": [
       "<pre style=\"white-space:pre;overflow-x:auto;line-height:normal;font-family:Menlo,'DejaVu Sans Mono',consolas,'Courier New',monospace\">DocImageIndex\n",
       "</pre>\n"
      ],
      "text/plain": [
       "DocImageIndex\n"
      ]
     },
     "metadata": {},
     "output_type": "display_data"
    },
    {
     "data": {
      "text/html": [
       "<pre style=\"white-space:pre;overflow-x:auto;line-height:normal;font-family:Menlo,'DejaVu Sans Mono',consolas,'Courier New',monospace\">inside nj_clean\n",
       "</pre>\n"
      ],
      "text/plain": [
       "inside nj_clean\n"
      ]
     },
     "metadata": {},
     "output_type": "display_data"
    },
    {
     "name": "stderr",
     "output_type": "stream",
     "text": [
      "C:\\ProgramData\\anaconda3\\Lib\\site-packages\\sklearn\\base.py:432: UserWarning: X has feature names, but RandomForestClassifier was fitted without feature names\n",
      "  warnings.warn(\n"
     ]
    },
    {
     "data": {
      "text/html": [
       "<pre style=\"white-space:pre;overflow-x:auto;line-height:normal;font-family:Menlo,'DejaVu Sans Mono',consolas,'Courier New',monospace\">DocImageIndex\n",
       "</pre>\n"
      ],
      "text/plain": [
       "DocImageIndex\n"
      ]
     },
     "metadata": {},
     "output_type": "display_data"
    },
    {
     "data": {
      "text/html": [
       "<pre style=\"white-space:pre;overflow-x:auto;line-height:normal;font-family:Menlo,'DejaVu Sans Mono',consolas,'Courier New',monospace\">inside nj_clean\n",
       "</pre>\n"
      ],
      "text/plain": [
       "inside nj_clean\n"
      ]
     },
     "metadata": {},
     "output_type": "display_data"
    },
    {
     "name": "stderr",
     "output_type": "stream",
     "text": [
      "C:\\ProgramData\\anaconda3\\Lib\\site-packages\\sklearn\\base.py:432: UserWarning: X has feature names, but RandomForestClassifier was fitted without feature names\n",
      "  warnings.warn(\n"
     ]
    },
    {
     "data": {
      "text/html": [
       "<pre style=\"white-space:pre;overflow-x:auto;line-height:normal;font-family:Menlo,'DejaVu Sans Mono',consolas,'Courier New',monospace\">DocImageIndex\n",
       "</pre>\n"
      ],
      "text/plain": [
       "DocImageIndex\n"
      ]
     },
     "metadata": {},
     "output_type": "display_data"
    },
    {
     "data": {
      "text/html": [
       "<pre style=\"white-space:pre;overflow-x:auto;line-height:normal;font-family:Menlo,'DejaVu Sans Mono',consolas,'Courier New',monospace\">inside nj_clean\n",
       "</pre>\n"
      ],
      "text/plain": [
       "inside nj_clean\n"
      ]
     },
     "metadata": {},
     "output_type": "display_data"
    },
    {
     "name": "stderr",
     "output_type": "stream",
     "text": [
      "C:\\ProgramData\\anaconda3\\Lib\\site-packages\\sklearn\\base.py:432: UserWarning: X has feature names, but RandomForestClassifier was fitted without feature names\n",
      "  warnings.warn(\n"
     ]
    },
    {
     "data": {
      "text/html": [
       "<pre style=\"white-space:pre;overflow-x:auto;line-height:normal;font-family:Menlo,'DejaVu Sans Mono',consolas,'Courier New',monospace\">DocImageIndex\n",
       "</pre>\n"
      ],
      "text/plain": [
       "DocImageIndex\n"
      ]
     },
     "metadata": {},
     "output_type": "display_data"
    },
    {
     "data": {
      "text/html": [
       "<pre style=\"white-space:pre;overflow-x:auto;line-height:normal;font-family:Menlo,'DejaVu Sans Mono',consolas,'Courier New',monospace\">inside nj_clean\n",
       "</pre>\n"
      ],
      "text/plain": [
       "inside nj_clean\n"
      ]
     },
     "metadata": {},
     "output_type": "display_data"
    },
    {
     "name": "stderr",
     "output_type": "stream",
     "text": [
      "C:\\ProgramData\\anaconda3\\Lib\\site-packages\\sklearn\\base.py:432: UserWarning: X has feature names, but RandomForestClassifier was fitted without feature names\n",
      "  warnings.warn(\n"
     ]
    },
    {
     "data": {
      "text/html": [
       "<pre style=\"white-space:pre;overflow-x:auto;line-height:normal;font-family:Menlo,'DejaVu Sans Mono',consolas,'Courier New',monospace\">DocImageIndex\n",
       "</pre>\n"
      ],
      "text/plain": [
       "DocImageIndex\n"
      ]
     },
     "metadata": {},
     "output_type": "display_data"
    },
    {
     "data": {
      "text/html": [
       "<pre style=\"white-space:pre;overflow-x:auto;line-height:normal;font-family:Menlo,'DejaVu Sans Mono',consolas,'Courier New',monospace\">inside nj_clean\n",
       "</pre>\n"
      ],
      "text/plain": [
       "inside nj_clean\n"
      ]
     },
     "metadata": {},
     "output_type": "display_data"
    },
    {
     "name": "stderr",
     "output_type": "stream",
     "text": [
      "C:\\ProgramData\\anaconda3\\Lib\\site-packages\\sklearn\\base.py:432: UserWarning: X has feature names, but RandomForestClassifier was fitted without feature names\n",
      "  warnings.warn(\n"
     ]
    },
    {
     "data": {
      "text/html": [
       "<pre style=\"white-space:pre;overflow-x:auto;line-height:normal;font-family:Menlo,'DejaVu Sans Mono',consolas,'Courier New',monospace\">DocImageIndex\n",
       "</pre>\n"
      ],
      "text/plain": [
       "DocImageIndex\n"
      ]
     },
     "metadata": {},
     "output_type": "display_data"
    },
    {
     "data": {
      "text/html": [
       "<pre style=\"white-space:pre;overflow-x:auto;line-height:normal;font-family:Menlo,'DejaVu Sans Mono',consolas,'Courier New',monospace\">inside nj_clean\n",
       "</pre>\n"
      ],
      "text/plain": [
       "inside nj_clean\n"
      ]
     },
     "metadata": {},
     "output_type": "display_data"
    },
    {
     "name": "stderr",
     "output_type": "stream",
     "text": [
      "C:\\ProgramData\\anaconda3\\Lib\\site-packages\\sklearn\\base.py:432: UserWarning: X has feature names, but RandomForestClassifier was fitted without feature names\n",
      "  warnings.warn(\n"
     ]
    },
    {
     "data": {
      "text/html": [
       "<pre style=\"white-space:pre;overflow-x:auto;line-height:normal;font-family:Menlo,'DejaVu Sans Mono',consolas,'Courier New',monospace\">DocImageIndex\n",
       "</pre>\n"
      ],
      "text/plain": [
       "DocImageIndex\n"
      ]
     },
     "metadata": {},
     "output_type": "display_data"
    },
    {
     "data": {
      "text/html": [
       "<pre style=\"white-space:pre;overflow-x:auto;line-height:normal;font-family:Menlo,'DejaVu Sans Mono',consolas,'Courier New',monospace\">inside nj_clean\n",
       "</pre>\n"
      ],
      "text/plain": [
       "inside nj_clean\n"
      ]
     },
     "metadata": {},
     "output_type": "display_data"
    },
    {
     "name": "stderr",
     "output_type": "stream",
     "text": [
      "C:\\ProgramData\\anaconda3\\Lib\\site-packages\\sklearn\\base.py:432: UserWarning: X has feature names, but RandomForestClassifier was fitted without feature names\n",
      "  warnings.warn(\n"
     ]
    },
    {
     "data": {
      "text/html": [
       "<pre style=\"white-space:pre;overflow-x:auto;line-height:normal;font-family:Menlo,'DejaVu Sans Mono',consolas,'Courier New',monospace\">DocImageIndex\n",
       "</pre>\n"
      ],
      "text/plain": [
       "DocImageIndex\n"
      ]
     },
     "metadata": {},
     "output_type": "display_data"
    },
    {
     "data": {
      "text/html": [
       "<pre style=\"white-space:pre;overflow-x:auto;line-height:normal;font-family:Menlo,'DejaVu Sans Mono',consolas,'Courier New',monospace\">inside nj_clean\n",
       "</pre>\n"
      ],
      "text/plain": [
       "inside nj_clean\n"
      ]
     },
     "metadata": {},
     "output_type": "display_data"
    },
    {
     "name": "stderr",
     "output_type": "stream",
     "text": [
      "C:\\ProgramData\\anaconda3\\Lib\\site-packages\\sklearn\\base.py:432: UserWarning: X has feature names, but RandomForestClassifier was fitted without feature names\n",
      "  warnings.warn(\n"
     ]
    },
    {
     "data": {
      "text/html": [
       "<pre style=\"white-space:pre;overflow-x:auto;line-height:normal;font-family:Menlo,'DejaVu Sans Mono',consolas,'Courier New',monospace\">DocImageIndex\n",
       "</pre>\n"
      ],
      "text/plain": [
       "DocImageIndex\n"
      ]
     },
     "metadata": {},
     "output_type": "display_data"
    },
    {
     "data": {
      "text/html": [
       "<pre style=\"white-space:pre;overflow-x:auto;line-height:normal;font-family:Menlo,'DejaVu Sans Mono',consolas,'Courier New',monospace\">inside nj_clean\n",
       "</pre>\n"
      ],
      "text/plain": [
       "inside nj_clean\n"
      ]
     },
     "metadata": {},
     "output_type": "display_data"
    },
    {
     "name": "stderr",
     "output_type": "stream",
     "text": [
      "C:\\ProgramData\\anaconda3\\Lib\\site-packages\\sklearn\\base.py:432: UserWarning: X has feature names, but RandomForestClassifier was fitted without feature names\n",
      "  warnings.warn(\n"
     ]
    },
    {
     "data": {
      "text/html": [
       "<pre style=\"white-space:pre;overflow-x:auto;line-height:normal;font-family:Menlo,'DejaVu Sans Mono',consolas,'Courier New',monospace\">DocImageIndex\n",
       "</pre>\n"
      ],
      "text/plain": [
       "DocImageIndex\n"
      ]
     },
     "metadata": {},
     "output_type": "display_data"
    },
    {
     "data": {
      "text/html": [
       "<pre style=\"white-space:pre;overflow-x:auto;line-height:normal;font-family:Menlo,'DejaVu Sans Mono',consolas,'Courier New',monospace\">inside nj_clean\n",
       "</pre>\n"
      ],
      "text/plain": [
       "inside nj_clean\n"
      ]
     },
     "metadata": {},
     "output_type": "display_data"
    },
    {
     "name": "stderr",
     "output_type": "stream",
     "text": [
      "C:\\ProgramData\\anaconda3\\Lib\\site-packages\\sklearn\\base.py:432: UserWarning: X has feature names, but RandomForestClassifier was fitted without feature names\n",
      "  warnings.warn(\n"
     ]
    },
    {
     "data": {
      "text/html": [
       "<pre style=\"white-space:pre;overflow-x:auto;line-height:normal;font-family:Menlo,'DejaVu Sans Mono',consolas,'Courier New',monospace\">DocImageIndex\n",
       "</pre>\n"
      ],
      "text/plain": [
       "DocImageIndex\n"
      ]
     },
     "metadata": {},
     "output_type": "display_data"
    },
    {
     "data": {
      "text/html": [
       "<pre style=\"white-space:pre;overflow-x:auto;line-height:normal;font-family:Menlo,'DejaVu Sans Mono',consolas,'Courier New',monospace\">inside nj_clean\n",
       "</pre>\n"
      ],
      "text/plain": [
       "inside nj_clean\n"
      ]
     },
     "metadata": {},
     "output_type": "display_data"
    },
    {
     "name": "stderr",
     "output_type": "stream",
     "text": [
      "C:\\ProgramData\\anaconda3\\Lib\\site-packages\\sklearn\\base.py:432: UserWarning: X has feature names, but RandomForestClassifier was fitted without feature names\n",
      "  warnings.warn(\n"
     ]
    },
    {
     "data": {
      "text/html": [
       "<pre style=\"white-space:pre;overflow-x:auto;line-height:normal;font-family:Menlo,'DejaVu Sans Mono',consolas,'Courier New',monospace\">DocImageIndex\n",
       "</pre>\n"
      ],
      "text/plain": [
       "DocImageIndex\n"
      ]
     },
     "metadata": {},
     "output_type": "display_data"
    },
    {
     "data": {
      "text/html": [
       "<pre style=\"white-space:pre;overflow-x:auto;line-height:normal;font-family:Menlo,'DejaVu Sans Mono',consolas,'Courier New',monospace\">inside nj_clean\n",
       "</pre>\n"
      ],
      "text/plain": [
       "inside nj_clean\n"
      ]
     },
     "metadata": {},
     "output_type": "display_data"
    },
    {
     "name": "stderr",
     "output_type": "stream",
     "text": [
      "C:\\ProgramData\\anaconda3\\Lib\\site-packages\\sklearn\\base.py:432: UserWarning: X has feature names, but RandomForestClassifier was fitted without feature names\n",
      "  warnings.warn(\n"
     ]
    },
    {
     "data": {
      "text/html": [
       "<pre style=\"white-space:pre;overflow-x:auto;line-height:normal;font-family:Menlo,'DejaVu Sans Mono',consolas,'Courier New',monospace\">DocImageIndex\n",
       "</pre>\n"
      ],
      "text/plain": [
       "DocImageIndex\n"
      ]
     },
     "metadata": {},
     "output_type": "display_data"
    },
    {
     "data": {
      "text/html": [
       "<pre style=\"white-space:pre;overflow-x:auto;line-height:normal;font-family:Menlo,'DejaVu Sans Mono',consolas,'Courier New',monospace\">inside nj_clean\n",
       "</pre>\n"
      ],
      "text/plain": [
       "inside nj_clean\n"
      ]
     },
     "metadata": {},
     "output_type": "display_data"
    },
    {
     "name": "stderr",
     "output_type": "stream",
     "text": [
      "C:\\ProgramData\\anaconda3\\Lib\\site-packages\\sklearn\\base.py:432: UserWarning: X has feature names, but RandomForestClassifier was fitted without feature names\n",
      "  warnings.warn(\n"
     ]
    },
    {
     "data": {
      "text/html": [
       "<pre style=\"white-space:pre;overflow-x:auto;line-height:normal;font-family:Menlo,'DejaVu Sans Mono',consolas,'Courier New',monospace\">DocImageIndex\n",
       "</pre>\n"
      ],
      "text/plain": [
       "DocImageIndex\n"
      ]
     },
     "metadata": {},
     "output_type": "display_data"
    },
    {
     "data": {
      "text/html": [
       "<pre style=\"white-space:pre;overflow-x:auto;line-height:normal;font-family:Menlo,'DejaVu Sans Mono',consolas,'Courier New',monospace\">inside nj_clean\n",
       "</pre>\n"
      ],
      "text/plain": [
       "inside nj_clean\n"
      ]
     },
     "metadata": {},
     "output_type": "display_data"
    },
    {
     "name": "stderr",
     "output_type": "stream",
     "text": [
      "C:\\ProgramData\\anaconda3\\Lib\\site-packages\\sklearn\\base.py:432: UserWarning: X has feature names, but RandomForestClassifier was fitted without feature names\n",
      "  warnings.warn(\n"
     ]
    },
    {
     "data": {
      "text/html": [
       "<pre style=\"white-space:pre;overflow-x:auto;line-height:normal;font-family:Menlo,'DejaVu Sans Mono',consolas,'Courier New',monospace\">DocImageIndex\n",
       "</pre>\n"
      ],
      "text/plain": [
       "DocImageIndex\n"
      ]
     },
     "metadata": {},
     "output_type": "display_data"
    },
    {
     "data": {
      "text/html": [
       "<pre style=\"white-space:pre;overflow-x:auto;line-height:normal;font-family:Menlo,'DejaVu Sans Mono',consolas,'Courier New',monospace\">inside nj_clean\n",
       "</pre>\n"
      ],
      "text/plain": [
       "inside nj_clean\n"
      ]
     },
     "metadata": {},
     "output_type": "display_data"
    },
    {
     "name": "stderr",
     "output_type": "stream",
     "text": [
      "C:\\ProgramData\\anaconda3\\Lib\\site-packages\\sklearn\\base.py:432: UserWarning: X has feature names, but RandomForestClassifier was fitted without feature names\n",
      "  warnings.warn(\n"
     ]
    },
    {
     "data": {
      "text/html": [
       "<pre style=\"white-space:pre;overflow-x:auto;line-height:normal;font-family:Menlo,'DejaVu Sans Mono',consolas,'Courier New',monospace\">DocImageIndex\n",
       "</pre>\n"
      ],
      "text/plain": [
       "DocImageIndex\n"
      ]
     },
     "metadata": {},
     "output_type": "display_data"
    },
    {
     "data": {
      "text/html": [
       "<pre style=\"white-space:pre;overflow-x:auto;line-height:normal;font-family:Menlo,'DejaVu Sans Mono',consolas,'Courier New',monospace\">inside nj_clean\n",
       "</pre>\n"
      ],
      "text/plain": [
       "inside nj_clean\n"
      ]
     },
     "metadata": {},
     "output_type": "display_data"
    },
    {
     "name": "stderr",
     "output_type": "stream",
     "text": [
      "C:\\ProgramData\\anaconda3\\Lib\\site-packages\\sklearn\\base.py:432: UserWarning: X has feature names, but RandomForestClassifier was fitted without feature names\n",
      "  warnings.warn(\n"
     ]
    },
    {
     "data": {
      "text/html": [
       "<pre style=\"white-space:pre;overflow-x:auto;line-height:normal;font-family:Menlo,'DejaVu Sans Mono',consolas,'Courier New',monospace\">DocImageIndex\n",
       "</pre>\n"
      ],
      "text/plain": [
       "DocImageIndex\n"
      ]
     },
     "metadata": {},
     "output_type": "display_data"
    },
    {
     "data": {
      "text/html": [
       "<pre style=\"white-space:pre;overflow-x:auto;line-height:normal;font-family:Menlo,'DejaVu Sans Mono',consolas,'Courier New',monospace\">inside nj_clean\n",
       "</pre>\n"
      ],
      "text/plain": [
       "inside nj_clean\n"
      ]
     },
     "metadata": {},
     "output_type": "display_data"
    },
    {
     "name": "stderr",
     "output_type": "stream",
     "text": [
      "C:\\ProgramData\\anaconda3\\Lib\\site-packages\\sklearn\\base.py:432: UserWarning: X has feature names, but RandomForestClassifier was fitted without feature names\n",
      "  warnings.warn(\n"
     ]
    },
    {
     "data": {
      "text/html": [
       "<pre style=\"white-space:pre;overflow-x:auto;line-height:normal;font-family:Menlo,'DejaVu Sans Mono',consolas,'Courier New',monospace\">DocImageIndex\n",
       "</pre>\n"
      ],
      "text/plain": [
       "DocImageIndex\n"
      ]
     },
     "metadata": {},
     "output_type": "display_data"
    },
    {
     "data": {
      "text/html": [
       "<pre style=\"white-space:pre;overflow-x:auto;line-height:normal;font-family:Menlo,'DejaVu Sans Mono',consolas,'Courier New',monospace\">inside nj_clean\n",
       "</pre>\n"
      ],
      "text/plain": [
       "inside nj_clean\n"
      ]
     },
     "metadata": {},
     "output_type": "display_data"
    },
    {
     "name": "stderr",
     "output_type": "stream",
     "text": [
      "C:\\ProgramData\\anaconda3\\Lib\\site-packages\\sklearn\\base.py:432: UserWarning: X has feature names, but RandomForestClassifier was fitted without feature names\n",
      "  warnings.warn(\n"
     ]
    },
    {
     "data": {
      "text/html": [
       "<pre style=\"white-space:pre;overflow-x:auto;line-height:normal;font-family:Menlo,'DejaVu Sans Mono',consolas,'Courier New',monospace\">DocImageIndex\n",
       "</pre>\n"
      ],
      "text/plain": [
       "DocImageIndex\n"
      ]
     },
     "metadata": {},
     "output_type": "display_data"
    },
    {
     "data": {
      "text/html": [
       "<pre style=\"white-space:pre;overflow-x:auto;line-height:normal;font-family:Menlo,'DejaVu Sans Mono',consolas,'Courier New',monospace\">inside nj_clean\n",
       "</pre>\n"
      ],
      "text/plain": [
       "inside nj_clean\n"
      ]
     },
     "metadata": {},
     "output_type": "display_data"
    },
    {
     "name": "stderr",
     "output_type": "stream",
     "text": [
      "C:\\ProgramData\\anaconda3\\Lib\\site-packages\\sklearn\\base.py:432: UserWarning: X has feature names, but RandomForestClassifier was fitted without feature names\n",
      "  warnings.warn(\n"
     ]
    },
    {
     "data": {
      "text/html": [
       "<pre style=\"white-space:pre;overflow-x:auto;line-height:normal;font-family:Menlo,'DejaVu Sans Mono',consolas,'Courier New',monospace\">DocImageIndex\n",
       "</pre>\n"
      ],
      "text/plain": [
       "DocImageIndex\n"
      ]
     },
     "metadata": {},
     "output_type": "display_data"
    },
    {
     "data": {
      "text/html": [
       "<pre style=\"white-space:pre;overflow-x:auto;line-height:normal;font-family:Menlo,'DejaVu Sans Mono',consolas,'Courier New',monospace\">inside nj_clean\n",
       "</pre>\n"
      ],
      "text/plain": [
       "inside nj_clean\n"
      ]
     },
     "metadata": {},
     "output_type": "display_data"
    },
    {
     "name": "stderr",
     "output_type": "stream",
     "text": [
      "C:\\ProgramData\\anaconda3\\Lib\\site-packages\\sklearn\\base.py:432: UserWarning: X has feature names, but RandomForestClassifier was fitted without feature names\n",
      "  warnings.warn(\n"
     ]
    },
    {
     "data": {
      "text/html": [
       "<pre style=\"white-space:pre;overflow-x:auto;line-height:normal;font-family:Menlo,'DejaVu Sans Mono',consolas,'Courier New',monospace\">DocImageIndex\n",
       "</pre>\n"
      ],
      "text/plain": [
       "DocImageIndex\n"
      ]
     },
     "metadata": {},
     "output_type": "display_data"
    },
    {
     "data": {
      "text/html": [
       "<pre style=\"white-space:pre;overflow-x:auto;line-height:normal;font-family:Menlo,'DejaVu Sans Mono',consolas,'Courier New',monospace\">inside nj_clean\n",
       "</pre>\n"
      ],
      "text/plain": [
       "inside nj_clean\n"
      ]
     },
     "metadata": {},
     "output_type": "display_data"
    },
    {
     "name": "stderr",
     "output_type": "stream",
     "text": [
      "C:\\ProgramData\\anaconda3\\Lib\\site-packages\\sklearn\\base.py:432: UserWarning: X has feature names, but RandomForestClassifier was fitted without feature names\n",
      "  warnings.warn(\n"
     ]
    },
    {
     "data": {
      "text/html": [
       "<pre style=\"white-space:pre;overflow-x:auto;line-height:normal;font-family:Menlo,'DejaVu Sans Mono',consolas,'Courier New',monospace\">DocImageIndex\n",
       "</pre>\n"
      ],
      "text/plain": [
       "DocImageIndex\n"
      ]
     },
     "metadata": {},
     "output_type": "display_data"
    },
    {
     "data": {
      "text/html": [
       "<pre style=\"white-space:pre;overflow-x:auto;line-height:normal;font-family:Menlo,'DejaVu Sans Mono',consolas,'Courier New',monospace\">inside nj_clean\n",
       "</pre>\n"
      ],
      "text/plain": [
       "inside nj_clean\n"
      ]
     },
     "metadata": {},
     "output_type": "display_data"
    },
    {
     "name": "stderr",
     "output_type": "stream",
     "text": [
      "C:\\ProgramData\\anaconda3\\Lib\\site-packages\\sklearn\\base.py:432: UserWarning: X has feature names, but RandomForestClassifier was fitted without feature names\n",
      "  warnings.warn(\n"
     ]
    },
    {
     "data": {
      "text/html": [
       "<pre style=\"white-space:pre;overflow-x:auto;line-height:normal;font-family:Menlo,'DejaVu Sans Mono',consolas,'Courier New',monospace\">DocImageIndex\n",
       "</pre>\n"
      ],
      "text/plain": [
       "DocImageIndex\n"
      ]
     },
     "metadata": {},
     "output_type": "display_data"
    },
    {
     "data": {
      "text/html": [
       "<pre style=\"white-space:pre;overflow-x:auto;line-height:normal;font-family:Menlo,'DejaVu Sans Mono',consolas,'Courier New',monospace\">inside nj_clean\n",
       "</pre>\n"
      ],
      "text/plain": [
       "inside nj_clean\n"
      ]
     },
     "metadata": {},
     "output_type": "display_data"
    },
    {
     "name": "stderr",
     "output_type": "stream",
     "text": [
      "C:\\ProgramData\\anaconda3\\Lib\\site-packages\\sklearn\\base.py:432: UserWarning: X has feature names, but RandomForestClassifier was fitted without feature names\n",
      "  warnings.warn(\n"
     ]
    },
    {
     "data": {
      "text/html": [
       "<pre style=\"white-space:pre;overflow-x:auto;line-height:normal;font-family:Menlo,'DejaVu Sans Mono',consolas,'Courier New',monospace\">DocImageIndex\n",
       "</pre>\n"
      ],
      "text/plain": [
       "DocImageIndex\n"
      ]
     },
     "metadata": {},
     "output_type": "display_data"
    },
    {
     "data": {
      "text/html": [
       "<pre style=\"white-space:pre;overflow-x:auto;line-height:normal;font-family:Menlo,'DejaVu Sans Mono',consolas,'Courier New',monospace\">inside nj_clean\n",
       "</pre>\n"
      ],
      "text/plain": [
       "inside nj_clean\n"
      ]
     },
     "metadata": {},
     "output_type": "display_data"
    },
    {
     "name": "stderr",
     "output_type": "stream",
     "text": [
      "C:\\ProgramData\\anaconda3\\Lib\\site-packages\\sklearn\\base.py:432: UserWarning: X has feature names, but RandomForestClassifier was fitted without feature names\n",
      "  warnings.warn(\n"
     ]
    },
    {
     "data": {
      "text/html": [
       "<pre style=\"white-space:pre;overflow-x:auto;line-height:normal;font-family:Menlo,'DejaVu Sans Mono',consolas,'Courier New',monospace\">DocImageIndex\n",
       "</pre>\n"
      ],
      "text/plain": [
       "DocImageIndex\n"
      ]
     },
     "metadata": {},
     "output_type": "display_data"
    },
    {
     "data": {
      "text/html": [
       "<pre style=\"white-space:pre;overflow-x:auto;line-height:normal;font-family:Menlo,'DejaVu Sans Mono',consolas,'Courier New',monospace\">inside nj_clean\n",
       "</pre>\n"
      ],
      "text/plain": [
       "inside nj_clean\n"
      ]
     },
     "metadata": {},
     "output_type": "display_data"
    },
    {
     "name": "stderr",
     "output_type": "stream",
     "text": [
      "C:\\ProgramData\\anaconda3\\Lib\\site-packages\\sklearn\\base.py:432: UserWarning: X has feature names, but RandomForestClassifier was fitted without feature names\n",
      "  warnings.warn(\n"
     ]
    },
    {
     "data": {
      "text/html": [
       "<pre style=\"white-space:pre;overflow-x:auto;line-height:normal;font-family:Menlo,'DejaVu Sans Mono',consolas,'Courier New',monospace\">DocImageIndex\n",
       "</pre>\n"
      ],
      "text/plain": [
       "DocImageIndex\n"
      ]
     },
     "metadata": {},
     "output_type": "display_data"
    },
    {
     "data": {
      "text/html": [
       "<pre style=\"white-space:pre;overflow-x:auto;line-height:normal;font-family:Menlo,'DejaVu Sans Mono',consolas,'Courier New',monospace\">inside nj_clean\n",
       "</pre>\n"
      ],
      "text/plain": [
       "inside nj_clean\n"
      ]
     },
     "metadata": {},
     "output_type": "display_data"
    },
    {
     "name": "stderr",
     "output_type": "stream",
     "text": [
      "C:\\ProgramData\\anaconda3\\Lib\\site-packages\\sklearn\\base.py:432: UserWarning: X has feature names, but RandomForestClassifier was fitted without feature names\n",
      "  warnings.warn(\n"
     ]
    },
    {
     "data": {
      "text/html": [
       "<pre style=\"white-space:pre;overflow-x:auto;line-height:normal;font-family:Menlo,'DejaVu Sans Mono',consolas,'Courier New',monospace\">DocImageIndex\n",
       "</pre>\n"
      ],
      "text/plain": [
       "DocImageIndex\n"
      ]
     },
     "metadata": {},
     "output_type": "display_data"
    },
    {
     "data": {
      "text/html": [
       "<pre style=\"white-space:pre;overflow-x:auto;line-height:normal;font-family:Menlo,'DejaVu Sans Mono',consolas,'Courier New',monospace\">inside nj_clean\n",
       "</pre>\n"
      ],
      "text/plain": [
       "inside nj_clean\n"
      ]
     },
     "metadata": {},
     "output_type": "display_data"
    },
    {
     "name": "stderr",
     "output_type": "stream",
     "text": [
      "C:\\ProgramData\\anaconda3\\Lib\\site-packages\\sklearn\\base.py:432: UserWarning: X has feature names, but RandomForestClassifier was fitted without feature names\n",
      "  warnings.warn(\n"
     ]
    },
    {
     "data": {
      "text/html": [
       "<pre style=\"white-space:pre;overflow-x:auto;line-height:normal;font-family:Menlo,'DejaVu Sans Mono',consolas,'Courier New',monospace\">DocImageIndex\n",
       "</pre>\n"
      ],
      "text/plain": [
       "DocImageIndex\n"
      ]
     },
     "metadata": {},
     "output_type": "display_data"
    },
    {
     "data": {
      "text/html": [
       "<pre style=\"white-space:pre;overflow-x:auto;line-height:normal;font-family:Menlo,'DejaVu Sans Mono',consolas,'Courier New',monospace\">inside nj_clean\n",
       "</pre>\n"
      ],
      "text/plain": [
       "inside nj_clean\n"
      ]
     },
     "metadata": {},
     "output_type": "display_data"
    },
    {
     "name": "stderr",
     "output_type": "stream",
     "text": [
      "C:\\ProgramData\\anaconda3\\Lib\\site-packages\\sklearn\\base.py:432: UserWarning: X has feature names, but RandomForestClassifier was fitted without feature names\n",
      "  warnings.warn(\n"
     ]
    },
    {
     "data": {
      "text/html": [
       "<pre style=\"white-space:pre;overflow-x:auto;line-height:normal;font-family:Menlo,'DejaVu Sans Mono',consolas,'Courier New',monospace\">DocImageIndex\n",
       "</pre>\n"
      ],
      "text/plain": [
       "DocImageIndex\n"
      ]
     },
     "metadata": {},
     "output_type": "display_data"
    },
    {
     "data": {
      "text/html": [
       "<pre style=\"white-space:pre;overflow-x:auto;line-height:normal;font-family:Menlo,'DejaVu Sans Mono',consolas,'Courier New',monospace\">inside nj_clean\n",
       "</pre>\n"
      ],
      "text/plain": [
       "inside nj_clean\n"
      ]
     },
     "metadata": {},
     "output_type": "display_data"
    },
    {
     "name": "stderr",
     "output_type": "stream",
     "text": [
      "C:\\ProgramData\\anaconda3\\Lib\\site-packages\\sklearn\\base.py:432: UserWarning: X has feature names, but RandomForestClassifier was fitted without feature names\n",
      "  warnings.warn(\n"
     ]
    },
    {
     "data": {
      "text/html": [
       "<pre style=\"white-space:pre;overflow-x:auto;line-height:normal;font-family:Menlo,'DejaVu Sans Mono',consolas,'Courier New',monospace\">DocImageIndex\n",
       "</pre>\n"
      ],
      "text/plain": [
       "DocImageIndex\n"
      ]
     },
     "metadata": {},
     "output_type": "display_data"
    },
    {
     "data": {
      "text/html": [
       "<pre style=\"white-space:pre;overflow-x:auto;line-height:normal;font-family:Menlo,'DejaVu Sans Mono',consolas,'Courier New',monospace\">inside nj_clean\n",
       "</pre>\n"
      ],
      "text/plain": [
       "inside nj_clean\n"
      ]
     },
     "metadata": {},
     "output_type": "display_data"
    },
    {
     "name": "stderr",
     "output_type": "stream",
     "text": [
      "C:\\ProgramData\\anaconda3\\Lib\\site-packages\\sklearn\\base.py:432: UserWarning: X has feature names, but RandomForestClassifier was fitted without feature names\n",
      "  warnings.warn(\n"
     ]
    },
    {
     "data": {
      "text/html": [
       "<pre style=\"white-space:pre;overflow-x:auto;line-height:normal;font-family:Menlo,'DejaVu Sans Mono',consolas,'Courier New',monospace\">DocImageIndex\n",
       "</pre>\n"
      ],
      "text/plain": [
       "DocImageIndex\n"
      ]
     },
     "metadata": {},
     "output_type": "display_data"
    },
    {
     "data": {
      "text/html": [
       "<pre style=\"white-space:pre;overflow-x:auto;line-height:normal;font-family:Menlo,'DejaVu Sans Mono',consolas,'Courier New',monospace\">inside nj_clean\n",
       "</pre>\n"
      ],
      "text/plain": [
       "inside nj_clean\n"
      ]
     },
     "metadata": {},
     "output_type": "display_data"
    },
    {
     "name": "stderr",
     "output_type": "stream",
     "text": [
      "C:\\ProgramData\\anaconda3\\Lib\\site-packages\\sklearn\\base.py:432: UserWarning: X has feature names, but RandomForestClassifier was fitted without feature names\n",
      "  warnings.warn(\n"
     ]
    },
    {
     "data": {
      "text/html": [
       "<pre style=\"white-space:pre;overflow-x:auto;line-height:normal;font-family:Menlo,'DejaVu Sans Mono',consolas,'Courier New',monospace\">DocImageIndex\n",
       "</pre>\n"
      ],
      "text/plain": [
       "DocImageIndex\n"
      ]
     },
     "metadata": {},
     "output_type": "display_data"
    },
    {
     "data": {
      "text/html": [
       "<pre style=\"white-space:pre;overflow-x:auto;line-height:normal;font-family:Menlo,'DejaVu Sans Mono',consolas,'Courier New',monospace\">inside nj_clean\n",
       "</pre>\n"
      ],
      "text/plain": [
       "inside nj_clean\n"
      ]
     },
     "metadata": {},
     "output_type": "display_data"
    },
    {
     "name": "stderr",
     "output_type": "stream",
     "text": [
      "C:\\ProgramData\\anaconda3\\Lib\\site-packages\\sklearn\\base.py:432: UserWarning: X has feature names, but RandomForestClassifier was fitted without feature names\n",
      "  warnings.warn(\n"
     ]
    },
    {
     "data": {
      "text/html": [
       "<pre style=\"white-space:pre;overflow-x:auto;line-height:normal;font-family:Menlo,'DejaVu Sans Mono',consolas,'Courier New',monospace\">DocImageIndex\n",
       "</pre>\n"
      ],
      "text/plain": [
       "DocImageIndex\n"
      ]
     },
     "metadata": {},
     "output_type": "display_data"
    },
    {
     "data": {
      "text/html": [
       "<pre style=\"white-space:pre;overflow-x:auto;line-height:normal;font-family:Menlo,'DejaVu Sans Mono',consolas,'Courier New',monospace\">inside nj_clean\n",
       "</pre>\n"
      ],
      "text/plain": [
       "inside nj_clean\n"
      ]
     },
     "metadata": {},
     "output_type": "display_data"
    },
    {
     "name": "stderr",
     "output_type": "stream",
     "text": [
      "C:\\ProgramData\\anaconda3\\Lib\\site-packages\\sklearn\\base.py:432: UserWarning: X has feature names, but RandomForestClassifier was fitted without feature names\n",
      "  warnings.warn(\n"
     ]
    },
    {
     "data": {
      "text/html": [
       "<pre style=\"white-space:pre;overflow-x:auto;line-height:normal;font-family:Menlo,'DejaVu Sans Mono',consolas,'Courier New',monospace\">DocImageIndex\n",
       "</pre>\n"
      ],
      "text/plain": [
       "DocImageIndex\n"
      ]
     },
     "metadata": {},
     "output_type": "display_data"
    },
    {
     "data": {
      "text/html": [
       "<pre style=\"white-space:pre;overflow-x:auto;line-height:normal;font-family:Menlo,'DejaVu Sans Mono',consolas,'Courier New',monospace\">inside nj_clean\n",
       "</pre>\n"
      ],
      "text/plain": [
       "inside nj_clean\n"
      ]
     },
     "metadata": {},
     "output_type": "display_data"
    },
    {
     "name": "stderr",
     "output_type": "stream",
     "text": [
      "C:\\ProgramData\\anaconda3\\Lib\\site-packages\\sklearn\\base.py:432: UserWarning: X has feature names, but RandomForestClassifier was fitted without feature names\n",
      "  warnings.warn(\n"
     ]
    },
    {
     "data": {
      "text/html": [
       "<pre style=\"white-space:pre;overflow-x:auto;line-height:normal;font-family:Menlo,'DejaVu Sans Mono',consolas,'Courier New',monospace\">DocImageIndex\n",
       "</pre>\n"
      ],
      "text/plain": [
       "DocImageIndex\n"
      ]
     },
     "metadata": {},
     "output_type": "display_data"
    },
    {
     "data": {
      "text/html": [
       "<pre style=\"white-space:pre;overflow-x:auto;line-height:normal;font-family:Menlo,'DejaVu Sans Mono',consolas,'Courier New',monospace\">inside nj_clean\n",
       "</pre>\n"
      ],
      "text/plain": [
       "inside nj_clean\n"
      ]
     },
     "metadata": {},
     "output_type": "display_data"
    },
    {
     "name": "stderr",
     "output_type": "stream",
     "text": [
      "C:\\ProgramData\\anaconda3\\Lib\\site-packages\\sklearn\\base.py:432: UserWarning: X has feature names, but RandomForestClassifier was fitted without feature names\n",
      "  warnings.warn(\n"
     ]
    },
    {
     "data": {
      "text/html": [
       "<pre style=\"white-space:pre;overflow-x:auto;line-height:normal;font-family:Menlo,'DejaVu Sans Mono',consolas,'Courier New',monospace\">DocImageIndex\n",
       "</pre>\n"
      ],
      "text/plain": [
       "DocImageIndex\n"
      ]
     },
     "metadata": {},
     "output_type": "display_data"
    },
    {
     "data": {
      "text/html": [
       "<pre style=\"white-space:pre;overflow-x:auto;line-height:normal;font-family:Menlo,'DejaVu Sans Mono',consolas,'Courier New',monospace\">inside nj_clean\n",
       "</pre>\n"
      ],
      "text/plain": [
       "inside nj_clean\n"
      ]
     },
     "metadata": {},
     "output_type": "display_data"
    },
    {
     "name": "stderr",
     "output_type": "stream",
     "text": [
      "C:\\ProgramData\\anaconda3\\Lib\\site-packages\\sklearn\\base.py:432: UserWarning: X has feature names, but RandomForestClassifier was fitted without feature names\n",
      "  warnings.warn(\n"
     ]
    },
    {
     "data": {
      "text/html": [
       "<pre style=\"white-space:pre;overflow-x:auto;line-height:normal;font-family:Menlo,'DejaVu Sans Mono',consolas,'Courier New',monospace\">DocImageIndex\n",
       "</pre>\n"
      ],
      "text/plain": [
       "DocImageIndex\n"
      ]
     },
     "metadata": {},
     "output_type": "display_data"
    },
    {
     "data": {
      "text/html": [
       "<pre style=\"white-space:pre;overflow-x:auto;line-height:normal;font-family:Menlo,'DejaVu Sans Mono',consolas,'Courier New',monospace\">inside nj_clean\n",
       "</pre>\n"
      ],
      "text/plain": [
       "inside nj_clean\n"
      ]
     },
     "metadata": {},
     "output_type": "display_data"
    },
    {
     "name": "stderr",
     "output_type": "stream",
     "text": [
      "C:\\ProgramData\\anaconda3\\Lib\\site-packages\\sklearn\\base.py:432: UserWarning: X has feature names, but RandomForestClassifier was fitted without feature names\n",
      "  warnings.warn(\n"
     ]
    },
    {
     "data": {
      "text/html": [
       "<pre style=\"white-space:pre;overflow-x:auto;line-height:normal;font-family:Menlo,'DejaVu Sans Mono',consolas,'Courier New',monospace\">DocImageIndex\n",
       "</pre>\n"
      ],
      "text/plain": [
       "DocImageIndex\n"
      ]
     },
     "metadata": {},
     "output_type": "display_data"
    },
    {
     "data": {
      "text/html": [
       "<pre style=\"white-space:pre;overflow-x:auto;line-height:normal;font-family:Menlo,'DejaVu Sans Mono',consolas,'Courier New',monospace\">inside nj_clean\n",
       "</pre>\n"
      ],
      "text/plain": [
       "inside nj_clean\n"
      ]
     },
     "metadata": {},
     "output_type": "display_data"
    },
    {
     "name": "stderr",
     "output_type": "stream",
     "text": [
      "C:\\ProgramData\\anaconda3\\Lib\\site-packages\\sklearn\\base.py:432: UserWarning: X has feature names, but RandomForestClassifier was fitted without feature names\n",
      "  warnings.warn(\n"
     ]
    },
    {
     "data": {
      "text/html": [
       "<pre style=\"white-space:pre;overflow-x:auto;line-height:normal;font-family:Menlo,'DejaVu Sans Mono',consolas,'Courier New',monospace\">DocImageIndex\n",
       "</pre>\n"
      ],
      "text/plain": [
       "DocImageIndex\n"
      ]
     },
     "metadata": {},
     "output_type": "display_data"
    },
    {
     "data": {
      "text/html": [
       "<pre style=\"white-space:pre;overflow-x:auto;line-height:normal;font-family:Menlo,'DejaVu Sans Mono',consolas,'Courier New',monospace\">inside nj_clean\n",
       "</pre>\n"
      ],
      "text/plain": [
       "inside nj_clean\n"
      ]
     },
     "metadata": {},
     "output_type": "display_data"
    },
    {
     "name": "stderr",
     "output_type": "stream",
     "text": [
      "C:\\ProgramData\\anaconda3\\Lib\\site-packages\\sklearn\\base.py:432: UserWarning: X has feature names, but RandomForestClassifier was fitted without feature names\n",
      "  warnings.warn(\n"
     ]
    },
    {
     "data": {
      "text/html": [
       "<pre style=\"white-space:pre;overflow-x:auto;line-height:normal;font-family:Menlo,'DejaVu Sans Mono',consolas,'Courier New',monospace\">DocImageIndex\n",
       "</pre>\n"
      ],
      "text/plain": [
       "DocImageIndex\n"
      ]
     },
     "metadata": {},
     "output_type": "display_data"
    },
    {
     "data": {
      "text/html": [
       "<pre style=\"white-space:pre;overflow-x:auto;line-height:normal;font-family:Menlo,'DejaVu Sans Mono',consolas,'Courier New',monospace\">inside nj_clean\n",
       "</pre>\n"
      ],
      "text/plain": [
       "inside nj_clean\n"
      ]
     },
     "metadata": {},
     "output_type": "display_data"
    },
    {
     "name": "stderr",
     "output_type": "stream",
     "text": [
      "C:\\ProgramData\\anaconda3\\Lib\\site-packages\\sklearn\\base.py:432: UserWarning: X has feature names, but RandomForestClassifier was fitted without feature names\n",
      "  warnings.warn(\n"
     ]
    },
    {
     "data": {
      "text/html": [
       "<pre style=\"white-space:pre;overflow-x:auto;line-height:normal;font-family:Menlo,'DejaVu Sans Mono',consolas,'Courier New',monospace\">DocImageIndex\n",
       "</pre>\n"
      ],
      "text/plain": [
       "DocImageIndex\n"
      ]
     },
     "metadata": {},
     "output_type": "display_data"
    },
    {
     "data": {
      "text/html": [
       "<pre style=\"white-space:pre;overflow-x:auto;line-height:normal;font-family:Menlo,'DejaVu Sans Mono',consolas,'Courier New',monospace\">inside nj_clean\n",
       "</pre>\n"
      ],
      "text/plain": [
       "inside nj_clean\n"
      ]
     },
     "metadata": {},
     "output_type": "display_data"
    },
    {
     "name": "stderr",
     "output_type": "stream",
     "text": [
      "C:\\ProgramData\\anaconda3\\Lib\\site-packages\\sklearn\\base.py:432: UserWarning: X has feature names, but RandomForestClassifier was fitted without feature names\n",
      "  warnings.warn(\n"
     ]
    },
    {
     "data": {
      "text/html": [
       "<pre style=\"white-space:pre;overflow-x:auto;line-height:normal;font-family:Menlo,'DejaVu Sans Mono',consolas,'Courier New',monospace\">DocImageIndex\n",
       "</pre>\n"
      ],
      "text/plain": [
       "DocImageIndex\n"
      ]
     },
     "metadata": {},
     "output_type": "display_data"
    },
    {
     "data": {
      "text/html": [
       "<pre style=\"white-space:pre;overflow-x:auto;line-height:normal;font-family:Menlo,'DejaVu Sans Mono',consolas,'Courier New',monospace\">inside nj_clean\n",
       "</pre>\n"
      ],
      "text/plain": [
       "inside nj_clean\n"
      ]
     },
     "metadata": {},
     "output_type": "display_data"
    },
    {
     "name": "stderr",
     "output_type": "stream",
     "text": [
      "C:\\ProgramData\\anaconda3\\Lib\\site-packages\\sklearn\\base.py:432: UserWarning: X has feature names, but RandomForestClassifier was fitted without feature names\n",
      "  warnings.warn(\n"
     ]
    },
    {
     "data": {
      "text/html": [
       "<pre style=\"white-space:pre;overflow-x:auto;line-height:normal;font-family:Menlo,'DejaVu Sans Mono',consolas,'Courier New',monospace\">DocImageIndex\n",
       "</pre>\n"
      ],
      "text/plain": [
       "DocImageIndex\n"
      ]
     },
     "metadata": {},
     "output_type": "display_data"
    },
    {
     "data": {
      "text/html": [
       "<pre style=\"white-space:pre;overflow-x:auto;line-height:normal;font-family:Menlo,'DejaVu Sans Mono',consolas,'Courier New',monospace\">inside nj_clean\n",
       "</pre>\n"
      ],
      "text/plain": [
       "inside nj_clean\n"
      ]
     },
     "metadata": {},
     "output_type": "display_data"
    },
    {
     "name": "stderr",
     "output_type": "stream",
     "text": [
      "C:\\ProgramData\\anaconda3\\Lib\\site-packages\\sklearn\\base.py:432: UserWarning: X has feature names, but RandomForestClassifier was fitted without feature names\n",
      "  warnings.warn(\n"
     ]
    },
    {
     "data": {
      "text/html": [
       "<pre style=\"white-space:pre;overflow-x:auto;line-height:normal;font-family:Menlo,'DejaVu Sans Mono',consolas,'Courier New',monospace\">DocImageIndex\n",
       "</pre>\n"
      ],
      "text/plain": [
       "DocImageIndex\n"
      ]
     },
     "metadata": {},
     "output_type": "display_data"
    },
    {
     "data": {
      "text/html": [
       "<pre style=\"white-space:pre;overflow-x:auto;line-height:normal;font-family:Menlo,'DejaVu Sans Mono',consolas,'Courier New',monospace\">inside nj_clean\n",
       "</pre>\n"
      ],
      "text/plain": [
       "inside nj_clean\n"
      ]
     },
     "metadata": {},
     "output_type": "display_data"
    },
    {
     "name": "stderr",
     "output_type": "stream",
     "text": [
      "C:\\ProgramData\\anaconda3\\Lib\\site-packages\\sklearn\\base.py:432: UserWarning: X has feature names, but RandomForestClassifier was fitted without feature names\n",
      "  warnings.warn(\n"
     ]
    },
    {
     "data": {
      "text/html": [
       "<pre style=\"white-space:pre;overflow-x:auto;line-height:normal;font-family:Menlo,'DejaVu Sans Mono',consolas,'Courier New',monospace\">DocImageIndex\n",
       "</pre>\n"
      ],
      "text/plain": [
       "DocImageIndex\n"
      ]
     },
     "metadata": {},
     "output_type": "display_data"
    },
    {
     "data": {
      "text/html": [
       "<pre style=\"white-space:pre;overflow-x:auto;line-height:normal;font-family:Menlo,'DejaVu Sans Mono',consolas,'Courier New',monospace\">inside nj_clean\n",
       "</pre>\n"
      ],
      "text/plain": [
       "inside nj_clean\n"
      ]
     },
     "metadata": {},
     "output_type": "display_data"
    },
    {
     "name": "stderr",
     "output_type": "stream",
     "text": [
      "C:\\ProgramData\\anaconda3\\Lib\\site-packages\\sklearn\\base.py:432: UserWarning: X has feature names, but RandomForestClassifier was fitted without feature names\n",
      "  warnings.warn(\n"
     ]
    },
    {
     "data": {
      "text/html": [
       "<pre style=\"white-space:pre;overflow-x:auto;line-height:normal;font-family:Menlo,'DejaVu Sans Mono',consolas,'Courier New',monospace\">DocImageIndex\n",
       "</pre>\n"
      ],
      "text/plain": [
       "DocImageIndex\n"
      ]
     },
     "metadata": {},
     "output_type": "display_data"
    },
    {
     "data": {
      "text/html": [
       "<pre style=\"white-space:pre;overflow-x:auto;line-height:normal;font-family:Menlo,'DejaVu Sans Mono',consolas,'Courier New',monospace\">inside nj_clean\n",
       "</pre>\n"
      ],
      "text/plain": [
       "inside nj_clean\n"
      ]
     },
     "metadata": {},
     "output_type": "display_data"
    },
    {
     "name": "stderr",
     "output_type": "stream",
     "text": [
      "C:\\ProgramData\\anaconda3\\Lib\\site-packages\\sklearn\\base.py:432: UserWarning: X has feature names, but RandomForestClassifier was fitted without feature names\n",
      "  warnings.warn(\n"
     ]
    },
    {
     "data": {
      "text/html": [
       "<pre style=\"white-space:pre;overflow-x:auto;line-height:normal;font-family:Menlo,'DejaVu Sans Mono',consolas,'Courier New',monospace\">DocImageIndex\n",
       "</pre>\n"
      ],
      "text/plain": [
       "DocImageIndex\n"
      ]
     },
     "metadata": {},
     "output_type": "display_data"
    },
    {
     "data": {
      "text/html": [
       "<pre style=\"white-space:pre;overflow-x:auto;line-height:normal;font-family:Menlo,'DejaVu Sans Mono',consolas,'Courier New',monospace\">inside nj_clean\n",
       "</pre>\n"
      ],
      "text/plain": [
       "inside nj_clean\n"
      ]
     },
     "metadata": {},
     "output_type": "display_data"
    },
    {
     "name": "stderr",
     "output_type": "stream",
     "text": [
      "C:\\ProgramData\\anaconda3\\Lib\\site-packages\\sklearn\\base.py:432: UserWarning: X has feature names, but RandomForestClassifier was fitted without feature names\n",
      "  warnings.warn(\n"
     ]
    },
    {
     "data": {
      "text/html": [
       "<pre style=\"white-space:pre;overflow-x:auto;line-height:normal;font-family:Menlo,'DejaVu Sans Mono',consolas,'Courier New',monospace\">DocImageIndex\n",
       "</pre>\n"
      ],
      "text/plain": [
       "DocImageIndex\n"
      ]
     },
     "metadata": {},
     "output_type": "display_data"
    },
    {
     "data": {
      "text/html": [
       "<pre style=\"white-space:pre;overflow-x:auto;line-height:normal;font-family:Menlo,'DejaVu Sans Mono',consolas,'Courier New',monospace\">inside nj_clean\n",
       "</pre>\n"
      ],
      "text/plain": [
       "inside nj_clean\n"
      ]
     },
     "metadata": {},
     "output_type": "display_data"
    },
    {
     "name": "stderr",
     "output_type": "stream",
     "text": [
      "C:\\ProgramData\\anaconda3\\Lib\\site-packages\\sklearn\\base.py:432: UserWarning: X has feature names, but RandomForestClassifier was fitted without feature names\n",
      "  warnings.warn(\n"
     ]
    },
    {
     "data": {
      "text/html": [
       "<pre style=\"white-space:pre;overflow-x:auto;line-height:normal;font-family:Menlo,'DejaVu Sans Mono',consolas,'Courier New',monospace\">DocImageIndex\n",
       "</pre>\n"
      ],
      "text/plain": [
       "DocImageIndex\n"
      ]
     },
     "metadata": {},
     "output_type": "display_data"
    },
    {
     "data": {
      "text/html": [
       "<pre style=\"white-space:pre;overflow-x:auto;line-height:normal;font-family:Menlo,'DejaVu Sans Mono',consolas,'Courier New',monospace\">inside nj_clean\n",
       "</pre>\n"
      ],
      "text/plain": [
       "inside nj_clean\n"
      ]
     },
     "metadata": {},
     "output_type": "display_data"
    },
    {
     "name": "stderr",
     "output_type": "stream",
     "text": [
      "C:\\ProgramData\\anaconda3\\Lib\\site-packages\\sklearn\\base.py:432: UserWarning: X has feature names, but RandomForestClassifier was fitted without feature names\n",
      "  warnings.warn(\n"
     ]
    },
    {
     "data": {
      "text/html": [
       "<pre style=\"white-space:pre;overflow-x:auto;line-height:normal;font-family:Menlo,'DejaVu Sans Mono',consolas,'Courier New',monospace\">DocImageIndex\n",
       "</pre>\n"
      ],
      "text/plain": [
       "DocImageIndex\n"
      ]
     },
     "metadata": {},
     "output_type": "display_data"
    },
    {
     "data": {
      "text/html": [
       "<pre style=\"white-space:pre;overflow-x:auto;line-height:normal;font-family:Menlo,'DejaVu Sans Mono',consolas,'Courier New',monospace\">inside nj_clean\n",
       "</pre>\n"
      ],
      "text/plain": [
       "inside nj_clean\n"
      ]
     },
     "metadata": {},
     "output_type": "display_data"
    },
    {
     "name": "stderr",
     "output_type": "stream",
     "text": [
      "C:\\ProgramData\\anaconda3\\Lib\\site-packages\\sklearn\\base.py:432: UserWarning: X has feature names, but RandomForestClassifier was fitted without feature names\n",
      "  warnings.warn(\n"
     ]
    },
    {
     "data": {
      "text/html": [
       "<pre style=\"white-space:pre;overflow-x:auto;line-height:normal;font-family:Menlo,'DejaVu Sans Mono',consolas,'Courier New',monospace\">DocImageIndex\n",
       "</pre>\n"
      ],
      "text/plain": [
       "DocImageIndex\n"
      ]
     },
     "metadata": {},
     "output_type": "display_data"
    },
    {
     "data": {
      "text/html": [
       "<pre style=\"white-space:pre;overflow-x:auto;line-height:normal;font-family:Menlo,'DejaVu Sans Mono',consolas,'Courier New',monospace\">inside nj_clean\n",
       "</pre>\n"
      ],
      "text/plain": [
       "inside nj_clean\n"
      ]
     },
     "metadata": {},
     "output_type": "display_data"
    },
    {
     "name": "stderr",
     "output_type": "stream",
     "text": [
      "C:\\ProgramData\\anaconda3\\Lib\\site-packages\\sklearn\\base.py:432: UserWarning: X has feature names, but RandomForestClassifier was fitted without feature names\n",
      "  warnings.warn(\n"
     ]
    },
    {
     "data": {
      "text/html": [
       "<pre style=\"white-space:pre;overflow-x:auto;line-height:normal;font-family:Menlo,'DejaVu Sans Mono',consolas,'Courier New',monospace\">DocImageIndex\n",
       "</pre>\n"
      ],
      "text/plain": [
       "DocImageIndex\n"
      ]
     },
     "metadata": {},
     "output_type": "display_data"
    },
    {
     "data": {
      "text/html": [
       "<pre style=\"white-space:pre;overflow-x:auto;line-height:normal;font-family:Menlo,'DejaVu Sans Mono',consolas,'Courier New',monospace\">inside nj_clean\n",
       "</pre>\n"
      ],
      "text/plain": [
       "inside nj_clean\n"
      ]
     },
     "metadata": {},
     "output_type": "display_data"
    },
    {
     "name": "stderr",
     "output_type": "stream",
     "text": [
      "C:\\ProgramData\\anaconda3\\Lib\\site-packages\\sklearn\\base.py:432: UserWarning: X has feature names, but RandomForestClassifier was fitted without feature names\n",
      "  warnings.warn(\n"
     ]
    },
    {
     "data": {
      "text/html": [
       "<pre style=\"white-space:pre;overflow-x:auto;line-height:normal;font-family:Menlo,'DejaVu Sans Mono',consolas,'Courier New',monospace\">DocImageIndex\n",
       "</pre>\n"
      ],
      "text/plain": [
       "DocImageIndex\n"
      ]
     },
     "metadata": {},
     "output_type": "display_data"
    },
    {
     "data": {
      "text/html": [
       "<pre style=\"white-space:pre;overflow-x:auto;line-height:normal;font-family:Menlo,'DejaVu Sans Mono',consolas,'Courier New',monospace\">inside nj_clean\n",
       "</pre>\n"
      ],
      "text/plain": [
       "inside nj_clean\n"
      ]
     },
     "metadata": {},
     "output_type": "display_data"
    },
    {
     "name": "stderr",
     "output_type": "stream",
     "text": [
      "C:\\ProgramData\\anaconda3\\Lib\\site-packages\\sklearn\\base.py:432: UserWarning: X has feature names, but RandomForestClassifier was fitted without feature names\n",
      "  warnings.warn(\n"
     ]
    },
    {
     "data": {
      "text/html": [
       "<pre style=\"white-space:pre;overflow-x:auto;line-height:normal;font-family:Menlo,'DejaVu Sans Mono',consolas,'Courier New',monospace\">DocImageIndex\n",
       "</pre>\n"
      ],
      "text/plain": [
       "DocImageIndex\n"
      ]
     },
     "metadata": {},
     "output_type": "display_data"
    },
    {
     "data": {
      "text/html": [
       "<pre style=\"white-space:pre;overflow-x:auto;line-height:normal;font-family:Menlo,'DejaVu Sans Mono',consolas,'Courier New',monospace\">inside nj_clean\n",
       "</pre>\n"
      ],
      "text/plain": [
       "inside nj_clean\n"
      ]
     },
     "metadata": {},
     "output_type": "display_data"
    },
    {
     "name": "stderr",
     "output_type": "stream",
     "text": [
      "C:\\ProgramData\\anaconda3\\Lib\\site-packages\\sklearn\\base.py:432: UserWarning: X has feature names, but RandomForestClassifier was fitted without feature names\n",
      "  warnings.warn(\n"
     ]
    },
    {
     "data": {
      "text/html": [
       "<pre style=\"white-space:pre;overflow-x:auto;line-height:normal;font-family:Menlo,'DejaVu Sans Mono',consolas,'Courier New',monospace\">DocImageIndex\n",
       "</pre>\n"
      ],
      "text/plain": [
       "DocImageIndex\n"
      ]
     },
     "metadata": {},
     "output_type": "display_data"
    },
    {
     "data": {
      "text/html": [
       "<pre style=\"white-space:pre;overflow-x:auto;line-height:normal;font-family:Menlo,'DejaVu Sans Mono',consolas,'Courier New',monospace\">inside nj_clean\n",
       "</pre>\n"
      ],
      "text/plain": [
       "inside nj_clean\n"
      ]
     },
     "metadata": {},
     "output_type": "display_data"
    },
    {
     "name": "stderr",
     "output_type": "stream",
     "text": [
      "C:\\ProgramData\\anaconda3\\Lib\\site-packages\\sklearn\\base.py:432: UserWarning: X has feature names, but RandomForestClassifier was fitted without feature names\n",
      "  warnings.warn(\n"
     ]
    },
    {
     "data": {
      "text/html": [
       "<pre style=\"white-space:pre;overflow-x:auto;line-height:normal;font-family:Menlo,'DejaVu Sans Mono',consolas,'Courier New',monospace\">DocImageIndex\n",
       "</pre>\n"
      ],
      "text/plain": [
       "DocImageIndex\n"
      ]
     },
     "metadata": {},
     "output_type": "display_data"
    },
    {
     "data": {
      "text/html": [
       "<pre style=\"white-space:pre;overflow-x:auto;line-height:normal;font-family:Menlo,'DejaVu Sans Mono',consolas,'Courier New',monospace\">inside nj_clean\n",
       "</pre>\n"
      ],
      "text/plain": [
       "inside nj_clean\n"
      ]
     },
     "metadata": {},
     "output_type": "display_data"
    },
    {
     "name": "stderr",
     "output_type": "stream",
     "text": [
      "C:\\ProgramData\\anaconda3\\Lib\\site-packages\\sklearn\\base.py:432: UserWarning: X has feature names, but RandomForestClassifier was fitted without feature names\n",
      "  warnings.warn(\n"
     ]
    },
    {
     "data": {
      "text/html": [
       "<pre style=\"white-space:pre;overflow-x:auto;line-height:normal;font-family:Menlo,'DejaVu Sans Mono',consolas,'Courier New',monospace\">DocImageIndex\n",
       "</pre>\n"
      ],
      "text/plain": [
       "DocImageIndex\n"
      ]
     },
     "metadata": {},
     "output_type": "display_data"
    },
    {
     "data": {
      "text/html": [
       "<pre style=\"white-space:pre;overflow-x:auto;line-height:normal;font-family:Menlo,'DejaVu Sans Mono',consolas,'Courier New',monospace\">inside nj_clean\n",
       "</pre>\n"
      ],
      "text/plain": [
       "inside nj_clean\n"
      ]
     },
     "metadata": {},
     "output_type": "display_data"
    },
    {
     "name": "stderr",
     "output_type": "stream",
     "text": [
      "C:\\ProgramData\\anaconda3\\Lib\\site-packages\\sklearn\\base.py:432: UserWarning: X has feature names, but RandomForestClassifier was fitted without feature names\n",
      "  warnings.warn(\n"
     ]
    },
    {
     "data": {
      "text/html": [
       "<pre style=\"white-space:pre;overflow-x:auto;line-height:normal;font-family:Menlo,'DejaVu Sans Mono',consolas,'Courier New',monospace\">DocImageIndex\n",
       "</pre>\n"
      ],
      "text/plain": [
       "DocImageIndex\n"
      ]
     },
     "metadata": {},
     "output_type": "display_data"
    },
    {
     "data": {
      "text/html": [
       "<pre style=\"white-space:pre;overflow-x:auto;line-height:normal;font-family:Menlo,'DejaVu Sans Mono',consolas,'Courier New',monospace\">inside nj_clean\n",
       "</pre>\n"
      ],
      "text/plain": [
       "inside nj_clean\n"
      ]
     },
     "metadata": {},
     "output_type": "display_data"
    },
    {
     "name": "stderr",
     "output_type": "stream",
     "text": [
      "C:\\ProgramData\\anaconda3\\Lib\\site-packages\\sklearn\\base.py:432: UserWarning: X has feature names, but RandomForestClassifier was fitted without feature names\n",
      "  warnings.warn(\n"
     ]
    },
    {
     "data": {
      "text/html": [
       "<pre style=\"white-space:pre;overflow-x:auto;line-height:normal;font-family:Menlo,'DejaVu Sans Mono',consolas,'Courier New',monospace\">DocImageIndex\n",
       "</pre>\n"
      ],
      "text/plain": [
       "DocImageIndex\n"
      ]
     },
     "metadata": {},
     "output_type": "display_data"
    },
    {
     "data": {
      "text/html": [
       "<pre style=\"white-space:pre;overflow-x:auto;line-height:normal;font-family:Menlo,'DejaVu Sans Mono',consolas,'Courier New',monospace\">inside nj_clean\n",
       "</pre>\n"
      ],
      "text/plain": [
       "inside nj_clean\n"
      ]
     },
     "metadata": {},
     "output_type": "display_data"
    },
    {
     "name": "stderr",
     "output_type": "stream",
     "text": [
      "C:\\ProgramData\\anaconda3\\Lib\\site-packages\\sklearn\\base.py:432: UserWarning: X has feature names, but RandomForestClassifier was fitted without feature names\n",
      "  warnings.warn(\n"
     ]
    },
    {
     "data": {
      "text/html": [
       "<pre style=\"white-space:pre;overflow-x:auto;line-height:normal;font-family:Menlo,'DejaVu Sans Mono',consolas,'Courier New',monospace\">DocImageIndex\n",
       "</pre>\n"
      ],
      "text/plain": [
       "DocImageIndex\n"
      ]
     },
     "metadata": {},
     "output_type": "display_data"
    },
    {
     "data": {
      "text/html": [
       "<pre style=\"white-space:pre;overflow-x:auto;line-height:normal;font-family:Menlo,'DejaVu Sans Mono',consolas,'Courier New',monospace\">inside nj_clean\n",
       "</pre>\n"
      ],
      "text/plain": [
       "inside nj_clean\n"
      ]
     },
     "metadata": {},
     "output_type": "display_data"
    },
    {
     "name": "stderr",
     "output_type": "stream",
     "text": [
      "C:\\ProgramData\\anaconda3\\Lib\\site-packages\\sklearn\\base.py:432: UserWarning: X has feature names, but RandomForestClassifier was fitted without feature names\n",
      "  warnings.warn(\n"
     ]
    },
    {
     "data": {
      "text/html": [
       "<pre style=\"white-space:pre;overflow-x:auto;line-height:normal;font-family:Menlo,'DejaVu Sans Mono',consolas,'Courier New',monospace\">DocImageIndex\n",
       "</pre>\n"
      ],
      "text/plain": [
       "DocImageIndex\n"
      ]
     },
     "metadata": {},
     "output_type": "display_data"
    },
    {
     "data": {
      "text/html": [
       "<pre style=\"white-space:pre;overflow-x:auto;line-height:normal;font-family:Menlo,'DejaVu Sans Mono',consolas,'Courier New',monospace\">inside nj_clean\n",
       "</pre>\n"
      ],
      "text/plain": [
       "inside nj_clean\n"
      ]
     },
     "metadata": {},
     "output_type": "display_data"
    },
    {
     "name": "stderr",
     "output_type": "stream",
     "text": [
      "C:\\ProgramData\\anaconda3\\Lib\\site-packages\\sklearn\\base.py:432: UserWarning: X has feature names, but RandomForestClassifier was fitted without feature names\n",
      "  warnings.warn(\n"
     ]
    },
    {
     "data": {
      "text/html": [
       "<pre style=\"white-space:pre;overflow-x:auto;line-height:normal;font-family:Menlo,'DejaVu Sans Mono',consolas,'Courier New',monospace\">DocImageIndex\n",
       "</pre>\n"
      ],
      "text/plain": [
       "DocImageIndex\n"
      ]
     },
     "metadata": {},
     "output_type": "display_data"
    },
    {
     "data": {
      "text/html": [
       "<pre style=\"white-space:pre;overflow-x:auto;line-height:normal;font-family:Menlo,'DejaVu Sans Mono',consolas,'Courier New',monospace\">inside nj_clean\n",
       "</pre>\n"
      ],
      "text/plain": [
       "inside nj_clean\n"
      ]
     },
     "metadata": {},
     "output_type": "display_data"
    },
    {
     "name": "stderr",
     "output_type": "stream",
     "text": [
      "C:\\ProgramData\\anaconda3\\Lib\\site-packages\\sklearn\\base.py:432: UserWarning: X has feature names, but RandomForestClassifier was fitted without feature names\n",
      "  warnings.warn(\n"
     ]
    },
    {
     "data": {
      "text/html": [
       "<pre style=\"white-space:pre;overflow-x:auto;line-height:normal;font-family:Menlo,'DejaVu Sans Mono',consolas,'Courier New',monospace\">DocImageIndex\n",
       "</pre>\n"
      ],
      "text/plain": [
       "DocImageIndex\n"
      ]
     },
     "metadata": {},
     "output_type": "display_data"
    },
    {
     "data": {
      "text/html": [
       "<pre style=\"white-space:pre;overflow-x:auto;line-height:normal;font-family:Menlo,'DejaVu Sans Mono',consolas,'Courier New',monospace\">inside nj_clean\n",
       "</pre>\n"
      ],
      "text/plain": [
       "inside nj_clean\n"
      ]
     },
     "metadata": {},
     "output_type": "display_data"
    },
    {
     "name": "stderr",
     "output_type": "stream",
     "text": [
      "C:\\ProgramData\\anaconda3\\Lib\\site-packages\\sklearn\\base.py:432: UserWarning: X has feature names, but RandomForestClassifier was fitted without feature names\n",
      "  warnings.warn(\n"
     ]
    },
    {
     "data": {
      "text/html": [
       "<pre style=\"white-space:pre;overflow-x:auto;line-height:normal;font-family:Menlo,'DejaVu Sans Mono',consolas,'Courier New',monospace\">DocImageIndex\n",
       "</pre>\n"
      ],
      "text/plain": [
       "DocImageIndex\n"
      ]
     },
     "metadata": {},
     "output_type": "display_data"
    },
    {
     "data": {
      "text/html": [
       "<pre style=\"white-space:pre;overflow-x:auto;line-height:normal;font-family:Menlo,'DejaVu Sans Mono',consolas,'Courier New',monospace\">inside nj_clean\n",
       "</pre>\n"
      ],
      "text/plain": [
       "inside nj_clean\n"
      ]
     },
     "metadata": {},
     "output_type": "display_data"
    },
    {
     "name": "stderr",
     "output_type": "stream",
     "text": [
      "C:\\ProgramData\\anaconda3\\Lib\\site-packages\\sklearn\\base.py:432: UserWarning: X has feature names, but RandomForestClassifier was fitted without feature names\n",
      "  warnings.warn(\n"
     ]
    },
    {
     "data": {
      "text/html": [
       "<pre style=\"white-space:pre;overflow-x:auto;line-height:normal;font-family:Menlo,'DejaVu Sans Mono',consolas,'Courier New',monospace\">DocImageIndex\n",
       "</pre>\n"
      ],
      "text/plain": [
       "DocImageIndex\n"
      ]
     },
     "metadata": {},
     "output_type": "display_data"
    },
    {
     "data": {
      "text/html": [
       "<pre style=\"white-space:pre;overflow-x:auto;line-height:normal;font-family:Menlo,'DejaVu Sans Mono',consolas,'Courier New',monospace\">inside nj_clean\n",
       "</pre>\n"
      ],
      "text/plain": [
       "inside nj_clean\n"
      ]
     },
     "metadata": {},
     "output_type": "display_data"
    },
    {
     "name": "stderr",
     "output_type": "stream",
     "text": [
      "C:\\ProgramData\\anaconda3\\Lib\\site-packages\\sklearn\\base.py:432: UserWarning: X has feature names, but RandomForestClassifier was fitted without feature names\n",
      "  warnings.warn(\n"
     ]
    },
    {
     "data": {
      "text/html": [
       "<pre style=\"white-space:pre;overflow-x:auto;line-height:normal;font-family:Menlo,'DejaVu Sans Mono',consolas,'Courier New',monospace\">DocImageIndex\n",
       "</pre>\n"
      ],
      "text/plain": [
       "DocImageIndex\n"
      ]
     },
     "metadata": {},
     "output_type": "display_data"
    },
    {
     "data": {
      "text/html": [
       "<pre style=\"white-space:pre;overflow-x:auto;line-height:normal;font-family:Menlo,'DejaVu Sans Mono',consolas,'Courier New',monospace\">inside nj_clean\n",
       "</pre>\n"
      ],
      "text/plain": [
       "inside nj_clean\n"
      ]
     },
     "metadata": {},
     "output_type": "display_data"
    },
    {
     "name": "stderr",
     "output_type": "stream",
     "text": [
      "C:\\ProgramData\\anaconda3\\Lib\\site-packages\\sklearn\\base.py:432: UserWarning: X has feature names, but RandomForestClassifier was fitted without feature names\n",
      "  warnings.warn(\n"
     ]
    },
    {
     "data": {
      "text/html": [
       "<pre style=\"white-space:pre;overflow-x:auto;line-height:normal;font-family:Menlo,'DejaVu Sans Mono',consolas,'Courier New',monospace\">DocImageIndex\n",
       "</pre>\n"
      ],
      "text/plain": [
       "DocImageIndex\n"
      ]
     },
     "metadata": {},
     "output_type": "display_data"
    },
    {
     "data": {
      "text/html": [
       "<pre style=\"white-space:pre;overflow-x:auto;line-height:normal;font-family:Menlo,'DejaVu Sans Mono',consolas,'Courier New',monospace\">inside nj_clean\n",
       "</pre>\n"
      ],
      "text/plain": [
       "inside nj_clean\n"
      ]
     },
     "metadata": {},
     "output_type": "display_data"
    },
    {
     "name": "stderr",
     "output_type": "stream",
     "text": [
      "C:\\ProgramData\\anaconda3\\Lib\\site-packages\\sklearn\\base.py:432: UserWarning: X has feature names, but RandomForestClassifier was fitted without feature names\n",
      "  warnings.warn(\n"
     ]
    },
    {
     "data": {
      "text/html": [
       "<pre style=\"white-space:pre;overflow-x:auto;line-height:normal;font-family:Menlo,'DejaVu Sans Mono',consolas,'Courier New',monospace\">DocImageIndex\n",
       "</pre>\n"
      ],
      "text/plain": [
       "DocImageIndex\n"
      ]
     },
     "metadata": {},
     "output_type": "display_data"
    },
    {
     "data": {
      "text/html": [
       "<pre style=\"white-space:pre;overflow-x:auto;line-height:normal;font-family:Menlo,'DejaVu Sans Mono',consolas,'Courier New',monospace\">inside nj_clean\n",
       "</pre>\n"
      ],
      "text/plain": [
       "inside nj_clean\n"
      ]
     },
     "metadata": {},
     "output_type": "display_data"
    },
    {
     "name": "stderr",
     "output_type": "stream",
     "text": [
      "C:\\ProgramData\\anaconda3\\Lib\\site-packages\\sklearn\\base.py:432: UserWarning: X has feature names, but RandomForestClassifier was fitted without feature names\n",
      "  warnings.warn(\n"
     ]
    },
    {
     "data": {
      "text/html": [
       "<pre style=\"white-space:pre;overflow-x:auto;line-height:normal;font-family:Menlo,'DejaVu Sans Mono',consolas,'Courier New',monospace\">DocImageIndex\n",
       "</pre>\n"
      ],
      "text/plain": [
       "DocImageIndex\n"
      ]
     },
     "metadata": {},
     "output_type": "display_data"
    },
    {
     "data": {
      "text/html": [
       "<pre style=\"white-space:pre;overflow-x:auto;line-height:normal;font-family:Menlo,'DejaVu Sans Mono',consolas,'Courier New',monospace\">inside nj_clean\n",
       "</pre>\n"
      ],
      "text/plain": [
       "inside nj_clean\n"
      ]
     },
     "metadata": {},
     "output_type": "display_data"
    },
    {
     "name": "stderr",
     "output_type": "stream",
     "text": [
      "C:\\ProgramData\\anaconda3\\Lib\\site-packages\\sklearn\\base.py:432: UserWarning: X has feature names, but RandomForestClassifier was fitted without feature names\n",
      "  warnings.warn(\n"
     ]
    },
    {
     "data": {
      "text/html": [
       "<pre style=\"white-space:pre;overflow-x:auto;line-height:normal;font-family:Menlo,'DejaVu Sans Mono',consolas,'Courier New',monospace\">DocImageIndex\n",
       "</pre>\n"
      ],
      "text/plain": [
       "DocImageIndex\n"
      ]
     },
     "metadata": {},
     "output_type": "display_data"
    },
    {
     "data": {
      "text/html": [
       "<pre style=\"white-space:pre;overflow-x:auto;line-height:normal;font-family:Menlo,'DejaVu Sans Mono',consolas,'Courier New',monospace\">inside nj_clean\n",
       "</pre>\n"
      ],
      "text/plain": [
       "inside nj_clean\n"
      ]
     },
     "metadata": {},
     "output_type": "display_data"
    },
    {
     "name": "stderr",
     "output_type": "stream",
     "text": [
      "C:\\ProgramData\\anaconda3\\Lib\\site-packages\\sklearn\\base.py:432: UserWarning: X has feature names, but RandomForestClassifier was fitted without feature names\n",
      "  warnings.warn(\n"
     ]
    },
    {
     "data": {
      "text/html": [
       "<pre style=\"white-space:pre;overflow-x:auto;line-height:normal;font-family:Menlo,'DejaVu Sans Mono',consolas,'Courier New',monospace\">DocImageIndex\n",
       "</pre>\n"
      ],
      "text/plain": [
       "DocImageIndex\n"
      ]
     },
     "metadata": {},
     "output_type": "display_data"
    },
    {
     "data": {
      "text/html": [
       "<pre style=\"white-space:pre;overflow-x:auto;line-height:normal;font-family:Menlo,'DejaVu Sans Mono',consolas,'Courier New',monospace\">inside nj_clean\n",
       "</pre>\n"
      ],
      "text/plain": [
       "inside nj_clean\n"
      ]
     },
     "metadata": {},
     "output_type": "display_data"
    },
    {
     "name": "stderr",
     "output_type": "stream",
     "text": [
      "C:\\ProgramData\\anaconda3\\Lib\\site-packages\\sklearn\\base.py:432: UserWarning: X has feature names, but RandomForestClassifier was fitted without feature names\n",
      "  warnings.warn(\n"
     ]
    },
    {
     "data": {
      "text/html": [
       "<pre style=\"white-space:pre;overflow-x:auto;line-height:normal;font-family:Menlo,'DejaVu Sans Mono',consolas,'Courier New',monospace\">DocImageIndex\n",
       "</pre>\n"
      ],
      "text/plain": [
       "DocImageIndex\n"
      ]
     },
     "metadata": {},
     "output_type": "display_data"
    },
    {
     "data": {
      "text/html": [
       "<pre style=\"white-space:pre;overflow-x:auto;line-height:normal;font-family:Menlo,'DejaVu Sans Mono',consolas,'Courier New',monospace\">inside nj_clean\n",
       "</pre>\n"
      ],
      "text/plain": [
       "inside nj_clean\n"
      ]
     },
     "metadata": {},
     "output_type": "display_data"
    },
    {
     "name": "stderr",
     "output_type": "stream",
     "text": [
      "C:\\ProgramData\\anaconda3\\Lib\\site-packages\\sklearn\\base.py:432: UserWarning: X has feature names, but RandomForestClassifier was fitted without feature names\n",
      "  warnings.warn(\n"
     ]
    },
    {
     "data": {
      "text/html": [
       "<pre style=\"white-space:pre;overflow-x:auto;line-height:normal;font-family:Menlo,'DejaVu Sans Mono',consolas,'Courier New',monospace\">DocImageIndex\n",
       "</pre>\n"
      ],
      "text/plain": [
       "DocImageIndex\n"
      ]
     },
     "metadata": {},
     "output_type": "display_data"
    },
    {
     "data": {
      "text/html": [
       "<pre style=\"white-space:pre;overflow-x:auto;line-height:normal;font-family:Menlo,'DejaVu Sans Mono',consolas,'Courier New',monospace\">inside nj_clean\n",
       "</pre>\n"
      ],
      "text/plain": [
       "inside nj_clean\n"
      ]
     },
     "metadata": {},
     "output_type": "display_data"
    },
    {
     "name": "stderr",
     "output_type": "stream",
     "text": [
      "C:\\ProgramData\\anaconda3\\Lib\\site-packages\\sklearn\\base.py:432: UserWarning: X has feature names, but RandomForestClassifier was fitted without feature names\n",
      "  warnings.warn(\n"
     ]
    },
    {
     "data": {
      "text/html": [
       "<pre style=\"white-space:pre;overflow-x:auto;line-height:normal;font-family:Menlo,'DejaVu Sans Mono',consolas,'Courier New',monospace\">DocImageIndex\n",
       "</pre>\n"
      ],
      "text/plain": [
       "DocImageIndex\n"
      ]
     },
     "metadata": {},
     "output_type": "display_data"
    },
    {
     "data": {
      "text/html": [
       "<pre style=\"white-space:pre;overflow-x:auto;line-height:normal;font-family:Menlo,'DejaVu Sans Mono',consolas,'Courier New',monospace\">inside nj_clean\n",
       "</pre>\n"
      ],
      "text/plain": [
       "inside nj_clean\n"
      ]
     },
     "metadata": {},
     "output_type": "display_data"
    },
    {
     "name": "stderr",
     "output_type": "stream",
     "text": [
      "C:\\ProgramData\\anaconda3\\Lib\\site-packages\\sklearn\\base.py:432: UserWarning: X has feature names, but RandomForestClassifier was fitted without feature names\n",
      "  warnings.warn(\n"
     ]
    },
    {
     "data": {
      "text/html": [
       "<pre style=\"white-space:pre;overflow-x:auto;line-height:normal;font-family:Menlo,'DejaVu Sans Mono',consolas,'Courier New',monospace\">DocImageIndex\n",
       "</pre>\n"
      ],
      "text/plain": [
       "DocImageIndex\n"
      ]
     },
     "metadata": {},
     "output_type": "display_data"
    },
    {
     "data": {
      "text/html": [
       "<pre style=\"white-space:pre;overflow-x:auto;line-height:normal;font-family:Menlo,'DejaVu Sans Mono',consolas,'Courier New',monospace\">inside nj_clean\n",
       "</pre>\n"
      ],
      "text/plain": [
       "inside nj_clean\n"
      ]
     },
     "metadata": {},
     "output_type": "display_data"
    },
    {
     "name": "stderr",
     "output_type": "stream",
     "text": [
      "C:\\ProgramData\\anaconda3\\Lib\\site-packages\\sklearn\\base.py:432: UserWarning: X has feature names, but RandomForestClassifier was fitted without feature names\n",
      "  warnings.warn(\n"
     ]
    },
    {
     "data": {
      "text/html": [
       "<pre style=\"white-space:pre;overflow-x:auto;line-height:normal;font-family:Menlo,'DejaVu Sans Mono',consolas,'Courier New',monospace\">DocImageIndex\n",
       "</pre>\n"
      ],
      "text/plain": [
       "DocImageIndex\n"
      ]
     },
     "metadata": {},
     "output_type": "display_data"
    },
    {
     "data": {
      "text/html": [
       "<pre style=\"white-space:pre;overflow-x:auto;line-height:normal;font-family:Menlo,'DejaVu Sans Mono',consolas,'Courier New',monospace\">inside nj_clean\n",
       "</pre>\n"
      ],
      "text/plain": [
       "inside nj_clean\n"
      ]
     },
     "metadata": {},
     "output_type": "display_data"
    },
    {
     "name": "stderr",
     "output_type": "stream",
     "text": [
      "C:\\ProgramData\\anaconda3\\Lib\\site-packages\\sklearn\\base.py:432: UserWarning: X has feature names, but RandomForestClassifier was fitted without feature names\n",
      "  warnings.warn(\n"
     ]
    },
    {
     "data": {
      "text/html": [
       "<pre style=\"white-space:pre;overflow-x:auto;line-height:normal;font-family:Menlo,'DejaVu Sans Mono',consolas,'Courier New',monospace\">DocImageIndex\n",
       "</pre>\n"
      ],
      "text/plain": [
       "DocImageIndex\n"
      ]
     },
     "metadata": {},
     "output_type": "display_data"
    },
    {
     "data": {
      "text/html": [
       "<pre style=\"white-space:pre;overflow-x:auto;line-height:normal;font-family:Menlo,'DejaVu Sans Mono',consolas,'Courier New',monospace\">inside nj_clean\n",
       "</pre>\n"
      ],
      "text/plain": [
       "inside nj_clean\n"
      ]
     },
     "metadata": {},
     "output_type": "display_data"
    },
    {
     "name": "stderr",
     "output_type": "stream",
     "text": [
      "C:\\ProgramData\\anaconda3\\Lib\\site-packages\\sklearn\\base.py:432: UserWarning: X has feature names, but RandomForestClassifier was fitted without feature names\n",
      "  warnings.warn(\n"
     ]
    },
    {
     "data": {
      "text/html": [
       "<pre style=\"white-space:pre;overflow-x:auto;line-height:normal;font-family:Menlo,'DejaVu Sans Mono',consolas,'Courier New',monospace\">DocImageIndex\n",
       "</pre>\n"
      ],
      "text/plain": [
       "DocImageIndex\n"
      ]
     },
     "metadata": {},
     "output_type": "display_data"
    },
    {
     "data": {
      "text/html": [
       "<pre style=\"white-space:pre;overflow-x:auto;line-height:normal;font-family:Menlo,'DejaVu Sans Mono',consolas,'Courier New',monospace\">inside nj_clean\n",
       "</pre>\n"
      ],
      "text/plain": [
       "inside nj_clean\n"
      ]
     },
     "metadata": {},
     "output_type": "display_data"
    },
    {
     "name": "stderr",
     "output_type": "stream",
     "text": [
      "C:\\ProgramData\\anaconda3\\Lib\\site-packages\\sklearn\\base.py:432: UserWarning: X has feature names, but RandomForestClassifier was fitted without feature names\n",
      "  warnings.warn(\n"
     ]
    },
    {
     "data": {
      "text/html": [
       "<pre style=\"white-space:pre;overflow-x:auto;line-height:normal;font-family:Menlo,'DejaVu Sans Mono',consolas,'Courier New',monospace\">DocImageIndex\n",
       "</pre>\n"
      ],
      "text/plain": [
       "DocImageIndex\n"
      ]
     },
     "metadata": {},
     "output_type": "display_data"
    },
    {
     "data": {
      "text/html": [
       "<pre style=\"white-space:pre;overflow-x:auto;line-height:normal;font-family:Menlo,'DejaVu Sans Mono',consolas,'Courier New',monospace\">inside nj_clean\n",
       "</pre>\n"
      ],
      "text/plain": [
       "inside nj_clean\n"
      ]
     },
     "metadata": {},
     "output_type": "display_data"
    },
    {
     "name": "stderr",
     "output_type": "stream",
     "text": [
      "C:\\ProgramData\\anaconda3\\Lib\\site-packages\\sklearn\\base.py:432: UserWarning: X has feature names, but RandomForestClassifier was fitted without feature names\n",
      "  warnings.warn(\n"
     ]
    },
    {
     "data": {
      "text/html": [
       "<pre style=\"white-space:pre;overflow-x:auto;line-height:normal;font-family:Menlo,'DejaVu Sans Mono',consolas,'Courier New',monospace\">DocImageIndex\n",
       "</pre>\n"
      ],
      "text/plain": [
       "DocImageIndex\n"
      ]
     },
     "metadata": {},
     "output_type": "display_data"
    },
    {
     "data": {
      "text/html": [
       "<pre style=\"white-space:pre;overflow-x:auto;line-height:normal;font-family:Menlo,'DejaVu Sans Mono',consolas,'Courier New',monospace\">inside nj_clean\n",
       "</pre>\n"
      ],
      "text/plain": [
       "inside nj_clean\n"
      ]
     },
     "metadata": {},
     "output_type": "display_data"
    },
    {
     "name": "stderr",
     "output_type": "stream",
     "text": [
      "C:\\ProgramData\\anaconda3\\Lib\\site-packages\\sklearn\\base.py:432: UserWarning: X has feature names, but RandomForestClassifier was fitted without feature names\n",
      "  warnings.warn(\n"
     ]
    },
    {
     "data": {
      "text/html": [
       "<pre style=\"white-space:pre;overflow-x:auto;line-height:normal;font-family:Menlo,'DejaVu Sans Mono',consolas,'Courier New',monospace\">DocImageIndex\n",
       "</pre>\n"
      ],
      "text/plain": [
       "DocImageIndex\n"
      ]
     },
     "metadata": {},
     "output_type": "display_data"
    },
    {
     "data": {
      "text/html": [
       "<pre style=\"white-space:pre;overflow-x:auto;line-height:normal;font-family:Menlo,'DejaVu Sans Mono',consolas,'Courier New',monospace\">inside nj_clean\n",
       "</pre>\n"
      ],
      "text/plain": [
       "inside nj_clean\n"
      ]
     },
     "metadata": {},
     "output_type": "display_data"
    },
    {
     "name": "stderr",
     "output_type": "stream",
     "text": [
      "C:\\ProgramData\\anaconda3\\Lib\\site-packages\\sklearn\\base.py:432: UserWarning: X has feature names, but RandomForestClassifier was fitted without feature names\n",
      "  warnings.warn(\n"
     ]
    },
    {
     "data": {
      "text/html": [
       "<pre style=\"white-space:pre;overflow-x:auto;line-height:normal;font-family:Menlo,'DejaVu Sans Mono',consolas,'Courier New',monospace\">DocImageIndex\n",
       "</pre>\n"
      ],
      "text/plain": [
       "DocImageIndex\n"
      ]
     },
     "metadata": {},
     "output_type": "display_data"
    },
    {
     "data": {
      "text/html": [
       "<pre style=\"white-space:pre;overflow-x:auto;line-height:normal;font-family:Menlo,'DejaVu Sans Mono',consolas,'Courier New',monospace\">inside nj_clean\n",
       "</pre>\n"
      ],
      "text/plain": [
       "inside nj_clean\n"
      ]
     },
     "metadata": {},
     "output_type": "display_data"
    },
    {
     "name": "stderr",
     "output_type": "stream",
     "text": [
      "C:\\ProgramData\\anaconda3\\Lib\\site-packages\\sklearn\\base.py:432: UserWarning: X has feature names, but RandomForestClassifier was fitted without feature names\n",
      "  warnings.warn(\n"
     ]
    },
    {
     "data": {
      "text/html": [
       "<pre style=\"white-space:pre;overflow-x:auto;line-height:normal;font-family:Menlo,'DejaVu Sans Mono',consolas,'Courier New',monospace\">DocImageIndex\n",
       "</pre>\n"
      ],
      "text/plain": [
       "DocImageIndex\n"
      ]
     },
     "metadata": {},
     "output_type": "display_data"
    },
    {
     "data": {
      "text/html": [
       "<pre style=\"white-space:pre;overflow-x:auto;line-height:normal;font-family:Menlo,'DejaVu Sans Mono',consolas,'Courier New',monospace\">inside nj_clean\n",
       "</pre>\n"
      ],
      "text/plain": [
       "inside nj_clean\n"
      ]
     },
     "metadata": {},
     "output_type": "display_data"
    },
    {
     "name": "stderr",
     "output_type": "stream",
     "text": [
      "C:\\ProgramData\\anaconda3\\Lib\\site-packages\\sklearn\\base.py:432: UserWarning: X has feature names, but RandomForestClassifier was fitted without feature names\n",
      "  warnings.warn(\n"
     ]
    },
    {
     "data": {
      "text/html": [
       "<pre style=\"white-space:pre;overflow-x:auto;line-height:normal;font-family:Menlo,'DejaVu Sans Mono',consolas,'Courier New',monospace\">DocImageIndex\n",
       "</pre>\n"
      ],
      "text/plain": [
       "DocImageIndex\n"
      ]
     },
     "metadata": {},
     "output_type": "display_data"
    },
    {
     "data": {
      "text/html": [
       "<pre style=\"white-space:pre;overflow-x:auto;line-height:normal;font-family:Menlo,'DejaVu Sans Mono',consolas,'Courier New',monospace\">inside nj_clean\n",
       "</pre>\n"
      ],
      "text/plain": [
       "inside nj_clean\n"
      ]
     },
     "metadata": {},
     "output_type": "display_data"
    },
    {
     "name": "stderr",
     "output_type": "stream",
     "text": [
      "C:\\ProgramData\\anaconda3\\Lib\\site-packages\\sklearn\\base.py:432: UserWarning: X has feature names, but RandomForestClassifier was fitted without feature names\n",
      "  warnings.warn(\n"
     ]
    },
    {
     "data": {
      "text/html": [
       "<pre style=\"white-space:pre;overflow-x:auto;line-height:normal;font-family:Menlo,'DejaVu Sans Mono',consolas,'Courier New',monospace\">DocImageIndex\n",
       "</pre>\n"
      ],
      "text/plain": [
       "DocImageIndex\n"
      ]
     },
     "metadata": {},
     "output_type": "display_data"
    },
    {
     "data": {
      "text/html": [
       "<pre style=\"white-space:pre;overflow-x:auto;line-height:normal;font-family:Menlo,'DejaVu Sans Mono',consolas,'Courier New',monospace\">inside nj_clean\n",
       "</pre>\n"
      ],
      "text/plain": [
       "inside nj_clean\n"
      ]
     },
     "metadata": {},
     "output_type": "display_data"
    },
    {
     "name": "stderr",
     "output_type": "stream",
     "text": [
      "C:\\ProgramData\\anaconda3\\Lib\\site-packages\\sklearn\\base.py:432: UserWarning: X has feature names, but RandomForestClassifier was fitted without feature names\n",
      "  warnings.warn(\n"
     ]
    },
    {
     "data": {
      "text/html": [
       "<pre style=\"white-space:pre;overflow-x:auto;line-height:normal;font-family:Menlo,'DejaVu Sans Mono',consolas,'Courier New',monospace\">DocImageIndex\n",
       "</pre>\n"
      ],
      "text/plain": [
       "DocImageIndex\n"
      ]
     },
     "metadata": {},
     "output_type": "display_data"
    },
    {
     "data": {
      "text/html": [
       "<pre style=\"white-space:pre;overflow-x:auto;line-height:normal;font-family:Menlo,'DejaVu Sans Mono',consolas,'Courier New',monospace\">inside nj_clean\n",
       "</pre>\n"
      ],
      "text/plain": [
       "inside nj_clean\n"
      ]
     },
     "metadata": {},
     "output_type": "display_data"
    },
    {
     "name": "stderr",
     "output_type": "stream",
     "text": [
      "C:\\ProgramData\\anaconda3\\Lib\\site-packages\\sklearn\\base.py:432: UserWarning: X has feature names, but RandomForestClassifier was fitted without feature names\n",
      "  warnings.warn(\n"
     ]
    },
    {
     "data": {
      "text/html": [
       "<pre style=\"white-space:pre;overflow-x:auto;line-height:normal;font-family:Menlo,'DejaVu Sans Mono',consolas,'Courier New',monospace\">DocImageIndex\n",
       "</pre>\n"
      ],
      "text/plain": [
       "DocImageIndex\n"
      ]
     },
     "metadata": {},
     "output_type": "display_data"
    },
    {
     "data": {
      "text/html": [
       "<pre style=\"white-space:pre;overflow-x:auto;line-height:normal;font-family:Menlo,'DejaVu Sans Mono',consolas,'Courier New',monospace\">inside nj_clean\n",
       "</pre>\n"
      ],
      "text/plain": [
       "inside nj_clean\n"
      ]
     },
     "metadata": {},
     "output_type": "display_data"
    },
    {
     "name": "stderr",
     "output_type": "stream",
     "text": [
      "C:\\ProgramData\\anaconda3\\Lib\\site-packages\\sklearn\\base.py:432: UserWarning: X has feature names, but RandomForestClassifier was fitted without feature names\n",
      "  warnings.warn(\n"
     ]
    },
    {
     "data": {
      "text/html": [
       "<pre style=\"white-space:pre;overflow-x:auto;line-height:normal;font-family:Menlo,'DejaVu Sans Mono',consolas,'Courier New',monospace\">DocImageIndex\n",
       "</pre>\n"
      ],
      "text/plain": [
       "DocImageIndex\n"
      ]
     },
     "metadata": {},
     "output_type": "display_data"
    },
    {
     "data": {
      "text/html": [
       "<pre style=\"white-space:pre;overflow-x:auto;line-height:normal;font-family:Menlo,'DejaVu Sans Mono',consolas,'Courier New',monospace\">inside nj_clean\n",
       "</pre>\n"
      ],
      "text/plain": [
       "inside nj_clean\n"
      ]
     },
     "metadata": {},
     "output_type": "display_data"
    },
    {
     "name": "stderr",
     "output_type": "stream",
     "text": [
      "C:\\ProgramData\\anaconda3\\Lib\\site-packages\\sklearn\\base.py:432: UserWarning: X has feature names, but RandomForestClassifier was fitted without feature names\n",
      "  warnings.warn(\n"
     ]
    },
    {
     "data": {
      "text/html": [
       "<pre style=\"white-space:pre;overflow-x:auto;line-height:normal;font-family:Menlo,'DejaVu Sans Mono',consolas,'Courier New',monospace\">DocImageIndex\n",
       "</pre>\n"
      ],
      "text/plain": [
       "DocImageIndex\n"
      ]
     },
     "metadata": {},
     "output_type": "display_data"
    },
    {
     "data": {
      "text/html": [
       "<pre style=\"white-space:pre;overflow-x:auto;line-height:normal;font-family:Menlo,'DejaVu Sans Mono',consolas,'Courier New',monospace\">inside nj_clean\n",
       "</pre>\n"
      ],
      "text/plain": [
       "inside nj_clean\n"
      ]
     },
     "metadata": {},
     "output_type": "display_data"
    },
    {
     "name": "stderr",
     "output_type": "stream",
     "text": [
      "C:\\ProgramData\\anaconda3\\Lib\\site-packages\\sklearn\\base.py:432: UserWarning: X has feature names, but RandomForestClassifier was fitted without feature names\n",
      "  warnings.warn(\n"
     ]
    },
    {
     "data": {
      "text/html": [
       "<pre style=\"white-space:pre;overflow-x:auto;line-height:normal;font-family:Menlo,'DejaVu Sans Mono',consolas,'Courier New',monospace\">DocImageIndex\n",
       "</pre>\n"
      ],
      "text/plain": [
       "DocImageIndex\n"
      ]
     },
     "metadata": {},
     "output_type": "display_data"
    },
    {
     "data": {
      "text/html": [
       "<pre style=\"white-space:pre;overflow-x:auto;line-height:normal;font-family:Menlo,'DejaVu Sans Mono',consolas,'Courier New',monospace\">inside nj_clean\n",
       "</pre>\n"
      ],
      "text/plain": [
       "inside nj_clean\n"
      ]
     },
     "metadata": {},
     "output_type": "display_data"
    },
    {
     "name": "stderr",
     "output_type": "stream",
     "text": [
      "C:\\ProgramData\\anaconda3\\Lib\\site-packages\\sklearn\\base.py:432: UserWarning: X has feature names, but RandomForestClassifier was fitted without feature names\n",
      "  warnings.warn(\n"
     ]
    },
    {
     "data": {
      "text/html": [
       "<pre style=\"white-space:pre;overflow-x:auto;line-height:normal;font-family:Menlo,'DejaVu Sans Mono',consolas,'Courier New',monospace\">DocImageIndex\n",
       "</pre>\n"
      ],
      "text/plain": [
       "DocImageIndex\n"
      ]
     },
     "metadata": {},
     "output_type": "display_data"
    },
    {
     "data": {
      "text/html": [
       "<pre style=\"white-space:pre;overflow-x:auto;line-height:normal;font-family:Menlo,'DejaVu Sans Mono',consolas,'Courier New',monospace\">inside nj_clean\n",
       "</pre>\n"
      ],
      "text/plain": [
       "inside nj_clean\n"
      ]
     },
     "metadata": {},
     "output_type": "display_data"
    },
    {
     "name": "stderr",
     "output_type": "stream",
     "text": [
      "C:\\ProgramData\\anaconda3\\Lib\\site-packages\\sklearn\\base.py:432: UserWarning: X has feature names, but RandomForestClassifier was fitted without feature names\n",
      "  warnings.warn(\n"
     ]
    },
    {
     "data": {
      "text/html": [
       "<pre style=\"white-space:pre;overflow-x:auto;line-height:normal;font-family:Menlo,'DejaVu Sans Mono',consolas,'Courier New',monospace\">DocImageIndex\n",
       "</pre>\n"
      ],
      "text/plain": [
       "DocImageIndex\n"
      ]
     },
     "metadata": {},
     "output_type": "display_data"
    },
    {
     "data": {
      "text/html": [
       "<pre style=\"white-space:pre;overflow-x:auto;line-height:normal;font-family:Menlo,'DejaVu Sans Mono',consolas,'Courier New',monospace\">inside nj_clean\n",
       "</pre>\n"
      ],
      "text/plain": [
       "inside nj_clean\n"
      ]
     },
     "metadata": {},
     "output_type": "display_data"
    },
    {
     "name": "stderr",
     "output_type": "stream",
     "text": [
      "C:\\ProgramData\\anaconda3\\Lib\\site-packages\\sklearn\\base.py:432: UserWarning: X has feature names, but RandomForestClassifier was fitted without feature names\n",
      "  warnings.warn(\n"
     ]
    },
    {
     "data": {
      "text/html": [
       "<pre style=\"white-space:pre;overflow-x:auto;line-height:normal;font-family:Menlo,'DejaVu Sans Mono',consolas,'Courier New',monospace\">DocImageIndex\n",
       "</pre>\n"
      ],
      "text/plain": [
       "DocImageIndex\n"
      ]
     },
     "metadata": {},
     "output_type": "display_data"
    },
    {
     "data": {
      "text/html": [
       "<pre style=\"white-space:pre;overflow-x:auto;line-height:normal;font-family:Menlo,'DejaVu Sans Mono',consolas,'Courier New',monospace\">inside nj_clean\n",
       "</pre>\n"
      ],
      "text/plain": [
       "inside nj_clean\n"
      ]
     },
     "metadata": {},
     "output_type": "display_data"
    },
    {
     "name": "stderr",
     "output_type": "stream",
     "text": [
      "C:\\ProgramData\\anaconda3\\Lib\\site-packages\\sklearn\\base.py:432: UserWarning: X has feature names, but RandomForestClassifier was fitted without feature names\n",
      "  warnings.warn(\n"
     ]
    },
    {
     "data": {
      "text/html": [
       "<pre style=\"white-space:pre;overflow-x:auto;line-height:normal;font-family:Menlo,'DejaVu Sans Mono',consolas,'Courier New',monospace\">DocImageIndex\n",
       "</pre>\n"
      ],
      "text/plain": [
       "DocImageIndex\n"
      ]
     },
     "metadata": {},
     "output_type": "display_data"
    },
    {
     "data": {
      "text/html": [
       "<pre style=\"white-space:pre;overflow-x:auto;line-height:normal;font-family:Menlo,'DejaVu Sans Mono',consolas,'Courier New',monospace\">inside nj_clean\n",
       "</pre>\n"
      ],
      "text/plain": [
       "inside nj_clean\n"
      ]
     },
     "metadata": {},
     "output_type": "display_data"
    },
    {
     "name": "stderr",
     "output_type": "stream",
     "text": [
      "C:\\ProgramData\\anaconda3\\Lib\\site-packages\\sklearn\\base.py:432: UserWarning: X has feature names, but RandomForestClassifier was fitted without feature names\n",
      "  warnings.warn(\n"
     ]
    },
    {
     "data": {
      "text/html": [
       "<pre style=\"white-space:pre;overflow-x:auto;line-height:normal;font-family:Menlo,'DejaVu Sans Mono',consolas,'Courier New',monospace\">DocImageIndex\n",
       "</pre>\n"
      ],
      "text/plain": [
       "DocImageIndex\n"
      ]
     },
     "metadata": {},
     "output_type": "display_data"
    },
    {
     "data": {
      "text/html": [
       "<pre style=\"white-space:pre;overflow-x:auto;line-height:normal;font-family:Menlo,'DejaVu Sans Mono',consolas,'Courier New',monospace\">inside nj_clean\n",
       "</pre>\n"
      ],
      "text/plain": [
       "inside nj_clean\n"
      ]
     },
     "metadata": {},
     "output_type": "display_data"
    },
    {
     "name": "stderr",
     "output_type": "stream",
     "text": [
      "C:\\ProgramData\\anaconda3\\Lib\\site-packages\\sklearn\\base.py:432: UserWarning: X has feature names, but RandomForestClassifier was fitted without feature names\n",
      "  warnings.warn(\n"
     ]
    },
    {
     "data": {
      "text/html": [
       "<pre style=\"white-space:pre;overflow-x:auto;line-height:normal;font-family:Menlo,'DejaVu Sans Mono',consolas,'Courier New',monospace\">DocImageIndex\n",
       "</pre>\n"
      ],
      "text/plain": [
       "DocImageIndex\n"
      ]
     },
     "metadata": {},
     "output_type": "display_data"
    },
    {
     "data": {
      "text/html": [
       "<pre style=\"white-space:pre;overflow-x:auto;line-height:normal;font-family:Menlo,'DejaVu Sans Mono',consolas,'Courier New',monospace\">inside nj_clean\n",
       "</pre>\n"
      ],
      "text/plain": [
       "inside nj_clean\n"
      ]
     },
     "metadata": {},
     "output_type": "display_data"
    },
    {
     "name": "stderr",
     "output_type": "stream",
     "text": [
      "C:\\ProgramData\\anaconda3\\Lib\\site-packages\\sklearn\\base.py:432: UserWarning: X has feature names, but RandomForestClassifier was fitted without feature names\n",
      "  warnings.warn(\n"
     ]
    },
    {
     "data": {
      "text/html": [
       "<pre style=\"white-space:pre;overflow-x:auto;line-height:normal;font-family:Menlo,'DejaVu Sans Mono',consolas,'Courier New',monospace\">DocImageIndex\n",
       "</pre>\n"
      ],
      "text/plain": [
       "DocImageIndex\n"
      ]
     },
     "metadata": {},
     "output_type": "display_data"
    },
    {
     "data": {
      "text/html": [
       "<pre style=\"white-space:pre;overflow-x:auto;line-height:normal;font-family:Menlo,'DejaVu Sans Mono',consolas,'Courier New',monospace\">inside nj_clean\n",
       "</pre>\n"
      ],
      "text/plain": [
       "inside nj_clean\n"
      ]
     },
     "metadata": {},
     "output_type": "display_data"
    },
    {
     "name": "stderr",
     "output_type": "stream",
     "text": [
      "C:\\ProgramData\\anaconda3\\Lib\\site-packages\\sklearn\\base.py:432: UserWarning: X has feature names, but RandomForestClassifier was fitted without feature names\n",
      "  warnings.warn(\n"
     ]
    },
    {
     "data": {
      "text/html": [
       "<pre style=\"white-space:pre;overflow-x:auto;line-height:normal;font-family:Menlo,'DejaVu Sans Mono',consolas,'Courier New',monospace\">DocImageIndex\n",
       "</pre>\n"
      ],
      "text/plain": [
       "DocImageIndex\n"
      ]
     },
     "metadata": {},
     "output_type": "display_data"
    }
   ],
   "source": [
    "import json\n",
    "import zipfile\n",
    "from pathlib import Path\n",
    "from rich import print\n",
    "import pandas as pd\n",
    "for p in Path(\n",
    "    r\"C:\\Users\\surakumar\\OneDrive - CoreLogic Solutions, LLC\\Downloads\\pythonCode\\ok_retest\"\n",
    ").iterdir():\n",
    "    # arc = zipfile.ZipFile(p, mode=\"r\")\n",
    "    # break\n",
    "    with zipfile.ZipFile(p, mode=\"r\") as archive:\n",
    "        for name in archive.namelist():\n",
    "            if \"_0.jpg_OCR.txt\" in name:\n",
    "                with archive.open(name,'r') as file:\n",
    "                    text = file.read().decode()\n",
    "                    text = nj_clean(text)\n",
    "                    ocr_df=pd.DataFrame({\"data\":[text]},dtype=str)\n",
    "                    pred_value=model.predict(vectorize(ocr_df[\"data\"].values.astype('U'),tfidf))\n",
    "                    print(pred_value[0])\n"
   ]
  },
  {
   "cell_type": "code",
   "execution_count": 12,
   "id": "1e262be2-ded2-422b-9d46-044f1e33a52c",
   "metadata": {},
   "outputs": [
    {
     "name": "stderr",
     "output_type": "stream",
     "text": [
      "C:\\ProgramData\\anaconda3\\Lib\\site-packages\\sklearn\\base.py:318: UserWarning: Trying to unpickle estimator DecisionTreeClassifier from version 0.22 when using version 1.2.2. This might lead to breaking code or invalid results. Use at your own risk. For more info please refer to:\n",
      "https://scikit-learn.org/stable/model_persistence.html#security-maintainability-limitations\n",
      "  warnings.warn(\n",
      "C:\\ProgramData\\anaconda3\\Lib\\site-packages\\sklearn\\base.py:318: UserWarning: Trying to unpickle estimator RandomForestClassifier from version 0.22 when using version 1.2.2. This might lead to breaking code or invalid results. Use at your own risk. For more info please refer to:\n",
      "https://scikit-learn.org/stable/model_persistence.html#security-maintainability-limitations\n",
      "  warnings.warn(\n",
      "C:\\ProgramData\\anaconda3\\Lib\\site-packages\\sklearn\\base.py:318: UserWarning: Trying to unpickle estimator TfidfTransformer from version 0.22 when using version 1.2.2. This might lead to breaking code or invalid results. Use at your own risk. For more info please refer to:\n",
      "https://scikit-learn.org/stable/model_persistence.html#security-maintainability-limitations\n",
      "  warnings.warn(\n",
      "C:\\ProgramData\\anaconda3\\Lib\\site-packages\\sklearn\\base.py:318: UserWarning: Trying to unpickle estimator TfidfVectorizer from version 0.22 when using version 1.2.2. This might lead to breaking code or invalid results. Use at your own risk. For more info please refer to:\n",
      "https://scikit-learn.org/stable/model_persistence.html#security-maintainability-limitations\n",
      "  warnings.warn(\n"
     ]
    }
   ],
   "source": [
    "model = joblib.load(\"njstate/model_B.pkl\")\n",
    "tfidf = joblib.load(\"njstate/tfidf_B.pkl\")"
   ]
  },
  {
   "cell_type": "code",
   "execution_count": 21,
   "id": "bc70d3b8-4a9b-44f1-9a37-2c684bedbfb0",
   "metadata": {},
   "outputs": [],
   "source": [
    "def nj_clean(text):\n",
    "    print(\"inside nj_clean\")\n",
    "    target_words = set(['summary','sheet','remove','recording','info','cover','sheet','official','please','detach'])\n",
    "    stop = set(stopwords.words('english'))\n",
    "    pages = re.split(r\"-{5,}\", text)\n",
    "    page_len = len(pages)\n",
    "    to_process = []\n",
    "    if page_len<=2:\n",
    "        to_process = pages[:]\n",
    "    else:\n",
    "        to_process.append(pages[0])\n",
    "        cover_page = [len(set(p.lower().split()).intersection(target_words))>2 for p in pages[1:]]\n",
    "        for is_cover,p in zip(cover_page,pages[1:]):\n",
    "            if not is_cover:\n",
    "                to_process.append(p)\n",
    "                break\n",
    "    to_process = \" \".join(to_process)\n",
    "    word_net = WordNetLemmatizer()\n",
    "    tokens = word_tokenize(to_process)\n",
    "    lower = [word.lower() for word in tokens if (word.lower() not in stop)]# and word.isalpha() and word[0].isupper()]\n",
    "    # stop_words_no = [word for word in lower if word not in stop]\n",
    "    # non_alpha = [word for word in stop_words_no if word.isalpha()]\n",
    "    lemma_text = [word_net.lemmatize(word) for word in lower]\n",
    "    return \" \".join(lemma_text)\n"
   ]
  },
  {
   "cell_type": "code",
   "execution_count": 10,
   "id": "f7a3145d-24da-49d3-bebd-cf4aa5c7d3c2",
   "metadata": {},
   "outputs": [],
   "source": [
    "import joblib\n",
    "from nltk.corpus import stopwords\n",
    "from nltk import WordNetLemmatizer,word_tokenize\n",
    "from sklearn.model_selection import train_test_split\n",
    "from sklearn.feature_extraction.text import CountVectorizer,TfidfTransformer,TfidfVectorizer"
   ]
  },
  {
   "cell_type": "code",
   "execution_count": 11,
   "id": "21daa5c6-d14b-4c53-bae3-3e318506b69f",
   "metadata": {},
   "outputs": [
    {
     "name": "stderr",
     "output_type": "stream",
     "text": [
      "[nltk_data] Downloading package punkt to\n",
      "[nltk_data]     C:\\Users\\surakumar\\AppData\\Roaming\\nltk_data...\n",
      "[nltk_data]   Package punkt is already up-to-date!\n",
      "[nltk_data] Downloading package wordnet to\n",
      "[nltk_data]     C:\\Users\\surakumar\\AppData\\Roaming\\nltk_data...\n",
      "[nltk_data]   Package wordnet is already up-to-date!\n",
      "[nltk_data] Downloading package stopwords to\n",
      "[nltk_data]     C:\\Users\\surakumar\\AppData\\Roaming\\nltk_data...\n",
      "[nltk_data]   Package stopwords is already up-to-date!\n",
      "[nltk_data] Downloading package omw-1.4 to\n",
      "[nltk_data]     C:\\Users\\surakumar\\AppData\\Roaming\\nltk_data...\n",
      "[nltk_data]   Package omw-1.4 is already up-to-date!\n"
     ]
    }
   ],
   "source": [
    "import time\n",
    "import os\n",
    "import sys\n",
    "import re\n",
    "import numpy as np\n",
    "import pandas as pd\n",
    "import pickle\n",
    "import nltk\n",
    "nltk.download('punkt')\n",
    "nltk.download('wordnet')\n",
    "nltk.download('stopwords')\n",
    "from nltk.corpus import stopwords\n",
    "from nltk import WordNetLemmatizer,word_tokenize\n",
    "\n",
    "from sklearn.model_selection import train_test_split\n",
    "\n",
    "from sklearn.feature_extraction.text import CountVectorizer\n",
    "from sklearn.feature_extraction.text import TfidfTransformer\n",
    "from sklearn.feature_extraction.text import TfidfVectorizer\n",
    "\n",
    "from sklearn.ensemble import RandomForestClassifier\n",
    "\n",
    "from sklearn.metrics import accuracy_score, precision_score, recall_score\n",
    "\n",
    "import matplotlib.pyplot as plt\n",
    "\n",
    "import joblib\n",
    "##from _pickle import dump, load, HIGHEST_PROTOCOL\n",
    "stop = set(stopwords.words('english'))\n",
    "nltk.download('omw-1.4')\n",
    "\n",
    "word_net = WordNetLemmatizer()\n",
    "def clean(text):\n",
    "    # word_net = WordNetLemmatizer()\n",
    "    tokens = word_tokenize(text)\n",
    "    lower = [word.lower() for word in tokens if len(word)>2 and (word.lower() not in stop)]# and word.isalpha() and word[0].isupper()]\n",
    "    # stop_words_no = [word for word in lower if word not in stop]\n",
    "    # non_alpha = [word for word in stop_words_no if word.isalpha()]\n",
    "    lemma_text = [word_net.lemmatize(word) for word in lower]\n",
    "    return \" \".join(lemma_text)\n",
    "    # return \" \".join(lower)"
   ]
  },
  {
   "cell_type": "code",
   "execution_count": null,
   "id": "7fc992b8-dbf8-4f4e-97f6-91910f1c7a5b",
   "metadata": {},
   "outputs": [],
   "source": []
  }
 ],
 "metadata": {
  "kernelspec": {
   "display_name": "Python 3 (ipykernel)",
   "language": "python",
   "name": "python3"
  },
  "language_info": {
   "codemirror_mode": {
    "name": "ipython",
    "version": 3
   },
   "file_extension": ".py",
   "mimetype": "text/x-python",
   "name": "python",
   "nbconvert_exporter": "python",
   "pygments_lexer": "ipython3",
   "version": "3.11.7"
  },
  "toc": {
   "base_numbering": 1,
   "nav_menu": {},
   "number_sections": true,
   "sideBar": true,
   "skip_h1_title": false,
   "title_cell": "Table of Contents",
   "title_sidebar": "Contents",
   "toc_cell": false,
   "toc_position": {},
   "toc_section_display": true,
   "toc_window_display": false
  },
  "widgets": {
   "application/vnd.jupyter.widget-state+json": {
    "state": {},
    "version_major": 2,
    "version_minor": 0
   }
  }
 },
 "nbformat": 4,
 "nbformat_minor": 5
}
