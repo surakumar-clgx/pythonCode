{
 "cells": [
  {
   "cell_type": "code",
   "execution_count": null,
   "metadata": {
    "collapsed": true,
    "id": "SfshtZ1nAdkt",
    "jupyter": {
     "outputs_hidden": true
    }
   },
   "outputs": [],
   "source": [
    "!python --version\n",
    "\n",
    "\n",
    "!apt-get install python3.7\n",
    "\n",
    "\n",
    "!sudo update-alternatives --config python3\n",
    "\n",
    "!sudo update-alternatives --install /usr/bin/python3 python3 /usr/bin/python3.7 1\n",
    "\n",
    "!sudo update-alternatives --config python3\n",
    "\n",
    "!sudo apt install python3-pip\n",
    "\n",
    "\n",
    "!sudo apt install python3.7-distutils\n",
    "\n",
    "!pip install matplotlib\n",
    "\n",
    "!pip install xlrd==1.2.0\n",
    "\n",
    "!pip install -r drive/MyDrive/requirements.txt\n",
    "\n",
    "# county_list=['NYWASHINGTON','NYYATES']\n",
    "# print('{}'.format(county_list))\n",
    "# !python3 drive/MyDrive/tx_cts_training.py\n",
    "# a"
   ]
  },
  {
   "cell_type": "code",
   "execution_count": null,
   "metadata": {
    "colab": {
     "base_uri": "https://localhost:8080/"
    },
    "collapsed": true,
    "id": "5PmfUIv66hGy",
    "jupyter": {
     "outputs_hidden": true
    },
    "outputId": "d2bb8346-3681-420c-e34d-a5b2d08998a0"
   },
   "outputs": [
    {
     "name": "stdout",
     "output_type": "stream",
     "text": [
      "KTitle\n",
      "0\n",
      "[nltk_data] Downloading package punkt to /root/nltk_data...\n",
      "[nltk_data]   Package punkt is already up-to-date!\n",
      "[nltk_data] Downloading package wordnet to /root/nltk_data...\n",
      "[nltk_data]   Package wordnet is already up-to-date!\n",
      "[nltk_data] Downloading package stopwords to /root/nltk_data...\n",
      "[nltk_data]   Package stopwords is already up-to-date!\n",
      "[nltk_data] Downloading package omw-1.4 to /root/nltk_data...\n",
      "[nltk_data]   Package omw-1.4 is already up-to-date!\n",
      "Traceback (most recent call last):\n",
      "  File \"drive/MyDrive/test_tx_cts_training.py\", line 67, in <module>\n",
      "    data.dropna(subset=['Data','Doctype'], inplace=True)\n",
      "  File \"/usr/local/lib/python3.7/dist-packages/pandas/core/frame.py\", line 4859, in dropna\n",
      "    raise KeyError(list(np.compress(check, subset)))\n",
      "KeyError: ['Data', 'Doctype']\n"
     ]
    }
   ],
   "source": [
    "import os\n",
    "# county_list = ['COARAPAHOE','CODENVER','MDANNEARUNDEL','MDBALTIMORE','MDMONTGOMERY','NJBURLINGTON','NJMONMOUTH','NJPASSAIC']\n",
    "# county_list=['COCLEARCREEK','COCONEJOS','COCOSTILLA','CODELTA','CODENVER','CODOLORES','COELBERT','COGARFIELD','COGUNNISON','COLASANIMAS','COLOGAN','COMONTROSE','COOURAY','COPITKIN','COPROWERS','MDANNEARUNDEL','MDBALTIMORE','MDCALVERT','MDCECIL','MDCHARLES','MDDORCHESTER','MDFREDERICK','MDGARRETT','MDHARFORD','MDMONTGOMERY','MDQUEENANNES','MDWASHINGTON','MNWASHINGTON','NJBURLINGTON','NJCUMBERLAND','NJMERCER','NJMONMOUTH','NJPASSAIC','NJSALEM','NJWARREN','NYCAYUGA','NYCOLUMBIA','NYDUTCHESS','NYNIAGARA','NYONEIDA','NYORANGE','NYORLEANS','NYOSWEGO','NYSCHOHARIE','NYTOMPKINS','NYWASHINGTON','NYYATES']\n",
    "# county_list = ['KYBULLITT','KYHENRY','KYMEADE','KYMERCER','KYOWEN','KYTRIGG','KYWARREN','MDDORCHESTER','NCDAVIE','NJPASSAIC','NYTOMPKINS','SCDARLINGTON']\n",
    "county_list = ['KTitle']\n",
    "print(county_list[0])\n",
    "print(county_list.index(county_list[0]))\n",
    "for county_name in county_list:\n",
    "\n",
    "  old_county = \"county_list = ['NYYATES']\"\n",
    "  new_county = \"county_list = ['\" + str(county_name) + \"']\"\n",
    "\n",
    "  f = open(\"/content/drive/MyDrive/test_tx_cts_training.py\",'r')\n",
    "  filedata = f.read()\n",
    "  f.close()\n",
    "\n",
    "\n",
    "  newdata = filedata.replace(str(old_county),str(new_county))\n",
    "\n",
    "  f = open(\"/content/drive/MyDrive/test_tx_cts_training.py\",'w')\n",
    "  f.write(newdata)\n",
    "  f.close()\n",
    "\n",
    "  f = open(\"/content/drive/MyDrive/test_tx_cts_training.py\",'r')\n",
    "  filedata = f.read()\n",
    "  f.close()\n",
    "\n",
    "  old_folder_path = \"countywisepkls/nyyates\"\n",
    "  new_folder_path = \"countywisepkls/\" + str(county_name).lower()\n",
    "\n",
    "  newdata = filedata.replace(str(old_folder_path), str(new_folder_path))\n",
    "\n",
    "  f = open(\"/content/drive/MyDrive/test_tx_cts_training.py\",'w')\n",
    "  f.write(newdata)\n",
    "  f.close()\n",
    "# replaced with new\n",
    "# now adding coounty name to file\n",
    "  with open(\"/content/drive/MyDrive/new.txt\", 'a') as f:\n",
    "    f.write(\"\\nCounty Name = \" + str(county_name) + '\\n')\n",
    "    f.close()\n",
    "\n",
    "\n",
    "  !python3 drive/MyDrive/test_tx_cts_training.py | grep Volume* >> /content/drive/MyDrive/new.txt\n",
    "# replaced with nyyates\n",
    "  f = open(\"/content/drive/MyDrive/test_tx_cts_training.py\",'r')\n",
    "  filedata = f.read()\n",
    "  f.close()\n",
    "\n",
    "\n",
    "  newdata = filedata.replace(str(new_county),str(old_county))\n",
    "\n",
    "  f = open(\"/content/drive/MyDrive/test_tx_cts_training.py\",'w')\n",
    "  f.write(newdata)\n",
    "  f.close()\n",
    "\n",
    "  f = open(\"/content/drive/MyDrive/test_tx_cts_training.py\",'r')\n",
    "  filedata = f.read()\n",
    "  f.close()\n",
    "\n",
    "  old_folder_path = \"countywisepkls/nyyates\"\n",
    "  new_folder_path = \"countywisepkls/\" + str(county_name).lower()\n",
    "\n",
    "  newdata = filedata.replace(str(new_folder_path), str(old_folder_path))\n",
    "\n",
    "  f = open(\"/content/drive/MyDrive/test_tx_cts_training.py\",'w')\n",
    "  f.write(newdata)\n",
    "  f.close()\n",
    "\n"
   ]
  },
  {
   "cell_type": "code",
   "execution_count": null,
   "metadata": {
    "collapsed": true,
    "id": "ekzfLFBittsF",
    "jupyter": {
     "outputs_hidden": true
    }
   },
   "outputs": [],
   "source": []
  },
  {
   "cell_type": "markdown",
   "metadata": {
    "collapsed": true,
    "id": "wiJsP9g2H3qS",
    "jupyter": {
     "outputs_hidden": true
    }
   },
   "source": [
    "# aaaaaaaaaaaaaaaaaaaaaaaaaaaaa"
   ]
  },
  {
   "cell_type": "code",
   "execution_count": null,
   "metadata": {
    "collapsed": true,
    "id": "4uuEuPcL-Pjy",
    "jupyter": {
     "outputs_hidden": true
    }
   },
   "outputs": [],
   "source": [
    "#phase2\n",
    "!python3 drive/MyDrive/phase2_tx_cts_training.py | grep Volume* >> /content/drive/MyDrive/phase2tranch2.txt\n",
    "\n",
    "!python3 drive/MyDrive/test_tx_cts_training.py | grep Volume* >> /content/drive/MyDrive/AccuracyVolume.txt\n",
    "\n",
    "#CAUTION!: DELETES ALL PKL FILES\n",
    "import glob, os\n",
    "for f in glob.glob(\"/content/drive/MyDrive/pkls/countywisepkls/*/*\"):\n",
    "    os.remove(f)"
   ]
  },
  {
   "cell_type": "markdown",
   "metadata": {
    "collapsed": true,
    "id": "0_w5YmpBMP_O",
    "jupyter": {
     "outputs_hidden": true
    }
   },
   "source": [
    "# only accuracy code here"
   ]
  },
  {
   "cell_type": "code",
   "execution_count": null,
   "metadata": {
    "colab": {
     "base_uri": "https://localhost:8080/"
    },
    "id": "5Hdl0hS1MXX7",
    "outputId": "a9374b8d-4d60-4355-9e12-b51219b61826"
   },
   "outputs": [
    {
     "name": "stdout",
     "output_type": "stream",
     "text": [
      "COARAPAHOE\n",
      "0\n",
      "[nltk_data] Downloading package punkt to /root/nltk_data...\n",
      "[nltk_data]   Package punkt is already up-to-date!\n",
      "[nltk_data] Downloading package wordnet to /root/nltk_data...\n",
      "[nltk_data]   Package wordnet is already up-to-date!\n",
      "[nltk_data] Downloading package stopwords to /root/nltk_data...\n",
      "[nltk_data]   Package stopwords is already up-to-date!\n",
      "[nltk_data] Downloading package omw-1.4 to /root/nltk_data...\n",
      "[nltk_data]   Package omw-1.4 is already up-to-date!\n",
      "[nltk_data] Downloading package omw-1.4 to /root/nltk_data...\n",
      "[nltk_data]   Package omw-1.4 is already up-to-date!\n",
      "[nltk_data] Downloading package stopwords to /root/nltk_data...\n",
      "[nltk_data]   Package stopwords is already up-to-date!\n",
      "[nltk_data] Downloading package punkt to /root/nltk_data...\n",
      "[nltk_data]   Package punkt is already up-to-date!\n",
      "[nltk_data] Downloading package wordnet to /root/nltk_data...\n",
      "[nltk_data]   Package wordnet is already up-to-date!\n",
      "[nltk_data] Downloading package stopwords to /root/nltk_data...\n",
      "[nltk_data]   Package stopwords is already up-to-date!\n",
      "[nltk_data] Downloading package omw-1.4 to /root/nltk_data...\n",
      "[nltk_data]   Package omw-1.4 is already up-to-date!\n",
      "[nltk_data] Downloading package omw-1.4 to /root/nltk_data...\n",
      "[nltk_data]   Package omw-1.4 is already up-to-date!\n",
      "[nltk_data] Downloading package stopwords to /root/nltk_data...\n",
      "[nltk_data]   Package stopwords is already up-to-date!\n",
      "[nltk_data] Downloading package punkt to /root/nltk_data...\n",
      "[nltk_data]   Package punkt is already up-to-date!\n",
      "[nltk_data] Downloading package wordnet to /root/nltk_data...\n",
      "[nltk_data]   Package wordnet is already up-to-date!\n",
      "[nltk_data] Downloading package stopwords to /root/nltk_data...\n",
      "[nltk_data]   Package stopwords is already up-to-date!\n",
      "[nltk_data] Downloading package omw-1.4 to /root/nltk_data...\n",
      "[nltk_data]   Package omw-1.4 is already up-to-date!\n",
      "[nltk_data] Downloading package omw-1.4 to /root/nltk_data...\n",
      "[nltk_data]   Package omw-1.4 is already up-to-date!\n",
      "[nltk_data] Downloading package stopwords to /root/nltk_data...\n",
      "[nltk_data]   Package stopwords is already up-to-date!\n",
      "[nltk_data] Downloading package punkt to /root/nltk_data...\n",
      "[nltk_data]   Package punkt is already up-to-date!\n",
      "[nltk_data] Downloading package wordnet to /root/nltk_data...\n",
      "[nltk_data]   Package wordnet is already up-to-date!\n",
      "[nltk_data] Downloading package stopwords to /root/nltk_data...\n",
      "[nltk_data]   Package stopwords is already up-to-date!\n",
      "[nltk_data] Downloading package omw-1.4 to /root/nltk_data...\n",
      "[nltk_data]   Package omw-1.4 is already up-to-date!\n",
      "[nltk_data] Downloading package omw-1.4 to /root/nltk_data...\n",
      "[nltk_data]   Package omw-1.4 is already up-to-date!\n",
      "[nltk_data] Downloading package stopwords to /root/nltk_data...\n",
      "[nltk_data]   Package stopwords is already up-to-date!\n",
      "[nltk_data] Downloading package punkt to /root/nltk_data...\n",
      "[nltk_data]   Package punkt is already up-to-date!\n",
      "[nltk_data] Downloading package wordnet to /root/nltk_data...\n",
      "[nltk_data]   Package wordnet is already up-to-date!\n",
      "[nltk_data] Downloading package stopwords to /root/nltk_data...\n",
      "[nltk_data]   Package stopwords is already up-to-date!\n",
      "[nltk_data] Downloading package omw-1.4 to /root/nltk_data...\n",
      "[nltk_data]   Package omw-1.4 is already up-to-date!\n",
      "[nltk_data] Downloading package omw-1.4 to /root/nltk_data...\n",
      "[nltk_data]   Package omw-1.4 is already up-to-date!\n",
      "[nltk_data] Downloading package stopwords to /root/nltk_data...\n",
      "[nltk_data]   Package stopwords is already up-to-date!\n",
      "[nltk_data] Downloading package punkt to /root/nltk_data...\n",
      "[nltk_data]   Package punkt is already up-to-date!\n",
      "[nltk_data] Downloading package wordnet to /root/nltk_data...\n",
      "[nltk_data]   Package wordnet is already up-to-date!\n",
      "[nltk_data] Downloading package stopwords to /root/nltk_data...\n",
      "[nltk_data]   Package stopwords is already up-to-date!\n",
      "[nltk_data] Downloading package omw-1.4 to /root/nltk_data...\n",
      "[nltk_data]   Package omw-1.4 is already up-to-date!\n",
      "[nltk_data] Downloading package omw-1.4 to /root/nltk_data...\n",
      "[nltk_data]   Package omw-1.4 is already up-to-date!\n",
      "[nltk_data] Downloading package stopwords to /root/nltk_data...\n",
      "[nltk_data]   Package stopwords is already up-to-date!\n",
      "[nltk_data] Downloading package punkt to /root/nltk_data...\n",
      "[nltk_data]   Package punkt is already up-to-date!\n",
      "[nltk_data] Downloading package wordnet to /root/nltk_data...\n",
      "[nltk_data]   Package wordnet is already up-to-date!\n",
      "[nltk_data] Downloading package stopwords to /root/nltk_data...\n",
      "[nltk_data]   Package stopwords is already up-to-date!\n",
      "[nltk_data] Downloading package omw-1.4 to /root/nltk_data...\n",
      "[nltk_data]   Package omw-1.4 is already up-to-date!\n",
      "[nltk_data] Downloading package omw-1.4 to /root/nltk_data...\n",
      "[nltk_data]   Package omw-1.4 is already up-to-date!\n",
      "[nltk_data] Downloading package stopwords to /root/nltk_data...\n",
      "[nltk_data]   Package stopwords is already up-to-date!\n",
      "[nltk_data] Downloading package punkt to /root/nltk_data...\n",
      "[nltk_data]   Package punkt is already up-to-date!\n",
      "[nltk_data] Downloading package wordnet to /root/nltk_data...\n",
      "[nltk_data]   Package wordnet is already up-to-date!\n",
      "[nltk_data] Downloading package stopwords to /root/nltk_data...\n",
      "[nltk_data]   Package stopwords is already up-to-date!\n",
      "[nltk_data] Downloading package omw-1.4 to /root/nltk_data...\n",
      "[nltk_data]   Package omw-1.4 is already up-to-date!\n",
      "[nltk_data] Downloading package omw-1.4 to /root/nltk_data...\n",
      "[nltk_data]   Package omw-1.4 is already up-to-date!\n",
      "[nltk_data] Downloading package stopwords to /root/nltk_data...\n",
      "[nltk_data]   Package stopwords is already up-to-date!\n"
     ]
    }
   ],
   "source": [
    "import os\n",
    "county_list=['NJMERCER','COCOSTILLA','NYNIAGARA','NJBURLINGTON','COPITKIN','COMONTROSE','NJCUMBERLAND','NJSALEM','NYCAYUGA','COARAPAHOE','CODENVER','MDBALTIMORE','MDANNEARUNDEL','MDFREDERICK','MDHARFORD','MDCHARLES','NYOSWEGO','MDCECIL','MDGARRETT','MDCALVERT','COCONEJOS','CODOLORES','COCLEARCREEK','CODELTA','COELBERT','COGARFIELD','COGUNNISON','COLASANIMAS','COLOGAN','COOURAY','COPROWERS','MDDORCHESTER','MDMONTGOMERY','MDQUEENANNES','MDWASHINGTON','NJMONMOUTH','NJPASSAIC','NJWARREN','NYCOLUMBIA','NYDUTCHESS','NYONEIDA','NYORANGE','NYORLEANS','NYSCHOHARIE','NYTOMPKINS','NYWASHINGTON','NYYATES']\n",
    "pkl_folder_list=['njstate','codenver4all','set2','njstate','codenver4all','codenver4all','njstate','njstate','set2','codenver4all','codenver4all','mdstate','mdstate','mdstate','mdstate','mdstate','set2','mdstate','mdstate','mdstate','codenver4all','codenver4all','codenver4all','codenver4all','codenver4all','codenver4all','codenver4all','codenver4all','codenver4all','codenver4all','codenver4all','mdstate','mdstate','mdstate','mdstate','njstate','njstate','njstate','set2','set2','set2','set2','set2','set2','set2','set2','set2']\n",
    "# county_list=['COARAPAHOE','COCLEARCREEK','COCONEJOS','COCOSTILLA','CODELTA','CODENVER','CODOLORES','COELBERT','COGARFIELD','COGUNNISON','COLASANIMAS','COLOGAN','COMONTROSE','COOURAY','COPITKIN','COPROWERS','MDANNEARUNDEL','MDBALTIMORE','MDCALVERT','MDCECIL','MDCHARLES','MDDORCHESTER','MDFREDERICK','MDGARRETT','MDHARFORD','MDMONTGOMERY','MDQUEENANNES','MDWASHINGTON','MNWASHINGTON','NJBURLINGTON','NJCUMBERLAND','NJMERCER','NJMONMOUTH','NJPASSAIC','NJSALEM','NJWARREN','NYCAYUGA','NYCOLUMBIA','NYDUTCHESS','NYNIAGARA','NYONEIDA','NYORANGE','NYORLEANS','NYOSWEGO','NYSCHOHARIE','NYTOMPKINS','NYWASHINGTON','NYYATES']\n",
    "# pkl_folder_list=['coarapahoe','coclearcreek','coconejos','cocostilla','codelta','codenver','codolores','coelbert','cogarfield','cogunnison','colasanimas','cologan','comontrose','coouray','copitkin','coprowers','mdannearundel','mdbaltimore','mdcalvert','mdcecil','mdcharles','mddorchester','mdfrederick','mdgarrett','mdharford','mdmontgomery','mdqueenannes','mdwashington','mnwashington','njburlington','njcumberland','njmercer','njmonmouth','njpassaic','njsalem','njwarren','nycayuga','nycolumbia','nydutchess','nyniagara','nyoneida','nyorange','nyorleans','nyoswego','nyschoharie','nytompkins','nywashington','nyyates']\n",
    "print(county_list[0])\n",
    "print(county_list.index(county_list[0]))\n",
    "for index,county_name in enumerate(county_list):\n",
    "\n",
    "  old_county = \"county_list = ['NYYATES']\"\n",
    "  new_county = \"county_list = ['\" + str(county_name) + \"']\"\n",
    "\n",
    "  f = open(\"/content/drive/MyDrive/tx_cts_prodpkl_collab.py\",'r')\n",
    "  filedata = f.read()\n",
    "  f.close()\n",
    "\n",
    "\n",
    "  newdata = filedata.replace(str(old_county),str(new_county))\n",
    "\n",
    "  f = open(\"/content/drive/MyDrive/tx_cts_prodpkl_collab.py\",'w')\n",
    "  f.write(newdata)\n",
    "  f.close()\n",
    "\n",
    "  f = open(\"/content/drive/MyDrive/tx_cts_prodpkl_collab.py\",'r')\n",
    "  filedata = f.read()\n",
    "  f.close()\n",
    "\n",
    "  old_folder_path = \"MyDrive/prodpkl/set2\"\n",
    "  # new_folder_path = \"MyDrive/prodpkl/\" + str(pkl_folder_list[index])\n",
    "  new_folder_path = \"MyDrive/pkls/countywisepkls/\" + str(pkl_folder_list[index])\n",
    "\n",
    "  newdata = filedata.replace(str(old_folder_path), str(new_folder_path))\n",
    "\n",
    "  f = open(\"/content/drive/MyDrive/tx_cts_prodpkl_collab.py\",'w')\n",
    "  f.write(newdata)\n",
    "  f.close()\n",
    "# replaced with new\n",
    "# now adding coounty name to file\n",
    "\n",
    "\n",
    "  !python3 drive/MyDrive/tx_cts_prodpkl_collab.py  | grep Accuracy* >> /content/drive/MyDrive/AccuracyForProds02162023.txt\n",
    "# replaced with nyyates\n",
    "  f = open(\"/content/drive/MyDrive/tx_cts_prodpkl_collab.py\",'r')\n",
    "  filedata = f.read()\n",
    "  f.close()\n",
    "\n",
    "  with open(\"/content/drive/MyDrive/AccuracyForProds02162023.txt\", 'a') as f:\n",
    "    f.write(\"County Name = \" + str(county_name))\n",
    "    f.write(\" : PKL Folder Name = \" + str(new_folder_path) + \" \\n\")\n",
    "    f.close()\n",
    "\n",
    "\n",
    "  newdata = filedata.replace(str(new_county),str(old_county))\n",
    "\n",
    "  f = open(\"/content/drive/MyDrive/tx_cts_prodpkl_collab.py\",'w')\n",
    "  f.write(newdata)\n",
    "  f.close()\n",
    "\n",
    "  f = open(\"/content/drive/MyDrive/tx_cts_prodpkl_collab.py\",'r')\n",
    "  filedata = f.read()\n",
    "  f.close()\n",
    "\n",
    "  newdata = filedata.replace(str(new_folder_path), str(old_folder_path))\n",
    "\n",
    "  f = open(\"/content/drive/MyDrive/tx_cts_prodpkl_collab.py\",'w')\n",
    "  f.write(newdata)\n",
    "  f.close()\n"
   ]
  },
  {
   "cell_type": "code",
   "execution_count": null,
   "metadata": {
    "colab": {
     "base_uri": "https://localhost:8080/"
    },
    "collapsed": true,
    "id": "iTCknwv8MX15",
    "jupyter": {
     "outputs_hidden": true
    },
    "outputId": "2094cbe0-5cf1-405c-8388-227cedecb707"
   },
   "outputs": [
    {
     "name": "stdout",
     "output_type": "stream",
     "text": [
      "[nltk_data] Downloading package omw-1.4 to /root/nltk_data...\n",
      "[nltk_data]   Package omw-1.4 is already up-to-date!\n",
      "[nltk_data] Downloading package omw-1.4 to /root/nltk_data...\n",
      "[nltk_data]   Package omw-1.4 is already up-to-date!\n"
     ]
    }
   ],
   "source": [
    "!python3 drive/MyDrive/tx_cts_prodpkl_collab_staten.py  | grep Accuracy* >> /content/drive/MyDrive/AccuracyProdPKLS.txt"
   ]
  },
  {
   "cell_type": "code",
   "execution_count": null,
   "metadata": {
    "collapsed": true,
    "id": "3I3Vn1DVMYC6",
    "jupyter": {
     "outputs_hidden": true
    }
   },
   "outputs": [],
   "source": [
    "!python3"
   ]
  },
  {
   "cell_type": "code",
   "execution_count": null,
   "metadata": {
    "colab": {
     "base_uri": "https://localhost:8080/",
     "height": 130
    },
    "collapsed": true,
    "id": "M8nsq7IjMYL8",
    "jupyter": {
     "outputs_hidden": true
    },
    "outputId": "1814bbdb-70b9-47fc-c766-72b50b92f15b"
   },
   "outputs": [
    {
     "ename": "SyntaxError",
     "evalue": "ignored",
     "output_type": "error",
     "traceback": [
      "\u001b[0;36m  File \u001b[0;32m\"<ipython-input-12-2694fdc2a195>\"\u001b[0;36m, line \u001b[0;32m1\u001b[0m\n\u001b[0;31m    mkdir '/content/drive/MyDrive/pkls/countywisepkls/njmercer/';\u001b[0m\n\u001b[0m          ^\u001b[0m\n\u001b[0;31mSyntaxError\u001b[0m\u001b[0;31m:\u001b[0m invalid syntax\n"
     ]
    }
   ],
   "source": []
  },
  {
   "cell_type": "code",
   "execution_count": null,
   "metadata": {
    "collapsed": true,
    "id": "7pEUMEk7MYVL",
    "jupyter": {
     "outputs_hidden": true
    }
   },
   "outputs": [],
   "source": []
  },
  {
   "cell_type": "code",
   "execution_count": null,
   "metadata": {
    "collapsed": true,
    "id": "HMnIhlEjMYh5",
    "jupyter": {
     "outputs_hidden": true
    }
   },
   "outputs": [],
   "source": []
  },
  {
   "cell_type": "code",
   "execution_count": null,
   "metadata": {
    "collapsed": true,
    "id": "CYr24nYnMYlR",
    "jupyter": {
     "outputs_hidden": true
    }
   },
   "outputs": [],
   "source": []
  }
 ],
 "metadata": {
  "colab": {
   "provenance": []
  },
  "kernelspec": {
   "display_name": "Python 3 (ipykernel)",
   "language": "python",
   "name": "python3"
  },
  "language_info": {
   "codemirror_mode": {
    "name": "ipython",
    "version": 3
   },
   "file_extension": ".py",
   "mimetype": "text/x-python",
   "name": "python",
   "nbconvert_exporter": "python",
   "pygments_lexer": "ipython3",
   "version": "3.11.7"
  },
  "widgets": {
   "application/vnd.jupyter.widget-state+json": {
    "state": {},
    "version_major": 2,
    "version_minor": 0
   }
  }
 },
 "nbformat": 4,
 "nbformat_minor": 4
}
