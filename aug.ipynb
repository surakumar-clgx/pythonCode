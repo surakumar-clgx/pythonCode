{
 "cells": [
  {
   "cell_type": "markdown",
   "id": "30e369e6",
   "metadata": {
    "deletable": true,
    "editable": true,
    "frozen": false,
    "jp-MarkdownHeadingCollapsed": true
   },
   "source": [
    "# august"
   ]
  },
  {
   "cell_type": "code",
   "execution_count": null,
   "id": "14c028c6",
   "metadata": {
    "deletable": true,
    "editable": true,
    "frozen": false
   },
   "outputs": [],
   "source": [
    "import spacy"
   ]
  },
  {
   "cell_type": "code",
   "execution_count": null,
   "id": "47a9b51a",
   "metadata": {
    "deletable": true,
    "editable": true,
    "frozen": false
   },
   "outputs": [],
   "source": [
    "import os\n",
    "from concurrent.futures import ThreadPoolExecutor\n",
    "from time import perf_counter, sleep\n",
    "\n",
    "import pandas as pd\n",
    "\n",
    "start = perf_counter()\n",
    "\n",
    "# This is the input  folder\n",
    "# path=r\"\\\\filer-argentina-dev\\Argentina\\Shared Folder\\Manikanda Gokul\\Dec 2023\\\\\"\n",
    "path = r\"C:\\Users\\surakumar\\OneDrive - CoreLogic Solutions, LLC\\Downloads\\aug\\\\\"\n",
    "\n",
    "file_name = [file for file in os.listdir(path) if file.startswith(\"aug\")]\n",
    "\n",
    "# for i in file_name\n",
    "#    print(\"vis\",\"s.no \",i,\"  \",file_name[i])\n",
    "\n",
    "pd1 = pd.DataFrame()\n",
    "p = 1\n",
    "for i in file_name:\n",
    "    print(i)\n",
    "    # vishnu excelfile\n",
    "    # print(\"v - \",i)\n",
    "    xls = pd.ExcelFile(rf\"{path}{i}\")\n",
    "\n",
    "    n = pd.read_excel(xls, sheet_name=\"field_level_data\")\n",
    "    pd1 = pd.concat([pd1, n], axis=0)\n",
    "    # print(\"v -\",pd1)\n",
    "    print(f\"{p}---\", n.shape)\n",
    "    print(pd1.shape)\n",
    "    p += 1\n",
    "\n",
    "print(pd1.shape)\n",
    "\n",
    "end = perf_counter()\n",
    "\n",
    "print(\"time---\", end - start)"
   ]
  },
  {
   "cell_type": "code",
   "execution_count": null,
   "id": "2bb5740f",
   "metadata": {
    "deletable": true,
    "editable": true,
    "frozen": false
   },
   "outputs": [],
   "source": [
    "import pandas as pd"
   ]
  },
  {
   "cell_type": "code",
   "execution_count": null,
   "id": "94788e74",
   "metadata": {
    "deletable": true,
    "editable": true,
    "frozen": false
   },
   "outputs": [],
   "source": [
    "pd1 = pd.read_csv(\"aug_filed_level_data.csv\")"
   ]
  },
  {
   "cell_type": "code",
   "execution_count": null,
   "id": "264aa2aa",
   "metadata": {
    "deletable": true,
    "editable": true,
    "frozen": false
   },
   "outputs": [],
   "source": [
    "pd1.head()"
   ]
  },
  {
   "cell_type": "markdown",
   "id": "560da9a6",
   "metadata": {
    "deletable": true,
    "editable": true,
    "frozen": false
   },
   "source": [
    "pd1.to_csv(\"aug_filed_level_data.csv\")"
   ]
  },
  {
   "cell_type": "code",
   "execution_count": null,
   "id": "93e2bb96",
   "metadata": {
    "deletable": true,
    "editable": true,
    "frozen": false
   },
   "outputs": [],
   "source": [
    "v = pd1.copy()"
   ]
  },
  {
   "cell_type": "code",
   "execution_count": null,
   "id": "52cdd95e",
   "metadata": {
    "deletable": true,
    "editable": true,
    "frozen": false
   },
   "outputs": [],
   "source": [
    "v.shape"
   ]
  },
  {
   "cell_type": "code",
   "execution_count": null,
   "id": "d1f610d7",
   "metadata": {
    "deletable": true,
    "editable": true,
    "frozen": false
   },
   "outputs": [],
   "source": [
    "col_values = \"Buyer/Borrower Zip Code,Recording Page Number,Lender Zip Code,Recording Date,Lender Street Address,Parcel Map/Page,Buyer/Borrower Street Address,Loan Organization ID,Parcel Map/Book,Lender City,Tract/Subdivision Name,Buyer/Borrower City,Buyer/Borrower/Defendant 1 First Name Or Company Name,Property Zip Code,Buyer/Borrower/Defendant 1 Last Name Or Company Code,Document Title,Property Street Address (Part 1),Property Zip Code + 4,Buyer/Borrower/Defendant 3 Last Name,Lender/Lender First Name/Beneficiary/Company Name,Buyer/Borrower/Defendant 2 Last Name,Block,Buyer/Borrower State,Recording Book Number,Lender State,Lot,Document Number,Mortgage Amount,MIN/MERS Number,Loan Originator ID,Property City/Tax City,Loan Originator Name Abbreviation,Loan Number,Attorney Name,Buyer/Borrower 1 Vesting,Buyer/Borrower/Defendant 4 First Name (or Company Name),Buyer/Borrower/Defendant 4 Last Name,Buyer/Borrower/Defendant 2 First Name (or Company Name),Buyer/Borrower 1 Relationship Type,Buyer/Borrower/Defendant 3 First Name (or Company Name),Buyer/Borrower 3 Vesting,Buyer/Borrower 2 Vesting,Buyer/Borrower 2 Relationship Type,Buyer/Borrower 4 Vesting,Loan Organization ID 2,Lender Zip Code + 4,Buyer/Borrower Zip Code + 4,Unit Number (Legal Condominium Unit Number),Section,Range,Township/Municipality Code,Buyer/Borrower 3 Relationship Type,Buyer/Borrower 4 Relationship Type\".split(\n",
    "    \",\"\n",
    ")"
   ]
  },
  {
   "cell_type": "code",
   "execution_count": null,
   "id": "0888b4c1",
   "metadata": {
    "deletable": true,
    "editable": true,
    "frozen": false
   },
   "outputs": [],
   "source": [
    "v = v[v[\"Document_Type\"].isin([\" DEED OF TRUST\"])].sort_values(\"Document_Type\")"
   ]
  },
  {
   "cell_type": "code",
   "execution_count": null,
   "id": "7c144d7e",
   "metadata": {
    "deletable": true,
    "editable": true,
    "frozen": false
   },
   "outputs": [],
   "source": [
    "v.head()"
   ]
  },
  {
   "cell_type": "code",
   "execution_count": null,
   "id": "6d362868",
   "metadata": {
    "deletable": true,
    "editable": true,
    "frozen": false
   },
   "outputs": [],
   "source": [
    "len(set(v[\"Field\"].tolist()))"
   ]
  },
  {
   "cell_type": "markdown",
   "id": "511c8a34",
   "metadata": {
    "deletable": true,
    "editable": true,
    "frozen": false
   },
   "source": [
    "set(v[\"Field\"].tolist())"
   ]
  },
  {
   "cell_type": "code",
   "execution_count": null,
   "id": "07642fd3",
   "metadata": {
    "deletable": true,
    "editable": true,
    "frozen": false
   },
   "outputs": [],
   "source": [
    "f = [\n",
    "    \"1-4 Family Rider\",\n",
    "    \"APN 1\",\n",
    "    \"APN 2\",\n",
    "    \"APN 3\",\n",
    "    \"APN 4\",\n",
    "    \"APN 5\",\n",
    "    \"APN 6\",\n",
    "    \"APN 7\",\n",
    "    \"APN 8\",\n",
    "    \"APN Portion Indicator\",\n",
    "    \"APN Research Flag/On-Line Flag\",\n",
    "    \"Accommodation Flag\",\n",
    "    \"Adj Interest Rate Calculation Change\",\n",
    "    \"Adj Interest Rate Change Date\",\n",
    "    \"Adj Interest Rate Change Frequency\",\n",
    "    \"Adj Interest Rate Change Interval\",\n",
    "    \"Adj Interest Rate Change Percent Limit\",\n",
    "    \"Adj Interest Rate Index Type\",\n",
    "    \"Adj Interest Rate Interest Only\",\n",
    "    \"Adj Interest Rate Maximum Percentage\",\n",
    "    \"Adjustable Interest Rate First Interest Rate Change Cap\",\n",
    "    \"Adjustable Interest Rate Flag\",\n",
    "    \"Adjustable Interest Rate Look Back Period\",\n",
    "    \"Adjustable Interest Rate Payment Change Date\",\n",
    "    \"Amortization Term\",\n",
    "    \"Attorney Name\",\n",
    "    \"Block\",\n",
    "    \"Buyer Principal Company\",\n",
    "    \"Buyer Principal First Name\",\n",
    "    \"Buyer Principal Last Name\",\n",
    "    \"Buyer Principal Title\",\n",
    "    \"Buyer/Borrower 1 Percent Transferred\",\n",
    "    \"Buyer/Borrower 1 Relationship Type\",\n",
    "    \"Buyer/Borrower 1 Vesting\",\n",
    "    \"Buyer/Borrower 2 Percent Transferred\",\n",
    "    \"Buyer/Borrower 2 Relationship Type\",\n",
    "    \"Buyer/Borrower 2 Vesting\",\n",
    "    \"Buyer/Borrower 3 Relationship Type\",\n",
    "    \"Buyer/Borrower 3 Vesting\",\n",
    "    \"Buyer/Borrower 4 Relationship Type\",\n",
    "    \"Buyer/Borrower 4 Vesting\",\n",
    "    \"Buyer/Borrower City\",\n",
    "    \"Buyer/Borrower State\",\n",
    "    \"Buyer/Borrower Street Address\",\n",
    "    \"Buyer/Borrower Zip Code\",\n",
    "    \"Buyer/Borrower Zip Code + 4\",\n",
    "    \"Buyer/Borrower/Defendant 1 First Name Or Company Name\",\n",
    "    \"Buyer/Borrower/Defendant 1 Last Name Or Company Code\",\n",
    "    \"Buyer/Borrower/Defendant 2 First Name (or Company Name)\",\n",
    "    \"Buyer/Borrower/Defendant 2 Last Name\",\n",
    "    \"Buyer/Borrower/Defendant 3 First Name (or Company Name)\",\n",
    "    \"Buyer/Borrower/Defendant 3 Last Name\",\n",
    "    \"Buyer/Borrower/Defendant 4 First Name (or Company Name)\",\n",
    "    \"Buyer/Borrower/Defendant 4 Last Name\",\n",
    "    \"Construction Loan Flag (Y/N)\",\n",
    "    \"Credit Line/Equity Line Flag (A/B/C/E/L/P/R/S/T/V)\",\n",
    "    \"Document Number\",\n",
    "    \"Document Title\",\n",
    "    \"Filmtracker Source / Film ID Number\",\n",
    "    \"Foreign Address Part 1 (Address)\",\n",
    "    \"Foreign Address Part 2 (Province, City Postal Code)\",\n",
    "    \"Foreign Address Part 3 (Country)\",\n",
    "    \"Home Affordable Modification Agreement\",\n",
    "    \"Interest Rate\",\n",
    "    \"Legal Type\",\n",
    "    \"Lender City\",\n",
    "    \"Lender State\",\n",
    "    \"Lender Street Address\",\n",
    "    \"Lender Zip Code\",\n",
    "    \"Lender Zip Code + 4\",\n",
    "    \"Lender/Lender First Name/Beneficiary/Company Name\",\n",
    "    \"Lender/Lender Last Name/Beneficiary/Company Code\",\n",
    "    \"Loan Due Date (MMDD)\",\n",
    "    \"Loan Number\",\n",
    "    \"Loan Organization ID\",\n",
    "    \"Loan Organization ID 2\",\n",
    "    \"Loan Originator ID\",\n",
    "    \"Loan Originator Name Abbreviation\",\n",
    "    \"Loan Type (FHA/VA/SBA)\",\n",
    "    \"Lot\",\n",
    "    \"MERS Services Flag\",\n",
    "    \"MIN/MERS Number\",\n",
    "    \"Mailing/Property Address Indicator (P/M)\",\n",
    "    \"Matching Grant Deed/Original Book Number\",\n",
    "    \"Matching Grant Deed/Original Document Number\",\n",
    "    \"Matching Grant Deed/Original Page Number\",\n",
    "    \"Mortgage Amount\",\n",
    "    \"Multiple Parcel Indicator (Part 1)\",\n",
    "    \"Multiple Parcel Indicator (Part 2)\",\n",
    "    \"Original Recording Date/Contract Sales Date for Deed/Deed of Trust/Execution Date/Signature Date\",\n",
    "    \"Parcel\",\n",
    "    \"Parcel Map/Book\",\n",
    "    \"Parcel Map/Page\",\n",
    "    \"Pre Payment Date of Expiration (number of months)\",\n",
    "    \"Pre Payment Rider Indicator\",\n",
    "    \"Property City/Tax City\",\n",
    "    \"Property Street Address (Part 1)\",\n",
    "    \"Property Street Address (Part 2)\",\n",
    "    \"Property Zip Code\",\n",
    "    \"Property Zip Code + 4\",\n",
    "    \"Range\",\n",
    "    \"Recording Book Number\",\n",
    "    \"Recording Date\",\n",
    "    \"Recording Page Number\",\n",
    "    \"Section\",\n",
    "    \"Title Company Code\",\n",
    "    \"Title Company Name\",\n",
    "    \"Title Order/Escrow Order Abbreviation\",\n",
    "    \"Title Order/Escrow Order Number\",\n",
    "    \"Township/Municipality Code\",\n",
    "    \"Tract/Subdivision Name\",\n",
    "    \"Unit Number (Legal Condominium Unit Number)\",\n",
    "]"
   ]
  },
  {
   "cell_type": "code",
   "execution_count": null,
   "id": "dadea01a",
   "metadata": {
    "deletable": true,
    "editable": true,
    "frozen": false
   },
   "outputs": [],
   "source": [
    "v = v[v[\"Compare\"] == \"Y\"]"
   ]
  },
  {
   "cell_type": "code",
   "execution_count": null,
   "id": "131f8197",
   "metadata": {
    "deletable": true,
    "editable": true,
    "frozen": false
   },
   "outputs": [],
   "source": [
    "v = v[\n",
    "    [\"Document_Type\", \"Field\", \"Validated_Value\", \"Extracted_Value\", \"Compare\"]\n",
    "].drop_duplicates(\n",
    "    \"Field\", keep=\"first\"\n",
    ")  # .to_csv(\"DOT_fields_details.csv\")"
   ]
  },
  {
   "cell_type": "code",
   "execution_count": null,
   "id": "446f3426",
   "metadata": {
    "deletable": true,
    "editable": true,
    "frozen": false
   },
   "outputs": [],
   "source": [
    "v[v[\"Field\"].isin(col_values)].sort_values(\"Document_Type\").to_csv(\n",
    "    \"dot_fields_details.csv\"\n",
    ")"
   ]
  },
  {
   "cell_type": "code",
   "execution_count": null,
   "id": "a4116110",
   "metadata": {
    "deletable": true,
    "editable": true,
    "frozen": false
   },
   "outputs": [],
   "source": [
    "len(set(v[\"Document_Type\", \"Field\"].tolist()))"
   ]
  },
  {
   "cell_type": "code",
   "execution_count": null,
   "id": "4be85146",
   "metadata": {
    "deletable": true,
    "editable": true,
    "frozen": false
   },
   "outputs": [],
   "source": [
    "v = v.drop_duplicates(keep=\"first\")"
   ]
  },
  {
   "cell_type": "code",
   "execution_count": null,
   "id": "66b33191",
   "metadata": {
    "deletable": true,
    "editable": true,
    "frozen": false
   },
   "outputs": [],
   "source": [
    "v = v[v[\"Deed_Category\"].isin([\" T\"])]"
   ]
  },
  {
   "cell_type": "code",
   "execution_count": null,
   "id": "7fef2f06",
   "metadata": {
    "deletable": true,
    "editable": true,
    "frozen": false
   },
   "outputs": [],
   "source": [
    "v = v[v[\"Document_Type\"].isin([\" DEED OF TRUST\"])]"
   ]
  },
  {
   "cell_type": "markdown",
   "id": "ebff099d",
   "metadata": {
    "deletable": true,
    "editable": true,
    "frozen": false
   },
   "source": [
    "v[v[\"State_Code\"].isin([' FL',' MD',' OH',' CA',' TX'])][[\"Batch_ID\",\"State_Code\"]].to_csv(r'\\\\filer-argentina-dev\\Argentina\\Shared Folder\\Suraj\\aug_mortgage.csv')"
   ]
  },
  {
   "cell_type": "code",
   "execution_count": null,
   "id": "6d4a188a",
   "metadata": {
    "deletable": true,
    "editable": true,
    "frozen": false
   },
   "outputs": [],
   "source": [
    "set(v[\"State_Code\"].tolist())"
   ]
  },
  {
   "cell_type": "code",
   "execution_count": null,
   "id": "b478cd47",
   "metadata": {
    "deletable": true,
    "editable": true,
    "frozen": false
   },
   "outputs": [],
   "source": [
    "v[v[\"State_Code\"].isin([\" TX\"])][\"Batch_ID\"].to_csv(\n",
    "    r\"\\\\filer-argentina-dev\\Argentina\\Shared Folder\\Suraj\\tx_dot.csv\"\n",
    ")"
   ]
  },
  {
   "cell_type": "code",
   "execution_count": null,
   "id": "13d11668",
   "metadata": {
    "deletable": true,
    "editable": true,
    "frozen": false,
    "scrolled": true
   },
   "outputs": [],
   "source": [
    "set(v[v[\"State_Code\"].isin([\" TX\"])][\"Batch_ID\"].tolist())"
   ]
  },
  {
   "cell_type": "code",
   "execution_count": null,
   "id": "d905dd4e",
   "metadata": {
    "deletable": true,
    "editable": true,
    "frozen": false
   },
   "outputs": [],
   "source": [
    "set(v[v[\"State_Code\"].isin([\" MD\"])][\"Batch_ID\"].tolist())"
   ]
  },
  {
   "cell_type": "code",
   "execution_count": null,
   "id": "c843d0ae",
   "metadata": {
    "deletable": true,
    "editable": true,
    "frozen": false
   },
   "outputs": [],
   "source": [
    "set(v[v[\"State_Code\"].isin([\" CA\"])][\"Batch_ID\"].tolist())"
   ]
  },
  {
   "cell_type": "code",
   "execution_count": null,
   "id": "746d2147",
   "metadata": {
    "deletable": true,
    "editable": true,
    "frozen": false
   },
   "outputs": [],
   "source": [
    "set(v[v[\"State_Code\"].isin([\" TX\"])][\"Batch_ID\"].tolist())"
   ]
  },
  {
   "cell_type": "code",
   "execution_count": null,
   "id": "86b135cb",
   "metadata": {
    "deletable": true,
    "editable": true,
    "frozen": false
   },
   "outputs": [],
   "source": [
    "v = pd1.copy()\n",
    "v = v.drop_duplicates(keep=\"first\")\n",
    "# v = v[v[\"Field\"].isin(['Buyer/Borrower/Defendant 1 First Name Or Company Name','Buyer/Borrower/Defendant 1 Last Name Or Company Code','Seller 1 First name','Seller 1 Last name'])]\n",
    "# v = v[v[\"Field\"].isin(['Property Street Address (Part 1)','Property Street Address (Part 2)'])]\n",
    "\n",
    "# v = v[v[\"Deed_Category\"].isin([' G',' Q'])]\n",
    "# v = v[v[\"State_Code\"].isin([' FL',' MD',' OH',' CA',' TX'])]\n",
    "v = v[v[\"State_Code\"].isin([\"TX\"])]\n",
    "# print(\"state code:\",v)\n",
    "v = v[v[\"Document_Type\"].isin([\"MORTGAGE\"])]\n",
    "print(\"Document_Type:\", v)\n",
    "\n",
    "v = v[v[\"Deed_Category\"].isin([\" T\"])]\n",
    "v = v[v[\"Compare\"] == \"Y\"]\n",
    "\n",
    "# v\n",
    "\n",
    "df2 = v[\"Batch_ID\"]\n",
    "df2.to_csv(r\"\\\\filer-argentina-dev\\Argentina\\Shared Folder\\Suraj\\aug_mortgage.csv\")\n",
    "\n",
    "\n",
    "# df2=v['Batch_ID']\n",
    "# #no .of fields\n",
    "# if df2.value_counts()==4:\n",
    "#     print(df2)\n",
    "\n",
    "\n",
    "# max.value_counts(dropna=false)\n",
    "# max"
   ]
  },
  {
   "cell_type": "code",
   "execution_count": null,
   "id": "197503c7",
   "metadata": {
    "deletable": true,
    "editable": true,
    "frozen": false
   },
   "outputs": [],
   "source": [
    "df2.head()"
   ]
  },
  {
   "cell_type": "code",
   "execution_count": null,
   "id": "5ecaf1c8",
   "metadata": {
    "deletable": true,
    "editable": true,
    "frozen": false
   },
   "outputs": [],
   "source": [
    "v[\"Document_Type\"]"
   ]
  },
  {
   "cell_type": "code",
   "execution_count": null,
   "id": "eaf2fc88",
   "metadata": {
    "deletable": true,
    "editable": true,
    "frozen": false
   },
   "outputs": [],
   "source": [
    "b = v[[\"Batch_ID\"]].values.tolist()"
   ]
  },
  {
   "cell_type": "code",
   "execution_count": null,
   "id": "4090f3d4",
   "metadata": {
    "deletable": true,
    "editable": true,
    "frozen": false
   },
   "outputs": [],
   "source": [
    "len(b)"
   ]
  },
  {
   "cell_type": "code",
   "execution_count": null,
   "id": "885ab31b",
   "metadata": {
    "deletable": true,
    "editable": true,
    "frozen": false
   },
   "outputs": [],
   "source": [
    "print(\",\".join(str(val[0]) for val in b[:999]))"
   ]
  },
  {
   "cell_type": "code",
   "execution_count": null,
   "id": "06a44394",
   "metadata": {
    "deletable": true,
    "editable": true,
    "frozen": false
   },
   "outputs": [],
   "source": [
    "\",\".join(str(val[0]) for val in b[999:1999])"
   ]
  },
  {
   "cell_type": "code",
   "execution_count": 61,
   "id": "daf4e42d",
   "metadata": {
    "deletable": true,
    "editable": true,
    "frozen": false
   },
   "outputs": [],
   "source": [
    "b = [\n",
    "    46927782,\n",
    "    46927770,\n",
    "    46801562,\n",
    "    46470813,\n",
    "    46927788,\n",
    "    46801278,\n",
    "    46885478,\n",
    "    46801588,\n",
    "    46564606,\n",
    "    47247130,\n",
    "    46564694,\n",
    "    46927707,\n",
    "    46927777,\n",
    "    46927762,\n",
    "    46801447,\n",
    "    46927765,\n",
    "]"
   ]
  },
  {
   "cell_type": "code",
   "execution_count": 1,
   "id": "89a29d92-e144-4a0e-aefe-51fe5b88f7aa",
   "metadata": {
    "deletable": true,
    "editable": true,
    "frozen": false
   },
   "outputs": [],
   "source": [
    "b = [2632855,2632854,2632853,2632851,2632848,2632847,2632845,2628745,2628740]"
   ]
  },
  {
   "cell_type": "markdown",
   "id": "b78a4544-30bd-4c6b-9b22-750d3bad650e",
   "metadata": {
    "deletable": true,
    "editable": true,
    "frozen": false
   },
   "source": [
    "# Parellel download"
   ]
  },
  {
   "cell_type": "code",
   "execution_count": 1,
   "id": "f7d630b7-ecd0-4f82-8576-eae064f51a90",
   "metadata": {
    "deletable": true,
    "editable": true,
    "frozen": false
   },
   "outputs": [],
   "source": [
    "from pathlib import Path\n",
    "from urllib.request import urlretrieve"
   ]
  },
  {
   "cell_type": "code",
   "execution_count": 2,
   "id": "a5b0d16a-fbd6-43b3-a058-3660d462fa6e",
   "metadata": {
    "deletable": true,
    "editable": true,
    "frozen": false
   },
   "outputs": [],
   "source": [
    "from concurrent.futures import ThreadPoolExecutor"
   ]
  },
  {
   "cell_type": "markdown",
   "id": "38d935b9-506f-4bb3-b668-525959a5ad1a",
   "metadata": {
    "deletable": true,
    "editable": true,
    "frozen": false
   },
   "source": [
    "zip_path = fr\"{path}\\{batchid\"\n",
    "k = urlretrieve(rf\"https://clvisiontowerb.kfusw1prd.solutions.corelogic.com//download.php?path=ServerFiles/Pagesanddata/{batchid}/&zip={batchid}.zip&cond=Postprocessing&auto=Off\", f\"{zip_path}.zip\")"
   ]
  },
  {
   "cell_type": "code",
   "execution_count": 8,
   "id": "50aa3798-7cf3-46a3-bcde-e07cfa1b0aa0",
   "metadata": {
    "deletable": true,
    "editable": true,
    "frozen": false
   },
   "outputs": [],
   "source": [
    "# for i, f in enumerate(folder.glob(\"**/*.txt\")):\n",
    "i=1\n",
    "def helper(batchid):\n",
    "    zip_path = f\"ok_retest/{batchid}.zip\"\n",
    "    k = urlretrieve(\n",
    "        rf\"https://clvisiontowerb.kfusw1prd.solutions.corelogic.com//download.php?path=ServerFiles/Pagesanddata/{batchid}/&zip={batchid}.zip&cond=Postprocessing&auto=Off\",zip_path,\n",
    "        # rf\"https://dev-ctt-googlevision-clvisiontowerb.kfusw1dev.solutions.corelogic.com/download.php?path=ServerFiles/Pagesanddata/{batchid}/&zip={batchid}.zip&cond=Postprocessing&auto=Off\",zip_path\n",
    "    )\n",
    "    print(f\"{zip_path = }\")\n",
    "    print(zip_path.stat().st_size / 1024)\n",
    "    print(\"=====================\")\n",
    "    print(i, k)\n",
    "    i+=1"
   ]
  },
  {
   "cell_type": "code",
   "execution_count": 61,
   "id": "52e68337-84e7-4ed4-a3a5-697c58404f81",
   "metadata": {},
   "outputs": [],
   "source": [
    "nj_batch =[2848835,2848832,2848823,2848816,2848810,2848809,2848808,2848807,2848800,2848798,2848792,2848791,2578415,2848797,2848815,2848804,2848831,2848822,2848818,2848801,2848790,2848795,2848794,2848821,2848813,2849146,2849131,2849128,2849129,2849122,2849117,2849130,2849113,2849114,2849109,2849095,2849086,2849080,2849073,2849060,2849058,2849052,2849033,2849018,2849017,2848999,2848975,2848965,2848955,2848952,2849457,2849454,2849430,2849421,2849397,2849349,2849347,2849333,2849325,2849323,2849306,2849293,2849289,2849288,2849298,2849292,2849289,2849287,2849283,2849391,2849389,2849383,2849345,2849312,2849301,2848913,2848912,2848911,2848910,2848909,2848907,2848902,2848898,2848899,2848881,2848882,2848880,2848870,2848867,2848875,2848876,2848879,2848878,2848871,2848889,2848897,2848903,2848894,2848885,2848891,2849886,2849884,2849878,2849879,2849876,2849883,2849874,2849876,2849863,2849861,2849856,2849838,2849882,2849875,2849864,2849862,2849852,2849851,2849850,2849835,2849833,2849667,2849647,2849646,2849645,2849788,2849778,2849776,2849770,2849762,2849760,2849758,2849752,2849732,2849740,2849736,2849742,2849732,2849724,2849708,2849698,2849692,2849575,2849579,2849567,2849564,2849557,2849555,2849548,2849543,2851069,2851063,2851024,2851019,2851012,2851006,2850999,2850998,2850988,2850987,2850985,2850983,2850974,2850955,2850956,2850949,2850953,2850936,2850948,2850960,2850965,2850967,2850969,2850989,2850995,2849968,2849970,2849971,2849985,2849975,2849991,2850012,2850015,2850030,2850027,2850048,2850210,2850224,2850223,2850228,2850236,2850237,2850238,2850240,2850245,2850251,2850252,2850254,2850279,2850287,2850121,2850129,2850143,2850151,2850161,2850155,2850177,2850181,2850334,2850356,2850374,2850396,2850414,2850442,2850592,2850606,2850614,2850608,2850632,2850648,2850654,2850676,2850695,2850652,2850679]"
   ]
  },
  {
   "cell_type": "code",
   "execution_count": 62,
   "id": "50fbaf64-dc77-4b25-9d4c-c5f7475079ef",
   "metadata": {},
   "outputs": [],
   "source": [
    "mo_batch = [2843406,2843405,2843404,2843403,2843401,2843402,2843400,2843399,2843398,2843397,2843396,2843395,2843394,2843393,2843392,2843391,2843390,2843389,2843374,2843368,2843373,2843369,2843375,2843380,2843388,2843567,2843568,2843565,2843566,2843564,2843562,2843561,2843557,2843555,2843556,2843559,2843545,2843531,2843520,2843521,2843502,2843498,2843486,2843483,2843498,2843496,2843492,2843494,2843500,2843465,2843423,2843422,2843421,2843420,2843419,2843418,2843413,2843409,2843412,2843417,2843416,2843415,2843411,2843410,2843744,2843743,2843742,2843741,2843740,2843739,2843738,2848202,2848197,2848200,2848194,2843715,2843713,2843712,2843711,2843710,2843709,2843708,2843707,2843714,2843703,2843702,2843704,2843695,2843691,2843686,2843682,2843674,2843670,2843668,2843662,2843660,2843665,2843663,2843641,2843631,2843725,2843723,2843722,2843724,2843721,2843720,2848227,2848226,2848224,2848220,2848218,2848225,2848223,2848219,2848217,2848215,2848216,2848221,2848214,2848210,2848209,2848208,2848207,2848203,2848206,2843429,2843428,2843427,2843426,2843425,2843424,2843799,2843798,2843797,2843796,2843795,2843794,2843793,2843792,2843791,2843790,2543504,2848241,2848240,2848238,2848236,2848233,2848234,2848232,2848229,2843449,2843448,2843447,2843802,2843801,2843800,2848250,2848249,2848247,2848246,2848245,2848262,2848261,2848260,2848259,2848258,2848257,2848256,2848255,2848254,2848267,2848272,2848271,2848268,2848270,2843614,2843613,2843612,2843611,2843610,2843609,2843608,2843607,2843606,2843605,2843604,2843603,2843602,2843601,2843599,2843598,2843597,2843595,2843591,2843594,2843581,2843582,2843600,2843584,2578153,2845826,2845825,2845824,2845709,2845706,2845683,2845674,2845672,2845673,2845671,2845621,2845435,2845441,2845401,2845361,2845403,2845393,2845359,2845358,2845344,2845343,2845342,2845331,2845170,2845142,2843446,2843445,2843444,2843443,2843442,2843441,2843440,2843439,2843438,2843437,2843435,2848281,2848280,2848275,2848276,2848278,2848277,2848309,2848308,2848306,2848304,2848301,2848307,2848303,2848305,2848188,2848185,2848184,2848183,2848180,2848179,2848177,2848175,2848174,2848164,2848157,2848151,2848140,2848136,2848137,2848135,2848130,2848124,2848119,2848116,2848105,2848103,2848097,2848096,2848090,2843579,2843578,2843576,2843575,2843577,2843574,2843573,2843572,2843737,2843736,2843735,2843734,2843726,2843732,2843728,2848316,2848314,2848313,2848317,2848316,2848319,2848330,2848329,2848328,2848323,2843961,2843960,2843959,2843958,2843957,2843950,2843949,2843931,2843929,2843915,2843908,2843906,2843900,2843895,2843884,2843871,2843843,2843833,2843905,2843888,2843877,2843867,2843863,2843837,2843831,2843459,2843463,2843462,2843456,2843453,2843461,2843460,2843451,2848401,2848363,2848367,2848366,2848595,2848593,2848592,2848594,2848627,2848626,2848625,2848624,2848622,2848620,2848619,2848618,2848621,2844301,2844303,2844300,2844296,2844289,2844288,2844280,2844276,2844279,2844273,2844266,2844264,2844263,2844255,2844248,2844237,2844234,2844231,2844225,2844213,2844206,2844205,2844191,2844176,2844167,2847293,2847292,2847291,2847289,2847290,2847287,2847283,2847281,2847276,2847275,2847271,2847268,2847262,2847256,2847255,2847257,2847249,2847243,2847169,2847159,2847165,2847149,2847133,2847121,2847101,2848637,2848640,2848634,2848633,2848636,2848628,2848644,2848646,2848641,2848643,2848642,2848632,2848653,2848649,2848645,2848685,2848695,2848692,2848693,2848680,2848679,2848676,2848672,2848671,2848687]"
   ]
  },
  {
   "cell_type": "code",
   "execution_count": 66,
   "id": "74a8b934-6e35-4c16-9cae-a0b42d5e8b53",
   "metadata": {},
   "outputs": [],
   "source": [
    "co_batch = [2998329,2998328,2998327,2998323,2998326,2998325,2998324,2998318,2998321,2998319,2998243,2998238,2998242,2998235,2998236,2998248,2998245,2998239,2998237,2998251,2998249,2998257,2998263,2998264,2998265,2994754,2994753,2994749,2994747,2994734,2994733,2994744,2994743,2994737,2994728,2994740,2994730,2994700,2994697,2994636,2994699,2994634,2994582,2994578,2994576,2994549,2994547,2994525,2994522,2994530,2998414,2998415,2998432,2998409,2998381,2998374,2998356,2998372,2998375,2998382,2998408,2998380,2998376,2998354,2998418,2998427,2998399,2998396,2998388,2998413,2998412,2998340,2998333,2998339,2998343,2998531,2998529,2998506,2998502,2998489,2998443,2998501,2998456,2998476,2998484,2998485,2998486,2998496,2998503,2998479,2998514,2998462,2998438,2998435,2998499,2998505,2998492,2998482,2998493,2998511,2998649,2998647,2998645,2998627,2998621,2998623,2998641,2998635,2998643,2998613,2998610,2998604,2998601,2998606,2998597,2998589,2998583,2998561,2998557,2998545,2998534,2998543,2998546,2998549,2998562,2997961,2997955,2997952,2997919,2997895,2997892,2997889,2997886,2997874,2997880,2997871,2997865,2997862,2997829,2997816,2997798,2997794,2997810,2997760,2997754,2997738,2997766,2997762,2997786,2997780,2995394,2995393,2995392,2995385,2995390,2995380,2995377,2995389,2995383,2995382,2995372,2995240,2995234,2995232,2995378,2995224,2995381,2994875,2995166,2995210,2994563,2994429,2994686,2994914,2994647,2993663,2993664,2998210,2998208,2998206,2998204,2998198,2998182,2998194,2998180,2993761,2993756,2993755,2993757,2993751,2993749,2993753,2993758,2993748,2993717,2993713,2993714,2993715,2996539,2996538,2995418,2995417,2995416,2995415,2995414,2995410,2995413,2995271,2995400,2995271,2995207,2995205,2995189,2995199,2995185,2995225,2995153,2994922,2994931,2994947,2995239,2995237,2995247,2995252,2995254,2995715,2995714,2995712,2995703,2995709,2995689,2995686,2995693,2995661,2995645,2995710,2995705,2995697,2995549,2995473,2995294,2995575,2995437,2995450,2995481,2995582,2995546,2995742,2995734,2995731,2993835,2993833,2993828,2993834,2993830,2993826,2993823,2993770,2993771,2993767,2993768,2993787,2993789,2993777,2993776,2993804,2993802,2993821,2993812,2993829,2993822,2993798,2993799,2993797,2993774,2997293,2997291,2997286,2997285,2997279,2997263,2997249,2997243,2997247,2997240,2997210,2997193,2997191,2997197,2997198,2997119,2997126,2997116,2997124,2997118,2997111,2997104,2997088,2997096,2997094,2995807,2995806,2995805,2995801,2995799,2995796,2995795,2995750,2995749,2995746,2995743,2995752,2995753,2995751,2995757,2995758,2995748,2995745,2995761,2995775,2995772,2995774,2995777,2995784,2995780,2994293,2994292,2994290,2994291,2994289,2994287,2994283,2994286,2994277,2994267,2994263,2994261,2994251,2994233,2994226,2994227,2994225,2994234,2994281,2994259,2994245,2994284,2994240,2994241,2994219,2997064,2997065,2997059,2997062,2997036,2997056,2997034,2997021,2996995,2996994,2996992,2996957,2996944,2996935,2996942,2996921,2996901,2996904,2996894,2996892,2996910,2996884,2996870,2996858,2996866,2993707,2993705,2993695,2993708,2993704,2993696,2993693,2993691,2993690,2993688,2993687,2993686,2993685,2993684,2993683,2993682,2993681,2993680,2993677,2993676,2993675,2993674,2993710,2993712,2993711,2993672,2993665,2993666,2993668,2993670,2993671,2993667,2993669,2993723,2993722,2993721,2993720,2998849,2998848,2998837,2998832,2998847,2998846,2998844,2998835,2998836,2998859,2998860,2998856,2998850,2998729,2998728,2998727,2998719,2998715,2998714,2998726,2998707,2998618,2998622,2998630,2998640,2998644,2998648,2998646,2998638,2998636,2998652,2998664,2998660,2998650,2998673,2998672,2998680,2998678,2994187,2994183,2994177,2994175,2994168,2994167,2994148,2994165,2994171,2994118,2994120,2994144,2994142,2994114,2994122,2994112,2994108,2994138,2994146,2994158,2994156,2994154,2994152,2994150,2994110,2995034,2995026,2995021,2995019,2995013,2995032,2995010,2995006,2995000,2994987,2994986,2994984,2994996,2994998,2994999,2994974,2994979,2994980,2994970,2994960,2994909,2994936,2994912,2994903,2994924,2998889,2998887,2998888,2998882,2998885,2998884,2998883,2998881,2998880,2998878,2998872,2994266,2994278,2994274,2994282,2998901,2998906,2998905,2998902,2998912,2998904,2998910,2998899,2998908,2995071,2995070,2995069,2995068,2995065,2995063,2995062,2995059,2995058,2995057,2995056,2995055,2995054,2995053,2995043,2995052,2995050,2995048,2995051,2995041,2995042,2995045,2995049,2995047,2995044,2995046,2998022,2998019,2998015,2998003,2997911,2997692,2997662,2997839,2997932,2997725,2997660,2997866,2997665,2997686,2997712,2997926,2997987,2997979,2997661,2997701,2998006,2997993,2998013,2997710,2997709,2998819,2998798,2998767,2998823,2998796,2998751,2998795,2998809,2998815,2998812,2998790,2998771,2998749,2998772,2998775,2998747,2998813,2998828,2998830,2998822,2998824,2998752,2998748,2998753,2998759,2998125,2998124,2998123,2998121,2998122,2998120,2998119,2998116,2998115,2998088,2998089,2998090,2998092,2998091,2998095,2998096,2998099,2998097,2998100,2998108,2998109,2998104,2998107,2998106,2998098,2997055,2997054,2997053,2997052,2997051,2997049,2997043,2997044,2997045,2997046,2997048,2999224,2999296,2999282,2999280,2999270,2999246,2999199,2999084,2999234,2999072,2999217,2999157,2999080,2999236,2999216,2999210,2999201,2999195,2999168,2999079,2999016,2999221,2999204,2999189,2999177,2999099,2999263,2999227,2999186,2999019,2999123,2999229,2999049,2999025,2999111,2999040,2999247,2999235,2999183,2999010,2999008,2999006,2999002,2998992,2998964,2998944,2998936,2998948,2998938,2998925,2998917,2998940,2998916,2998913,2998927,2998929,2998915,2998986,2998934,2998921,2998952,2998958,2998924,2998919,2999218,2999206,2999170,2999161,2999155,2999141,2999125,2999089,2999062,2999050,2999035,2999041,2999038,2999020,2999009,2999001,2998989,2998987,2998985,2998969,2998949,2998941,2999032,2998983,2999185]"
   ]
  },
  {
   "cell_type": "code",
   "execution_count": 4,
   "id": "e49d8586-5bee-43d7-8674-9d77462cc226",
   "metadata": {},
   "outputs": [],
   "source": [
    "pa_batch = [3066232,3066230,3066229,3066215,3066209,3066204,3066196,3066191,3066190,3066192,3066176,3066178,3066182,3066165,3066175,3066177,3066172,3066171,3066228,3066231,3066224,3066213,3066212,3066205,3066195,3066445,3066442,3066435,3066429,3066422,3066424,3066418,3066409,3066398,3066399,3066392,3066379,3066367,3066393,3066461,3066458,3066459,3066460,3066433,3066415,3066408,3066394,3066388,3066377,3066361,3066777,3066775,3066773,3066770,3066761,3066760,3066759,3066762,3066753,3066750,3066745,3066736,3066732,3066725,3066730,3066743,3066723,3066748,3066744,3066738,3066726,3066721,3066752,3066767,3066771,3066826,3066823,3066816,3066810,3066814,3066806,3066805,3066809,3066799,3066801,3066791,3066794,3066793,3066787,3066785,3066798,3066802,3066813,3066786,3066820,3066804,3066808,3066803,3066815,3066807,3066160,3066159,3066153,3066145,3066144,3066141,3066140,3066131,3066134,3066133,3066132,3066142,3066152,3068288,3068287,3068286,3068283,3068284,3068275,3068273,3068280,3068281,3068277,3068276,3068272,3068298,3068296,2582386,3066717,3066709,3066697,3066692,3066689,3066687,3066680,3066679,3066677,3066685,3066682,3068322,3068321,3068320,3068344,3068343,3068342,3068338,3068370,3068364,3068363,3068368,3066673,3066672,3066667,3066664,3066660,3066657,3066649,3066628,3066620,3066610,3066609,3066592,3066590,3066589,3066586,3066578,3066616,3066583,3066571,3066520,3066491,3066492,3066636,3066666,3066663,3066884,3066832,3066834,3066836,3066835,3066842,3066841,3066839,3066845,3066853,3066858,3066868,3066838,3066843,3066854,3068441,3068437,3068432,3068425,3068421,3068417,3068406,3068416,3068420,3068434,3068181,3068176,3068172,3068168,3068137,3068123,3068065,3068051,3068029,3068009,3067975,3067983,3067975,3067986,3068001,3067999,3067979,3068047,3068184,3068179,3068167,3068135,3067991,3068079,3068147,3068016,3068000,3068012,3068046,3068064,3068096,3068098,3068114,3068118,3068144,3068138,3068130,3068136,3068120,3068094,3068070,3068034,3068018,3068028,3068074,3068104,3068088,3068052,3068006,3068134,3067091,3067086,3067083,3067068,3067063,3067056,3067031,3067090,3067087,3067036,3066977,3067080,3067156,3067145,3067111,3067311,3067301,3067278,3067186,3067182,3067334,3067280,3067178,3067330,3067322,3069019,3069018,3069007,3068931,3068968,3068966,3068895,3068894,3068874,3068808,3069004,3068962,3068806,3068730,3068907,3068812,3068736,3068892,3068983,3068965,3069017,3068811,3068801,3068775,3068777,3067259,3067258,3067255,3067252,3067248,3067238,3067233,3067226,3067207,3067203,3067206,3067237,3067251,3067245,3067244,3067234,3067225,3067213,3067204,3067214,3067217,3067199,3067218,3067215,3067246,3067230,3066260,3066259,3066252,3066249,3066258,3066246,3066243,3066256,3068574,3068572,3068571,3068573,3068569,3069064,3069062,3069061,3069065,3069059,3069058,3069063,3069058,3069060,3069056,3066257,3066253,3066930,3066928,3066924,3066919,3066904,3066905,3066906,3066907,3066908,3066922,3066921,3066926,3066917,3066923,3066912,3066914,3066927,3069052,3069046,3069045,3069046,3069044,3069043,3069050,3069026,3067367,3067366,3067365,3067364,3067363,3067362,3067359,3067357,3067361,3067358,3067356,3067348,3067344,3068267,3068265,3068264,3068266,3068259,3068237,3068233,3068241,3068229,3068223,3068207,3068215,3066297,3066296,3066295,3066294,3066293,3066292,3066288,3066284,3066276,3066268,3066271,3069095,3069094,3069093,3069090,3069092,3069080,3069074,3069079,3069081,3069084,3069089,3069078,3069086,3069083,3067947,3067946,3067944,3067935,3067943,3067941,3067916,3067918,3067917,3067883,3067871,3067872,3067866,3067853,3067834,3067833,3067832,3067687,3067684,3067594,3067572,3067572,3067799,3067837,3067721,3067680,3067679,3067678,3067458,3067670,3067672,3067671,3067664,3067665,3067660,3067658,3067641,3067531,3067538,3067526,3067511,3067484,3067455,3067452,3067653,3067650,3067629,3067509,3067486,3067468,3067379,3067378,3067377,3067375,3067374,3067371,3067967,3067968,3067961,3067964,3067963,3067966,3069112,3069111,3069110,3069109,3069108,3069107,3069106,3069119,3069118,3069117,3069126,3069125,3069124]"
   ]
  },
  {
   "cell_type": "code",
   "execution_count": 9,
   "id": "c45fc7f4-1f1b-4641-9176-87b66b874549",
   "metadata": {},
   "outputs": [],
   "source": [
    "mgt = [51657967,51657978,51657969,51707933,51707932,51645671,51718167,51649306,51649309,51650310,51773891,51773802,51773961,50830664,50519141,50227196,51640356,51640675,51745717,51694306,51694021,51695203,50383508,51644251,51725504,51725501,55378567,55378714,55378735,54271641,55409462,55414087]"
   ]
  },
  {
   "cell_type": "code",
   "execution_count": 17,
   "id": "917579a0-2fe9-47b9-a43a-aa0cbe74957c",
   "metadata": {},
   "outputs": [],
   "source": [
    "mgt = [51701295,\n",
    "51700927,\n",
    "51701296,\n",
    "51700933,\n",
    "51700874,\n",
    "51701251,\n",
    "51700893,\n",
    "51701117,\n",
    "]\n",
    "\n",
    "mgt"
   ]
  },
  {
   "cell_type": "code",
   "execution_count": 18,
   "id": "bcbff151-7245-4e9a-a006-e26496e24b95",
   "metadata": {
    "deletable": true,
    "editable": true,
    "frozen": false
   },
   "outputs": [
    {
     "data": {
      "text/html": [
       "<pre style=\"white-space:pre;overflow-x:auto;line-height:normal;font-family:Menlo,'DejaVu Sans Mono',consolas,'Courier New',monospace\">zip_path = <span style=\"color: #008000; text-decoration-color: #008000\">'ok_retest/51701296.zip'</span>\n",
       "</pre>\n"
      ],
      "text/plain": [
       "zip_path = \u001b[32m'ok_retest/51701296.zip'\u001b[0m\n"
      ]
     },
     "metadata": {},
     "output_type": "display_data"
    },
    {
     "data": {
      "text/html": [
       "<pre style=\"white-space:pre;overflow-x:auto;line-height:normal;font-family:Menlo,'DejaVu Sans Mono',consolas,'Courier New',monospace\">zip_path = <span style=\"color: #008000; text-decoration-color: #008000\">'ok_retest/51701251.zip'</span>\n",
       "</pre>\n"
      ],
      "text/plain": [
       "zip_path = \u001b[32m'ok_retest/51701251.zip'\u001b[0m\n"
      ]
     },
     "metadata": {},
     "output_type": "display_data"
    },
    {
     "data": {
      "text/html": [
       "<pre style=\"white-space:pre;overflow-x:auto;line-height:normal;font-family:Menlo,'DejaVu Sans Mono',consolas,'Courier New',monospace\">zip_path = <span style=\"color: #008000; text-decoration-color: #008000\">'ok_retest/51701295.zip'</span>\n",
       "</pre>\n"
      ],
      "text/plain": [
       "zip_path = \u001b[32m'ok_retest/51701295.zip'\u001b[0m\n"
      ]
     },
     "metadata": {},
     "output_type": "display_data"
    },
    {
     "data": {
      "text/html": [
       "<pre style=\"white-space:pre;overflow-x:auto;line-height:normal;font-family:Menlo,'DejaVu Sans Mono',consolas,'Courier New',monospace\">zip_path = <span style=\"color: #008000; text-decoration-color: #008000\">'ok_retest/51701117.zip'</span>\n",
       "</pre>\n"
      ],
      "text/plain": [
       "zip_path = \u001b[32m'ok_retest/51701117.zip'\u001b[0m\n"
      ]
     },
     "metadata": {},
     "output_type": "display_data"
    },
    {
     "data": {
      "text/html": [
       "<pre style=\"white-space:pre;overflow-x:auto;line-height:normal;font-family:Menlo,'DejaVu Sans Mono',consolas,'Courier New',monospace\">zip_path = <span style=\"color: #008000; text-decoration-color: #008000\">'ok_retest/51700933.zip'</span>\n",
       "</pre>\n"
      ],
      "text/plain": [
       "zip_path = \u001b[32m'ok_retest/51700933.zip'\u001b[0m\n"
      ]
     },
     "metadata": {},
     "output_type": "display_data"
    },
    {
     "data": {
      "text/html": [
       "<pre style=\"white-space:pre;overflow-x:auto;line-height:normal;font-family:Menlo,'DejaVu Sans Mono',consolas,'Courier New',monospace\">zip_path = <span style=\"color: #008000; text-decoration-color: #008000\">'ok_retest/51700874.zip'</span>\n",
       "</pre>\n"
      ],
      "text/plain": [
       "zip_path = \u001b[32m'ok_retest/51700874.zip'\u001b[0m\n"
      ]
     },
     "metadata": {},
     "output_type": "display_data"
    },
    {
     "data": {
      "text/html": [
       "<pre style=\"white-space:pre;overflow-x:auto;line-height:normal;font-family:Menlo,'DejaVu Sans Mono',consolas,'Courier New',monospace\">zip_path = <span style=\"color: #008000; text-decoration-color: #008000\">'ok_retest/51700893.zip'</span>\n",
       "</pre>\n"
      ],
      "text/plain": [
       "zip_path = \u001b[32m'ok_retest/51700893.zip'\u001b[0m\n"
      ]
     },
     "metadata": {},
     "output_type": "display_data"
    },
    {
     "data": {
      "text/html": [
       "<pre style=\"white-space:pre;overflow-x:auto;line-height:normal;font-family:Menlo,'DejaVu Sans Mono',consolas,'Courier New',monospace\">zip_path = <span style=\"color: #008000; text-decoration-color: #008000\">'ok_retest/51700927.zip'</span>\n",
       "</pre>\n"
      ],
      "text/plain": [
       "zip_path = \u001b[32m'ok_retest/51700927.zip'\u001b[0m\n"
      ]
     },
     "metadata": {},
     "output_type": "display_data"
    }
   ],
   "source": [
    "with ThreadPoolExecutor(max_workers=500) as exe:\n",
    "    exe.map(helper,mgt)"
   ]
  },
  {
   "cell_type": "markdown",
   "id": "13b23cab-1baa-4ad3-9e42-a21bc7aa973b",
   "metadata": {
    "deletable": true,
    "editable": true,
    "frozen": false,
    "jp-MarkdownHeadingCollapsed": true
   },
   "source": [
    "# Serialwise download"
   ]
  },
  {
   "cell_type": "code",
   "execution_count": 3,
   "id": "269adb7b-668e-47ad-b2e8-e39f21cf0946",
   "metadata": {
    "deletable": true,
    "editable": true,
    "frozen": false,
    "scrolled": true
   },
   "outputs": [
    {
     "name": "stdout",
     "output_type": "stream",
     "text": [
      "1 ('ok_retest/53035992.zip', <http.client.HTTPMessage object at 0x00000233AF391C10>)\n",
      "2 ('ok_retest/53035991.zip', <http.client.HTTPMessage object at 0x00000233AFEE5C50>)\n",
      "3 ('ok_retest/53035990.zip', <http.client.HTTPMessage object at 0x00000233B0050BD0>)\n",
      "4 ('ok_retest/52617689.zip', <http.client.HTTPMessage object at 0x00000233B0032CD0>)\n",
      "5 ('ok_retest/52617697.zip', <http.client.HTTPMessage object at 0x00000233B0052250>)\n",
      "6 ('ok_retest/52617698.zip', <http.client.HTTPMessage object at 0x00000233B0050090>)\n",
      "7 ('ok_retest/52617702.zip', <http.client.HTTPMessage object at 0x00000233B0052F10>)\n",
      "8 ('ok_retest/52617708.zip', <http.client.HTTPMessage object at 0x00000233B0050490>)\n",
      "9 ('ok_retest/52617709.zip', <http.client.HTTPMessage object at 0x00000233B0050ED0>)\n",
      "10 ('ok_retest/52617718.zip', <http.client.HTTPMessage object at 0x00000233B0053110>)\n",
      "11 ('ok_retest/53035988.zip', <http.client.HTTPMessage object at 0x00000233B0050990>)\n",
      "12 ('ok_retest/53035987.zip', <http.client.HTTPMessage object at 0x00000233B0051710>)\n",
      "13 ('ok_retest/52617731.zip', <http.client.HTTPMessage object at 0x00000233B0050D50>)\n",
      "14 ('ok_retest/53035981.zip', <http.client.HTTPMessage object at 0x00000233B0051550>)\n",
      "15 ('ok_retest/53035978.zip', <http.client.HTTPMessage object at 0x00000233B0050B10>)\n",
      "16 ('ok_retest/53035974.zip', <http.client.HTTPMessage object at 0x00000233B0052410>)\n",
      "17 ('ok_retest/53035972.zip', <http.client.HTTPMessage object at 0x00000233B0052050>)\n",
      "18 ('ok_retest/53035971.zip', <http.client.HTTPMessage object at 0x00000233B00537D0>)\n",
      "19 ('ok_retest/53035970.zip', <http.client.HTTPMessage object at 0x00000233B0050B90>)\n",
      "20 ('ok_retest/53035968.zip', <http.client.HTTPMessage object at 0x00000233B0021ED0>)\n",
      "21 ('ok_retest/53035962.zip', <http.client.HTTPMessage object at 0x00000233B00230D0>)\n",
      "22 ('ok_retest/53035860.zip', <http.client.HTTPMessage object at 0x00000233B0022C50>)\n",
      "23 ('ok_retest/53035859.zip', <http.client.HTTPMessage object at 0x00000233B00209D0>)\n",
      "24 ('ok_retest/53035857.zip', <http.client.HTTPMessage object at 0x00000233B0021210>)\n",
      "25 ('ok_retest/53035855.zip', <http.client.HTTPMessage object at 0x00000233B00224D0>)\n",
      "26 ('ok_retest/53035854.zip', <http.client.HTTPMessage object at 0x00000233B0020790>)\n",
      "27 ('ok_retest/53035851.zip', <http.client.HTTPMessage object at 0x00000233B0021CD0>)\n",
      "28 ('ok_retest/53035850.zip', <http.client.HTTPMessage object at 0x00000233B0023D50>)\n",
      "29 ('ok_retest/53035848.zip', <http.client.HTTPMessage object at 0x00000233B001AA10>)\n",
      "30 ('ok_retest/53035847.zip', <http.client.HTTPMessage object at 0x00000233B00197D0>)\n",
      "31 ('ok_retest/52880952.zip', <http.client.HTTPMessage object at 0x00000233B0019C50>)\n",
      "32 ('ok_retest/52880948.zip', <http.client.HTTPMessage object at 0x00000233B001B790>)\n",
      "33 ('ok_retest/52880946.zip', <http.client.HTTPMessage object at 0x00000233B001BA50>)\n",
      "34 ('ok_retest/52880945.zip', <http.client.HTTPMessage object at 0x00000233B001B610>)\n",
      "35 ('ok_retest/52880944.zip', <http.client.HTTPMessage object at 0x00000233B001BE90>)\n",
      "36 ('ok_retest/52880943.zip', <http.client.HTTPMessage object at 0x00000233B00194D0>)\n",
      "37 ('ok_retest/52880942.zip', <http.client.HTTPMessage object at 0x00000233B0040BD0>)\n",
      "38 ('ok_retest/52880941.zip', <http.client.HTTPMessage object at 0x00000233B00404D0>)\n",
      "39 ('ok_retest/52880940.zip', <http.client.HTTPMessage object at 0x00000233B0040990>)\n",
      "40 ('ok_retest/52880939.zip', <http.client.HTTPMessage object at 0x00000233B00413D0>)\n",
      "41 ('ok_retest/52880938.zip', <http.client.HTTPMessage object at 0x00000233B0040BD0>)\n",
      "42 ('ok_retest/52880936.zip', <http.client.HTTPMessage object at 0x00000233B0041450>)\n",
      "43 ('ok_retest/52880935.zip', <http.client.HTTPMessage object at 0x00000233B0041410>)\n",
      "44 ('ok_retest/52880933.zip', <http.client.HTTPMessage object at 0x00000233B00413D0>)\n",
      "45 ('ok_retest/52880932.zip', <http.client.HTTPMessage object at 0x00000233B0040D10>)\n",
      "46 ('ok_retest/52880930.zip', <http.client.HTTPMessage object at 0x00000233B0041690>)\n",
      "47 ('ok_retest/52836336.zip', <http.client.HTTPMessage object at 0x00000233B0043590>)\n",
      "48 ('ok_retest/52836335.zip', <http.client.HTTPMessage object at 0x00000233B0042910>)\n",
      "49 ('ok_retest/52836329.zip', <http.client.HTTPMessage object at 0x00000233B0042850>)\n",
      "50 ('ok_retest/52836328.zip', <http.client.HTTPMessage object at 0x00000233B0041F90>)\n",
      "51 ('ok_retest/52836324.zip', <http.client.HTTPMessage object at 0x00000233B0040910>)\n",
      "52 ('ok_retest/52792452.zip', <http.client.HTTPMessage object at 0x00000233B005C990>)\n",
      "53 ('ok_retest/52792448.zip', <http.client.HTTPMessage object at 0x00000233B005D710>)\n",
      "54 ('ok_retest/52792447.zip', <http.client.HTTPMessage object at 0x00000233B005D7D0>)\n",
      "55 ('ok_retest/52792446.zip', <http.client.HTTPMessage object at 0x00000233B005ED50>)\n",
      "56 ('ok_retest/52792444.zip', <http.client.HTTPMessage object at 0x00000233B005FC90>)\n",
      "57 ('ok_retest/52792440.zip', <http.client.HTTPMessage object at 0x00000233B005E410>)\n",
      "58 ('ok_retest/52792439.zip', <http.client.HTTPMessage object at 0x00000233B005C4D0>)\n",
      "59 ('ok_retest/52792438.zip', <http.client.HTTPMessage object at 0x00000233B005E390>)\n",
      "60 ('ok_retest/52792435.zip', <http.client.HTTPMessage object at 0x00000233B005E110>)\n",
      "61 ('ok_retest/52792432.zip', <http.client.HTTPMessage object at 0x00000233B005C650>)\n",
      "62 ('ok_retest/52792431.zip', <http.client.HTTPMessage object at 0x00000233B005C550>)\n",
      "63 ('ok_retest/52792429.zip', <http.client.HTTPMessage object at 0x00000233B005E310>)\n",
      "64 ('ok_retest/52792428.zip', <http.client.HTTPMessage object at 0x00000233B005C890>)\n",
      "65 ('ok_retest/52792421.zip', <http.client.HTTPMessage object at 0x00000233B005EFD0>)\n",
      "66 ('ok_retest/52753419.zip', <http.client.HTTPMessage object at 0x00000233B005D210>)\n",
      "67 ('ok_retest/52753411.zip', <http.client.HTTPMessage object at 0x00000233B005D2D0>)\n",
      "68 ('ok_retest/52753410.zip', <http.client.HTTPMessage object at 0x00000233B005D990>)\n",
      "69 ('ok_retest/52753408.zip', <http.client.HTTPMessage object at 0x00000233B005D450>)\n",
      "70 ('ok_retest/52753407.zip', <http.client.HTTPMessage object at 0x00000233B005DA10>)\n",
      "71 ('ok_retest/52753406.zip', <http.client.HTTPMessage object at 0x00000233B005FD50>)\n",
      "72 ('ok_retest/52753404.zip', <http.client.HTTPMessage object at 0x00000233B005E550>)\n",
      "73 ('ok_retest/52753403.zip', <http.client.HTTPMessage object at 0x00000233B005F250>)\n",
      "74 ('ok_retest/52753401.zip', <http.client.HTTPMessage object at 0x00000233B005D190>)\n",
      "75 ('ok_retest/52753400.zip', <http.client.HTTPMessage object at 0x00000233B005CE90>)\n",
      "76 ('ok_retest/52753398.zip', <http.client.HTTPMessage object at 0x00000233B005EAD0>)\n",
      "77 ('ok_retest/52753397.zip', <http.client.HTTPMessage object at 0x00000233B005F390>)\n",
      "78 ('ok_retest/52753396.zip', <http.client.HTTPMessage object at 0x00000233B005EB10>)\n",
      "79 ('ok_retest/52753395.zip', <http.client.HTTPMessage object at 0x00000233B005E410>)\n",
      "80 ('ok_retest/52753394.zip', <http.client.HTTPMessage object at 0x00000233B005FA10>)\n",
      "81 ('ok_retest/52707381.zip', <http.client.HTTPMessage object at 0x00000233B005E750>)\n",
      "82 ('ok_retest/52707380.zip', <http.client.HTTPMessage object at 0x00000233B005FE10>)\n",
      "83 ('ok_retest/52707379.zip', <http.client.HTTPMessage object at 0x00000233B002F610>)\n",
      "84 ('ok_retest/52707378.zip', <http.client.HTTPMessage object at 0x00000233B005C290>)\n",
      "85 ('ok_retest/52707376.zip', <http.client.HTTPMessage object at 0x00000233B002D510>)\n",
      "86 ('ok_retest/52707374.zip', <http.client.HTTPMessage object at 0x00000233B002D1D0>)\n",
      "87 ('ok_retest/52707373.zip', <http.client.HTTPMessage object at 0x00000233B002FD90>)\n",
      "88 ('ok_retest/52707369.zip', <http.client.HTTPMessage object at 0x00000233B002D0D0>)\n",
      "89 ('ok_retest/52707368.zip', <http.client.HTTPMessage object at 0x00000233B002EBD0>)\n",
      "90 ('ok_retest/52707367.zip', <http.client.HTTPMessage object at 0x00000233B002EE90>)\n",
      "91 ('ok_retest/52667675.zip', <http.client.HTTPMessage object at 0x00000233B002E110>)\n",
      "92 ('ok_retest/52667674.zip', <http.client.HTTPMessage object at 0x00000233B002EFD0>)\n",
      "93 ('ok_retest/52667671.zip', <http.client.HTTPMessage object at 0x00000233B002F050>)\n",
      "94 ('ok_retest/52667669.zip', <http.client.HTTPMessage object at 0x00000233B002F150>)\n",
      "95 ('ok_retest/52667663.zip', <http.client.HTTPMessage object at 0x00000233B002DF90>)\n",
      "96 ('ok_retest/52667662.zip', <http.client.HTTPMessage object at 0x00000233B002CC10>)\n",
      "97 ('ok_retest/52667661.zip', <http.client.HTTPMessage object at 0x00000233B002E690>)\n",
      "98 ('ok_retest/52667658.zip', <http.client.HTTPMessage object at 0x00000233B002CB50>)\n",
      "99 ('ok_retest/52667657.zip', <http.client.HTTPMessage object at 0x00000233B002C390>)\n"
     ]
    }
   ],
   "source": [
    "from urllib.request import urlretrieve\n",
    "\n",
    "for i, batchid in enumerate(b):\n",
    "    k = urlretrieve(rf\"https://clvisiontowerb.kfusw1prd.solutions.corelogic.com/download.php?path=ServerFiles/Pagesanddata/{batchid}/&zip={batchid}.zip&cond=Postprocessing&auto=Off\", f\"ok_retest/{batchid}.zip\")\n",
    "    # k = urlretrieve(\n",
    "    #     rf\"https://dev-ctt-googlevision-clvisiontowerb.kfusw1dev.solutions.corelogic.com/download.php?path=ServerFiles/Pagesanddata/{batchid}/&zip={batchid}.zip&cond=Postprocessing&auto=Off\",\n",
    "    #     f\"ok_retest/{batchid}.zip\",\n",
    "    # )\n",
    "    # k = urlretrieve(\n",
    "    #     rf\"https://uat-clvisiontowerb.kfusw1uat.solutions.corelogic.com/download.php?path=ServerFiles/Pagesanddata/{batchid}/&zip={batchid}.zip&cond=Postprocessing&auto=Off\",\n",
    "    #     f\"{batchid}.zip\",\n",
    "    # )\n",
    "    print(i + 1, k)"
   ]
  },
  {
   "cell_type": "markdown",
   "id": "6abf5891-8798-408f-9b97-d3b3f736e741",
   "metadata": {
    "jp-MarkdownHeadingCollapsed": true
   },
   "source": [
    "# analysis"
   ]
  },
  {
   "cell_type": "code",
   "execution_count": 8,
   "id": "7874e44f-1c38-4b43-b022-cceeb7d73d3a",
   "metadata": {
    "deletable": true,
    "editable": true,
    "frozen": false
   },
   "outputs": [],
   "source": [
    "%load_ext autoreload\n",
    "%autoreload 2"
   ]
  },
  {
   "cell_type": "code",
   "execution_count": 9,
   "id": "967283d1-a247-42c0-b420-17e304c178c6",
   "metadata": {
    "deletable": true,
    "editable": true,
    "frozen": false
   },
   "outputs": [],
   "source": [
    "from rich.console import Console\n",
    "from rich.table import Table\n",
    "from rich.progress import track"
   ]
  },
  {
   "cell_type": "markdown",
   "id": "f37dc28a-323e-4252-8db0-b27d306e25f3",
   "metadata": {
    "deletable": true,
    "editable": true,
    "frozen": false
   },
   "source": [
    "b93 =[2635901,2637159,2637177,2637185,2637187,2637196,2637436,2638213,2638223,2638251,2638256,2638258,2641548,2641560,2641711,2641712,2641794,2641803,2641831,2641834,2641838,2641998,2642449,2642451,2642457,2642458,2642461,2642462,2642484,2642486,2642487,2642493,2642973]"
   ]
  },
  {
   "cell_type": "code",
   "execution_count": 17,
   "id": "d07142f9-5382-489b-b5e5-2c46b676f022",
   "metadata": {
    "deletable": true,
    "editable": true,
    "frozen": false
   },
   "outputs": [
    {
     "data": {
      "application/vnd.jupyter.widget-view+json": {
       "model_id": "3ad4d8c8060141679bac28592068ce37",
       "version_major": 2,
       "version_minor": 0
      },
      "text/plain": [
       "Output()"
      ]
     },
     "metadata": {},
     "output_type": "display_data"
    },
    {
     "data": {
      "text/html": [
       "<pre style=\"white-space:pre;overflow-x:auto;line-height:normal;font-family:Menlo,'DejaVu Sans Mono',consolas,'Courier New',monospace\">\"There is no item named 'spacy.json' in the archive\" 52617689\n",
       "</pre>\n"
      ],
      "text/plain": [
       "\"There is no item named 'spacy.json' in the archive\" 52617689\n"
      ]
     },
     "metadata": {},
     "output_type": "display_data"
    },
    {
     "data": {
      "text/html": [
       "<pre style=\"white-space:pre;overflow-x:auto;line-height:normal;font-family:Menlo,'DejaVu Sans Mono',consolas,'Courier New',monospace\">\"There is no item named 'spacy.json' in the archive\" 52617697\n",
       "</pre>\n"
      ],
      "text/plain": [
       "\"There is no item named 'spacy.json' in the archive\" 52617697\n"
      ]
     },
     "metadata": {},
     "output_type": "display_data"
    },
    {
     "data": {
      "text/html": [
       "<pre style=\"white-space:pre;overflow-x:auto;line-height:normal;font-family:Menlo,'DejaVu Sans Mono',consolas,'Courier New',monospace\">\"There is no item named 'spacy.json' in the archive\" 52617698\n",
       "</pre>\n"
      ],
      "text/plain": [
       "\"There is no item named 'spacy.json' in the archive\" 52617698\n"
      ]
     },
     "metadata": {},
     "output_type": "display_data"
    },
    {
     "data": {
      "text/html": [
       "<pre style=\"white-space:pre;overflow-x:auto;line-height:normal;font-family:Menlo,'DejaVu Sans Mono',consolas,'Courier New',monospace\">\"There is no item named 'spacy.json' in the archive\" 52617702\n",
       "</pre>\n"
      ],
      "text/plain": [
       "\"There is no item named 'spacy.json' in the archive\" 52617702\n"
      ]
     },
     "metadata": {},
     "output_type": "display_data"
    },
    {
     "data": {
      "text/html": [
       "<pre style=\"white-space:pre;overflow-x:auto;line-height:normal;font-family:Menlo,'DejaVu Sans Mono',consolas,'Courier New',monospace\">\"There is no item named 'spacy.json' in the archive\" 52617708\n",
       "</pre>\n"
      ],
      "text/plain": [
       "\"There is no item named 'spacy.json' in the archive\" 52617708\n"
      ]
     },
     "metadata": {},
     "output_type": "display_data"
    },
    {
     "data": {
      "text/html": [
       "<pre style=\"white-space:pre;overflow-x:auto;line-height:normal;font-family:Menlo,'DejaVu Sans Mono',consolas,'Courier New',monospace\">\"There is no item named 'spacy.json' in the archive\" 52617709\n",
       "</pre>\n"
      ],
      "text/plain": [
       "\"There is no item named 'spacy.json' in the archive\" 52617709\n"
      ]
     },
     "metadata": {},
     "output_type": "display_data"
    },
    {
     "data": {
      "text/html": [
       "<pre style=\"white-space:pre;overflow-x:auto;line-height:normal;font-family:Menlo,'DejaVu Sans Mono',consolas,'Courier New',monospace\">\"There is no item named 'spacy.json' in the archive\" 52617718\n",
       "</pre>\n"
      ],
      "text/plain": [
       "\"There is no item named 'spacy.json' in the archive\" 52617718\n"
      ]
     },
     "metadata": {},
     "output_type": "display_data"
    },
    {
     "data": {
      "text/html": [
       "<pre style=\"white-space:pre;overflow-x:auto;line-height:normal;font-family:Menlo,'DejaVu Sans Mono',consolas,'Courier New',monospace\">\"There is no item named 'spacy.json' in the archive\" 52617731\n",
       "</pre>\n"
      ],
      "text/plain": [
       "\"There is no item named 'spacy.json' in the archive\" 52617731\n"
      ]
     },
     "metadata": {},
     "output_type": "display_data"
    },
    {
     "data": {
      "text/html": [
       "<pre style=\"white-space:pre;overflow-x:auto;line-height:normal;font-family:Menlo,'DejaVu Sans Mono',consolas,'Courier New',monospace\">\"There is no item named 'spacy.json' in the archive\" 52667657\n",
       "</pre>\n"
      ],
      "text/plain": [
       "\"There is no item named 'spacy.json' in the archive\" 52667657\n"
      ]
     },
     "metadata": {},
     "output_type": "display_data"
    },
    {
     "data": {
      "text/html": [
       "<pre style=\"white-space:pre;overflow-x:auto;line-height:normal;font-family:Menlo,'DejaVu Sans Mono',consolas,'Courier New',monospace\">\"There is no item named 'spacy.json' in the archive\" 52667658\n",
       "</pre>\n"
      ],
      "text/plain": [
       "\"There is no item named 'spacy.json' in the archive\" 52667658\n"
      ]
     },
     "metadata": {},
     "output_type": "display_data"
    },
    {
     "data": {
      "text/html": [
       "<pre style=\"white-space:pre;overflow-x:auto;line-height:normal;font-family:Menlo,'DejaVu Sans Mono',consolas,'Courier New',monospace\">\"There is no item named 'spacy.json' in the archive\" 52667661\n",
       "</pre>\n"
      ],
      "text/plain": [
       "\"There is no item named 'spacy.json' in the archive\" 52667661\n"
      ]
     },
     "metadata": {},
     "output_type": "display_data"
    },
    {
     "data": {
      "text/html": [
       "<pre style=\"white-space:pre;overflow-x:auto;line-height:normal;font-family:Menlo,'DejaVu Sans Mono',consolas,'Courier New',monospace\">\"There is no item named 'spacy.json' in the archive\" 52667662\n",
       "</pre>\n"
      ],
      "text/plain": [
       "\"There is no item named 'spacy.json' in the archive\" 52667662\n"
      ]
     },
     "metadata": {},
     "output_type": "display_data"
    },
    {
     "data": {
      "text/html": [
       "<pre style=\"white-space:pre;overflow-x:auto;line-height:normal;font-family:Menlo,'DejaVu Sans Mono',consolas,'Courier New',monospace\">\"There is no item named 'spacy.json' in the archive\" 52667663\n",
       "</pre>\n"
      ],
      "text/plain": [
       "\"There is no item named 'spacy.json' in the archive\" 52667663\n"
      ]
     },
     "metadata": {},
     "output_type": "display_data"
    },
    {
     "data": {
      "text/html": [
       "<pre style=\"white-space:pre;overflow-x:auto;line-height:normal;font-family:Menlo,'DejaVu Sans Mono',consolas,'Courier New',monospace\">\"There is no item named 'spacy.json' in the archive\" 52667669\n",
       "</pre>\n"
      ],
      "text/plain": [
       "\"There is no item named 'spacy.json' in the archive\" 52667669\n"
      ]
     },
     "metadata": {},
     "output_type": "display_data"
    },
    {
     "data": {
      "text/html": [
       "<pre style=\"white-space:pre;overflow-x:auto;line-height:normal;font-family:Menlo,'DejaVu Sans Mono',consolas,'Courier New',monospace\">\"There is no item named 'spacy.json' in the archive\" 52667671\n",
       "</pre>\n"
      ],
      "text/plain": [
       "\"There is no item named 'spacy.json' in the archive\" 52667671\n"
      ]
     },
     "metadata": {},
     "output_type": "display_data"
    },
    {
     "data": {
      "text/html": [
       "<pre style=\"white-space:pre;overflow-x:auto;line-height:normal;font-family:Menlo,'DejaVu Sans Mono',consolas,'Courier New',monospace\">\"There is no item named 'spacy.json' in the archive\" 52667674\n",
       "</pre>\n"
      ],
      "text/plain": [
       "\"There is no item named 'spacy.json' in the archive\" 52667674\n"
      ]
     },
     "metadata": {},
     "output_type": "display_data"
    },
    {
     "data": {
      "text/html": [
       "<pre style=\"white-space:pre;overflow-x:auto;line-height:normal;font-family:Menlo,'DejaVu Sans Mono',consolas,'Courier New',monospace\">\"There is no item named 'spacy.json' in the archive\" 52667675\n",
       "</pre>\n"
      ],
      "text/plain": [
       "\"There is no item named 'spacy.json' in the archive\" 52667675\n"
      ]
     },
     "metadata": {},
     "output_type": "display_data"
    },
    {
     "data": {
      "text/html": [
       "<pre style=\"white-space:pre;overflow-x:auto;line-height:normal;font-family:Menlo,'DejaVu Sans Mono',consolas,'Courier New',monospace\">\"There is no item named 'spacy.json' in the archive\" 52707367\n",
       "</pre>\n"
      ],
      "text/plain": [
       "\"There is no item named 'spacy.json' in the archive\" 52707367\n"
      ]
     },
     "metadata": {},
     "output_type": "display_data"
    },
    {
     "data": {
      "text/html": [
       "<pre style=\"white-space:pre;overflow-x:auto;line-height:normal;font-family:Menlo,'DejaVu Sans Mono',consolas,'Courier New',monospace\">\"There is no item named 'spacy.json' in the archive\" 52707368\n",
       "</pre>\n"
      ],
      "text/plain": [
       "\"There is no item named 'spacy.json' in the archive\" 52707368\n"
      ]
     },
     "metadata": {},
     "output_type": "display_data"
    },
    {
     "data": {
      "text/html": [
       "<pre style=\"white-space:pre;overflow-x:auto;line-height:normal;font-family:Menlo,'DejaVu Sans Mono',consolas,'Courier New',monospace\">\"There is no item named 'spacy.json' in the archive\" 52707369\n",
       "</pre>\n"
      ],
      "text/plain": [
       "\"There is no item named 'spacy.json' in the archive\" 52707369\n"
      ]
     },
     "metadata": {},
     "output_type": "display_data"
    },
    {
     "data": {
      "text/html": [
       "<pre style=\"white-space:pre;overflow-x:auto;line-height:normal;font-family:Menlo,'DejaVu Sans Mono',consolas,'Courier New',monospace\">\"There is no item named 'spacy.json' in the archive\" 52707373\n",
       "</pre>\n"
      ],
      "text/plain": [
       "\"There is no item named 'spacy.json' in the archive\" 52707373\n"
      ]
     },
     "metadata": {},
     "output_type": "display_data"
    },
    {
     "data": {
      "text/html": [
       "<pre style=\"white-space:pre;overflow-x:auto;line-height:normal;font-family:Menlo,'DejaVu Sans Mono',consolas,'Courier New',monospace\">\"There is no item named 'spacy.json' in the archive\" 52707374\n",
       "</pre>\n"
      ],
      "text/plain": [
       "\"There is no item named 'spacy.json' in the archive\" 52707374\n"
      ]
     },
     "metadata": {},
     "output_type": "display_data"
    },
    {
     "data": {
      "text/html": [
       "<pre style=\"white-space:pre;overflow-x:auto;line-height:normal;font-family:Menlo,'DejaVu Sans Mono',consolas,'Courier New',monospace\">\"There is no item named 'spacy.json' in the archive\" 52707376\n",
       "</pre>\n"
      ],
      "text/plain": [
       "\"There is no item named 'spacy.json' in the archive\" 52707376\n"
      ]
     },
     "metadata": {},
     "output_type": "display_data"
    },
    {
     "data": {
      "text/html": [
       "<pre style=\"white-space:pre;overflow-x:auto;line-height:normal;font-family:Menlo,'DejaVu Sans Mono',consolas,'Courier New',monospace\">\"There is no item named 'spacy.json' in the archive\" 52707378\n",
       "</pre>\n"
      ],
      "text/plain": [
       "\"There is no item named 'spacy.json' in the archive\" 52707378\n"
      ]
     },
     "metadata": {},
     "output_type": "display_data"
    },
    {
     "data": {
      "text/html": [
       "<pre style=\"white-space:pre;overflow-x:auto;line-height:normal;font-family:Menlo,'DejaVu Sans Mono',consolas,'Courier New',monospace\">\"There is no item named 'spacy.json' in the archive\" 52707379\n",
       "</pre>\n"
      ],
      "text/plain": [
       "\"There is no item named 'spacy.json' in the archive\" 52707379\n"
      ]
     },
     "metadata": {},
     "output_type": "display_data"
    },
    {
     "data": {
      "text/html": [
       "<pre style=\"white-space:pre;overflow-x:auto;line-height:normal;font-family:Menlo,'DejaVu Sans Mono',consolas,'Courier New',monospace\">\"There is no item named 'spacy.json' in the archive\" 52707380\n",
       "</pre>\n"
      ],
      "text/plain": [
       "\"There is no item named 'spacy.json' in the archive\" 52707380\n"
      ]
     },
     "metadata": {},
     "output_type": "display_data"
    },
    {
     "data": {
      "text/html": [
       "<pre style=\"white-space:pre;overflow-x:auto;line-height:normal;font-family:Menlo,'DejaVu Sans Mono',consolas,'Courier New',monospace\">\"There is no item named 'spacy.json' in the archive\" 52707381\n",
       "</pre>\n"
      ],
      "text/plain": [
       "\"There is no item named 'spacy.json' in the archive\" 52707381\n"
      ]
     },
     "metadata": {},
     "output_type": "display_data"
    },
    {
     "data": {
      "text/html": [
       "<pre style=\"white-space:pre;overflow-x:auto;line-height:normal;font-family:Menlo,'DejaVu Sans Mono',consolas,'Courier New',monospace\">\"There is no item named 'spacy.json' in the archive\" 52753394\n",
       "</pre>\n"
      ],
      "text/plain": [
       "\"There is no item named 'spacy.json' in the archive\" 52753394\n"
      ]
     },
     "metadata": {},
     "output_type": "display_data"
    },
    {
     "data": {
      "text/html": [
       "<pre style=\"white-space:pre;overflow-x:auto;line-height:normal;font-family:Menlo,'DejaVu Sans Mono',consolas,'Courier New',monospace\">\"There is no item named 'spacy.json' in the archive\" 52753395\n",
       "</pre>\n"
      ],
      "text/plain": [
       "\"There is no item named 'spacy.json' in the archive\" 52753395\n"
      ]
     },
     "metadata": {},
     "output_type": "display_data"
    },
    {
     "data": {
      "text/html": [
       "<pre style=\"white-space:pre;overflow-x:auto;line-height:normal;font-family:Menlo,'DejaVu Sans Mono',consolas,'Courier New',monospace\">\"There is no item named 'spacy.json' in the archive\" 52753396\n",
       "</pre>\n"
      ],
      "text/plain": [
       "\"There is no item named 'spacy.json' in the archive\" 52753396\n"
      ]
     },
     "metadata": {},
     "output_type": "display_data"
    },
    {
     "data": {
      "text/html": [
       "<pre style=\"white-space:pre;overflow-x:auto;line-height:normal;font-family:Menlo,'DejaVu Sans Mono',consolas,'Courier New',monospace\">\"There is no item named 'spacy.json' in the archive\" 52753397\n",
       "</pre>\n"
      ],
      "text/plain": [
       "\"There is no item named 'spacy.json' in the archive\" 52753397\n"
      ]
     },
     "metadata": {},
     "output_type": "display_data"
    },
    {
     "data": {
      "text/html": [
       "<pre style=\"white-space:pre;overflow-x:auto;line-height:normal;font-family:Menlo,'DejaVu Sans Mono',consolas,'Courier New',monospace\">\"There is no item named 'spacy.json' in the archive\" 52753398\n",
       "</pre>\n"
      ],
      "text/plain": [
       "\"There is no item named 'spacy.json' in the archive\" 52753398\n"
      ]
     },
     "metadata": {},
     "output_type": "display_data"
    },
    {
     "data": {
      "text/html": [
       "<pre style=\"white-space:pre;overflow-x:auto;line-height:normal;font-family:Menlo,'DejaVu Sans Mono',consolas,'Courier New',monospace\">\"There is no item named 'spacy.json' in the archive\" 52753400\n",
       "</pre>\n"
      ],
      "text/plain": [
       "\"There is no item named 'spacy.json' in the archive\" 52753400\n"
      ]
     },
     "metadata": {},
     "output_type": "display_data"
    },
    {
     "data": {
      "text/html": [
       "<pre style=\"white-space:pre;overflow-x:auto;line-height:normal;font-family:Menlo,'DejaVu Sans Mono',consolas,'Courier New',monospace\">\"There is no item named 'spacy.json' in the archive\" 52753401\n",
       "</pre>\n"
      ],
      "text/plain": [
       "\"There is no item named 'spacy.json' in the archive\" 52753401\n"
      ]
     },
     "metadata": {},
     "output_type": "display_data"
    },
    {
     "data": {
      "text/html": [
       "<pre style=\"white-space:pre;overflow-x:auto;line-height:normal;font-family:Menlo,'DejaVu Sans Mono',consolas,'Courier New',monospace\">\"There is no item named 'spacy.json' in the archive\" 52753403\n",
       "</pre>\n"
      ],
      "text/plain": [
       "\"There is no item named 'spacy.json' in the archive\" 52753403\n"
      ]
     },
     "metadata": {},
     "output_type": "display_data"
    },
    {
     "data": {
      "text/html": [
       "<pre style=\"white-space:pre;overflow-x:auto;line-height:normal;font-family:Menlo,'DejaVu Sans Mono',consolas,'Courier New',monospace\">\"There is no item named 'spacy.json' in the archive\" 52753404\n",
       "</pre>\n"
      ],
      "text/plain": [
       "\"There is no item named 'spacy.json' in the archive\" 52753404\n"
      ]
     },
     "metadata": {},
     "output_type": "display_data"
    },
    {
     "data": {
      "text/html": [
       "<pre style=\"white-space:pre;overflow-x:auto;line-height:normal;font-family:Menlo,'DejaVu Sans Mono',consolas,'Courier New',monospace\">\"There is no item named 'spacy.json' in the archive\" 52753406\n",
       "</pre>\n"
      ],
      "text/plain": [
       "\"There is no item named 'spacy.json' in the archive\" 52753406\n"
      ]
     },
     "metadata": {},
     "output_type": "display_data"
    },
    {
     "data": {
      "text/html": [
       "<pre style=\"white-space:pre;overflow-x:auto;line-height:normal;font-family:Menlo,'DejaVu Sans Mono',consolas,'Courier New',monospace\">\"There is no item named 'spacy.json' in the archive\" 52753407\n",
       "</pre>\n"
      ],
      "text/plain": [
       "\"There is no item named 'spacy.json' in the archive\" 52753407\n"
      ]
     },
     "metadata": {},
     "output_type": "display_data"
    },
    {
     "data": {
      "text/html": [
       "<pre style=\"white-space:pre;overflow-x:auto;line-height:normal;font-family:Menlo,'DejaVu Sans Mono',consolas,'Courier New',monospace\">\"There is no item named 'spacy.json' in the archive\" 52753408\n",
       "</pre>\n"
      ],
      "text/plain": [
       "\"There is no item named 'spacy.json' in the archive\" 52753408\n"
      ]
     },
     "metadata": {},
     "output_type": "display_data"
    },
    {
     "data": {
      "text/html": [
       "<pre style=\"white-space:pre;overflow-x:auto;line-height:normal;font-family:Menlo,'DejaVu Sans Mono',consolas,'Courier New',monospace\">\"There is no item named 'spacy.json' in the archive\" 52753410\n",
       "</pre>\n"
      ],
      "text/plain": [
       "\"There is no item named 'spacy.json' in the archive\" 52753410\n"
      ]
     },
     "metadata": {},
     "output_type": "display_data"
    },
    {
     "data": {
      "text/html": [
       "<pre style=\"white-space:pre;overflow-x:auto;line-height:normal;font-family:Menlo,'DejaVu Sans Mono',consolas,'Courier New',monospace\">\"There is no item named 'spacy.json' in the archive\" 52753411\n",
       "</pre>\n"
      ],
      "text/plain": [
       "\"There is no item named 'spacy.json' in the archive\" 52753411\n"
      ]
     },
     "metadata": {},
     "output_type": "display_data"
    },
    {
     "data": {
      "text/html": [
       "<pre style=\"white-space:pre;overflow-x:auto;line-height:normal;font-family:Menlo,'DejaVu Sans Mono',consolas,'Courier New',monospace\">\"There is no item named 'spacy.json' in the archive\" 52753419\n",
       "</pre>\n"
      ],
      "text/plain": [
       "\"There is no item named 'spacy.json' in the archive\" 52753419\n"
      ]
     },
     "metadata": {},
     "output_type": "display_data"
    },
    {
     "data": {
      "text/html": [
       "<pre style=\"white-space:pre;overflow-x:auto;line-height:normal;font-family:Menlo,'DejaVu Sans Mono',consolas,'Courier New',monospace\"></pre>\n"
      ],
      "text/plain": []
     },
     "metadata": {},
     "output_type": "display_data"
    },
    {
     "data": {
      "text/html": [
       "<pre style=\"white-space:pre;overflow-x:auto;line-height:normal;font-family:Menlo,'DejaVu Sans Mono',consolas,'Courier New',monospace\">\n",
       "</pre>\n"
      ],
      "text/plain": [
       "\n"
      ]
     },
     "metadata": {},
     "output_type": "display_data"
    },
    {
     "data": {
      "text/html": [
       "<pre style=\"white-space:pre;overflow-x:auto;line-height:normal;font-family:Menlo,'DejaVu Sans Mono',consolas,'Courier New',monospace\"><span style=\"font-style: italic\">                                                      KY set2                                                      </span>\n",
       "┏━━━━━━━━┳━━━━━━━━━━┳━━━━━━━━━┳━━━━━━━━━━┳━━━━━━━━━┳━━━━━━━━━━┳━━━━━━━━━┳━━━━━━━━━━┳━━━━━━━━━┳━━━━━━━━━━┳━━━━━━━━━┓\n",
       "┃<span style=\"font-weight: bold\"> S. No. </span>┃<span style=\"font-weight: bold\">  Batchid </span>┃<span style=\"font-weight: bold\"> 6-keye… </span>┃<span style=\"font-weight: bold\"> 6-spacy… </span>┃<span style=\"font-weight: bold\"> 6-matc… </span>┃<span style=\"font-weight: bold\"> 92-keye… </span>┃<span style=\"font-weight: bold\"> 92-spa… </span>┃<span style=\"font-weight: bold\"> 92-matc… </span>┃<span style=\"font-weight: bold\"> 93-key… </span>┃<span style=\"font-weight: bold\"> 93-spac… </span>┃<span style=\"font-weight: bold\"> 93-mat… </span>┃\n",
       "┡━━━━━━━━╇━━━━━━━━━━╇━━━━━━━━━╇━━━━━━━━━━╇━━━━━━━━━╇━━━━━━━━━━╇━━━━━━━━━╇━━━━━━━━━━╇━━━━━━━━━╇━━━━━━━━━━╇━━━━━━━━━┩\n",
       "│<span style=\"color: #008080; text-decoration-color: #008080\">     43 </span>│<span style=\"color: #008080; text-decoration-color: #008080\"> 52792421 </span>│<span style=\"color: #008080; text-decoration-color: #008080\"> 032520… </span>│<span style=\"color: #800080; text-decoration-color: #800080\">          </span>│<span style=\"color: #008000; text-decoration-color: #008000\">   False </span>│<span style=\"color: #008080; text-decoration-color: #008080\">      858 </span>│<span style=\"color: #800080; text-decoration-color: #800080\"> 858     </span>│<span style=\"color: #008000; text-decoration-color: #008000\">     True </span>│<span style=\"color: #008080; text-decoration-color: #008080\">     282 </span>│<span style=\"color: #800080; text-decoration-color: #800080\">          </span>│<span style=\"color: #008000; text-decoration-color: #008000\">   False </span>│\n",
       "│<span style=\"color: #008080; text-decoration-color: #008080\">     44 </span>│<span style=\"color: #008080; text-decoration-color: #008080\"> 52792428 </span>│<span style=\"color: #008080; text-decoration-color: #008080\"> 032520… </span>│<span style=\"color: #800080; text-decoration-color: #800080\">          </span>│<span style=\"color: #008000; text-decoration-color: #008000\">   False </span>│<span style=\"color: #008080; text-decoration-color: #008080\">     1557 </span>│<span style=\"color: #800080; text-decoration-color: #800080\"> 1557    </span>│<span style=\"color: #008000; text-decoration-color: #008000\">     True </span>│<span style=\"color: #008080; text-decoration-color: #008080\">      10 </span>│<span style=\"color: #800080; text-decoration-color: #800080\">          </span>│<span style=\"color: #008000; text-decoration-color: #008000\">   False </span>│\n",
       "│<span style=\"color: #008080; text-decoration-color: #008080\">     45 </span>│<span style=\"color: #008080; text-decoration-color: #008080\"> 52792429 </span>│<span style=\"color: #008080; text-decoration-color: #008080\"> 032520… </span>│<span style=\"color: #800080; text-decoration-color: #800080\">          </span>│<span style=\"color: #008000; text-decoration-color: #008000\">   False </span>│<span style=\"color: #008080; text-decoration-color: #008080\">      858 </span>│<span style=\"color: #800080; text-decoration-color: #800080\"> 858     </span>│<span style=\"color: #008000; text-decoration-color: #008000\">     True </span>│<span style=\"color: #008080; text-decoration-color: #008080\">     289 </span>│<span style=\"color: #800080; text-decoration-color: #800080\">          </span>│<span style=\"color: #008000; text-decoration-color: #008000\">   False </span>│\n",
       "│<span style=\"color: #008080; text-decoration-color: #008080\">     46 </span>│<span style=\"color: #008080; text-decoration-color: #008080\"> 52792431 </span>│<span style=\"color: #008080; text-decoration-color: #008080\"> 032520… </span>│<span style=\"color: #800080; text-decoration-color: #800080\">          </span>│<span style=\"color: #008000; text-decoration-color: #008000\">   False </span>│<span style=\"color: #008080; text-decoration-color: #008080\">      287 </span>│<span style=\"color: #800080; text-decoration-color: #800080\"> 287     </span>│<span style=\"color: #008000; text-decoration-color: #008000\">     True </span>│<span style=\"color: #008080; text-decoration-color: #008080\">      25 </span>│<span style=\"color: #800080; text-decoration-color: #800080\">          </span>│<span style=\"color: #008000; text-decoration-color: #008000\">   False </span>│\n",
       "│<span style=\"color: #008080; text-decoration-color: #008080\">     47 </span>│<span style=\"color: #008080; text-decoration-color: #008080\"> 52792432 </span>│<span style=\"color: #008080; text-decoration-color: #008080\"> 032520… </span>│<span style=\"color: #800080; text-decoration-color: #800080\">          </span>│<span style=\"color: #008000; text-decoration-color: #008000\">   False </span>│<span style=\"color: #008080; text-decoration-color: #008080\">      287 </span>│<span style=\"color: #800080; text-decoration-color: #800080\">         </span>│<span style=\"color: #008000; text-decoration-color: #008000\">    False </span>│<span style=\"color: #008080; text-decoration-color: #008080\">      26 </span>│<span style=\"color: #800080; text-decoration-color: #800080\">          </span>│<span style=\"color: #008000; text-decoration-color: #008000\">   False </span>│\n",
       "│<span style=\"color: #008080; text-decoration-color: #008080\">     48 </span>│<span style=\"color: #008080; text-decoration-color: #008080\"> 52792435 </span>│<span style=\"color: #008080; text-decoration-color: #008080\"> 032520… </span>│<span style=\"color: #800080; text-decoration-color: #800080\"> 03252024 </span>│<span style=\"color: #008000; text-decoration-color: #008000\">    True </span>│<span style=\"color: #008080; text-decoration-color: #008080\">      287 </span>│<span style=\"color: #800080; text-decoration-color: #800080\"> 287     </span>│<span style=\"color: #008000; text-decoration-color: #008000\">     True </span>│<span style=\"color: #008080; text-decoration-color: #008080\">      30 </span>│<span style=\"color: #800080; text-decoration-color: #800080\">          </span>│<span style=\"color: #008000; text-decoration-color: #008000\">   False </span>│\n",
       "│<span style=\"color: #008080; text-decoration-color: #008080\">     49 </span>│<span style=\"color: #008080; text-decoration-color: #008080\"> 52792438 </span>│<span style=\"color: #008080; text-decoration-color: #008080\"> 032520… </span>│<span style=\"color: #800080; text-decoration-color: #800080\"> 03252024 </span>│<span style=\"color: #008000; text-decoration-color: #008000\">    True </span>│<span style=\"color: #008080; text-decoration-color: #008080\">      858 </span>│<span style=\"color: #800080; text-decoration-color: #800080\"> 858     </span>│<span style=\"color: #008000; text-decoration-color: #008000\">     True </span>│<span style=\"color: #008080; text-decoration-color: #008080\">     296 </span>│<span style=\"color: #800080; text-decoration-color: #800080\">          </span>│<span style=\"color: #008000; text-decoration-color: #008000\">   False </span>│\n",
       "│<span style=\"color: #008080; text-decoration-color: #008080\">     50 </span>│<span style=\"color: #008080; text-decoration-color: #008080\"> 52792439 </span>│<span style=\"color: #008080; text-decoration-color: #008080\"> 032520… </span>│<span style=\"color: #800080; text-decoration-color: #800080\"> 03252024 </span>│<span style=\"color: #008000; text-decoration-color: #008000\">    True </span>│<span style=\"color: #008080; text-decoration-color: #008080\">      858 </span>│<span style=\"color: #800080; text-decoration-color: #800080\"> 858     </span>│<span style=\"color: #008000; text-decoration-color: #008000\">     True </span>│<span style=\"color: #008080; text-decoration-color: #008080\">     300 </span>│<span style=\"color: #800080; text-decoration-color: #800080\">          </span>│<span style=\"color: #008000; text-decoration-color: #008000\">   False </span>│\n",
       "│<span style=\"color: #008080; text-decoration-color: #008080\">     51 </span>│<span style=\"color: #008080; text-decoration-color: #008080\"> 52792440 </span>│<span style=\"color: #008080; text-decoration-color: #008080\"> 032520… </span>│<span style=\"color: #800080; text-decoration-color: #800080\"> 03252024 </span>│<span style=\"color: #008000; text-decoration-color: #008000\">    True </span>│<span style=\"color: #008080; text-decoration-color: #008080\">      858 </span>│<span style=\"color: #800080; text-decoration-color: #800080\"> 858     </span>│<span style=\"color: #008000; text-decoration-color: #008000\">     True </span>│<span style=\"color: #008080; text-decoration-color: #008080\">     303 </span>│<span style=\"color: #800080; text-decoration-color: #800080\">          </span>│<span style=\"color: #008000; text-decoration-color: #008000\">   False </span>│\n",
       "│<span style=\"color: #008080; text-decoration-color: #008080\">     52 </span>│<span style=\"color: #008080; text-decoration-color: #008080\"> 52792444 </span>│<span style=\"color: #008080; text-decoration-color: #008080\"> 032520… </span>│<span style=\"color: #800080; text-decoration-color: #800080\"> 03252024 </span>│<span style=\"color: #008000; text-decoration-color: #008000\">    True </span>│<span style=\"color: #008080; text-decoration-color: #008080\">      858 </span>│<span style=\"color: #800080; text-decoration-color: #800080\"> 858     </span>│<span style=\"color: #008000; text-decoration-color: #008000\">     True </span>│<span style=\"color: #008080; text-decoration-color: #008080\">     307 </span>│<span style=\"color: #800080; text-decoration-color: #800080\">          </span>│<span style=\"color: #008000; text-decoration-color: #008000\">   False </span>│\n",
       "│<span style=\"color: #008080; text-decoration-color: #008080\">     53 </span>│<span style=\"color: #008080; text-decoration-color: #008080\"> 52792446 </span>│<span style=\"color: #008080; text-decoration-color: #008080\"> 032520… </span>│<span style=\"color: #800080; text-decoration-color: #800080\"> 03252024 </span>│<span style=\"color: #008000; text-decoration-color: #008000\">    True </span>│<span style=\"color: #008080; text-decoration-color: #008080\">      858 </span>│<span style=\"color: #800080; text-decoration-color: #800080\"> 858     </span>│<span style=\"color: #008000; text-decoration-color: #008000\">     True </span>│<span style=\"color: #008080; text-decoration-color: #008080\">     313 </span>│<span style=\"color: #800080; text-decoration-color: #800080\">          </span>│<span style=\"color: #008000; text-decoration-color: #008000\">   False </span>│\n",
       "│<span style=\"color: #008080; text-decoration-color: #008080\">     54 </span>│<span style=\"color: #008080; text-decoration-color: #008080\"> 52792447 </span>│<span style=\"color: #008080; text-decoration-color: #008080\"> 032520… </span>│<span style=\"color: #800080; text-decoration-color: #800080\"> 03252024 </span>│<span style=\"color: #008000; text-decoration-color: #008000\">    True </span>│<span style=\"color: #008080; text-decoration-color: #008080\">     1557 </span>│<span style=\"color: #800080; text-decoration-color: #800080\"> 1557    </span>│<span style=\"color: #008000; text-decoration-color: #008000\">     True </span>│<span style=\"color: #008080; text-decoration-color: #008080\">      44 </span>│<span style=\"color: #800080; text-decoration-color: #800080\">          </span>│<span style=\"color: #008000; text-decoration-color: #008000\">   False </span>│\n",
       "│<span style=\"color: #008080; text-decoration-color: #008080\">     55 </span>│<span style=\"color: #008080; text-decoration-color: #008080\"> 52792448 </span>│<span style=\"color: #008080; text-decoration-color: #008080\"> 032520… </span>│<span style=\"color: #800080; text-decoration-color: #800080\"> 03252024 </span>│<span style=\"color: #008000; text-decoration-color: #008000\">    True </span>│<span style=\"color: #008080; text-decoration-color: #008080\">      858 </span>│<span style=\"color: #800080; text-decoration-color: #800080\"> 858     </span>│<span style=\"color: #008000; text-decoration-color: #008000\">     True </span>│<span style=\"color: #008080; text-decoration-color: #008080\">     318 </span>│<span style=\"color: #800080; text-decoration-color: #800080\">          </span>│<span style=\"color: #008000; text-decoration-color: #008000\">   False </span>│\n",
       "│<span style=\"color: #008080; text-decoration-color: #008080\">     56 </span>│<span style=\"color: #008080; text-decoration-color: #008080\"> 52792452 </span>│<span style=\"color: #008080; text-decoration-color: #008080\"> 032520… </span>│<span style=\"color: #800080; text-decoration-color: #800080\">          </span>│<span style=\"color: #008000; text-decoration-color: #008000\">   False </span>│<span style=\"color: #008080; text-decoration-color: #008080\">      858 </span>│<span style=\"color: #800080; text-decoration-color: #800080\"> 858     </span>│<span style=\"color: #008000; text-decoration-color: #008000\">     True </span>│<span style=\"color: #008080; text-decoration-color: #008080\">     321 </span>│<span style=\"color: #800080; text-decoration-color: #800080\">          </span>│<span style=\"color: #008000; text-decoration-color: #008000\">   False </span>│\n",
       "│<span style=\"color: #008080; text-decoration-color: #008080\">     57 </span>│<span style=\"color: #008080; text-decoration-color: #008080\"> 52836324 </span>│<span style=\"color: #008080; text-decoration-color: #008080\"> 032620… </span>│<span style=\"color: #800080; text-decoration-color: #800080\">          </span>│<span style=\"color: #008000; text-decoration-color: #008000\">   False </span>│<span style=\"color: #008080; text-decoration-color: #008080\">      858 </span>│<span style=\"color: #800080; text-decoration-color: #800080\"> 858     </span>│<span style=\"color: #008000; text-decoration-color: #008000\">     True </span>│<span style=\"color: #008080; text-decoration-color: #008080\">     323 </span>│<span style=\"color: #800080; text-decoration-color: #800080\">          </span>│<span style=\"color: #008000; text-decoration-color: #008000\">   False </span>│\n",
       "│<span style=\"color: #008080; text-decoration-color: #008080\">     58 </span>│<span style=\"color: #008080; text-decoration-color: #008080\"> 52836328 </span>│<span style=\"color: #008080; text-decoration-color: #008080\"> 032620… </span>│<span style=\"color: #800080; text-decoration-color: #800080\">          </span>│<span style=\"color: #008000; text-decoration-color: #008000\">   False </span>│<span style=\"color: #008080; text-decoration-color: #008080\">      287 </span>│<span style=\"color: #800080; text-decoration-color: #800080\"> 287     </span>│<span style=\"color: #008000; text-decoration-color: #008000\">     True </span>│<span style=\"color: #008080; text-decoration-color: #008080\">      31 </span>│<span style=\"color: #800080; text-decoration-color: #800080\">          </span>│<span style=\"color: #008000; text-decoration-color: #008000\">   False </span>│\n",
       "│<span style=\"color: #008080; text-decoration-color: #008080\">     59 </span>│<span style=\"color: #008080; text-decoration-color: #008080\"> 52836329 </span>│<span style=\"color: #008080; text-decoration-color: #008080\"> 032620… </span>│<span style=\"color: #800080; text-decoration-color: #800080\">          </span>│<span style=\"color: #008000; text-decoration-color: #008000\">   False </span>│<span style=\"color: #008080; text-decoration-color: #008080\">      287 </span>│<span style=\"color: #800080; text-decoration-color: #800080\"> 287     </span>│<span style=\"color: #008000; text-decoration-color: #008000\">     True </span>│<span style=\"color: #008080; text-decoration-color: #008080\">      32 </span>│<span style=\"color: #800080; text-decoration-color: #800080\">          </span>│<span style=\"color: #008000; text-decoration-color: #008000\">   False </span>│\n",
       "│<span style=\"color: #008080; text-decoration-color: #008080\">     60 </span>│<span style=\"color: #008080; text-decoration-color: #008080\"> 52836335 </span>│<span style=\"color: #008080; text-decoration-color: #008080\"> 032620… </span>│<span style=\"color: #800080; text-decoration-color: #800080\"> 03262024 </span>│<span style=\"color: #008000; text-decoration-color: #008000\">    True </span>│<span style=\"color: #008080; text-decoration-color: #008080\">      287 </span>│<span style=\"color: #800080; text-decoration-color: #800080\"> 287     </span>│<span style=\"color: #008000; text-decoration-color: #008000\">     True </span>│<span style=\"color: #008080; text-decoration-color: #008080\">      37 </span>│<span style=\"color: #800080; text-decoration-color: #800080\">          </span>│<span style=\"color: #008000; text-decoration-color: #008000\">   False </span>│\n",
       "│<span style=\"color: #008080; text-decoration-color: #008080\">     61 </span>│<span style=\"color: #008080; text-decoration-color: #008080\"> 52836336 </span>│<span style=\"color: #008080; text-decoration-color: #008080\"> 032620… </span>│<span style=\"color: #800080; text-decoration-color: #800080\"> 03262024 </span>│<span style=\"color: #008000; text-decoration-color: #008000\">    True </span>│<span style=\"color: #008080; text-decoration-color: #008080\">      102 </span>│<span style=\"color: #800080; text-decoration-color: #800080\"> 102     </span>│<span style=\"color: #008000; text-decoration-color: #008000\">     True </span>│<span style=\"color: #008080; text-decoration-color: #008080\">     323 </span>│<span style=\"color: #800080; text-decoration-color: #800080\">          </span>│<span style=\"color: #008000; text-decoration-color: #008000\">   False </span>│\n",
       "│<span style=\"color: #008080; text-decoration-color: #008080\">     62 </span>│<span style=\"color: #008080; text-decoration-color: #008080\"> 52880930 </span>│<span style=\"color: #008080; text-decoration-color: #008080\"> 032720… </span>│<span style=\"color: #800080; text-decoration-color: #800080\"> 03272024 </span>│<span style=\"color: #008000; text-decoration-color: #008000\">    True </span>│<span style=\"color: #008080; text-decoration-color: #008080\">      287 </span>│<span style=\"color: #800080; text-decoration-color: #800080\"> 287     </span>│<span style=\"color: #008000; text-decoration-color: #008000\">     True </span>│<span style=\"color: #008080; text-decoration-color: #008080\">     441 </span>│<span style=\"color: #800080; text-decoration-color: #800080\">          </span>│<span style=\"color: #008000; text-decoration-color: #008000\">   False </span>│\n",
       "│<span style=\"color: #008080; text-decoration-color: #008080\">     63 </span>│<span style=\"color: #008080; text-decoration-color: #008080\"> 52880932 </span>│<span style=\"color: #008080; text-decoration-color: #008080\"> 032720… </span>│<span style=\"color: #800080; text-decoration-color: #800080\">          </span>│<span style=\"color: #008000; text-decoration-color: #008000\">   False </span>│<span style=\"color: #008080; text-decoration-color: #008080\">      287 </span>│<span style=\"color: #800080; text-decoration-color: #800080\"> 287     </span>│<span style=\"color: #008000; text-decoration-color: #008000\">     True </span>│<span style=\"color: #008080; text-decoration-color: #008080\">      46 </span>│<span style=\"color: #800080; text-decoration-color: #800080\">          </span>│<span style=\"color: #008000; text-decoration-color: #008000\">   False </span>│\n",
       "│<span style=\"color: #008080; text-decoration-color: #008080\">     64 </span>│<span style=\"color: #008080; text-decoration-color: #008080\"> 52880933 </span>│<span style=\"color: #008080; text-decoration-color: #008080\"> 032720… </span>│<span style=\"color: #800080; text-decoration-color: #800080\"> 03272024 </span>│<span style=\"color: #008000; text-decoration-color: #008000\">    True </span>│<span style=\"color: #008080; text-decoration-color: #008080\">     1557 </span>│<span style=\"color: #800080; text-decoration-color: #800080\"> 1557    </span>│<span style=\"color: #008000; text-decoration-color: #008000\">     True </span>│<span style=\"color: #008080; text-decoration-color: #008080\">     126 </span>│<span style=\"color: #800080; text-decoration-color: #800080\">          </span>│<span style=\"color: #008000; text-decoration-color: #008000\">   False </span>│\n",
       "│<span style=\"color: #008080; text-decoration-color: #008080\">     65 </span>│<span style=\"color: #008080; text-decoration-color: #008080\"> 52880935 </span>│<span style=\"color: #008080; text-decoration-color: #008080\"> 032720… </span>│<span style=\"color: #800080; text-decoration-color: #800080\">          </span>│<span style=\"color: #008000; text-decoration-color: #008000\">   False </span>│<span style=\"color: #008080; text-decoration-color: #008080\">      287 </span>│<span style=\"color: #800080; text-decoration-color: #800080\"> 1219    </span>│<span style=\"color: #008000; text-decoration-color: #008000\">    False </span>│<span style=\"color: #008080; text-decoration-color: #008080\">      49 </span>│<span style=\"color: #800080; text-decoration-color: #800080\">          </span>│<span style=\"color: #008000; text-decoration-color: #008000\">   False </span>│\n",
       "│<span style=\"color: #008080; text-decoration-color: #008080\">     66 </span>│<span style=\"color: #008080; text-decoration-color: #008080\"> 52880936 </span>│<span style=\"color: #008080; text-decoration-color: #008080\"> 032720… </span>│<span style=\"color: #800080; text-decoration-color: #800080\">          </span>│<span style=\"color: #008000; text-decoration-color: #008000\">   False </span>│<span style=\"color: #008080; text-decoration-color: #008080\">      287 </span>│<span style=\"color: #800080; text-decoration-color: #800080\"> 287     </span>│<span style=\"color: #008000; text-decoration-color: #008000\">     True </span>│<span style=\"color: #008080; text-decoration-color: #008080\">      61 </span>│<span style=\"color: #800080; text-decoration-color: #800080\">          </span>│<span style=\"color: #008000; text-decoration-color: #008000\">   False </span>│\n",
       "│<span style=\"color: #008080; text-decoration-color: #008080\">     67 </span>│<span style=\"color: #008080; text-decoration-color: #008080\"> 52880938 </span>│<span style=\"color: #008080; text-decoration-color: #008080\"> 031920… </span>│<span style=\"color: #800080; text-decoration-color: #800080\">          </span>│<span style=\"color: #008000; text-decoration-color: #008000\">   False </span>│<span style=\"color: #008080; text-decoration-color: #008080\">      287 </span>│<span style=\"color: #800080; text-decoration-color: #800080\"> 287     </span>│<span style=\"color: #008000; text-decoration-color: #008000\">     True </span>│<span style=\"color: #008080; text-decoration-color: #008080\">      55 </span>│<span style=\"color: #800080; text-decoration-color: #800080\">          </span>│<span style=\"color: #008000; text-decoration-color: #008000\">   False </span>│\n",
       "│<span style=\"color: #008080; text-decoration-color: #008080\">     68 </span>│<span style=\"color: #008080; text-decoration-color: #008080\"> 52880939 </span>│<span style=\"color: #008080; text-decoration-color: #008080\"> 032720… </span>│<span style=\"color: #800080; text-decoration-color: #800080\">          </span>│<span style=\"color: #008000; text-decoration-color: #008000\">   False </span>│<span style=\"color: #008080; text-decoration-color: #008080\">      287 </span>│<span style=\"color: #800080; text-decoration-color: #800080\"> 287     </span>│<span style=\"color: #008000; text-decoration-color: #008000\">     True </span>│<span style=\"color: #008080; text-decoration-color: #008080\">      57 </span>│<span style=\"color: #800080; text-decoration-color: #800080\">          </span>│<span style=\"color: #008000; text-decoration-color: #008000\">   False </span>│\n",
       "│<span style=\"color: #008080; text-decoration-color: #008080\">     69 </span>│<span style=\"color: #008080; text-decoration-color: #008080\"> 52880940 </span>│<span style=\"color: #008080; text-decoration-color: #008080\"> 032720… </span>│<span style=\"color: #800080; text-decoration-color: #800080\"> 03272024 </span>│<span style=\"color: #008000; text-decoration-color: #008000\">    True </span>│<span style=\"color: #008080; text-decoration-color: #008080\">      287 </span>│<span style=\"color: #800080; text-decoration-color: #800080\"> 287     </span>│<span style=\"color: #008000; text-decoration-color: #008000\">     True </span>│<span style=\"color: #008080; text-decoration-color: #008080\">      59 </span>│<span style=\"color: #800080; text-decoration-color: #800080\">          </span>│<span style=\"color: #008000; text-decoration-color: #008000\">   False </span>│\n",
       "│<span style=\"color: #008080; text-decoration-color: #008080\">     70 </span>│<span style=\"color: #008080; text-decoration-color: #008080\"> 52880941 </span>│<span style=\"color: #008080; text-decoration-color: #008080\"> 032720… </span>│<span style=\"color: #800080; text-decoration-color: #800080\"> 03272024 </span>│<span style=\"color: #008000; text-decoration-color: #008000\">    True </span>│<span style=\"color: #008080; text-decoration-color: #008080\">      858 </span>│<span style=\"color: #800080; text-decoration-color: #800080\"> 858     </span>│<span style=\"color: #008000; text-decoration-color: #008000\">     True </span>│<span style=\"color: #008080; text-decoration-color: #008080\">     337 </span>│<span style=\"color: #800080; text-decoration-color: #800080\">          </span>│<span style=\"color: #008000; text-decoration-color: #008000\">   False </span>│\n",
       "│<span style=\"color: #008080; text-decoration-color: #008080\">     71 </span>│<span style=\"color: #008080; text-decoration-color: #008080\"> 52880942 </span>│<span style=\"color: #008080; text-decoration-color: #008080\"> 032720… </span>│<span style=\"color: #800080; text-decoration-color: #800080\">          </span>│<span style=\"color: #008000; text-decoration-color: #008000\">   False </span>│<span style=\"color: #008080; text-decoration-color: #008080\">     1557 </span>│<span style=\"color: #800080; text-decoration-color: #800080\"> 1557    </span>│<span style=\"color: #008000; text-decoration-color: #008000\">     True </span>│<span style=\"color: #008080; text-decoration-color: #008080\">     132 </span>│<span style=\"color: #800080; text-decoration-color: #800080\">          </span>│<span style=\"color: #008000; text-decoration-color: #008000\">   False </span>│\n",
       "│<span style=\"color: #008080; text-decoration-color: #008080\">     72 </span>│<span style=\"color: #008080; text-decoration-color: #008080\"> 52880943 </span>│<span style=\"color: #008080; text-decoration-color: #008080\"> 032720… </span>│<span style=\"color: #800080; text-decoration-color: #800080\">          </span>│<span style=\"color: #008000; text-decoration-color: #008000\">   False </span>│<span style=\"color: #008080; text-decoration-color: #008080\">      858 </span>│<span style=\"color: #800080; text-decoration-color: #800080\"> 858     </span>│<span style=\"color: #008000; text-decoration-color: #008000\">     True </span>│<span style=\"color: #008080; text-decoration-color: #008080\">     342 </span>│<span style=\"color: #800080; text-decoration-color: #800080\">          </span>│<span style=\"color: #008000; text-decoration-color: #008000\">   False </span>│\n",
       "│<span style=\"color: #008080; text-decoration-color: #008080\">     73 </span>│<span style=\"color: #008080; text-decoration-color: #008080\"> 52880944 </span>│<span style=\"color: #008080; text-decoration-color: #008080\"> 032720… </span>│<span style=\"color: #800080; text-decoration-color: #800080\"> 03272024 </span>│<span style=\"color: #008000; text-decoration-color: #008000\">    True </span>│<span style=\"color: #008080; text-decoration-color: #008080\">     1557 </span>│<span style=\"color: #800080; text-decoration-color: #800080\"> 1557    </span>│<span style=\"color: #008000; text-decoration-color: #008000\">     True </span>│<span style=\"color: #008080; text-decoration-color: #008080\">     156 </span>│<span style=\"color: #800080; text-decoration-color: #800080\">          </span>│<span style=\"color: #008000; text-decoration-color: #008000\">   False </span>│\n",
       "│<span style=\"color: #008080; text-decoration-color: #008080\">     74 </span>│<span style=\"color: #008080; text-decoration-color: #008080\"> 52880945 </span>│<span style=\"color: #008080; text-decoration-color: #008080\"> 032720… </span>│<span style=\"color: #800080; text-decoration-color: #800080\"> 03272024 </span>│<span style=\"color: #008000; text-decoration-color: #008000\">    True </span>│<span style=\"color: #008080; text-decoration-color: #008080\">      858 </span>│<span style=\"color: #800080; text-decoration-color: #800080\"> 858     </span>│<span style=\"color: #008000; text-decoration-color: #008000\">     True </span>│<span style=\"color: #008080; text-decoration-color: #008080\">     346 </span>│<span style=\"color: #800080; text-decoration-color: #800080\">          </span>│<span style=\"color: #008000; text-decoration-color: #008000\">   False </span>│\n",
       "│<span style=\"color: #008080; text-decoration-color: #008080\">     75 </span>│<span style=\"color: #008080; text-decoration-color: #008080\"> 52880946 </span>│<span style=\"color: #008080; text-decoration-color: #008080\"> 032720… </span>│<span style=\"color: #800080; text-decoration-color: #800080\"> 03272024 </span>│<span style=\"color: #008000; text-decoration-color: #008000\">    True </span>│<span style=\"color: #008080; text-decoration-color: #008080\">      858 </span>│<span style=\"color: #800080; text-decoration-color: #800080\"> 858     </span>│<span style=\"color: #008000; text-decoration-color: #008000\">     True </span>│<span style=\"color: #008080; text-decoration-color: #008080\">     349 </span>│<span style=\"color: #800080; text-decoration-color: #800080\">          </span>│<span style=\"color: #008000; text-decoration-color: #008000\">   False </span>│\n",
       "│<span style=\"color: #008080; text-decoration-color: #008080\">     76 </span>│<span style=\"color: #008080; text-decoration-color: #008080\"> 52880948 </span>│<span style=\"color: #008080; text-decoration-color: #008080\"> 032720… </span>│<span style=\"color: #800080; text-decoration-color: #800080\">          </span>│<span style=\"color: #008000; text-decoration-color: #008000\">   False </span>│<span style=\"color: #008080; text-decoration-color: #008080\">     1557 </span>│<span style=\"color: #800080; text-decoration-color: #800080\"> 1557    </span>│<span style=\"color: #008000; text-decoration-color: #008000\">     True </span>│<span style=\"color: #008080; text-decoration-color: #008080\">     179 </span>│<span style=\"color: #800080; text-decoration-color: #800080\">          </span>│<span style=\"color: #008000; text-decoration-color: #008000\">   False </span>│\n",
       "│<span style=\"color: #008080; text-decoration-color: #008080\">     77 </span>│<span style=\"color: #008080; text-decoration-color: #008080\"> 52880952 </span>│<span style=\"color: #008080; text-decoration-color: #008080\"> 032720… </span>│<span style=\"color: #800080; text-decoration-color: #800080\"> 03272024 </span>│<span style=\"color: #008000; text-decoration-color: #008000\">    True </span>│<span style=\"color: #008080; text-decoration-color: #008080\">      287 </span>│<span style=\"color: #800080; text-decoration-color: #800080\"> 287     </span>│<span style=\"color: #008000; text-decoration-color: #008000\">     True </span>│<span style=\"color: #008080; text-decoration-color: #008080\">      61 </span>│<span style=\"color: #800080; text-decoration-color: #800080\">          </span>│<span style=\"color: #008000; text-decoration-color: #008000\">   False </span>│\n",
       "│<span style=\"color: #008080; text-decoration-color: #008080\">     78 </span>│<span style=\"color: #008080; text-decoration-color: #008080\"> 53035847 </span>│<span style=\"color: #008080; text-decoration-color: #008080\"> 040120… </span>│<span style=\"color: #800080; text-decoration-color: #800080\">          </span>│<span style=\"color: #008000; text-decoration-color: #008000\">   False </span>│<span style=\"color: #008080; text-decoration-color: #008080\">      102 </span>│<span style=\"color: #800080; text-decoration-color: #800080\"> 102     </span>│<span style=\"color: #008000; text-decoration-color: #008000\">     True </span>│<span style=\"color: #008080; text-decoration-color: #008080\">     333 </span>│<span style=\"color: #800080; text-decoration-color: #800080\">          </span>│<span style=\"color: #008000; text-decoration-color: #008000\">   False </span>│\n",
       "│<span style=\"color: #008080; text-decoration-color: #008080\">     79 </span>│<span style=\"color: #008080; text-decoration-color: #008080\"> 53035848 </span>│<span style=\"color: #008080; text-decoration-color: #008080\"> 040120… </span>│<span style=\"color: #800080; text-decoration-color: #800080\">          </span>│<span style=\"color: #008000; text-decoration-color: #008000\">   False </span>│<span style=\"color: #008080; text-decoration-color: #008080\">      102 </span>│<span style=\"color: #800080; text-decoration-color: #800080\"> 102     </span>│<span style=\"color: #008000; text-decoration-color: #008000\">     True </span>│<span style=\"color: #008080; text-decoration-color: #008080\">     337 </span>│<span style=\"color: #800080; text-decoration-color: #800080\">          </span>│<span style=\"color: #008000; text-decoration-color: #008000\">   False </span>│\n",
       "│<span style=\"color: #008080; text-decoration-color: #008080\">     80 </span>│<span style=\"color: #008080; text-decoration-color: #008080\"> 53035850 </span>│<span style=\"color: #008080; text-decoration-color: #008080\"> 040120… </span>│<span style=\"color: #800080; text-decoration-color: #800080\">          </span>│<span style=\"color: #008000; text-decoration-color: #008000\">   False </span>│<span style=\"color: #008080; text-decoration-color: #008080\">     1557 </span>│<span style=\"color: #800080; text-decoration-color: #800080\"> 1557    </span>│<span style=\"color: #008000; text-decoration-color: #008000\">     True </span>│<span style=\"color: #008080; text-decoration-color: #008080\">     428 </span>│<span style=\"color: #800080; text-decoration-color: #800080\">          </span>│<span style=\"color: #008000; text-decoration-color: #008000\">   False </span>│\n",
       "│<span style=\"color: #008080; text-decoration-color: #008080\">     81 </span>│<span style=\"color: #008080; text-decoration-color: #008080\"> 53035851 </span>│<span style=\"color: #008080; text-decoration-color: #008080\"> 040120… </span>│<span style=\"color: #800080; text-decoration-color: #800080\">          </span>│<span style=\"color: #008000; text-decoration-color: #008000\">   False </span>│<span style=\"color: #008080; text-decoration-color: #008080\">      858 </span>│<span style=\"color: #800080; text-decoration-color: #800080\"> 858     </span>│<span style=\"color: #008000; text-decoration-color: #008000\">     True </span>│<span style=\"color: #008080; text-decoration-color: #008080\">     394 </span>│<span style=\"color: #800080; text-decoration-color: #800080\">          </span>│<span style=\"color: #008000; text-decoration-color: #008000\">   False </span>│\n",
       "│<span style=\"color: #008080; text-decoration-color: #008080\">     82 </span>│<span style=\"color: #008080; text-decoration-color: #008080\"> 53035854 </span>│<span style=\"color: #008080; text-decoration-color: #008080\"> 040120… </span>│<span style=\"color: #800080; text-decoration-color: #800080\">          </span>│<span style=\"color: #008000; text-decoration-color: #008000\">   False </span>│<span style=\"color: #008080; text-decoration-color: #008080\">      858 </span>│<span style=\"color: #800080; text-decoration-color: #800080\"> 858     </span>│<span style=\"color: #008000; text-decoration-color: #008000\">     True </span>│<span style=\"color: #008080; text-decoration-color: #008080\">     400 </span>│<span style=\"color: #800080; text-decoration-color: #800080\">          </span>│<span style=\"color: #008000; text-decoration-color: #008000\">   False </span>│\n",
       "│<span style=\"color: #008080; text-decoration-color: #008080\">     83 </span>│<span style=\"color: #008080; text-decoration-color: #008080\"> 53035855 </span>│<span style=\"color: #008080; text-decoration-color: #008080\"> 040120… </span>│<span style=\"color: #800080; text-decoration-color: #800080\">          </span>│<span style=\"color: #008000; text-decoration-color: #008000\">   False </span>│<span style=\"color: #008080; text-decoration-color: #008080\">      858 </span>│<span style=\"color: #800080; text-decoration-color: #800080\"> 858     </span>│<span style=\"color: #008000; text-decoration-color: #008000\">     True </span>│<span style=\"color: #008080; text-decoration-color: #008080\">     410 </span>│<span style=\"color: #800080; text-decoration-color: #800080\">          </span>│<span style=\"color: #008000; text-decoration-color: #008000\">   False </span>│\n",
       "│<span style=\"color: #008080; text-decoration-color: #008080\">     84 </span>│<span style=\"color: #008080; text-decoration-color: #008080\"> 53035857 </span>│<span style=\"color: #008080; text-decoration-color: #008080\"> 040120… </span>│<span style=\"color: #800080; text-decoration-color: #800080\">          </span>│<span style=\"color: #008000; text-decoration-color: #008000\">   False </span>│<span style=\"color: #008080; text-decoration-color: #008080\">      858 </span>│<span style=\"color: #800080; text-decoration-color: #800080\"> 858     </span>│<span style=\"color: #008000; text-decoration-color: #008000\">     True </span>│<span style=\"color: #008080; text-decoration-color: #008080\">     418 </span>│<span style=\"color: #800080; text-decoration-color: #800080\">          </span>│<span style=\"color: #008000; text-decoration-color: #008000\">   False </span>│\n",
       "│<span style=\"color: #008080; text-decoration-color: #008080\">     85 </span>│<span style=\"color: #008080; text-decoration-color: #008080\"> 53035859 </span>│<span style=\"color: #008080; text-decoration-color: #008080\"> 040120… </span>│<span style=\"color: #800080; text-decoration-color: #800080\">          </span>│<span style=\"color: #008000; text-decoration-color: #008000\">   False </span>│<span style=\"color: #008080; text-decoration-color: #008080\">      858 </span>│<span style=\"color: #800080; text-decoration-color: #800080\"> 858     </span>│<span style=\"color: #008000; text-decoration-color: #008000\">     True </span>│<span style=\"color: #008080; text-decoration-color: #008080\">     422 </span>│<span style=\"color: #800080; text-decoration-color: #800080\">          </span>│<span style=\"color: #008000; text-decoration-color: #008000\">   False </span>│\n",
       "│<span style=\"color: #008080; text-decoration-color: #008080\">     86 </span>│<span style=\"color: #008080; text-decoration-color: #008080\"> 53035860 </span>│<span style=\"color: #008080; text-decoration-color: #008080\"> 040120… </span>│<span style=\"color: #800080; text-decoration-color: #800080\">          </span>│<span style=\"color: #008000; text-decoration-color: #008000\">   False </span>│<span style=\"color: #008080; text-decoration-color: #008080\">      858 </span>│<span style=\"color: #800080; text-decoration-color: #800080\"> 858     </span>│<span style=\"color: #008000; text-decoration-color: #008000\">     True </span>│<span style=\"color: #008080; text-decoration-color: #008080\">     427 </span>│<span style=\"color: #800080; text-decoration-color: #800080\">          </span>│<span style=\"color: #008000; text-decoration-color: #008000\">   False </span>│\n",
       "│<span style=\"color: #008080; text-decoration-color: #008080\">     87 </span>│<span style=\"color: #008080; text-decoration-color: #008080\"> 53035962 </span>│<span style=\"color: #008080; text-decoration-color: #008080\"> 032820… </span>│<span style=\"color: #800080; text-decoration-color: #800080\"> 03282024 </span>│<span style=\"color: #008000; text-decoration-color: #008000\">    True </span>│<span style=\"color: #008080; text-decoration-color: #008080\">      287 </span>│<span style=\"color: #800080; text-decoration-color: #800080\"> 287     </span>│<span style=\"color: #008000; text-decoration-color: #008000\">     True </span>│<span style=\"color: #008080; text-decoration-color: #008080\">      63 </span>│<span style=\"color: #800080; text-decoration-color: #800080\">          </span>│<span style=\"color: #008000; text-decoration-color: #008000\">   False </span>│\n",
       "│<span style=\"color: #008080; text-decoration-color: #008080\">     88 </span>│<span style=\"color: #008080; text-decoration-color: #008080\"> 53035968 </span>│<span style=\"color: #008080; text-decoration-color: #008080\"> 032820… </span>│<span style=\"color: #800080; text-decoration-color: #800080\">          </span>│<span style=\"color: #008000; text-decoration-color: #008000\">   False </span>│<span style=\"color: #008080; text-decoration-color: #008080\">      858 </span>│<span style=\"color: #800080; text-decoration-color: #800080\"> 858     </span>│<span style=\"color: #008000; text-decoration-color: #008000\">     True </span>│<span style=\"color: #008080; text-decoration-color: #008080\">     352 </span>│<span style=\"color: #800080; text-decoration-color: #800080\">          </span>│<span style=\"color: #008000; text-decoration-color: #008000\">   False </span>│\n",
       "│<span style=\"color: #008080; text-decoration-color: #008080\">     89 </span>│<span style=\"color: #008080; text-decoration-color: #008080\"> 53035970 </span>│<span style=\"color: #008080; text-decoration-color: #008080\"> 032820… </span>│<span style=\"color: #800080; text-decoration-color: #800080\">          </span>│<span style=\"color: #008000; text-decoration-color: #008000\">   False </span>│<span style=\"color: #008080; text-decoration-color: #008080\">     1557 </span>│<span style=\"color: #800080; text-decoration-color: #800080\"> 1557    </span>│<span style=\"color: #008000; text-decoration-color: #008000\">     True </span>│<span style=\"color: #008080; text-decoration-color: #008080\">     260 </span>│<span style=\"color: #800080; text-decoration-color: #800080\">          </span>│<span style=\"color: #008000; text-decoration-color: #008000\">   False </span>│\n",
       "│<span style=\"color: #008080; text-decoration-color: #008080\">     90 </span>│<span style=\"color: #008080; text-decoration-color: #008080\"> 53035971 </span>│<span style=\"color: #008080; text-decoration-color: #008080\"> 032820… </span>│<span style=\"color: #800080; text-decoration-color: #800080\">          </span>│<span style=\"color: #008000; text-decoration-color: #008000\">   False </span>│<span style=\"color: #008080; text-decoration-color: #008080\">      858 </span>│<span style=\"color: #800080; text-decoration-color: #800080\"> 858     </span>│<span style=\"color: #008000; text-decoration-color: #008000\">     True </span>│<span style=\"color: #008080; text-decoration-color: #008080\">     367 </span>│<span style=\"color: #800080; text-decoration-color: #800080\">          </span>│<span style=\"color: #008000; text-decoration-color: #008000\">   False </span>│\n",
       "│<span style=\"color: #008080; text-decoration-color: #008080\">     91 </span>│<span style=\"color: #008080; text-decoration-color: #008080\"> 53035972 </span>│<span style=\"color: #008080; text-decoration-color: #008080\"> 032820… </span>│<span style=\"color: #800080; text-decoration-color: #800080\">          </span>│<span style=\"color: #008000; text-decoration-color: #008000\">   False </span>│<span style=\"color: #008080; text-decoration-color: #008080\">     1557 </span>│<span style=\"color: #800080; text-decoration-color: #800080\"> 1557    </span>│<span style=\"color: #008000; text-decoration-color: #008000\">     True </span>│<span style=\"color: #008080; text-decoration-color: #008080\">     265 </span>│<span style=\"color: #800080; text-decoration-color: #800080\">          </span>│<span style=\"color: #008000; text-decoration-color: #008000\">   False </span>│\n",
       "│<span style=\"color: #008080; text-decoration-color: #008080\">     92 </span>│<span style=\"color: #008080; text-decoration-color: #008080\"> 53035974 </span>│<span style=\"color: #008080; text-decoration-color: #008080\"> 032820… </span>│<span style=\"color: #800080; text-decoration-color: #800080\">          </span>│<span style=\"color: #008000; text-decoration-color: #008000\">   False </span>│<span style=\"color: #008080; text-decoration-color: #008080\">     1557 </span>│<span style=\"color: #800080; text-decoration-color: #800080\"> 285     </span>│<span style=\"color: #008000; text-decoration-color: #008000\">    False </span>│<span style=\"color: #008080; text-decoration-color: #008080\">     285 </span>│<span style=\"color: #800080; text-decoration-color: #800080\">          </span>│<span style=\"color: #008000; text-decoration-color: #008000\">   False </span>│\n",
       "│<span style=\"color: #008080; text-decoration-color: #008080\">     93 </span>│<span style=\"color: #008080; text-decoration-color: #008080\"> 53035978 </span>│<span style=\"color: #008080; text-decoration-color: #008080\"> 032820… </span>│<span style=\"color: #800080; text-decoration-color: #800080\"> 03282024 </span>│<span style=\"color: #008000; text-decoration-color: #008000\">    True </span>│<span style=\"color: #008080; text-decoration-color: #008080\">      858 </span>│<span style=\"color: #800080; text-decoration-color: #800080\"> 858     </span>│<span style=\"color: #008000; text-decoration-color: #008000\">     True </span>│<span style=\"color: #008080; text-decoration-color: #008080\">     371 </span>│<span style=\"color: #800080; text-decoration-color: #800080\">          </span>│<span style=\"color: #008000; text-decoration-color: #008000\">   False </span>│\n",
       "│<span style=\"color: #008080; text-decoration-color: #008080\">     94 </span>│<span style=\"color: #008080; text-decoration-color: #008080\"> 53035981 </span>│<span style=\"color: #008080; text-decoration-color: #008080\"> 032820… </span>│<span style=\"color: #800080; text-decoration-color: #800080\"> 03282024 </span>│<span style=\"color: #008000; text-decoration-color: #008000\">    True </span>│<span style=\"color: #008080; text-decoration-color: #008080\">     1657 </span>│<span style=\"color: #800080; text-decoration-color: #800080\"> 1557    </span>│<span style=\"color: #008000; text-decoration-color: #008000\">    False </span>│<span style=\"color: #008080; text-decoration-color: #008080\">     348 </span>│<span style=\"color: #800080; text-decoration-color: #800080\">          </span>│<span style=\"color: #008000; text-decoration-color: #008000\">   False </span>│\n",
       "│<span style=\"color: #008080; text-decoration-color: #008080\">     95 </span>│<span style=\"color: #008080; text-decoration-color: #008080\"> 53035987 </span>│<span style=\"color: #008080; text-decoration-color: #008080\"> 032820… </span>│<span style=\"color: #800080; text-decoration-color: #800080\">          </span>│<span style=\"color: #008000; text-decoration-color: #008000\">   False </span>│<span style=\"color: #008080; text-decoration-color: #008080\">      858 </span>│<span style=\"color: #800080; text-decoration-color: #800080\"> 858     </span>│<span style=\"color: #008000; text-decoration-color: #008000\">     True </span>│<span style=\"color: #008080; text-decoration-color: #008080\">     375 </span>│<span style=\"color: #800080; text-decoration-color: #800080\">          </span>│<span style=\"color: #008000; text-decoration-color: #008000\">   False </span>│\n",
       "│<span style=\"color: #008080; text-decoration-color: #008080\">     96 </span>│<span style=\"color: #008080; text-decoration-color: #008080\"> 53035988 </span>│<span style=\"color: #008080; text-decoration-color: #008080\"> 032820… </span>│<span style=\"color: #800080; text-decoration-color: #800080\">          </span>│<span style=\"color: #008000; text-decoration-color: #008000\">   False </span>│<span style=\"color: #008080; text-decoration-color: #008080\">      858 </span>│<span style=\"color: #800080; text-decoration-color: #800080\"> 858     </span>│<span style=\"color: #008000; text-decoration-color: #008000\">     True </span>│<span style=\"color: #008080; text-decoration-color: #008080\">     378 </span>│<span style=\"color: #800080; text-decoration-color: #800080\">          </span>│<span style=\"color: #008000; text-decoration-color: #008000\">   False </span>│\n",
       "│<span style=\"color: #008080; text-decoration-color: #008080\">     97 </span>│<span style=\"color: #008080; text-decoration-color: #008080\"> 53035990 </span>│<span style=\"color: #008080; text-decoration-color: #008080\"> 032820… </span>│<span style=\"color: #800080; text-decoration-color: #800080\">          </span>│<span style=\"color: #008000; text-decoration-color: #008000\">   False </span>│<span style=\"color: #008080; text-decoration-color: #008080\">      858 </span>│<span style=\"color: #800080; text-decoration-color: #800080\"> 858     </span>│<span style=\"color: #008000; text-decoration-color: #008000\">     True </span>│<span style=\"color: #008080; text-decoration-color: #008080\">     382 </span>│<span style=\"color: #800080; text-decoration-color: #800080\">          </span>│<span style=\"color: #008000; text-decoration-color: #008000\">   False </span>│\n",
       "│<span style=\"color: #008080; text-decoration-color: #008080\">     98 </span>│<span style=\"color: #008080; text-decoration-color: #008080\"> 53035991 </span>│<span style=\"color: #008080; text-decoration-color: #008080\"> 032820… </span>│<span style=\"color: #800080; text-decoration-color: #800080\">          </span>│<span style=\"color: #008000; text-decoration-color: #008000\">   False </span>│<span style=\"color: #008080; text-decoration-color: #008080\">      858 </span>│<span style=\"color: #800080; text-decoration-color: #800080\"> 858     </span>│<span style=\"color: #008000; text-decoration-color: #008000\">     True </span>│<span style=\"color: #008080; text-decoration-color: #008080\">     386 </span>│<span style=\"color: #800080; text-decoration-color: #800080\">          </span>│<span style=\"color: #008000; text-decoration-color: #008000\">   False </span>│\n",
       "│<span style=\"color: #008080; text-decoration-color: #008080\">     99 </span>│<span style=\"color: #008080; text-decoration-color: #008080\"> 53035992 </span>│<span style=\"color: #008080; text-decoration-color: #008080\"> 032820… </span>│<span style=\"color: #800080; text-decoration-color: #800080\">          </span>│<span style=\"color: #008000; text-decoration-color: #008000\">   False </span>│<span style=\"color: #008080; text-decoration-color: #008080\">     1567 </span>│<span style=\"color: #800080; text-decoration-color: #800080\"> 1557    </span>│<span style=\"color: #008000; text-decoration-color: #008000\">    False </span>│<span style=\"color: #008080; text-decoration-color: #008080\">     395 </span>│<span style=\"color: #800080; text-decoration-color: #800080\">          </span>│<span style=\"color: #008000; text-decoration-color: #008000\">   False </span>│\n",
       "└────────┴──────────┴─────────┴──────────┴─────────┴──────────┴─────────┴──────────┴─────────┴──────────┴─────────┘\n",
       "</pre>\n"
      ],
      "text/plain": [
       "\u001b[3m                                                      KY set2                                                      \u001b[0m\n",
       "┏━━━━━━━━┳━━━━━━━━━━┳━━━━━━━━━┳━━━━━━━━━━┳━━━━━━━━━┳━━━━━━━━━━┳━━━━━━━━━┳━━━━━━━━━━┳━━━━━━━━━┳━━━━━━━━━━┳━━━━━━━━━┓\n",
       "┃\u001b[1m \u001b[0m\u001b[1mS. No.\u001b[0m\u001b[1m \u001b[0m┃\u001b[1m \u001b[0m\u001b[1m Batchid\u001b[0m\u001b[1m \u001b[0m┃\u001b[1m \u001b[0m\u001b[1m6-keye…\u001b[0m\u001b[1m \u001b[0m┃\u001b[1m \u001b[0m\u001b[1m6-spacy…\u001b[0m\u001b[1m \u001b[0m┃\u001b[1m \u001b[0m\u001b[1m6-matc…\u001b[0m\u001b[1m \u001b[0m┃\u001b[1m \u001b[0m\u001b[1m92-keye…\u001b[0m\u001b[1m \u001b[0m┃\u001b[1m \u001b[0m\u001b[1m92-spa…\u001b[0m\u001b[1m \u001b[0m┃\u001b[1m \u001b[0m\u001b[1m92-matc…\u001b[0m\u001b[1m \u001b[0m┃\u001b[1m \u001b[0m\u001b[1m93-key…\u001b[0m\u001b[1m \u001b[0m┃\u001b[1m \u001b[0m\u001b[1m93-spac…\u001b[0m\u001b[1m \u001b[0m┃\u001b[1m \u001b[0m\u001b[1m93-mat…\u001b[0m\u001b[1m \u001b[0m┃\n",
       "┡━━━━━━━━╇━━━━━━━━━━╇━━━━━━━━━╇━━━━━━━━━━╇━━━━━━━━━╇━━━━━━━━━━╇━━━━━━━━━╇━━━━━━━━━━╇━━━━━━━━━╇━━━━━━━━━━╇━━━━━━━━━┩\n",
       "│\u001b[36m \u001b[0m\u001b[36m    43\u001b[0m\u001b[36m \u001b[0m│\u001b[36m \u001b[0m\u001b[36m52792421\u001b[0m\u001b[36m \u001b[0m│\u001b[36m \u001b[0m\u001b[36m032520…\u001b[0m\u001b[36m \u001b[0m│\u001b[35m \u001b[0m\u001b[35m        \u001b[0m\u001b[35m \u001b[0m│\u001b[32m \u001b[0m\u001b[32m  False\u001b[0m\u001b[32m \u001b[0m│\u001b[36m \u001b[0m\u001b[36m     858\u001b[0m\u001b[36m \u001b[0m│\u001b[35m \u001b[0m\u001b[35m858    \u001b[0m\u001b[35m \u001b[0m│\u001b[32m \u001b[0m\u001b[32m    True\u001b[0m\u001b[32m \u001b[0m│\u001b[36m \u001b[0m\u001b[36m    282\u001b[0m\u001b[36m \u001b[0m│\u001b[35m \u001b[0m\u001b[35m        \u001b[0m\u001b[35m \u001b[0m│\u001b[32m \u001b[0m\u001b[32m  False\u001b[0m\u001b[32m \u001b[0m│\n",
       "│\u001b[36m \u001b[0m\u001b[36m    44\u001b[0m\u001b[36m \u001b[0m│\u001b[36m \u001b[0m\u001b[36m52792428\u001b[0m\u001b[36m \u001b[0m│\u001b[36m \u001b[0m\u001b[36m032520…\u001b[0m\u001b[36m \u001b[0m│\u001b[35m \u001b[0m\u001b[35m        \u001b[0m\u001b[35m \u001b[0m│\u001b[32m \u001b[0m\u001b[32m  False\u001b[0m\u001b[32m \u001b[0m│\u001b[36m \u001b[0m\u001b[36m    1557\u001b[0m\u001b[36m \u001b[0m│\u001b[35m \u001b[0m\u001b[35m1557   \u001b[0m\u001b[35m \u001b[0m│\u001b[32m \u001b[0m\u001b[32m    True\u001b[0m\u001b[32m \u001b[0m│\u001b[36m \u001b[0m\u001b[36m     10\u001b[0m\u001b[36m \u001b[0m│\u001b[35m \u001b[0m\u001b[35m        \u001b[0m\u001b[35m \u001b[0m│\u001b[32m \u001b[0m\u001b[32m  False\u001b[0m\u001b[32m \u001b[0m│\n",
       "│\u001b[36m \u001b[0m\u001b[36m    45\u001b[0m\u001b[36m \u001b[0m│\u001b[36m \u001b[0m\u001b[36m52792429\u001b[0m\u001b[36m \u001b[0m│\u001b[36m \u001b[0m\u001b[36m032520…\u001b[0m\u001b[36m \u001b[0m│\u001b[35m \u001b[0m\u001b[35m        \u001b[0m\u001b[35m \u001b[0m│\u001b[32m \u001b[0m\u001b[32m  False\u001b[0m\u001b[32m \u001b[0m│\u001b[36m \u001b[0m\u001b[36m     858\u001b[0m\u001b[36m \u001b[0m│\u001b[35m \u001b[0m\u001b[35m858    \u001b[0m\u001b[35m \u001b[0m│\u001b[32m \u001b[0m\u001b[32m    True\u001b[0m\u001b[32m \u001b[0m│\u001b[36m \u001b[0m\u001b[36m    289\u001b[0m\u001b[36m \u001b[0m│\u001b[35m \u001b[0m\u001b[35m        \u001b[0m\u001b[35m \u001b[0m│\u001b[32m \u001b[0m\u001b[32m  False\u001b[0m\u001b[32m \u001b[0m│\n",
       "│\u001b[36m \u001b[0m\u001b[36m    46\u001b[0m\u001b[36m \u001b[0m│\u001b[36m \u001b[0m\u001b[36m52792431\u001b[0m\u001b[36m \u001b[0m│\u001b[36m \u001b[0m\u001b[36m032520…\u001b[0m\u001b[36m \u001b[0m│\u001b[35m \u001b[0m\u001b[35m        \u001b[0m\u001b[35m \u001b[0m│\u001b[32m \u001b[0m\u001b[32m  False\u001b[0m\u001b[32m \u001b[0m│\u001b[36m \u001b[0m\u001b[36m     287\u001b[0m\u001b[36m \u001b[0m│\u001b[35m \u001b[0m\u001b[35m287    \u001b[0m\u001b[35m \u001b[0m│\u001b[32m \u001b[0m\u001b[32m    True\u001b[0m\u001b[32m \u001b[0m│\u001b[36m \u001b[0m\u001b[36m     25\u001b[0m\u001b[36m \u001b[0m│\u001b[35m \u001b[0m\u001b[35m        \u001b[0m\u001b[35m \u001b[0m│\u001b[32m \u001b[0m\u001b[32m  False\u001b[0m\u001b[32m \u001b[0m│\n",
       "│\u001b[36m \u001b[0m\u001b[36m    47\u001b[0m\u001b[36m \u001b[0m│\u001b[36m \u001b[0m\u001b[36m52792432\u001b[0m\u001b[36m \u001b[0m│\u001b[36m \u001b[0m\u001b[36m032520…\u001b[0m\u001b[36m \u001b[0m│\u001b[35m \u001b[0m\u001b[35m        \u001b[0m\u001b[35m \u001b[0m│\u001b[32m \u001b[0m\u001b[32m  False\u001b[0m\u001b[32m \u001b[0m│\u001b[36m \u001b[0m\u001b[36m     287\u001b[0m\u001b[36m \u001b[0m│\u001b[35m \u001b[0m\u001b[35m       \u001b[0m\u001b[35m \u001b[0m│\u001b[32m \u001b[0m\u001b[32m   False\u001b[0m\u001b[32m \u001b[0m│\u001b[36m \u001b[0m\u001b[36m     26\u001b[0m\u001b[36m \u001b[0m│\u001b[35m \u001b[0m\u001b[35m        \u001b[0m\u001b[35m \u001b[0m│\u001b[32m \u001b[0m\u001b[32m  False\u001b[0m\u001b[32m \u001b[0m│\n",
       "│\u001b[36m \u001b[0m\u001b[36m    48\u001b[0m\u001b[36m \u001b[0m│\u001b[36m \u001b[0m\u001b[36m52792435\u001b[0m\u001b[36m \u001b[0m│\u001b[36m \u001b[0m\u001b[36m032520…\u001b[0m\u001b[36m \u001b[0m│\u001b[35m \u001b[0m\u001b[35m03252024\u001b[0m\u001b[35m \u001b[0m│\u001b[32m \u001b[0m\u001b[32m   True\u001b[0m\u001b[32m \u001b[0m│\u001b[36m \u001b[0m\u001b[36m     287\u001b[0m\u001b[36m \u001b[0m│\u001b[35m \u001b[0m\u001b[35m287    \u001b[0m\u001b[35m \u001b[0m│\u001b[32m \u001b[0m\u001b[32m    True\u001b[0m\u001b[32m \u001b[0m│\u001b[36m \u001b[0m\u001b[36m     30\u001b[0m\u001b[36m \u001b[0m│\u001b[35m \u001b[0m\u001b[35m        \u001b[0m\u001b[35m \u001b[0m│\u001b[32m \u001b[0m\u001b[32m  False\u001b[0m\u001b[32m \u001b[0m│\n",
       "│\u001b[36m \u001b[0m\u001b[36m    49\u001b[0m\u001b[36m \u001b[0m│\u001b[36m \u001b[0m\u001b[36m52792438\u001b[0m\u001b[36m \u001b[0m│\u001b[36m \u001b[0m\u001b[36m032520…\u001b[0m\u001b[36m \u001b[0m│\u001b[35m \u001b[0m\u001b[35m03252024\u001b[0m\u001b[35m \u001b[0m│\u001b[32m \u001b[0m\u001b[32m   True\u001b[0m\u001b[32m \u001b[0m│\u001b[36m \u001b[0m\u001b[36m     858\u001b[0m\u001b[36m \u001b[0m│\u001b[35m \u001b[0m\u001b[35m858    \u001b[0m\u001b[35m \u001b[0m│\u001b[32m \u001b[0m\u001b[32m    True\u001b[0m\u001b[32m \u001b[0m│\u001b[36m \u001b[0m\u001b[36m    296\u001b[0m\u001b[36m \u001b[0m│\u001b[35m \u001b[0m\u001b[35m        \u001b[0m\u001b[35m \u001b[0m│\u001b[32m \u001b[0m\u001b[32m  False\u001b[0m\u001b[32m \u001b[0m│\n",
       "│\u001b[36m \u001b[0m\u001b[36m    50\u001b[0m\u001b[36m \u001b[0m│\u001b[36m \u001b[0m\u001b[36m52792439\u001b[0m\u001b[36m \u001b[0m│\u001b[36m \u001b[0m\u001b[36m032520…\u001b[0m\u001b[36m \u001b[0m│\u001b[35m \u001b[0m\u001b[35m03252024\u001b[0m\u001b[35m \u001b[0m│\u001b[32m \u001b[0m\u001b[32m   True\u001b[0m\u001b[32m \u001b[0m│\u001b[36m \u001b[0m\u001b[36m     858\u001b[0m\u001b[36m \u001b[0m│\u001b[35m \u001b[0m\u001b[35m858    \u001b[0m\u001b[35m \u001b[0m│\u001b[32m \u001b[0m\u001b[32m    True\u001b[0m\u001b[32m \u001b[0m│\u001b[36m \u001b[0m\u001b[36m    300\u001b[0m\u001b[36m \u001b[0m│\u001b[35m \u001b[0m\u001b[35m        \u001b[0m\u001b[35m \u001b[0m│\u001b[32m \u001b[0m\u001b[32m  False\u001b[0m\u001b[32m \u001b[0m│\n",
       "│\u001b[36m \u001b[0m\u001b[36m    51\u001b[0m\u001b[36m \u001b[0m│\u001b[36m \u001b[0m\u001b[36m52792440\u001b[0m\u001b[36m \u001b[0m│\u001b[36m \u001b[0m\u001b[36m032520…\u001b[0m\u001b[36m \u001b[0m│\u001b[35m \u001b[0m\u001b[35m03252024\u001b[0m\u001b[35m \u001b[0m│\u001b[32m \u001b[0m\u001b[32m   True\u001b[0m\u001b[32m \u001b[0m│\u001b[36m \u001b[0m\u001b[36m     858\u001b[0m\u001b[36m \u001b[0m│\u001b[35m \u001b[0m\u001b[35m858    \u001b[0m\u001b[35m \u001b[0m│\u001b[32m \u001b[0m\u001b[32m    True\u001b[0m\u001b[32m \u001b[0m│\u001b[36m \u001b[0m\u001b[36m    303\u001b[0m\u001b[36m \u001b[0m│\u001b[35m \u001b[0m\u001b[35m        \u001b[0m\u001b[35m \u001b[0m│\u001b[32m \u001b[0m\u001b[32m  False\u001b[0m\u001b[32m \u001b[0m│\n",
       "│\u001b[36m \u001b[0m\u001b[36m    52\u001b[0m\u001b[36m \u001b[0m│\u001b[36m \u001b[0m\u001b[36m52792444\u001b[0m\u001b[36m \u001b[0m│\u001b[36m \u001b[0m\u001b[36m032520…\u001b[0m\u001b[36m \u001b[0m│\u001b[35m \u001b[0m\u001b[35m03252024\u001b[0m\u001b[35m \u001b[0m│\u001b[32m \u001b[0m\u001b[32m   True\u001b[0m\u001b[32m \u001b[0m│\u001b[36m \u001b[0m\u001b[36m     858\u001b[0m\u001b[36m \u001b[0m│\u001b[35m \u001b[0m\u001b[35m858    \u001b[0m\u001b[35m \u001b[0m│\u001b[32m \u001b[0m\u001b[32m    True\u001b[0m\u001b[32m \u001b[0m│\u001b[36m \u001b[0m\u001b[36m    307\u001b[0m\u001b[36m \u001b[0m│\u001b[35m \u001b[0m\u001b[35m        \u001b[0m\u001b[35m \u001b[0m│\u001b[32m \u001b[0m\u001b[32m  False\u001b[0m\u001b[32m \u001b[0m│\n",
       "│\u001b[36m \u001b[0m\u001b[36m    53\u001b[0m\u001b[36m \u001b[0m│\u001b[36m \u001b[0m\u001b[36m52792446\u001b[0m\u001b[36m \u001b[0m│\u001b[36m \u001b[0m\u001b[36m032520…\u001b[0m\u001b[36m \u001b[0m│\u001b[35m \u001b[0m\u001b[35m03252024\u001b[0m\u001b[35m \u001b[0m│\u001b[32m \u001b[0m\u001b[32m   True\u001b[0m\u001b[32m \u001b[0m│\u001b[36m \u001b[0m\u001b[36m     858\u001b[0m\u001b[36m \u001b[0m│\u001b[35m \u001b[0m\u001b[35m858    \u001b[0m\u001b[35m \u001b[0m│\u001b[32m \u001b[0m\u001b[32m    True\u001b[0m\u001b[32m \u001b[0m│\u001b[36m \u001b[0m\u001b[36m    313\u001b[0m\u001b[36m \u001b[0m│\u001b[35m \u001b[0m\u001b[35m        \u001b[0m\u001b[35m \u001b[0m│\u001b[32m \u001b[0m\u001b[32m  False\u001b[0m\u001b[32m \u001b[0m│\n",
       "│\u001b[36m \u001b[0m\u001b[36m    54\u001b[0m\u001b[36m \u001b[0m│\u001b[36m \u001b[0m\u001b[36m52792447\u001b[0m\u001b[36m \u001b[0m│\u001b[36m \u001b[0m\u001b[36m032520…\u001b[0m\u001b[36m \u001b[0m│\u001b[35m \u001b[0m\u001b[35m03252024\u001b[0m\u001b[35m \u001b[0m│\u001b[32m \u001b[0m\u001b[32m   True\u001b[0m\u001b[32m \u001b[0m│\u001b[36m \u001b[0m\u001b[36m    1557\u001b[0m\u001b[36m \u001b[0m│\u001b[35m \u001b[0m\u001b[35m1557   \u001b[0m\u001b[35m \u001b[0m│\u001b[32m \u001b[0m\u001b[32m    True\u001b[0m\u001b[32m \u001b[0m│\u001b[36m \u001b[0m\u001b[36m     44\u001b[0m\u001b[36m \u001b[0m│\u001b[35m \u001b[0m\u001b[35m        \u001b[0m\u001b[35m \u001b[0m│\u001b[32m \u001b[0m\u001b[32m  False\u001b[0m\u001b[32m \u001b[0m│\n",
       "│\u001b[36m \u001b[0m\u001b[36m    55\u001b[0m\u001b[36m \u001b[0m│\u001b[36m \u001b[0m\u001b[36m52792448\u001b[0m\u001b[36m \u001b[0m│\u001b[36m \u001b[0m\u001b[36m032520…\u001b[0m\u001b[36m \u001b[0m│\u001b[35m \u001b[0m\u001b[35m03252024\u001b[0m\u001b[35m \u001b[0m│\u001b[32m \u001b[0m\u001b[32m   True\u001b[0m\u001b[32m \u001b[0m│\u001b[36m \u001b[0m\u001b[36m     858\u001b[0m\u001b[36m \u001b[0m│\u001b[35m \u001b[0m\u001b[35m858    \u001b[0m\u001b[35m \u001b[0m│\u001b[32m \u001b[0m\u001b[32m    True\u001b[0m\u001b[32m \u001b[0m│\u001b[36m \u001b[0m\u001b[36m    318\u001b[0m\u001b[36m \u001b[0m│\u001b[35m \u001b[0m\u001b[35m        \u001b[0m\u001b[35m \u001b[0m│\u001b[32m \u001b[0m\u001b[32m  False\u001b[0m\u001b[32m \u001b[0m│\n",
       "│\u001b[36m \u001b[0m\u001b[36m    56\u001b[0m\u001b[36m \u001b[0m│\u001b[36m \u001b[0m\u001b[36m52792452\u001b[0m\u001b[36m \u001b[0m│\u001b[36m \u001b[0m\u001b[36m032520…\u001b[0m\u001b[36m \u001b[0m│\u001b[35m \u001b[0m\u001b[35m        \u001b[0m\u001b[35m \u001b[0m│\u001b[32m \u001b[0m\u001b[32m  False\u001b[0m\u001b[32m \u001b[0m│\u001b[36m \u001b[0m\u001b[36m     858\u001b[0m\u001b[36m \u001b[0m│\u001b[35m \u001b[0m\u001b[35m858    \u001b[0m\u001b[35m \u001b[0m│\u001b[32m \u001b[0m\u001b[32m    True\u001b[0m\u001b[32m \u001b[0m│\u001b[36m \u001b[0m\u001b[36m    321\u001b[0m\u001b[36m \u001b[0m│\u001b[35m \u001b[0m\u001b[35m        \u001b[0m\u001b[35m \u001b[0m│\u001b[32m \u001b[0m\u001b[32m  False\u001b[0m\u001b[32m \u001b[0m│\n",
       "│\u001b[36m \u001b[0m\u001b[36m    57\u001b[0m\u001b[36m \u001b[0m│\u001b[36m \u001b[0m\u001b[36m52836324\u001b[0m\u001b[36m \u001b[0m│\u001b[36m \u001b[0m\u001b[36m032620…\u001b[0m\u001b[36m \u001b[0m│\u001b[35m \u001b[0m\u001b[35m        \u001b[0m\u001b[35m \u001b[0m│\u001b[32m \u001b[0m\u001b[32m  False\u001b[0m\u001b[32m \u001b[0m│\u001b[36m \u001b[0m\u001b[36m     858\u001b[0m\u001b[36m \u001b[0m│\u001b[35m \u001b[0m\u001b[35m858    \u001b[0m\u001b[35m \u001b[0m│\u001b[32m \u001b[0m\u001b[32m    True\u001b[0m\u001b[32m \u001b[0m│\u001b[36m \u001b[0m\u001b[36m    323\u001b[0m\u001b[36m \u001b[0m│\u001b[35m \u001b[0m\u001b[35m        \u001b[0m\u001b[35m \u001b[0m│\u001b[32m \u001b[0m\u001b[32m  False\u001b[0m\u001b[32m \u001b[0m│\n",
       "│\u001b[36m \u001b[0m\u001b[36m    58\u001b[0m\u001b[36m \u001b[0m│\u001b[36m \u001b[0m\u001b[36m52836328\u001b[0m\u001b[36m \u001b[0m│\u001b[36m \u001b[0m\u001b[36m032620…\u001b[0m\u001b[36m \u001b[0m│\u001b[35m \u001b[0m\u001b[35m        \u001b[0m\u001b[35m \u001b[0m│\u001b[32m \u001b[0m\u001b[32m  False\u001b[0m\u001b[32m \u001b[0m│\u001b[36m \u001b[0m\u001b[36m     287\u001b[0m\u001b[36m \u001b[0m│\u001b[35m \u001b[0m\u001b[35m287    \u001b[0m\u001b[35m \u001b[0m│\u001b[32m \u001b[0m\u001b[32m    True\u001b[0m\u001b[32m \u001b[0m│\u001b[36m \u001b[0m\u001b[36m     31\u001b[0m\u001b[36m \u001b[0m│\u001b[35m \u001b[0m\u001b[35m        \u001b[0m\u001b[35m \u001b[0m│\u001b[32m \u001b[0m\u001b[32m  False\u001b[0m\u001b[32m \u001b[0m│\n",
       "│\u001b[36m \u001b[0m\u001b[36m    59\u001b[0m\u001b[36m \u001b[0m│\u001b[36m \u001b[0m\u001b[36m52836329\u001b[0m\u001b[36m \u001b[0m│\u001b[36m \u001b[0m\u001b[36m032620…\u001b[0m\u001b[36m \u001b[0m│\u001b[35m \u001b[0m\u001b[35m        \u001b[0m\u001b[35m \u001b[0m│\u001b[32m \u001b[0m\u001b[32m  False\u001b[0m\u001b[32m \u001b[0m│\u001b[36m \u001b[0m\u001b[36m     287\u001b[0m\u001b[36m \u001b[0m│\u001b[35m \u001b[0m\u001b[35m287    \u001b[0m\u001b[35m \u001b[0m│\u001b[32m \u001b[0m\u001b[32m    True\u001b[0m\u001b[32m \u001b[0m│\u001b[36m \u001b[0m\u001b[36m     32\u001b[0m\u001b[36m \u001b[0m│\u001b[35m \u001b[0m\u001b[35m        \u001b[0m\u001b[35m \u001b[0m│\u001b[32m \u001b[0m\u001b[32m  False\u001b[0m\u001b[32m \u001b[0m│\n",
       "│\u001b[36m \u001b[0m\u001b[36m    60\u001b[0m\u001b[36m \u001b[0m│\u001b[36m \u001b[0m\u001b[36m52836335\u001b[0m\u001b[36m \u001b[0m│\u001b[36m \u001b[0m\u001b[36m032620…\u001b[0m\u001b[36m \u001b[0m│\u001b[35m \u001b[0m\u001b[35m03262024\u001b[0m\u001b[35m \u001b[0m│\u001b[32m \u001b[0m\u001b[32m   True\u001b[0m\u001b[32m \u001b[0m│\u001b[36m \u001b[0m\u001b[36m     287\u001b[0m\u001b[36m \u001b[0m│\u001b[35m \u001b[0m\u001b[35m287    \u001b[0m\u001b[35m \u001b[0m│\u001b[32m \u001b[0m\u001b[32m    True\u001b[0m\u001b[32m \u001b[0m│\u001b[36m \u001b[0m\u001b[36m     37\u001b[0m\u001b[36m \u001b[0m│\u001b[35m \u001b[0m\u001b[35m        \u001b[0m\u001b[35m \u001b[0m│\u001b[32m \u001b[0m\u001b[32m  False\u001b[0m\u001b[32m \u001b[0m│\n",
       "│\u001b[36m \u001b[0m\u001b[36m    61\u001b[0m\u001b[36m \u001b[0m│\u001b[36m \u001b[0m\u001b[36m52836336\u001b[0m\u001b[36m \u001b[0m│\u001b[36m \u001b[0m\u001b[36m032620…\u001b[0m\u001b[36m \u001b[0m│\u001b[35m \u001b[0m\u001b[35m03262024\u001b[0m\u001b[35m \u001b[0m│\u001b[32m \u001b[0m\u001b[32m   True\u001b[0m\u001b[32m \u001b[0m│\u001b[36m \u001b[0m\u001b[36m     102\u001b[0m\u001b[36m \u001b[0m│\u001b[35m \u001b[0m\u001b[35m102    \u001b[0m\u001b[35m \u001b[0m│\u001b[32m \u001b[0m\u001b[32m    True\u001b[0m\u001b[32m \u001b[0m│\u001b[36m \u001b[0m\u001b[36m    323\u001b[0m\u001b[36m \u001b[0m│\u001b[35m \u001b[0m\u001b[35m        \u001b[0m\u001b[35m \u001b[0m│\u001b[32m \u001b[0m\u001b[32m  False\u001b[0m\u001b[32m \u001b[0m│\n",
       "│\u001b[36m \u001b[0m\u001b[36m    62\u001b[0m\u001b[36m \u001b[0m│\u001b[36m \u001b[0m\u001b[36m52880930\u001b[0m\u001b[36m \u001b[0m│\u001b[36m \u001b[0m\u001b[36m032720…\u001b[0m\u001b[36m \u001b[0m│\u001b[35m \u001b[0m\u001b[35m03272024\u001b[0m\u001b[35m \u001b[0m│\u001b[32m \u001b[0m\u001b[32m   True\u001b[0m\u001b[32m \u001b[0m│\u001b[36m \u001b[0m\u001b[36m     287\u001b[0m\u001b[36m \u001b[0m│\u001b[35m \u001b[0m\u001b[35m287    \u001b[0m\u001b[35m \u001b[0m│\u001b[32m \u001b[0m\u001b[32m    True\u001b[0m\u001b[32m \u001b[0m│\u001b[36m \u001b[0m\u001b[36m    441\u001b[0m\u001b[36m \u001b[0m│\u001b[35m \u001b[0m\u001b[35m        \u001b[0m\u001b[35m \u001b[0m│\u001b[32m \u001b[0m\u001b[32m  False\u001b[0m\u001b[32m \u001b[0m│\n",
       "│\u001b[36m \u001b[0m\u001b[36m    63\u001b[0m\u001b[36m \u001b[0m│\u001b[36m \u001b[0m\u001b[36m52880932\u001b[0m\u001b[36m \u001b[0m│\u001b[36m \u001b[0m\u001b[36m032720…\u001b[0m\u001b[36m \u001b[0m│\u001b[35m \u001b[0m\u001b[35m        \u001b[0m\u001b[35m \u001b[0m│\u001b[32m \u001b[0m\u001b[32m  False\u001b[0m\u001b[32m \u001b[0m│\u001b[36m \u001b[0m\u001b[36m     287\u001b[0m\u001b[36m \u001b[0m│\u001b[35m \u001b[0m\u001b[35m287    \u001b[0m\u001b[35m \u001b[0m│\u001b[32m \u001b[0m\u001b[32m    True\u001b[0m\u001b[32m \u001b[0m│\u001b[36m \u001b[0m\u001b[36m     46\u001b[0m\u001b[36m \u001b[0m│\u001b[35m \u001b[0m\u001b[35m        \u001b[0m\u001b[35m \u001b[0m│\u001b[32m \u001b[0m\u001b[32m  False\u001b[0m\u001b[32m \u001b[0m│\n",
       "│\u001b[36m \u001b[0m\u001b[36m    64\u001b[0m\u001b[36m \u001b[0m│\u001b[36m \u001b[0m\u001b[36m52880933\u001b[0m\u001b[36m \u001b[0m│\u001b[36m \u001b[0m\u001b[36m032720…\u001b[0m\u001b[36m \u001b[0m│\u001b[35m \u001b[0m\u001b[35m03272024\u001b[0m\u001b[35m \u001b[0m│\u001b[32m \u001b[0m\u001b[32m   True\u001b[0m\u001b[32m \u001b[0m│\u001b[36m \u001b[0m\u001b[36m    1557\u001b[0m\u001b[36m \u001b[0m│\u001b[35m \u001b[0m\u001b[35m1557   \u001b[0m\u001b[35m \u001b[0m│\u001b[32m \u001b[0m\u001b[32m    True\u001b[0m\u001b[32m \u001b[0m│\u001b[36m \u001b[0m\u001b[36m    126\u001b[0m\u001b[36m \u001b[0m│\u001b[35m \u001b[0m\u001b[35m        \u001b[0m\u001b[35m \u001b[0m│\u001b[32m \u001b[0m\u001b[32m  False\u001b[0m\u001b[32m \u001b[0m│\n",
       "│\u001b[36m \u001b[0m\u001b[36m    65\u001b[0m\u001b[36m \u001b[0m│\u001b[36m \u001b[0m\u001b[36m52880935\u001b[0m\u001b[36m \u001b[0m│\u001b[36m \u001b[0m\u001b[36m032720…\u001b[0m\u001b[36m \u001b[0m│\u001b[35m \u001b[0m\u001b[35m        \u001b[0m\u001b[35m \u001b[0m│\u001b[32m \u001b[0m\u001b[32m  False\u001b[0m\u001b[32m \u001b[0m│\u001b[36m \u001b[0m\u001b[36m     287\u001b[0m\u001b[36m \u001b[0m│\u001b[35m \u001b[0m\u001b[35m1219   \u001b[0m\u001b[35m \u001b[0m│\u001b[32m \u001b[0m\u001b[32m   False\u001b[0m\u001b[32m \u001b[0m│\u001b[36m \u001b[0m\u001b[36m     49\u001b[0m\u001b[36m \u001b[0m│\u001b[35m \u001b[0m\u001b[35m        \u001b[0m\u001b[35m \u001b[0m│\u001b[32m \u001b[0m\u001b[32m  False\u001b[0m\u001b[32m \u001b[0m│\n",
       "│\u001b[36m \u001b[0m\u001b[36m    66\u001b[0m\u001b[36m \u001b[0m│\u001b[36m \u001b[0m\u001b[36m52880936\u001b[0m\u001b[36m \u001b[0m│\u001b[36m \u001b[0m\u001b[36m032720…\u001b[0m\u001b[36m \u001b[0m│\u001b[35m \u001b[0m\u001b[35m        \u001b[0m\u001b[35m \u001b[0m│\u001b[32m \u001b[0m\u001b[32m  False\u001b[0m\u001b[32m \u001b[0m│\u001b[36m \u001b[0m\u001b[36m     287\u001b[0m\u001b[36m \u001b[0m│\u001b[35m \u001b[0m\u001b[35m287    \u001b[0m\u001b[35m \u001b[0m│\u001b[32m \u001b[0m\u001b[32m    True\u001b[0m\u001b[32m \u001b[0m│\u001b[36m \u001b[0m\u001b[36m     61\u001b[0m\u001b[36m \u001b[0m│\u001b[35m \u001b[0m\u001b[35m        \u001b[0m\u001b[35m \u001b[0m│\u001b[32m \u001b[0m\u001b[32m  False\u001b[0m\u001b[32m \u001b[0m│\n",
       "│\u001b[36m \u001b[0m\u001b[36m    67\u001b[0m\u001b[36m \u001b[0m│\u001b[36m \u001b[0m\u001b[36m52880938\u001b[0m\u001b[36m \u001b[0m│\u001b[36m \u001b[0m\u001b[36m031920…\u001b[0m\u001b[36m \u001b[0m│\u001b[35m \u001b[0m\u001b[35m        \u001b[0m\u001b[35m \u001b[0m│\u001b[32m \u001b[0m\u001b[32m  False\u001b[0m\u001b[32m \u001b[0m│\u001b[36m \u001b[0m\u001b[36m     287\u001b[0m\u001b[36m \u001b[0m│\u001b[35m \u001b[0m\u001b[35m287    \u001b[0m\u001b[35m \u001b[0m│\u001b[32m \u001b[0m\u001b[32m    True\u001b[0m\u001b[32m \u001b[0m│\u001b[36m \u001b[0m\u001b[36m     55\u001b[0m\u001b[36m \u001b[0m│\u001b[35m \u001b[0m\u001b[35m        \u001b[0m\u001b[35m \u001b[0m│\u001b[32m \u001b[0m\u001b[32m  False\u001b[0m\u001b[32m \u001b[0m│\n",
       "│\u001b[36m \u001b[0m\u001b[36m    68\u001b[0m\u001b[36m \u001b[0m│\u001b[36m \u001b[0m\u001b[36m52880939\u001b[0m\u001b[36m \u001b[0m│\u001b[36m \u001b[0m\u001b[36m032720…\u001b[0m\u001b[36m \u001b[0m│\u001b[35m \u001b[0m\u001b[35m        \u001b[0m\u001b[35m \u001b[0m│\u001b[32m \u001b[0m\u001b[32m  False\u001b[0m\u001b[32m \u001b[0m│\u001b[36m \u001b[0m\u001b[36m     287\u001b[0m\u001b[36m \u001b[0m│\u001b[35m \u001b[0m\u001b[35m287    \u001b[0m\u001b[35m \u001b[0m│\u001b[32m \u001b[0m\u001b[32m    True\u001b[0m\u001b[32m \u001b[0m│\u001b[36m \u001b[0m\u001b[36m     57\u001b[0m\u001b[36m \u001b[0m│\u001b[35m \u001b[0m\u001b[35m        \u001b[0m\u001b[35m \u001b[0m│\u001b[32m \u001b[0m\u001b[32m  False\u001b[0m\u001b[32m \u001b[0m│\n",
       "│\u001b[36m \u001b[0m\u001b[36m    69\u001b[0m\u001b[36m \u001b[0m│\u001b[36m \u001b[0m\u001b[36m52880940\u001b[0m\u001b[36m \u001b[0m│\u001b[36m \u001b[0m\u001b[36m032720…\u001b[0m\u001b[36m \u001b[0m│\u001b[35m \u001b[0m\u001b[35m03272024\u001b[0m\u001b[35m \u001b[0m│\u001b[32m \u001b[0m\u001b[32m   True\u001b[0m\u001b[32m \u001b[0m│\u001b[36m \u001b[0m\u001b[36m     287\u001b[0m\u001b[36m \u001b[0m│\u001b[35m \u001b[0m\u001b[35m287    \u001b[0m\u001b[35m \u001b[0m│\u001b[32m \u001b[0m\u001b[32m    True\u001b[0m\u001b[32m \u001b[0m│\u001b[36m \u001b[0m\u001b[36m     59\u001b[0m\u001b[36m \u001b[0m│\u001b[35m \u001b[0m\u001b[35m        \u001b[0m\u001b[35m \u001b[0m│\u001b[32m \u001b[0m\u001b[32m  False\u001b[0m\u001b[32m \u001b[0m│\n",
       "│\u001b[36m \u001b[0m\u001b[36m    70\u001b[0m\u001b[36m \u001b[0m│\u001b[36m \u001b[0m\u001b[36m52880941\u001b[0m\u001b[36m \u001b[0m│\u001b[36m \u001b[0m\u001b[36m032720…\u001b[0m\u001b[36m \u001b[0m│\u001b[35m \u001b[0m\u001b[35m03272024\u001b[0m\u001b[35m \u001b[0m│\u001b[32m \u001b[0m\u001b[32m   True\u001b[0m\u001b[32m \u001b[0m│\u001b[36m \u001b[0m\u001b[36m     858\u001b[0m\u001b[36m \u001b[0m│\u001b[35m \u001b[0m\u001b[35m858    \u001b[0m\u001b[35m \u001b[0m│\u001b[32m \u001b[0m\u001b[32m    True\u001b[0m\u001b[32m \u001b[0m│\u001b[36m \u001b[0m\u001b[36m    337\u001b[0m\u001b[36m \u001b[0m│\u001b[35m \u001b[0m\u001b[35m        \u001b[0m\u001b[35m \u001b[0m│\u001b[32m \u001b[0m\u001b[32m  False\u001b[0m\u001b[32m \u001b[0m│\n",
       "│\u001b[36m \u001b[0m\u001b[36m    71\u001b[0m\u001b[36m \u001b[0m│\u001b[36m \u001b[0m\u001b[36m52880942\u001b[0m\u001b[36m \u001b[0m│\u001b[36m \u001b[0m\u001b[36m032720…\u001b[0m\u001b[36m \u001b[0m│\u001b[35m \u001b[0m\u001b[35m        \u001b[0m\u001b[35m \u001b[0m│\u001b[32m \u001b[0m\u001b[32m  False\u001b[0m\u001b[32m \u001b[0m│\u001b[36m \u001b[0m\u001b[36m    1557\u001b[0m\u001b[36m \u001b[0m│\u001b[35m \u001b[0m\u001b[35m1557   \u001b[0m\u001b[35m \u001b[0m│\u001b[32m \u001b[0m\u001b[32m    True\u001b[0m\u001b[32m \u001b[0m│\u001b[36m \u001b[0m\u001b[36m    132\u001b[0m\u001b[36m \u001b[0m│\u001b[35m \u001b[0m\u001b[35m        \u001b[0m\u001b[35m \u001b[0m│\u001b[32m \u001b[0m\u001b[32m  False\u001b[0m\u001b[32m \u001b[0m│\n",
       "│\u001b[36m \u001b[0m\u001b[36m    72\u001b[0m\u001b[36m \u001b[0m│\u001b[36m \u001b[0m\u001b[36m52880943\u001b[0m\u001b[36m \u001b[0m│\u001b[36m \u001b[0m\u001b[36m032720…\u001b[0m\u001b[36m \u001b[0m│\u001b[35m \u001b[0m\u001b[35m        \u001b[0m\u001b[35m \u001b[0m│\u001b[32m \u001b[0m\u001b[32m  False\u001b[0m\u001b[32m \u001b[0m│\u001b[36m \u001b[0m\u001b[36m     858\u001b[0m\u001b[36m \u001b[0m│\u001b[35m \u001b[0m\u001b[35m858    \u001b[0m\u001b[35m \u001b[0m│\u001b[32m \u001b[0m\u001b[32m    True\u001b[0m\u001b[32m \u001b[0m│\u001b[36m \u001b[0m\u001b[36m    342\u001b[0m\u001b[36m \u001b[0m│\u001b[35m \u001b[0m\u001b[35m        \u001b[0m\u001b[35m \u001b[0m│\u001b[32m \u001b[0m\u001b[32m  False\u001b[0m\u001b[32m \u001b[0m│\n",
       "│\u001b[36m \u001b[0m\u001b[36m    73\u001b[0m\u001b[36m \u001b[0m│\u001b[36m \u001b[0m\u001b[36m52880944\u001b[0m\u001b[36m \u001b[0m│\u001b[36m \u001b[0m\u001b[36m032720…\u001b[0m\u001b[36m \u001b[0m│\u001b[35m \u001b[0m\u001b[35m03272024\u001b[0m\u001b[35m \u001b[0m│\u001b[32m \u001b[0m\u001b[32m   True\u001b[0m\u001b[32m \u001b[0m│\u001b[36m \u001b[0m\u001b[36m    1557\u001b[0m\u001b[36m \u001b[0m│\u001b[35m \u001b[0m\u001b[35m1557   \u001b[0m\u001b[35m \u001b[0m│\u001b[32m \u001b[0m\u001b[32m    True\u001b[0m\u001b[32m \u001b[0m│\u001b[36m \u001b[0m\u001b[36m    156\u001b[0m\u001b[36m \u001b[0m│\u001b[35m \u001b[0m\u001b[35m        \u001b[0m\u001b[35m \u001b[0m│\u001b[32m \u001b[0m\u001b[32m  False\u001b[0m\u001b[32m \u001b[0m│\n",
       "│\u001b[36m \u001b[0m\u001b[36m    74\u001b[0m\u001b[36m \u001b[0m│\u001b[36m \u001b[0m\u001b[36m52880945\u001b[0m\u001b[36m \u001b[0m│\u001b[36m \u001b[0m\u001b[36m032720…\u001b[0m\u001b[36m \u001b[0m│\u001b[35m \u001b[0m\u001b[35m03272024\u001b[0m\u001b[35m \u001b[0m│\u001b[32m \u001b[0m\u001b[32m   True\u001b[0m\u001b[32m \u001b[0m│\u001b[36m \u001b[0m\u001b[36m     858\u001b[0m\u001b[36m \u001b[0m│\u001b[35m \u001b[0m\u001b[35m858    \u001b[0m\u001b[35m \u001b[0m│\u001b[32m \u001b[0m\u001b[32m    True\u001b[0m\u001b[32m \u001b[0m│\u001b[36m \u001b[0m\u001b[36m    346\u001b[0m\u001b[36m \u001b[0m│\u001b[35m \u001b[0m\u001b[35m        \u001b[0m\u001b[35m \u001b[0m│\u001b[32m \u001b[0m\u001b[32m  False\u001b[0m\u001b[32m \u001b[0m│\n",
       "│\u001b[36m \u001b[0m\u001b[36m    75\u001b[0m\u001b[36m \u001b[0m│\u001b[36m \u001b[0m\u001b[36m52880946\u001b[0m\u001b[36m \u001b[0m│\u001b[36m \u001b[0m\u001b[36m032720…\u001b[0m\u001b[36m \u001b[0m│\u001b[35m \u001b[0m\u001b[35m03272024\u001b[0m\u001b[35m \u001b[0m│\u001b[32m \u001b[0m\u001b[32m   True\u001b[0m\u001b[32m \u001b[0m│\u001b[36m \u001b[0m\u001b[36m     858\u001b[0m\u001b[36m \u001b[0m│\u001b[35m \u001b[0m\u001b[35m858    \u001b[0m\u001b[35m \u001b[0m│\u001b[32m \u001b[0m\u001b[32m    True\u001b[0m\u001b[32m \u001b[0m│\u001b[36m \u001b[0m\u001b[36m    349\u001b[0m\u001b[36m \u001b[0m│\u001b[35m \u001b[0m\u001b[35m        \u001b[0m\u001b[35m \u001b[0m│\u001b[32m \u001b[0m\u001b[32m  False\u001b[0m\u001b[32m \u001b[0m│\n",
       "│\u001b[36m \u001b[0m\u001b[36m    76\u001b[0m\u001b[36m \u001b[0m│\u001b[36m \u001b[0m\u001b[36m52880948\u001b[0m\u001b[36m \u001b[0m│\u001b[36m \u001b[0m\u001b[36m032720…\u001b[0m\u001b[36m \u001b[0m│\u001b[35m \u001b[0m\u001b[35m        \u001b[0m\u001b[35m \u001b[0m│\u001b[32m \u001b[0m\u001b[32m  False\u001b[0m\u001b[32m \u001b[0m│\u001b[36m \u001b[0m\u001b[36m    1557\u001b[0m\u001b[36m \u001b[0m│\u001b[35m \u001b[0m\u001b[35m1557   \u001b[0m\u001b[35m \u001b[0m│\u001b[32m \u001b[0m\u001b[32m    True\u001b[0m\u001b[32m \u001b[0m│\u001b[36m \u001b[0m\u001b[36m    179\u001b[0m\u001b[36m \u001b[0m│\u001b[35m \u001b[0m\u001b[35m        \u001b[0m\u001b[35m \u001b[0m│\u001b[32m \u001b[0m\u001b[32m  False\u001b[0m\u001b[32m \u001b[0m│\n",
       "│\u001b[36m \u001b[0m\u001b[36m    77\u001b[0m\u001b[36m \u001b[0m│\u001b[36m \u001b[0m\u001b[36m52880952\u001b[0m\u001b[36m \u001b[0m│\u001b[36m \u001b[0m\u001b[36m032720…\u001b[0m\u001b[36m \u001b[0m│\u001b[35m \u001b[0m\u001b[35m03272024\u001b[0m\u001b[35m \u001b[0m│\u001b[32m \u001b[0m\u001b[32m   True\u001b[0m\u001b[32m \u001b[0m│\u001b[36m \u001b[0m\u001b[36m     287\u001b[0m\u001b[36m \u001b[0m│\u001b[35m \u001b[0m\u001b[35m287    \u001b[0m\u001b[35m \u001b[0m│\u001b[32m \u001b[0m\u001b[32m    True\u001b[0m\u001b[32m \u001b[0m│\u001b[36m \u001b[0m\u001b[36m     61\u001b[0m\u001b[36m \u001b[0m│\u001b[35m \u001b[0m\u001b[35m        \u001b[0m\u001b[35m \u001b[0m│\u001b[32m \u001b[0m\u001b[32m  False\u001b[0m\u001b[32m \u001b[0m│\n",
       "│\u001b[36m \u001b[0m\u001b[36m    78\u001b[0m\u001b[36m \u001b[0m│\u001b[36m \u001b[0m\u001b[36m53035847\u001b[0m\u001b[36m \u001b[0m│\u001b[36m \u001b[0m\u001b[36m040120…\u001b[0m\u001b[36m \u001b[0m│\u001b[35m \u001b[0m\u001b[35m        \u001b[0m\u001b[35m \u001b[0m│\u001b[32m \u001b[0m\u001b[32m  False\u001b[0m\u001b[32m \u001b[0m│\u001b[36m \u001b[0m\u001b[36m     102\u001b[0m\u001b[36m \u001b[0m│\u001b[35m \u001b[0m\u001b[35m102    \u001b[0m\u001b[35m \u001b[0m│\u001b[32m \u001b[0m\u001b[32m    True\u001b[0m\u001b[32m \u001b[0m│\u001b[36m \u001b[0m\u001b[36m    333\u001b[0m\u001b[36m \u001b[0m│\u001b[35m \u001b[0m\u001b[35m        \u001b[0m\u001b[35m \u001b[0m│\u001b[32m \u001b[0m\u001b[32m  False\u001b[0m\u001b[32m \u001b[0m│\n",
       "│\u001b[36m \u001b[0m\u001b[36m    79\u001b[0m\u001b[36m \u001b[0m│\u001b[36m \u001b[0m\u001b[36m53035848\u001b[0m\u001b[36m \u001b[0m│\u001b[36m \u001b[0m\u001b[36m040120…\u001b[0m\u001b[36m \u001b[0m│\u001b[35m \u001b[0m\u001b[35m        \u001b[0m\u001b[35m \u001b[0m│\u001b[32m \u001b[0m\u001b[32m  False\u001b[0m\u001b[32m \u001b[0m│\u001b[36m \u001b[0m\u001b[36m     102\u001b[0m\u001b[36m \u001b[0m│\u001b[35m \u001b[0m\u001b[35m102    \u001b[0m\u001b[35m \u001b[0m│\u001b[32m \u001b[0m\u001b[32m    True\u001b[0m\u001b[32m \u001b[0m│\u001b[36m \u001b[0m\u001b[36m    337\u001b[0m\u001b[36m \u001b[0m│\u001b[35m \u001b[0m\u001b[35m        \u001b[0m\u001b[35m \u001b[0m│\u001b[32m \u001b[0m\u001b[32m  False\u001b[0m\u001b[32m \u001b[0m│\n",
       "│\u001b[36m \u001b[0m\u001b[36m    80\u001b[0m\u001b[36m \u001b[0m│\u001b[36m \u001b[0m\u001b[36m53035850\u001b[0m\u001b[36m \u001b[0m│\u001b[36m \u001b[0m\u001b[36m040120…\u001b[0m\u001b[36m \u001b[0m│\u001b[35m \u001b[0m\u001b[35m        \u001b[0m\u001b[35m \u001b[0m│\u001b[32m \u001b[0m\u001b[32m  False\u001b[0m\u001b[32m \u001b[0m│\u001b[36m \u001b[0m\u001b[36m    1557\u001b[0m\u001b[36m \u001b[0m│\u001b[35m \u001b[0m\u001b[35m1557   \u001b[0m\u001b[35m \u001b[0m│\u001b[32m \u001b[0m\u001b[32m    True\u001b[0m\u001b[32m \u001b[0m│\u001b[36m \u001b[0m\u001b[36m    428\u001b[0m\u001b[36m \u001b[0m│\u001b[35m \u001b[0m\u001b[35m        \u001b[0m\u001b[35m \u001b[0m│\u001b[32m \u001b[0m\u001b[32m  False\u001b[0m\u001b[32m \u001b[0m│\n",
       "│\u001b[36m \u001b[0m\u001b[36m    81\u001b[0m\u001b[36m \u001b[0m│\u001b[36m \u001b[0m\u001b[36m53035851\u001b[0m\u001b[36m \u001b[0m│\u001b[36m \u001b[0m\u001b[36m040120…\u001b[0m\u001b[36m \u001b[0m│\u001b[35m \u001b[0m\u001b[35m        \u001b[0m\u001b[35m \u001b[0m│\u001b[32m \u001b[0m\u001b[32m  False\u001b[0m\u001b[32m \u001b[0m│\u001b[36m \u001b[0m\u001b[36m     858\u001b[0m\u001b[36m \u001b[0m│\u001b[35m \u001b[0m\u001b[35m858    \u001b[0m\u001b[35m \u001b[0m│\u001b[32m \u001b[0m\u001b[32m    True\u001b[0m\u001b[32m \u001b[0m│\u001b[36m \u001b[0m\u001b[36m    394\u001b[0m\u001b[36m \u001b[0m│\u001b[35m \u001b[0m\u001b[35m        \u001b[0m\u001b[35m \u001b[0m│\u001b[32m \u001b[0m\u001b[32m  False\u001b[0m\u001b[32m \u001b[0m│\n",
       "│\u001b[36m \u001b[0m\u001b[36m    82\u001b[0m\u001b[36m \u001b[0m│\u001b[36m \u001b[0m\u001b[36m53035854\u001b[0m\u001b[36m \u001b[0m│\u001b[36m \u001b[0m\u001b[36m040120…\u001b[0m\u001b[36m \u001b[0m│\u001b[35m \u001b[0m\u001b[35m        \u001b[0m\u001b[35m \u001b[0m│\u001b[32m \u001b[0m\u001b[32m  False\u001b[0m\u001b[32m \u001b[0m│\u001b[36m \u001b[0m\u001b[36m     858\u001b[0m\u001b[36m \u001b[0m│\u001b[35m \u001b[0m\u001b[35m858    \u001b[0m\u001b[35m \u001b[0m│\u001b[32m \u001b[0m\u001b[32m    True\u001b[0m\u001b[32m \u001b[0m│\u001b[36m \u001b[0m\u001b[36m    400\u001b[0m\u001b[36m \u001b[0m│\u001b[35m \u001b[0m\u001b[35m        \u001b[0m\u001b[35m \u001b[0m│\u001b[32m \u001b[0m\u001b[32m  False\u001b[0m\u001b[32m \u001b[0m│\n",
       "│\u001b[36m \u001b[0m\u001b[36m    83\u001b[0m\u001b[36m \u001b[0m│\u001b[36m \u001b[0m\u001b[36m53035855\u001b[0m\u001b[36m \u001b[0m│\u001b[36m \u001b[0m\u001b[36m040120…\u001b[0m\u001b[36m \u001b[0m│\u001b[35m \u001b[0m\u001b[35m        \u001b[0m\u001b[35m \u001b[0m│\u001b[32m \u001b[0m\u001b[32m  False\u001b[0m\u001b[32m \u001b[0m│\u001b[36m \u001b[0m\u001b[36m     858\u001b[0m\u001b[36m \u001b[0m│\u001b[35m \u001b[0m\u001b[35m858    \u001b[0m\u001b[35m \u001b[0m│\u001b[32m \u001b[0m\u001b[32m    True\u001b[0m\u001b[32m \u001b[0m│\u001b[36m \u001b[0m\u001b[36m    410\u001b[0m\u001b[36m \u001b[0m│\u001b[35m \u001b[0m\u001b[35m        \u001b[0m\u001b[35m \u001b[0m│\u001b[32m \u001b[0m\u001b[32m  False\u001b[0m\u001b[32m \u001b[0m│\n",
       "│\u001b[36m \u001b[0m\u001b[36m    84\u001b[0m\u001b[36m \u001b[0m│\u001b[36m \u001b[0m\u001b[36m53035857\u001b[0m\u001b[36m \u001b[0m│\u001b[36m \u001b[0m\u001b[36m040120…\u001b[0m\u001b[36m \u001b[0m│\u001b[35m \u001b[0m\u001b[35m        \u001b[0m\u001b[35m \u001b[0m│\u001b[32m \u001b[0m\u001b[32m  False\u001b[0m\u001b[32m \u001b[0m│\u001b[36m \u001b[0m\u001b[36m     858\u001b[0m\u001b[36m \u001b[0m│\u001b[35m \u001b[0m\u001b[35m858    \u001b[0m\u001b[35m \u001b[0m│\u001b[32m \u001b[0m\u001b[32m    True\u001b[0m\u001b[32m \u001b[0m│\u001b[36m \u001b[0m\u001b[36m    418\u001b[0m\u001b[36m \u001b[0m│\u001b[35m \u001b[0m\u001b[35m        \u001b[0m\u001b[35m \u001b[0m│\u001b[32m \u001b[0m\u001b[32m  False\u001b[0m\u001b[32m \u001b[0m│\n",
       "│\u001b[36m \u001b[0m\u001b[36m    85\u001b[0m\u001b[36m \u001b[0m│\u001b[36m \u001b[0m\u001b[36m53035859\u001b[0m\u001b[36m \u001b[0m│\u001b[36m \u001b[0m\u001b[36m040120…\u001b[0m\u001b[36m \u001b[0m│\u001b[35m \u001b[0m\u001b[35m        \u001b[0m\u001b[35m \u001b[0m│\u001b[32m \u001b[0m\u001b[32m  False\u001b[0m\u001b[32m \u001b[0m│\u001b[36m \u001b[0m\u001b[36m     858\u001b[0m\u001b[36m \u001b[0m│\u001b[35m \u001b[0m\u001b[35m858    \u001b[0m\u001b[35m \u001b[0m│\u001b[32m \u001b[0m\u001b[32m    True\u001b[0m\u001b[32m \u001b[0m│\u001b[36m \u001b[0m\u001b[36m    422\u001b[0m\u001b[36m \u001b[0m│\u001b[35m \u001b[0m\u001b[35m        \u001b[0m\u001b[35m \u001b[0m│\u001b[32m \u001b[0m\u001b[32m  False\u001b[0m\u001b[32m \u001b[0m│\n",
       "│\u001b[36m \u001b[0m\u001b[36m    86\u001b[0m\u001b[36m \u001b[0m│\u001b[36m \u001b[0m\u001b[36m53035860\u001b[0m\u001b[36m \u001b[0m│\u001b[36m \u001b[0m\u001b[36m040120…\u001b[0m\u001b[36m \u001b[0m│\u001b[35m \u001b[0m\u001b[35m        \u001b[0m\u001b[35m \u001b[0m│\u001b[32m \u001b[0m\u001b[32m  False\u001b[0m\u001b[32m \u001b[0m│\u001b[36m \u001b[0m\u001b[36m     858\u001b[0m\u001b[36m \u001b[0m│\u001b[35m \u001b[0m\u001b[35m858    \u001b[0m\u001b[35m \u001b[0m│\u001b[32m \u001b[0m\u001b[32m    True\u001b[0m\u001b[32m \u001b[0m│\u001b[36m \u001b[0m\u001b[36m    427\u001b[0m\u001b[36m \u001b[0m│\u001b[35m \u001b[0m\u001b[35m        \u001b[0m\u001b[35m \u001b[0m│\u001b[32m \u001b[0m\u001b[32m  False\u001b[0m\u001b[32m \u001b[0m│\n",
       "│\u001b[36m \u001b[0m\u001b[36m    87\u001b[0m\u001b[36m \u001b[0m│\u001b[36m \u001b[0m\u001b[36m53035962\u001b[0m\u001b[36m \u001b[0m│\u001b[36m \u001b[0m\u001b[36m032820…\u001b[0m\u001b[36m \u001b[0m│\u001b[35m \u001b[0m\u001b[35m03282024\u001b[0m\u001b[35m \u001b[0m│\u001b[32m \u001b[0m\u001b[32m   True\u001b[0m\u001b[32m \u001b[0m│\u001b[36m \u001b[0m\u001b[36m     287\u001b[0m\u001b[36m \u001b[0m│\u001b[35m \u001b[0m\u001b[35m287    \u001b[0m\u001b[35m \u001b[0m│\u001b[32m \u001b[0m\u001b[32m    True\u001b[0m\u001b[32m \u001b[0m│\u001b[36m \u001b[0m\u001b[36m     63\u001b[0m\u001b[36m \u001b[0m│\u001b[35m \u001b[0m\u001b[35m        \u001b[0m\u001b[35m \u001b[0m│\u001b[32m \u001b[0m\u001b[32m  False\u001b[0m\u001b[32m \u001b[0m│\n",
       "│\u001b[36m \u001b[0m\u001b[36m    88\u001b[0m\u001b[36m \u001b[0m│\u001b[36m \u001b[0m\u001b[36m53035968\u001b[0m\u001b[36m \u001b[0m│\u001b[36m \u001b[0m\u001b[36m032820…\u001b[0m\u001b[36m \u001b[0m│\u001b[35m \u001b[0m\u001b[35m        \u001b[0m\u001b[35m \u001b[0m│\u001b[32m \u001b[0m\u001b[32m  False\u001b[0m\u001b[32m \u001b[0m│\u001b[36m \u001b[0m\u001b[36m     858\u001b[0m\u001b[36m \u001b[0m│\u001b[35m \u001b[0m\u001b[35m858    \u001b[0m\u001b[35m \u001b[0m│\u001b[32m \u001b[0m\u001b[32m    True\u001b[0m\u001b[32m \u001b[0m│\u001b[36m \u001b[0m\u001b[36m    352\u001b[0m\u001b[36m \u001b[0m│\u001b[35m \u001b[0m\u001b[35m        \u001b[0m\u001b[35m \u001b[0m│\u001b[32m \u001b[0m\u001b[32m  False\u001b[0m\u001b[32m \u001b[0m│\n",
       "│\u001b[36m \u001b[0m\u001b[36m    89\u001b[0m\u001b[36m \u001b[0m│\u001b[36m \u001b[0m\u001b[36m53035970\u001b[0m\u001b[36m \u001b[0m│\u001b[36m \u001b[0m\u001b[36m032820…\u001b[0m\u001b[36m \u001b[0m│\u001b[35m \u001b[0m\u001b[35m        \u001b[0m\u001b[35m \u001b[0m│\u001b[32m \u001b[0m\u001b[32m  False\u001b[0m\u001b[32m \u001b[0m│\u001b[36m \u001b[0m\u001b[36m    1557\u001b[0m\u001b[36m \u001b[0m│\u001b[35m \u001b[0m\u001b[35m1557   \u001b[0m\u001b[35m \u001b[0m│\u001b[32m \u001b[0m\u001b[32m    True\u001b[0m\u001b[32m \u001b[0m│\u001b[36m \u001b[0m\u001b[36m    260\u001b[0m\u001b[36m \u001b[0m│\u001b[35m \u001b[0m\u001b[35m        \u001b[0m\u001b[35m \u001b[0m│\u001b[32m \u001b[0m\u001b[32m  False\u001b[0m\u001b[32m \u001b[0m│\n",
       "│\u001b[36m \u001b[0m\u001b[36m    90\u001b[0m\u001b[36m \u001b[0m│\u001b[36m \u001b[0m\u001b[36m53035971\u001b[0m\u001b[36m \u001b[0m│\u001b[36m \u001b[0m\u001b[36m032820…\u001b[0m\u001b[36m \u001b[0m│\u001b[35m \u001b[0m\u001b[35m        \u001b[0m\u001b[35m \u001b[0m│\u001b[32m \u001b[0m\u001b[32m  False\u001b[0m\u001b[32m \u001b[0m│\u001b[36m \u001b[0m\u001b[36m     858\u001b[0m\u001b[36m \u001b[0m│\u001b[35m \u001b[0m\u001b[35m858    \u001b[0m\u001b[35m \u001b[0m│\u001b[32m \u001b[0m\u001b[32m    True\u001b[0m\u001b[32m \u001b[0m│\u001b[36m \u001b[0m\u001b[36m    367\u001b[0m\u001b[36m \u001b[0m│\u001b[35m \u001b[0m\u001b[35m        \u001b[0m\u001b[35m \u001b[0m│\u001b[32m \u001b[0m\u001b[32m  False\u001b[0m\u001b[32m \u001b[0m│\n",
       "│\u001b[36m \u001b[0m\u001b[36m    91\u001b[0m\u001b[36m \u001b[0m│\u001b[36m \u001b[0m\u001b[36m53035972\u001b[0m\u001b[36m \u001b[0m│\u001b[36m \u001b[0m\u001b[36m032820…\u001b[0m\u001b[36m \u001b[0m│\u001b[35m \u001b[0m\u001b[35m        \u001b[0m\u001b[35m \u001b[0m│\u001b[32m \u001b[0m\u001b[32m  False\u001b[0m\u001b[32m \u001b[0m│\u001b[36m \u001b[0m\u001b[36m    1557\u001b[0m\u001b[36m \u001b[0m│\u001b[35m \u001b[0m\u001b[35m1557   \u001b[0m\u001b[35m \u001b[0m│\u001b[32m \u001b[0m\u001b[32m    True\u001b[0m\u001b[32m \u001b[0m│\u001b[36m \u001b[0m\u001b[36m    265\u001b[0m\u001b[36m \u001b[0m│\u001b[35m \u001b[0m\u001b[35m        \u001b[0m\u001b[35m \u001b[0m│\u001b[32m \u001b[0m\u001b[32m  False\u001b[0m\u001b[32m \u001b[0m│\n",
       "│\u001b[36m \u001b[0m\u001b[36m    92\u001b[0m\u001b[36m \u001b[0m│\u001b[36m \u001b[0m\u001b[36m53035974\u001b[0m\u001b[36m \u001b[0m│\u001b[36m \u001b[0m\u001b[36m032820…\u001b[0m\u001b[36m \u001b[0m│\u001b[35m \u001b[0m\u001b[35m        \u001b[0m\u001b[35m \u001b[0m│\u001b[32m \u001b[0m\u001b[32m  False\u001b[0m\u001b[32m \u001b[0m│\u001b[36m \u001b[0m\u001b[36m    1557\u001b[0m\u001b[36m \u001b[0m│\u001b[35m \u001b[0m\u001b[35m285    \u001b[0m\u001b[35m \u001b[0m│\u001b[32m \u001b[0m\u001b[32m   False\u001b[0m\u001b[32m \u001b[0m│\u001b[36m \u001b[0m\u001b[36m    285\u001b[0m\u001b[36m \u001b[0m│\u001b[35m \u001b[0m\u001b[35m        \u001b[0m\u001b[35m \u001b[0m│\u001b[32m \u001b[0m\u001b[32m  False\u001b[0m\u001b[32m \u001b[0m│\n",
       "│\u001b[36m \u001b[0m\u001b[36m    93\u001b[0m\u001b[36m \u001b[0m│\u001b[36m \u001b[0m\u001b[36m53035978\u001b[0m\u001b[36m \u001b[0m│\u001b[36m \u001b[0m\u001b[36m032820…\u001b[0m\u001b[36m \u001b[0m│\u001b[35m \u001b[0m\u001b[35m03282024\u001b[0m\u001b[35m \u001b[0m│\u001b[32m \u001b[0m\u001b[32m   True\u001b[0m\u001b[32m \u001b[0m│\u001b[36m \u001b[0m\u001b[36m     858\u001b[0m\u001b[36m \u001b[0m│\u001b[35m \u001b[0m\u001b[35m858    \u001b[0m\u001b[35m \u001b[0m│\u001b[32m \u001b[0m\u001b[32m    True\u001b[0m\u001b[32m \u001b[0m│\u001b[36m \u001b[0m\u001b[36m    371\u001b[0m\u001b[36m \u001b[0m│\u001b[35m \u001b[0m\u001b[35m        \u001b[0m\u001b[35m \u001b[0m│\u001b[32m \u001b[0m\u001b[32m  False\u001b[0m\u001b[32m \u001b[0m│\n",
       "│\u001b[36m \u001b[0m\u001b[36m    94\u001b[0m\u001b[36m \u001b[0m│\u001b[36m \u001b[0m\u001b[36m53035981\u001b[0m\u001b[36m \u001b[0m│\u001b[36m \u001b[0m\u001b[36m032820…\u001b[0m\u001b[36m \u001b[0m│\u001b[35m \u001b[0m\u001b[35m03282024\u001b[0m\u001b[35m \u001b[0m│\u001b[32m \u001b[0m\u001b[32m   True\u001b[0m\u001b[32m \u001b[0m│\u001b[36m \u001b[0m\u001b[36m    1657\u001b[0m\u001b[36m \u001b[0m│\u001b[35m \u001b[0m\u001b[35m1557   \u001b[0m\u001b[35m \u001b[0m│\u001b[32m \u001b[0m\u001b[32m   False\u001b[0m\u001b[32m \u001b[0m│\u001b[36m \u001b[0m\u001b[36m    348\u001b[0m\u001b[36m \u001b[0m│\u001b[35m \u001b[0m\u001b[35m        \u001b[0m\u001b[35m \u001b[0m│\u001b[32m \u001b[0m\u001b[32m  False\u001b[0m\u001b[32m \u001b[0m│\n",
       "│\u001b[36m \u001b[0m\u001b[36m    95\u001b[0m\u001b[36m \u001b[0m│\u001b[36m \u001b[0m\u001b[36m53035987\u001b[0m\u001b[36m \u001b[0m│\u001b[36m \u001b[0m\u001b[36m032820…\u001b[0m\u001b[36m \u001b[0m│\u001b[35m \u001b[0m\u001b[35m        \u001b[0m\u001b[35m \u001b[0m│\u001b[32m \u001b[0m\u001b[32m  False\u001b[0m\u001b[32m \u001b[0m│\u001b[36m \u001b[0m\u001b[36m     858\u001b[0m\u001b[36m \u001b[0m│\u001b[35m \u001b[0m\u001b[35m858    \u001b[0m\u001b[35m \u001b[0m│\u001b[32m \u001b[0m\u001b[32m    True\u001b[0m\u001b[32m \u001b[0m│\u001b[36m \u001b[0m\u001b[36m    375\u001b[0m\u001b[36m \u001b[0m│\u001b[35m \u001b[0m\u001b[35m        \u001b[0m\u001b[35m \u001b[0m│\u001b[32m \u001b[0m\u001b[32m  False\u001b[0m\u001b[32m \u001b[0m│\n",
       "│\u001b[36m \u001b[0m\u001b[36m    96\u001b[0m\u001b[36m \u001b[0m│\u001b[36m \u001b[0m\u001b[36m53035988\u001b[0m\u001b[36m \u001b[0m│\u001b[36m \u001b[0m\u001b[36m032820…\u001b[0m\u001b[36m \u001b[0m│\u001b[35m \u001b[0m\u001b[35m        \u001b[0m\u001b[35m \u001b[0m│\u001b[32m \u001b[0m\u001b[32m  False\u001b[0m\u001b[32m \u001b[0m│\u001b[36m \u001b[0m\u001b[36m     858\u001b[0m\u001b[36m \u001b[0m│\u001b[35m \u001b[0m\u001b[35m858    \u001b[0m\u001b[35m \u001b[0m│\u001b[32m \u001b[0m\u001b[32m    True\u001b[0m\u001b[32m \u001b[0m│\u001b[36m \u001b[0m\u001b[36m    378\u001b[0m\u001b[36m \u001b[0m│\u001b[35m \u001b[0m\u001b[35m        \u001b[0m\u001b[35m \u001b[0m│\u001b[32m \u001b[0m\u001b[32m  False\u001b[0m\u001b[32m \u001b[0m│\n",
       "│\u001b[36m \u001b[0m\u001b[36m    97\u001b[0m\u001b[36m \u001b[0m│\u001b[36m \u001b[0m\u001b[36m53035990\u001b[0m\u001b[36m \u001b[0m│\u001b[36m \u001b[0m\u001b[36m032820…\u001b[0m\u001b[36m \u001b[0m│\u001b[35m \u001b[0m\u001b[35m        \u001b[0m\u001b[35m \u001b[0m│\u001b[32m \u001b[0m\u001b[32m  False\u001b[0m\u001b[32m \u001b[0m│\u001b[36m \u001b[0m\u001b[36m     858\u001b[0m\u001b[36m \u001b[0m│\u001b[35m \u001b[0m\u001b[35m858    \u001b[0m\u001b[35m \u001b[0m│\u001b[32m \u001b[0m\u001b[32m    True\u001b[0m\u001b[32m \u001b[0m│\u001b[36m \u001b[0m\u001b[36m    382\u001b[0m\u001b[36m \u001b[0m│\u001b[35m \u001b[0m\u001b[35m        \u001b[0m\u001b[35m \u001b[0m│\u001b[32m \u001b[0m\u001b[32m  False\u001b[0m\u001b[32m \u001b[0m│\n",
       "│\u001b[36m \u001b[0m\u001b[36m    98\u001b[0m\u001b[36m \u001b[0m│\u001b[36m \u001b[0m\u001b[36m53035991\u001b[0m\u001b[36m \u001b[0m│\u001b[36m \u001b[0m\u001b[36m032820…\u001b[0m\u001b[36m \u001b[0m│\u001b[35m \u001b[0m\u001b[35m        \u001b[0m\u001b[35m \u001b[0m│\u001b[32m \u001b[0m\u001b[32m  False\u001b[0m\u001b[32m \u001b[0m│\u001b[36m \u001b[0m\u001b[36m     858\u001b[0m\u001b[36m \u001b[0m│\u001b[35m \u001b[0m\u001b[35m858    \u001b[0m\u001b[35m \u001b[0m│\u001b[32m \u001b[0m\u001b[32m    True\u001b[0m\u001b[32m \u001b[0m│\u001b[36m \u001b[0m\u001b[36m    386\u001b[0m\u001b[36m \u001b[0m│\u001b[35m \u001b[0m\u001b[35m        \u001b[0m\u001b[35m \u001b[0m│\u001b[32m \u001b[0m\u001b[32m  False\u001b[0m\u001b[32m \u001b[0m│\n",
       "│\u001b[36m \u001b[0m\u001b[36m    99\u001b[0m\u001b[36m \u001b[0m│\u001b[36m \u001b[0m\u001b[36m53035992\u001b[0m\u001b[36m \u001b[0m│\u001b[36m \u001b[0m\u001b[36m032820…\u001b[0m\u001b[36m \u001b[0m│\u001b[35m \u001b[0m\u001b[35m        \u001b[0m\u001b[35m \u001b[0m│\u001b[32m \u001b[0m\u001b[32m  False\u001b[0m\u001b[32m \u001b[0m│\u001b[36m \u001b[0m\u001b[36m    1567\u001b[0m\u001b[36m \u001b[0m│\u001b[35m \u001b[0m\u001b[35m1557   \u001b[0m\u001b[35m \u001b[0m│\u001b[32m \u001b[0m\u001b[32m   False\u001b[0m\u001b[32m \u001b[0m│\u001b[36m \u001b[0m\u001b[36m    395\u001b[0m\u001b[36m \u001b[0m│\u001b[35m \u001b[0m\u001b[35m        \u001b[0m\u001b[35m \u001b[0m│\u001b[32m \u001b[0m\u001b[32m  False\u001b[0m\u001b[32m \u001b[0m│\n",
       "└────────┴──────────┴─────────┴──────────┴─────────┴──────────┴─────────┴──────────┴─────────┴──────────┴─────────┘\n"
      ]
     },
     "metadata": {},
     "output_type": "display_data"
    }
   ],
   "source": [
    "table = Table(title=\"KY set2\")\n",
    "\n",
    "table.add_column(\"S. No.\", justify=\"right\", style=\"cyan\", no_wrap=False)\n",
    "table.add_column(\"Batchid\", justify=\"right\", style=\"cyan\", no_wrap=False)\n",
    "table.add_column(\"6-keyed_values\", justify=\"right\", style=\"cyan\", no_wrap=False)\n",
    "table.add_column(\"6-spacy_values\", style=\"magenta\", no_wrap=False)\n",
    "table.add_column(\"6-match_status\", justify=\"right\", style=\"green\", no_wrap=False)\n",
    "table.add_column(\"92-keyed_values\", justify=\"right\", style=\"cyan\", no_wrap=False)\n",
    "table.add_column(\"92-spacy_values\", style=\"magenta\", no_wrap=False)\n",
    "table.add_column(\"92-match_status\", justify=\"right\", style=\"green\", no_wrap=False)\n",
    "table.add_column(\"93-keyed_values\", justify=\"right\", style=\"cyan\", no_wrap=False)\n",
    "table.add_column(\"93-spacy_values\", style=\"magenta\", no_wrap=False)\n",
    "table.add_column(\"93-match_status\", justify=\"right\", style=\"green\", no_wrap=False)\n",
    "\n",
    "from collections import defaultdict\n",
    "\n",
    "import json\n",
    "import zipfile\n",
    "from pathlib import Path\n",
    "key_dict = defaultdict(list)\n",
    "i = 1\n",
    "batches_avilable = list(Path(\"ok_retest\").iterdir())\n",
    "batches_avilable.sort()\n",
    "for p in track(batches_avilable):\n",
    "    n = str(p.name).replace(\".zip\",'')\n",
    "    # if int(n) not in b93 : continue\n",
    "    with zipfile.ZipFile(p, mode=\"r\") as archive:\n",
    "        try:\n",
    "            name = str(p.name).replace(r'.zip','')\n",
    "            spacyF = archive.open(\"spacy.json\",'r')\n",
    "            outputF = archive.open(\"output_data.json\",'r')\n",
    "            spacy = json.load(spacyF)\n",
    "            output = json.load(outputF)\n",
    "            output = {item[\"id\"]: item[\"value\"] for item in output[\"data\"]}\n",
    "            out92 = output.get('92','')\n",
    "            spacy92 = spacy.get('92','')\n",
    "            match92 = out92.strip() == spacy92.strip()\n",
    "            out93 = output.get('93','')\n",
    "            spacy93 = spacy.get('93','')\n",
    "            match93 = out93.strip() == spacy93.strip()\n",
    "            out6 = output.get('6','')\n",
    "            spacy6 = spacy.get('6','')\n",
    "            match6 = out6.strip() == spacy6.strip()\n",
    "\n",
    "            table.add_row(f\"{i}\",f\"{name}\",f\"{out6}\",f\"{spacy6}\",f\"{match6}\",f\"{out92}\",f\"{spacy92}\",f\"{match92}\",f\"{out93}\",f\"{spacy93}\",f\"{match93}\") #,f\"{out6}\",f\"{spacy6}\",f\"{match6}\"\n",
    "            key_dict['S.NO.'].append(i)\n",
    "            key_dict['batchid'].append(name)\n",
    "            key_dict['6-keyed_values'].append(out6)\n",
    "            key_dict['6-spacy_values'].append(spacy6)\n",
    "            key_dict['6-match_status'].append(match6)\n",
    "            key_dict['92-keyed_values'].append(out92)\n",
    "            key_dict['92-spacy_values'].append(spacy92)\n",
    "            key_dict['92-match_status'].append(match92)\n",
    "            key_dict['93-keyed_values'].append(out93)\n",
    "            key_dict['93-spacy_values'].append(spacy93)\n",
    "            key_dict['93-match_status'].append(match93)\n",
    "\n",
    "            # print(\n",
    "            #     f\"batch id = {str(p.name).replace(r'.zip','')} | Field 92 = {spacy.get('92')} | Field 93 = {spacy.get('93')}\"\n",
    "            # )\n",
    "            spacyF.close()\n",
    "            outputF.close()\n",
    "            # print(p.name,data.get(\"5\"),data.get(\"6\"),data.get(\"92\"),data.get(\"93\"))\n",
    "        except Exception as e:\n",
    "            print(e,name)\n",
    "            spacyF.close()\n",
    "            outputF.close()\n",
    "        i+=1\n",
    "\n",
    "console = Console()\n",
    "console.print(table)"
   ]
  },
  {
   "cell_type": "code",
   "execution_count": 11,
   "id": "6e4abb40-1145-42b5-bc6d-cd54261257da",
   "metadata": {
    "deletable": true,
    "editable": true,
    "frozen": false
   },
   "outputs": [
    {
     "data": {
      "text/html": [
       "<pre style=\"white-space:pre;overflow-x:auto;line-height:normal;font-family:Menlo,'DejaVu Sans Mono',consolas,'Courier New',monospace\">batch id = <span style=\"color: #008080; text-decoration-color: #008080; font-weight: bold\">2628740</span> | <span style=\"color: #800080; text-decoration-color: #800080; font-weight: bold\">data.get</span><span style=\"font-weight: bold\">(</span><span style=\"color: #008000; text-decoration-color: #008000\">'5'</span><span style=\"font-weight: bold\">)</span>=<span style=\"color: #800080; text-decoration-color: #800080; font-style: italic\">None</span> | <span style=\"color: #800080; text-decoration-color: #800080; font-weight: bold\">data.get</span><span style=\"font-weight: bold\">(</span><span style=\"color: #008000; text-decoration-color: #008000\">'6'</span><span style=\"font-weight: bold\">)</span>=<span style=\"color: #008000; text-decoration-color: #008000\">'03042024'</span>\n",
       "</pre>\n"
      ],
      "text/plain": [
       "batch id = \u001b[1;36m2628740\u001b[0m | \u001b[1;35mdata.get\u001b[0m\u001b[1m(\u001b[0m\u001b[32m'5'\u001b[0m\u001b[1m)\u001b[0m=\u001b[3;35mNone\u001b[0m | \u001b[1;35mdata.get\u001b[0m\u001b[1m(\u001b[0m\u001b[32m'6'\u001b[0m\u001b[1m)\u001b[0m=\u001b[32m'03042024'\u001b[0m\n"
      ]
     },
     "metadata": {},
     "output_type": "display_data"
    },
    {
     "data": {
      "text/html": [
       "<pre style=\"white-space:pre;overflow-x:auto;line-height:normal;font-family:Menlo,'DejaVu Sans Mono',consolas,'Courier New',monospace\">batch id = <span style=\"color: #008080; text-decoration-color: #008080; font-weight: bold\">2628745</span> | <span style=\"color: #800080; text-decoration-color: #800080; font-weight: bold\">data.get</span><span style=\"font-weight: bold\">(</span><span style=\"color: #008000; text-decoration-color: #008000\">'5'</span><span style=\"font-weight: bold\">)</span>=<span style=\"color: #800080; text-decoration-color: #800080; font-style: italic\">None</span> | <span style=\"color: #800080; text-decoration-color: #800080; font-weight: bold\">data.get</span><span style=\"font-weight: bold\">(</span><span style=\"color: #008000; text-decoration-color: #008000\">'6'</span><span style=\"font-weight: bold\">)</span>=<span style=\"color: #008000; text-decoration-color: #008000\">'03042024'</span>\n",
       "</pre>\n"
      ],
      "text/plain": [
       "batch id = \u001b[1;36m2628745\u001b[0m | \u001b[1;35mdata.get\u001b[0m\u001b[1m(\u001b[0m\u001b[32m'5'\u001b[0m\u001b[1m)\u001b[0m=\u001b[3;35mNone\u001b[0m | \u001b[1;35mdata.get\u001b[0m\u001b[1m(\u001b[0m\u001b[32m'6'\u001b[0m\u001b[1m)\u001b[0m=\u001b[32m'03042024'\u001b[0m\n"
      ]
     },
     "metadata": {},
     "output_type": "display_data"
    },
    {
     "data": {
      "text/html": [
       "<pre style=\"white-space:pre;overflow-x:auto;line-height:normal;font-family:Menlo,'DejaVu Sans Mono',consolas,'Courier New',monospace\">batch id = <span style=\"color: #008080; text-decoration-color: #008080; font-weight: bold\">2632845</span> | <span style=\"color: #800080; text-decoration-color: #800080; font-weight: bold\">data.get</span><span style=\"font-weight: bold\">(</span><span style=\"color: #008000; text-decoration-color: #008000\">'5'</span><span style=\"font-weight: bold\">)</span>=<span style=\"color: #008000; text-decoration-color: #008000\">'523839'</span> | <span style=\"color: #800080; text-decoration-color: #800080; font-weight: bold\">data.get</span><span style=\"font-weight: bold\">(</span><span style=\"color: #008000; text-decoration-color: #008000\">'6'</span><span style=\"font-weight: bold\">)</span>=<span style=\"color: #008000; text-decoration-color: #008000\">'03012024'</span>\n",
       "</pre>\n"
      ],
      "text/plain": [
       "batch id = \u001b[1;36m2632845\u001b[0m | \u001b[1;35mdata.get\u001b[0m\u001b[1m(\u001b[0m\u001b[32m'5'\u001b[0m\u001b[1m)\u001b[0m=\u001b[32m'523839'\u001b[0m | \u001b[1;35mdata.get\u001b[0m\u001b[1m(\u001b[0m\u001b[32m'6'\u001b[0m\u001b[1m)\u001b[0m=\u001b[32m'03012024'\u001b[0m\n"
      ]
     },
     "metadata": {},
     "output_type": "display_data"
    },
    {
     "data": {
      "text/html": [
       "<pre style=\"white-space:pre;overflow-x:auto;line-height:normal;font-family:Menlo,'DejaVu Sans Mono',consolas,'Courier New',monospace\">batch id = <span style=\"color: #008080; text-decoration-color: #008080; font-weight: bold\">2632847</span> | <span style=\"color: #800080; text-decoration-color: #800080; font-weight: bold\">data.get</span><span style=\"font-weight: bold\">(</span><span style=\"color: #008000; text-decoration-color: #008000\">'5'</span><span style=\"font-weight: bold\">)</span>=<span style=\"color: #008000; text-decoration-color: #008000\">'523847'</span> | <span style=\"color: #800080; text-decoration-color: #800080; font-weight: bold\">data.get</span><span style=\"font-weight: bold\">(</span><span style=\"color: #008000; text-decoration-color: #008000\">'6'</span><span style=\"font-weight: bold\">)</span>=<span style=\"color: #008000; text-decoration-color: #008000\">'03012024'</span>\n",
       "</pre>\n"
      ],
      "text/plain": [
       "batch id = \u001b[1;36m2632847\u001b[0m | \u001b[1;35mdata.get\u001b[0m\u001b[1m(\u001b[0m\u001b[32m'5'\u001b[0m\u001b[1m)\u001b[0m=\u001b[32m'523847'\u001b[0m | \u001b[1;35mdata.get\u001b[0m\u001b[1m(\u001b[0m\u001b[32m'6'\u001b[0m\u001b[1m)\u001b[0m=\u001b[32m'03012024'\u001b[0m\n"
      ]
     },
     "metadata": {},
     "output_type": "display_data"
    },
    {
     "data": {
      "text/html": [
       "<pre style=\"white-space:pre;overflow-x:auto;line-height:normal;font-family:Menlo,'DejaVu Sans Mono',consolas,'Courier New',monospace\">batch id = <span style=\"color: #008080; text-decoration-color: #008080; font-weight: bold\">2632848</span> | <span style=\"color: #800080; text-decoration-color: #800080; font-weight: bold\">data.get</span><span style=\"font-weight: bold\">(</span><span style=\"color: #008000; text-decoration-color: #008000\">'5'</span><span style=\"font-weight: bold\">)</span>=<span style=\"color: #800080; text-decoration-color: #800080; font-style: italic\">None</span> | <span style=\"color: #800080; text-decoration-color: #800080; font-weight: bold\">data.get</span><span style=\"font-weight: bold\">(</span><span style=\"color: #008000; text-decoration-color: #008000\">'6'</span><span style=\"font-weight: bold\">)</span>=<span style=\"color: #008000; text-decoration-color: #008000\">'03012024'</span>\n",
       "</pre>\n"
      ],
      "text/plain": [
       "batch id = \u001b[1;36m2632848\u001b[0m | \u001b[1;35mdata.get\u001b[0m\u001b[1m(\u001b[0m\u001b[32m'5'\u001b[0m\u001b[1m)\u001b[0m=\u001b[3;35mNone\u001b[0m | \u001b[1;35mdata.get\u001b[0m\u001b[1m(\u001b[0m\u001b[32m'6'\u001b[0m\u001b[1m)\u001b[0m=\u001b[32m'03012024'\u001b[0m\n"
      ]
     },
     "metadata": {},
     "output_type": "display_data"
    },
    {
     "data": {
      "text/html": [
       "<pre style=\"white-space:pre;overflow-x:auto;line-height:normal;font-family:Menlo,'DejaVu Sans Mono',consolas,'Courier New',monospace\">batch id = <span style=\"color: #008080; text-decoration-color: #008080; font-weight: bold\">2632851</span> | <span style=\"color: #800080; text-decoration-color: #800080; font-weight: bold\">data.get</span><span style=\"font-weight: bold\">(</span><span style=\"color: #008000; text-decoration-color: #008000\">'5'</span><span style=\"font-weight: bold\">)</span>=<span style=\"color: #008000; text-decoration-color: #008000\">'523845'</span> | <span style=\"color: #800080; text-decoration-color: #800080; font-weight: bold\">data.get</span><span style=\"font-weight: bold\">(</span><span style=\"color: #008000; text-decoration-color: #008000\">'6'</span><span style=\"font-weight: bold\">)</span>=<span style=\"color: #008000; text-decoration-color: #008000\">'03012024'</span>\n",
       "</pre>\n"
      ],
      "text/plain": [
       "batch id = \u001b[1;36m2632851\u001b[0m | \u001b[1;35mdata.get\u001b[0m\u001b[1m(\u001b[0m\u001b[32m'5'\u001b[0m\u001b[1m)\u001b[0m=\u001b[32m'523845'\u001b[0m | \u001b[1;35mdata.get\u001b[0m\u001b[1m(\u001b[0m\u001b[32m'6'\u001b[0m\u001b[1m)\u001b[0m=\u001b[32m'03012024'\u001b[0m\n"
      ]
     },
     "metadata": {},
     "output_type": "display_data"
    },
    {
     "data": {
      "text/html": [
       "<pre style=\"white-space:pre;overflow-x:auto;line-height:normal;font-family:Menlo,'DejaVu Sans Mono',consolas,'Courier New',monospace\">batch id = <span style=\"color: #008080; text-decoration-color: #008080; font-weight: bold\">2632853</span> | <span style=\"color: #800080; text-decoration-color: #800080; font-weight: bold\">data.get</span><span style=\"font-weight: bold\">(</span><span style=\"color: #008000; text-decoration-color: #008000\">'5'</span><span style=\"font-weight: bold\">)</span>=<span style=\"color: #800080; text-decoration-color: #800080; font-style: italic\">None</span> | <span style=\"color: #800080; text-decoration-color: #800080; font-weight: bold\">data.get</span><span style=\"font-weight: bold\">(</span><span style=\"color: #008000; text-decoration-color: #008000\">'6'</span><span style=\"font-weight: bold\">)</span>=<span style=\"color: #008000; text-decoration-color: #008000\">'03012024'</span>\n",
       "</pre>\n"
      ],
      "text/plain": [
       "batch id = \u001b[1;36m2632853\u001b[0m | \u001b[1;35mdata.get\u001b[0m\u001b[1m(\u001b[0m\u001b[32m'5'\u001b[0m\u001b[1m)\u001b[0m=\u001b[3;35mNone\u001b[0m | \u001b[1;35mdata.get\u001b[0m\u001b[1m(\u001b[0m\u001b[32m'6'\u001b[0m\u001b[1m)\u001b[0m=\u001b[32m'03012024'\u001b[0m\n"
      ]
     },
     "metadata": {},
     "output_type": "display_data"
    },
    {
     "data": {
      "text/html": [
       "<pre style=\"white-space:pre;overflow-x:auto;line-height:normal;font-family:Menlo,'DejaVu Sans Mono',consolas,'Courier New',monospace\">batch id = <span style=\"color: #008080; text-decoration-color: #008080; font-weight: bold\">2632854</span> | <span style=\"color: #800080; text-decoration-color: #800080; font-weight: bold\">data.get</span><span style=\"font-weight: bold\">(</span><span style=\"color: #008000; text-decoration-color: #008000\">'5'</span><span style=\"font-weight: bold\">)</span>=<span style=\"color: #800080; text-decoration-color: #800080; font-style: italic\">None</span> | <span style=\"color: #800080; text-decoration-color: #800080; font-weight: bold\">data.get</span><span style=\"font-weight: bold\">(</span><span style=\"color: #008000; text-decoration-color: #008000\">'6'</span><span style=\"font-weight: bold\">)</span>=<span style=\"color: #008000; text-decoration-color: #008000\">'03012024'</span>\n",
       "</pre>\n"
      ],
      "text/plain": [
       "batch id = \u001b[1;36m2632854\u001b[0m | \u001b[1;35mdata.get\u001b[0m\u001b[1m(\u001b[0m\u001b[32m'5'\u001b[0m\u001b[1m)\u001b[0m=\u001b[3;35mNone\u001b[0m | \u001b[1;35mdata.get\u001b[0m\u001b[1m(\u001b[0m\u001b[32m'6'\u001b[0m\u001b[1m)\u001b[0m=\u001b[32m'03012024'\u001b[0m\n"
      ]
     },
     "metadata": {},
     "output_type": "display_data"
    },
    {
     "data": {
      "text/html": [
       "<pre style=\"white-space:pre;overflow-x:auto;line-height:normal;font-family:Menlo,'DejaVu Sans Mono',consolas,'Courier New',monospace\">batch id = <span style=\"color: #008080; text-decoration-color: #008080; font-weight: bold\">2632855</span> | <span style=\"color: #800080; text-decoration-color: #800080; font-weight: bold\">data.get</span><span style=\"font-weight: bold\">(</span><span style=\"color: #008000; text-decoration-color: #008000\">'5'</span><span style=\"font-weight: bold\">)</span>=<span style=\"color: #008000; text-decoration-color: #008000\">'529843'</span> | <span style=\"color: #800080; text-decoration-color: #800080; font-weight: bold\">data.get</span><span style=\"font-weight: bold\">(</span><span style=\"color: #008000; text-decoration-color: #008000\">'6'</span><span style=\"font-weight: bold\">)</span>=<span style=\"color: #008000; text-decoration-color: #008000\">'03012024'</span>\n",
       "</pre>\n"
      ],
      "text/plain": [
       "batch id = \u001b[1;36m2632855\u001b[0m | \u001b[1;35mdata.get\u001b[0m\u001b[1m(\u001b[0m\u001b[32m'5'\u001b[0m\u001b[1m)\u001b[0m=\u001b[32m'529843'\u001b[0m | \u001b[1;35mdata.get\u001b[0m\u001b[1m(\u001b[0m\u001b[32m'6'\u001b[0m\u001b[1m)\u001b[0m=\u001b[32m'03012024'\u001b[0m\n"
      ]
     },
     "metadata": {},
     "output_type": "display_data"
    }
   ],
   "source": [
    "import json\n",
    "import zipfile\n",
    "from pathlib import Path\n",
    "from rich import print\n",
    "for p in Path(\n",
    "    r\"C:\\Users\\surakumar\\OneDrive - CoreLogic Solutions, LLC\\Downloads\\pythonCode\\ok_retest\"\n",
    ").iterdir():\n",
    "    with zipfile.ZipFile(p, mode=\"r\") as archive:\n",
    "        with archive.open(\"spacy.json\", \"r\") as file:\n",
    "            data = json.load(file)\n",
    "            # data = {item[\"id\"]: item[\"value\"] for item in data[\"data\"]}\n",
    "            # print(\n",
    "            #     f\"batch id = {str(p.name).replace(r'.zip','')} | Field 5 = {data.get('5')} | Field 6 = {data.get('6')} | Field 92 = {data.get('92')} | Field 93 = {data.get('93')}\"\n",
    "            # )\n",
    "            print(\n",
    "                f\"batch id = {str(p.name).replace(r'.zip','')} | {data.get('5')=} | {data.get('6')=}\"\n",
    "            )\n",
    "            # print(p.name,data.get(\"5\"),data.get(\"6\"),data.get(\"92\"),data.get(\"93\"))"
   ]
  },
  {
   "cell_type": "code",
   "execution_count": 14,
   "id": "e7858f29-aeaf-4cc6-ab16-fe9549b877ac",
   "metadata": {
    "deletable": true,
    "editable": true,
    "frozen": false
   },
   "outputs": [
    {
     "data": {
      "application/vnd.jupyter.widget-view+json": {
       "model_id": "2ea829a54565487d8dcc2c62b261e6ec",
       "version_major": 2,
       "version_minor": 0
      },
      "text/plain": [
       "Output()"
      ]
     },
     "metadata": {},
     "output_type": "display_data"
    },
    {
     "data": {
      "text/html": [
       "<pre style=\"white-space:pre;overflow-x:auto;line-height:normal;font-family:Menlo,'DejaVu Sans Mono',consolas,'Courier New',monospace\"></pre>\n"
      ],
      "text/plain": []
     },
     "metadata": {},
     "output_type": "display_data"
    },
    {
     "data": {
      "text/html": [
       "<pre style=\"white-space:pre;overflow-x:auto;line-height:normal;font-family:Menlo,'DejaVu Sans Mono',consolas,'Courier New',monospace\">\n",
       "</pre>\n"
      ],
      "text/plain": [
       "\n"
      ]
     },
     "metadata": {},
     "output_type": "display_data"
    },
    {
     "data": {
      "text/html": [
       "<pre style=\"white-space:pre;overflow-x:auto;line-height:normal;font-family:Menlo,'DejaVu Sans Mono',consolas,'Courier New',monospace\"><span style=\"font-style: italic\">                                                      KY set2                                                      </span>\n",
       "┏━━━━━━━━━┳━━━━━━━━━━━┳━━━━━━━━━━┳━━━━━━━━━━━┳━━━━━━━━━━┳━━━━━━━━━━━┳━━━━━━━━━━┳━━━━━━━━━━━┳━━━━━━━━━━┳━━━━━━━━━━━┓\n",
       "┃<span style=\"font-weight: bold\"> Batchid </span>┃<span style=\"font-weight: bold\"> 6-keyed_… </span>┃<span style=\"font-weight: bold\"> 6-spacy… </span>┃<span style=\"font-weight: bold\"> 6-match_… </span>┃<span style=\"font-weight: bold\"> 92-keye… </span>┃<span style=\"font-weight: bold\"> 92-spacy… </span>┃<span style=\"font-weight: bold\"> 92-matc… </span>┃<span style=\"font-weight: bold\"> 93-keyed… </span>┃<span style=\"font-weight: bold\"> 93-spac… </span>┃<span style=\"font-weight: bold\"> 93-match… </span>┃\n",
       "┡━━━━━━━━━╇━━━━━━━━━━━╇━━━━━━━━━━╇━━━━━━━━━━━╇━━━━━━━━━━╇━━━━━━━━━━━╇━━━━━━━━━━╇━━━━━━━━━━━╇━━━━━━━━━━╇━━━━━━━━━━━┩\n",
       "│<span style=\"color: #008080; text-decoration-color: #008080\"> 2635901 </span>│<span style=\"color: #008080; text-decoration-color: #008080\">       176 </span>│<span style=\"color: #800080; text-decoration-color: #800080\">          </span>│<span style=\"color: #008000; text-decoration-color: #008000\">     False </span>│<span style=\"color: #008080; text-decoration-color: #008080\">          </span>│<span style=\"color: #800080; text-decoration-color: #800080\"> 176       </span>│<span style=\"color: #008000; text-decoration-color: #008000\">    False </span>│<span style=\"color: #008080; text-decoration-color: #008080\">           </span>│<span style=\"color: #800080; text-decoration-color: #800080\"> 626      </span>│<span style=\"color: #008000; text-decoration-color: #008000\">     False </span>│\n",
       "│<span style=\"color: #008080; text-decoration-color: #008080\"> 2637159 </span>│<span style=\"color: #008080; text-decoration-color: #008080\">       220 </span>│<span style=\"color: #800080; text-decoration-color: #800080\">          </span>│<span style=\"color: #008000; text-decoration-color: #008000\">     False </span>│<span style=\"color: #008080; text-decoration-color: #008080\">          </span>│<span style=\"color: #800080; text-decoration-color: #800080\"> 220       </span>│<span style=\"color: #008000; text-decoration-color: #008000\">    False </span>│<span style=\"color: #008080; text-decoration-color: #008080\">           </span>│<span style=\"color: #800080; text-decoration-color: #800080\"> 82       </span>│<span style=\"color: #008000; text-decoration-color: #008000\">     False </span>│\n",
       "│<span style=\"color: #008080; text-decoration-color: #008080\"> 2637177 </span>│<span style=\"color: #008080; text-decoration-color: #008080\">       428 </span>│<span style=\"color: #800080; text-decoration-color: #800080\"> 03132024 </span>│<span style=\"color: #008000; text-decoration-color: #008000\">     False </span>│<span style=\"color: #008080; text-decoration-color: #008080\">          </span>│<span style=\"color: #800080; text-decoration-color: #800080\"> 428       </span>│<span style=\"color: #008000; text-decoration-color: #008000\">    False </span>│<span style=\"color: #008080; text-decoration-color: #008080\">           </span>│<span style=\"color: #800080; text-decoration-color: #800080\"> 264      </span>│<span style=\"color: #008000; text-decoration-color: #008000\">     False </span>│\n",
       "│<span style=\"color: #008080; text-decoration-color: #008080\"> 2637185 </span>│<span style=\"color: #008080; text-decoration-color: #008080\">       220 </span>│<span style=\"color: #800080; text-decoration-color: #800080\"> 03132024 </span>│<span style=\"color: #008000; text-decoration-color: #008000\">     False </span>│<span style=\"color: #008080; text-decoration-color: #008080\">          </span>│<span style=\"color: #800080; text-decoration-color: #800080\"> 220       </span>│<span style=\"color: #008000; text-decoration-color: #008000\">    False </span>│<span style=\"color: #008080; text-decoration-color: #008080\">           </span>│<span style=\"color: #800080; text-decoration-color: #800080\"> 86       </span>│<span style=\"color: #008000; text-decoration-color: #008000\">     False </span>│\n",
       "│<span style=\"color: #008080; text-decoration-color: #008080\"> 2637187 </span>│<span style=\"color: #008080; text-decoration-color: #008080\">       220 </span>│<span style=\"color: #800080; text-decoration-color: #800080\"> 03132024 </span>│<span style=\"color: #008000; text-decoration-color: #008000\">     False </span>│<span style=\"color: #008080; text-decoration-color: #008080\">          </span>│<span style=\"color: #800080; text-decoration-color: #800080\"> 220       </span>│<span style=\"color: #008000; text-decoration-color: #008000\">    False </span>│<span style=\"color: #008080; text-decoration-color: #008080\">           </span>│<span style=\"color: #800080; text-decoration-color: #800080\"> 96       </span>│<span style=\"color: #008000; text-decoration-color: #008000\">     False </span>│\n",
       "│<span style=\"color: #008080; text-decoration-color: #008080\"> 2637196 </span>│<span style=\"color: #008080; text-decoration-color: #008080\">       428 </span>│<span style=\"color: #800080; text-decoration-color: #800080\"> 03132024 </span>│<span style=\"color: #008000; text-decoration-color: #008000\">     False </span>│<span style=\"color: #008080; text-decoration-color: #008080\">          </span>│<span style=\"color: #800080; text-decoration-color: #800080\"> 428       </span>│<span style=\"color: #008000; text-decoration-color: #008000\">    False </span>│<span style=\"color: #008080; text-decoration-color: #008080\">           </span>│<span style=\"color: #800080; text-decoration-color: #800080\"> 278      </span>│<span style=\"color: #008000; text-decoration-color: #008000\">     False </span>│\n",
       "│<span style=\"color: #008080; text-decoration-color: #008080\"> 2637277 </span>│<span style=\"color: #008080; text-decoration-color: #008080\">  03132024 </span>│<span style=\"color: #800080; text-decoration-color: #800080\">          </span>│<span style=\"color: #008000; text-decoration-color: #008000\">     False </span>│<span style=\"color: #008080; text-decoration-color: #008080\">      176 </span>│<span style=\"color: #800080; text-decoration-color: #800080\"> 176       </span>│<span style=\"color: #008000; text-decoration-color: #008000\">     True </span>│<span style=\"color: #008080; text-decoration-color: #008080\">       176 </span>│<span style=\"color: #800080; text-decoration-color: #800080\"> 614      </span>│<span style=\"color: #008000; text-decoration-color: #008000\">     False </span>│\n",
       "│<span style=\"color: #008080; text-decoration-color: #008080\"> 2637436 </span>│<span style=\"color: #008080; text-decoration-color: #008080\">        19 </span>│<span style=\"color: #800080; text-decoration-color: #800080\"> 03142024 </span>│<span style=\"color: #008000; text-decoration-color: #008000\">     False </span>│<span style=\"color: #008080; text-decoration-color: #008080\">          </span>│<span style=\"color: #800080; text-decoration-color: #800080\"> 19        </span>│<span style=\"color: #008000; text-decoration-color: #008000\">    False </span>│<span style=\"color: #008080; text-decoration-color: #008080\">           </span>│<span style=\"color: #800080; text-decoration-color: #800080\"> 50       </span>│<span style=\"color: #008000; text-decoration-color: #008000\">     False </span>│\n",
       "│<span style=\"color: #008080; text-decoration-color: #008080\"> 2638208 </span>│<span style=\"color: #008080; text-decoration-color: #008080\">  02272024 </span>│<span style=\"color: #800080; text-decoration-color: #800080\">          </span>│<span style=\"color: #008000; text-decoration-color: #008000\">     False </span>│<span style=\"color: #008080; text-decoration-color: #008080\">      286 </span>│<span style=\"color: #800080; text-decoration-color: #800080\"> 286       </span>│<span style=\"color: #008000; text-decoration-color: #008000\">     True </span>│<span style=\"color: #008080; text-decoration-color: #008080\">       286 </span>│<span style=\"color: #800080; text-decoration-color: #800080\"> 615      </span>│<span style=\"color: #008000; text-decoration-color: #008000\">     False </span>│\n",
       "│<span style=\"color: #008080; text-decoration-color: #008080\"> 2638212 </span>│<span style=\"color: #008080; text-decoration-color: #008080\">  02272024 </span>│<span style=\"color: #800080; text-decoration-color: #800080\">          </span>│<span style=\"color: #008000; text-decoration-color: #008000\">     False </span>│<span style=\"color: #008080; text-decoration-color: #008080\">      286 </span>│<span style=\"color: #800080; text-decoration-color: #800080\"> 286       </span>│<span style=\"color: #008000; text-decoration-color: #008000\">     True </span>│<span style=\"color: #008080; text-decoration-color: #008080\">       286 </span>│<span style=\"color: #800080; text-decoration-color: #800080\"> 617      </span>│<span style=\"color: #008000; text-decoration-color: #008000\">     False </span>│\n",
       "│<span style=\"color: #008080; text-decoration-color: #008080\"> 2638213 </span>│<span style=\"color: #008080; text-decoration-color: #008080\">  02272024 </span>│<span style=\"color: #800080; text-decoration-color: #800080\">          </span>│<span style=\"color: #008000; text-decoration-color: #008000\">     False </span>│<span style=\"color: #008080; text-decoration-color: #008080\">      286 </span>│<span style=\"color: #800080; text-decoration-color: #800080\"> 286       </span>│<span style=\"color: #008000; text-decoration-color: #008000\">     True </span>│<span style=\"color: #008080; text-decoration-color: #008080\">       286 </span>│<span style=\"color: #800080; text-decoration-color: #800080\">          </span>│<span style=\"color: #008000; text-decoration-color: #008000\">     False </span>│\n",
       "│<span style=\"color: #008080; text-decoration-color: #008080\"> 2638223 </span>│<span style=\"color: #008080; text-decoration-color: #008080\">  02272024 </span>│<span style=\"color: #800080; text-decoration-color: #800080\"> 02272024 </span>│<span style=\"color: #008000; text-decoration-color: #008000\">      True </span>│<span style=\"color: #008080; text-decoration-color: #008080\">      857 </span>│<span style=\"color: #800080; text-decoration-color: #800080\"> 857       </span>│<span style=\"color: #008000; text-decoration-color: #008000\">     True </span>│<span style=\"color: #008080; text-decoration-color: #008080\">       857 </span>│<span style=\"color: #800080; text-decoration-color: #800080\">          </span>│<span style=\"color: #008000; text-decoration-color: #008000\">     False </span>│\n",
       "│<span style=\"color: #008080; text-decoration-color: #008080\"> 2638251 </span>│<span style=\"color: #008080; text-decoration-color: #008080\">  02272024 </span>│<span style=\"color: #800080; text-decoration-color: #800080\"> 02272024 </span>│<span style=\"color: #008000; text-decoration-color: #008000\">      True </span>│<span style=\"color: #008080; text-decoration-color: #008080\">      857 </span>│<span style=\"color: #800080; text-decoration-color: #800080\"> 857       </span>│<span style=\"color: #008000; text-decoration-color: #008000\">     True </span>│<span style=\"color: #008080; text-decoration-color: #008080\">       857 </span>│<span style=\"color: #800080; text-decoration-color: #800080\">          </span>│<span style=\"color: #008000; text-decoration-color: #008000\">     False </span>│\n",
       "│<span style=\"color: #008080; text-decoration-color: #008080\"> 2638256 </span>│<span style=\"color: #008080; text-decoration-color: #008080\">  02272024 </span>│<span style=\"color: #800080; text-decoration-color: #800080\">          </span>│<span style=\"color: #008000; text-decoration-color: #008000\">     False </span>│<span style=\"color: #008080; text-decoration-color: #008080\">      857 </span>│<span style=\"color: #800080; text-decoration-color: #800080\"> 857       </span>│<span style=\"color: #008000; text-decoration-color: #008000\">     True </span>│<span style=\"color: #008080; text-decoration-color: #008080\">       857 </span>│<span style=\"color: #800080; text-decoration-color: #800080\">          </span>│<span style=\"color: #008000; text-decoration-color: #008000\">     False </span>│\n",
       "│<span style=\"color: #008080; text-decoration-color: #008080\"> 2638258 </span>│<span style=\"color: #008080; text-decoration-color: #008080\">  02272024 </span>│<span style=\"color: #800080; text-decoration-color: #800080\">          </span>│<span style=\"color: #008000; text-decoration-color: #008000\">     False </span>│<span style=\"color: #008080; text-decoration-color: #008080\">      286 </span>│<span style=\"color: #800080; text-decoration-color: #800080\"> 286       </span>│<span style=\"color: #008000; text-decoration-color: #008000\">     True </span>│<span style=\"color: #008080; text-decoration-color: #008080\">       286 </span>│<span style=\"color: #800080; text-decoration-color: #800080\">          </span>│<span style=\"color: #008000; text-decoration-color: #008000\">     False </span>│\n",
       "│<span style=\"color: #008080; text-decoration-color: #008080\"> 2641548 </span>│<span style=\"color: #008080; text-decoration-color: #008080\">         7 </span>│<span style=\"color: #800080; text-decoration-color: #800080\"> 03122024 </span>│<span style=\"color: #008000; text-decoration-color: #008000\">     False </span>│<span style=\"color: #008080; text-decoration-color: #008080\">          </span>│<span style=\"color: #800080; text-decoration-color: #800080\"> 7         </span>│<span style=\"color: #008000; text-decoration-color: #008000\">    False </span>│<span style=\"color: #008080; text-decoration-color: #008080\">           </span>│<span style=\"color: #800080; text-decoration-color: #800080\"> 58       </span>│<span style=\"color: #008000; text-decoration-color: #008000\">     False </span>│\n",
       "│<span style=\"color: #008080; text-decoration-color: #008080\"> 2641560 </span>│<span style=\"color: #008080; text-decoration-color: #008080\">       325 </span>│<span style=\"color: #800080; text-decoration-color: #800080\"> 03122024 </span>│<span style=\"color: #008000; text-decoration-color: #008000\">     False </span>│<span style=\"color: #008080; text-decoration-color: #008080\">          </span>│<span style=\"color: #800080; text-decoration-color: #800080\"> 28        </span>│<span style=\"color: #008000; text-decoration-color: #008000\">    False </span>│<span style=\"color: #008080; text-decoration-color: #008080\">           </span>│<span style=\"color: #800080; text-decoration-color: #800080\"> 110      </span>│<span style=\"color: #008000; text-decoration-color: #008000\">     False </span>│\n",
       "│<span style=\"color: #008080; text-decoration-color: #008080\"> 2641711 </span>│<span style=\"color: #008080; text-decoration-color: #008080\">       100 </span>│<span style=\"color: #800080; text-decoration-color: #800080\">          </span>│<span style=\"color: #008000; text-decoration-color: #008000\">     False </span>│<span style=\"color: #008080; text-decoration-color: #008080\">          </span>│<span style=\"color: #800080; text-decoration-color: #800080\"> 100       </span>│<span style=\"color: #008000; text-decoration-color: #008000\">    False </span>│<span style=\"color: #008080; text-decoration-color: #008080\">           </span>│<span style=\"color: #800080; text-decoration-color: #800080\"> 352      </span>│<span style=\"color: #008000; text-decoration-color: #008000\">     False </span>│\n",
       "│<span style=\"color: #008080; text-decoration-color: #008080\"> 2641712 </span>│<span style=\"color: #008080; text-decoration-color: #008080\">        10 </span>│<span style=\"color: #800080; text-decoration-color: #800080\">          </span>│<span style=\"color: #008000; text-decoration-color: #008000\">     False </span>│<span style=\"color: #008080; text-decoration-color: #008080\">          </span>│<span style=\"color: #800080; text-decoration-color: #800080\">           </span>│<span style=\"color: #008000; text-decoration-color: #008000\">     True </span>│<span style=\"color: #008080; text-decoration-color: #008080\">           </span>│<span style=\"color: #800080; text-decoration-color: #800080\"> 15       </span>│<span style=\"color: #008000; text-decoration-color: #008000\">     False </span>│\n",
       "│<span style=\"color: #008080; text-decoration-color: #008080\"> 2641764 </span>│<span style=\"color: #008080; text-decoration-color: #008080\">  03122024 </span>│<span style=\"color: #800080; text-decoration-color: #800080\">          </span>│<span style=\"color: #008000; text-decoration-color: #008000\">     False </span>│<span style=\"color: #008080; text-decoration-color: #008080\">     3443 </span>│<span style=\"color: #800080; text-decoration-color: #800080\">           </span>│<span style=\"color: #008000; text-decoration-color: #008000\">    False </span>│<span style=\"color: #008080; text-decoration-color: #008080\">      3443 </span>│<span style=\"color: #800080; text-decoration-color: #800080\"> 495      </span>│<span style=\"color: #008000; text-decoration-color: #008000\">     False </span>│\n",
       "│<span style=\"color: #008080; text-decoration-color: #008080\"> 2641765 </span>│<span style=\"color: #008080; text-decoration-color: #008080\">  03122024 </span>│<span style=\"color: #800080; text-decoration-color: #800080\">          </span>│<span style=\"color: #008000; text-decoration-color: #008000\">     False </span>│<span style=\"color: #008080; text-decoration-color: #008080\">     3443 </span>│<span style=\"color: #800080; text-decoration-color: #800080\">           </span>│<span style=\"color: #008000; text-decoration-color: #008000\">    False </span>│<span style=\"color: #008080; text-decoration-color: #008080\">      3443 </span>│<span style=\"color: #800080; text-decoration-color: #800080\"> 497      </span>│<span style=\"color: #008000; text-decoration-color: #008000\">     False </span>│\n",
       "│<span style=\"color: #008080; text-decoration-color: #008080\"> 2641766 </span>│<span style=\"color: #008080; text-decoration-color: #008080\">  03122024 </span>│<span style=\"color: #800080; text-decoration-color: #800080\">          </span>│<span style=\"color: #008000; text-decoration-color: #008000\">     False </span>│<span style=\"color: #008080; text-decoration-color: #008080\">     3443 </span>│<span style=\"color: #800080; text-decoration-color: #800080\">           </span>│<span style=\"color: #008000; text-decoration-color: #008000\">    False </span>│<span style=\"color: #008080; text-decoration-color: #008080\">      3443 </span>│<span style=\"color: #800080; text-decoration-color: #800080\"> 499      </span>│<span style=\"color: #008000; text-decoration-color: #008000\">     False </span>│\n",
       "│<span style=\"color: #008080; text-decoration-color: #008080\"> 2641794 </span>│<span style=\"color: #008080; text-decoration-color: #008080\">         2 </span>│<span style=\"color: #800080; text-decoration-color: #800080\"> 03112024 </span>│<span style=\"color: #008000; text-decoration-color: #008000\">     False </span>│<span style=\"color: #008080; text-decoration-color: #008080\">          </span>│<span style=\"color: #800080; text-decoration-color: #800080\"> 2         </span>│<span style=\"color: #008000; text-decoration-color: #008000\">    False </span>│<span style=\"color: #008080; text-decoration-color: #008080\">           </span>│<span style=\"color: #800080; text-decoration-color: #800080\"> 429      </span>│<span style=\"color: #008000; text-decoration-color: #008000\">     False </span>│\n",
       "│<span style=\"color: #008080; text-decoration-color: #008080\"> 2641803 </span>│<span style=\"color: #008080; text-decoration-color: #008080\">        41 </span>│<span style=\"color: #800080; text-decoration-color: #800080\"> 03112024 </span>│<span style=\"color: #008000; text-decoration-color: #008000\">     False </span>│<span style=\"color: #008080; text-decoration-color: #008080\">          </span>│<span style=\"color: #800080; text-decoration-color: #800080\"> 41        </span>│<span style=\"color: #008000; text-decoration-color: #008000\">    False </span>│<span style=\"color: #008080; text-decoration-color: #008080\">           </span>│<span style=\"color: #800080; text-decoration-color: #800080\"> 674      </span>│<span style=\"color: #008000; text-decoration-color: #008000\">     False </span>│\n",
       "│<span style=\"color: #008080; text-decoration-color: #008080\"> 2641831 </span>│<span style=\"color: #008080; text-decoration-color: #008080\">         9 </span>│<span style=\"color: #800080; text-decoration-color: #800080\"> 03112024 </span>│<span style=\"color: #008000; text-decoration-color: #008000\">     False </span>│<span style=\"color: #008080; text-decoration-color: #008080\">          </span>│<span style=\"color: #800080; text-decoration-color: #800080\">           </span>│<span style=\"color: #008000; text-decoration-color: #008000\">     True </span>│<span style=\"color: #008080; text-decoration-color: #008080\">           </span>│<span style=\"color: #800080; text-decoration-color: #800080\"> 246      </span>│<span style=\"color: #008000; text-decoration-color: #008000\">     False </span>│\n",
       "│<span style=\"color: #008080; text-decoration-color: #008080\"> 2641834 </span>│<span style=\"color: #008080; text-decoration-color: #008080\">      1122 </span>│<span style=\"color: #800080; text-decoration-color: #800080\"> 03112024 </span>│<span style=\"color: #008000; text-decoration-color: #008000\">     False </span>│<span style=\"color: #008080; text-decoration-color: #008080\">          </span>│<span style=\"color: #800080; text-decoration-color: #800080\"> 1122      </span>│<span style=\"color: #008000; text-decoration-color: #008000\">    False </span>│<span style=\"color: #008080; text-decoration-color: #008080\">           </span>│<span style=\"color: #800080; text-decoration-color: #800080\"> 351      </span>│<span style=\"color: #008000; text-decoration-color: #008000\">     False </span>│\n",
       "│<span style=\"color: #008080; text-decoration-color: #008080\"> 2641838 </span>│<span style=\"color: #008080; text-decoration-color: #008080\">         9 </span>│<span style=\"color: #800080; text-decoration-color: #800080\">          </span>│<span style=\"color: #008000; text-decoration-color: #008000\">     False </span>│<span style=\"color: #008080; text-decoration-color: #008080\">          </span>│<span style=\"color: #800080; text-decoration-color: #800080\">           </span>│<span style=\"color: #008000; text-decoration-color: #008000\">     True </span>│<span style=\"color: #008080; text-decoration-color: #008080\">           </span>│<span style=\"color: #800080; text-decoration-color: #800080\"> 247      </span>│<span style=\"color: #008000; text-decoration-color: #008000\">     False </span>│\n",
       "│<span style=\"color: #008080; text-decoration-color: #008080\"> 2641847 </span>│<span style=\"color: #008080; text-decoration-color: #008080\">  03112024 </span>│<span style=\"color: #800080; text-decoration-color: #800080\">          </span>│<span style=\"color: #008000; text-decoration-color: #008000\">     False </span>│<span style=\"color: #008080; text-decoration-color: #008080\">     1122 </span>│<span style=\"color: #800080; text-decoration-color: #800080\">           </span>│<span style=\"color: #008000; text-decoration-color: #008000\">    False </span>│<span style=\"color: #008080; text-decoration-color: #008080\">      1122 </span>│<span style=\"color: #800080; text-decoration-color: #800080\"> 387      </span>│<span style=\"color: #008000; text-decoration-color: #008000\">     False </span>│\n",
       "│<span style=\"color: #008080; text-decoration-color: #008080\"> 2641848 </span>│<span style=\"color: #008080; text-decoration-color: #008080\">  03112024 </span>│<span style=\"color: #800080; text-decoration-color: #800080\">          </span>│<span style=\"color: #008000; text-decoration-color: #008000\">     False </span>│<span style=\"color: #008080; text-decoration-color: #008080\">     1122 </span>│<span style=\"color: #800080; text-decoration-color: #800080\">           </span>│<span style=\"color: #008000; text-decoration-color: #008000\">    False </span>│<span style=\"color: #008080; text-decoration-color: #008080\">      1122 </span>│<span style=\"color: #800080; text-decoration-color: #800080\"> 406      </span>│<span style=\"color: #008000; text-decoration-color: #008000\">     False </span>│\n",
       "│<span style=\"color: #008080; text-decoration-color: #008080\"> 2641849 </span>│<span style=\"color: #008080; text-decoration-color: #008080\">  03112024 </span>│<span style=\"color: #800080; text-decoration-color: #800080\"> 03112024 </span>│<span style=\"color: #008000; text-decoration-color: #008000\">      True </span>│<span style=\"color: #008080; text-decoration-color: #008080\">      112 </span>│<span style=\"color: #800080; text-decoration-color: #800080\">           </span>│<span style=\"color: #008000; text-decoration-color: #008000\">    False </span>│<span style=\"color: #008080; text-decoration-color: #008080\">       112 </span>│<span style=\"color: #800080; text-decoration-color: #800080\"> 426      </span>│<span style=\"color: #008000; text-decoration-color: #008000\">     False </span>│\n",
       "│<span style=\"color: #008080; text-decoration-color: #008080\"> 2641945 </span>│<span style=\"color: #008080; text-decoration-color: #008080\">  03082024 </span>│<span style=\"color: #800080; text-decoration-color: #800080\">          </span>│<span style=\"color: #008000; text-decoration-color: #008000\">     False </span>│<span style=\"color: #008080; text-decoration-color: #008080\">      365 </span>│<span style=\"color: #800080; text-decoration-color: #800080\">           </span>│<span style=\"color: #008000; text-decoration-color: #008000\">    False </span>│<span style=\"color: #008080; text-decoration-color: #008080\">       365 </span>│<span style=\"color: #800080; text-decoration-color: #800080\"> 302      </span>│<span style=\"color: #008000; text-decoration-color: #008000\">     False </span>│\n",
       "│<span style=\"color: #008080; text-decoration-color: #008080\"> 2641947 </span>│<span style=\"color: #008080; text-decoration-color: #008080\">  03082024 </span>│<span style=\"color: #800080; text-decoration-color: #800080\">          </span>│<span style=\"color: #008000; text-decoration-color: #008000\">     False </span>│<span style=\"color: #008080; text-decoration-color: #008080\">      365 </span>│<span style=\"color: #800080; text-decoration-color: #800080\"> 365       </span>│<span style=\"color: #008000; text-decoration-color: #008000\">     True </span>│<span style=\"color: #008080; text-decoration-color: #008080\">       365 </span>│<span style=\"color: #800080; text-decoration-color: #800080\"> 324      </span>│<span style=\"color: #008000; text-decoration-color: #008000\">     False </span>│\n",
       "│<span style=\"color: #008080; text-decoration-color: #008080\"> 2641949 </span>│<span style=\"color: #008080; text-decoration-color: #008080\">  03082024 </span>│<span style=\"color: #800080; text-decoration-color: #800080\"> 03082024 </span>│<span style=\"color: #008000; text-decoration-color: #008000\">      True </span>│<span style=\"color: #008080; text-decoration-color: #008080\">      365 </span>│<span style=\"color: #800080; text-decoration-color: #800080\">           </span>│<span style=\"color: #008000; text-decoration-color: #008000\">    False </span>│<span style=\"color: #008080; text-decoration-color: #008080\">       365 </span>│<span style=\"color: #800080; text-decoration-color: #800080\"> 326      </span>│<span style=\"color: #008000; text-decoration-color: #008000\">     False </span>│\n",
       "│<span style=\"color: #008080; text-decoration-color: #008080\"> 2641968 </span>│<span style=\"color: #008080; text-decoration-color: #008080\">  03132024 </span>│<span style=\"color: #800080; text-decoration-color: #800080\">          </span>│<span style=\"color: #008000; text-decoration-color: #008000\">     False </span>│<span style=\"color: #008080; text-decoration-color: #008080\">      176 </span>│<span style=\"color: #800080; text-decoration-color: #800080\"> 176       </span>│<span style=\"color: #008000; text-decoration-color: #008000\">     True </span>│<span style=\"color: #008080; text-decoration-color: #008080\">       176 </span>│<span style=\"color: #800080; text-decoration-color: #800080\"> 614      </span>│<span style=\"color: #008000; text-decoration-color: #008000\">     False </span>│\n",
       "│<span style=\"color: #008080; text-decoration-color: #008080\"> 2641998 </span>│<span style=\"color: #008080; text-decoration-color: #008080\">        19 </span>│<span style=\"color: #800080; text-decoration-color: #800080\"> 03142024 </span>│<span style=\"color: #008000; text-decoration-color: #008000\">     False </span>│<span style=\"color: #008080; text-decoration-color: #008080\">          </span>│<span style=\"color: #800080; text-decoration-color: #800080\"> 19        </span>│<span style=\"color: #008000; text-decoration-color: #008000\">    False </span>│<span style=\"color: #008080; text-decoration-color: #008080\">           </span>│<span style=\"color: #800080; text-decoration-color: #800080\"> 50       </span>│<span style=\"color: #008000; text-decoration-color: #008000\">     False </span>│\n",
       "│<span style=\"color: #008080; text-decoration-color: #008080\"> 2642037 </span>│<span style=\"color: #008080; text-decoration-color: #008080\">  03112024 </span>│<span style=\"color: #800080; text-decoration-color: #800080\">          </span>│<span style=\"color: #008000; text-decoration-color: #008000\">     False </span>│<span style=\"color: #008080; text-decoration-color: #008080\">       34 </span>│<span style=\"color: #800080; text-decoration-color: #800080\"> 34        </span>│<span style=\"color: #008000; text-decoration-color: #008000\">     True </span>│<span style=\"color: #008080; text-decoration-color: #008080\">        34 </span>│<span style=\"color: #800080; text-decoration-color: #800080\"> 271      </span>│<span style=\"color: #008000; text-decoration-color: #008000\">     False </span>│\n",
       "│<span style=\"color: #008080; text-decoration-color: #008080\"> 2642449 </span>│<span style=\"color: #008080; text-decoration-color: #008080\">  02292024 </span>│<span style=\"color: #800080; text-decoration-color: #800080\">          </span>│<span style=\"color: #008000; text-decoration-color: #008000\">     False </span>│<span style=\"color: #008080; text-decoration-color: #008080\">      857 </span>│<span style=\"color: #800080; text-decoration-color: #800080\"> 857       </span>│<span style=\"color: #008000; text-decoration-color: #008000\">     True </span>│<span style=\"color: #008080; text-decoration-color: #008080\">       857 </span>│<span style=\"color: #800080; text-decoration-color: #800080\">          </span>│<span style=\"color: #008000; text-decoration-color: #008000\">     False </span>│\n",
       "│<span style=\"color: #008080; text-decoration-color: #008080\"> 2642451 </span>│<span style=\"color: #008080; text-decoration-color: #008080\">  02292024 </span>│<span style=\"color: #800080; text-decoration-color: #800080\"> 02292024 </span>│<span style=\"color: #008000; text-decoration-color: #008000\">      True </span>│<span style=\"color: #008080; text-decoration-color: #008080\">      286 </span>│<span style=\"color: #800080; text-decoration-color: #800080\"> 286       </span>│<span style=\"color: #008000; text-decoration-color: #008000\">     True </span>│<span style=\"color: #008080; text-decoration-color: #008080\">       286 </span>│<span style=\"color: #800080; text-decoration-color: #800080\">          </span>│<span style=\"color: #008000; text-decoration-color: #008000\">     False </span>│\n",
       "│<span style=\"color: #008080; text-decoration-color: #008080\"> 2642456 </span>│<span style=\"color: #008080; text-decoration-color: #008080\">  02292024 </span>│<span style=\"color: #800080; text-decoration-color: #800080\">          </span>│<span style=\"color: #008000; text-decoration-color: #008000\">     False </span>│<span style=\"color: #008080; text-decoration-color: #008080\">     1555 </span>│<span style=\"color: #800080; text-decoration-color: #800080\">           </span>│<span style=\"color: #008000; text-decoration-color: #008000\">    False </span>│<span style=\"color: #008080; text-decoration-color: #008080\">      1555 </span>│<span style=\"color: #800080; text-decoration-color: #800080\"> 185      </span>│<span style=\"color: #008000; text-decoration-color: #008000\">     False </span>│\n",
       "│<span style=\"color: #008080; text-decoration-color: #008080\"> 2642457 </span>│<span style=\"color: #008080; text-decoration-color: #008080\">  02292024 </span>│<span style=\"color: #800080; text-decoration-color: #800080\">          </span>│<span style=\"color: #008000; text-decoration-color: #008000\">     False </span>│<span style=\"color: #008080; text-decoration-color: #008080\">      857 </span>│<span style=\"color: #800080; text-decoration-color: #800080\"> 857       </span>│<span style=\"color: #008000; text-decoration-color: #008000\">     True </span>│<span style=\"color: #008080; text-decoration-color: #008080\">       857 </span>│<span style=\"color: #800080; text-decoration-color: #800080\">          </span>│<span style=\"color: #008000; text-decoration-color: #008000\">     False </span>│\n",
       "│<span style=\"color: #008080; text-decoration-color: #008080\"> 2642458 </span>│<span style=\"color: #008080; text-decoration-color: #008080\">  02292024 </span>│<span style=\"color: #800080; text-decoration-color: #800080\">          </span>│<span style=\"color: #008000; text-decoration-color: #008000\">     False </span>│<span style=\"color: #008080; text-decoration-color: #008080\">      857 </span>│<span style=\"color: #800080; text-decoration-color: #800080\"> 857       </span>│<span style=\"color: #008000; text-decoration-color: #008000\">     True </span>│<span style=\"color: #008080; text-decoration-color: #008080\">       857 </span>│<span style=\"color: #800080; text-decoration-color: #800080\">          </span>│<span style=\"color: #008000; text-decoration-color: #008000\">     False </span>│\n",
       "│<span style=\"color: #008080; text-decoration-color: #008080\"> 2642461 </span>│<span style=\"color: #008080; text-decoration-color: #008080\">  02292024 </span>│<span style=\"color: #800080; text-decoration-color: #800080\">          </span>│<span style=\"color: #008000; text-decoration-color: #008000\">     False </span>│<span style=\"color: #008080; text-decoration-color: #008080\">      857 </span>│<span style=\"color: #800080; text-decoration-color: #800080\"> 857       </span>│<span style=\"color: #008000; text-decoration-color: #008000\">     True </span>│<span style=\"color: #008080; text-decoration-color: #008080\">       857 </span>│<span style=\"color: #800080; text-decoration-color: #800080\">          </span>│<span style=\"color: #008000; text-decoration-color: #008000\">     False </span>│\n",
       "│<span style=\"color: #008080; text-decoration-color: #008080\"> 2642462 </span>│<span style=\"color: #008080; text-decoration-color: #008080\">  02292024 </span>│<span style=\"color: #800080; text-decoration-color: #800080\">          </span>│<span style=\"color: #008000; text-decoration-color: #008000\">     False </span>│<span style=\"color: #008080; text-decoration-color: #008080\">      857 </span>│<span style=\"color: #800080; text-decoration-color: #800080\"> 857       </span>│<span style=\"color: #008000; text-decoration-color: #008000\">     True </span>│<span style=\"color: #008080; text-decoration-color: #008080\">       857 </span>│<span style=\"color: #800080; text-decoration-color: #800080\">          </span>│<span style=\"color: #008000; text-decoration-color: #008000\">     False </span>│\n",
       "│<span style=\"color: #008080; text-decoration-color: #008080\"> 2642484 </span>│<span style=\"color: #008080; text-decoration-color: #008080\">       176 </span>│<span style=\"color: #800080; text-decoration-color: #800080\"> 03122024 </span>│<span style=\"color: #008000; text-decoration-color: #008000\">     False </span>│<span style=\"color: #008080; text-decoration-color: #008080\">          </span>│<span style=\"color: #800080; text-decoration-color: #800080\"> 176       </span>│<span style=\"color: #008000; text-decoration-color: #008000\">    False </span>│<span style=\"color: #008080; text-decoration-color: #008080\">           </span>│<span style=\"color: #800080; text-decoration-color: #800080\"> 725      </span>│<span style=\"color: #008000; text-decoration-color: #008000\">     False </span>│\n",
       "│<span style=\"color: #008080; text-decoration-color: #008080\"> 2642486 </span>│<span style=\"color: #008080; text-decoration-color: #008080\">        19 </span>│<span style=\"color: #800080; text-decoration-color: #800080\"> 03132024 </span>│<span style=\"color: #008000; text-decoration-color: #008000\">     False </span>│<span style=\"color: #008080; text-decoration-color: #008080\">          </span>│<span style=\"color: #800080; text-decoration-color: #800080\"> 19        </span>│<span style=\"color: #008000; text-decoration-color: #008000\">    False </span>│<span style=\"color: #008080; text-decoration-color: #008080\">           </span>│<span style=\"color: #800080; text-decoration-color: #800080\"> 39       </span>│<span style=\"color: #008000; text-decoration-color: #008000\">     False </span>│\n",
       "│<span style=\"color: #008080; text-decoration-color: #008080\"> 2642487 </span>│<span style=\"color: #008080; text-decoration-color: #008080\">        19 </span>│<span style=\"color: #800080; text-decoration-color: #800080\"> 03132024 </span>│<span style=\"color: #008000; text-decoration-color: #008000\">     False </span>│<span style=\"color: #008080; text-decoration-color: #008080\">          </span>│<span style=\"color: #800080; text-decoration-color: #800080\"> 19        </span>│<span style=\"color: #008000; text-decoration-color: #008000\">    False </span>│<span style=\"color: #008080; text-decoration-color: #008080\">           </span>│<span style=\"color: #800080; text-decoration-color: #800080\"> 46       </span>│<span style=\"color: #008000; text-decoration-color: #008000\">     False </span>│\n",
       "│<span style=\"color: #008080; text-decoration-color: #008080\"> 2642489 </span>│<span style=\"color: #008080; text-decoration-color: #008080\">  03132024 </span>│<span style=\"color: #800080; text-decoration-color: #800080\">          </span>│<span style=\"color: #008000; text-decoration-color: #008000\">     False </span>│<span style=\"color: #008080; text-decoration-color: #008080\">      260 </span>│<span style=\"color: #800080; text-decoration-color: #800080\"> 260       </span>│<span style=\"color: #008000; text-decoration-color: #008000\">     True </span>│<span style=\"color: #008080; text-decoration-color: #008080\">       260 </span>│<span style=\"color: #800080; text-decoration-color: #800080\"> 75       </span>│<span style=\"color: #008000; text-decoration-color: #008000\">     False </span>│\n",
       "│<span style=\"color: #008080; text-decoration-color: #008080\"> 2642493 </span>│<span style=\"color: #008080; text-decoration-color: #008080\">       176 </span>│<span style=\"color: #800080; text-decoration-color: #800080\"> 03052024 </span>│<span style=\"color: #008000; text-decoration-color: #008000\">     False </span>│<span style=\"color: #008080; text-decoration-color: #008080\">          </span>│<span style=\"color: #800080; text-decoration-color: #800080\"> 176       </span>│<span style=\"color: #008000; text-decoration-color: #008000\">    False </span>│<span style=\"color: #008080; text-decoration-color: #008080\">           </span>│<span style=\"color: #800080; text-decoration-color: #800080\"> 653      </span>│<span style=\"color: #008000; text-decoration-color: #008000\">     False </span>│\n",
       "│<span style=\"color: #008080; text-decoration-color: #008080\"> 2642973 </span>│<span style=\"color: #008080; text-decoration-color: #008080\">       100 </span>│<span style=\"color: #800080; text-decoration-color: #800080\">          </span>│<span style=\"color: #008000; text-decoration-color: #008000\">     False </span>│<span style=\"color: #008080; text-decoration-color: #008080\">          </span>│<span style=\"color: #800080; text-decoration-color: #800080\"> 100       </span>│<span style=\"color: #008000; text-decoration-color: #008000\">    False </span>│<span style=\"color: #008080; text-decoration-color: #008080\">           </span>│<span style=\"color: #800080; text-decoration-color: #800080\"> 289      </span>│<span style=\"color: #008000; text-decoration-color: #008000\">     False </span>│\n",
       "│<span style=\"color: #008080; text-decoration-color: #008080\"> 2642980 </span>│<span style=\"color: #008080; text-decoration-color: #008080\">  02292024 </span>│<span style=\"color: #800080; text-decoration-color: #800080\">          </span>│<span style=\"color: #008000; text-decoration-color: #008000\">     False </span>│<span style=\"color: #008080; text-decoration-color: #008080\">      100 </span>│<span style=\"color: #800080; text-decoration-color: #800080\"> 100       </span>│<span style=\"color: #008000; text-decoration-color: #008000\">     True </span>│<span style=\"color: #008080; text-decoration-color: #008080\">       100 </span>│<span style=\"color: #800080; text-decoration-color: #800080\"> 290      </span>│<span style=\"color: #008000; text-decoration-color: #008000\">     False </span>│\n",
       "└─────────┴───────────┴──────────┴───────────┴──────────┴───────────┴──────────┴───────────┴──────────┴───────────┘\n",
       "</pre>\n"
      ],
      "text/plain": [
       "\u001b[3m                                                      KY set2                                                      \u001b[0m\n",
       "┏━━━━━━━━━┳━━━━━━━━━━━┳━━━━━━━━━━┳━━━━━━━━━━━┳━━━━━━━━━━┳━━━━━━━━━━━┳━━━━━━━━━━┳━━━━━━━━━━━┳━━━━━━━━━━┳━━━━━━━━━━━┓\n",
       "┃\u001b[1m \u001b[0m\u001b[1mBatchid\u001b[0m\u001b[1m \u001b[0m┃\u001b[1m \u001b[0m\u001b[1m6-keyed_…\u001b[0m\u001b[1m \u001b[0m┃\u001b[1m \u001b[0m\u001b[1m6-spacy…\u001b[0m\u001b[1m \u001b[0m┃\u001b[1m \u001b[0m\u001b[1m6-match_…\u001b[0m\u001b[1m \u001b[0m┃\u001b[1m \u001b[0m\u001b[1m92-keye…\u001b[0m\u001b[1m \u001b[0m┃\u001b[1m \u001b[0m\u001b[1m92-spacy…\u001b[0m\u001b[1m \u001b[0m┃\u001b[1m \u001b[0m\u001b[1m92-matc…\u001b[0m\u001b[1m \u001b[0m┃\u001b[1m \u001b[0m\u001b[1m93-keyed…\u001b[0m\u001b[1m \u001b[0m┃\u001b[1m \u001b[0m\u001b[1m93-spac…\u001b[0m\u001b[1m \u001b[0m┃\u001b[1m \u001b[0m\u001b[1m93-match…\u001b[0m\u001b[1m \u001b[0m┃\n",
       "┡━━━━━━━━━╇━━━━━━━━━━━╇━━━━━━━━━━╇━━━━━━━━━━━╇━━━━━━━━━━╇━━━━━━━━━━━╇━━━━━━━━━━╇━━━━━━━━━━━╇━━━━━━━━━━╇━━━━━━━━━━━┩\n",
       "│\u001b[36m \u001b[0m\u001b[36m2635901\u001b[0m\u001b[36m \u001b[0m│\u001b[36m \u001b[0m\u001b[36m      176\u001b[0m\u001b[36m \u001b[0m│\u001b[35m \u001b[0m\u001b[35m        \u001b[0m\u001b[35m \u001b[0m│\u001b[32m \u001b[0m\u001b[32m    False\u001b[0m\u001b[32m \u001b[0m│\u001b[36m \u001b[0m\u001b[36m        \u001b[0m\u001b[36m \u001b[0m│\u001b[35m \u001b[0m\u001b[35m176      \u001b[0m\u001b[35m \u001b[0m│\u001b[32m \u001b[0m\u001b[32m   False\u001b[0m\u001b[32m \u001b[0m│\u001b[36m \u001b[0m\u001b[36m         \u001b[0m\u001b[36m \u001b[0m│\u001b[35m \u001b[0m\u001b[35m626     \u001b[0m\u001b[35m \u001b[0m│\u001b[32m \u001b[0m\u001b[32m    False\u001b[0m\u001b[32m \u001b[0m│\n",
       "│\u001b[36m \u001b[0m\u001b[36m2637159\u001b[0m\u001b[36m \u001b[0m│\u001b[36m \u001b[0m\u001b[36m      220\u001b[0m\u001b[36m \u001b[0m│\u001b[35m \u001b[0m\u001b[35m        \u001b[0m\u001b[35m \u001b[0m│\u001b[32m \u001b[0m\u001b[32m    False\u001b[0m\u001b[32m \u001b[0m│\u001b[36m \u001b[0m\u001b[36m        \u001b[0m\u001b[36m \u001b[0m│\u001b[35m \u001b[0m\u001b[35m220      \u001b[0m\u001b[35m \u001b[0m│\u001b[32m \u001b[0m\u001b[32m   False\u001b[0m\u001b[32m \u001b[0m│\u001b[36m \u001b[0m\u001b[36m         \u001b[0m\u001b[36m \u001b[0m│\u001b[35m \u001b[0m\u001b[35m82      \u001b[0m\u001b[35m \u001b[0m│\u001b[32m \u001b[0m\u001b[32m    False\u001b[0m\u001b[32m \u001b[0m│\n",
       "│\u001b[36m \u001b[0m\u001b[36m2637177\u001b[0m\u001b[36m \u001b[0m│\u001b[36m \u001b[0m\u001b[36m      428\u001b[0m\u001b[36m \u001b[0m│\u001b[35m \u001b[0m\u001b[35m03132024\u001b[0m\u001b[35m \u001b[0m│\u001b[32m \u001b[0m\u001b[32m    False\u001b[0m\u001b[32m \u001b[0m│\u001b[36m \u001b[0m\u001b[36m        \u001b[0m\u001b[36m \u001b[0m│\u001b[35m \u001b[0m\u001b[35m428      \u001b[0m\u001b[35m \u001b[0m│\u001b[32m \u001b[0m\u001b[32m   False\u001b[0m\u001b[32m \u001b[0m│\u001b[36m \u001b[0m\u001b[36m         \u001b[0m\u001b[36m \u001b[0m│\u001b[35m \u001b[0m\u001b[35m264     \u001b[0m\u001b[35m \u001b[0m│\u001b[32m \u001b[0m\u001b[32m    False\u001b[0m\u001b[32m \u001b[0m│\n",
       "│\u001b[36m \u001b[0m\u001b[36m2637185\u001b[0m\u001b[36m \u001b[0m│\u001b[36m \u001b[0m\u001b[36m      220\u001b[0m\u001b[36m \u001b[0m│\u001b[35m \u001b[0m\u001b[35m03132024\u001b[0m\u001b[35m \u001b[0m│\u001b[32m \u001b[0m\u001b[32m    False\u001b[0m\u001b[32m \u001b[0m│\u001b[36m \u001b[0m\u001b[36m        \u001b[0m\u001b[36m \u001b[0m│\u001b[35m \u001b[0m\u001b[35m220      \u001b[0m\u001b[35m \u001b[0m│\u001b[32m \u001b[0m\u001b[32m   False\u001b[0m\u001b[32m \u001b[0m│\u001b[36m \u001b[0m\u001b[36m         \u001b[0m\u001b[36m \u001b[0m│\u001b[35m \u001b[0m\u001b[35m86      \u001b[0m\u001b[35m \u001b[0m│\u001b[32m \u001b[0m\u001b[32m    False\u001b[0m\u001b[32m \u001b[0m│\n",
       "│\u001b[36m \u001b[0m\u001b[36m2637187\u001b[0m\u001b[36m \u001b[0m│\u001b[36m \u001b[0m\u001b[36m      220\u001b[0m\u001b[36m \u001b[0m│\u001b[35m \u001b[0m\u001b[35m03132024\u001b[0m\u001b[35m \u001b[0m│\u001b[32m \u001b[0m\u001b[32m    False\u001b[0m\u001b[32m \u001b[0m│\u001b[36m \u001b[0m\u001b[36m        \u001b[0m\u001b[36m \u001b[0m│\u001b[35m \u001b[0m\u001b[35m220      \u001b[0m\u001b[35m \u001b[0m│\u001b[32m \u001b[0m\u001b[32m   False\u001b[0m\u001b[32m \u001b[0m│\u001b[36m \u001b[0m\u001b[36m         \u001b[0m\u001b[36m \u001b[0m│\u001b[35m \u001b[0m\u001b[35m96      \u001b[0m\u001b[35m \u001b[0m│\u001b[32m \u001b[0m\u001b[32m    False\u001b[0m\u001b[32m \u001b[0m│\n",
       "│\u001b[36m \u001b[0m\u001b[36m2637196\u001b[0m\u001b[36m \u001b[0m│\u001b[36m \u001b[0m\u001b[36m      428\u001b[0m\u001b[36m \u001b[0m│\u001b[35m \u001b[0m\u001b[35m03132024\u001b[0m\u001b[35m \u001b[0m│\u001b[32m \u001b[0m\u001b[32m    False\u001b[0m\u001b[32m \u001b[0m│\u001b[36m \u001b[0m\u001b[36m        \u001b[0m\u001b[36m \u001b[0m│\u001b[35m \u001b[0m\u001b[35m428      \u001b[0m\u001b[35m \u001b[0m│\u001b[32m \u001b[0m\u001b[32m   False\u001b[0m\u001b[32m \u001b[0m│\u001b[36m \u001b[0m\u001b[36m         \u001b[0m\u001b[36m \u001b[0m│\u001b[35m \u001b[0m\u001b[35m278     \u001b[0m\u001b[35m \u001b[0m│\u001b[32m \u001b[0m\u001b[32m    False\u001b[0m\u001b[32m \u001b[0m│\n",
       "│\u001b[36m \u001b[0m\u001b[36m2637277\u001b[0m\u001b[36m \u001b[0m│\u001b[36m \u001b[0m\u001b[36m 03132024\u001b[0m\u001b[36m \u001b[0m│\u001b[35m \u001b[0m\u001b[35m        \u001b[0m\u001b[35m \u001b[0m│\u001b[32m \u001b[0m\u001b[32m    False\u001b[0m\u001b[32m \u001b[0m│\u001b[36m \u001b[0m\u001b[36m     176\u001b[0m\u001b[36m \u001b[0m│\u001b[35m \u001b[0m\u001b[35m176      \u001b[0m\u001b[35m \u001b[0m│\u001b[32m \u001b[0m\u001b[32m    True\u001b[0m\u001b[32m \u001b[0m│\u001b[36m \u001b[0m\u001b[36m      176\u001b[0m\u001b[36m \u001b[0m│\u001b[35m \u001b[0m\u001b[35m614     \u001b[0m\u001b[35m \u001b[0m│\u001b[32m \u001b[0m\u001b[32m    False\u001b[0m\u001b[32m \u001b[0m│\n",
       "│\u001b[36m \u001b[0m\u001b[36m2637436\u001b[0m\u001b[36m \u001b[0m│\u001b[36m \u001b[0m\u001b[36m       19\u001b[0m\u001b[36m \u001b[0m│\u001b[35m \u001b[0m\u001b[35m03142024\u001b[0m\u001b[35m \u001b[0m│\u001b[32m \u001b[0m\u001b[32m    False\u001b[0m\u001b[32m \u001b[0m│\u001b[36m \u001b[0m\u001b[36m        \u001b[0m\u001b[36m \u001b[0m│\u001b[35m \u001b[0m\u001b[35m19       \u001b[0m\u001b[35m \u001b[0m│\u001b[32m \u001b[0m\u001b[32m   False\u001b[0m\u001b[32m \u001b[0m│\u001b[36m \u001b[0m\u001b[36m         \u001b[0m\u001b[36m \u001b[0m│\u001b[35m \u001b[0m\u001b[35m50      \u001b[0m\u001b[35m \u001b[0m│\u001b[32m \u001b[0m\u001b[32m    False\u001b[0m\u001b[32m \u001b[0m│\n",
       "│\u001b[36m \u001b[0m\u001b[36m2638208\u001b[0m\u001b[36m \u001b[0m│\u001b[36m \u001b[0m\u001b[36m 02272024\u001b[0m\u001b[36m \u001b[0m│\u001b[35m \u001b[0m\u001b[35m        \u001b[0m\u001b[35m \u001b[0m│\u001b[32m \u001b[0m\u001b[32m    False\u001b[0m\u001b[32m \u001b[0m│\u001b[36m \u001b[0m\u001b[36m     286\u001b[0m\u001b[36m \u001b[0m│\u001b[35m \u001b[0m\u001b[35m286      \u001b[0m\u001b[35m \u001b[0m│\u001b[32m \u001b[0m\u001b[32m    True\u001b[0m\u001b[32m \u001b[0m│\u001b[36m \u001b[0m\u001b[36m      286\u001b[0m\u001b[36m \u001b[0m│\u001b[35m \u001b[0m\u001b[35m615     \u001b[0m\u001b[35m \u001b[0m│\u001b[32m \u001b[0m\u001b[32m    False\u001b[0m\u001b[32m \u001b[0m│\n",
       "│\u001b[36m \u001b[0m\u001b[36m2638212\u001b[0m\u001b[36m \u001b[0m│\u001b[36m \u001b[0m\u001b[36m 02272024\u001b[0m\u001b[36m \u001b[0m│\u001b[35m \u001b[0m\u001b[35m        \u001b[0m\u001b[35m \u001b[0m│\u001b[32m \u001b[0m\u001b[32m    False\u001b[0m\u001b[32m \u001b[0m│\u001b[36m \u001b[0m\u001b[36m     286\u001b[0m\u001b[36m \u001b[0m│\u001b[35m \u001b[0m\u001b[35m286      \u001b[0m\u001b[35m \u001b[0m│\u001b[32m \u001b[0m\u001b[32m    True\u001b[0m\u001b[32m \u001b[0m│\u001b[36m \u001b[0m\u001b[36m      286\u001b[0m\u001b[36m \u001b[0m│\u001b[35m \u001b[0m\u001b[35m617     \u001b[0m\u001b[35m \u001b[0m│\u001b[32m \u001b[0m\u001b[32m    False\u001b[0m\u001b[32m \u001b[0m│\n",
       "│\u001b[36m \u001b[0m\u001b[36m2638213\u001b[0m\u001b[36m \u001b[0m│\u001b[36m \u001b[0m\u001b[36m 02272024\u001b[0m\u001b[36m \u001b[0m│\u001b[35m \u001b[0m\u001b[35m        \u001b[0m\u001b[35m \u001b[0m│\u001b[32m \u001b[0m\u001b[32m    False\u001b[0m\u001b[32m \u001b[0m│\u001b[36m \u001b[0m\u001b[36m     286\u001b[0m\u001b[36m \u001b[0m│\u001b[35m \u001b[0m\u001b[35m286      \u001b[0m\u001b[35m \u001b[0m│\u001b[32m \u001b[0m\u001b[32m    True\u001b[0m\u001b[32m \u001b[0m│\u001b[36m \u001b[0m\u001b[36m      286\u001b[0m\u001b[36m \u001b[0m│\u001b[35m \u001b[0m\u001b[35m        \u001b[0m\u001b[35m \u001b[0m│\u001b[32m \u001b[0m\u001b[32m    False\u001b[0m\u001b[32m \u001b[0m│\n",
       "│\u001b[36m \u001b[0m\u001b[36m2638223\u001b[0m\u001b[36m \u001b[0m│\u001b[36m \u001b[0m\u001b[36m 02272024\u001b[0m\u001b[36m \u001b[0m│\u001b[35m \u001b[0m\u001b[35m02272024\u001b[0m\u001b[35m \u001b[0m│\u001b[32m \u001b[0m\u001b[32m     True\u001b[0m\u001b[32m \u001b[0m│\u001b[36m \u001b[0m\u001b[36m     857\u001b[0m\u001b[36m \u001b[0m│\u001b[35m \u001b[0m\u001b[35m857      \u001b[0m\u001b[35m \u001b[0m│\u001b[32m \u001b[0m\u001b[32m    True\u001b[0m\u001b[32m \u001b[0m│\u001b[36m \u001b[0m\u001b[36m      857\u001b[0m\u001b[36m \u001b[0m│\u001b[35m \u001b[0m\u001b[35m        \u001b[0m\u001b[35m \u001b[0m│\u001b[32m \u001b[0m\u001b[32m    False\u001b[0m\u001b[32m \u001b[0m│\n",
       "│\u001b[36m \u001b[0m\u001b[36m2638251\u001b[0m\u001b[36m \u001b[0m│\u001b[36m \u001b[0m\u001b[36m 02272024\u001b[0m\u001b[36m \u001b[0m│\u001b[35m \u001b[0m\u001b[35m02272024\u001b[0m\u001b[35m \u001b[0m│\u001b[32m \u001b[0m\u001b[32m     True\u001b[0m\u001b[32m \u001b[0m│\u001b[36m \u001b[0m\u001b[36m     857\u001b[0m\u001b[36m \u001b[0m│\u001b[35m \u001b[0m\u001b[35m857      \u001b[0m\u001b[35m \u001b[0m│\u001b[32m \u001b[0m\u001b[32m    True\u001b[0m\u001b[32m \u001b[0m│\u001b[36m \u001b[0m\u001b[36m      857\u001b[0m\u001b[36m \u001b[0m│\u001b[35m \u001b[0m\u001b[35m        \u001b[0m\u001b[35m \u001b[0m│\u001b[32m \u001b[0m\u001b[32m    False\u001b[0m\u001b[32m \u001b[0m│\n",
       "│\u001b[36m \u001b[0m\u001b[36m2638256\u001b[0m\u001b[36m \u001b[0m│\u001b[36m \u001b[0m\u001b[36m 02272024\u001b[0m\u001b[36m \u001b[0m│\u001b[35m \u001b[0m\u001b[35m        \u001b[0m\u001b[35m \u001b[0m│\u001b[32m \u001b[0m\u001b[32m    False\u001b[0m\u001b[32m \u001b[0m│\u001b[36m \u001b[0m\u001b[36m     857\u001b[0m\u001b[36m \u001b[0m│\u001b[35m \u001b[0m\u001b[35m857      \u001b[0m\u001b[35m \u001b[0m│\u001b[32m \u001b[0m\u001b[32m    True\u001b[0m\u001b[32m \u001b[0m│\u001b[36m \u001b[0m\u001b[36m      857\u001b[0m\u001b[36m \u001b[0m│\u001b[35m \u001b[0m\u001b[35m        \u001b[0m\u001b[35m \u001b[0m│\u001b[32m \u001b[0m\u001b[32m    False\u001b[0m\u001b[32m \u001b[0m│\n",
       "│\u001b[36m \u001b[0m\u001b[36m2638258\u001b[0m\u001b[36m \u001b[0m│\u001b[36m \u001b[0m\u001b[36m 02272024\u001b[0m\u001b[36m \u001b[0m│\u001b[35m \u001b[0m\u001b[35m        \u001b[0m\u001b[35m \u001b[0m│\u001b[32m \u001b[0m\u001b[32m    False\u001b[0m\u001b[32m \u001b[0m│\u001b[36m \u001b[0m\u001b[36m     286\u001b[0m\u001b[36m \u001b[0m│\u001b[35m \u001b[0m\u001b[35m286      \u001b[0m\u001b[35m \u001b[0m│\u001b[32m \u001b[0m\u001b[32m    True\u001b[0m\u001b[32m \u001b[0m│\u001b[36m \u001b[0m\u001b[36m      286\u001b[0m\u001b[36m \u001b[0m│\u001b[35m \u001b[0m\u001b[35m        \u001b[0m\u001b[35m \u001b[0m│\u001b[32m \u001b[0m\u001b[32m    False\u001b[0m\u001b[32m \u001b[0m│\n",
       "│\u001b[36m \u001b[0m\u001b[36m2641548\u001b[0m\u001b[36m \u001b[0m│\u001b[36m \u001b[0m\u001b[36m        7\u001b[0m\u001b[36m \u001b[0m│\u001b[35m \u001b[0m\u001b[35m03122024\u001b[0m\u001b[35m \u001b[0m│\u001b[32m \u001b[0m\u001b[32m    False\u001b[0m\u001b[32m \u001b[0m│\u001b[36m \u001b[0m\u001b[36m        \u001b[0m\u001b[36m \u001b[0m│\u001b[35m \u001b[0m\u001b[35m7        \u001b[0m\u001b[35m \u001b[0m│\u001b[32m \u001b[0m\u001b[32m   False\u001b[0m\u001b[32m \u001b[0m│\u001b[36m \u001b[0m\u001b[36m         \u001b[0m\u001b[36m \u001b[0m│\u001b[35m \u001b[0m\u001b[35m58      \u001b[0m\u001b[35m \u001b[0m│\u001b[32m \u001b[0m\u001b[32m    False\u001b[0m\u001b[32m \u001b[0m│\n",
       "│\u001b[36m \u001b[0m\u001b[36m2641560\u001b[0m\u001b[36m \u001b[0m│\u001b[36m \u001b[0m\u001b[36m      325\u001b[0m\u001b[36m \u001b[0m│\u001b[35m \u001b[0m\u001b[35m03122024\u001b[0m\u001b[35m \u001b[0m│\u001b[32m \u001b[0m\u001b[32m    False\u001b[0m\u001b[32m \u001b[0m│\u001b[36m \u001b[0m\u001b[36m        \u001b[0m\u001b[36m \u001b[0m│\u001b[35m \u001b[0m\u001b[35m28       \u001b[0m\u001b[35m \u001b[0m│\u001b[32m \u001b[0m\u001b[32m   False\u001b[0m\u001b[32m \u001b[0m│\u001b[36m \u001b[0m\u001b[36m         \u001b[0m\u001b[36m \u001b[0m│\u001b[35m \u001b[0m\u001b[35m110     \u001b[0m\u001b[35m \u001b[0m│\u001b[32m \u001b[0m\u001b[32m    False\u001b[0m\u001b[32m \u001b[0m│\n",
       "│\u001b[36m \u001b[0m\u001b[36m2641711\u001b[0m\u001b[36m \u001b[0m│\u001b[36m \u001b[0m\u001b[36m      100\u001b[0m\u001b[36m \u001b[0m│\u001b[35m \u001b[0m\u001b[35m        \u001b[0m\u001b[35m \u001b[0m│\u001b[32m \u001b[0m\u001b[32m    False\u001b[0m\u001b[32m \u001b[0m│\u001b[36m \u001b[0m\u001b[36m        \u001b[0m\u001b[36m \u001b[0m│\u001b[35m \u001b[0m\u001b[35m100      \u001b[0m\u001b[35m \u001b[0m│\u001b[32m \u001b[0m\u001b[32m   False\u001b[0m\u001b[32m \u001b[0m│\u001b[36m \u001b[0m\u001b[36m         \u001b[0m\u001b[36m \u001b[0m│\u001b[35m \u001b[0m\u001b[35m352     \u001b[0m\u001b[35m \u001b[0m│\u001b[32m \u001b[0m\u001b[32m    False\u001b[0m\u001b[32m \u001b[0m│\n",
       "│\u001b[36m \u001b[0m\u001b[36m2641712\u001b[0m\u001b[36m \u001b[0m│\u001b[36m \u001b[0m\u001b[36m       10\u001b[0m\u001b[36m \u001b[0m│\u001b[35m \u001b[0m\u001b[35m        \u001b[0m\u001b[35m \u001b[0m│\u001b[32m \u001b[0m\u001b[32m    False\u001b[0m\u001b[32m \u001b[0m│\u001b[36m \u001b[0m\u001b[36m        \u001b[0m\u001b[36m \u001b[0m│\u001b[35m \u001b[0m\u001b[35m         \u001b[0m\u001b[35m \u001b[0m│\u001b[32m \u001b[0m\u001b[32m    True\u001b[0m\u001b[32m \u001b[0m│\u001b[36m \u001b[0m\u001b[36m         \u001b[0m\u001b[36m \u001b[0m│\u001b[35m \u001b[0m\u001b[35m15      \u001b[0m\u001b[35m \u001b[0m│\u001b[32m \u001b[0m\u001b[32m    False\u001b[0m\u001b[32m \u001b[0m│\n",
       "│\u001b[36m \u001b[0m\u001b[36m2641764\u001b[0m\u001b[36m \u001b[0m│\u001b[36m \u001b[0m\u001b[36m 03122024\u001b[0m\u001b[36m \u001b[0m│\u001b[35m \u001b[0m\u001b[35m        \u001b[0m\u001b[35m \u001b[0m│\u001b[32m \u001b[0m\u001b[32m    False\u001b[0m\u001b[32m \u001b[0m│\u001b[36m \u001b[0m\u001b[36m    3443\u001b[0m\u001b[36m \u001b[0m│\u001b[35m \u001b[0m\u001b[35m         \u001b[0m\u001b[35m \u001b[0m│\u001b[32m \u001b[0m\u001b[32m   False\u001b[0m\u001b[32m \u001b[0m│\u001b[36m \u001b[0m\u001b[36m     3443\u001b[0m\u001b[36m \u001b[0m│\u001b[35m \u001b[0m\u001b[35m495     \u001b[0m\u001b[35m \u001b[0m│\u001b[32m \u001b[0m\u001b[32m    False\u001b[0m\u001b[32m \u001b[0m│\n",
       "│\u001b[36m \u001b[0m\u001b[36m2641765\u001b[0m\u001b[36m \u001b[0m│\u001b[36m \u001b[0m\u001b[36m 03122024\u001b[0m\u001b[36m \u001b[0m│\u001b[35m \u001b[0m\u001b[35m        \u001b[0m\u001b[35m \u001b[0m│\u001b[32m \u001b[0m\u001b[32m    False\u001b[0m\u001b[32m \u001b[0m│\u001b[36m \u001b[0m\u001b[36m    3443\u001b[0m\u001b[36m \u001b[0m│\u001b[35m \u001b[0m\u001b[35m         \u001b[0m\u001b[35m \u001b[0m│\u001b[32m \u001b[0m\u001b[32m   False\u001b[0m\u001b[32m \u001b[0m│\u001b[36m \u001b[0m\u001b[36m     3443\u001b[0m\u001b[36m \u001b[0m│\u001b[35m \u001b[0m\u001b[35m497     \u001b[0m\u001b[35m \u001b[0m│\u001b[32m \u001b[0m\u001b[32m    False\u001b[0m\u001b[32m \u001b[0m│\n",
       "│\u001b[36m \u001b[0m\u001b[36m2641766\u001b[0m\u001b[36m \u001b[0m│\u001b[36m \u001b[0m\u001b[36m 03122024\u001b[0m\u001b[36m \u001b[0m│\u001b[35m \u001b[0m\u001b[35m        \u001b[0m\u001b[35m \u001b[0m│\u001b[32m \u001b[0m\u001b[32m    False\u001b[0m\u001b[32m \u001b[0m│\u001b[36m \u001b[0m\u001b[36m    3443\u001b[0m\u001b[36m \u001b[0m│\u001b[35m \u001b[0m\u001b[35m         \u001b[0m\u001b[35m \u001b[0m│\u001b[32m \u001b[0m\u001b[32m   False\u001b[0m\u001b[32m \u001b[0m│\u001b[36m \u001b[0m\u001b[36m     3443\u001b[0m\u001b[36m \u001b[0m│\u001b[35m \u001b[0m\u001b[35m499     \u001b[0m\u001b[35m \u001b[0m│\u001b[32m \u001b[0m\u001b[32m    False\u001b[0m\u001b[32m \u001b[0m│\n",
       "│\u001b[36m \u001b[0m\u001b[36m2641794\u001b[0m\u001b[36m \u001b[0m│\u001b[36m \u001b[0m\u001b[36m        2\u001b[0m\u001b[36m \u001b[0m│\u001b[35m \u001b[0m\u001b[35m03112024\u001b[0m\u001b[35m \u001b[0m│\u001b[32m \u001b[0m\u001b[32m    False\u001b[0m\u001b[32m \u001b[0m│\u001b[36m \u001b[0m\u001b[36m        \u001b[0m\u001b[36m \u001b[0m│\u001b[35m \u001b[0m\u001b[35m2        \u001b[0m\u001b[35m \u001b[0m│\u001b[32m \u001b[0m\u001b[32m   False\u001b[0m\u001b[32m \u001b[0m│\u001b[36m \u001b[0m\u001b[36m         \u001b[0m\u001b[36m \u001b[0m│\u001b[35m \u001b[0m\u001b[35m429     \u001b[0m\u001b[35m \u001b[0m│\u001b[32m \u001b[0m\u001b[32m    False\u001b[0m\u001b[32m \u001b[0m│\n",
       "│\u001b[36m \u001b[0m\u001b[36m2641803\u001b[0m\u001b[36m \u001b[0m│\u001b[36m \u001b[0m\u001b[36m       41\u001b[0m\u001b[36m \u001b[0m│\u001b[35m \u001b[0m\u001b[35m03112024\u001b[0m\u001b[35m \u001b[0m│\u001b[32m \u001b[0m\u001b[32m    False\u001b[0m\u001b[32m \u001b[0m│\u001b[36m \u001b[0m\u001b[36m        \u001b[0m\u001b[36m \u001b[0m│\u001b[35m \u001b[0m\u001b[35m41       \u001b[0m\u001b[35m \u001b[0m│\u001b[32m \u001b[0m\u001b[32m   False\u001b[0m\u001b[32m \u001b[0m│\u001b[36m \u001b[0m\u001b[36m         \u001b[0m\u001b[36m \u001b[0m│\u001b[35m \u001b[0m\u001b[35m674     \u001b[0m\u001b[35m \u001b[0m│\u001b[32m \u001b[0m\u001b[32m    False\u001b[0m\u001b[32m \u001b[0m│\n",
       "│\u001b[36m \u001b[0m\u001b[36m2641831\u001b[0m\u001b[36m \u001b[0m│\u001b[36m \u001b[0m\u001b[36m        9\u001b[0m\u001b[36m \u001b[0m│\u001b[35m \u001b[0m\u001b[35m03112024\u001b[0m\u001b[35m \u001b[0m│\u001b[32m \u001b[0m\u001b[32m    False\u001b[0m\u001b[32m \u001b[0m│\u001b[36m \u001b[0m\u001b[36m        \u001b[0m\u001b[36m \u001b[0m│\u001b[35m \u001b[0m\u001b[35m         \u001b[0m\u001b[35m \u001b[0m│\u001b[32m \u001b[0m\u001b[32m    True\u001b[0m\u001b[32m \u001b[0m│\u001b[36m \u001b[0m\u001b[36m         \u001b[0m\u001b[36m \u001b[0m│\u001b[35m \u001b[0m\u001b[35m246     \u001b[0m\u001b[35m \u001b[0m│\u001b[32m \u001b[0m\u001b[32m    False\u001b[0m\u001b[32m \u001b[0m│\n",
       "│\u001b[36m \u001b[0m\u001b[36m2641834\u001b[0m\u001b[36m \u001b[0m│\u001b[36m \u001b[0m\u001b[36m     1122\u001b[0m\u001b[36m \u001b[0m│\u001b[35m \u001b[0m\u001b[35m03112024\u001b[0m\u001b[35m \u001b[0m│\u001b[32m \u001b[0m\u001b[32m    False\u001b[0m\u001b[32m \u001b[0m│\u001b[36m \u001b[0m\u001b[36m        \u001b[0m\u001b[36m \u001b[0m│\u001b[35m \u001b[0m\u001b[35m1122     \u001b[0m\u001b[35m \u001b[0m│\u001b[32m \u001b[0m\u001b[32m   False\u001b[0m\u001b[32m \u001b[0m│\u001b[36m \u001b[0m\u001b[36m         \u001b[0m\u001b[36m \u001b[0m│\u001b[35m \u001b[0m\u001b[35m351     \u001b[0m\u001b[35m \u001b[0m│\u001b[32m \u001b[0m\u001b[32m    False\u001b[0m\u001b[32m \u001b[0m│\n",
       "│\u001b[36m \u001b[0m\u001b[36m2641838\u001b[0m\u001b[36m \u001b[0m│\u001b[36m \u001b[0m\u001b[36m        9\u001b[0m\u001b[36m \u001b[0m│\u001b[35m \u001b[0m\u001b[35m        \u001b[0m\u001b[35m \u001b[0m│\u001b[32m \u001b[0m\u001b[32m    False\u001b[0m\u001b[32m \u001b[0m│\u001b[36m \u001b[0m\u001b[36m        \u001b[0m\u001b[36m \u001b[0m│\u001b[35m \u001b[0m\u001b[35m         \u001b[0m\u001b[35m \u001b[0m│\u001b[32m \u001b[0m\u001b[32m    True\u001b[0m\u001b[32m \u001b[0m│\u001b[36m \u001b[0m\u001b[36m         \u001b[0m\u001b[36m \u001b[0m│\u001b[35m \u001b[0m\u001b[35m247     \u001b[0m\u001b[35m \u001b[0m│\u001b[32m \u001b[0m\u001b[32m    False\u001b[0m\u001b[32m \u001b[0m│\n",
       "│\u001b[36m \u001b[0m\u001b[36m2641847\u001b[0m\u001b[36m \u001b[0m│\u001b[36m \u001b[0m\u001b[36m 03112024\u001b[0m\u001b[36m \u001b[0m│\u001b[35m \u001b[0m\u001b[35m        \u001b[0m\u001b[35m \u001b[0m│\u001b[32m \u001b[0m\u001b[32m    False\u001b[0m\u001b[32m \u001b[0m│\u001b[36m \u001b[0m\u001b[36m    1122\u001b[0m\u001b[36m \u001b[0m│\u001b[35m \u001b[0m\u001b[35m         \u001b[0m\u001b[35m \u001b[0m│\u001b[32m \u001b[0m\u001b[32m   False\u001b[0m\u001b[32m \u001b[0m│\u001b[36m \u001b[0m\u001b[36m     1122\u001b[0m\u001b[36m \u001b[0m│\u001b[35m \u001b[0m\u001b[35m387     \u001b[0m\u001b[35m \u001b[0m│\u001b[32m \u001b[0m\u001b[32m    False\u001b[0m\u001b[32m \u001b[0m│\n",
       "│\u001b[36m \u001b[0m\u001b[36m2641848\u001b[0m\u001b[36m \u001b[0m│\u001b[36m \u001b[0m\u001b[36m 03112024\u001b[0m\u001b[36m \u001b[0m│\u001b[35m \u001b[0m\u001b[35m        \u001b[0m\u001b[35m \u001b[0m│\u001b[32m \u001b[0m\u001b[32m    False\u001b[0m\u001b[32m \u001b[0m│\u001b[36m \u001b[0m\u001b[36m    1122\u001b[0m\u001b[36m \u001b[0m│\u001b[35m \u001b[0m\u001b[35m         \u001b[0m\u001b[35m \u001b[0m│\u001b[32m \u001b[0m\u001b[32m   False\u001b[0m\u001b[32m \u001b[0m│\u001b[36m \u001b[0m\u001b[36m     1122\u001b[0m\u001b[36m \u001b[0m│\u001b[35m \u001b[0m\u001b[35m406     \u001b[0m\u001b[35m \u001b[0m│\u001b[32m \u001b[0m\u001b[32m    False\u001b[0m\u001b[32m \u001b[0m│\n",
       "│\u001b[36m \u001b[0m\u001b[36m2641849\u001b[0m\u001b[36m \u001b[0m│\u001b[36m \u001b[0m\u001b[36m 03112024\u001b[0m\u001b[36m \u001b[0m│\u001b[35m \u001b[0m\u001b[35m03112024\u001b[0m\u001b[35m \u001b[0m│\u001b[32m \u001b[0m\u001b[32m     True\u001b[0m\u001b[32m \u001b[0m│\u001b[36m \u001b[0m\u001b[36m     112\u001b[0m\u001b[36m \u001b[0m│\u001b[35m \u001b[0m\u001b[35m         \u001b[0m\u001b[35m \u001b[0m│\u001b[32m \u001b[0m\u001b[32m   False\u001b[0m\u001b[32m \u001b[0m│\u001b[36m \u001b[0m\u001b[36m      112\u001b[0m\u001b[36m \u001b[0m│\u001b[35m \u001b[0m\u001b[35m426     \u001b[0m\u001b[35m \u001b[0m│\u001b[32m \u001b[0m\u001b[32m    False\u001b[0m\u001b[32m \u001b[0m│\n",
       "│\u001b[36m \u001b[0m\u001b[36m2641945\u001b[0m\u001b[36m \u001b[0m│\u001b[36m \u001b[0m\u001b[36m 03082024\u001b[0m\u001b[36m \u001b[0m│\u001b[35m \u001b[0m\u001b[35m        \u001b[0m\u001b[35m \u001b[0m│\u001b[32m \u001b[0m\u001b[32m    False\u001b[0m\u001b[32m \u001b[0m│\u001b[36m \u001b[0m\u001b[36m     365\u001b[0m\u001b[36m \u001b[0m│\u001b[35m \u001b[0m\u001b[35m         \u001b[0m\u001b[35m \u001b[0m│\u001b[32m \u001b[0m\u001b[32m   False\u001b[0m\u001b[32m \u001b[0m│\u001b[36m \u001b[0m\u001b[36m      365\u001b[0m\u001b[36m \u001b[0m│\u001b[35m \u001b[0m\u001b[35m302     \u001b[0m\u001b[35m \u001b[0m│\u001b[32m \u001b[0m\u001b[32m    False\u001b[0m\u001b[32m \u001b[0m│\n",
       "│\u001b[36m \u001b[0m\u001b[36m2641947\u001b[0m\u001b[36m \u001b[0m│\u001b[36m \u001b[0m\u001b[36m 03082024\u001b[0m\u001b[36m \u001b[0m│\u001b[35m \u001b[0m\u001b[35m        \u001b[0m\u001b[35m \u001b[0m│\u001b[32m \u001b[0m\u001b[32m    False\u001b[0m\u001b[32m \u001b[0m│\u001b[36m \u001b[0m\u001b[36m     365\u001b[0m\u001b[36m \u001b[0m│\u001b[35m \u001b[0m\u001b[35m365      \u001b[0m\u001b[35m \u001b[0m│\u001b[32m \u001b[0m\u001b[32m    True\u001b[0m\u001b[32m \u001b[0m│\u001b[36m \u001b[0m\u001b[36m      365\u001b[0m\u001b[36m \u001b[0m│\u001b[35m \u001b[0m\u001b[35m324     \u001b[0m\u001b[35m \u001b[0m│\u001b[32m \u001b[0m\u001b[32m    False\u001b[0m\u001b[32m \u001b[0m│\n",
       "│\u001b[36m \u001b[0m\u001b[36m2641949\u001b[0m\u001b[36m \u001b[0m│\u001b[36m \u001b[0m\u001b[36m 03082024\u001b[0m\u001b[36m \u001b[0m│\u001b[35m \u001b[0m\u001b[35m03082024\u001b[0m\u001b[35m \u001b[0m│\u001b[32m \u001b[0m\u001b[32m     True\u001b[0m\u001b[32m \u001b[0m│\u001b[36m \u001b[0m\u001b[36m     365\u001b[0m\u001b[36m \u001b[0m│\u001b[35m \u001b[0m\u001b[35m         \u001b[0m\u001b[35m \u001b[0m│\u001b[32m \u001b[0m\u001b[32m   False\u001b[0m\u001b[32m \u001b[0m│\u001b[36m \u001b[0m\u001b[36m      365\u001b[0m\u001b[36m \u001b[0m│\u001b[35m \u001b[0m\u001b[35m326     \u001b[0m\u001b[35m \u001b[0m│\u001b[32m \u001b[0m\u001b[32m    False\u001b[0m\u001b[32m \u001b[0m│\n",
       "│\u001b[36m \u001b[0m\u001b[36m2641968\u001b[0m\u001b[36m \u001b[0m│\u001b[36m \u001b[0m\u001b[36m 03132024\u001b[0m\u001b[36m \u001b[0m│\u001b[35m \u001b[0m\u001b[35m        \u001b[0m\u001b[35m \u001b[0m│\u001b[32m \u001b[0m\u001b[32m    False\u001b[0m\u001b[32m \u001b[0m│\u001b[36m \u001b[0m\u001b[36m     176\u001b[0m\u001b[36m \u001b[0m│\u001b[35m \u001b[0m\u001b[35m176      \u001b[0m\u001b[35m \u001b[0m│\u001b[32m \u001b[0m\u001b[32m    True\u001b[0m\u001b[32m \u001b[0m│\u001b[36m \u001b[0m\u001b[36m      176\u001b[0m\u001b[36m \u001b[0m│\u001b[35m \u001b[0m\u001b[35m614     \u001b[0m\u001b[35m \u001b[0m│\u001b[32m \u001b[0m\u001b[32m    False\u001b[0m\u001b[32m \u001b[0m│\n",
       "│\u001b[36m \u001b[0m\u001b[36m2641998\u001b[0m\u001b[36m \u001b[0m│\u001b[36m \u001b[0m\u001b[36m       19\u001b[0m\u001b[36m \u001b[0m│\u001b[35m \u001b[0m\u001b[35m03142024\u001b[0m\u001b[35m \u001b[0m│\u001b[32m \u001b[0m\u001b[32m    False\u001b[0m\u001b[32m \u001b[0m│\u001b[36m \u001b[0m\u001b[36m        \u001b[0m\u001b[36m \u001b[0m│\u001b[35m \u001b[0m\u001b[35m19       \u001b[0m\u001b[35m \u001b[0m│\u001b[32m \u001b[0m\u001b[32m   False\u001b[0m\u001b[32m \u001b[0m│\u001b[36m \u001b[0m\u001b[36m         \u001b[0m\u001b[36m \u001b[0m│\u001b[35m \u001b[0m\u001b[35m50      \u001b[0m\u001b[35m \u001b[0m│\u001b[32m \u001b[0m\u001b[32m    False\u001b[0m\u001b[32m \u001b[0m│\n",
       "│\u001b[36m \u001b[0m\u001b[36m2642037\u001b[0m\u001b[36m \u001b[0m│\u001b[36m \u001b[0m\u001b[36m 03112024\u001b[0m\u001b[36m \u001b[0m│\u001b[35m \u001b[0m\u001b[35m        \u001b[0m\u001b[35m \u001b[0m│\u001b[32m \u001b[0m\u001b[32m    False\u001b[0m\u001b[32m \u001b[0m│\u001b[36m \u001b[0m\u001b[36m      34\u001b[0m\u001b[36m \u001b[0m│\u001b[35m \u001b[0m\u001b[35m34       \u001b[0m\u001b[35m \u001b[0m│\u001b[32m \u001b[0m\u001b[32m    True\u001b[0m\u001b[32m \u001b[0m│\u001b[36m \u001b[0m\u001b[36m       34\u001b[0m\u001b[36m \u001b[0m│\u001b[35m \u001b[0m\u001b[35m271     \u001b[0m\u001b[35m \u001b[0m│\u001b[32m \u001b[0m\u001b[32m    False\u001b[0m\u001b[32m \u001b[0m│\n",
       "│\u001b[36m \u001b[0m\u001b[36m2642449\u001b[0m\u001b[36m \u001b[0m│\u001b[36m \u001b[0m\u001b[36m 02292024\u001b[0m\u001b[36m \u001b[0m│\u001b[35m \u001b[0m\u001b[35m        \u001b[0m\u001b[35m \u001b[0m│\u001b[32m \u001b[0m\u001b[32m    False\u001b[0m\u001b[32m \u001b[0m│\u001b[36m \u001b[0m\u001b[36m     857\u001b[0m\u001b[36m \u001b[0m│\u001b[35m \u001b[0m\u001b[35m857      \u001b[0m\u001b[35m \u001b[0m│\u001b[32m \u001b[0m\u001b[32m    True\u001b[0m\u001b[32m \u001b[0m│\u001b[36m \u001b[0m\u001b[36m      857\u001b[0m\u001b[36m \u001b[0m│\u001b[35m \u001b[0m\u001b[35m        \u001b[0m\u001b[35m \u001b[0m│\u001b[32m \u001b[0m\u001b[32m    False\u001b[0m\u001b[32m \u001b[0m│\n",
       "│\u001b[36m \u001b[0m\u001b[36m2642451\u001b[0m\u001b[36m \u001b[0m│\u001b[36m \u001b[0m\u001b[36m 02292024\u001b[0m\u001b[36m \u001b[0m│\u001b[35m \u001b[0m\u001b[35m02292024\u001b[0m\u001b[35m \u001b[0m│\u001b[32m \u001b[0m\u001b[32m     True\u001b[0m\u001b[32m \u001b[0m│\u001b[36m \u001b[0m\u001b[36m     286\u001b[0m\u001b[36m \u001b[0m│\u001b[35m \u001b[0m\u001b[35m286      \u001b[0m\u001b[35m \u001b[0m│\u001b[32m \u001b[0m\u001b[32m    True\u001b[0m\u001b[32m \u001b[0m│\u001b[36m \u001b[0m\u001b[36m      286\u001b[0m\u001b[36m \u001b[0m│\u001b[35m \u001b[0m\u001b[35m        \u001b[0m\u001b[35m \u001b[0m│\u001b[32m \u001b[0m\u001b[32m    False\u001b[0m\u001b[32m \u001b[0m│\n",
       "│\u001b[36m \u001b[0m\u001b[36m2642456\u001b[0m\u001b[36m \u001b[0m│\u001b[36m \u001b[0m\u001b[36m 02292024\u001b[0m\u001b[36m \u001b[0m│\u001b[35m \u001b[0m\u001b[35m        \u001b[0m\u001b[35m \u001b[0m│\u001b[32m \u001b[0m\u001b[32m    False\u001b[0m\u001b[32m \u001b[0m│\u001b[36m \u001b[0m\u001b[36m    1555\u001b[0m\u001b[36m \u001b[0m│\u001b[35m \u001b[0m\u001b[35m         \u001b[0m\u001b[35m \u001b[0m│\u001b[32m \u001b[0m\u001b[32m   False\u001b[0m\u001b[32m \u001b[0m│\u001b[36m \u001b[0m\u001b[36m     1555\u001b[0m\u001b[36m \u001b[0m│\u001b[35m \u001b[0m\u001b[35m185     \u001b[0m\u001b[35m \u001b[0m│\u001b[32m \u001b[0m\u001b[32m    False\u001b[0m\u001b[32m \u001b[0m│\n",
       "│\u001b[36m \u001b[0m\u001b[36m2642457\u001b[0m\u001b[36m \u001b[0m│\u001b[36m \u001b[0m\u001b[36m 02292024\u001b[0m\u001b[36m \u001b[0m│\u001b[35m \u001b[0m\u001b[35m        \u001b[0m\u001b[35m \u001b[0m│\u001b[32m \u001b[0m\u001b[32m    False\u001b[0m\u001b[32m \u001b[0m│\u001b[36m \u001b[0m\u001b[36m     857\u001b[0m\u001b[36m \u001b[0m│\u001b[35m \u001b[0m\u001b[35m857      \u001b[0m\u001b[35m \u001b[0m│\u001b[32m \u001b[0m\u001b[32m    True\u001b[0m\u001b[32m \u001b[0m│\u001b[36m \u001b[0m\u001b[36m      857\u001b[0m\u001b[36m \u001b[0m│\u001b[35m \u001b[0m\u001b[35m        \u001b[0m\u001b[35m \u001b[0m│\u001b[32m \u001b[0m\u001b[32m    False\u001b[0m\u001b[32m \u001b[0m│\n",
       "│\u001b[36m \u001b[0m\u001b[36m2642458\u001b[0m\u001b[36m \u001b[0m│\u001b[36m \u001b[0m\u001b[36m 02292024\u001b[0m\u001b[36m \u001b[0m│\u001b[35m \u001b[0m\u001b[35m        \u001b[0m\u001b[35m \u001b[0m│\u001b[32m \u001b[0m\u001b[32m    False\u001b[0m\u001b[32m \u001b[0m│\u001b[36m \u001b[0m\u001b[36m     857\u001b[0m\u001b[36m \u001b[0m│\u001b[35m \u001b[0m\u001b[35m857      \u001b[0m\u001b[35m \u001b[0m│\u001b[32m \u001b[0m\u001b[32m    True\u001b[0m\u001b[32m \u001b[0m│\u001b[36m \u001b[0m\u001b[36m      857\u001b[0m\u001b[36m \u001b[0m│\u001b[35m \u001b[0m\u001b[35m        \u001b[0m\u001b[35m \u001b[0m│\u001b[32m \u001b[0m\u001b[32m    False\u001b[0m\u001b[32m \u001b[0m│\n",
       "│\u001b[36m \u001b[0m\u001b[36m2642461\u001b[0m\u001b[36m \u001b[0m│\u001b[36m \u001b[0m\u001b[36m 02292024\u001b[0m\u001b[36m \u001b[0m│\u001b[35m \u001b[0m\u001b[35m        \u001b[0m\u001b[35m \u001b[0m│\u001b[32m \u001b[0m\u001b[32m    False\u001b[0m\u001b[32m \u001b[0m│\u001b[36m \u001b[0m\u001b[36m     857\u001b[0m\u001b[36m \u001b[0m│\u001b[35m \u001b[0m\u001b[35m857      \u001b[0m\u001b[35m \u001b[0m│\u001b[32m \u001b[0m\u001b[32m    True\u001b[0m\u001b[32m \u001b[0m│\u001b[36m \u001b[0m\u001b[36m      857\u001b[0m\u001b[36m \u001b[0m│\u001b[35m \u001b[0m\u001b[35m        \u001b[0m\u001b[35m \u001b[0m│\u001b[32m \u001b[0m\u001b[32m    False\u001b[0m\u001b[32m \u001b[0m│\n",
       "│\u001b[36m \u001b[0m\u001b[36m2642462\u001b[0m\u001b[36m \u001b[0m│\u001b[36m \u001b[0m\u001b[36m 02292024\u001b[0m\u001b[36m \u001b[0m│\u001b[35m \u001b[0m\u001b[35m        \u001b[0m\u001b[35m \u001b[0m│\u001b[32m \u001b[0m\u001b[32m    False\u001b[0m\u001b[32m \u001b[0m│\u001b[36m \u001b[0m\u001b[36m     857\u001b[0m\u001b[36m \u001b[0m│\u001b[35m \u001b[0m\u001b[35m857      \u001b[0m\u001b[35m \u001b[0m│\u001b[32m \u001b[0m\u001b[32m    True\u001b[0m\u001b[32m \u001b[0m│\u001b[36m \u001b[0m\u001b[36m      857\u001b[0m\u001b[36m \u001b[0m│\u001b[35m \u001b[0m\u001b[35m        \u001b[0m\u001b[35m \u001b[0m│\u001b[32m \u001b[0m\u001b[32m    False\u001b[0m\u001b[32m \u001b[0m│\n",
       "│\u001b[36m \u001b[0m\u001b[36m2642484\u001b[0m\u001b[36m \u001b[0m│\u001b[36m \u001b[0m\u001b[36m      176\u001b[0m\u001b[36m \u001b[0m│\u001b[35m \u001b[0m\u001b[35m03122024\u001b[0m\u001b[35m \u001b[0m│\u001b[32m \u001b[0m\u001b[32m    False\u001b[0m\u001b[32m \u001b[0m│\u001b[36m \u001b[0m\u001b[36m        \u001b[0m\u001b[36m \u001b[0m│\u001b[35m \u001b[0m\u001b[35m176      \u001b[0m\u001b[35m \u001b[0m│\u001b[32m \u001b[0m\u001b[32m   False\u001b[0m\u001b[32m \u001b[0m│\u001b[36m \u001b[0m\u001b[36m         \u001b[0m\u001b[36m \u001b[0m│\u001b[35m \u001b[0m\u001b[35m725     \u001b[0m\u001b[35m \u001b[0m│\u001b[32m \u001b[0m\u001b[32m    False\u001b[0m\u001b[32m \u001b[0m│\n",
       "│\u001b[36m \u001b[0m\u001b[36m2642486\u001b[0m\u001b[36m \u001b[0m│\u001b[36m \u001b[0m\u001b[36m       19\u001b[0m\u001b[36m \u001b[0m│\u001b[35m \u001b[0m\u001b[35m03132024\u001b[0m\u001b[35m \u001b[0m│\u001b[32m \u001b[0m\u001b[32m    False\u001b[0m\u001b[32m \u001b[0m│\u001b[36m \u001b[0m\u001b[36m        \u001b[0m\u001b[36m \u001b[0m│\u001b[35m \u001b[0m\u001b[35m19       \u001b[0m\u001b[35m \u001b[0m│\u001b[32m \u001b[0m\u001b[32m   False\u001b[0m\u001b[32m \u001b[0m│\u001b[36m \u001b[0m\u001b[36m         \u001b[0m\u001b[36m \u001b[0m│\u001b[35m \u001b[0m\u001b[35m39      \u001b[0m\u001b[35m \u001b[0m│\u001b[32m \u001b[0m\u001b[32m    False\u001b[0m\u001b[32m \u001b[0m│\n",
       "│\u001b[36m \u001b[0m\u001b[36m2642487\u001b[0m\u001b[36m \u001b[0m│\u001b[36m \u001b[0m\u001b[36m       19\u001b[0m\u001b[36m \u001b[0m│\u001b[35m \u001b[0m\u001b[35m03132024\u001b[0m\u001b[35m \u001b[0m│\u001b[32m \u001b[0m\u001b[32m    False\u001b[0m\u001b[32m \u001b[0m│\u001b[36m \u001b[0m\u001b[36m        \u001b[0m\u001b[36m \u001b[0m│\u001b[35m \u001b[0m\u001b[35m19       \u001b[0m\u001b[35m \u001b[0m│\u001b[32m \u001b[0m\u001b[32m   False\u001b[0m\u001b[32m \u001b[0m│\u001b[36m \u001b[0m\u001b[36m         \u001b[0m\u001b[36m \u001b[0m│\u001b[35m \u001b[0m\u001b[35m46      \u001b[0m\u001b[35m \u001b[0m│\u001b[32m \u001b[0m\u001b[32m    False\u001b[0m\u001b[32m \u001b[0m│\n",
       "│\u001b[36m \u001b[0m\u001b[36m2642489\u001b[0m\u001b[36m \u001b[0m│\u001b[36m \u001b[0m\u001b[36m 03132024\u001b[0m\u001b[36m \u001b[0m│\u001b[35m \u001b[0m\u001b[35m        \u001b[0m\u001b[35m \u001b[0m│\u001b[32m \u001b[0m\u001b[32m    False\u001b[0m\u001b[32m \u001b[0m│\u001b[36m \u001b[0m\u001b[36m     260\u001b[0m\u001b[36m \u001b[0m│\u001b[35m \u001b[0m\u001b[35m260      \u001b[0m\u001b[35m \u001b[0m│\u001b[32m \u001b[0m\u001b[32m    True\u001b[0m\u001b[32m \u001b[0m│\u001b[36m \u001b[0m\u001b[36m      260\u001b[0m\u001b[36m \u001b[0m│\u001b[35m \u001b[0m\u001b[35m75      \u001b[0m\u001b[35m \u001b[0m│\u001b[32m \u001b[0m\u001b[32m    False\u001b[0m\u001b[32m \u001b[0m│\n",
       "│\u001b[36m \u001b[0m\u001b[36m2642493\u001b[0m\u001b[36m \u001b[0m│\u001b[36m \u001b[0m\u001b[36m      176\u001b[0m\u001b[36m \u001b[0m│\u001b[35m \u001b[0m\u001b[35m03052024\u001b[0m\u001b[35m \u001b[0m│\u001b[32m \u001b[0m\u001b[32m    False\u001b[0m\u001b[32m \u001b[0m│\u001b[36m \u001b[0m\u001b[36m        \u001b[0m\u001b[36m \u001b[0m│\u001b[35m \u001b[0m\u001b[35m176      \u001b[0m\u001b[35m \u001b[0m│\u001b[32m \u001b[0m\u001b[32m   False\u001b[0m\u001b[32m \u001b[0m│\u001b[36m \u001b[0m\u001b[36m         \u001b[0m\u001b[36m \u001b[0m│\u001b[35m \u001b[0m\u001b[35m653     \u001b[0m\u001b[35m \u001b[0m│\u001b[32m \u001b[0m\u001b[32m    False\u001b[0m\u001b[32m \u001b[0m│\n",
       "│\u001b[36m \u001b[0m\u001b[36m2642973\u001b[0m\u001b[36m \u001b[0m│\u001b[36m \u001b[0m\u001b[36m      100\u001b[0m\u001b[36m \u001b[0m│\u001b[35m \u001b[0m\u001b[35m        \u001b[0m\u001b[35m \u001b[0m│\u001b[32m \u001b[0m\u001b[32m    False\u001b[0m\u001b[32m \u001b[0m│\u001b[36m \u001b[0m\u001b[36m        \u001b[0m\u001b[36m \u001b[0m│\u001b[35m \u001b[0m\u001b[35m100      \u001b[0m\u001b[35m \u001b[0m│\u001b[32m \u001b[0m\u001b[32m   False\u001b[0m\u001b[32m \u001b[0m│\u001b[36m \u001b[0m\u001b[36m         \u001b[0m\u001b[36m \u001b[0m│\u001b[35m \u001b[0m\u001b[35m289     \u001b[0m\u001b[35m \u001b[0m│\u001b[32m \u001b[0m\u001b[32m    False\u001b[0m\u001b[32m \u001b[0m│\n",
       "│\u001b[36m \u001b[0m\u001b[36m2642980\u001b[0m\u001b[36m \u001b[0m│\u001b[36m \u001b[0m\u001b[36m 02292024\u001b[0m\u001b[36m \u001b[0m│\u001b[35m \u001b[0m\u001b[35m        \u001b[0m\u001b[35m \u001b[0m│\u001b[32m \u001b[0m\u001b[32m    False\u001b[0m\u001b[32m \u001b[0m│\u001b[36m \u001b[0m\u001b[36m     100\u001b[0m\u001b[36m \u001b[0m│\u001b[35m \u001b[0m\u001b[35m100      \u001b[0m\u001b[35m \u001b[0m│\u001b[32m \u001b[0m\u001b[32m    True\u001b[0m\u001b[32m \u001b[0m│\u001b[36m \u001b[0m\u001b[36m      100\u001b[0m\u001b[36m \u001b[0m│\u001b[35m \u001b[0m\u001b[35m290     \u001b[0m\u001b[35m \u001b[0m│\u001b[32m \u001b[0m\u001b[32m    False\u001b[0m\u001b[32m \u001b[0m│\n",
       "└─────────┴───────────┴──────────┴───────────┴──────────┴───────────┴──────────┴───────────┴──────────┴───────────┘\n"
      ]
     },
     "metadata": {},
     "output_type": "display_data"
    }
   ],
   "source": [
    "table = Table(title=\"KY set2\")\n",
    "\n",
    "table.add_column(\"Batchid\", justify=\"right\", style=\"cyan\", no_wrap=False)\n",
    "table.add_column(\"6-keyed_values\", justify=\"right\", style=\"cyan\", no_wrap=False)\n",
    "table.add_column(\"6-spacy_values\", style=\"magenta\", no_wrap=False)\n",
    "table.add_column(\"6-match_status\", justify=\"right\", style=\"green\", no_wrap=False)\n",
    "table.add_column(\"92-keyed_values\", justify=\"right\", style=\"cyan\", no_wrap=False)\n",
    "table.add_column(\"92-spacy_values\", style=\"magenta\", no_wrap=False)\n",
    "table.add_column(\"92-match_status\", justify=\"right\", style=\"green\", no_wrap=False)\n",
    "table.add_column(\"93-keyed_values\", justify=\"right\", style=\"cyan\", no_wrap=False)\n",
    "table.add_column(\"93-spacy_values\", style=\"magenta\", no_wrap=False)\n",
    "table.add_column(\"93-match_status\", justify=\"right\", style=\"green\", no_wrap=False)\n",
    "\n",
    "from collections import defaultdict\n",
    "\n",
    "import json\n",
    "import zipfile\n",
    "from pathlib import Path\n",
    "key_dict = defaultdict(list)\n",
    "for p in track(list(Path(\"ok_retest\").iterdir())):\n",
    "    with zipfile.ZipFile(p, mode=\"r\") as archive:\n",
    "        spacyF = archive.open(\"spacy.json\",'r')\n",
    "        outputF = archive.open(\"output_data.json\",'r')\n",
    "        spacy = json.load(spacyF)\n",
    "        output = json.load(outputF)\n",
    "        output = {item[\"id\"]: item[\"value\"] for item in output[\"data\"]}\n",
    "        name = str(p.name).replace(r'.zip','')\n",
    "        out92 = output.get('92','')\n",
    "        spacy92 = spacy.get('92','')\n",
    "        match92 = out92.strip() == spacy92.strip()\n",
    "        out93 = output.get('92','')\n",
    "        spacy93 = spacy.get('93','')\n",
    "        match93 = out93.strip() == spacy93.strip()\n",
    "        out6 = output.get('6','')\n",
    "        spacy6 = spacy.get('6','')\n",
    "        match6 = out6.strip() == spacy6.strip()\n",
    "\n",
    "        table.add_row(f\"{name}\",f\"{out6}\",f\"{spacy6}\",f\"{match6}\",f\"{out92}\",f\"{spacy92}\",f\"{match92}\",f\"{out93}\",f\"{spacy93}\",f\"{match93}\")\n",
    "        key_dict['batchid'].append(name)\n",
    "        key_dict['6-keyed_values'].append(out6)\n",
    "        key_dict['6-spacy_values'].append(spacy6)\n",
    "        key_dict['6-match_status'].append(match6)\n",
    "        key_dict['92-keyed_values'].append(out92)\n",
    "        key_dict['92-spacy_values'].append(spacy92)\n",
    "        key_dict['92-match_status'].append(match92)\n",
    "        key_dict['93-keyed_values'].append(out93)\n",
    "        key_dict['93-spacy_values'].append(spacy93)\n",
    "        key_dict['93-match_status'].append(match93)\n",
    "\n",
    "        # print(\n",
    "        #     f\"batch id = {str(p.name).replace(r'.zip','')} | Field 92 = {spacy.get('92')} | Field 93 = {spacy.get('93')}\"\n",
    "        # )\n",
    "        spacyF.close()\n",
    "        outputF.close()\n",
    "        # print(p.name,data.get(\"5\"),data.get(\"6\"),data.get(\"92\"),data.get(\"93\"))\n",
    "\n",
    "console = Console()\n",
    "console.print(table)"
   ]
  },
  {
   "cell_type": "code",
   "execution_count": 1,
   "id": "3ccb7997-09d7-4779-b411-08975258f62d",
   "metadata": {},
   "outputs": [],
   "source": [
    "def clean(text):\n",
    "    # word_net = WordNetLemmatizer()\n",
    "    tokens = word_tokenize(text)\n",
    "    lower = [word.lower() for word in tokens if len(word)>2 and (word.lower() not in stop)]# and word.isalpha() and word[0].isupper()]\n",
    "    # stop_words_no = [word for word in lower if word not in stop]\n",
    "    # non_alpha = [word for word in stop_words_no if word.isalpha()]\n",
    "    lemma_text = [word_net.lemmatize(word) for word in lower]\n",
    "    return \" \".join(lemma_text)\n",
    "    # return \" \".join(lower)"
   ]
  },
  {
   "cell_type": "code",
   "execution_count": 8,
   "id": "696b123e-b361-496a-86d9-fbc18832fce5",
   "metadata": {},
   "outputs": [],
   "source": [
    "def vectorize(data,tfidf_vect_fit):\n",
    "    x_tfidf=tfidf_vect_fit.transform(data)\n",
    "    x_tfidf_df=pd.DataFrame(x_tfidf.todense(),columns=tfidf_vect_fit.get_feature_names_out())\n",
    "    return x_tfidf_df"
   ]
  },
  {
   "cell_type": "markdown",
   "id": "e6c1e309-102a-4642-bcd7-a85ed01b3089",
   "metadata": {},
   "source": [
    "# ======================================"
   ]
  },
  {
   "cell_type": "code",
   "execution_count": 1,
   "id": "2d8ac9de-8d3b-41b7-a359-2e01147557bb",
   "metadata": {},
   "outputs": [],
   "source": [
    "import pandas as pd\n",
    "df = pd.read_excel(r\"C:\\Users\\surakumar\\OneDrive - CoreLogic Solutions, LLC\\Downloads\\pa_document.xlsx\")"
   ]
  },
  {
   "cell_type": "code",
   "execution_count": 2,
   "id": "21cd96a1-3a35-47e6-801b-2a3e025ef4e5",
   "metadata": {},
   "outputs": [
    {
     "data": {
      "text/html": [
       "<div>\n",
       "<style scoped>\n",
       "    .dataframe tbody tr th:only-of-type {\n",
       "        vertical-align: middle;\n",
       "    }\n",
       "\n",
       "    .dataframe tbody tr th {\n",
       "        vertical-align: top;\n",
       "    }\n",
       "\n",
       "    .dataframe thead th {\n",
       "        text-align: right;\n",
       "    }\n",
       "</style>\n",
       "<table border=\"1\" class=\"dataframe\">\n",
       "  <thead>\n",
       "    <tr style=\"text-align: right;\">\n",
       "      <th></th>\n",
       "      <th>docid</th>\n",
       "      <th>imagename</th>\n",
       "      <th>ocr</th>\n",
       "      <th>doctype</th>\n",
       "      <th>queue</th>\n",
       "      <th>st_time</th>\n",
       "      <th>et_time</th>\n",
       "      <th>class</th>\n",
       "      <th>pages</th>\n",
       "      <th>status</th>\n",
       "      <th>...</th>\n",
       "      <th>noofpages</th>\n",
       "      <th>filesize</th>\n",
       "      <th>isspmg</th>\n",
       "      <th>knk_pred</th>\n",
       "      <th>knk_score</th>\n",
       "      <th>hash_code</th>\n",
       "      <th>rec_hashcode</th>\n",
       "      <th>unsupport_file</th>\n",
       "      <th>knk_flag</th>\n",
       "      <th>isdupfile</th>\n",
       "    </tr>\n",
       "  </thead>\n",
       "  <tbody>\n",
       "    <tr>\n",
       "      <th>0</th>\n",
       "      <td>3067872</td>\n",
       "      <td>ar Testing PA Warren 2024-07-08-8560888 [000] ...</td>\n",
       "      <td>_OCR.txt</td>\n",
       "      <td>Deed</td>\n",
       "      <td>manifest</td>\n",
       "      <td>2024-08-09 03:53:27</td>\n",
       "      <td>NaN</td>\n",
       "      <td>B1</td>\n",
       "      <td>4</td>\n",
       "      <td>Suspended</td>\n",
       "      <td>...</td>\n",
       "      <td>4</td>\n",
       "      <td>110117</td>\n",
       "      <td>N</td>\n",
       "      <td>K</td>\n",
       "      <td>0.95</td>\n",
       "      <td>e94ce60d31b57a027ea02efbfb1ee45a</td>\n",
       "      <td>NaN</td>\n",
       "      <td>Y</td>\n",
       "      <td>True</td>\n",
       "      <td>N</td>\n",
       "    </tr>\n",
       "    <tr>\n",
       "      <th>1</th>\n",
       "      <td>3067944</td>\n",
       "      <td>ar Testing PA Warren 2024-07-08-8560888 [000] ...</td>\n",
       "      <td>_OCR.txt</td>\n",
       "      <td>Deed</td>\n",
       "      <td>manifest</td>\n",
       "      <td>2024-08-09 03:53:27</td>\n",
       "      <td>NaN</td>\n",
       "      <td>B1</td>\n",
       "      <td>4</td>\n",
       "      <td>Suspended</td>\n",
       "      <td>...</td>\n",
       "      <td>4</td>\n",
       "      <td>127920</td>\n",
       "      <td>N</td>\n",
       "      <td>K</td>\n",
       "      <td>0.88</td>\n",
       "      <td>ddb85c737bea98b58ba4e19186f7f1a4</td>\n",
       "      <td>NaN</td>\n",
       "      <td>Y</td>\n",
       "      <td>True</td>\n",
       "      <td>N</td>\n",
       "    </tr>\n",
       "    <tr>\n",
       "      <th>2</th>\n",
       "      <td>3066246</td>\n",
       "      <td>ar Testing PA Jefferson 2024-08-09-8614371 [00...</td>\n",
       "      <td>_OCR.txt</td>\n",
       "      <td>Mortgage</td>\n",
       "      <td>manifest</td>\n",
       "      <td>2024-08-09 03:46:50</td>\n",
       "      <td>NaN</td>\n",
       "      <td>B1</td>\n",
       "      <td>9</td>\n",
       "      <td>Suspended</td>\n",
       "      <td>...</td>\n",
       "      <td>9</td>\n",
       "      <td>668893</td>\n",
       "      <td>N</td>\n",
       "      <td>K</td>\n",
       "      <td>0.71</td>\n",
       "      <td>f75193e5df09afac5eade784bc3223a1</td>\n",
       "      <td>NaN</td>\n",
       "      <td>Y</td>\n",
       "      <td>True</td>\n",
       "      <td>N</td>\n",
       "    </tr>\n",
       "    <tr>\n",
       "      <th>3</th>\n",
       "      <td>3068277</td>\n",
       "      <td>AR TESTING PA Bedford 2024-07-08-8559370 [000]...</td>\n",
       "      <td>_OCR.txt</td>\n",
       "      <td>DocImageIndex</td>\n",
       "      <td>manifest</td>\n",
       "      <td>2024-08-09 08:56:00</td>\n",
       "      <td>NaN</td>\n",
       "      <td>B1</td>\n",
       "      <td>8</td>\n",
       "      <td>Suspended</td>\n",
       "      <td>...</td>\n",
       "      <td>8</td>\n",
       "      <td>363146</td>\n",
       "      <td>N</td>\n",
       "      <td>NK</td>\n",
       "      <td>0.52</td>\n",
       "      <td>7cf7a8b130a32a11fb53cb50f8efeb63</td>\n",
       "      <td>NaN</td>\n",
       "      <td>Y</td>\n",
       "      <td>False</td>\n",
       "      <td>N</td>\n",
       "    </tr>\n",
       "    <tr>\n",
       "      <th>4</th>\n",
       "      <td>3068286</td>\n",
       "      <td>AR TESTING PA Bedford 2024-07-08-8559370 [000]...</td>\n",
       "      <td>_OCR.txt</td>\n",
       "      <td>DocImageIndex</td>\n",
       "      <td>manifest</td>\n",
       "      <td>2024-08-09 08:56:00</td>\n",
       "      <td>NaN</td>\n",
       "      <td>B1</td>\n",
       "      <td>35</td>\n",
       "      <td>Suspended</td>\n",
       "      <td>...</td>\n",
       "      <td>35</td>\n",
       "      <td>1392893</td>\n",
       "      <td>N</td>\n",
       "      <td>NK</td>\n",
       "      <td>0.75</td>\n",
       "      <td>fd40a59d6553c107a53c13d35f5489fd</td>\n",
       "      <td>NaN</td>\n",
       "      <td>Y</td>\n",
       "      <td>False</td>\n",
       "      <td>N</td>\n",
       "    </tr>\n",
       "  </tbody>\n",
       "</table>\n",
       "<p>5 rows × 38 columns</p>\n",
       "</div>"
      ],
      "text/plain": [
       "     docid                                          imagename       ocr  \\\n",
       "0  3067872  ar Testing PA Warren 2024-07-08-8560888 [000] ...  _OCR.txt   \n",
       "1  3067944  ar Testing PA Warren 2024-07-08-8560888 [000] ...  _OCR.txt   \n",
       "2  3066246  ar Testing PA Jefferson 2024-08-09-8614371 [00...  _OCR.txt   \n",
       "3  3068277  AR TESTING PA Bedford 2024-07-08-8559370 [000]...  _OCR.txt   \n",
       "4  3068286  AR TESTING PA Bedford 2024-07-08-8559370 [000]...  _OCR.txt   \n",
       "\n",
       "         doctype     queue             st_time  et_time class  pages  \\\n",
       "0           Deed  manifest 2024-08-09 03:53:27      NaN    B1      4   \n",
       "1           Deed  manifest 2024-08-09 03:53:27      NaN    B1      4   \n",
       "2       Mortgage  manifest 2024-08-09 03:46:50      NaN    B1      9   \n",
       "3  DocImageIndex  manifest 2024-08-09 08:56:00      NaN    B1      8   \n",
       "4  DocImageIndex  manifest 2024-08-09 08:56:00      NaN    B1     35   \n",
       "\n",
       "      status  ... noofpages filesize isspmg  knk_pred knk_score  \\\n",
       "0  Suspended  ...         4   110117      N         K      0.95   \n",
       "1  Suspended  ...         4   127920      N         K      0.88   \n",
       "2  Suspended  ...         9   668893      N         K      0.71   \n",
       "3  Suspended  ...         8   363146      N        NK      0.52   \n",
       "4  Suspended  ...        35  1392893      N        NK      0.75   \n",
       "\n",
       "                          hash_code rec_hashcode unsupport_file  knk_flag  \\\n",
       "0  e94ce60d31b57a027ea02efbfb1ee45a          NaN              Y      True   \n",
       "1  ddb85c737bea98b58ba4e19186f7f1a4          NaN              Y      True   \n",
       "2  f75193e5df09afac5eade784bc3223a1          NaN              Y      True   \n",
       "3  7cf7a8b130a32a11fb53cb50f8efeb63          NaN              Y     False   \n",
       "4  fd40a59d6553c107a53c13d35f5489fd          NaN              Y     False   \n",
       "\n",
       "  isdupfile  \n",
       "0         N  \n",
       "1         N  \n",
       "2         N  \n",
       "3         N  \n",
       "4         N  \n",
       "\n",
       "[5 rows x 38 columns]"
      ]
     },
     "execution_count": 2,
     "metadata": {},
     "output_type": "execute_result"
    }
   ],
   "source": [
    "df.head()"
   ]
  },
  {
   "cell_type": "markdown",
   "id": "154e4dcb-f5e8-46b7-b9ad-2eab0c733ed7",
   "metadata": {},
   "source": [
    "df[df.docid == 2848221]['imagename'].values[0]"
   ]
  },
  {
   "cell_type": "code",
   "execution_count": 8,
   "id": "ef2a60ab-ebde-40e8-9fae-a57924103c19",
   "metadata": {},
   "outputs": [],
   "source": [
    "dev = pd.read_excel(r\"C:\\Users\\surakumar\\OneDrive - CoreLogic Solutions, LLC\\Downloads\\pa_dev_classify.xlsx\")"
   ]
  },
  {
   "cell_type": "code",
   "execution_count": 9,
   "id": "09f972ab-e77d-4546-834f-0703274a302b",
   "metadata": {},
   "outputs": [
    {
     "data": {
      "text/html": [
       "<div>\n",
       "<style scoped>\n",
       "    .dataframe tbody tr th:only-of-type {\n",
       "        vertical-align: middle;\n",
       "    }\n",
       "\n",
       "    .dataframe tbody tr th {\n",
       "        vertical-align: top;\n",
       "    }\n",
       "\n",
       "    .dataframe thead th {\n",
       "        text-align: right;\n",
       "    }\n",
       "</style>\n",
       "<table border=\"1\" class=\"dataframe\">\n",
       "  <thead>\n",
       "    <tr style=\"text-align: right;\">\n",
       "      <th></th>\n",
       "      <th>docid</th>\n",
       "      <th>imagename</th>\n",
       "      <th>ocr</th>\n",
       "      <th>doctype</th>\n",
       "      <th>queue</th>\n",
       "      <th>st_time</th>\n",
       "      <th>et_time</th>\n",
       "      <th>class</th>\n",
       "      <th>pages</th>\n",
       "      <th>status</th>\n",
       "      <th>...</th>\n",
       "      <th>noofpages</th>\n",
       "      <th>filesize</th>\n",
       "      <th>isspmg</th>\n",
       "      <th>knk_pred</th>\n",
       "      <th>knk_score</th>\n",
       "      <th>hash_code</th>\n",
       "      <th>rec_hashcode</th>\n",
       "      <th>unsupport_file</th>\n",
       "      <th>knk_flag</th>\n",
       "      <th>isdupfile</th>\n",
       "    </tr>\n",
       "  </thead>\n",
       "  <tbody>\n",
       "    <tr>\n",
       "      <th>0</th>\n",
       "      <td>3069663</td>\n",
       "      <td>PA BEDFORD 2024-08-12-9937391 2831_42009f4f14...</td>\n",
       "      <td>_OCR.txt</td>\n",
       "      <td>DocImageIndex</td>\n",
       "      <td>manifest</td>\n",
       "      <td>2024-08-12 06:01:30</td>\n",
       "      <td>NaN</td>\n",
       "      <td>B1</td>\n",
       "      <td>8</td>\n",
       "      <td>Ready</td>\n",
       "      <td>...</td>\n",
       "      <td>8</td>\n",
       "      <td>404264</td>\n",
       "      <td>N</td>\n",
       "      <td>NK</td>\n",
       "      <td>0.63</td>\n",
       "      <td>e2d0520603a155f669acfac41926dc23</td>\n",
       "      <td>NaN</td>\n",
       "      <td>Y</td>\n",
       "      <td>False</td>\n",
       "      <td>N</td>\n",
       "    </tr>\n",
       "    <tr>\n",
       "      <th>1</th>\n",
       "      <td>3069898</td>\n",
       "      <td>PA LACKAWANNA 2024-08-12-9937339 9453_42069b1...</td>\n",
       "      <td>_OCR.txt</td>\n",
       "      <td>Mortgage</td>\n",
       "      <td>validation1</td>\n",
       "      <td>2024-08-12 06:25:02</td>\n",
       "      <td>NaN</td>\n",
       "      <td>B1</td>\n",
       "      <td>13</td>\n",
       "      <td>Ready</td>\n",
       "      <td>...</td>\n",
       "      <td>13</td>\n",
       "      <td>1006651</td>\n",
       "      <td>N</td>\n",
       "      <td>K</td>\n",
       "      <td>0.96</td>\n",
       "      <td>cf9816f394ed17d332eebcdc90d5089b</td>\n",
       "      <td>NaN</td>\n",
       "      <td>Y</td>\n",
       "      <td>False</td>\n",
       "      <td>N</td>\n",
       "    </tr>\n",
       "    <tr>\n",
       "      <th>2</th>\n",
       "      <td>3069945</td>\n",
       "      <td>PA PERRY 2024-08-12-9937186 5285_42099f440fa0...</td>\n",
       "      <td>_OCR.txt</td>\n",
       "      <td>Special Warranty Deed</td>\n",
       "      <td>manifest</td>\n",
       "      <td>2024-08-12 06:29:52</td>\n",
       "      <td>NaN</td>\n",
       "      <td>B1</td>\n",
       "      <td>5</td>\n",
       "      <td>Ready</td>\n",
       "      <td>...</td>\n",
       "      <td>5</td>\n",
       "      <td>183948</td>\n",
       "      <td>N</td>\n",
       "      <td>K</td>\n",
       "      <td>0.97</td>\n",
       "      <td>7a1f4855336fa9024c0f347b37c5fc87</td>\n",
       "      <td>NaN</td>\n",
       "      <td>Y</td>\n",
       "      <td>False</td>\n",
       "      <td>N</td>\n",
       "    </tr>\n",
       "    <tr>\n",
       "      <th>3</th>\n",
       "      <td>3069883</td>\n",
       "      <td>PA JEFFERSON 2024-08-12-9937426 2141_42065502...</td>\n",
       "      <td>_OCR.txt</td>\n",
       "      <td>Discharge of Mortgage</td>\n",
       "      <td>manifest</td>\n",
       "      <td>2024-08-12 06:23:29</td>\n",
       "      <td>NaN</td>\n",
       "      <td>B1</td>\n",
       "      <td>2</td>\n",
       "      <td>Ready</td>\n",
       "      <td>...</td>\n",
       "      <td>2</td>\n",
       "      <td>69045</td>\n",
       "      <td>N</td>\n",
       "      <td>K</td>\n",
       "      <td>0.70</td>\n",
       "      <td>ffe434832ae74ac7a7731ce44df0dd6a</td>\n",
       "      <td>NaN</td>\n",
       "      <td>Y</td>\n",
       "      <td>False</td>\n",
       "      <td>N</td>\n",
       "    </tr>\n",
       "    <tr>\n",
       "      <th>4</th>\n",
       "      <td>3070065</td>\n",
       "      <td>PA VENANGO 2024-08-12-9937480 2525_421214e04e...</td>\n",
       "      <td>_OCR.txt</td>\n",
       "      <td>DocImageIndex</td>\n",
       "      <td>manifest</td>\n",
       "      <td>2024-08-12 06:41:52</td>\n",
       "      <td>NaN</td>\n",
       "      <td>B1</td>\n",
       "      <td>10</td>\n",
       "      <td>Ready</td>\n",
       "      <td>...</td>\n",
       "      <td>10</td>\n",
       "      <td>576561</td>\n",
       "      <td>N</td>\n",
       "      <td>NK</td>\n",
       "      <td>0.88</td>\n",
       "      <td>50c0472752cb64441ec44b9381d72116</td>\n",
       "      <td>NaN</td>\n",
       "      <td>Y</td>\n",
       "      <td>False</td>\n",
       "      <td>N</td>\n",
       "    </tr>\n",
       "  </tbody>\n",
       "</table>\n",
       "<p>5 rows × 38 columns</p>\n",
       "</div>"
      ],
      "text/plain": [
       "     docid                                          imagename       ocr  \\\n",
       "0  3069663   PA BEDFORD 2024-08-12-9937391 2831_42009f4f14...  _OCR.txt   \n",
       "1  3069898   PA LACKAWANNA 2024-08-12-9937339 9453_42069b1...  _OCR.txt   \n",
       "2  3069945   PA PERRY 2024-08-12-9937186 5285_42099f440fa0...  _OCR.txt   \n",
       "3  3069883   PA JEFFERSON 2024-08-12-9937426 2141_42065502...  _OCR.txt   \n",
       "4  3070065   PA VENANGO 2024-08-12-9937480 2525_421214e04e...  _OCR.txt   \n",
       "\n",
       "                 doctype        queue             st_time  et_time class  \\\n",
       "0          DocImageIndex     manifest 2024-08-12 06:01:30      NaN    B1   \n",
       "1               Mortgage  validation1 2024-08-12 06:25:02      NaN    B1   \n",
       "2  Special Warranty Deed     manifest 2024-08-12 06:29:52      NaN    B1   \n",
       "3  Discharge of Mortgage     manifest 2024-08-12 06:23:29      NaN    B1   \n",
       "4          DocImageIndex     manifest 2024-08-12 06:41:52      NaN    B1   \n",
       "\n",
       "   pages status  ... noofpages filesize isspmg  knk_pred  knk_score  \\\n",
       "0      8  Ready  ...         8   404264      N        NK       0.63   \n",
       "1     13  Ready  ...        13  1006651      N         K       0.96   \n",
       "2      5  Ready  ...         5   183948      N         K       0.97   \n",
       "3      2  Ready  ...         2    69045      N         K       0.70   \n",
       "4     10  Ready  ...        10   576561      N        NK       0.88   \n",
       "\n",
       "                          hash_code rec_hashcode unsupport_file  knk_flag  \\\n",
       "0  e2d0520603a155f669acfac41926dc23          NaN              Y     False   \n",
       "1  cf9816f394ed17d332eebcdc90d5089b          NaN              Y     False   \n",
       "2  7a1f4855336fa9024c0f347b37c5fc87          NaN              Y     False   \n",
       "3  ffe434832ae74ac7a7731ce44df0dd6a          NaN              Y     False   \n",
       "4  50c0472752cb64441ec44b9381d72116          NaN              Y     False   \n",
       "\n",
       "  isdupfile  \n",
       "0         N  \n",
       "1         N  \n",
       "2         N  \n",
       "3         N  \n",
       "4         N  \n",
       "\n",
       "[5 rows x 38 columns]"
      ]
     },
     "execution_count": 9,
     "metadata": {},
     "output_type": "execute_result"
    }
   ],
   "source": [
    "dev.head()"
   ]
  },
  {
   "cell_type": "markdown",
   "id": "5a76cec9-066f-4bbf-a225-31b4949b7e5f",
   "metadata": {},
   "source": [
    "import shutil\n",
    "for p in Path(r\"./pastate_all/\").iterdir():\n",
    "    if '9937' in p.name and p.is_dir():\n",
    "        # break\n",
    "        file_name = list(p.iterdir())[0]\n",
    "        print(file_name)\n",
    "        shutil.make_archive(str(file_name.parent),'zip',file_name.parent)\n",
    "        # break"
   ]
  },
  {
   "cell_type": "markdown",
   "id": "b993d828-96c0-4ac8-8f95-032c854f9a19",
   "metadata": {},
   "source": [
    "import shutil\n",
    "for p in Path(r\"./mostate_all_multi/\").iterdir():\n",
    "    if '1337' in p.name and p.is_dir():\n",
    "        # break\n",
    "        file_name = list(p.iterdir())[0]\n",
    "        print(file_name)\n",
    "        shutil.make_archive(str(file_name.parent).replace(\"mostate_all_multi\",\"mostate_all_multi_zip\"),'zip',file_name.parent)\n",
    "        # break"
   ]
  },
  {
   "cell_type": "markdown",
   "id": "44889168-68ca-4f0f-9adb-1b28cacf0991",
   "metadata": {},
   "source": [
    "dev.info()"
   ]
  },
  {
   "cell_type": "code",
   "execution_count": 13,
   "id": "d4169427-49a9-4188-9309-7bcaca611f8b",
   "metadata": {},
   "outputs": [],
   "source": [
    "from collections import defaultdict\n",
    "name_index=defaultdict(list,\n",
    "            {'2582386': ['docIMG_202441008210_120817ecb77085510250Z.tif'],\n",
    "             '3066131': ['docIMG_2024003330_4200994c09c031734994Z.tif'],\n",
    "             '3066132': ['docIMG_2024003331_42009394534031735107Z.tif'],\n",
    "             '3066133': ['docIMG_2024003332_42009a96868031735128Z.tif'],\n",
    "             '3066134': ['docIMG_2024003333_4200946e3b6031735149Z.tif'],\n",
    "             '3066140': ['docIMG_2024003339_4200920d6b0031735250Z.tif'],\n",
    "             '3066141': ['docIMG_2024003340_420093261d1031735364Z.tif'],\n",
    "             '3066142': ['docIMG_2024003341_4200925fa95031735395Z.tif'],\n",
    "             '3066144': ['docIMG_2024003343_42009309239031735507Z.tif'],\n",
    "             '3066145': ['docIMG_2024003344_42009bcde2a031735529Z.tif'],\n",
    "             '3066152': ['docIMG_2024003351_42009c14777031735632Z.tif'],\n",
    "             '3066153': ['docIMG_2024003352_420098a3b65031735646Z.tif'],\n",
    "             '3066159': ['docIMG_2024003358_420095db2b4031735730Z.tif'],\n",
    "             '3066160': ['docIMG_2024003359_4200947318b031735744Z.tif'],\n",
    "             '3066165': ['docIMG_3700086_420079a8129031721281Z.tif'],\n",
    "             '3066171': ['docIMG_3700089_42007f10ba2031721341Z.tif'],\n",
    "             '3066172': ['docIMG_3700090_42007cd4b0d031721362Z.tif'],\n",
    "             '3066175': ['docIMG_3700093_420070951c8031721476Z.tif'],\n",
    "             '3066176': ['docIMG_3700094_4200713e674031721494Z.tif'],\n",
    "             '3066177': ['docIMG_3700095_420071a4563031721512Z.tif'],\n",
    "             '3066178': ['docIMG_3700096_42007cb219f031721538Z.tif'],\n",
    "             '3066182': ['docIMG_3700100_42007e86a68031721746Z.tif'],\n",
    "             '3066190': ['docIMG_3700105_42007977b2a031721860Z.tif'],\n",
    "             '3066191': ['docIMG_3700106_42007fb5e5a031721883Z.tif'],\n",
    "             '3066192': ['docIMG_3700107_42007d4ad9a031721909Z.tif'],\n",
    "             '3066195': ['docIMG_3700110_420078d836f031722091Z.tif'],\n",
    "             '3066196': ['docIMG_3700111_42007eb2850031722135Z.tif'],\n",
    "             '3066204': ['docIMG_3700119_4200787cb8e031722931Z.tif'],\n",
    "             '3066205': ['docIMG_3700120_42007e1e000031722949Z.tif'],\n",
    "             '3066209': ['docIMG_3700124_420072e48aa031723123Z.tif'],\n",
    "             '3066212': ['docIMG_3700127_4200739218b031723449Z.tif'],\n",
    "             '3066213': ['docIMG_3700128_420072d544f031723475Z.tif'],\n",
    "             '3066215': ['docIMG_3700130_420072ef2bd031723554Z.tif'],\n",
    "             '3066224': ['docIMG_3700139_4200744438f031723902Z.tif'],\n",
    "             '3066228': ['docIMG_3700143_4200795b3e4031723972Z.tif'],\n",
    "             '3066229': ['docIMG_3700144_42007655734031724029Z.tif'],\n",
    "             '3066230': ['docIMG_3700145_42007d776d5031724080Z.tif'],\n",
    "             '3066231': ['docIMG_3700146_4200792cc15031724125Z.tif'],\n",
    "             '3066232': ['docIMG_3700147_4200765942c031724253Z.tif'],\n",
    "             '3066243': ['docIMG_2024002495_42065ca5a4a031809035Z.tif'],\n",
    "             '3066246': ['docIMG_2024002498_42065734433031809118Z.tif'],\n",
    "             '3066249': ['docIMG_2024002501_4206545442d031809265Z.tif'],\n",
    "             '3066252': ['docIMG_2024002504_42065cccd54031809442Z.tif'],\n",
    "             '3066253': ['docIMG_2024002505_42065f988f1031809462Z.tif'],\n",
    "             '3066256': ['docIMG_2024002508_42065eeef54031809509Z.tif'],\n",
    "             '3066257': ['docIMG_2024002509_420653cc767031809536Z.tif'],\n",
    "             '3066258': ['docIMG_2024002510_42065063cbb031809564Z.tif'],\n",
    "             '3066259': ['docIMG_2024002511_42065a2d349031809589Z.tif'],\n",
    "             '3066260': ['docIMG_2024002512_42065704574031809635Z.tif'],\n",
    "             '3066268': ['docIMG_2024002832_42121b5a382031838680Z.tif'],\n",
    "             '3066271': ['docIMG_2024002835_421210c54b3031838908Z.tif'],\n",
    "             '3066276': ['docIMG_2024002840_421214807bb031839107Z.tif'],\n",
    "             '3066284': ['docIMG_2024002848_42121f963aa031839285Z.tif'],\n",
    "             '3066288': ['docIMG_2024002852_42121d12f10031839377Z.tif'],\n",
    "             '3066292': ['docIMG_2024002856_4212179ae31031839462Z.tif'],\n",
    "             '3066293': ['docIMG_2024002857_42121c3b562031839496Z.tif'],\n",
    "             '3066294': ['docIMG_2024002858_42121a58c87031839514Z.tif'],\n",
    "             '3066295': ['docIMG_2024002859_42121928c4d031839546Z.tif'],\n",
    "             '3066296': ['docIMG_2024002860_4212171b9bc031839604Z.tif'],\n",
    "             '3066297': ['docIMG_2024002861_4212136bc6f031839624Z.tif'],\n",
    "             '3066361': ['docIMG_2024023119_420115edb9e025826906Z.tif'],\n",
    "             '3066367': ['docIMG_2024023125_420115099db025827253Z.tif'],\n",
    "             '3066377': ['docIMG_2024023135_420116c71a7025827745Z.tif'],\n",
    "             '3066379': ['docIMG_2024023137_420115a3015025827862Z.tif'],\n",
    "             '3066388': ['docIMG_2024023146_42011ddac12025828175Z.tif'],\n",
    "             '3066392': ['docIMG_2024023150_420119412eb025828326Z.tif'],\n",
    "             '3066393': ['docIMG_2024023151_420110b6d1a025828352Z.tif'],\n",
    "             '3066394': ['docIMG_2024023152_42011b99fa9025828399Z.tif'],\n",
    "             '3066398': ['docIMG_2024023156_42011210d3a025828603Z.tif'],\n",
    "             '3066399': ['docIMG_2024023159_4201106bf03025828636Z.tif'],\n",
    "             '3066408': ['docIMG_2024023168_420119e8c76025829126Z.tif'],\n",
    "             '3066409': ['docIMG_2024023169_4201136acc5025829141Z.tif'],\n",
    "             '3066415': ['docIMG_2024023177_42011272912025829454Z.tif'],\n",
    "             '3066418': ['docIMG_2024023180_42011a7791f025829513Z.tif'],\n",
    "             '3066422': ['docIMG_2024023184_420117afffd025829727Z.tif'],\n",
    "             '3066424': ['docIMG_2024023186_42011be166f025829842Z.tif'],\n",
    "             '3066429': ['docIMG_2024023191_420113c45a5025830063Z.tif'],\n",
    "             '3066433': ['docIMG_2024023195_4201114753b025830200Z.tif'],\n",
    "             '3066435': ['docIMG_2024023197_42011ea4663025830236Z.tif'],\n",
    "             '3066442': ['docIMG_2024023204_42011a91fbf025830529Z.tif'],\n",
    "             '3066445': ['docIMG_2024023207_420110e9a16025830581Z.tif'],\n",
    "             '3066458': ['docIMG_2024023220_420115b7cee025830789Z.tif'],\n",
    "             '3066459': ['docIMG_2024023221_42011b8ed8e025830823Z.tif'],\n",
    "             '3066460': ['docIMG_2024023222_42011b853ed025830858Z.tif'],\n",
    "             '3066461': ['docIMG_2024023223_420118b089f025830967Z.tif'],\n",
    "             '3066491': ['docIMG_12032208_42029a82843023804762Z.tif'],\n",
    "             '3066492': ['docIMG_12032209_42029e54e8c023804778Z.tif'],\n",
    "             '3066520': ['docIMG_12032237_42029e53cbf023806212Z.tif'],\n",
    "             '3066571': ['docIMG_12032288_4202937fa39023808179Z.tif'],\n",
    "             '3066578': ['docIMG_12032295_4202985c15d023808528Z.tif'],\n",
    "             '3066583': ['docIMG_12032300_420299677a4023808988Z.tif'],\n",
    "             '3066586': ['docIMG_12032303_42029cf42eb023809054Z.tif'],\n",
    "             '3066589': ['docIMG_12032306_42029b4d86b023809114Z.tif'],\n",
    "             '3066590': ['docIMG_12032307_420293c7a63023809132Z.tif'],\n",
    "             '3066592': ['docIMG_12032309_4202970dc80023809172Z.tif'],\n",
    "             '3066609': ['docIMG_12032326_420293b8a8a023810386Z.tif'],\n",
    "             '3066610': ['docIMG_12032327_420299befb8023810418Z.tif'],\n",
    "             '3066616': ['docIMG_12032333_4202902f6c0023810659Z.tif'],\n",
    "             '3066620': ['docIMG_12032337_42029e8ca24023811054Z.tif'],\n",
    "             '3066628': ['docIMG_12032345_420291b64c8023811686Z.tif'],\n",
    "             '3066636': ['docIMG_12032353_420298ecea8023812058Z.tif'],\n",
    "             '3066649': ['docIMG_12032366_42029ec6362023812791Z.tif'],\n",
    "             '3066657': ['docIMG_12032374_420292bffec023813408Z.tif'],\n",
    "             '3066660': ['docIMG_12032377_42029b19c6f023813483Z.tif'],\n",
    "             '3066663': ['docIMG_12032380_42029ed9bce023813592Z.tif'],\n",
    "             '3066664': ['docIMG_12032381_42029deb53f023813634Z.tif'],\n",
    "             '3066666': ['docIMG_12032383_42029ce6aff023813794Z.tif'],\n",
    "             '3066667': ['docIMG_12032384_420297a03d4023813859Z.tif'],\n",
    "             '3066672': ['docIMG_12032389_42029570434023814001Z.tif'],\n",
    "             '3066673': ['docIMG_12032390_42029960d37023814029Z.tif'],\n",
    "             '3066677': ['docIMG_42019_20240731_WARRANTY DEED_2024_07310011157___1_11_420196c8e33230544467Z.pdf'],\n",
    "             '3066679': ['docIMG_42019_20240808_ASSIGN OF MTG._2024_08080011595___1_2_420197fe0b8230544529Z.pdf'],\n",
    "             '3066680': ['docIMG_42019_20240808_ASSIGN OF MTG._2024_08080011596___1_1_4201956bac4230544544Z.pdf'],\n",
    "             '3066682': ['docIMG_42019_20240808_FHAVA MORTGAGE_2024_08080011598___1_7_42019049842230544593Z.pdf'],\n",
    "             '3066685': ['docIMG_42019_20240808_FINANCING STATEMENT TERMINATION_2024_08080011626___1_3_42019898c4a230544685Z.pdf'],\n",
    "             '3066687': ['docIMG_42019_20240808_MORTGAGE GENERAL_2024_08080011589___1_10_420199e8788230544774Z.pdf'],\n",
    "             '3066689': ['docIMG_42019_20240808_MORTGAGE GENERAL_2024_08080011614___1_6_420197135f4230544969Z.pdf'],\n",
    "             '3066692': ['docIMG_42019_20240808_MORTGAGE GENERAL_2024_08080011618___1_10_420196dfc3b230545116Z.pdf'],\n",
    "             '3066697': ['docIMG_42019_20240808_MTG. RELEASE_2024_08080011625___1_4_42019b7744e230545461Z.pdf'],\n",
    "             '3066709': ['docIMG_42019_20240808_SATISFACTION OF MORTGAGE_2024_08080011615___1_2_4201917a00d230545659Z.pdf'],\n",
    "             '3066717': ['docIMG_42019_20240808_SATISFACTION OF MORTGAGE_2024_08080011637___1_3_4201932d3c5230545786Z.pdf'],\n",
    "             '3066721': ['docIMG_202411047_42013a88cce085057327Z.tif'],\n",
    "             '3066723': ['docIMG_202411049_420136a3fc0085057363Z.tif'],\n",
    "             '3066725': ['docIMG_202411051_42013ed4cdd085057634Z.tif'],\n",
    "             '3066726': ['docIMG_202411052_42013a39fff085057711Z.tif'],\n",
    "             '3066730': ['docIMG_202411056_420134d1c65085057832Z.tif'],\n",
    "             '3066732': ['docIMG_202411058_420131e3863085057866Z.tif'],\n",
    "             '3066736': ['docIMG_202411062_4201333022a085057977Z.tif'],\n",
    "             '3066738': ['docIMG_202411064_420136b7c04085058025Z.tif'],\n",
    "             '3066743': ['docIMG_202411069_420137c6fe9085058141Z.tif'],\n",
    "             '3066744': ['docIMG_202411070_42013777157085058182Z.tif'],\n",
    "             '3066745': ['docIMG_202411071_42013e00692085058288Z.tif'],\n",
    "             '3066748': ['docIMG_202411075_42013d998c2085058352Z.tif'],\n",
    "             '3066750': ['docIMG_202411077_42013442876085058402Z.tif'],\n",
    "             '3066752': ['docIMG_202411079_420137a6a4a085058560Z.tif'],\n",
    "             '3066753': ['docIMG_202411080_4201337a0d7085058571Z.tif'],\n",
    "             '3066759': ['docIMG_202411088_42013972172085058834Z.tif'],\n",
    "             '3066760': ['docIMG_202411089_42013685733085058866Z.tif'],\n",
    "             '3066761': ['docIMG_202411090_42013bf52ec085058883Z.tif'],\n",
    "             '3066762': ['docIMG_202411092_42013e24dda085058911Z.tif'],\n",
    "             '3066767': ['docIMG_202411098_42013943b4a085059071Z.tif'],\n",
    "             '3066770': ['docIMG_202411101_42013236ed4085059190Z.tif'],\n",
    "             '3066771': ['docIMG_202411102_42013874d8c085059206Z.tif'],\n",
    "             '3066773': ['docIMG_202411104_420132e9470085059236Z.tif'],\n",
    "             '3066775': ['docIMG_202411106_420132e46de085059270Z.tif'],\n",
    "             '3066777': ['docIMG_202411108_42013ccce72085059317Z.tif'],\n",
    "             '3066785': ['docIMG_202407776_42015408332094846409Z.tif'],\n",
    "             '3066786': ['docIMG_202407777_420159e3ba0094846461Z.tif'],\n",
    "             '3066787': ['docIMG_202407778_420152e8596094846588Z.tif'],\n",
    "             '3066791': ['docIMG_202407782_4201526b8e5094846732Z.tif'],\n",
    "             '3066793': ['docIMG_202407784_42015b59b94094846912Z.tif'],\n",
    "             '3066794': ['docIMG_202407785_420157aa596094846929Z.tif'],\n",
    "             '3066798': ['docIMG_202407789_4201549fb73094847113Z.tif'],\n",
    "             '3066799': ['docIMG_202407790_4201599a155094847130Z.tif'],\n",
    "             '3066801': ['docIMG_202407792_4201577f903094847185Z.tif'],\n",
    "             '3066802': ['docIMG_202407793_4201545b740094847249Z.tif'],\n",
    "             '3066803': ['docIMG_202407794_42015428feb094847266Z.tif'],\n",
    "             '3066804': ['docIMG_202407795_42015065dfd094847304Z.tif'],\n",
    "             '3066805': ['docIMG_202407799_420158bd497094847370Z.tif'],\n",
    "             '3066806': ['docIMG_202407800_42015d60342094847421Z.tif'],\n",
    "             '3066807': ['docIMG_202407801_42015856ad7094847582Z.tif'],\n",
    "             '3066808': ['docIMG_202407802_420153b86fd094847600Z.tif'],\n",
    "             '3066809': ['docIMG_202407803_42015bc9303094847676Z.tif'],\n",
    "             '3066810': ['docIMG_202407804_420151de5bf094847692Z.tif'],\n",
    "             '3066813': ['docIMG_202407807_42015c63bde094847780Z.tif'],\n",
    "             '3066814': ['docIMG_202407812_42015c94b52094847797Z.tif'],\n",
    "             '3066815': ['docIMG_202407813_420159aa604094847817Z.tif'],\n",
    "             '3066816': ['docIMG_202407814_420154116bb094847874Z.tif'],\n",
    "             '3066820': ['docIMG_202407818_4201551ab15094848263Z.tif'],\n",
    "             '3066823': ['docIMG_202407821_4201580027e094854879Z.tif'],\n",
    "             '3066826': ['docIMG_202407825_42015b5ae71094855061Z.tif'],\n",
    "             '3066832': ['docIMG_202408555_420390b9c4a094906545Z.tif'],\n",
    "             '3066834': ['docIMG_202408559_42039bdd96b094906592Z.tif'],\n",
    "             '3066835': ['docIMG_202408560_42039d96d14094906654Z.tif'],\n",
    "             '3066836': ['docIMG_202408561_42039b6e525094906672Z.tif'],\n",
    "             '3066838': ['docIMG_202408563_4203977f119094906713Z.tif'],\n",
    "             '3066839': ['docIMG_202408564_42039db085b094906740Z.tif'],\n",
    "             '3066841': ['docIMG_202408566_420393cb4af094906938Z.tif'],\n",
    "             '3066842': ['docIMG_202408567_420394bb8c4094906958Z.tif'],\n",
    "             '3066843': ['docIMG_202408568_420395c2e4c094906995Z.tif'],\n",
    "             '3066845': ['docIMG_202408572_42039fe46c2094907052Z.tif'],\n",
    "             '3066853': ['docIMG_202408587_420394438fb094907220Z.tif'],\n",
    "             '3066854': ['docIMG_202408588_420397dbe4c094907241Z.tif'],\n",
    "             '3066858': ['docIMG_202408592_42039de1640094907373Z.tif'],\n",
    "             '3066868': ['docIMG_202408602_4203973f347094907510Z.tif'],\n",
    "             '3066884': ['docIMG_202408620_42039701912094907976Z.tif'],\n",
    "             '3066904': ['docIMG_202405285_42099f440fa095017675Z.tif'],\n",
    "             '3066905': ['docIMG_202405286_4209934cfe1095017695Z.tif'],\n",
    "             '3066906': ['docIMG_202405287_420992d397f095017724Z.tif'],\n",
    "             '3066907': ['docIMG_202405288_4209951b1e3095017819Z.tif'],\n",
    "             '3066908': ['docIMG_202405290_420996c9cdb095017839Z.tif'],\n",
    "             '3066912': ['docIMG_202405296_420993d0b63095017904Z.tif'],\n",
    "             '3066914': ['docIMG_202405298_420994367e4095017976Z.tif'],\n",
    "             '3066917': ['docIMG_202405301_42099c4c76d095018125Z.tif'],\n",
    "             '3066919': ['docIMG_202405303_420999b241c095018158Z.tif'],\n",
    "             '3066921': ['docIMG_202405305_42099f44f5e095018215Z.tif'],\n",
    "             '3066922': ['docIMG_202405306_4209973b5cf095018268Z.tif'],\n",
    "             '3066923': ['docIMG_202405307_42099445c97095018318Z.tif'],\n",
    "             '3066924': ['docIMG_202405308_420995bda8d095018485Z.tif'],\n",
    "             '3066926': ['docIMG_202405310_42099b05da2095018661Z.tif'],\n",
    "             '3066927': ['docIMG_202405311_420990b19bb095018694Z.tif'],\n",
    "             '3066928': ['docIMG_202405312_420994fb490095018714Z.tif'],\n",
    "             '3066930': ['docIMG_202405317_42099078397095018743Z.tif'],\n",
    "             '3066977': ['docIMG_2024035823_4209188bc4a120308970Z.tif'],\n",
    "             '3067031': ['docIMG_2024035998_42091c8aa20120316165Z.tif'],\n",
    "             '3067036': ['docIMG_2024036005_4209120cd15120316527Z.tif'],\n",
    "             '3067056': ['docIMG_2024036076_4209194758a120318202Z.tif'],\n",
    "             '3067063': ['docIMG_2024036101_4209103158a120318919Z.tif'],\n",
    "             '3067068': ['docIMG_2024036108_42091c46a46120319201Z.tif'],\n",
    "             '3067080': ['docIMG_2024036137_4209102a6d3120320659Z.tif'],\n",
    "             '3067083': ['docIMG_2024036143_42091458dd2120321326Z.tif'],\n",
    "             '3067086': ['docIMG_2024036149_4209152ddf5120321687Z.tif'],\n",
    "             '3067087': ['docIMG_2024036153_42091b4eba9120321738Z.tif'],\n",
    "             '3067090': ['docIMG_2024036158_42091aab266120321855Z.tif'],\n",
    "             '3067091': ['docIMG_2024036161_42091bc8a8c120321903Z.tif'],\n",
    "             '3067111': ['docIMG_2024036210_42091087459120337077Z.tif'],\n",
    "             '3067145': ['docIMG_2024036284_420914b7b3a120341792Z.tif'],\n",
    "             '3067156': ['docIMG_2024036351_42091a4a768120342971Z.tif'],\n",
    "             '3067178': ['docIMG_2024036401_42091bc3f94120345589Z.tif'],\n",
    "             '3067182': ['docIMG_2024036405_4209141a468120345905Z.tif'],\n",
    "             '3067186': ['docIMG_2024036411_42091c99651120346673Z.tif'],\n",
    "             '3067199': ['docIMG_202400008915_4210747598f045446922Z.tif'],\n",
    "             '3067203': ['docIMG_202400008919_421072afe93045447222Z.tif'],\n",
    "             '3067204': ['docIMG_202400008920_42107a72447045447264Z.tif'],\n",
    "             '3067206': ['docIMG_202400008922_42107aeb036045447414Z.tif'],\n",
    "             '3067207': ['docIMG_202400008923_42107e57161045447533Z.tif'],\n",
    "             '3067213': ['docIMG_202400008929_42107ccd1b6045447639Z.tif'],\n",
    "             '3067214': ['docIMG_202400008930_42107c19dae045447674Z.tif'],\n",
    "             '3067215': ['docIMG_202400008931_42107bc9ede045447769Z.tif'],\n",
    "             '3067217': ['docIMG_202400008933_4210749d4af045447961Z.tif'],\n",
    "             '3067218': ['docIMG_202400008934_42107699285045447990Z.tif'],\n",
    "             '3067225': ['docIMG_202400008941_4210734e04a045448277Z.tif'],\n",
    "             '3067226': ['docIMG_202400008942_421072db23c045448385Z.tif'],\n",
    "             '3067230': ['docIMG_202400008946_4210741bd51045448552Z.tif'],\n",
    "             '3067233': ['docIMG_202400008949_42107f6d11d045448615Z.tif'],\n",
    "             '3067234': ['docIMG_202400008950_4210791ee37045448647Z.tif'],\n",
    "             '3067237': ['docIMG_202400008953_421077ca29a045448806Z.tif'],\n",
    "             '3067238': ['docIMG_202400008954_42107b4f0c8045448901Z.tif'],\n",
    "             '3067244': ['docIMG_202400008960_4210726d432045449304Z.tif'],\n",
    "             '3067245': ['docIMG_202400008961_42107fc4055045449329Z.tif'],\n",
    "             '3067246': ['docIMG_202400008962_42107467c9e045449371Z.tif'],\n",
    "             '3067248': ['docIMG_202400008964_421079bd7e7045449437Z.tif'],\n",
    "             '3067251': ['docIMG_202400008967_42107ed82a9045449560Z.tif'],\n",
    "             '3067252': ['docIMG_202400008968_42107b7c24d045449600Z.tif'],\n",
    "             '3067255': ['docIMG_202400008971_42107b869c0045449674Z.tif'],\n",
    "             '3067258': ['docIMG_202400008974_421073bf663045449865Z.tif'],\n",
    "             '3067259': ['docIMG_202400008975_42107a814e6045449893Z.tif'],\n",
    "             '3067278': ['docIMG_2024036469_420912e18f9120349764Z.tif'],\n",
    "             '3067280': ['docIMG_2024036472_42091c40519120350105Z.tif'],\n",
    "             '3067301': ['docIMG_2024036514_42091e71c78120352020Z.tif'],\n",
    "             '3067311': ['docIMG_2024036540_420916ffe90120353288Z.tif'],\n",
    "             '3067322': ['docIMG_2024036582_42091e7f86e120354522Z.tif'],\n",
    "             '3067330': ['docIMG_2024036598_42091648403120355358Z.tif'],\n",
    "             '3067334': ['docIMG_2024036611_4209122e21b120355862Z.tif'],\n",
    "             '3067344': ['docIMG_2024004868_421119db32e095040893Z.tif'],\n",
    "             '3067348': ['docIMG_2024004874_42111ccf68e095041020Z.tif'],\n",
    "             '3067356': ['docIMG_2024004883_42111d3ab16095041407Z.tif'],\n",
    "             '3067357': ['docIMG_2024004884_42111694d47095041476Z.tif'],\n",
    "             '3067358': ['docIMG_2024004885_42111402293095041497Z.tif'],\n",
    "             '3067359': ['docIMG_2024004886_421111deb6c095041513Z.tif'],\n",
    "             '3067361': ['docIMG_2024004888_4211180493a095041559Z.tif'],\n",
    "             '3067362': ['docIMG_2024004889_42111259c2f095041592Z.tif'],\n",
    "             '3067363': ['docIMG_2024004891_42111014373095041621Z.tif'],\n",
    "             '3067364': ['docIMG_2024004892_42111d8acd2095041640Z.tif'],\n",
    "             '3067365': ['docIMG_2024004893_42111efef64095041666Z.tif'],\n",
    "             '3067366': ['docIMG_2024004894_42111abe14b095041684Z.tif'],\n",
    "             '3067367': ['docIMG_2024004895_42111134523095041707Z.tif'],\n",
    "             '3067371': ['docIMG_202401386_42113021890095058270Z.tif'],\n",
    "             '3067374': ['docIMG_202401389_42113a87c9f095058379Z.tif'],\n",
    "             '3067375': ['docIMG_202401390_42113d090b6095058402Z.tif'],\n",
    "             '3067377': ['docIMG_202401393_42113d331a0095058449Z.tif'],\n",
    "             '3067378': ['docIMG_202401394_42113feaac5095058472Z.tif'],\n",
    "             '3067379': ['docIMG_202401395_421139b2c3f095058493Z.tif'],\n",
    "             '3067452': ['docIMG_202407260018547_42129434bb5000814571Z.tif'],\n",
    "             '3067455': ['docIMG_202407260018550_421294f1b22000815222Z.tif'],\n",
    "             '3067458': ['docIMG_202407260018553_42129a39c4a000815330Z.tif'],\n",
    "             '3067468': ['docIMG_202407260018563_42129b52b82000815635Z.tif'],\n",
    "             '3067484': ['docIMG_202407260018579_42129b815f3000816127Z.tif'],\n",
    "             '3067486': ['docIMG_202407260018581_4212938a397000816179Z.tif'],\n",
    "             '3067509': ['docIMG_202407260018604_42129aea4e1000817138Z.tif'],\n",
    "             '3067511': ['docIMG_202407260018606_42129616905000817259Z.tif'],\n",
    "             '3067526': ['docIMG_202407260018621_4212939e40b000817745Z.tif'],\n",
    "             '3067531': ['docIMG_202407260018626_42129938708000817981Z.tif'],\n",
    "             '3067538': ['docIMG_202407260018630_421291dadab000818136Z.tif'],\n",
    "             '3067572': ['docIMG_202400001330_4212366055f154817985Z.tif'],\n",
    "             '3067594': ['docIMG_202400001352_4212378fd97154840145Z.tif'],\n",
    "             '3067629': ['docIMG_202407260018640_421293d9bc0000818524Z.tif'],\n",
    "             '3067641': ['docIMG_202407260018652_42129cfec4e000819447Z.tif'],\n",
    "             '3067650': ['docIMG_202407260018661_42129f93ffd000819895Z.tif'],\n",
    "             '3067653': ['docIMG_202407260018664_42129df4c7d000820099Z.tif'],\n",
    "             '3067658': ['docIMG_202407260018669_421299ef800000820560Z.tif'],\n",
    "             '3067660': ['docIMG_202407260018671_4212996aa26000820653Z.tif'],\n",
    "             '3067664': ['docIMG_202407260018675_421298453ef000820749Z.tif'],\n",
    "             '3067665': ['docIMG_202407260018676_42129736808000820779Z.tif'],\n",
    "             '3067670': ['docIMG_202407260018681_42129276bf1000821026Z.tif'],\n",
    "             '3067671': ['docIMG_202407260018682_42129bfcae3000821057Z.tif'],\n",
    "             '3067672': ['docIMG_202407260018683_421299c5989000821111Z.tif'],\n",
    "             '3067678': ['docIMG_202407260018689_42129bfc986000821244Z.tif'],\n",
    "             '3067679': ['docIMG_202407260018690_4212936f93f000821262Z.tif'],\n",
    "             '3067680': ['docIMG_202407260018691_421294c6e8a000821277Z.tif'],\n",
    "             '3067684': ['docIMG_202400001410_421237f815a154852357Z.tif'],\n",
    "             '3067687': ['docIMG_202400001413_42123d453eb154852535Z.tif'],\n",
    "             '3067721': ['docIMG_202400001501_421231584de154904824Z.tif'],\n",
    "             '3067799': ['docIMG_202400001438_421239dfaea154930187Z.tif'],\n",
    "             '3067832': ['docIMG_202400001494_421235c8f5b154936338Z.tif'],\n",
    "             '3067833': ['docIMG_202400001495_42123ea45b9154936369Z.tif'],\n",
    "             '3067834': ['docIMG_202400001496_42123612f90154936395Z.tif'],\n",
    "             '3067837': ['docIMG_202400001525_42123c87d64154941957Z.tif'],\n",
    "             '3067853': ['docIMG_202400001620_42123024be7154947755Z.tif'],\n",
    "             '3067866': ['docIMG_202400001643_42123f083b0154953660Z.tif'],\n",
    "             '3067871': ['docIMG_202400001543_42123ee6d46154959301Z.tif'],\n",
    "             '3067872': ['docIMG_202400001544_421233960f4154959316Z.tif'],\n",
    "             '3067883': ['docIMG_202400001555_42123ffe6c3154959629Z.tif'],\n",
    "             '3067916': ['docIMG_202400001588_4212328b989155007065Z.tif'],\n",
    "             '3067917': ['docIMG_202400001589_42123313885155007098Z.tif'],\n",
    "             '3067918': ['docIMG_202400001590_42123aeb0fb155007207Z.tif'],\n",
    "             '3067935': ['docIMG_202400001607_42123cabd31155013468Z.tif'],\n",
    "             '3067941': ['docIMG_202400001613_42123af85bf155013613Z.tif'],\n",
    "             '3067943': ['docIMG_202400001615_42123b6b793155013676Z.tif'],\n",
    "             '3067944': ['docIMG_202400001616_42123e437ca155013691Z.tif'],\n",
    "             '3067946': ['docIMG_202400001618_42123df6e13155013738Z.tif'],\n",
    "             '3067947': ['docIMG_202400001619_42123dbdbe8155013769Z.tif'],\n",
    "             '3067961': ['docIMG_202401159_421139cb3bf091754390Z.tif'],\n",
    "             '3067963': ['docIMG_202401161_42113be0fe6091754499Z.tif'],\n",
    "             '3067964': ['docIMG_202401162_4211376fc36091754587Z.tif'],\n",
    "             '3067966': ['docIMG_202401166_42113bd9dfc091754659Z.tif'],\n",
    "             '3067967': ['docIMG_202401167_421139dbc6c091754670Z.tif'],\n",
    "             '3067968': ['docIMG_202401168_421139559ed091754686Z.tif'],\n",
    "             '3067975': ['docIMG_2024022234_4204549f085110147433Z.tif'],\n",
    "             '3067979': ['docIMG_2024022238_42045f097dc110147539Z.tif'],\n",
    "             '3067983': ['docIMG_2024022242_4204547cbaa110147671Z.tif'],\n",
    "             '3067986': ['docIMG_2024022245_420456c28e3110147781Z.tif'],\n",
    "             '3067991': ['docIMG_2024022250_42045193496110147968Z.tif'],\n",
    "             '3067999': ['docIMG_2024022255_420451ce2f1110148062Z.tif'],\n",
    "             '3068000': ['docIMG_202409445_42069553df5153650583Z.tif'],\n",
    "             '3068001': ['docIMG_2024022256_420454bae3a110148125Z.tif'],\n",
    "             '3068006': ['docIMG_202409448_42069860eda153650785Z.tif'],\n",
    "             '3068009': ['docIMG_2024022260_42045c7e06b110148250Z.tif'],\n",
    "             '3068012': ['docIMG_202409451_42069f1a084153650877Z.tif'],\n",
    "             '3068016': ['docIMG_202409453_42069b16d24153650924Z.tif'],\n",
    "             '3068018': ['docIMG_202409454_420692c5fe7153651005Z.tif'],\n",
    "             '3068028': ['docIMG_202409459_42069783431153651235Z.tif'],\n",
    "             '3068029': ['docIMG_2024022270_420454c89b4110148750Z.tif'],\n",
    "             '3068034': ['docIMG_202409462_420697fecdb153651516Z.tif'],\n",
    "             '3068046': ['docIMG_202409468_420697bb30e153651861Z.tif'],\n",
    "             '3068047': ['docIMG_2024022279_420450e9757110149078Z.tif'],\n",
    "             '3068051': ['docIMG_2024022281_420454f0659110149173Z.tif'],\n",
    "             '3068052': ['docIMG_202409471_420698ca02c153652019Z.tif'],\n",
    "             '3068064': ['docIMG_202409477_42069fe0483153652205Z.tif'],\n",
    "             '3068065': ['docIMG_2024022288_42045a8b952110149515Z.tif'],\n",
    "             '3068070': ['docIMG_202409480_42069414c1a153652278Z.tif'],\n",
    "             '3068074': ['docIMG_202409482_42069395fd5153652471Z.tif'],\n",
    "             '3068079': ['docIMG_2024022295_420454a56bd110149734Z.tif'],\n",
    "             '3068088': ['docIMG_202409489_42069396afa153652881Z.tif'],\n",
    "             '3068094': ['docIMG_202409492_42069d3cc8a153653002Z.tif'],\n",
    "             '3068096': ['docIMG_202409493_42069a58f6b153653049Z.tif'],\n",
    "             '3068098': ['docIMG_202409494_42069156fd2153653080Z.tif'],\n",
    "             '3068104': ['docIMG_202409497_420690dbc84153653208Z.tif'],\n",
    "             '3068114': ['docIMG_202409502_42069ff79ce153653533Z.tif'],\n",
    "             '3068118': ['docIMG_202409504_420694a8a96153653581Z.tif'],\n",
    "             '3068120': ['docIMG_202409505_42069d1ae68153653611Z.tif'],\n",
    "             '3068123': ['docIMG_2024022319_42045c052c1110150675Z.tif'],\n",
    "             '3068130': ['docIMG_202409510_420696f6044153654073Z.tif'],\n",
    "             '3068134': ['docIMG_202409512_420697804f8153654111Z.tif'],\n",
    "             '3068135': ['docIMG_2024022325_420456b7863110150875Z.tif'],\n",
    "             '3068136': ['docIMG_202409513_420691d343e153654205Z.tif'],\n",
    "             '3068137': ['docIMG_2024022326_420455d8d08110150890Z.tif'],\n",
    "             '3068138': ['docIMG_202409514_420699147ac153654259Z.tif'],\n",
    "             '3068144': ['docIMG_202409517_42069838d52153654439Z.tif'],\n",
    "             '3068147': ['docIMG_2024022331_42045507fb4110151000Z.tif'],\n",
    "             '3068167': ['docIMG_2024022339_420451304e4110151359Z.tif'],\n",
    "             '3068168': ['docIMG_2024022340_42045fe9268110151376Z.tif'],\n",
    "             '3068172': ['docIMG_2024022344_42045d988ba110151503Z.tif'],\n",
    "             '3068176': ['docIMG_2024022348_420455f773b110151586Z.tif'],\n",
    "             '3068179': ['docIMG_2024022351_420457b5e4b110151725Z.tif'],\n",
    "             '3068181': ['docIMG_2024022353_420458afdcb110151750Z.tif'],\n",
    "             '3068184': ['docIMG_2024022356_420455f49a3110151879Z.tif'],\n",
    "             '3068207': ['docIMG_2024004066_421118849d4091744172Z.tif'],\n",
    "             '3068215': ['docIMG_2024004070_42111d3f482091744312Z.tif'],\n",
    "             '3068223': ['docIMG_2024004075_42111f3de04091744652Z.tif'],\n",
    "             '3068229': ['docIMG_2024004078_42111dc5bbb091744750Z.tif'],\n",
    "             '3068233': ['docIMG_2024004080_421114bb99b091744797Z.tif'],\n",
    "             '3068237': ['docIMG_2024004082_421116e1d04091744874Z.tif'],\n",
    "             '3068241': ['docIMG_2024004084_42111498f00091744923Z.tif'],\n",
    "             '3068259': ['docIMG_2024004095_4211191b263091745387Z.tif'],\n",
    "             '3068264': ['docIMG_2024004100_4211140daeb091745624Z.tif'],\n",
    "             '3068265': ['docIMG_2024004101_42111604503091745624Z.tif'],\n",
    "             '3068266': ['docIMG_2024004102_42111b4f889091745671Z.tif'],\n",
    "             '3068267': ['docIMG_2024004103_42111010e06091745777Z.tif'],\n",
    "             '3068272': ['docIMG_2024002828_420092488c7072944735Z.tif'],\n",
    "             '3068273': ['docIMG_2024002829_420092cb754072944749Z.tif'],\n",
    "             '3068275': ['docIMG_2024002831_42009f4f14b072944795Z.tif'],\n",
    "             '3068276': ['docIMG_2024002832_4200978e25e072944842Z.tif'],\n",
    "             '3068277': ['docIMG_2024002833_420096e8c63072944873Z.tif'],\n",
    "             '3068280': ['docIMG_2024002836_420093586ac072945999Z.tif'],\n",
    "             '3068281': ['docIMG_2024002837_42009864f34072946019Z.tif'],\n",
    "             '3068283': ['docIMG_2024002839_42009e98974072946047Z.tif'],\n",
    "             '3068284': ['docIMG_2024002840_42009bff1bd072946077Z.tif'],\n",
    "             '3068286': ['docIMG_2024002842_42009cf64f9072946170Z.tif'],\n",
    "             '3068287': ['docIMG_2024002843_420091f7d7a072946269Z.tif'],\n",
    "             '3068288': ['docIMG_2024002844_420093dfe24072946285Z.tif'],\n",
    "             '3068296': ['docIMG_42019_20240618_MTG. RELEASE_2024_06180008763___1_1_42019c71a74204614610Z.pdf'],\n",
    "             '3068298': ['docIMG_42019_20240621_MTG. RELEASE_2024_06210008869___1_1_420191221b3204614641Z.pdf'],\n",
    "             '3068320': ['docIMG_42019_20240724_MORTGAGE GENERAL_2024_07240010703___1_7_420190fcd69213347887Z.pdf'],\n",
    "             '3068321': ['docIMG_42019_20240724_MORTGAGE GENERAL_2024_07240010704___1_7_420195e4302213347935Z.pdf'],\n",
    "             '3068322': ['docIMG_42019_20240724_MORTGAGE GENERAL_2024_07240010706___1_29_420195957c4213347993Z.pdf'],\n",
    "             '3068338': ['docIMG_42019_20240724_RIGHT OF WAY_2024_07240010707___1_5_42019bbae76213349816Z.pdf'],\n",
    "             '3068342': ['docIMG_42019_20240724_SATISFACTION OF MORTGAGE_2024_07240010686___1_3_42019f65c97213349886Z.pdf'],\n",
    "             '3068343': ['docIMG_42019_20240724_SHERIFF DEED_2024_07240010724___1_5_42019815a73213349904Z.pdf'],\n",
    "             '3068344': ['docIMG_42019_20240724_WARRANTY DEED_2024_07240010649___1_4_4201927277d213349930Z.pdf'],\n",
    "             '3068363': ['docIMG_42019_20240724_WARRANTY DEED_2024_07240010720___1_5_42019d4bdd0213350411Z.pdf'],\n",
    "             '3068364': ['docIMG_42019_20240724_WARRANTY DEED_2024_07240010722___1_5_420194f5835213350439Z.pdf'],\n",
    "             '3068368': ['docIMG_42019_20240725_EXECUTORS DEED_2024_07250010751___1_4_4201979dd95213350575Z.pdf'],\n",
    "             '3068370': ['docIMG_42019_20240725_MINERAL DEED_2024_07250010750___1_4_42019327e6d213350627Z.pdf'],\n",
    "             '3068406': ['docIMG_202408388_42039dab394092056336Z.tif'],\n",
    "             '3068416': ['docIMG_202408400_42039f044d2092057606Z.tif'],\n",
    "             '3068417': ['docIMG_202408401_42039c700aa092057637Z.tif'],\n",
    "             '3068420': ['docIMG_202408404_42039e34b5b092057778Z.tif'],\n",
    "             '3068421': ['docIMG_202408405_4203954d889092057797Z.tif'],\n",
    "             '3068425': ['docIMG_202408409_4203956b24d092057895Z.tif'],\n",
    "             '3068432': ['docIMG_202408417_42039f585cb092058160Z.tif'],\n",
    "             '3068434': ['docIMG_202408419_4203949541c092058282Z.tif'],\n",
    "             '3068437': ['docIMG_202408422_420392f545d092058449Z.tif'],\n",
    "             '3068441': ['docIMG_202408426_42039da5402092058514Z.tif'],\n",
    "             '3068569': ['docIMG_2024002138_42065207e84015233435Z.tif'],\n",
    "             '3068571': ['docIMG_2024002140_42065c7db49015233450Z.tif'],\n",
    "             '3068572': ['docIMG_2024002141_42065502b5c015233466Z.tif'],\n",
    "             '3068573': ['docIMG_2024002142_420653d7e02015233482Z.tif'],\n",
    "             '3068574': ['docIMG_2024002143_420658a8480015233497Z.tif'],\n",
    "             '3068730': ['docIMG_202400002364_4205918f311145500593Z.tif'],\n",
    "             '3068736': ['docIMG_202400002367_4205947f41d145500778Z.tif'],\n",
    "             '3068775': ['docIMG_202400002623_420590f6cc9145641374Z.tif'],\n",
    "             '3068777': ['docIMG_202400002624_420594cc489145641453Z.tif'],\n",
    "             '3068801': ['docIMG_202400002636_42059752734145641953Z.tif'],\n",
    "             '3068806': ['docIMG_202400002715_42059c42f47145519678Z.tif'],\n",
    "             '3068808': ['docIMG_202400002716_42059256de5145519691Z.tif'],\n",
    "             '3068811': ['docIMG_202400002641_42059d421dd145642150Z.tif'],\n",
    "             '3068812': ['docIMG_202400002718_42059461ee5145519734Z.tif'],\n",
    "             '3068874': ['docIMG_202400002300_42059532583145533906Z.tif'],\n",
    "             '3068892': ['docIMG_202400002318_4205990537c145534593Z.tif'],\n",
    "             '3068894': ['docIMG_202400002320_42059a652ba145534730Z.tif'],\n",
    "             '3068895': ['docIMG_202400002321_42059012049145534752Z.tif'],\n",
    "             '3068907': ['docIMG_202400002333_420590a8187145535578Z.tif'],\n",
    "             '3068931': ['docIMG_202400002477_42059f9a41e145542359Z.tif'],\n",
    "             '3068962': ['docIMG_202400002508_420597e95d8145543593Z.tif'],\n",
    "             '3068965': ['docIMG_202400002511_420598ff8f9145549107Z.tif'],\n",
    "             '3068966': ['docIMG_202400002512_420598d92a3145549197Z.tif'],\n",
    "             '3068968': ['docIMG_202400002514_420599eeabc145549243Z.tif'],\n",
    "             '3068983': ['docIMG_202400002614_42059fd5979145555546Z.tif'],\n",
    "             '3069004': ['docIMG_202400002393_42059728446145601754Z.tif'],\n",
    "             '3069007': ['docIMG_202400002396_420592a4a19145601887Z.tif'],\n",
    "             '3069017': ['docIMG_202400002406_42059547ea9145602234Z.tif'],\n",
    "             '3069018': ['docIMG_202400002407_42059d0905a145602265Z.tif'],\n",
    "             '3069019': ['docIMG_202400002408_42059baf0f0145602312Z.tif'],\n",
    "             '3069026': ['docIMG_202404489_42099c1bcd8084934889Z.tif'],\n",
    "             '3069043': ['docIMG_202404509_42099ca43e6084935477Z.tif'],\n",
    "             '3069044': ['docIMG_202404510_4209949ea20084935483Z.tif'],\n",
    "             '3069045': ['docIMG_202404511_420990a576d084935530Z.tif'],\n",
    "             '3069046': ['docIMG_202404512_4209957b408084935655Z.tif'],\n",
    "             '3069050': ['docIMG_202404516_42099a3d928084935724Z.tif'],\n",
    "             '3069052': ['docIMG_202404518_420995bd124084935872Z.tif'],\n",
    "             '3069056': ['docIMG_2024002176_420655e7207024705341Z.tif'],\n",
    "             '3069058': ['docIMG_2024002178_4206594cce8024705528Z.tif'],\n",
    "             '3069059': ['docIMG_2024002179_420653abfe7024705544Z.tif'],\n",
    "             '3069060': ['docIMG_2024002180_42065568748024705559Z.tif'],\n",
    "             '3069061': ['docIMG_2024002181_42065a645a1024705591Z.tif'],\n",
    "             '3069062': ['docIMG_2024002182_42065da2827024705638Z.tif'],\n",
    "             '3069063': ['docIMG_2024002183_42065db151e024705654Z.tif'],\n",
    "             '3069064': ['docIMG_2024002184_4206502d499024705684Z.tif'],\n",
    "             '3069065': ['docIMG_2024002185_42065e30255024705750Z.tif'],\n",
    "             '3069074': ['docIMG_2024002507_421218c37d8024747926Z.tif'],\n",
    "             '3069078': ['docIMG_2024002511_421214ad86c024748091Z.tif'],\n",
    "             '3069079': ['docIMG_2024002512_421216428c6024748107Z.tif'],\n",
    "             '3069080': ['docIMG_2024002513_42121428447024748122Z.tif'],\n",
    "             '3069081': ['docIMG_2024002514_42121a094b4024748153Z.tif'],\n",
    "             '3069083': ['docIMG_2024002516_4212199b5a7024748341Z.tif'],\n",
    "             '3069084': ['docIMG_2024002517_4212143f544024748388Z.tif'],\n",
    "             '3069086': ['docIMG_2024002519_42121c13acc024748591Z.tif'],\n",
    "             '3069089': ['docIMG_2024002522_42121f10edd024748810Z.tif'],\n",
    "             '3069090': ['docIMG_2024002523_4212188a968024748841Z.tif'],\n",
    "             '3069092': ['docIMG_2024002525_421214e04e1024748872Z.tif'],\n",
    "             '3069093': ['docIMG_2024002526_421210454af024748919Z.tif'],\n",
    "             '3069094': ['docIMG_2024002527_42121cb6120024748950Z.tif'],\n",
    "             '3069095': ['docIMG_2024002528_421214cd75a024748950Z.tif'],\n",
    "             '3069106': ['docIMG_202401366_42113195998090735193Z.tif'],\n",
    "             '3069107': ['docIMG_202401367_42113d6ed59090735258Z.tif'],\n",
    "             '3069108': ['docIMG_202401368_42113147e47090735443Z.tif'],\n",
    "             '3069109': ['docIMG_202401369_42113321a7d090735531Z.tif'],\n",
    "             '3069110': ['docIMG_202401370_42113e844f4090735560Z.tif'],\n",
    "             '3069111': ['docIMG_202401371_42113d1fa47090735738Z.tif'],\n",
    "             '3069112': ['docIMG_202401373_4211362c71e090735798Z.tif'],\n",
    "             '3069117': ['docIMG_202401377_4211380dadd092139341Z.tif'],\n",
    "             '3069118': ['docIMG_202401378_42113d35f4c092139379Z.tif'],\n",
    "             '3069119': ['docIMG_202401379_42113cf7e23092139515Z.tif'],\n",
    "             '3069124': ['docIMG_202401381_42113b91a8a090547253Z.tif'],\n",
    "             '3069125': ['docIMG_202401382_4211345987a090547281Z.tif'],\n",
    "             '3069126': ['docIMG_202401384_421137bd2b0090547303Z.tif']})"
   ]
  },
  {
   "cell_type": "code",
   "execution_count": 22,
   "id": "7aef1aac-9c4b-4685-abd0-c52b789b5c3c",
   "metadata": {},
   "outputs": [
    {
     "data": {
      "text/plain": [
       "0"
      ]
     },
     "execution_count": 22,
     "metadata": {},
     "output_type": "execute_result"
    }
   ],
   "source": [
    "dev_row.shape[0]"
   ]
  },
  {
   "cell_type": "code",
   "execution_count": 23,
   "id": "e67e220c-c20c-4e28-a685-ec29e30f017f",
   "metadata": {},
   "outputs": [
    {
     "data": {
      "text/html": [
       "<pre style=\"white-space:pre;overflow-x:auto;line-height:normal;font-family:Menlo,'DejaVu Sans Mono',consolas,'Courier New',monospace\"><span style=\"color: #008080; text-decoration-color: #008080; font-weight: bold\">9937001</span>\n",
       "</pre>\n"
      ],
      "text/plain": [
       "\u001b[1;36m9937001\u001b[0m\n"
      ]
     },
     "metadata": {},
     "output_type": "display_data"
    },
    {
     "data": {
      "text/html": [
       "<pre style=\"white-space:pre;overflow-x:auto;line-height:normal;font-family:Menlo,'DejaVu Sans Mono',consolas,'Courier New',monospace\"><span style=\"color: #008080; text-decoration-color: #008080; font-weight: bold\">9937002</span>\n",
       "</pre>\n"
      ],
      "text/plain": [
       "\u001b[1;36m9937002\u001b[0m\n"
      ]
     },
     "metadata": {},
     "output_type": "display_data"
    },
    {
     "data": {
      "text/html": [
       "<pre style=\"white-space:pre;overflow-x:auto;line-height:normal;font-family:Menlo,'DejaVu Sans Mono',consolas,'Courier New',monospace\"><span style=\"color: #008080; text-decoration-color: #008080; font-weight: bold\">9937003</span>\n",
       "</pre>\n"
      ],
      "text/plain": [
       "\u001b[1;36m9937003\u001b[0m\n"
      ]
     },
     "metadata": {},
     "output_type": "display_data"
    },
    {
     "data": {
      "text/html": [
       "<pre style=\"white-space:pre;overflow-x:auto;line-height:normal;font-family:Menlo,'DejaVu Sans Mono',consolas,'Courier New',monospace\"><span style=\"color: #008080; text-decoration-color: #008080; font-weight: bold\">9937004</span>\n",
       "</pre>\n"
      ],
      "text/plain": [
       "\u001b[1;36m9937004\u001b[0m\n"
      ]
     },
     "metadata": {},
     "output_type": "display_data"
    },
    {
     "data": {
      "text/html": [
       "<pre style=\"white-space:pre;overflow-x:auto;line-height:normal;font-family:Menlo,'DejaVu Sans Mono',consolas,'Courier New',monospace\"><span style=\"color: #008080; text-decoration-color: #008080; font-weight: bold\">9937005</span>\n",
       "</pre>\n"
      ],
      "text/plain": [
       "\u001b[1;36m9937005\u001b[0m\n"
      ]
     },
     "metadata": {},
     "output_type": "display_data"
    },
    {
     "data": {
      "text/html": [
       "<pre style=\"white-space:pre;overflow-x:auto;line-height:normal;font-family:Menlo,'DejaVu Sans Mono',consolas,'Courier New',monospace\"><span style=\"color: #008080; text-decoration-color: #008080; font-weight: bold\">9937006</span>\n",
       "</pre>\n"
      ],
      "text/plain": [
       "\u001b[1;36m9937006\u001b[0m\n"
      ]
     },
     "metadata": {},
     "output_type": "display_data"
    },
    {
     "data": {
      "text/html": [
       "<pre style=\"white-space:pre;overflow-x:auto;line-height:normal;font-family:Menlo,'DejaVu Sans Mono',consolas,'Courier New',monospace\"><span style=\"color: #008080; text-decoration-color: #008080; font-weight: bold\">9937007</span>\n",
       "</pre>\n"
      ],
      "text/plain": [
       "\u001b[1;36m9937007\u001b[0m\n"
      ]
     },
     "metadata": {},
     "output_type": "display_data"
    },
    {
     "data": {
      "text/html": [
       "<pre style=\"white-space:pre;overflow-x:auto;line-height:normal;font-family:Menlo,'DejaVu Sans Mono',consolas,'Courier New',monospace\"><span style=\"color: #008080; text-decoration-color: #008080; font-weight: bold\">9937008</span>\n",
       "</pre>\n"
      ],
      "text/plain": [
       "\u001b[1;36m9937008\u001b[0m\n"
      ]
     },
     "metadata": {},
     "output_type": "display_data"
    },
    {
     "data": {
      "text/html": [
       "<pre style=\"white-space:pre;overflow-x:auto;line-height:normal;font-family:Menlo,'DejaVu Sans Mono',consolas,'Courier New',monospace\"><span style=\"color: #008080; text-decoration-color: #008080; font-weight: bold\">9937009</span>\n",
       "</pre>\n"
      ],
      "text/plain": [
       "\u001b[1;36m9937009\u001b[0m\n"
      ]
     },
     "metadata": {},
     "output_type": "display_data"
    },
    {
     "data": {
      "text/html": [
       "<pre style=\"white-space:pre;overflow-x:auto;line-height:normal;font-family:Menlo,'DejaVu Sans Mono',consolas,'Courier New',monospace\"><span style=\"color: #008080; text-decoration-color: #008080; font-weight: bold\">9937010</span>\n",
       "</pre>\n"
      ],
      "text/plain": [
       "\u001b[1;36m9937010\u001b[0m\n"
      ]
     },
     "metadata": {},
     "output_type": "display_data"
    },
    {
     "data": {
      "text/html": [
       "<pre style=\"white-space:pre;overflow-x:auto;line-height:normal;font-family:Menlo,'DejaVu Sans Mono',consolas,'Courier New',monospace\"><span style=\"color: #008080; text-decoration-color: #008080; font-weight: bold\">9937011</span>\n",
       "</pre>\n"
      ],
      "text/plain": [
       "\u001b[1;36m9937011\u001b[0m\n"
      ]
     },
     "metadata": {},
     "output_type": "display_data"
    },
    {
     "data": {
      "text/html": [
       "<pre style=\"white-space:pre;overflow-x:auto;line-height:normal;font-family:Menlo,'DejaVu Sans Mono',consolas,'Courier New',monospace\"><span style=\"color: #008080; text-decoration-color: #008080; font-weight: bold\">9937012</span>\n",
       "</pre>\n"
      ],
      "text/plain": [
       "\u001b[1;36m9937012\u001b[0m\n"
      ]
     },
     "metadata": {},
     "output_type": "display_data"
    },
    {
     "data": {
      "text/html": [
       "<pre style=\"white-space:pre;overflow-x:auto;line-height:normal;font-family:Menlo,'DejaVu Sans Mono',consolas,'Courier New',monospace\"><span style=\"color: #008080; text-decoration-color: #008080; font-weight: bold\">9937013</span>\n",
       "</pre>\n"
      ],
      "text/plain": [
       "\u001b[1;36m9937013\u001b[0m\n"
      ]
     },
     "metadata": {},
     "output_type": "display_data"
    },
    {
     "data": {
      "text/html": [
       "<pre style=\"white-space:pre;overflow-x:auto;line-height:normal;font-family:Menlo,'DejaVu Sans Mono',consolas,'Courier New',monospace\"><span style=\"color: #008080; text-decoration-color: #008080; font-weight: bold\">9937014</span>\n",
       "</pre>\n"
      ],
      "text/plain": [
       "\u001b[1;36m9937014\u001b[0m\n"
      ]
     },
     "metadata": {},
     "output_type": "display_data"
    },
    {
     "data": {
      "text/html": [
       "<pre style=\"white-space:pre;overflow-x:auto;line-height:normal;font-family:Menlo,'DejaVu Sans Mono',consolas,'Courier New',monospace\"><span style=\"color: #008080; text-decoration-color: #008080; font-weight: bold\">9937015</span>\n",
       "</pre>\n"
      ],
      "text/plain": [
       "\u001b[1;36m9937015\u001b[0m\n"
      ]
     },
     "metadata": {},
     "output_type": "display_data"
    },
    {
     "data": {
      "text/html": [
       "<pre style=\"white-space:pre;overflow-x:auto;line-height:normal;font-family:Menlo,'DejaVu Sans Mono',consolas,'Courier New',monospace\"><span style=\"color: #008080; text-decoration-color: #008080; font-weight: bold\">9937016</span>\n",
       "</pre>\n"
      ],
      "text/plain": [
       "\u001b[1;36m9937016\u001b[0m\n"
      ]
     },
     "metadata": {},
     "output_type": "display_data"
    },
    {
     "data": {
      "text/html": [
       "<pre style=\"white-space:pre;overflow-x:auto;line-height:normal;font-family:Menlo,'DejaVu Sans Mono',consolas,'Courier New',monospace\"><span style=\"color: #008080; text-decoration-color: #008080; font-weight: bold\">9937017</span>\n",
       "</pre>\n"
      ],
      "text/plain": [
       "\u001b[1;36m9937017\u001b[0m\n"
      ]
     },
     "metadata": {},
     "output_type": "display_data"
    },
    {
     "data": {
      "text/html": [
       "<pre style=\"white-space:pre;overflow-x:auto;line-height:normal;font-family:Menlo,'DejaVu Sans Mono',consolas,'Courier New',monospace\"><span style=\"color: #008080; text-decoration-color: #008080; font-weight: bold\">9937018</span>\n",
       "</pre>\n"
      ],
      "text/plain": [
       "\u001b[1;36m9937018\u001b[0m\n"
      ]
     },
     "metadata": {},
     "output_type": "display_data"
    },
    {
     "data": {
      "text/html": [
       "<pre style=\"white-space:pre;overflow-x:auto;line-height:normal;font-family:Menlo,'DejaVu Sans Mono',consolas,'Courier New',monospace\"><span style=\"color: #008080; text-decoration-color: #008080; font-weight: bold\">9937019</span>\n",
       "</pre>\n"
      ],
      "text/plain": [
       "\u001b[1;36m9937019\u001b[0m\n"
      ]
     },
     "metadata": {},
     "output_type": "display_data"
    },
    {
     "data": {
      "text/html": [
       "<pre style=\"white-space:pre;overflow-x:auto;line-height:normal;font-family:Menlo,'DejaVu Sans Mono',consolas,'Courier New',monospace\"><span style=\"color: #008080; text-decoration-color: #008080; font-weight: bold\">9937020</span>\n",
       "</pre>\n"
      ],
      "text/plain": [
       "\u001b[1;36m9937020\u001b[0m\n"
      ]
     },
     "metadata": {},
     "output_type": "display_data"
    },
    {
     "data": {
      "text/html": [
       "<pre style=\"white-space:pre;overflow-x:auto;line-height:normal;font-family:Menlo,'DejaVu Sans Mono',consolas,'Courier New',monospace\"><span style=\"color: #008080; text-decoration-color: #008080; font-weight: bold\">9937021</span>\n",
       "</pre>\n"
      ],
      "text/plain": [
       "\u001b[1;36m9937021\u001b[0m\n"
      ]
     },
     "metadata": {},
     "output_type": "display_data"
    },
    {
     "data": {
      "text/html": [
       "<pre style=\"white-space:pre;overflow-x:auto;line-height:normal;font-family:Menlo,'DejaVu Sans Mono',consolas,'Courier New',monospace\"><span style=\"color: #008080; text-decoration-color: #008080; font-weight: bold\">9937022</span>\n",
       "</pre>\n"
      ],
      "text/plain": [
       "\u001b[1;36m9937022\u001b[0m\n"
      ]
     },
     "metadata": {},
     "output_type": "display_data"
    },
    {
     "data": {
      "text/html": [
       "<pre style=\"white-space:pre;overflow-x:auto;line-height:normal;font-family:Menlo,'DejaVu Sans Mono',consolas,'Courier New',monospace\"><span style=\"color: #008080; text-decoration-color: #008080; font-weight: bold\">9937023</span>\n",
       "</pre>\n"
      ],
      "text/plain": [
       "\u001b[1;36m9937023\u001b[0m\n"
      ]
     },
     "metadata": {},
     "output_type": "display_data"
    },
    {
     "data": {
      "text/html": [
       "<pre style=\"white-space:pre;overflow-x:auto;line-height:normal;font-family:Menlo,'DejaVu Sans Mono',consolas,'Courier New',monospace\"><span style=\"color: #008080; text-decoration-color: #008080; font-weight: bold\">9937024</span>\n",
       "</pre>\n"
      ],
      "text/plain": [
       "\u001b[1;36m9937024\u001b[0m\n"
      ]
     },
     "metadata": {},
     "output_type": "display_data"
    },
    {
     "data": {
      "text/html": [
       "<pre style=\"white-space:pre;overflow-x:auto;line-height:normal;font-family:Menlo,'DejaVu Sans Mono',consolas,'Courier New',monospace\"><span style=\"color: #008080; text-decoration-color: #008080; font-weight: bold\">9937025</span>\n",
       "</pre>\n"
      ],
      "text/plain": [
       "\u001b[1;36m9937025\u001b[0m\n"
      ]
     },
     "metadata": {},
     "output_type": "display_data"
    },
    {
     "data": {
      "text/html": [
       "<pre style=\"white-space:pre;overflow-x:auto;line-height:normal;font-family:Menlo,'DejaVu Sans Mono',consolas,'Courier New',monospace\"><span style=\"color: #008080; text-decoration-color: #008080; font-weight: bold\">9937026</span>\n",
       "</pre>\n"
      ],
      "text/plain": [
       "\u001b[1;36m9937026\u001b[0m\n"
      ]
     },
     "metadata": {},
     "output_type": "display_data"
    },
    {
     "data": {
      "text/html": [
       "<pre style=\"white-space:pre;overflow-x:auto;line-height:normal;font-family:Menlo,'DejaVu Sans Mono',consolas,'Courier New',monospace\"><span style=\"color: #008080; text-decoration-color: #008080; font-weight: bold\">9937027</span>\n",
       "</pre>\n"
      ],
      "text/plain": [
       "\u001b[1;36m9937027\u001b[0m\n"
      ]
     },
     "metadata": {},
     "output_type": "display_data"
    },
    {
     "data": {
      "text/html": [
       "<pre style=\"white-space:pre;overflow-x:auto;line-height:normal;font-family:Menlo,'DejaVu Sans Mono',consolas,'Courier New',monospace\"><span style=\"color: #008080; text-decoration-color: #008080; font-weight: bold\">9937028</span>\n",
       "</pre>\n"
      ],
      "text/plain": [
       "\u001b[1;36m9937028\u001b[0m\n"
      ]
     },
     "metadata": {},
     "output_type": "display_data"
    },
    {
     "data": {
      "text/html": [
       "<pre style=\"white-space:pre;overflow-x:auto;line-height:normal;font-family:Menlo,'DejaVu Sans Mono',consolas,'Courier New',monospace\"><span style=\"color: #008080; text-decoration-color: #008080; font-weight: bold\">9937029</span>\n",
       "</pre>\n"
      ],
      "text/plain": [
       "\u001b[1;36m9937029\u001b[0m\n"
      ]
     },
     "metadata": {},
     "output_type": "display_data"
    },
    {
     "data": {
      "text/html": [
       "<pre style=\"white-space:pre;overflow-x:auto;line-height:normal;font-family:Menlo,'DejaVu Sans Mono',consolas,'Courier New',monospace\"><span style=\"color: #008080; text-decoration-color: #008080; font-weight: bold\">9937030</span>\n",
       "</pre>\n"
      ],
      "text/plain": [
       "\u001b[1;36m9937030\u001b[0m\n"
      ]
     },
     "metadata": {},
     "output_type": "display_data"
    },
    {
     "data": {
      "text/html": [
       "<pre style=\"white-space:pre;overflow-x:auto;line-height:normal;font-family:Menlo,'DejaVu Sans Mono',consolas,'Courier New',monospace\"><span style=\"color: #008080; text-decoration-color: #008080; font-weight: bold\">9937031</span>\n",
       "</pre>\n"
      ],
      "text/plain": [
       "\u001b[1;36m9937031\u001b[0m\n"
      ]
     },
     "metadata": {},
     "output_type": "display_data"
    },
    {
     "data": {
      "text/html": [
       "<pre style=\"white-space:pre;overflow-x:auto;line-height:normal;font-family:Menlo,'DejaVu Sans Mono',consolas,'Courier New',monospace\"><span style=\"color: #008080; text-decoration-color: #008080; font-weight: bold\">9937032</span>\n",
       "</pre>\n"
      ],
      "text/plain": [
       "\u001b[1;36m9937032\u001b[0m\n"
      ]
     },
     "metadata": {},
     "output_type": "display_data"
    },
    {
     "data": {
      "text/html": [
       "<pre style=\"white-space:pre;overflow-x:auto;line-height:normal;font-family:Menlo,'DejaVu Sans Mono',consolas,'Courier New',monospace\"><span style=\"color: #008080; text-decoration-color: #008080; font-weight: bold\">9937033</span>\n",
       "</pre>\n"
      ],
      "text/plain": [
       "\u001b[1;36m9937033\u001b[0m\n"
      ]
     },
     "metadata": {},
     "output_type": "display_data"
    },
    {
     "data": {
      "text/html": [
       "<pre style=\"white-space:pre;overflow-x:auto;line-height:normal;font-family:Menlo,'DejaVu Sans Mono',consolas,'Courier New',monospace\"><span style=\"color: #008080; text-decoration-color: #008080; font-weight: bold\">9937034</span>\n",
       "</pre>\n"
      ],
      "text/plain": [
       "\u001b[1;36m9937034\u001b[0m\n"
      ]
     },
     "metadata": {},
     "output_type": "display_data"
    },
    {
     "data": {
      "text/html": [
       "<pre style=\"white-space:pre;overflow-x:auto;line-height:normal;font-family:Menlo,'DejaVu Sans Mono',consolas,'Courier New',monospace\"><span style=\"color: #008080; text-decoration-color: #008080; font-weight: bold\">9937035</span>\n",
       "</pre>\n"
      ],
      "text/plain": [
       "\u001b[1;36m9937035\u001b[0m\n"
      ]
     },
     "metadata": {},
     "output_type": "display_data"
    },
    {
     "data": {
      "text/html": [
       "<pre style=\"white-space:pre;overflow-x:auto;line-height:normal;font-family:Menlo,'DejaVu Sans Mono',consolas,'Courier New',monospace\"><span style=\"color: #008080; text-decoration-color: #008080; font-weight: bold\">9937036</span>\n",
       "</pre>\n"
      ],
      "text/plain": [
       "\u001b[1;36m9937036\u001b[0m\n"
      ]
     },
     "metadata": {},
     "output_type": "display_data"
    },
    {
     "data": {
      "text/html": [
       "<pre style=\"white-space:pre;overflow-x:auto;line-height:normal;font-family:Menlo,'DejaVu Sans Mono',consolas,'Courier New',monospace\"><span style=\"color: #008080; text-decoration-color: #008080; font-weight: bold\">9937037</span>\n",
       "</pre>\n"
      ],
      "text/plain": [
       "\u001b[1;36m9937037\u001b[0m\n"
      ]
     },
     "metadata": {},
     "output_type": "display_data"
    },
    {
     "data": {
      "text/html": [
       "<pre style=\"white-space:pre;overflow-x:auto;line-height:normal;font-family:Menlo,'DejaVu Sans Mono',consolas,'Courier New',monospace\"><span style=\"color: #008080; text-decoration-color: #008080; font-weight: bold\">9937038</span>\n",
       "</pre>\n"
      ],
      "text/plain": [
       "\u001b[1;36m9937038\u001b[0m\n"
      ]
     },
     "metadata": {},
     "output_type": "display_data"
    },
    {
     "data": {
      "text/html": [
       "<pre style=\"white-space:pre;overflow-x:auto;line-height:normal;font-family:Menlo,'DejaVu Sans Mono',consolas,'Courier New',monospace\"><span style=\"color: #008080; text-decoration-color: #008080; font-weight: bold\">9937039</span>\n",
       "</pre>\n"
      ],
      "text/plain": [
       "\u001b[1;36m9937039\u001b[0m\n"
      ]
     },
     "metadata": {},
     "output_type": "display_data"
    },
    {
     "data": {
      "text/html": [
       "<pre style=\"white-space:pre;overflow-x:auto;line-height:normal;font-family:Menlo,'DejaVu Sans Mono',consolas,'Courier New',monospace\"><span style=\"color: #008080; text-decoration-color: #008080; font-weight: bold\">9937040</span>\n",
       "</pre>\n"
      ],
      "text/plain": [
       "\u001b[1;36m9937040\u001b[0m\n"
      ]
     },
     "metadata": {},
     "output_type": "display_data"
    },
    {
     "data": {
      "text/html": [
       "<pre style=\"white-space:pre;overflow-x:auto;line-height:normal;font-family:Menlo,'DejaVu Sans Mono',consolas,'Courier New',monospace\"><span style=\"color: #008080; text-decoration-color: #008080; font-weight: bold\">9937041</span>\n",
       "</pre>\n"
      ],
      "text/plain": [
       "\u001b[1;36m9937041\u001b[0m\n"
      ]
     },
     "metadata": {},
     "output_type": "display_data"
    },
    {
     "data": {
      "text/html": [
       "<pre style=\"white-space:pre;overflow-x:auto;line-height:normal;font-family:Menlo,'DejaVu Sans Mono',consolas,'Courier New',monospace\"><span style=\"color: #008080; text-decoration-color: #008080; font-weight: bold\">9937042</span>\n",
       "</pre>\n"
      ],
      "text/plain": [
       "\u001b[1;36m9937042\u001b[0m\n"
      ]
     },
     "metadata": {},
     "output_type": "display_data"
    },
    {
     "data": {
      "text/html": [
       "<pre style=\"white-space:pre;overflow-x:auto;line-height:normal;font-family:Menlo,'DejaVu Sans Mono',consolas,'Courier New',monospace\"><span style=\"color: #008080; text-decoration-color: #008080; font-weight: bold\">9937043</span>\n",
       "</pre>\n"
      ],
      "text/plain": [
       "\u001b[1;36m9937043\u001b[0m\n"
      ]
     },
     "metadata": {},
     "output_type": "display_data"
    },
    {
     "data": {
      "text/html": [
       "<pre style=\"white-space:pre;overflow-x:auto;line-height:normal;font-family:Menlo,'DejaVu Sans Mono',consolas,'Courier New',monospace\"><span style=\"color: #008080; text-decoration-color: #008080; font-weight: bold\">9937044</span>\n",
       "</pre>\n"
      ],
      "text/plain": [
       "\u001b[1;36m9937044\u001b[0m\n"
      ]
     },
     "metadata": {},
     "output_type": "display_data"
    },
    {
     "data": {
      "text/html": [
       "<pre style=\"white-space:pre;overflow-x:auto;line-height:normal;font-family:Menlo,'DejaVu Sans Mono',consolas,'Courier New',monospace\"><span style=\"color: #008080; text-decoration-color: #008080; font-weight: bold\">9937045</span>\n",
       "</pre>\n"
      ],
      "text/plain": [
       "\u001b[1;36m9937045\u001b[0m\n"
      ]
     },
     "metadata": {},
     "output_type": "display_data"
    },
    {
     "data": {
      "text/html": [
       "<pre style=\"white-space:pre;overflow-x:auto;line-height:normal;font-family:Menlo,'DejaVu Sans Mono',consolas,'Courier New',monospace\"><span style=\"color: #008080; text-decoration-color: #008080; font-weight: bold\">9937046</span>\n",
       "</pre>\n"
      ],
      "text/plain": [
       "\u001b[1;36m9937046\u001b[0m\n"
      ]
     },
     "metadata": {},
     "output_type": "display_data"
    },
    {
     "data": {
      "text/html": [
       "<pre style=\"white-space:pre;overflow-x:auto;line-height:normal;font-family:Menlo,'DejaVu Sans Mono',consolas,'Courier New',monospace\"><span style=\"color: #008080; text-decoration-color: #008080; font-weight: bold\">9937047</span>\n",
       "</pre>\n"
      ],
      "text/plain": [
       "\u001b[1;36m9937047\u001b[0m\n"
      ]
     },
     "metadata": {},
     "output_type": "display_data"
    },
    {
     "data": {
      "text/html": [
       "<pre style=\"white-space:pre;overflow-x:auto;line-height:normal;font-family:Menlo,'DejaVu Sans Mono',consolas,'Courier New',monospace\"><span style=\"color: #008080; text-decoration-color: #008080; font-weight: bold\">9937048</span>\n",
       "</pre>\n"
      ],
      "text/plain": [
       "\u001b[1;36m9937048\u001b[0m\n"
      ]
     },
     "metadata": {},
     "output_type": "display_data"
    },
    {
     "data": {
      "text/html": [
       "<pre style=\"white-space:pre;overflow-x:auto;line-height:normal;font-family:Menlo,'DejaVu Sans Mono',consolas,'Courier New',monospace\"><span style=\"color: #008080; text-decoration-color: #008080; font-weight: bold\">9937049</span>\n",
       "</pre>\n"
      ],
      "text/plain": [
       "\u001b[1;36m9937049\u001b[0m\n"
      ]
     },
     "metadata": {},
     "output_type": "display_data"
    },
    {
     "data": {
      "text/html": [
       "<pre style=\"white-space:pre;overflow-x:auto;line-height:normal;font-family:Menlo,'DejaVu Sans Mono',consolas,'Courier New',monospace\"><span style=\"color: #008080; text-decoration-color: #008080; font-weight: bold\">9937050</span>\n",
       "</pre>\n"
      ],
      "text/plain": [
       "\u001b[1;36m9937050\u001b[0m\n"
      ]
     },
     "metadata": {},
     "output_type": "display_data"
    },
    {
     "data": {
      "text/html": [
       "<pre style=\"white-space:pre;overflow-x:auto;line-height:normal;font-family:Menlo,'DejaVu Sans Mono',consolas,'Courier New',monospace\"><span style=\"color: #008080; text-decoration-color: #008080; font-weight: bold\">9937051</span>\n",
       "</pre>\n"
      ],
      "text/plain": [
       "\u001b[1;36m9937051\u001b[0m\n"
      ]
     },
     "metadata": {},
     "output_type": "display_data"
    },
    {
     "data": {
      "text/html": [
       "<pre style=\"white-space:pre;overflow-x:auto;line-height:normal;font-family:Menlo,'DejaVu Sans Mono',consolas,'Courier New',monospace\"><span style=\"color: #008080; text-decoration-color: #008080; font-weight: bold\">9937052</span>\n",
       "</pre>\n"
      ],
      "text/plain": [
       "\u001b[1;36m9937052\u001b[0m\n"
      ]
     },
     "metadata": {},
     "output_type": "display_data"
    },
    {
     "data": {
      "text/html": [
       "<pre style=\"white-space:pre;overflow-x:auto;line-height:normal;font-family:Menlo,'DejaVu Sans Mono',consolas,'Courier New',monospace\"><span style=\"color: #008080; text-decoration-color: #008080; font-weight: bold\">9937053</span>\n",
       "</pre>\n"
      ],
      "text/plain": [
       "\u001b[1;36m9937053\u001b[0m\n"
      ]
     },
     "metadata": {},
     "output_type": "display_data"
    },
    {
     "data": {
      "text/html": [
       "<pre style=\"white-space:pre;overflow-x:auto;line-height:normal;font-family:Menlo,'DejaVu Sans Mono',consolas,'Courier New',monospace\"><span style=\"color: #008080; text-decoration-color: #008080; font-weight: bold\">9937054</span>\n",
       "</pre>\n"
      ],
      "text/plain": [
       "\u001b[1;36m9937054\u001b[0m\n"
      ]
     },
     "metadata": {},
     "output_type": "display_data"
    },
    {
     "data": {
      "text/html": [
       "<pre style=\"white-space:pre;overflow-x:auto;line-height:normal;font-family:Menlo,'DejaVu Sans Mono',consolas,'Courier New',monospace\"><span style=\"color: #008080; text-decoration-color: #008080; font-weight: bold\">9937055</span>\n",
       "</pre>\n"
      ],
      "text/plain": [
       "\u001b[1;36m9937055\u001b[0m\n"
      ]
     },
     "metadata": {},
     "output_type": "display_data"
    },
    {
     "data": {
      "text/html": [
       "<pre style=\"white-space:pre;overflow-x:auto;line-height:normal;font-family:Menlo,'DejaVu Sans Mono',consolas,'Courier New',monospace\"><span style=\"color: #008080; text-decoration-color: #008080; font-weight: bold\">9937056</span>\n",
       "</pre>\n"
      ],
      "text/plain": [
       "\u001b[1;36m9937056\u001b[0m\n"
      ]
     },
     "metadata": {},
     "output_type": "display_data"
    },
    {
     "data": {
      "text/html": [
       "<pre style=\"white-space:pre;overflow-x:auto;line-height:normal;font-family:Menlo,'DejaVu Sans Mono',consolas,'Courier New',monospace\"><span style=\"color: #008080; text-decoration-color: #008080; font-weight: bold\">9937057</span>\n",
       "</pre>\n"
      ],
      "text/plain": [
       "\u001b[1;36m9937057\u001b[0m\n"
      ]
     },
     "metadata": {},
     "output_type": "display_data"
    },
    {
     "data": {
      "text/html": [
       "<pre style=\"white-space:pre;overflow-x:auto;line-height:normal;font-family:Menlo,'DejaVu Sans Mono',consolas,'Courier New',monospace\"><span style=\"color: #008080; text-decoration-color: #008080; font-weight: bold\">9937058</span>\n",
       "</pre>\n"
      ],
      "text/plain": [
       "\u001b[1;36m9937058\u001b[0m\n"
      ]
     },
     "metadata": {},
     "output_type": "display_data"
    },
    {
     "data": {
      "text/html": [
       "<pre style=\"white-space:pre;overflow-x:auto;line-height:normal;font-family:Menlo,'DejaVu Sans Mono',consolas,'Courier New',monospace\"><span style=\"color: #008080; text-decoration-color: #008080; font-weight: bold\">9937059</span>\n",
       "</pre>\n"
      ],
      "text/plain": [
       "\u001b[1;36m9937059\u001b[0m\n"
      ]
     },
     "metadata": {},
     "output_type": "display_data"
    },
    {
     "data": {
      "text/html": [
       "<pre style=\"white-space:pre;overflow-x:auto;line-height:normal;font-family:Menlo,'DejaVu Sans Mono',consolas,'Courier New',monospace\"><span style=\"color: #008080; text-decoration-color: #008080; font-weight: bold\">9937060</span>\n",
       "</pre>\n"
      ],
      "text/plain": [
       "\u001b[1;36m9937060\u001b[0m\n"
      ]
     },
     "metadata": {},
     "output_type": "display_data"
    },
    {
     "data": {
      "text/html": [
       "<pre style=\"white-space:pre;overflow-x:auto;line-height:normal;font-family:Menlo,'DejaVu Sans Mono',consolas,'Courier New',monospace\"><span style=\"color: #008080; text-decoration-color: #008080; font-weight: bold\">9937061</span>\n",
       "</pre>\n"
      ],
      "text/plain": [
       "\u001b[1;36m9937061\u001b[0m\n"
      ]
     },
     "metadata": {},
     "output_type": "display_data"
    },
    {
     "data": {
      "text/html": [
       "<pre style=\"white-space:pre;overflow-x:auto;line-height:normal;font-family:Menlo,'DejaVu Sans Mono',consolas,'Courier New',monospace\"><span style=\"color: #008080; text-decoration-color: #008080; font-weight: bold\">9937062</span>\n",
       "</pre>\n"
      ],
      "text/plain": [
       "\u001b[1;36m9937062\u001b[0m\n"
      ]
     },
     "metadata": {},
     "output_type": "display_data"
    },
    {
     "data": {
      "text/html": [
       "<pre style=\"white-space:pre;overflow-x:auto;line-height:normal;font-family:Menlo,'DejaVu Sans Mono',consolas,'Courier New',monospace\"><span style=\"color: #008080; text-decoration-color: #008080; font-weight: bold\">9937063</span>\n",
       "</pre>\n"
      ],
      "text/plain": [
       "\u001b[1;36m9937063\u001b[0m\n"
      ]
     },
     "metadata": {},
     "output_type": "display_data"
    },
    {
     "data": {
      "text/html": [
       "<pre style=\"white-space:pre;overflow-x:auto;line-height:normal;font-family:Menlo,'DejaVu Sans Mono',consolas,'Courier New',monospace\"><span style=\"color: #008080; text-decoration-color: #008080; font-weight: bold\">9937064</span>\n",
       "</pre>\n"
      ],
      "text/plain": [
       "\u001b[1;36m9937064\u001b[0m\n"
      ]
     },
     "metadata": {},
     "output_type": "display_data"
    },
    {
     "data": {
      "text/html": [
       "<pre style=\"white-space:pre;overflow-x:auto;line-height:normal;font-family:Menlo,'DejaVu Sans Mono',consolas,'Courier New',monospace\"><span style=\"color: #008080; text-decoration-color: #008080; font-weight: bold\">9937065</span>\n",
       "</pre>\n"
      ],
      "text/plain": [
       "\u001b[1;36m9937065\u001b[0m\n"
      ]
     },
     "metadata": {},
     "output_type": "display_data"
    },
    {
     "data": {
      "text/html": [
       "<pre style=\"white-space:pre;overflow-x:auto;line-height:normal;font-family:Menlo,'DejaVu Sans Mono',consolas,'Courier New',monospace\"><span style=\"color: #008080; text-decoration-color: #008080; font-weight: bold\">9937066</span>\n",
       "</pre>\n"
      ],
      "text/plain": [
       "\u001b[1;36m9937066\u001b[0m\n"
      ]
     },
     "metadata": {},
     "output_type": "display_data"
    },
    {
     "data": {
      "text/html": [
       "<pre style=\"white-space:pre;overflow-x:auto;line-height:normal;font-family:Menlo,'DejaVu Sans Mono',consolas,'Courier New',monospace\"><span style=\"color: #008080; text-decoration-color: #008080; font-weight: bold\">9937067</span>\n",
       "</pre>\n"
      ],
      "text/plain": [
       "\u001b[1;36m9937067\u001b[0m\n"
      ]
     },
     "metadata": {},
     "output_type": "display_data"
    },
    {
     "data": {
      "text/html": [
       "<pre style=\"white-space:pre;overflow-x:auto;line-height:normal;font-family:Menlo,'DejaVu Sans Mono',consolas,'Courier New',monospace\"><span style=\"color: #008080; text-decoration-color: #008080; font-weight: bold\">9937068</span>\n",
       "</pre>\n"
      ],
      "text/plain": [
       "\u001b[1;36m9937068\u001b[0m\n"
      ]
     },
     "metadata": {},
     "output_type": "display_data"
    },
    {
     "data": {
      "text/html": [
       "<pre style=\"white-space:pre;overflow-x:auto;line-height:normal;font-family:Menlo,'DejaVu Sans Mono',consolas,'Courier New',monospace\"><span style=\"color: #008080; text-decoration-color: #008080; font-weight: bold\">9937069</span>\n",
       "</pre>\n"
      ],
      "text/plain": [
       "\u001b[1;36m9937069\u001b[0m\n"
      ]
     },
     "metadata": {},
     "output_type": "display_data"
    },
    {
     "data": {
      "text/html": [
       "<pre style=\"white-space:pre;overflow-x:auto;line-height:normal;font-family:Menlo,'DejaVu Sans Mono',consolas,'Courier New',monospace\"><span style=\"color: #008080; text-decoration-color: #008080; font-weight: bold\">9937070</span>\n",
       "</pre>\n"
      ],
      "text/plain": [
       "\u001b[1;36m9937070\u001b[0m\n"
      ]
     },
     "metadata": {},
     "output_type": "display_data"
    },
    {
     "data": {
      "text/html": [
       "<pre style=\"white-space:pre;overflow-x:auto;line-height:normal;font-family:Menlo,'DejaVu Sans Mono',consolas,'Courier New',monospace\"><span style=\"color: #008080; text-decoration-color: #008080; font-weight: bold\">9937071</span>\n",
       "</pre>\n"
      ],
      "text/plain": [
       "\u001b[1;36m9937071\u001b[0m\n"
      ]
     },
     "metadata": {},
     "output_type": "display_data"
    },
    {
     "data": {
      "text/html": [
       "<pre style=\"white-space:pre;overflow-x:auto;line-height:normal;font-family:Menlo,'DejaVu Sans Mono',consolas,'Courier New',monospace\"><span style=\"color: #008080; text-decoration-color: #008080; font-weight: bold\">9937072</span>\n",
       "</pre>\n"
      ],
      "text/plain": [
       "\u001b[1;36m9937072\u001b[0m\n"
      ]
     },
     "metadata": {},
     "output_type": "display_data"
    },
    {
     "data": {
      "text/html": [
       "<pre style=\"white-space:pre;overflow-x:auto;line-height:normal;font-family:Menlo,'DejaVu Sans Mono',consolas,'Courier New',monospace\"><span style=\"color: #008080; text-decoration-color: #008080; font-weight: bold\">9937073</span>\n",
       "</pre>\n"
      ],
      "text/plain": [
       "\u001b[1;36m9937073\u001b[0m\n"
      ]
     },
     "metadata": {},
     "output_type": "display_data"
    },
    {
     "data": {
      "text/html": [
       "<pre style=\"white-space:pre;overflow-x:auto;line-height:normal;font-family:Menlo,'DejaVu Sans Mono',consolas,'Courier New',monospace\"><span style=\"color: #008080; text-decoration-color: #008080; font-weight: bold\">9937074</span>\n",
       "</pre>\n"
      ],
      "text/plain": [
       "\u001b[1;36m9937074\u001b[0m\n"
      ]
     },
     "metadata": {},
     "output_type": "display_data"
    },
    {
     "data": {
      "text/html": [
       "<pre style=\"white-space:pre;overflow-x:auto;line-height:normal;font-family:Menlo,'DejaVu Sans Mono',consolas,'Courier New',monospace\"><span style=\"color: #008080; text-decoration-color: #008080; font-weight: bold\">9937075</span>\n",
       "</pre>\n"
      ],
      "text/plain": [
       "\u001b[1;36m9937075\u001b[0m\n"
      ]
     },
     "metadata": {},
     "output_type": "display_data"
    },
    {
     "data": {
      "text/html": [
       "<pre style=\"white-space:pre;overflow-x:auto;line-height:normal;font-family:Menlo,'DejaVu Sans Mono',consolas,'Courier New',monospace\"><span style=\"color: #008080; text-decoration-color: #008080; font-weight: bold\">9937076</span>\n",
       "</pre>\n"
      ],
      "text/plain": [
       "\u001b[1;36m9937076\u001b[0m\n"
      ]
     },
     "metadata": {},
     "output_type": "display_data"
    },
    {
     "data": {
      "text/html": [
       "<pre style=\"white-space:pre;overflow-x:auto;line-height:normal;font-family:Menlo,'DejaVu Sans Mono',consolas,'Courier New',monospace\"><span style=\"color: #008080; text-decoration-color: #008080; font-weight: bold\">9937077</span>\n",
       "</pre>\n"
      ],
      "text/plain": [
       "\u001b[1;36m9937077\u001b[0m\n"
      ]
     },
     "metadata": {},
     "output_type": "display_data"
    },
    {
     "data": {
      "text/html": [
       "<pre style=\"white-space:pre;overflow-x:auto;line-height:normal;font-family:Menlo,'DejaVu Sans Mono',consolas,'Courier New',monospace\"><span style=\"color: #008080; text-decoration-color: #008080; font-weight: bold\">9937078</span>\n",
       "</pre>\n"
      ],
      "text/plain": [
       "\u001b[1;36m9937078\u001b[0m\n"
      ]
     },
     "metadata": {},
     "output_type": "display_data"
    },
    {
     "data": {
      "text/html": [
       "<pre style=\"white-space:pre;overflow-x:auto;line-height:normal;font-family:Menlo,'DejaVu Sans Mono',consolas,'Courier New',monospace\"><span style=\"color: #008080; text-decoration-color: #008080; font-weight: bold\">9937079</span>\n",
       "</pre>\n"
      ],
      "text/plain": [
       "\u001b[1;36m9937079\u001b[0m\n"
      ]
     },
     "metadata": {},
     "output_type": "display_data"
    },
    {
     "data": {
      "text/html": [
       "<pre style=\"white-space:pre;overflow-x:auto;line-height:normal;font-family:Menlo,'DejaVu Sans Mono',consolas,'Courier New',monospace\"><span style=\"color: #008080; text-decoration-color: #008080; font-weight: bold\">9937080</span>\n",
       "</pre>\n"
      ],
      "text/plain": [
       "\u001b[1;36m9937080\u001b[0m\n"
      ]
     },
     "metadata": {},
     "output_type": "display_data"
    },
    {
     "data": {
      "text/html": [
       "<pre style=\"white-space:pre;overflow-x:auto;line-height:normal;font-family:Menlo,'DejaVu Sans Mono',consolas,'Courier New',monospace\"><span style=\"color: #008080; text-decoration-color: #008080; font-weight: bold\">9937081</span>\n",
       "</pre>\n"
      ],
      "text/plain": [
       "\u001b[1;36m9937081\u001b[0m\n"
      ]
     },
     "metadata": {},
     "output_type": "display_data"
    },
    {
     "data": {
      "text/html": [
       "<pre style=\"white-space:pre;overflow-x:auto;line-height:normal;font-family:Menlo,'DejaVu Sans Mono',consolas,'Courier New',monospace\"><span style=\"color: #008080; text-decoration-color: #008080; font-weight: bold\">9937082</span>\n",
       "</pre>\n"
      ],
      "text/plain": [
       "\u001b[1;36m9937082\u001b[0m\n"
      ]
     },
     "metadata": {},
     "output_type": "display_data"
    },
    {
     "data": {
      "text/html": [
       "<pre style=\"white-space:pre;overflow-x:auto;line-height:normal;font-family:Menlo,'DejaVu Sans Mono',consolas,'Courier New',monospace\"><span style=\"color: #008080; text-decoration-color: #008080; font-weight: bold\">9937083</span>\n",
       "</pre>\n"
      ],
      "text/plain": [
       "\u001b[1;36m9937083\u001b[0m\n"
      ]
     },
     "metadata": {},
     "output_type": "display_data"
    },
    {
     "data": {
      "text/html": [
       "<pre style=\"white-space:pre;overflow-x:auto;line-height:normal;font-family:Menlo,'DejaVu Sans Mono',consolas,'Courier New',monospace\"><span style=\"color: #008080; text-decoration-color: #008080; font-weight: bold\">9937084</span>\n",
       "</pre>\n"
      ],
      "text/plain": [
       "\u001b[1;36m9937084\u001b[0m\n"
      ]
     },
     "metadata": {},
     "output_type": "display_data"
    },
    {
     "data": {
      "text/html": [
       "<pre style=\"white-space:pre;overflow-x:auto;line-height:normal;font-family:Menlo,'DejaVu Sans Mono',consolas,'Courier New',monospace\"><span style=\"color: #008080; text-decoration-color: #008080; font-weight: bold\">9937085</span>\n",
       "</pre>\n"
      ],
      "text/plain": [
       "\u001b[1;36m9937085\u001b[0m\n"
      ]
     },
     "metadata": {},
     "output_type": "display_data"
    },
    {
     "data": {
      "text/html": [
       "<pre style=\"white-space:pre;overflow-x:auto;line-height:normal;font-family:Menlo,'DejaVu Sans Mono',consolas,'Courier New',monospace\"><span style=\"color: #008080; text-decoration-color: #008080; font-weight: bold\">9937086</span>\n",
       "</pre>\n"
      ],
      "text/plain": [
       "\u001b[1;36m9937086\u001b[0m\n"
      ]
     },
     "metadata": {},
     "output_type": "display_data"
    },
    {
     "data": {
      "text/html": [
       "<pre style=\"white-space:pre;overflow-x:auto;line-height:normal;font-family:Menlo,'DejaVu Sans Mono',consolas,'Courier New',monospace\"><span style=\"color: #008080; text-decoration-color: #008080; font-weight: bold\">9937087</span>\n",
       "</pre>\n"
      ],
      "text/plain": [
       "\u001b[1;36m9937087\u001b[0m\n"
      ]
     },
     "metadata": {},
     "output_type": "display_data"
    },
    {
     "data": {
      "text/html": [
       "<pre style=\"white-space:pre;overflow-x:auto;line-height:normal;font-family:Menlo,'DejaVu Sans Mono',consolas,'Courier New',monospace\"><span style=\"color: #008080; text-decoration-color: #008080; font-weight: bold\">9937088</span>\n",
       "</pre>\n"
      ],
      "text/plain": [
       "\u001b[1;36m9937088\u001b[0m\n"
      ]
     },
     "metadata": {},
     "output_type": "display_data"
    },
    {
     "data": {
      "text/html": [
       "<pre style=\"white-space:pre;overflow-x:auto;line-height:normal;font-family:Menlo,'DejaVu Sans Mono',consolas,'Courier New',monospace\"><span style=\"color: #008080; text-decoration-color: #008080; font-weight: bold\">9937089</span>\n",
       "</pre>\n"
      ],
      "text/plain": [
       "\u001b[1;36m9937089\u001b[0m\n"
      ]
     },
     "metadata": {},
     "output_type": "display_data"
    },
    {
     "data": {
      "text/html": [
       "<pre style=\"white-space:pre;overflow-x:auto;line-height:normal;font-family:Menlo,'DejaVu Sans Mono',consolas,'Courier New',monospace\"><span style=\"color: #008080; text-decoration-color: #008080; font-weight: bold\">9937090</span>\n",
       "</pre>\n"
      ],
      "text/plain": [
       "\u001b[1;36m9937090\u001b[0m\n"
      ]
     },
     "metadata": {},
     "output_type": "display_data"
    },
    {
     "data": {
      "text/html": [
       "<pre style=\"white-space:pre;overflow-x:auto;line-height:normal;font-family:Menlo,'DejaVu Sans Mono',consolas,'Courier New',monospace\"><span style=\"color: #008080; text-decoration-color: #008080; font-weight: bold\">9937091</span>\n",
       "</pre>\n"
      ],
      "text/plain": [
       "\u001b[1;36m9937091\u001b[0m\n"
      ]
     },
     "metadata": {},
     "output_type": "display_data"
    },
    {
     "data": {
      "text/html": [
       "<pre style=\"white-space:pre;overflow-x:auto;line-height:normal;font-family:Menlo,'DejaVu Sans Mono',consolas,'Courier New',monospace\"><span style=\"color: #008080; text-decoration-color: #008080; font-weight: bold\">9937092</span>\n",
       "</pre>\n"
      ],
      "text/plain": [
       "\u001b[1;36m9937092\u001b[0m\n"
      ]
     },
     "metadata": {},
     "output_type": "display_data"
    },
    {
     "data": {
      "text/html": [
       "<pre style=\"white-space:pre;overflow-x:auto;line-height:normal;font-family:Menlo,'DejaVu Sans Mono',consolas,'Courier New',monospace\"><span style=\"color: #008080; text-decoration-color: #008080; font-weight: bold\">9937093</span>\n",
       "</pre>\n"
      ],
      "text/plain": [
       "\u001b[1;36m9937093\u001b[0m\n"
      ]
     },
     "metadata": {},
     "output_type": "display_data"
    },
    {
     "data": {
      "text/html": [
       "<pre style=\"white-space:pre;overflow-x:auto;line-height:normal;font-family:Menlo,'DejaVu Sans Mono',consolas,'Courier New',monospace\"><span style=\"color: #008080; text-decoration-color: #008080; font-weight: bold\">9937094</span>\n",
       "</pre>\n"
      ],
      "text/plain": [
       "\u001b[1;36m9937094\u001b[0m\n"
      ]
     },
     "metadata": {},
     "output_type": "display_data"
    },
    {
     "data": {
      "text/html": [
       "<pre style=\"white-space:pre;overflow-x:auto;line-height:normal;font-family:Menlo,'DejaVu Sans Mono',consolas,'Courier New',monospace\"><span style=\"color: #008080; text-decoration-color: #008080; font-weight: bold\">9937095</span>\n",
       "</pre>\n"
      ],
      "text/plain": [
       "\u001b[1;36m9937095\u001b[0m\n"
      ]
     },
     "metadata": {},
     "output_type": "display_data"
    },
    {
     "data": {
      "text/html": [
       "<pre style=\"white-space:pre;overflow-x:auto;line-height:normal;font-family:Menlo,'DejaVu Sans Mono',consolas,'Courier New',monospace\"><span style=\"color: #008080; text-decoration-color: #008080; font-weight: bold\">9937096</span>\n",
       "</pre>\n"
      ],
      "text/plain": [
       "\u001b[1;36m9937096\u001b[0m\n"
      ]
     },
     "metadata": {},
     "output_type": "display_data"
    },
    {
     "data": {
      "text/html": [
       "<pre style=\"white-space:pre;overflow-x:auto;line-height:normal;font-family:Menlo,'DejaVu Sans Mono',consolas,'Courier New',monospace\"><span style=\"color: #008080; text-decoration-color: #008080; font-weight: bold\">9937097</span>\n",
       "</pre>\n"
      ],
      "text/plain": [
       "\u001b[1;36m9937097\u001b[0m\n"
      ]
     },
     "metadata": {},
     "output_type": "display_data"
    },
    {
     "data": {
      "text/html": [
       "<pre style=\"white-space:pre;overflow-x:auto;line-height:normal;font-family:Menlo,'DejaVu Sans Mono',consolas,'Courier New',monospace\"><span style=\"color: #008080; text-decoration-color: #008080; font-weight: bold\">9937098</span>\n",
       "</pre>\n"
      ],
      "text/plain": [
       "\u001b[1;36m9937098\u001b[0m\n"
      ]
     },
     "metadata": {},
     "output_type": "display_data"
    },
    {
     "data": {
      "text/html": [
       "<pre style=\"white-space:pre;overflow-x:auto;line-height:normal;font-family:Menlo,'DejaVu Sans Mono',consolas,'Courier New',monospace\"><span style=\"color: #008080; text-decoration-color: #008080; font-weight: bold\">9937099</span>\n",
       "</pre>\n"
      ],
      "text/plain": [
       "\u001b[1;36m9937099\u001b[0m\n"
      ]
     },
     "metadata": {},
     "output_type": "display_data"
    },
    {
     "data": {
      "text/html": [
       "<pre style=\"white-space:pre;overflow-x:auto;line-height:normal;font-family:Menlo,'DejaVu Sans Mono',consolas,'Courier New',monospace\"><span style=\"color: #008080; text-decoration-color: #008080; font-weight: bold\">9937100</span>\n",
       "</pre>\n"
      ],
      "text/plain": [
       "\u001b[1;36m9937100\u001b[0m\n"
      ]
     },
     "metadata": {},
     "output_type": "display_data"
    },
    {
     "data": {
      "text/html": [
       "<pre style=\"white-space:pre;overflow-x:auto;line-height:normal;font-family:Menlo,'DejaVu Sans Mono',consolas,'Courier New',monospace\"><span style=\"color: #008080; text-decoration-color: #008080; font-weight: bold\">9937101</span>\n",
       "</pre>\n"
      ],
      "text/plain": [
       "\u001b[1;36m9937101\u001b[0m\n"
      ]
     },
     "metadata": {},
     "output_type": "display_data"
    },
    {
     "data": {
      "text/html": [
       "<pre style=\"white-space:pre;overflow-x:auto;line-height:normal;font-family:Menlo,'DejaVu Sans Mono',consolas,'Courier New',monospace\"><span style=\"color: #008080; text-decoration-color: #008080; font-weight: bold\">9937102</span>\n",
       "</pre>\n"
      ],
      "text/plain": [
       "\u001b[1;36m9937102\u001b[0m\n"
      ]
     },
     "metadata": {},
     "output_type": "display_data"
    },
    {
     "data": {
      "text/html": [
       "<pre style=\"white-space:pre;overflow-x:auto;line-height:normal;font-family:Menlo,'DejaVu Sans Mono',consolas,'Courier New',monospace\"><span style=\"color: #008080; text-decoration-color: #008080; font-weight: bold\">9937103</span>\n",
       "</pre>\n"
      ],
      "text/plain": [
       "\u001b[1;36m9937103\u001b[0m\n"
      ]
     },
     "metadata": {},
     "output_type": "display_data"
    },
    {
     "data": {
      "text/html": [
       "<pre style=\"white-space:pre;overflow-x:auto;line-height:normal;font-family:Menlo,'DejaVu Sans Mono',consolas,'Courier New',monospace\"><span style=\"color: #008080; text-decoration-color: #008080; font-weight: bold\">9937104</span>\n",
       "</pre>\n"
      ],
      "text/plain": [
       "\u001b[1;36m9937104\u001b[0m\n"
      ]
     },
     "metadata": {},
     "output_type": "display_data"
    },
    {
     "data": {
      "text/html": [
       "<pre style=\"white-space:pre;overflow-x:auto;line-height:normal;font-family:Menlo,'DejaVu Sans Mono',consolas,'Courier New',monospace\"><span style=\"color: #008080; text-decoration-color: #008080; font-weight: bold\">9937105</span>\n",
       "</pre>\n"
      ],
      "text/plain": [
       "\u001b[1;36m9937105\u001b[0m\n"
      ]
     },
     "metadata": {},
     "output_type": "display_data"
    },
    {
     "data": {
      "text/html": [
       "<pre style=\"white-space:pre;overflow-x:auto;line-height:normal;font-family:Menlo,'DejaVu Sans Mono',consolas,'Courier New',monospace\"><span style=\"color: #008080; text-decoration-color: #008080; font-weight: bold\">9937106</span>\n",
       "</pre>\n"
      ],
      "text/plain": [
       "\u001b[1;36m9937106\u001b[0m\n"
      ]
     },
     "metadata": {},
     "output_type": "display_data"
    },
    {
     "data": {
      "text/html": [
       "<pre style=\"white-space:pre;overflow-x:auto;line-height:normal;font-family:Menlo,'DejaVu Sans Mono',consolas,'Courier New',monospace\"><span style=\"color: #008080; text-decoration-color: #008080; font-weight: bold\">9937107</span>\n",
       "</pre>\n"
      ],
      "text/plain": [
       "\u001b[1;36m9937107\u001b[0m\n"
      ]
     },
     "metadata": {},
     "output_type": "display_data"
    },
    {
     "data": {
      "text/html": [
       "<pre style=\"white-space:pre;overflow-x:auto;line-height:normal;font-family:Menlo,'DejaVu Sans Mono',consolas,'Courier New',monospace\"><span style=\"color: #008080; text-decoration-color: #008080; font-weight: bold\">9937108</span>\n",
       "</pre>\n"
      ],
      "text/plain": [
       "\u001b[1;36m9937108\u001b[0m\n"
      ]
     },
     "metadata": {},
     "output_type": "display_data"
    },
    {
     "data": {
      "text/html": [
       "<pre style=\"white-space:pre;overflow-x:auto;line-height:normal;font-family:Menlo,'DejaVu Sans Mono',consolas,'Courier New',monospace\"><span style=\"color: #008080; text-decoration-color: #008080; font-weight: bold\">9937109</span>\n",
       "</pre>\n"
      ],
      "text/plain": [
       "\u001b[1;36m9937109\u001b[0m\n"
      ]
     },
     "metadata": {},
     "output_type": "display_data"
    },
    {
     "data": {
      "text/html": [
       "<pre style=\"white-space:pre;overflow-x:auto;line-height:normal;font-family:Menlo,'DejaVu Sans Mono',consolas,'Courier New',monospace\"><span style=\"color: #008080; text-decoration-color: #008080; font-weight: bold\">9937110</span>\n",
       "</pre>\n"
      ],
      "text/plain": [
       "\u001b[1;36m9937110\u001b[0m\n"
      ]
     },
     "metadata": {},
     "output_type": "display_data"
    },
    {
     "data": {
      "text/html": [
       "<pre style=\"white-space:pre;overflow-x:auto;line-height:normal;font-family:Menlo,'DejaVu Sans Mono',consolas,'Courier New',monospace\"><span style=\"color: #008080; text-decoration-color: #008080; font-weight: bold\">9937111</span>\n",
       "</pre>\n"
      ],
      "text/plain": [
       "\u001b[1;36m9937111\u001b[0m\n"
      ]
     },
     "metadata": {},
     "output_type": "display_data"
    },
    {
     "data": {
      "text/html": [
       "<pre style=\"white-space:pre;overflow-x:auto;line-height:normal;font-family:Menlo,'DejaVu Sans Mono',consolas,'Courier New',monospace\"><span style=\"color: #008080; text-decoration-color: #008080; font-weight: bold\">9937112</span>\n",
       "</pre>\n"
      ],
      "text/plain": [
       "\u001b[1;36m9937112\u001b[0m\n"
      ]
     },
     "metadata": {},
     "output_type": "display_data"
    },
    {
     "data": {
      "text/html": [
       "<pre style=\"white-space:pre;overflow-x:auto;line-height:normal;font-family:Menlo,'DejaVu Sans Mono',consolas,'Courier New',monospace\"><span style=\"color: #008080; text-decoration-color: #008080; font-weight: bold\">9937113</span>\n",
       "</pre>\n"
      ],
      "text/plain": [
       "\u001b[1;36m9937113\u001b[0m\n"
      ]
     },
     "metadata": {},
     "output_type": "display_data"
    },
    {
     "data": {
      "text/html": [
       "<pre style=\"white-space:pre;overflow-x:auto;line-height:normal;font-family:Menlo,'DejaVu Sans Mono',consolas,'Courier New',monospace\"><span style=\"color: #008080; text-decoration-color: #008080; font-weight: bold\">9937114</span>\n",
       "</pre>\n"
      ],
      "text/plain": [
       "\u001b[1;36m9937114\u001b[0m\n"
      ]
     },
     "metadata": {},
     "output_type": "display_data"
    },
    {
     "data": {
      "text/html": [
       "<pre style=\"white-space:pre;overflow-x:auto;line-height:normal;font-family:Menlo,'DejaVu Sans Mono',consolas,'Courier New',monospace\"><span style=\"color: #008080; text-decoration-color: #008080; font-weight: bold\">9937115</span>\n",
       "</pre>\n"
      ],
      "text/plain": [
       "\u001b[1;36m9937115\u001b[0m\n"
      ]
     },
     "metadata": {},
     "output_type": "display_data"
    },
    {
     "data": {
      "text/html": [
       "<pre style=\"white-space:pre;overflow-x:auto;line-height:normal;font-family:Menlo,'DejaVu Sans Mono',consolas,'Courier New',monospace\"><span style=\"color: #008080; text-decoration-color: #008080; font-weight: bold\">9937116</span>\n",
       "</pre>\n"
      ],
      "text/plain": [
       "\u001b[1;36m9937116\u001b[0m\n"
      ]
     },
     "metadata": {},
     "output_type": "display_data"
    },
    {
     "data": {
      "text/html": [
       "<pre style=\"white-space:pre;overflow-x:auto;line-height:normal;font-family:Menlo,'DejaVu Sans Mono',consolas,'Courier New',monospace\"><span style=\"color: #008080; text-decoration-color: #008080; font-weight: bold\">9937117</span>\n",
       "</pre>\n"
      ],
      "text/plain": [
       "\u001b[1;36m9937117\u001b[0m\n"
      ]
     },
     "metadata": {},
     "output_type": "display_data"
    },
    {
     "data": {
      "text/html": [
       "<pre style=\"white-space:pre;overflow-x:auto;line-height:normal;font-family:Menlo,'DejaVu Sans Mono',consolas,'Courier New',monospace\"><span style=\"color: #008080; text-decoration-color: #008080; font-weight: bold\">9937118</span>\n",
       "</pre>\n"
      ],
      "text/plain": [
       "\u001b[1;36m9937118\u001b[0m\n"
      ]
     },
     "metadata": {},
     "output_type": "display_data"
    },
    {
     "data": {
      "text/html": [
       "<pre style=\"white-space:pre;overflow-x:auto;line-height:normal;font-family:Menlo,'DejaVu Sans Mono',consolas,'Courier New',monospace\"><span style=\"color: #008080; text-decoration-color: #008080; font-weight: bold\">9937119</span>\n",
       "</pre>\n"
      ],
      "text/plain": [
       "\u001b[1;36m9937119\u001b[0m\n"
      ]
     },
     "metadata": {},
     "output_type": "display_data"
    },
    {
     "data": {
      "text/html": [
       "<pre style=\"white-space:pre;overflow-x:auto;line-height:normal;font-family:Menlo,'DejaVu Sans Mono',consolas,'Courier New',monospace\"><span style=\"color: #008080; text-decoration-color: #008080; font-weight: bold\">9937120</span>\n",
       "</pre>\n"
      ],
      "text/plain": [
       "\u001b[1;36m9937120\u001b[0m\n"
      ]
     },
     "metadata": {},
     "output_type": "display_data"
    },
    {
     "data": {
      "text/html": [
       "<pre style=\"white-space:pre;overflow-x:auto;line-height:normal;font-family:Menlo,'DejaVu Sans Mono',consolas,'Courier New',monospace\"><span style=\"color: #008080; text-decoration-color: #008080; font-weight: bold\">9937121</span>\n",
       "</pre>\n"
      ],
      "text/plain": [
       "\u001b[1;36m9937121\u001b[0m\n"
      ]
     },
     "metadata": {},
     "output_type": "display_data"
    },
    {
     "data": {
      "text/html": [
       "<pre style=\"white-space:pre;overflow-x:auto;line-height:normal;font-family:Menlo,'DejaVu Sans Mono',consolas,'Courier New',monospace\"><span style=\"color: #008080; text-decoration-color: #008080; font-weight: bold\">9937122</span>\n",
       "</pre>\n"
      ],
      "text/plain": [
       "\u001b[1;36m9937122\u001b[0m\n"
      ]
     },
     "metadata": {},
     "output_type": "display_data"
    },
    {
     "data": {
      "text/html": [
       "<pre style=\"white-space:pre;overflow-x:auto;line-height:normal;font-family:Menlo,'DejaVu Sans Mono',consolas,'Courier New',monospace\"><span style=\"color: #008080; text-decoration-color: #008080; font-weight: bold\">9937123</span>\n",
       "</pre>\n"
      ],
      "text/plain": [
       "\u001b[1;36m9937123\u001b[0m\n"
      ]
     },
     "metadata": {},
     "output_type": "display_data"
    },
    {
     "data": {
      "text/html": [
       "<pre style=\"white-space:pre;overflow-x:auto;line-height:normal;font-family:Menlo,'DejaVu Sans Mono',consolas,'Courier New',monospace\"><span style=\"color: #008080; text-decoration-color: #008080; font-weight: bold\">9937124</span>\n",
       "</pre>\n"
      ],
      "text/plain": [
       "\u001b[1;36m9937124\u001b[0m\n"
      ]
     },
     "metadata": {},
     "output_type": "display_data"
    },
    {
     "data": {
      "text/html": [
       "<pre style=\"white-space:pre;overflow-x:auto;line-height:normal;font-family:Menlo,'DejaVu Sans Mono',consolas,'Courier New',monospace\"><span style=\"color: #008080; text-decoration-color: #008080; font-weight: bold\">9937125</span>\n",
       "</pre>\n"
      ],
      "text/plain": [
       "\u001b[1;36m9937125\u001b[0m\n"
      ]
     },
     "metadata": {},
     "output_type": "display_data"
    },
    {
     "data": {
      "text/html": [
       "<pre style=\"white-space:pre;overflow-x:auto;line-height:normal;font-family:Menlo,'DejaVu Sans Mono',consolas,'Courier New',monospace\"><span style=\"color: #008080; text-decoration-color: #008080; font-weight: bold\">9937126</span>\n",
       "</pre>\n"
      ],
      "text/plain": [
       "\u001b[1;36m9937126\u001b[0m\n"
      ]
     },
     "metadata": {},
     "output_type": "display_data"
    },
    {
     "data": {
      "text/html": [
       "<pre style=\"white-space:pre;overflow-x:auto;line-height:normal;font-family:Menlo,'DejaVu Sans Mono',consolas,'Courier New',monospace\"><span style=\"color: #008080; text-decoration-color: #008080; font-weight: bold\">9937127</span>\n",
       "</pre>\n"
      ],
      "text/plain": [
       "\u001b[1;36m9937127\u001b[0m\n"
      ]
     },
     "metadata": {},
     "output_type": "display_data"
    },
    {
     "data": {
      "text/html": [
       "<pre style=\"white-space:pre;overflow-x:auto;line-height:normal;font-family:Menlo,'DejaVu Sans Mono',consolas,'Courier New',monospace\"><span style=\"color: #008080; text-decoration-color: #008080; font-weight: bold\">9937128</span>\n",
       "</pre>\n"
      ],
      "text/plain": [
       "\u001b[1;36m9937128\u001b[0m\n"
      ]
     },
     "metadata": {},
     "output_type": "display_data"
    },
    {
     "data": {
      "text/html": [
       "<pre style=\"white-space:pre;overflow-x:auto;line-height:normal;font-family:Menlo,'DejaVu Sans Mono',consolas,'Courier New',monospace\"><span style=\"color: #008080; text-decoration-color: #008080; font-weight: bold\">9937129</span>\n",
       "</pre>\n"
      ],
      "text/plain": [
       "\u001b[1;36m9937129\u001b[0m\n"
      ]
     },
     "metadata": {},
     "output_type": "display_data"
    },
    {
     "data": {
      "text/html": [
       "<pre style=\"white-space:pre;overflow-x:auto;line-height:normal;font-family:Menlo,'DejaVu Sans Mono',consolas,'Courier New',monospace\"><span style=\"color: #008080; text-decoration-color: #008080; font-weight: bold\">9937130</span>\n",
       "</pre>\n"
      ],
      "text/plain": [
       "\u001b[1;36m9937130\u001b[0m\n"
      ]
     },
     "metadata": {},
     "output_type": "display_data"
    },
    {
     "data": {
      "text/html": [
       "<pre style=\"white-space:pre;overflow-x:auto;line-height:normal;font-family:Menlo,'DejaVu Sans Mono',consolas,'Courier New',monospace\"><span style=\"color: #008080; text-decoration-color: #008080; font-weight: bold\">9937131</span>\n",
       "</pre>\n"
      ],
      "text/plain": [
       "\u001b[1;36m9937131\u001b[0m\n"
      ]
     },
     "metadata": {},
     "output_type": "display_data"
    },
    {
     "data": {
      "text/html": [
       "<pre style=\"white-space:pre;overflow-x:auto;line-height:normal;font-family:Menlo,'DejaVu Sans Mono',consolas,'Courier New',monospace\"><span style=\"color: #008080; text-decoration-color: #008080; font-weight: bold\">9937132</span>\n",
       "</pre>\n"
      ],
      "text/plain": [
       "\u001b[1;36m9937132\u001b[0m\n"
      ]
     },
     "metadata": {},
     "output_type": "display_data"
    },
    {
     "data": {
      "text/html": [
       "<pre style=\"white-space:pre;overflow-x:auto;line-height:normal;font-family:Menlo,'DejaVu Sans Mono',consolas,'Courier New',monospace\"><span style=\"color: #008080; text-decoration-color: #008080; font-weight: bold\">9937133</span>\n",
       "</pre>\n"
      ],
      "text/plain": [
       "\u001b[1;36m9937133\u001b[0m\n"
      ]
     },
     "metadata": {},
     "output_type": "display_data"
    },
    {
     "data": {
      "text/html": [
       "<pre style=\"white-space:pre;overflow-x:auto;line-height:normal;font-family:Menlo,'DejaVu Sans Mono',consolas,'Courier New',monospace\"><span style=\"color: #008080; text-decoration-color: #008080; font-weight: bold\">9937134</span>\n",
       "</pre>\n"
      ],
      "text/plain": [
       "\u001b[1;36m9937134\u001b[0m\n"
      ]
     },
     "metadata": {},
     "output_type": "display_data"
    },
    {
     "data": {
      "text/html": [
       "<pre style=\"white-space:pre;overflow-x:auto;line-height:normal;font-family:Menlo,'DejaVu Sans Mono',consolas,'Courier New',monospace\"><span style=\"color: #008080; text-decoration-color: #008080; font-weight: bold\">9937135</span>\n",
       "</pre>\n"
      ],
      "text/plain": [
       "\u001b[1;36m9937135\u001b[0m\n"
      ]
     },
     "metadata": {},
     "output_type": "display_data"
    },
    {
     "data": {
      "text/html": [
       "<pre style=\"white-space:pre;overflow-x:auto;line-height:normal;font-family:Menlo,'DejaVu Sans Mono',consolas,'Courier New',monospace\"><span style=\"color: #008080; text-decoration-color: #008080; font-weight: bold\">9937136</span>\n",
       "</pre>\n"
      ],
      "text/plain": [
       "\u001b[1;36m9937136\u001b[0m\n"
      ]
     },
     "metadata": {},
     "output_type": "display_data"
    },
    {
     "data": {
      "text/html": [
       "<pre style=\"white-space:pre;overflow-x:auto;line-height:normal;font-family:Menlo,'DejaVu Sans Mono',consolas,'Courier New',monospace\"><span style=\"color: #008080; text-decoration-color: #008080; font-weight: bold\">9937137</span>\n",
       "</pre>\n"
      ],
      "text/plain": [
       "\u001b[1;36m9937137\u001b[0m\n"
      ]
     },
     "metadata": {},
     "output_type": "display_data"
    },
    {
     "data": {
      "text/html": [
       "<pre style=\"white-space:pre;overflow-x:auto;line-height:normal;font-family:Menlo,'DejaVu Sans Mono',consolas,'Courier New',monospace\"><span style=\"color: #008080; text-decoration-color: #008080; font-weight: bold\">9937138</span>\n",
       "</pre>\n"
      ],
      "text/plain": [
       "\u001b[1;36m9937138\u001b[0m\n"
      ]
     },
     "metadata": {},
     "output_type": "display_data"
    },
    {
     "data": {
      "text/html": [
       "<pre style=\"white-space:pre;overflow-x:auto;line-height:normal;font-family:Menlo,'DejaVu Sans Mono',consolas,'Courier New',monospace\"><span style=\"color: #008080; text-decoration-color: #008080; font-weight: bold\">9937139</span>\n",
       "</pre>\n"
      ],
      "text/plain": [
       "\u001b[1;36m9937139\u001b[0m\n"
      ]
     },
     "metadata": {},
     "output_type": "display_data"
    },
    {
     "data": {
      "text/html": [
       "<pre style=\"white-space:pre;overflow-x:auto;line-height:normal;font-family:Menlo,'DejaVu Sans Mono',consolas,'Courier New',monospace\"><span style=\"color: #008080; text-decoration-color: #008080; font-weight: bold\">9937140</span>\n",
       "</pre>\n"
      ],
      "text/plain": [
       "\u001b[1;36m9937140\u001b[0m\n"
      ]
     },
     "metadata": {},
     "output_type": "display_data"
    },
    {
     "data": {
      "text/html": [
       "<pre style=\"white-space:pre;overflow-x:auto;line-height:normal;font-family:Menlo,'DejaVu Sans Mono',consolas,'Courier New',monospace\"><span style=\"color: #008080; text-decoration-color: #008080; font-weight: bold\">9937141</span>\n",
       "</pre>\n"
      ],
      "text/plain": [
       "\u001b[1;36m9937141\u001b[0m\n"
      ]
     },
     "metadata": {},
     "output_type": "display_data"
    },
    {
     "data": {
      "text/html": [
       "<pre style=\"white-space:pre;overflow-x:auto;line-height:normal;font-family:Menlo,'DejaVu Sans Mono',consolas,'Courier New',monospace\"><span style=\"color: #008080; text-decoration-color: #008080; font-weight: bold\">9937142</span>\n",
       "</pre>\n"
      ],
      "text/plain": [
       "\u001b[1;36m9937142\u001b[0m\n"
      ]
     },
     "metadata": {},
     "output_type": "display_data"
    },
    {
     "data": {
      "text/html": [
       "<pre style=\"white-space:pre;overflow-x:auto;line-height:normal;font-family:Menlo,'DejaVu Sans Mono',consolas,'Courier New',monospace\"><span style=\"color: #008080; text-decoration-color: #008080; font-weight: bold\">9937143</span>\n",
       "</pre>\n"
      ],
      "text/plain": [
       "\u001b[1;36m9937143\u001b[0m\n"
      ]
     },
     "metadata": {},
     "output_type": "display_data"
    },
    {
     "data": {
      "text/html": [
       "<pre style=\"white-space:pre;overflow-x:auto;line-height:normal;font-family:Menlo,'DejaVu Sans Mono',consolas,'Courier New',monospace\"><span style=\"color: #008080; text-decoration-color: #008080; font-weight: bold\">9937144</span>\n",
       "</pre>\n"
      ],
      "text/plain": [
       "\u001b[1;36m9937144\u001b[0m\n"
      ]
     },
     "metadata": {},
     "output_type": "display_data"
    },
    {
     "data": {
      "text/html": [
       "<pre style=\"white-space:pre;overflow-x:auto;line-height:normal;font-family:Menlo,'DejaVu Sans Mono',consolas,'Courier New',monospace\"><span style=\"color: #008080; text-decoration-color: #008080; font-weight: bold\">9937145</span>\n",
       "</pre>\n"
      ],
      "text/plain": [
       "\u001b[1;36m9937145\u001b[0m\n"
      ]
     },
     "metadata": {},
     "output_type": "display_data"
    },
    {
     "data": {
      "text/html": [
       "<pre style=\"white-space:pre;overflow-x:auto;line-height:normal;font-family:Menlo,'DejaVu Sans Mono',consolas,'Courier New',monospace\"><span style=\"color: #008080; text-decoration-color: #008080; font-weight: bold\">9937146</span>\n",
       "</pre>\n"
      ],
      "text/plain": [
       "\u001b[1;36m9937146\u001b[0m\n"
      ]
     },
     "metadata": {},
     "output_type": "display_data"
    },
    {
     "data": {
      "text/html": [
       "<pre style=\"white-space:pre;overflow-x:auto;line-height:normal;font-family:Menlo,'DejaVu Sans Mono',consolas,'Courier New',monospace\"><span style=\"color: #008080; text-decoration-color: #008080; font-weight: bold\">9937147</span>\n",
       "</pre>\n"
      ],
      "text/plain": [
       "\u001b[1;36m9937147\u001b[0m\n"
      ]
     },
     "metadata": {},
     "output_type": "display_data"
    },
    {
     "data": {
      "text/html": [
       "<pre style=\"white-space:pre;overflow-x:auto;line-height:normal;font-family:Menlo,'DejaVu Sans Mono',consolas,'Courier New',monospace\"><span style=\"color: #008080; text-decoration-color: #008080; font-weight: bold\">9937148</span>\n",
       "</pre>\n"
      ],
      "text/plain": [
       "\u001b[1;36m9937148\u001b[0m\n"
      ]
     },
     "metadata": {},
     "output_type": "display_data"
    },
    {
     "data": {
      "text/html": [
       "<pre style=\"white-space:pre;overflow-x:auto;line-height:normal;font-family:Menlo,'DejaVu Sans Mono',consolas,'Courier New',monospace\"><span style=\"color: #008080; text-decoration-color: #008080; font-weight: bold\">9937149</span>\n",
       "</pre>\n"
      ],
      "text/plain": [
       "\u001b[1;36m9937149\u001b[0m\n"
      ]
     },
     "metadata": {},
     "output_type": "display_data"
    },
    {
     "data": {
      "text/html": [
       "<pre style=\"white-space:pre;overflow-x:auto;line-height:normal;font-family:Menlo,'DejaVu Sans Mono',consolas,'Courier New',monospace\"><span style=\"color: #008080; text-decoration-color: #008080; font-weight: bold\">9937150</span>\n",
       "</pre>\n"
      ],
      "text/plain": [
       "\u001b[1;36m9937150\u001b[0m\n"
      ]
     },
     "metadata": {},
     "output_type": "display_data"
    },
    {
     "data": {
      "text/html": [
       "<pre style=\"white-space:pre;overflow-x:auto;line-height:normal;font-family:Menlo,'DejaVu Sans Mono',consolas,'Courier New',monospace\"><span style=\"color: #008080; text-decoration-color: #008080; font-weight: bold\">9937151</span>\n",
       "</pre>\n"
      ],
      "text/plain": [
       "\u001b[1;36m9937151\u001b[0m\n"
      ]
     },
     "metadata": {},
     "output_type": "display_data"
    },
    {
     "data": {
      "text/html": [
       "<pre style=\"white-space:pre;overflow-x:auto;line-height:normal;font-family:Menlo,'DejaVu Sans Mono',consolas,'Courier New',monospace\"><span style=\"color: #008080; text-decoration-color: #008080; font-weight: bold\">9937152</span>\n",
       "</pre>\n"
      ],
      "text/plain": [
       "\u001b[1;36m9937152\u001b[0m\n"
      ]
     },
     "metadata": {},
     "output_type": "display_data"
    },
    {
     "data": {
      "text/html": [
       "<pre style=\"white-space:pre;overflow-x:auto;line-height:normal;font-family:Menlo,'DejaVu Sans Mono',consolas,'Courier New',monospace\"><span style=\"color: #008080; text-decoration-color: #008080; font-weight: bold\">9937153</span>\n",
       "</pre>\n"
      ],
      "text/plain": [
       "\u001b[1;36m9937153\u001b[0m\n"
      ]
     },
     "metadata": {},
     "output_type": "display_data"
    },
    {
     "data": {
      "text/html": [
       "<pre style=\"white-space:pre;overflow-x:auto;line-height:normal;font-family:Menlo,'DejaVu Sans Mono',consolas,'Courier New',monospace\"><span style=\"color: #008080; text-decoration-color: #008080; font-weight: bold\">9937154</span>\n",
       "</pre>\n"
      ],
      "text/plain": [
       "\u001b[1;36m9937154\u001b[0m\n"
      ]
     },
     "metadata": {},
     "output_type": "display_data"
    },
    {
     "data": {
      "text/html": [
       "<pre style=\"white-space:pre;overflow-x:auto;line-height:normal;font-family:Menlo,'DejaVu Sans Mono',consolas,'Courier New',monospace\"><span style=\"color: #008080; text-decoration-color: #008080; font-weight: bold\">9937155</span>\n",
       "</pre>\n"
      ],
      "text/plain": [
       "\u001b[1;36m9937155\u001b[0m\n"
      ]
     },
     "metadata": {},
     "output_type": "display_data"
    },
    {
     "data": {
      "text/html": [
       "<pre style=\"white-space:pre;overflow-x:auto;line-height:normal;font-family:Menlo,'DejaVu Sans Mono',consolas,'Courier New',monospace\"><span style=\"color: #008080; text-decoration-color: #008080; font-weight: bold\">9937156</span>\n",
       "</pre>\n"
      ],
      "text/plain": [
       "\u001b[1;36m9937156\u001b[0m\n"
      ]
     },
     "metadata": {},
     "output_type": "display_data"
    },
    {
     "data": {
      "text/html": [
       "<pre style=\"white-space:pre;overflow-x:auto;line-height:normal;font-family:Menlo,'DejaVu Sans Mono',consolas,'Courier New',monospace\"><span style=\"color: #008080; text-decoration-color: #008080; font-weight: bold\">9937157</span>\n",
       "</pre>\n"
      ],
      "text/plain": [
       "\u001b[1;36m9937157\u001b[0m\n"
      ]
     },
     "metadata": {},
     "output_type": "display_data"
    },
    {
     "data": {
      "text/html": [
       "<pre style=\"white-space:pre;overflow-x:auto;line-height:normal;font-family:Menlo,'DejaVu Sans Mono',consolas,'Courier New',monospace\"><span style=\"color: #008080; text-decoration-color: #008080; font-weight: bold\">9937158</span>\n",
       "</pre>\n"
      ],
      "text/plain": [
       "\u001b[1;36m9937158\u001b[0m\n"
      ]
     },
     "metadata": {},
     "output_type": "display_data"
    },
    {
     "data": {
      "text/html": [
       "<pre style=\"white-space:pre;overflow-x:auto;line-height:normal;font-family:Menlo,'DejaVu Sans Mono',consolas,'Courier New',monospace\"><span style=\"color: #008080; text-decoration-color: #008080; font-weight: bold\">9937159</span>\n",
       "</pre>\n"
      ],
      "text/plain": [
       "\u001b[1;36m9937159\u001b[0m\n"
      ]
     },
     "metadata": {},
     "output_type": "display_data"
    },
    {
     "data": {
      "text/html": [
       "<pre style=\"white-space:pre;overflow-x:auto;line-height:normal;font-family:Menlo,'DejaVu Sans Mono',consolas,'Courier New',monospace\"><span style=\"color: #008080; text-decoration-color: #008080; font-weight: bold\">9937160</span>\n",
       "</pre>\n"
      ],
      "text/plain": [
       "\u001b[1;36m9937160\u001b[0m\n"
      ]
     },
     "metadata": {},
     "output_type": "display_data"
    },
    {
     "data": {
      "text/html": [
       "<pre style=\"white-space:pre;overflow-x:auto;line-height:normal;font-family:Menlo,'DejaVu Sans Mono',consolas,'Courier New',monospace\"><span style=\"color: #008080; text-decoration-color: #008080; font-weight: bold\">9937161</span>\n",
       "</pre>\n"
      ],
      "text/plain": [
       "\u001b[1;36m9937161\u001b[0m\n"
      ]
     },
     "metadata": {},
     "output_type": "display_data"
    },
    {
     "data": {
      "text/html": [
       "<pre style=\"white-space:pre;overflow-x:auto;line-height:normal;font-family:Menlo,'DejaVu Sans Mono',consolas,'Courier New',monospace\"><span style=\"color: #008080; text-decoration-color: #008080; font-weight: bold\">9937162</span>\n",
       "</pre>\n"
      ],
      "text/plain": [
       "\u001b[1;36m9937162\u001b[0m\n"
      ]
     },
     "metadata": {},
     "output_type": "display_data"
    },
    {
     "data": {
      "text/html": [
       "<pre style=\"white-space:pre;overflow-x:auto;line-height:normal;font-family:Menlo,'DejaVu Sans Mono',consolas,'Courier New',monospace\"><span style=\"color: #008080; text-decoration-color: #008080; font-weight: bold\">9937163</span>\n",
       "</pre>\n"
      ],
      "text/plain": [
       "\u001b[1;36m9937163\u001b[0m\n"
      ]
     },
     "metadata": {},
     "output_type": "display_data"
    },
    {
     "data": {
      "text/html": [
       "<pre style=\"white-space:pre;overflow-x:auto;line-height:normal;font-family:Menlo,'DejaVu Sans Mono',consolas,'Courier New',monospace\"><span style=\"color: #008080; text-decoration-color: #008080; font-weight: bold\">9937164</span>\n",
       "</pre>\n"
      ],
      "text/plain": [
       "\u001b[1;36m9937164\u001b[0m\n"
      ]
     },
     "metadata": {},
     "output_type": "display_data"
    },
    {
     "data": {
      "text/html": [
       "<pre style=\"white-space:pre;overflow-x:auto;line-height:normal;font-family:Menlo,'DejaVu Sans Mono',consolas,'Courier New',monospace\"><span style=\"color: #008080; text-decoration-color: #008080; font-weight: bold\">9937165</span>\n",
       "</pre>\n"
      ],
      "text/plain": [
       "\u001b[1;36m9937165\u001b[0m\n"
      ]
     },
     "metadata": {},
     "output_type": "display_data"
    },
    {
     "data": {
      "text/html": [
       "<pre style=\"white-space:pre;overflow-x:auto;line-height:normal;font-family:Menlo,'DejaVu Sans Mono',consolas,'Courier New',monospace\"><span style=\"color: #008080; text-decoration-color: #008080; font-weight: bold\">9937166</span>\n",
       "</pre>\n"
      ],
      "text/plain": [
       "\u001b[1;36m9937166\u001b[0m\n"
      ]
     },
     "metadata": {},
     "output_type": "display_data"
    },
    {
     "data": {
      "text/html": [
       "<pre style=\"white-space:pre;overflow-x:auto;line-height:normal;font-family:Menlo,'DejaVu Sans Mono',consolas,'Courier New',monospace\"><span style=\"color: #008080; text-decoration-color: #008080; font-weight: bold\">9937167</span>\n",
       "</pre>\n"
      ],
      "text/plain": [
       "\u001b[1;36m9937167\u001b[0m\n"
      ]
     },
     "metadata": {},
     "output_type": "display_data"
    },
    {
     "data": {
      "text/html": [
       "<pre style=\"white-space:pre;overflow-x:auto;line-height:normal;font-family:Menlo,'DejaVu Sans Mono',consolas,'Courier New',monospace\"><span style=\"color: #008080; text-decoration-color: #008080; font-weight: bold\">9937168</span>\n",
       "</pre>\n"
      ],
      "text/plain": [
       "\u001b[1;36m9937168\u001b[0m\n"
      ]
     },
     "metadata": {},
     "output_type": "display_data"
    },
    {
     "data": {
      "text/html": [
       "<pre style=\"white-space:pre;overflow-x:auto;line-height:normal;font-family:Menlo,'DejaVu Sans Mono',consolas,'Courier New',monospace\"><span style=\"color: #008080; text-decoration-color: #008080; font-weight: bold\">9937169</span>\n",
       "</pre>\n"
      ],
      "text/plain": [
       "\u001b[1;36m9937169\u001b[0m\n"
      ]
     },
     "metadata": {},
     "output_type": "display_data"
    },
    {
     "data": {
      "text/html": [
       "<pre style=\"white-space:pre;overflow-x:auto;line-height:normal;font-family:Menlo,'DejaVu Sans Mono',consolas,'Courier New',monospace\"><span style=\"color: #008080; text-decoration-color: #008080; font-weight: bold\">9937170</span>\n",
       "</pre>\n"
      ],
      "text/plain": [
       "\u001b[1;36m9937170\u001b[0m\n"
      ]
     },
     "metadata": {},
     "output_type": "display_data"
    },
    {
     "data": {
      "text/html": [
       "<pre style=\"white-space:pre;overflow-x:auto;line-height:normal;font-family:Menlo,'DejaVu Sans Mono',consolas,'Courier New',monospace\"><span style=\"color: #008080; text-decoration-color: #008080; font-weight: bold\">9937171</span>\n",
       "</pre>\n"
      ],
      "text/plain": [
       "\u001b[1;36m9937171\u001b[0m\n"
      ]
     },
     "metadata": {},
     "output_type": "display_data"
    },
    {
     "data": {
      "text/html": [
       "<pre style=\"white-space:pre;overflow-x:auto;line-height:normal;font-family:Menlo,'DejaVu Sans Mono',consolas,'Courier New',monospace\"><span style=\"color: #008080; text-decoration-color: #008080; font-weight: bold\">9937172</span>\n",
       "</pre>\n"
      ],
      "text/plain": [
       "\u001b[1;36m9937172\u001b[0m\n"
      ]
     },
     "metadata": {},
     "output_type": "display_data"
    },
    {
     "data": {
      "text/html": [
       "<pre style=\"white-space:pre;overflow-x:auto;line-height:normal;font-family:Menlo,'DejaVu Sans Mono',consolas,'Courier New',monospace\"><span style=\"color: #008080; text-decoration-color: #008080; font-weight: bold\">9937173</span>\n",
       "</pre>\n"
      ],
      "text/plain": [
       "\u001b[1;36m9937173\u001b[0m\n"
      ]
     },
     "metadata": {},
     "output_type": "display_data"
    },
    {
     "data": {
      "text/html": [
       "<pre style=\"white-space:pre;overflow-x:auto;line-height:normal;font-family:Menlo,'DejaVu Sans Mono',consolas,'Courier New',monospace\"><span style=\"color: #008080; text-decoration-color: #008080; font-weight: bold\">9937174</span>\n",
       "</pre>\n"
      ],
      "text/plain": [
       "\u001b[1;36m9937174\u001b[0m\n"
      ]
     },
     "metadata": {},
     "output_type": "display_data"
    },
    {
     "data": {
      "text/html": [
       "<pre style=\"white-space:pre;overflow-x:auto;line-height:normal;font-family:Menlo,'DejaVu Sans Mono',consolas,'Courier New',monospace\"><span style=\"color: #008080; text-decoration-color: #008080; font-weight: bold\">9937175</span>\n",
       "</pre>\n"
      ],
      "text/plain": [
       "\u001b[1;36m9937175\u001b[0m\n"
      ]
     },
     "metadata": {},
     "output_type": "display_data"
    },
    {
     "data": {
      "text/html": [
       "<pre style=\"white-space:pre;overflow-x:auto;line-height:normal;font-family:Menlo,'DejaVu Sans Mono',consolas,'Courier New',monospace\"><span style=\"color: #008080; text-decoration-color: #008080; font-weight: bold\">9937176</span>\n",
       "</pre>\n"
      ],
      "text/plain": [
       "\u001b[1;36m9937176\u001b[0m\n"
      ]
     },
     "metadata": {},
     "output_type": "display_data"
    },
    {
     "data": {
      "text/html": [
       "<pre style=\"white-space:pre;overflow-x:auto;line-height:normal;font-family:Menlo,'DejaVu Sans Mono',consolas,'Courier New',monospace\"><span style=\"color: #008080; text-decoration-color: #008080; font-weight: bold\">9937177</span>\n",
       "</pre>\n"
      ],
      "text/plain": [
       "\u001b[1;36m9937177\u001b[0m\n"
      ]
     },
     "metadata": {},
     "output_type": "display_data"
    },
    {
     "data": {
      "text/html": [
       "<pre style=\"white-space:pre;overflow-x:auto;line-height:normal;font-family:Menlo,'DejaVu Sans Mono',consolas,'Courier New',monospace\"><span style=\"color: #008080; text-decoration-color: #008080; font-weight: bold\">9937178</span>\n",
       "</pre>\n"
      ],
      "text/plain": [
       "\u001b[1;36m9937178\u001b[0m\n"
      ]
     },
     "metadata": {},
     "output_type": "display_data"
    },
    {
     "data": {
      "text/html": [
       "<pre style=\"white-space:pre;overflow-x:auto;line-height:normal;font-family:Menlo,'DejaVu Sans Mono',consolas,'Courier New',monospace\"><span style=\"color: #008080; text-decoration-color: #008080; font-weight: bold\">9937179</span>\n",
       "</pre>\n"
      ],
      "text/plain": [
       "\u001b[1;36m9937179\u001b[0m\n"
      ]
     },
     "metadata": {},
     "output_type": "display_data"
    },
    {
     "data": {
      "text/html": [
       "<pre style=\"white-space:pre;overflow-x:auto;line-height:normal;font-family:Menlo,'DejaVu Sans Mono',consolas,'Courier New',monospace\"><span style=\"color: #008080; text-decoration-color: #008080; font-weight: bold\">9937180</span>\n",
       "</pre>\n"
      ],
      "text/plain": [
       "\u001b[1;36m9937180\u001b[0m\n"
      ]
     },
     "metadata": {},
     "output_type": "display_data"
    },
    {
     "data": {
      "text/html": [
       "<pre style=\"white-space:pre;overflow-x:auto;line-height:normal;font-family:Menlo,'DejaVu Sans Mono',consolas,'Courier New',monospace\"><span style=\"color: #008080; text-decoration-color: #008080; font-weight: bold\">9937181</span>\n",
       "</pre>\n"
      ],
      "text/plain": [
       "\u001b[1;36m9937181\u001b[0m\n"
      ]
     },
     "metadata": {},
     "output_type": "display_data"
    },
    {
     "data": {
      "text/html": [
       "<pre style=\"white-space:pre;overflow-x:auto;line-height:normal;font-family:Menlo,'DejaVu Sans Mono',consolas,'Courier New',monospace\"><span style=\"color: #008080; text-decoration-color: #008080; font-weight: bold\">9937182</span>\n",
       "</pre>\n"
      ],
      "text/plain": [
       "\u001b[1;36m9937182\u001b[0m\n"
      ]
     },
     "metadata": {},
     "output_type": "display_data"
    },
    {
     "data": {
      "text/html": [
       "<pre style=\"white-space:pre;overflow-x:auto;line-height:normal;font-family:Menlo,'DejaVu Sans Mono',consolas,'Courier New',monospace\"><span style=\"color: #008080; text-decoration-color: #008080; font-weight: bold\">9937183</span>\n",
       "</pre>\n"
      ],
      "text/plain": [
       "\u001b[1;36m9937183\u001b[0m\n"
      ]
     },
     "metadata": {},
     "output_type": "display_data"
    },
    {
     "data": {
      "text/html": [
       "<pre style=\"white-space:pre;overflow-x:auto;line-height:normal;font-family:Menlo,'DejaVu Sans Mono',consolas,'Courier New',monospace\"><span style=\"color: #008080; text-decoration-color: #008080; font-weight: bold\">9937184</span>\n",
       "</pre>\n"
      ],
      "text/plain": [
       "\u001b[1;36m9937184\u001b[0m\n"
      ]
     },
     "metadata": {},
     "output_type": "display_data"
    },
    {
     "data": {
      "text/html": [
       "<pre style=\"white-space:pre;overflow-x:auto;line-height:normal;font-family:Menlo,'DejaVu Sans Mono',consolas,'Courier New',monospace\"><span style=\"color: #008080; text-decoration-color: #008080; font-weight: bold\">9937185</span>\n",
       "</pre>\n"
      ],
      "text/plain": [
       "\u001b[1;36m9937185\u001b[0m\n"
      ]
     },
     "metadata": {},
     "output_type": "display_data"
    },
    {
     "data": {
      "text/html": [
       "<pre style=\"white-space:pre;overflow-x:auto;line-height:normal;font-family:Menlo,'DejaVu Sans Mono',consolas,'Courier New',monospace\"><span style=\"color: #008080; text-decoration-color: #008080; font-weight: bold\">9937186</span>\n",
       "</pre>\n"
      ],
      "text/plain": [
       "\u001b[1;36m9937186\u001b[0m\n"
      ]
     },
     "metadata": {},
     "output_type": "display_data"
    },
    {
     "data": {
      "text/html": [
       "<pre style=\"white-space:pre;overflow-x:auto;line-height:normal;font-family:Menlo,'DejaVu Sans Mono',consolas,'Courier New',monospace\"><span style=\"color: #008080; text-decoration-color: #008080; font-weight: bold\">9937187</span>\n",
       "</pre>\n"
      ],
      "text/plain": [
       "\u001b[1;36m9937187\u001b[0m\n"
      ]
     },
     "metadata": {},
     "output_type": "display_data"
    },
    {
     "data": {
      "text/html": [
       "<pre style=\"white-space:pre;overflow-x:auto;line-height:normal;font-family:Menlo,'DejaVu Sans Mono',consolas,'Courier New',monospace\"><span style=\"color: #008080; text-decoration-color: #008080; font-weight: bold\">9937188</span>\n",
       "</pre>\n"
      ],
      "text/plain": [
       "\u001b[1;36m9937188\u001b[0m\n"
      ]
     },
     "metadata": {},
     "output_type": "display_data"
    },
    {
     "data": {
      "text/html": [
       "<pre style=\"white-space:pre;overflow-x:auto;line-height:normal;font-family:Menlo,'DejaVu Sans Mono',consolas,'Courier New',monospace\"><span style=\"color: #008080; text-decoration-color: #008080; font-weight: bold\">9937189</span>\n",
       "</pre>\n"
      ],
      "text/plain": [
       "\u001b[1;36m9937189\u001b[0m\n"
      ]
     },
     "metadata": {},
     "output_type": "display_data"
    },
    {
     "data": {
      "text/html": [
       "<pre style=\"white-space:pre;overflow-x:auto;line-height:normal;font-family:Menlo,'DejaVu Sans Mono',consolas,'Courier New',monospace\"><span style=\"color: #008080; text-decoration-color: #008080; font-weight: bold\">9937190</span>\n",
       "</pre>\n"
      ],
      "text/plain": [
       "\u001b[1;36m9937190\u001b[0m\n"
      ]
     },
     "metadata": {},
     "output_type": "display_data"
    },
    {
     "data": {
      "text/html": [
       "<pre style=\"white-space:pre;overflow-x:auto;line-height:normal;font-family:Menlo,'DejaVu Sans Mono',consolas,'Courier New',monospace\"><span style=\"color: #008080; text-decoration-color: #008080; font-weight: bold\">9937191</span>\n",
       "</pre>\n"
      ],
      "text/plain": [
       "\u001b[1;36m9937191\u001b[0m\n"
      ]
     },
     "metadata": {},
     "output_type": "display_data"
    },
    {
     "data": {
      "text/html": [
       "<pre style=\"white-space:pre;overflow-x:auto;line-height:normal;font-family:Menlo,'DejaVu Sans Mono',consolas,'Courier New',monospace\"><span style=\"color: #008080; text-decoration-color: #008080; font-weight: bold\">9937192</span>\n",
       "</pre>\n"
      ],
      "text/plain": [
       "\u001b[1;36m9937192\u001b[0m\n"
      ]
     },
     "metadata": {},
     "output_type": "display_data"
    },
    {
     "data": {
      "text/html": [
       "<pre style=\"white-space:pre;overflow-x:auto;line-height:normal;font-family:Menlo,'DejaVu Sans Mono',consolas,'Courier New',monospace\"><span style=\"color: #008080; text-decoration-color: #008080; font-weight: bold\">9937193</span>\n",
       "</pre>\n"
      ],
      "text/plain": [
       "\u001b[1;36m9937193\u001b[0m\n"
      ]
     },
     "metadata": {},
     "output_type": "display_data"
    },
    {
     "data": {
      "text/html": [
       "<pre style=\"white-space:pre;overflow-x:auto;line-height:normal;font-family:Menlo,'DejaVu Sans Mono',consolas,'Courier New',monospace\"><span style=\"color: #008080; text-decoration-color: #008080; font-weight: bold\">9937194</span>\n",
       "</pre>\n"
      ],
      "text/plain": [
       "\u001b[1;36m9937194\u001b[0m\n"
      ]
     },
     "metadata": {},
     "output_type": "display_data"
    },
    {
     "data": {
      "text/html": [
       "<pre style=\"white-space:pre;overflow-x:auto;line-height:normal;font-family:Menlo,'DejaVu Sans Mono',consolas,'Courier New',monospace\"><span style=\"color: #008080; text-decoration-color: #008080; font-weight: bold\">9937195</span>\n",
       "</pre>\n"
      ],
      "text/plain": [
       "\u001b[1;36m9937195\u001b[0m\n"
      ]
     },
     "metadata": {},
     "output_type": "display_data"
    },
    {
     "data": {
      "text/html": [
       "<pre style=\"white-space:pre;overflow-x:auto;line-height:normal;font-family:Menlo,'DejaVu Sans Mono',consolas,'Courier New',monospace\"><span style=\"color: #008080; text-decoration-color: #008080; font-weight: bold\">9937196</span>\n",
       "</pre>\n"
      ],
      "text/plain": [
       "\u001b[1;36m9937196\u001b[0m\n"
      ]
     },
     "metadata": {},
     "output_type": "display_data"
    },
    {
     "data": {
      "text/html": [
       "<pre style=\"white-space:pre;overflow-x:auto;line-height:normal;font-family:Menlo,'DejaVu Sans Mono',consolas,'Courier New',monospace\"><span style=\"color: #008080; text-decoration-color: #008080; font-weight: bold\">9937197</span>\n",
       "</pre>\n"
      ],
      "text/plain": [
       "\u001b[1;36m9937197\u001b[0m\n"
      ]
     },
     "metadata": {},
     "output_type": "display_data"
    },
    {
     "data": {
      "text/html": [
       "<pre style=\"white-space:pre;overflow-x:auto;line-height:normal;font-family:Menlo,'DejaVu Sans Mono',consolas,'Courier New',monospace\"><span style=\"color: #008080; text-decoration-color: #008080; font-weight: bold\">9937198</span>\n",
       "</pre>\n"
      ],
      "text/plain": [
       "\u001b[1;36m9937198\u001b[0m\n"
      ]
     },
     "metadata": {},
     "output_type": "display_data"
    },
    {
     "data": {
      "text/html": [
       "<pre style=\"white-space:pre;overflow-x:auto;line-height:normal;font-family:Menlo,'DejaVu Sans Mono',consolas,'Courier New',monospace\"><span style=\"color: #008080; text-decoration-color: #008080; font-weight: bold\">9937199</span>\n",
       "</pre>\n"
      ],
      "text/plain": [
       "\u001b[1;36m9937199\u001b[0m\n"
      ]
     },
     "metadata": {},
     "output_type": "display_data"
    },
    {
     "data": {
      "text/html": [
       "<pre style=\"white-space:pre;overflow-x:auto;line-height:normal;font-family:Menlo,'DejaVu Sans Mono',consolas,'Courier New',monospace\"><span style=\"color: #008080; text-decoration-color: #008080; font-weight: bold\">9937200</span>\n",
       "</pre>\n"
      ],
      "text/plain": [
       "\u001b[1;36m9937200\u001b[0m\n"
      ]
     },
     "metadata": {},
     "output_type": "display_data"
    },
    {
     "data": {
      "text/html": [
       "<pre style=\"white-space:pre;overflow-x:auto;line-height:normal;font-family:Menlo,'DejaVu Sans Mono',consolas,'Courier New',monospace\"><span style=\"color: #008080; text-decoration-color: #008080; font-weight: bold\">9937201</span>\n",
       "</pre>\n"
      ],
      "text/plain": [
       "\u001b[1;36m9937201\u001b[0m\n"
      ]
     },
     "metadata": {},
     "output_type": "display_data"
    },
    {
     "data": {
      "text/html": [
       "<pre style=\"white-space:pre;overflow-x:auto;line-height:normal;font-family:Menlo,'DejaVu Sans Mono',consolas,'Courier New',monospace\"><span style=\"color: #008080; text-decoration-color: #008080; font-weight: bold\">9937202</span>\n",
       "</pre>\n"
      ],
      "text/plain": [
       "\u001b[1;36m9937202\u001b[0m\n"
      ]
     },
     "metadata": {},
     "output_type": "display_data"
    },
    {
     "data": {
      "text/html": [
       "<pre style=\"white-space:pre;overflow-x:auto;line-height:normal;font-family:Menlo,'DejaVu Sans Mono',consolas,'Courier New',monospace\"><span style=\"color: #008080; text-decoration-color: #008080; font-weight: bold\">9937203</span>\n",
       "</pre>\n"
      ],
      "text/plain": [
       "\u001b[1;36m9937203\u001b[0m\n"
      ]
     },
     "metadata": {},
     "output_type": "display_data"
    },
    {
     "data": {
      "text/html": [
       "<pre style=\"white-space:pre;overflow-x:auto;line-height:normal;font-family:Menlo,'DejaVu Sans Mono',consolas,'Courier New',monospace\"><span style=\"color: #008080; text-decoration-color: #008080; font-weight: bold\">9937204</span>\n",
       "</pre>\n"
      ],
      "text/plain": [
       "\u001b[1;36m9937204\u001b[0m\n"
      ]
     },
     "metadata": {},
     "output_type": "display_data"
    },
    {
     "data": {
      "text/html": [
       "<pre style=\"white-space:pre;overflow-x:auto;line-height:normal;font-family:Menlo,'DejaVu Sans Mono',consolas,'Courier New',monospace\"><span style=\"color: #008080; text-decoration-color: #008080; font-weight: bold\">9937205</span>\n",
       "</pre>\n"
      ],
      "text/plain": [
       "\u001b[1;36m9937205\u001b[0m\n"
      ]
     },
     "metadata": {},
     "output_type": "display_data"
    },
    {
     "data": {
      "text/html": [
       "<pre style=\"white-space:pre;overflow-x:auto;line-height:normal;font-family:Menlo,'DejaVu Sans Mono',consolas,'Courier New',monospace\"><span style=\"color: #008080; text-decoration-color: #008080; font-weight: bold\">9937206</span>\n",
       "</pre>\n"
      ],
      "text/plain": [
       "\u001b[1;36m9937206\u001b[0m\n"
      ]
     },
     "metadata": {},
     "output_type": "display_data"
    },
    {
     "data": {
      "text/html": [
       "<pre style=\"white-space:pre;overflow-x:auto;line-height:normal;font-family:Menlo,'DejaVu Sans Mono',consolas,'Courier New',monospace\"><span style=\"color: #008080; text-decoration-color: #008080; font-weight: bold\">9937207</span>\n",
       "</pre>\n"
      ],
      "text/plain": [
       "\u001b[1;36m9937207\u001b[0m\n"
      ]
     },
     "metadata": {},
     "output_type": "display_data"
    },
    {
     "data": {
      "text/html": [
       "<pre style=\"white-space:pre;overflow-x:auto;line-height:normal;font-family:Menlo,'DejaVu Sans Mono',consolas,'Courier New',monospace\"><span style=\"color: #008080; text-decoration-color: #008080; font-weight: bold\">9937208</span>\n",
       "</pre>\n"
      ],
      "text/plain": [
       "\u001b[1;36m9937208\u001b[0m\n"
      ]
     },
     "metadata": {},
     "output_type": "display_data"
    },
    {
     "data": {
      "text/html": [
       "<pre style=\"white-space:pre;overflow-x:auto;line-height:normal;font-family:Menlo,'DejaVu Sans Mono',consolas,'Courier New',monospace\"><span style=\"color: #008080; text-decoration-color: #008080; font-weight: bold\">9937209</span>\n",
       "</pre>\n"
      ],
      "text/plain": [
       "\u001b[1;36m9937209\u001b[0m\n"
      ]
     },
     "metadata": {},
     "output_type": "display_data"
    },
    {
     "data": {
      "text/html": [
       "<pre style=\"white-space:pre;overflow-x:auto;line-height:normal;font-family:Menlo,'DejaVu Sans Mono',consolas,'Courier New',monospace\"><span style=\"color: #008080; text-decoration-color: #008080; font-weight: bold\">9937210</span>\n",
       "</pre>\n"
      ],
      "text/plain": [
       "\u001b[1;36m9937210\u001b[0m\n"
      ]
     },
     "metadata": {},
     "output_type": "display_data"
    },
    {
     "data": {
      "text/html": [
       "<pre style=\"white-space:pre;overflow-x:auto;line-height:normal;font-family:Menlo,'DejaVu Sans Mono',consolas,'Courier New',monospace\"><span style=\"color: #008080; text-decoration-color: #008080; font-weight: bold\">9937211</span>\n",
       "</pre>\n"
      ],
      "text/plain": [
       "\u001b[1;36m9937211\u001b[0m\n"
      ]
     },
     "metadata": {},
     "output_type": "display_data"
    },
    {
     "data": {
      "text/html": [
       "<pre style=\"white-space:pre;overflow-x:auto;line-height:normal;font-family:Menlo,'DejaVu Sans Mono',consolas,'Courier New',monospace\"><span style=\"color: #008080; text-decoration-color: #008080; font-weight: bold\">9937212</span>\n",
       "</pre>\n"
      ],
      "text/plain": [
       "\u001b[1;36m9937212\u001b[0m\n"
      ]
     },
     "metadata": {},
     "output_type": "display_data"
    },
    {
     "data": {
      "text/html": [
       "<pre style=\"white-space:pre;overflow-x:auto;line-height:normal;font-family:Menlo,'DejaVu Sans Mono',consolas,'Courier New',monospace\"><span style=\"color: #008080; text-decoration-color: #008080; font-weight: bold\">9937213</span>\n",
       "</pre>\n"
      ],
      "text/plain": [
       "\u001b[1;36m9937213\u001b[0m\n"
      ]
     },
     "metadata": {},
     "output_type": "display_data"
    },
    {
     "data": {
      "text/html": [
       "<pre style=\"white-space:pre;overflow-x:auto;line-height:normal;font-family:Menlo,'DejaVu Sans Mono',consolas,'Courier New',monospace\"><span style=\"color: #008080; text-decoration-color: #008080; font-weight: bold\">9937214</span>\n",
       "</pre>\n"
      ],
      "text/plain": [
       "\u001b[1;36m9937214\u001b[0m\n"
      ]
     },
     "metadata": {},
     "output_type": "display_data"
    },
    {
     "data": {
      "text/html": [
       "<pre style=\"white-space:pre;overflow-x:auto;line-height:normal;font-family:Menlo,'DejaVu Sans Mono',consolas,'Courier New',monospace\"><span style=\"color: #008080; text-decoration-color: #008080; font-weight: bold\">9937215</span>\n",
       "</pre>\n"
      ],
      "text/plain": [
       "\u001b[1;36m9937215\u001b[0m\n"
      ]
     },
     "metadata": {},
     "output_type": "display_data"
    },
    {
     "data": {
      "text/html": [
       "<pre style=\"white-space:pre;overflow-x:auto;line-height:normal;font-family:Menlo,'DejaVu Sans Mono',consolas,'Courier New',monospace\"><span style=\"color: #008080; text-decoration-color: #008080; font-weight: bold\">9937216</span>\n",
       "</pre>\n"
      ],
      "text/plain": [
       "\u001b[1;36m9937216\u001b[0m\n"
      ]
     },
     "metadata": {},
     "output_type": "display_data"
    },
    {
     "data": {
      "text/html": [
       "<pre style=\"white-space:pre;overflow-x:auto;line-height:normal;font-family:Menlo,'DejaVu Sans Mono',consolas,'Courier New',monospace\"><span style=\"color: #008080; text-decoration-color: #008080; font-weight: bold\">9937217</span>\n",
       "</pre>\n"
      ],
      "text/plain": [
       "\u001b[1;36m9937217\u001b[0m\n"
      ]
     },
     "metadata": {},
     "output_type": "display_data"
    },
    {
     "data": {
      "text/html": [
       "<pre style=\"white-space:pre;overflow-x:auto;line-height:normal;font-family:Menlo,'DejaVu Sans Mono',consolas,'Courier New',monospace\"><span style=\"color: #008080; text-decoration-color: #008080; font-weight: bold\">9937218</span>\n",
       "</pre>\n"
      ],
      "text/plain": [
       "\u001b[1;36m9937218\u001b[0m\n"
      ]
     },
     "metadata": {},
     "output_type": "display_data"
    },
    {
     "data": {
      "text/html": [
       "<pre style=\"white-space:pre;overflow-x:auto;line-height:normal;font-family:Menlo,'DejaVu Sans Mono',consolas,'Courier New',monospace\"><span style=\"color: #008080; text-decoration-color: #008080; font-weight: bold\">9937219</span>\n",
       "</pre>\n"
      ],
      "text/plain": [
       "\u001b[1;36m9937219\u001b[0m\n"
      ]
     },
     "metadata": {},
     "output_type": "display_data"
    },
    {
     "data": {
      "text/html": [
       "<pre style=\"white-space:pre;overflow-x:auto;line-height:normal;font-family:Menlo,'DejaVu Sans Mono',consolas,'Courier New',monospace\"><span style=\"color: #008080; text-decoration-color: #008080; font-weight: bold\">9937220</span>\n",
       "</pre>\n"
      ],
      "text/plain": [
       "\u001b[1;36m9937220\u001b[0m\n"
      ]
     },
     "metadata": {},
     "output_type": "display_data"
    },
    {
     "data": {
      "text/html": [
       "<pre style=\"white-space:pre;overflow-x:auto;line-height:normal;font-family:Menlo,'DejaVu Sans Mono',consolas,'Courier New',monospace\"><span style=\"color: #008080; text-decoration-color: #008080; font-weight: bold\">9937221</span>\n",
       "</pre>\n"
      ],
      "text/plain": [
       "\u001b[1;36m9937221\u001b[0m\n"
      ]
     },
     "metadata": {},
     "output_type": "display_data"
    },
    {
     "data": {
      "text/html": [
       "<pre style=\"white-space:pre;overflow-x:auto;line-height:normal;font-family:Menlo,'DejaVu Sans Mono',consolas,'Courier New',monospace\"><span style=\"color: #008080; text-decoration-color: #008080; font-weight: bold\">9937222</span>\n",
       "</pre>\n"
      ],
      "text/plain": [
       "\u001b[1;36m9937222\u001b[0m\n"
      ]
     },
     "metadata": {},
     "output_type": "display_data"
    },
    {
     "data": {
      "text/html": [
       "<pre style=\"white-space:pre;overflow-x:auto;line-height:normal;font-family:Menlo,'DejaVu Sans Mono',consolas,'Courier New',monospace\"><span style=\"color: #008080; text-decoration-color: #008080; font-weight: bold\">9937223</span>\n",
       "</pre>\n"
      ],
      "text/plain": [
       "\u001b[1;36m9937223\u001b[0m\n"
      ]
     },
     "metadata": {},
     "output_type": "display_data"
    },
    {
     "data": {
      "text/html": [
       "<pre style=\"white-space:pre;overflow-x:auto;line-height:normal;font-family:Menlo,'DejaVu Sans Mono',consolas,'Courier New',monospace\"><span style=\"color: #008080; text-decoration-color: #008080; font-weight: bold\">9937224</span>\n",
       "</pre>\n"
      ],
      "text/plain": [
       "\u001b[1;36m9937224\u001b[0m\n"
      ]
     },
     "metadata": {},
     "output_type": "display_data"
    },
    {
     "data": {
      "text/html": [
       "<pre style=\"white-space:pre;overflow-x:auto;line-height:normal;font-family:Menlo,'DejaVu Sans Mono',consolas,'Courier New',monospace\"><span style=\"color: #008080; text-decoration-color: #008080; font-weight: bold\">9937225</span>\n",
       "</pre>\n"
      ],
      "text/plain": [
       "\u001b[1;36m9937225\u001b[0m\n"
      ]
     },
     "metadata": {},
     "output_type": "display_data"
    },
    {
     "data": {
      "text/html": [
       "<pre style=\"white-space:pre;overflow-x:auto;line-height:normal;font-family:Menlo,'DejaVu Sans Mono',consolas,'Courier New',monospace\"><span style=\"color: #008080; text-decoration-color: #008080; font-weight: bold\">9937226</span>\n",
       "</pre>\n"
      ],
      "text/plain": [
       "\u001b[1;36m9937226\u001b[0m\n"
      ]
     },
     "metadata": {},
     "output_type": "display_data"
    },
    {
     "data": {
      "text/html": [
       "<pre style=\"white-space:pre;overflow-x:auto;line-height:normal;font-family:Menlo,'DejaVu Sans Mono',consolas,'Courier New',monospace\"><span style=\"color: #008080; text-decoration-color: #008080; font-weight: bold\">9937227</span>\n",
       "</pre>\n"
      ],
      "text/plain": [
       "\u001b[1;36m9937227\u001b[0m\n"
      ]
     },
     "metadata": {},
     "output_type": "display_data"
    },
    {
     "data": {
      "text/html": [
       "<pre style=\"white-space:pre;overflow-x:auto;line-height:normal;font-family:Menlo,'DejaVu Sans Mono',consolas,'Courier New',monospace\"><span style=\"color: #008080; text-decoration-color: #008080; font-weight: bold\">9937228</span>\n",
       "</pre>\n"
      ],
      "text/plain": [
       "\u001b[1;36m9937228\u001b[0m\n"
      ]
     },
     "metadata": {},
     "output_type": "display_data"
    },
    {
     "data": {
      "text/html": [
       "<pre style=\"white-space:pre;overflow-x:auto;line-height:normal;font-family:Menlo,'DejaVu Sans Mono',consolas,'Courier New',monospace\"><span style=\"color: #008080; text-decoration-color: #008080; font-weight: bold\">9937229</span>\n",
       "</pre>\n"
      ],
      "text/plain": [
       "\u001b[1;36m9937229\u001b[0m\n"
      ]
     },
     "metadata": {},
     "output_type": "display_data"
    },
    {
     "data": {
      "text/html": [
       "<pre style=\"white-space:pre;overflow-x:auto;line-height:normal;font-family:Menlo,'DejaVu Sans Mono',consolas,'Courier New',monospace\"><span style=\"color: #008080; text-decoration-color: #008080; font-weight: bold\">9937230</span>\n",
       "</pre>\n"
      ],
      "text/plain": [
       "\u001b[1;36m9937230\u001b[0m\n"
      ]
     },
     "metadata": {},
     "output_type": "display_data"
    },
    {
     "data": {
      "text/html": [
       "<pre style=\"white-space:pre;overflow-x:auto;line-height:normal;font-family:Menlo,'DejaVu Sans Mono',consolas,'Courier New',monospace\"><span style=\"color: #008080; text-decoration-color: #008080; font-weight: bold\">9937231</span>\n",
       "</pre>\n"
      ],
      "text/plain": [
       "\u001b[1;36m9937231\u001b[0m\n"
      ]
     },
     "metadata": {},
     "output_type": "display_data"
    },
    {
     "data": {
      "text/html": [
       "<pre style=\"white-space:pre;overflow-x:auto;line-height:normal;font-family:Menlo,'DejaVu Sans Mono',consolas,'Courier New',monospace\"><span style=\"color: #008080; text-decoration-color: #008080; font-weight: bold\">9937232</span>\n",
       "</pre>\n"
      ],
      "text/plain": [
       "\u001b[1;36m9937232\u001b[0m\n"
      ]
     },
     "metadata": {},
     "output_type": "display_data"
    },
    {
     "data": {
      "text/html": [
       "<pre style=\"white-space:pre;overflow-x:auto;line-height:normal;font-family:Menlo,'DejaVu Sans Mono',consolas,'Courier New',monospace\"><span style=\"color: #008080; text-decoration-color: #008080; font-weight: bold\">9937233</span>\n",
       "</pre>\n"
      ],
      "text/plain": [
       "\u001b[1;36m9937233\u001b[0m\n"
      ]
     },
     "metadata": {},
     "output_type": "display_data"
    },
    {
     "data": {
      "text/html": [
       "<pre style=\"white-space:pre;overflow-x:auto;line-height:normal;font-family:Menlo,'DejaVu Sans Mono',consolas,'Courier New',monospace\"><span style=\"color: #008080; text-decoration-color: #008080; font-weight: bold\">9937234</span>\n",
       "</pre>\n"
      ],
      "text/plain": [
       "\u001b[1;36m9937234\u001b[0m\n"
      ]
     },
     "metadata": {},
     "output_type": "display_data"
    },
    {
     "data": {
      "text/html": [
       "<pre style=\"white-space:pre;overflow-x:auto;line-height:normal;font-family:Menlo,'DejaVu Sans Mono',consolas,'Courier New',monospace\"><span style=\"color: #008080; text-decoration-color: #008080; font-weight: bold\">9937235</span>\n",
       "</pre>\n"
      ],
      "text/plain": [
       "\u001b[1;36m9937235\u001b[0m\n"
      ]
     },
     "metadata": {},
     "output_type": "display_data"
    },
    {
     "data": {
      "text/html": [
       "<pre style=\"white-space:pre;overflow-x:auto;line-height:normal;font-family:Menlo,'DejaVu Sans Mono',consolas,'Courier New',monospace\"><span style=\"color: #008080; text-decoration-color: #008080; font-weight: bold\">9937236</span>\n",
       "</pre>\n"
      ],
      "text/plain": [
       "\u001b[1;36m9937236\u001b[0m\n"
      ]
     },
     "metadata": {},
     "output_type": "display_data"
    },
    {
     "data": {
      "text/html": [
       "<pre style=\"white-space:pre;overflow-x:auto;line-height:normal;font-family:Menlo,'DejaVu Sans Mono',consolas,'Courier New',monospace\"><span style=\"color: #008080; text-decoration-color: #008080; font-weight: bold\">9937237</span>\n",
       "</pre>\n"
      ],
      "text/plain": [
       "\u001b[1;36m9937237\u001b[0m\n"
      ]
     },
     "metadata": {},
     "output_type": "display_data"
    },
    {
     "data": {
      "text/html": [
       "<pre style=\"white-space:pre;overflow-x:auto;line-height:normal;font-family:Menlo,'DejaVu Sans Mono',consolas,'Courier New',monospace\"><span style=\"color: #008080; text-decoration-color: #008080; font-weight: bold\">9937238</span>\n",
       "</pre>\n"
      ],
      "text/plain": [
       "\u001b[1;36m9937238\u001b[0m\n"
      ]
     },
     "metadata": {},
     "output_type": "display_data"
    },
    {
     "data": {
      "text/html": [
       "<pre style=\"white-space:pre;overflow-x:auto;line-height:normal;font-family:Menlo,'DejaVu Sans Mono',consolas,'Courier New',monospace\"><span style=\"color: #008080; text-decoration-color: #008080; font-weight: bold\">9937239</span>\n",
       "</pre>\n"
      ],
      "text/plain": [
       "\u001b[1;36m9937239\u001b[0m\n"
      ]
     },
     "metadata": {},
     "output_type": "display_data"
    },
    {
     "data": {
      "text/html": [
       "<pre style=\"white-space:pre;overflow-x:auto;line-height:normal;font-family:Menlo,'DejaVu Sans Mono',consolas,'Courier New',monospace\"><span style=\"color: #008080; text-decoration-color: #008080; font-weight: bold\">9937240</span>\n",
       "</pre>\n"
      ],
      "text/plain": [
       "\u001b[1;36m9937240\u001b[0m\n"
      ]
     },
     "metadata": {},
     "output_type": "display_data"
    },
    {
     "data": {
      "text/html": [
       "<pre style=\"white-space:pre;overflow-x:auto;line-height:normal;font-family:Menlo,'DejaVu Sans Mono',consolas,'Courier New',monospace\"><span style=\"color: #008080; text-decoration-color: #008080; font-weight: bold\">9937241</span>\n",
       "</pre>\n"
      ],
      "text/plain": [
       "\u001b[1;36m9937241\u001b[0m\n"
      ]
     },
     "metadata": {},
     "output_type": "display_data"
    },
    {
     "data": {
      "text/html": [
       "<pre style=\"white-space:pre;overflow-x:auto;line-height:normal;font-family:Menlo,'DejaVu Sans Mono',consolas,'Courier New',monospace\"><span style=\"color: #008080; text-decoration-color: #008080; font-weight: bold\">9937242</span>\n",
       "</pre>\n"
      ],
      "text/plain": [
       "\u001b[1;36m9937242\u001b[0m\n"
      ]
     },
     "metadata": {},
     "output_type": "display_data"
    },
    {
     "data": {
      "text/html": [
       "<pre style=\"white-space:pre;overflow-x:auto;line-height:normal;font-family:Menlo,'DejaVu Sans Mono',consolas,'Courier New',monospace\"><span style=\"color: #008080; text-decoration-color: #008080; font-weight: bold\">9937243</span>\n",
       "</pre>\n"
      ],
      "text/plain": [
       "\u001b[1;36m9937243\u001b[0m\n"
      ]
     },
     "metadata": {},
     "output_type": "display_data"
    },
    {
     "data": {
      "text/html": [
       "<pre style=\"white-space:pre;overflow-x:auto;line-height:normal;font-family:Menlo,'DejaVu Sans Mono',consolas,'Courier New',monospace\"><span style=\"color: #008080; text-decoration-color: #008080; font-weight: bold\">9937244</span>\n",
       "</pre>\n"
      ],
      "text/plain": [
       "\u001b[1;36m9937244\u001b[0m\n"
      ]
     },
     "metadata": {},
     "output_type": "display_data"
    },
    {
     "data": {
      "text/html": [
       "<pre style=\"white-space:pre;overflow-x:auto;line-height:normal;font-family:Menlo,'DejaVu Sans Mono',consolas,'Courier New',monospace\"><span style=\"color: #008080; text-decoration-color: #008080; font-weight: bold\">9937245</span>\n",
       "</pre>\n"
      ],
      "text/plain": [
       "\u001b[1;36m9937245\u001b[0m\n"
      ]
     },
     "metadata": {},
     "output_type": "display_data"
    },
    {
     "data": {
      "text/html": [
       "<pre style=\"white-space:pre;overflow-x:auto;line-height:normal;font-family:Menlo,'DejaVu Sans Mono',consolas,'Courier New',monospace\"><span style=\"color: #008080; text-decoration-color: #008080; font-weight: bold\">9937246</span>\n",
       "</pre>\n"
      ],
      "text/plain": [
       "\u001b[1;36m9937246\u001b[0m\n"
      ]
     },
     "metadata": {},
     "output_type": "display_data"
    },
    {
     "data": {
      "text/html": [
       "<pre style=\"white-space:pre;overflow-x:auto;line-height:normal;font-family:Menlo,'DejaVu Sans Mono',consolas,'Courier New',monospace\"><span style=\"color: #008080; text-decoration-color: #008080; font-weight: bold\">9937247</span>\n",
       "</pre>\n"
      ],
      "text/plain": [
       "\u001b[1;36m9937247\u001b[0m\n"
      ]
     },
     "metadata": {},
     "output_type": "display_data"
    },
    {
     "data": {
      "text/html": [
       "<pre style=\"white-space:pre;overflow-x:auto;line-height:normal;font-family:Menlo,'DejaVu Sans Mono',consolas,'Courier New',monospace\"><span style=\"color: #008080; text-decoration-color: #008080; font-weight: bold\">9937248</span>\n",
       "</pre>\n"
      ],
      "text/plain": [
       "\u001b[1;36m9937248\u001b[0m\n"
      ]
     },
     "metadata": {},
     "output_type": "display_data"
    },
    {
     "data": {
      "text/html": [
       "<pre style=\"white-space:pre;overflow-x:auto;line-height:normal;font-family:Menlo,'DejaVu Sans Mono',consolas,'Courier New',monospace\"><span style=\"color: #008080; text-decoration-color: #008080; font-weight: bold\">9937249</span>\n",
       "</pre>\n"
      ],
      "text/plain": [
       "\u001b[1;36m9937249\u001b[0m\n"
      ]
     },
     "metadata": {},
     "output_type": "display_data"
    },
    {
     "data": {
      "text/html": [
       "<pre style=\"white-space:pre;overflow-x:auto;line-height:normal;font-family:Menlo,'DejaVu Sans Mono',consolas,'Courier New',monospace\"><span style=\"color: #008080; text-decoration-color: #008080; font-weight: bold\">9937250</span>\n",
       "</pre>\n"
      ],
      "text/plain": [
       "\u001b[1;36m9937250\u001b[0m\n"
      ]
     },
     "metadata": {},
     "output_type": "display_data"
    },
    {
     "data": {
      "text/html": [
       "<pre style=\"white-space:pre;overflow-x:auto;line-height:normal;font-family:Menlo,'DejaVu Sans Mono',consolas,'Courier New',monospace\"><span style=\"color: #008080; text-decoration-color: #008080; font-weight: bold\">9937251</span>\n",
       "</pre>\n"
      ],
      "text/plain": [
       "\u001b[1;36m9937251\u001b[0m\n"
      ]
     },
     "metadata": {},
     "output_type": "display_data"
    },
    {
     "data": {
      "text/html": [
       "<pre style=\"white-space:pre;overflow-x:auto;line-height:normal;font-family:Menlo,'DejaVu Sans Mono',consolas,'Courier New',monospace\"><span style=\"color: #008080; text-decoration-color: #008080; font-weight: bold\">9937252</span>\n",
       "</pre>\n"
      ],
      "text/plain": [
       "\u001b[1;36m9937252\u001b[0m\n"
      ]
     },
     "metadata": {},
     "output_type": "display_data"
    },
    {
     "data": {
      "text/html": [
       "<pre style=\"white-space:pre;overflow-x:auto;line-height:normal;font-family:Menlo,'DejaVu Sans Mono',consolas,'Courier New',monospace\"><span style=\"color: #008080; text-decoration-color: #008080; font-weight: bold\">9937253</span>\n",
       "</pre>\n"
      ],
      "text/plain": [
       "\u001b[1;36m9937253\u001b[0m\n"
      ]
     },
     "metadata": {},
     "output_type": "display_data"
    },
    {
     "data": {
      "text/html": [
       "<pre style=\"white-space:pre;overflow-x:auto;line-height:normal;font-family:Menlo,'DejaVu Sans Mono',consolas,'Courier New',monospace\"><span style=\"color: #008080; text-decoration-color: #008080; font-weight: bold\">9937254</span>\n",
       "</pre>\n"
      ],
      "text/plain": [
       "\u001b[1;36m9937254\u001b[0m\n"
      ]
     },
     "metadata": {},
     "output_type": "display_data"
    },
    {
     "data": {
      "text/html": [
       "<pre style=\"white-space:pre;overflow-x:auto;line-height:normal;font-family:Menlo,'DejaVu Sans Mono',consolas,'Courier New',monospace\"><span style=\"color: #008080; text-decoration-color: #008080; font-weight: bold\">9937255</span>\n",
       "</pre>\n"
      ],
      "text/plain": [
       "\u001b[1;36m9937255\u001b[0m\n"
      ]
     },
     "metadata": {},
     "output_type": "display_data"
    },
    {
     "data": {
      "text/html": [
       "<pre style=\"white-space:pre;overflow-x:auto;line-height:normal;font-family:Menlo,'DejaVu Sans Mono',consolas,'Courier New',monospace\"><span style=\"color: #008080; text-decoration-color: #008080; font-weight: bold\">9937256</span>\n",
       "</pre>\n"
      ],
      "text/plain": [
       "\u001b[1;36m9937256\u001b[0m\n"
      ]
     },
     "metadata": {},
     "output_type": "display_data"
    },
    {
     "data": {
      "text/html": [
       "<pre style=\"white-space:pre;overflow-x:auto;line-height:normal;font-family:Menlo,'DejaVu Sans Mono',consolas,'Courier New',monospace\"><span style=\"color: #008080; text-decoration-color: #008080; font-weight: bold\">9937257</span>\n",
       "</pre>\n"
      ],
      "text/plain": [
       "\u001b[1;36m9937257\u001b[0m\n"
      ]
     },
     "metadata": {},
     "output_type": "display_data"
    },
    {
     "data": {
      "text/html": [
       "<pre style=\"white-space:pre;overflow-x:auto;line-height:normal;font-family:Menlo,'DejaVu Sans Mono',consolas,'Courier New',monospace\"><span style=\"color: #008080; text-decoration-color: #008080; font-weight: bold\">9937258</span>\n",
       "</pre>\n"
      ],
      "text/plain": [
       "\u001b[1;36m9937258\u001b[0m\n"
      ]
     },
     "metadata": {},
     "output_type": "display_data"
    },
    {
     "data": {
      "text/html": [
       "<pre style=\"white-space:pre;overflow-x:auto;line-height:normal;font-family:Menlo,'DejaVu Sans Mono',consolas,'Courier New',monospace\"><span style=\"color: #008080; text-decoration-color: #008080; font-weight: bold\">9937259</span>\n",
       "</pre>\n"
      ],
      "text/plain": [
       "\u001b[1;36m9937259\u001b[0m\n"
      ]
     },
     "metadata": {},
     "output_type": "display_data"
    },
    {
     "data": {
      "text/html": [
       "<pre style=\"white-space:pre;overflow-x:auto;line-height:normal;font-family:Menlo,'DejaVu Sans Mono',consolas,'Courier New',monospace\"><span style=\"color: #008080; text-decoration-color: #008080; font-weight: bold\">9937260</span>\n",
       "</pre>\n"
      ],
      "text/plain": [
       "\u001b[1;36m9937260\u001b[0m\n"
      ]
     },
     "metadata": {},
     "output_type": "display_data"
    },
    {
     "data": {
      "text/html": [
       "<pre style=\"white-space:pre;overflow-x:auto;line-height:normal;font-family:Menlo,'DejaVu Sans Mono',consolas,'Courier New',monospace\"><span style=\"color: #008080; text-decoration-color: #008080; font-weight: bold\">9937261</span>\n",
       "</pre>\n"
      ],
      "text/plain": [
       "\u001b[1;36m9937261\u001b[0m\n"
      ]
     },
     "metadata": {},
     "output_type": "display_data"
    },
    {
     "data": {
      "text/html": [
       "<pre style=\"white-space:pre;overflow-x:auto;line-height:normal;font-family:Menlo,'DejaVu Sans Mono',consolas,'Courier New',monospace\"><span style=\"color: #008080; text-decoration-color: #008080; font-weight: bold\">9937262</span>\n",
       "</pre>\n"
      ],
      "text/plain": [
       "\u001b[1;36m9937262\u001b[0m\n"
      ]
     },
     "metadata": {},
     "output_type": "display_data"
    },
    {
     "data": {
      "text/html": [
       "<pre style=\"white-space:pre;overflow-x:auto;line-height:normal;font-family:Menlo,'DejaVu Sans Mono',consolas,'Courier New',monospace\"><span style=\"color: #008080; text-decoration-color: #008080; font-weight: bold\">9937263</span>\n",
       "</pre>\n"
      ],
      "text/plain": [
       "\u001b[1;36m9937263\u001b[0m\n"
      ]
     },
     "metadata": {},
     "output_type": "display_data"
    },
    {
     "data": {
      "text/html": [
       "<pre style=\"white-space:pre;overflow-x:auto;line-height:normal;font-family:Menlo,'DejaVu Sans Mono',consolas,'Courier New',monospace\"><span style=\"color: #008080; text-decoration-color: #008080; font-weight: bold\">9937264</span>\n",
       "</pre>\n"
      ],
      "text/plain": [
       "\u001b[1;36m9937264\u001b[0m\n"
      ]
     },
     "metadata": {},
     "output_type": "display_data"
    },
    {
     "data": {
      "text/html": [
       "<pre style=\"white-space:pre;overflow-x:auto;line-height:normal;font-family:Menlo,'DejaVu Sans Mono',consolas,'Courier New',monospace\"><span style=\"color: #008080; text-decoration-color: #008080; font-weight: bold\">9937265</span>\n",
       "</pre>\n"
      ],
      "text/plain": [
       "\u001b[1;36m9937265\u001b[0m\n"
      ]
     },
     "metadata": {},
     "output_type": "display_data"
    },
    {
     "data": {
      "text/html": [
       "<pre style=\"white-space:pre;overflow-x:auto;line-height:normal;font-family:Menlo,'DejaVu Sans Mono',consolas,'Courier New',monospace\"><span style=\"color: #008080; text-decoration-color: #008080; font-weight: bold\">9937266</span>\n",
       "</pre>\n"
      ],
      "text/plain": [
       "\u001b[1;36m9937266\u001b[0m\n"
      ]
     },
     "metadata": {},
     "output_type": "display_data"
    },
    {
     "data": {
      "text/html": [
       "<pre style=\"white-space:pre;overflow-x:auto;line-height:normal;font-family:Menlo,'DejaVu Sans Mono',consolas,'Courier New',monospace\"><span style=\"color: #008080; text-decoration-color: #008080; font-weight: bold\">9937267</span>\n",
       "</pre>\n"
      ],
      "text/plain": [
       "\u001b[1;36m9937267\u001b[0m\n"
      ]
     },
     "metadata": {},
     "output_type": "display_data"
    },
    {
     "data": {
      "text/html": [
       "<pre style=\"white-space:pre;overflow-x:auto;line-height:normal;font-family:Menlo,'DejaVu Sans Mono',consolas,'Courier New',monospace\"><span style=\"color: #008080; text-decoration-color: #008080; font-weight: bold\">9937268</span>\n",
       "</pre>\n"
      ],
      "text/plain": [
       "\u001b[1;36m9937268\u001b[0m\n"
      ]
     },
     "metadata": {},
     "output_type": "display_data"
    },
    {
     "data": {
      "text/html": [
       "<pre style=\"white-space:pre;overflow-x:auto;line-height:normal;font-family:Menlo,'DejaVu Sans Mono',consolas,'Courier New',monospace\"><span style=\"color: #008080; text-decoration-color: #008080; font-weight: bold\">9937269</span>\n",
       "</pre>\n"
      ],
      "text/plain": [
       "\u001b[1;36m9937269\u001b[0m\n"
      ]
     },
     "metadata": {},
     "output_type": "display_data"
    },
    {
     "data": {
      "text/html": [
       "<pre style=\"white-space:pre;overflow-x:auto;line-height:normal;font-family:Menlo,'DejaVu Sans Mono',consolas,'Courier New',monospace\"><span style=\"color: #008080; text-decoration-color: #008080; font-weight: bold\">9937270</span>\n",
       "</pre>\n"
      ],
      "text/plain": [
       "\u001b[1;36m9937270\u001b[0m\n"
      ]
     },
     "metadata": {},
     "output_type": "display_data"
    },
    {
     "data": {
      "text/html": [
       "<pre style=\"white-space:pre;overflow-x:auto;line-height:normal;font-family:Menlo,'DejaVu Sans Mono',consolas,'Courier New',monospace\"><span style=\"color: #008080; text-decoration-color: #008080; font-weight: bold\">9937271</span>\n",
       "</pre>\n"
      ],
      "text/plain": [
       "\u001b[1;36m9937271\u001b[0m\n"
      ]
     },
     "metadata": {},
     "output_type": "display_data"
    },
    {
     "data": {
      "text/html": [
       "<pre style=\"white-space:pre;overflow-x:auto;line-height:normal;font-family:Menlo,'DejaVu Sans Mono',consolas,'Courier New',monospace\"><span style=\"color: #008080; text-decoration-color: #008080; font-weight: bold\">9937272</span>\n",
       "</pre>\n"
      ],
      "text/plain": [
       "\u001b[1;36m9937272\u001b[0m\n"
      ]
     },
     "metadata": {},
     "output_type": "display_data"
    },
    {
     "data": {
      "text/html": [
       "<pre style=\"white-space:pre;overflow-x:auto;line-height:normal;font-family:Menlo,'DejaVu Sans Mono',consolas,'Courier New',monospace\"><span style=\"color: #008080; text-decoration-color: #008080; font-weight: bold\">9937273</span>\n",
       "</pre>\n"
      ],
      "text/plain": [
       "\u001b[1;36m9937273\u001b[0m\n"
      ]
     },
     "metadata": {},
     "output_type": "display_data"
    },
    {
     "data": {
      "text/html": [
       "<pre style=\"white-space:pre;overflow-x:auto;line-height:normal;font-family:Menlo,'DejaVu Sans Mono',consolas,'Courier New',monospace\"><span style=\"color: #008080; text-decoration-color: #008080; font-weight: bold\">9937274</span>\n",
       "</pre>\n"
      ],
      "text/plain": [
       "\u001b[1;36m9937274\u001b[0m\n"
      ]
     },
     "metadata": {},
     "output_type": "display_data"
    },
    {
     "data": {
      "text/html": [
       "<pre style=\"white-space:pre;overflow-x:auto;line-height:normal;font-family:Menlo,'DejaVu Sans Mono',consolas,'Courier New',monospace\"><span style=\"color: #008080; text-decoration-color: #008080; font-weight: bold\">9937275</span>\n",
       "</pre>\n"
      ],
      "text/plain": [
       "\u001b[1;36m9937275\u001b[0m\n"
      ]
     },
     "metadata": {},
     "output_type": "display_data"
    },
    {
     "data": {
      "text/html": [
       "<pre style=\"white-space:pre;overflow-x:auto;line-height:normal;font-family:Menlo,'DejaVu Sans Mono',consolas,'Courier New',monospace\"><span style=\"color: #008080; text-decoration-color: #008080; font-weight: bold\">9937276</span>\n",
       "</pre>\n"
      ],
      "text/plain": [
       "\u001b[1;36m9937276\u001b[0m\n"
      ]
     },
     "metadata": {},
     "output_type": "display_data"
    },
    {
     "data": {
      "text/html": [
       "<pre style=\"white-space:pre;overflow-x:auto;line-height:normal;font-family:Menlo,'DejaVu Sans Mono',consolas,'Courier New',monospace\"><span style=\"color: #008080; text-decoration-color: #008080; font-weight: bold\">9937277</span>\n",
       "</pre>\n"
      ],
      "text/plain": [
       "\u001b[1;36m9937277\u001b[0m\n"
      ]
     },
     "metadata": {},
     "output_type": "display_data"
    },
    {
     "data": {
      "text/html": [
       "<pre style=\"white-space:pre;overflow-x:auto;line-height:normal;font-family:Menlo,'DejaVu Sans Mono',consolas,'Courier New',monospace\"><span style=\"color: #008080; text-decoration-color: #008080; font-weight: bold\">9937278</span>\n",
       "</pre>\n"
      ],
      "text/plain": [
       "\u001b[1;36m9937278\u001b[0m\n"
      ]
     },
     "metadata": {},
     "output_type": "display_data"
    },
    {
     "data": {
      "text/html": [
       "<pre style=\"white-space:pre;overflow-x:auto;line-height:normal;font-family:Menlo,'DejaVu Sans Mono',consolas,'Courier New',monospace\"><span style=\"color: #008080; text-decoration-color: #008080; font-weight: bold\">9937279</span>\n",
       "</pre>\n"
      ],
      "text/plain": [
       "\u001b[1;36m9937279\u001b[0m\n"
      ]
     },
     "metadata": {},
     "output_type": "display_data"
    },
    {
     "data": {
      "text/html": [
       "<pre style=\"white-space:pre;overflow-x:auto;line-height:normal;font-family:Menlo,'DejaVu Sans Mono',consolas,'Courier New',monospace\"><span style=\"color: #008080; text-decoration-color: #008080; font-weight: bold\">9937280</span>\n",
       "</pre>\n"
      ],
      "text/plain": [
       "\u001b[1;36m9937280\u001b[0m\n"
      ]
     },
     "metadata": {},
     "output_type": "display_data"
    },
    {
     "data": {
      "text/html": [
       "<pre style=\"white-space:pre;overflow-x:auto;line-height:normal;font-family:Menlo,'DejaVu Sans Mono',consolas,'Courier New',monospace\"><span style=\"color: #008080; text-decoration-color: #008080; font-weight: bold\">9937281</span>\n",
       "</pre>\n"
      ],
      "text/plain": [
       "\u001b[1;36m9937281\u001b[0m\n"
      ]
     },
     "metadata": {},
     "output_type": "display_data"
    },
    {
     "data": {
      "text/html": [
       "<pre style=\"white-space:pre;overflow-x:auto;line-height:normal;font-family:Menlo,'DejaVu Sans Mono',consolas,'Courier New',monospace\"><span style=\"color: #008080; text-decoration-color: #008080; font-weight: bold\">9937282</span>\n",
       "</pre>\n"
      ],
      "text/plain": [
       "\u001b[1;36m9937282\u001b[0m\n"
      ]
     },
     "metadata": {},
     "output_type": "display_data"
    },
    {
     "data": {
      "text/html": [
       "<pre style=\"white-space:pre;overflow-x:auto;line-height:normal;font-family:Menlo,'DejaVu Sans Mono',consolas,'Courier New',monospace\"><span style=\"color: #008080; text-decoration-color: #008080; font-weight: bold\">9937283</span>\n",
       "</pre>\n"
      ],
      "text/plain": [
       "\u001b[1;36m9937283\u001b[0m\n"
      ]
     },
     "metadata": {},
     "output_type": "display_data"
    },
    {
     "data": {
      "text/html": [
       "<pre style=\"white-space:pre;overflow-x:auto;line-height:normal;font-family:Menlo,'DejaVu Sans Mono',consolas,'Courier New',monospace\"><span style=\"color: #008080; text-decoration-color: #008080; font-weight: bold\">9937284</span>\n",
       "</pre>\n"
      ],
      "text/plain": [
       "\u001b[1;36m9937284\u001b[0m\n"
      ]
     },
     "metadata": {},
     "output_type": "display_data"
    },
    {
     "data": {
      "text/html": [
       "<pre style=\"white-space:pre;overflow-x:auto;line-height:normal;font-family:Menlo,'DejaVu Sans Mono',consolas,'Courier New',monospace\"><span style=\"color: #008080; text-decoration-color: #008080; font-weight: bold\">9937285</span>\n",
       "</pre>\n"
      ],
      "text/plain": [
       "\u001b[1;36m9937285\u001b[0m\n"
      ]
     },
     "metadata": {},
     "output_type": "display_data"
    },
    {
     "data": {
      "text/html": [
       "<pre style=\"white-space:pre;overflow-x:auto;line-height:normal;font-family:Menlo,'DejaVu Sans Mono',consolas,'Courier New',monospace\"><span style=\"color: #008080; text-decoration-color: #008080; font-weight: bold\">9937286</span>\n",
       "</pre>\n"
      ],
      "text/plain": [
       "\u001b[1;36m9937286\u001b[0m\n"
      ]
     },
     "metadata": {},
     "output_type": "display_data"
    },
    {
     "data": {
      "text/html": [
       "<pre style=\"white-space:pre;overflow-x:auto;line-height:normal;font-family:Menlo,'DejaVu Sans Mono',consolas,'Courier New',monospace\"><span style=\"color: #008080; text-decoration-color: #008080; font-weight: bold\">9937287</span>\n",
       "</pre>\n"
      ],
      "text/plain": [
       "\u001b[1;36m9937287\u001b[0m\n"
      ]
     },
     "metadata": {},
     "output_type": "display_data"
    },
    {
     "data": {
      "text/html": [
       "<pre style=\"white-space:pre;overflow-x:auto;line-height:normal;font-family:Menlo,'DejaVu Sans Mono',consolas,'Courier New',monospace\"><span style=\"color: #008080; text-decoration-color: #008080; font-weight: bold\">9937288</span>\n",
       "</pre>\n"
      ],
      "text/plain": [
       "\u001b[1;36m9937288\u001b[0m\n"
      ]
     },
     "metadata": {},
     "output_type": "display_data"
    },
    {
     "data": {
      "text/html": [
       "<pre style=\"white-space:pre;overflow-x:auto;line-height:normal;font-family:Menlo,'DejaVu Sans Mono',consolas,'Courier New',monospace\"><span style=\"color: #008080; text-decoration-color: #008080; font-weight: bold\">9937289</span>\n",
       "</pre>\n"
      ],
      "text/plain": [
       "\u001b[1;36m9937289\u001b[0m\n"
      ]
     },
     "metadata": {},
     "output_type": "display_data"
    },
    {
     "data": {
      "text/html": [
       "<pre style=\"white-space:pre;overflow-x:auto;line-height:normal;font-family:Menlo,'DejaVu Sans Mono',consolas,'Courier New',monospace\"><span style=\"color: #008080; text-decoration-color: #008080; font-weight: bold\">9937290</span>\n",
       "</pre>\n"
      ],
      "text/plain": [
       "\u001b[1;36m9937290\u001b[0m\n"
      ]
     },
     "metadata": {},
     "output_type": "display_data"
    },
    {
     "data": {
      "text/html": [
       "<pre style=\"white-space:pre;overflow-x:auto;line-height:normal;font-family:Menlo,'DejaVu Sans Mono',consolas,'Courier New',monospace\"><span style=\"color: #008080; text-decoration-color: #008080; font-weight: bold\">9937291</span>\n",
       "</pre>\n"
      ],
      "text/plain": [
       "\u001b[1;36m9937291\u001b[0m\n"
      ]
     },
     "metadata": {},
     "output_type": "display_data"
    },
    {
     "data": {
      "text/html": [
       "<pre style=\"white-space:pre;overflow-x:auto;line-height:normal;font-family:Menlo,'DejaVu Sans Mono',consolas,'Courier New',monospace\"><span style=\"color: #008080; text-decoration-color: #008080; font-weight: bold\">9937292</span>\n",
       "</pre>\n"
      ],
      "text/plain": [
       "\u001b[1;36m9937292\u001b[0m\n"
      ]
     },
     "metadata": {},
     "output_type": "display_data"
    },
    {
     "data": {
      "text/html": [
       "<pre style=\"white-space:pre;overflow-x:auto;line-height:normal;font-family:Menlo,'DejaVu Sans Mono',consolas,'Courier New',monospace\"><span style=\"color: #008080; text-decoration-color: #008080; font-weight: bold\">9937293</span>\n",
       "</pre>\n"
      ],
      "text/plain": [
       "\u001b[1;36m9937293\u001b[0m\n"
      ]
     },
     "metadata": {},
     "output_type": "display_data"
    },
    {
     "data": {
      "text/html": [
       "<pre style=\"white-space:pre;overflow-x:auto;line-height:normal;font-family:Menlo,'DejaVu Sans Mono',consolas,'Courier New',monospace\"><span style=\"color: #008080; text-decoration-color: #008080; font-weight: bold\">9937294</span>\n",
       "</pre>\n"
      ],
      "text/plain": [
       "\u001b[1;36m9937294\u001b[0m\n"
      ]
     },
     "metadata": {},
     "output_type": "display_data"
    },
    {
     "data": {
      "text/html": [
       "<pre style=\"white-space:pre;overflow-x:auto;line-height:normal;font-family:Menlo,'DejaVu Sans Mono',consolas,'Courier New',monospace\"><span style=\"color: #008080; text-decoration-color: #008080; font-weight: bold\">9937295</span>\n",
       "</pre>\n"
      ],
      "text/plain": [
       "\u001b[1;36m9937295\u001b[0m\n"
      ]
     },
     "metadata": {},
     "output_type": "display_data"
    },
    {
     "data": {
      "text/html": [
       "<pre style=\"white-space:pre;overflow-x:auto;line-height:normal;font-family:Menlo,'DejaVu Sans Mono',consolas,'Courier New',monospace\"><span style=\"color: #008080; text-decoration-color: #008080; font-weight: bold\">9937296</span>\n",
       "</pre>\n"
      ],
      "text/plain": [
       "\u001b[1;36m9937296\u001b[0m\n"
      ]
     },
     "metadata": {},
     "output_type": "display_data"
    },
    {
     "data": {
      "text/html": [
       "<pre style=\"white-space:pre;overflow-x:auto;line-height:normal;font-family:Menlo,'DejaVu Sans Mono',consolas,'Courier New',monospace\"><span style=\"color: #008080; text-decoration-color: #008080; font-weight: bold\">9937297</span>\n",
       "</pre>\n"
      ],
      "text/plain": [
       "\u001b[1;36m9937297\u001b[0m\n"
      ]
     },
     "metadata": {},
     "output_type": "display_data"
    },
    {
     "data": {
      "text/html": [
       "<pre style=\"white-space:pre;overflow-x:auto;line-height:normal;font-family:Menlo,'DejaVu Sans Mono',consolas,'Courier New',monospace\"><span style=\"color: #008080; text-decoration-color: #008080; font-weight: bold\">9937298</span>\n",
       "</pre>\n"
      ],
      "text/plain": [
       "\u001b[1;36m9937298\u001b[0m\n"
      ]
     },
     "metadata": {},
     "output_type": "display_data"
    },
    {
     "data": {
      "text/html": [
       "<pre style=\"white-space:pre;overflow-x:auto;line-height:normal;font-family:Menlo,'DejaVu Sans Mono',consolas,'Courier New',monospace\"><span style=\"color: #008080; text-decoration-color: #008080; font-weight: bold\">9937299</span>\n",
       "</pre>\n"
      ],
      "text/plain": [
       "\u001b[1;36m9937299\u001b[0m\n"
      ]
     },
     "metadata": {},
     "output_type": "display_data"
    },
    {
     "data": {
      "text/html": [
       "<pre style=\"white-space:pre;overflow-x:auto;line-height:normal;font-family:Menlo,'DejaVu Sans Mono',consolas,'Courier New',monospace\"><span style=\"color: #008080; text-decoration-color: #008080; font-weight: bold\">9937300</span>\n",
       "</pre>\n"
      ],
      "text/plain": [
       "\u001b[1;36m9937300\u001b[0m\n"
      ]
     },
     "metadata": {},
     "output_type": "display_data"
    },
    {
     "data": {
      "text/html": [
       "<pre style=\"white-space:pre;overflow-x:auto;line-height:normal;font-family:Menlo,'DejaVu Sans Mono',consolas,'Courier New',monospace\"><span style=\"color: #008080; text-decoration-color: #008080; font-weight: bold\">9937301</span>\n",
       "</pre>\n"
      ],
      "text/plain": [
       "\u001b[1;36m9937301\u001b[0m\n"
      ]
     },
     "metadata": {},
     "output_type": "display_data"
    },
    {
     "data": {
      "text/html": [
       "<pre style=\"white-space:pre;overflow-x:auto;line-height:normal;font-family:Menlo,'DejaVu Sans Mono',consolas,'Courier New',monospace\"><span style=\"color: #008080; text-decoration-color: #008080; font-weight: bold\">9937302</span>\n",
       "</pre>\n"
      ],
      "text/plain": [
       "\u001b[1;36m9937302\u001b[0m\n"
      ]
     },
     "metadata": {},
     "output_type": "display_data"
    },
    {
     "data": {
      "text/html": [
       "<pre style=\"white-space:pre;overflow-x:auto;line-height:normal;font-family:Menlo,'DejaVu Sans Mono',consolas,'Courier New',monospace\"><span style=\"color: #008080; text-decoration-color: #008080; font-weight: bold\">9937303</span>\n",
       "</pre>\n"
      ],
      "text/plain": [
       "\u001b[1;36m9937303\u001b[0m\n"
      ]
     },
     "metadata": {},
     "output_type": "display_data"
    },
    {
     "data": {
      "text/html": [
       "<pre style=\"white-space:pre;overflow-x:auto;line-height:normal;font-family:Menlo,'DejaVu Sans Mono',consolas,'Courier New',monospace\"><span style=\"color: #008080; text-decoration-color: #008080; font-weight: bold\">9937304</span>\n",
       "</pre>\n"
      ],
      "text/plain": [
       "\u001b[1;36m9937304\u001b[0m\n"
      ]
     },
     "metadata": {},
     "output_type": "display_data"
    },
    {
     "data": {
      "text/html": [
       "<pre style=\"white-space:pre;overflow-x:auto;line-height:normal;font-family:Menlo,'DejaVu Sans Mono',consolas,'Courier New',monospace\"><span style=\"color: #008080; text-decoration-color: #008080; font-weight: bold\">9937305</span>\n",
       "</pre>\n"
      ],
      "text/plain": [
       "\u001b[1;36m9937305\u001b[0m\n"
      ]
     },
     "metadata": {},
     "output_type": "display_data"
    },
    {
     "data": {
      "text/html": [
       "<pre style=\"white-space:pre;overflow-x:auto;line-height:normal;font-family:Menlo,'DejaVu Sans Mono',consolas,'Courier New',monospace\"><span style=\"color: #008080; text-decoration-color: #008080; font-weight: bold\">9937306</span>\n",
       "</pre>\n"
      ],
      "text/plain": [
       "\u001b[1;36m9937306\u001b[0m\n"
      ]
     },
     "metadata": {},
     "output_type": "display_data"
    },
    {
     "data": {
      "text/html": [
       "<pre style=\"white-space:pre;overflow-x:auto;line-height:normal;font-family:Menlo,'DejaVu Sans Mono',consolas,'Courier New',monospace\"><span style=\"color: #008080; text-decoration-color: #008080; font-weight: bold\">9937307</span>\n",
       "</pre>\n"
      ],
      "text/plain": [
       "\u001b[1;36m9937307\u001b[0m\n"
      ]
     },
     "metadata": {},
     "output_type": "display_data"
    },
    {
     "data": {
      "text/html": [
       "<pre style=\"white-space:pre;overflow-x:auto;line-height:normal;font-family:Menlo,'DejaVu Sans Mono',consolas,'Courier New',monospace\"><span style=\"color: #008080; text-decoration-color: #008080; font-weight: bold\">9937308</span>\n",
       "</pre>\n"
      ],
      "text/plain": [
       "\u001b[1;36m9937308\u001b[0m\n"
      ]
     },
     "metadata": {},
     "output_type": "display_data"
    },
    {
     "data": {
      "text/html": [
       "<pre style=\"white-space:pre;overflow-x:auto;line-height:normal;font-family:Menlo,'DejaVu Sans Mono',consolas,'Courier New',monospace\"><span style=\"color: #008080; text-decoration-color: #008080; font-weight: bold\">9937309</span>\n",
       "</pre>\n"
      ],
      "text/plain": [
       "\u001b[1;36m9937309\u001b[0m\n"
      ]
     },
     "metadata": {},
     "output_type": "display_data"
    },
    {
     "data": {
      "text/html": [
       "<pre style=\"white-space:pre;overflow-x:auto;line-height:normal;font-family:Menlo,'DejaVu Sans Mono',consolas,'Courier New',monospace\"><span style=\"color: #008080; text-decoration-color: #008080; font-weight: bold\">9937310</span>\n",
       "</pre>\n"
      ],
      "text/plain": [
       "\u001b[1;36m9937310\u001b[0m\n"
      ]
     },
     "metadata": {},
     "output_type": "display_data"
    },
    {
     "data": {
      "text/html": [
       "<pre style=\"white-space:pre;overflow-x:auto;line-height:normal;font-family:Menlo,'DejaVu Sans Mono',consolas,'Courier New',monospace\"><span style=\"color: #008080; text-decoration-color: #008080; font-weight: bold\">9937311</span>\n",
       "</pre>\n"
      ],
      "text/plain": [
       "\u001b[1;36m9937311\u001b[0m\n"
      ]
     },
     "metadata": {},
     "output_type": "display_data"
    },
    {
     "data": {
      "text/html": [
       "<pre style=\"white-space:pre;overflow-x:auto;line-height:normal;font-family:Menlo,'DejaVu Sans Mono',consolas,'Courier New',monospace\"><span style=\"color: #008080; text-decoration-color: #008080; font-weight: bold\">9937312</span>\n",
       "</pre>\n"
      ],
      "text/plain": [
       "\u001b[1;36m9937312\u001b[0m\n"
      ]
     },
     "metadata": {},
     "output_type": "display_data"
    },
    {
     "data": {
      "text/html": [
       "<pre style=\"white-space:pre;overflow-x:auto;line-height:normal;font-family:Menlo,'DejaVu Sans Mono',consolas,'Courier New',monospace\"><span style=\"color: #008080; text-decoration-color: #008080; font-weight: bold\">9937313</span>\n",
       "</pre>\n"
      ],
      "text/plain": [
       "\u001b[1;36m9937313\u001b[0m\n"
      ]
     },
     "metadata": {},
     "output_type": "display_data"
    },
    {
     "data": {
      "text/html": [
       "<pre style=\"white-space:pre;overflow-x:auto;line-height:normal;font-family:Menlo,'DejaVu Sans Mono',consolas,'Courier New',monospace\"><span style=\"color: #008080; text-decoration-color: #008080; font-weight: bold\">9937314</span>\n",
       "</pre>\n"
      ],
      "text/plain": [
       "\u001b[1;36m9937314\u001b[0m\n"
      ]
     },
     "metadata": {},
     "output_type": "display_data"
    },
    {
     "data": {
      "text/html": [
       "<pre style=\"white-space:pre;overflow-x:auto;line-height:normal;font-family:Menlo,'DejaVu Sans Mono',consolas,'Courier New',monospace\"><span style=\"color: #008080; text-decoration-color: #008080; font-weight: bold\">9937315</span>\n",
       "</pre>\n"
      ],
      "text/plain": [
       "\u001b[1;36m9937315\u001b[0m\n"
      ]
     },
     "metadata": {},
     "output_type": "display_data"
    },
    {
     "data": {
      "text/html": [
       "<pre style=\"white-space:pre;overflow-x:auto;line-height:normal;font-family:Menlo,'DejaVu Sans Mono',consolas,'Courier New',monospace\"><span style=\"color: #008080; text-decoration-color: #008080; font-weight: bold\">9937316</span>\n",
       "</pre>\n"
      ],
      "text/plain": [
       "\u001b[1;36m9937316\u001b[0m\n"
      ]
     },
     "metadata": {},
     "output_type": "display_data"
    },
    {
     "data": {
      "text/html": [
       "<pre style=\"white-space:pre;overflow-x:auto;line-height:normal;font-family:Menlo,'DejaVu Sans Mono',consolas,'Courier New',monospace\"><span style=\"color: #008080; text-decoration-color: #008080; font-weight: bold\">9937317</span>\n",
       "</pre>\n"
      ],
      "text/plain": [
       "\u001b[1;36m9937317\u001b[0m\n"
      ]
     },
     "metadata": {},
     "output_type": "display_data"
    },
    {
     "data": {
      "text/html": [
       "<pre style=\"white-space:pre;overflow-x:auto;line-height:normal;font-family:Menlo,'DejaVu Sans Mono',consolas,'Courier New',monospace\"><span style=\"color: #008080; text-decoration-color: #008080; font-weight: bold\">9937318</span>\n",
       "</pre>\n"
      ],
      "text/plain": [
       "\u001b[1;36m9937318\u001b[0m\n"
      ]
     },
     "metadata": {},
     "output_type": "display_data"
    },
    {
     "data": {
      "text/html": [
       "<pre style=\"white-space:pre;overflow-x:auto;line-height:normal;font-family:Menlo,'DejaVu Sans Mono',consolas,'Courier New',monospace\"><span style=\"color: #008080; text-decoration-color: #008080; font-weight: bold\">9937319</span>\n",
       "</pre>\n"
      ],
      "text/plain": [
       "\u001b[1;36m9937319\u001b[0m\n"
      ]
     },
     "metadata": {},
     "output_type": "display_data"
    },
    {
     "data": {
      "text/html": [
       "<pre style=\"white-space:pre;overflow-x:auto;line-height:normal;font-family:Menlo,'DejaVu Sans Mono',consolas,'Courier New',monospace\"><span style=\"color: #008080; text-decoration-color: #008080; font-weight: bold\">9937320</span>\n",
       "</pre>\n"
      ],
      "text/plain": [
       "\u001b[1;36m9937320\u001b[0m\n"
      ]
     },
     "metadata": {},
     "output_type": "display_data"
    },
    {
     "data": {
      "text/html": [
       "<pre style=\"white-space:pre;overflow-x:auto;line-height:normal;font-family:Menlo,'DejaVu Sans Mono',consolas,'Courier New',monospace\"><span style=\"color: #008080; text-decoration-color: #008080; font-weight: bold\">9937321</span>\n",
       "</pre>\n"
      ],
      "text/plain": [
       "\u001b[1;36m9937321\u001b[0m\n"
      ]
     },
     "metadata": {},
     "output_type": "display_data"
    },
    {
     "data": {
      "text/html": [
       "<pre style=\"white-space:pre;overflow-x:auto;line-height:normal;font-family:Menlo,'DejaVu Sans Mono',consolas,'Courier New',monospace\"><span style=\"color: #008080; text-decoration-color: #008080; font-weight: bold\">9937322</span>\n",
       "</pre>\n"
      ],
      "text/plain": [
       "\u001b[1;36m9937322\u001b[0m\n"
      ]
     },
     "metadata": {},
     "output_type": "display_data"
    },
    {
     "data": {
      "text/html": [
       "<pre style=\"white-space:pre;overflow-x:auto;line-height:normal;font-family:Menlo,'DejaVu Sans Mono',consolas,'Courier New',monospace\"><span style=\"color: #008080; text-decoration-color: #008080; font-weight: bold\">9937323</span>\n",
       "</pre>\n"
      ],
      "text/plain": [
       "\u001b[1;36m9937323\u001b[0m\n"
      ]
     },
     "metadata": {},
     "output_type": "display_data"
    },
    {
     "data": {
      "text/html": [
       "<pre style=\"white-space:pre;overflow-x:auto;line-height:normal;font-family:Menlo,'DejaVu Sans Mono',consolas,'Courier New',monospace\"><span style=\"color: #008080; text-decoration-color: #008080; font-weight: bold\">9937324</span>\n",
       "</pre>\n"
      ],
      "text/plain": [
       "\u001b[1;36m9937324\u001b[0m\n"
      ]
     },
     "metadata": {},
     "output_type": "display_data"
    },
    {
     "data": {
      "text/html": [
       "<pre style=\"white-space:pre;overflow-x:auto;line-height:normal;font-family:Menlo,'DejaVu Sans Mono',consolas,'Courier New',monospace\"><span style=\"color: #008080; text-decoration-color: #008080; font-weight: bold\">9937325</span>\n",
       "</pre>\n"
      ],
      "text/plain": [
       "\u001b[1;36m9937325\u001b[0m\n"
      ]
     },
     "metadata": {},
     "output_type": "display_data"
    },
    {
     "data": {
      "text/html": [
       "<pre style=\"white-space:pre;overflow-x:auto;line-height:normal;font-family:Menlo,'DejaVu Sans Mono',consolas,'Courier New',monospace\"><span style=\"color: #008080; text-decoration-color: #008080; font-weight: bold\">9937326</span>\n",
       "</pre>\n"
      ],
      "text/plain": [
       "\u001b[1;36m9937326\u001b[0m\n"
      ]
     },
     "metadata": {},
     "output_type": "display_data"
    },
    {
     "data": {
      "text/html": [
       "<pre style=\"white-space:pre;overflow-x:auto;line-height:normal;font-family:Menlo,'DejaVu Sans Mono',consolas,'Courier New',monospace\"><span style=\"color: #008080; text-decoration-color: #008080; font-weight: bold\">9937327</span>\n",
       "</pre>\n"
      ],
      "text/plain": [
       "\u001b[1;36m9937327\u001b[0m\n"
      ]
     },
     "metadata": {},
     "output_type": "display_data"
    },
    {
     "data": {
      "text/html": [
       "<pre style=\"white-space:pre;overflow-x:auto;line-height:normal;font-family:Menlo,'DejaVu Sans Mono',consolas,'Courier New',monospace\"><span style=\"color: #008080; text-decoration-color: #008080; font-weight: bold\">9937328</span>\n",
       "</pre>\n"
      ],
      "text/plain": [
       "\u001b[1;36m9937328\u001b[0m\n"
      ]
     },
     "metadata": {},
     "output_type": "display_data"
    },
    {
     "data": {
      "text/html": [
       "<pre style=\"white-space:pre;overflow-x:auto;line-height:normal;font-family:Menlo,'DejaVu Sans Mono',consolas,'Courier New',monospace\"><span style=\"color: #008080; text-decoration-color: #008080; font-weight: bold\">9937329</span>\n",
       "</pre>\n"
      ],
      "text/plain": [
       "\u001b[1;36m9937329\u001b[0m\n"
      ]
     },
     "metadata": {},
     "output_type": "display_data"
    },
    {
     "data": {
      "text/html": [
       "<pre style=\"white-space:pre;overflow-x:auto;line-height:normal;font-family:Menlo,'DejaVu Sans Mono',consolas,'Courier New',monospace\"><span style=\"color: #008080; text-decoration-color: #008080; font-weight: bold\">9937330</span>\n",
       "</pre>\n"
      ],
      "text/plain": [
       "\u001b[1;36m9937330\u001b[0m\n"
      ]
     },
     "metadata": {},
     "output_type": "display_data"
    },
    {
     "data": {
      "text/html": [
       "<pre style=\"white-space:pre;overflow-x:auto;line-height:normal;font-family:Menlo,'DejaVu Sans Mono',consolas,'Courier New',monospace\"><span style=\"color: #008080; text-decoration-color: #008080; font-weight: bold\">9937331</span>\n",
       "</pre>\n"
      ],
      "text/plain": [
       "\u001b[1;36m9937331\u001b[0m\n"
      ]
     },
     "metadata": {},
     "output_type": "display_data"
    },
    {
     "data": {
      "text/html": [
       "<pre style=\"white-space:pre;overflow-x:auto;line-height:normal;font-family:Menlo,'DejaVu Sans Mono',consolas,'Courier New',monospace\"><span style=\"color: #008080; text-decoration-color: #008080; font-weight: bold\">9937332</span>\n",
       "</pre>\n"
      ],
      "text/plain": [
       "\u001b[1;36m9937332\u001b[0m\n"
      ]
     },
     "metadata": {},
     "output_type": "display_data"
    },
    {
     "data": {
      "text/html": [
       "<pre style=\"white-space:pre;overflow-x:auto;line-height:normal;font-family:Menlo,'DejaVu Sans Mono',consolas,'Courier New',monospace\"><span style=\"color: #008080; text-decoration-color: #008080; font-weight: bold\">9937333</span>\n",
       "</pre>\n"
      ],
      "text/plain": [
       "\u001b[1;36m9937333\u001b[0m\n"
      ]
     },
     "metadata": {},
     "output_type": "display_data"
    },
    {
     "data": {
      "text/html": [
       "<pre style=\"white-space:pre;overflow-x:auto;line-height:normal;font-family:Menlo,'DejaVu Sans Mono',consolas,'Courier New',monospace\"><span style=\"color: #008080; text-decoration-color: #008080; font-weight: bold\">9937334</span>\n",
       "</pre>\n"
      ],
      "text/plain": [
       "\u001b[1;36m9937334\u001b[0m\n"
      ]
     },
     "metadata": {},
     "output_type": "display_data"
    },
    {
     "data": {
      "text/html": [
       "<pre style=\"white-space:pre;overflow-x:auto;line-height:normal;font-family:Menlo,'DejaVu Sans Mono',consolas,'Courier New',monospace\"><span style=\"color: #008080; text-decoration-color: #008080; font-weight: bold\">9937335</span>\n",
       "</pre>\n"
      ],
      "text/plain": [
       "\u001b[1;36m9937335\u001b[0m\n"
      ]
     },
     "metadata": {},
     "output_type": "display_data"
    },
    {
     "data": {
      "text/html": [
       "<pre style=\"white-space:pre;overflow-x:auto;line-height:normal;font-family:Menlo,'DejaVu Sans Mono',consolas,'Courier New',monospace\"><span style=\"color: #008080; text-decoration-color: #008080; font-weight: bold\">9937336</span>\n",
       "</pre>\n"
      ],
      "text/plain": [
       "\u001b[1;36m9937336\u001b[0m\n"
      ]
     },
     "metadata": {},
     "output_type": "display_data"
    },
    {
     "data": {
      "text/html": [
       "<pre style=\"white-space:pre;overflow-x:auto;line-height:normal;font-family:Menlo,'DejaVu Sans Mono',consolas,'Courier New',monospace\"><span style=\"color: #008080; text-decoration-color: #008080; font-weight: bold\">9937337</span>\n",
       "</pre>\n"
      ],
      "text/plain": [
       "\u001b[1;36m9937337\u001b[0m\n"
      ]
     },
     "metadata": {},
     "output_type": "display_data"
    },
    {
     "data": {
      "text/html": [
       "<pre style=\"white-space:pre;overflow-x:auto;line-height:normal;font-family:Menlo,'DejaVu Sans Mono',consolas,'Courier New',monospace\"><span style=\"color: #008080; text-decoration-color: #008080; font-weight: bold\">9937338</span>\n",
       "</pre>\n"
      ],
      "text/plain": [
       "\u001b[1;36m9937338\u001b[0m\n"
      ]
     },
     "metadata": {},
     "output_type": "display_data"
    },
    {
     "data": {
      "text/html": [
       "<pre style=\"white-space:pre;overflow-x:auto;line-height:normal;font-family:Menlo,'DejaVu Sans Mono',consolas,'Courier New',monospace\"><span style=\"color: #008080; text-decoration-color: #008080; font-weight: bold\">9937339</span>\n",
       "</pre>\n"
      ],
      "text/plain": [
       "\u001b[1;36m9937339\u001b[0m\n"
      ]
     },
     "metadata": {},
     "output_type": "display_data"
    },
    {
     "data": {
      "text/html": [
       "<pre style=\"white-space:pre;overflow-x:auto;line-height:normal;font-family:Menlo,'DejaVu Sans Mono',consolas,'Courier New',monospace\"><span style=\"color: #008080; text-decoration-color: #008080; font-weight: bold\">9937340</span>\n",
       "</pre>\n"
      ],
      "text/plain": [
       "\u001b[1;36m9937340\u001b[0m\n"
      ]
     },
     "metadata": {},
     "output_type": "display_data"
    },
    {
     "data": {
      "text/html": [
       "<pre style=\"white-space:pre;overflow-x:auto;line-height:normal;font-family:Menlo,'DejaVu Sans Mono',consolas,'Courier New',monospace\"><span style=\"color: #008080; text-decoration-color: #008080; font-weight: bold\">9937341</span>\n",
       "</pre>\n"
      ],
      "text/plain": [
       "\u001b[1;36m9937341\u001b[0m\n"
      ]
     },
     "metadata": {},
     "output_type": "display_data"
    },
    {
     "data": {
      "text/html": [
       "<pre style=\"white-space:pre;overflow-x:auto;line-height:normal;font-family:Menlo,'DejaVu Sans Mono',consolas,'Courier New',monospace\"><span style=\"color: #008080; text-decoration-color: #008080; font-weight: bold\">9937342</span>\n",
       "</pre>\n"
      ],
      "text/plain": [
       "\u001b[1;36m9937342\u001b[0m\n"
      ]
     },
     "metadata": {},
     "output_type": "display_data"
    },
    {
     "data": {
      "text/html": [
       "<pre style=\"white-space:pre;overflow-x:auto;line-height:normal;font-family:Menlo,'DejaVu Sans Mono',consolas,'Courier New',monospace\"><span style=\"color: #008080; text-decoration-color: #008080; font-weight: bold\">9937343</span>\n",
       "</pre>\n"
      ],
      "text/plain": [
       "\u001b[1;36m9937343\u001b[0m\n"
      ]
     },
     "metadata": {},
     "output_type": "display_data"
    },
    {
     "data": {
      "text/html": [
       "<pre style=\"white-space:pre;overflow-x:auto;line-height:normal;font-family:Menlo,'DejaVu Sans Mono',consolas,'Courier New',monospace\"><span style=\"color: #008080; text-decoration-color: #008080; font-weight: bold\">9937344</span>\n",
       "</pre>\n"
      ],
      "text/plain": [
       "\u001b[1;36m9937344\u001b[0m\n"
      ]
     },
     "metadata": {},
     "output_type": "display_data"
    },
    {
     "data": {
      "text/html": [
       "<pre style=\"white-space:pre;overflow-x:auto;line-height:normal;font-family:Menlo,'DejaVu Sans Mono',consolas,'Courier New',monospace\"><span style=\"color: #008080; text-decoration-color: #008080; font-weight: bold\">9937345</span>\n",
       "</pre>\n"
      ],
      "text/plain": [
       "\u001b[1;36m9937345\u001b[0m\n"
      ]
     },
     "metadata": {},
     "output_type": "display_data"
    },
    {
     "data": {
      "text/html": [
       "<pre style=\"white-space:pre;overflow-x:auto;line-height:normal;font-family:Menlo,'DejaVu Sans Mono',consolas,'Courier New',monospace\"><span style=\"color: #008080; text-decoration-color: #008080; font-weight: bold\">9937346</span>\n",
       "</pre>\n"
      ],
      "text/plain": [
       "\u001b[1;36m9937346\u001b[0m\n"
      ]
     },
     "metadata": {},
     "output_type": "display_data"
    },
    {
     "data": {
      "text/html": [
       "<pre style=\"white-space:pre;overflow-x:auto;line-height:normal;font-family:Menlo,'DejaVu Sans Mono',consolas,'Courier New',monospace\"><span style=\"color: #008080; text-decoration-color: #008080; font-weight: bold\">9937347</span>\n",
       "</pre>\n"
      ],
      "text/plain": [
       "\u001b[1;36m9937347\u001b[0m\n"
      ]
     },
     "metadata": {},
     "output_type": "display_data"
    },
    {
     "data": {
      "text/html": [
       "<pre style=\"white-space:pre;overflow-x:auto;line-height:normal;font-family:Menlo,'DejaVu Sans Mono',consolas,'Courier New',monospace\"><span style=\"color: #008080; text-decoration-color: #008080; font-weight: bold\">9937348</span>\n",
       "</pre>\n"
      ],
      "text/plain": [
       "\u001b[1;36m9937348\u001b[0m\n"
      ]
     },
     "metadata": {},
     "output_type": "display_data"
    },
    {
     "data": {
      "text/html": [
       "<pre style=\"white-space:pre;overflow-x:auto;line-height:normal;font-family:Menlo,'DejaVu Sans Mono',consolas,'Courier New',monospace\"><span style=\"color: #008080; text-decoration-color: #008080; font-weight: bold\">9937349</span>\n",
       "</pre>\n"
      ],
      "text/plain": [
       "\u001b[1;36m9937349\u001b[0m\n"
      ]
     },
     "metadata": {},
     "output_type": "display_data"
    },
    {
     "data": {
      "text/html": [
       "<pre style=\"white-space:pre;overflow-x:auto;line-height:normal;font-family:Menlo,'DejaVu Sans Mono',consolas,'Courier New',monospace\"><span style=\"color: #008080; text-decoration-color: #008080; font-weight: bold\">9937350</span>\n",
       "</pre>\n"
      ],
      "text/plain": [
       "\u001b[1;36m9937350\u001b[0m\n"
      ]
     },
     "metadata": {},
     "output_type": "display_data"
    },
    {
     "data": {
      "text/html": [
       "<pre style=\"white-space:pre;overflow-x:auto;line-height:normal;font-family:Menlo,'DejaVu Sans Mono',consolas,'Courier New',monospace\"><span style=\"color: #008080; text-decoration-color: #008080; font-weight: bold\">9937351</span>\n",
       "</pre>\n"
      ],
      "text/plain": [
       "\u001b[1;36m9937351\u001b[0m\n"
      ]
     },
     "metadata": {},
     "output_type": "display_data"
    },
    {
     "data": {
      "text/html": [
       "<pre style=\"white-space:pre;overflow-x:auto;line-height:normal;font-family:Menlo,'DejaVu Sans Mono',consolas,'Courier New',monospace\"><span style=\"color: #008080; text-decoration-color: #008080; font-weight: bold\">9937352</span>\n",
       "</pre>\n"
      ],
      "text/plain": [
       "\u001b[1;36m9937352\u001b[0m\n"
      ]
     },
     "metadata": {},
     "output_type": "display_data"
    },
    {
     "data": {
      "text/html": [
       "<pre style=\"white-space:pre;overflow-x:auto;line-height:normal;font-family:Menlo,'DejaVu Sans Mono',consolas,'Courier New',monospace\"><span style=\"color: #008080; text-decoration-color: #008080; font-weight: bold\">9937353</span>\n",
       "</pre>\n"
      ],
      "text/plain": [
       "\u001b[1;36m9937353\u001b[0m\n"
      ]
     },
     "metadata": {},
     "output_type": "display_data"
    },
    {
     "data": {
      "text/html": [
       "<pre style=\"white-space:pre;overflow-x:auto;line-height:normal;font-family:Menlo,'DejaVu Sans Mono',consolas,'Courier New',monospace\"><span style=\"color: #008080; text-decoration-color: #008080; font-weight: bold\">9937354</span>\n",
       "</pre>\n"
      ],
      "text/plain": [
       "\u001b[1;36m9937354\u001b[0m\n"
      ]
     },
     "metadata": {},
     "output_type": "display_data"
    },
    {
     "data": {
      "text/html": [
       "<pre style=\"white-space:pre;overflow-x:auto;line-height:normal;font-family:Menlo,'DejaVu Sans Mono',consolas,'Courier New',monospace\"><span style=\"color: #008080; text-decoration-color: #008080; font-weight: bold\">9937355</span>\n",
       "</pre>\n"
      ],
      "text/plain": [
       "\u001b[1;36m9937355\u001b[0m\n"
      ]
     },
     "metadata": {},
     "output_type": "display_data"
    },
    {
     "data": {
      "text/html": [
       "<pre style=\"white-space:pre;overflow-x:auto;line-height:normal;font-family:Menlo,'DejaVu Sans Mono',consolas,'Courier New',monospace\"><span style=\"color: #008080; text-decoration-color: #008080; font-weight: bold\">9937356</span>\n",
       "</pre>\n"
      ],
      "text/plain": [
       "\u001b[1;36m9937356\u001b[0m\n"
      ]
     },
     "metadata": {},
     "output_type": "display_data"
    },
    {
     "data": {
      "text/html": [
       "<pre style=\"white-space:pre;overflow-x:auto;line-height:normal;font-family:Menlo,'DejaVu Sans Mono',consolas,'Courier New',monospace\"><span style=\"color: #008080; text-decoration-color: #008080; font-weight: bold\">9937357</span>\n",
       "</pre>\n"
      ],
      "text/plain": [
       "\u001b[1;36m9937357\u001b[0m\n"
      ]
     },
     "metadata": {},
     "output_type": "display_data"
    },
    {
     "data": {
      "text/html": [
       "<pre style=\"white-space:pre;overflow-x:auto;line-height:normal;font-family:Menlo,'DejaVu Sans Mono',consolas,'Courier New',monospace\"><span style=\"color: #008080; text-decoration-color: #008080; font-weight: bold\">9937358</span>\n",
       "</pre>\n"
      ],
      "text/plain": [
       "\u001b[1;36m9937358\u001b[0m\n"
      ]
     },
     "metadata": {},
     "output_type": "display_data"
    },
    {
     "data": {
      "text/html": [
       "<pre style=\"white-space:pre;overflow-x:auto;line-height:normal;font-family:Menlo,'DejaVu Sans Mono',consolas,'Courier New',monospace\"><span style=\"color: #008080; text-decoration-color: #008080; font-weight: bold\">9937359</span>\n",
       "</pre>\n"
      ],
      "text/plain": [
       "\u001b[1;36m9937359\u001b[0m\n"
      ]
     },
     "metadata": {},
     "output_type": "display_data"
    },
    {
     "data": {
      "text/html": [
       "<pre style=\"white-space:pre;overflow-x:auto;line-height:normal;font-family:Menlo,'DejaVu Sans Mono',consolas,'Courier New',monospace\"><span style=\"color: #008080; text-decoration-color: #008080; font-weight: bold\">9937360</span>\n",
       "</pre>\n"
      ],
      "text/plain": [
       "\u001b[1;36m9937360\u001b[0m\n"
      ]
     },
     "metadata": {},
     "output_type": "display_data"
    },
    {
     "data": {
      "text/html": [
       "<pre style=\"white-space:pre;overflow-x:auto;line-height:normal;font-family:Menlo,'DejaVu Sans Mono',consolas,'Courier New',monospace\"><span style=\"color: #008080; text-decoration-color: #008080; font-weight: bold\">9937361</span>\n",
       "</pre>\n"
      ],
      "text/plain": [
       "\u001b[1;36m9937361\u001b[0m\n"
      ]
     },
     "metadata": {},
     "output_type": "display_data"
    },
    {
     "data": {
      "text/html": [
       "<pre style=\"white-space:pre;overflow-x:auto;line-height:normal;font-family:Menlo,'DejaVu Sans Mono',consolas,'Courier New',monospace\"><span style=\"color: #008080; text-decoration-color: #008080; font-weight: bold\">9937362</span>\n",
       "</pre>\n"
      ],
      "text/plain": [
       "\u001b[1;36m9937362\u001b[0m\n"
      ]
     },
     "metadata": {},
     "output_type": "display_data"
    },
    {
     "data": {
      "text/html": [
       "<pre style=\"white-space:pre;overflow-x:auto;line-height:normal;font-family:Menlo,'DejaVu Sans Mono',consolas,'Courier New',monospace\"><span style=\"color: #008080; text-decoration-color: #008080; font-weight: bold\">9937363</span>\n",
       "</pre>\n"
      ],
      "text/plain": [
       "\u001b[1;36m9937363\u001b[0m\n"
      ]
     },
     "metadata": {},
     "output_type": "display_data"
    },
    {
     "data": {
      "text/html": [
       "<pre style=\"white-space:pre;overflow-x:auto;line-height:normal;font-family:Menlo,'DejaVu Sans Mono',consolas,'Courier New',monospace\"><span style=\"color: #008080; text-decoration-color: #008080; font-weight: bold\">9937364</span>\n",
       "</pre>\n"
      ],
      "text/plain": [
       "\u001b[1;36m9937364\u001b[0m\n"
      ]
     },
     "metadata": {},
     "output_type": "display_data"
    },
    {
     "data": {
      "text/html": [
       "<pre style=\"white-space:pre;overflow-x:auto;line-height:normal;font-family:Menlo,'DejaVu Sans Mono',consolas,'Courier New',monospace\"><span style=\"color: #008080; text-decoration-color: #008080; font-weight: bold\">9937365</span>\n",
       "</pre>\n"
      ],
      "text/plain": [
       "\u001b[1;36m9937365\u001b[0m\n"
      ]
     },
     "metadata": {},
     "output_type": "display_data"
    },
    {
     "data": {
      "text/html": [
       "<pre style=\"white-space:pre;overflow-x:auto;line-height:normal;font-family:Menlo,'DejaVu Sans Mono',consolas,'Courier New',monospace\"><span style=\"color: #008080; text-decoration-color: #008080; font-weight: bold\">9937366</span>\n",
       "</pre>\n"
      ],
      "text/plain": [
       "\u001b[1;36m9937366\u001b[0m\n"
      ]
     },
     "metadata": {},
     "output_type": "display_data"
    },
    {
     "data": {
      "text/html": [
       "<pre style=\"white-space:pre;overflow-x:auto;line-height:normal;font-family:Menlo,'DejaVu Sans Mono',consolas,'Courier New',monospace\"><span style=\"color: #008080; text-decoration-color: #008080; font-weight: bold\">9937367</span>\n",
       "</pre>\n"
      ],
      "text/plain": [
       "\u001b[1;36m9937367\u001b[0m\n"
      ]
     },
     "metadata": {},
     "output_type": "display_data"
    },
    {
     "data": {
      "text/html": [
       "<pre style=\"white-space:pre;overflow-x:auto;line-height:normal;font-family:Menlo,'DejaVu Sans Mono',consolas,'Courier New',monospace\"><span style=\"color: #008080; text-decoration-color: #008080; font-weight: bold\">9937368</span>\n",
       "</pre>\n"
      ],
      "text/plain": [
       "\u001b[1;36m9937368\u001b[0m\n"
      ]
     },
     "metadata": {},
     "output_type": "display_data"
    },
    {
     "data": {
      "text/html": [
       "<pre style=\"white-space:pre;overflow-x:auto;line-height:normal;font-family:Menlo,'DejaVu Sans Mono',consolas,'Courier New',monospace\"><span style=\"color: #008080; text-decoration-color: #008080; font-weight: bold\">9937369</span>\n",
       "</pre>\n"
      ],
      "text/plain": [
       "\u001b[1;36m9937369\u001b[0m\n"
      ]
     },
     "metadata": {},
     "output_type": "display_data"
    },
    {
     "data": {
      "text/html": [
       "<pre style=\"white-space:pre;overflow-x:auto;line-height:normal;font-family:Menlo,'DejaVu Sans Mono',consolas,'Courier New',monospace\"><span style=\"color: #008080; text-decoration-color: #008080; font-weight: bold\">9937370</span>\n",
       "</pre>\n"
      ],
      "text/plain": [
       "\u001b[1;36m9937370\u001b[0m\n"
      ]
     },
     "metadata": {},
     "output_type": "display_data"
    },
    {
     "data": {
      "text/html": [
       "<pre style=\"white-space:pre;overflow-x:auto;line-height:normal;font-family:Menlo,'DejaVu Sans Mono',consolas,'Courier New',monospace\"><span style=\"color: #008080; text-decoration-color: #008080; font-weight: bold\">9937371</span>\n",
       "</pre>\n"
      ],
      "text/plain": [
       "\u001b[1;36m9937371\u001b[0m\n"
      ]
     },
     "metadata": {},
     "output_type": "display_data"
    },
    {
     "data": {
      "text/html": [
       "<pre style=\"white-space:pre;overflow-x:auto;line-height:normal;font-family:Menlo,'DejaVu Sans Mono',consolas,'Courier New',monospace\"><span style=\"color: #008080; text-decoration-color: #008080; font-weight: bold\">9937372</span>\n",
       "</pre>\n"
      ],
      "text/plain": [
       "\u001b[1;36m9937372\u001b[0m\n"
      ]
     },
     "metadata": {},
     "output_type": "display_data"
    },
    {
     "data": {
      "text/html": [
       "<pre style=\"white-space:pre;overflow-x:auto;line-height:normal;font-family:Menlo,'DejaVu Sans Mono',consolas,'Courier New',monospace\"><span style=\"color: #008080; text-decoration-color: #008080; font-weight: bold\">9937373</span>\n",
       "</pre>\n"
      ],
      "text/plain": [
       "\u001b[1;36m9937373\u001b[0m\n"
      ]
     },
     "metadata": {},
     "output_type": "display_data"
    },
    {
     "data": {
      "text/html": [
       "<pre style=\"white-space:pre;overflow-x:auto;line-height:normal;font-family:Menlo,'DejaVu Sans Mono',consolas,'Courier New',monospace\"><span style=\"color: #008080; text-decoration-color: #008080; font-weight: bold\">9937374</span>\n",
       "</pre>\n"
      ],
      "text/plain": [
       "\u001b[1;36m9937374\u001b[0m\n"
      ]
     },
     "metadata": {},
     "output_type": "display_data"
    },
    {
     "data": {
      "text/html": [
       "<pre style=\"white-space:pre;overflow-x:auto;line-height:normal;font-family:Menlo,'DejaVu Sans Mono',consolas,'Courier New',monospace\"><span style=\"color: #008080; text-decoration-color: #008080; font-weight: bold\">9937375</span>\n",
       "</pre>\n"
      ],
      "text/plain": [
       "\u001b[1;36m9937375\u001b[0m\n"
      ]
     },
     "metadata": {},
     "output_type": "display_data"
    },
    {
     "data": {
      "text/html": [
       "<pre style=\"white-space:pre;overflow-x:auto;line-height:normal;font-family:Menlo,'DejaVu Sans Mono',consolas,'Courier New',monospace\"><span style=\"color: #008080; text-decoration-color: #008080; font-weight: bold\">9937376</span>\n",
       "</pre>\n"
      ],
      "text/plain": [
       "\u001b[1;36m9937376\u001b[0m\n"
      ]
     },
     "metadata": {},
     "output_type": "display_data"
    },
    {
     "data": {
      "text/html": [
       "<pre style=\"white-space:pre;overflow-x:auto;line-height:normal;font-family:Menlo,'DejaVu Sans Mono',consolas,'Courier New',monospace\"><span style=\"color: #008080; text-decoration-color: #008080; font-weight: bold\">9937377</span>\n",
       "</pre>\n"
      ],
      "text/plain": [
       "\u001b[1;36m9937377\u001b[0m\n"
      ]
     },
     "metadata": {},
     "output_type": "display_data"
    },
    {
     "data": {
      "text/html": [
       "<pre style=\"white-space:pre;overflow-x:auto;line-height:normal;font-family:Menlo,'DejaVu Sans Mono',consolas,'Courier New',monospace\"><span style=\"color: #008080; text-decoration-color: #008080; font-weight: bold\">9937378</span>\n",
       "</pre>\n"
      ],
      "text/plain": [
       "\u001b[1;36m9937378\u001b[0m\n"
      ]
     },
     "metadata": {},
     "output_type": "display_data"
    },
    {
     "data": {
      "text/html": [
       "<pre style=\"white-space:pre;overflow-x:auto;line-height:normal;font-family:Menlo,'DejaVu Sans Mono',consolas,'Courier New',monospace\"><span style=\"color: #008080; text-decoration-color: #008080; font-weight: bold\">9937379</span>\n",
       "</pre>\n"
      ],
      "text/plain": [
       "\u001b[1;36m9937379\u001b[0m\n"
      ]
     },
     "metadata": {},
     "output_type": "display_data"
    },
    {
     "data": {
      "text/html": [
       "<pre style=\"white-space:pre;overflow-x:auto;line-height:normal;font-family:Menlo,'DejaVu Sans Mono',consolas,'Courier New',monospace\"><span style=\"color: #008080; text-decoration-color: #008080; font-weight: bold\">9937380</span>\n",
       "</pre>\n"
      ],
      "text/plain": [
       "\u001b[1;36m9937380\u001b[0m\n"
      ]
     },
     "metadata": {},
     "output_type": "display_data"
    },
    {
     "data": {
      "text/html": [
       "<pre style=\"white-space:pre;overflow-x:auto;line-height:normal;font-family:Menlo,'DejaVu Sans Mono',consolas,'Courier New',monospace\"><span style=\"color: #008080; text-decoration-color: #008080; font-weight: bold\">9937381</span>\n",
       "</pre>\n"
      ],
      "text/plain": [
       "\u001b[1;36m9937381\u001b[0m\n"
      ]
     },
     "metadata": {},
     "output_type": "display_data"
    },
    {
     "data": {
      "text/html": [
       "<pre style=\"white-space:pre;overflow-x:auto;line-height:normal;font-family:Menlo,'DejaVu Sans Mono',consolas,'Courier New',monospace\"><span style=\"color: #008080; text-decoration-color: #008080; font-weight: bold\">9937382</span>\n",
       "</pre>\n"
      ],
      "text/plain": [
       "\u001b[1;36m9937382\u001b[0m\n"
      ]
     },
     "metadata": {},
     "output_type": "display_data"
    },
    {
     "data": {
      "text/html": [
       "<pre style=\"white-space:pre;overflow-x:auto;line-height:normal;font-family:Menlo,'DejaVu Sans Mono',consolas,'Courier New',monospace\"><span style=\"color: #008080; text-decoration-color: #008080; font-weight: bold\">9937383</span>\n",
       "</pre>\n"
      ],
      "text/plain": [
       "\u001b[1;36m9937383\u001b[0m\n"
      ]
     },
     "metadata": {},
     "output_type": "display_data"
    },
    {
     "data": {
      "text/html": [
       "<pre style=\"white-space:pre;overflow-x:auto;line-height:normal;font-family:Menlo,'DejaVu Sans Mono',consolas,'Courier New',monospace\"><span style=\"color: #008080; text-decoration-color: #008080; font-weight: bold\">9937384</span>\n",
       "</pre>\n"
      ],
      "text/plain": [
       "\u001b[1;36m9937384\u001b[0m\n"
      ]
     },
     "metadata": {},
     "output_type": "display_data"
    },
    {
     "data": {
      "text/html": [
       "<pre style=\"white-space:pre;overflow-x:auto;line-height:normal;font-family:Menlo,'DejaVu Sans Mono',consolas,'Courier New',monospace\"><span style=\"color: #008080; text-decoration-color: #008080; font-weight: bold\">9937385</span>\n",
       "</pre>\n"
      ],
      "text/plain": [
       "\u001b[1;36m9937385\u001b[0m\n"
      ]
     },
     "metadata": {},
     "output_type": "display_data"
    },
    {
     "data": {
      "text/html": [
       "<pre style=\"white-space:pre;overflow-x:auto;line-height:normal;font-family:Menlo,'DejaVu Sans Mono',consolas,'Courier New',monospace\"><span style=\"color: #008080; text-decoration-color: #008080; font-weight: bold\">9937386</span>\n",
       "</pre>\n"
      ],
      "text/plain": [
       "\u001b[1;36m9937386\u001b[0m\n"
      ]
     },
     "metadata": {},
     "output_type": "display_data"
    },
    {
     "data": {
      "text/html": [
       "<pre style=\"white-space:pre;overflow-x:auto;line-height:normal;font-family:Menlo,'DejaVu Sans Mono',consolas,'Courier New',monospace\"><span style=\"color: #008080; text-decoration-color: #008080; font-weight: bold\">9937387</span>\n",
       "</pre>\n"
      ],
      "text/plain": [
       "\u001b[1;36m9937387\u001b[0m\n"
      ]
     },
     "metadata": {},
     "output_type": "display_data"
    },
    {
     "data": {
      "text/html": [
       "<pre style=\"white-space:pre;overflow-x:auto;line-height:normal;font-family:Menlo,'DejaVu Sans Mono',consolas,'Courier New',monospace\"><span style=\"color: #008080; text-decoration-color: #008080; font-weight: bold\">9937388</span>\n",
       "</pre>\n"
      ],
      "text/plain": [
       "\u001b[1;36m9937388\u001b[0m\n"
      ]
     },
     "metadata": {},
     "output_type": "display_data"
    },
    {
     "data": {
      "text/html": [
       "<pre style=\"white-space:pre;overflow-x:auto;line-height:normal;font-family:Menlo,'DejaVu Sans Mono',consolas,'Courier New',monospace\"><span style=\"color: #008080; text-decoration-color: #008080; font-weight: bold\">9937389</span>\n",
       "</pre>\n"
      ],
      "text/plain": [
       "\u001b[1;36m9937389\u001b[0m\n"
      ]
     },
     "metadata": {},
     "output_type": "display_data"
    },
    {
     "data": {
      "text/html": [
       "<pre style=\"white-space:pre;overflow-x:auto;line-height:normal;font-family:Menlo,'DejaVu Sans Mono',consolas,'Courier New',monospace\"><span style=\"color: #008080; text-decoration-color: #008080; font-weight: bold\">9937390</span>\n",
       "</pre>\n"
      ],
      "text/plain": [
       "\u001b[1;36m9937390\u001b[0m\n"
      ]
     },
     "metadata": {},
     "output_type": "display_data"
    },
    {
     "data": {
      "text/html": [
       "<pre style=\"white-space:pre;overflow-x:auto;line-height:normal;font-family:Menlo,'DejaVu Sans Mono',consolas,'Courier New',monospace\"><span style=\"color: #008080; text-decoration-color: #008080; font-weight: bold\">9937391</span>\n",
       "</pre>\n"
      ],
      "text/plain": [
       "\u001b[1;36m9937391\u001b[0m\n"
      ]
     },
     "metadata": {},
     "output_type": "display_data"
    },
    {
     "data": {
      "text/html": [
       "<pre style=\"white-space:pre;overflow-x:auto;line-height:normal;font-family:Menlo,'DejaVu Sans Mono',consolas,'Courier New',monospace\"><span style=\"color: #008080; text-decoration-color: #008080; font-weight: bold\">9937392</span>\n",
       "</pre>\n"
      ],
      "text/plain": [
       "\u001b[1;36m9937392\u001b[0m\n"
      ]
     },
     "metadata": {},
     "output_type": "display_data"
    },
    {
     "data": {
      "text/html": [
       "<pre style=\"white-space:pre;overflow-x:auto;line-height:normal;font-family:Menlo,'DejaVu Sans Mono',consolas,'Courier New',monospace\"><span style=\"color: #008080; text-decoration-color: #008080; font-weight: bold\">9937393</span>\n",
       "</pre>\n"
      ],
      "text/plain": [
       "\u001b[1;36m9937393\u001b[0m\n"
      ]
     },
     "metadata": {},
     "output_type": "display_data"
    },
    {
     "data": {
      "text/html": [
       "<pre style=\"white-space:pre;overflow-x:auto;line-height:normal;font-family:Menlo,'DejaVu Sans Mono',consolas,'Courier New',monospace\"><span style=\"color: #008080; text-decoration-color: #008080; font-weight: bold\">9937394</span>\n",
       "</pre>\n"
      ],
      "text/plain": [
       "\u001b[1;36m9937394\u001b[0m\n"
      ]
     },
     "metadata": {},
     "output_type": "display_data"
    },
    {
     "data": {
      "text/html": [
       "<pre style=\"white-space:pre;overflow-x:auto;line-height:normal;font-family:Menlo,'DejaVu Sans Mono',consolas,'Courier New',monospace\"><span style=\"color: #008080; text-decoration-color: #008080; font-weight: bold\">9937395</span>\n",
       "</pre>\n"
      ],
      "text/plain": [
       "\u001b[1;36m9937395\u001b[0m\n"
      ]
     },
     "metadata": {},
     "output_type": "display_data"
    },
    {
     "data": {
      "text/html": [
       "<pre style=\"white-space:pre;overflow-x:auto;line-height:normal;font-family:Menlo,'DejaVu Sans Mono',consolas,'Courier New',monospace\"><span style=\"color: #008080; text-decoration-color: #008080; font-weight: bold\">9937396</span>\n",
       "</pre>\n"
      ],
      "text/plain": [
       "\u001b[1;36m9937396\u001b[0m\n"
      ]
     },
     "metadata": {},
     "output_type": "display_data"
    },
    {
     "data": {
      "text/html": [
       "<pre style=\"white-space:pre;overflow-x:auto;line-height:normal;font-family:Menlo,'DejaVu Sans Mono',consolas,'Courier New',monospace\"><span style=\"color: #008080; text-decoration-color: #008080; font-weight: bold\">9937397</span>\n",
       "</pre>\n"
      ],
      "text/plain": [
       "\u001b[1;36m9937397\u001b[0m\n"
      ]
     },
     "metadata": {},
     "output_type": "display_data"
    },
    {
     "data": {
      "text/html": [
       "<pre style=\"white-space:pre;overflow-x:auto;line-height:normal;font-family:Menlo,'DejaVu Sans Mono',consolas,'Courier New',monospace\"><span style=\"color: #008080; text-decoration-color: #008080; font-weight: bold\">9937398</span>\n",
       "</pre>\n"
      ],
      "text/plain": [
       "\u001b[1;36m9937398\u001b[0m\n"
      ]
     },
     "metadata": {},
     "output_type": "display_data"
    },
    {
     "data": {
      "text/html": [
       "<pre style=\"white-space:pre;overflow-x:auto;line-height:normal;font-family:Menlo,'DejaVu Sans Mono',consolas,'Courier New',monospace\"><span style=\"color: #008080; text-decoration-color: #008080; font-weight: bold\">9937399</span>\n",
       "</pre>\n"
      ],
      "text/plain": [
       "\u001b[1;36m9937399\u001b[0m\n"
      ]
     },
     "metadata": {},
     "output_type": "display_data"
    },
    {
     "data": {
      "text/html": [
       "<pre style=\"white-space:pre;overflow-x:auto;line-height:normal;font-family:Menlo,'DejaVu Sans Mono',consolas,'Courier New',monospace\"><span style=\"color: #008080; text-decoration-color: #008080; font-weight: bold\">9937400</span>\n",
       "</pre>\n"
      ],
      "text/plain": [
       "\u001b[1;36m9937400\u001b[0m\n"
      ]
     },
     "metadata": {},
     "output_type": "display_data"
    },
    {
     "data": {
      "text/html": [
       "<pre style=\"white-space:pre;overflow-x:auto;line-height:normal;font-family:Menlo,'DejaVu Sans Mono',consolas,'Courier New',monospace\"><span style=\"color: #008080; text-decoration-color: #008080; font-weight: bold\">9937401</span>\n",
       "</pre>\n"
      ],
      "text/plain": [
       "\u001b[1;36m9937401\u001b[0m\n"
      ]
     },
     "metadata": {},
     "output_type": "display_data"
    },
    {
     "data": {
      "text/html": [
       "<pre style=\"white-space:pre;overflow-x:auto;line-height:normal;font-family:Menlo,'DejaVu Sans Mono',consolas,'Courier New',monospace\"><span style=\"color: #008080; text-decoration-color: #008080; font-weight: bold\">9937402</span>\n",
       "</pre>\n"
      ],
      "text/plain": [
       "\u001b[1;36m9937402\u001b[0m\n"
      ]
     },
     "metadata": {},
     "output_type": "display_data"
    },
    {
     "data": {
      "text/html": [
       "<pre style=\"white-space:pre;overflow-x:auto;line-height:normal;font-family:Menlo,'DejaVu Sans Mono',consolas,'Courier New',monospace\"><span style=\"color: #008080; text-decoration-color: #008080; font-weight: bold\">9937403</span>\n",
       "</pre>\n"
      ],
      "text/plain": [
       "\u001b[1;36m9937403\u001b[0m\n"
      ]
     },
     "metadata": {},
     "output_type": "display_data"
    },
    {
     "data": {
      "text/html": [
       "<pre style=\"white-space:pre;overflow-x:auto;line-height:normal;font-family:Menlo,'DejaVu Sans Mono',consolas,'Courier New',monospace\"><span style=\"color: #008080; text-decoration-color: #008080; font-weight: bold\">9937404</span>\n",
       "</pre>\n"
      ],
      "text/plain": [
       "\u001b[1;36m9937404\u001b[0m\n"
      ]
     },
     "metadata": {},
     "output_type": "display_data"
    },
    {
     "data": {
      "text/html": [
       "<pre style=\"white-space:pre;overflow-x:auto;line-height:normal;font-family:Menlo,'DejaVu Sans Mono',consolas,'Courier New',monospace\"><span style=\"color: #008080; text-decoration-color: #008080; font-weight: bold\">9937405</span>\n",
       "</pre>\n"
      ],
      "text/plain": [
       "\u001b[1;36m9937405\u001b[0m\n"
      ]
     },
     "metadata": {},
     "output_type": "display_data"
    },
    {
     "data": {
      "text/html": [
       "<pre style=\"white-space:pre;overflow-x:auto;line-height:normal;font-family:Menlo,'DejaVu Sans Mono',consolas,'Courier New',monospace\"><span style=\"color: #008080; text-decoration-color: #008080; font-weight: bold\">9937406</span>\n",
       "</pre>\n"
      ],
      "text/plain": [
       "\u001b[1;36m9937406\u001b[0m\n"
      ]
     },
     "metadata": {},
     "output_type": "display_data"
    },
    {
     "data": {
      "text/html": [
       "<pre style=\"white-space:pre;overflow-x:auto;line-height:normal;font-family:Menlo,'DejaVu Sans Mono',consolas,'Courier New',monospace\"><span style=\"color: #008080; text-decoration-color: #008080; font-weight: bold\">9937407</span>\n",
       "</pre>\n"
      ],
      "text/plain": [
       "\u001b[1;36m9937407\u001b[0m\n"
      ]
     },
     "metadata": {},
     "output_type": "display_data"
    },
    {
     "data": {
      "text/html": [
       "<pre style=\"white-space:pre;overflow-x:auto;line-height:normal;font-family:Menlo,'DejaVu Sans Mono',consolas,'Courier New',monospace\"><span style=\"color: #008080; text-decoration-color: #008080; font-weight: bold\">9937408</span>\n",
       "</pre>\n"
      ],
      "text/plain": [
       "\u001b[1;36m9937408\u001b[0m\n"
      ]
     },
     "metadata": {},
     "output_type": "display_data"
    },
    {
     "data": {
      "text/html": [
       "<pre style=\"white-space:pre;overflow-x:auto;line-height:normal;font-family:Menlo,'DejaVu Sans Mono',consolas,'Courier New',monospace\"><span style=\"color: #008080; text-decoration-color: #008080; font-weight: bold\">9937409</span>\n",
       "</pre>\n"
      ],
      "text/plain": [
       "\u001b[1;36m9937409\u001b[0m\n"
      ]
     },
     "metadata": {},
     "output_type": "display_data"
    },
    {
     "data": {
      "text/html": [
       "<pre style=\"white-space:pre;overflow-x:auto;line-height:normal;font-family:Menlo,'DejaVu Sans Mono',consolas,'Courier New',monospace\"><span style=\"color: #008080; text-decoration-color: #008080; font-weight: bold\">9937410</span>\n",
       "</pre>\n"
      ],
      "text/plain": [
       "\u001b[1;36m9937410\u001b[0m\n"
      ]
     },
     "metadata": {},
     "output_type": "display_data"
    },
    {
     "data": {
      "text/html": [
       "<pre style=\"white-space:pre;overflow-x:auto;line-height:normal;font-family:Menlo,'DejaVu Sans Mono',consolas,'Courier New',monospace\"><span style=\"color: #008080; text-decoration-color: #008080; font-weight: bold\">9937411</span>\n",
       "</pre>\n"
      ],
      "text/plain": [
       "\u001b[1;36m9937411\u001b[0m\n"
      ]
     },
     "metadata": {},
     "output_type": "display_data"
    },
    {
     "data": {
      "text/html": [
       "<pre style=\"white-space:pre;overflow-x:auto;line-height:normal;font-family:Menlo,'DejaVu Sans Mono',consolas,'Courier New',monospace\"><span style=\"color: #008080; text-decoration-color: #008080; font-weight: bold\">9937412</span>\n",
       "</pre>\n"
      ],
      "text/plain": [
       "\u001b[1;36m9937412\u001b[0m\n"
      ]
     },
     "metadata": {},
     "output_type": "display_data"
    },
    {
     "data": {
      "text/html": [
       "<pre style=\"white-space:pre;overflow-x:auto;line-height:normal;font-family:Menlo,'DejaVu Sans Mono',consolas,'Courier New',monospace\"><span style=\"color: #008080; text-decoration-color: #008080; font-weight: bold\">9937413</span>\n",
       "</pre>\n"
      ],
      "text/plain": [
       "\u001b[1;36m9937413\u001b[0m\n"
      ]
     },
     "metadata": {},
     "output_type": "display_data"
    },
    {
     "data": {
      "text/html": [
       "<pre style=\"white-space:pre;overflow-x:auto;line-height:normal;font-family:Menlo,'DejaVu Sans Mono',consolas,'Courier New',monospace\"><span style=\"color: #008080; text-decoration-color: #008080; font-weight: bold\">9937414</span>\n",
       "</pre>\n"
      ],
      "text/plain": [
       "\u001b[1;36m9937414\u001b[0m\n"
      ]
     },
     "metadata": {},
     "output_type": "display_data"
    },
    {
     "data": {
      "text/html": [
       "<pre style=\"white-space:pre;overflow-x:auto;line-height:normal;font-family:Menlo,'DejaVu Sans Mono',consolas,'Courier New',monospace\"><span style=\"color: #008080; text-decoration-color: #008080; font-weight: bold\">9937415</span>\n",
       "</pre>\n"
      ],
      "text/plain": [
       "\u001b[1;36m9937415\u001b[0m\n"
      ]
     },
     "metadata": {},
     "output_type": "display_data"
    },
    {
     "data": {
      "text/html": [
       "<pre style=\"white-space:pre;overflow-x:auto;line-height:normal;font-family:Menlo,'DejaVu Sans Mono',consolas,'Courier New',monospace\"><span style=\"color: #008080; text-decoration-color: #008080; font-weight: bold\">9937416</span>\n",
       "</pre>\n"
      ],
      "text/plain": [
       "\u001b[1;36m9937416\u001b[0m\n"
      ]
     },
     "metadata": {},
     "output_type": "display_data"
    },
    {
     "data": {
      "text/html": [
       "<pre style=\"white-space:pre;overflow-x:auto;line-height:normal;font-family:Menlo,'DejaVu Sans Mono',consolas,'Courier New',monospace\"><span style=\"color: #008080; text-decoration-color: #008080; font-weight: bold\">9937417</span>\n",
       "</pre>\n"
      ],
      "text/plain": [
       "\u001b[1;36m9937417\u001b[0m\n"
      ]
     },
     "metadata": {},
     "output_type": "display_data"
    },
    {
     "data": {
      "text/html": [
       "<pre style=\"white-space:pre;overflow-x:auto;line-height:normal;font-family:Menlo,'DejaVu Sans Mono',consolas,'Courier New',monospace\"><span style=\"color: #008080; text-decoration-color: #008080; font-weight: bold\">9937418</span>\n",
       "</pre>\n"
      ],
      "text/plain": [
       "\u001b[1;36m9937418\u001b[0m\n"
      ]
     },
     "metadata": {},
     "output_type": "display_data"
    },
    {
     "data": {
      "text/html": [
       "<pre style=\"white-space:pre;overflow-x:auto;line-height:normal;font-family:Menlo,'DejaVu Sans Mono',consolas,'Courier New',monospace\"><span style=\"color: #008080; text-decoration-color: #008080; font-weight: bold\">9937419</span>\n",
       "</pre>\n"
      ],
      "text/plain": [
       "\u001b[1;36m9937419\u001b[0m\n"
      ]
     },
     "metadata": {},
     "output_type": "display_data"
    },
    {
     "data": {
      "text/html": [
       "<pre style=\"white-space:pre;overflow-x:auto;line-height:normal;font-family:Menlo,'DejaVu Sans Mono',consolas,'Courier New',monospace\"><span style=\"color: #008080; text-decoration-color: #008080; font-weight: bold\">9937420</span>\n",
       "</pre>\n"
      ],
      "text/plain": [
       "\u001b[1;36m9937420\u001b[0m\n"
      ]
     },
     "metadata": {},
     "output_type": "display_data"
    },
    {
     "data": {
      "text/html": [
       "<pre style=\"white-space:pre;overflow-x:auto;line-height:normal;font-family:Menlo,'DejaVu Sans Mono',consolas,'Courier New',monospace\"><span style=\"color: #008080; text-decoration-color: #008080; font-weight: bold\">9937421</span>\n",
       "</pre>\n"
      ],
      "text/plain": [
       "\u001b[1;36m9937421\u001b[0m\n"
      ]
     },
     "metadata": {},
     "output_type": "display_data"
    },
    {
     "data": {
      "text/html": [
       "<pre style=\"white-space:pre;overflow-x:auto;line-height:normal;font-family:Menlo,'DejaVu Sans Mono',consolas,'Courier New',monospace\"><span style=\"color: #008080; text-decoration-color: #008080; font-weight: bold\">9937422</span>\n",
       "</pre>\n"
      ],
      "text/plain": [
       "\u001b[1;36m9937422\u001b[0m\n"
      ]
     },
     "metadata": {},
     "output_type": "display_data"
    },
    {
     "data": {
      "text/html": [
       "<pre style=\"white-space:pre;overflow-x:auto;line-height:normal;font-family:Menlo,'DejaVu Sans Mono',consolas,'Courier New',monospace\"><span style=\"color: #008080; text-decoration-color: #008080; font-weight: bold\">9937423</span>\n",
       "</pre>\n"
      ],
      "text/plain": [
       "\u001b[1;36m9937423\u001b[0m\n"
      ]
     },
     "metadata": {},
     "output_type": "display_data"
    },
    {
     "data": {
      "text/html": [
       "<pre style=\"white-space:pre;overflow-x:auto;line-height:normal;font-family:Menlo,'DejaVu Sans Mono',consolas,'Courier New',monospace\"><span style=\"color: #008080; text-decoration-color: #008080; font-weight: bold\">9937424</span>\n",
       "</pre>\n"
      ],
      "text/plain": [
       "\u001b[1;36m9937424\u001b[0m\n"
      ]
     },
     "metadata": {},
     "output_type": "display_data"
    },
    {
     "data": {
      "text/html": [
       "<pre style=\"white-space:pre;overflow-x:auto;line-height:normal;font-family:Menlo,'DejaVu Sans Mono',consolas,'Courier New',monospace\"><span style=\"color: #008080; text-decoration-color: #008080; font-weight: bold\">9937425</span>\n",
       "</pre>\n"
      ],
      "text/plain": [
       "\u001b[1;36m9937425\u001b[0m\n"
      ]
     },
     "metadata": {},
     "output_type": "display_data"
    },
    {
     "data": {
      "text/html": [
       "<pre style=\"white-space:pre;overflow-x:auto;line-height:normal;font-family:Menlo,'DejaVu Sans Mono',consolas,'Courier New',monospace\"><span style=\"color: #008080; text-decoration-color: #008080; font-weight: bold\">9937426</span>\n",
       "</pre>\n"
      ],
      "text/plain": [
       "\u001b[1;36m9937426\u001b[0m\n"
      ]
     },
     "metadata": {},
     "output_type": "display_data"
    },
    {
     "data": {
      "text/html": [
       "<pre style=\"white-space:pre;overflow-x:auto;line-height:normal;font-family:Menlo,'DejaVu Sans Mono',consolas,'Courier New',monospace\"><span style=\"color: #008080; text-decoration-color: #008080; font-weight: bold\">9937427</span>\n",
       "</pre>\n"
      ],
      "text/plain": [
       "\u001b[1;36m9937427\u001b[0m\n"
      ]
     },
     "metadata": {},
     "output_type": "display_data"
    },
    {
     "data": {
      "text/html": [
       "<pre style=\"white-space:pre;overflow-x:auto;line-height:normal;font-family:Menlo,'DejaVu Sans Mono',consolas,'Courier New',monospace\"><span style=\"color: #008080; text-decoration-color: #008080; font-weight: bold\">9937428</span>\n",
       "</pre>\n"
      ],
      "text/plain": [
       "\u001b[1;36m9937428\u001b[0m\n"
      ]
     },
     "metadata": {},
     "output_type": "display_data"
    },
    {
     "data": {
      "text/html": [
       "<pre style=\"white-space:pre;overflow-x:auto;line-height:normal;font-family:Menlo,'DejaVu Sans Mono',consolas,'Courier New',monospace\"><span style=\"color: #008080; text-decoration-color: #008080; font-weight: bold\">9937429</span>\n",
       "</pre>\n"
      ],
      "text/plain": [
       "\u001b[1;36m9937429\u001b[0m\n"
      ]
     },
     "metadata": {},
     "output_type": "display_data"
    },
    {
     "data": {
      "text/html": [
       "<pre style=\"white-space:pre;overflow-x:auto;line-height:normal;font-family:Menlo,'DejaVu Sans Mono',consolas,'Courier New',monospace\"><span style=\"color: #008080; text-decoration-color: #008080; font-weight: bold\">9937430</span>\n",
       "</pre>\n"
      ],
      "text/plain": [
       "\u001b[1;36m9937430\u001b[0m\n"
      ]
     },
     "metadata": {},
     "output_type": "display_data"
    },
    {
     "data": {
      "text/html": [
       "<pre style=\"white-space:pre;overflow-x:auto;line-height:normal;font-family:Menlo,'DejaVu Sans Mono',consolas,'Courier New',monospace\"><span style=\"color: #008080; text-decoration-color: #008080; font-weight: bold\">9937431</span>\n",
       "</pre>\n"
      ],
      "text/plain": [
       "\u001b[1;36m9937431\u001b[0m\n"
      ]
     },
     "metadata": {},
     "output_type": "display_data"
    },
    {
     "data": {
      "text/html": [
       "<pre style=\"white-space:pre;overflow-x:auto;line-height:normal;font-family:Menlo,'DejaVu Sans Mono',consolas,'Courier New',monospace\"><span style=\"color: #008080; text-decoration-color: #008080; font-weight: bold\">9937432</span>\n",
       "</pre>\n"
      ],
      "text/plain": [
       "\u001b[1;36m9937432\u001b[0m\n"
      ]
     },
     "metadata": {},
     "output_type": "display_data"
    },
    {
     "data": {
      "text/html": [
       "<pre style=\"white-space:pre;overflow-x:auto;line-height:normal;font-family:Menlo,'DejaVu Sans Mono',consolas,'Courier New',monospace\"><span style=\"color: #008080; text-decoration-color: #008080; font-weight: bold\">9937433</span>\n",
       "</pre>\n"
      ],
      "text/plain": [
       "\u001b[1;36m9937433\u001b[0m\n"
      ]
     },
     "metadata": {},
     "output_type": "display_data"
    },
    {
     "data": {
      "text/html": [
       "<pre style=\"white-space:pre;overflow-x:auto;line-height:normal;font-family:Menlo,'DejaVu Sans Mono',consolas,'Courier New',monospace\"><span style=\"color: #008080; text-decoration-color: #008080; font-weight: bold\">9937434</span>\n",
       "</pre>\n"
      ],
      "text/plain": [
       "\u001b[1;36m9937434\u001b[0m\n"
      ]
     },
     "metadata": {},
     "output_type": "display_data"
    },
    {
     "data": {
      "text/html": [
       "<pre style=\"white-space:pre;overflow-x:auto;line-height:normal;font-family:Menlo,'DejaVu Sans Mono',consolas,'Courier New',monospace\"><span style=\"color: #008080; text-decoration-color: #008080; font-weight: bold\">9937435</span>\n",
       "</pre>\n"
      ],
      "text/plain": [
       "\u001b[1;36m9937435\u001b[0m\n"
      ]
     },
     "metadata": {},
     "output_type": "display_data"
    },
    {
     "data": {
      "text/html": [
       "<pre style=\"white-space:pre;overflow-x:auto;line-height:normal;font-family:Menlo,'DejaVu Sans Mono',consolas,'Courier New',monospace\"><span style=\"color: #008080; text-decoration-color: #008080; font-weight: bold\">9937436</span>\n",
       "</pre>\n"
      ],
      "text/plain": [
       "\u001b[1;36m9937436\u001b[0m\n"
      ]
     },
     "metadata": {},
     "output_type": "display_data"
    },
    {
     "data": {
      "text/html": [
       "<pre style=\"white-space:pre;overflow-x:auto;line-height:normal;font-family:Menlo,'DejaVu Sans Mono',consolas,'Courier New',monospace\"><span style=\"color: #008080; text-decoration-color: #008080; font-weight: bold\">9937437</span>\n",
       "</pre>\n"
      ],
      "text/plain": [
       "\u001b[1;36m9937437\u001b[0m\n"
      ]
     },
     "metadata": {},
     "output_type": "display_data"
    },
    {
     "data": {
      "text/html": [
       "<pre style=\"white-space:pre;overflow-x:auto;line-height:normal;font-family:Menlo,'DejaVu Sans Mono',consolas,'Courier New',monospace\"><span style=\"color: #008080; text-decoration-color: #008080; font-weight: bold\">9937438</span>\n",
       "</pre>\n"
      ],
      "text/plain": [
       "\u001b[1;36m9937438\u001b[0m\n"
      ]
     },
     "metadata": {},
     "output_type": "display_data"
    },
    {
     "data": {
      "text/html": [
       "<pre style=\"white-space:pre;overflow-x:auto;line-height:normal;font-family:Menlo,'DejaVu Sans Mono',consolas,'Courier New',monospace\"><span style=\"color: #008080; text-decoration-color: #008080; font-weight: bold\">9937439</span>\n",
       "</pre>\n"
      ],
      "text/plain": [
       "\u001b[1;36m9937439\u001b[0m\n"
      ]
     },
     "metadata": {},
     "output_type": "display_data"
    },
    {
     "data": {
      "text/html": [
       "<pre style=\"white-space:pre;overflow-x:auto;line-height:normal;font-family:Menlo,'DejaVu Sans Mono',consolas,'Courier New',monospace\"><span style=\"color: #008080; text-decoration-color: #008080; font-weight: bold\">9937440</span>\n",
       "</pre>\n"
      ],
      "text/plain": [
       "\u001b[1;36m9937440\u001b[0m\n"
      ]
     },
     "metadata": {},
     "output_type": "display_data"
    },
    {
     "data": {
      "text/html": [
       "<pre style=\"white-space:pre;overflow-x:auto;line-height:normal;font-family:Menlo,'DejaVu Sans Mono',consolas,'Courier New',monospace\"><span style=\"color: #008080; text-decoration-color: #008080; font-weight: bold\">9937441</span>\n",
       "</pre>\n"
      ],
      "text/plain": [
       "\u001b[1;36m9937441\u001b[0m\n"
      ]
     },
     "metadata": {},
     "output_type": "display_data"
    },
    {
     "data": {
      "text/html": [
       "<pre style=\"white-space:pre;overflow-x:auto;line-height:normal;font-family:Menlo,'DejaVu Sans Mono',consolas,'Courier New',monospace\"><span style=\"color: #008080; text-decoration-color: #008080; font-weight: bold\">9937442</span>\n",
       "</pre>\n"
      ],
      "text/plain": [
       "\u001b[1;36m9937442\u001b[0m\n"
      ]
     },
     "metadata": {},
     "output_type": "display_data"
    },
    {
     "data": {
      "text/html": [
       "<pre style=\"white-space:pre;overflow-x:auto;line-height:normal;font-family:Menlo,'DejaVu Sans Mono',consolas,'Courier New',monospace\"><span style=\"color: #008080; text-decoration-color: #008080; font-weight: bold\">9937443</span>\n",
       "</pre>\n"
      ],
      "text/plain": [
       "\u001b[1;36m9937443\u001b[0m\n"
      ]
     },
     "metadata": {},
     "output_type": "display_data"
    },
    {
     "data": {
      "text/html": [
       "<pre style=\"white-space:pre;overflow-x:auto;line-height:normal;font-family:Menlo,'DejaVu Sans Mono',consolas,'Courier New',monospace\"><span style=\"color: #008080; text-decoration-color: #008080; font-weight: bold\">9937444</span>\n",
       "</pre>\n"
      ],
      "text/plain": [
       "\u001b[1;36m9937444\u001b[0m\n"
      ]
     },
     "metadata": {},
     "output_type": "display_data"
    },
    {
     "data": {
      "text/html": [
       "<pre style=\"white-space:pre;overflow-x:auto;line-height:normal;font-family:Menlo,'DejaVu Sans Mono',consolas,'Courier New',monospace\"><span style=\"color: #008080; text-decoration-color: #008080; font-weight: bold\">9937445</span>\n",
       "</pre>\n"
      ],
      "text/plain": [
       "\u001b[1;36m9937445\u001b[0m\n"
      ]
     },
     "metadata": {},
     "output_type": "display_data"
    },
    {
     "data": {
      "text/html": [
       "<pre style=\"white-space:pre;overflow-x:auto;line-height:normal;font-family:Menlo,'DejaVu Sans Mono',consolas,'Courier New',monospace\"><span style=\"color: #008080; text-decoration-color: #008080; font-weight: bold\">9937446</span>\n",
       "</pre>\n"
      ],
      "text/plain": [
       "\u001b[1;36m9937446\u001b[0m\n"
      ]
     },
     "metadata": {},
     "output_type": "display_data"
    },
    {
     "data": {
      "text/html": [
       "<pre style=\"white-space:pre;overflow-x:auto;line-height:normal;font-family:Menlo,'DejaVu Sans Mono',consolas,'Courier New',monospace\"><span style=\"color: #008080; text-decoration-color: #008080; font-weight: bold\">9937447</span>\n",
       "</pre>\n"
      ],
      "text/plain": [
       "\u001b[1;36m9937447\u001b[0m\n"
      ]
     },
     "metadata": {},
     "output_type": "display_data"
    },
    {
     "data": {
      "text/html": [
       "<pre style=\"white-space:pre;overflow-x:auto;line-height:normal;font-family:Menlo,'DejaVu Sans Mono',consolas,'Courier New',monospace\"><span style=\"color: #008080; text-decoration-color: #008080; font-weight: bold\">9937448</span>\n",
       "</pre>\n"
      ],
      "text/plain": [
       "\u001b[1;36m9937448\u001b[0m\n"
      ]
     },
     "metadata": {},
     "output_type": "display_data"
    },
    {
     "data": {
      "text/html": [
       "<pre style=\"white-space:pre;overflow-x:auto;line-height:normal;font-family:Menlo,'DejaVu Sans Mono',consolas,'Courier New',monospace\"><span style=\"color: #008080; text-decoration-color: #008080; font-weight: bold\">9937449</span>\n",
       "</pre>\n"
      ],
      "text/plain": [
       "\u001b[1;36m9937449\u001b[0m\n"
      ]
     },
     "metadata": {},
     "output_type": "display_data"
    },
    {
     "data": {
      "text/html": [
       "<pre style=\"white-space:pre;overflow-x:auto;line-height:normal;font-family:Menlo,'DejaVu Sans Mono',consolas,'Courier New',monospace\"><span style=\"color: #008080; text-decoration-color: #008080; font-weight: bold\">9937450</span>\n",
       "</pre>\n"
      ],
      "text/plain": [
       "\u001b[1;36m9937450\u001b[0m\n"
      ]
     },
     "metadata": {},
     "output_type": "display_data"
    },
    {
     "data": {
      "text/html": [
       "<pre style=\"white-space:pre;overflow-x:auto;line-height:normal;font-family:Menlo,'DejaVu Sans Mono',consolas,'Courier New',monospace\"><span style=\"color: #008080; text-decoration-color: #008080; font-weight: bold\">9937451</span>\n",
       "</pre>\n"
      ],
      "text/plain": [
       "\u001b[1;36m9937451\u001b[0m\n"
      ]
     },
     "metadata": {},
     "output_type": "display_data"
    },
    {
     "data": {
      "text/html": [
       "<pre style=\"white-space:pre;overflow-x:auto;line-height:normal;font-family:Menlo,'DejaVu Sans Mono',consolas,'Courier New',monospace\"><span style=\"color: #008080; text-decoration-color: #008080; font-weight: bold\">9937452</span>\n",
       "</pre>\n"
      ],
      "text/plain": [
       "\u001b[1;36m9937452\u001b[0m\n"
      ]
     },
     "metadata": {},
     "output_type": "display_data"
    },
    {
     "data": {
      "text/html": [
       "<pre style=\"white-space:pre;overflow-x:auto;line-height:normal;font-family:Menlo,'DejaVu Sans Mono',consolas,'Courier New',monospace\"><span style=\"color: #008080; text-decoration-color: #008080; font-weight: bold\">9937453</span>\n",
       "</pre>\n"
      ],
      "text/plain": [
       "\u001b[1;36m9937453\u001b[0m\n"
      ]
     },
     "metadata": {},
     "output_type": "display_data"
    },
    {
     "data": {
      "text/html": [
       "<pre style=\"white-space:pre;overflow-x:auto;line-height:normal;font-family:Menlo,'DejaVu Sans Mono',consolas,'Courier New',monospace\"><span style=\"color: #008080; text-decoration-color: #008080; font-weight: bold\">9937454</span>\n",
       "</pre>\n"
      ],
      "text/plain": [
       "\u001b[1;36m9937454\u001b[0m\n"
      ]
     },
     "metadata": {},
     "output_type": "display_data"
    },
    {
     "data": {
      "text/html": [
       "<pre style=\"white-space:pre;overflow-x:auto;line-height:normal;font-family:Menlo,'DejaVu Sans Mono',consolas,'Courier New',monospace\"><span style=\"color: #008080; text-decoration-color: #008080; font-weight: bold\">9937455</span>\n",
       "</pre>\n"
      ],
      "text/plain": [
       "\u001b[1;36m9937455\u001b[0m\n"
      ]
     },
     "metadata": {},
     "output_type": "display_data"
    },
    {
     "data": {
      "text/html": [
       "<pre style=\"white-space:pre;overflow-x:auto;line-height:normal;font-family:Menlo,'DejaVu Sans Mono',consolas,'Courier New',monospace\"><span style=\"color: #008080; text-decoration-color: #008080; font-weight: bold\">9937456</span>\n",
       "</pre>\n"
      ],
      "text/plain": [
       "\u001b[1;36m9937456\u001b[0m\n"
      ]
     },
     "metadata": {},
     "output_type": "display_data"
    },
    {
     "data": {
      "text/html": [
       "<pre style=\"white-space:pre;overflow-x:auto;line-height:normal;font-family:Menlo,'DejaVu Sans Mono',consolas,'Courier New',monospace\"><span style=\"color: #008080; text-decoration-color: #008080; font-weight: bold\">9937457</span>\n",
       "</pre>\n"
      ],
      "text/plain": [
       "\u001b[1;36m9937457\u001b[0m\n"
      ]
     },
     "metadata": {},
     "output_type": "display_data"
    },
    {
     "data": {
      "text/html": [
       "<pre style=\"white-space:pre;overflow-x:auto;line-height:normal;font-family:Menlo,'DejaVu Sans Mono',consolas,'Courier New',monospace\"><span style=\"color: #008080; text-decoration-color: #008080; font-weight: bold\">9937458</span>\n",
       "</pre>\n"
      ],
      "text/plain": [
       "\u001b[1;36m9937458\u001b[0m\n"
      ]
     },
     "metadata": {},
     "output_type": "display_data"
    },
    {
     "data": {
      "text/html": [
       "<pre style=\"white-space:pre;overflow-x:auto;line-height:normal;font-family:Menlo,'DejaVu Sans Mono',consolas,'Courier New',monospace\"><span style=\"color: #008080; text-decoration-color: #008080; font-weight: bold\">9937459</span>\n",
       "</pre>\n"
      ],
      "text/plain": [
       "\u001b[1;36m9937459\u001b[0m\n"
      ]
     },
     "metadata": {},
     "output_type": "display_data"
    },
    {
     "data": {
      "text/html": [
       "<pre style=\"white-space:pre;overflow-x:auto;line-height:normal;font-family:Menlo,'DejaVu Sans Mono',consolas,'Courier New',monospace\"><span style=\"color: #008080; text-decoration-color: #008080; font-weight: bold\">9937460</span>\n",
       "</pre>\n"
      ],
      "text/plain": [
       "\u001b[1;36m9937460\u001b[0m\n"
      ]
     },
     "metadata": {},
     "output_type": "display_data"
    },
    {
     "data": {
      "text/html": [
       "<pre style=\"white-space:pre;overflow-x:auto;line-height:normal;font-family:Menlo,'DejaVu Sans Mono',consolas,'Courier New',monospace\"><span style=\"color: #008080; text-decoration-color: #008080; font-weight: bold\">9937461</span>\n",
       "</pre>\n"
      ],
      "text/plain": [
       "\u001b[1;36m9937461\u001b[0m\n"
      ]
     },
     "metadata": {},
     "output_type": "display_data"
    },
    {
     "data": {
      "text/html": [
       "<pre style=\"white-space:pre;overflow-x:auto;line-height:normal;font-family:Menlo,'DejaVu Sans Mono',consolas,'Courier New',monospace\"><span style=\"color: #008080; text-decoration-color: #008080; font-weight: bold\">9937462</span>\n",
       "</pre>\n"
      ],
      "text/plain": [
       "\u001b[1;36m9937462\u001b[0m\n"
      ]
     },
     "metadata": {},
     "output_type": "display_data"
    },
    {
     "data": {
      "text/html": [
       "<pre style=\"white-space:pre;overflow-x:auto;line-height:normal;font-family:Menlo,'DejaVu Sans Mono',consolas,'Courier New',monospace\"><span style=\"color: #008080; text-decoration-color: #008080; font-weight: bold\">9937463</span>\n",
       "</pre>\n"
      ],
      "text/plain": [
       "\u001b[1;36m9937463\u001b[0m\n"
      ]
     },
     "metadata": {},
     "output_type": "display_data"
    },
    {
     "data": {
      "text/html": [
       "<pre style=\"white-space:pre;overflow-x:auto;line-height:normal;font-family:Menlo,'DejaVu Sans Mono',consolas,'Courier New',monospace\"><span style=\"color: #008080; text-decoration-color: #008080; font-weight: bold\">9937464</span>\n",
       "</pre>\n"
      ],
      "text/plain": [
       "\u001b[1;36m9937464\u001b[0m\n"
      ]
     },
     "metadata": {},
     "output_type": "display_data"
    },
    {
     "data": {
      "text/html": [
       "<pre style=\"white-space:pre;overflow-x:auto;line-height:normal;font-family:Menlo,'DejaVu Sans Mono',consolas,'Courier New',monospace\"><span style=\"color: #008080; text-decoration-color: #008080; font-weight: bold\">9937465</span>\n",
       "</pre>\n"
      ],
      "text/plain": [
       "\u001b[1;36m9937465\u001b[0m\n"
      ]
     },
     "metadata": {},
     "output_type": "display_data"
    },
    {
     "data": {
      "text/html": [
       "<pre style=\"white-space:pre;overflow-x:auto;line-height:normal;font-family:Menlo,'DejaVu Sans Mono',consolas,'Courier New',monospace\"><span style=\"color: #008080; text-decoration-color: #008080; font-weight: bold\">9937466</span>\n",
       "</pre>\n"
      ],
      "text/plain": [
       "\u001b[1;36m9937466\u001b[0m\n"
      ]
     },
     "metadata": {},
     "output_type": "display_data"
    },
    {
     "data": {
      "text/html": [
       "<pre style=\"white-space:pre;overflow-x:auto;line-height:normal;font-family:Menlo,'DejaVu Sans Mono',consolas,'Courier New',monospace\"><span style=\"color: #008080; text-decoration-color: #008080; font-weight: bold\">9937467</span>\n",
       "</pre>\n"
      ],
      "text/plain": [
       "\u001b[1;36m9937467\u001b[0m\n"
      ]
     },
     "metadata": {},
     "output_type": "display_data"
    },
    {
     "data": {
      "text/html": [
       "<pre style=\"white-space:pre;overflow-x:auto;line-height:normal;font-family:Menlo,'DejaVu Sans Mono',consolas,'Courier New',monospace\"><span style=\"color: #008080; text-decoration-color: #008080; font-weight: bold\">9937468</span>\n",
       "</pre>\n"
      ],
      "text/plain": [
       "\u001b[1;36m9937468\u001b[0m\n"
      ]
     },
     "metadata": {},
     "output_type": "display_data"
    },
    {
     "data": {
      "text/html": [
       "<pre style=\"white-space:pre;overflow-x:auto;line-height:normal;font-family:Menlo,'DejaVu Sans Mono',consolas,'Courier New',monospace\"><span style=\"color: #008080; text-decoration-color: #008080; font-weight: bold\">9937469</span>\n",
       "</pre>\n"
      ],
      "text/plain": [
       "\u001b[1;36m9937469\u001b[0m\n"
      ]
     },
     "metadata": {},
     "output_type": "display_data"
    },
    {
     "data": {
      "text/html": [
       "<pre style=\"white-space:pre;overflow-x:auto;line-height:normal;font-family:Menlo,'DejaVu Sans Mono',consolas,'Courier New',monospace\"><span style=\"color: #008080; text-decoration-color: #008080; font-weight: bold\">9937470</span>\n",
       "</pre>\n"
      ],
      "text/plain": [
       "\u001b[1;36m9937470\u001b[0m\n"
      ]
     },
     "metadata": {},
     "output_type": "display_data"
    },
    {
     "data": {
      "text/html": [
       "<pre style=\"white-space:pre;overflow-x:auto;line-height:normal;font-family:Menlo,'DejaVu Sans Mono',consolas,'Courier New',monospace\"><span style=\"color: #008080; text-decoration-color: #008080; font-weight: bold\">9937471</span>\n",
       "</pre>\n"
      ],
      "text/plain": [
       "\u001b[1;36m9937471\u001b[0m\n"
      ]
     },
     "metadata": {},
     "output_type": "display_data"
    },
    {
     "data": {
      "text/html": [
       "<pre style=\"white-space:pre;overflow-x:auto;line-height:normal;font-family:Menlo,'DejaVu Sans Mono',consolas,'Courier New',monospace\"><span style=\"color: #008080; text-decoration-color: #008080; font-weight: bold\">9937472</span>\n",
       "</pre>\n"
      ],
      "text/plain": [
       "\u001b[1;36m9937472\u001b[0m\n"
      ]
     },
     "metadata": {},
     "output_type": "display_data"
    },
    {
     "data": {
      "text/html": [
       "<pre style=\"white-space:pre;overflow-x:auto;line-height:normal;font-family:Menlo,'DejaVu Sans Mono',consolas,'Courier New',monospace\"><span style=\"color: #008080; text-decoration-color: #008080; font-weight: bold\">9937473</span>\n",
       "</pre>\n"
      ],
      "text/plain": [
       "\u001b[1;36m9937473\u001b[0m\n"
      ]
     },
     "metadata": {},
     "output_type": "display_data"
    },
    {
     "data": {
      "text/html": [
       "<pre style=\"white-space:pre;overflow-x:auto;line-height:normal;font-family:Menlo,'DejaVu Sans Mono',consolas,'Courier New',monospace\"><span style=\"color: #008080; text-decoration-color: #008080; font-weight: bold\">9937474</span>\n",
       "</pre>\n"
      ],
      "text/plain": [
       "\u001b[1;36m9937474\u001b[0m\n"
      ]
     },
     "metadata": {},
     "output_type": "display_data"
    },
    {
     "data": {
      "text/html": [
       "<pre style=\"white-space:pre;overflow-x:auto;line-height:normal;font-family:Menlo,'DejaVu Sans Mono',consolas,'Courier New',monospace\"><span style=\"color: #008080; text-decoration-color: #008080; font-weight: bold\">9937475</span>\n",
       "</pre>\n"
      ],
      "text/plain": [
       "\u001b[1;36m9937475\u001b[0m\n"
      ]
     },
     "metadata": {},
     "output_type": "display_data"
    },
    {
     "data": {
      "text/html": [
       "<pre style=\"white-space:pre;overflow-x:auto;line-height:normal;font-family:Menlo,'DejaVu Sans Mono',consolas,'Courier New',monospace\"><span style=\"color: #008080; text-decoration-color: #008080; font-weight: bold\">9937476</span>\n",
       "</pre>\n"
      ],
      "text/plain": [
       "\u001b[1;36m9937476\u001b[0m\n"
      ]
     },
     "metadata": {},
     "output_type": "display_data"
    },
    {
     "data": {
      "text/html": [
       "<pre style=\"white-space:pre;overflow-x:auto;line-height:normal;font-family:Menlo,'DejaVu Sans Mono',consolas,'Courier New',monospace\"><span style=\"color: #008080; text-decoration-color: #008080; font-weight: bold\">9937477</span>\n",
       "</pre>\n"
      ],
      "text/plain": [
       "\u001b[1;36m9937477\u001b[0m\n"
      ]
     },
     "metadata": {},
     "output_type": "display_data"
    },
    {
     "data": {
      "text/html": [
       "<pre style=\"white-space:pre;overflow-x:auto;line-height:normal;font-family:Menlo,'DejaVu Sans Mono',consolas,'Courier New',monospace\"><span style=\"color: #008080; text-decoration-color: #008080; font-weight: bold\">9937478</span>\n",
       "</pre>\n"
      ],
      "text/plain": [
       "\u001b[1;36m9937478\u001b[0m\n"
      ]
     },
     "metadata": {},
     "output_type": "display_data"
    },
    {
     "data": {
      "text/html": [
       "<pre style=\"white-space:pre;overflow-x:auto;line-height:normal;font-family:Menlo,'DejaVu Sans Mono',consolas,'Courier New',monospace\"><span style=\"color: #008080; text-decoration-color: #008080; font-weight: bold\">9937479</span>\n",
       "</pre>\n"
      ],
      "text/plain": [
       "\u001b[1;36m9937479\u001b[0m\n"
      ]
     },
     "metadata": {},
     "output_type": "display_data"
    },
    {
     "data": {
      "text/html": [
       "<pre style=\"white-space:pre;overflow-x:auto;line-height:normal;font-family:Menlo,'DejaVu Sans Mono',consolas,'Courier New',monospace\"><span style=\"color: #008080; text-decoration-color: #008080; font-weight: bold\">9937480</span>\n",
       "</pre>\n"
      ],
      "text/plain": [
       "\u001b[1;36m9937480\u001b[0m\n"
      ]
     },
     "metadata": {},
     "output_type": "display_data"
    },
    {
     "data": {
      "text/html": [
       "<pre style=\"white-space:pre;overflow-x:auto;line-height:normal;font-family:Menlo,'DejaVu Sans Mono',consolas,'Courier New',monospace\"><span style=\"color: #008080; text-decoration-color: #008080; font-weight: bold\">9937481</span>\n",
       "</pre>\n"
      ],
      "text/plain": [
       "\u001b[1;36m9937481\u001b[0m\n"
      ]
     },
     "metadata": {},
     "output_type": "display_data"
    },
    {
     "data": {
      "text/html": [
       "<pre style=\"white-space:pre;overflow-x:auto;line-height:normal;font-family:Menlo,'DejaVu Sans Mono',consolas,'Courier New',monospace\"><span style=\"color: #008080; text-decoration-color: #008080; font-weight: bold\">9937482</span>\n",
       "</pre>\n"
      ],
      "text/plain": [
       "\u001b[1;36m9937482\u001b[0m\n"
      ]
     },
     "metadata": {},
     "output_type": "display_data"
    },
    {
     "data": {
      "text/html": [
       "<pre style=\"white-space:pre;overflow-x:auto;line-height:normal;font-family:Menlo,'DejaVu Sans Mono',consolas,'Courier New',monospace\"><span style=\"color: #008080; text-decoration-color: #008080; font-weight: bold\">9937483</span>\n",
       "</pre>\n"
      ],
      "text/plain": [
       "\u001b[1;36m9937483\u001b[0m\n"
      ]
     },
     "metadata": {},
     "output_type": "display_data"
    },
    {
     "data": {
      "text/html": [
       "<pre style=\"white-space:pre;overflow-x:auto;line-height:normal;font-family:Menlo,'DejaVu Sans Mono',consolas,'Courier New',monospace\"><span style=\"color: #008080; text-decoration-color: #008080; font-weight: bold\">9937484</span>\n",
       "</pre>\n"
      ],
      "text/plain": [
       "\u001b[1;36m9937484\u001b[0m\n"
      ]
     },
     "metadata": {},
     "output_type": "display_data"
    },
    {
     "data": {
      "text/html": [
       "<pre style=\"white-space:pre;overflow-x:auto;line-height:normal;font-family:Menlo,'DejaVu Sans Mono',consolas,'Courier New',monospace\"><span style=\"color: #008080; text-decoration-color: #008080; font-weight: bold\">9937485</span>\n",
       "</pre>\n"
      ],
      "text/plain": [
       "\u001b[1;36m9937485\u001b[0m\n"
      ]
     },
     "metadata": {},
     "output_type": "display_data"
    },
    {
     "data": {
      "text/html": [
       "<pre style=\"white-space:pre;overflow-x:auto;line-height:normal;font-family:Menlo,'DejaVu Sans Mono',consolas,'Courier New',monospace\"><span style=\"color: #008080; text-decoration-color: #008080; font-weight: bold\">9937486</span>\n",
       "</pre>\n"
      ],
      "text/plain": [
       "\u001b[1;36m9937486\u001b[0m\n"
      ]
     },
     "metadata": {},
     "output_type": "display_data"
    },
    {
     "data": {
      "text/html": [
       "<pre style=\"white-space:pre;overflow-x:auto;line-height:normal;font-family:Menlo,'DejaVu Sans Mono',consolas,'Courier New',monospace\"><span style=\"color: #008080; text-decoration-color: #008080; font-weight: bold\">9937487</span>\n",
       "</pre>\n"
      ],
      "text/plain": [
       "\u001b[1;36m9937487\u001b[0m\n"
      ]
     },
     "metadata": {},
     "output_type": "display_data"
    },
    {
     "data": {
      "text/html": [
       "<pre style=\"white-space:pre;overflow-x:auto;line-height:normal;font-family:Menlo,'DejaVu Sans Mono',consolas,'Courier New',monospace\"><span style=\"color: #008080; text-decoration-color: #008080; font-weight: bold\">9937488</span>\n",
       "</pre>\n"
      ],
      "text/plain": [
       "\u001b[1;36m9937488\u001b[0m\n"
      ]
     },
     "metadata": {},
     "output_type": "display_data"
    },
    {
     "data": {
      "text/html": [
       "<pre style=\"white-space:pre;overflow-x:auto;line-height:normal;font-family:Menlo,'DejaVu Sans Mono',consolas,'Courier New',monospace\"><span style=\"color: #008080; text-decoration-color: #008080; font-weight: bold\">9937490</span>\n",
       "</pre>\n"
      ],
      "text/plain": [
       "\u001b[1;36m9937490\u001b[0m\n"
      ]
     },
     "metadata": {},
     "output_type": "display_data"
    },
    {
     "data": {
      "text/html": [
       "<pre style=\"white-space:pre;overflow-x:auto;line-height:normal;font-family:Menlo,'DejaVu Sans Mono',consolas,'Courier New',monospace\"><span style=\"color: #008080; text-decoration-color: #008080; font-weight: bold\">9937491</span>\n",
       "</pre>\n"
      ],
      "text/plain": [
       "\u001b[1;36m9937491\u001b[0m\n"
      ]
     },
     "metadata": {},
     "output_type": "display_data"
    },
    {
     "data": {
      "text/html": [
       "<pre style=\"white-space:pre;overflow-x:auto;line-height:normal;font-family:Menlo,'DejaVu Sans Mono',consolas,'Courier New',monospace\"><span style=\"color: #008080; text-decoration-color: #008080; font-weight: bold\">9937492</span>\n",
       "</pre>\n"
      ],
      "text/plain": [
       "\u001b[1;36m9937492\u001b[0m\n"
      ]
     },
     "metadata": {},
     "output_type": "display_data"
    },
    {
     "data": {
      "text/html": [
       "<pre style=\"white-space:pre;overflow-x:auto;line-height:normal;font-family:Menlo,'DejaVu Sans Mono',consolas,'Courier New',monospace\"><span style=\"color: #008080; text-decoration-color: #008080; font-weight: bold\">9937493</span>\n",
       "</pre>\n"
      ],
      "text/plain": [
       "\u001b[1;36m9937493\u001b[0m\n"
      ]
     },
     "metadata": {},
     "output_type": "display_data"
    },
    {
     "data": {
      "text/html": [
       "<pre style=\"white-space:pre;overflow-x:auto;line-height:normal;font-family:Menlo,'DejaVu Sans Mono',consolas,'Courier New',monospace\"><span style=\"color: #008080; text-decoration-color: #008080; font-weight: bold\">9937494</span>\n",
       "</pre>\n"
      ],
      "text/plain": [
       "\u001b[1;36m9937494\u001b[0m\n"
      ]
     },
     "metadata": {},
     "output_type": "display_data"
    },
    {
     "data": {
      "text/html": [
       "<pre style=\"white-space:pre;overflow-x:auto;line-height:normal;font-family:Menlo,'DejaVu Sans Mono',consolas,'Courier New',monospace\"><span style=\"color: #008080; text-decoration-color: #008080; font-weight: bold\">9937495</span>\n",
       "</pre>\n"
      ],
      "text/plain": [
       "\u001b[1;36m9937495\u001b[0m\n"
      ]
     },
     "metadata": {},
     "output_type": "display_data"
    },
    {
     "data": {
      "text/html": [
       "<pre style=\"white-space:pre;overflow-x:auto;line-height:normal;font-family:Menlo,'DejaVu Sans Mono',consolas,'Courier New',monospace\"><span style=\"color: #008080; text-decoration-color: #008080; font-weight: bold\">9937496</span>\n",
       "</pre>\n"
      ],
      "text/plain": [
       "\u001b[1;36m9937496\u001b[0m\n"
      ]
     },
     "metadata": {},
     "output_type": "display_data"
    }
   ],
   "source": [
    "y_true,y_pred = [],[]\n",
    "batchids=  []\n",
    "imgName_list = []\n",
    "new_batchid = []\n",
    "fID = []\n",
    "county = []\n",
    "class_ = []\n",
    "for batchid,imgName in name_index.items():\n",
    "    # print(batchid)\n",
    "    final_classify = df[df.docid==int(batchid)]['doctype'].values[0]\n",
    "    if not 'docIMG' in imgName[0]:\n",
    "        name_substr = imgName[0].split(\"_\")[0]\n",
    "    else:\n",
    "        name_substr = imgName[0].split(\"_\")[-1]\n",
    "    dev_row = dev[dev.filename.astype(str).str.contains(name_substr).fillna(False)]\n",
    "    if not  dev_row.shape[0]: continue\n",
    "    dev_classify = dev_row['doctype'].values[0]\n",
    "    imname = dev_row['imagename'].values[0]\n",
    "    bNew = dev_row['docid'].values[0]\n",
    "    film_id = dev_row['film_id'].values[0]\n",
    "    print(film_id)\n",
    "    c = dev_row['county'].values[0]\n",
    "    cls = dev_row['class'].values[0]\n",
    "    y_true.append(final_classify)\n",
    "    y_pred.append(dev_classify)\n",
    "    batchids.append(batchid)\n",
    "    new_batchid.append(bNew)\n",
    "    imgName_list.append(imname)\n",
    "    fID.append(film_id)\n",
    "    county.append(c)\n",
    "    class_.append(cls)"
   ]
  },
  {
   "cell_type": "code",
   "execution_count": 29,
   "id": "7bbe5aaf-35a0-4998-8d3d-4668e2a39974",
   "metadata": {},
   "outputs": [],
   "source": [
    "temp = pd.DataFrame({'batchid':batchids,'new batchid':new_batchid,'imgName':imgName_list,'class':class_,'film ID':fID,'county':county,'final classify':y_true,'dev classify':y_pred})"
   ]
  },
  {
   "cell_type": "code",
   "execution_count": 30,
   "id": "ae25a0bf-334e-4bb1-a90a-db5e4081859a",
   "metadata": {},
   "outputs": [],
   "source": [
    "temp['match'] = temp['final classify'] == temp['dev classify']"
   ]
  },
  {
   "cell_type": "code",
   "execution_count": 31,
   "id": "95d1d56e-f8c0-4e1e-b226-8f3eea3b4276",
   "metadata": {},
   "outputs": [],
   "source": [
    "temp['match_'] = temp.match.astype(int)"
   ]
  },
  {
   "cell_type": "code",
   "execution_count": 32,
   "id": "80a7376a-b966-4fbf-9cd5-d4d769ccd830",
   "metadata": {},
   "outputs": [
    {
     "data": {
      "text/html": [
       "<div>\n",
       "<style scoped>\n",
       "    .dataframe tbody tr th:only-of-type {\n",
       "        vertical-align: middle;\n",
       "    }\n",
       "\n",
       "    .dataframe tbody tr th {\n",
       "        vertical-align: top;\n",
       "    }\n",
       "\n",
       "    .dataframe thead th {\n",
       "        text-align: right;\n",
       "    }\n",
       "</style>\n",
       "<table border=\"1\" class=\"dataframe\">\n",
       "  <thead>\n",
       "    <tr style=\"text-align: right;\">\n",
       "      <th></th>\n",
       "      <th>batchid</th>\n",
       "      <th>new batchid</th>\n",
       "      <th>imgName</th>\n",
       "      <th>class</th>\n",
       "      <th>film ID</th>\n",
       "      <th>county</th>\n",
       "      <th>final classify</th>\n",
       "      <th>dev classify</th>\n",
       "      <th>match</th>\n",
       "      <th>match_</th>\n",
       "    </tr>\n",
       "  </thead>\n",
       "  <tbody>\n",
       "    <tr>\n",
       "      <th>0</th>\n",
       "      <td>3066131</td>\n",
       "      <td>3069648</td>\n",
       "      <td>PA BEDFORD 2024-08-12-9937001 3330_4200994c09...</td>\n",
       "      <td>B1</td>\n",
       "      <td>9937001</td>\n",
       "      <td>PA BEDFORD</td>\n",
       "      <td>Mortgage</td>\n",
       "      <td>Mortgage</td>\n",
       "      <td>True</td>\n",
       "      <td>1</td>\n",
       "    </tr>\n",
       "    <tr>\n",
       "      <th>1</th>\n",
       "      <td>3066132</td>\n",
       "      <td>3069649</td>\n",
       "      <td>PA BEDFORD 2024-08-12-9937002 3331_4200939453...</td>\n",
       "      <td>B1</td>\n",
       "      <td>9937002</td>\n",
       "      <td>PA BEDFORD</td>\n",
       "      <td>Satisfaction of Mortgage</td>\n",
       "      <td>Satisfaction of Mortgage</td>\n",
       "      <td>True</td>\n",
       "      <td>1</td>\n",
       "    </tr>\n",
       "    <tr>\n",
       "      <th>2</th>\n",
       "      <td>3066133</td>\n",
       "      <td>3069650</td>\n",
       "      <td>PA BEDFORD 2024-08-12-9937003 3332_42009a9686...</td>\n",
       "      <td>B1</td>\n",
       "      <td>9937003</td>\n",
       "      <td>PA BEDFORD</td>\n",
       "      <td>Deed</td>\n",
       "      <td>Fiduciary Deed</td>\n",
       "      <td>False</td>\n",
       "      <td>0</td>\n",
       "    </tr>\n",
       "    <tr>\n",
       "      <th>3</th>\n",
       "      <td>3066134</td>\n",
       "      <td>3069651</td>\n",
       "      <td>PA BEDFORD 2024-08-12-9937004 3333_4200946e3b...</td>\n",
       "      <td>B1</td>\n",
       "      <td>9937004</td>\n",
       "      <td>PA BEDFORD</td>\n",
       "      <td>Deed</td>\n",
       "      <td>Deed</td>\n",
       "      <td>True</td>\n",
       "      <td>1</td>\n",
       "    </tr>\n",
       "    <tr>\n",
       "      <th>4</th>\n",
       "      <td>3066140</td>\n",
       "      <td>3069652</td>\n",
       "      <td>PA BEDFORD 2024-08-12-9937005 3339_4200920d6b...</td>\n",
       "      <td>B1</td>\n",
       "      <td>9937005</td>\n",
       "      <td>PA BEDFORD</td>\n",
       "      <td>Mortgage</td>\n",
       "      <td>Mortgage</td>\n",
       "      <td>True</td>\n",
       "      <td>1</td>\n",
       "    </tr>\n",
       "  </tbody>\n",
       "</table>\n",
       "</div>"
      ],
      "text/plain": [
       "   batchid  new batchid                                            imgName  \\\n",
       "0  3066131      3069648   PA BEDFORD 2024-08-12-9937001 3330_4200994c09...   \n",
       "1  3066132      3069649   PA BEDFORD 2024-08-12-9937002 3331_4200939453...   \n",
       "2  3066133      3069650   PA BEDFORD 2024-08-12-9937003 3332_42009a9686...   \n",
       "3  3066134      3069651   PA BEDFORD 2024-08-12-9937004 3333_4200946e3b...   \n",
       "4  3066140      3069652   PA BEDFORD 2024-08-12-9937005 3339_4200920d6b...   \n",
       "\n",
       "  class  film ID      county            final classify  \\\n",
       "0    B1  9937001  PA BEDFORD                  Mortgage   \n",
       "1    B1  9937002  PA BEDFORD  Satisfaction of Mortgage   \n",
       "2    B1  9937003  PA BEDFORD                      Deed   \n",
       "3    B1  9937004  PA BEDFORD                      Deed   \n",
       "4    B1  9937005  PA BEDFORD                  Mortgage   \n",
       "\n",
       "               dev classify  match  match_  \n",
       "0                  Mortgage   True       1  \n",
       "1  Satisfaction of Mortgage   True       1  \n",
       "2            Fiduciary Deed  False       0  \n",
       "3                      Deed   True       1  \n",
       "4                  Mortgage   True       1  "
      ]
     },
     "execution_count": 32,
     "metadata": {},
     "output_type": "execute_result"
    }
   ],
   "source": [
    "temp.head()"
   ]
  },
  {
   "cell_type": "code",
   "execution_count": 33,
   "id": "d127f11e-632b-4bc0-8c33-5c2c1b73cea0",
   "metadata": {},
   "outputs": [
    {
     "data": {
      "text/plain": [
       "(495, 10)"
      ]
     },
     "execution_count": 33,
     "metadata": {},
     "output_type": "execute_result"
    }
   ],
   "source": [
    "temp.shape"
   ]
  },
  {
   "cell_type": "code",
   "execution_count": 34,
   "id": "e48d5f08-d56b-47b6-9c47-1766defd1277",
   "metadata": {},
   "outputs": [
    {
     "data": {
      "text/plain": [
       "0.8222222222222222"
      ]
     },
     "execution_count": 34,
     "metadata": {},
     "output_type": "execute_result"
    }
   ],
   "source": [
    "temp.match_.mean()"
   ]
  },
  {
   "cell_type": "code",
   "execution_count": 35,
   "id": "f0690205-b7f3-4ce1-abff-d6bd26376ddf",
   "metadata": {},
   "outputs": [],
   "source": [
    "temp.to_excel('pa pre post.xlsx')"
   ]
  },
  {
   "cell_type": "code",
   "execution_count": 13,
   "id": "35df0a23-28af-4d73-8903-5d4344761802",
   "metadata": {},
   "outputs": [],
   "source": [
    "import json\n",
    "import zipfile\n",
    "from pathlib import Path\n",
    "from rich import print\n",
    "from collections import defaultdict\n",
    "import pandas as pd\n",
    "name_index = defaultdict(list)\n",
    "batchid_filmid = {}\n",
    "for i,p in enumerate(Path(\n",
    "    r\"C:\\Users\\surakumar\\OneDrive - CoreLogic Solutions, LLC\\Downloads\\pythonCode\\ok_retest\"\n",
    ").iterdir()):\n",
    "    fname = p.stem\n",
    "    with zipfile.ZipFile(p, mode=\"r\") as archive:\n",
    "        for name in archive.namelist():\n",
    "            if name.lower().endswith('.tif') or name.lower().endswith('.pdf'):\n",
    "                name_index[fname].append(name)\n",
    "    batch_name = f\"{county} 2024-08-12-\" + film_id\n",
    "    if len(name_index[fname])>1:\n",
    "        batchid_filmid[fname]=\"7399\"+film_id[-3:]\n",
    "        # batch_name = \"multi \"+ batch_name\n",
    "        # extraction_path = f\"./pastate_all_multi/{batch_name}\"\n",
    "    else:\n",
    "        extraction_path = f\"./pastate_all/{batch_name}\"\n",
    "    for img in name_index[fname]:\n",
    "        archive.extract(img,path=extraction_path)"
   ]
  },
  {
   "cell_type": "code",
   "execution_count": 16,
   "id": "e46310d8-842c-4e39-914b-007333625bc6",
   "metadata": {},
   "outputs": [
    {
     "data": {
      "text/plain": [
       "defaultdict(list,\n",
       "            {'50383508': ['docIMG_50383508.tif'],\n",
       "             '50519141': ['2024004438.0001_12009189d31110507970Z.tif',\n",
       "              '2024004438.0002_12009a0a7d9110508017Z.tif',\n",
       "              '2024004438.0003_12009201908110508048Z.tif',\n",
       "              '2024004438.0004_12009f5f240110508095Z.tif',\n",
       "              '2024004438.0005_12009343afb110508126Z.tif',\n",
       "              '2024004438.0006_12009412480110508173Z.tif',\n",
       "              '2024004438.0007_12009684ddf110508220Z.tif',\n",
       "              '2024004438.0008_12009072a6d110508251Z.tif',\n",
       "              '2024004438.0009_120094171a3110508298Z.tif',\n",
       "              '2024004438.0010_120094994bc110508345Z.tif',\n",
       "              '2024004438.0011_120097d89ea110508376Z.tif',\n",
       "              '2024004438.0012_120090097b3110508423Z.tif',\n",
       "              '2024004438.0013_12009642554110508470Z.tif',\n",
       "              '2024004438.0014_120098354b5110508517Z.tif',\n",
       "              '2024004438.0015_120094cb670110508548Z.tif',\n",
       "              '2024004438.0016_12009fad367110508595Z.tif',\n",
       "              '2024004438.0017_1200976cdd2110508642Z.tif',\n",
       "              '2024004438.0018_1200944c61b110508689Z.tif',\n",
       "              '2024004438.0019_120090f299a110508720Z.tif',\n",
       "              '2024004438.0020_120096dd6c5110508751Z.tif',\n",
       "              '2024004438.0021_120090b2647110508798Z.tif'],\n",
       "             '50830664': ['2024012554.0001_120091c035e122313139Z.tif',\n",
       "              '2024012554.0002_12009f4f729122313176Z.tif',\n",
       "              '2024012554.0003_12009976242122313216Z.tif',\n",
       "              '2024012554.0004_1200911c234122313265Z.tif',\n",
       "              '2024012554.0005_1200925da99122313298Z.tif',\n",
       "              '2024012554.0006_12009ce84ee122313359Z.tif',\n",
       "              '2024012554.0007_12009bd1f25122313406Z.tif',\n",
       "              '2024012554.0008_120095d029a122313453Z.tif',\n",
       "              '2024012554.0009_1200941c3e2122313520Z.tif',\n",
       "              '2024012554.0010_12009945369122313571Z.tif',\n",
       "              '2024012554.0011_120093084b9122313624Z.tif',\n",
       "              '2024012554.0012_120097cb209122313678Z.tif',\n",
       "              '2024012554.0013_12009d43b6b122313731Z.tif',\n",
       "              '2024012554.0014_12009be24c7122313785Z.tif',\n",
       "              '2024012554.0015_120098440e2122313839Z.tif',\n",
       "              '2024012554.0016_120091ac8b2122313895Z.tif',\n",
       "              '2024012554.0017_120093af0c3122313937Z.tif',\n",
       "              '2024012554.0018_12009ae3314122314000Z.tif',\n",
       "              '2024012554.0019_1200992401b122314042Z.tif',\n",
       "              '2024012554.0020_1200912e833122314062Z.tif',\n",
       "              '2024012554.0021_120095f84d3122314109Z.tif'],\n",
       "             '51640356': ['docIMG_202412002355_12023348159162812469Z.tif'],\n",
       "             '51640675': ['docIMG_202412002663_12023723526162828281Z.tif'],\n",
       "             '51644251': ['docIMG_12129_20240223_MORTGAGE_2024_426560_1348_0159_1_1_12129d6a0d6183002218Z.pdf'],\n",
       "             '51645671': ['docIMG_COGARF-992707_0804539e9a2015816015Z.TIF'],\n",
       "             '51649306': ['docIMG_2024009747_08059da253f111204687Z.TIF'],\n",
       "             '51649309': ['docIMG_2024009750_0805954045e111204953Z.TIF'],\n",
       "             '51650310': ['docIMG_10005_20240223_MTG-M_2024_2024000006076_22245_0069_1_1_10005bc4c76055127062Z.pdf'],\n",
       "             '51657967': ['docIMG_34021_20240214_MTG_2024_004941_11858_1678_340214545bb231206250Z.pdf'],\n",
       "             '51657969': ['docIMG_34021_20240214_MTG_2024_004952_11858_1711_34021b71ce9231206503Z.pdf'],\n",
       "             '51657978': ['docIMG_34021_20240214_MTG_2024_005012_11858_1819_34021d5dd1a231207172Z.pdf'],\n",
       "             '51694021': ['docIMG_51694021.tif'],\n",
       "             '51694306': ['docIMG_51694306.tif'],\n",
       "             '51695203': ['docIMG_51695203.tif'],\n",
       "             '51707932': ['docIMG_2024014834_080319cd4ee120009406Z.tif'],\n",
       "             '51707933': ['docIMG_2024014835_080318bb997120009812Z.tif'],\n",
       "             '51718167': ['docIMG_2024009914_08059e1b4ed112534983Z.TIF'],\n",
       "             '51725501': ['docIMG_12133_20240223_MORTGAGE_2024_67001406_1296_787_1_17_12133bc324b041717514Z.pdf'],\n",
       "             '51725504': ['docIMG_12133_20240223_MORTGAGE_2024_67001428_1296_865_1_14_121334b4059041718468Z.pdf'],\n",
       "             '51745717': ['docIMG_51745717.tif'],\n",
       "             '51773802': ['docIMG_2024007725_120055e2e16150045922Z.pdf'],\n",
       "             '51773891': ['docIMG_2024007766_120059a890a150048359Z.pdf'],\n",
       "             '51773961': ['docIMG_2024010566_120053d05b2145937937Z.pdf'],\n",
       "             '54271641': ['docIMG_20240000226 - __483777ec969104317198Z.tif'],\n",
       "             '55378567': ['docIMG_202400004833_450555fbec5024758502Z.tif'],\n",
       "             '55378714': ['docIMG_000050_4505731ee9f002343093Z.tif'],\n",
       "             '55378735': ['docIMG_000194_4505743033e002344511Z.tif'],\n",
       "             '55409462': ['docIMG_1348487_55027a48fed101742336Z.tif'],\n",
       "             '55414087': ['docIMG_A1263354_55111d384e5141134550Z.pdf']})"
      ]
     },
     "execution_count": 16,
     "metadata": {},
     "output_type": "execute_result"
    }
   ],
   "source": [
    "name_index"
   ]
  },
  {
   "cell_type": "code",
   "execution_count": 15,
   "id": "4b21b297-dbf9-44d0-a3b4-96e5aa66f721",
   "metadata": {},
   "outputs": [],
   "source": [
    "import json\n",
    "import zipfile\n",
    "from pathlib import Path\n",
    "from rich import print\n",
    "from collections import defaultdict\n",
    "import pandas as pd\n",
    "name_index = defaultdict(list)\n",
    "batchid_filmid = {}\n",
    "\n",
    "for i,p in enumerate(Path(\n",
    "    r\"C:\\Users\\surakumar\\OneDrive - CoreLogic Solutions, LLC\\Downloads\\pythonCode\\ok_retest\\\"\n",
    ").iterdir()):\n",
    "    # arc = zipfile.ZipFile(p, mode=\"r\")\n",
    "    # break\n",
    "    fname = p.stem\n",
    "    try:\n",
    "        county = df[df.docid==int(fname)]['county'].values[0]\n",
    "        isspmg = df[df.docid==int(fname)]['isspmg'].values[0]\n",
    "    except Exception as e:\n",
    "        print(fname,e)\n",
    "        continue\n",
    "    if isspmg == 'M':\n",
    "        batch_name = f\"{county} 2024-08-12-1337\" + '0'*(3-len(str(i))) + str(i)\n",
    "    # else:\n",
    "    film_id = \"9937\"+'0'*(3-len(str(i))) + str(i)\n",
    "    batch_name = f\"{county} 2024-08-12-\" + film_id\n",
    "    batchid_filmid[fname]=film_id\n",
    "    # print(f\"{i = } | {fname = } | {county = } | {batch_name = }\")\n",
    "    # Path(batch_name).mkdir()\n",
    "    # bytes = None\n",
    "    with zipfile.ZipFile(p, mode=\"r\") as archive:\n",
    "        for name in archive.namelist():\n",
    "            if name.lower().endswith('.tif') or name.lower().endswith('.pdf'):\n",
    "                name_index[fname].append(name)\n",
    "        # if len(name_index[fname])>1:\n",
    "        #     batchid_filmid[fname]=\"7399\"+film_id[-3:]\n",
    "        #     # batch_name = \"multi \"+ batch_name\n",
    "        #     extraction_path = f\"./pastate_all_multi/{batch_name}\"\n",
    "        # else:\n",
    "        #     extraction_path = f\"./pastate_all/{batch_name}\"\n",
    "        # for img in name_index[fname]:\n",
    "        #     archive.extract(img,path=extraction_path)\n",
    "    # with zipfile.ZipFile(rf\"C:\\Users\\surakumar\\OneDrive - CoreLogic Solutions, LLC\\Downloads\\pythonCode\\njstate\\{batch_name}.zip\", \"w\", zipfile.ZIP_DEFLATED) as final:\n",
    "    #     final.write(bytes)\n",
    "    #     print(\"done\")\n",
    "                # with archive.open(name,'r') as file:\n",
    "                #     text = file.read().decode()\n",
    "                #     text = nj_clean(text)\n",
    "                #     ocr_df=pd.DataFrame({\"data\":[text]},dtype=str)\n",
    "                #     pred_value=model.predict(vectorize(ocr_df[\"data\"].values.astype('U'),tfidf))\n",
    "                #     print(pred_value[0])\n"
   ]
  },
  {
   "cell_type": "code",
   "execution_count": 16,
   "id": "5f080e21-9088-4bf4-bcfc-20892b51b876",
   "metadata": {},
   "outputs": [
    {
     "data": {
      "text/plain": [
       "defaultdict(list,\n",
       "            {'2582386': ['docIMG_202441008210_120817ecb77085510250Z.tif'],\n",
       "             '3066131': ['docIMG_2024003330_4200994c09c031734994Z.tif'],\n",
       "             '3066132': ['docIMG_2024003331_42009394534031735107Z.tif'],\n",
       "             '3066133': ['docIMG_2024003332_42009a96868031735128Z.tif'],\n",
       "             '3066134': ['docIMG_2024003333_4200946e3b6031735149Z.tif'],\n",
       "             '3066140': ['docIMG_2024003339_4200920d6b0031735250Z.tif'],\n",
       "             '3066141': ['docIMG_2024003340_420093261d1031735364Z.tif'],\n",
       "             '3066142': ['docIMG_2024003341_4200925fa95031735395Z.tif'],\n",
       "             '3066144': ['docIMG_2024003343_42009309239031735507Z.tif'],\n",
       "             '3066145': ['docIMG_2024003344_42009bcde2a031735529Z.tif'],\n",
       "             '3066152': ['docIMG_2024003351_42009c14777031735632Z.tif'],\n",
       "             '3066153': ['docIMG_2024003352_420098a3b65031735646Z.tif'],\n",
       "             '3066159': ['docIMG_2024003358_420095db2b4031735730Z.tif'],\n",
       "             '3066160': ['docIMG_2024003359_4200947318b031735744Z.tif'],\n",
       "             '3066165': ['docIMG_3700086_420079a8129031721281Z.tif'],\n",
       "             '3066171': ['docIMG_3700089_42007f10ba2031721341Z.tif'],\n",
       "             '3066172': ['docIMG_3700090_42007cd4b0d031721362Z.tif'],\n",
       "             '3066175': ['docIMG_3700093_420070951c8031721476Z.tif'],\n",
       "             '3066176': ['docIMG_3700094_4200713e674031721494Z.tif'],\n",
       "             '3066177': ['docIMG_3700095_420071a4563031721512Z.tif'],\n",
       "             '3066178': ['docIMG_3700096_42007cb219f031721538Z.tif'],\n",
       "             '3066182': ['docIMG_3700100_42007e86a68031721746Z.tif'],\n",
       "             '3066190': ['docIMG_3700105_42007977b2a031721860Z.tif'],\n",
       "             '3066191': ['docIMG_3700106_42007fb5e5a031721883Z.tif'],\n",
       "             '3066192': ['docIMG_3700107_42007d4ad9a031721909Z.tif'],\n",
       "             '3066195': ['docIMG_3700110_420078d836f031722091Z.tif'],\n",
       "             '3066196': ['docIMG_3700111_42007eb2850031722135Z.tif'],\n",
       "             '3066204': ['docIMG_3700119_4200787cb8e031722931Z.tif'],\n",
       "             '3066205': ['docIMG_3700120_42007e1e000031722949Z.tif'],\n",
       "             '3066209': ['docIMG_3700124_420072e48aa031723123Z.tif'],\n",
       "             '3066212': ['docIMG_3700127_4200739218b031723449Z.tif'],\n",
       "             '3066213': ['docIMG_3700128_420072d544f031723475Z.tif'],\n",
       "             '3066215': ['docIMG_3700130_420072ef2bd031723554Z.tif'],\n",
       "             '3066224': ['docIMG_3700139_4200744438f031723902Z.tif'],\n",
       "             '3066228': ['docIMG_3700143_4200795b3e4031723972Z.tif'],\n",
       "             '3066229': ['docIMG_3700144_42007655734031724029Z.tif'],\n",
       "             '3066230': ['docIMG_3700145_42007d776d5031724080Z.tif'],\n",
       "             '3066231': ['docIMG_3700146_4200792cc15031724125Z.tif'],\n",
       "             '3066232': ['docIMG_3700147_4200765942c031724253Z.tif'],\n",
       "             '3066243': ['docIMG_2024002495_42065ca5a4a031809035Z.tif'],\n",
       "             '3066246': ['docIMG_2024002498_42065734433031809118Z.tif'],\n",
       "             '3066249': ['docIMG_2024002501_4206545442d031809265Z.tif'],\n",
       "             '3066252': ['docIMG_2024002504_42065cccd54031809442Z.tif'],\n",
       "             '3066253': ['docIMG_2024002505_42065f988f1031809462Z.tif'],\n",
       "             '3066256': ['docIMG_2024002508_42065eeef54031809509Z.tif'],\n",
       "             '3066257': ['docIMG_2024002509_420653cc767031809536Z.tif'],\n",
       "             '3066258': ['docIMG_2024002510_42065063cbb031809564Z.tif'],\n",
       "             '3066259': ['docIMG_2024002511_42065a2d349031809589Z.tif'],\n",
       "             '3066260': ['docIMG_2024002512_42065704574031809635Z.tif'],\n",
       "             '3066268': ['docIMG_2024002832_42121b5a382031838680Z.tif'],\n",
       "             '3066271': ['docIMG_2024002835_421210c54b3031838908Z.tif'],\n",
       "             '3066276': ['docIMG_2024002840_421214807bb031839107Z.tif'],\n",
       "             '3066284': ['docIMG_2024002848_42121f963aa031839285Z.tif'],\n",
       "             '3066288': ['docIMG_2024002852_42121d12f10031839377Z.tif'],\n",
       "             '3066292': ['docIMG_2024002856_4212179ae31031839462Z.tif'],\n",
       "             '3066293': ['docIMG_2024002857_42121c3b562031839496Z.tif'],\n",
       "             '3066294': ['docIMG_2024002858_42121a58c87031839514Z.tif'],\n",
       "             '3066295': ['docIMG_2024002859_42121928c4d031839546Z.tif'],\n",
       "             '3066296': ['docIMG_2024002860_4212171b9bc031839604Z.tif'],\n",
       "             '3066297': ['docIMG_2024002861_4212136bc6f031839624Z.tif'],\n",
       "             '3066361': ['docIMG_2024023119_420115edb9e025826906Z.tif'],\n",
       "             '3066367': ['docIMG_2024023125_420115099db025827253Z.tif'],\n",
       "             '3066377': ['docIMG_2024023135_420116c71a7025827745Z.tif'],\n",
       "             '3066379': ['docIMG_2024023137_420115a3015025827862Z.tif'],\n",
       "             '3066388': ['docIMG_2024023146_42011ddac12025828175Z.tif'],\n",
       "             '3066392': ['docIMG_2024023150_420119412eb025828326Z.tif'],\n",
       "             '3066393': ['docIMG_2024023151_420110b6d1a025828352Z.tif'],\n",
       "             '3066394': ['docIMG_2024023152_42011b99fa9025828399Z.tif'],\n",
       "             '3066398': ['docIMG_2024023156_42011210d3a025828603Z.tif'],\n",
       "             '3066399': ['docIMG_2024023159_4201106bf03025828636Z.tif'],\n",
       "             '3066408': ['docIMG_2024023168_420119e8c76025829126Z.tif'],\n",
       "             '3066409': ['docIMG_2024023169_4201136acc5025829141Z.tif'],\n",
       "             '3066415': ['docIMG_2024023177_42011272912025829454Z.tif'],\n",
       "             '3066418': ['docIMG_2024023180_42011a7791f025829513Z.tif'],\n",
       "             '3066422': ['docIMG_2024023184_420117afffd025829727Z.tif'],\n",
       "             '3066424': ['docIMG_2024023186_42011be166f025829842Z.tif'],\n",
       "             '3066429': ['docIMG_2024023191_420113c45a5025830063Z.tif'],\n",
       "             '3066433': ['docIMG_2024023195_4201114753b025830200Z.tif'],\n",
       "             '3066435': ['docIMG_2024023197_42011ea4663025830236Z.tif'],\n",
       "             '3066442': ['docIMG_2024023204_42011a91fbf025830529Z.tif'],\n",
       "             '3066445': ['docIMG_2024023207_420110e9a16025830581Z.tif'],\n",
       "             '3066458': ['docIMG_2024023220_420115b7cee025830789Z.tif'],\n",
       "             '3066459': ['docIMG_2024023221_42011b8ed8e025830823Z.tif'],\n",
       "             '3066460': ['docIMG_2024023222_42011b853ed025830858Z.tif'],\n",
       "             '3066461': ['docIMG_2024023223_420118b089f025830967Z.tif'],\n",
       "             '3066491': ['docIMG_12032208_42029a82843023804762Z.tif'],\n",
       "             '3066492': ['docIMG_12032209_42029e54e8c023804778Z.tif'],\n",
       "             '3066520': ['docIMG_12032237_42029e53cbf023806212Z.tif'],\n",
       "             '3066571': ['docIMG_12032288_4202937fa39023808179Z.tif'],\n",
       "             '3066578': ['docIMG_12032295_4202985c15d023808528Z.tif'],\n",
       "             '3066583': ['docIMG_12032300_420299677a4023808988Z.tif'],\n",
       "             '3066586': ['docIMG_12032303_42029cf42eb023809054Z.tif'],\n",
       "             '3066589': ['docIMG_12032306_42029b4d86b023809114Z.tif'],\n",
       "             '3066590': ['docIMG_12032307_420293c7a63023809132Z.tif'],\n",
       "             '3066592': ['docIMG_12032309_4202970dc80023809172Z.tif'],\n",
       "             '3066609': ['docIMG_12032326_420293b8a8a023810386Z.tif'],\n",
       "             '3066610': ['docIMG_12032327_420299befb8023810418Z.tif'],\n",
       "             '3066616': ['docIMG_12032333_4202902f6c0023810659Z.tif'],\n",
       "             '3066620': ['docIMG_12032337_42029e8ca24023811054Z.tif'],\n",
       "             '3066628': ['docIMG_12032345_420291b64c8023811686Z.tif'],\n",
       "             '3066636': ['docIMG_12032353_420298ecea8023812058Z.tif'],\n",
       "             '3066649': ['docIMG_12032366_42029ec6362023812791Z.tif'],\n",
       "             '3066657': ['docIMG_12032374_420292bffec023813408Z.tif'],\n",
       "             '3066660': ['docIMG_12032377_42029b19c6f023813483Z.tif'],\n",
       "             '3066663': ['docIMG_12032380_42029ed9bce023813592Z.tif'],\n",
       "             '3066664': ['docIMG_12032381_42029deb53f023813634Z.tif'],\n",
       "             '3066666': ['docIMG_12032383_42029ce6aff023813794Z.tif'],\n",
       "             '3066667': ['docIMG_12032384_420297a03d4023813859Z.tif'],\n",
       "             '3066672': ['docIMG_12032389_42029570434023814001Z.tif'],\n",
       "             '3066673': ['docIMG_12032390_42029960d37023814029Z.tif'],\n",
       "             '3066677': ['docIMG_42019_20240731_WARRANTY DEED_2024_07310011157___1_11_420196c8e33230544467Z.pdf'],\n",
       "             '3066679': ['docIMG_42019_20240808_ASSIGN OF MTG._2024_08080011595___1_2_420197fe0b8230544529Z.pdf'],\n",
       "             '3066680': ['docIMG_42019_20240808_ASSIGN OF MTG._2024_08080011596___1_1_4201956bac4230544544Z.pdf'],\n",
       "             '3066682': ['docIMG_42019_20240808_FHAVA MORTGAGE_2024_08080011598___1_7_42019049842230544593Z.pdf'],\n",
       "             '3066685': ['docIMG_42019_20240808_FINANCING STATEMENT TERMINATION_2024_08080011626___1_3_42019898c4a230544685Z.pdf'],\n",
       "             '3066687': ['docIMG_42019_20240808_MORTGAGE GENERAL_2024_08080011589___1_10_420199e8788230544774Z.pdf'],\n",
       "             '3066689': ['docIMG_42019_20240808_MORTGAGE GENERAL_2024_08080011614___1_6_420197135f4230544969Z.pdf'],\n",
       "             '3066692': ['docIMG_42019_20240808_MORTGAGE GENERAL_2024_08080011618___1_10_420196dfc3b230545116Z.pdf'],\n",
       "             '3066697': ['docIMG_42019_20240808_MTG. RELEASE_2024_08080011625___1_4_42019b7744e230545461Z.pdf'],\n",
       "             '3066709': ['docIMG_42019_20240808_SATISFACTION OF MORTGAGE_2024_08080011615___1_2_4201917a00d230545659Z.pdf'],\n",
       "             '3066717': ['docIMG_42019_20240808_SATISFACTION OF MORTGAGE_2024_08080011637___1_3_4201932d3c5230545786Z.pdf'],\n",
       "             '3066721': ['docIMG_202411047_42013a88cce085057327Z.tif'],\n",
       "             '3066723': ['docIMG_202411049_420136a3fc0085057363Z.tif'],\n",
       "             '3066725': ['docIMG_202411051_42013ed4cdd085057634Z.tif'],\n",
       "             '3066726': ['docIMG_202411052_42013a39fff085057711Z.tif'],\n",
       "             '3066730': ['docIMG_202411056_420134d1c65085057832Z.tif'],\n",
       "             '3066732': ['docIMG_202411058_420131e3863085057866Z.tif'],\n",
       "             '3066736': ['docIMG_202411062_4201333022a085057977Z.tif'],\n",
       "             '3066738': ['docIMG_202411064_420136b7c04085058025Z.tif'],\n",
       "             '3066743': ['docIMG_202411069_420137c6fe9085058141Z.tif'],\n",
       "             '3066744': ['docIMG_202411070_42013777157085058182Z.tif'],\n",
       "             '3066745': ['docIMG_202411071_42013e00692085058288Z.tif'],\n",
       "             '3066748': ['docIMG_202411075_42013d998c2085058352Z.tif'],\n",
       "             '3066750': ['docIMG_202411077_42013442876085058402Z.tif'],\n",
       "             '3066752': ['docIMG_202411079_420137a6a4a085058560Z.tif'],\n",
       "             '3066753': ['docIMG_202411080_4201337a0d7085058571Z.tif'],\n",
       "             '3066759': ['docIMG_202411088_42013972172085058834Z.tif'],\n",
       "             '3066760': ['docIMG_202411089_42013685733085058866Z.tif'],\n",
       "             '3066761': ['docIMG_202411090_42013bf52ec085058883Z.tif'],\n",
       "             '3066762': ['docIMG_202411092_42013e24dda085058911Z.tif'],\n",
       "             '3066767': ['docIMG_202411098_42013943b4a085059071Z.tif'],\n",
       "             '3066770': ['docIMG_202411101_42013236ed4085059190Z.tif'],\n",
       "             '3066771': ['docIMG_202411102_42013874d8c085059206Z.tif'],\n",
       "             '3066773': ['docIMG_202411104_420132e9470085059236Z.tif'],\n",
       "             '3066775': ['docIMG_202411106_420132e46de085059270Z.tif'],\n",
       "             '3066777': ['docIMG_202411108_42013ccce72085059317Z.tif'],\n",
       "             '3066785': ['docIMG_202407776_42015408332094846409Z.tif'],\n",
       "             '3066786': ['docIMG_202407777_420159e3ba0094846461Z.tif'],\n",
       "             '3066787': ['docIMG_202407778_420152e8596094846588Z.tif'],\n",
       "             '3066791': ['docIMG_202407782_4201526b8e5094846732Z.tif'],\n",
       "             '3066793': ['docIMG_202407784_42015b59b94094846912Z.tif'],\n",
       "             '3066794': ['docIMG_202407785_420157aa596094846929Z.tif'],\n",
       "             '3066798': ['docIMG_202407789_4201549fb73094847113Z.tif'],\n",
       "             '3066799': ['docIMG_202407790_4201599a155094847130Z.tif'],\n",
       "             '3066801': ['docIMG_202407792_4201577f903094847185Z.tif'],\n",
       "             '3066802': ['docIMG_202407793_4201545b740094847249Z.tif'],\n",
       "             '3066803': ['docIMG_202407794_42015428feb094847266Z.tif'],\n",
       "             '3066804': ['docIMG_202407795_42015065dfd094847304Z.tif'],\n",
       "             '3066805': ['docIMG_202407799_420158bd497094847370Z.tif'],\n",
       "             '3066806': ['docIMG_202407800_42015d60342094847421Z.tif'],\n",
       "             '3066807': ['docIMG_202407801_42015856ad7094847582Z.tif'],\n",
       "             '3066808': ['docIMG_202407802_420153b86fd094847600Z.tif'],\n",
       "             '3066809': ['docIMG_202407803_42015bc9303094847676Z.tif'],\n",
       "             '3066810': ['docIMG_202407804_420151de5bf094847692Z.tif'],\n",
       "             '3066813': ['docIMG_202407807_42015c63bde094847780Z.tif'],\n",
       "             '3066814': ['docIMG_202407812_42015c94b52094847797Z.tif'],\n",
       "             '3066815': ['docIMG_202407813_420159aa604094847817Z.tif'],\n",
       "             '3066816': ['docIMG_202407814_420154116bb094847874Z.tif'],\n",
       "             '3066820': ['docIMG_202407818_4201551ab15094848263Z.tif'],\n",
       "             '3066823': ['docIMG_202407821_4201580027e094854879Z.tif'],\n",
       "             '3066826': ['docIMG_202407825_42015b5ae71094855061Z.tif'],\n",
       "             '3066832': ['docIMG_202408555_420390b9c4a094906545Z.tif'],\n",
       "             '3066834': ['docIMG_202408559_42039bdd96b094906592Z.tif'],\n",
       "             '3066835': ['docIMG_202408560_42039d96d14094906654Z.tif'],\n",
       "             '3066836': ['docIMG_202408561_42039b6e525094906672Z.tif'],\n",
       "             '3066838': ['docIMG_202408563_4203977f119094906713Z.tif'],\n",
       "             '3066839': ['docIMG_202408564_42039db085b094906740Z.tif'],\n",
       "             '3066841': ['docIMG_202408566_420393cb4af094906938Z.tif'],\n",
       "             '3066842': ['docIMG_202408567_420394bb8c4094906958Z.tif'],\n",
       "             '3066843': ['docIMG_202408568_420395c2e4c094906995Z.tif'],\n",
       "             '3066845': ['docIMG_202408572_42039fe46c2094907052Z.tif'],\n",
       "             '3066853': ['docIMG_202408587_420394438fb094907220Z.tif'],\n",
       "             '3066854': ['docIMG_202408588_420397dbe4c094907241Z.tif'],\n",
       "             '3066858': ['docIMG_202408592_42039de1640094907373Z.tif'],\n",
       "             '3066868': ['docIMG_202408602_4203973f347094907510Z.tif'],\n",
       "             '3066884': ['docIMG_202408620_42039701912094907976Z.tif'],\n",
       "             '3066904': ['docIMG_202405285_42099f440fa095017675Z.tif'],\n",
       "             '3066905': ['docIMG_202405286_4209934cfe1095017695Z.tif'],\n",
       "             '3066906': ['docIMG_202405287_420992d397f095017724Z.tif'],\n",
       "             '3066907': ['docIMG_202405288_4209951b1e3095017819Z.tif'],\n",
       "             '3066908': ['docIMG_202405290_420996c9cdb095017839Z.tif'],\n",
       "             '3066912': ['docIMG_202405296_420993d0b63095017904Z.tif'],\n",
       "             '3066914': ['docIMG_202405298_420994367e4095017976Z.tif'],\n",
       "             '3066917': ['docIMG_202405301_42099c4c76d095018125Z.tif'],\n",
       "             '3066919': ['docIMG_202405303_420999b241c095018158Z.tif'],\n",
       "             '3066921': ['docIMG_202405305_42099f44f5e095018215Z.tif'],\n",
       "             '3066922': ['docIMG_202405306_4209973b5cf095018268Z.tif'],\n",
       "             '3066923': ['docIMG_202405307_42099445c97095018318Z.tif'],\n",
       "             '3066924': ['docIMG_202405308_420995bda8d095018485Z.tif'],\n",
       "             '3066926': ['docIMG_202405310_42099b05da2095018661Z.tif'],\n",
       "             '3066927': ['docIMG_202405311_420990b19bb095018694Z.tif'],\n",
       "             '3066928': ['docIMG_202405312_420994fb490095018714Z.tif'],\n",
       "             '3066930': ['docIMG_202405317_42099078397095018743Z.tif'],\n",
       "             '3066977': ['docIMG_2024035823_4209188bc4a120308970Z.tif'],\n",
       "             '3067031': ['docIMG_2024035998_42091c8aa20120316165Z.tif'],\n",
       "             '3067036': ['docIMG_2024036005_4209120cd15120316527Z.tif'],\n",
       "             '3067056': ['docIMG_2024036076_4209194758a120318202Z.tif'],\n",
       "             '3067063': ['docIMG_2024036101_4209103158a120318919Z.tif'],\n",
       "             '3067068': ['docIMG_2024036108_42091c46a46120319201Z.tif'],\n",
       "             '3067080': ['docIMG_2024036137_4209102a6d3120320659Z.tif'],\n",
       "             '3067083': ['docIMG_2024036143_42091458dd2120321326Z.tif'],\n",
       "             '3067086': ['docIMG_2024036149_4209152ddf5120321687Z.tif'],\n",
       "             '3067087': ['docIMG_2024036153_42091b4eba9120321738Z.tif'],\n",
       "             '3067090': ['docIMG_2024036158_42091aab266120321855Z.tif'],\n",
       "             '3067091': ['docIMG_2024036161_42091bc8a8c120321903Z.tif'],\n",
       "             '3067111': ['docIMG_2024036210_42091087459120337077Z.tif'],\n",
       "             '3067145': ['docIMG_2024036284_420914b7b3a120341792Z.tif'],\n",
       "             '3067156': ['docIMG_2024036351_42091a4a768120342971Z.tif'],\n",
       "             '3067178': ['docIMG_2024036401_42091bc3f94120345589Z.tif'],\n",
       "             '3067182': ['docIMG_2024036405_4209141a468120345905Z.tif'],\n",
       "             '3067186': ['docIMG_2024036411_42091c99651120346673Z.tif'],\n",
       "             '3067199': ['docIMG_202400008915_4210747598f045446922Z.tif'],\n",
       "             '3067203': ['docIMG_202400008919_421072afe93045447222Z.tif'],\n",
       "             '3067204': ['docIMG_202400008920_42107a72447045447264Z.tif'],\n",
       "             '3067206': ['docIMG_202400008922_42107aeb036045447414Z.tif'],\n",
       "             '3067207': ['docIMG_202400008923_42107e57161045447533Z.tif'],\n",
       "             '3067213': ['docIMG_202400008929_42107ccd1b6045447639Z.tif'],\n",
       "             '3067214': ['docIMG_202400008930_42107c19dae045447674Z.tif'],\n",
       "             '3067215': ['docIMG_202400008931_42107bc9ede045447769Z.tif'],\n",
       "             '3067217': ['docIMG_202400008933_4210749d4af045447961Z.tif'],\n",
       "             '3067218': ['docIMG_202400008934_42107699285045447990Z.tif'],\n",
       "             '3067225': ['docIMG_202400008941_4210734e04a045448277Z.tif'],\n",
       "             '3067226': ['docIMG_202400008942_421072db23c045448385Z.tif'],\n",
       "             '3067230': ['docIMG_202400008946_4210741bd51045448552Z.tif'],\n",
       "             '3067233': ['docIMG_202400008949_42107f6d11d045448615Z.tif'],\n",
       "             '3067234': ['docIMG_202400008950_4210791ee37045448647Z.tif'],\n",
       "             '3067237': ['docIMG_202400008953_421077ca29a045448806Z.tif'],\n",
       "             '3067238': ['docIMG_202400008954_42107b4f0c8045448901Z.tif'],\n",
       "             '3067244': ['docIMG_202400008960_4210726d432045449304Z.tif'],\n",
       "             '3067245': ['docIMG_202400008961_42107fc4055045449329Z.tif'],\n",
       "             '3067246': ['docIMG_202400008962_42107467c9e045449371Z.tif'],\n",
       "             '3067248': ['docIMG_202400008964_421079bd7e7045449437Z.tif'],\n",
       "             '3067251': ['docIMG_202400008967_42107ed82a9045449560Z.tif'],\n",
       "             '3067252': ['docIMG_202400008968_42107b7c24d045449600Z.tif'],\n",
       "             '3067255': ['docIMG_202400008971_42107b869c0045449674Z.tif'],\n",
       "             '3067258': ['docIMG_202400008974_421073bf663045449865Z.tif'],\n",
       "             '3067259': ['docIMG_202400008975_42107a814e6045449893Z.tif'],\n",
       "             '3067278': ['docIMG_2024036469_420912e18f9120349764Z.tif'],\n",
       "             '3067280': ['docIMG_2024036472_42091c40519120350105Z.tif'],\n",
       "             '3067301': ['docIMG_2024036514_42091e71c78120352020Z.tif'],\n",
       "             '3067311': ['docIMG_2024036540_420916ffe90120353288Z.tif'],\n",
       "             '3067322': ['docIMG_2024036582_42091e7f86e120354522Z.tif'],\n",
       "             '3067330': ['docIMG_2024036598_42091648403120355358Z.tif'],\n",
       "             '3067334': ['docIMG_2024036611_4209122e21b120355862Z.tif'],\n",
       "             '3067344': ['docIMG_2024004868_421119db32e095040893Z.tif'],\n",
       "             '3067348': ['docIMG_2024004874_42111ccf68e095041020Z.tif'],\n",
       "             '3067356': ['docIMG_2024004883_42111d3ab16095041407Z.tif'],\n",
       "             '3067357': ['docIMG_2024004884_42111694d47095041476Z.tif'],\n",
       "             '3067358': ['docIMG_2024004885_42111402293095041497Z.tif'],\n",
       "             '3067359': ['docIMG_2024004886_421111deb6c095041513Z.tif'],\n",
       "             '3067361': ['docIMG_2024004888_4211180493a095041559Z.tif'],\n",
       "             '3067362': ['docIMG_2024004889_42111259c2f095041592Z.tif'],\n",
       "             '3067363': ['docIMG_2024004891_42111014373095041621Z.tif'],\n",
       "             '3067364': ['docIMG_2024004892_42111d8acd2095041640Z.tif'],\n",
       "             '3067365': ['docIMG_2024004893_42111efef64095041666Z.tif'],\n",
       "             '3067366': ['docIMG_2024004894_42111abe14b095041684Z.tif'],\n",
       "             '3067367': ['docIMG_2024004895_42111134523095041707Z.tif'],\n",
       "             '3067371': ['docIMG_202401386_42113021890095058270Z.tif'],\n",
       "             '3067374': ['docIMG_202401389_42113a87c9f095058379Z.tif'],\n",
       "             '3067375': ['docIMG_202401390_42113d090b6095058402Z.tif'],\n",
       "             '3067377': ['docIMG_202401393_42113d331a0095058449Z.tif'],\n",
       "             '3067378': ['docIMG_202401394_42113feaac5095058472Z.tif'],\n",
       "             '3067379': ['docIMG_202401395_421139b2c3f095058493Z.tif'],\n",
       "             '3067452': ['docIMG_202407260018547_42129434bb5000814571Z.tif'],\n",
       "             '3067455': ['docIMG_202407260018550_421294f1b22000815222Z.tif'],\n",
       "             '3067458': ['docIMG_202407260018553_42129a39c4a000815330Z.tif'],\n",
       "             '3067468': ['docIMG_202407260018563_42129b52b82000815635Z.tif'],\n",
       "             '3067484': ['docIMG_202407260018579_42129b815f3000816127Z.tif'],\n",
       "             '3067486': ['docIMG_202407260018581_4212938a397000816179Z.tif'],\n",
       "             '3067509': ['docIMG_202407260018604_42129aea4e1000817138Z.tif'],\n",
       "             '3067511': ['docIMG_202407260018606_42129616905000817259Z.tif'],\n",
       "             '3067526': ['docIMG_202407260018621_4212939e40b000817745Z.tif'],\n",
       "             '3067531': ['docIMG_202407260018626_42129938708000817981Z.tif'],\n",
       "             '3067538': ['docIMG_202407260018630_421291dadab000818136Z.tif'],\n",
       "             '3067572': ['docIMG_202400001330_4212366055f154817985Z.tif'],\n",
       "             '3067594': ['docIMG_202400001352_4212378fd97154840145Z.tif'],\n",
       "             '3067629': ['docIMG_202407260018640_421293d9bc0000818524Z.tif'],\n",
       "             '3067641': ['docIMG_202407260018652_42129cfec4e000819447Z.tif'],\n",
       "             '3067650': ['docIMG_202407260018661_42129f93ffd000819895Z.tif'],\n",
       "             '3067653': ['docIMG_202407260018664_42129df4c7d000820099Z.tif'],\n",
       "             '3067658': ['docIMG_202407260018669_421299ef800000820560Z.tif'],\n",
       "             '3067660': ['docIMG_202407260018671_4212996aa26000820653Z.tif'],\n",
       "             '3067664': ['docIMG_202407260018675_421298453ef000820749Z.tif'],\n",
       "             '3067665': ['docIMG_202407260018676_42129736808000820779Z.tif'],\n",
       "             '3067670': ['docIMG_202407260018681_42129276bf1000821026Z.tif'],\n",
       "             '3067671': ['docIMG_202407260018682_42129bfcae3000821057Z.tif'],\n",
       "             '3067672': ['docIMG_202407260018683_421299c5989000821111Z.tif'],\n",
       "             '3067678': ['docIMG_202407260018689_42129bfc986000821244Z.tif'],\n",
       "             '3067679': ['docIMG_202407260018690_4212936f93f000821262Z.tif'],\n",
       "             '3067680': ['docIMG_202407260018691_421294c6e8a000821277Z.tif'],\n",
       "             '3067684': ['docIMG_202400001410_421237f815a154852357Z.tif'],\n",
       "             '3067687': ['docIMG_202400001413_42123d453eb154852535Z.tif'],\n",
       "             '3067721': ['docIMG_202400001501_421231584de154904824Z.tif'],\n",
       "             '3067799': ['docIMG_202400001438_421239dfaea154930187Z.tif'],\n",
       "             '3067832': ['docIMG_202400001494_421235c8f5b154936338Z.tif'],\n",
       "             '3067833': ['docIMG_202400001495_42123ea45b9154936369Z.tif'],\n",
       "             '3067834': ['docIMG_202400001496_42123612f90154936395Z.tif'],\n",
       "             '3067837': ['docIMG_202400001525_42123c87d64154941957Z.tif'],\n",
       "             '3067853': ['docIMG_202400001620_42123024be7154947755Z.tif'],\n",
       "             '3067866': ['docIMG_202400001643_42123f083b0154953660Z.tif'],\n",
       "             '3067871': ['docIMG_202400001543_42123ee6d46154959301Z.tif'],\n",
       "             '3067872': ['docIMG_202400001544_421233960f4154959316Z.tif'],\n",
       "             '3067883': ['docIMG_202400001555_42123ffe6c3154959629Z.tif'],\n",
       "             '3067916': ['docIMG_202400001588_4212328b989155007065Z.tif'],\n",
       "             '3067917': ['docIMG_202400001589_42123313885155007098Z.tif'],\n",
       "             '3067918': ['docIMG_202400001590_42123aeb0fb155007207Z.tif'],\n",
       "             '3067935': ['docIMG_202400001607_42123cabd31155013468Z.tif'],\n",
       "             '3067941': ['docIMG_202400001613_42123af85bf155013613Z.tif'],\n",
       "             '3067943': ['docIMG_202400001615_42123b6b793155013676Z.tif'],\n",
       "             '3067944': ['docIMG_202400001616_42123e437ca155013691Z.tif'],\n",
       "             '3067946': ['docIMG_202400001618_42123df6e13155013738Z.tif'],\n",
       "             '3067947': ['docIMG_202400001619_42123dbdbe8155013769Z.tif'],\n",
       "             '3067961': ['docIMG_202401159_421139cb3bf091754390Z.tif'],\n",
       "             '3067963': ['docIMG_202401161_42113be0fe6091754499Z.tif'],\n",
       "             '3067964': ['docIMG_202401162_4211376fc36091754587Z.tif'],\n",
       "             '3067966': ['docIMG_202401166_42113bd9dfc091754659Z.tif'],\n",
       "             '3067967': ['docIMG_202401167_421139dbc6c091754670Z.tif'],\n",
       "             '3067968': ['docIMG_202401168_421139559ed091754686Z.tif'],\n",
       "             '3067975': ['docIMG_2024022234_4204549f085110147433Z.tif'],\n",
       "             '3067979': ['docIMG_2024022238_42045f097dc110147539Z.tif'],\n",
       "             '3067983': ['docIMG_2024022242_4204547cbaa110147671Z.tif'],\n",
       "             '3067986': ['docIMG_2024022245_420456c28e3110147781Z.tif'],\n",
       "             '3067991': ['docIMG_2024022250_42045193496110147968Z.tif'],\n",
       "             '3067999': ['docIMG_2024022255_420451ce2f1110148062Z.tif'],\n",
       "             '3068000': ['docIMG_202409445_42069553df5153650583Z.tif'],\n",
       "             '3068001': ['docIMG_2024022256_420454bae3a110148125Z.tif'],\n",
       "             '3068006': ['docIMG_202409448_42069860eda153650785Z.tif'],\n",
       "             '3068009': ['docIMG_2024022260_42045c7e06b110148250Z.tif'],\n",
       "             '3068012': ['docIMG_202409451_42069f1a084153650877Z.tif'],\n",
       "             '3068016': ['docIMG_202409453_42069b16d24153650924Z.tif'],\n",
       "             '3068018': ['docIMG_202409454_420692c5fe7153651005Z.tif'],\n",
       "             '3068028': ['docIMG_202409459_42069783431153651235Z.tif'],\n",
       "             '3068029': ['docIMG_2024022270_420454c89b4110148750Z.tif'],\n",
       "             '3068034': ['docIMG_202409462_420697fecdb153651516Z.tif'],\n",
       "             '3068046': ['docIMG_202409468_420697bb30e153651861Z.tif'],\n",
       "             '3068047': ['docIMG_2024022279_420450e9757110149078Z.tif'],\n",
       "             '3068051': ['docIMG_2024022281_420454f0659110149173Z.tif'],\n",
       "             '3068052': ['docIMG_202409471_420698ca02c153652019Z.tif'],\n",
       "             '3068064': ['docIMG_202409477_42069fe0483153652205Z.tif'],\n",
       "             '3068065': ['docIMG_2024022288_42045a8b952110149515Z.tif'],\n",
       "             '3068070': ['docIMG_202409480_42069414c1a153652278Z.tif'],\n",
       "             '3068074': ['docIMG_202409482_42069395fd5153652471Z.tif'],\n",
       "             '3068079': ['docIMG_2024022295_420454a56bd110149734Z.tif'],\n",
       "             '3068088': ['docIMG_202409489_42069396afa153652881Z.tif'],\n",
       "             '3068094': ['docIMG_202409492_42069d3cc8a153653002Z.tif'],\n",
       "             '3068096': ['docIMG_202409493_42069a58f6b153653049Z.tif'],\n",
       "             '3068098': ['docIMG_202409494_42069156fd2153653080Z.tif'],\n",
       "             '3068104': ['docIMG_202409497_420690dbc84153653208Z.tif'],\n",
       "             '3068114': ['docIMG_202409502_42069ff79ce153653533Z.tif'],\n",
       "             '3068118': ['docIMG_202409504_420694a8a96153653581Z.tif'],\n",
       "             '3068120': ['docIMG_202409505_42069d1ae68153653611Z.tif'],\n",
       "             '3068123': ['docIMG_2024022319_42045c052c1110150675Z.tif'],\n",
       "             '3068130': ['docIMG_202409510_420696f6044153654073Z.tif'],\n",
       "             '3068134': ['docIMG_202409512_420697804f8153654111Z.tif'],\n",
       "             '3068135': ['docIMG_2024022325_420456b7863110150875Z.tif'],\n",
       "             '3068136': ['docIMG_202409513_420691d343e153654205Z.tif'],\n",
       "             '3068137': ['docIMG_2024022326_420455d8d08110150890Z.tif'],\n",
       "             '3068138': ['docIMG_202409514_420699147ac153654259Z.tif'],\n",
       "             '3068144': ['docIMG_202409517_42069838d52153654439Z.tif'],\n",
       "             '3068147': ['docIMG_2024022331_42045507fb4110151000Z.tif'],\n",
       "             '3068167': ['docIMG_2024022339_420451304e4110151359Z.tif'],\n",
       "             '3068168': ['docIMG_2024022340_42045fe9268110151376Z.tif'],\n",
       "             '3068172': ['docIMG_2024022344_42045d988ba110151503Z.tif'],\n",
       "             '3068176': ['docIMG_2024022348_420455f773b110151586Z.tif'],\n",
       "             '3068179': ['docIMG_2024022351_420457b5e4b110151725Z.tif'],\n",
       "             '3068181': ['docIMG_2024022353_420458afdcb110151750Z.tif'],\n",
       "             '3068184': ['docIMG_2024022356_420455f49a3110151879Z.tif'],\n",
       "             '3068207': ['docIMG_2024004066_421118849d4091744172Z.tif'],\n",
       "             '3068215': ['docIMG_2024004070_42111d3f482091744312Z.tif'],\n",
       "             '3068223': ['docIMG_2024004075_42111f3de04091744652Z.tif'],\n",
       "             '3068229': ['docIMG_2024004078_42111dc5bbb091744750Z.tif'],\n",
       "             '3068233': ['docIMG_2024004080_421114bb99b091744797Z.tif'],\n",
       "             '3068237': ['docIMG_2024004082_421116e1d04091744874Z.tif'],\n",
       "             '3068241': ['docIMG_2024004084_42111498f00091744923Z.tif'],\n",
       "             '3068259': ['docIMG_2024004095_4211191b263091745387Z.tif'],\n",
       "             '3068264': ['docIMG_2024004100_4211140daeb091745624Z.tif'],\n",
       "             '3068265': ['docIMG_2024004101_42111604503091745624Z.tif'],\n",
       "             '3068266': ['docIMG_2024004102_42111b4f889091745671Z.tif'],\n",
       "             '3068267': ['docIMG_2024004103_42111010e06091745777Z.tif'],\n",
       "             '3068272': ['docIMG_2024002828_420092488c7072944735Z.tif'],\n",
       "             '3068273': ['docIMG_2024002829_420092cb754072944749Z.tif'],\n",
       "             '3068275': ['docIMG_2024002831_42009f4f14b072944795Z.tif'],\n",
       "             '3068276': ['docIMG_2024002832_4200978e25e072944842Z.tif'],\n",
       "             '3068277': ['docIMG_2024002833_420096e8c63072944873Z.tif'],\n",
       "             '3068280': ['docIMG_2024002836_420093586ac072945999Z.tif'],\n",
       "             '3068281': ['docIMG_2024002837_42009864f34072946019Z.tif'],\n",
       "             '3068283': ['docIMG_2024002839_42009e98974072946047Z.tif'],\n",
       "             '3068284': ['docIMG_2024002840_42009bff1bd072946077Z.tif'],\n",
       "             '3068286': ['docIMG_2024002842_42009cf64f9072946170Z.tif'],\n",
       "             '3068287': ['docIMG_2024002843_420091f7d7a072946269Z.tif'],\n",
       "             '3068288': ['docIMG_2024002844_420093dfe24072946285Z.tif'],\n",
       "             '3068296': ['docIMG_42019_20240618_MTG. RELEASE_2024_06180008763___1_1_42019c71a74204614610Z.pdf'],\n",
       "             '3068298': ['docIMG_42019_20240621_MTG. RELEASE_2024_06210008869___1_1_420191221b3204614641Z.pdf'],\n",
       "             '3068320': ['docIMG_42019_20240724_MORTGAGE GENERAL_2024_07240010703___1_7_420190fcd69213347887Z.pdf'],\n",
       "             '3068321': ['docIMG_42019_20240724_MORTGAGE GENERAL_2024_07240010704___1_7_420195e4302213347935Z.pdf'],\n",
       "             '3068322': ['docIMG_42019_20240724_MORTGAGE GENERAL_2024_07240010706___1_29_420195957c4213347993Z.pdf'],\n",
       "             '3068338': ['docIMG_42019_20240724_RIGHT OF WAY_2024_07240010707___1_5_42019bbae76213349816Z.pdf'],\n",
       "             '3068342': ['docIMG_42019_20240724_SATISFACTION OF MORTGAGE_2024_07240010686___1_3_42019f65c97213349886Z.pdf'],\n",
       "             '3068343': ['docIMG_42019_20240724_SHERIFF DEED_2024_07240010724___1_5_42019815a73213349904Z.pdf'],\n",
       "             '3068344': ['docIMG_42019_20240724_WARRANTY DEED_2024_07240010649___1_4_4201927277d213349930Z.pdf'],\n",
       "             '3068363': ['docIMG_42019_20240724_WARRANTY DEED_2024_07240010720___1_5_42019d4bdd0213350411Z.pdf'],\n",
       "             '3068364': ['docIMG_42019_20240724_WARRANTY DEED_2024_07240010722___1_5_420194f5835213350439Z.pdf'],\n",
       "             '3068368': ['docIMG_42019_20240725_EXECUTORS DEED_2024_07250010751___1_4_4201979dd95213350575Z.pdf'],\n",
       "             '3068370': ['docIMG_42019_20240725_MINERAL DEED_2024_07250010750___1_4_42019327e6d213350627Z.pdf'],\n",
       "             '3068406': ['docIMG_202408388_42039dab394092056336Z.tif'],\n",
       "             '3068416': ['docIMG_202408400_42039f044d2092057606Z.tif'],\n",
       "             '3068417': ['docIMG_202408401_42039c700aa092057637Z.tif'],\n",
       "             '3068420': ['docIMG_202408404_42039e34b5b092057778Z.tif'],\n",
       "             '3068421': ['docIMG_202408405_4203954d889092057797Z.tif'],\n",
       "             '3068425': ['docIMG_202408409_4203956b24d092057895Z.tif'],\n",
       "             '3068432': ['docIMG_202408417_42039f585cb092058160Z.tif'],\n",
       "             '3068434': ['docIMG_202408419_4203949541c092058282Z.tif'],\n",
       "             '3068437': ['docIMG_202408422_420392f545d092058449Z.tif'],\n",
       "             '3068441': ['docIMG_202408426_42039da5402092058514Z.tif'],\n",
       "             '3068569': ['docIMG_2024002138_42065207e84015233435Z.tif'],\n",
       "             '3068571': ['docIMG_2024002140_42065c7db49015233450Z.tif'],\n",
       "             '3068572': ['docIMG_2024002141_42065502b5c015233466Z.tif'],\n",
       "             '3068573': ['docIMG_2024002142_420653d7e02015233482Z.tif'],\n",
       "             '3068574': ['docIMG_2024002143_420658a8480015233497Z.tif'],\n",
       "             '3068730': ['docIMG_202400002364_4205918f311145500593Z.tif'],\n",
       "             '3068736': ['docIMG_202400002367_4205947f41d145500778Z.tif'],\n",
       "             '3068775': ['docIMG_202400002623_420590f6cc9145641374Z.tif'],\n",
       "             '3068777': ['docIMG_202400002624_420594cc489145641453Z.tif'],\n",
       "             '3068801': ['docIMG_202400002636_42059752734145641953Z.tif'],\n",
       "             '3068806': ['docIMG_202400002715_42059c42f47145519678Z.tif'],\n",
       "             '3068808': ['docIMG_202400002716_42059256de5145519691Z.tif'],\n",
       "             '3068811': ['docIMG_202400002641_42059d421dd145642150Z.tif'],\n",
       "             '3068812': ['docIMG_202400002718_42059461ee5145519734Z.tif'],\n",
       "             '3068874': ['docIMG_202400002300_42059532583145533906Z.tif'],\n",
       "             '3068892': ['docIMG_202400002318_4205990537c145534593Z.tif'],\n",
       "             '3068894': ['docIMG_202400002320_42059a652ba145534730Z.tif'],\n",
       "             '3068895': ['docIMG_202400002321_42059012049145534752Z.tif'],\n",
       "             '3068907': ['docIMG_202400002333_420590a8187145535578Z.tif'],\n",
       "             '3068931': ['docIMG_202400002477_42059f9a41e145542359Z.tif'],\n",
       "             '3068962': ['docIMG_202400002508_420597e95d8145543593Z.tif'],\n",
       "             '3068965': ['docIMG_202400002511_420598ff8f9145549107Z.tif'],\n",
       "             '3068966': ['docIMG_202400002512_420598d92a3145549197Z.tif'],\n",
       "             '3068968': ['docIMG_202400002514_420599eeabc145549243Z.tif'],\n",
       "             '3068983': ['docIMG_202400002614_42059fd5979145555546Z.tif'],\n",
       "             '3069004': ['docIMG_202400002393_42059728446145601754Z.tif'],\n",
       "             '3069007': ['docIMG_202400002396_420592a4a19145601887Z.tif'],\n",
       "             '3069017': ['docIMG_202400002406_42059547ea9145602234Z.tif'],\n",
       "             '3069018': ['docIMG_202400002407_42059d0905a145602265Z.tif'],\n",
       "             '3069019': ['docIMG_202400002408_42059baf0f0145602312Z.tif'],\n",
       "             '3069026': ['docIMG_202404489_42099c1bcd8084934889Z.tif'],\n",
       "             '3069043': ['docIMG_202404509_42099ca43e6084935477Z.tif'],\n",
       "             '3069044': ['docIMG_202404510_4209949ea20084935483Z.tif'],\n",
       "             '3069045': ['docIMG_202404511_420990a576d084935530Z.tif'],\n",
       "             '3069046': ['docIMG_202404512_4209957b408084935655Z.tif'],\n",
       "             '3069050': ['docIMG_202404516_42099a3d928084935724Z.tif'],\n",
       "             '3069052': ['docIMG_202404518_420995bd124084935872Z.tif'],\n",
       "             '3069056': ['docIMG_2024002176_420655e7207024705341Z.tif'],\n",
       "             '3069058': ['docIMG_2024002178_4206594cce8024705528Z.tif'],\n",
       "             '3069059': ['docIMG_2024002179_420653abfe7024705544Z.tif'],\n",
       "             '3069060': ['docIMG_2024002180_42065568748024705559Z.tif'],\n",
       "             '3069061': ['docIMG_2024002181_42065a645a1024705591Z.tif'],\n",
       "             '3069062': ['docIMG_2024002182_42065da2827024705638Z.tif'],\n",
       "             '3069063': ['docIMG_2024002183_42065db151e024705654Z.tif'],\n",
       "             '3069064': ['docIMG_2024002184_4206502d499024705684Z.tif'],\n",
       "             '3069065': ['docIMG_2024002185_42065e30255024705750Z.tif'],\n",
       "             '3069074': ['docIMG_2024002507_421218c37d8024747926Z.tif'],\n",
       "             '3069078': ['docIMG_2024002511_421214ad86c024748091Z.tif'],\n",
       "             '3069079': ['docIMG_2024002512_421216428c6024748107Z.tif'],\n",
       "             '3069080': ['docIMG_2024002513_42121428447024748122Z.tif'],\n",
       "             '3069081': ['docIMG_2024002514_42121a094b4024748153Z.tif'],\n",
       "             '3069083': ['docIMG_2024002516_4212199b5a7024748341Z.tif'],\n",
       "             '3069084': ['docIMG_2024002517_4212143f544024748388Z.tif'],\n",
       "             '3069086': ['docIMG_2024002519_42121c13acc024748591Z.tif'],\n",
       "             '3069089': ['docIMG_2024002522_42121f10edd024748810Z.tif'],\n",
       "             '3069090': ['docIMG_2024002523_4212188a968024748841Z.tif'],\n",
       "             '3069092': ['docIMG_2024002525_421214e04e1024748872Z.tif'],\n",
       "             '3069093': ['docIMG_2024002526_421210454af024748919Z.tif'],\n",
       "             '3069094': ['docIMG_2024002527_42121cb6120024748950Z.tif'],\n",
       "             '3069095': ['docIMG_2024002528_421214cd75a024748950Z.tif'],\n",
       "             '3069106': ['docIMG_202401366_42113195998090735193Z.tif'],\n",
       "             '3069107': ['docIMG_202401367_42113d6ed59090735258Z.tif'],\n",
       "             '3069108': ['docIMG_202401368_42113147e47090735443Z.tif'],\n",
       "             '3069109': ['docIMG_202401369_42113321a7d090735531Z.tif'],\n",
       "             '3069110': ['docIMG_202401370_42113e844f4090735560Z.tif'],\n",
       "             '3069111': ['docIMG_202401371_42113d1fa47090735738Z.tif'],\n",
       "             '3069112': ['docIMG_202401373_4211362c71e090735798Z.tif'],\n",
       "             '3069117': ['docIMG_202401377_4211380dadd092139341Z.tif'],\n",
       "             '3069118': ['docIMG_202401378_42113d35f4c092139379Z.tif'],\n",
       "             '3069119': ['docIMG_202401379_42113cf7e23092139515Z.tif'],\n",
       "             '3069124': ['docIMG_202401381_42113b91a8a090547253Z.tif'],\n",
       "             '3069125': ['docIMG_202401382_4211345987a090547281Z.tif'],\n",
       "             '3069126': ['docIMG_202401384_421137bd2b0090547303Z.tif']})"
      ]
     },
     "execution_count": 16,
     "metadata": {},
     "output_type": "execute_result"
    }
   ],
   "source": [
    "name_index"
   ]
  },
  {
   "cell_type": "code",
   "execution_count": 16,
   "id": "fb14b55e-6a0b-4de4-88b3-644afd9d44b6",
   "metadata": {},
   "outputs": [
    {
     "data": {
      "text/plain": [
       "{'2582386': '9937000',\n",
       " '3066131': '9937001',\n",
       " '3066132': '9937002',\n",
       " '3066133': '9937003',\n",
       " '3066134': '9937004',\n",
       " '3066140': '9937005',\n",
       " '3066141': '9937006',\n",
       " '3066142': '9937007',\n",
       " '3066144': '9937008',\n",
       " '3066145': '9937009',\n",
       " '3066152': '9937010',\n",
       " '3066153': '9937011',\n",
       " '3066159': '9937012',\n",
       " '3066160': '9937013',\n",
       " '3066165': '9937014',\n",
       " '3066171': '9937015',\n",
       " '3066172': '9937016',\n",
       " '3066175': '9937017',\n",
       " '3066176': '9937018',\n",
       " '3066177': '9937019',\n",
       " '3066178': '9937020',\n",
       " '3066182': '9937021',\n",
       " '3066190': '9937022',\n",
       " '3066191': '9937023',\n",
       " '3066192': '9937024',\n",
       " '3066195': '9937025',\n",
       " '3066196': '9937026',\n",
       " '3066204': '9937027',\n",
       " '3066205': '9937028',\n",
       " '3066209': '9937029',\n",
       " '3066212': '9937030',\n",
       " '3066213': '9937031',\n",
       " '3066215': '9937032',\n",
       " '3066224': '9937033',\n",
       " '3066228': '9937034',\n",
       " '3066229': '9937035',\n",
       " '3066230': '9937036',\n",
       " '3066231': '9937037',\n",
       " '3066232': '9937038',\n",
       " '3066243': '9937039',\n",
       " '3066246': '9937040',\n",
       " '3066249': '9937041',\n",
       " '3066252': '9937042',\n",
       " '3066253': '9937043',\n",
       " '3066256': '9937044',\n",
       " '3066257': '9937045',\n",
       " '3066258': '9937046',\n",
       " '3066259': '9937047',\n",
       " '3066260': '9937048',\n",
       " '3066268': '9937049',\n",
       " '3066271': '9937050',\n",
       " '3066276': '9937051',\n",
       " '3066284': '9937052',\n",
       " '3066288': '9937053',\n",
       " '3066292': '9937054',\n",
       " '3066293': '9937055',\n",
       " '3066294': '9937056',\n",
       " '3066295': '9937057',\n",
       " '3066296': '9937058',\n",
       " '3066297': '9937059',\n",
       " '3066361': '9937060',\n",
       " '3066367': '9937061',\n",
       " '3066377': '9937062',\n",
       " '3066379': '9937063',\n",
       " '3066388': '9937064',\n",
       " '3066392': '9937065',\n",
       " '3066393': '9937066',\n",
       " '3066394': '9937067',\n",
       " '3066398': '9937068',\n",
       " '3066399': '9937069',\n",
       " '3066408': '9937070',\n",
       " '3066409': '9937071',\n",
       " '3066415': '9937072',\n",
       " '3066418': '9937073',\n",
       " '3066422': '9937074',\n",
       " '3066424': '9937075',\n",
       " '3066429': '9937076',\n",
       " '3066433': '9937077',\n",
       " '3066435': '9937078',\n",
       " '3066442': '9937079',\n",
       " '3066445': '9937080',\n",
       " '3066458': '9937081',\n",
       " '3066459': '9937082',\n",
       " '3066460': '9937083',\n",
       " '3066461': '9937084',\n",
       " '3066491': '9937085',\n",
       " '3066492': '9937086',\n",
       " '3066520': '9937087',\n",
       " '3066571': '9937088',\n",
       " '3066578': '9937089',\n",
       " '3066583': '9937090',\n",
       " '3066586': '9937091',\n",
       " '3066589': '9937092',\n",
       " '3066590': '9937093',\n",
       " '3066592': '9937094',\n",
       " '3066609': '9937095',\n",
       " '3066610': '9937096',\n",
       " '3066616': '9937097',\n",
       " '3066620': '9937098',\n",
       " '3066628': '9937099',\n",
       " '3066636': '9937100',\n",
       " '3066649': '9937101',\n",
       " '3066657': '9937102',\n",
       " '3066660': '9937103',\n",
       " '3066663': '9937104',\n",
       " '3066664': '9937105',\n",
       " '3066666': '9937106',\n",
       " '3066667': '9937107',\n",
       " '3066672': '9937108',\n",
       " '3066673': '9937109',\n",
       " '3066677': '9937110',\n",
       " '3066679': '9937111',\n",
       " '3066680': '9937112',\n",
       " '3066682': '9937113',\n",
       " '3066685': '9937114',\n",
       " '3066687': '9937115',\n",
       " '3066689': '9937116',\n",
       " '3066692': '9937117',\n",
       " '3066697': '9937118',\n",
       " '3066709': '9937119',\n",
       " '3066717': '9937120',\n",
       " '3066721': '9937121',\n",
       " '3066723': '9937122',\n",
       " '3066725': '9937123',\n",
       " '3066726': '9937124',\n",
       " '3066730': '9937125',\n",
       " '3066732': '9937126',\n",
       " '3066736': '9937127',\n",
       " '3066738': '9937128',\n",
       " '3066743': '9937129',\n",
       " '3066744': '9937130',\n",
       " '3066745': '9937131',\n",
       " '3066748': '9937132',\n",
       " '3066750': '9937133',\n",
       " '3066752': '9937134',\n",
       " '3066753': '9937135',\n",
       " '3066759': '9937136',\n",
       " '3066760': '9937137',\n",
       " '3066761': '9937138',\n",
       " '3066762': '9937139',\n",
       " '3066767': '9937140',\n",
       " '3066770': '9937141',\n",
       " '3066771': '9937142',\n",
       " '3066773': '9937143',\n",
       " '3066775': '9937144',\n",
       " '3066777': '9937145',\n",
       " '3066785': '9937146',\n",
       " '3066786': '9937147',\n",
       " '3066787': '9937148',\n",
       " '3066791': '9937149',\n",
       " '3066793': '9937150',\n",
       " '3066794': '9937151',\n",
       " '3066798': '9937152',\n",
       " '3066799': '9937153',\n",
       " '3066801': '9937154',\n",
       " '3066802': '9937155',\n",
       " '3066803': '9937156',\n",
       " '3066804': '9937157',\n",
       " '3066805': '9937158',\n",
       " '3066806': '9937159',\n",
       " '3066807': '9937160',\n",
       " '3066808': '9937161',\n",
       " '3066809': '9937162',\n",
       " '3066810': '9937163',\n",
       " '3066813': '9937164',\n",
       " '3066814': '9937165',\n",
       " '3066815': '9937166',\n",
       " '3066816': '9937167',\n",
       " '3066820': '9937168',\n",
       " '3066823': '9937169',\n",
       " '3066826': '9937170',\n",
       " '3066832': '9937171',\n",
       " '3066834': '9937172',\n",
       " '3066835': '9937173',\n",
       " '3066836': '9937174',\n",
       " '3066838': '9937175',\n",
       " '3066839': '9937176',\n",
       " '3066841': '9937177',\n",
       " '3066842': '9937178',\n",
       " '3066843': '9937179',\n",
       " '3066845': '9937180',\n",
       " '3066853': '9937181',\n",
       " '3066854': '9937182',\n",
       " '3066858': '9937183',\n",
       " '3066868': '9937184',\n",
       " '3066884': '9937185',\n",
       " '3066904': '9937186',\n",
       " '3066905': '9937187',\n",
       " '3066906': '9937188',\n",
       " '3066907': '9937189',\n",
       " '3066908': '9937190',\n",
       " '3066912': '9937191',\n",
       " '3066914': '9937192',\n",
       " '3066917': '9937193',\n",
       " '3066919': '9937194',\n",
       " '3066921': '9937195',\n",
       " '3066922': '9937196',\n",
       " '3066923': '9937197',\n",
       " '3066924': '9937198',\n",
       " '3066926': '9937199',\n",
       " '3066927': '9937200',\n",
       " '3066928': '9937201',\n",
       " '3066930': '9937202',\n",
       " '3066977': '9937203',\n",
       " '3067031': '9937204',\n",
       " '3067036': '9937205',\n",
       " '3067056': '9937206',\n",
       " '3067063': '9937207',\n",
       " '3067068': '9937208',\n",
       " '3067080': '9937209',\n",
       " '3067083': '9937210',\n",
       " '3067086': '9937211',\n",
       " '3067087': '9937212',\n",
       " '3067090': '9937213',\n",
       " '3067091': '9937214',\n",
       " '3067111': '9937215',\n",
       " '3067145': '9937216',\n",
       " '3067156': '9937217',\n",
       " '3067178': '9937218',\n",
       " '3067182': '9937219',\n",
       " '3067186': '9937220',\n",
       " '3067199': '9937221',\n",
       " '3067203': '9937222',\n",
       " '3067204': '9937223',\n",
       " '3067206': '9937224',\n",
       " '3067207': '9937225',\n",
       " '3067213': '9937226',\n",
       " '3067214': '9937227',\n",
       " '3067215': '9937228',\n",
       " '3067217': '9937229',\n",
       " '3067218': '9937230',\n",
       " '3067225': '9937231',\n",
       " '3067226': '9937232',\n",
       " '3067230': '9937233',\n",
       " '3067233': '9937234',\n",
       " '3067234': '9937235',\n",
       " '3067237': '9937236',\n",
       " '3067238': '9937237',\n",
       " '3067244': '9937238',\n",
       " '3067245': '9937239',\n",
       " '3067246': '9937240',\n",
       " '3067248': '9937241',\n",
       " '3067251': '9937242',\n",
       " '3067252': '9937243',\n",
       " '3067255': '9937244',\n",
       " '3067258': '9937245',\n",
       " '3067259': '9937246',\n",
       " '3067278': '9937247',\n",
       " '3067280': '9937248',\n",
       " '3067301': '9937249',\n",
       " '3067311': '9937250',\n",
       " '3067322': '9937251',\n",
       " '3067330': '9937252',\n",
       " '3067334': '9937253',\n",
       " '3067344': '9937254',\n",
       " '3067348': '9937255',\n",
       " '3067356': '9937256',\n",
       " '3067357': '9937257',\n",
       " '3067358': '9937258',\n",
       " '3067359': '9937259',\n",
       " '3067361': '9937260',\n",
       " '3067362': '9937261',\n",
       " '3067363': '9937262',\n",
       " '3067364': '9937263',\n",
       " '3067365': '9937264',\n",
       " '3067366': '9937265',\n",
       " '3067367': '9937266',\n",
       " '3067371': '9937267',\n",
       " '3067374': '9937268',\n",
       " '3067375': '9937269',\n",
       " '3067377': '9937270',\n",
       " '3067378': '9937271',\n",
       " '3067379': '9937272',\n",
       " '3067452': '9937273',\n",
       " '3067455': '9937274',\n",
       " '3067458': '9937275',\n",
       " '3067468': '9937276',\n",
       " '3067484': '9937277',\n",
       " '3067486': '9937278',\n",
       " '3067509': '9937279',\n",
       " '3067511': '9937280',\n",
       " '3067526': '9937281',\n",
       " '3067531': '9937282',\n",
       " '3067538': '9937283',\n",
       " '3067572': '9937284',\n",
       " '3067594': '9937285',\n",
       " '3067629': '9937286',\n",
       " '3067641': '9937287',\n",
       " '3067650': '9937288',\n",
       " '3067653': '9937289',\n",
       " '3067658': '9937290',\n",
       " '3067660': '9937291',\n",
       " '3067664': '9937292',\n",
       " '3067665': '9937293',\n",
       " '3067670': '9937294',\n",
       " '3067671': '9937295',\n",
       " '3067672': '9937296',\n",
       " '3067678': '9937297',\n",
       " '3067679': '9937298',\n",
       " '3067680': '9937299',\n",
       " '3067684': '9937300',\n",
       " '3067687': '9937301',\n",
       " '3067721': '9937302',\n",
       " '3067799': '9937303',\n",
       " '3067832': '9937304',\n",
       " '3067833': '9937305',\n",
       " '3067834': '9937306',\n",
       " '3067837': '9937307',\n",
       " '3067853': '9937308',\n",
       " '3067866': '9937309',\n",
       " '3067871': '9937310',\n",
       " '3067872': '9937311',\n",
       " '3067883': '9937312',\n",
       " '3067916': '9937313',\n",
       " '3067917': '9937314',\n",
       " '3067918': '9937315',\n",
       " '3067935': '9937316',\n",
       " '3067941': '9937317',\n",
       " '3067943': '9937318',\n",
       " '3067944': '9937319',\n",
       " '3067946': '9937320',\n",
       " '3067947': '9937321',\n",
       " '3067961': '9937322',\n",
       " '3067963': '9937323',\n",
       " '3067964': '9937324',\n",
       " '3067966': '9937325',\n",
       " '3067967': '9937326',\n",
       " '3067968': '9937327',\n",
       " '3067975': '9937328',\n",
       " '3067979': '9937329',\n",
       " '3067983': '9937330',\n",
       " '3067986': '9937331',\n",
       " '3067991': '9937332',\n",
       " '3067999': '9937333',\n",
       " '3068000': '9937334',\n",
       " '3068001': '9937335',\n",
       " '3068006': '9937336',\n",
       " '3068009': '9937337',\n",
       " '3068012': '9937338',\n",
       " '3068016': '9937339',\n",
       " '3068018': '9937340',\n",
       " '3068028': '9937341',\n",
       " '3068029': '9937342',\n",
       " '3068034': '9937343',\n",
       " '3068046': '9937344',\n",
       " '3068047': '9937345',\n",
       " '3068051': '9937346',\n",
       " '3068052': '9937347',\n",
       " '3068064': '9937348',\n",
       " '3068065': '9937349',\n",
       " '3068070': '9937350',\n",
       " '3068074': '9937351',\n",
       " '3068079': '9937352',\n",
       " '3068088': '9937353',\n",
       " '3068094': '9937354',\n",
       " '3068096': '9937355',\n",
       " '3068098': '9937356',\n",
       " '3068104': '9937357',\n",
       " '3068114': '9937358',\n",
       " '3068118': '9937359',\n",
       " '3068120': '9937360',\n",
       " '3068123': '9937361',\n",
       " '3068130': '9937362',\n",
       " '3068134': '9937363',\n",
       " '3068135': '9937364',\n",
       " '3068136': '9937365',\n",
       " '3068137': '9937366',\n",
       " '3068138': '9937367',\n",
       " '3068144': '9937368',\n",
       " '3068147': '9937369',\n",
       " '3068167': '9937370',\n",
       " '3068168': '9937371',\n",
       " '3068172': '9937372',\n",
       " '3068176': '9937373',\n",
       " '3068179': '9937374',\n",
       " '3068181': '9937375',\n",
       " '3068184': '9937376',\n",
       " '3068207': '9937377',\n",
       " '3068215': '9937378',\n",
       " '3068223': '9937379',\n",
       " '3068229': '9937380',\n",
       " '3068233': '9937381',\n",
       " '3068237': '9937382',\n",
       " '3068241': '9937383',\n",
       " '3068259': '9937384',\n",
       " '3068264': '9937385',\n",
       " '3068265': '9937386',\n",
       " '3068266': '9937387',\n",
       " '3068267': '9937388',\n",
       " '3068272': '9937389',\n",
       " '3068273': '9937390',\n",
       " '3068275': '9937391',\n",
       " '3068276': '9937392',\n",
       " '3068277': '9937393',\n",
       " '3068280': '9937394',\n",
       " '3068281': '9937395',\n",
       " '3068283': '9937396',\n",
       " '3068284': '9937397',\n",
       " '3068286': '9937398',\n",
       " '3068287': '9937399',\n",
       " '3068288': '9937400',\n",
       " '3068296': '9937401',\n",
       " '3068298': '9937402',\n",
       " '3068320': '9937403',\n",
       " '3068321': '9937404',\n",
       " '3068322': '9937405',\n",
       " '3068338': '9937406',\n",
       " '3068342': '9937407',\n",
       " '3068343': '9937408',\n",
       " '3068344': '9937409',\n",
       " '3068363': '9937410',\n",
       " '3068364': '9937411',\n",
       " '3068368': '9937412',\n",
       " '3068370': '9937413',\n",
       " '3068406': '9937414',\n",
       " '3068416': '9937415',\n",
       " '3068417': '9937416',\n",
       " '3068420': '9937417',\n",
       " '3068421': '9937418',\n",
       " '3068425': '9937419',\n",
       " '3068432': '9937420',\n",
       " '3068434': '9937421',\n",
       " '3068437': '9937422',\n",
       " '3068441': '9937423',\n",
       " '3068569': '9937424',\n",
       " '3068571': '9937425',\n",
       " '3068572': '9937426',\n",
       " '3068573': '9937427',\n",
       " '3068574': '9937428',\n",
       " '3068730': '9937429',\n",
       " '3068736': '9937430',\n",
       " '3068775': '9937431',\n",
       " '3068777': '9937432',\n",
       " '3068801': '9937433',\n",
       " '3068806': '9937434',\n",
       " '3068808': '9937435',\n",
       " '3068811': '9937436',\n",
       " '3068812': '9937437',\n",
       " '3068874': '9937438',\n",
       " '3068892': '9937439',\n",
       " '3068894': '9937440',\n",
       " '3068895': '9937441',\n",
       " '3068907': '9937442',\n",
       " '3068931': '9937443',\n",
       " '3068962': '9937444',\n",
       " '3068965': '9937445',\n",
       " '3068966': '9937446',\n",
       " '3068968': '9937447',\n",
       " '3068983': '9937448',\n",
       " '3069004': '9937449',\n",
       " '3069007': '9937450',\n",
       " '3069017': '9937451',\n",
       " '3069018': '9937452',\n",
       " '3069019': '9937453',\n",
       " '3069026': '9937454',\n",
       " '3069043': '9937455',\n",
       " '3069044': '9937456',\n",
       " '3069045': '9937457',\n",
       " '3069046': '9937458',\n",
       " '3069050': '9937459',\n",
       " '3069052': '9937460',\n",
       " '3069056': '9937461',\n",
       " '3069058': '9937462',\n",
       " '3069059': '9937463',\n",
       " '3069060': '9937464',\n",
       " '3069061': '9937465',\n",
       " '3069062': '9937466',\n",
       " '3069063': '9937467',\n",
       " '3069064': '9937468',\n",
       " '3069065': '9937469',\n",
       " '3069074': '9937470',\n",
       " '3069078': '9937471',\n",
       " '3069079': '9937472',\n",
       " '3069080': '9937473',\n",
       " '3069081': '9937474',\n",
       " '3069083': '9937475',\n",
       " '3069084': '9937476',\n",
       " '3069086': '9937477',\n",
       " '3069089': '9937478',\n",
       " '3069090': '9937479',\n",
       " '3069092': '9937480',\n",
       " '3069093': '9937481',\n",
       " '3069094': '9937482',\n",
       " '3069095': '9937483',\n",
       " '3069106': '9937484',\n",
       " '3069107': '9937485',\n",
       " '3069108': '9937486',\n",
       " '3069109': '9937487',\n",
       " '3069110': '9937488',\n",
       " '3069111': '9937489',\n",
       " '3069112': '9937490',\n",
       " '3069117': '9937491',\n",
       " '3069118': '9937492',\n",
       " '3069119': '9937493',\n",
       " '3069124': '9937494',\n",
       " '3069125': '9937495',\n",
       " '3069126': '9937496'}"
      ]
     },
     "execution_count": 16,
     "metadata": {},
     "output_type": "execute_result"
    }
   ],
   "source": [
    "batchid_filmid"
   ]
  },
  {
   "cell_type": "code",
   "execution_count": 17,
   "id": "d99f7b0d-b8a2-4233-bcfe-f6e40848ffee",
   "metadata": {},
   "outputs": [],
   "source": [
    "t = \"\"\n",
    "for b in batchid_filmid.values():\n",
    "    t += f\" or film_id = '{b}'\"\n",
    "t=t[3:]\n",
    "query =  f'SELECT * FROM document where ({t});'"
   ]
  },
  {
   "cell_type": "code",
   "execution_count": 18,
   "id": "01482163-dc8f-4316-929f-61c3c9a3cc54",
   "metadata": {
    "scrolled": true
   },
   "outputs": [
    {
     "data": {
      "text/html": [
       "<pre style=\"white-space:pre;overflow-x:auto;line-height:normal;font-family:Menlo,'DejaVu Sans Mono',consolas,'Courier New',monospace\">SELECT * FROM document where <span style=\"font-weight: bold\">(</span> film_id = <span style=\"color: #008000; text-decoration-color: #008000\">'9937000'</span> or film_id = <span style=\"color: #008000; text-decoration-color: #008000\">'9937001'</span> or film_id = <span style=\"color: #008000; text-decoration-color: #008000\">'9937002'</span> or film_id = \n",
       "<span style=\"color: #008000; text-decoration-color: #008000\">'9937003'</span> or film_id = <span style=\"color: #008000; text-decoration-color: #008000\">'9937004'</span> or film_id = <span style=\"color: #008000; text-decoration-color: #008000\">'9937005'</span> or film_id = <span style=\"color: #008000; text-decoration-color: #008000\">'9937006'</span> or film_id = <span style=\"color: #008000; text-decoration-color: #008000\">'9937007'</span> or film_id = \n",
       "<span style=\"color: #008000; text-decoration-color: #008000\">'9937008'</span> or film_id = <span style=\"color: #008000; text-decoration-color: #008000\">'9937009'</span> or film_id = <span style=\"color: #008000; text-decoration-color: #008000\">'9937010'</span> or film_id = <span style=\"color: #008000; text-decoration-color: #008000\">'9937011'</span> or film_id = <span style=\"color: #008000; text-decoration-color: #008000\">'9937012'</span> or film_id = \n",
       "<span style=\"color: #008000; text-decoration-color: #008000\">'9937013'</span> or film_id = <span style=\"color: #008000; text-decoration-color: #008000\">'9937014'</span> or film_id = <span style=\"color: #008000; text-decoration-color: #008000\">'9937015'</span> or film_id = <span style=\"color: #008000; text-decoration-color: #008000\">'9937016'</span> or film_id = <span style=\"color: #008000; text-decoration-color: #008000\">'9937017'</span> or film_id = \n",
       "<span style=\"color: #008000; text-decoration-color: #008000\">'9937018'</span> or film_id = <span style=\"color: #008000; text-decoration-color: #008000\">'9937019'</span> or film_id = <span style=\"color: #008000; text-decoration-color: #008000\">'9937020'</span> or film_id = <span style=\"color: #008000; text-decoration-color: #008000\">'9937021'</span> or film_id = <span style=\"color: #008000; text-decoration-color: #008000\">'9937022'</span> or film_id = \n",
       "<span style=\"color: #008000; text-decoration-color: #008000\">'9937023'</span> or film_id = <span style=\"color: #008000; text-decoration-color: #008000\">'9937024'</span> or film_id = <span style=\"color: #008000; text-decoration-color: #008000\">'9937025'</span> or film_id = <span style=\"color: #008000; text-decoration-color: #008000\">'9937026'</span> or film_id = <span style=\"color: #008000; text-decoration-color: #008000\">'9937027'</span> or film_id = \n",
       "<span style=\"color: #008000; text-decoration-color: #008000\">'9937028'</span> or film_id = <span style=\"color: #008000; text-decoration-color: #008000\">'9937029'</span> or film_id = <span style=\"color: #008000; text-decoration-color: #008000\">'9937030'</span> or film_id = <span style=\"color: #008000; text-decoration-color: #008000\">'9937031'</span> or film_id = <span style=\"color: #008000; text-decoration-color: #008000\">'9937032'</span> or film_id = \n",
       "<span style=\"color: #008000; text-decoration-color: #008000\">'9937033'</span> or film_id = <span style=\"color: #008000; text-decoration-color: #008000\">'9937034'</span> or film_id = <span style=\"color: #008000; text-decoration-color: #008000\">'9937035'</span> or film_id = <span style=\"color: #008000; text-decoration-color: #008000\">'9937036'</span> or film_id = <span style=\"color: #008000; text-decoration-color: #008000\">'9937037'</span> or film_id = \n",
       "<span style=\"color: #008000; text-decoration-color: #008000\">'9937038'</span> or film_id = <span style=\"color: #008000; text-decoration-color: #008000\">'9937039'</span> or film_id = <span style=\"color: #008000; text-decoration-color: #008000\">'9937040'</span> or film_id = <span style=\"color: #008000; text-decoration-color: #008000\">'9937041'</span> or film_id = <span style=\"color: #008000; text-decoration-color: #008000\">'9937042'</span> or film_id = \n",
       "<span style=\"color: #008000; text-decoration-color: #008000\">'9937043'</span> or film_id = <span style=\"color: #008000; text-decoration-color: #008000\">'9937044'</span> or film_id = <span style=\"color: #008000; text-decoration-color: #008000\">'9937045'</span> or film_id = <span style=\"color: #008000; text-decoration-color: #008000\">'9937046'</span> or film_id = <span style=\"color: #008000; text-decoration-color: #008000\">'9937047'</span> or film_id = \n",
       "<span style=\"color: #008000; text-decoration-color: #008000\">'9937048'</span> or film_id = <span style=\"color: #008000; text-decoration-color: #008000\">'9937049'</span> or film_id = <span style=\"color: #008000; text-decoration-color: #008000\">'9937050'</span> or film_id = <span style=\"color: #008000; text-decoration-color: #008000\">'9937051'</span> or film_id = <span style=\"color: #008000; text-decoration-color: #008000\">'9937052'</span> or film_id = \n",
       "<span style=\"color: #008000; text-decoration-color: #008000\">'9937053'</span> or film_id = <span style=\"color: #008000; text-decoration-color: #008000\">'9937054'</span> or film_id = <span style=\"color: #008000; text-decoration-color: #008000\">'9937055'</span> or film_id = <span style=\"color: #008000; text-decoration-color: #008000\">'9937056'</span> or film_id = <span style=\"color: #008000; text-decoration-color: #008000\">'9937057'</span> or film_id = \n",
       "<span style=\"color: #008000; text-decoration-color: #008000\">'9937058'</span> or film_id = <span style=\"color: #008000; text-decoration-color: #008000\">'9937059'</span> or film_id = <span style=\"color: #008000; text-decoration-color: #008000\">'9937060'</span> or film_id = <span style=\"color: #008000; text-decoration-color: #008000\">'9937061'</span> or film_id = <span style=\"color: #008000; text-decoration-color: #008000\">'9937062'</span> or film_id = \n",
       "<span style=\"color: #008000; text-decoration-color: #008000\">'9937063'</span> or film_id = <span style=\"color: #008000; text-decoration-color: #008000\">'9937064'</span> or film_id = <span style=\"color: #008000; text-decoration-color: #008000\">'9937065'</span> or film_id = <span style=\"color: #008000; text-decoration-color: #008000\">'9937066'</span> or film_id = <span style=\"color: #008000; text-decoration-color: #008000\">'9937067'</span> or film_id = \n",
       "<span style=\"color: #008000; text-decoration-color: #008000\">'9937068'</span> or film_id = <span style=\"color: #008000; text-decoration-color: #008000\">'9937069'</span> or film_id = <span style=\"color: #008000; text-decoration-color: #008000\">'9937070'</span> or film_id = <span style=\"color: #008000; text-decoration-color: #008000\">'9937071'</span> or film_id = <span style=\"color: #008000; text-decoration-color: #008000\">'9937072'</span> or film_id = \n",
       "<span style=\"color: #008000; text-decoration-color: #008000\">'9937073'</span> or film_id = <span style=\"color: #008000; text-decoration-color: #008000\">'9937074'</span> or film_id = <span style=\"color: #008000; text-decoration-color: #008000\">'9937075'</span> or film_id = <span style=\"color: #008000; text-decoration-color: #008000\">'9937076'</span> or film_id = <span style=\"color: #008000; text-decoration-color: #008000\">'9937077'</span> or film_id = \n",
       "<span style=\"color: #008000; text-decoration-color: #008000\">'9937078'</span> or film_id = <span style=\"color: #008000; text-decoration-color: #008000\">'9937079'</span> or film_id = <span style=\"color: #008000; text-decoration-color: #008000\">'9937080'</span> or film_id = <span style=\"color: #008000; text-decoration-color: #008000\">'9937081'</span> or film_id = <span style=\"color: #008000; text-decoration-color: #008000\">'9937082'</span> or film_id = \n",
       "<span style=\"color: #008000; text-decoration-color: #008000\">'9937083'</span> or film_id = <span style=\"color: #008000; text-decoration-color: #008000\">'9937084'</span> or film_id = <span style=\"color: #008000; text-decoration-color: #008000\">'9937085'</span> or film_id = <span style=\"color: #008000; text-decoration-color: #008000\">'9937086'</span> or film_id = <span style=\"color: #008000; text-decoration-color: #008000\">'9937087'</span> or film_id = \n",
       "<span style=\"color: #008000; text-decoration-color: #008000\">'9937088'</span> or film_id = <span style=\"color: #008000; text-decoration-color: #008000\">'9937089'</span> or film_id = <span style=\"color: #008000; text-decoration-color: #008000\">'9937090'</span> or film_id = <span style=\"color: #008000; text-decoration-color: #008000\">'9937091'</span> or film_id = <span style=\"color: #008000; text-decoration-color: #008000\">'9937092'</span> or film_id = \n",
       "<span style=\"color: #008000; text-decoration-color: #008000\">'9937093'</span> or film_id = <span style=\"color: #008000; text-decoration-color: #008000\">'9937094'</span> or film_id = <span style=\"color: #008000; text-decoration-color: #008000\">'9937095'</span> or film_id = <span style=\"color: #008000; text-decoration-color: #008000\">'9937096'</span> or film_id = <span style=\"color: #008000; text-decoration-color: #008000\">'9937097'</span> or film_id = \n",
       "<span style=\"color: #008000; text-decoration-color: #008000\">'9937098'</span> or film_id = <span style=\"color: #008000; text-decoration-color: #008000\">'9937099'</span> or film_id = <span style=\"color: #008000; text-decoration-color: #008000\">'9937100'</span> or film_id = <span style=\"color: #008000; text-decoration-color: #008000\">'9937101'</span> or film_id = <span style=\"color: #008000; text-decoration-color: #008000\">'9937102'</span> or film_id = \n",
       "<span style=\"color: #008000; text-decoration-color: #008000\">'9937103'</span> or film_id = <span style=\"color: #008000; text-decoration-color: #008000\">'9937104'</span> or film_id = <span style=\"color: #008000; text-decoration-color: #008000\">'9937105'</span> or film_id = <span style=\"color: #008000; text-decoration-color: #008000\">'9937106'</span> or film_id = <span style=\"color: #008000; text-decoration-color: #008000\">'9937107'</span> or film_id = \n",
       "<span style=\"color: #008000; text-decoration-color: #008000\">'9937108'</span> or film_id = <span style=\"color: #008000; text-decoration-color: #008000\">'9937109'</span> or film_id = <span style=\"color: #008000; text-decoration-color: #008000\">'9937110'</span> or film_id = <span style=\"color: #008000; text-decoration-color: #008000\">'9937111'</span> or film_id = <span style=\"color: #008000; text-decoration-color: #008000\">'9937112'</span> or film_id = \n",
       "<span style=\"color: #008000; text-decoration-color: #008000\">'9937113'</span> or film_id = <span style=\"color: #008000; text-decoration-color: #008000\">'9937114'</span> or film_id = <span style=\"color: #008000; text-decoration-color: #008000\">'9937115'</span> or film_id = <span style=\"color: #008000; text-decoration-color: #008000\">'9937116'</span> or film_id = <span style=\"color: #008000; text-decoration-color: #008000\">'9937117'</span> or film_id = \n",
       "<span style=\"color: #008000; text-decoration-color: #008000\">'9937118'</span> or film_id = <span style=\"color: #008000; text-decoration-color: #008000\">'9937119'</span> or film_id = <span style=\"color: #008000; text-decoration-color: #008000\">'9937120'</span> or film_id = <span style=\"color: #008000; text-decoration-color: #008000\">'9937121'</span> or film_id = <span style=\"color: #008000; text-decoration-color: #008000\">'9937122'</span> or film_id = \n",
       "<span style=\"color: #008000; text-decoration-color: #008000\">'9937123'</span> or film_id = <span style=\"color: #008000; text-decoration-color: #008000\">'9937124'</span> or film_id = <span style=\"color: #008000; text-decoration-color: #008000\">'9937125'</span> or film_id = <span style=\"color: #008000; text-decoration-color: #008000\">'9937126'</span> or film_id = <span style=\"color: #008000; text-decoration-color: #008000\">'9937127'</span> or film_id = \n",
       "<span style=\"color: #008000; text-decoration-color: #008000\">'9937128'</span> or film_id = <span style=\"color: #008000; text-decoration-color: #008000\">'9937129'</span> or film_id = <span style=\"color: #008000; text-decoration-color: #008000\">'9937130'</span> or film_id = <span style=\"color: #008000; text-decoration-color: #008000\">'9937131'</span> or film_id = <span style=\"color: #008000; text-decoration-color: #008000\">'9937132'</span> or film_id = \n",
       "<span style=\"color: #008000; text-decoration-color: #008000\">'9937133'</span> or film_id = <span style=\"color: #008000; text-decoration-color: #008000\">'9937134'</span> or film_id = <span style=\"color: #008000; text-decoration-color: #008000\">'9937135'</span> or film_id = <span style=\"color: #008000; text-decoration-color: #008000\">'9937136'</span> or film_id = <span style=\"color: #008000; text-decoration-color: #008000\">'9937137'</span> or film_id = \n",
       "<span style=\"color: #008000; text-decoration-color: #008000\">'9937138'</span> or film_id = <span style=\"color: #008000; text-decoration-color: #008000\">'9937139'</span> or film_id = <span style=\"color: #008000; text-decoration-color: #008000\">'9937140'</span> or film_id = <span style=\"color: #008000; text-decoration-color: #008000\">'9937141'</span> or film_id = <span style=\"color: #008000; text-decoration-color: #008000\">'9937142'</span> or film_id = \n",
       "<span style=\"color: #008000; text-decoration-color: #008000\">'9937143'</span> or film_id = <span style=\"color: #008000; text-decoration-color: #008000\">'9937144'</span> or film_id = <span style=\"color: #008000; text-decoration-color: #008000\">'9937145'</span> or film_id = <span style=\"color: #008000; text-decoration-color: #008000\">'9937146'</span> or film_id = <span style=\"color: #008000; text-decoration-color: #008000\">'9937147'</span> or film_id = \n",
       "<span style=\"color: #008000; text-decoration-color: #008000\">'9937148'</span> or film_id = <span style=\"color: #008000; text-decoration-color: #008000\">'9937149'</span> or film_id = <span style=\"color: #008000; text-decoration-color: #008000\">'9937150'</span> or film_id = <span style=\"color: #008000; text-decoration-color: #008000\">'9937151'</span> or film_id = <span style=\"color: #008000; text-decoration-color: #008000\">'9937152'</span> or film_id = \n",
       "<span style=\"color: #008000; text-decoration-color: #008000\">'9937153'</span> or film_id = <span style=\"color: #008000; text-decoration-color: #008000\">'9937154'</span> or film_id = <span style=\"color: #008000; text-decoration-color: #008000\">'9937155'</span> or film_id = <span style=\"color: #008000; text-decoration-color: #008000\">'9937156'</span> or film_id = <span style=\"color: #008000; text-decoration-color: #008000\">'9937157'</span> or film_id = \n",
       "<span style=\"color: #008000; text-decoration-color: #008000\">'9937158'</span> or film_id = <span style=\"color: #008000; text-decoration-color: #008000\">'9937159'</span> or film_id = <span style=\"color: #008000; text-decoration-color: #008000\">'9937160'</span> or film_id = <span style=\"color: #008000; text-decoration-color: #008000\">'9937161'</span> or film_id = <span style=\"color: #008000; text-decoration-color: #008000\">'9937162'</span> or film_id = \n",
       "<span style=\"color: #008000; text-decoration-color: #008000\">'9937163'</span> or film_id = <span style=\"color: #008000; text-decoration-color: #008000\">'9937164'</span> or film_id = <span style=\"color: #008000; text-decoration-color: #008000\">'9937165'</span> or film_id = <span style=\"color: #008000; text-decoration-color: #008000\">'9937166'</span> or film_id = <span style=\"color: #008000; text-decoration-color: #008000\">'9937167'</span> or film_id = \n",
       "<span style=\"color: #008000; text-decoration-color: #008000\">'9937168'</span> or film_id = <span style=\"color: #008000; text-decoration-color: #008000\">'9937169'</span> or film_id = <span style=\"color: #008000; text-decoration-color: #008000\">'9937170'</span> or film_id = <span style=\"color: #008000; text-decoration-color: #008000\">'9937171'</span> or film_id = <span style=\"color: #008000; text-decoration-color: #008000\">'9937172'</span> or film_id = \n",
       "<span style=\"color: #008000; text-decoration-color: #008000\">'9937173'</span> or film_id = <span style=\"color: #008000; text-decoration-color: #008000\">'9937174'</span> or film_id = <span style=\"color: #008000; text-decoration-color: #008000\">'9937175'</span> or film_id = <span style=\"color: #008000; text-decoration-color: #008000\">'9937176'</span> or film_id = <span style=\"color: #008000; text-decoration-color: #008000\">'9937177'</span> or film_id = \n",
       "<span style=\"color: #008000; text-decoration-color: #008000\">'9937178'</span> or film_id = <span style=\"color: #008000; text-decoration-color: #008000\">'9937179'</span> or film_id = <span style=\"color: #008000; text-decoration-color: #008000\">'9937180'</span> or film_id = <span style=\"color: #008000; text-decoration-color: #008000\">'9937181'</span> or film_id = <span style=\"color: #008000; text-decoration-color: #008000\">'9937182'</span> or film_id = \n",
       "<span style=\"color: #008000; text-decoration-color: #008000\">'9937183'</span> or film_id = <span style=\"color: #008000; text-decoration-color: #008000\">'9937184'</span> or film_id = <span style=\"color: #008000; text-decoration-color: #008000\">'9937185'</span> or film_id = <span style=\"color: #008000; text-decoration-color: #008000\">'9937186'</span> or film_id = <span style=\"color: #008000; text-decoration-color: #008000\">'9937187'</span> or film_id = \n",
       "<span style=\"color: #008000; text-decoration-color: #008000\">'9937188'</span> or film_id = <span style=\"color: #008000; text-decoration-color: #008000\">'9937189'</span> or film_id = <span style=\"color: #008000; text-decoration-color: #008000\">'9937190'</span> or film_id = <span style=\"color: #008000; text-decoration-color: #008000\">'9937191'</span> or film_id = <span style=\"color: #008000; text-decoration-color: #008000\">'9937192'</span> or film_id = \n",
       "<span style=\"color: #008000; text-decoration-color: #008000\">'9937193'</span> or film_id = <span style=\"color: #008000; text-decoration-color: #008000\">'9937194'</span> or film_id = <span style=\"color: #008000; text-decoration-color: #008000\">'9937195'</span> or film_id = <span style=\"color: #008000; text-decoration-color: #008000\">'9937196'</span> or film_id = <span style=\"color: #008000; text-decoration-color: #008000\">'9937197'</span> or film_id = \n",
       "<span style=\"color: #008000; text-decoration-color: #008000\">'9937198'</span> or film_id = <span style=\"color: #008000; text-decoration-color: #008000\">'9937199'</span> or film_id = <span style=\"color: #008000; text-decoration-color: #008000\">'9937200'</span> or film_id = <span style=\"color: #008000; text-decoration-color: #008000\">'9937201'</span> or film_id = <span style=\"color: #008000; text-decoration-color: #008000\">'9937202'</span> or film_id = \n",
       "<span style=\"color: #008000; text-decoration-color: #008000\">'9937203'</span> or film_id = <span style=\"color: #008000; text-decoration-color: #008000\">'9937204'</span> or film_id = <span style=\"color: #008000; text-decoration-color: #008000\">'9937205'</span> or film_id = <span style=\"color: #008000; text-decoration-color: #008000\">'9937206'</span> or film_id = <span style=\"color: #008000; text-decoration-color: #008000\">'9937207'</span> or film_id = \n",
       "<span style=\"color: #008000; text-decoration-color: #008000\">'9937208'</span> or film_id = <span style=\"color: #008000; text-decoration-color: #008000\">'9937209'</span> or film_id = <span style=\"color: #008000; text-decoration-color: #008000\">'9937210'</span> or film_id = <span style=\"color: #008000; text-decoration-color: #008000\">'9937211'</span> or film_id = <span style=\"color: #008000; text-decoration-color: #008000\">'9937212'</span> or film_id = \n",
       "<span style=\"color: #008000; text-decoration-color: #008000\">'9937213'</span> or film_id = <span style=\"color: #008000; text-decoration-color: #008000\">'9937214'</span> or film_id = <span style=\"color: #008000; text-decoration-color: #008000\">'9937215'</span> or film_id = <span style=\"color: #008000; text-decoration-color: #008000\">'9937216'</span> or film_id = <span style=\"color: #008000; text-decoration-color: #008000\">'9937217'</span> or film_id = \n",
       "<span style=\"color: #008000; text-decoration-color: #008000\">'9937218'</span> or film_id = <span style=\"color: #008000; text-decoration-color: #008000\">'9937219'</span> or film_id = <span style=\"color: #008000; text-decoration-color: #008000\">'9937220'</span> or film_id = <span style=\"color: #008000; text-decoration-color: #008000\">'9937221'</span> or film_id = <span style=\"color: #008000; text-decoration-color: #008000\">'9937222'</span> or film_id = \n",
       "<span style=\"color: #008000; text-decoration-color: #008000\">'9937223'</span> or film_id = <span style=\"color: #008000; text-decoration-color: #008000\">'9937224'</span> or film_id = <span style=\"color: #008000; text-decoration-color: #008000\">'9937225'</span> or film_id = <span style=\"color: #008000; text-decoration-color: #008000\">'9937226'</span> or film_id = <span style=\"color: #008000; text-decoration-color: #008000\">'9937227'</span> or film_id = \n",
       "<span style=\"color: #008000; text-decoration-color: #008000\">'9937228'</span> or film_id = <span style=\"color: #008000; text-decoration-color: #008000\">'9937229'</span> or film_id = <span style=\"color: #008000; text-decoration-color: #008000\">'9937230'</span> or film_id = <span style=\"color: #008000; text-decoration-color: #008000\">'9937231'</span> or film_id = <span style=\"color: #008000; text-decoration-color: #008000\">'9937232'</span> or film_id = \n",
       "<span style=\"color: #008000; text-decoration-color: #008000\">'9937233'</span> or film_id = <span style=\"color: #008000; text-decoration-color: #008000\">'9937234'</span> or film_id = <span style=\"color: #008000; text-decoration-color: #008000\">'9937235'</span> or film_id = <span style=\"color: #008000; text-decoration-color: #008000\">'9937236'</span> or film_id = <span style=\"color: #008000; text-decoration-color: #008000\">'9937237'</span> or film_id = \n",
       "<span style=\"color: #008000; text-decoration-color: #008000\">'9937238'</span> or film_id = <span style=\"color: #008000; text-decoration-color: #008000\">'9937239'</span> or film_id = <span style=\"color: #008000; text-decoration-color: #008000\">'9937240'</span> or film_id = <span style=\"color: #008000; text-decoration-color: #008000\">'9937241'</span> or film_id = <span style=\"color: #008000; text-decoration-color: #008000\">'9937242'</span> or film_id = \n",
       "<span style=\"color: #008000; text-decoration-color: #008000\">'9937243'</span> or film_id = <span style=\"color: #008000; text-decoration-color: #008000\">'9937244'</span> or film_id = <span style=\"color: #008000; text-decoration-color: #008000\">'9937245'</span> or film_id = <span style=\"color: #008000; text-decoration-color: #008000\">'9937246'</span> or film_id = <span style=\"color: #008000; text-decoration-color: #008000\">'9937247'</span> or film_id = \n",
       "<span style=\"color: #008000; text-decoration-color: #008000\">'9937248'</span> or film_id = <span style=\"color: #008000; text-decoration-color: #008000\">'9937249'</span> or film_id = <span style=\"color: #008000; text-decoration-color: #008000\">'9937250'</span> or film_id = <span style=\"color: #008000; text-decoration-color: #008000\">'9937251'</span> or film_id = <span style=\"color: #008000; text-decoration-color: #008000\">'9937252'</span> or film_id = \n",
       "<span style=\"color: #008000; text-decoration-color: #008000\">'9937253'</span> or film_id = <span style=\"color: #008000; text-decoration-color: #008000\">'9937254'</span> or film_id = <span style=\"color: #008000; text-decoration-color: #008000\">'9937255'</span> or film_id = <span style=\"color: #008000; text-decoration-color: #008000\">'9937256'</span> or film_id = <span style=\"color: #008000; text-decoration-color: #008000\">'9937257'</span> or film_id = \n",
       "<span style=\"color: #008000; text-decoration-color: #008000\">'9937258'</span> or film_id = <span style=\"color: #008000; text-decoration-color: #008000\">'9937259'</span> or film_id = <span style=\"color: #008000; text-decoration-color: #008000\">'9937260'</span> or film_id = <span style=\"color: #008000; text-decoration-color: #008000\">'9937261'</span> or film_id = <span style=\"color: #008000; text-decoration-color: #008000\">'9937262'</span> or film_id = \n",
       "<span style=\"color: #008000; text-decoration-color: #008000\">'9937263'</span> or film_id = <span style=\"color: #008000; text-decoration-color: #008000\">'9937264'</span> or film_id = <span style=\"color: #008000; text-decoration-color: #008000\">'9937265'</span> or film_id = <span style=\"color: #008000; text-decoration-color: #008000\">'9937266'</span> or film_id = <span style=\"color: #008000; text-decoration-color: #008000\">'9937267'</span> or film_id = \n",
       "<span style=\"color: #008000; text-decoration-color: #008000\">'9937268'</span> or film_id = <span style=\"color: #008000; text-decoration-color: #008000\">'9937269'</span> or film_id = <span style=\"color: #008000; text-decoration-color: #008000\">'9937270'</span> or film_id = <span style=\"color: #008000; text-decoration-color: #008000\">'9937271'</span> or film_id = <span style=\"color: #008000; text-decoration-color: #008000\">'9937272'</span> or film_id = \n",
       "<span style=\"color: #008000; text-decoration-color: #008000\">'9937273'</span> or film_id = <span style=\"color: #008000; text-decoration-color: #008000\">'9937274'</span> or film_id = <span style=\"color: #008000; text-decoration-color: #008000\">'9937275'</span> or film_id = <span style=\"color: #008000; text-decoration-color: #008000\">'9937276'</span> or film_id = <span style=\"color: #008000; text-decoration-color: #008000\">'9937277'</span> or film_id = \n",
       "<span style=\"color: #008000; text-decoration-color: #008000\">'9937278'</span> or film_id = <span style=\"color: #008000; text-decoration-color: #008000\">'9937279'</span> or film_id = <span style=\"color: #008000; text-decoration-color: #008000\">'9937280'</span> or film_id = <span style=\"color: #008000; text-decoration-color: #008000\">'9937281'</span> or film_id = <span style=\"color: #008000; text-decoration-color: #008000\">'9937282'</span> or film_id = \n",
       "<span style=\"color: #008000; text-decoration-color: #008000\">'9937283'</span> or film_id = <span style=\"color: #008000; text-decoration-color: #008000\">'9937284'</span> or film_id = <span style=\"color: #008000; text-decoration-color: #008000\">'9937285'</span> or film_id = <span style=\"color: #008000; text-decoration-color: #008000\">'9937286'</span> or film_id = <span style=\"color: #008000; text-decoration-color: #008000\">'9937287'</span> or film_id = \n",
       "<span style=\"color: #008000; text-decoration-color: #008000\">'9937288'</span> or film_id = <span style=\"color: #008000; text-decoration-color: #008000\">'9937289'</span> or film_id = <span style=\"color: #008000; text-decoration-color: #008000\">'9937290'</span> or film_id = <span style=\"color: #008000; text-decoration-color: #008000\">'9937291'</span> or film_id = <span style=\"color: #008000; text-decoration-color: #008000\">'9937292'</span> or film_id = \n",
       "<span style=\"color: #008000; text-decoration-color: #008000\">'9937293'</span> or film_id = <span style=\"color: #008000; text-decoration-color: #008000\">'9937294'</span> or film_id = <span style=\"color: #008000; text-decoration-color: #008000\">'9937295'</span> or film_id = <span style=\"color: #008000; text-decoration-color: #008000\">'9937296'</span> or film_id = <span style=\"color: #008000; text-decoration-color: #008000\">'9937297'</span> or film_id = \n",
       "<span style=\"color: #008000; text-decoration-color: #008000\">'9937298'</span> or film_id = <span style=\"color: #008000; text-decoration-color: #008000\">'9937299'</span> or film_id = <span style=\"color: #008000; text-decoration-color: #008000\">'9937300'</span> or film_id = <span style=\"color: #008000; text-decoration-color: #008000\">'9937301'</span> or film_id = <span style=\"color: #008000; text-decoration-color: #008000\">'9937302'</span> or film_id = \n",
       "<span style=\"color: #008000; text-decoration-color: #008000\">'9937303'</span> or film_id = <span style=\"color: #008000; text-decoration-color: #008000\">'9937304'</span> or film_id = <span style=\"color: #008000; text-decoration-color: #008000\">'9937305'</span> or film_id = <span style=\"color: #008000; text-decoration-color: #008000\">'9937306'</span> or film_id = <span style=\"color: #008000; text-decoration-color: #008000\">'9937307'</span> or film_id = \n",
       "<span style=\"color: #008000; text-decoration-color: #008000\">'9937308'</span> or film_id = <span style=\"color: #008000; text-decoration-color: #008000\">'9937309'</span> or film_id = <span style=\"color: #008000; text-decoration-color: #008000\">'9937310'</span> or film_id = <span style=\"color: #008000; text-decoration-color: #008000\">'9937311'</span> or film_id = <span style=\"color: #008000; text-decoration-color: #008000\">'9937312'</span> or film_id = \n",
       "<span style=\"color: #008000; text-decoration-color: #008000\">'9937313'</span> or film_id = <span style=\"color: #008000; text-decoration-color: #008000\">'9937314'</span> or film_id = <span style=\"color: #008000; text-decoration-color: #008000\">'9937315'</span> or film_id = <span style=\"color: #008000; text-decoration-color: #008000\">'9937316'</span> or film_id = <span style=\"color: #008000; text-decoration-color: #008000\">'9937317'</span> or film_id = \n",
       "<span style=\"color: #008000; text-decoration-color: #008000\">'9937318'</span> or film_id = <span style=\"color: #008000; text-decoration-color: #008000\">'9937319'</span> or film_id = <span style=\"color: #008000; text-decoration-color: #008000\">'9937320'</span> or film_id = <span style=\"color: #008000; text-decoration-color: #008000\">'9937321'</span> or film_id = <span style=\"color: #008000; text-decoration-color: #008000\">'9937322'</span> or film_id = \n",
       "<span style=\"color: #008000; text-decoration-color: #008000\">'9937323'</span> or film_id = <span style=\"color: #008000; text-decoration-color: #008000\">'9937324'</span> or film_id = <span style=\"color: #008000; text-decoration-color: #008000\">'9937325'</span> or film_id = <span style=\"color: #008000; text-decoration-color: #008000\">'9937326'</span> or film_id = <span style=\"color: #008000; text-decoration-color: #008000\">'9937327'</span> or film_id = \n",
       "<span style=\"color: #008000; text-decoration-color: #008000\">'9937328'</span> or film_id = <span style=\"color: #008000; text-decoration-color: #008000\">'9937329'</span> or film_id = <span style=\"color: #008000; text-decoration-color: #008000\">'9937330'</span> or film_id = <span style=\"color: #008000; text-decoration-color: #008000\">'9937331'</span> or film_id = <span style=\"color: #008000; text-decoration-color: #008000\">'9937332'</span> or film_id = \n",
       "<span style=\"color: #008000; text-decoration-color: #008000\">'9937333'</span> or film_id = <span style=\"color: #008000; text-decoration-color: #008000\">'9937334'</span> or film_id = <span style=\"color: #008000; text-decoration-color: #008000\">'9937335'</span> or film_id = <span style=\"color: #008000; text-decoration-color: #008000\">'9937336'</span> or film_id = <span style=\"color: #008000; text-decoration-color: #008000\">'9937337'</span> or film_id = \n",
       "<span style=\"color: #008000; text-decoration-color: #008000\">'9937338'</span> or film_id = <span style=\"color: #008000; text-decoration-color: #008000\">'9937339'</span> or film_id = <span style=\"color: #008000; text-decoration-color: #008000\">'9937340'</span> or film_id = <span style=\"color: #008000; text-decoration-color: #008000\">'9937341'</span> or film_id = <span style=\"color: #008000; text-decoration-color: #008000\">'9937342'</span> or film_id = \n",
       "<span style=\"color: #008000; text-decoration-color: #008000\">'9937343'</span> or film_id = <span style=\"color: #008000; text-decoration-color: #008000\">'9937344'</span> or film_id = <span style=\"color: #008000; text-decoration-color: #008000\">'9937345'</span> or film_id = <span style=\"color: #008000; text-decoration-color: #008000\">'9937346'</span> or film_id = <span style=\"color: #008000; text-decoration-color: #008000\">'9937347'</span> or film_id = \n",
       "<span style=\"color: #008000; text-decoration-color: #008000\">'9937348'</span> or film_id = <span style=\"color: #008000; text-decoration-color: #008000\">'9937349'</span> or film_id = <span style=\"color: #008000; text-decoration-color: #008000\">'9937350'</span> or film_id = <span style=\"color: #008000; text-decoration-color: #008000\">'9937351'</span> or film_id = <span style=\"color: #008000; text-decoration-color: #008000\">'9937352'</span> or film_id = \n",
       "<span style=\"color: #008000; text-decoration-color: #008000\">'9937353'</span> or film_id = <span style=\"color: #008000; text-decoration-color: #008000\">'9937354'</span> or film_id = <span style=\"color: #008000; text-decoration-color: #008000\">'9937355'</span> or film_id = <span style=\"color: #008000; text-decoration-color: #008000\">'9937356'</span> or film_id = <span style=\"color: #008000; text-decoration-color: #008000\">'9937357'</span> or film_id = \n",
       "<span style=\"color: #008000; text-decoration-color: #008000\">'9937358'</span> or film_id = <span style=\"color: #008000; text-decoration-color: #008000\">'9937359'</span> or film_id = <span style=\"color: #008000; text-decoration-color: #008000\">'9937360'</span> or film_id = <span style=\"color: #008000; text-decoration-color: #008000\">'9937361'</span> or film_id = <span style=\"color: #008000; text-decoration-color: #008000\">'9937362'</span> or film_id = \n",
       "<span style=\"color: #008000; text-decoration-color: #008000\">'9937363'</span> or film_id = <span style=\"color: #008000; text-decoration-color: #008000\">'9937364'</span> or film_id = <span style=\"color: #008000; text-decoration-color: #008000\">'9937365'</span> or film_id = <span style=\"color: #008000; text-decoration-color: #008000\">'9937366'</span> or film_id = <span style=\"color: #008000; text-decoration-color: #008000\">'9937367'</span> or film_id = \n",
       "<span style=\"color: #008000; text-decoration-color: #008000\">'9937368'</span> or film_id = <span style=\"color: #008000; text-decoration-color: #008000\">'9937369'</span> or film_id = <span style=\"color: #008000; text-decoration-color: #008000\">'9937370'</span> or film_id = <span style=\"color: #008000; text-decoration-color: #008000\">'9937371'</span> or film_id = <span style=\"color: #008000; text-decoration-color: #008000\">'9937372'</span> or film_id = \n",
       "<span style=\"color: #008000; text-decoration-color: #008000\">'9937373'</span> or film_id = <span style=\"color: #008000; text-decoration-color: #008000\">'9937374'</span> or film_id = <span style=\"color: #008000; text-decoration-color: #008000\">'9937375'</span> or film_id = <span style=\"color: #008000; text-decoration-color: #008000\">'9937376'</span> or film_id = <span style=\"color: #008000; text-decoration-color: #008000\">'9937377'</span> or film_id = \n",
       "<span style=\"color: #008000; text-decoration-color: #008000\">'9937378'</span> or film_id = <span style=\"color: #008000; text-decoration-color: #008000\">'9937379'</span> or film_id = <span style=\"color: #008000; text-decoration-color: #008000\">'9937380'</span> or film_id = <span style=\"color: #008000; text-decoration-color: #008000\">'9937381'</span> or film_id = <span style=\"color: #008000; text-decoration-color: #008000\">'9937382'</span> or film_id = \n",
       "<span style=\"color: #008000; text-decoration-color: #008000\">'9937383'</span> or film_id = <span style=\"color: #008000; text-decoration-color: #008000\">'9937384'</span> or film_id = <span style=\"color: #008000; text-decoration-color: #008000\">'9937385'</span> or film_id = <span style=\"color: #008000; text-decoration-color: #008000\">'9937386'</span> or film_id = <span style=\"color: #008000; text-decoration-color: #008000\">'9937387'</span> or film_id = \n",
       "<span style=\"color: #008000; text-decoration-color: #008000\">'9937388'</span> or film_id = <span style=\"color: #008000; text-decoration-color: #008000\">'9937389'</span> or film_id = <span style=\"color: #008000; text-decoration-color: #008000\">'9937390'</span> or film_id = <span style=\"color: #008000; text-decoration-color: #008000\">'9937391'</span> or film_id = <span style=\"color: #008000; text-decoration-color: #008000\">'9937392'</span> or film_id = \n",
       "<span style=\"color: #008000; text-decoration-color: #008000\">'9937393'</span> or film_id = <span style=\"color: #008000; text-decoration-color: #008000\">'9937394'</span> or film_id = <span style=\"color: #008000; text-decoration-color: #008000\">'9937395'</span> or film_id = <span style=\"color: #008000; text-decoration-color: #008000\">'9937396'</span> or film_id = <span style=\"color: #008000; text-decoration-color: #008000\">'9937397'</span> or film_id = \n",
       "<span style=\"color: #008000; text-decoration-color: #008000\">'9937398'</span> or film_id = <span style=\"color: #008000; text-decoration-color: #008000\">'9937399'</span> or film_id = <span style=\"color: #008000; text-decoration-color: #008000\">'9937400'</span> or film_id = <span style=\"color: #008000; text-decoration-color: #008000\">'9937401'</span> or film_id = <span style=\"color: #008000; text-decoration-color: #008000\">'9937402'</span> or film_id = \n",
       "<span style=\"color: #008000; text-decoration-color: #008000\">'9937403'</span> or film_id = <span style=\"color: #008000; text-decoration-color: #008000\">'9937404'</span> or film_id = <span style=\"color: #008000; text-decoration-color: #008000\">'9937405'</span> or film_id = <span style=\"color: #008000; text-decoration-color: #008000\">'9937406'</span> or film_id = <span style=\"color: #008000; text-decoration-color: #008000\">'9937407'</span> or film_id = \n",
       "<span style=\"color: #008000; text-decoration-color: #008000\">'9937408'</span> or film_id = <span style=\"color: #008000; text-decoration-color: #008000\">'9937409'</span> or film_id = <span style=\"color: #008000; text-decoration-color: #008000\">'9937410'</span> or film_id = <span style=\"color: #008000; text-decoration-color: #008000\">'9937411'</span> or film_id = <span style=\"color: #008000; text-decoration-color: #008000\">'9937412'</span> or film_id = \n",
       "<span style=\"color: #008000; text-decoration-color: #008000\">'9937413'</span> or film_id = <span style=\"color: #008000; text-decoration-color: #008000\">'9937414'</span> or film_id = <span style=\"color: #008000; text-decoration-color: #008000\">'9937415'</span> or film_id = <span style=\"color: #008000; text-decoration-color: #008000\">'9937416'</span> or film_id = <span style=\"color: #008000; text-decoration-color: #008000\">'9937417'</span> or film_id = \n",
       "<span style=\"color: #008000; text-decoration-color: #008000\">'9937418'</span> or film_id = <span style=\"color: #008000; text-decoration-color: #008000\">'9937419'</span> or film_id = <span style=\"color: #008000; text-decoration-color: #008000\">'9937420'</span> or film_id = <span style=\"color: #008000; text-decoration-color: #008000\">'9937421'</span> or film_id = <span style=\"color: #008000; text-decoration-color: #008000\">'9937422'</span> or film_id = \n",
       "<span style=\"color: #008000; text-decoration-color: #008000\">'9937423'</span> or film_id = <span style=\"color: #008000; text-decoration-color: #008000\">'9937424'</span> or film_id = <span style=\"color: #008000; text-decoration-color: #008000\">'9937425'</span> or film_id = <span style=\"color: #008000; text-decoration-color: #008000\">'9937426'</span> or film_id = <span style=\"color: #008000; text-decoration-color: #008000\">'9937427'</span> or film_id = \n",
       "<span style=\"color: #008000; text-decoration-color: #008000\">'9937428'</span> or film_id = <span style=\"color: #008000; text-decoration-color: #008000\">'9937429'</span> or film_id = <span style=\"color: #008000; text-decoration-color: #008000\">'9937430'</span> or film_id = <span style=\"color: #008000; text-decoration-color: #008000\">'9937431'</span> or film_id = <span style=\"color: #008000; text-decoration-color: #008000\">'9937432'</span> or film_id = \n",
       "<span style=\"color: #008000; text-decoration-color: #008000\">'9937433'</span> or film_id = <span style=\"color: #008000; text-decoration-color: #008000\">'9937434'</span> or film_id = <span style=\"color: #008000; text-decoration-color: #008000\">'9937435'</span> or film_id = <span style=\"color: #008000; text-decoration-color: #008000\">'9937436'</span> or film_id = <span style=\"color: #008000; text-decoration-color: #008000\">'9937437'</span> or film_id = \n",
       "<span style=\"color: #008000; text-decoration-color: #008000\">'9937438'</span> or film_id = <span style=\"color: #008000; text-decoration-color: #008000\">'9937439'</span> or film_id = <span style=\"color: #008000; text-decoration-color: #008000\">'9937440'</span> or film_id = <span style=\"color: #008000; text-decoration-color: #008000\">'9937441'</span> or film_id = <span style=\"color: #008000; text-decoration-color: #008000\">'9937442'</span> or film_id = \n",
       "<span style=\"color: #008000; text-decoration-color: #008000\">'9937443'</span> or film_id = <span style=\"color: #008000; text-decoration-color: #008000\">'9937444'</span> or film_id = <span style=\"color: #008000; text-decoration-color: #008000\">'9937445'</span> or film_id = <span style=\"color: #008000; text-decoration-color: #008000\">'9937446'</span> or film_id = <span style=\"color: #008000; text-decoration-color: #008000\">'9937447'</span> or film_id = \n",
       "<span style=\"color: #008000; text-decoration-color: #008000\">'9937448'</span> or film_id = <span style=\"color: #008000; text-decoration-color: #008000\">'9937449'</span> or film_id = <span style=\"color: #008000; text-decoration-color: #008000\">'9937450'</span> or film_id = <span style=\"color: #008000; text-decoration-color: #008000\">'9937451'</span> or film_id = <span style=\"color: #008000; text-decoration-color: #008000\">'9937452'</span> or film_id = \n",
       "<span style=\"color: #008000; text-decoration-color: #008000\">'9937453'</span> or film_id = <span style=\"color: #008000; text-decoration-color: #008000\">'9937454'</span> or film_id = <span style=\"color: #008000; text-decoration-color: #008000\">'9937455'</span> or film_id = <span style=\"color: #008000; text-decoration-color: #008000\">'9937456'</span> or film_id = <span style=\"color: #008000; text-decoration-color: #008000\">'9937457'</span> or film_id = \n",
       "<span style=\"color: #008000; text-decoration-color: #008000\">'9937458'</span> or film_id = <span style=\"color: #008000; text-decoration-color: #008000\">'9937459'</span> or film_id = <span style=\"color: #008000; text-decoration-color: #008000\">'9937460'</span> or film_id = <span style=\"color: #008000; text-decoration-color: #008000\">'9937461'</span> or film_id = <span style=\"color: #008000; text-decoration-color: #008000\">'9937462'</span> or film_id = \n",
       "<span style=\"color: #008000; text-decoration-color: #008000\">'9937463'</span> or film_id = <span style=\"color: #008000; text-decoration-color: #008000\">'9937464'</span> or film_id = <span style=\"color: #008000; text-decoration-color: #008000\">'9937465'</span> or film_id = <span style=\"color: #008000; text-decoration-color: #008000\">'9937466'</span> or film_id = <span style=\"color: #008000; text-decoration-color: #008000\">'9937467'</span> or film_id = \n",
       "<span style=\"color: #008000; text-decoration-color: #008000\">'9937468'</span> or film_id = <span style=\"color: #008000; text-decoration-color: #008000\">'9937469'</span> or film_id = <span style=\"color: #008000; text-decoration-color: #008000\">'9937470'</span> or film_id = <span style=\"color: #008000; text-decoration-color: #008000\">'9937471'</span> or film_id = <span style=\"color: #008000; text-decoration-color: #008000\">'9937472'</span> or film_id = \n",
       "<span style=\"color: #008000; text-decoration-color: #008000\">'9937473'</span> or film_id = <span style=\"color: #008000; text-decoration-color: #008000\">'9937474'</span> or film_id = <span style=\"color: #008000; text-decoration-color: #008000\">'9937475'</span> or film_id = <span style=\"color: #008000; text-decoration-color: #008000\">'9937476'</span> or film_id = <span style=\"color: #008000; text-decoration-color: #008000\">'9937477'</span> or film_id = \n",
       "<span style=\"color: #008000; text-decoration-color: #008000\">'9937478'</span> or film_id = <span style=\"color: #008000; text-decoration-color: #008000\">'9937479'</span> or film_id = <span style=\"color: #008000; text-decoration-color: #008000\">'9937480'</span> or film_id = <span style=\"color: #008000; text-decoration-color: #008000\">'9937481'</span> or film_id = <span style=\"color: #008000; text-decoration-color: #008000\">'9937482'</span> or film_id = \n",
       "<span style=\"color: #008000; text-decoration-color: #008000\">'9937483'</span> or film_id = <span style=\"color: #008000; text-decoration-color: #008000\">'9937484'</span> or film_id = <span style=\"color: #008000; text-decoration-color: #008000\">'9937485'</span> or film_id = <span style=\"color: #008000; text-decoration-color: #008000\">'9937486'</span> or film_id = <span style=\"color: #008000; text-decoration-color: #008000\">'9937487'</span> or film_id = \n",
       "<span style=\"color: #008000; text-decoration-color: #008000\">'9937488'</span> or film_id = <span style=\"color: #008000; text-decoration-color: #008000\">'9937489'</span> or film_id = <span style=\"color: #008000; text-decoration-color: #008000\">'9937490'</span> or film_id = <span style=\"color: #008000; text-decoration-color: #008000\">'9937491'</span> or film_id = <span style=\"color: #008000; text-decoration-color: #008000\">'9937492'</span> or film_id = \n",
       "<span style=\"color: #008000; text-decoration-color: #008000\">'9937493'</span> or film_id = <span style=\"color: #008000; text-decoration-color: #008000\">'9937494'</span> or film_id = <span style=\"color: #008000; text-decoration-color: #008000\">'9937495'</span> or film_id = <span style=\"color: #008000; text-decoration-color: #008000\">'9937496'</span><span style=\"font-weight: bold\">)</span>;\n",
       "</pre>\n"
      ],
      "text/plain": [
       "SELECT * FROM document where \u001b[1m(\u001b[0m film_id = \u001b[32m'9937000'\u001b[0m or film_id = \u001b[32m'9937001'\u001b[0m or film_id = \u001b[32m'9937002'\u001b[0m or film_id = \n",
       "\u001b[32m'9937003'\u001b[0m or film_id = \u001b[32m'9937004'\u001b[0m or film_id = \u001b[32m'9937005'\u001b[0m or film_id = \u001b[32m'9937006'\u001b[0m or film_id = \u001b[32m'9937007'\u001b[0m or film_id = \n",
       "\u001b[32m'9937008'\u001b[0m or film_id = \u001b[32m'9937009'\u001b[0m or film_id = \u001b[32m'9937010'\u001b[0m or film_id = \u001b[32m'9937011'\u001b[0m or film_id = \u001b[32m'9937012'\u001b[0m or film_id = \n",
       "\u001b[32m'9937013'\u001b[0m or film_id = \u001b[32m'9937014'\u001b[0m or film_id = \u001b[32m'9937015'\u001b[0m or film_id = \u001b[32m'9937016'\u001b[0m or film_id = \u001b[32m'9937017'\u001b[0m or film_id = \n",
       "\u001b[32m'9937018'\u001b[0m or film_id = \u001b[32m'9937019'\u001b[0m or film_id = \u001b[32m'9937020'\u001b[0m or film_id = \u001b[32m'9937021'\u001b[0m or film_id = \u001b[32m'9937022'\u001b[0m or film_id = \n",
       "\u001b[32m'9937023'\u001b[0m or film_id = \u001b[32m'9937024'\u001b[0m or film_id = \u001b[32m'9937025'\u001b[0m or film_id = \u001b[32m'9937026'\u001b[0m or film_id = \u001b[32m'9937027'\u001b[0m or film_id = \n",
       "\u001b[32m'9937028'\u001b[0m or film_id = \u001b[32m'9937029'\u001b[0m or film_id = \u001b[32m'9937030'\u001b[0m or film_id = \u001b[32m'9937031'\u001b[0m or film_id = \u001b[32m'9937032'\u001b[0m or film_id = \n",
       "\u001b[32m'9937033'\u001b[0m or film_id = \u001b[32m'9937034'\u001b[0m or film_id = \u001b[32m'9937035'\u001b[0m or film_id = \u001b[32m'9937036'\u001b[0m or film_id = \u001b[32m'9937037'\u001b[0m or film_id = \n",
       "\u001b[32m'9937038'\u001b[0m or film_id = \u001b[32m'9937039'\u001b[0m or film_id = \u001b[32m'9937040'\u001b[0m or film_id = \u001b[32m'9937041'\u001b[0m or film_id = \u001b[32m'9937042'\u001b[0m or film_id = \n",
       "\u001b[32m'9937043'\u001b[0m or film_id = \u001b[32m'9937044'\u001b[0m or film_id = \u001b[32m'9937045'\u001b[0m or film_id = \u001b[32m'9937046'\u001b[0m or film_id = \u001b[32m'9937047'\u001b[0m or film_id = \n",
       "\u001b[32m'9937048'\u001b[0m or film_id = \u001b[32m'9937049'\u001b[0m or film_id = \u001b[32m'9937050'\u001b[0m or film_id = \u001b[32m'9937051'\u001b[0m or film_id = \u001b[32m'9937052'\u001b[0m or film_id = \n",
       "\u001b[32m'9937053'\u001b[0m or film_id = \u001b[32m'9937054'\u001b[0m or film_id = \u001b[32m'9937055'\u001b[0m or film_id = \u001b[32m'9937056'\u001b[0m or film_id = \u001b[32m'9937057'\u001b[0m or film_id = \n",
       "\u001b[32m'9937058'\u001b[0m or film_id = \u001b[32m'9937059'\u001b[0m or film_id = \u001b[32m'9937060'\u001b[0m or film_id = \u001b[32m'9937061'\u001b[0m or film_id = \u001b[32m'9937062'\u001b[0m or film_id = \n",
       "\u001b[32m'9937063'\u001b[0m or film_id = \u001b[32m'9937064'\u001b[0m or film_id = \u001b[32m'9937065'\u001b[0m or film_id = \u001b[32m'9937066'\u001b[0m or film_id = \u001b[32m'9937067'\u001b[0m or film_id = \n",
       "\u001b[32m'9937068'\u001b[0m or film_id = \u001b[32m'9937069'\u001b[0m or film_id = \u001b[32m'9937070'\u001b[0m or film_id = \u001b[32m'9937071'\u001b[0m or film_id = \u001b[32m'9937072'\u001b[0m or film_id = \n",
       "\u001b[32m'9937073'\u001b[0m or film_id = \u001b[32m'9937074'\u001b[0m or film_id = \u001b[32m'9937075'\u001b[0m or film_id = \u001b[32m'9937076'\u001b[0m or film_id = \u001b[32m'9937077'\u001b[0m or film_id = \n",
       "\u001b[32m'9937078'\u001b[0m or film_id = \u001b[32m'9937079'\u001b[0m or film_id = \u001b[32m'9937080'\u001b[0m or film_id = \u001b[32m'9937081'\u001b[0m or film_id = \u001b[32m'9937082'\u001b[0m or film_id = \n",
       "\u001b[32m'9937083'\u001b[0m or film_id = \u001b[32m'9937084'\u001b[0m or film_id = \u001b[32m'9937085'\u001b[0m or film_id = \u001b[32m'9937086'\u001b[0m or film_id = \u001b[32m'9937087'\u001b[0m or film_id = \n",
       "\u001b[32m'9937088'\u001b[0m or film_id = \u001b[32m'9937089'\u001b[0m or film_id = \u001b[32m'9937090'\u001b[0m or film_id = \u001b[32m'9937091'\u001b[0m or film_id = \u001b[32m'9937092'\u001b[0m or film_id = \n",
       "\u001b[32m'9937093'\u001b[0m or film_id = \u001b[32m'9937094'\u001b[0m or film_id = \u001b[32m'9937095'\u001b[0m or film_id = \u001b[32m'9937096'\u001b[0m or film_id = \u001b[32m'9937097'\u001b[0m or film_id = \n",
       "\u001b[32m'9937098'\u001b[0m or film_id = \u001b[32m'9937099'\u001b[0m or film_id = \u001b[32m'9937100'\u001b[0m or film_id = \u001b[32m'9937101'\u001b[0m or film_id = \u001b[32m'9937102'\u001b[0m or film_id = \n",
       "\u001b[32m'9937103'\u001b[0m or film_id = \u001b[32m'9937104'\u001b[0m or film_id = \u001b[32m'9937105'\u001b[0m or film_id = \u001b[32m'9937106'\u001b[0m or film_id = \u001b[32m'9937107'\u001b[0m or film_id = \n",
       "\u001b[32m'9937108'\u001b[0m or film_id = \u001b[32m'9937109'\u001b[0m or film_id = \u001b[32m'9937110'\u001b[0m or film_id = \u001b[32m'9937111'\u001b[0m or film_id = \u001b[32m'9937112'\u001b[0m or film_id = \n",
       "\u001b[32m'9937113'\u001b[0m or film_id = \u001b[32m'9937114'\u001b[0m or film_id = \u001b[32m'9937115'\u001b[0m or film_id = \u001b[32m'9937116'\u001b[0m or film_id = \u001b[32m'9937117'\u001b[0m or film_id = \n",
       "\u001b[32m'9937118'\u001b[0m or film_id = \u001b[32m'9937119'\u001b[0m or film_id = \u001b[32m'9937120'\u001b[0m or film_id = \u001b[32m'9937121'\u001b[0m or film_id = \u001b[32m'9937122'\u001b[0m or film_id = \n",
       "\u001b[32m'9937123'\u001b[0m or film_id = \u001b[32m'9937124'\u001b[0m or film_id = \u001b[32m'9937125'\u001b[0m or film_id = \u001b[32m'9937126'\u001b[0m or film_id = \u001b[32m'9937127'\u001b[0m or film_id = \n",
       "\u001b[32m'9937128'\u001b[0m or film_id = \u001b[32m'9937129'\u001b[0m or film_id = \u001b[32m'9937130'\u001b[0m or film_id = \u001b[32m'9937131'\u001b[0m or film_id = \u001b[32m'9937132'\u001b[0m or film_id = \n",
       "\u001b[32m'9937133'\u001b[0m or film_id = \u001b[32m'9937134'\u001b[0m or film_id = \u001b[32m'9937135'\u001b[0m or film_id = \u001b[32m'9937136'\u001b[0m or film_id = \u001b[32m'9937137'\u001b[0m or film_id = \n",
       "\u001b[32m'9937138'\u001b[0m or film_id = \u001b[32m'9937139'\u001b[0m or film_id = \u001b[32m'9937140'\u001b[0m or film_id = \u001b[32m'9937141'\u001b[0m or film_id = \u001b[32m'9937142'\u001b[0m or film_id = \n",
       "\u001b[32m'9937143'\u001b[0m or film_id = \u001b[32m'9937144'\u001b[0m or film_id = \u001b[32m'9937145'\u001b[0m or film_id = \u001b[32m'9937146'\u001b[0m or film_id = \u001b[32m'9937147'\u001b[0m or film_id = \n",
       "\u001b[32m'9937148'\u001b[0m or film_id = \u001b[32m'9937149'\u001b[0m or film_id = \u001b[32m'9937150'\u001b[0m or film_id = \u001b[32m'9937151'\u001b[0m or film_id = \u001b[32m'9937152'\u001b[0m or film_id = \n",
       "\u001b[32m'9937153'\u001b[0m or film_id = \u001b[32m'9937154'\u001b[0m or film_id = \u001b[32m'9937155'\u001b[0m or film_id = \u001b[32m'9937156'\u001b[0m or film_id = \u001b[32m'9937157'\u001b[0m or film_id = \n",
       "\u001b[32m'9937158'\u001b[0m or film_id = \u001b[32m'9937159'\u001b[0m or film_id = \u001b[32m'9937160'\u001b[0m or film_id = \u001b[32m'9937161'\u001b[0m or film_id = \u001b[32m'9937162'\u001b[0m or film_id = \n",
       "\u001b[32m'9937163'\u001b[0m or film_id = \u001b[32m'9937164'\u001b[0m or film_id = \u001b[32m'9937165'\u001b[0m or film_id = \u001b[32m'9937166'\u001b[0m or film_id = \u001b[32m'9937167'\u001b[0m or film_id = \n",
       "\u001b[32m'9937168'\u001b[0m or film_id = \u001b[32m'9937169'\u001b[0m or film_id = \u001b[32m'9937170'\u001b[0m or film_id = \u001b[32m'9937171'\u001b[0m or film_id = \u001b[32m'9937172'\u001b[0m or film_id = \n",
       "\u001b[32m'9937173'\u001b[0m or film_id = \u001b[32m'9937174'\u001b[0m or film_id = \u001b[32m'9937175'\u001b[0m or film_id = \u001b[32m'9937176'\u001b[0m or film_id = \u001b[32m'9937177'\u001b[0m or film_id = \n",
       "\u001b[32m'9937178'\u001b[0m or film_id = \u001b[32m'9937179'\u001b[0m or film_id = \u001b[32m'9937180'\u001b[0m or film_id = \u001b[32m'9937181'\u001b[0m or film_id = \u001b[32m'9937182'\u001b[0m or film_id = \n",
       "\u001b[32m'9937183'\u001b[0m or film_id = \u001b[32m'9937184'\u001b[0m or film_id = \u001b[32m'9937185'\u001b[0m or film_id = \u001b[32m'9937186'\u001b[0m or film_id = \u001b[32m'9937187'\u001b[0m or film_id = \n",
       "\u001b[32m'9937188'\u001b[0m or film_id = \u001b[32m'9937189'\u001b[0m or film_id = \u001b[32m'9937190'\u001b[0m or film_id = \u001b[32m'9937191'\u001b[0m or film_id = \u001b[32m'9937192'\u001b[0m or film_id = \n",
       "\u001b[32m'9937193'\u001b[0m or film_id = \u001b[32m'9937194'\u001b[0m or film_id = \u001b[32m'9937195'\u001b[0m or film_id = \u001b[32m'9937196'\u001b[0m or film_id = \u001b[32m'9937197'\u001b[0m or film_id = \n",
       "\u001b[32m'9937198'\u001b[0m or film_id = \u001b[32m'9937199'\u001b[0m or film_id = \u001b[32m'9937200'\u001b[0m or film_id = \u001b[32m'9937201'\u001b[0m or film_id = \u001b[32m'9937202'\u001b[0m or film_id = \n",
       "\u001b[32m'9937203'\u001b[0m or film_id = \u001b[32m'9937204'\u001b[0m or film_id = \u001b[32m'9937205'\u001b[0m or film_id = \u001b[32m'9937206'\u001b[0m or film_id = \u001b[32m'9937207'\u001b[0m or film_id = \n",
       "\u001b[32m'9937208'\u001b[0m or film_id = \u001b[32m'9937209'\u001b[0m or film_id = \u001b[32m'9937210'\u001b[0m or film_id = \u001b[32m'9937211'\u001b[0m or film_id = \u001b[32m'9937212'\u001b[0m or film_id = \n",
       "\u001b[32m'9937213'\u001b[0m or film_id = \u001b[32m'9937214'\u001b[0m or film_id = \u001b[32m'9937215'\u001b[0m or film_id = \u001b[32m'9937216'\u001b[0m or film_id = \u001b[32m'9937217'\u001b[0m or film_id = \n",
       "\u001b[32m'9937218'\u001b[0m or film_id = \u001b[32m'9937219'\u001b[0m or film_id = \u001b[32m'9937220'\u001b[0m or film_id = \u001b[32m'9937221'\u001b[0m or film_id = \u001b[32m'9937222'\u001b[0m or film_id = \n",
       "\u001b[32m'9937223'\u001b[0m or film_id = \u001b[32m'9937224'\u001b[0m or film_id = \u001b[32m'9937225'\u001b[0m or film_id = \u001b[32m'9937226'\u001b[0m or film_id = \u001b[32m'9937227'\u001b[0m or film_id = \n",
       "\u001b[32m'9937228'\u001b[0m or film_id = \u001b[32m'9937229'\u001b[0m or film_id = \u001b[32m'9937230'\u001b[0m or film_id = \u001b[32m'9937231'\u001b[0m or film_id = \u001b[32m'9937232'\u001b[0m or film_id = \n",
       "\u001b[32m'9937233'\u001b[0m or film_id = \u001b[32m'9937234'\u001b[0m or film_id = \u001b[32m'9937235'\u001b[0m or film_id = \u001b[32m'9937236'\u001b[0m or film_id = \u001b[32m'9937237'\u001b[0m or film_id = \n",
       "\u001b[32m'9937238'\u001b[0m or film_id = \u001b[32m'9937239'\u001b[0m or film_id = \u001b[32m'9937240'\u001b[0m or film_id = \u001b[32m'9937241'\u001b[0m or film_id = \u001b[32m'9937242'\u001b[0m or film_id = \n",
       "\u001b[32m'9937243'\u001b[0m or film_id = \u001b[32m'9937244'\u001b[0m or film_id = \u001b[32m'9937245'\u001b[0m or film_id = \u001b[32m'9937246'\u001b[0m or film_id = \u001b[32m'9937247'\u001b[0m or film_id = \n",
       "\u001b[32m'9937248'\u001b[0m or film_id = \u001b[32m'9937249'\u001b[0m or film_id = \u001b[32m'9937250'\u001b[0m or film_id = \u001b[32m'9937251'\u001b[0m or film_id = \u001b[32m'9937252'\u001b[0m or film_id = \n",
       "\u001b[32m'9937253'\u001b[0m or film_id = \u001b[32m'9937254'\u001b[0m or film_id = \u001b[32m'9937255'\u001b[0m or film_id = \u001b[32m'9937256'\u001b[0m or film_id = \u001b[32m'9937257'\u001b[0m or film_id = \n",
       "\u001b[32m'9937258'\u001b[0m or film_id = \u001b[32m'9937259'\u001b[0m or film_id = \u001b[32m'9937260'\u001b[0m or film_id = \u001b[32m'9937261'\u001b[0m or film_id = \u001b[32m'9937262'\u001b[0m or film_id = \n",
       "\u001b[32m'9937263'\u001b[0m or film_id = \u001b[32m'9937264'\u001b[0m or film_id = \u001b[32m'9937265'\u001b[0m or film_id = \u001b[32m'9937266'\u001b[0m or film_id = \u001b[32m'9937267'\u001b[0m or film_id = \n",
       "\u001b[32m'9937268'\u001b[0m or film_id = \u001b[32m'9937269'\u001b[0m or film_id = \u001b[32m'9937270'\u001b[0m or film_id = \u001b[32m'9937271'\u001b[0m or film_id = \u001b[32m'9937272'\u001b[0m or film_id = \n",
       "\u001b[32m'9937273'\u001b[0m or film_id = \u001b[32m'9937274'\u001b[0m or film_id = \u001b[32m'9937275'\u001b[0m or film_id = \u001b[32m'9937276'\u001b[0m or film_id = \u001b[32m'9937277'\u001b[0m or film_id = \n",
       "\u001b[32m'9937278'\u001b[0m or film_id = \u001b[32m'9937279'\u001b[0m or film_id = \u001b[32m'9937280'\u001b[0m or film_id = \u001b[32m'9937281'\u001b[0m or film_id = \u001b[32m'9937282'\u001b[0m or film_id = \n",
       "\u001b[32m'9937283'\u001b[0m or film_id = \u001b[32m'9937284'\u001b[0m or film_id = \u001b[32m'9937285'\u001b[0m or film_id = \u001b[32m'9937286'\u001b[0m or film_id = \u001b[32m'9937287'\u001b[0m or film_id = \n",
       "\u001b[32m'9937288'\u001b[0m or film_id = \u001b[32m'9937289'\u001b[0m or film_id = \u001b[32m'9937290'\u001b[0m or film_id = \u001b[32m'9937291'\u001b[0m or film_id = \u001b[32m'9937292'\u001b[0m or film_id = \n",
       "\u001b[32m'9937293'\u001b[0m or film_id = \u001b[32m'9937294'\u001b[0m or film_id = \u001b[32m'9937295'\u001b[0m or film_id = \u001b[32m'9937296'\u001b[0m or film_id = \u001b[32m'9937297'\u001b[0m or film_id = \n",
       "\u001b[32m'9937298'\u001b[0m or film_id = \u001b[32m'9937299'\u001b[0m or film_id = \u001b[32m'9937300'\u001b[0m or film_id = \u001b[32m'9937301'\u001b[0m or film_id = \u001b[32m'9937302'\u001b[0m or film_id = \n",
       "\u001b[32m'9937303'\u001b[0m or film_id = \u001b[32m'9937304'\u001b[0m or film_id = \u001b[32m'9937305'\u001b[0m or film_id = \u001b[32m'9937306'\u001b[0m or film_id = \u001b[32m'9937307'\u001b[0m or film_id = \n",
       "\u001b[32m'9937308'\u001b[0m or film_id = \u001b[32m'9937309'\u001b[0m or film_id = \u001b[32m'9937310'\u001b[0m or film_id = \u001b[32m'9937311'\u001b[0m or film_id = \u001b[32m'9937312'\u001b[0m or film_id = \n",
       "\u001b[32m'9937313'\u001b[0m or film_id = \u001b[32m'9937314'\u001b[0m or film_id = \u001b[32m'9937315'\u001b[0m or film_id = \u001b[32m'9937316'\u001b[0m or film_id = \u001b[32m'9937317'\u001b[0m or film_id = \n",
       "\u001b[32m'9937318'\u001b[0m or film_id = \u001b[32m'9937319'\u001b[0m or film_id = \u001b[32m'9937320'\u001b[0m or film_id = \u001b[32m'9937321'\u001b[0m or film_id = \u001b[32m'9937322'\u001b[0m or film_id = \n",
       "\u001b[32m'9937323'\u001b[0m or film_id = \u001b[32m'9937324'\u001b[0m or film_id = \u001b[32m'9937325'\u001b[0m or film_id = \u001b[32m'9937326'\u001b[0m or film_id = \u001b[32m'9937327'\u001b[0m or film_id = \n",
       "\u001b[32m'9937328'\u001b[0m or film_id = \u001b[32m'9937329'\u001b[0m or film_id = \u001b[32m'9937330'\u001b[0m or film_id = \u001b[32m'9937331'\u001b[0m or film_id = \u001b[32m'9937332'\u001b[0m or film_id = \n",
       "\u001b[32m'9937333'\u001b[0m or film_id = \u001b[32m'9937334'\u001b[0m or film_id = \u001b[32m'9937335'\u001b[0m or film_id = \u001b[32m'9937336'\u001b[0m or film_id = \u001b[32m'9937337'\u001b[0m or film_id = \n",
       "\u001b[32m'9937338'\u001b[0m or film_id = \u001b[32m'9937339'\u001b[0m or film_id = \u001b[32m'9937340'\u001b[0m or film_id = \u001b[32m'9937341'\u001b[0m or film_id = \u001b[32m'9937342'\u001b[0m or film_id = \n",
       "\u001b[32m'9937343'\u001b[0m or film_id = \u001b[32m'9937344'\u001b[0m or film_id = \u001b[32m'9937345'\u001b[0m or film_id = \u001b[32m'9937346'\u001b[0m or film_id = \u001b[32m'9937347'\u001b[0m or film_id = \n",
       "\u001b[32m'9937348'\u001b[0m or film_id = \u001b[32m'9937349'\u001b[0m or film_id = \u001b[32m'9937350'\u001b[0m or film_id = \u001b[32m'9937351'\u001b[0m or film_id = \u001b[32m'9937352'\u001b[0m or film_id = \n",
       "\u001b[32m'9937353'\u001b[0m or film_id = \u001b[32m'9937354'\u001b[0m or film_id = \u001b[32m'9937355'\u001b[0m or film_id = \u001b[32m'9937356'\u001b[0m or film_id = \u001b[32m'9937357'\u001b[0m or film_id = \n",
       "\u001b[32m'9937358'\u001b[0m or film_id = \u001b[32m'9937359'\u001b[0m or film_id = \u001b[32m'9937360'\u001b[0m or film_id = \u001b[32m'9937361'\u001b[0m or film_id = \u001b[32m'9937362'\u001b[0m or film_id = \n",
       "\u001b[32m'9937363'\u001b[0m or film_id = \u001b[32m'9937364'\u001b[0m or film_id = \u001b[32m'9937365'\u001b[0m or film_id = \u001b[32m'9937366'\u001b[0m or film_id = \u001b[32m'9937367'\u001b[0m or film_id = \n",
       "\u001b[32m'9937368'\u001b[0m or film_id = \u001b[32m'9937369'\u001b[0m or film_id = \u001b[32m'9937370'\u001b[0m or film_id = \u001b[32m'9937371'\u001b[0m or film_id = \u001b[32m'9937372'\u001b[0m or film_id = \n",
       "\u001b[32m'9937373'\u001b[0m or film_id = \u001b[32m'9937374'\u001b[0m or film_id = \u001b[32m'9937375'\u001b[0m or film_id = \u001b[32m'9937376'\u001b[0m or film_id = \u001b[32m'9937377'\u001b[0m or film_id = \n",
       "\u001b[32m'9937378'\u001b[0m or film_id = \u001b[32m'9937379'\u001b[0m or film_id = \u001b[32m'9937380'\u001b[0m or film_id = \u001b[32m'9937381'\u001b[0m or film_id = \u001b[32m'9937382'\u001b[0m or film_id = \n",
       "\u001b[32m'9937383'\u001b[0m or film_id = \u001b[32m'9937384'\u001b[0m or film_id = \u001b[32m'9937385'\u001b[0m or film_id = \u001b[32m'9937386'\u001b[0m or film_id = \u001b[32m'9937387'\u001b[0m or film_id = \n",
       "\u001b[32m'9937388'\u001b[0m or film_id = \u001b[32m'9937389'\u001b[0m or film_id = \u001b[32m'9937390'\u001b[0m or film_id = \u001b[32m'9937391'\u001b[0m or film_id = \u001b[32m'9937392'\u001b[0m or film_id = \n",
       "\u001b[32m'9937393'\u001b[0m or film_id = \u001b[32m'9937394'\u001b[0m or film_id = \u001b[32m'9937395'\u001b[0m or film_id = \u001b[32m'9937396'\u001b[0m or film_id = \u001b[32m'9937397'\u001b[0m or film_id = \n",
       "\u001b[32m'9937398'\u001b[0m or film_id = \u001b[32m'9937399'\u001b[0m or film_id = \u001b[32m'9937400'\u001b[0m or film_id = \u001b[32m'9937401'\u001b[0m or film_id = \u001b[32m'9937402'\u001b[0m or film_id = \n",
       "\u001b[32m'9937403'\u001b[0m or film_id = \u001b[32m'9937404'\u001b[0m or film_id = \u001b[32m'9937405'\u001b[0m or film_id = \u001b[32m'9937406'\u001b[0m or film_id = \u001b[32m'9937407'\u001b[0m or film_id = \n",
       "\u001b[32m'9937408'\u001b[0m or film_id = \u001b[32m'9937409'\u001b[0m or film_id = \u001b[32m'9937410'\u001b[0m or film_id = \u001b[32m'9937411'\u001b[0m or film_id = \u001b[32m'9937412'\u001b[0m or film_id = \n",
       "\u001b[32m'9937413'\u001b[0m or film_id = \u001b[32m'9937414'\u001b[0m or film_id = \u001b[32m'9937415'\u001b[0m or film_id = \u001b[32m'9937416'\u001b[0m or film_id = \u001b[32m'9937417'\u001b[0m or film_id = \n",
       "\u001b[32m'9937418'\u001b[0m or film_id = \u001b[32m'9937419'\u001b[0m or film_id = \u001b[32m'9937420'\u001b[0m or film_id = \u001b[32m'9937421'\u001b[0m or film_id = \u001b[32m'9937422'\u001b[0m or film_id = \n",
       "\u001b[32m'9937423'\u001b[0m or film_id = \u001b[32m'9937424'\u001b[0m or film_id = \u001b[32m'9937425'\u001b[0m or film_id = \u001b[32m'9937426'\u001b[0m or film_id = \u001b[32m'9937427'\u001b[0m or film_id = \n",
       "\u001b[32m'9937428'\u001b[0m or film_id = \u001b[32m'9937429'\u001b[0m or film_id = \u001b[32m'9937430'\u001b[0m or film_id = \u001b[32m'9937431'\u001b[0m or film_id = \u001b[32m'9937432'\u001b[0m or film_id = \n",
       "\u001b[32m'9937433'\u001b[0m or film_id = \u001b[32m'9937434'\u001b[0m or film_id = \u001b[32m'9937435'\u001b[0m or film_id = \u001b[32m'9937436'\u001b[0m or film_id = \u001b[32m'9937437'\u001b[0m or film_id = \n",
       "\u001b[32m'9937438'\u001b[0m or film_id = \u001b[32m'9937439'\u001b[0m or film_id = \u001b[32m'9937440'\u001b[0m or film_id = \u001b[32m'9937441'\u001b[0m or film_id = \u001b[32m'9937442'\u001b[0m or film_id = \n",
       "\u001b[32m'9937443'\u001b[0m or film_id = \u001b[32m'9937444'\u001b[0m or film_id = \u001b[32m'9937445'\u001b[0m or film_id = \u001b[32m'9937446'\u001b[0m or film_id = \u001b[32m'9937447'\u001b[0m or film_id = \n",
       "\u001b[32m'9937448'\u001b[0m or film_id = \u001b[32m'9937449'\u001b[0m or film_id = \u001b[32m'9937450'\u001b[0m or film_id = \u001b[32m'9937451'\u001b[0m or film_id = \u001b[32m'9937452'\u001b[0m or film_id = \n",
       "\u001b[32m'9937453'\u001b[0m or film_id = \u001b[32m'9937454'\u001b[0m or film_id = \u001b[32m'9937455'\u001b[0m or film_id = \u001b[32m'9937456'\u001b[0m or film_id = \u001b[32m'9937457'\u001b[0m or film_id = \n",
       "\u001b[32m'9937458'\u001b[0m or film_id = \u001b[32m'9937459'\u001b[0m or film_id = \u001b[32m'9937460'\u001b[0m or film_id = \u001b[32m'9937461'\u001b[0m or film_id = \u001b[32m'9937462'\u001b[0m or film_id = \n",
       "\u001b[32m'9937463'\u001b[0m or film_id = \u001b[32m'9937464'\u001b[0m or film_id = \u001b[32m'9937465'\u001b[0m or film_id = \u001b[32m'9937466'\u001b[0m or film_id = \u001b[32m'9937467'\u001b[0m or film_id = \n",
       "\u001b[32m'9937468'\u001b[0m or film_id = \u001b[32m'9937469'\u001b[0m or film_id = \u001b[32m'9937470'\u001b[0m or film_id = \u001b[32m'9937471'\u001b[0m or film_id = \u001b[32m'9937472'\u001b[0m or film_id = \n",
       "\u001b[32m'9937473'\u001b[0m or film_id = \u001b[32m'9937474'\u001b[0m or film_id = \u001b[32m'9937475'\u001b[0m or film_id = \u001b[32m'9937476'\u001b[0m or film_id = \u001b[32m'9937477'\u001b[0m or film_id = \n",
       "\u001b[32m'9937478'\u001b[0m or film_id = \u001b[32m'9937479'\u001b[0m or film_id = \u001b[32m'9937480'\u001b[0m or film_id = \u001b[32m'9937481'\u001b[0m or film_id = \u001b[32m'9937482'\u001b[0m or film_id = \n",
       "\u001b[32m'9937483'\u001b[0m or film_id = \u001b[32m'9937484'\u001b[0m or film_id = \u001b[32m'9937485'\u001b[0m or film_id = \u001b[32m'9937486'\u001b[0m or film_id = \u001b[32m'9937487'\u001b[0m or film_id = \n",
       "\u001b[32m'9937488'\u001b[0m or film_id = \u001b[32m'9937489'\u001b[0m or film_id = \u001b[32m'9937490'\u001b[0m or film_id = \u001b[32m'9937491'\u001b[0m or film_id = \u001b[32m'9937492'\u001b[0m or film_id = \n",
       "\u001b[32m'9937493'\u001b[0m or film_id = \u001b[32m'9937494'\u001b[0m or film_id = \u001b[32m'9937495'\u001b[0m or film_id = \u001b[32m'9937496'\u001b[0m\u001b[1m)\u001b[0m;\n"
      ]
     },
     "metadata": {},
     "output_type": "display_data"
    }
   ],
   "source": [
    "print(query)"
   ]
  },
  {
   "cell_type": "markdown",
   "id": "fdcffe4e-7286-4f03-92e3-f3aaee377212",
   "metadata": {
    "jp-MarkdownHeadingCollapsed": true
   },
   "source": [
    "# ========= classification testing"
   ]
  },
  {
   "cell_type": "code",
   "execution_count": 15,
   "id": "38b986d7-b52f-4717-b6a6-b462cde64d7b",
   "metadata": {
    "deletable": true,
    "editable": true,
    "frozen": false
   },
   "outputs": [
    {
     "data": {
      "text/html": [
       "<pre style=\"white-space:pre;overflow-x:auto;line-height:normal;font-family:Menlo,'DejaVu Sans Mono',consolas,'Courier New',monospace\">p.name = <span style=\"color: #008000; text-decoration-color: #008000\">'2717942.zip'</span> | name = <span style=\"color: #008000; text-decoration-color: #008000\">'2024018583_34001d81c58025453906Z.tif___0.jpg_OCR.txt'</span>\n",
       "</pre>\n"
      ],
      "text/plain": [
       "p.name = \u001b[32m'2717942.zip'\u001b[0m | name = \u001b[32m'2024018583_34001d81c58025453906Z.tif___0.jpg_OCR.txt'\u001b[0m\n"
      ]
     },
     "metadata": {},
     "output_type": "display_data"
    },
    {
     "data": {
      "text/html": [
       "<pre style=\"white-space:pre;overflow-x:auto;line-height:normal;font-family:Menlo,'DejaVu Sans Mono',consolas,'Courier New',monospace\">inside nj_clean\n",
       "</pre>\n"
      ],
      "text/plain": [
       "inside nj_clean\n"
      ]
     },
     "metadata": {},
     "output_type": "display_data"
    },
    {
     "name": "stderr",
     "output_type": "stream",
     "text": [
      "C:\\ProgramData\\anaconda3\\Lib\\site-packages\\sklearn\\base.py:432: UserWarning: X has feature names, but RandomForestClassifier was fitted without feature names\n",
      "  warnings.warn(\n"
     ]
    },
    {
     "ename": "ValueError",
     "evalue": "X has 10000 features, but RandomForestClassifier is expecting 5000 features as input.",
     "output_type": "error",
     "traceback": [
      "\u001b[1;31m---------------------------------------------------------------------------\u001b[0m",
      "\u001b[1;31mValueError\u001b[0m                                Traceback (most recent call last)",
      "Cell \u001b[1;32mIn[15], line 19\u001b[0m\n\u001b[0;32m     17\u001b[0m text \u001b[38;5;241m=\u001b[39m nj_clean(text)\n\u001b[0;32m     18\u001b[0m ocr_df\u001b[38;5;241m=\u001b[39mpd\u001b[38;5;241m.\u001b[39mDataFrame({\u001b[38;5;124m\"\u001b[39m\u001b[38;5;124mdata\u001b[39m\u001b[38;5;124m\"\u001b[39m:[text]},dtype\u001b[38;5;241m=\u001b[39m\u001b[38;5;28mstr\u001b[39m)\n\u001b[1;32m---> 19\u001b[0m pred_value\u001b[38;5;241m=\u001b[39mmodel\u001b[38;5;241m.\u001b[39mpredict(vectorize(ocr_df[\u001b[38;5;124m\"\u001b[39m\u001b[38;5;124mdata\u001b[39m\u001b[38;5;124m\"\u001b[39m]\u001b[38;5;241m.\u001b[39mvalues\u001b[38;5;241m.\u001b[39mastype(\u001b[38;5;124m'\u001b[39m\u001b[38;5;124mU\u001b[39m\u001b[38;5;124m'\u001b[39m),tfidf))\n\u001b[0;32m     20\u001b[0m \u001b[38;5;28mprint\u001b[39m(pred_value)\n",
      "File \u001b[1;32mC:\\ProgramData\\anaconda3\\Lib\\site-packages\\sklearn\\ensemble\\_forest.py:820\u001b[0m, in \u001b[0;36mForestClassifier.predict\u001b[1;34m(self, X)\u001b[0m\n\u001b[0;32m    799\u001b[0m \u001b[38;5;28;01mdef\u001b[39;00m \u001b[38;5;21mpredict\u001b[39m(\u001b[38;5;28mself\u001b[39m, X):\n\u001b[0;32m    800\u001b[0m \u001b[38;5;250m    \u001b[39m\u001b[38;5;124;03m\"\"\"\u001b[39;00m\n\u001b[0;32m    801\u001b[0m \u001b[38;5;124;03m    Predict class for X.\u001b[39;00m\n\u001b[0;32m    802\u001b[0m \n\u001b[1;32m   (...)\u001b[0m\n\u001b[0;32m    818\u001b[0m \u001b[38;5;124;03m        The predicted classes.\u001b[39;00m\n\u001b[0;32m    819\u001b[0m \u001b[38;5;124;03m    \"\"\"\u001b[39;00m\n\u001b[1;32m--> 820\u001b[0m     proba \u001b[38;5;241m=\u001b[39m \u001b[38;5;28mself\u001b[39m\u001b[38;5;241m.\u001b[39mpredict_proba(X)\n\u001b[0;32m    822\u001b[0m     \u001b[38;5;28;01mif\u001b[39;00m \u001b[38;5;28mself\u001b[39m\u001b[38;5;241m.\u001b[39mn_outputs_ \u001b[38;5;241m==\u001b[39m \u001b[38;5;241m1\u001b[39m:\n\u001b[0;32m    823\u001b[0m         \u001b[38;5;28;01mreturn\u001b[39;00m \u001b[38;5;28mself\u001b[39m\u001b[38;5;241m.\u001b[39mclasses_\u001b[38;5;241m.\u001b[39mtake(np\u001b[38;5;241m.\u001b[39margmax(proba, axis\u001b[38;5;241m=\u001b[39m\u001b[38;5;241m1\u001b[39m), axis\u001b[38;5;241m=\u001b[39m\u001b[38;5;241m0\u001b[39m)\n",
      "File \u001b[1;32mC:\\ProgramData\\anaconda3\\Lib\\site-packages\\sklearn\\ensemble\\_forest.py:862\u001b[0m, in \u001b[0;36mForestClassifier.predict_proba\u001b[1;34m(self, X)\u001b[0m\n\u001b[0;32m    860\u001b[0m check_is_fitted(\u001b[38;5;28mself\u001b[39m)\n\u001b[0;32m    861\u001b[0m \u001b[38;5;66;03m# Check data\u001b[39;00m\n\u001b[1;32m--> 862\u001b[0m X \u001b[38;5;241m=\u001b[39m \u001b[38;5;28mself\u001b[39m\u001b[38;5;241m.\u001b[39m_validate_X_predict(X)\n\u001b[0;32m    864\u001b[0m \u001b[38;5;66;03m# Assign chunk of trees to jobs\u001b[39;00m\n\u001b[0;32m    865\u001b[0m n_jobs, _, _ \u001b[38;5;241m=\u001b[39m _partition_estimators(\u001b[38;5;28mself\u001b[39m\u001b[38;5;241m.\u001b[39mn_estimators, \u001b[38;5;28mself\u001b[39m\u001b[38;5;241m.\u001b[39mn_jobs)\n",
      "File \u001b[1;32mC:\\ProgramData\\anaconda3\\Lib\\site-packages\\sklearn\\ensemble\\_forest.py:602\u001b[0m, in \u001b[0;36mBaseForest._validate_X_predict\u001b[1;34m(self, X)\u001b[0m\n\u001b[0;32m    599\u001b[0m \u001b[38;5;250m\u001b[39m\u001b[38;5;124;03m\"\"\"\u001b[39;00m\n\u001b[0;32m    600\u001b[0m \u001b[38;5;124;03mValidate X whenever one tries to predict, apply, predict_proba.\"\"\"\u001b[39;00m\n\u001b[0;32m    601\u001b[0m check_is_fitted(\u001b[38;5;28mself\u001b[39m)\n\u001b[1;32m--> 602\u001b[0m X \u001b[38;5;241m=\u001b[39m \u001b[38;5;28mself\u001b[39m\u001b[38;5;241m.\u001b[39m_validate_data(X, dtype\u001b[38;5;241m=\u001b[39mDTYPE, accept_sparse\u001b[38;5;241m=\u001b[39m\u001b[38;5;124m\"\u001b[39m\u001b[38;5;124mcsr\u001b[39m\u001b[38;5;124m\"\u001b[39m, reset\u001b[38;5;241m=\u001b[39m\u001b[38;5;28;01mFalse\u001b[39;00m)\n\u001b[0;32m    603\u001b[0m \u001b[38;5;28;01mif\u001b[39;00m issparse(X) \u001b[38;5;129;01mand\u001b[39;00m (X\u001b[38;5;241m.\u001b[39mindices\u001b[38;5;241m.\u001b[39mdtype \u001b[38;5;241m!=\u001b[39m np\u001b[38;5;241m.\u001b[39mintc \u001b[38;5;129;01mor\u001b[39;00m X\u001b[38;5;241m.\u001b[39mindptr\u001b[38;5;241m.\u001b[39mdtype \u001b[38;5;241m!=\u001b[39m np\u001b[38;5;241m.\u001b[39mintc):\n\u001b[0;32m    604\u001b[0m     \u001b[38;5;28;01mraise\u001b[39;00m \u001b[38;5;167;01mValueError\u001b[39;00m(\u001b[38;5;124m\"\u001b[39m\u001b[38;5;124mNo support for np.int64 index based sparse matrices\u001b[39m\u001b[38;5;124m\"\u001b[39m)\n",
      "File \u001b[1;32mC:\\ProgramData\\anaconda3\\Lib\\site-packages\\sklearn\\base.py:588\u001b[0m, in \u001b[0;36mBaseEstimator._validate_data\u001b[1;34m(self, X, y, reset, validate_separately, **check_params)\u001b[0m\n\u001b[0;32m    585\u001b[0m     out \u001b[38;5;241m=\u001b[39m X, y\n\u001b[0;32m    587\u001b[0m \u001b[38;5;28;01mif\u001b[39;00m \u001b[38;5;129;01mnot\u001b[39;00m no_val_X \u001b[38;5;129;01mand\u001b[39;00m check_params\u001b[38;5;241m.\u001b[39mget(\u001b[38;5;124m\"\u001b[39m\u001b[38;5;124mensure_2d\u001b[39m\u001b[38;5;124m\"\u001b[39m, \u001b[38;5;28;01mTrue\u001b[39;00m):\n\u001b[1;32m--> 588\u001b[0m     \u001b[38;5;28mself\u001b[39m\u001b[38;5;241m.\u001b[39m_check_n_features(X, reset\u001b[38;5;241m=\u001b[39mreset)\n\u001b[0;32m    590\u001b[0m \u001b[38;5;28;01mreturn\u001b[39;00m out\n",
      "File \u001b[1;32mC:\\ProgramData\\anaconda3\\Lib\\site-packages\\sklearn\\base.py:389\u001b[0m, in \u001b[0;36mBaseEstimator._check_n_features\u001b[1;34m(self, X, reset)\u001b[0m\n\u001b[0;32m    386\u001b[0m     \u001b[38;5;28;01mreturn\u001b[39;00m\n\u001b[0;32m    388\u001b[0m \u001b[38;5;28;01mif\u001b[39;00m n_features \u001b[38;5;241m!=\u001b[39m \u001b[38;5;28mself\u001b[39m\u001b[38;5;241m.\u001b[39mn_features_in_:\n\u001b[1;32m--> 389\u001b[0m     \u001b[38;5;28;01mraise\u001b[39;00m \u001b[38;5;167;01mValueError\u001b[39;00m(\n\u001b[0;32m    390\u001b[0m         \u001b[38;5;124mf\u001b[39m\u001b[38;5;124m\"\u001b[39m\u001b[38;5;124mX has \u001b[39m\u001b[38;5;132;01m{\u001b[39;00mn_features\u001b[38;5;132;01m}\u001b[39;00m\u001b[38;5;124m features, but \u001b[39m\u001b[38;5;132;01m{\u001b[39;00m\u001b[38;5;28mself\u001b[39m\u001b[38;5;241m.\u001b[39m\u001b[38;5;18m__class__\u001b[39m\u001b[38;5;241m.\u001b[39m\u001b[38;5;18m__name__\u001b[39m\u001b[38;5;132;01m}\u001b[39;00m\u001b[38;5;124m \u001b[39m\u001b[38;5;124m\"\u001b[39m\n\u001b[0;32m    391\u001b[0m         \u001b[38;5;124mf\u001b[39m\u001b[38;5;124m\"\u001b[39m\u001b[38;5;124mis expecting \u001b[39m\u001b[38;5;132;01m{\u001b[39;00m\u001b[38;5;28mself\u001b[39m\u001b[38;5;241m.\u001b[39mn_features_in_\u001b[38;5;132;01m}\u001b[39;00m\u001b[38;5;124m features as input.\u001b[39m\u001b[38;5;124m\"\u001b[39m\n\u001b[0;32m    392\u001b[0m     )\n",
      "\u001b[1;31mValueError\u001b[0m: X has 10000 features, but RandomForestClassifier is expecting 5000 features as input."
     ]
    }
   ],
   "source": [
    "import json\n",
    "import zipfile\n",
    "from pathlib import Path\n",
    "from rich import print\n",
    "import pandas as pd\n",
    "for p in Path(\n",
    "    r\"C:\\Users\\surakumar\\OneDrive - CoreLogic Solutions, LLC\\Downloads\\pythonCode\\ok_retest\"\n",
    ").iterdir():\n",
    "    # arc = zipfile.ZipFile(p, mode=\"r\")\n",
    "    # break\n",
    "    with zipfile.ZipFile(p, mode=\"r\") as archive:\n",
    "        for name in archive.namelist():\n",
    "            if \"_0.jpg_OCR.txt\" in name:\n",
    "                print(f\"{p.name = } | {name = }\")\n",
    "                with archive.open(name,'r') as file:\n",
    "                    text = file.read().decode()\n",
    "                    text = nj_clean(text)\n",
    "                    ocr_df=pd.DataFrame({\"data\":[text]},dtype=str)\n",
    "                    pred_value=model.predict(vectorize(ocr_df[\"data\"].values.astype('U'),tfidf))\n",
    "                    print(pred_value)\n"
   ]
  },
  {
   "cell_type": "code",
   "execution_count": 17,
   "id": "1e262be2-ded2-422b-9d46-044f1e33a52c",
   "metadata": {},
   "outputs": [
    {
     "name": "stderr",
     "output_type": "stream",
     "text": [
      "C:\\ProgramData\\anaconda3\\Lib\\site-packages\\sklearn\\base.py:318: UserWarning: Trying to unpickle estimator DecisionTreeClassifier from version 0.24.2 when using version 1.2.2. This might lead to breaking code or invalid results. Use at your own risk. For more info please refer to:\n",
      "https://scikit-learn.org/stable/model_persistence.html#security-maintainability-limitations\n",
      "  warnings.warn(\n",
      "C:\\ProgramData\\anaconda3\\Lib\\site-packages\\sklearn\\base.py:318: UserWarning: Trying to unpickle estimator RandomForestClassifier from version 0.24.2 when using version 1.2.2. This might lead to breaking code or invalid results. Use at your own risk. For more info please refer to:\n",
      "https://scikit-learn.org/stable/model_persistence.html#security-maintainability-limitations\n",
      "  warnings.warn(\n",
      "C:\\ProgramData\\anaconda3\\Lib\\site-packages\\sklearn\\base.py:318: UserWarning: Trying to unpickle estimator TfidfTransformer from version 0.24.2 when using version 1.2.2. This might lead to breaking code or invalid results. Use at your own risk. For more info please refer to:\n",
      "https://scikit-learn.org/stable/model_persistence.html#security-maintainability-limitations\n",
      "  warnings.warn(\n",
      "C:\\ProgramData\\anaconda3\\Lib\\site-packages\\sklearn\\base.py:318: UserWarning: Trying to unpickle estimator TfidfVectorizer from version 0.24.2 when using version 1.2.2. This might lead to breaking code or invalid results. Use at your own risk. For more info please refer to:\n",
      "https://scikit-learn.org/stable/model_persistence.html#security-maintainability-limitations\n",
      "  warnings.warn(\n"
     ]
    }
   ],
   "source": [
    "model = joblib.load(\"njstate/model_B_rdmfrst.pkl\")\n",
    "tfidf = joblib.load(\"njstate/tfidf_B_rdmfrst.pkl\")"
   ]
  },
  {
   "cell_type": "code",
   "execution_count": 18,
   "id": "844bf909-6177-4d2a-a786-757a5504601c",
   "metadata": {},
   "outputs": [
    {
     "data": {
      "text/html": [
       "<style>#sk-container-id-4 {color: black;background-color: white;}#sk-container-id-4 pre{padding: 0;}#sk-container-id-4 div.sk-toggleable {background-color: white;}#sk-container-id-4 label.sk-toggleable__label {cursor: pointer;display: block;width: 100%;margin-bottom: 0;padding: 0.3em;box-sizing: border-box;text-align: center;}#sk-container-id-4 label.sk-toggleable__label-arrow:before {content: \"▸\";float: left;margin-right: 0.25em;color: #696969;}#sk-container-id-4 label.sk-toggleable__label-arrow:hover:before {color: black;}#sk-container-id-4 div.sk-estimator:hover label.sk-toggleable__label-arrow:before {color: black;}#sk-container-id-4 div.sk-toggleable__content {max-height: 0;max-width: 0;overflow: hidden;text-align: left;background-color: #f0f8ff;}#sk-container-id-4 div.sk-toggleable__content pre {margin: 0.2em;color: black;border-radius: 0.25em;background-color: #f0f8ff;}#sk-container-id-4 input.sk-toggleable__control:checked~div.sk-toggleable__content {max-height: 200px;max-width: 100%;overflow: auto;}#sk-container-id-4 input.sk-toggleable__control:checked~label.sk-toggleable__label-arrow:before {content: \"▾\";}#sk-container-id-4 div.sk-estimator input.sk-toggleable__control:checked~label.sk-toggleable__label {background-color: #d4ebff;}#sk-container-id-4 div.sk-label input.sk-toggleable__control:checked~label.sk-toggleable__label {background-color: #d4ebff;}#sk-container-id-4 input.sk-hidden--visually {border: 0;clip: rect(1px 1px 1px 1px);clip: rect(1px, 1px, 1px, 1px);height: 1px;margin: -1px;overflow: hidden;padding: 0;position: absolute;width: 1px;}#sk-container-id-4 div.sk-estimator {font-family: monospace;background-color: #f0f8ff;border: 1px dotted black;border-radius: 0.25em;box-sizing: border-box;margin-bottom: 0.5em;}#sk-container-id-4 div.sk-estimator:hover {background-color: #d4ebff;}#sk-container-id-4 div.sk-parallel-item::after {content: \"\";width: 100%;border-bottom: 1px solid gray;flex-grow: 1;}#sk-container-id-4 div.sk-label:hover label.sk-toggleable__label {background-color: #d4ebff;}#sk-container-id-4 div.sk-serial::before {content: \"\";position: absolute;border-left: 1px solid gray;box-sizing: border-box;top: 0;bottom: 0;left: 50%;z-index: 0;}#sk-container-id-4 div.sk-serial {display: flex;flex-direction: column;align-items: center;background-color: white;padding-right: 0.2em;padding-left: 0.2em;position: relative;}#sk-container-id-4 div.sk-item {position: relative;z-index: 1;}#sk-container-id-4 div.sk-parallel {display: flex;align-items: stretch;justify-content: center;background-color: white;position: relative;}#sk-container-id-4 div.sk-item::before, #sk-container-id-4 div.sk-parallel-item::before {content: \"\";position: absolute;border-left: 1px solid gray;box-sizing: border-box;top: 0;bottom: 0;left: 50%;z-index: -1;}#sk-container-id-4 div.sk-parallel-item {display: flex;flex-direction: column;z-index: 1;position: relative;background-color: white;}#sk-container-id-4 div.sk-parallel-item:first-child::after {align-self: flex-end;width: 50%;}#sk-container-id-4 div.sk-parallel-item:last-child::after {align-self: flex-start;width: 50%;}#sk-container-id-4 div.sk-parallel-item:only-child::after {width: 0;}#sk-container-id-4 div.sk-dashed-wrapped {border: 1px dashed gray;margin: 0 0.4em 0.5em 0.4em;box-sizing: border-box;padding-bottom: 0.4em;background-color: white;}#sk-container-id-4 div.sk-label label {font-family: monospace;font-weight: bold;display: inline-block;line-height: 1.2em;}#sk-container-id-4 div.sk-label-container {text-align: center;}#sk-container-id-4 div.sk-container {/* jupyter's `normalize.less` sets `[hidden] { display: none; }` but bootstrap.min.css set `[hidden] { display: none !important; }` so we also need the `!important` here to be able to override the default hidden behavior on the sphinx rendered scikit-learn.org. See: https://github.com/scikit-learn/scikit-learn/issues/21755 */display: inline-block !important;position: relative;}#sk-container-id-4 div.sk-text-repr-fallback {display: none;}</style><div id=\"sk-container-id-4\" class=\"sk-top-container\"><div class=\"sk-text-repr-fallback\"><pre>RandomForestClassifier(max_features=&#x27;auto&#x27;, n_jobs=-1)</pre><b>In a Jupyter environment, please rerun this cell to show the HTML representation or trust the notebook. <br />On GitHub, the HTML representation is unable to render, please try loading this page with nbviewer.org.</b></div><div class=\"sk-container\" hidden><div class=\"sk-item\"><div class=\"sk-estimator sk-toggleable\"><input class=\"sk-toggleable__control sk-hidden--visually\" id=\"sk-estimator-id-4\" type=\"checkbox\" checked><label for=\"sk-estimator-id-4\" class=\"sk-toggleable__label sk-toggleable__label-arrow\">RandomForestClassifier</label><div class=\"sk-toggleable__content\"><pre>RandomForestClassifier(max_features=&#x27;auto&#x27;, n_jobs=-1)</pre></div></div></div></div></div>"
      ],
      "text/plain": [
       "RandomForestClassifier(max_features='auto', n_jobs=-1)"
      ]
     },
     "execution_count": 18,
     "metadata": {},
     "output_type": "execute_result"
    }
   ],
   "source": [
    "model"
   ]
  },
  {
   "cell_type": "code",
   "execution_count": 19,
   "id": "c716306a-f67c-4671-bf28-bfed38401738",
   "metadata": {},
   "outputs": [
    {
     "ename": "AttributeError",
     "evalue": "'TfidfVectorizer' object has no attribute 'norm'",
     "output_type": "error",
     "traceback": [
      "\u001b[1;31m---------------------------------------------------------------------------\u001b[0m",
      "\u001b[1;31mAttributeError\u001b[0m                            Traceback (most recent call last)",
      "File \u001b[1;32mC:\\ProgramData\\anaconda3\\Lib\\site-packages\\IPython\\core\\formatters.py:974\u001b[0m, in \u001b[0;36mMimeBundleFormatter.__call__\u001b[1;34m(self, obj, include, exclude)\u001b[0m\n\u001b[0;32m    971\u001b[0m     method \u001b[38;5;241m=\u001b[39m get_real_method(obj, \u001b[38;5;28mself\u001b[39m\u001b[38;5;241m.\u001b[39mprint_method)\n\u001b[0;32m    973\u001b[0m     \u001b[38;5;28;01mif\u001b[39;00m method \u001b[38;5;129;01mis\u001b[39;00m \u001b[38;5;129;01mnot\u001b[39;00m \u001b[38;5;28;01mNone\u001b[39;00m:\n\u001b[1;32m--> 974\u001b[0m         \u001b[38;5;28;01mreturn\u001b[39;00m method(include\u001b[38;5;241m=\u001b[39minclude, exclude\u001b[38;5;241m=\u001b[39mexclude)\n\u001b[0;32m    975\u001b[0m     \u001b[38;5;28;01mreturn\u001b[39;00m \u001b[38;5;28;01mNone\u001b[39;00m\n\u001b[0;32m    976\u001b[0m \u001b[38;5;28;01melse\u001b[39;00m:\n",
      "File \u001b[1;32mC:\\ProgramData\\anaconda3\\Lib\\site-packages\\sklearn\\base.py:631\u001b[0m, in \u001b[0;36mBaseEstimator._repr_mimebundle_\u001b[1;34m(self, **kwargs)\u001b[0m\n\u001b[0;32m    629\u001b[0m \u001b[38;5;28;01mdef\u001b[39;00m \u001b[38;5;21m_repr_mimebundle_\u001b[39m(\u001b[38;5;28mself\u001b[39m, \u001b[38;5;241m*\u001b[39m\u001b[38;5;241m*\u001b[39mkwargs):\n\u001b[0;32m    630\u001b[0m \u001b[38;5;250m    \u001b[39m\u001b[38;5;124;03m\"\"\"Mime bundle used by jupyter kernels to display estimator\"\"\"\u001b[39;00m\n\u001b[1;32m--> 631\u001b[0m     output \u001b[38;5;241m=\u001b[39m {\u001b[38;5;124m\"\u001b[39m\u001b[38;5;124mtext/plain\u001b[39m\u001b[38;5;124m\"\u001b[39m: \u001b[38;5;28mrepr\u001b[39m(\u001b[38;5;28mself\u001b[39m)}\n\u001b[0;32m    632\u001b[0m     \u001b[38;5;28;01mif\u001b[39;00m get_config()[\u001b[38;5;124m\"\u001b[39m\u001b[38;5;124mdisplay\u001b[39m\u001b[38;5;124m\"\u001b[39m] \u001b[38;5;241m==\u001b[39m \u001b[38;5;124m\"\u001b[39m\u001b[38;5;124mdiagram\u001b[39m\u001b[38;5;124m\"\u001b[39m:\n\u001b[0;32m    633\u001b[0m         output[\u001b[38;5;124m\"\u001b[39m\u001b[38;5;124mtext/html\u001b[39m\u001b[38;5;124m\"\u001b[39m] \u001b[38;5;241m=\u001b[39m estimator_html_repr(\u001b[38;5;28mself\u001b[39m)\n",
      "File \u001b[1;32mC:\\ProgramData\\anaconda3\\Lib\\site-packages\\sklearn\\base.py:257\u001b[0m, in \u001b[0;36mBaseEstimator.__repr__\u001b[1;34m(self, N_CHAR_MAX)\u001b[0m\n\u001b[0;32m    249\u001b[0m \u001b[38;5;66;03m# use ellipsis for sequences with a lot of elements\u001b[39;00m\n\u001b[0;32m    250\u001b[0m pp \u001b[38;5;241m=\u001b[39m _EstimatorPrettyPrinter(\n\u001b[0;32m    251\u001b[0m     compact\u001b[38;5;241m=\u001b[39m\u001b[38;5;28;01mTrue\u001b[39;00m,\n\u001b[0;32m    252\u001b[0m     indent\u001b[38;5;241m=\u001b[39m\u001b[38;5;241m1\u001b[39m,\n\u001b[0;32m    253\u001b[0m     indent_at_name\u001b[38;5;241m=\u001b[39m\u001b[38;5;28;01mTrue\u001b[39;00m,\n\u001b[0;32m    254\u001b[0m     n_max_elements_to_show\u001b[38;5;241m=\u001b[39mN_MAX_ELEMENTS_TO_SHOW,\n\u001b[0;32m    255\u001b[0m )\n\u001b[1;32m--> 257\u001b[0m repr_ \u001b[38;5;241m=\u001b[39m pp\u001b[38;5;241m.\u001b[39mpformat(\u001b[38;5;28mself\u001b[39m)\n\u001b[0;32m    259\u001b[0m \u001b[38;5;66;03m# Use bruteforce ellipsis when there are a lot of non-blank characters\u001b[39;00m\n\u001b[0;32m    260\u001b[0m n_nonblank \u001b[38;5;241m=\u001b[39m \u001b[38;5;28mlen\u001b[39m(\u001b[38;5;124m\"\u001b[39m\u001b[38;5;124m\"\u001b[39m\u001b[38;5;241m.\u001b[39mjoin(repr_\u001b[38;5;241m.\u001b[39msplit()))\n",
      "File \u001b[1;32mC:\\ProgramData\\anaconda3\\Lib\\pprint.py:158\u001b[0m, in \u001b[0;36mPrettyPrinter.pformat\u001b[1;34m(self, object)\u001b[0m\n\u001b[0;32m    156\u001b[0m \u001b[38;5;28;01mdef\u001b[39;00m \u001b[38;5;21mpformat\u001b[39m(\u001b[38;5;28mself\u001b[39m, \u001b[38;5;28mobject\u001b[39m):\n\u001b[0;32m    157\u001b[0m     sio \u001b[38;5;241m=\u001b[39m _StringIO()\n\u001b[1;32m--> 158\u001b[0m     \u001b[38;5;28mself\u001b[39m\u001b[38;5;241m.\u001b[39m_format(\u001b[38;5;28mobject\u001b[39m, sio, \u001b[38;5;241m0\u001b[39m, \u001b[38;5;241m0\u001b[39m, {}, \u001b[38;5;241m0\u001b[39m)\n\u001b[0;32m    159\u001b[0m     \u001b[38;5;28;01mreturn\u001b[39;00m sio\u001b[38;5;241m.\u001b[39mgetvalue()\n",
      "File \u001b[1;32mC:\\ProgramData\\anaconda3\\Lib\\pprint.py:175\u001b[0m, in \u001b[0;36mPrettyPrinter._format\u001b[1;34m(self, object, stream, indent, allowance, context, level)\u001b[0m\n\u001b[0;32m    173\u001b[0m     \u001b[38;5;28mself\u001b[39m\u001b[38;5;241m.\u001b[39m_readable \u001b[38;5;241m=\u001b[39m \u001b[38;5;28;01mFalse\u001b[39;00m\n\u001b[0;32m    174\u001b[0m     \u001b[38;5;28;01mreturn\u001b[39;00m\n\u001b[1;32m--> 175\u001b[0m rep \u001b[38;5;241m=\u001b[39m \u001b[38;5;28mself\u001b[39m\u001b[38;5;241m.\u001b[39m_repr(\u001b[38;5;28mobject\u001b[39m, context, level)\n\u001b[0;32m    176\u001b[0m max_width \u001b[38;5;241m=\u001b[39m \u001b[38;5;28mself\u001b[39m\u001b[38;5;241m.\u001b[39m_width \u001b[38;5;241m-\u001b[39m indent \u001b[38;5;241m-\u001b[39m allowance\n\u001b[0;32m    177\u001b[0m \u001b[38;5;28;01mif\u001b[39;00m \u001b[38;5;28mlen\u001b[39m(rep) \u001b[38;5;241m>\u001b[39m max_width:\n",
      "File \u001b[1;32mC:\\ProgramData\\anaconda3\\Lib\\pprint.py:455\u001b[0m, in \u001b[0;36mPrettyPrinter._repr\u001b[1;34m(self, object, context, level)\u001b[0m\n\u001b[0;32m    454\u001b[0m \u001b[38;5;28;01mdef\u001b[39;00m \u001b[38;5;21m_repr\u001b[39m(\u001b[38;5;28mself\u001b[39m, \u001b[38;5;28mobject\u001b[39m, context, level):\n\u001b[1;32m--> 455\u001b[0m     \u001b[38;5;28mrepr\u001b[39m, readable, recursive \u001b[38;5;241m=\u001b[39m \u001b[38;5;28mself\u001b[39m\u001b[38;5;241m.\u001b[39mformat(\u001b[38;5;28mobject\u001b[39m, context\u001b[38;5;241m.\u001b[39mcopy(),\n\u001b[0;32m    456\u001b[0m                                             \u001b[38;5;28mself\u001b[39m\u001b[38;5;241m.\u001b[39m_depth, level)\n\u001b[0;32m    457\u001b[0m     \u001b[38;5;28;01mif\u001b[39;00m \u001b[38;5;129;01mnot\u001b[39;00m readable:\n\u001b[0;32m    458\u001b[0m         \u001b[38;5;28mself\u001b[39m\u001b[38;5;241m.\u001b[39m_readable \u001b[38;5;241m=\u001b[39m \u001b[38;5;28;01mFalse\u001b[39;00m\n",
      "File \u001b[1;32mC:\\ProgramData\\anaconda3\\Lib\\site-packages\\sklearn\\utils\\_pprint.py:189\u001b[0m, in \u001b[0;36m_EstimatorPrettyPrinter.format\u001b[1;34m(self, object, context, maxlevels, level)\u001b[0m\n\u001b[0;32m    188\u001b[0m \u001b[38;5;28;01mdef\u001b[39;00m \u001b[38;5;21mformat\u001b[39m(\u001b[38;5;28mself\u001b[39m, \u001b[38;5;28mobject\u001b[39m, context, maxlevels, level):\n\u001b[1;32m--> 189\u001b[0m     \u001b[38;5;28;01mreturn\u001b[39;00m _safe_repr(\n\u001b[0;32m    190\u001b[0m         \u001b[38;5;28mobject\u001b[39m, context, maxlevels, level, changed_only\u001b[38;5;241m=\u001b[39m\u001b[38;5;28mself\u001b[39m\u001b[38;5;241m.\u001b[39m_changed_only\n\u001b[0;32m    191\u001b[0m     )\n",
      "File \u001b[1;32mC:\\ProgramData\\anaconda3\\Lib\\site-packages\\sklearn\\utils\\_pprint.py:440\u001b[0m, in \u001b[0;36m_safe_repr\u001b[1;34m(object, context, maxlevels, level, changed_only)\u001b[0m\n\u001b[0;32m    438\u001b[0m recursive \u001b[38;5;241m=\u001b[39m \u001b[38;5;28;01mFalse\u001b[39;00m\n\u001b[0;32m    439\u001b[0m \u001b[38;5;28;01mif\u001b[39;00m changed_only:\n\u001b[1;32m--> 440\u001b[0m     params \u001b[38;5;241m=\u001b[39m _changed_params(\u001b[38;5;28mobject\u001b[39m)\n\u001b[0;32m    441\u001b[0m \u001b[38;5;28;01melse\u001b[39;00m:\n\u001b[0;32m    442\u001b[0m     params \u001b[38;5;241m=\u001b[39m \u001b[38;5;28mobject\u001b[39m\u001b[38;5;241m.\u001b[39mget_params(deep\u001b[38;5;241m=\u001b[39m\u001b[38;5;28;01mFalse\u001b[39;00m)\n",
      "File \u001b[1;32mC:\\ProgramData\\anaconda3\\Lib\\site-packages\\sklearn\\utils\\_pprint.py:93\u001b[0m, in \u001b[0;36m_changed_params\u001b[1;34m(estimator)\u001b[0m\n\u001b[0;32m     89\u001b[0m \u001b[38;5;28;01mdef\u001b[39;00m \u001b[38;5;21m_changed_params\u001b[39m(estimator):\n\u001b[0;32m     90\u001b[0m \u001b[38;5;250m    \u001b[39m\u001b[38;5;124;03m\"\"\"Return dict (param_name: value) of parameters that were given to\u001b[39;00m\n\u001b[0;32m     91\u001b[0m \u001b[38;5;124;03m    estimator with non-default values.\"\"\"\u001b[39;00m\n\u001b[1;32m---> 93\u001b[0m     params \u001b[38;5;241m=\u001b[39m estimator\u001b[38;5;241m.\u001b[39mget_params(deep\u001b[38;5;241m=\u001b[39m\u001b[38;5;28;01mFalse\u001b[39;00m)\n\u001b[0;32m     94\u001b[0m     init_func \u001b[38;5;241m=\u001b[39m \u001b[38;5;28mgetattr\u001b[39m(estimator\u001b[38;5;241m.\u001b[39m\u001b[38;5;21m__init__\u001b[39m, \u001b[38;5;124m\"\u001b[39m\u001b[38;5;124mdeprecated_original\u001b[39m\u001b[38;5;124m\"\u001b[39m, estimator\u001b[38;5;241m.\u001b[39m\u001b[38;5;21m__init__\u001b[39m)\n\u001b[0;32m     95\u001b[0m     init_params \u001b[38;5;241m=\u001b[39m inspect\u001b[38;5;241m.\u001b[39msignature(init_func)\u001b[38;5;241m.\u001b[39mparameters\n",
      "File \u001b[1;32mC:\\ProgramData\\anaconda3\\Lib\\site-packages\\sklearn\\base.py:170\u001b[0m, in \u001b[0;36mBaseEstimator.get_params\u001b[1;34m(self, deep)\u001b[0m\n\u001b[0;32m    168\u001b[0m out \u001b[38;5;241m=\u001b[39m \u001b[38;5;28mdict\u001b[39m()\n\u001b[0;32m    169\u001b[0m \u001b[38;5;28;01mfor\u001b[39;00m key \u001b[38;5;129;01min\u001b[39;00m \u001b[38;5;28mself\u001b[39m\u001b[38;5;241m.\u001b[39m_get_param_names():\n\u001b[1;32m--> 170\u001b[0m     value \u001b[38;5;241m=\u001b[39m \u001b[38;5;28mgetattr\u001b[39m(\u001b[38;5;28mself\u001b[39m, key)\n\u001b[0;32m    171\u001b[0m     \u001b[38;5;28;01mif\u001b[39;00m deep \u001b[38;5;129;01mand\u001b[39;00m \u001b[38;5;28mhasattr\u001b[39m(value, \u001b[38;5;124m\"\u001b[39m\u001b[38;5;124mget_params\u001b[39m\u001b[38;5;124m\"\u001b[39m) \u001b[38;5;129;01mand\u001b[39;00m \u001b[38;5;129;01mnot\u001b[39;00m \u001b[38;5;28misinstance\u001b[39m(value, \u001b[38;5;28mtype\u001b[39m):\n\u001b[0;32m    172\u001b[0m         deep_items \u001b[38;5;241m=\u001b[39m value\u001b[38;5;241m.\u001b[39mget_params()\u001b[38;5;241m.\u001b[39mitems()\n",
      "\u001b[1;31mAttributeError\u001b[0m: 'TfidfVectorizer' object has no attribute 'norm'"
     ]
    },
    {
     "ename": "AttributeError",
     "evalue": "'TfidfVectorizer' object has no attribute 'norm'",
     "output_type": "error",
     "traceback": [
      "\u001b[1;31m---------------------------------------------------------------------------\u001b[0m",
      "\u001b[1;31mAttributeError\u001b[0m                            Traceback (most recent call last)",
      "File \u001b[1;32mC:\\ProgramData\\anaconda3\\Lib\\site-packages\\IPython\\core\\formatters.py:708\u001b[0m, in \u001b[0;36mPlainTextFormatter.__call__\u001b[1;34m(self, obj)\u001b[0m\n\u001b[0;32m    701\u001b[0m stream \u001b[38;5;241m=\u001b[39m StringIO()\n\u001b[0;32m    702\u001b[0m printer \u001b[38;5;241m=\u001b[39m pretty\u001b[38;5;241m.\u001b[39mRepresentationPrinter(stream, \u001b[38;5;28mself\u001b[39m\u001b[38;5;241m.\u001b[39mverbose,\n\u001b[0;32m    703\u001b[0m     \u001b[38;5;28mself\u001b[39m\u001b[38;5;241m.\u001b[39mmax_width, \u001b[38;5;28mself\u001b[39m\u001b[38;5;241m.\u001b[39mnewline,\n\u001b[0;32m    704\u001b[0m     max_seq_length\u001b[38;5;241m=\u001b[39m\u001b[38;5;28mself\u001b[39m\u001b[38;5;241m.\u001b[39mmax_seq_length,\n\u001b[0;32m    705\u001b[0m     singleton_pprinters\u001b[38;5;241m=\u001b[39m\u001b[38;5;28mself\u001b[39m\u001b[38;5;241m.\u001b[39msingleton_printers,\n\u001b[0;32m    706\u001b[0m     type_pprinters\u001b[38;5;241m=\u001b[39m\u001b[38;5;28mself\u001b[39m\u001b[38;5;241m.\u001b[39mtype_printers,\n\u001b[0;32m    707\u001b[0m     deferred_pprinters\u001b[38;5;241m=\u001b[39m\u001b[38;5;28mself\u001b[39m\u001b[38;5;241m.\u001b[39mdeferred_printers)\n\u001b[1;32m--> 708\u001b[0m printer\u001b[38;5;241m.\u001b[39mpretty(obj)\n\u001b[0;32m    709\u001b[0m printer\u001b[38;5;241m.\u001b[39mflush()\n\u001b[0;32m    710\u001b[0m \u001b[38;5;28;01mreturn\u001b[39;00m stream\u001b[38;5;241m.\u001b[39mgetvalue()\n",
      "File \u001b[1;32mC:\\ProgramData\\anaconda3\\Lib\\site-packages\\IPython\\lib\\pretty.py:410\u001b[0m, in \u001b[0;36mRepresentationPrinter.pretty\u001b[1;34m(self, obj)\u001b[0m\n\u001b[0;32m    407\u001b[0m                         \u001b[38;5;28;01mreturn\u001b[39;00m meth(obj, \u001b[38;5;28mself\u001b[39m, cycle)\n\u001b[0;32m    408\u001b[0m                 \u001b[38;5;28;01mif\u001b[39;00m \u001b[38;5;28mcls\u001b[39m \u001b[38;5;129;01mis\u001b[39;00m \u001b[38;5;129;01mnot\u001b[39;00m \u001b[38;5;28mobject\u001b[39m \\\n\u001b[0;32m    409\u001b[0m                         \u001b[38;5;129;01mand\u001b[39;00m \u001b[38;5;28mcallable\u001b[39m(\u001b[38;5;28mcls\u001b[39m\u001b[38;5;241m.\u001b[39m\u001b[38;5;18m__dict__\u001b[39m\u001b[38;5;241m.\u001b[39mget(\u001b[38;5;124m'\u001b[39m\u001b[38;5;124m__repr__\u001b[39m\u001b[38;5;124m'\u001b[39m)):\n\u001b[1;32m--> 410\u001b[0m                     \u001b[38;5;28;01mreturn\u001b[39;00m _repr_pprint(obj, \u001b[38;5;28mself\u001b[39m, cycle)\n\u001b[0;32m    412\u001b[0m     \u001b[38;5;28;01mreturn\u001b[39;00m _default_pprint(obj, \u001b[38;5;28mself\u001b[39m, cycle)\n\u001b[0;32m    413\u001b[0m \u001b[38;5;28;01mfinally\u001b[39;00m:\n",
      "File \u001b[1;32mC:\\ProgramData\\anaconda3\\Lib\\site-packages\\IPython\\lib\\pretty.py:778\u001b[0m, in \u001b[0;36m_repr_pprint\u001b[1;34m(obj, p, cycle)\u001b[0m\n\u001b[0;32m    776\u001b[0m \u001b[38;5;250m\u001b[39m\u001b[38;5;124;03m\"\"\"A pprint that just redirects to the normal repr function.\"\"\"\u001b[39;00m\n\u001b[0;32m    777\u001b[0m \u001b[38;5;66;03m# Find newlines and replace them with p.break_()\u001b[39;00m\n\u001b[1;32m--> 778\u001b[0m output \u001b[38;5;241m=\u001b[39m \u001b[38;5;28mrepr\u001b[39m(obj)\n\u001b[0;32m    779\u001b[0m lines \u001b[38;5;241m=\u001b[39m output\u001b[38;5;241m.\u001b[39msplitlines()\n\u001b[0;32m    780\u001b[0m \u001b[38;5;28;01mwith\u001b[39;00m p\u001b[38;5;241m.\u001b[39mgroup():\n",
      "File \u001b[1;32mC:\\ProgramData\\anaconda3\\Lib\\site-packages\\sklearn\\base.py:257\u001b[0m, in \u001b[0;36mBaseEstimator.__repr__\u001b[1;34m(self, N_CHAR_MAX)\u001b[0m\n\u001b[0;32m    249\u001b[0m \u001b[38;5;66;03m# use ellipsis for sequences with a lot of elements\u001b[39;00m\n\u001b[0;32m    250\u001b[0m pp \u001b[38;5;241m=\u001b[39m _EstimatorPrettyPrinter(\n\u001b[0;32m    251\u001b[0m     compact\u001b[38;5;241m=\u001b[39m\u001b[38;5;28;01mTrue\u001b[39;00m,\n\u001b[0;32m    252\u001b[0m     indent\u001b[38;5;241m=\u001b[39m\u001b[38;5;241m1\u001b[39m,\n\u001b[0;32m    253\u001b[0m     indent_at_name\u001b[38;5;241m=\u001b[39m\u001b[38;5;28;01mTrue\u001b[39;00m,\n\u001b[0;32m    254\u001b[0m     n_max_elements_to_show\u001b[38;5;241m=\u001b[39mN_MAX_ELEMENTS_TO_SHOW,\n\u001b[0;32m    255\u001b[0m )\n\u001b[1;32m--> 257\u001b[0m repr_ \u001b[38;5;241m=\u001b[39m pp\u001b[38;5;241m.\u001b[39mpformat(\u001b[38;5;28mself\u001b[39m)\n\u001b[0;32m    259\u001b[0m \u001b[38;5;66;03m# Use bruteforce ellipsis when there are a lot of non-blank characters\u001b[39;00m\n\u001b[0;32m    260\u001b[0m n_nonblank \u001b[38;5;241m=\u001b[39m \u001b[38;5;28mlen\u001b[39m(\u001b[38;5;124m\"\u001b[39m\u001b[38;5;124m\"\u001b[39m\u001b[38;5;241m.\u001b[39mjoin(repr_\u001b[38;5;241m.\u001b[39msplit()))\n",
      "File \u001b[1;32mC:\\ProgramData\\anaconda3\\Lib\\pprint.py:158\u001b[0m, in \u001b[0;36mPrettyPrinter.pformat\u001b[1;34m(self, object)\u001b[0m\n\u001b[0;32m    156\u001b[0m \u001b[38;5;28;01mdef\u001b[39;00m \u001b[38;5;21mpformat\u001b[39m(\u001b[38;5;28mself\u001b[39m, \u001b[38;5;28mobject\u001b[39m):\n\u001b[0;32m    157\u001b[0m     sio \u001b[38;5;241m=\u001b[39m _StringIO()\n\u001b[1;32m--> 158\u001b[0m     \u001b[38;5;28mself\u001b[39m\u001b[38;5;241m.\u001b[39m_format(\u001b[38;5;28mobject\u001b[39m, sio, \u001b[38;5;241m0\u001b[39m, \u001b[38;5;241m0\u001b[39m, {}, \u001b[38;5;241m0\u001b[39m)\n\u001b[0;32m    159\u001b[0m     \u001b[38;5;28;01mreturn\u001b[39;00m sio\u001b[38;5;241m.\u001b[39mgetvalue()\n",
      "File \u001b[1;32mC:\\ProgramData\\anaconda3\\Lib\\pprint.py:175\u001b[0m, in \u001b[0;36mPrettyPrinter._format\u001b[1;34m(self, object, stream, indent, allowance, context, level)\u001b[0m\n\u001b[0;32m    173\u001b[0m     \u001b[38;5;28mself\u001b[39m\u001b[38;5;241m.\u001b[39m_readable \u001b[38;5;241m=\u001b[39m \u001b[38;5;28;01mFalse\u001b[39;00m\n\u001b[0;32m    174\u001b[0m     \u001b[38;5;28;01mreturn\u001b[39;00m\n\u001b[1;32m--> 175\u001b[0m rep \u001b[38;5;241m=\u001b[39m \u001b[38;5;28mself\u001b[39m\u001b[38;5;241m.\u001b[39m_repr(\u001b[38;5;28mobject\u001b[39m, context, level)\n\u001b[0;32m    176\u001b[0m max_width \u001b[38;5;241m=\u001b[39m \u001b[38;5;28mself\u001b[39m\u001b[38;5;241m.\u001b[39m_width \u001b[38;5;241m-\u001b[39m indent \u001b[38;5;241m-\u001b[39m allowance\n\u001b[0;32m    177\u001b[0m \u001b[38;5;28;01mif\u001b[39;00m \u001b[38;5;28mlen\u001b[39m(rep) \u001b[38;5;241m>\u001b[39m max_width:\n",
      "File \u001b[1;32mC:\\ProgramData\\anaconda3\\Lib\\pprint.py:455\u001b[0m, in \u001b[0;36mPrettyPrinter._repr\u001b[1;34m(self, object, context, level)\u001b[0m\n\u001b[0;32m    454\u001b[0m \u001b[38;5;28;01mdef\u001b[39;00m \u001b[38;5;21m_repr\u001b[39m(\u001b[38;5;28mself\u001b[39m, \u001b[38;5;28mobject\u001b[39m, context, level):\n\u001b[1;32m--> 455\u001b[0m     \u001b[38;5;28mrepr\u001b[39m, readable, recursive \u001b[38;5;241m=\u001b[39m \u001b[38;5;28mself\u001b[39m\u001b[38;5;241m.\u001b[39mformat(\u001b[38;5;28mobject\u001b[39m, context\u001b[38;5;241m.\u001b[39mcopy(),\n\u001b[0;32m    456\u001b[0m                                             \u001b[38;5;28mself\u001b[39m\u001b[38;5;241m.\u001b[39m_depth, level)\n\u001b[0;32m    457\u001b[0m     \u001b[38;5;28;01mif\u001b[39;00m \u001b[38;5;129;01mnot\u001b[39;00m readable:\n\u001b[0;32m    458\u001b[0m         \u001b[38;5;28mself\u001b[39m\u001b[38;5;241m.\u001b[39m_readable \u001b[38;5;241m=\u001b[39m \u001b[38;5;28;01mFalse\u001b[39;00m\n",
      "File \u001b[1;32mC:\\ProgramData\\anaconda3\\Lib\\site-packages\\sklearn\\utils\\_pprint.py:189\u001b[0m, in \u001b[0;36m_EstimatorPrettyPrinter.format\u001b[1;34m(self, object, context, maxlevels, level)\u001b[0m\n\u001b[0;32m    188\u001b[0m \u001b[38;5;28;01mdef\u001b[39;00m \u001b[38;5;21mformat\u001b[39m(\u001b[38;5;28mself\u001b[39m, \u001b[38;5;28mobject\u001b[39m, context, maxlevels, level):\n\u001b[1;32m--> 189\u001b[0m     \u001b[38;5;28;01mreturn\u001b[39;00m _safe_repr(\n\u001b[0;32m    190\u001b[0m         \u001b[38;5;28mobject\u001b[39m, context, maxlevels, level, changed_only\u001b[38;5;241m=\u001b[39m\u001b[38;5;28mself\u001b[39m\u001b[38;5;241m.\u001b[39m_changed_only\n\u001b[0;32m    191\u001b[0m     )\n",
      "File \u001b[1;32mC:\\ProgramData\\anaconda3\\Lib\\site-packages\\sklearn\\utils\\_pprint.py:440\u001b[0m, in \u001b[0;36m_safe_repr\u001b[1;34m(object, context, maxlevels, level, changed_only)\u001b[0m\n\u001b[0;32m    438\u001b[0m recursive \u001b[38;5;241m=\u001b[39m \u001b[38;5;28;01mFalse\u001b[39;00m\n\u001b[0;32m    439\u001b[0m \u001b[38;5;28;01mif\u001b[39;00m changed_only:\n\u001b[1;32m--> 440\u001b[0m     params \u001b[38;5;241m=\u001b[39m _changed_params(\u001b[38;5;28mobject\u001b[39m)\n\u001b[0;32m    441\u001b[0m \u001b[38;5;28;01melse\u001b[39;00m:\n\u001b[0;32m    442\u001b[0m     params \u001b[38;5;241m=\u001b[39m \u001b[38;5;28mobject\u001b[39m\u001b[38;5;241m.\u001b[39mget_params(deep\u001b[38;5;241m=\u001b[39m\u001b[38;5;28;01mFalse\u001b[39;00m)\n",
      "File \u001b[1;32mC:\\ProgramData\\anaconda3\\Lib\\site-packages\\sklearn\\utils\\_pprint.py:93\u001b[0m, in \u001b[0;36m_changed_params\u001b[1;34m(estimator)\u001b[0m\n\u001b[0;32m     89\u001b[0m \u001b[38;5;28;01mdef\u001b[39;00m \u001b[38;5;21m_changed_params\u001b[39m(estimator):\n\u001b[0;32m     90\u001b[0m \u001b[38;5;250m    \u001b[39m\u001b[38;5;124;03m\"\"\"Return dict (param_name: value) of parameters that were given to\u001b[39;00m\n\u001b[0;32m     91\u001b[0m \u001b[38;5;124;03m    estimator with non-default values.\"\"\"\u001b[39;00m\n\u001b[1;32m---> 93\u001b[0m     params \u001b[38;5;241m=\u001b[39m estimator\u001b[38;5;241m.\u001b[39mget_params(deep\u001b[38;5;241m=\u001b[39m\u001b[38;5;28;01mFalse\u001b[39;00m)\n\u001b[0;32m     94\u001b[0m     init_func \u001b[38;5;241m=\u001b[39m \u001b[38;5;28mgetattr\u001b[39m(estimator\u001b[38;5;241m.\u001b[39m\u001b[38;5;21m__init__\u001b[39m, \u001b[38;5;124m\"\u001b[39m\u001b[38;5;124mdeprecated_original\u001b[39m\u001b[38;5;124m\"\u001b[39m, estimator\u001b[38;5;241m.\u001b[39m\u001b[38;5;21m__init__\u001b[39m)\n\u001b[0;32m     95\u001b[0m     init_params \u001b[38;5;241m=\u001b[39m inspect\u001b[38;5;241m.\u001b[39msignature(init_func)\u001b[38;5;241m.\u001b[39mparameters\n",
      "File \u001b[1;32mC:\\ProgramData\\anaconda3\\Lib\\site-packages\\sklearn\\base.py:170\u001b[0m, in \u001b[0;36mBaseEstimator.get_params\u001b[1;34m(self, deep)\u001b[0m\n\u001b[0;32m    168\u001b[0m out \u001b[38;5;241m=\u001b[39m \u001b[38;5;28mdict\u001b[39m()\n\u001b[0;32m    169\u001b[0m \u001b[38;5;28;01mfor\u001b[39;00m key \u001b[38;5;129;01min\u001b[39;00m \u001b[38;5;28mself\u001b[39m\u001b[38;5;241m.\u001b[39m_get_param_names():\n\u001b[1;32m--> 170\u001b[0m     value \u001b[38;5;241m=\u001b[39m \u001b[38;5;28mgetattr\u001b[39m(\u001b[38;5;28mself\u001b[39m, key)\n\u001b[0;32m    171\u001b[0m     \u001b[38;5;28;01mif\u001b[39;00m deep \u001b[38;5;129;01mand\u001b[39;00m \u001b[38;5;28mhasattr\u001b[39m(value, \u001b[38;5;124m\"\u001b[39m\u001b[38;5;124mget_params\u001b[39m\u001b[38;5;124m\"\u001b[39m) \u001b[38;5;129;01mand\u001b[39;00m \u001b[38;5;129;01mnot\u001b[39;00m \u001b[38;5;28misinstance\u001b[39m(value, \u001b[38;5;28mtype\u001b[39m):\n\u001b[0;32m    172\u001b[0m         deep_items \u001b[38;5;241m=\u001b[39m value\u001b[38;5;241m.\u001b[39mget_params()\u001b[38;5;241m.\u001b[39mitems()\n",
      "\u001b[1;31mAttributeError\u001b[0m: 'TfidfVectorizer' object has no attribute 'norm'"
     ]
    },
    {
     "ename": "AttributeError",
     "evalue": "'TfidfVectorizer' object has no attribute 'norm'",
     "output_type": "error",
     "traceback": [
      "\u001b[1;31m---------------------------------------------------------------------------\u001b[0m",
      "\u001b[1;31mAttributeError\u001b[0m                            Traceback (most recent call last)",
      "File \u001b[1;32mC:\\ProgramData\\anaconda3\\Lib\\site-packages\\IPython\\core\\formatters.py:344\u001b[0m, in \u001b[0;36mBaseFormatter.__call__\u001b[1;34m(self, obj)\u001b[0m\n\u001b[0;32m    342\u001b[0m     method \u001b[38;5;241m=\u001b[39m get_real_method(obj, \u001b[38;5;28mself\u001b[39m\u001b[38;5;241m.\u001b[39mprint_method)\n\u001b[0;32m    343\u001b[0m     \u001b[38;5;28;01mif\u001b[39;00m method \u001b[38;5;129;01mis\u001b[39;00m \u001b[38;5;129;01mnot\u001b[39;00m \u001b[38;5;28;01mNone\u001b[39;00m:\n\u001b[1;32m--> 344\u001b[0m         \u001b[38;5;28;01mreturn\u001b[39;00m method()\n\u001b[0;32m    345\u001b[0m     \u001b[38;5;28;01mreturn\u001b[39;00m \u001b[38;5;28;01mNone\u001b[39;00m\n\u001b[0;32m    346\u001b[0m \u001b[38;5;28;01melse\u001b[39;00m:\n",
      "File \u001b[1;32mC:\\ProgramData\\anaconda3\\Lib\\site-packages\\sklearn\\base.py:627\u001b[0m, in \u001b[0;36mBaseEstimator._repr_html_inner\u001b[1;34m(self)\u001b[0m\n\u001b[0;32m    622\u001b[0m \u001b[38;5;28;01mdef\u001b[39;00m \u001b[38;5;21m_repr_html_inner\u001b[39m(\u001b[38;5;28mself\u001b[39m):\n\u001b[0;32m    623\u001b[0m \u001b[38;5;250m    \u001b[39m\u001b[38;5;124;03m\"\"\"This function is returned by the @property `_repr_html_` to make\u001b[39;00m\n\u001b[0;32m    624\u001b[0m \u001b[38;5;124;03m    `hasattr(estimator, \"_repr_html_\") return `True` or `False` depending\u001b[39;00m\n\u001b[0;32m    625\u001b[0m \u001b[38;5;124;03m    on `get_config()[\"display\"]`.\u001b[39;00m\n\u001b[0;32m    626\u001b[0m \u001b[38;5;124;03m    \"\"\"\u001b[39;00m\n\u001b[1;32m--> 627\u001b[0m     \u001b[38;5;28;01mreturn\u001b[39;00m estimator_html_repr(\u001b[38;5;28mself\u001b[39m)\n",
      "File \u001b[1;32mC:\\ProgramData\\anaconda3\\Lib\\site-packages\\sklearn\\utils\\_estimator_html_repr.py:393\u001b[0m, in \u001b[0;36mestimator_html_repr\u001b[1;34m(estimator)\u001b[0m\n\u001b[0;32m    391\u001b[0m style_template \u001b[38;5;241m=\u001b[39m Template(_STYLE)\n\u001b[0;32m    392\u001b[0m style_with_id \u001b[38;5;241m=\u001b[39m style_template\u001b[38;5;241m.\u001b[39msubstitute(\u001b[38;5;28mid\u001b[39m\u001b[38;5;241m=\u001b[39mcontainer_id)\n\u001b[1;32m--> 393\u001b[0m estimator_str \u001b[38;5;241m=\u001b[39m \u001b[38;5;28mstr\u001b[39m(estimator)\n\u001b[0;32m    395\u001b[0m \u001b[38;5;66;03m# The fallback message is shown by default and loading the CSS sets\u001b[39;00m\n\u001b[0;32m    396\u001b[0m \u001b[38;5;66;03m# div.sk-text-repr-fallback to display: none to hide the fallback message.\u001b[39;00m\n\u001b[0;32m    397\u001b[0m \u001b[38;5;66;03m#\u001b[39;00m\n\u001b[1;32m   (...)\u001b[0m\n\u001b[0;32m    402\u001b[0m \u001b[38;5;66;03m# The reverse logic applies to HTML repr div.sk-container.\u001b[39;00m\n\u001b[0;32m    403\u001b[0m \u001b[38;5;66;03m# div.sk-container is hidden by default and the loading the CSS displays it.\u001b[39;00m\n\u001b[0;32m    404\u001b[0m fallback_msg \u001b[38;5;241m=\u001b[39m (\n\u001b[0;32m    405\u001b[0m     \u001b[38;5;124m\"\u001b[39m\u001b[38;5;124mIn a Jupyter environment, please rerun this cell to show the HTML\u001b[39m\u001b[38;5;124m\"\u001b[39m\n\u001b[0;32m    406\u001b[0m     \u001b[38;5;124m\"\u001b[39m\u001b[38;5;124m representation or trust the notebook. <br />On GitHub, the\u001b[39m\u001b[38;5;124m\"\u001b[39m\n\u001b[0;32m    407\u001b[0m     \u001b[38;5;124m\"\u001b[39m\u001b[38;5;124m HTML representation is unable to render, please try loading this page\u001b[39m\u001b[38;5;124m\"\u001b[39m\n\u001b[0;32m    408\u001b[0m     \u001b[38;5;124m\"\u001b[39m\u001b[38;5;124m with nbviewer.org.\u001b[39m\u001b[38;5;124m\"\u001b[39m\n\u001b[0;32m    409\u001b[0m )\n",
      "File \u001b[1;32mC:\\ProgramData\\anaconda3\\Lib\\site-packages\\sklearn\\base.py:257\u001b[0m, in \u001b[0;36mBaseEstimator.__repr__\u001b[1;34m(self, N_CHAR_MAX)\u001b[0m\n\u001b[0;32m    249\u001b[0m \u001b[38;5;66;03m# use ellipsis for sequences with a lot of elements\u001b[39;00m\n\u001b[0;32m    250\u001b[0m pp \u001b[38;5;241m=\u001b[39m _EstimatorPrettyPrinter(\n\u001b[0;32m    251\u001b[0m     compact\u001b[38;5;241m=\u001b[39m\u001b[38;5;28;01mTrue\u001b[39;00m,\n\u001b[0;32m    252\u001b[0m     indent\u001b[38;5;241m=\u001b[39m\u001b[38;5;241m1\u001b[39m,\n\u001b[0;32m    253\u001b[0m     indent_at_name\u001b[38;5;241m=\u001b[39m\u001b[38;5;28;01mTrue\u001b[39;00m,\n\u001b[0;32m    254\u001b[0m     n_max_elements_to_show\u001b[38;5;241m=\u001b[39mN_MAX_ELEMENTS_TO_SHOW,\n\u001b[0;32m    255\u001b[0m )\n\u001b[1;32m--> 257\u001b[0m repr_ \u001b[38;5;241m=\u001b[39m pp\u001b[38;5;241m.\u001b[39mpformat(\u001b[38;5;28mself\u001b[39m)\n\u001b[0;32m    259\u001b[0m \u001b[38;5;66;03m# Use bruteforce ellipsis when there are a lot of non-blank characters\u001b[39;00m\n\u001b[0;32m    260\u001b[0m n_nonblank \u001b[38;5;241m=\u001b[39m \u001b[38;5;28mlen\u001b[39m(\u001b[38;5;124m\"\u001b[39m\u001b[38;5;124m\"\u001b[39m\u001b[38;5;241m.\u001b[39mjoin(repr_\u001b[38;5;241m.\u001b[39msplit()))\n",
      "File \u001b[1;32mC:\\ProgramData\\anaconda3\\Lib\\pprint.py:158\u001b[0m, in \u001b[0;36mPrettyPrinter.pformat\u001b[1;34m(self, object)\u001b[0m\n\u001b[0;32m    156\u001b[0m \u001b[38;5;28;01mdef\u001b[39;00m \u001b[38;5;21mpformat\u001b[39m(\u001b[38;5;28mself\u001b[39m, \u001b[38;5;28mobject\u001b[39m):\n\u001b[0;32m    157\u001b[0m     sio \u001b[38;5;241m=\u001b[39m _StringIO()\n\u001b[1;32m--> 158\u001b[0m     \u001b[38;5;28mself\u001b[39m\u001b[38;5;241m.\u001b[39m_format(\u001b[38;5;28mobject\u001b[39m, sio, \u001b[38;5;241m0\u001b[39m, \u001b[38;5;241m0\u001b[39m, {}, \u001b[38;5;241m0\u001b[39m)\n\u001b[0;32m    159\u001b[0m     \u001b[38;5;28;01mreturn\u001b[39;00m sio\u001b[38;5;241m.\u001b[39mgetvalue()\n",
      "File \u001b[1;32mC:\\ProgramData\\anaconda3\\Lib\\pprint.py:175\u001b[0m, in \u001b[0;36mPrettyPrinter._format\u001b[1;34m(self, object, stream, indent, allowance, context, level)\u001b[0m\n\u001b[0;32m    173\u001b[0m     \u001b[38;5;28mself\u001b[39m\u001b[38;5;241m.\u001b[39m_readable \u001b[38;5;241m=\u001b[39m \u001b[38;5;28;01mFalse\u001b[39;00m\n\u001b[0;32m    174\u001b[0m     \u001b[38;5;28;01mreturn\u001b[39;00m\n\u001b[1;32m--> 175\u001b[0m rep \u001b[38;5;241m=\u001b[39m \u001b[38;5;28mself\u001b[39m\u001b[38;5;241m.\u001b[39m_repr(\u001b[38;5;28mobject\u001b[39m, context, level)\n\u001b[0;32m    176\u001b[0m max_width \u001b[38;5;241m=\u001b[39m \u001b[38;5;28mself\u001b[39m\u001b[38;5;241m.\u001b[39m_width \u001b[38;5;241m-\u001b[39m indent \u001b[38;5;241m-\u001b[39m allowance\n\u001b[0;32m    177\u001b[0m \u001b[38;5;28;01mif\u001b[39;00m \u001b[38;5;28mlen\u001b[39m(rep) \u001b[38;5;241m>\u001b[39m max_width:\n",
      "File \u001b[1;32mC:\\ProgramData\\anaconda3\\Lib\\pprint.py:455\u001b[0m, in \u001b[0;36mPrettyPrinter._repr\u001b[1;34m(self, object, context, level)\u001b[0m\n\u001b[0;32m    454\u001b[0m \u001b[38;5;28;01mdef\u001b[39;00m \u001b[38;5;21m_repr\u001b[39m(\u001b[38;5;28mself\u001b[39m, \u001b[38;5;28mobject\u001b[39m, context, level):\n\u001b[1;32m--> 455\u001b[0m     \u001b[38;5;28mrepr\u001b[39m, readable, recursive \u001b[38;5;241m=\u001b[39m \u001b[38;5;28mself\u001b[39m\u001b[38;5;241m.\u001b[39mformat(\u001b[38;5;28mobject\u001b[39m, context\u001b[38;5;241m.\u001b[39mcopy(),\n\u001b[0;32m    456\u001b[0m                                             \u001b[38;5;28mself\u001b[39m\u001b[38;5;241m.\u001b[39m_depth, level)\n\u001b[0;32m    457\u001b[0m     \u001b[38;5;28;01mif\u001b[39;00m \u001b[38;5;129;01mnot\u001b[39;00m readable:\n\u001b[0;32m    458\u001b[0m         \u001b[38;5;28mself\u001b[39m\u001b[38;5;241m.\u001b[39m_readable \u001b[38;5;241m=\u001b[39m \u001b[38;5;28;01mFalse\u001b[39;00m\n",
      "File \u001b[1;32mC:\\ProgramData\\anaconda3\\Lib\\site-packages\\sklearn\\utils\\_pprint.py:189\u001b[0m, in \u001b[0;36m_EstimatorPrettyPrinter.format\u001b[1;34m(self, object, context, maxlevels, level)\u001b[0m\n\u001b[0;32m    188\u001b[0m \u001b[38;5;28;01mdef\u001b[39;00m \u001b[38;5;21mformat\u001b[39m(\u001b[38;5;28mself\u001b[39m, \u001b[38;5;28mobject\u001b[39m, context, maxlevels, level):\n\u001b[1;32m--> 189\u001b[0m     \u001b[38;5;28;01mreturn\u001b[39;00m _safe_repr(\n\u001b[0;32m    190\u001b[0m         \u001b[38;5;28mobject\u001b[39m, context, maxlevels, level, changed_only\u001b[38;5;241m=\u001b[39m\u001b[38;5;28mself\u001b[39m\u001b[38;5;241m.\u001b[39m_changed_only\n\u001b[0;32m    191\u001b[0m     )\n",
      "File \u001b[1;32mC:\\ProgramData\\anaconda3\\Lib\\site-packages\\sklearn\\utils\\_pprint.py:440\u001b[0m, in \u001b[0;36m_safe_repr\u001b[1;34m(object, context, maxlevels, level, changed_only)\u001b[0m\n\u001b[0;32m    438\u001b[0m recursive \u001b[38;5;241m=\u001b[39m \u001b[38;5;28;01mFalse\u001b[39;00m\n\u001b[0;32m    439\u001b[0m \u001b[38;5;28;01mif\u001b[39;00m changed_only:\n\u001b[1;32m--> 440\u001b[0m     params \u001b[38;5;241m=\u001b[39m _changed_params(\u001b[38;5;28mobject\u001b[39m)\n\u001b[0;32m    441\u001b[0m \u001b[38;5;28;01melse\u001b[39;00m:\n\u001b[0;32m    442\u001b[0m     params \u001b[38;5;241m=\u001b[39m \u001b[38;5;28mobject\u001b[39m\u001b[38;5;241m.\u001b[39mget_params(deep\u001b[38;5;241m=\u001b[39m\u001b[38;5;28;01mFalse\u001b[39;00m)\n",
      "File \u001b[1;32mC:\\ProgramData\\anaconda3\\Lib\\site-packages\\sklearn\\utils\\_pprint.py:93\u001b[0m, in \u001b[0;36m_changed_params\u001b[1;34m(estimator)\u001b[0m\n\u001b[0;32m     89\u001b[0m \u001b[38;5;28;01mdef\u001b[39;00m \u001b[38;5;21m_changed_params\u001b[39m(estimator):\n\u001b[0;32m     90\u001b[0m \u001b[38;5;250m    \u001b[39m\u001b[38;5;124;03m\"\"\"Return dict (param_name: value) of parameters that were given to\u001b[39;00m\n\u001b[0;32m     91\u001b[0m \u001b[38;5;124;03m    estimator with non-default values.\"\"\"\u001b[39;00m\n\u001b[1;32m---> 93\u001b[0m     params \u001b[38;5;241m=\u001b[39m estimator\u001b[38;5;241m.\u001b[39mget_params(deep\u001b[38;5;241m=\u001b[39m\u001b[38;5;28;01mFalse\u001b[39;00m)\n\u001b[0;32m     94\u001b[0m     init_func \u001b[38;5;241m=\u001b[39m \u001b[38;5;28mgetattr\u001b[39m(estimator\u001b[38;5;241m.\u001b[39m\u001b[38;5;21m__init__\u001b[39m, \u001b[38;5;124m\"\u001b[39m\u001b[38;5;124mdeprecated_original\u001b[39m\u001b[38;5;124m\"\u001b[39m, estimator\u001b[38;5;241m.\u001b[39m\u001b[38;5;21m__init__\u001b[39m)\n\u001b[0;32m     95\u001b[0m     init_params \u001b[38;5;241m=\u001b[39m inspect\u001b[38;5;241m.\u001b[39msignature(init_func)\u001b[38;5;241m.\u001b[39mparameters\n",
      "File \u001b[1;32mC:\\ProgramData\\anaconda3\\Lib\\site-packages\\sklearn\\base.py:170\u001b[0m, in \u001b[0;36mBaseEstimator.get_params\u001b[1;34m(self, deep)\u001b[0m\n\u001b[0;32m    168\u001b[0m out \u001b[38;5;241m=\u001b[39m \u001b[38;5;28mdict\u001b[39m()\n\u001b[0;32m    169\u001b[0m \u001b[38;5;28;01mfor\u001b[39;00m key \u001b[38;5;129;01min\u001b[39;00m \u001b[38;5;28mself\u001b[39m\u001b[38;5;241m.\u001b[39m_get_param_names():\n\u001b[1;32m--> 170\u001b[0m     value \u001b[38;5;241m=\u001b[39m \u001b[38;5;28mgetattr\u001b[39m(\u001b[38;5;28mself\u001b[39m, key)\n\u001b[0;32m    171\u001b[0m     \u001b[38;5;28;01mif\u001b[39;00m deep \u001b[38;5;129;01mand\u001b[39;00m \u001b[38;5;28mhasattr\u001b[39m(value, \u001b[38;5;124m\"\u001b[39m\u001b[38;5;124mget_params\u001b[39m\u001b[38;5;124m\"\u001b[39m) \u001b[38;5;129;01mand\u001b[39;00m \u001b[38;5;129;01mnot\u001b[39;00m \u001b[38;5;28misinstance\u001b[39m(value, \u001b[38;5;28mtype\u001b[39m):\n\u001b[0;32m    172\u001b[0m         deep_items \u001b[38;5;241m=\u001b[39m value\u001b[38;5;241m.\u001b[39mget_params()\u001b[38;5;241m.\u001b[39mitems()\n",
      "\u001b[1;31mAttributeError\u001b[0m: 'TfidfVectorizer' object has no attribute 'norm'"
     ]
    }
   ],
   "source": [
    "tfidf"
   ]
  },
  {
   "cell_type": "code",
   "execution_count": 1,
   "id": "bc70d3b8-4a9b-44f1-9a37-2c684bedbfb0",
   "metadata": {},
   "outputs": [],
   "source": [
    "def nj_clean(text):\n",
    "    print(\"inside nj_clean\")\n",
    "    target_words = set(['summary','sheet','remove','recording','info','cover','sheet','official','please','detach'])\n",
    "    stop = set(stopwords.words('english'))\n",
    "    pages = re.split(r\"-{5,}\", text)\n",
    "    page_len = len(pages)\n",
    "    to_process = []\n",
    "    if page_len<=2:\n",
    "        to_process = pages[:]\n",
    "    else:\n",
    "        to_process.append(pages[0])\n",
    "        cover_page = [len(set(p.lower().split()).intersection(target_words))>2 for p in pages[1:]]\n",
    "        for is_cover,p in zip(cover_page,pages[1:]):\n",
    "            if not is_cover:\n",
    "                to_process.append(p)\n",
    "                break\n",
    "    to_process = \" \".join(to_process)\n",
    "    word_net = WordNetLemmatizer()\n",
    "    tokens = word_tokenize(to_process)\n",
    "    lower = [word.lower() for word in tokens if (word.lower() not in stop)]# and word.isalpha() and word[0].isupper()]\n",
    "    # stop_words_no = [word for word in lower if word not in stop]\n",
    "    # non_alpha = [word for word in stop_words_no if word.isalpha()]\n",
    "    lemma_text = [word_net.lemmatize(word) for word in lower]\n",
    "    return \" \".join(lemma_text)\n"
   ]
  },
  {
   "cell_type": "code",
   "execution_count": 2,
   "id": "f7a3145d-24da-49d3-bebd-cf4aa5c7d3c2",
   "metadata": {},
   "outputs": [],
   "source": [
    "import joblib\n",
    "from nltk.corpus import stopwords\n",
    "from nltk import WordNetLemmatizer,word_tokenize\n",
    "from sklearn.model_selection import train_test_split\n",
    "from sklearn.feature_extraction.text import CountVectorizer,TfidfTransformer,TfidfVectorizer"
   ]
  },
  {
   "cell_type": "code",
   "execution_count": 5,
   "id": "21daa5c6-d14b-4c53-bae3-3e318506b69f",
   "metadata": {},
   "outputs": [
    {
     "name": "stderr",
     "output_type": "stream",
     "text": [
      "[nltk_data] Downloading package punkt to\n",
      "[nltk_data]     C:\\Users\\surakumar\\AppData\\Roaming\\nltk_data...\n",
      "[nltk_data]   Package punkt is already up-to-date!\n",
      "[nltk_data] Downloading package wordnet to\n",
      "[nltk_data]     C:\\Users\\surakumar\\AppData\\Roaming\\nltk_data...\n",
      "[nltk_data]   Package wordnet is already up-to-date!\n",
      "[nltk_data] Downloading package stopwords to\n",
      "[nltk_data]     C:\\Users\\surakumar\\AppData\\Roaming\\nltk_data...\n",
      "[nltk_data]   Package stopwords is already up-to-date!\n",
      "[nltk_data] Downloading package omw-1.4 to\n",
      "[nltk_data]     C:\\Users\\surakumar\\AppData\\Roaming\\nltk_data...\n",
      "[nltk_data]   Package omw-1.4 is already up-to-date!\n"
     ]
    }
   ],
   "source": [
    "import time\n",
    "import os\n",
    "import sys\n",
    "import re\n",
    "import numpy as np\n",
    "import pandas as pd\n",
    "import pickle\n",
    "import nltk\n",
    "nltk.download('punkt')\n",
    "nltk.download('wordnet')\n",
    "nltk.download('stopwords')\n",
    "from nltk.corpus import stopwords\n",
    "from nltk import WordNetLemmatizer,word_tokenize\n",
    "\n",
    "from sklearn.model_selection import train_test_split\n",
    "\n",
    "from sklearn.feature_extraction.text import CountVectorizer\n",
    "from sklearn.feature_extraction.text import TfidfTransformer\n",
    "from sklearn.feature_extraction.text import TfidfVectorizer\n",
    "\n",
    "from sklearn.ensemble import RandomForestClassifier\n",
    "\n",
    "from sklearn.metrics import accuracy_score, precision_score, recall_score\n",
    "\n",
    "import matplotlib.pyplot as plt\n",
    "\n",
    "import joblib\n",
    "##from _pickle import dump, load, HIGHEST_PROTOCOL\n",
    "stop = set(stopwords.words('english'))\n",
    "nltk.download('omw-1.4')\n",
    "\n",
    "word_net = WordNetLemmatizer()\n",
    "def clean(text):\n",
    "    # word_net = WordNetLemmatizer()\n",
    "    tokens = word_tokenize(text)\n",
    "    lower = [word.lower() for word in tokens if len(word)>2 and (word.lower() not in stop)]# and word.isalpha() and word[0].isupper()]\n",
    "    # stop_words_no = [word for word in lower if word not in stop]\n",
    "    # non_alpha = [word for word in stop_words_no if word.isalpha()]\n",
    "    lemma_text = [word_net.lemmatize(word) for word in lower]\n",
    "    return \" \".join(lemma_text)\n",
    "    # return \" \".join(lower)"
   ]
  },
  {
   "cell_type": "code",
   "execution_count": 1,
   "id": "7fc992b8-dbf8-4f4e-97f6-91910f1c7a5b",
   "metadata": {},
   "outputs": [],
   "source": [
    "import shutil"
   ]
  },
  {
   "cell_type": "code",
   "execution_count": 3,
   "id": "a3edf874",
   "metadata": {},
   "outputs": [
    {
     "name": "stdout",
     "output_type": "stream",
     "text": [
      "CPU times: total: 46.9 ms\n",
      "Wall time: 19.7 ms\n"
     ]
    },
    {
     "data": {
      "text/plain": [
       "'C:\\\\Users\\\\surakumar\\\\OneDrive - CoreLogic Solutions, LLC\\\\Downloads\\\\pythonCode\\\\PA SOMERSET 2024-07-02-8544768.zip'"
      ]
     },
     "execution_count": 3,
     "metadata": {},
     "output_type": "execute_result"
    }
   ],
   "source": [
    "%%time\n",
    "shutil.make_archive(\n",
    "    r\"C:\\Users\\surakumar\\OneDrive - CoreLogic Solutions, LLC\\Downloads\\pythonCode\\PA SOMERSET 2024-07-02-8544768\",\n",
    "    \"zip\",\n",
    "    r\"C:\\Users\\surakumar\\OneDrive - CoreLogic Solutions, LLC\\Downloads\\pythonCode\\PA SOMERSET 2024-07-02-8544768\",\n",
    ")\n"
   ]
  },
  {
   "cell_type": "code",
   "execution_count": 5,
   "id": "4ce49481-8a6e-4930-9af9-1aa8fec705ff",
   "metadata": {},
   "outputs": [
    {
     "name": "stdout",
     "output_type": "stream",
     "text": [
      "CPU times: total: 33.5 s\n",
      "Wall time: 1min 23s\n"
     ]
    },
    {
     "data": {
      "text/plain": [
       "'C:\\\\Users\\\\surakumar\\\\OneDrive - CoreLogic Solutions, LLC\\\\Downloads\\\\nj_data.zip'"
      ]
     },
     "execution_count": 5,
     "metadata": {},
     "output_type": "execute_result"
    }
   ],
   "source": [
    "%%time\n",
    "shutil.make_archive(r'C:\\Users\\surakumar\\OneDrive - CoreLogic Solutions, LLC\\Downloads\\nj_data','zip',r'C:\\Users\\surakumar\\OneDrive - CoreLogic Solutions, LLC\\Downloads\\nj_data')"
   ]
  },
  {
   "cell_type": "code",
   "execution_count": 6,
   "id": "85c68aec-8271-4832-820b-1721df14fdb6",
   "metadata": {},
   "outputs": [],
   "source": [
    "empty = [52134734,\n",
    " 52069192,\n",
    " 52786593,\n",
    " 52138371,\n",
    " 52135132,\n",
    " 52137878,\n",
    " 52080246,\n",
    " 52079075,\n",
    " 52079971,\n",
    " 52040000,\n",
    " 51903152,\n",
    " 52138347,\n",
    " 52138346,\n",
    " 52138350,\n",
    " 52138349,\n",
    " 52138348,\n",
    " 52138345,\n",
    " 52070017,\n",
    " 52070016,\n",
    " 52070022,\n",
    " 52070019,\n",
    " 52070018,\n",
    " 52070021,\n",
    " 52070020,\n",
    " 52786571,\n",
    " 52138340,\n",
    " 52138339,\n",
    " 52136530,\n",
    " 52000098,\n",
    " 52134982,\n",
    " 52136679,\n",
    " 52128567,\n",
    " 52136284,\n",
    " 52135662,\n",
    " 52135594,\n",
    " 52134998,\n",
    " 52138369,\n",
    " 52069322,\n",
    " 52137376,\n",
    " 52069059,\n",
    " 52137134,\n",
    " 52034830,\n",
    " 51999779,\n",
    " 51902599,\n",
    " 51469726,\n",
    " 53511288,\n",
    " 53817893,\n",
    " 52080249,\n",
    " 52136535,\n",
    " 52135777,\n",
    " 52136815,\n",
    " 52035216,\n",
    " 51593327,\n",
    " 52134874,\n",
    " 52137555,\n",
    " 52078488,\n",
    " 51903278,\n",
    " 52135760,\n",
    " 52135758,\n",
    " 52138603,\n",
    " 52137508,\n",
    " 52035037,\n",
    " 52136152,\n",
    " 52136581,\n",
    " 52136450,\n",
    " 52138402,\n",
    " 52128787,\n",
    " 52135469,\n",
    " 52137818,\n",
    " 52137031,\n",
    " 52136246,\n",
    " 52134733,\n",
    " 52136821,\n",
    " 52040165,\n",
    " 52040161,\n",
    " 52134766,\n",
    " 52080161,\n",
    " 51619397,\n",
    " 51619399,\n",
    " 52138698,\n",
    " 52069110,\n",
    " 52034714,\n",
    " 52034713,\n",
    " 52034712,\n",
    " 52034685,\n",
    " 51932929,\n",
    " 52138373,\n",
    " 52136153,\n",
    " 52135271,\n",
    " 52135269,\n",
    " 52079877,\n",
    " 52137879,\n",
    " 51280664,\n",
    " 52135714,\n",
    " 52080240,\n",
    " 52039994,\n",
    " 52034686,\n",
    " 52135756,\n",
    " 52135606,\n",
    " 52138297,\n",
    " 52080476,\n",
    " 51469866,\n",
    " 52080369,\n",
    " 52128641,\n",
    " 52040403,\n",
    " 52138121,\n",
    " 52786690,\n",
    " 52136678,\n",
    " 52136674,\n",
    " 52136646,\n",
    " 52136586,\n",
    " 52136244,\n",
    " 52136990,\n",
    " 52136905,\n",
    " 51902600,\n",
    " 52128394,\n",
    " 52128642,\n",
    " 52128640,\n",
    " 51561119,\n",
    " 52137870,\n",
    " 52137868,\n",
    " 51932932,\n",
    " 52040518,\n",
    " 51560844,\n",
    " 50836323,\n",
    " 52137375,\n",
    " 51999780,\n",
    " 51999781]"
   ]
  },
  {
   "cell_type": "code",
   "execution_count": 14,
   "id": "139e1658-40a6-43ca-80c9-6efb43705ddb",
   "metadata": {},
   "outputs": [],
   "source": [
    "empty = [54541500,\n",
    " 52134734,\n",
    " 52069192,\n",
    " 52786593,\n",
    " 52138371,\n",
    " 52135132,\n",
    " 52137878,\n",
    " 52080246,\n",
    " 52079075,\n",
    " 52079971,\n",
    " 52040000,\n",
    " 51903152,\n",
    " 52138347,\n",
    " 52138346,\n",
    " 52138350,\n",
    " 52138349,\n",
    " 52138348,\n",
    " 52138345,\n",
    " 52070017,\n",
    " 52070016,\n",
    " 52070022,\n",
    " 52070019,\n",
    " 52070018,\n",
    " 52070021,\n",
    " 52070020,\n",
    " 52786571,\n",
    " 52138340,\n",
    " 52138339,\n",
    " 52136530,\n",
    " 52000102,\n",
    " 52000098,\n",
    " 51903452,\n",
    " 52134982,\n",
    " 52136679,\n",
    " 52128567,\n",
    " 54541658,\n",
    " 53614023,\n",
    " 53614022,\n",
    " 53648808,\n",
    " 53648807,\n",
    " 52136284,\n",
    " 52135662,\n",
    " 52135594,\n",
    " 52135002,\n",
    " 52134998,\n",
    " 52138369,\n",
    " 52069325,\n",
    " 52069322,\n",
    " 52137376,\n",
    " 52069059,\n",
    " 52137134,\n",
    " 52034830,\n",
    " 51999779,\n",
    " 51902599,\n",
    " 51469726,\n",
    " 53511288,\n",
    " 53817893,\n",
    " 54335646,\n",
    " 52138406,\n",
    " 52080249,\n",
    " 52136535,\n",
    " 52135777,\n",
    " 52136815,\n",
    " 52035216,\n",
    " 51593327,\n",
    " 52134874,\n",
    " 52137555,\n",
    " 52078488,\n",
    " 51903278,\n",
    " 52135760,\n",
    " 52135758,\n",
    " 52138603,\n",
    " 52137508,\n",
    " 52035037,\n",
    " 52136152,\n",
    " 52136581,\n",
    " 52136450,\n",
    " 52138402,\n",
    " 52128787,\n",
    " 52135469,\n",
    " 52137818,\n",
    " 52137031,\n",
    " 52136649,\n",
    " 52136246,\n",
    " 52134733,\n",
    " 52136821,\n",
    " 52040165,\n",
    " 52040161,\n",
    " 52134766,\n",
    " 52080161,\n",
    " 51619397,\n",
    " 51619399,\n",
    " 52138698,\n",
    " 52069110,\n",
    " 52137812,\n",
    " 52034715,\n",
    " 52034714,\n",
    " 52034713,\n",
    " 52034712,\n",
    " 52034685,\n",
    " 51932929,\n",
    " 52138373,\n",
    " 52136153,\n",
    " 52135271,\n",
    " 52135269,\n",
    " 52079877,\n",
    " 52137879,\n",
    " 51280664,\n",
    " 52135714,\n",
    " 52080240,\n",
    " 52039994,\n",
    " 52034686,\n",
    " 52135756,\n",
    " 52135606,\n",
    " 52138297,\n",
    " 52080476,\n",
    " 51469866,\n",
    " 52080369,\n",
    " 46314995,\n",
    " 52128641,\n",
    " 52040403,\n",
    " 51359669,\n",
    " 52138121,\n",
    " 52786690,\n",
    " 52136678,\n",
    " 52136674,\n",
    " 52136646,\n",
    " 52136618,\n",
    " 52136586,\n",
    " 52136244,\n",
    " 52136990,\n",
    " 52136905,\n",
    " 51902600,\n",
    " 52128394,\n",
    " 52128642,\n",
    " 52128640,\n",
    " 51561119,\n",
    " 50775173,\n",
    " 52462591,\n",
    " 52137870,\n",
    " 52137868,\n",
    " 51932932,\n",
    " 52040518,\n",
    " 51560844,\n",
    " 50836323,\n",
    " 52137375,\n",
    " 51999780,\n",
    " 51999781]"
   ]
  },
  {
   "cell_type": "code",
   "execution_count": 15,
   "id": "dcbf2bd6-cfc4-49dc-a5c1-bb9042335a48",
   "metadata": {},
   "outputs": [],
   "source": [
    "from pathlib import Path\n",
    "p = Path(r\"C:\\Users\\surakumar\\OneDrive - CoreLogic Solutions, LLC\\Downloads\\nj_data\")"
   ]
  },
  {
   "cell_type": "code",
   "execution_count": 22,
   "id": "f377d11a-1499-4c1f-abf6-15c67e63bf34",
   "metadata": {},
   "outputs": [],
   "source": [
    "from collections import defaultdict\n",
    "ocrs = defaultdict(list)"
   ]
  },
  {
   "cell_type": "code",
   "execution_count": 25,
   "id": "cce74499-a75a-427b-9824-9d7e30a5e011",
   "metadata": {},
   "outputs": [],
   "source": [
    "for e in empty:\n",
    "    file = f\"{e}_OCR.txt\"\n",
    "    if (p/file).is_file():\n",
    "        with open(p/file,'r',encoding='utf-8') as f:\n",
    "            ocr = f.read()\n",
    "            ocrs[e].append(ocr)\n",
    "            # ocrs.append(ocr)"
   ]
  },
  {
   "cell_type": "code",
   "execution_count": 26,
   "id": "26310341-405e-4326-b348-8947883b9d13",
   "metadata": {},
   "outputs": [
    {
     "data": {
      "text/plain": [
       "defaultdict(list,\n",
       "            {54541500: [\"COUNTY\\nMERCE OF THE\\nPASSAIC\\nCOUNTY CL\\nInst. # 2024014674\\n-\\nPage 1 of 3\\nPassaic County Document Summary Sheet\\nTransaction Identification Number\\n7137103\\n8719664\\nPASSAIC COUNTY CLERK\\n401 GRAND STREET\\nROOM 113\\nPATERSON NJ 07505\\nOfficial Use Only\\nDANIELLE IRELAND-IMHOF\\nCLERK\\nPASSAIC COUNTY\\nNew Jersey\\nINSTRUMENT NUMBER\\n2024014674\\nFILED ON May 07, 2024 12:12:04 PM\\nFILE NUMBER\\n111031\\nTotal Pages: 3\\nReturn Address (for recorded documents)\\nHAVEN SAVINGS BANK\\n80 E STATE RT 4 STE 350\\nPARAMUS NJ 07652\\nSubmission Date (mm/dd/yyyy)\\nNo. of Pages (excluding Summary Sheet) Recording Fee (excluding transfer tax)\\nRealty Transfer Tax\\nTotal Amount Document Type\\nFINANCING STATEMENT\\nElectronic Recordation Level\\nMunicipal Codes\\nWAYNE TOWNSHIP\\nL2 Level 2 (With Images)\\n-\\nNOT CERTENED COP\\n$25.00\\nRECORDING FEES\\nRECORDER OF DEEDS\\nTOTAL PAID\\nINV: 1591140 USER: ML\\n$25.00\\nAdditional Information (Official Use Only)\\nA6EC56\\n* DO NOT REMOVE THIS PAGE.\\nCOVER SHEET [DOCUMENT SUMMARY FORM] IS PART OF PASSAIC COUNTY FILING RECORD.\\nRETAIN THIS PAGE FOR FUTURE REFERENCE.\\nDCFE6D9A-81E4-3AFB-AFE1-0C94C179BCDC/7137103 8719664\\n14\\n05/07/2024\\nPage 1 of 2\\n1\\n$25.00\\n$0.00\\n$25.00\\n\\n---------------------------------------------\\nFINANCING STATEMENT\\nCOUNTY\\nICE OF THE\\nPASSAIC\\nInst. # 2024014674\\n-\\nPage 2 of 3\\nPassaic County Document Summary Sheet\\nFINANCING STATEMENT\\nParcel Info\\nHAVEN SAVINGS BANK\\nMOUNTAINVIEW CAPITAL LLC\\nConsideration\\nSubmitted By\\nSIMPLIFILE, LLC. (SIMPLIFILE)\\nDocument Date\\n05/07/2024\\nReference Info\\nBook ID\\nBook\\nBeginning Page\\nInstrument No.\\nNOT CERTINED COP\\nTax Dist.\\nBlock\\nLot\\nQualifier\\nMunicipality\\nAddress\\nName\\nAddress\\nRecorded/File Date\\nType\\n* DO NOT REMOVE THIS PAGE.\\nCOVER SHEET [DOCUMENT SUMMARY FORM] IS PART OF PASSAIC COUNTY FILING RECORD.\\nRETAIN THIS PAGE FOR FUTURE REFERENCE.\\nDCFE6D9A-81E4-3AFB-AFE1-0C94C179BCDC/7137103 8719664\\nPage 2 of 2\\n\\n---------------------------------------------\\nInst. # 2024014674\\nPage 3 of 3\\nDANIELLE IRELAND-IMHOF\\nCLERK\\nPASSAIC COUNTY\\nNew Jersey\\n9. NAME OF SECURED PARTY OF RECORD AUTHORIZING THIS AMENDMENT (name of assignor, if this is an Assignment). If this is an Amendment authorized by a Debtor which adds collateral or adds the authorizing Debtor, or if this is a Termination authorized by a Debtor, check here\\nOR\\n9a. ORGANIZATION'S NAME\\nHaven Savings Bank 621 Washington Street, Hoboken, NJ 07030\\n9b. INDIVIDUAL'S LAST NAME\\nFIRST NAME\\nand enter name of DEBTOR authorizing this Amendment.\\nMIDDLE NAME\\nSUFFIX\\n8. AMENDMENT (COLLATERAL CHANGE): check only one box.\\nDescribe collateral ☐ deleted or ☐ added, or give entire\\n7c. MAILING ADDRESS\\nCITY\\nOR\\n7b. INDIVIDUAL'S LAST NAME\\n7. CHANGED (NEW) OR ADDED INFORMATION:\\n7a. ORGANIZATION'S NAME\\nUCC FINANCING STATEMENT AMENDMENT\\nFOLLOW INSTRUCTIONS (front and back) CAREFULLY A. NAME & PHONE OF CONTACT AT FILER [optional]\\nHelen Hughes\\n201-291-2500 x-105\\nB. SEND ACKNOWLEDGMENT TO: (Name and Address)\\nHaven Savings Bank\\nCommercial Lending Department 80 Route 4 East, Suite 350 Paramus, NJ 07652\\nNOT CERTIFIED COPY\\nrestated collateral description, or describe collateral\\nassigned.\\n7d. SEE INSTRUCTIONS\\nADD'L INFO RE 7e. TYPE OF ORGANIZATION ORGANIZATION DEBTOR\\n7f. JURISDICTION OF ORGANIZATION\\n7g. ORGANIZATIONAL ID #, if any\\nNONE\\nSTATE POSTAL CODE\\nCOUNTRY\\nNAME\\nMIDDLE NAME\\nSUFFIX\\n1a. INITIAL FINANCING STATEMENT FILE #\\n2.\\n3.\\n4.\\nInst. # 2019022814 File # 101081 Filed 05/29/2019\\nTHE ABOVE SPACE IS FOR FILING OFFICE USE ONLY This FINANCING STATEMENT AMENDMENT is to be filed [for record] (or recorded) in the REAL ESTATE RECORDS. TERMINATION: Effectiveness of the Financing Statement identified above is terminated with respect to security interest(s) of the Secured Party authorizing this Termination Statement. CONTINUATION: Effectiveness of the Financing Statement identified above with respect to security interest(s) of the Secured Party authorizing this Continuation Statement is continued for the additional period provided by applicable law.\\nASSIGNMENT (full or partial): Give name of assignee in item 7a or 7b and address of assignee in item 7c; and also give name of assignor in item 9.\\n5. AMENDMENT (PARTY INFORMATION): This Amendment affects\\nDebtor or\\nSecured Party\\nAlso check one of the following three boxes and provide appropriate information in items 6 and/or 7.\\nCHANGE name and/or address: Please refer to the detailed instructions\\nin regards to changing the name/address of a party.\\n6. CURRENT RECORD INFORMATION:\\nOR\\n6a. ORGANIZATION'S NAME\\nMountainview Capital, LLC\\n6b. INDIVIDUAL'S LAST NAME\\nd. Check only one of these two boxes.\\nDELETE name: Give record name to be deleted in item 6a or 6b.\\nADD name: Complete item 7a or 7b, and also item 7c; also complete items 7e-7g (if applicable).\\nMIDDLE NAME\\nSUFFIX\\nRECORDING FEES\\nRECORDER OF DEEDS TOTAL PAID\\nINV: 1591140 USER:\\nINSTRUMENT NUMBER\\n2024014674\\nFILED ON May 07, 2024 12:12:04 PM\\nFILE NUMBER\\n111031\\nTotal Pages: 3\\n$25.00\\n10.OPTIONAL FILER REFERENCE DATA\\nPassaic County Filing\\nMountainview Capital, LLC - HSB Loan # 3500025916 Filed 05/29/2019\\nFILING OFFICE COPY\\n_\\nUCC FINANCING STATEMENT AMENDMENT (FORM UCC3) (REV. 05/22/02)\\n\"],\n",
       "             52134734: ['\\n---------------------------------------------\\n\\n---------------------------------------------\\n\\n---------------------------------------------\\n\\n---------------------------------------------\\n\\n---------------------------------------------\\n\\n---------------------------------------------\\n'],\n",
       "             52069192: ['\\n---------------------------------------------\\n\\n---------------------------------------------\\n\\n---------------------------------------------\\n\\n---------------------------------------------\\n\\n---------------------------------------------\\n\\n---------------------------------------------\\n\\n---------------------------------------------\\n'],\n",
       "             52786593: ['\\n---------------------------------------------\\n\\n---------------------------------------------\\n\\n---------------------------------------------\\n\\n---------------------------------------------\\n\\n---------------------------------------------\\n\\n---------------------------------------------\\n\\n---------------------------------------------\\n\\n---------------------------------------------\\n\\n---------------------------------------------\\n\\n---------------------------------------------\\n\\n---------------------------------------------\\n'],\n",
       "             52138371: ['\\n---------------------------------------------\\n\\n---------------------------------------------\\n\\n---------------------------------------------\\n\\n---------------------------------------------\\n\\n---------------------------------------------\\n\\n---------------------------------------------\\n\\n---------------------------------------------\\n\\n---------------------------------------------\\n\\n---------------------------------------------\\n\\n---------------------------------------------\\n'],\n",
       "             52135132: ['\\n---------------------------------------------\\n\\n---------------------------------------------\\n\\n---------------------------------------------\\n\\n---------------------------------------------\\n'],\n",
       "             52137878: ['\\n---------------------------------------------\\n\\n---------------------------------------------\\n\\n---------------------------------------------\\n\\n---------------------------------------------\\n\\n---------------------------------------------\\n\\n---------------------------------------------\\n\\n---------------------------------------------\\n\\n---------------------------------------------\\n'],\n",
       "             52080246: ['\\n---------------------------------------------\\n\\n---------------------------------------------\\n\\n---------------------------------------------\\n\\n---------------------------------------------\\n\\n---------------------------------------------\\n\\n---------------------------------------------\\n\\n---------------------------------------------\\n\\n---------------------------------------------\\n\\n---------------------------------------------\\n'],\n",
       "             52079075: ['\\n---------------------------------------------\\n\\n---------------------------------------------\\n\\n---------------------------------------------\\n\\n---------------------------------------------\\n\\n---------------------------------------------\\n\\n---------------------------------------------\\n\\n---------------------------------------------\\n\\n---------------------------------------------\\n\\n---------------------------------------------\\n\\n---------------------------------------------\\n\\n---------------------------------------------\\n'],\n",
       "             52079971: ['\\n---------------------------------------------\\n\\n---------------------------------------------\\n\\n---------------------------------------------\\n\\n---------------------------------------------\\n\\n---------------------------------------------\\n\\n---------------------------------------------\\n\\n---------------------------------------------\\n'],\n",
       "             52040000: ['\\n---------------------------------------------\\n\\n---------------------------------------------\\n\\n---------------------------------------------\\n\\n---------------------------------------------\\n\\n---------------------------------------------\\n\\n---------------------------------------------\\n\\n---------------------------------------------\\n\\n---------------------------------------------\\n'],\n",
       "             51903152: ['\\n---------------------------------------------\\n\\n---------------------------------------------\\n\\n---------------------------------------------\\n\\n---------------------------------------------\\n\\n---------------------------------------------\\n\\n---------------------------------------------\\n\\n---------------------------------------------\\n\\n---------------------------------------------\\n\\n---------------------------------------------\\n\\n---------------------------------------------\\n'],\n",
       "             52138347: ['\\n---------------------------------------------\\n'],\n",
       "             52138346: ['\\n---------------------------------------------\\n'],\n",
       "             52138350: ['\\n---------------------------------------------\\n'],\n",
       "             52138349: ['\\n---------------------------------------------\\n'],\n",
       "             52138348: ['\\n---------------------------------------------\\n'],\n",
       "             52138345: ['\\n---------------------------------------------\\n'],\n",
       "             52070017: [''],\n",
       "             52070016: [''],\n",
       "             52070022: [''],\n",
       "             52070019: [''],\n",
       "             52070018: [''],\n",
       "             52070021: [''],\n",
       "             52070020: [''],\n",
       "             52786571: ['\\n---------------------------------------------\\n'],\n",
       "             52138340: ['\\n---------------------------------------------\\n'],\n",
       "             52138339: ['\\n---------------------------------------------\\n'],\n",
       "             52136530: ['\\n---------------------------------------------\\n\\n---------------------------------------------\\n'],\n",
       "             52000102: ['\\n---------------------------------------------\\nCertificate for Redemption\\nof Certificate of Sale\\nKNOW ALL MEN BY THESE PRESENTS, that, whereas, lands in the taxing district of Egg Harbor Township, Atlantic County were sold on 12/18/2013 to Garden State Investment in the amount of $97.57 for taxes and/or other municipal liens assessed for the year 2013 in the name of Redding, John C. & Leann J. supposed owner, and the lands in said assessment and sale were described as Block 7502 Lot 41, 306 Zion Road which sale was evidenced by certificate #13-01063 dated 12/18/2013 and recorded in the Office of the Clerk of said County, 03/14/2014, Vol. 13730, Instrument #2014015913.\\nTHEREFORE, I, the undersigned Collector of Taxes of said taxing district of Egg Harbor Township, do certify that on 02/09/2015 and before the right to redeem was cut off, as provided by law, Lereta/Greentree claiming to have an interest in said lands, did redeem the said lands claimed by Garden State Investment and the last above mentioned, by paying to the Collector of Taxes of said taxing district of Egg Harbor Township $506.89 the amount required by law for redemption.\\nIN WITNESS WHEREOF, I have here unto set my hand and seal on 1/26/2024.\\nTaxing District of Egg Harbor Township\\nCounty of Atlantic, New Jersey\\nSTATE OF NEW JERSEY\\nSS:\\nCatherine\\nCatherine R. England, CTCC Tax Collector\\nOWNS\\nCOUNT\\nCOUNTY OF ATLANTIC\\nBE IT REMEMBERED, that on 1/26/2024 before me a Notary Public personally appeared Catherine R. England, Collector of Taxes of the taxing district of Egg Harbor Township in Atlantic County whom, I am satisfied, is the individual described herein, and who executed the above Certificate of Redemption; and I having made known to her the contents thereof, she there upon acknowledged to me that she signed, sealed and delivered the same as her voluntary act and deed, for the uses and purposed therein expressed.\\nPrepared by: Mary Louise Mille\\nMary Louise Mills\\nMary Louise\\nMills\\nMary Louise Mills\\nNotary Public of New Jersey\\nMy Commission Expires 1/02/2028\\nBook15556 CFN#2024009175\\nPage 2 of 2\\nיוונווי\\n'],\n",
       "             52000098: ['\\n---------------------------------------------\\n'],\n",
       "             51903452: ['\\n---------------------------------------------\\n\\n---------------------------------------------\\nCERTIFICATE OF REDEMPTION\\nVAL\\nType\\nConsideration\\nSubmitted By\\nDocument Date\\nReference Info\\nBurlington County Document Summary Sheet\\nBook ID\\nMORTGAGOR\\nMORTGAGEE\\nParcel Info\\nProperty Type\\nCERTIFICATE OF REDEMPTION\\nSIMPLIFILE, LLC. (SIMPLIFILE)\\n11/27/2023\\nBook\\n13079\\nName\\nTOWNSHIP O PEMBERTON\\nBeginning Page Instrument No.\\n6676\\nTax Dist. 29\\nKELVIN R DRAKE NATALIE A DRAKE\\nName\\n7E6FBF71-DA6C-2500-A19B-934FFF3A3DF0/7035238 8592630 Book # OR 13707 Page # 6924 Inst. # 5878959\\nBlock\\n329\\nLot\\n24\\nRecorded/File Date\\nAddress\\nAddress\\nQualifier Municipality\\n29\\n* DO NOT REMOVE THIS PAGE.\\nCOVER SHEET [DOCUMENT SUMMARY FORM] IS PART OF BURLINGTON COUNTY FILING RECORD. RETAIN THIS PAGE FOR FUTURE REFERENCE.\\nPage 2 of 2\\n\\n---------------------------------------------\\n'],\n",
       "             52134982: ['\\n---------------------------------------------\\n\\n---------------------------------------------\\n\\n---------------------------------------------\\n\\n---------------------------------------------\\n'],\n",
       "             52136679: ['\\n---------------------------------------------\\n\\n---------------------------------------------\\n\\n---------------------------------------------\\n\\n---------------------------------------------\\n'],\n",
       "             52128567: ['\\n---------------------------------------------\\n\\n---------------------------------------------\\n\\n---------------------------------------------\\n'],\n",
       "             54541658: [\"COUNTY\\nMERCE OF THE\\nPASSAIC\\nPASSAIC COUNTY CLERK\\n401 GRAND STREET\\nROOM 113\\nPATERSON NJ 07505\\nCOUNTY CL\\nInst. # 2024014755\\n-\\nPage 1 of 3\\nPassaic County Document Summary Sheet\\nTransaction Identification Number\\n7138250\\n8721187\\nReturn Address\\n(for recorded documents)\\nBECKER, NEW YORK, P.C.\\n67 EAST PARK PLACE, SUITE 800\\nMORRISTOWN NJ 07960\\n14\\nOfficial Use Only\\nDANIELLE IRELAND-IMHOF\\nCLERK\\nPASSAIC COUNTY\\nNew Jersey\\nINSTRUMENT NUMBER\\n2024014755 RECORDED ON\\nMay 08, 2024\\n9:27:28 AM\\nBOOK: DM1835 PAGE: 151\\nTotal Pages: 3\\nNJ PRESERVATION ACCOUNT $10.00\\nRECORDING FEES\\n-\\nSubmission Date (mm/dd/yyyy)\\nNo. of Pages (excluding Summary Sheet) Recording Fee (excluding transfer tax)\\nRealty Transfer Tax\\nTotal Amount\\nDocument Type DISCHARGE OF MORTGAGE\\nElectronic Recordation Level\\nMunicipal Codes\\nWAYNE TOWNSHIP\\n-\\nL2 Level 2 (With Images)\\nNOT CERTAMED CO\\nRECORDER OF DEEDS\\nHOMELESSNESS TRUST FUND\\n-\\nCODE BLUE INITIATIVE\\n$30.00\\n$2.00\\nHOMELESSNESS TRUST FUND $3.00\\nTOTAL PAID\\nINV: 1591220 USER: MD\\n$45.00\\nAdditional Information (Official Use Only)\\nA6ECC5\\n* DO NOT REMOVE THIS PAGE.\\nCOVER SHEET [DOCUMENT SUMMARY FORM] IS PART OF PASSAIC COUNTY FILING RECORD.\\nRETAIN THIS PAGE FOR FUTURE REFERENCE.\\n10445686_5M7D(17H8M35S42)/7138250 8721187\\n05/07/2024\\n1\\n$45.00\\nPage 1 of 2\\n$0.00\\n$45.00\\n\\n---------------------------------------------\\nDISCHARGE OF MORTGAGE\\nCOUNTY\\nICE OF THE\\nInst. # 2024014755\\n-\\nPage 2 of 3\\nPassaic County Document Summary Sheet\\nParcel Info\\nBRIAN KELLY\\nNOT CERTINED COP\\nTax Dist.\\nBlock\\nLot\\nQualifier\\nMunicipality\\nHERITAGE MANOR HOMEOWNERS ASSOCIATION INC\\nAddress\\nName\\nAddress\\nConsideration\\nSubmitted By\\nBECKER, NEW YORK, P.C. (CSC/INGEO SYSTEMS INC)\\nDocument Date\\n05/02/2024\\nReference Info\\nBook ID\\nBook\\nBeginning Page\\nOR\\n18589\\n296\\nInstrument No.\\n2023025841\\nRecorded/File Date\\nType\\nDISCHARGE OF MORTGAGE\\nPASSAIC\\n* DO NOT REMOVE THIS PAGE.\\nCOVER SHEET [DOCUMENT SUMMARY FORM] IS PART OF PASSAIC COUNTY FILING RECORD.\\nRETAIN THIS PAGE FOR FUTURE REFERENCE.\\n10445686_5M7D(17H8M35S42)/7138250 8721187\\nPage 2 of 2\\n\\n---------------------------------------------\\nDANIELLE IRELAND-IMHOF\\nCLERK\\nPASSAIC COUNTY\\nNew Jersey\\nINSTRUMENT NUMBER\\n2024014755\\nRECORDED ON\\nMay 08\\n2024\\nInst. # 2024014755\\nPage 3 of 3\\n$30.00\\nHOMELESSNESS TRUST FUND CODE BLUE INITIATIVE HOMELESSNESS TRUST FUND\\n$2.00\\n$3.00\\nTOTAL PAID\\nINV: 1591220 USER: MD\\n$45.00\\n9:27:28 AM\\nBOOK: DM1835 PAGE: 151\\nTotal Pages: 3\\nNJ PRESERVATION ACCOUNT $10.00\\nRECORDING FEES -\\nRECORDER OF DEEDS\\nRECORD AND RETURN TO:\\nBECKER & POLIAKOFF, LLP\\n1776 on the Green\\n67 East Park Place, Suite 800 Morristown, New Jersey 07960\\nDISCHARGE OF LIEN\\nThis is to certify that the following lien for nonpayment of common charges filed by the undersigned and recorded in the Passaic County Clerk's Office, as follows: Notice of Lien in the amount of $3,514.29 recorded on August 11, 2023, in Official Records Book M18589, at Page 296, Instrument Number 2023025841, against a condominium unit known as 34 Trenton Terrace, Wayne, NJ 07470, previously owned by Brian Kelly, by Deed dated November 17, 2020 and recorded in the Passaic County Clerk's Office on January 8, 2021 in Official Records Book D3940, at Page 102, et seq., located in Heritage Manor Homeowners Association, Inc., established pursuant to Declaration of Covenants and Restrictions dated July 12, 1978 and recorded on July 13, 1978, in the Passaic County Clerk's Office, in Official Records Book F-102, at Page 62, et. seq., as amended, should be discharged of record. The undersigned hereby releases such claim(s) as to the unit and its appurtenances and consents that the lien(s) referenced above be discharged of record.\\nDated: May 2, 2024\\nHERITAGE MANOR HOMEOWNERS ASSOCIATION, INC.\\nО\\nGlenford W. Warmington, Attorney & Authorized Agent\\nCERTIE\\nSTATE OF NEW JERSEY\\nCOUNTY OF MORRIS\\na\\nBE IT REMEMBERED, that on this 2nd day of May, 2024, before me, the subscriber,\\nNotary\\nPublic\\nof\\nthe\\nState of New Jersey, personally appeared\\nGlenford W. Warmington, who being by me duly sworn on his/her oath, deposes and makes proof to my satisfaction, that he is the Attorney and Authorized Agent of Heritage Manor Homeowners Association, Inc., the Association named in this Discharge of Lien; that the execution, as well as the making of document, has been duly authorized by a proper resolution of the governing Board. of the Association; and that the seal was affixed and the Discharge was signed and delivered by as and for the voluntary act and deed of the Association, in the presence of deponent, who thereupon subscribed his/her name to this document as attesting witness.\\nSara Stanisic, Notary Public\\nPlease affix notarial seal ander stamp, as aRRA STANISIC\\nNOTARY PUBLIC\\nSTATE OF NEW JERSEY\\nID # 50157701\\n24950519v.1 H27161/411203\\nMY COMMISSION EXPIRES APR. 14, 2026\\n\"],\n",
       "             53614023: [\"COUNTY\\nMERCE OF THE\\nPASSAIC\\nPASSAIC COUNTY CLERK\\nCOUNTY CL\\nInst. # 2024011604\\n-\\nPage 1 of 3\\nPassaic County Document Summary Sheet\\nTransaction Identification Number\\n7098587\\n8671178\\nReturn Address\\n(for recorded documents)\\nBECKER, NEW YORK, P.C.\\n401 GRAND STREET\\nROOM 113\\nPATERSON NJ 07505\\nOfficial Use Only\\nDANIELLE IRELAND-IMHOF\\nCLERK\\nPASSAIC COUNTY\\nNew Jersey\\n67 EAST PARK PLACE, SUITE 800\\nMORRISTOWN NJ 07960\\nSubmission Date (mm/dd/yyyy)\\nNo. of Pages (excluding Summary Sheet) Recording Fee (excluding transfer tax)\\nRealty Transfer Tax\\nTotal Amount Document Type\\nDISCHARGE OF MORTGAGE\\nINSTRUMENT NUMBER\\n2024011604\\nRECORDED ON\\nApr 09, 2024\\n10:37:38 AM\\nBOOK: DM1829 PAGE: 189\\nTotal Pages: 3\\nNJ PRESERVATION ACCOUNT $10.00\\nRECORDING FEES\\n-\\nRECORDER OF DEEDS\\n$30.00\\nHOMELESSNESS TRUST FUND $2.00\\n-\\nCODE BLUE INITIATIVE\\nHOMELESSNESS TRUST FUND\\nTOTAL PAID\\nINV: 1588289 USER: ML\\n$3.00 $45.00\\nElectronic Recordation Level\\nMunicipal Codes\\nWAYNE TOWNSHIP\\nL2 Level 2 (With Images)\\n-\\nCERNENER COR\\nNOT CERT\\nAdditional Information (Official Use Only)\\nA6E04C\\n14\\n04/09/2024\\n1\\n$45.00\\n$0.00\\n$45.00\\n* DO NOT REMOVE THIS PAGE.\\nCOVER SHEET [DOCUMENT SUMMARY FORM] IS PART OF PASSAIC COUNTY FILING RECORD. RETAIN THIS PAGE FOR FUTURE REFERENCE.\\n10381315_4M9D(8H49M26S883)/7098587 8671178\\nPage 1 of 2\\n\\n---------------------------------------------\\nDISCHARGE OF\\nMORTGAGE\\nCOUNTY\\nICE OF THE\\nInst. # 2024011604\\n-\\nPage 2 of 3\\nPassaic County Document Summary Sheet\\nParcel Info\\nGRANDOVER 1\\nCONDOMINIUM A ASSOCIATION INC\\nJI HYEON LIM\\nSOO YOUNG PARK\\nConsideration\\nSubmitted By\\nBECKER, NEW YORK, P.C. (CSC/INGEO SYSTEMS INC)\\nDocument Date\\n04/01/2024\\nReference Info\\nBook ID\\nBook\\nBeginning Page\\nInstrument No.\\nOR\\n13878\\n286\\nNOT CERTINED COP\\nTax Dist.\\nBlock\\nLot\\nQualifier\\nMunicipality\\nAddress\\nName\\nAddress\\nRecorded/File Date\\nType\\nDISCHARGE OF MORTGAGE\\nPASSAIC\\n* DO NOT REMOVE THIS PAGE.\\nCOVER SHEET [DOCUMENT SUMMARY FORM] IS PART OF PASSAIC COUNTY FILING RECORD.\\nRETAIN THIS PAGE FOR FUTURE REFERENCE.\\n10381315_4M9D(8H49M26S883)/7098587 8671178\\nPage 2 of 2\\n\\n---------------------------------------------\\nRECORDING FEES -\\n$30.00\\nRECORDER OF DEEDS\\nHOMELESSNESS TRUST FUND\\n$2.00\\n- CODE BLUE INITIATIVE\\nHOMELESSNESS TRUST FUND\\n$3.00\\nTOTAL PAID\\nINV: 1588289 USER: ML\\n$45.00\\nInst. #23 2024011604\\nPage 3 of 3\\nDANIELLE IRELAND-IMHOF\\nCLERK\\nPASSAIC COUNTY\\nNew Jersey\\nINSTRUMENT NUMBER\\n2024011604\\nRECORDED ON\\n10:37:38 AM\\nApr 09, 2024\\nTotal Pages: 3\\nBOOK: DM1829 PAGE: 189\\nNJ PRESERVATION ACCOUNT $10.00\\nRECORD AND RETURN TO: BECKER & POLIAKOFF, LLP 1776 on the Green\\n67 East Park Place, Suite 800 Morristown, New Jersey 07960\\nDISCHARGE OF LIEN\\nThis is to certify that the following lien for nonpayment of common charges filed by the undersigned and recorded in the Passaic County Clerk's Office, as follows: Notice of Lien in the amount of $7,065.50 recorded on April 7, 2024, in Official Records Book M13878 at Page 286, against a condominium unit known as 107 Levinberg Lane, Wayne, NJ 07470, previously owned by Ji Hyeon Lim and Soo Young Park, by Deed recorded in the Passaic County Clerk's Office on December 29, 2009 in Official Records Book 1864 at Page 222, et seq., located in Grandover Pointe Condominium Association, Inc., established pursuant to Master Deed dated October 4, 2002 and recorded on October 16, 2002, in the Passaic County Clerk's Office, in Official Records Book D-492, at Page 001, Instrument Number 2002103204, et. seq., as amended, should be discharged of record. The undersigned hereby releases such\\nappurtenances and consents that the lien(s) referenced above claim(s) as to the unit and its\\nbe discharged of record.\\nPOINTE\\nGRANDOVER ASSOCIATION, INC.\\nCONDOMINIUM\\nDated: April 1, 2024\\nBy:\\nSTATE OF NEW JERSEY )\\nCOUNTY OF Morris\\nSS:\\nGlenford W. Warmington, Attorney & Authorized Agent\\nP\\nBE IT REMEMBERED, that on this 1st day of April, 2024, before me, the\\nsubscriber, a Notary Public of the State of New Jersey, personally appeared Glenford W. Warmington, who being by me duly sworn on his oath, deposes and makes proof to my satisfaction, that he is the Attorney and Authorized Agent of Grandover Pointe Condominium Association, Inc., the Association named in this Discharge of Lien; that the execution, as well as the making of document, has been duly authorized by a proper resolution of the governing Board of the Association; and that the seal was affixed and the Discharge was signed and delivered by the aforementioned Board member as and for the voluntary act and deed of the Association, in the presence of deponent, who thereupon subscribed his/her name to this document as attesting witness.\\nSaufen\\nSara Stanisic\\n, Notary Public\\n(Please affix notarial seal and/or stamp, as applicable)\\n24815957v.1 G27160/403502\\nTHE SEXY\\nSARA STANISIC\\nNOTARY PUBLIC STATE OF NEW JERSEY\\nID # 50157701\\nMY COMMISSION EXPIRES APR. 14, 2026\\n\"],\n",
       "             53614022: [\"COUNTY\\nMERCE OF THE\\nPASSAIC\\nPASSAIC COUNTY CLERK\\nCOUNTY CL\\nInst. # 2024011603\\n-\\nPage 1 of 3\\nPassaic County Document Summary Sheet\\nTransaction Identification Number\\n7098579\\n8671169\\nReturn Address\\n(for recorded documents)\\nBECKER, NEW YORK, P.C.\\n401 GRAND STREET\\nROOM 113\\nPATERSON NJ 07505\\nOfficial Use Only\\nDANIELLE IRELAND-IMHOF\\nCLERK\\nPASSAIC COUNTY\\nNew Jersey\\n67 EAST PARK PLACE, SUITE 800\\nMORRISTOWN NJ 07960\\nSubmission Date (mm/dd/yyyy)\\nNo. of Pages (excluding Summary Sheet) Recording Fee (excluding transfer tax)\\nRealty Transfer Tax\\nTotal Amount Document Type\\nDISCHARGE OF MORTGAGE\\nINSTRUMENT NUMBER\\n2024011603\\nRECORDED ON\\nApr 09, 2024\\n10:37:10 AM\\nBOOK: DM1829 PAGE: 186\\nTotal Pages: 3\\nNJ PRESERVATION ACCOUNT $10.00\\nRECORDING FEES\\n-\\nRECORDER OF DEEDS\\n$30.00\\nHOMELESSNESS TRUST FUND $2.00\\n-\\nCODE BLUE INITIATIVE\\nHOMELESSNESS TRUST FUND\\nTOTAL PAID\\nINV: 1588288 USER: ML\\n$3.00 $45.00\\nElectronic Recordation Level\\nMunicipal Codes\\nWANAQUE BOROUGH\\nL2 Level 2 (With Images)\\n-\\nCERTIFIED COP\\nNOT CERT\\nAdditional Information (Official Use Only)\\nA6E04B\\n13\\n04/09/2024\\n1\\n$45.00\\n$0.00\\n$45.00\\n* DO NOT REMOVE THIS PAGE.\\nCOVER SHEET [DOCUMENT SUMMARY FORM] IS PART OF PASSAIC COUNTY FILING RECORD. RETAIN THIS PAGE FOR FUTURE REFERENCE.\\n10381305_4M9D(8H46M55S474)/7098579 8671169\\nPage 1 of 2\\n\\n---------------------------------------------\\nDISCHARGE OF MORTGAGE\\nCOUNTY\\nICE OF THE\\nInst. # 2024011603\\n-\\nPage 2 of 3\\nPassaic County Document Summary Sheet\\nParcel Info Property Type\\nROCKE LABOZETTA\\nNOT COP\\nTax Dist.\\nBlock\\nLot\\nQualifier\\nMunicipality\\nWANAQUE PRESERVE\\nCONDOMINIUM A ASSOCIATION INC\\nAddress\\nName\\nAddress\\nConsideration\\nSubmitted By\\nBECKER, NEW YORK, P.C. (CSC/INGEO SYSTEMS INC)\\nDocument Date\\n04/01/2024\\nReference Info\\nBook ID\\nBook\\nBeginning Page\\nOR\\n18115\\n223\\nInstrument No.\\n2022038322\\nRecorded/File Date\\nType\\nDISCHARGE OF MORTGAGE\\nPASSAIC\\n* DO NOT REMOVE THIS PAGE.\\nCOVER SHEET [DOCUMENT SUMMARY FORM] IS PART OF PASSAIC COUNTY FILING RECORD.\\nRETAIN THIS PAGE FOR FUTURE REFERENCE.\\n10381305_4M9D(8H46M55S474)/7098579 8671169\\nPage 2 of 2\\n\\n---------------------------------------------\\n;\\nRECORDING FEES -\\nRECORDER OF DEEDS\\n$30.00\\nHOMELESSNESS TRUST FUND\\n$2.00\\n- CODE BLUE INITIATIVE\\nHOMELESSNESS TRUST FUND\\n$3.00\\nTOTAL PAID\\nINV: 1588288 USER: ML\\n$45.00\\nINSTRUMENT NUMBER\\n2024011603\\n10:37:10 AM\\nApr 09, 2024\\nRECORDED ON\\nTotal Pages: 3\\nBOOK: DM1829 PAGE: 186\\nNJ PRESERVATION ACCOUNT $10.00\\nInst. % 2024011603\\nPage 3 of 3\\nDANIELLE IRELAND-IMHOF\\nCLERK\\nPASSAIC COUNTY\\nNew Jersey\\nRECORD AND RETURN TO: BECKER & POLIAKOFF, LLP 1776 on the Green\\n67 East Park Place, Suite 800 Morristown, New Jersey 07960\\nDISCHARGE OF LIEN\\nThis is to certify that the following lien for nonpayment of common charges filed by the undersigned and recorded in the Passaic County Clerk's Office, as follows: Notice of Lien in the amount of $10,294.16 recorded on August 1, 2022, in Official Records Book M18115, at Page 223, Instrument Number 2022038322, against a condominium unit known as 3305 Warrens Way, Wanaque, NJ 07465, previously owned by Rocke Labozetta, by Deed recorded in the Passaic County Clerk's Office on April 8, 2010 in Official Records Book D1902, at Page 208, et seq., located in Wanaque Reserve Condominium Association, Inc, established pursuant to Master Deed recorded on November 21, 2005, in the Passaic County Clerk's Office, in Official Records Book D1124, at Page 1, et. seq., as amended, should be discharged of record. The undersigned hereby releases such claim(s) as to the unit and its appurtenances and consents that the lien(s) referenced above be discharged of record.\\nDated: April 1, 2024\\nCONDOMINIUM\\nGlenford W. Warmington, Attorney and Authorized\\nD ERTIDIE\\nWANAQUE ASSOCIATION, INC\\nRESERVE\\nSTATE OF NEW JERSEY ) COUNTY OF Morris\\nBE IT REMEMBERED, that on this\\n2nd\\nday of April, 2024, before me, the subscriber, a Notary Public of the State of New Jersey, personally appeared Glenford W. Warmington, who being by me duly sworn on his oath, deposes and makes proof to my satisfaction, that he is the Attorney and Authorized Agent of Wanaque Reserve Condominium Association, Inc, the Association named in this Discharge of Lien; that the execution, as well as the making of document, has been duly authorized by a proper resolution of the governing Board of the Association; and that the seal was affixed and the Discharge was signed and delivered by the aforementioned Board member as and for the voluntary act and deed of the Association, in the presence of deponent, who thereupon subscribed his/her name to this document as attesting witness.\\nCof\\nNo\\nSara Stanisic, Notary Public\\n(Please affix notarial seal and/or stamp, as applicable)\\n24814985v.1 W27125/415434\\nTHE\\nSARA STANISIC\\nNOTARY PUBLIC STATE OF NEW JERSEY\\nID # 50157701\\nMY COMMISSION EXPIRES APR. 14, 2026\\n\"],\n",
       "             53648808: [\"COUNTY\\nMERCE OF THE\\nPASSAIC\\nPASSAIC COUNTY CLERK\\nCOUNTY CL\\nInst. # 2024011604\\n-\\nPage 1 of 3\\nPassaic County Document Summary Sheet\\nTransaction Identification Number\\n7098587\\n8671178\\nReturn Address\\n(for recorded documents)\\nBECKER, NEW YORK, P.C.\\n401 GRAND STREET\\nROOM 113\\nPATERSON NJ 07505\\nOfficial Use Only\\nDANIELLE IRELAND-IMHOF\\nCLERK\\nPASSAIC COUNTY\\nNew Jersey\\n67 EAST PARK PLACE, SUITE 800\\nMORRISTOWN NJ 07960\\nSubmission Date (mm/dd/yyyy)\\nNo. of Pages (excluding Summary Sheet) Recording Fee (excluding transfer tax)\\nRealty Transfer Tax\\nTotal Amount Document Type\\nDISCHARGE OF MORTGAGE\\nINSTRUMENT NUMBER\\n2024011604\\nRECORDED ON\\nApr 09, 2024\\n10:37:38 AM\\nBOOK: DM1829 PAGE: 189\\nTotal Pages: 3\\nNJ PRESERVATION ACCOUNT $10.00\\nRECORDING FEES\\n-\\nRECORDER OF DEEDS\\n$30.00\\nHOMELESSNESS TRUST FUND $2.00\\n-\\nCODE BLUE INITIATIVE\\nHOMELESSNESS TRUST FUND\\nTOTAL PAID\\nINV: 1588289 USER: ML\\n$3.00 $45.00\\nElectronic Recordation Level\\nMunicipal Codes\\nWAYNE TOWNSHIP\\nL2 Level 2 (With Images)\\n-\\nCERNENER COR\\nNOT CERT\\nAdditional Information (Official Use Only)\\nA6E04C\\n14\\n04/09/2024\\n1\\n$45.00\\n$0.00\\n$45.00\\n* DO NOT REMOVE THIS PAGE.\\nCOVER SHEET [DOCUMENT SUMMARY FORM] IS PART OF PASSAIC COUNTY FILING RECORD. RETAIN THIS PAGE FOR FUTURE REFERENCE.\\n10381315_4M9D(8H49M26S883)/7098587 8671178\\nPage 1 of 2\\n\\n---------------------------------------------\\nDISCHARGE OF\\nMORTGAGE\\nCOUNTY\\nICE OF THE\\nInst. # 2024011604\\n-\\nPage 2 of 3\\nPassaic County Document Summary Sheet\\nParcel Info\\nGRANDOVER 1\\nCONDOMINIUM A ASSOCIATION INC\\nJI HYEON LIM\\nSOO YOUNG PARK\\nConsideration\\nSubmitted By\\nBECKER, NEW YORK, P.C. (CSC/INGEO SYSTEMS INC)\\nDocument Date\\n04/01/2024\\nReference Info\\nBook ID\\nBook\\nBeginning Page\\nInstrument No.\\nOR\\n13878\\n286\\nNOT CERTINED COP\\nTax Dist.\\nBlock\\nLot\\nQualifier\\nMunicipality\\nAddress\\nName\\nAddress\\nRecorded/File Date\\nType\\nDISCHARGE OF MORTGAGE\\nPASSAIC\\n* DO NOT REMOVE THIS PAGE.\\nCOVER SHEET [DOCUMENT SUMMARY FORM] IS PART OF PASSAIC COUNTY FILING RECORD.\\nRETAIN THIS PAGE FOR FUTURE REFERENCE.\\n10381315_4M9D(8H49M26S883)/7098587 8671178\\nPage 2 of 2\\n\\n---------------------------------------------\\nRECORDING FEES -\\n$30.00\\nRECORDER OF DEEDS\\nHOMELESSNESS TRUST FUND\\n$2.00\\n- CODE BLUE INITIATIVE\\nHOMELESSNESS TRUST FUND\\n$3.00\\nTOTAL PAID\\nINV: 1588289 USER: ML\\n$45.00\\nInst. #23 2024011604\\nPage 3 of 3\\nDANIELLE IRELAND-IMHOF\\nCLERK\\nPASSAIC COUNTY\\nNew Jersey\\nINSTRUMENT NUMBER\\n2024011604\\nRECORDED ON\\n10:37:38 AM\\nApr 09, 2024\\nTotal Pages: 3\\nBOOK: DM1829 PAGE: 189\\nNJ PRESERVATION ACCOUNT $10.00\\nRECORD AND RETURN TO: BECKER & POLIAKOFF, LLP 1776 on the Green\\n67 East Park Place, Suite 800 Morristown, New Jersey 07960\\nDISCHARGE OF LIEN\\nThis is to certify that the following lien for nonpayment of common charges filed by the undersigned and recorded in the Passaic County Clerk's Office, as follows: Notice of Lien in the amount of $7,065.50 recorded on April 7, 2024, in Official Records Book M13878 at Page 286, against a condominium unit known as 107 Levinberg Lane, Wayne, NJ 07470, previously owned by Ji Hyeon Lim and Soo Young Park, by Deed recorded in the Passaic County Clerk's Office on December 29, 2009 in Official Records Book 1864 at Page 222, et seq., located in Grandover Pointe Condominium Association, Inc., established pursuant to Master Deed dated October 4, 2002 and recorded on October 16, 2002, in the Passaic County Clerk's Office, in Official Records Book D-492, at Page 001, Instrument Number 2002103204, et. seq., as amended, should be discharged of record. The undersigned hereby releases such\\nappurtenances and consents that the lien(s) referenced above claim(s) as to the unit and its\\nbe discharged of record.\\nPOINTE\\nGRANDOVER ASSOCIATION, INC.\\nCONDOMINIUM\\nDated: April 1, 2024\\nBy:\\nSTATE OF NEW JERSEY )\\nCOUNTY OF Morris\\nSS:\\nGlenford W. Warmington, Attorney & Authorized Agent\\nP\\nBE IT REMEMBERED, that on this 1st day of April, 2024, before me, the\\nsubscriber, a Notary Public of the State of New Jersey, personally appeared Glenford W. Warmington, who being by me duly sworn on his oath, deposes and makes proof to my satisfaction, that he is the Attorney and Authorized Agent of Grandover Pointe Condominium Association, Inc., the Association named in this Discharge of Lien; that the execution, as well as the making of document, has been duly authorized by a proper resolution of the governing Board of the Association; and that the seal was affixed and the Discharge was signed and delivered by the aforementioned Board member as and for the voluntary act and deed of the Association, in the presence of deponent, who thereupon subscribed his/her name to this document as attesting witness.\\nSaufen\\nSara Stanisic\\n, Notary Public\\n(Please affix notarial seal and/or stamp, as applicable)\\n24815957v.1 G27160/403502\\nTHE SEXY\\nSARA STANISIC\\nNOTARY PUBLIC STATE OF NEW JERSEY\\nID # 50157701\\nMY COMMISSION EXPIRES APR. 14, 2026\\n\"],\n",
       "             53648807: [\"COUNTY\\nMERCE OF THE\\nPASSAIC\\nPASSAIC COUNTY CLERK\\nCOUNTY CL\\nInst. # 2024011603\\n-\\nPage 1 of 3\\nPassaic County Document Summary Sheet\\nTransaction Identification Number\\n7098579\\n8671169\\nReturn Address\\n(for recorded documents)\\nBECKER, NEW YORK, P.C.\\n401 GRAND STREET\\nROOM 113\\nPATERSON NJ 07505\\nOfficial Use Only\\nDANIELLE IRELAND-IMHOF\\nCLERK\\nPASSAIC COUNTY\\nNew Jersey\\n67 EAST PARK PLACE, SUITE 800\\nMORRISTOWN NJ 07960\\nSubmission Date (mm/dd/yyyy)\\nNo. of Pages (excluding Summary Sheet) Recording Fee (excluding transfer tax)\\nRealty Transfer Tax\\nTotal Amount Document Type\\nDISCHARGE OF MORTGAGE\\nINSTRUMENT NUMBER\\n2024011603\\nRECORDED ON\\nApr 09, 2024\\n10:37:10 AM\\nBOOK: DM1829 PAGE: 186\\nTotal Pages: 3\\nNJ PRESERVATION ACCOUNT $10.00\\nRECORDING FEES\\n-\\nRECORDER OF DEEDS\\n$30.00\\nHOMELESSNESS TRUST FUND $2.00\\n-\\nCODE BLUE INITIATIVE\\nHOMELESSNESS TRUST FUND\\nTOTAL PAID\\nINV: 1588288 USER: ML\\n$3.00 $45.00\\nElectronic Recordation Level\\nMunicipal Codes\\nWANAQUE BOROUGH\\nL2 Level 2 (With Images)\\n-\\nCERTIFIED COP\\nNOT CERT\\nAdditional Information (Official Use Only)\\nA6E04B\\n13\\n04/09/2024\\n1\\n$45.00\\n$0.00\\n$45.00\\n* DO NOT REMOVE THIS PAGE.\\nCOVER SHEET [DOCUMENT SUMMARY FORM] IS PART OF PASSAIC COUNTY FILING RECORD. RETAIN THIS PAGE FOR FUTURE REFERENCE.\\n10381305_4M9D(8H46M55S474)/7098579 8671169\\nPage 1 of 2\\n\\n---------------------------------------------\\nDISCHARGE OF MORTGAGE\\nCOUNTY\\nICE OF THE\\nInst. # 2024011603\\n-\\nPage 2 of 3\\nPassaic County Document Summary Sheet\\nParcel Info Property Type\\nROCKE LABOZETTA\\nNOT COP\\nTax Dist.\\nBlock\\nLot\\nQualifier\\nMunicipality\\nWANAQUE PRESERVE\\nCONDOMINIUM A ASSOCIATION INC\\nAddress\\nName\\nAddress\\nConsideration\\nSubmitted By\\nBECKER, NEW YORK, P.C. (CSC/INGEO SYSTEMS INC)\\nDocument Date\\n04/01/2024\\nReference Info\\nBook ID\\nBook\\nBeginning Page\\nOR\\n18115\\n223\\nInstrument No.\\n2022038322\\nRecorded/File Date\\nType\\nDISCHARGE OF MORTGAGE\\nPASSAIC\\n* DO NOT REMOVE THIS PAGE.\\nCOVER SHEET [DOCUMENT SUMMARY FORM] IS PART OF PASSAIC COUNTY FILING RECORD.\\nRETAIN THIS PAGE FOR FUTURE REFERENCE.\\n10381305_4M9D(8H46M55S474)/7098579 8671169\\nPage 2 of 2\\n\\n---------------------------------------------\\n;\\nRECORDING FEES -\\nRECORDER OF DEEDS\\n$30.00\\nHOMELESSNESS TRUST FUND\\n$2.00\\n- CODE BLUE INITIATIVE\\nHOMELESSNESS TRUST FUND\\n$3.00\\nTOTAL PAID\\nINV: 1588288 USER: ML\\n$45.00\\nINSTRUMENT NUMBER\\n2024011603\\n10:37:10 AM\\nApr 09, 2024\\nRECORDED ON\\nTotal Pages: 3\\nBOOK: DM1829 PAGE: 186\\nNJ PRESERVATION ACCOUNT $10.00\\nInst. % 2024011603\\nPage 3 of 3\\nDANIELLE IRELAND-IMHOF\\nCLERK\\nPASSAIC COUNTY\\nNew Jersey\\nRECORD AND RETURN TO: BECKER & POLIAKOFF, LLP 1776 on the Green\\n67 East Park Place, Suite 800 Morristown, New Jersey 07960\\nDISCHARGE OF LIEN\\nThis is to certify that the following lien for nonpayment of common charges filed by the undersigned and recorded in the Passaic County Clerk's Office, as follows: Notice of Lien in the amount of $10,294.16 recorded on August 1, 2022, in Official Records Book M18115, at Page 223, Instrument Number 2022038322, against a condominium unit known as 3305 Warrens Way, Wanaque, NJ 07465, previously owned by Rocke Labozetta, by Deed recorded in the Passaic County Clerk's Office on April 8, 2010 in Official Records Book D1902, at Page 208, et seq., located in Wanaque Reserve Condominium Association, Inc, established pursuant to Master Deed recorded on November 21, 2005, in the Passaic County Clerk's Office, in Official Records Book D1124, at Page 1, et. seq., as amended, should be discharged of record. The undersigned hereby releases such claim(s) as to the unit and its appurtenances and consents that the lien(s) referenced above be discharged of record.\\nDated: April 1, 2024\\nCONDOMINIUM\\nGlenford W. Warmington, Attorney and Authorized\\nD ERTIDIE\\nWANAQUE ASSOCIATION, INC\\nRESERVE\\nSTATE OF NEW JERSEY ) COUNTY OF Morris\\nBE IT REMEMBERED, that on this\\n2nd\\nday of April, 2024, before me, the subscriber, a Notary Public of the State of New Jersey, personally appeared Glenford W. Warmington, who being by me duly sworn on his oath, deposes and makes proof to my satisfaction, that he is the Attorney and Authorized Agent of Wanaque Reserve Condominium Association, Inc, the Association named in this Discharge of Lien; that the execution, as well as the making of document, has been duly authorized by a proper resolution of the governing Board of the Association; and that the seal was affixed and the Discharge was signed and delivered by the aforementioned Board member as and for the voluntary act and deed of the Association, in the presence of deponent, who thereupon subscribed his/her name to this document as attesting witness.\\nCof\\nNo\\nSara Stanisic, Notary Public\\n(Please affix notarial seal and/or stamp, as applicable)\\n24814985v.1 W27125/415434\\nTHE\\nSARA STANISIC\\nNOTARY PUBLIC STATE OF NEW JERSEY\\nID # 50157701\\nMY COMMISSION EXPIRES APR. 14, 2026\\n\"],\n",
       "             52136284: ['\\n---------------------------------------------\\n\\n---------------------------------------------\\n'],\n",
       "             52135662: ['\\n---------------------------------------------\\n\\n---------------------------------------------\\n'],\n",
       "             52135594: ['\\n---------------------------------------------\\n'],\n",
       "             52135002: ['Atlantic County\\nDocument Summary Sheet\\nReturn Name and Address\\nThe Law Firm of George K. Miller, Jr., Esq. ATLANTIC COUNTY CLERK 26 S. Pennsylvania Avenue Atlantic City, NJ 08401\\n5901 MAIN ST\\nMAYS LANDING, NJ 08330\\nINST # 2024002466 RECORDED 01/17/2024 VOL 15536 RCPT 1746330 RECD BY JO (2 PGS) JOSEPH J. GIRALO, COUNTY CLERK ATLANTIC COUNTY, NJ\\nSubmitting Company\\nDocument Date (mm/dd/yyyy)\\nDocument Type\\nNo. of Pages of the Original Signed Document\\n(Including the cover sheet)\\nConsideration Amount (If applicable)\\nFirst Party\\n(Grantor or Mortgagor or Assignor)\\n(Enter up to five names)\\n2\\nCNLD\\nOfficial Use Only\\nName(s)\\n(Last Name* First Name Middle Initial*Suffix) (or Company Name as written)\\nAddress (Optional)\\nSeaview Harbor Marina Condominium Association, Inc.\\n(Last Name* First Name Middle Initial•Suffix)\\nName(s)\\nAddress (Optional)\\n(or Company Name as written)\\nSecond Party\\n(Grantee or Mortgagee or\\nGeorge J. Soued\\nAssignee)\\n(Enter up to five names)\\nMunicipality\\nBlock\\nLot\\nQualifier\\nParcel Information (Enter up to three entries)\\nEgg Harbor Twp.\\n9501\\n1\\nC039F\\nBook Type\\nBook\\nBeginning Page\\nInstrument No.\\nReference Information\\n(Enter up to three entries)\\nProperty Address\\n303 Longport Blvd\\nSlip F-39\\nEgg Harbor Township, NJ\\nRecorded/File Date\\n*DO NOT REMOVE THIS PAGE*\\nDOCUMENT SUMMARY SHEET (COVER SHEET) IS PART OF ATLANTIC COUNTY FILING RECORD. RETAIN THIS PAGE FOR FUTURE REFERENCE.\\nBook15536 CFN#2024002466\\nPage 1 of 2\\n\\n---------------------------------------------\\n'],\n",
       "             52134998: ['\\n---------------------------------------------\\n'],\n",
       "             52138369: ['\\n---------------------------------------------\\n\\n---------------------------------------------\\n'],\n",
       "             52069325: ['\\n---------------------------------------------\\nCOUNTY\\nOF\\nONMOUTH\\nType\\nConsideration\\nInst. # 2024007148\\n-\\nPage 2 of 4\\nMonmouth County Document Summary Sheet\\nDISCHARGE/MORTGAGE\\nSubmitted By\\nPINNACLE TITLE AGENCY INC (CSC/INGEO SYSTEMS INC)\\nDocument Date\\n02/01/2024\\nReference Info\\nBook ID\\nBook\\nBeginning Page\\nInstrument No.\\nRecorded/File Date\\nOR\\n8513\\n8462\\nDISCHARGE/MO\\nMORTGAGOR\\nName\\nRTGAGE\\nTYRAF HILL\\nREC. HOLDER\\nAddress\\nName\\nAddress\\nFOX CHASE IV PHASE II\\nParcel Info Property Type\\nTax Dist.\\nBlock\\nLot\\nQualifier\\nMunicipality\\n* DO NOT REMOVE THIS PAGE.\\nCOVER SHEET [DOCUMENT SUMMARY FORM] IS PART OF MONMOUTH COUNTY FILING RECORD. RETAIN THIS PAGE FOR FUTURE REFERENCE.\\n10240455_02M01D(10H00MS)/7008688 8558799\\nPage 2 of 2\\n\\n---------------------------------------------\\n\\n---------------------------------------------\\n'],\n",
       "             52069322: ['\\n---------------------------------------------\\n\\n---------------------------------------------\\n\\n---------------------------------------------\\n'],\n",
       "             52137376: ['\\n---------------------------------------------\\n'],\n",
       "             52069059: ['\\n---------------------------------------------\\n\\n---------------------------------------------\\n'],\n",
       "             52137134: ['\\n---------------------------------------------\\n\\n---------------------------------------------\\n'],\n",
       "             52034830: ['\\n---------------------------------------------\\n'],\n",
       "             51999779: ['\\n---------------------------------------------\\n\\n---------------------------------------------\\n'],\n",
       "             51902599: ['\\n---------------------------------------------\\n\\n---------------------------------------------\\n'],\n",
       "             51469726: ['\\n---------------------------------------------\\n'],\n",
       "             53511288: ['\\n---------------------------------------------\\n\\n---------------------------------------------\\n'],\n",
       "             53817893: ['\\n---------------------------------------------\\n\\n---------------------------------------------\\n\\n---------------------------------------------\\n\\n---------------------------------------------\\n\\n---------------------------------------------\\n'],\n",
       "             54335646: ['Hunterdon County, NJ Instrument 20240408000055170 Bk:2055 Pg:847 Pg:1 OF 2\\nHunterdon County Recording Data Page\\nHonorable Mary H. Melfi\\nHunterdon County Clerk\\nHUNTERDON\\nCOUNTY\\n|Official Use Only - Barcode\\n20240408000055170 1/2\\n04/08/2024 02:33:57 PM AM Bk:2055 Pg:847\\nMary H. Melfi\\nHunterdon County, NJ\\nOfficial Use Only - Realty Transfer Fee\\nNEW JERSEY\\nRecord and Return Address:\\nNationwide Title Clearing, LLC 2100 Alt 19\\nPalm Harbor, FL 34683-2620\\nDate of Document:\\n2024-04-08\\n|First Party Name:\\nQUICKEN LOANS INC\\nType of Document:\\nASSIGNMENT OF MORTGAGE\\nSecond Party Name:\\nNATIONSTAR MORTGAGE LIC\\nAdditional Parties:\\nMORTGAGE ELECTRONIC REGISTRATION SYSTEMS INC; ANGELO SPINOLA JR; CYNTHIA SPINOLA\\nUNOFFICIAL\\nBlock:\\nTHE FOLLOWING SECTION IS REQUIRED (DEEDS MANDATED)\\nMunicipality\\nConsideration:\\nReadington Township\\n286350.00\\nMailing Address of Grantee\\nTHE FOLLOWING SECTION IS FOR MARGINAL NOTATIONS THAT PERTAIN TO THE ORIGINAL FILED/RECORDED DOCUMENT Original Instrument Number:\\nOriginal Book and Page:\\n3682 P 745\\nHUNTERDON COUNTY RECORDING DATA PAGE Please do not detach this page from the original document as it contains important recording information and is part of the permanent record.\\n\\n---------------------------------------------\\n'],\n",
       "             52138406: [\"\\n---------------------------------------------\\nJOANNE SCHWARTZ'\\nBurlington County\\nDocument Summary Sheet\\nBURLINGTON COUNTY CLERK\\nP.O, BOX 6000\\nReturn Name and Address\\nSpeedy Lien INC\\n50 RANCOCAS RD, 3rd FLOOR Suité 2600\\nMOUNT HOLLY, NJ\\n08060-1317\\nSubmitting Company\\n315 Madison Avenue new fork NY 100177\\nDocument Date (mm/dd/yyyy)\\nDocument Type\\nNo. of Pages of the Original Signed Document\\n(Including the cover sheet)\\nConsideration Amount (If applicable)\\n।\\n2/29/24\\nBURLINGTON COUNTY CLERK\\n2024 MAR - 1 AM 9:49\\nRECEIVED\\nOfficial Use Only\\nConstruction Lien\\n3\\nFirst Party\\n(Grantor or Mortgagor or\\nAssignor)\\n(Enter up to five names)\\nName(s)\\n(Last Name First Name Middle Initial Suffix) (or Company Name as written)\\nAddress (Optional)\\nMistry Design\\nName(s)\\n(Last Name First Name Middle Initial Suffix) for Company Name as written)\\nAddress (Optional)\\nSecond Party\\n(Grantee or Mortgagee or\\nAssignee)\\n(Enter up to five names).\\nK+PI\\nReally.\\nParcel Information (Enter up to three entries)\\nMunicipality\\nBlock\\nLot\\nQualifier\\n.Property Address\\nRiverton 1501\\n12\\nBook Type\\nBook\\nBeginning Page\\nInstrument No.\\nRecorded/File Date\\ni\\nReference Information (Enter up to three entries)\\n*DO NOT REMOVE THIS PAGE.\\nDOCUMENT SUMMARY SHEET (COVER SHEET) IS PART OF BURLINGTON COUNTY FILING RECORD, RETAIN THIS PAGE FOR FUTURE REFERENCE.\\nBook # OR 13708 Page # 5835 Inst. # 5880096\\nUpdated: 2019-01\\n\\n---------------------------------------------\\n\\n---------------------------------------------\\n\"],\n",
       "             52080249: ['\\n---------------------------------------------\\n\\n---------------------------------------------\\n\\n---------------------------------------------\\n'],\n",
       "             52136535: ['\\n---------------------------------------------\\n\\n---------------------------------------------\\n'],\n",
       "             52135777: ['\\n---------------------------------------------\\n\\n---------------------------------------------\\n'],\n",
       "             52136815: ['\\n---------------------------------------------\\n\\n---------------------------------------------\\n\\n---------------------------------------------\\n\\n---------------------------------------------\\n\\n---------------------------------------------\\n\\n---------------------------------------------\\n\\n---------------------------------------------\\n\\n---------------------------------------------\\n\\n---------------------------------------------\\n\\n---------------------------------------------\\n\\n---------------------------------------------\\n\\n---------------------------------------------\\n\\n---------------------------------------------\\n\\n---------------------------------------------\\n'],\n",
       "             52035216: ['\\n---------------------------------------------\\n\\n---------------------------------------------\\n\\n---------------------------------------------\\n\\n---------------------------------------------\\n\\n---------------------------------------------\\n'],\n",
       "             51593327: ['\\n---------------------------------------------\\n\\n---------------------------------------------\\n\\n---------------------------------------------\\n\\n---------------------------------------------\\n\\n---------------------------------------------\\n\\n---------------------------------------------\\n\\n---------------------------------------------\\n\\n---------------------------------------------\\n\\n---------------------------------------------\\n\\n---------------------------------------------\\n'],\n",
       "             52134874: ['\\n---------------------------------------------\\n\\n---------------------------------------------\\n'],\n",
       "             52137555: ['\\n---------------------------------------------\\n\\n---------------------------------------------\\n\\n---------------------------------------------\\n'],\n",
       "             52078488: ['\\n---------------------------------------------\\n\\n---------------------------------------------\\n\\n---------------------------------------------\\n'],\n",
       "             51903278: ['\\n---------------------------------------------\\n'],\n",
       "             52135760: ['\\n---------------------------------------------\\n\\n---------------------------------------------\\n\\n---------------------------------------------\\n\\n---------------------------------------------\\n\\n---------------------------------------------\\n\\n---------------------------------------------\\n\\n---------------------------------------------\\n\\n---------------------------------------------\\n\\n---------------------------------------------\\n\\n---------------------------------------------\\n'],\n",
       "             52135758: ['\\n---------------------------------------------\\n\\n---------------------------------------------\\n\\n---------------------------------------------\\n\\n---------------------------------------------\\n\\n---------------------------------------------\\n\\n---------------------------------------------\\n\\n---------------------------------------------\\n\\n---------------------------------------------\\n\\n---------------------------------------------\\n\\n---------------------------------------------\\n\\n---------------------------------------------\\n'],\n",
       "             52138603: ['\\n---------------------------------------------\\n\\n---------------------------------------------\\n\\n---------------------------------------------\\n\\n---------------------------------------------\\n\\n---------------------------------------------\\n\\n---------------------------------------------\\n\\n---------------------------------------------\\n\\n---------------------------------------------\\n'],\n",
       "             52137508: ['\\n---------------------------------------------\\n\\n---------------------------------------------\\n\\n---------------------------------------------\\n\\n---------------------------------------------\\n\\n---------------------------------------------\\n\\n---------------------------------------------\\n\\n---------------------------------------------\\n\\n---------------------------------------------\\n\\n---------------------------------------------\\n\\n---------------------------------------------\\n\\n---------------------------------------------\\n'],\n",
       "             52035037: ['\\n---------------------------------------------\\n\\n---------------------------------------------\\n\\n---------------------------------------------\\n\\n---------------------------------------------\\n\\n---------------------------------------------\\n'],\n",
       "             52136152: ['\\n---------------------------------------------\\n\\n---------------------------------------------\\n\\n---------------------------------------------\\n\\n---------------------------------------------\\n\\n---------------------------------------------\\n'],\n",
       "             52136581: ['\\n---------------------------------------------\\n\\n---------------------------------------------\\n\\n---------------------------------------------\\n\\n---------------------------------------------\\n\\n---------------------------------------------\\n\\n---------------------------------------------\\n'],\n",
       "             52136450: ['\\n---------------------------------------------\\n\\n---------------------------------------------\\n\\n---------------------------------------------\\n\\n---------------------------------------------\\n\\n---------------------------------------------\\n'],\n",
       "             52138402: ['\\n---------------------------------------------\\n\\n---------------------------------------------\\n\\n---------------------------------------------\\n\\n---------------------------------------------\\n\\n---------------------------------------------\\n\\n---------------------------------------------\\n\\n---------------------------------------------\\n'],\n",
       "             52128787: ['\\n---------------------------------------------\\n\\n---------------------------------------------\\n\\n---------------------------------------------\\n'],\n",
       "             52135469: ['\\n---------------------------------------------\\n\\n---------------------------------------------\\n\\n---------------------------------------------\\n\\n---------------------------------------------\\n'],\n",
       "             52137818: ['\\n---------------------------------------------\\n\\n---------------------------------------------\\n\\n---------------------------------------------\\n\\n---------------------------------------------\\n'],\n",
       "             52137031: ['\\n---------------------------------------------\\n\\n---------------------------------------------\\n\\n---------------------------------------------\\n\\n---------------------------------------------\\n'],\n",
       "             52136649: ['\\n---------------------------------------------\\nAtlantic County\\nDocument Summary Sheet\\nType\\nASSIGNMENT OF MORTGAGE\\nConsideration\\nSubmitted By\\nSIMPLIFILE, LLC. (SIMPLIFILE)\\nDocument Date Reference Info\\n12/05/2023\\nBook ID\\nBook\\nBeginning Page\\nInstrument No.\\nRecorded/File Date\\n2005097920\\nASSIGNMENT OF\\nASSIGNOR\\nMORTGAGE\\nName\\nGOLDMAN SACHS MORTGAGE COMPANY\\nSELECT PORTFOLIO SERVICING INC\\nAS ITS ATTORNEY IN FACT\\nNICOLE D WYMAN\\nAddress\\nName\\nAddress\\nASSIGNEE\\nCSMC 2022-RPL1 TRUST\\nParcel Info\\nProperty Type\\nTax Dist.\\nBlock\\nLot\\nQualifier\\nMunicipality\\n* DO NOT REMOVE THIS PAGE.\\nCOVER SHEET [DOCUMENT SUMMARY FORM] IS PART OF ATLANTIC COUNTY FILING RECORD. RETAIN THIS PAGE FOR FUTURE REFERENCE.\\nBD56CD4D-7359-C460-3BA6-B883F0B90BA9/6955585 8490202\\nINSTRUMENT # 2024003072 E-RECORD PAGE 2 OF 3\\nPage 2 of 2\\n\\n---------------------------------------------\\n'],\n",
       "             52136246: ['\\n---------------------------------------------\\n\\n---------------------------------------------\\n\\n---------------------------------------------\\n'],\n",
       "             52134733: ['\\n---------------------------------------------\\n\\n---------------------------------------------\\n\\n---------------------------------------------\\n\\n---------------------------------------------\\n'],\n",
       "             52136821: ['\\n---------------------------------------------\\n\\n---------------------------------------------\\n\\n---------------------------------------------\\n'],\n",
       "             52040165: ['\\n---------------------------------------------\\n\\n---------------------------------------------\\n\\n---------------------------------------------\\n'],\n",
       "             52040161: ['\\n---------------------------------------------\\n\\n---------------------------------------------\\n\\n---------------------------------------------\\n'],\n",
       "             52134766: ['\\n---------------------------------------------\\n\\n---------------------------------------------\\n\\n---------------------------------------------\\n\\n---------------------------------------------\\n\\n---------------------------------------------\\n\\n---------------------------------------------\\n\\n---------------------------------------------\\n\\n---------------------------------------------\\n'],\n",
       "             52080161: ['\\n---------------------------------------------\\n\\n---------------------------------------------\\n\\n---------------------------------------------\\n\\n---------------------------------------------\\n\\n---------------------------------------------\\n\\n---------------------------------------------\\n'],\n",
       "             51619397: ['\\n---------------------------------------------\\n\\n---------------------------------------------\\n\\n---------------------------------------------\\n\\n---------------------------------------------\\n\\n---------------------------------------------\\n\\n---------------------------------------------\\n\\n---------------------------------------------\\n'],\n",
       "             51619399: ['\\n---------------------------------------------\\n\\n---------------------------------------------\\n\\n---------------------------------------------\\n\\n---------------------------------------------\\n\\n---------------------------------------------\\n\\n---------------------------------------------\\n\\n---------------------------------------------\\n'],\n",
       "             52138698: ['\\n---------------------------------------------\\n\\n---------------------------------------------\\n'],\n",
       "             52069110: ['\\n---------------------------------------------\\n\\n---------------------------------------------\\n'],\n",
       "             52137812: ['Atlantic County\\nDocument Summary Sheet\\nATLANTIC COUNTY CLERK\\n5901 MAIN ST\\nMAYS LANDING NJ 08330 1797\\nATLANTIC COUNTY, NJ\\nJOSEPH J. GIRALO, COUNTY CLERK RECORDED 02/23/2024 10:36:37\\nRCPT # 1751598 RECD BY E-RECORD NAME FEE\\nRECORDING FEES 40.00 INSTRUMENT# 2024009066\\nVOL 15556 PAGE 1 OF 3\\nTransaction Identification Number\\nSubmission Date(mm/dd/yyyy)\\nNo. of Pages (excluding Summary Sheet)\\nRecording Fee (excluding transfer tax)\\nRealty Transfer Tax\\nTotal Amount\\nDocument Type\\nDISCHARGE OF MORTGAGE\\nMunicipal Codes\\nFOLSOM\\n13\\nBatch Type\\nL2-LEVEL 2 (WITH IMAGES)\\n566126\\n7015995\\nOfficial Use Only\\n8568084\\n02/06/2024\\n1\\nReturn Address (for recorded documents)\\nRICHMOND MONROE GROUP INC\\n82 JIM LINEGAR LN\\n$40.00\\nBRANSON WEST, MO 65737\\n$0.00\\n$40.00\\nAdditional Information (Official Use Only)\\n* DO NOT REMOVE THIS PAGE.\\nCOVER SHEET [DOCUMENT SUMMARY FORM] IS PART OF ATLANTIC COUNTY FILING RECORD. RETAIN THIS PAGE FOR FUTURE REFERENCE.\\n10251691_2M6D(17H14M21S931)/7015995 8568084\\nPage 1 of 2\\n\\n---------------------------------------------\\nAtlantic County\\nDocument Summary Sheet\\nType\\nDISCHARGE OF MORTGAGE\\nConsideration\\nSubmitted By\\nRICHMOND MONROE GROUP INC (CSC/INGEO SYSTEMS INC)\\nDocument Date Reference Info\\n02/06/2024\\nBook ID\\nBook\\nBeginning Page\\nInstrument No.\\nRecorded/File Date\\nOR\\n15437\\n2023023309\\nDISCHARGE OF MORTGAGE\\nREC.HOLDER\\nName\\nSILVER HILL FUNDING LLC\\nAddress\\nName\\nAddress\\nMORTGAGOR\\nMORADA HOLDINGS LLC\\nParcel Info\\nProperty Type\\nTax Dist.\\nBlock\\nLot\\nQualifier\\nMunicipality\\n* DO NOT REMOVE THIS PAGE.\\nCOVER SHEET [DOCUMENT SUMMARY FORM] IS PART OF ATLANTIC COUNTY FILING RECORD. RETAIN THIS PAGE FOR FUTURE REFERENCE.\\n10251691_2M6D(17H14M21S931)/7015995 8568084\\nINSTRUMENT # 2024009066 E-RECORD PAGE 2 OF 3\\nPage 2 of 2\\n\\n---------------------------------------------\\nRecording Requested By:\\nRICHMOND MONROE GROUP, INC.\\nWhen Recorded Mail To:\\nBRITTANY MCCANDLESS\\nRICHMOND MONROE GROUP, INC.\\nP.O. BOX 458\\nKIMBERLING CITY, MO, 65686\\nLoan #: 3451202\\nTS Ref #: 0014160000002570\\nNJ/ATLANTIC\\nSATISFACTION, CANCELLATION OR DISCHARGE OF MORTGAGE\\nKNOW ALL BY THESE PRESENTS that SILVER HILL FUNDING, LLC as holder of a certain Mortgage executed to secure payment of $148,375.00 and interest, whose parties, dates and recording information are below, does hereby acknowledge that it has received full payment and satisfaction of the same, and in consideration thereof, does hereby cancel and discharge said Mortgage. Said Mortgage may be discharged of record and is now cancelled and void.\\nOriginal Mortgagor: MORADA HOLDINGS LLC, A NEW JERSEY LIMITED LIABILITY COMPANY\\nOriginal Mortgagee: SILVER HILL FUNDING, LLC\\nDate Executed: 5/4/2023\\nRecording Info: Recorded: 5/12/2023, Instrument #: 2023023309, Book: 15437, Page: 1 in the County of ATLANTIC, State of NEW JERSEY.\\nThe property is located in the Borough of FOLSOM.\\nProperty Address: 1318 MAYS LANDING ROAD, HAMMONTON, NJ, 08037\\nIN WITNESS WHEREOF, the undersigned holder has set its name hereunto;\\nSILVER HILL FUNDING, LLC\\nOn: February 06, 2024\\nBy:\\nName:\\nTitle:\\nBut\\nBRITTANY MCCANDLESS\\nVICE PRESIDENT\\nState of MISSOURI\\nCounty of STONE\\nOn February 06, 2024, before me, Stephanie Barber, a Notary Public in and for STONE County, in the State of MISSOURI, personally appeared BRITTANY MCCANDLESS, VICE PRESIDENT, SILVER HILL FUNDING, LLC, personally known to me (or proved to me on the basis of satisfactory evidence) to be the person(s) whose name(s) is/are subscribed to the within instrument and acknowledged to me that he/she/they executed the same in his/her/their authorized capacity, and that by his/her/their signature on the instrument the person(s), or the entity upon behalf of which the person(s) acted, executed the instrument.\\nWITNESS my hand and official seal,\\nStephanie Backre\\nStephanie Barber\\nNotary Expires. 9/8/2026 / #: 22149114\\nSTEPHANIE BARBER\\nNOTARY PUBLIC - NOTARY SEAL STATE OF MISSOURI\\nMY COMMISSION EXPIRES SEPTEMBER 8, 2026\\nSTONE COUNTY COMMISSION #22149114\\nINSTRUMENT # 2024009066 E-RECORD PAGE 3 OF 3\\n'],\n",
       "             52034715: ['COUNTY\\nOF\\nNEW\\nMONMOUTH\\nVERBEY\\nMONMOUTH COUNTY CLERK\\nPO BOX 1251\\nMARKET YARD\\nFREEHOLD NJ 07728\\nInst. # 2024009375\\n-\\nPage 1 of 3\\nMonmouth County Document Summary Sheet\\nTransaction Identification Number\\n7020515\\nRecorded Document to be Returned by Submitter to:\\nMISSION CAPITAL ADVISORS LLC\\n5701 E. HILLSBOROUGH AVENUE, SUITE 2457\\nTAMPA, FL 33610\\nOfficial Use Only\\nCHRISTINE GIORDANO HANLON\\nCOUNTY CLERK\\nMONMOUTH COUNTY, NJ\\nSubmission Date (mm/dd/yyyy)\\nNo. of Pages (excluding Summary Sheet) Recording Fee (excluding transfer tax)\\nRealty Transfer Tax\\nTotal Amount\\nINSTRUMENT NUMBER\\n2024009375\\nRECORDED ON\\nFeb 12, 2024\\n10:45:49 AM\\nBOOK: OR-9677 PAGE:3561\\nTotal Pages: 3\\nDocument Type\\nDISCHARGE/MORTGAGE\\nElectronic Recordation Level\\nL2 Level 2 (With Images)\\nMunicipal Codes\\nCOUNTY RECORDING FEES TOTAL PAID\\n$40.00 $40.00\\nOAKHURST\\nAdditional Information (Official Use Only)\\n1482504\\n* DO NOT REMOVE THIS PAGE.\\nCOVER SHEET [DOCUMENT SUMMARY FORM] IS PART OF MONMOUTH COUNTY FILING RECORD. RETAIN THIS PAGE FOR FUTURE REFERENCE.\\nOFAF9703-BE5F-E5B7-8B35-918190290CC1/7020515 8573771\\n3701\\n8573771\\n02/09/2024\\n1\\n$40.00\\n$0.00\\n$40.00\\nPage 1 of 2\\n\\n---------------------------------------------\\n\\n---------------------------------------------\\n'],\n",
       "             52034714: ['\\n---------------------------------------------\\n\\n---------------------------------------------\\n\\n---------------------------------------------\\n'],\n",
       "             52034713: ['\\n---------------------------------------------\\n\\n---------------------------------------------\\n'],\n",
       "             52034712: ['\\n---------------------------------------------\\n\\n---------------------------------------------\\n'],\n",
       "             52034685: ['\\n---------------------------------------------\\n\\n---------------------------------------------\\n'],\n",
       "             51932929: ['\\n---------------------------------------------\\n\\n---------------------------------------------\\n'],\n",
       "             52138373: ['\\n---------------------------------------------\\n\\n---------------------------------------------\\n\\n---------------------------------------------\\n\\n---------------------------------------------\\n\\n---------------------------------------------\\n'],\n",
       "             52136153: ['\\n---------------------------------------------\\n\\n---------------------------------------------\\n\\n---------------------------------------------\\n\\n---------------------------------------------\\n\\n---------------------------------------------\\n\\n---------------------------------------------\\n\\n---------------------------------------------\\n\\n---------------------------------------------\\n'],\n",
       "             52135271: ['\\n---------------------------------------------\\n\\n---------------------------------------------\\n\\n---------------------------------------------\\n\\n---------------------------------------------\\n\\n---------------------------------------------\\n\\n---------------------------------------------\\n\\n---------------------------------------------\\n\\n---------------------------------------------\\n'],\n",
       "             52135269: ['\\n---------------------------------------------\\n\\n---------------------------------------------\\n\\n---------------------------------------------\\n\\n---------------------------------------------\\n\\n---------------------------------------------\\n\\n---------------------------------------------\\n\\n---------------------------------------------\\n\\n---------------------------------------------\\n'],\n",
       "             52079877: ['\\n---------------------------------------------\\n\\n---------------------------------------------\\n\\n---------------------------------------------\\n\\n---------------------------------------------\\n\\n---------------------------------------------\\n\\n---------------------------------------------\\n\\n---------------------------------------------\\n\\n---------------------------------------------\\n'],\n",
       "             52137879: ['\\n---------------------------------------------\\n\\n---------------------------------------------\\n\\n---------------------------------------------\\n\\n---------------------------------------------\\n\\n---------------------------------------------\\n\\n---------------------------------------------\\n\\n---------------------------------------------\\n\\n---------------------------------------------\\n\\n---------------------------------------------\\n'],\n",
       "             51280664: ['\\n---------------------------------------------\\n\\n---------------------------------------------\\n\\n---------------------------------------------\\n\\n---------------------------------------------\\n\\n---------------------------------------------\\n\\n---------------------------------------------\\n'],\n",
       "             52135714: ['\\n---------------------------------------------\\n\\n---------------------------------------------\\n\\n---------------------------------------------\\n\\n---------------------------------------------\\n\\n---------------------------------------------\\n\\n---------------------------------------------\\n\\n---------------------------------------------\\n\\n---------------------------------------------\\n'],\n",
       "             52080240: ['\\n---------------------------------------------\\n\\n---------------------------------------------\\n\\n---------------------------------------------\\n\\n---------------------------------------------\\n\\n---------------------------------------------\\n\\n---------------------------------------------\\n\\n---------------------------------------------\\n\\n---------------------------------------------\\n'],\n",
       "             52039994: ['\\n---------------------------------------------\\n\\n---------------------------------------------\\n'],\n",
       "             52034686: ['\\n---------------------------------------------\\n\\n---------------------------------------------\\n\\n---------------------------------------------\\n\\n---------------------------------------------\\n\\n---------------------------------------------\\n\\n---------------------------------------------\\n\\n---------------------------------------------\\n\\n---------------------------------------------\\n\\n---------------------------------------------\\n\\n---------------------------------------------\\n'],\n",
       "             52135756: ['\\n---------------------------------------------\\n\\n---------------------------------------------\\n\\n---------------------------------------------\\n\\n---------------------------------------------\\n\\n---------------------------------------------\\n'],\n",
       "             52135606: ['\\n---------------------------------------------\\n\\n---------------------------------------------\\n\\n---------------------------------------------\\n\\n---------------------------------------------\\n\\n---------------------------------------------\\n\\n---------------------------------------------\\n'],\n",
       "             52138297: ['\\n---------------------------------------------\\n\\n---------------------------------------------\\n\\n---------------------------------------------\\n\\n---------------------------------------------\\n'],\n",
       "             52080476: ['\\n---------------------------------------------\\n\\n---------------------------------------------\\n\\n---------------------------------------------\\n\\n---------------------------------------------\\n\\n---------------------------------------------\\n\\n---------------------------------------------\\n\\n---------------------------------------------\\n\\n---------------------------------------------\\n\\n---------------------------------------------\\n\\n---------------------------------------------\\n'],\n",
       "             51469866: ['\\n---------------------------------------------\\n\\n---------------------------------------------\\n\\n---------------------------------------------\\n\\n---------------------------------------------\\n\\n---------------------------------------------\\n\\n---------------------------------------------\\n\\n---------------------------------------------\\n\\n---------------------------------------------\\n\\n---------------------------------------------\\n\\n---------------------------------------------\\n\\n---------------------------------------------\\n\\n---------------------------------------------\\n\\n---------------------------------------------\\n\\n---------------------------------------------\\n\\n---------------------------------------------\\n\\n---------------------------------------------\\n\\n---------------------------------------------\\n\\n---------------------------------------------\\n\\n---------------------------------------------\\n'],\n",
       "             52080369: ['\\n---------------------------------------------\\n\\n---------------------------------------------\\n'],\n",
       "             46314995: ['COUNTY\\nOF\\nNEW\\nONMOUTH\\nJERSEY\\nMONMOUTH COUNTY CLERK\\nPO BOX 1251\\nMARKET YARD\\nFREEHOLD NJ 07728\\nOfficial Use Only\\nCHRISTINE GIORDANO HANLON\\nCOUNTY CLERK\\nMONMOUTH COUNTY, NJ\\nINSTRUMENT NUMBER\\n3842530/6753419 8230267\\nMonmouth County Document Summary Sheet\\n2023049835 RECORDED ON Jul 21, 2023 12:50:34 PM\\nBOOK: OR-9652 PAGE:8884\\nTotal Pages: 3\\nCOUNTY RECORDING FEES $52.00 TOTAL PAID\\n$52.00\\nInst. # 2023049835 Page 1 of 3\\nTransaction Identification Number\\nRecorded Document to be Returned by Submitter to:\\nINDECOMM GLOBAL SERVICES\\n1260 ENERGY LANE\\nST. PAUL, MN 55108\\nSubmission Date (mm/dd/yyyy)\\nNo. of Pages (excluding Summary Sheet)\\nRecording Fee (excluding transfer tax)\\nRealty Transfer Tax\\nTotal Amount\\nDocument Type ASSIGNMENT/MORTGAGE\\nElectronic Recordation Level L2 - Level 2 (With Images)\\nMunicipal Codes\\nMONMOUTH COUNTY\\n6753419\\nAdditional Information (Official Use Only)\\n1439590\\n* DO NOT REMOVE THIS PAGE.\\nCOVER SHEET [DOCUMENT SUMMARY FORM] IS PART OF MONMOUTH COUNTY FILING RECORD. RETAIN THIS PAGE FOR FUTURE REFERENCE.\\n99\\n8230267\\n07/21/2023\\n$52.00\\n$0.00\\n$52.00\\nPage 1 of 2\\n\\n---------------------------------------------\\nASSIGNMENT/M ORTGAGE\\nOF\\nNTY\\nType\\nONMOUTH\\nConsideration\\nSubmitted By\\nDocument Date\\nReference Info\\nOR\\nBook ID\\nMORTGAGOR AND\\nA COTÓNAD\\n3842530/6753419 8230267\\nASSIGNEE\\nParcel Info\\nMonmouth County Document Summary Sheet\\nProperty Type\\nkanakInst. # 2023049835 Page 2 of 3\\nASSIGNMENT/MORTGAGE\\nINDECOMM GLOBAL SERVICES (INDECOMM GLOBAL\\nSEDWIDEY\\n07/04/2023\\nBook\\n8500\\nBeginning Page Instrument No.\\nName\\nJOSEPH PIAZZA\\nUS BANK TRUST COMPANY\\nNATIONAL ASSOCIATION\\nUS BANK NATIONAL ASSOCIATION\\nTax Dist.\\n99\\nMASTR ASSET BACKED SECURITIES TRUST\\nPHH MORTGAGF CORPORATION\\nName\\nAAMES FUNDING CORPORATION AAMES HOME LOAN\\nBlock\\n2005159215\\nLot\\nRecorded/File Date\\n10/04/2005\\nAddress\\nAddress\\nQualifier Municipality\\n* DO NOT REMOVE THIS PAGE.\\nCOVER SHEET [DOCUMENT SUMMARY FORM] IS PART OF MONMOUTH COUNTY FILING RECORD. RETAIN THIS PAGE FOR FUTURE REFERENCE.\\nPage 2 of 2\\n\\n---------------------------------------------\\nRecording Requested By:\\nPHH MORTGAGE CORPORATION\\nWhen Recorded Return To: Indecomm Global Services 1427 Energy Park Drive St. Paul, MN 55108\\nRec 2nd\\nLoan No: 0038388088\\nNOTE: PLEASE CROSS REFERENCE WITH THAT CERTAIN MORTGAGE RECORDED ON 10/04/2005, AS BOOK OR-8500 PAGE 99 AS INSTRUMENT 2005159215, Monmouth COUNTY, STATE RECORDS.\\n1.\\nPersonally appeared before the undersigned officer authorized by law to administer oaths in said State and County, comes the undersigned, who states on oath as follows:\\n2.\\n3.\\n4.\\nInst. # 2023049835 Page 3 of 3\\nThat on or about 09/24/2005, JOSEPH PIAZZA, JR executed a Note and a Mortgage in favor of Aames Funding Corporation DBA Aames Home Loan which Mortgage was recorded 10/04/2005 as Book OR-8500 Page 99 as Instrument 2005159215 in Monmouth County land records.\\nProperty Address: 641 MORNINGSIDE AVE, UNION BEACH, NJ 07735\\nThat Aames Funding Corporation DBA Aames Home Loan subsequently transferred its interest in the above Note to U.S. Bank Trust Company, National Association, as trustee, as successor-in-interest to U.S. Bank National Association, as Trustee for the registered holders of MASTR Asset Backed Securities Trust, 2006-AM1, Mortgage Pass-Through Certificates, Series 2006-AM1. The original assignment was lost or misplaced before being recorded.\\nThis affidavit may be relied on by purchasers, sellers, lenders, attorneys and title insurers.\\nWitness\\nThat I am over 21 years of age, and competent to give this affidavit.\\nThat I currently serve as an officer of PHH MORTGAGE CORPORATION SUCCESSOR BY MERGER TO OCWEN LOAN SERVICING, LLC and am personally familiar with the facts set forth herein.\\nAFFIDAVIT OF LOST ASSIGNMENT\\nSigned, sealed and delivered in the presence of:\\nJ Murtol Daniel Jea Shemal\\nWitness\\nJuliana Thurab\\nSTATE OF Florida\\nCOUNTY OF Palm Beach\\nWITNESS mẫy hand and official seal,\\nЕ дружел\\nSamuel E/Moreno Jr. Notary Expires:\\nU.S. Bank Trust Company, National Association, as trustee, as successor-in-interest to U.S. Bank National Association, as Trustee for the registered holders of MASTR Asset Backed Securities Trust, 2006-AM1, Mortgage Pass-Through Certificates, Series 2006-AM1, by its attorney-in-fact PHH Mortgage Corporation\\n7-4-2023\\nдителе\\nBy:\\nJoelly Carvajal, Authorized Signer\\nJUI\\n-U082842421427 7/19/2023 82394393/3\\nOn 07/06/2023 before me by means of [x] physical presence or [] online notarization, Samuel E. Moreno Jr., a Notary Public in and for Palm Beach in the State of Florida, personally appeared Joelly M Carvajal, Authorized Signer of PHH Mortgage Corporation as its attorney-in-fact for U.S. Bank Trust Company, National Association, as trustee, as successor-in-interest to U.S. Bank National Association, as Trustee for the registered holders of MASTR Asset Backed Securities Trust, 2006-AM1, Mortgage Pass-Through Certificates, Series 2006-AM1, personally known to me (or proved to me on the basis of satisfactory evidence) to be the person(s) whose name(s) is/are subscribed to the within instrument and acknowledged to me that he/she/they executed the same in his/her/ their authorized capacity, and that by his/her/their signature on the instrument the person(s), or the entity upon behalf of which the person(s) acted, executed the instrument.\\nvegetE\\n↓\\nSAMUEL E. MORENO JR. Notary Public - State of Florida Commission # HH 056398 My Comm. Expires Nov 8, 2024 Bonded through National Notary Assn.\\nwwwwww\\n(This area for notarial seal)\\n'],\n",
       "             52128641: ['\\n---------------------------------------------\\n\\n---------------------------------------------\\n'],\n",
       "             52040403: ['\\n---------------------------------------------\\n\\n---------------------------------------------\\n'],\n",
       "             51359669: ['Atlantic County Document Summary Sheet\\nATLANTIC COUNTY CLERK\\n5901 MAIN ST\\nMAYS LANDING NJ 08330 1797\\nSubmission Date(mm/dd/yyyy)\\nNo. of Pages (excluding Summary Sheet)\\nRecording Fee (excluding transfer tax)\\nRealty Transfer Tax\\nTotal Amount\\nDocument Type\\nMunicipal Codes\\nSOMERS POINT\\nBatch Type\\nTransaction Identification Number\\nDISCHARGE OF MORTGAGE\\nL2 - LEVEL 2 (WITH IMAGES)\\n561674\\n22\\n01/05/2024\\n9FBB4DAB-EE4F-12A8-4F89-1DC7B0189E28/6977166 8518624\\n1\\n$40.00\\n$0.00\\n$40.00\\nATLANTIC COUNTY, NJ\\nJOSEPH J. GIRALO, COUNTY CLERK\\nRECORDED 01/31/2024 15:06:56\\nRCPT # 1748394 RECD BY E-RECORD NAME FEE\\nRECORDING FEES 40.00\\nINSTRUMENT# 2024004905\\nVOL 15544 PAGE 1 OF 3\\nOfficial Use Only\\n6977166\\nReturn Address (for recorded documents)\\nAdditional Information (Official Use Only)\\n8518624\\nRICHMOND MONROE\\n82 JIM LINEGAR LANE\\nBRANSON WEST, MO 65737\\n* DO NOT REMOVE THIS PAGE.\\nCOVER SHEET ĮDOCUMENT SUMMARY FORM] IS PART OF ATLANTIC COUNTY FILING RECORD. RETAIN THIS PAGE FOR FUTURE REFERENCE.\\nPage 1 of 2\\n\\n---------------------------------------------\\nDISCHARGE OF MORTGAGE\\nAtlantic County\\nDocument Summary Sheet\\nType\\nConsideration\\nSubmitted By\\nDocument Date\\nReference Info\\nBook ID\\nREC.HOLDER\\nMORTGAGOR\\nParcel Info\\nProperty Type\\nDISCHARGE OF MORTGAGE\\nSIMPLIFILE, LLC. (SIMPLIFILE)\\n01/04/2024\\nBook\\nCSMC 2021-JR1 TRUST\\nTax Dist.\\nName\\nNANCY K MILLER HENRY MILLER\\n22\\nName\\n9FBB4DAB-EE4F-12A8-4F89-1DC7B0189E28/6977166 8518624\\nBeginning Page\\nINSTRUMENT # 2024004905 E-RECORD PAGE 2 OF 3\\nBlock\\n1919\\nLot\\n8\\nInstrument No. Recorded/File Date\\n2006076498\\nAddress\\nAddress\\n* DO NOT REMOVE THIS PAGE.\\nCOVER SHEET ĮDOCUMENT SUMMARY FORM] IS PART OF ATLANTIC COUNTY FILING RECORD. RETAIN THIS PAGE FOR FUTURE REFERENCE.\\nQualifier\\nMunicipality\\n22\\nPage 2 of 2\\n\\n---------------------------------------------\\nRecording Requested By: Richmond Monroe Group, Inc\\nWhen Recorded Mail To: Jeff Prose\\nRichmond Monroe Group, Inc 82 Jim Linegar Ln\\nBranson West, MO, 65737 (417) 447-2931\\nLoan #: 0020056990\\nTS Ref #: 0004190000173272 Client Ref #: 11334738\\nNJ/ATLANTIC\\nPaid in Full: 12/06/2023\\nKNOW ALL BY THESE PRESENTS that CSMC 2021-JR1 TRUST BY SELECT PORTFOLIO SERVICING, INC. ITS ATTORNEY IN FACT as holder of a certain Mortgage executed to secure payment of $45,000.00 and interest, whose parties, dates and recording information are below, does hereby acknowledge that it has received full payment and satisfaction of the same, and in consideration thereof, does hereby cancel and discharge said Mortgage. Said Mortgage may be discharged of record and now cancelled and void.\\nOriginal Mortgagor: NANCY K MILLER, MARRIED, HENRY MILLER MARRIED\\nOriginal Mortgagee: CHAMPION MORTGAGE, A DIVISION OF KEYBANK NATIONAL ASSOCIATION Date Executed: 7/20/2006\\nRecording Info: Recorded: 8/2/2006, Instrument #: 2006076498, Book: 12398, Page: N/A in the County of ATLANTIC, State of NEW JERSEY.\\nT\\nSATISFACTION, CANCELLATION OR DISCHARGE OF MORTGAGE\\nThe property is located in the City of SOMERS POINT\\nProperty Address: 66 EAST LAUREL DRIVE, SOMERS POINT, NJ, 08244\\nIN WITNESS WHEREOF, the undersigned holder has set its name hereunto;\\nCSMC 2021-JR1 TRUST BY SELECT PORTFOLIO SERVICING, INC. ITS ATTORNEY IN FACT\\nJAN 0 4 2024\\nOn:\\nBy\\nName:\\nTitle:\\nبہت\\nMiquel Bocanegra Document Control Officer\\nState of UTAH\\nCounty of SALT LAKE\\nRachel Hadfield Notary Expires: DEC 1 4 2025. /#:\\nPOAT\\nSELECT\\nINSTRUMENT # 2024004905 E-RECORD PAGE 3 OF 3\\n*Corporan 1980\\nUPAH\\nRachel Hadfield\\nJAN 0 4 2024\\nOn\\nbefore me,\\nand for SALT LAKE in the State of UTAH, personally appeared\\nMiquel Bocanegra.\\na Notary Public in Document Control Officer CSMC 2021-JR1 TRUST BY SELECT PORTFOLIO SERVICING, INC ITS ATTORNEY IN FACT, personally known to me (or proved to me on the basis of satisfactory evidence) to be the person(s) whose name(s) is/are subscribed to the within instrument and acknowledged to me that he/she/they executed the same in his/her/their authorized capacity, and that by his/her/their signature on the instrument the person(s), or the entity upon behalf of which the person(s) acted, executed the instrument.\\nWITNESS my hand and official seal,\\n121938\\nSERATING\\nTIEP NY\\n***\\nONA\\nRACHEL HADFIELD Notary Public State of Utah My Commission Expires on: December 14, 2025 Commi. Number 721938\\n'],\n",
       "             52138121: ['\\n---------------------------------------------\\n\\n---------------------------------------------\\n\\n---------------------------------------------\\n\\n---------------------------------------------\\n\\n---------------------------------------------\\n\\n---------------------------------------------\\n\\n---------------------------------------------\\n\\n---------------------------------------------\\n\\n---------------------------------------------\\n\\n---------------------------------------------\\n\\n---------------------------------------------\\n\\n---------------------------------------------\\n\\n---------------------------------------------\\n\\n---------------------------------------------\\n\\n---------------------------------------------\\n\\n---------------------------------------------\\n\\n---------------------------------------------\\n\\n---------------------------------------------\\n\\n---------------------------------------------\\n\\n---------------------------------------------\\n\\n---------------------------------------------\\n\\n---------------------------------------------\\n\\n---------------------------------------------\\n\\n---------------------------------------------\\n\\n---------------------------------------------\\n\\n---------------------------------------------\\n\\n---------------------------------------------\\n\\n---------------------------------------------\\n'],\n",
       "             52786690: ['\\n---------------------------------------------\\n\\n---------------------------------------------\\n\\n---------------------------------------------\\n'],\n",
       "             52136678: ['\\n---------------------------------------------\\n'],\n",
       "             52136674: ['\\n---------------------------------------------\\n\\n---------------------------------------------\\n'],\n",
       "             52136646: ['\\n---------------------------------------------\\n\\n---------------------------------------------\\n'],\n",
       "             52136618: ['Atlantic County\\nDocument Summary Sheet\\nATLANTIC COUNTY CLERK\\n5901 MAIN ST\\nMAYS LANDING NJ 08330 1797\\nATLANTIC COUNTY, NJ\\nJOSEPH J. GIRALO, COUNTY CLERK RECORDED 01/23/2024 12:04:56\\nRCPT # 1746810 RECD BY E-RECORD NAME FEE\\nRECORDING FEES 40.00 INSTRUMENT# 2024003040\\nVOL 15538 PAGE 1 OF 3\\nTransaction Identification Number\\nSubmission Date(mm/dd/yyyy)\\nNo. of Pages (excluding Summary Sheet)\\nRecording Fee (excluding transfer tax)\\nRealty Transfer Tax\\nTotal Amount\\nDocument Type\\nDISCHARGE OF MORTGAGE\\nMunicipal Codes\\nMARGATE\\n03\\nBatch Type\\nL2-LEVEL 2 (WITH IMAGES)\\n559324\\n12/18/2023\\n1\\n6955208\\nOfficial Use Only\\n8489728\\nReturn Address (for recorded documents)\\nNATIONWIDE TITLE CLEARING, LLC 2100 ALT 19\\n$40.00\\nPALM HARBOR, FL 34683\\n$0.00\\n$40.00\\nAdditional Information (Official Use Only)\\n* DO NOT REMOVE THIS PAGE.\\nCOVER SHEET [DOCUMENT SUMMARY FORM] IS PART OF ATLANTIC COUNTY FILING RECORD. RETAIN THIS PAGE FOR FUTURE REFERENCE.\\n65BEB61B-E54D-94BE-4E1D-50711BA2A496/6955208 8489728\\nPage 1 of 2\\n\\n---------------------------------------------\\n\\n---------------------------------------------\\n'],\n",
       "             52136586: ['\\n---------------------------------------------\\n\\n---------------------------------------------\\n'],\n",
       "             52136244: ['\\n---------------------------------------------\\n\\n---------------------------------------------\\n\\n---------------------------------------------\\n\\n---------------------------------------------\\n'],\n",
       "             52136990: ['\\n---------------------------------------------\\n\\n---------------------------------------------\\n'],\n",
       "             52136905: ['\\n---------------------------------------------\\n\\n---------------------------------------------\\n'],\n",
       "             51902600: ['\\n---------------------------------------------\\n\\n---------------------------------------------\\n'],\n",
       "             52128394: ['\\n---------------------------------------------\\n\\n---------------------------------------------\\n\\n---------------------------------------------\\n\\n---------------------------------------------\\n\\n---------------------------------------------\\n\\n---------------------------------------------\\n\\n---------------------------------------------\\n\\n---------------------------------------------\\n'],\n",
       "             52128642: ['\\n---------------------------------------------\\n\\n---------------------------------------------\\n'],\n",
       "             52128640: ['\\n---------------------------------------------\\n\\n---------------------------------------------\\n'],\n",
       "             51561119: ['\\n---------------------------------------------\\n\\n---------------------------------------------\\n'],\n",
       "             50775173: [\"CLERK OF SALEM COUNTY\\nNEW JERSEY 1727\\nSalem County Clerk's Office\\nDale A. Cross, Clerk\\n110 Fifth Street, Suite 200 Salem, NJ 08079-1073\\n856-935-7510 | salemcountyclerk.org\\nFIRST PARTY (GRANTOR OR MORTGAGOR OR\\nASSIGNOR OR\\nDEFENDANTS)\\n(ENTER UP TO\\nFIVE NAMES)\\nSECOND\\nPARTY (GRANTEE OR MORTGAGEE OR\\nASSIGNEE OR PLAINTIFF) (ENTER UP TO FIVE NAMES)\\nSubmitting Company\\nDocument Date (mm/dd/yyyy)\\nDocument Type\\nNo. of pages of the original Signed Document (include the Document Summary Sheet)\\nConsideration Amount (if applicable)\\nDEED PARCEL\\nINFORMATION (ENTER UP TO\\nTHREE\\nENTRIES)\\nREFERENCE INFORMATION\\n(ENTER UP TO THREE ENTRIES) (IF APPLICABLE)\\nAll information is to be typed or legibly Printed\\nDOCUMENT SUMMARY SHEET\\nSALEM COUNTY CLERK'S\\nReturn Name and Address:\\nFULTON BANK N.A.\\n555 WILLOW STREET LEBANON, PA 17046\\nNAME (S) (LAST NAME FIRST NAME M.I. SUFFIX) (COMPANY NAME AS WRITTEN)\\nMunicipality\\nCARPENTER MARGARET S\\nCARPENTER SAMUEL P\\nCARPENTER SAMUEL PRESTON\\nNAME (S) (LAST NAME FIRST NAME M.I. SUFFIX) (COMPANY NAME AS WRITTEN)\\n3290\\nBlock\\nFULTON BANK NA SUCCESSOR BY MERGER WITH FULTON BANK OF NEW J\\nTHE BANK\\nBook Type Original Book\\nNo.\\nFULTON BANK N.A.\\nLot\\n742\\n01/08/2024\\nDISCHARGE OF MORTGAGE\\nOriginal Beginning Page\\nINSTR # 2024000479 BK 4686 PG 566\\nPgs 0566 567; (2pgs)\\nRECORDED 01/19/2024 11:03:43 AM DALE A. CROSS, COUNTY CLERK SALEM COUNTY, NEW JERSEY RECORDING FEES: $50.00 RECORDED BY: K_SHEFFIELD\\nADDRESS (REQUIRED FOR DEEDS)\\nFOR OFFICIAL USE\\nADDRESS (REQUIRED FOR DEEDS)\\nInstrument No.\\nProperty Address\\n465 KINGS HIGHWAY, SALEM, NJ 08079\\n***DO NOT DISCARD THIS PAGE***\\nTHIS COVER SHEET [DOCUMENT SUMMARY] IS A PERMANENT PART\\nOF THE SALEM COUNTY, NJ RECORDING DOCUMENT\\n**** Disclaimer: This Sheet was Prepared by the Submitter****\\nRecorded/File Date\\n\\n---------------------------------------------\\n\"],\n",
       "             52462591: [\"Mercer County\\nDocument Summary Sheet\\nMERCER COUNTY CLERK\\nMERCER COUNTY COURTHOUSE\\n209 SOUTH BROAD STREET\\nINSTR # 2024007859\\nZ BK 1667 PG 1160\\nRECORDED 03/05/2024 03:15:40 PM\\nPAULA SOLLAMI COVELLO, COUNTY CLERK MERCER COUNTY, NEW JERSEY\\nFRENTON NJ 08608\\nTransaction Identification Number\\nSubmission Datemm/dd/yyym)\\nNo. of Pages (excluding Summary Sheet)\\nRecording Fee (excluding transfer tax)\\nRealty Transfer Tax\\nTotal Amount\\nDocument Type\\nDISCHARGE OF MORTGAGE\\nMunicipal Codes\\nTRENTON\\nTRE\\nBatch Type\\nL2-LEVEL 2 (WITH IMAGES)\\n488907\\nOfficial Use Only\\n8611370\\n03/05/2024\\n7050911\\nReturn Address\\n(for recorded documents)\\n1\\nRICHMOND MONROE\\n$43.00\\n82 JIM LINEGAR LANE\\nBRANSON WEST, MO 65737\\n$0.00\\n$43.00\\nAdditional Information (Official Use Only)\\ncertified copy\\n* DO NOT REMOVE THIS PAGE.\\nCOVER SHEET [DOCUMENT SUMMARY FORM] IS PART OF MERCER COUNTY FILING RECORD. RETAIN THIS PAGE FOR FUTURE REFERENCE.\\n91F52E02-4A22-7F3F-54B8-B5F7FA7804A7/7050911 8611370\\nPage 1 of 2\\n\\n---------------------------------------------\\nMercer County\\nDocument Summary Sheet\\nType\\nConsideration\\nSubmitted By\\nDocument Date\\nReference Info\\nDISCHARGE OF MORTGAGE\\nSIMPLIFILE, LLC. (SIMPLIFILE)\\n10/25/2023\\nThis\\nDISCHARGE OF MORTGAGE\\nBook ID\\nBook\\nBeginning Page\\nInstrument No.\\nRecorded/File Date\\n2018048307\\nMORTGA\\nName\\nWILMINGTON TRUST NATIONAL ASSOCIATION\\n-COREVEST AMERICAN FINANCE |2018-2 TRUST MORTGAGE PA MIDLAND LOAN SERVICES\\nPMC BANK NA\\nno\\nREC. HOLDER\\nParcel Info\\nAddress\\nName\\nMERCER COUNTY PORTFOLIO 2\\nLLC\\nAddress\\nMunicipality\\nCertified copy\\nProperty Type\\nTax Dist.\\nBlock\\n* DO NOT REMOVE THIS PAGE.\\nCOVER SHEET [DOCUMENT SUMMARY FORM] IS PART OF MERCER COUNTY FILING RECORD. RETAIN THIS PAGE FOR FUTURE REFERENCE.\\n91F52E02-4A22-7F3F-54B8-B5F7FA7804A7/7050911 8611370\\nCFN 2024007859 Z DOC_TYPE DIS BK 1667 PG 1161 PAGE 2 OF 3\\nPage 2 of 2\\n\\n---------------------------------------------\\nRecording Requested By: MIDLAND LOAN SERVICES\\nWhen Recorded Mail To: STELLA TAGGART\\nMIDLAND (E)\\nPO BOX 458\\nKIMBERLING CITY, MO, 65686 (417) 447-2931\\nLoan #: 030501540\\nTS Ref #: 0000970000012965\\nTh\\nSATISFACTION, CANCELLATION OR DISCHARGE OF MORTGAGE\\nNJ/MERCER - Additional ID #'s: Inv #: 2549-001\\nPaid in full: 09/28/2023\\nKNOW ALL BY THESE PRESENTS that Wilmington Trust, National Association, as Trustee, for the benefit of the Holders of CoreVest American Finance 2018-2 Trust Mortgage Pass-Through Certificates as holder of a certain Mongage executed to secure payment of $827,400.00 and interest, whose parties, dates and recording information are below, does hereby acknowledge that it has received full payment and satisfaction of the same, and in consideration hereof, does hereby cancel and discharge said Mortgage. Said Mortgage may be discharged of record and is now cancelled and void.\\nOriginal Mortgagor: MERCER COUNTY PORTFOLIO 2 LLC, A DELAWARE LIMITED LIABILITY COMPANY Original Mortgages: COREVEST AMERICAN FINANCE LENDER LLC, A DELAWARE LIMITED LIABILITY COMPANY\\nDate Executed: 8/30/2018- Recording Info: Recorded\\n1/8/2016 Instrument #: 2018048307, Book: M 11377, Page: 1 in the County of MERCER, State of NEW JERSEY\\nThe property is located in the City OLTRENTON\\nProperty Address: 10 & 327 RUSLING STREET, 12 MORRIS AVENUE, 1214 CHESTNUT AVE, 122 LIBERTY STREET, 14 LANDING STREET, 147 BUTLER STREET, 154 WASHINGTON STREET, 189 DIVISION STREET, 1913 S CLINTON AVENUE, 20 ROEBLING AVENUE, 208 RANDALL AVENUE, 226 ARDMORE AVENUE, 425 GLADSTONE AVENUE, 59 FRANKLIN STREET 596 CENTRE STREET & 70 ANDERSON STREET, TRENTON, NJ 08611; 948 GREENWOOD AVE, TRENTON, NJ, 08609\\nIN WITNESS WHEREOF, the undersigned holder has set its name hereunto.\\nWilmington Trust, National Association, as Trustee, for the benefit of the Holders of CoreVest American Finance 2018-2 Trust Mortgage Pass-Through Certificates\\nBy: Midland Loan Services, a division of PNC Bank, N.A.\\nIts Servicer and Attorney-in-Fact\\n(POA Recorded in MERCER, NJ: 4/11/2023, Instrument #: 2023013432, Book\\nOn: October 25, 2023,\\nBy:\\nA\\nName:\\nAndrea S. Helm\\nTitle:\\nSenior Vice President\\nLified\\ncopy\\nState of KANSAS\\nCounty of JOHNSON\\nKatrina Garrard\\nOn October 25, 2023, before me, a Notary Public in and for JOHNSON in the State of KANSAS, personally appeared Andrea S. Helm, Senior Vice President, Midland Loan Services, a division of PNC Bank, N.A. Its Servicer and Attorney-in-Fact, personally known to me (or proved to me on the basis of satisfactory evidence) to be the person(s) whose name(s) is/are subscribed to the within instrument and acknowledged to me that he/she/they executed the same in his/her/their authorized capacity, and that by his/her/their signature on the instrument the person(s), or the entity upon behalf of which the person(s) acted, executed the instrument.\\nWITNESS my hand and official seal,\\nKatrina Hanard\\nKatrina Garrard\\nNotary Expires: 06/21/27/#:\\nNOTARY PUBLIC - State of Kansas KATRINA GARRARD\\nMy Appt. Expires 6/21/2027\\nCFN 2024007859 Z DOC_TYPE DIS BK 1667 PG 1162 PAGE 3 OF 3\\n\"],\n",
       "             52137870: ['\\n---------------------------------------------\\n\\n---------------------------------------------\\n'],\n",
       "             52137868: ['\\n---------------------------------------------\\n\\n---------------------------------------------\\n'],\n",
       "             51932932: ['\\n---------------------------------------------\\n\\n---------------------------------------------\\n'],\n",
       "             52040518: ['\\n---------------------------------------------\\n\\n---------------------------------------------\\n\\n---------------------------------------------\\n\\n---------------------------------------------\\n\\n---------------------------------------------\\n'],\n",
       "             51560844: ['\\n---------------------------------------------\\n\\n---------------------------------------------\\n\\n---------------------------------------------\\n\\n---------------------------------------------\\n'],\n",
       "             50836323: ['\\n---------------------------------------------\\n\\n---------------------------------------------\\n'],\n",
       "             52137375: ['\\n---------------------------------------------\\n'],\n",
       "             51999780: ['\\n---------------------------------------------\\n\\n---------------------------------------------\\n'],\n",
       "             51999781: ['\\n---------------------------------------------\\n\\n---------------------------------------------\\n']})"
      ]
     },
     "execution_count": 26,
     "metadata": {},
     "output_type": "execute_result"
    }
   ],
   "source": [
    "ocrs"
   ]
  },
  {
   "cell_type": "code",
   "execution_count": 1,
   "id": "5edbd41a-7967-413f-8cd1-432f1236398a",
   "metadata": {},
   "outputs": [
    {
     "data": {
      "text/plain": [
       "'C:\\\\Users\\\\surakumar\\\\OneDrive - CoreLogic Solutions, LLC\\\\Downloads\\\\pythonCode\\\\ff.zip.zip'"
      ]
     },
     "execution_count": 1,
     "metadata": {},
     "output_type": "execute_result"
    }
   ],
   "source": [
    "import shutil\n",
    "shutil.make_archive(r\"C:\\Users\\surakumar\\OneDrive - CoreLogic Solutions, LLC\\Downloads\\pythonCode\\ff\",'zip',r\"C:\\Users\\surakumar\\OneDrive - CoreLogic Solutions, LLC\\Downloads\\pythonCode\\ff\")"
   ]
  },
  {
   "cell_type": "code",
   "execution_count": null,
   "id": "aa0662fb",
   "metadata": {},
   "outputs": [],
   "source": [
    "from concurrent.futures import ThreadPoolExecutor\n",
    "import shutil\n",
    "from pathlib import Path\n",
    "source = Path(r\"source\")\n",
    "helper  = lambda x: shutil.move(x,\"destination\")\n",
    "with ThreadPoolExecutor(500) as exe:\n",
    "    exe.map(helper, source.iterdir())"
   ]
  }
 ],
 "metadata": {
  "kernelspec": {
   "display_name": "Python 3 (ipykernel)",
   "language": "python",
   "name": "python3"
  },
  "language_info": {
   "codemirror_mode": {
    "name": "ipython",
    "version": 3
   },
   "file_extension": ".py",
   "mimetype": "text/x-python",
   "name": "python",
   "nbconvert_exporter": "python",
   "pygments_lexer": "ipython3",
   "version": "3.11.7"
  },
  "toc": {
   "base_numbering": 1,
   "nav_menu": {},
   "number_sections": true,
   "sideBar": true,
   "skip_h1_title": false,
   "title_cell": "Table of Contents",
   "title_sidebar": "Contents",
   "toc_cell": false,
   "toc_position": {},
   "toc_section_display": true,
   "toc_window_display": false
  },
  "widgets": {
   "application/vnd.jupyter.widget-state+json": {
    "state": {},
    "version_major": 2,
    "version_minor": 0
   }
  }
 },
 "nbformat": 4,
 "nbformat_minor": 5
}
